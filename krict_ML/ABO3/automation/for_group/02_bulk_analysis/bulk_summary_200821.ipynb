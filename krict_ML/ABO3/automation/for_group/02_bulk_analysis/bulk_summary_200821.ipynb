{
 "cells": [
  {
   "cell_type": "code",
   "execution_count": 21,
   "metadata": {},
   "outputs": [],
   "source": [
    "import pickle\n",
    "import pandas as pd\n",
    "\n",
    "import plotly.offline as pyo\n",
    "import plotly.graph_objs as go\n",
    "import plotly.express as px\n",
    "from plotly.subplots import make_subplots"
   ]
  },
  {
   "cell_type": "code",
   "execution_count": 9,
   "metadata": {
    "scrolled": true
   },
   "outputs": [
    {
     "name": "stdout",
     "output_type": "stream",
     "text": [
      "Index(['MP_ID', 'formula', 'PREC', 'ALGO', 'ISPIN', 'IMIX', 'NELM', 'IBRION',\n",
      "       'EDIFF', 'NSW', 'ISIF', 'ENCUT', 'MAGMOM', 'ISMEAR', 'SIGMA', 'LDAU',\n",
      "       'LDAUU', 'total_E_ref', 'E_atom', 'total_E', 'cell_param', 'angle',\n",
      "       'Magm_ref', 'Mag_O_ref', 'Magm', 'Mag_O', 'tot_mag_ref', 'tot_mag',\n",
      "       'DHf_ref', 'DHf', 'Err_DHf', 'Ehull_ref', 'Eg_ref', 'Eg', 'Volume_ref',\n",
      "       'Volume', 'Err_V_percent', 'Theoretical', 'VBM', 'E_fermi', 'CBM',\n",
      "       'bgtype', 'bgpath'],\n",
      "      dtype='object')\n"
     ]
    },
    {
     "data": {
      "text/html": [
       "<div>\n",
       "<style scoped>\n",
       "    .dataframe tbody tr th:only-of-type {\n",
       "        vertical-align: middle;\n",
       "    }\n",
       "\n",
       "    .dataframe tbody tr th {\n",
       "        vertical-align: top;\n",
       "    }\n",
       "\n",
       "    .dataframe thead th {\n",
       "        text-align: right;\n",
       "    }\n",
       "</style>\n",
       "<table border=\"1\" class=\"dataframe\">\n",
       "  <thead>\n",
       "    <tr style=\"text-align: right;\">\n",
       "      <th></th>\n",
       "      <th>MP_ID</th>\n",
       "      <th>formula</th>\n",
       "      <th>PREC</th>\n",
       "      <th>ALGO</th>\n",
       "      <th>ISPIN</th>\n",
       "      <th>IMIX</th>\n",
       "      <th>NELM</th>\n",
       "      <th>IBRION</th>\n",
       "      <th>EDIFF</th>\n",
       "      <th>NSW</th>\n",
       "      <th>...</th>\n",
       "      <th>Eg</th>\n",
       "      <th>Volume_ref</th>\n",
       "      <th>Volume</th>\n",
       "      <th>Err_V_percent</th>\n",
       "      <th>Theoretical</th>\n",
       "      <th>VBM</th>\n",
       "      <th>E_fermi</th>\n",
       "      <th>CBM</th>\n",
       "      <th>bgtype</th>\n",
       "      <th>bgpath</th>\n",
       "    </tr>\n",
       "  </thead>\n",
       "  <tbody>\n",
       "    <tr>\n",
       "      <td>1</td>\n",
       "      <td>mp-12631</td>\n",
       "      <td>SrTcO3</td>\n",
       "      <td>Accurate</td>\n",
       "      <td>Fast</td>\n",
       "      <td>2</td>\n",
       "      <td>4</td>\n",
       "      <td>100</td>\n",
       "      <td>2</td>\n",
       "      <td>2e-06</td>\n",
       "      <td>200</td>\n",
       "      <td>...</td>\n",
       "      <td>NaN</td>\n",
       "      <td>63.1491</td>\n",
       "      <td>62.1201</td>\n",
       "      <td>1.62938</td>\n",
       "      <td>False</td>\n",
       "      <td>NaN</td>\n",
       "      <td>NaN</td>\n",
       "      <td>NaN</td>\n",
       "      <td>NaN</td>\n",
       "      <td>NaN</td>\n",
       "    </tr>\n",
       "    <tr>\n",
       "      <td>2</td>\n",
       "      <td>mp-19035</td>\n",
       "      <td>BaFeO3</td>\n",
       "      <td>Accurate</td>\n",
       "      <td>Fast</td>\n",
       "      <td>2</td>\n",
       "      <td>4</td>\n",
       "      <td>100</td>\n",
       "      <td>2</td>\n",
       "      <td>0.0001</td>\n",
       "      <td>200</td>\n",
       "      <td>...</td>\n",
       "      <td>NaN</td>\n",
       "      <td>65.5993</td>\n",
       "      <td>65.5993</td>\n",
       "      <td>0</td>\n",
       "      <td>False</td>\n",
       "      <td>NaN</td>\n",
       "      <td>NaN</td>\n",
       "      <td>NaN</td>\n",
       "      <td>NaN</td>\n",
       "      <td>NaN</td>\n",
       "    </tr>\n",
       "    <tr>\n",
       "      <td>3</td>\n",
       "      <td>mp-19322</td>\n",
       "      <td>BaMoO3</td>\n",
       "      <td>Accurate</td>\n",
       "      <td>Fast</td>\n",
       "      <td>2</td>\n",
       "      <td>4</td>\n",
       "      <td>100</td>\n",
       "      <td>2</td>\n",
       "      <td>0.0001</td>\n",
       "      <td>200</td>\n",
       "      <td>...</td>\n",
       "      <td>NaN</td>\n",
       "      <td>71.4286</td>\n",
       "      <td>70.764</td>\n",
       "      <td>0.930459</td>\n",
       "      <td>False</td>\n",
       "      <td>NaN</td>\n",
       "      <td>NaN</td>\n",
       "      <td>NaN</td>\n",
       "      <td>NaN</td>\n",
       "      <td>NaN</td>\n",
       "    </tr>\n",
       "    <tr>\n",
       "      <td>4</td>\n",
       "      <td>mp-3614</td>\n",
       "      <td>KTaO3</td>\n",
       "      <td>Accurate</td>\n",
       "      <td>Fast</td>\n",
       "      <td>2</td>\n",
       "      <td>4</td>\n",
       "      <td>100</td>\n",
       "      <td>2</td>\n",
       "      <td>2e-06</td>\n",
       "      <td>200</td>\n",
       "      <td>...</td>\n",
       "      <td>2.108</td>\n",
       "      <td>65.4917</td>\n",
       "      <td>65.3762</td>\n",
       "      <td>0.176445</td>\n",
       "      <td>False</td>\n",
       "      <td>1.5991</td>\n",
       "      <td>1.84427</td>\n",
       "      <td>3.7071</td>\n",
       "      <td>Indirect</td>\n",
       "      <td>R-gamma</td>\n",
       "    </tr>\n",
       "    <tr>\n",
       "      <td>5</td>\n",
       "      <td>mp-3834</td>\n",
       "      <td>BaZrO3</td>\n",
       "      <td>Accurate</td>\n",
       "      <td>Fast</td>\n",
       "      <td>2</td>\n",
       "      <td>4</td>\n",
       "      <td>100</td>\n",
       "      <td>2</td>\n",
       "      <td>1e-07</td>\n",
       "      <td>99</td>\n",
       "      <td>...</td>\n",
       "      <td>3.1192</td>\n",
       "      <td>77.0743</td>\n",
       "      <td>76.0138</td>\n",
       "      <td>1.37593</td>\n",
       "      <td>False</td>\n",
       "      <td>3.5638</td>\n",
       "      <td>3.90525</td>\n",
       "      <td>6.683</td>\n",
       "      <td>Indirect</td>\n",
       "      <td>R-gamma</td>\n",
       "    </tr>\n",
       "    <tr>\n",
       "      <td>...</td>\n",
       "      <td>...</td>\n",
       "      <td>...</td>\n",
       "      <td>...</td>\n",
       "      <td>...</td>\n",
       "      <td>...</td>\n",
       "      <td>...</td>\n",
       "      <td>...</td>\n",
       "      <td>...</td>\n",
       "      <td>...</td>\n",
       "      <td>...</td>\n",
       "      <td>...</td>\n",
       "      <td>...</td>\n",
       "      <td>...</td>\n",
       "      <td>...</td>\n",
       "      <td>...</td>\n",
       "      <td>...</td>\n",
       "      <td>...</td>\n",
       "      <td>...</td>\n",
       "      <td>...</td>\n",
       "      <td>...</td>\n",
       "      <td>...</td>\n",
       "    </tr>\n",
       "    <tr>\n",
       "      <td>239</td>\n",
       "      <td>mp-1183447</td>\n",
       "      <td>BePdO3</td>\n",
       "      <td>Accurate</td>\n",
       "      <td>Fast</td>\n",
       "      <td>2</td>\n",
       "      <td>4</td>\n",
       "      <td>100</td>\n",
       "      <td>2</td>\n",
       "      <td>0.00025</td>\n",
       "      <td>99</td>\n",
       "      <td>...</td>\n",
       "      <td>NaN</td>\n",
       "      <td>42.8181</td>\n",
       "      <td>42.6258</td>\n",
       "      <td>0.44922</td>\n",
       "      <td>True</td>\n",
       "      <td>NaN</td>\n",
       "      <td>NaN</td>\n",
       "      <td>NaN</td>\n",
       "      <td>NaN</td>\n",
       "      <td>NaN</td>\n",
       "    </tr>\n",
       "    <tr>\n",
       "      <td>240</td>\n",
       "      <td>mp-1183128</td>\n",
       "      <td>AlVO3</td>\n",
       "      <td>Accurate</td>\n",
       "      <td>Fast</td>\n",
       "      <td>2</td>\n",
       "      <td>4</td>\n",
       "      <td>100</td>\n",
       "      <td>2</td>\n",
       "      <td>0.00025</td>\n",
       "      <td>99</td>\n",
       "      <td>...</td>\n",
       "      <td>NaN</td>\n",
       "      <td>48.2482</td>\n",
       "      <td>48.2482</td>\n",
       "      <td>0</td>\n",
       "      <td>True</td>\n",
       "      <td>NaN</td>\n",
       "      <td>NaN</td>\n",
       "      <td>NaN</td>\n",
       "      <td>NaN</td>\n",
       "      <td>NaN</td>\n",
       "    </tr>\n",
       "    <tr>\n",
       "      <td>241</td>\n",
       "      <td>mp-1183176</td>\n",
       "      <td>AlNiO3</td>\n",
       "      <td>Accurate</td>\n",
       "      <td>Fast</td>\n",
       "      <td>2</td>\n",
       "      <td>4</td>\n",
       "      <td>100</td>\n",
       "      <td>2</td>\n",
       "      <td>0.00025</td>\n",
       "      <td>99</td>\n",
       "      <td>...</td>\n",
       "      <td>NaN</td>\n",
       "      <td>48.9421</td>\n",
       "      <td>48.9421</td>\n",
       "      <td>0</td>\n",
       "      <td>True</td>\n",
       "      <td>NaN</td>\n",
       "      <td>NaN</td>\n",
       "      <td>NaN</td>\n",
       "      <td>NaN</td>\n",
       "      <td>NaN</td>\n",
       "    </tr>\n",
       "    <tr>\n",
       "      <td>242</td>\n",
       "      <td>mp-977100</td>\n",
       "      <td>NiMoO3</td>\n",
       "      <td>Accurate</td>\n",
       "      <td>Fast</td>\n",
       "      <td>2</td>\n",
       "      <td>4</td>\n",
       "      <td>100</td>\n",
       "      <td>2</td>\n",
       "      <td>0.00025</td>\n",
       "      <td>99</td>\n",
       "      <td>...</td>\n",
       "      <td>NaN</td>\n",
       "      <td>60.5891</td>\n",
       "      <td>59.3706</td>\n",
       "      <td>2.01106</td>\n",
       "      <td>True</td>\n",
       "      <td>NaN</td>\n",
       "      <td>NaN</td>\n",
       "      <td>NaN</td>\n",
       "      <td>NaN</td>\n",
       "      <td>NaN</td>\n",
       "    </tr>\n",
       "    <tr>\n",
       "      <td>243</td>\n",
       "      <td>mp-1183715</td>\n",
       "      <td>CoRhO3</td>\n",
       "      <td>Accurate</td>\n",
       "      <td>Fast</td>\n",
       "      <td>2</td>\n",
       "      <td>4</td>\n",
       "      <td>100</td>\n",
       "      <td>2</td>\n",
       "      <td>0.00025</td>\n",
       "      <td>99</td>\n",
       "      <td>...</td>\n",
       "      <td>NaN</td>\n",
       "      <td>59.0379</td>\n",
       "      <td>57.823</td>\n",
       "      <td>2.05782</td>\n",
       "      <td>True</td>\n",
       "      <td>NaN</td>\n",
       "      <td>NaN</td>\n",
       "      <td>NaN</td>\n",
       "      <td>NaN</td>\n",
       "      <td>NaN</td>\n",
       "    </tr>\n",
       "  </tbody>\n",
       "</table>\n",
       "<p>243 rows × 43 columns</p>\n",
       "</div>"
      ],
      "text/plain": [
       "          MP_ID formula      PREC  ALGO ISPIN IMIX NELM IBRION    EDIFF  NSW  \\\n",
       "1      mp-12631  SrTcO3  Accurate  Fast     2    4  100      2    2e-06  200   \n",
       "2      mp-19035  BaFeO3  Accurate  Fast     2    4  100      2   0.0001  200   \n",
       "3      mp-19322  BaMoO3  Accurate  Fast     2    4  100      2   0.0001  200   \n",
       "4       mp-3614   KTaO3  Accurate  Fast     2    4  100      2    2e-06  200   \n",
       "5       mp-3834  BaZrO3  Accurate  Fast     2    4  100      2    1e-07   99   \n",
       "..          ...     ...       ...   ...   ...  ...  ...    ...      ...  ...   \n",
       "239  mp-1183447  BePdO3  Accurate  Fast     2    4  100      2  0.00025   99   \n",
       "240  mp-1183128   AlVO3  Accurate  Fast     2    4  100      2  0.00025   99   \n",
       "241  mp-1183176  AlNiO3  Accurate  Fast     2    4  100      2  0.00025   99   \n",
       "242   mp-977100  NiMoO3  Accurate  Fast     2    4  100      2  0.00025   99   \n",
       "243  mp-1183715  CoRhO3  Accurate  Fast     2    4  100      2  0.00025   99   \n",
       "\n",
       "     ...      Eg Volume_ref   Volume Err_V_percent Theoretical     VBM  \\\n",
       "1    ...     NaN    63.1491  62.1201       1.62938       False     NaN   \n",
       "2    ...     NaN    65.5993  65.5993             0       False     NaN   \n",
       "3    ...     NaN    71.4286   70.764      0.930459       False     NaN   \n",
       "4    ...   2.108    65.4917  65.3762      0.176445       False  1.5991   \n",
       "5    ...  3.1192    77.0743  76.0138       1.37593       False  3.5638   \n",
       "..   ...     ...        ...      ...           ...         ...     ...   \n",
       "239  ...     NaN    42.8181  42.6258       0.44922        True     NaN   \n",
       "240  ...     NaN    48.2482  48.2482             0        True     NaN   \n",
       "241  ...     NaN    48.9421  48.9421             0        True     NaN   \n",
       "242  ...     NaN    60.5891  59.3706       2.01106        True     NaN   \n",
       "243  ...     NaN    59.0379   57.823       2.05782        True     NaN   \n",
       "\n",
       "     E_fermi     CBM    bgtype   bgpath  \n",
       "1        NaN     NaN       NaN      NaN  \n",
       "2        NaN     NaN       NaN      NaN  \n",
       "3        NaN     NaN       NaN      NaN  \n",
       "4    1.84427  3.7071  Indirect  R-gamma  \n",
       "5    3.90525   6.683  Indirect  R-gamma  \n",
       "..       ...     ...       ...      ...  \n",
       "239      NaN     NaN       NaN      NaN  \n",
       "240      NaN     NaN       NaN      NaN  \n",
       "241      NaN     NaN       NaN      NaN  \n",
       "242      NaN     NaN       NaN      NaN  \n",
       "243      NaN     NaN       NaN      NaN  \n",
       "\n",
       "[243 rows x 43 columns]"
      ]
     },
     "execution_count": 9,
     "metadata": {},
     "output_type": "execute_result"
    }
   ],
   "source": [
    "df_bulk = pd.read_pickle('../results_nurion/bulk_analysis/df_bulk.pkl')\n",
    "print(df_bulk.columns)\n",
    "df_bulk"
   ]
  },
  {
   "cell_type": "code",
   "execution_count": 10,
   "metadata": {},
   "outputs": [
    {
     "data": {
      "text/html": [
       "<div>\n",
       "<style scoped>\n",
       "    .dataframe tbody tr th:only-of-type {\n",
       "        vertical-align: middle;\n",
       "    }\n",
       "\n",
       "    .dataframe tbody tr th {\n",
       "        vertical-align: top;\n",
       "    }\n",
       "\n",
       "    .dataframe thead th {\n",
       "        text-align: right;\n",
       "    }\n",
       "</style>\n",
       "<table border=\"1\" class=\"dataframe\">\n",
       "  <thead>\n",
       "    <tr style=\"text-align: right;\">\n",
       "      <th></th>\n",
       "      <th>MP_ID</th>\n",
       "      <th>formula</th>\n",
       "      <th>PREC</th>\n",
       "      <th>ALGO</th>\n",
       "      <th>ISPIN</th>\n",
       "      <th>IMIX</th>\n",
       "      <th>NELM</th>\n",
       "      <th>IBRION</th>\n",
       "      <th>EDIFF</th>\n",
       "      <th>NSW</th>\n",
       "      <th>ISIF</th>\n",
       "      <th>ENCUT</th>\n",
       "      <th>MAGMOM</th>\n",
       "      <th>ISMEAR</th>\n",
       "      <th>SIGMA</th>\n",
       "    </tr>\n",
       "  </thead>\n",
       "  <tbody>\n",
       "    <tr>\n",
       "      <td>1</td>\n",
       "      <td>mp-12631</td>\n",
       "      <td>SrTcO3</td>\n",
       "      <td>Accurate</td>\n",
       "      <td>Fast</td>\n",
       "      <td>2</td>\n",
       "      <td>4</td>\n",
       "      <td>100</td>\n",
       "      <td>2</td>\n",
       "      <td>2e-06</td>\n",
       "      <td>200</td>\n",
       "      <td>3</td>\n",
       "      <td>520</td>\n",
       "      <td>[0.6, 0.6, 0.6, 0.6, 5.0]</td>\n",
       "      <td>-5</td>\n",
       "      <td>0.05</td>\n",
       "    </tr>\n",
       "    <tr>\n",
       "      <td>2</td>\n",
       "      <td>mp-19035</td>\n",
       "      <td>BaFeO3</td>\n",
       "      <td>Accurate</td>\n",
       "      <td>Fast</td>\n",
       "      <td>2</td>\n",
       "      <td>4</td>\n",
       "      <td>100</td>\n",
       "      <td>2</td>\n",
       "      <td>0.0001</td>\n",
       "      <td>200</td>\n",
       "      <td>3</td>\n",
       "      <td>520</td>\n",
       "      <td>[0.6, 0.6, 0.6, 5.0, 0.6]</td>\n",
       "      <td>-5</td>\n",
       "      <td>0.05</td>\n",
       "    </tr>\n",
       "    <tr>\n",
       "      <td>3</td>\n",
       "      <td>mp-19322</td>\n",
       "      <td>BaMoO3</td>\n",
       "      <td>Accurate</td>\n",
       "      <td>Fast</td>\n",
       "      <td>2</td>\n",
       "      <td>4</td>\n",
       "      <td>100</td>\n",
       "      <td>2</td>\n",
       "      <td>0.0001</td>\n",
       "      <td>200</td>\n",
       "      <td>3</td>\n",
       "      <td>520</td>\n",
       "      <td>[0.6, 0.6, 0.6, 5.0, 0.6]</td>\n",
       "      <td>-5</td>\n",
       "      <td>0.05</td>\n",
       "    </tr>\n",
       "    <tr>\n",
       "      <td>4</td>\n",
       "      <td>mp-3614</td>\n",
       "      <td>KTaO3</td>\n",
       "      <td>Accurate</td>\n",
       "      <td>Fast</td>\n",
       "      <td>2</td>\n",
       "      <td>4</td>\n",
       "      <td>100</td>\n",
       "      <td>2</td>\n",
       "      <td>2e-06</td>\n",
       "      <td>200</td>\n",
       "      <td>3</td>\n",
       "      <td>520</td>\n",
       "      <td>[0.6, 0.6, 0.6, 0.6, 5.0]</td>\n",
       "      <td>-5</td>\n",
       "      <td>0.05</td>\n",
       "    </tr>\n",
       "    <tr>\n",
       "      <td>5</td>\n",
       "      <td>mp-3834</td>\n",
       "      <td>BaZrO3</td>\n",
       "      <td>Accurate</td>\n",
       "      <td>Fast</td>\n",
       "      <td>2</td>\n",
       "      <td>4</td>\n",
       "      <td>100</td>\n",
       "      <td>2</td>\n",
       "      <td>1e-07</td>\n",
       "      <td>99</td>\n",
       "      <td>3</td>\n",
       "      <td>700</td>\n",
       "      <td>[0.0, 0.0, 0.0, 0.0, 0.0]</td>\n",
       "      <td>-5</td>\n",
       "      <td>0.05</td>\n",
       "    </tr>\n",
       "    <tr>\n",
       "      <td>...</td>\n",
       "      <td>...</td>\n",
       "      <td>...</td>\n",
       "      <td>...</td>\n",
       "      <td>...</td>\n",
       "      <td>...</td>\n",
       "      <td>...</td>\n",
       "      <td>...</td>\n",
       "      <td>...</td>\n",
       "      <td>...</td>\n",
       "      <td>...</td>\n",
       "      <td>...</td>\n",
       "      <td>...</td>\n",
       "      <td>...</td>\n",
       "      <td>...</td>\n",
       "      <td>...</td>\n",
       "    </tr>\n",
       "    <tr>\n",
       "      <td>239</td>\n",
       "      <td>mp-1183447</td>\n",
       "      <td>BePdO3</td>\n",
       "      <td>Accurate</td>\n",
       "      <td>Fast</td>\n",
       "      <td>2</td>\n",
       "      <td>4</td>\n",
       "      <td>100</td>\n",
       "      <td>2</td>\n",
       "      <td>0.00025</td>\n",
       "      <td>99</td>\n",
       "      <td>3</td>\n",
       "      <td>520</td>\n",
       "      <td>[0.6, 0.6, 0.6, 0.6, 0.6]</td>\n",
       "      <td>-5</td>\n",
       "      <td>0.05</td>\n",
       "    </tr>\n",
       "    <tr>\n",
       "      <td>240</td>\n",
       "      <td>mp-1183128</td>\n",
       "      <td>AlVO3</td>\n",
       "      <td>Accurate</td>\n",
       "      <td>Fast</td>\n",
       "      <td>2</td>\n",
       "      <td>4</td>\n",
       "      <td>100</td>\n",
       "      <td>2</td>\n",
       "      <td>0.00025</td>\n",
       "      <td>99</td>\n",
       "      <td>3</td>\n",
       "      <td>520</td>\n",
       "      <td>[0.6, 5.0, 0.6, 0.6, 0.6]</td>\n",
       "      <td>-5</td>\n",
       "      <td>0.05</td>\n",
       "    </tr>\n",
       "    <tr>\n",
       "      <td>241</td>\n",
       "      <td>mp-1183176</td>\n",
       "      <td>AlNiO3</td>\n",
       "      <td>Accurate</td>\n",
       "      <td>Fast</td>\n",
       "      <td>2</td>\n",
       "      <td>4</td>\n",
       "      <td>100</td>\n",
       "      <td>2</td>\n",
       "      <td>0.00025</td>\n",
       "      <td>99</td>\n",
       "      <td>3</td>\n",
       "      <td>520</td>\n",
       "      <td>[0.6, 5.0, 0.6, 0.6, 0.6]</td>\n",
       "      <td>-5</td>\n",
       "      <td>0.05</td>\n",
       "    </tr>\n",
       "    <tr>\n",
       "      <td>242</td>\n",
       "      <td>mp-977100</td>\n",
       "      <td>NiMoO3</td>\n",
       "      <td>Accurate</td>\n",
       "      <td>Fast</td>\n",
       "      <td>2</td>\n",
       "      <td>4</td>\n",
       "      <td>100</td>\n",
       "      <td>2</td>\n",
       "      <td>0.00025</td>\n",
       "      <td>99</td>\n",
       "      <td>3</td>\n",
       "      <td>520</td>\n",
       "      <td>[5, 5, 0.6, 0.6, 0.6]</td>\n",
       "      <td>0</td>\n",
       "      <td>0.2</td>\n",
       "    </tr>\n",
       "    <tr>\n",
       "      <td>243</td>\n",
       "      <td>mp-1183715</td>\n",
       "      <td>CoRhO3</td>\n",
       "      <td>Accurate</td>\n",
       "      <td>Fast</td>\n",
       "      <td>2</td>\n",
       "      <td>4</td>\n",
       "      <td>100</td>\n",
       "      <td>2</td>\n",
       "      <td>0.00025</td>\n",
       "      <td>99</td>\n",
       "      <td>3</td>\n",
       "      <td>520</td>\n",
       "      <td>[5.0, 0.6, 0.6, 0.6, 0.6]</td>\n",
       "      <td>-5</td>\n",
       "      <td>0.05</td>\n",
       "    </tr>\n",
       "  </tbody>\n",
       "</table>\n",
       "<p>243 rows × 15 columns</p>\n",
       "</div>"
      ],
      "text/plain": [
       "          MP_ID formula      PREC  ALGO ISPIN IMIX NELM IBRION    EDIFF  NSW  \\\n",
       "1      mp-12631  SrTcO3  Accurate  Fast     2    4  100      2    2e-06  200   \n",
       "2      mp-19035  BaFeO3  Accurate  Fast     2    4  100      2   0.0001  200   \n",
       "3      mp-19322  BaMoO3  Accurate  Fast     2    4  100      2   0.0001  200   \n",
       "4       mp-3614   KTaO3  Accurate  Fast     2    4  100      2    2e-06  200   \n",
       "5       mp-3834  BaZrO3  Accurate  Fast     2    4  100      2    1e-07   99   \n",
       "..          ...     ...       ...   ...   ...  ...  ...    ...      ...  ...   \n",
       "239  mp-1183447  BePdO3  Accurate  Fast     2    4  100      2  0.00025   99   \n",
       "240  mp-1183128   AlVO3  Accurate  Fast     2    4  100      2  0.00025   99   \n",
       "241  mp-1183176  AlNiO3  Accurate  Fast     2    4  100      2  0.00025   99   \n",
       "242   mp-977100  NiMoO3  Accurate  Fast     2    4  100      2  0.00025   99   \n",
       "243  mp-1183715  CoRhO3  Accurate  Fast     2    4  100      2  0.00025   99   \n",
       "\n",
       "    ISIF ENCUT                     MAGMOM ISMEAR SIGMA  \n",
       "1      3   520  [0.6, 0.6, 0.6, 0.6, 5.0]     -5  0.05  \n",
       "2      3   520  [0.6, 0.6, 0.6, 5.0, 0.6]     -5  0.05  \n",
       "3      3   520  [0.6, 0.6, 0.6, 5.0, 0.6]     -5  0.05  \n",
       "4      3   520  [0.6, 0.6, 0.6, 0.6, 5.0]     -5  0.05  \n",
       "5      3   700  [0.0, 0.0, 0.0, 0.0, 0.0]     -5  0.05  \n",
       "..   ...   ...                        ...    ...   ...  \n",
       "239    3   520  [0.6, 0.6, 0.6, 0.6, 0.6]     -5  0.05  \n",
       "240    3   520  [0.6, 5.0, 0.6, 0.6, 0.6]     -5  0.05  \n",
       "241    3   520  [0.6, 5.0, 0.6, 0.6, 0.6]     -5  0.05  \n",
       "242    3   520      [5, 5, 0.6, 0.6, 0.6]      0   0.2  \n",
       "243    3   520  [5.0, 0.6, 0.6, 0.6, 0.6]     -5  0.05  \n",
       "\n",
       "[243 rows x 15 columns]"
      ]
     },
     "execution_count": 10,
     "metadata": {},
     "output_type": "execute_result"
    }
   ],
   "source": [
    "df_bulk.iloc[:,:15]"
   ]
  },
  {
   "cell_type": "code",
   "execution_count": 11,
   "metadata": {},
   "outputs": [
    {
     "data": {
      "text/html": [
       "<div>\n",
       "<style scoped>\n",
       "    .dataframe tbody tr th:only-of-type {\n",
       "        vertical-align: middle;\n",
       "    }\n",
       "\n",
       "    .dataframe tbody tr th {\n",
       "        vertical-align: top;\n",
       "    }\n",
       "\n",
       "    .dataframe thead th {\n",
       "        text-align: right;\n",
       "    }\n",
       "</style>\n",
       "<table border=\"1\" class=\"dataframe\">\n",
       "  <thead>\n",
       "    <tr style=\"text-align: right;\">\n",
       "      <th></th>\n",
       "      <th>LDAU</th>\n",
       "      <th>LDAUU</th>\n",
       "      <th>total_E_ref</th>\n",
       "      <th>E_atom</th>\n",
       "      <th>total_E</th>\n",
       "      <th>cell_param</th>\n",
       "      <th>angle</th>\n",
       "      <th>Magm_ref</th>\n",
       "      <th>Mag_O_ref</th>\n",
       "      <th>Magm</th>\n",
       "      <th>Mag_O</th>\n",
       "      <th>tot_mag_ref</th>\n",
       "      <th>tot_mag</th>\n",
       "      <th>DHf_ref</th>\n",
       "      <th>DHf</th>\n",
       "    </tr>\n",
       "  </thead>\n",
       "  <tbody>\n",
       "    <tr>\n",
       "      <td>1</td>\n",
       "      <td>None</td>\n",
       "      <td>None</td>\n",
       "      <td>-37.1001</td>\n",
       "      <td>-7.42002</td>\n",
       "      <td>-37.3222</td>\n",
       "      <td>(3.982193, 3.982193, 3.982193)</td>\n",
       "      <td>(90.0, 90.0, 90.0)</td>\n",
       "      <td>[0.0, 0.047, 0.004, 0.001, 0.007]</td>\n",
       "      <td>NM</td>\n",
       "      <td>[-0.0, 0.0, -0.0, 0.0, -0.0]</td>\n",
       "      <td>NM</td>\n",
       "      <td>0.0737331</td>\n",
       "      <td>0</td>\n",
       "      <td>-2.4626</td>\n",
       "      <td>-2.53011</td>\n",
       "    </tr>\n",
       "    <tr>\n",
       "      <td>2</td>\n",
       "      <td>True</td>\n",
       "      <td>[0.0, 5.3, 0.0]</td>\n",
       "      <td>-31.6324</td>\n",
       "      <td>-6.32649</td>\n",
       "      <td>-31.4303</td>\n",
       "      <td>(4.033045, 4.033045, 4.033045)</td>\n",
       "      <td>(90.0, 90.0, 90.0)</td>\n",
       "      <td>[-0.004, -4.073, -0.103, -0.029, -0.006]</td>\n",
       "      <td>FM</td>\n",
       "      <td>[0.003, 4.046, 0.124, 0.06, 0.039]</td>\n",
       "      <td>FM</td>\n",
       "      <td>4.28906</td>\n",
       "      <td>4.3596</td>\n",
       "      <td>-2.24803</td>\n",
       "      <td>-2.26297</td>\n",
       "    </tr>\n",
       "    <tr>\n",
       "      <td>3</td>\n",
       "      <td>True</td>\n",
       "      <td>[0.0, 4.38, 0.0]</td>\n",
       "      <td>-34.9322</td>\n",
       "      <td>-6.98643</td>\n",
       "      <td>-35.0364</td>\n",
       "      <td>(4.14913304, 4.14913304, 4.14913304)</td>\n",
       "      <td>(90.0, 90.0, 90.0)</td>\n",
       "      <td>None</td>\n",
       "      <td>Unknown</td>\n",
       "      <td>[-0.002, 1.991, -0.01, -0.025, -0.021]</td>\n",
       "      <td>FM</td>\n",
       "      <td>2</td>\n",
       "      <td>2</td>\n",
       "      <td>-2.59231</td>\n",
       "      <td>-2.61079</td>\n",
       "    </tr>\n",
       "    <tr>\n",
       "      <td>4</td>\n",
       "      <td>None</td>\n",
       "      <td>None</td>\n",
       "      <td>-41.1391</td>\n",
       "      <td>-8.22782</td>\n",
       "      <td>-41.0688</td>\n",
       "      <td>(4.030839, 4.030839, 4.030839)</td>\n",
       "      <td>(90.0, 90.0, 90.0)</td>\n",
       "      <td>[0.0, -0.0, 0.0, -0.0, 0.0]</td>\n",
       "      <td>NM</td>\n",
       "      <td>[-0.0, 0.0, -0.0, -0.0, -0.0]</td>\n",
       "      <td>NM</td>\n",
       "      <td>8.85e-05</td>\n",
       "      <td>0</td>\n",
       "      <td>-3.08679</td>\n",
       "      <td>-3.10677</td>\n",
       "    </tr>\n",
       "    <tr>\n",
       "      <td>5</td>\n",
       "      <td>None</td>\n",
       "      <td>None</td>\n",
       "      <td>-41.4447</td>\n",
       "      <td>-8.28894</td>\n",
       "      <td>-41.7257</td>\n",
       "      <td>(4.255689, 4.255689, 4.255689)</td>\n",
       "      <td>(90.0, 90.0, 90.0)</td>\n",
       "      <td>[0.0, -0.0, -0.0, -0.0, -0.0]</td>\n",
       "      <td>NM</td>\n",
       "      <td>[0.0, 0.0, -0.0, -0.0, -0.0]</td>\n",
       "      <td>NM</td>\n",
       "      <td>0.0016326</td>\n",
       "      <td>-0</td>\n",
       "      <td>-3.64821</td>\n",
       "      <td>-3.72278</td>\n",
       "    </tr>\n",
       "    <tr>\n",
       "      <td>...</td>\n",
       "      <td>...</td>\n",
       "      <td>...</td>\n",
       "      <td>...</td>\n",
       "      <td>...</td>\n",
       "      <td>...</td>\n",
       "      <td>...</td>\n",
       "      <td>...</td>\n",
       "      <td>...</td>\n",
       "      <td>...</td>\n",
       "      <td>...</td>\n",
       "      <td>...</td>\n",
       "      <td>...</td>\n",
       "      <td>...</td>\n",
       "      <td>...</td>\n",
       "      <td>...</td>\n",
       "    </tr>\n",
       "    <tr>\n",
       "      <td>239</td>\n",
       "      <td>None</td>\n",
       "      <td>None</td>\n",
       "      <td>-25.9525</td>\n",
       "      <td>-5.19051</td>\n",
       "      <td>-26.0116</td>\n",
       "      <td>(3.498451, 3.498451, 3.498451)</td>\n",
       "      <td>(90.0, 90.0, 90.0)</td>\n",
       "      <td>[0.0, -0.0, -0.0, 0.001, -0.001]</td>\n",
       "      <td>NM</td>\n",
       "      <td>[-0.0, 0.0, 0.0, 0.0, 0.0]</td>\n",
       "      <td>NM</td>\n",
       "      <td>0.0017675</td>\n",
       "      <td>0</td>\n",
       "      <td>-0.859928</td>\n",
       "      <td>-0.871869</td>\n",
       "    </tr>\n",
       "    <tr>\n",
       "      <td>240</td>\n",
       "      <td>True</td>\n",
       "      <td>[0, 3.25, 0]</td>\n",
       "      <td>-34.5186</td>\n",
       "      <td>-6.90373</td>\n",
       "      <td>-35.089</td>\n",
       "      <td>(3.640495, 3.640495, 3.640495)</td>\n",
       "      <td>(90.0, 90.0, 90.0)</td>\n",
       "      <td>[0.007, 2.483, -0.201, -0.277, -0.174]</td>\n",
       "      <td>FiM</td>\n",
       "      <td>[0.001, 2.08, -0.054, -0.06, -0.063]</td>\n",
       "      <td>FM</td>\n",
       "      <td>2.00044</td>\n",
       "      <td>2</td>\n",
       "      <td>-2.12714</td>\n",
       "      <td>-2.27625</td>\n",
       "    </tr>\n",
       "    <tr>\n",
       "      <td>241</td>\n",
       "      <td>True</td>\n",
       "      <td>[0, 6.2, 0]</td>\n",
       "      <td>-26.6999</td>\n",
       "      <td>-5.33998</td>\n",
       "      <td>-26.3492</td>\n",
       "      <td>(3.657863, 3.657863, 3.657863)</td>\n",
       "      <td>(90.0, 90.0, 90.0)</td>\n",
       "      <td>[-0.013, 1.704, 0.3, 0.468, 0.41]</td>\n",
       "      <td>FM</td>\n",
       "      <td>[-0.013, 1.687, 0.309, 0.471, 0.413]</td>\n",
       "      <td>FM</td>\n",
       "      <td>2.99952</td>\n",
       "      <td>3</td>\n",
       "      <td>-1.3203</td>\n",
       "      <td>-1.31858</td>\n",
       "    </tr>\n",
       "    <tr>\n",
       "      <td>242</td>\n",
       "      <td>True</td>\n",
       "      <td>[6.2, 4.38, 0]</td>\n",
       "      <td>-26.781</td>\n",
       "      <td>-5.35619</td>\n",
       "      <td>-27.488</td>\n",
       "      <td>(3.927638, 3.927638, 3.927638)</td>\n",
       "      <td>(90.0, 90.0, 90.0)</td>\n",
       "      <td>[0.001, 0.002, -0.0, -0.0, -0.0]</td>\n",
       "      <td>NM</td>\n",
       "      <td>[1.126, 1.15, -0.007, 0.009, -0.098]</td>\n",
       "      <td>FM</td>\n",
       "      <td>0.0006631</td>\n",
       "      <td>2.176</td>\n",
       "      <td>-0.622701</td>\n",
       "      <td>-0.817951</td>\n",
       "    </tr>\n",
       "    <tr>\n",
       "      <td>243</td>\n",
       "      <td>True</td>\n",
       "      <td>[3.32, 0, 0]</td>\n",
       "      <td>-25.4082</td>\n",
       "      <td>-5.08164</td>\n",
       "      <td>-27.7775</td>\n",
       "      <td>(3.89383, 3.89383, 3.89383)</td>\n",
       "      <td>(90.0, 90.0, 90.0)</td>\n",
       "      <td>[-0.35, -0.524, -0.04, -0.143, -0.26]</td>\n",
       "      <td>FM</td>\n",
       "      <td>[2.728, 0.801, 0.072, 0.143, 0.29]</td>\n",
       "      <td>FM</td>\n",
       "      <td>1.43334</td>\n",
       "      <td>4.2219</td>\n",
       "      <td>-0.019679</td>\n",
       "      <td>-0.538671</td>\n",
       "    </tr>\n",
       "  </tbody>\n",
       "</table>\n",
       "<p>243 rows × 15 columns</p>\n",
       "</div>"
      ],
      "text/plain": [
       "     LDAU             LDAUU total_E_ref   E_atom  total_E  \\\n",
       "1    None              None    -37.1001 -7.42002 -37.3222   \n",
       "2    True   [0.0, 5.3, 0.0]    -31.6324 -6.32649 -31.4303   \n",
       "3    True  [0.0, 4.38, 0.0]    -34.9322 -6.98643 -35.0364   \n",
       "4    None              None    -41.1391 -8.22782 -41.0688   \n",
       "5    None              None    -41.4447 -8.28894 -41.7257   \n",
       "..    ...               ...         ...      ...      ...   \n",
       "239  None              None    -25.9525 -5.19051 -26.0116   \n",
       "240  True      [0, 3.25, 0]    -34.5186 -6.90373  -35.089   \n",
       "241  True       [0, 6.2, 0]    -26.6999 -5.33998 -26.3492   \n",
       "242  True    [6.2, 4.38, 0]     -26.781 -5.35619  -27.488   \n",
       "243  True      [3.32, 0, 0]    -25.4082 -5.08164 -27.7775   \n",
       "\n",
       "                               cell_param               angle  \\\n",
       "1          (3.982193, 3.982193, 3.982193)  (90.0, 90.0, 90.0)   \n",
       "2          (4.033045, 4.033045, 4.033045)  (90.0, 90.0, 90.0)   \n",
       "3    (4.14913304, 4.14913304, 4.14913304)  (90.0, 90.0, 90.0)   \n",
       "4          (4.030839, 4.030839, 4.030839)  (90.0, 90.0, 90.0)   \n",
       "5          (4.255689, 4.255689, 4.255689)  (90.0, 90.0, 90.0)   \n",
       "..                                    ...                 ...   \n",
       "239        (3.498451, 3.498451, 3.498451)  (90.0, 90.0, 90.0)   \n",
       "240        (3.640495, 3.640495, 3.640495)  (90.0, 90.0, 90.0)   \n",
       "241        (3.657863, 3.657863, 3.657863)  (90.0, 90.0, 90.0)   \n",
       "242        (3.927638, 3.927638, 3.927638)  (90.0, 90.0, 90.0)   \n",
       "243           (3.89383, 3.89383, 3.89383)  (90.0, 90.0, 90.0)   \n",
       "\n",
       "                                     Magm_ref Mag_O_ref  \\\n",
       "1           [0.0, 0.047, 0.004, 0.001, 0.007]        NM   \n",
       "2    [-0.004, -4.073, -0.103, -0.029, -0.006]        FM   \n",
       "3                                        None   Unknown   \n",
       "4                 [0.0, -0.0, 0.0, -0.0, 0.0]        NM   \n",
       "5               [0.0, -0.0, -0.0, -0.0, -0.0]        NM   \n",
       "..                                        ...       ...   \n",
       "239          [0.0, -0.0, -0.0, 0.001, -0.001]        NM   \n",
       "240    [0.007, 2.483, -0.201, -0.277, -0.174]       FiM   \n",
       "241         [-0.013, 1.704, 0.3, 0.468, 0.41]        FM   \n",
       "242          [0.001, 0.002, -0.0, -0.0, -0.0]        NM   \n",
       "243     [-0.35, -0.524, -0.04, -0.143, -0.26]        FM   \n",
       "\n",
       "                                       Magm Mag_O tot_mag_ref tot_mag  \\\n",
       "1              [-0.0, 0.0, -0.0, 0.0, -0.0]    NM   0.0737331       0   \n",
       "2        [0.003, 4.046, 0.124, 0.06, 0.039]    FM     4.28906  4.3596   \n",
       "3    [-0.002, 1.991, -0.01, -0.025, -0.021]    FM           2       2   \n",
       "4             [-0.0, 0.0, -0.0, -0.0, -0.0]    NM    8.85e-05       0   \n",
       "5              [0.0, 0.0, -0.0, -0.0, -0.0]    NM   0.0016326      -0   \n",
       "..                                      ...   ...         ...     ...   \n",
       "239              [-0.0, 0.0, 0.0, 0.0, 0.0]    NM   0.0017675       0   \n",
       "240    [0.001, 2.08, -0.054, -0.06, -0.063]    FM     2.00044       2   \n",
       "241    [-0.013, 1.687, 0.309, 0.471, 0.413]    FM     2.99952       3   \n",
       "242    [1.126, 1.15, -0.007, 0.009, -0.098]    FM   0.0006631   2.176   \n",
       "243      [2.728, 0.801, 0.072, 0.143, 0.29]    FM     1.43334  4.2219   \n",
       "\n",
       "      DHf_ref       DHf  \n",
       "1     -2.4626  -2.53011  \n",
       "2    -2.24803  -2.26297  \n",
       "3    -2.59231  -2.61079  \n",
       "4    -3.08679  -3.10677  \n",
       "5    -3.64821  -3.72278  \n",
       "..        ...       ...  \n",
       "239 -0.859928 -0.871869  \n",
       "240  -2.12714  -2.27625  \n",
       "241   -1.3203  -1.31858  \n",
       "242 -0.622701 -0.817951  \n",
       "243 -0.019679 -0.538671  \n",
       "\n",
       "[243 rows x 15 columns]"
      ]
     },
     "execution_count": 11,
     "metadata": {},
     "output_type": "execute_result"
    }
   ],
   "source": [
    "df_bulk.iloc[:,15:30]"
   ]
  },
  {
   "cell_type": "code",
   "execution_count": 12,
   "metadata": {},
   "outputs": [
    {
     "data": {
      "text/html": [
       "<div>\n",
       "<style scoped>\n",
       "    .dataframe tbody tr th:only-of-type {\n",
       "        vertical-align: middle;\n",
       "    }\n",
       "\n",
       "    .dataframe tbody tr th {\n",
       "        vertical-align: top;\n",
       "    }\n",
       "\n",
       "    .dataframe thead th {\n",
       "        text-align: right;\n",
       "    }\n",
       "</style>\n",
       "<table border=\"1\" class=\"dataframe\">\n",
       "  <thead>\n",
       "    <tr style=\"text-align: right;\">\n",
       "      <th></th>\n",
       "      <th>Err_DHf</th>\n",
       "      <th>Ehull_ref</th>\n",
       "      <th>Eg_ref</th>\n",
       "      <th>Eg</th>\n",
       "      <th>Volume_ref</th>\n",
       "      <th>Volume</th>\n",
       "      <th>Err_V_percent</th>\n",
       "      <th>Theoretical</th>\n",
       "      <th>VBM</th>\n",
       "      <th>E_fermi</th>\n",
       "      <th>CBM</th>\n",
       "      <th>bgtype</th>\n",
       "      <th>bgpath</th>\n",
       "    </tr>\n",
       "  </thead>\n",
       "  <tbody>\n",
       "    <tr>\n",
       "      <td>1</td>\n",
       "      <td>0.0675049</td>\n",
       "      <td>0</td>\n",
       "      <td>0</td>\n",
       "      <td>NaN</td>\n",
       "      <td>63.1491</td>\n",
       "      <td>62.1201</td>\n",
       "      <td>1.62938</td>\n",
       "      <td>False</td>\n",
       "      <td>NaN</td>\n",
       "      <td>NaN</td>\n",
       "      <td>NaN</td>\n",
       "      <td>NaN</td>\n",
       "      <td>NaN</td>\n",
       "    </tr>\n",
       "    <tr>\n",
       "      <td>2</td>\n",
       "      <td>0.0149364</td>\n",
       "      <td>0</td>\n",
       "      <td>0</td>\n",
       "      <td>NaN</td>\n",
       "      <td>65.5993</td>\n",
       "      <td>65.5993</td>\n",
       "      <td>0</td>\n",
       "      <td>False</td>\n",
       "      <td>NaN</td>\n",
       "      <td>NaN</td>\n",
       "      <td>NaN</td>\n",
       "      <td>NaN</td>\n",
       "      <td>NaN</td>\n",
       "    </tr>\n",
       "    <tr>\n",
       "      <td>3</td>\n",
       "      <td>0.0184807</td>\n",
       "      <td>0</td>\n",
       "      <td>0</td>\n",
       "      <td>NaN</td>\n",
       "      <td>71.4286</td>\n",
       "      <td>70.764</td>\n",
       "      <td>0.930459</td>\n",
       "      <td>False</td>\n",
       "      <td>NaN</td>\n",
       "      <td>NaN</td>\n",
       "      <td>NaN</td>\n",
       "      <td>NaN</td>\n",
       "      <td>NaN</td>\n",
       "    </tr>\n",
       "    <tr>\n",
       "      <td>4</td>\n",
       "      <td>0.0199763</td>\n",
       "      <td>0</td>\n",
       "      <td>2.1107</td>\n",
       "      <td>2.108</td>\n",
       "      <td>65.4917</td>\n",
       "      <td>65.3762</td>\n",
       "      <td>0.176445</td>\n",
       "      <td>False</td>\n",
       "      <td>1.5991</td>\n",
       "      <td>1.84427</td>\n",
       "      <td>3.7071</td>\n",
       "      <td>Indirect</td>\n",
       "      <td>R-gamma</td>\n",
       "    </tr>\n",
       "    <tr>\n",
       "      <td>5</td>\n",
       "      <td>0.0745714</td>\n",
       "      <td>0</td>\n",
       "      <td>3.0368</td>\n",
       "      <td>3.1192</td>\n",
       "      <td>77.0743</td>\n",
       "      <td>76.0138</td>\n",
       "      <td>1.37593</td>\n",
       "      <td>False</td>\n",
       "      <td>3.5638</td>\n",
       "      <td>3.90525</td>\n",
       "      <td>6.683</td>\n",
       "      <td>Indirect</td>\n",
       "      <td>R-gamma</td>\n",
       "    </tr>\n",
       "    <tr>\n",
       "      <td>...</td>\n",
       "      <td>...</td>\n",
       "      <td>...</td>\n",
       "      <td>...</td>\n",
       "      <td>...</td>\n",
       "      <td>...</td>\n",
       "      <td>...</td>\n",
       "      <td>...</td>\n",
       "      <td>...</td>\n",
       "      <td>...</td>\n",
       "      <td>...</td>\n",
       "      <td>...</td>\n",
       "      <td>...</td>\n",
       "      <td>...</td>\n",
       "    </tr>\n",
       "    <tr>\n",
       "      <td>239</td>\n",
       "      <td>0.0119413</td>\n",
       "      <td>0.827586</td>\n",
       "      <td>0</td>\n",
       "      <td>NaN</td>\n",
       "      <td>42.8181</td>\n",
       "      <td>42.6258</td>\n",
       "      <td>0.44922</td>\n",
       "      <td>True</td>\n",
       "      <td>NaN</td>\n",
       "      <td>NaN</td>\n",
       "      <td>NaN</td>\n",
       "      <td>NaN</td>\n",
       "      <td>NaN</td>\n",
       "    </tr>\n",
       "    <tr>\n",
       "      <td>240</td>\n",
       "      <td>0.149106</td>\n",
       "      <td>0.854966</td>\n",
       "      <td>0</td>\n",
       "      <td>NaN</td>\n",
       "      <td>48.2482</td>\n",
       "      <td>48.2482</td>\n",
       "      <td>0</td>\n",
       "      <td>True</td>\n",
       "      <td>NaN</td>\n",
       "      <td>NaN</td>\n",
       "      <td>NaN</td>\n",
       "      <td>NaN</td>\n",
       "      <td>NaN</td>\n",
       "    </tr>\n",
       "    <tr>\n",
       "      <td>241</td>\n",
       "      <td>-0.00171396</td>\n",
       "      <td>0.869515</td>\n",
       "      <td>0</td>\n",
       "      <td>NaN</td>\n",
       "      <td>48.9421</td>\n",
       "      <td>48.9421</td>\n",
       "      <td>0</td>\n",
       "      <td>True</td>\n",
       "      <td>NaN</td>\n",
       "      <td>NaN</td>\n",
       "      <td>NaN</td>\n",
       "      <td>NaN</td>\n",
       "      <td>NaN</td>\n",
       "    </tr>\n",
       "    <tr>\n",
       "      <td>242</td>\n",
       "      <td>0.19525</td>\n",
       "      <td>1.07443</td>\n",
       "      <td>0</td>\n",
       "      <td>NaN</td>\n",
       "      <td>60.5891</td>\n",
       "      <td>59.3706</td>\n",
       "      <td>2.01106</td>\n",
       "      <td>True</td>\n",
       "      <td>NaN</td>\n",
       "      <td>NaN</td>\n",
       "      <td>NaN</td>\n",
       "      <td>NaN</td>\n",
       "      <td>NaN</td>\n",
       "    </tr>\n",
       "    <tr>\n",
       "      <td>243</td>\n",
       "      <td>0.518992</td>\n",
       "      <td>1.28695</td>\n",
       "      <td>0</td>\n",
       "      <td>NaN</td>\n",
       "      <td>59.0379</td>\n",
       "      <td>57.823</td>\n",
       "      <td>2.05782</td>\n",
       "      <td>True</td>\n",
       "      <td>NaN</td>\n",
       "      <td>NaN</td>\n",
       "      <td>NaN</td>\n",
       "      <td>NaN</td>\n",
       "      <td>NaN</td>\n",
       "    </tr>\n",
       "  </tbody>\n",
       "</table>\n",
       "<p>243 rows × 13 columns</p>\n",
       "</div>"
      ],
      "text/plain": [
       "        Err_DHf Ehull_ref  Eg_ref      Eg Volume_ref   Volume Err_V_percent  \\\n",
       "1     0.0675049         0       0     NaN    63.1491  62.1201       1.62938   \n",
       "2     0.0149364         0       0     NaN    65.5993  65.5993             0   \n",
       "3     0.0184807         0       0     NaN    71.4286   70.764      0.930459   \n",
       "4     0.0199763         0  2.1107   2.108    65.4917  65.3762      0.176445   \n",
       "5     0.0745714         0  3.0368  3.1192    77.0743  76.0138       1.37593   \n",
       "..          ...       ...     ...     ...        ...      ...           ...   \n",
       "239   0.0119413  0.827586       0     NaN    42.8181  42.6258       0.44922   \n",
       "240    0.149106  0.854966       0     NaN    48.2482  48.2482             0   \n",
       "241 -0.00171396  0.869515       0     NaN    48.9421  48.9421             0   \n",
       "242     0.19525   1.07443       0     NaN    60.5891  59.3706       2.01106   \n",
       "243    0.518992   1.28695       0     NaN    59.0379   57.823       2.05782   \n",
       "\n",
       "    Theoretical     VBM  E_fermi     CBM    bgtype   bgpath  \n",
       "1         False     NaN      NaN     NaN       NaN      NaN  \n",
       "2         False     NaN      NaN     NaN       NaN      NaN  \n",
       "3         False     NaN      NaN     NaN       NaN      NaN  \n",
       "4         False  1.5991  1.84427  3.7071  Indirect  R-gamma  \n",
       "5         False  3.5638  3.90525   6.683  Indirect  R-gamma  \n",
       "..          ...     ...      ...     ...       ...      ...  \n",
       "239        True     NaN      NaN     NaN       NaN      NaN  \n",
       "240        True     NaN      NaN     NaN       NaN      NaN  \n",
       "241        True     NaN      NaN     NaN       NaN      NaN  \n",
       "242        True     NaN      NaN     NaN       NaN      NaN  \n",
       "243        True     NaN      NaN     NaN       NaN      NaN  \n",
       "\n",
       "[243 rows x 13 columns]"
      ]
     },
     "execution_count": 12,
     "metadata": {},
     "output_type": "execute_result"
    }
   ],
   "source": [
    "df_bulk.iloc[:,30:]"
   ]
  },
  {
   "cell_type": "code",
   "execution_count": 13,
   "metadata": {},
   "outputs": [
    {
     "data": {
      "application/vnd.plotly.v1+json": {
       "config": {
        "linkText": "Export to plot.ly",
        "plotlyServerURL": "https://plot.ly",
        "showLink": false
       },
       "data": [
        {
         "mode": "markers",
         "name": "Ehull",
         "type": "scatter",
         "x": [
          "SrTcO3",
          "BaFeO3",
          "BaMoO3",
          "KTaO3",
          "BaZrO3",
          "SrFeO3",
          "KTcO3",
          "NaTcO3",
          "BaHfO3",
          "SrTiO3",
          "SrCuO3",
          "KNbO3",
          "NaTaO3",
          "BaScO3",
          "BaPdO3",
          "BaTaO3",
          "SrHfO3",
          "NaOsO3",
          "TlTcO3",
          "KReO3",
          "SrRuO3",
          "KHfO3",
          "SrVO3",
          "KOsO3",
          "TaAgO3",
          "SrNiO3",
          "RbIrO3",
          "NaReO3",
          "SrMnO3",
          "CaFeO3",
          "SrZrO3",
          "NaWO3",
          "RbTaO3",
          "SrCoO3",
          "SrTaO3",
          "KZrO3",
          "CaTiO3",
          "NaRuO3",
          "LiTcO3",
          "SrPdO3",
          "KWO3",
          "KRhO3",
          "BaCuO3",
          "RbNbO3",
          "BaOsO3",
          "BaRuO3",
          "KRuO3",
          "SrMoO3",
          "NaTiO3",
          "SrScO3",
          "RbOsO3",
          "SrRhO3",
          "NaMoO3",
          "SrOsO3",
          "BaRhO3",
          "BaPtO3",
          "CaVO3",
          "KMoO3",
          "SrCrO3",
          "SrAgO3",
          "RbRhO3",
          "BaVO3",
          "CaCoO3",
          "CaMnO3",
          "KPtO3",
          "BaNiO3",
          "BaMnO3",
          "SrReO3",
          "BaReO3",
          "SrIrO3",
          "NaVO3",
          "NaFeO3",
          "BaIrO3",
          "RbReO3",
          "CaRuO3",
          "RbPdO3",
          "CaHfO3",
          "TlWO3",
          "RbWO3",
          "RbPtO3",
          "KPdO3",
          "SrPtO3",
          "SrZnO3",
          "BaWO3",
          "CaCuO3",
          "BaZnO3",
          "RbRuO3",
          "RbMoO3",
          "CaZrO3",
          "KScO3",
          "BaCdO3",
          "TiCdO3",
          "SrWO3",
          "BaAuO3",
          "YNiO3",
          "CsIrO3",
          "LiRuO3",
          "KVO3",
          "BaCoO3",
          "YCuO3",
          "YCoO3",
          "CaZnO3",
          "CsPdO3",
          "TiHgO3",
          "CaScO3",
          "CsOsO3",
          "CaOsO3",
          "RbYO3",
          "CsNbO3",
          "CsTaO3",
          "CaRhO3",
          "RbFeO3",
          "NaPdO3",
          "KYO3",
          "SrAuO3",
          "SrHgO3",
          "KMnO3",
          "HfCdO3",
          "MnCdO3",
          "VCdO3",
          "VHgO3",
          "NaCrO3",
          "HfHgO3",
          "HgRuO3",
          "YMnO3",
          "YTiO3",
          "YCrO3",
          "LiFeO3",
          "CaIrO3",
          "CsTiO3",
          "TlCuO3",
          "HgOsO3",
          "NaNiO3",
          "CuHgO3",
          "KAgO3",
          "PbAuO3",
          "SnHgO3",
          "AlAgO3",
          "YFeO3",
          "ZrCdO3",
          "FeAgO3",
          "CdRuO3",
          "BiMoO3",
          "RbHgO3",
          "ZrHgO3",
          "RbAgO3",
          "RbVO3",
          "CdOsO3",
          "KAuO3",
          "CsMoO3",
          "CsRuO3",
          "KCoO3",
          "RbAuO3",
          "KCrO3",
          "RbCdO3",
          "KCdO3",
          "NaAgO3",
          "NaCoO3",
          "NaZnO3",
          "HgIrO3",
          "SbAuO3",
          "RbZnO3",
          "RbNiO3",
          "HgRhO3",
          "LiCrO3",
          "RbMnO3",
          "CsCdO3",
          "RbCuO3",
          "CdRhO3",
          "KZnO3",
          "CsAuO3",
          "MgTiO3",
          "MgFeO3",
          "NaCdO3",
          "CaHgO3",
          "CdIrO3",
          "InOsO3",
          "LiYO3",
          "NbFeO3",
          "CaYO3",
          "SiAgO3",
          "TaFeO3",
          "MgMnO3",
          "SiHgO3",
          "MgCuO3",
          "LiNiO3",
          "SbPdO3",
          "InCuO3",
          "RbCrO3",
          "MgHgO3",
          "MgVO3",
          "BeCdO3",
          "VCoO3",
          "VZnO3",
          "LiCdO3",
          "TiZnO3",
          "TiCuO3",
          "ScCoO3",
          "BiPtO3",
          "MgCoO3",
          "YMoO3",
          "MnZnO3",
          "ZnOsO3",
          "ScCuO3",
          "AlAuO3",
          "CrCuO3",
          "YAgO3",
          "BeHgO3",
          "TlHgO3",
          "ZnCuO3",
          "CoAuO3",
          "TePdO3",
          "CrTcO3",
          "MgRuO3",
          "MgMoO3",
          "MgOsO3",
          "BeAgO3",
          "MgReO3",
          "GePdO3",
          "MgZrO3",
          "CoMoO3",
          "HfZnO3",
          "MgZnO3",
          "SiPdO3",
          "MgRhO3",
          "CuPdO3",
          "ScVO3",
          "ZrTiO3",
          "YOsO3",
          "ZrZnO3",
          "ZnRhO3",
          "BeZnO3",
          "ZnIrO3",
          "InPtO3",
          "MgIrO3",
          "ZnAuO3",
          "YWO3",
          "ScPdO3",
          "BePdO3",
          "AlVO3",
          "AlNiO3",
          "NiMoO3",
          "CoRhO3"
         ],
         "y": [
          0,
          0,
          0,
          0,
          0,
          0,
          0,
          0,
          0,
          0.000882217999999213,
          0.009568164875000562,
          0.012912933999992049,
          0.014601897500000405,
          0.023880135000009517,
          0.02588665849999927,
          0.03218881879999991,
          0.032961875000001584,
          0.035054968499999895,
          0.035974791958333974,
          0.03723231714285813,
          0.037396135500003425,
          0.03788947374999729,
          0.0380674330000037,
          0.03861854957142263,
          0.039203620000010986,
          0.04032233000000218,
          0.0414840639999996,
          0.041774871600004815,
          0.046183698500001036,
          0.05216096349999777,
          0.05508322750000083,
          0.055926283695651335,
          0.05665698100001748,
          0.0586556319860998,
          0.059249466000006024,
          0.06312991274999824,
          0.06447128150000125,
          0.06520865262499953,
          0.06527291791666645,
          0.07011863874999946,
          0.07027808349999809,
          0.07794870799999742,
          0.07894813758333363,
          0.0827236650000005,
          0.0839918569090905,
          0.0843781879999872,
          0.08456636424999786,
          0.08723388099999774,
          0.08835162867500124,
          0.08843607424999167,
          0.08873023299999883,
          0.09117577574999736,
          0.09499668624999913,
          0.09691571972727342,
          0.09833247362963249,
          0.0993174252666611,
          0.10508193049999726,
          0.10552783725001369,
          0.1064126840000057,
          0.10851050900000025,
          0.11303347499999994,
          0.11490964846510998,
          0.11775246493750036,
          0.11810790000000182,
          0.11938604316666535,
          0.12423250300000088,
          0.12612266499999958,
          0.12614001513333584,
          0.13580388100000462,
          0.14179081199999644,
          0.14191423800000091,
          0.1425442137500026,
          0.14292753937499825,
          0.1466208092352952,
          0.15184324949999795,
          0.15277174399999982,
          0.1543113860000016,
          0.15493013733333427,
          0.1558609073333317,
          0.15740757000000105,
          0.1581163013333322,
          0.15975899574999985,
          0.16231580399999945,
          0.1641601968333326,
          0.1645825311250011,
          0.16865455200000046,
          0.1799572872499997,
          0.19183317524999577,
          0.19190157250000084,
          0.19567250083333398,
          0.19725303800000038,
          0.19823604299999964,
          0.199436746444416,
          0.20524483500000112,
          0.2099519154999978,
          0.21023699583333233,
          0.2147965309750024,
          0.21690222900000045,
          0.22176297600000083,
          0.22206072063636206,
          0.23033052950000688,
          0.23468275975000097,
          0.23584165699999993,
          0.23603125000000347,
          0.23811505337500094,
          0.241024331909089,
          0.24487290119999905,
          0.24889340537500004,
          0.25199686275000044,
          0.25341476204545543,
          0.25708098000000046,
          0.25794452600000195,
          0.26044224124999804,
          0.26319552458333373,
          0.2717218329999982,
          0.27331328774999974,
          0.27868774775000027,
          0.2803344825000025,
          0.28219929266666544,
          0.2852663065000005,
          0.28763265200001165,
          0.29644555588889165,
          0.29905115799999926,
          0.30147249049999036,
          0.3019567264999985,
          0.3027160442500243,
          0.30330930349999896,
          0.3063941497,
          0.30639546000000006,
          0.3067170846666665,
          0.3099624594999959,
          0.3148475884999993,
          0.31655720475000404,
          0.3227713701250021,
          0.3253447787499981,
          0.3294768926666656,
          0.3388109505000001,
          0.3398094532954552,
          0.34055694487499366,
          0.34487334649999646,
          0.34540158662500353,
          0.3503468709999975,
          0.3510387281666656,
          0.3515368514999997,
          0.35172599000000204,
          0.35256425574999906,
          0.3573852454999997,
          0.3595717660000046,
          0.3611940707499999,
          0.37244897650000564,
          0.37825283774999896,
          0.3814342625,
          0.3903206787499993,
          0.390398377000003,
          0.3908795480000009,
          0.39095161399999956,
          0.392548979749999,
          0.39307589844999935,
          0.3998834819999999,
          0.40197515449999965,
          0.40221379483332864,
          0.4065542279999965,
          0.40811915899999995,
          0.4093161734999997,
          0.4093615643333415,
          0.4123854022812594,
          0.42109283200000025,
          0.4239368597499995,
          0.4240888640000007,
          0.4364480739999994,
          0.4551229417500009,
          0.4554779789999994,
          0.4578845713750006,
          0.4627691339999993,
          0.46311277174999876,
          0.46319859100000826,
          0.4671484177500007,
          0.4690018289464275,
          0.47157315608333406,
          0.47556204174999994,
          0.48158028900000804,
          0.49047448750000733,
          0.49114127600000046,
          0.49427371949999976,
          0.4967471433749999,
          0.5000794055454572,
          0.5066664857500038,
          0.5074102180000013,
          0.5075693690000032,
          0.5092032072499997,
          0.5105942759999991,
          0.5135986467499993,
          0.5157359705000033,
          0.5241475830000129,
          0.5266109771428562,
          0.536665202833337,
          0.5419573265000004,
          0.5458620058750032,
          0.5484207966250025,
          0.5498234308750032,
          0.5548863764999865,
          0.5611383420000058,
          0.5631186020000003,
          0.5632505270000001,
          0.5752129526363623,
          0.5815415029999969,
          0.5830196154999978,
          0.6000384682499993,
          0.6031630521250015,
          0.606307099875,
          0.6154238686666709,
          0.6202237412499967,
          0.6305895350000004,
          0.6338548410000051,
          0.637967645500007,
          0.6485269100000046,
          0.6495187384999994,
          0.6516945938571448,
          0.6619779759999993,
          0.6674341285000001,
          0.671147929,
          0.6870172384999975,
          0.7025471657500004,
          0.712775812000003,
          0.7167632360000011,
          0.7189750189999966,
          0.7214540362499999,
          0.7219264145000004,
          0.7346429323749977,
          0.7579582725000016,
          0.7623651620000107,
          0.7626201267499981,
          0.7630904089999797,
          0.7702423624374966,
          0.7836997629999809,
          0.7897293113749999,
          0.8120642075000113,
          0.8200575807500012,
          0.8275864959999994,
          0.8549662145000045,
          0.86951488062879,
          1.0744297244999998,
          1.286949787499995
         ]
        }
       ],
       "layout": {
        "template": {
         "data": {
          "bar": [
           {
            "error_x": {
             "color": "#2a3f5f"
            },
            "error_y": {
             "color": "#2a3f5f"
            },
            "marker": {
             "line": {
              "color": "#E5ECF6",
              "width": 0.5
             }
            },
            "type": "bar"
           }
          ],
          "barpolar": [
           {
            "marker": {
             "line": {
              "color": "#E5ECF6",
              "width": 0.5
             }
            },
            "type": "barpolar"
           }
          ],
          "carpet": [
           {
            "aaxis": {
             "endlinecolor": "#2a3f5f",
             "gridcolor": "white",
             "linecolor": "white",
             "minorgridcolor": "white",
             "startlinecolor": "#2a3f5f"
            },
            "baxis": {
             "endlinecolor": "#2a3f5f",
             "gridcolor": "white",
             "linecolor": "white",
             "minorgridcolor": "white",
             "startlinecolor": "#2a3f5f"
            },
            "type": "carpet"
           }
          ],
          "choropleth": [
           {
            "colorbar": {
             "outlinewidth": 0,
             "ticks": ""
            },
            "type": "choropleth"
           }
          ],
          "contour": [
           {
            "colorbar": {
             "outlinewidth": 0,
             "ticks": ""
            },
            "colorscale": [
             [
              0,
              "#0d0887"
             ],
             [
              0.1111111111111111,
              "#46039f"
             ],
             [
              0.2222222222222222,
              "#7201a8"
             ],
             [
              0.3333333333333333,
              "#9c179e"
             ],
             [
              0.4444444444444444,
              "#bd3786"
             ],
             [
              0.5555555555555556,
              "#d8576b"
             ],
             [
              0.6666666666666666,
              "#ed7953"
             ],
             [
              0.7777777777777778,
              "#fb9f3a"
             ],
             [
              0.8888888888888888,
              "#fdca26"
             ],
             [
              1,
              "#f0f921"
             ]
            ],
            "type": "contour"
           }
          ],
          "contourcarpet": [
           {
            "colorbar": {
             "outlinewidth": 0,
             "ticks": ""
            },
            "type": "contourcarpet"
           }
          ],
          "heatmap": [
           {
            "colorbar": {
             "outlinewidth": 0,
             "ticks": ""
            },
            "colorscale": [
             [
              0,
              "#0d0887"
             ],
             [
              0.1111111111111111,
              "#46039f"
             ],
             [
              0.2222222222222222,
              "#7201a8"
             ],
             [
              0.3333333333333333,
              "#9c179e"
             ],
             [
              0.4444444444444444,
              "#bd3786"
             ],
             [
              0.5555555555555556,
              "#d8576b"
             ],
             [
              0.6666666666666666,
              "#ed7953"
             ],
             [
              0.7777777777777778,
              "#fb9f3a"
             ],
             [
              0.8888888888888888,
              "#fdca26"
             ],
             [
              1,
              "#f0f921"
             ]
            ],
            "type": "heatmap"
           }
          ],
          "heatmapgl": [
           {
            "colorbar": {
             "outlinewidth": 0,
             "ticks": ""
            },
            "colorscale": [
             [
              0,
              "#0d0887"
             ],
             [
              0.1111111111111111,
              "#46039f"
             ],
             [
              0.2222222222222222,
              "#7201a8"
             ],
             [
              0.3333333333333333,
              "#9c179e"
             ],
             [
              0.4444444444444444,
              "#bd3786"
             ],
             [
              0.5555555555555556,
              "#d8576b"
             ],
             [
              0.6666666666666666,
              "#ed7953"
             ],
             [
              0.7777777777777778,
              "#fb9f3a"
             ],
             [
              0.8888888888888888,
              "#fdca26"
             ],
             [
              1,
              "#f0f921"
             ]
            ],
            "type": "heatmapgl"
           }
          ],
          "histogram": [
           {
            "marker": {
             "colorbar": {
              "outlinewidth": 0,
              "ticks": ""
             }
            },
            "type": "histogram"
           }
          ],
          "histogram2d": [
           {
            "colorbar": {
             "outlinewidth": 0,
             "ticks": ""
            },
            "colorscale": [
             [
              0,
              "#0d0887"
             ],
             [
              0.1111111111111111,
              "#46039f"
             ],
             [
              0.2222222222222222,
              "#7201a8"
             ],
             [
              0.3333333333333333,
              "#9c179e"
             ],
             [
              0.4444444444444444,
              "#bd3786"
             ],
             [
              0.5555555555555556,
              "#d8576b"
             ],
             [
              0.6666666666666666,
              "#ed7953"
             ],
             [
              0.7777777777777778,
              "#fb9f3a"
             ],
             [
              0.8888888888888888,
              "#fdca26"
             ],
             [
              1,
              "#f0f921"
             ]
            ],
            "type": "histogram2d"
           }
          ],
          "histogram2dcontour": [
           {
            "colorbar": {
             "outlinewidth": 0,
             "ticks": ""
            },
            "colorscale": [
             [
              0,
              "#0d0887"
             ],
             [
              0.1111111111111111,
              "#46039f"
             ],
             [
              0.2222222222222222,
              "#7201a8"
             ],
             [
              0.3333333333333333,
              "#9c179e"
             ],
             [
              0.4444444444444444,
              "#bd3786"
             ],
             [
              0.5555555555555556,
              "#d8576b"
             ],
             [
              0.6666666666666666,
              "#ed7953"
             ],
             [
              0.7777777777777778,
              "#fb9f3a"
             ],
             [
              0.8888888888888888,
              "#fdca26"
             ],
             [
              1,
              "#f0f921"
             ]
            ],
            "type": "histogram2dcontour"
           }
          ],
          "mesh3d": [
           {
            "colorbar": {
             "outlinewidth": 0,
             "ticks": ""
            },
            "type": "mesh3d"
           }
          ],
          "parcoords": [
           {
            "line": {
             "colorbar": {
              "outlinewidth": 0,
              "ticks": ""
             }
            },
            "type": "parcoords"
           }
          ],
          "pie": [
           {
            "automargin": true,
            "type": "pie"
           }
          ],
          "scatter": [
           {
            "marker": {
             "colorbar": {
              "outlinewidth": 0,
              "ticks": ""
             }
            },
            "type": "scatter"
           }
          ],
          "scatter3d": [
           {
            "line": {
             "colorbar": {
              "outlinewidth": 0,
              "ticks": ""
             }
            },
            "marker": {
             "colorbar": {
              "outlinewidth": 0,
              "ticks": ""
             }
            },
            "type": "scatter3d"
           }
          ],
          "scattercarpet": [
           {
            "marker": {
             "colorbar": {
              "outlinewidth": 0,
              "ticks": ""
             }
            },
            "type": "scattercarpet"
           }
          ],
          "scattergeo": [
           {
            "marker": {
             "colorbar": {
              "outlinewidth": 0,
              "ticks": ""
             }
            },
            "type": "scattergeo"
           }
          ],
          "scattergl": [
           {
            "marker": {
             "colorbar": {
              "outlinewidth": 0,
              "ticks": ""
             }
            },
            "type": "scattergl"
           }
          ],
          "scattermapbox": [
           {
            "marker": {
             "colorbar": {
              "outlinewidth": 0,
              "ticks": ""
             }
            },
            "type": "scattermapbox"
           }
          ],
          "scatterpolar": [
           {
            "marker": {
             "colorbar": {
              "outlinewidth": 0,
              "ticks": ""
             }
            },
            "type": "scatterpolar"
           }
          ],
          "scatterpolargl": [
           {
            "marker": {
             "colorbar": {
              "outlinewidth": 0,
              "ticks": ""
             }
            },
            "type": "scatterpolargl"
           }
          ],
          "scatterternary": [
           {
            "marker": {
             "colorbar": {
              "outlinewidth": 0,
              "ticks": ""
             }
            },
            "type": "scatterternary"
           }
          ],
          "surface": [
           {
            "colorbar": {
             "outlinewidth": 0,
             "ticks": ""
            },
            "colorscale": [
             [
              0,
              "#0d0887"
             ],
             [
              0.1111111111111111,
              "#46039f"
             ],
             [
              0.2222222222222222,
              "#7201a8"
             ],
             [
              0.3333333333333333,
              "#9c179e"
             ],
             [
              0.4444444444444444,
              "#bd3786"
             ],
             [
              0.5555555555555556,
              "#d8576b"
             ],
             [
              0.6666666666666666,
              "#ed7953"
             ],
             [
              0.7777777777777778,
              "#fb9f3a"
             ],
             [
              0.8888888888888888,
              "#fdca26"
             ],
             [
              1,
              "#f0f921"
             ]
            ],
            "type": "surface"
           }
          ],
          "table": [
           {
            "cells": {
             "fill": {
              "color": "#EBF0F8"
             },
             "line": {
              "color": "white"
             }
            },
            "header": {
             "fill": {
              "color": "#C8D4E3"
             },
             "line": {
              "color": "white"
             }
            },
            "type": "table"
           }
          ]
         },
         "layout": {
          "annotationdefaults": {
           "arrowcolor": "#2a3f5f",
           "arrowhead": 0,
           "arrowwidth": 1
          },
          "coloraxis": {
           "colorbar": {
            "outlinewidth": 0,
            "ticks": ""
           }
          },
          "colorscale": {
           "diverging": [
            [
             0,
             "#8e0152"
            ],
            [
             0.1,
             "#c51b7d"
            ],
            [
             0.2,
             "#de77ae"
            ],
            [
             0.3,
             "#f1b6da"
            ],
            [
             0.4,
             "#fde0ef"
            ],
            [
             0.5,
             "#f7f7f7"
            ],
            [
             0.6,
             "#e6f5d0"
            ],
            [
             0.7,
             "#b8e186"
            ],
            [
             0.8,
             "#7fbc41"
            ],
            [
             0.9,
             "#4d9221"
            ],
            [
             1,
             "#276419"
            ]
           ],
           "sequential": [
            [
             0,
             "#0d0887"
            ],
            [
             0.1111111111111111,
             "#46039f"
            ],
            [
             0.2222222222222222,
             "#7201a8"
            ],
            [
             0.3333333333333333,
             "#9c179e"
            ],
            [
             0.4444444444444444,
             "#bd3786"
            ],
            [
             0.5555555555555556,
             "#d8576b"
            ],
            [
             0.6666666666666666,
             "#ed7953"
            ],
            [
             0.7777777777777778,
             "#fb9f3a"
            ],
            [
             0.8888888888888888,
             "#fdca26"
            ],
            [
             1,
             "#f0f921"
            ]
           ],
           "sequentialminus": [
            [
             0,
             "#0d0887"
            ],
            [
             0.1111111111111111,
             "#46039f"
            ],
            [
             0.2222222222222222,
             "#7201a8"
            ],
            [
             0.3333333333333333,
             "#9c179e"
            ],
            [
             0.4444444444444444,
             "#bd3786"
            ],
            [
             0.5555555555555556,
             "#d8576b"
            ],
            [
             0.6666666666666666,
             "#ed7953"
            ],
            [
             0.7777777777777778,
             "#fb9f3a"
            ],
            [
             0.8888888888888888,
             "#fdca26"
            ],
            [
             1,
             "#f0f921"
            ]
           ]
          },
          "colorway": [
           "#636efa",
           "#EF553B",
           "#00cc96",
           "#ab63fa",
           "#FFA15A",
           "#19d3f3",
           "#FF6692",
           "#B6E880",
           "#FF97FF",
           "#FECB52"
          ],
          "font": {
           "color": "#2a3f5f"
          },
          "geo": {
           "bgcolor": "white",
           "lakecolor": "white",
           "landcolor": "#E5ECF6",
           "showlakes": true,
           "showland": true,
           "subunitcolor": "white"
          },
          "hoverlabel": {
           "align": "left"
          },
          "hovermode": "closest",
          "mapbox": {
           "style": "light"
          },
          "paper_bgcolor": "white",
          "plot_bgcolor": "#E5ECF6",
          "polar": {
           "angularaxis": {
            "gridcolor": "white",
            "linecolor": "white",
            "ticks": ""
           },
           "bgcolor": "#E5ECF6",
           "radialaxis": {
            "gridcolor": "white",
            "linecolor": "white",
            "ticks": ""
           }
          },
          "scene": {
           "xaxis": {
            "backgroundcolor": "#E5ECF6",
            "gridcolor": "white",
            "gridwidth": 2,
            "linecolor": "white",
            "showbackground": true,
            "ticks": "",
            "zerolinecolor": "white"
           },
           "yaxis": {
            "backgroundcolor": "#E5ECF6",
            "gridcolor": "white",
            "gridwidth": 2,
            "linecolor": "white",
            "showbackground": true,
            "ticks": "",
            "zerolinecolor": "white"
           },
           "zaxis": {
            "backgroundcolor": "#E5ECF6",
            "gridcolor": "white",
            "gridwidth": 2,
            "linecolor": "white",
            "showbackground": true,
            "ticks": "",
            "zerolinecolor": "white"
           }
          },
          "shapedefaults": {
           "line": {
            "color": "#2a3f5f"
           }
          },
          "ternary": {
           "aaxis": {
            "gridcolor": "white",
            "linecolor": "white",
            "ticks": ""
           },
           "baxis": {
            "gridcolor": "white",
            "linecolor": "white",
            "ticks": ""
           },
           "bgcolor": "#E5ECF6",
           "caxis": {
            "gridcolor": "white",
            "linecolor": "white",
            "ticks": ""
           }
          },
          "title": {
           "x": 0.05
          },
          "xaxis": {
           "automargin": true,
           "gridcolor": "white",
           "linecolor": "white",
           "ticks": "",
           "title": {
            "standoff": 15
           },
           "zerolinecolor": "white",
           "zerolinewidth": 2
          },
          "yaxis": {
           "automargin": true,
           "gridcolor": "white",
           "linecolor": "white",
           "ticks": "",
           "title": {
            "standoff": 15
           },
           "zerolinecolor": "white",
           "zerolinewidth": 2
          }
         }
        },
        "title": {
         "text": "Energy above hull"
        }
       }
      },
      "text/html": [
       "<div>\n",
       "        \n",
       "        \n",
       "            <div id=\"cb06bdd8-c9c6-419c-9cf9-c806e31c45d5\" class=\"plotly-graph-div\" style=\"height:525px; width:100%;\"></div>\n",
       "            <script type=\"text/javascript\">\n",
       "                require([\"plotly\"], function(Plotly) {\n",
       "                    window.PLOTLYENV=window.PLOTLYENV || {};\n",
       "                    \n",
       "                if (document.getElementById(\"cb06bdd8-c9c6-419c-9cf9-c806e31c45d5\")) {\n",
       "                    Plotly.newPlot(\n",
       "                        'cb06bdd8-c9c6-419c-9cf9-c806e31c45d5',\n",
       "                        [{\"mode\": \"markers\", \"name\": \"Ehull\", \"type\": \"scatter\", \"x\": [\"SrTcO3\", \"BaFeO3\", \"BaMoO3\", \"KTaO3\", \"BaZrO3\", \"SrFeO3\", \"KTcO3\", \"NaTcO3\", \"BaHfO3\", \"SrTiO3\", \"SrCuO3\", \"KNbO3\", \"NaTaO3\", \"BaScO3\", \"BaPdO3\", \"BaTaO3\", \"SrHfO3\", \"NaOsO3\", \"TlTcO3\", \"KReO3\", \"SrRuO3\", \"KHfO3\", \"SrVO3\", \"KOsO3\", \"TaAgO3\", \"SrNiO3\", \"RbIrO3\", \"NaReO3\", \"SrMnO3\", \"CaFeO3\", \"SrZrO3\", \"NaWO3\", \"RbTaO3\", \"SrCoO3\", \"SrTaO3\", \"KZrO3\", \"CaTiO3\", \"NaRuO3\", \"LiTcO3\", \"SrPdO3\", \"KWO3\", \"KRhO3\", \"BaCuO3\", \"RbNbO3\", \"BaOsO3\", \"BaRuO3\", \"KRuO3\", \"SrMoO3\", \"NaTiO3\", \"SrScO3\", \"RbOsO3\", \"SrRhO3\", \"NaMoO3\", \"SrOsO3\", \"BaRhO3\", \"BaPtO3\", \"CaVO3\", \"KMoO3\", \"SrCrO3\", \"SrAgO3\", \"RbRhO3\", \"BaVO3\", \"CaCoO3\", \"CaMnO3\", \"KPtO3\", \"BaNiO3\", \"BaMnO3\", \"SrReO3\", \"BaReO3\", \"SrIrO3\", \"NaVO3\", \"NaFeO3\", \"BaIrO3\", \"RbReO3\", \"CaRuO3\", \"RbPdO3\", \"CaHfO3\", \"TlWO3\", \"RbWO3\", \"RbPtO3\", \"KPdO3\", \"SrPtO3\", \"SrZnO3\", \"BaWO3\", \"CaCuO3\", \"BaZnO3\", \"RbRuO3\", \"RbMoO3\", \"CaZrO3\", \"KScO3\", \"BaCdO3\", \"TiCdO3\", \"SrWO3\", \"BaAuO3\", \"YNiO3\", \"CsIrO3\", \"LiRuO3\", \"KVO3\", \"BaCoO3\", \"YCuO3\", \"YCoO3\", \"CaZnO3\", \"CsPdO3\", \"TiHgO3\", \"CaScO3\", \"CsOsO3\", \"CaOsO3\", \"RbYO3\", \"CsNbO3\", \"CsTaO3\", \"CaRhO3\", \"RbFeO3\", \"NaPdO3\", \"KYO3\", \"SrAuO3\", \"SrHgO3\", \"KMnO3\", \"HfCdO3\", \"MnCdO3\", \"VCdO3\", \"VHgO3\", \"NaCrO3\", \"HfHgO3\", \"HgRuO3\", \"YMnO3\", \"YTiO3\", \"YCrO3\", \"LiFeO3\", \"CaIrO3\", \"CsTiO3\", \"TlCuO3\", \"HgOsO3\", \"NaNiO3\", \"CuHgO3\", \"KAgO3\", \"PbAuO3\", \"SnHgO3\", \"AlAgO3\", \"YFeO3\", \"ZrCdO3\", \"FeAgO3\", \"CdRuO3\", \"BiMoO3\", \"RbHgO3\", \"ZrHgO3\", \"RbAgO3\", \"RbVO3\", \"CdOsO3\", \"KAuO3\", \"CsMoO3\", \"CsRuO3\", \"KCoO3\", \"RbAuO3\", \"KCrO3\", \"RbCdO3\", \"KCdO3\", \"NaAgO3\", \"NaCoO3\", \"NaZnO3\", \"HgIrO3\", \"SbAuO3\", \"RbZnO3\", \"RbNiO3\", \"HgRhO3\", \"LiCrO3\", \"RbMnO3\", \"CsCdO3\", \"RbCuO3\", \"CdRhO3\", \"KZnO3\", \"CsAuO3\", \"MgTiO3\", \"MgFeO3\", \"NaCdO3\", \"CaHgO3\", \"CdIrO3\", \"InOsO3\", \"LiYO3\", \"NbFeO3\", \"CaYO3\", \"SiAgO3\", \"TaFeO3\", \"MgMnO3\", \"SiHgO3\", \"MgCuO3\", \"LiNiO3\", \"SbPdO3\", \"InCuO3\", \"RbCrO3\", \"MgHgO3\", \"MgVO3\", \"BeCdO3\", \"VCoO3\", \"VZnO3\", \"LiCdO3\", \"TiZnO3\", \"TiCuO3\", \"ScCoO3\", \"BiPtO3\", \"MgCoO3\", \"YMoO3\", \"MnZnO3\", \"ZnOsO3\", \"ScCuO3\", \"AlAuO3\", \"CrCuO3\", \"YAgO3\", \"BeHgO3\", \"TlHgO3\", \"ZnCuO3\", \"CoAuO3\", \"TePdO3\", \"CrTcO3\", \"MgRuO3\", \"MgMoO3\", \"MgOsO3\", \"BeAgO3\", \"MgReO3\", \"GePdO3\", \"MgZrO3\", \"CoMoO3\", \"HfZnO3\", \"MgZnO3\", \"SiPdO3\", \"MgRhO3\", \"CuPdO3\", \"ScVO3\", \"ZrTiO3\", \"YOsO3\", \"ZrZnO3\", \"ZnRhO3\", \"BeZnO3\", \"ZnIrO3\", \"InPtO3\", \"MgIrO3\", \"ZnAuO3\", \"YWO3\", \"ScPdO3\", \"BePdO3\", \"AlVO3\", \"AlNiO3\", \"NiMoO3\", \"CoRhO3\"], \"y\": [0, 0, 0, 0, 0, 0, 0, 0, 0, 0.000882217999999213, 0.009568164875000562, 0.012912933999992049, 0.014601897500000405, 0.023880135000009517, 0.02588665849999927, 0.03218881879999991, 0.032961875000001584, 0.035054968499999895, 0.035974791958333974, 0.03723231714285813, 0.037396135500003425, 0.03788947374999729, 0.0380674330000037, 0.03861854957142263, 0.039203620000010986, 0.04032233000000218, 0.0414840639999996, 0.041774871600004815, 0.046183698500001036, 0.05216096349999777, 0.05508322750000083, 0.055926283695651335, 0.05665698100001748, 0.0586556319860998, 0.059249466000006024, 0.06312991274999824, 0.06447128150000125, 0.06520865262499953, 0.06527291791666645, 0.07011863874999946, 0.07027808349999809, 0.07794870799999742, 0.07894813758333363, 0.0827236650000005, 0.0839918569090905, 0.0843781879999872, 0.08456636424999786, 0.08723388099999774, 0.08835162867500124, 0.08843607424999167, 0.08873023299999883, 0.09117577574999736, 0.09499668624999913, 0.09691571972727342, 0.09833247362963249, 0.0993174252666611, 0.10508193049999726, 0.10552783725001369, 0.1064126840000057, 0.10851050900000025, 0.11303347499999994, 0.11490964846510998, 0.11775246493750036, 0.11810790000000182, 0.11938604316666535, 0.12423250300000088, 0.12612266499999958, 0.12614001513333584, 0.13580388100000462, 0.14179081199999644, 0.14191423800000091, 0.1425442137500026, 0.14292753937499825, 0.1466208092352952, 0.15184324949999795, 0.15277174399999982, 0.1543113860000016, 0.15493013733333427, 0.1558609073333317, 0.15740757000000105, 0.1581163013333322, 0.15975899574999985, 0.16231580399999945, 0.1641601968333326, 0.1645825311250011, 0.16865455200000046, 0.1799572872499997, 0.19183317524999577, 0.19190157250000084, 0.19567250083333398, 0.19725303800000038, 0.19823604299999964, 0.199436746444416, 0.20524483500000112, 0.2099519154999978, 0.21023699583333233, 0.2147965309750024, 0.21690222900000045, 0.22176297600000083, 0.22206072063636206, 0.23033052950000688, 0.23468275975000097, 0.23584165699999993, 0.23603125000000347, 0.23811505337500094, 0.241024331909089, 0.24487290119999905, 0.24889340537500004, 0.25199686275000044, 0.25341476204545543, 0.25708098000000046, 0.25794452600000195, 0.26044224124999804, 0.26319552458333373, 0.2717218329999982, 0.27331328774999974, 0.27868774775000027, 0.2803344825000025, 0.28219929266666544, 0.2852663065000005, 0.28763265200001165, 0.29644555588889165, 0.29905115799999926, 0.30147249049999036, 0.3019567264999985, 0.3027160442500243, 0.30330930349999896, 0.3063941497, 0.30639546000000006, 0.3067170846666665, 0.3099624594999959, 0.3148475884999993, 0.31655720475000404, 0.3227713701250021, 0.3253447787499981, 0.3294768926666656, 0.3388109505000001, 0.3398094532954552, 0.34055694487499366, 0.34487334649999646, 0.34540158662500353, 0.3503468709999975, 0.3510387281666656, 0.3515368514999997, 0.35172599000000204, 0.35256425574999906, 0.3573852454999997, 0.3595717660000046, 0.3611940707499999, 0.37244897650000564, 0.37825283774999896, 0.3814342625, 0.3903206787499993, 0.390398377000003, 0.3908795480000009, 0.39095161399999956, 0.392548979749999, 0.39307589844999935, 0.3998834819999999, 0.40197515449999965, 0.40221379483332864, 0.4065542279999965, 0.40811915899999995, 0.4093161734999997, 0.4093615643333415, 0.4123854022812594, 0.42109283200000025, 0.4239368597499995, 0.4240888640000007, 0.4364480739999994, 0.4551229417500009, 0.4554779789999994, 0.4578845713750006, 0.4627691339999993, 0.46311277174999876, 0.46319859100000826, 0.4671484177500007, 0.4690018289464275, 0.47157315608333406, 0.47556204174999994, 0.48158028900000804, 0.49047448750000733, 0.49114127600000046, 0.49427371949999976, 0.4967471433749999, 0.5000794055454572, 0.5066664857500038, 0.5074102180000013, 0.5075693690000032, 0.5092032072499997, 0.5105942759999991, 0.5135986467499993, 0.5157359705000033, 0.5241475830000129, 0.5266109771428562, 0.536665202833337, 0.5419573265000004, 0.5458620058750032, 0.5484207966250025, 0.5498234308750032, 0.5548863764999865, 0.5611383420000058, 0.5631186020000003, 0.5632505270000001, 0.5752129526363623, 0.5815415029999969, 0.5830196154999978, 0.6000384682499993, 0.6031630521250015, 0.606307099875, 0.6154238686666709, 0.6202237412499967, 0.6305895350000004, 0.6338548410000051, 0.637967645500007, 0.6485269100000046, 0.6495187384999994, 0.6516945938571448, 0.6619779759999993, 0.6674341285000001, 0.671147929, 0.6870172384999975, 0.7025471657500004, 0.712775812000003, 0.7167632360000011, 0.7189750189999966, 0.7214540362499999, 0.7219264145000004, 0.7346429323749977, 0.7579582725000016, 0.7623651620000107, 0.7626201267499981, 0.7630904089999797, 0.7702423624374966, 0.7836997629999809, 0.7897293113749999, 0.8120642075000113, 0.8200575807500012, 0.8275864959999994, 0.8549662145000045, 0.86951488062879, 1.0744297244999998, 1.286949787499995]}],\n",
       "                        {\"template\": {\"data\": {\"bar\": [{\"error_x\": {\"color\": \"#2a3f5f\"}, \"error_y\": {\"color\": \"#2a3f5f\"}, \"marker\": {\"line\": {\"color\": \"#E5ECF6\", \"width\": 0.5}}, \"type\": \"bar\"}], \"barpolar\": [{\"marker\": {\"line\": {\"color\": \"#E5ECF6\", \"width\": 0.5}}, \"type\": \"barpolar\"}], \"carpet\": [{\"aaxis\": {\"endlinecolor\": \"#2a3f5f\", \"gridcolor\": \"white\", \"linecolor\": \"white\", \"minorgridcolor\": \"white\", \"startlinecolor\": \"#2a3f5f\"}, \"baxis\": {\"endlinecolor\": \"#2a3f5f\", \"gridcolor\": \"white\", \"linecolor\": \"white\", \"minorgridcolor\": \"white\", \"startlinecolor\": \"#2a3f5f\"}, \"type\": \"carpet\"}], \"choropleth\": [{\"colorbar\": {\"outlinewidth\": 0, \"ticks\": \"\"}, \"type\": \"choropleth\"}], \"contour\": [{\"colorbar\": {\"outlinewidth\": 0, \"ticks\": \"\"}, \"colorscale\": [[0.0, \"#0d0887\"], [0.1111111111111111, \"#46039f\"], [0.2222222222222222, \"#7201a8\"], [0.3333333333333333, \"#9c179e\"], [0.4444444444444444, \"#bd3786\"], [0.5555555555555556, \"#d8576b\"], [0.6666666666666666, \"#ed7953\"], [0.7777777777777778, \"#fb9f3a\"], [0.8888888888888888, \"#fdca26\"], [1.0, \"#f0f921\"]], \"type\": \"contour\"}], \"contourcarpet\": [{\"colorbar\": {\"outlinewidth\": 0, \"ticks\": \"\"}, \"type\": \"contourcarpet\"}], \"heatmap\": [{\"colorbar\": {\"outlinewidth\": 0, \"ticks\": \"\"}, \"colorscale\": [[0.0, \"#0d0887\"], [0.1111111111111111, \"#46039f\"], [0.2222222222222222, \"#7201a8\"], [0.3333333333333333, \"#9c179e\"], [0.4444444444444444, \"#bd3786\"], [0.5555555555555556, \"#d8576b\"], [0.6666666666666666, \"#ed7953\"], [0.7777777777777778, \"#fb9f3a\"], [0.8888888888888888, \"#fdca26\"], [1.0, \"#f0f921\"]], \"type\": \"heatmap\"}], \"heatmapgl\": [{\"colorbar\": {\"outlinewidth\": 0, \"ticks\": \"\"}, \"colorscale\": [[0.0, \"#0d0887\"], [0.1111111111111111, \"#46039f\"], [0.2222222222222222, \"#7201a8\"], [0.3333333333333333, \"#9c179e\"], [0.4444444444444444, \"#bd3786\"], [0.5555555555555556, \"#d8576b\"], [0.6666666666666666, \"#ed7953\"], [0.7777777777777778, \"#fb9f3a\"], [0.8888888888888888, \"#fdca26\"], [1.0, \"#f0f921\"]], \"type\": \"heatmapgl\"}], \"histogram\": [{\"marker\": {\"colorbar\": {\"outlinewidth\": 0, \"ticks\": \"\"}}, \"type\": \"histogram\"}], \"histogram2d\": [{\"colorbar\": {\"outlinewidth\": 0, \"ticks\": \"\"}, \"colorscale\": [[0.0, \"#0d0887\"], [0.1111111111111111, \"#46039f\"], [0.2222222222222222, \"#7201a8\"], [0.3333333333333333, \"#9c179e\"], [0.4444444444444444, \"#bd3786\"], [0.5555555555555556, \"#d8576b\"], [0.6666666666666666, \"#ed7953\"], [0.7777777777777778, \"#fb9f3a\"], [0.8888888888888888, \"#fdca26\"], [1.0, \"#f0f921\"]], \"type\": \"histogram2d\"}], \"histogram2dcontour\": [{\"colorbar\": {\"outlinewidth\": 0, \"ticks\": \"\"}, \"colorscale\": [[0.0, \"#0d0887\"], [0.1111111111111111, \"#46039f\"], [0.2222222222222222, \"#7201a8\"], [0.3333333333333333, \"#9c179e\"], [0.4444444444444444, \"#bd3786\"], [0.5555555555555556, \"#d8576b\"], [0.6666666666666666, \"#ed7953\"], [0.7777777777777778, \"#fb9f3a\"], [0.8888888888888888, \"#fdca26\"], [1.0, \"#f0f921\"]], \"type\": \"histogram2dcontour\"}], \"mesh3d\": [{\"colorbar\": {\"outlinewidth\": 0, \"ticks\": \"\"}, \"type\": \"mesh3d\"}], \"parcoords\": [{\"line\": {\"colorbar\": {\"outlinewidth\": 0, \"ticks\": \"\"}}, \"type\": \"parcoords\"}], \"pie\": [{\"automargin\": true, \"type\": \"pie\"}], \"scatter\": [{\"marker\": {\"colorbar\": {\"outlinewidth\": 0, \"ticks\": \"\"}}, \"type\": \"scatter\"}], \"scatter3d\": [{\"line\": {\"colorbar\": {\"outlinewidth\": 0, \"ticks\": \"\"}}, \"marker\": {\"colorbar\": {\"outlinewidth\": 0, \"ticks\": \"\"}}, \"type\": \"scatter3d\"}], \"scattercarpet\": [{\"marker\": {\"colorbar\": {\"outlinewidth\": 0, \"ticks\": \"\"}}, \"type\": \"scattercarpet\"}], \"scattergeo\": [{\"marker\": {\"colorbar\": {\"outlinewidth\": 0, \"ticks\": \"\"}}, \"type\": \"scattergeo\"}], \"scattergl\": [{\"marker\": {\"colorbar\": {\"outlinewidth\": 0, \"ticks\": \"\"}}, \"type\": \"scattergl\"}], \"scattermapbox\": [{\"marker\": {\"colorbar\": {\"outlinewidth\": 0, \"ticks\": \"\"}}, \"type\": \"scattermapbox\"}], \"scatterpolar\": [{\"marker\": {\"colorbar\": {\"outlinewidth\": 0, \"ticks\": \"\"}}, \"type\": \"scatterpolar\"}], \"scatterpolargl\": [{\"marker\": {\"colorbar\": {\"outlinewidth\": 0, \"ticks\": \"\"}}, \"type\": \"scatterpolargl\"}], \"scatterternary\": [{\"marker\": {\"colorbar\": {\"outlinewidth\": 0, \"ticks\": \"\"}}, \"type\": \"scatterternary\"}], \"surface\": [{\"colorbar\": {\"outlinewidth\": 0, \"ticks\": \"\"}, \"colorscale\": [[0.0, \"#0d0887\"], [0.1111111111111111, \"#46039f\"], [0.2222222222222222, \"#7201a8\"], [0.3333333333333333, \"#9c179e\"], [0.4444444444444444, \"#bd3786\"], [0.5555555555555556, \"#d8576b\"], [0.6666666666666666, \"#ed7953\"], [0.7777777777777778, \"#fb9f3a\"], [0.8888888888888888, \"#fdca26\"], [1.0, \"#f0f921\"]], \"type\": \"surface\"}], \"table\": [{\"cells\": {\"fill\": {\"color\": \"#EBF0F8\"}, \"line\": {\"color\": \"white\"}}, \"header\": {\"fill\": {\"color\": \"#C8D4E3\"}, \"line\": {\"color\": \"white\"}}, \"type\": \"table\"}]}, \"layout\": {\"annotationdefaults\": {\"arrowcolor\": \"#2a3f5f\", \"arrowhead\": 0, \"arrowwidth\": 1}, \"coloraxis\": {\"colorbar\": {\"outlinewidth\": 0, \"ticks\": \"\"}}, \"colorscale\": {\"diverging\": [[0, \"#8e0152\"], [0.1, \"#c51b7d\"], [0.2, \"#de77ae\"], [0.3, \"#f1b6da\"], [0.4, \"#fde0ef\"], [0.5, \"#f7f7f7\"], [0.6, \"#e6f5d0\"], [0.7, \"#b8e186\"], [0.8, \"#7fbc41\"], [0.9, \"#4d9221\"], [1, \"#276419\"]], \"sequential\": [[0.0, \"#0d0887\"], [0.1111111111111111, \"#46039f\"], [0.2222222222222222, \"#7201a8\"], [0.3333333333333333, \"#9c179e\"], [0.4444444444444444, \"#bd3786\"], [0.5555555555555556, \"#d8576b\"], [0.6666666666666666, \"#ed7953\"], [0.7777777777777778, \"#fb9f3a\"], [0.8888888888888888, \"#fdca26\"], [1.0, \"#f0f921\"]], \"sequentialminus\": [[0.0, \"#0d0887\"], [0.1111111111111111, \"#46039f\"], [0.2222222222222222, \"#7201a8\"], [0.3333333333333333, \"#9c179e\"], [0.4444444444444444, \"#bd3786\"], [0.5555555555555556, \"#d8576b\"], [0.6666666666666666, \"#ed7953\"], [0.7777777777777778, \"#fb9f3a\"], [0.8888888888888888, \"#fdca26\"], [1.0, \"#f0f921\"]]}, \"colorway\": [\"#636efa\", \"#EF553B\", \"#00cc96\", \"#ab63fa\", \"#FFA15A\", \"#19d3f3\", \"#FF6692\", \"#B6E880\", \"#FF97FF\", \"#FECB52\"], \"font\": {\"color\": \"#2a3f5f\"}, \"geo\": {\"bgcolor\": \"white\", \"lakecolor\": \"white\", \"landcolor\": \"#E5ECF6\", \"showlakes\": true, \"showland\": true, \"subunitcolor\": \"white\"}, \"hoverlabel\": {\"align\": \"left\"}, \"hovermode\": \"closest\", \"mapbox\": {\"style\": \"light\"}, \"paper_bgcolor\": \"white\", \"plot_bgcolor\": \"#E5ECF6\", \"polar\": {\"angularaxis\": {\"gridcolor\": \"white\", \"linecolor\": \"white\", \"ticks\": \"\"}, \"bgcolor\": \"#E5ECF6\", \"radialaxis\": {\"gridcolor\": \"white\", \"linecolor\": \"white\", \"ticks\": \"\"}}, \"scene\": {\"xaxis\": {\"backgroundcolor\": \"#E5ECF6\", \"gridcolor\": \"white\", \"gridwidth\": 2, \"linecolor\": \"white\", \"showbackground\": true, \"ticks\": \"\", \"zerolinecolor\": \"white\"}, \"yaxis\": {\"backgroundcolor\": \"#E5ECF6\", \"gridcolor\": \"white\", \"gridwidth\": 2, \"linecolor\": \"white\", \"showbackground\": true, \"ticks\": \"\", \"zerolinecolor\": \"white\"}, \"zaxis\": {\"backgroundcolor\": \"#E5ECF6\", \"gridcolor\": \"white\", \"gridwidth\": 2, \"linecolor\": \"white\", \"showbackground\": true, \"ticks\": \"\", \"zerolinecolor\": \"white\"}}, \"shapedefaults\": {\"line\": {\"color\": \"#2a3f5f\"}}, \"ternary\": {\"aaxis\": {\"gridcolor\": \"white\", \"linecolor\": \"white\", \"ticks\": \"\"}, \"baxis\": {\"gridcolor\": \"white\", \"linecolor\": \"white\", \"ticks\": \"\"}, \"bgcolor\": \"#E5ECF6\", \"caxis\": {\"gridcolor\": \"white\", \"linecolor\": \"white\", \"ticks\": \"\"}}, \"title\": {\"x\": 0.05}, \"xaxis\": {\"automargin\": true, \"gridcolor\": \"white\", \"linecolor\": \"white\", \"ticks\": \"\", \"title\": {\"standoff\": 15}, \"zerolinecolor\": \"white\", \"zerolinewidth\": 2}, \"yaxis\": {\"automargin\": true, \"gridcolor\": \"white\", \"linecolor\": \"white\", \"ticks\": \"\", \"title\": {\"standoff\": 15}, \"zerolinecolor\": \"white\", \"zerolinewidth\": 2}}}, \"title\": {\"text\": \"Energy above hull\"}},\n",
       "                        {\"responsive\": true}\n",
       "                    ).then(function(){\n",
       "                            \n",
       "var gd = document.getElementById('cb06bdd8-c9c6-419c-9cf9-c806e31c45d5');\n",
       "var x = new MutationObserver(function (mutations, observer) {{\n",
       "        var display = window.getComputedStyle(gd).display;\n",
       "        if (!display || display === 'none') {{\n",
       "            console.log([gd, 'removed!']);\n",
       "            Plotly.purge(gd);\n",
       "            observer.disconnect();\n",
       "        }}\n",
       "}});\n",
       "\n",
       "// Listen for the removal of the full notebook cells\n",
       "var notebookContainer = gd.closest('#notebook-container');\n",
       "if (notebookContainer) {{\n",
       "    x.observe(notebookContainer, {childList: true});\n",
       "}}\n",
       "\n",
       "// Listen for the clearing of the current output cell\n",
       "var outputEl = gd.closest('.output');\n",
       "if (outputEl) {{\n",
       "    x.observe(outputEl, {childList: true});\n",
       "}}\n",
       "\n",
       "                        })\n",
       "                };\n",
       "                });\n",
       "            </script>\n",
       "        </div>"
      ]
     },
     "metadata": {},
     "output_type": "display_data"
    }
   ],
   "source": [
    "trace1 = go.Scatter(x = df_bulk['formula'], y = df_bulk['Ehull_ref'], name = 'Ehull', mode = 'markers')\n",
    "\n",
    "data = [trace1]\n",
    "layout = go.Layout(title = 'Energy above hull')\n",
    "fig = go.Figure(data = data, layout = layout)\n",
    "# fig.show()\n",
    "pyo.iplot(fig)"
   ]
  },
  {
   "cell_type": "code",
   "execution_count": 14,
   "metadata": {},
   "outputs": [
    {
     "data": {
      "application/vnd.plotly.v1+json": {
       "config": {
        "plotlyServerURL": "https://plot.ly"
       },
       "data": [
        {
         "mode": "markers",
         "name": "Ehull",
         "type": "scatter",
         "x": [
          "SrTcO3",
          "BaFeO3",
          "BaMoO3",
          "KTaO3",
          "BaZrO3",
          "SrFeO3",
          "KTcO3",
          "NaTcO3",
          "BaHfO3",
          "SrTiO3",
          "SrCuO3",
          "KNbO3",
          "NaTaO3",
          "BaScO3",
          "BaPdO3",
          "BaTaO3",
          "SrHfO3",
          "NaOsO3",
          "TlTcO3",
          "KReO3",
          "SrRuO3",
          "KHfO3",
          "SrVO3",
          "KOsO3",
          "TaAgO3",
          "SrNiO3",
          "RbIrO3",
          "NaReO3",
          "SrMnO3",
          "CaFeO3",
          "SrZrO3",
          "NaWO3",
          "RbTaO3",
          "SrCoO3",
          "SrTaO3",
          "KZrO3",
          "CaTiO3",
          "NaRuO3",
          "LiTcO3",
          "SrPdO3",
          "KWO3",
          "KRhO3",
          "BaCuO3",
          "RbNbO3",
          "BaOsO3",
          "BaRuO3",
          "KRuO3",
          "SrMoO3",
          "NaTiO3",
          "SrScO3",
          "RbOsO3",
          "SrRhO3",
          "NaMoO3",
          "SrOsO3",
          "BaRhO3",
          "BaPtO3",
          "CaVO3",
          "KMoO3",
          "SrCrO3",
          "SrAgO3",
          "RbRhO3",
          "BaVO3",
          "CaCoO3",
          "CaMnO3",
          "KPtO3",
          "BaNiO3",
          "BaMnO3",
          "SrReO3",
          "BaReO3",
          "SrIrO3",
          "NaVO3",
          "NaFeO3",
          "BaIrO3",
          "RbReO3",
          "CaRuO3",
          "RbPdO3",
          "CaHfO3",
          "TlWO3",
          "RbWO3",
          "RbPtO3",
          "KPdO3",
          "SrPtO3",
          "SrZnO3",
          "BaWO3",
          "CaCuO3",
          "BaZnO3",
          "RbRuO3",
          "RbMoO3",
          "CaZrO3",
          "KScO3",
          "BaCdO3",
          "TiCdO3",
          "SrWO3",
          "BaAuO3",
          "YNiO3",
          "CsIrO3",
          "LiRuO3",
          "KVO3",
          "BaCoO3",
          "YCuO3",
          "YCoO3",
          "CaZnO3",
          "CsPdO3",
          "TiHgO3",
          "CaScO3",
          "CsOsO3",
          "CaOsO3",
          "RbYO3",
          "CsNbO3",
          "CsTaO3",
          "CaRhO3",
          "RbFeO3",
          "NaPdO3",
          "KYO3",
          "SrAuO3",
          "SrHgO3",
          "KMnO3",
          "HfCdO3",
          "MnCdO3",
          "VCdO3",
          "VHgO3",
          "NaCrO3",
          "HfHgO3",
          "HgRuO3",
          "YMnO3",
          "YTiO3",
          "YCrO3",
          "LiFeO3",
          "CaIrO3",
          "CsTiO3",
          "TlCuO3",
          "HgOsO3",
          "NaNiO3",
          "CuHgO3",
          "KAgO3",
          "PbAuO3",
          "SnHgO3",
          "AlAgO3",
          "YFeO3",
          "ZrCdO3",
          "FeAgO3",
          "CdRuO3",
          "BiMoO3",
          "RbHgO3",
          "ZrHgO3",
          "RbAgO3",
          "RbVO3",
          "CdOsO3",
          "KAuO3",
          "CsMoO3",
          "CsRuO3",
          "KCoO3",
          "RbAuO3",
          "KCrO3",
          "RbCdO3",
          "KCdO3",
          "NaAgO3",
          "NaCoO3",
          "NaZnO3",
          "HgIrO3",
          "SbAuO3",
          "RbZnO3",
          "RbNiO3",
          "HgRhO3",
          "LiCrO3",
          "RbMnO3",
          "CsCdO3",
          "RbCuO3",
          "CdRhO3",
          "KZnO3",
          "CsAuO3",
          "MgTiO3",
          "MgFeO3",
          "NaCdO3",
          "CaHgO3",
          "CdIrO3",
          "InOsO3",
          "LiYO3",
          "NbFeO3",
          "CaYO3",
          "SiAgO3",
          "TaFeO3",
          "MgMnO3",
          "SiHgO3",
          "MgCuO3",
          "LiNiO3",
          "SbPdO3",
          "InCuO3",
          "RbCrO3",
          "MgHgO3",
          "MgVO3",
          "BeCdO3",
          "VCoO3",
          "VZnO3",
          "LiCdO3",
          "TiZnO3",
          "TiCuO3",
          "ScCoO3",
          "BiPtO3",
          "MgCoO3",
          "YMoO3",
          "MnZnO3",
          "ZnOsO3",
          "ScCuO3",
          "AlAuO3",
          "CrCuO3",
          "YAgO3",
          "BeHgO3",
          "TlHgO3",
          "ZnCuO3",
          "CoAuO3",
          "TePdO3",
          "CrTcO3",
          "MgRuO3",
          "MgMoO3",
          "MgOsO3",
          "BeAgO3",
          "MgReO3",
          "GePdO3",
          "MgZrO3",
          "CoMoO3",
          "HfZnO3",
          "MgZnO3",
          "SiPdO3",
          "MgRhO3",
          "CuPdO3",
          "ScVO3",
          "ZrTiO3",
          "YOsO3",
          "ZrZnO3",
          "ZnRhO3",
          "BeZnO3",
          "ZnIrO3",
          "InPtO3",
          "MgIrO3",
          "ZnAuO3",
          "YWO3",
          "ScPdO3",
          "BePdO3",
          "AlVO3",
          "AlNiO3",
          "NiMoO3",
          "CoRhO3"
         ],
         "y": [
          0,
          0,
          0,
          0,
          0,
          0,
          0,
          0,
          0,
          0.000882217999999213,
          0.009568164875000562,
          0.012912933999992049,
          0.014601897500000405,
          0.023880135000009517,
          0.02588665849999927,
          0.03218881879999991,
          0.032961875000001584,
          0.035054968499999895,
          0.035974791958333974,
          0.03723231714285813,
          0.037396135500003425,
          0.03788947374999729,
          0.0380674330000037,
          0.03861854957142263,
          0.039203620000010986,
          0.04032233000000218,
          0.0414840639999996,
          0.041774871600004815,
          0.046183698500001036,
          0.05216096349999777,
          0.05508322750000083,
          0.055926283695651335,
          0.05665698100001748,
          0.0586556319860998,
          0.059249466000006024,
          0.06312991274999824,
          0.06447128150000125,
          0.06520865262499953,
          0.06527291791666645,
          0.07011863874999946,
          0.07027808349999809,
          0.07794870799999742,
          0.07894813758333363,
          0.0827236650000005,
          0.0839918569090905,
          0.0843781879999872,
          0.08456636424999786,
          0.08723388099999774,
          0.08835162867500124,
          0.08843607424999167,
          0.08873023299999883,
          0.09117577574999736,
          0.09499668624999913,
          0.09691571972727342,
          0.09833247362963249,
          0.0993174252666611,
          0.10508193049999726,
          0.10552783725001369,
          0.1064126840000057,
          0.10851050900000025,
          0.11303347499999994,
          0.11490964846510998,
          0.11775246493750036,
          0.11810790000000182,
          0.11938604316666535,
          0.12423250300000088,
          0.12612266499999958,
          0.12614001513333584,
          0.13580388100000462,
          0.14179081199999644,
          0.14191423800000091,
          0.1425442137500026,
          0.14292753937499825,
          0.1466208092352952,
          0.15184324949999795,
          0.15277174399999982,
          0.1543113860000016,
          0.15493013733333427,
          0.1558609073333317,
          0.15740757000000105,
          0.1581163013333322,
          0.15975899574999985,
          0.16231580399999945,
          0.1641601968333326,
          0.1645825311250011,
          0.16865455200000046,
          0.1799572872499997,
          0.19183317524999577,
          0.19190157250000084,
          0.19567250083333398,
          0.19725303800000038,
          0.19823604299999964,
          0.199436746444416,
          0.20524483500000112,
          0.2099519154999978,
          0.21023699583333233,
          0.2147965309750024,
          0.21690222900000045,
          0.22176297600000083,
          0.22206072063636206,
          0.23033052950000688,
          0.23468275975000097,
          0.23584165699999993,
          0.23603125000000347,
          0.23811505337500094,
          0.241024331909089,
          0.24487290119999905,
          0.24889340537500004,
          0.25199686275000044,
          0.25341476204545543,
          0.25708098000000046,
          0.25794452600000195,
          0.26044224124999804,
          0.26319552458333373,
          0.2717218329999982,
          0.27331328774999974,
          0.27868774775000027,
          0.2803344825000025,
          0.28219929266666544,
          0.2852663065000005,
          0.28763265200001165,
          0.29644555588889165,
          0.29905115799999926,
          0.30147249049999036,
          0.3019567264999985,
          0.3027160442500243,
          0.30330930349999896,
          0.3063941497,
          0.30639546000000006,
          0.3067170846666665,
          0.3099624594999959,
          0.3148475884999993,
          0.31655720475000404,
          0.3227713701250021,
          0.3253447787499981,
          0.3294768926666656,
          0.3388109505000001,
          0.3398094532954552,
          0.34055694487499366,
          0.34487334649999646,
          0.34540158662500353,
          0.3503468709999975,
          0.3510387281666656,
          0.3515368514999997,
          0.35172599000000204,
          0.35256425574999906,
          0.3573852454999997,
          0.3595717660000046,
          0.3611940707499999,
          0.37244897650000564,
          0.37825283774999896,
          0.3814342625,
          0.3903206787499993,
          0.390398377000003,
          0.3908795480000009,
          0.39095161399999956,
          0.392548979749999,
          0.39307589844999935,
          0.3998834819999999,
          0.40197515449999965,
          0.40221379483332864,
          0.4065542279999965,
          0.40811915899999995,
          0.4093161734999997,
          0.4093615643333415,
          0.4123854022812594,
          0.42109283200000025,
          0.4239368597499995,
          0.4240888640000007,
          0.4364480739999994,
          0.4551229417500009,
          0.4554779789999994,
          0.4578845713750006,
          0.4627691339999993,
          0.46311277174999876,
          0.46319859100000826,
          0.4671484177500007,
          0.4690018289464275,
          0.47157315608333406,
          0.47556204174999994,
          0.48158028900000804,
          0.49047448750000733,
          0.49114127600000046,
          0.49427371949999976,
          0.4967471433749999,
          0.5000794055454572,
          0.5066664857500038,
          0.5074102180000013,
          0.5075693690000032,
          0.5092032072499997,
          0.5105942759999991,
          0.5135986467499993,
          0.5157359705000033,
          0.5241475830000129,
          0.5266109771428562,
          0.536665202833337,
          0.5419573265000004,
          0.5458620058750032,
          0.5484207966250025,
          0.5498234308750032,
          0.5548863764999865,
          0.5611383420000058,
          0.5631186020000003,
          0.5632505270000001,
          0.5752129526363623,
          0.5815415029999969,
          0.5830196154999978,
          0.6000384682499993,
          0.6031630521250015,
          0.606307099875,
          0.6154238686666709,
          0.6202237412499967,
          0.6305895350000004,
          0.6338548410000051,
          0.637967645500007,
          0.6485269100000046,
          0.6495187384999994,
          0.6516945938571448,
          0.6619779759999993,
          0.6674341285000001,
          0.671147929,
          0.6870172384999975,
          0.7025471657500004,
          0.712775812000003,
          0.7167632360000011,
          0.7189750189999966,
          0.7214540362499999,
          0.7219264145000004,
          0.7346429323749977,
          0.7579582725000016,
          0.7623651620000107,
          0.7626201267499981,
          0.7630904089999797,
          0.7702423624374966,
          0.7836997629999809,
          0.7897293113749999,
          0.8120642075000113,
          0.8200575807500012,
          0.8275864959999994,
          0.8549662145000045,
          0.86951488062879,
          1.0744297244999998,
          1.286949787499995
         ]
        },
        {
         "mode": "markers",
         "name": "DHf",
         "type": "scatter",
         "x": [
          "SrTcO3",
          "BaFeO3",
          "BaMoO3",
          "KTaO3",
          "BaZrO3",
          "SrFeO3",
          "KTcO3",
          "NaTcO3",
          "BaHfO3",
          "SrTiO3",
          "SrCuO3",
          "KNbO3",
          "NaTaO3",
          "BaScO3",
          "BaPdO3",
          "BaTaO3",
          "SrHfO3",
          "NaOsO3",
          "TlTcO3",
          "KReO3",
          "SrRuO3",
          "KHfO3",
          "SrVO3",
          "KOsO3",
          "TaAgO3",
          "SrNiO3",
          "RbIrO3",
          "NaReO3",
          "SrMnO3",
          "CaFeO3",
          "SrZrO3",
          "NaWO3",
          "RbTaO3",
          "SrCoO3",
          "SrTaO3",
          "KZrO3",
          "CaTiO3",
          "NaRuO3",
          "LiTcO3",
          "SrPdO3",
          "KWO3",
          "KRhO3",
          "BaCuO3",
          "RbNbO3",
          "BaOsO3",
          "BaRuO3",
          "KRuO3",
          "SrMoO3",
          "NaTiO3",
          "SrScO3",
          "RbOsO3",
          "SrRhO3",
          "NaMoO3",
          "SrOsO3",
          "BaRhO3",
          "BaPtO3",
          "CaVO3",
          "KMoO3",
          "SrCrO3",
          "SrAgO3",
          "RbRhO3",
          "BaVO3",
          "CaCoO3",
          "CaMnO3",
          "KPtO3",
          "BaNiO3",
          "BaMnO3",
          "SrReO3",
          "BaReO3",
          "SrIrO3",
          "NaVO3",
          "NaFeO3",
          "BaIrO3",
          "RbReO3",
          "CaRuO3",
          "RbPdO3",
          "CaHfO3",
          "TlWO3",
          "RbWO3",
          "RbPtO3",
          "KPdO3",
          "SrPtO3",
          "SrZnO3",
          "BaWO3",
          "CaCuO3",
          "BaZnO3",
          "RbRuO3",
          "RbMoO3",
          "CaZrO3",
          "KScO3",
          "BaCdO3",
          "TiCdO3",
          "SrWO3",
          "BaAuO3",
          "YNiO3",
          "CsIrO3",
          "LiRuO3",
          "KVO3",
          "BaCoO3",
          "YCuO3",
          "YCoO3",
          "CaZnO3",
          "CsPdO3",
          "TiHgO3",
          "CaScO3",
          "CsOsO3",
          "CaOsO3",
          "RbYO3",
          "CsNbO3",
          "CsTaO3",
          "CaRhO3",
          "RbFeO3",
          "NaPdO3",
          "KYO3",
          "SrAuO3",
          "SrHgO3",
          "KMnO3",
          "HfCdO3",
          "MnCdO3",
          "VCdO3",
          "VHgO3",
          "NaCrO3",
          "HfHgO3",
          "HgRuO3",
          "YMnO3",
          "YTiO3",
          "YCrO3",
          "LiFeO3",
          "CaIrO3",
          "CsTiO3",
          "TlCuO3",
          "HgOsO3",
          "NaNiO3",
          "CuHgO3",
          "KAgO3",
          "PbAuO3",
          "SnHgO3",
          "AlAgO3",
          "YFeO3",
          "ZrCdO3",
          "FeAgO3",
          "CdRuO3",
          "BiMoO3",
          "RbHgO3",
          "ZrHgO3",
          "RbAgO3",
          "RbVO3",
          "CdOsO3",
          "KAuO3",
          "CsMoO3",
          "CsRuO3",
          "KCoO3",
          "RbAuO3",
          "KCrO3",
          "RbCdO3",
          "KCdO3",
          "NaAgO3",
          "NaCoO3",
          "NaZnO3",
          "HgIrO3",
          "SbAuO3",
          "RbZnO3",
          "RbNiO3",
          "HgRhO3",
          "LiCrO3",
          "RbMnO3",
          "CsCdO3",
          "RbCuO3",
          "CdRhO3",
          "KZnO3",
          "CsAuO3",
          "MgTiO3",
          "MgFeO3",
          "NaCdO3",
          "CaHgO3",
          "CdIrO3",
          "InOsO3",
          "LiYO3",
          "NbFeO3",
          "CaYO3",
          "SiAgO3",
          "TaFeO3",
          "MgMnO3",
          "SiHgO3",
          "MgCuO3",
          "LiNiO3",
          "SbPdO3",
          "InCuO3",
          "RbCrO3",
          "MgHgO3",
          "MgVO3",
          "BeCdO3",
          "VCoO3",
          "VZnO3",
          "LiCdO3",
          "TiZnO3",
          "TiCuO3",
          "ScCoO3",
          "BiPtO3",
          "MgCoO3",
          "YMoO3",
          "MnZnO3",
          "ZnOsO3",
          "ScCuO3",
          "AlAuO3",
          "CrCuO3",
          "YAgO3",
          "BeHgO3",
          "TlHgO3",
          "ZnCuO3",
          "CoAuO3",
          "TePdO3",
          "CrTcO3",
          "MgRuO3",
          "MgMoO3",
          "MgOsO3",
          "BeAgO3",
          "MgReO3",
          "GePdO3",
          "MgZrO3",
          "CoMoO3",
          "HfZnO3",
          "MgZnO3",
          "SiPdO3",
          "MgRhO3",
          "CuPdO3",
          "ScVO3",
          "ZrTiO3",
          "YOsO3",
          "ZrZnO3",
          "ZnRhO3",
          "BeZnO3",
          "ZnIrO3",
          "InPtO3",
          "MgIrO3",
          "ZnAuO3",
          "YWO3",
          "ScPdO3",
          "BePdO3",
          "AlVO3",
          "AlNiO3",
          "NiMoO3",
          "CoRhO3"
         ],
         "y": [
          -2.5301085089999993,
          -2.2629687819999993,
          -2.610794782000001,
          -3.1067656696,
          -3.7227805190000005,
          -2.3444722829999995,
          -2.0765819295999997,
          -2.0784385166,
          -3.8083502879999998,
          -3.5731536676000006,
          -1.7700747194000002,
          -2.8680442455999993,
          -3.0837406566,
          -3.2224652930000004,
          -1.7082501424,
          -3.288032347999999,
          -3.8044959890000003,
          -1.6488292266000002,
          -1.5791314919999997,
          -2.1138925115999996,
          -2.204082004,
          -2.9741492096,
          -2.893789284,
          -1.6584602395999994,
          -2.4159249234,
          -1.6825189214000003,
          -1.2151669779999998,
          -2.1050568986,
          -2.4600002176,
          -2.301252522400001,
          -3.70175882,
          -2.1057209286000003,
          -3.0071120289999995,
          -1.9971254509999998,
          -3.300782649,
          -2.8877798406000004,
          -3.5142429070000007,
          -1.6083060115999999,
          -2.018032353,
          -1.7133794433999996,
          -2.1335143415999993,
          -1.2450021445999995,
          -1.6840208183999998,
          -2.782071004999999,
          -2.058841918,
          -2.161894102999999,
          -1.6104416246,
          -2.617047683,
          -2.6677044752,
          -3.2034967940000003,
          -1.5500433990000004,
          -1.9829367239999995,
          -2.1480686905999993,
          -2.0894590190000004,
          -1.9535884229999994,
          -1.7249424624,
          -2.8469601234000006,
          -2.1654437036000003,
          -2.5598195610000003,
          -1.4597107434,
          -1.159891703999999,
          -2.8041755829999997,
          -1.9712016903999998,
          -2.4311838570000006,
          -0.9867995839999999,
          -1.6078392204,
          -2.3620931165999997,
          -2.422482291,
          -2.3894777899999995,
          -1.8955047980000004,
          -2.257659291599999,
          -1.422032090599999,
          -1.8733150970000003,
          -2.0015508710000005,
          -2.1247250434000007,
          -0.8172402233999996,
          -3.6924060284000007,
          -1.6400991040000001,
          -2.038337100999999,
          -0.9193067434,
          -0.8790866639999997,
          -1.7213377633999998,
          -1.885562498,
          -2.461696819999999,
          -1.7321087588000004,
          -1.8588163969999996,
          -1.5030499839999991,
          -2.065184063,
          -3.579505059400001,
          -2.3644096145999995,
          -1.6597696760000005,
          -2.4985389756000003,
          -2.454332721,
          -1.5050595789999996,
          -2.200916500400001,
          -1.0622546066000005,
          -1.5475726479999992,
          -2.2140683046000005,
          -1.9029897500000001,
          -2.2491138983999988,
          -2.45335103,
          -1.8161083374,
          -0.7318630519999999,
          -2.1296273655999998,
          -3.0863544333999995,
          -1.3565700276000001,
          -2.0002592584,
          -2.3205258279999996,
          -2.6138638335999986,
          -2.813884257599999,
          -1.8981511634000001,
          -1.269711662999999,
          -0.8240532509999994,
          -2.3255516685999993,
          -1.4775118800000002,
          -1.3731931670000002,
          -1.4878648381999995,
          -2.6983236969999993,
          -1.4235481256,
          -1.836696592000001,
          -1.5049735820000005,
          -1.7393653685999997,
          -2.3815282869999996,
          -0.8873783020000005,
          -2.7470885966,
          -3.3962478465999992,
          -2.9088869399999995,
          -1.3762407269999997,
          -1.8027878373999997,
          -2.3920788762000003,
          -0.6703837024000002,
          -0.8708355170000004,
          -0.6758085290000001,
          -0.36045061739999973,
          -0.5494523640000001,
          -0.6679185913999994,
          -1.1804864298000006,
          -1.6342362678,
          -2.6319014619999996,
          -2.585314327999999,
          -0.7996999573999996,
          -1.144278912,
          -1.5086790796000007,
          -0.4912683470000001,
          -2.2771331179999996,
          -0.5025751234000001,
          -2.0735596639999994,
          -1.0627437270000002,
          -0.6130393006000002,
          -1.8847956916000004,
          -1.3238586126,
          -1.1148242715999994,
          -0.5712032599999997,
          -1.6979797815999997,
          -0.7486123569999996,
          -0.7593781976000002,
          -0.47554515099999967,
          -1.1592916585999997,
          -0.9187481055999995,
          -0.6066384960000001,
          -0.8979657540000006,
          -0.8089884779999998,
          -0.5712993014,
          -0.628120822,
          -1.6992462049999997,
          -1.3980033975999995,
          -0.7284823856000002,
          -0.6809326993999996,
          -0.9122552319999997,
          -0.8896101185999996,
          -0.5092592885999998,
          -2.9360493973999993,
          -1.7501396127999995,
          -0.6402377846000004,
          -1.2270256064000002,
          -0.844002906,
          -1.1641426002000004,
          -2.2925498919999994,
          -1.9926446389999988,
          -2.8880616873999996,
          -1.6850944811999995,
          -2.2182088629999988,
          -1.8968797473999999,
          -1.7265645048000002,
          -1.1930212492000003,
          -0.6337669654,
          -0.9161059174000001,
          -0.9255151005999999,
          -1.577006741,
          -0.9710930968000007,
          -2.2804844138000004,
          -1.2892353230000004,
          -1.509168666,
          -1.687829313,
          -0.7158020210000003,
          -2.2990766965999994,
          -1.9528555179999998,
          -2.1013583759999994,
          -0.78081556,
          -1.4419625808000003,
          -2.441490662,
          -1.2651574466,
          -0.979084648,
          -1.8544870443999997,
          -1.4128310044000003,
          -1.0500618114000002,
          -1.6640969224000002,
          -0.9038713130000005,
          -0.19873074999999965,
          -0.5648671483999997,
          -0.29048726199999947,
          -0.5989577173999997,
          -1.489570601,
          -1.5324937337999998,
          -1.9084252128000005,
          -1.4028463488,
          -0.7973362893999998,
          -1.7576656208000003,
          -0.9458693574000001,
          -2.947979149799999,
          -1.197293665,
          -2.4596776179999993,
          -1.2465776278,
          -1.5807547811999996,
          -1.3065594537999998,
          -0.15169509380000007,
          -2.541328409,
          -2.7547586185999995,
          -1.8825345979999994,
          -2.3424308489999994,
          -0.7505331530000007,
          -1.207645444,
          -0.7168210270000003,
          -0.7626973446,
          -1.2012515278000002,
          -0.16150450900000024,
          -2.1635318999999997,
          -1.5520325683999991,
          -0.8718689894,
          -2.2762476083999994,
          -1.3185824458000002,
          -0.8179507354000002,
          -0.5386713059999997
         ]
        },
        {
         "mode": "markers",
         "name": "DHf_ref",
         "type": "scatter",
         "x": [
          "SrTcO3",
          "BaFeO3",
          "BaMoO3",
          "KTaO3",
          "BaZrO3",
          "SrFeO3",
          "KTcO3",
          "NaTcO3",
          "BaHfO3",
          "SrTiO3",
          "SrCuO3",
          "KNbO3",
          "NaTaO3",
          "BaScO3",
          "BaPdO3",
          "BaTaO3",
          "SrHfO3",
          "NaOsO3",
          "TlTcO3",
          "KReO3",
          "SrRuO3",
          "KHfO3",
          "SrVO3",
          "KOsO3",
          "TaAgO3",
          "SrNiO3",
          "RbIrO3",
          "NaReO3",
          "SrMnO3",
          "CaFeO3",
          "SrZrO3",
          "NaWO3",
          "RbTaO3",
          "SrCoO3",
          "SrTaO3",
          "KZrO3",
          "CaTiO3",
          "NaRuO3",
          "LiTcO3",
          "SrPdO3",
          "KWO3",
          "KRhO3",
          "BaCuO3",
          "RbNbO3",
          "BaOsO3",
          "BaRuO3",
          "KRuO3",
          "SrMoO3",
          "NaTiO3",
          "SrScO3",
          "RbOsO3",
          "SrRhO3",
          "NaMoO3",
          "SrOsO3",
          "BaRhO3",
          "BaPtO3",
          "CaVO3",
          "KMoO3",
          "SrCrO3",
          "SrAgO3",
          "RbRhO3",
          "BaVO3",
          "CaCoO3",
          "CaMnO3",
          "KPtO3",
          "BaNiO3",
          "BaMnO3",
          "SrReO3",
          "BaReO3",
          "SrIrO3",
          "NaVO3",
          "NaFeO3",
          "BaIrO3",
          "RbReO3",
          "CaRuO3",
          "RbPdO3",
          "CaHfO3",
          "TlWO3",
          "RbWO3",
          "RbPtO3",
          "KPdO3",
          "SrPtO3",
          "SrZnO3",
          "BaWO3",
          "CaCuO3",
          "BaZnO3",
          "RbRuO3",
          "RbMoO3",
          "CaZrO3",
          "KScO3",
          "BaCdO3",
          "TiCdO3",
          "SrWO3",
          "BaAuO3",
          "YNiO3",
          "CsIrO3",
          "LiRuO3",
          "KVO3",
          "BaCoO3",
          "YCuO3",
          "YCoO3",
          "CaZnO3",
          "CsPdO3",
          "TiHgO3",
          "CaScO3",
          "CsOsO3",
          "CaOsO3",
          "RbYO3",
          "CsNbO3",
          "CsTaO3",
          "CaRhO3",
          "RbFeO3",
          "NaPdO3",
          "KYO3",
          "SrAuO3",
          "SrHgO3",
          "KMnO3",
          "HfCdO3",
          "MnCdO3",
          "VCdO3",
          "VHgO3",
          "NaCrO3",
          "HfHgO3",
          "HgRuO3",
          "YMnO3",
          "YTiO3",
          "YCrO3",
          "LiFeO3",
          "CaIrO3",
          "CsTiO3",
          "TlCuO3",
          "HgOsO3",
          "NaNiO3",
          "CuHgO3",
          "KAgO3",
          "PbAuO3",
          "SnHgO3",
          "AlAgO3",
          "YFeO3",
          "ZrCdO3",
          "FeAgO3",
          "CdRuO3",
          "BiMoO3",
          "RbHgO3",
          "ZrHgO3",
          "RbAgO3",
          "RbVO3",
          "CdOsO3",
          "KAuO3",
          "CsMoO3",
          "CsRuO3",
          "KCoO3",
          "RbAuO3",
          "KCrO3",
          "RbCdO3",
          "KCdO3",
          "NaAgO3",
          "NaCoO3",
          "NaZnO3",
          "HgIrO3",
          "SbAuO3",
          "RbZnO3",
          "RbNiO3",
          "HgRhO3",
          "LiCrO3",
          "RbMnO3",
          "CsCdO3",
          "RbCuO3",
          "CdRhO3",
          "KZnO3",
          "CsAuO3",
          "MgTiO3",
          "MgFeO3",
          "NaCdO3",
          "CaHgO3",
          "CdIrO3",
          "InOsO3",
          "LiYO3",
          "NbFeO3",
          "CaYO3",
          "SiAgO3",
          "TaFeO3",
          "MgMnO3",
          "SiHgO3",
          "MgCuO3",
          "LiNiO3",
          "SbPdO3",
          "InCuO3",
          "RbCrO3",
          "MgHgO3",
          "MgVO3",
          "BeCdO3",
          "VCoO3",
          "VZnO3",
          "LiCdO3",
          "TiZnO3",
          "TiCuO3",
          "ScCoO3",
          "BiPtO3",
          "MgCoO3",
          "YMoO3",
          "MnZnO3",
          "ZnOsO3",
          "ScCuO3",
          "AlAuO3",
          "CrCuO3",
          "YAgO3",
          "BeHgO3",
          "TlHgO3",
          "ZnCuO3",
          "CoAuO3",
          "TePdO3",
          "CrTcO3",
          "MgRuO3",
          "MgMoO3",
          "MgOsO3",
          "BeAgO3",
          "MgReO3",
          "GePdO3",
          "MgZrO3",
          "CoMoO3",
          "HfZnO3",
          "MgZnO3",
          "SiPdO3",
          "MgRhO3",
          "CuPdO3",
          "ScVO3",
          "ZrTiO3",
          "YOsO3",
          "ZrZnO3",
          "ZnRhO3",
          "BeZnO3",
          "ZnIrO3",
          "InPtO3",
          "MgIrO3",
          "ZnAuO3",
          "YWO3",
          "ScPdO3",
          "BePdO3",
          "AlVO3",
          "AlNiO3",
          "NiMoO3",
          "CoRhO3"
         ],
         "y": [
          -2.4626036060833334,
          -2.2480323367499992,
          -2.59231404075,
          -3.0867893873499996,
          -3.6482091047499994,
          -2.3282499660833325,
          -1.9958626933499992,
          -1.98713690975,
          -3.79574822875,
          -3.5606248020833333,
          -1.7471770100833333,
          -2.8525854053499997,
          -3.0652973277499997,
          -3.216289175749999,
          -1.69514817875,
          -3.2800992907500004,
          -3.789170590083333,
          -1.6305793697499993,
          -1.51313473875,
          -2.0959315023499996,
          -2.1399693060833327,
          -2.9555707693499995,
          -2.885087014083333,
          -1.6385515753500002,
          -2.4053730554166664,
          -1.6983840170833333,
          -1.2145960842499997,
          -2.0883475987500004,
          -2.462435511206368,
          -2.28230765175,
          -3.6163422900833324,
          -2.1050147117499995,
          -2.9866736902499995,
          -1.9799518740833335,
          -3.2904685660833337,
          -2.807517265349999,
          -3.5021084617499993,
          -1.53366497775,
          -1.9206438480833328,
          -1.687524540083333,
          -2.12966082335,
          -1.1830900493500003,
          -1.6723442347499997,
          -2.7654917982499994,
          -2.0446720487500003,
          -2.11261841275,
          -1.546275023349999,
          -2.5883968040833336,
          -2.65497346175,
          -3.1963191950833334,
          -1.5294291002500002,
          -1.9437976020833332,
          -2.09580037975,
          -2.0761363520833327,
          -1.9287676307500008,
          -1.7215968307499998,
          -2.83837679775,
          -2.12173052335,
          -2.5476941140833325,
          -1.3968495207499998,
          -1.1230094362500005,
          -2.7963608667500006,
          -1.9437682787499995,
          -2.430397001873034,
          -0.9641087753499995,
          -1.6295501927499998,
          -2.3680057728730346,
          -2.410391581083334,
          -2.38101250375,
          -1.901858092083333,
          -2.2456144477499995,
          -1.403317935749999,
          -1.8890124227499996,
          -1.9831233832500004,
          -2.0718626537500007,
          -0.7839669622499997,
          -3.6770269277500005,
          -1.6360830107499993,
          -2.0327239182500003,
          -0.8981398962500002,
          -0.83950673135,
          -1.710095268083333,
          -1.8808981170833328,
          -2.45553588875,
          -1.7073429497500001,
          -1.8534158597499997,
          -1.447602272249999,
          -2.0278735282499993,
          -3.48867824775,
          -2.3494092423499993,
          -1.6576347247499996,
          -2.4932515667499997,
          -2.4480668800833336,
          -1.4641229467499997,
          -2.198190997416666,
          -1.0566181303362066,
          -1.467128336083333,
          -2.199838573350001,
          -1.8864377697500003,
          -2.2267719874166665,
          -2.430877182416667,
          -1.8113419907500004,
          -0.6998989983362073,
          -2.12943829475,
          -3.08047911675,
          -1.3321258863362062,
          -1.9869521997500001,
          -2.276622508916666,
          -2.591744302336207,
          -2.789519998336206,
          -1.851243339749999,
          -1.2692292822499993,
          -0.7839204877500002,
          -2.2808143780166668,
          -1.4304653600833332,
          -1.3666620880833336,
          -1.4935204274730354,
          -2.6899523367499993,
          -1.4341814648730349,
          -1.8024791947500005,
          -1.5075855187499996,
          -1.72601680175,
          -2.3772452367499994,
          -0.8375359907499998,
          -2.7228437535397005,
          -3.3758856674166666,
          -2.9082840374166663,
          -1.3546921040833333,
          -1.8058021857500002,
          -2.370526274336206,
          -0.6677820127500006,
          -0.8615458407499993,
          -0.6854175397500001,
          -0.3564998307499998,
          -0.503858560016667,
          -0.6120989167499993,
          -1.1935137927500001,
          -1.626278761416667,
          -2.603250217416666,
          -2.50169440675,
          -0.8017796654166659,
          -1.0826520347500002,
          -1.4819196187499997,
          -0.4841042222499993,
          -2.2008513387499997,
          -0.46308328091666695,
          -2.0581112742500003,
          -1.0549422287499994,
          -0.5643218513500002,
          -1.852917092336206,
          -1.279475534336207,
          -0.9630987983499999,
          -0.5247683162499996,
          -1.6877729233499998,
          -0.7387519502499998,
          -0.7476143673499998,
          -0.42410525641666724,
          -0.94498684275,
          -0.8640701207500001,
          -0.6189702207499999,
          -0.9068602237500002,
          -0.8902599192499998,
          -0.5841874142500003,
          -0.5915919647499998,
          -1.678712948083333,
          -1.3524766323730346,
          -0.7130909663362068,
          -0.66833136825,
          -0.8708096987499999,
          -0.8693005563499995,
          -0.46152036233620636,
          -2.9234386434166666,
          -1.7274028674166657,
          -0.6340018197500001,
          -1.2198285537499998,
          -0.85173720875,
          -1.1450662727499996,
          -2.1864160527500003,
          -2.015626230749999,
          -2.8411269224166675,
          -1.6663319684166666,
          -2.2470740867499983,
          -1.8931250515397011,
          -1.7308155857499998,
          -1.1712720194166664,
          -0.6392676040833329,
          -0.9216114377499999,
          -0.9166636267499996,
          -1.5696857322500002,
          -0.9740595074166662,
          -2.2709338194166677,
          -1.28288346975,
          -1.5392532597499993,
          -1.6862940737499996,
          -0.6959367280833334,
          -2.29339699775,
          -1.9453985987500004,
          -2.10146562475,
          -0.76464933675,
          -1.4091579564166665,
          -2.3968724474166665,
          -1.2701368638730344,
          -0.9685069657499994,
          -1.8466788857499992,
          -1.4096383067500007,
          -1.0361743127499998,
          -1.600610456083332,
          -0.9024532237499997,
          -0.21189162674999978,
          -0.5503341977499993,
          -0.2817920977500002,
          -0.6023795487500003,
          -1.4121983587499998,
          -1.4718349474166665,
          -1.8691788094166668,
          -1.3886068914166656,
          -0.7881843304166665,
          -1.7430861244166664,
          -0.9111350207500003,
          -2.8518245074166666,
          -1.1750378657499994,
          -2.45045222975,
          -1.241888622416667,
          -1.5736872657499987,
          -1.2508262094166667,
          -0.10451529475000002,
          -2.5317387797499995,
          -2.7386896647499994,
          -1.8646064014166668,
          -2.2557921297499997,
          -0.6997160497499998,
          -1.2010446387500004,
          -0.7190280397500004,
          -0.7431208747500001,
          -1.2039269194166664,
          -0.1632261037500001,
          -2.1470177474166663,
          -1.5503801877499988,
          -0.8599277217499995,
          -2.127141850750001,
          -1.3202964047500003,
          -0.6227009227499991,
          -0.01967899774999964
         ]
        }
       ],
       "layout": {
        "template": {
         "data": {
          "bar": [
           {
            "error_x": {
             "color": "#2a3f5f"
            },
            "error_y": {
             "color": "#2a3f5f"
            },
            "marker": {
             "line": {
              "color": "#E5ECF6",
              "width": 0.5
             }
            },
            "type": "bar"
           }
          ],
          "barpolar": [
           {
            "marker": {
             "line": {
              "color": "#E5ECF6",
              "width": 0.5
             }
            },
            "type": "barpolar"
           }
          ],
          "carpet": [
           {
            "aaxis": {
             "endlinecolor": "#2a3f5f",
             "gridcolor": "white",
             "linecolor": "white",
             "minorgridcolor": "white",
             "startlinecolor": "#2a3f5f"
            },
            "baxis": {
             "endlinecolor": "#2a3f5f",
             "gridcolor": "white",
             "linecolor": "white",
             "minorgridcolor": "white",
             "startlinecolor": "#2a3f5f"
            },
            "type": "carpet"
           }
          ],
          "choropleth": [
           {
            "colorbar": {
             "outlinewidth": 0,
             "ticks": ""
            },
            "type": "choropleth"
           }
          ],
          "contour": [
           {
            "colorbar": {
             "outlinewidth": 0,
             "ticks": ""
            },
            "colorscale": [
             [
              0,
              "#0d0887"
             ],
             [
              0.1111111111111111,
              "#46039f"
             ],
             [
              0.2222222222222222,
              "#7201a8"
             ],
             [
              0.3333333333333333,
              "#9c179e"
             ],
             [
              0.4444444444444444,
              "#bd3786"
             ],
             [
              0.5555555555555556,
              "#d8576b"
             ],
             [
              0.6666666666666666,
              "#ed7953"
             ],
             [
              0.7777777777777778,
              "#fb9f3a"
             ],
             [
              0.8888888888888888,
              "#fdca26"
             ],
             [
              1,
              "#f0f921"
             ]
            ],
            "type": "contour"
           }
          ],
          "contourcarpet": [
           {
            "colorbar": {
             "outlinewidth": 0,
             "ticks": ""
            },
            "type": "contourcarpet"
           }
          ],
          "heatmap": [
           {
            "colorbar": {
             "outlinewidth": 0,
             "ticks": ""
            },
            "colorscale": [
             [
              0,
              "#0d0887"
             ],
             [
              0.1111111111111111,
              "#46039f"
             ],
             [
              0.2222222222222222,
              "#7201a8"
             ],
             [
              0.3333333333333333,
              "#9c179e"
             ],
             [
              0.4444444444444444,
              "#bd3786"
             ],
             [
              0.5555555555555556,
              "#d8576b"
             ],
             [
              0.6666666666666666,
              "#ed7953"
             ],
             [
              0.7777777777777778,
              "#fb9f3a"
             ],
             [
              0.8888888888888888,
              "#fdca26"
             ],
             [
              1,
              "#f0f921"
             ]
            ],
            "type": "heatmap"
           }
          ],
          "heatmapgl": [
           {
            "colorbar": {
             "outlinewidth": 0,
             "ticks": ""
            },
            "colorscale": [
             [
              0,
              "#0d0887"
             ],
             [
              0.1111111111111111,
              "#46039f"
             ],
             [
              0.2222222222222222,
              "#7201a8"
             ],
             [
              0.3333333333333333,
              "#9c179e"
             ],
             [
              0.4444444444444444,
              "#bd3786"
             ],
             [
              0.5555555555555556,
              "#d8576b"
             ],
             [
              0.6666666666666666,
              "#ed7953"
             ],
             [
              0.7777777777777778,
              "#fb9f3a"
             ],
             [
              0.8888888888888888,
              "#fdca26"
             ],
             [
              1,
              "#f0f921"
             ]
            ],
            "type": "heatmapgl"
           }
          ],
          "histogram": [
           {
            "marker": {
             "colorbar": {
              "outlinewidth": 0,
              "ticks": ""
             }
            },
            "type": "histogram"
           }
          ],
          "histogram2d": [
           {
            "colorbar": {
             "outlinewidth": 0,
             "ticks": ""
            },
            "colorscale": [
             [
              0,
              "#0d0887"
             ],
             [
              0.1111111111111111,
              "#46039f"
             ],
             [
              0.2222222222222222,
              "#7201a8"
             ],
             [
              0.3333333333333333,
              "#9c179e"
             ],
             [
              0.4444444444444444,
              "#bd3786"
             ],
             [
              0.5555555555555556,
              "#d8576b"
             ],
             [
              0.6666666666666666,
              "#ed7953"
             ],
             [
              0.7777777777777778,
              "#fb9f3a"
             ],
             [
              0.8888888888888888,
              "#fdca26"
             ],
             [
              1,
              "#f0f921"
             ]
            ],
            "type": "histogram2d"
           }
          ],
          "histogram2dcontour": [
           {
            "colorbar": {
             "outlinewidth": 0,
             "ticks": ""
            },
            "colorscale": [
             [
              0,
              "#0d0887"
             ],
             [
              0.1111111111111111,
              "#46039f"
             ],
             [
              0.2222222222222222,
              "#7201a8"
             ],
             [
              0.3333333333333333,
              "#9c179e"
             ],
             [
              0.4444444444444444,
              "#bd3786"
             ],
             [
              0.5555555555555556,
              "#d8576b"
             ],
             [
              0.6666666666666666,
              "#ed7953"
             ],
             [
              0.7777777777777778,
              "#fb9f3a"
             ],
             [
              0.8888888888888888,
              "#fdca26"
             ],
             [
              1,
              "#f0f921"
             ]
            ],
            "type": "histogram2dcontour"
           }
          ],
          "mesh3d": [
           {
            "colorbar": {
             "outlinewidth": 0,
             "ticks": ""
            },
            "type": "mesh3d"
           }
          ],
          "parcoords": [
           {
            "line": {
             "colorbar": {
              "outlinewidth": 0,
              "ticks": ""
             }
            },
            "type": "parcoords"
           }
          ],
          "pie": [
           {
            "automargin": true,
            "type": "pie"
           }
          ],
          "scatter": [
           {
            "marker": {
             "colorbar": {
              "outlinewidth": 0,
              "ticks": ""
             }
            },
            "type": "scatter"
           }
          ],
          "scatter3d": [
           {
            "line": {
             "colorbar": {
              "outlinewidth": 0,
              "ticks": ""
             }
            },
            "marker": {
             "colorbar": {
              "outlinewidth": 0,
              "ticks": ""
             }
            },
            "type": "scatter3d"
           }
          ],
          "scattercarpet": [
           {
            "marker": {
             "colorbar": {
              "outlinewidth": 0,
              "ticks": ""
             }
            },
            "type": "scattercarpet"
           }
          ],
          "scattergeo": [
           {
            "marker": {
             "colorbar": {
              "outlinewidth": 0,
              "ticks": ""
             }
            },
            "type": "scattergeo"
           }
          ],
          "scattergl": [
           {
            "marker": {
             "colorbar": {
              "outlinewidth": 0,
              "ticks": ""
             }
            },
            "type": "scattergl"
           }
          ],
          "scattermapbox": [
           {
            "marker": {
             "colorbar": {
              "outlinewidth": 0,
              "ticks": ""
             }
            },
            "type": "scattermapbox"
           }
          ],
          "scatterpolar": [
           {
            "marker": {
             "colorbar": {
              "outlinewidth": 0,
              "ticks": ""
             }
            },
            "type": "scatterpolar"
           }
          ],
          "scatterpolargl": [
           {
            "marker": {
             "colorbar": {
              "outlinewidth": 0,
              "ticks": ""
             }
            },
            "type": "scatterpolargl"
           }
          ],
          "scatterternary": [
           {
            "marker": {
             "colorbar": {
              "outlinewidth": 0,
              "ticks": ""
             }
            },
            "type": "scatterternary"
           }
          ],
          "surface": [
           {
            "colorbar": {
             "outlinewidth": 0,
             "ticks": ""
            },
            "colorscale": [
             [
              0,
              "#0d0887"
             ],
             [
              0.1111111111111111,
              "#46039f"
             ],
             [
              0.2222222222222222,
              "#7201a8"
             ],
             [
              0.3333333333333333,
              "#9c179e"
             ],
             [
              0.4444444444444444,
              "#bd3786"
             ],
             [
              0.5555555555555556,
              "#d8576b"
             ],
             [
              0.6666666666666666,
              "#ed7953"
             ],
             [
              0.7777777777777778,
              "#fb9f3a"
             ],
             [
              0.8888888888888888,
              "#fdca26"
             ],
             [
              1,
              "#f0f921"
             ]
            ],
            "type": "surface"
           }
          ],
          "table": [
           {
            "cells": {
             "fill": {
              "color": "#EBF0F8"
             },
             "line": {
              "color": "white"
             }
            },
            "header": {
             "fill": {
              "color": "#C8D4E3"
             },
             "line": {
              "color": "white"
             }
            },
            "type": "table"
           }
          ]
         },
         "layout": {
          "annotationdefaults": {
           "arrowcolor": "#2a3f5f",
           "arrowhead": 0,
           "arrowwidth": 1
          },
          "coloraxis": {
           "colorbar": {
            "outlinewidth": 0,
            "ticks": ""
           }
          },
          "colorscale": {
           "diverging": [
            [
             0,
             "#8e0152"
            ],
            [
             0.1,
             "#c51b7d"
            ],
            [
             0.2,
             "#de77ae"
            ],
            [
             0.3,
             "#f1b6da"
            ],
            [
             0.4,
             "#fde0ef"
            ],
            [
             0.5,
             "#f7f7f7"
            ],
            [
             0.6,
             "#e6f5d0"
            ],
            [
             0.7,
             "#b8e186"
            ],
            [
             0.8,
             "#7fbc41"
            ],
            [
             0.9,
             "#4d9221"
            ],
            [
             1,
             "#276419"
            ]
           ],
           "sequential": [
            [
             0,
             "#0d0887"
            ],
            [
             0.1111111111111111,
             "#46039f"
            ],
            [
             0.2222222222222222,
             "#7201a8"
            ],
            [
             0.3333333333333333,
             "#9c179e"
            ],
            [
             0.4444444444444444,
             "#bd3786"
            ],
            [
             0.5555555555555556,
             "#d8576b"
            ],
            [
             0.6666666666666666,
             "#ed7953"
            ],
            [
             0.7777777777777778,
             "#fb9f3a"
            ],
            [
             0.8888888888888888,
             "#fdca26"
            ],
            [
             1,
             "#f0f921"
            ]
           ],
           "sequentialminus": [
            [
             0,
             "#0d0887"
            ],
            [
             0.1111111111111111,
             "#46039f"
            ],
            [
             0.2222222222222222,
             "#7201a8"
            ],
            [
             0.3333333333333333,
             "#9c179e"
            ],
            [
             0.4444444444444444,
             "#bd3786"
            ],
            [
             0.5555555555555556,
             "#d8576b"
            ],
            [
             0.6666666666666666,
             "#ed7953"
            ],
            [
             0.7777777777777778,
             "#fb9f3a"
            ],
            [
             0.8888888888888888,
             "#fdca26"
            ],
            [
             1,
             "#f0f921"
            ]
           ]
          },
          "colorway": [
           "#636efa",
           "#EF553B",
           "#00cc96",
           "#ab63fa",
           "#FFA15A",
           "#19d3f3",
           "#FF6692",
           "#B6E880",
           "#FF97FF",
           "#FECB52"
          ],
          "font": {
           "color": "#2a3f5f"
          },
          "geo": {
           "bgcolor": "white",
           "lakecolor": "white",
           "landcolor": "#E5ECF6",
           "showlakes": true,
           "showland": true,
           "subunitcolor": "white"
          },
          "hoverlabel": {
           "align": "left"
          },
          "hovermode": "closest",
          "mapbox": {
           "style": "light"
          },
          "paper_bgcolor": "white",
          "plot_bgcolor": "#E5ECF6",
          "polar": {
           "angularaxis": {
            "gridcolor": "white",
            "linecolor": "white",
            "ticks": ""
           },
           "bgcolor": "#E5ECF6",
           "radialaxis": {
            "gridcolor": "white",
            "linecolor": "white",
            "ticks": ""
           }
          },
          "scene": {
           "xaxis": {
            "backgroundcolor": "#E5ECF6",
            "gridcolor": "white",
            "gridwidth": 2,
            "linecolor": "white",
            "showbackground": true,
            "ticks": "",
            "zerolinecolor": "white"
           },
           "yaxis": {
            "backgroundcolor": "#E5ECF6",
            "gridcolor": "white",
            "gridwidth": 2,
            "linecolor": "white",
            "showbackground": true,
            "ticks": "",
            "zerolinecolor": "white"
           },
           "zaxis": {
            "backgroundcolor": "#E5ECF6",
            "gridcolor": "white",
            "gridwidth": 2,
            "linecolor": "white",
            "showbackground": true,
            "ticks": "",
            "zerolinecolor": "white"
           }
          },
          "shapedefaults": {
           "line": {
            "color": "#2a3f5f"
           }
          },
          "ternary": {
           "aaxis": {
            "gridcolor": "white",
            "linecolor": "white",
            "ticks": ""
           },
           "baxis": {
            "gridcolor": "white",
            "linecolor": "white",
            "ticks": ""
           },
           "bgcolor": "#E5ECF6",
           "caxis": {
            "gridcolor": "white",
            "linecolor": "white",
            "ticks": ""
           }
          },
          "title": {
           "x": 0.05
          },
          "xaxis": {
           "automargin": true,
           "gridcolor": "white",
           "linecolor": "white",
           "ticks": "",
           "title": {
            "standoff": 15
           },
           "zerolinecolor": "white",
           "zerolinewidth": 2
          },
          "yaxis": {
           "automargin": true,
           "gridcolor": "white",
           "linecolor": "white",
           "ticks": "",
           "title": {
            "standoff": 15
           },
           "zerolinecolor": "white",
           "zerolinewidth": 2
          }
         }
        },
        "title": {
         "text": "Ehull vs DHf"
        },
        "xaxis": {
         "anchor": "y",
         "domain": [
          0,
          1
         ]
        },
        "yaxis": {
         "anchor": "x",
         "domain": [
          0,
          1
         ]
        }
       }
      },
      "text/html": [
       "<div>\n",
       "        \n",
       "        \n",
       "            <div id=\"6568343d-efee-4e15-a00a-eee7c2817025\" class=\"plotly-graph-div\" style=\"height:525px; width:100%;\"></div>\n",
       "            <script type=\"text/javascript\">\n",
       "                require([\"plotly\"], function(Plotly) {\n",
       "                    window.PLOTLYENV=window.PLOTLYENV || {};\n",
       "                    \n",
       "                if (document.getElementById(\"6568343d-efee-4e15-a00a-eee7c2817025\")) {\n",
       "                    Plotly.newPlot(\n",
       "                        '6568343d-efee-4e15-a00a-eee7c2817025',\n",
       "                        [{\"mode\": \"markers\", \"name\": \"Ehull\", \"type\": \"scatter\", \"x\": [\"SrTcO3\", \"BaFeO3\", \"BaMoO3\", \"KTaO3\", \"BaZrO3\", \"SrFeO3\", \"KTcO3\", \"NaTcO3\", \"BaHfO3\", \"SrTiO3\", \"SrCuO3\", \"KNbO3\", \"NaTaO3\", \"BaScO3\", \"BaPdO3\", \"BaTaO3\", \"SrHfO3\", \"NaOsO3\", \"TlTcO3\", \"KReO3\", \"SrRuO3\", \"KHfO3\", \"SrVO3\", \"KOsO3\", \"TaAgO3\", \"SrNiO3\", \"RbIrO3\", \"NaReO3\", \"SrMnO3\", \"CaFeO3\", \"SrZrO3\", \"NaWO3\", \"RbTaO3\", \"SrCoO3\", \"SrTaO3\", \"KZrO3\", \"CaTiO3\", \"NaRuO3\", \"LiTcO3\", \"SrPdO3\", \"KWO3\", \"KRhO3\", \"BaCuO3\", \"RbNbO3\", \"BaOsO3\", \"BaRuO3\", \"KRuO3\", \"SrMoO3\", \"NaTiO3\", \"SrScO3\", \"RbOsO3\", \"SrRhO3\", \"NaMoO3\", \"SrOsO3\", \"BaRhO3\", \"BaPtO3\", \"CaVO3\", \"KMoO3\", \"SrCrO3\", \"SrAgO3\", \"RbRhO3\", \"BaVO3\", \"CaCoO3\", \"CaMnO3\", \"KPtO3\", \"BaNiO3\", \"BaMnO3\", \"SrReO3\", \"BaReO3\", \"SrIrO3\", \"NaVO3\", \"NaFeO3\", \"BaIrO3\", \"RbReO3\", \"CaRuO3\", \"RbPdO3\", \"CaHfO3\", \"TlWO3\", \"RbWO3\", \"RbPtO3\", \"KPdO3\", \"SrPtO3\", \"SrZnO3\", \"BaWO3\", \"CaCuO3\", \"BaZnO3\", \"RbRuO3\", \"RbMoO3\", \"CaZrO3\", \"KScO3\", \"BaCdO3\", \"TiCdO3\", \"SrWO3\", \"BaAuO3\", \"YNiO3\", \"CsIrO3\", \"LiRuO3\", \"KVO3\", \"BaCoO3\", \"YCuO3\", \"YCoO3\", \"CaZnO3\", \"CsPdO3\", \"TiHgO3\", \"CaScO3\", \"CsOsO3\", \"CaOsO3\", \"RbYO3\", \"CsNbO3\", \"CsTaO3\", \"CaRhO3\", \"RbFeO3\", \"NaPdO3\", \"KYO3\", \"SrAuO3\", \"SrHgO3\", \"KMnO3\", \"HfCdO3\", \"MnCdO3\", \"VCdO3\", \"VHgO3\", \"NaCrO3\", \"HfHgO3\", \"HgRuO3\", \"YMnO3\", \"YTiO3\", \"YCrO3\", \"LiFeO3\", \"CaIrO3\", \"CsTiO3\", \"TlCuO3\", \"HgOsO3\", \"NaNiO3\", \"CuHgO3\", \"KAgO3\", \"PbAuO3\", \"SnHgO3\", \"AlAgO3\", \"YFeO3\", \"ZrCdO3\", \"FeAgO3\", \"CdRuO3\", \"BiMoO3\", \"RbHgO3\", \"ZrHgO3\", \"RbAgO3\", \"RbVO3\", \"CdOsO3\", \"KAuO3\", \"CsMoO3\", \"CsRuO3\", \"KCoO3\", \"RbAuO3\", \"KCrO3\", \"RbCdO3\", \"KCdO3\", \"NaAgO3\", \"NaCoO3\", \"NaZnO3\", \"HgIrO3\", \"SbAuO3\", \"RbZnO3\", \"RbNiO3\", \"HgRhO3\", \"LiCrO3\", \"RbMnO3\", \"CsCdO3\", \"RbCuO3\", \"CdRhO3\", \"KZnO3\", \"CsAuO3\", \"MgTiO3\", \"MgFeO3\", \"NaCdO3\", \"CaHgO3\", \"CdIrO3\", \"InOsO3\", \"LiYO3\", \"NbFeO3\", \"CaYO3\", \"SiAgO3\", \"TaFeO3\", \"MgMnO3\", \"SiHgO3\", \"MgCuO3\", \"LiNiO3\", \"SbPdO3\", \"InCuO3\", \"RbCrO3\", \"MgHgO3\", \"MgVO3\", \"BeCdO3\", \"VCoO3\", \"VZnO3\", \"LiCdO3\", \"TiZnO3\", \"TiCuO3\", \"ScCoO3\", \"BiPtO3\", \"MgCoO3\", \"YMoO3\", \"MnZnO3\", \"ZnOsO3\", \"ScCuO3\", \"AlAuO3\", \"CrCuO3\", \"YAgO3\", \"BeHgO3\", \"TlHgO3\", \"ZnCuO3\", \"CoAuO3\", \"TePdO3\", \"CrTcO3\", \"MgRuO3\", \"MgMoO3\", \"MgOsO3\", \"BeAgO3\", \"MgReO3\", \"GePdO3\", \"MgZrO3\", \"CoMoO3\", \"HfZnO3\", \"MgZnO3\", \"SiPdO3\", \"MgRhO3\", \"CuPdO3\", \"ScVO3\", \"ZrTiO3\", \"YOsO3\", \"ZrZnO3\", \"ZnRhO3\", \"BeZnO3\", \"ZnIrO3\", \"InPtO3\", \"MgIrO3\", \"ZnAuO3\", \"YWO3\", \"ScPdO3\", \"BePdO3\", \"AlVO3\", \"AlNiO3\", \"NiMoO3\", \"CoRhO3\"], \"y\": [0, 0, 0, 0, 0, 0, 0, 0, 0, 0.000882217999999213, 0.009568164875000562, 0.012912933999992049, 0.014601897500000405, 0.023880135000009517, 0.02588665849999927, 0.03218881879999991, 0.032961875000001584, 0.035054968499999895, 0.035974791958333974, 0.03723231714285813, 0.037396135500003425, 0.03788947374999729, 0.0380674330000037, 0.03861854957142263, 0.039203620000010986, 0.04032233000000218, 0.0414840639999996, 0.041774871600004815, 0.046183698500001036, 0.05216096349999777, 0.05508322750000083, 0.055926283695651335, 0.05665698100001748, 0.0586556319860998, 0.059249466000006024, 0.06312991274999824, 0.06447128150000125, 0.06520865262499953, 0.06527291791666645, 0.07011863874999946, 0.07027808349999809, 0.07794870799999742, 0.07894813758333363, 0.0827236650000005, 0.0839918569090905, 0.0843781879999872, 0.08456636424999786, 0.08723388099999774, 0.08835162867500124, 0.08843607424999167, 0.08873023299999883, 0.09117577574999736, 0.09499668624999913, 0.09691571972727342, 0.09833247362963249, 0.0993174252666611, 0.10508193049999726, 0.10552783725001369, 0.1064126840000057, 0.10851050900000025, 0.11303347499999994, 0.11490964846510998, 0.11775246493750036, 0.11810790000000182, 0.11938604316666535, 0.12423250300000088, 0.12612266499999958, 0.12614001513333584, 0.13580388100000462, 0.14179081199999644, 0.14191423800000091, 0.1425442137500026, 0.14292753937499825, 0.1466208092352952, 0.15184324949999795, 0.15277174399999982, 0.1543113860000016, 0.15493013733333427, 0.1558609073333317, 0.15740757000000105, 0.1581163013333322, 0.15975899574999985, 0.16231580399999945, 0.1641601968333326, 0.1645825311250011, 0.16865455200000046, 0.1799572872499997, 0.19183317524999577, 0.19190157250000084, 0.19567250083333398, 0.19725303800000038, 0.19823604299999964, 0.199436746444416, 0.20524483500000112, 0.2099519154999978, 0.21023699583333233, 0.2147965309750024, 0.21690222900000045, 0.22176297600000083, 0.22206072063636206, 0.23033052950000688, 0.23468275975000097, 0.23584165699999993, 0.23603125000000347, 0.23811505337500094, 0.241024331909089, 0.24487290119999905, 0.24889340537500004, 0.25199686275000044, 0.25341476204545543, 0.25708098000000046, 0.25794452600000195, 0.26044224124999804, 0.26319552458333373, 0.2717218329999982, 0.27331328774999974, 0.27868774775000027, 0.2803344825000025, 0.28219929266666544, 0.2852663065000005, 0.28763265200001165, 0.29644555588889165, 0.29905115799999926, 0.30147249049999036, 0.3019567264999985, 0.3027160442500243, 0.30330930349999896, 0.3063941497, 0.30639546000000006, 0.3067170846666665, 0.3099624594999959, 0.3148475884999993, 0.31655720475000404, 0.3227713701250021, 0.3253447787499981, 0.3294768926666656, 0.3388109505000001, 0.3398094532954552, 0.34055694487499366, 0.34487334649999646, 0.34540158662500353, 0.3503468709999975, 0.3510387281666656, 0.3515368514999997, 0.35172599000000204, 0.35256425574999906, 0.3573852454999997, 0.3595717660000046, 0.3611940707499999, 0.37244897650000564, 0.37825283774999896, 0.3814342625, 0.3903206787499993, 0.390398377000003, 0.3908795480000009, 0.39095161399999956, 0.392548979749999, 0.39307589844999935, 0.3998834819999999, 0.40197515449999965, 0.40221379483332864, 0.4065542279999965, 0.40811915899999995, 0.4093161734999997, 0.4093615643333415, 0.4123854022812594, 0.42109283200000025, 0.4239368597499995, 0.4240888640000007, 0.4364480739999994, 0.4551229417500009, 0.4554779789999994, 0.4578845713750006, 0.4627691339999993, 0.46311277174999876, 0.46319859100000826, 0.4671484177500007, 0.4690018289464275, 0.47157315608333406, 0.47556204174999994, 0.48158028900000804, 0.49047448750000733, 0.49114127600000046, 0.49427371949999976, 0.4967471433749999, 0.5000794055454572, 0.5066664857500038, 0.5074102180000013, 0.5075693690000032, 0.5092032072499997, 0.5105942759999991, 0.5135986467499993, 0.5157359705000033, 0.5241475830000129, 0.5266109771428562, 0.536665202833337, 0.5419573265000004, 0.5458620058750032, 0.5484207966250025, 0.5498234308750032, 0.5548863764999865, 0.5611383420000058, 0.5631186020000003, 0.5632505270000001, 0.5752129526363623, 0.5815415029999969, 0.5830196154999978, 0.6000384682499993, 0.6031630521250015, 0.606307099875, 0.6154238686666709, 0.6202237412499967, 0.6305895350000004, 0.6338548410000051, 0.637967645500007, 0.6485269100000046, 0.6495187384999994, 0.6516945938571448, 0.6619779759999993, 0.6674341285000001, 0.671147929, 0.6870172384999975, 0.7025471657500004, 0.712775812000003, 0.7167632360000011, 0.7189750189999966, 0.7214540362499999, 0.7219264145000004, 0.7346429323749977, 0.7579582725000016, 0.7623651620000107, 0.7626201267499981, 0.7630904089999797, 0.7702423624374966, 0.7836997629999809, 0.7897293113749999, 0.8120642075000113, 0.8200575807500012, 0.8275864959999994, 0.8549662145000045, 0.86951488062879, 1.0744297244999998, 1.286949787499995]}, {\"mode\": \"markers\", \"name\": \"DHf\", \"type\": \"scatter\", \"x\": [\"SrTcO3\", \"BaFeO3\", \"BaMoO3\", \"KTaO3\", \"BaZrO3\", \"SrFeO3\", \"KTcO3\", \"NaTcO3\", \"BaHfO3\", \"SrTiO3\", \"SrCuO3\", \"KNbO3\", \"NaTaO3\", \"BaScO3\", \"BaPdO3\", \"BaTaO3\", \"SrHfO3\", \"NaOsO3\", \"TlTcO3\", \"KReO3\", \"SrRuO3\", \"KHfO3\", \"SrVO3\", \"KOsO3\", \"TaAgO3\", \"SrNiO3\", \"RbIrO3\", \"NaReO3\", \"SrMnO3\", \"CaFeO3\", \"SrZrO3\", \"NaWO3\", \"RbTaO3\", \"SrCoO3\", \"SrTaO3\", \"KZrO3\", \"CaTiO3\", \"NaRuO3\", \"LiTcO3\", \"SrPdO3\", \"KWO3\", \"KRhO3\", \"BaCuO3\", \"RbNbO3\", \"BaOsO3\", \"BaRuO3\", \"KRuO3\", \"SrMoO3\", \"NaTiO3\", \"SrScO3\", \"RbOsO3\", \"SrRhO3\", \"NaMoO3\", \"SrOsO3\", \"BaRhO3\", \"BaPtO3\", \"CaVO3\", \"KMoO3\", \"SrCrO3\", \"SrAgO3\", \"RbRhO3\", \"BaVO3\", \"CaCoO3\", \"CaMnO3\", \"KPtO3\", \"BaNiO3\", \"BaMnO3\", \"SrReO3\", \"BaReO3\", \"SrIrO3\", \"NaVO3\", \"NaFeO3\", \"BaIrO3\", \"RbReO3\", \"CaRuO3\", \"RbPdO3\", \"CaHfO3\", \"TlWO3\", \"RbWO3\", \"RbPtO3\", \"KPdO3\", \"SrPtO3\", \"SrZnO3\", \"BaWO3\", \"CaCuO3\", \"BaZnO3\", \"RbRuO3\", \"RbMoO3\", \"CaZrO3\", \"KScO3\", \"BaCdO3\", \"TiCdO3\", \"SrWO3\", \"BaAuO3\", \"YNiO3\", \"CsIrO3\", \"LiRuO3\", \"KVO3\", \"BaCoO3\", \"YCuO3\", \"YCoO3\", \"CaZnO3\", \"CsPdO3\", \"TiHgO3\", \"CaScO3\", \"CsOsO3\", \"CaOsO3\", \"RbYO3\", \"CsNbO3\", \"CsTaO3\", \"CaRhO3\", \"RbFeO3\", \"NaPdO3\", \"KYO3\", \"SrAuO3\", \"SrHgO3\", \"KMnO3\", \"HfCdO3\", \"MnCdO3\", \"VCdO3\", \"VHgO3\", \"NaCrO3\", \"HfHgO3\", \"HgRuO3\", \"YMnO3\", \"YTiO3\", \"YCrO3\", \"LiFeO3\", \"CaIrO3\", \"CsTiO3\", \"TlCuO3\", \"HgOsO3\", \"NaNiO3\", \"CuHgO3\", \"KAgO3\", \"PbAuO3\", \"SnHgO3\", \"AlAgO3\", \"YFeO3\", \"ZrCdO3\", \"FeAgO3\", \"CdRuO3\", \"BiMoO3\", \"RbHgO3\", \"ZrHgO3\", \"RbAgO3\", \"RbVO3\", \"CdOsO3\", \"KAuO3\", \"CsMoO3\", \"CsRuO3\", \"KCoO3\", \"RbAuO3\", \"KCrO3\", \"RbCdO3\", \"KCdO3\", \"NaAgO3\", \"NaCoO3\", \"NaZnO3\", \"HgIrO3\", \"SbAuO3\", \"RbZnO3\", \"RbNiO3\", \"HgRhO3\", \"LiCrO3\", \"RbMnO3\", \"CsCdO3\", \"RbCuO3\", \"CdRhO3\", \"KZnO3\", \"CsAuO3\", \"MgTiO3\", \"MgFeO3\", \"NaCdO3\", \"CaHgO3\", \"CdIrO3\", \"InOsO3\", \"LiYO3\", \"NbFeO3\", \"CaYO3\", \"SiAgO3\", \"TaFeO3\", \"MgMnO3\", \"SiHgO3\", \"MgCuO3\", \"LiNiO3\", \"SbPdO3\", \"InCuO3\", \"RbCrO3\", \"MgHgO3\", \"MgVO3\", \"BeCdO3\", \"VCoO3\", \"VZnO3\", \"LiCdO3\", \"TiZnO3\", \"TiCuO3\", \"ScCoO3\", \"BiPtO3\", \"MgCoO3\", \"YMoO3\", \"MnZnO3\", \"ZnOsO3\", \"ScCuO3\", \"AlAuO3\", \"CrCuO3\", \"YAgO3\", \"BeHgO3\", \"TlHgO3\", \"ZnCuO3\", \"CoAuO3\", \"TePdO3\", \"CrTcO3\", \"MgRuO3\", \"MgMoO3\", \"MgOsO3\", \"BeAgO3\", \"MgReO3\", \"GePdO3\", \"MgZrO3\", \"CoMoO3\", \"HfZnO3\", \"MgZnO3\", \"SiPdO3\", \"MgRhO3\", \"CuPdO3\", \"ScVO3\", \"ZrTiO3\", \"YOsO3\", \"ZrZnO3\", \"ZnRhO3\", \"BeZnO3\", \"ZnIrO3\", \"InPtO3\", \"MgIrO3\", \"ZnAuO3\", \"YWO3\", \"ScPdO3\", \"BePdO3\", \"AlVO3\", \"AlNiO3\", \"NiMoO3\", \"CoRhO3\"], \"y\": [-2.5301085089999993, -2.2629687819999993, -2.610794782000001, -3.1067656696, -3.7227805190000005, -2.3444722829999995, -2.0765819295999997, -2.0784385166, -3.8083502879999998, -3.5731536676000006, -1.7700747194000002, -2.8680442455999993, -3.0837406566, -3.2224652930000004, -1.7082501424, -3.288032347999999, -3.8044959890000003, -1.6488292266000002, -1.5791314919999997, -2.1138925115999996, -2.204082004, -2.9741492096, -2.893789284, -1.6584602395999994, -2.4159249234, -1.6825189214000003, -1.2151669779999998, -2.1050568986, -2.4600002176, -2.301252522400001, -3.70175882, -2.1057209286000003, -3.0071120289999995, -1.9971254509999998, -3.300782649, -2.8877798406000004, -3.5142429070000007, -1.6083060115999999, -2.018032353, -1.7133794433999996, -2.1335143415999993, -1.2450021445999995, -1.6840208183999998, -2.782071004999999, -2.058841918, -2.161894102999999, -1.6104416246, -2.617047683, -2.6677044752, -3.2034967940000003, -1.5500433990000004, -1.9829367239999995, -2.1480686905999993, -2.0894590190000004, -1.9535884229999994, -1.7249424624, -2.8469601234000006, -2.1654437036000003, -2.5598195610000003, -1.4597107434, -1.159891703999999, -2.8041755829999997, -1.9712016903999998, -2.4311838570000006, -0.9867995839999999, -1.6078392204, -2.3620931165999997, -2.422482291, -2.3894777899999995, -1.8955047980000004, -2.257659291599999, -1.422032090599999, -1.8733150970000003, -2.0015508710000005, -2.1247250434000007, -0.8172402233999996, -3.6924060284000007, -1.6400991040000001, -2.038337100999999, -0.9193067434, -0.8790866639999997, -1.7213377633999998, -1.885562498, -2.461696819999999, -1.7321087588000004, -1.8588163969999996, -1.5030499839999991, -2.065184063, -3.579505059400001, -2.3644096145999995, -1.6597696760000005, -2.4985389756000003, -2.454332721, -1.5050595789999996, -2.200916500400001, -1.0622546066000005, -1.5475726479999992, -2.2140683046000005, -1.9029897500000001, -2.2491138983999988, -2.45335103, -1.8161083374, -0.7318630519999999, -2.1296273655999998, -3.0863544333999995, -1.3565700276000001, -2.0002592584, -2.3205258279999996, -2.6138638335999986, -2.813884257599999, -1.8981511634000001, -1.269711662999999, -0.8240532509999994, -2.3255516685999993, -1.4775118800000002, -1.3731931670000002, -1.4878648381999995, -2.6983236969999993, -1.4235481256, -1.836696592000001, -1.5049735820000005, -1.7393653685999997, -2.3815282869999996, -0.8873783020000005, -2.7470885966, -3.3962478465999992, -2.9088869399999995, -1.3762407269999997, -1.8027878373999997, -2.3920788762000003, -0.6703837024000002, -0.8708355170000004, -0.6758085290000001, -0.36045061739999973, -0.5494523640000001, -0.6679185913999994, -1.1804864298000006, -1.6342362678, -2.6319014619999996, -2.585314327999999, -0.7996999573999996, -1.144278912, -1.5086790796000007, -0.4912683470000001, -2.2771331179999996, -0.5025751234000001, -2.0735596639999994, -1.0627437270000002, -0.6130393006000002, -1.8847956916000004, -1.3238586126, -1.1148242715999994, -0.5712032599999997, -1.6979797815999997, -0.7486123569999996, -0.7593781976000002, -0.47554515099999967, -1.1592916585999997, -0.9187481055999995, -0.6066384960000001, -0.8979657540000006, -0.8089884779999998, -0.5712993014, -0.628120822, -1.6992462049999997, -1.3980033975999995, -0.7284823856000002, -0.6809326993999996, -0.9122552319999997, -0.8896101185999996, -0.5092592885999998, -2.9360493973999993, -1.7501396127999995, -0.6402377846000004, -1.2270256064000002, -0.844002906, -1.1641426002000004, -2.2925498919999994, -1.9926446389999988, -2.8880616873999996, -1.6850944811999995, -2.2182088629999988, -1.8968797473999999, -1.7265645048000002, -1.1930212492000003, -0.6337669654, -0.9161059174000001, -0.9255151005999999, -1.577006741, -0.9710930968000007, -2.2804844138000004, -1.2892353230000004, -1.509168666, -1.687829313, -0.7158020210000003, -2.2990766965999994, -1.9528555179999998, -2.1013583759999994, -0.78081556, -1.4419625808000003, -2.441490662, -1.2651574466, -0.979084648, -1.8544870443999997, -1.4128310044000003, -1.0500618114000002, -1.6640969224000002, -0.9038713130000005, -0.19873074999999965, -0.5648671483999997, -0.29048726199999947, -0.5989577173999997, -1.489570601, -1.5324937337999998, -1.9084252128000005, -1.4028463488, -0.7973362893999998, -1.7576656208000003, -0.9458693574000001, -2.947979149799999, -1.197293665, -2.4596776179999993, -1.2465776278, -1.5807547811999996, -1.3065594537999998, -0.15169509380000007, -2.541328409, -2.7547586185999995, -1.8825345979999994, -2.3424308489999994, -0.7505331530000007, -1.207645444, -0.7168210270000003, -0.7626973446, -1.2012515278000002, -0.16150450900000024, -2.1635318999999997, -1.5520325683999991, -0.8718689894, -2.2762476083999994, -1.3185824458000002, -0.8179507354000002, -0.5386713059999997]}, {\"mode\": \"markers\", \"name\": \"DHf_ref\", \"type\": \"scatter\", \"x\": [\"SrTcO3\", \"BaFeO3\", \"BaMoO3\", \"KTaO3\", \"BaZrO3\", \"SrFeO3\", \"KTcO3\", \"NaTcO3\", \"BaHfO3\", \"SrTiO3\", \"SrCuO3\", \"KNbO3\", \"NaTaO3\", \"BaScO3\", \"BaPdO3\", \"BaTaO3\", \"SrHfO3\", \"NaOsO3\", \"TlTcO3\", \"KReO3\", \"SrRuO3\", \"KHfO3\", \"SrVO3\", \"KOsO3\", \"TaAgO3\", \"SrNiO3\", \"RbIrO3\", \"NaReO3\", \"SrMnO3\", \"CaFeO3\", \"SrZrO3\", \"NaWO3\", \"RbTaO3\", \"SrCoO3\", \"SrTaO3\", \"KZrO3\", \"CaTiO3\", \"NaRuO3\", \"LiTcO3\", \"SrPdO3\", \"KWO3\", \"KRhO3\", \"BaCuO3\", \"RbNbO3\", \"BaOsO3\", \"BaRuO3\", \"KRuO3\", \"SrMoO3\", \"NaTiO3\", \"SrScO3\", \"RbOsO3\", \"SrRhO3\", \"NaMoO3\", \"SrOsO3\", \"BaRhO3\", \"BaPtO3\", \"CaVO3\", \"KMoO3\", \"SrCrO3\", \"SrAgO3\", \"RbRhO3\", \"BaVO3\", \"CaCoO3\", \"CaMnO3\", \"KPtO3\", \"BaNiO3\", \"BaMnO3\", \"SrReO3\", \"BaReO3\", \"SrIrO3\", \"NaVO3\", \"NaFeO3\", \"BaIrO3\", \"RbReO3\", \"CaRuO3\", \"RbPdO3\", \"CaHfO3\", \"TlWO3\", \"RbWO3\", \"RbPtO3\", \"KPdO3\", \"SrPtO3\", \"SrZnO3\", \"BaWO3\", \"CaCuO3\", \"BaZnO3\", \"RbRuO3\", \"RbMoO3\", \"CaZrO3\", \"KScO3\", \"BaCdO3\", \"TiCdO3\", \"SrWO3\", \"BaAuO3\", \"YNiO3\", \"CsIrO3\", \"LiRuO3\", \"KVO3\", \"BaCoO3\", \"YCuO3\", \"YCoO3\", \"CaZnO3\", \"CsPdO3\", \"TiHgO3\", \"CaScO3\", \"CsOsO3\", \"CaOsO3\", \"RbYO3\", \"CsNbO3\", \"CsTaO3\", \"CaRhO3\", \"RbFeO3\", \"NaPdO3\", \"KYO3\", \"SrAuO3\", \"SrHgO3\", \"KMnO3\", \"HfCdO3\", \"MnCdO3\", \"VCdO3\", \"VHgO3\", \"NaCrO3\", \"HfHgO3\", \"HgRuO3\", \"YMnO3\", \"YTiO3\", \"YCrO3\", \"LiFeO3\", \"CaIrO3\", \"CsTiO3\", \"TlCuO3\", \"HgOsO3\", \"NaNiO3\", \"CuHgO3\", \"KAgO3\", \"PbAuO3\", \"SnHgO3\", \"AlAgO3\", \"YFeO3\", \"ZrCdO3\", \"FeAgO3\", \"CdRuO3\", \"BiMoO3\", \"RbHgO3\", \"ZrHgO3\", \"RbAgO3\", \"RbVO3\", \"CdOsO3\", \"KAuO3\", \"CsMoO3\", \"CsRuO3\", \"KCoO3\", \"RbAuO3\", \"KCrO3\", \"RbCdO3\", \"KCdO3\", \"NaAgO3\", \"NaCoO3\", \"NaZnO3\", \"HgIrO3\", \"SbAuO3\", \"RbZnO3\", \"RbNiO3\", \"HgRhO3\", \"LiCrO3\", \"RbMnO3\", \"CsCdO3\", \"RbCuO3\", \"CdRhO3\", \"KZnO3\", \"CsAuO3\", \"MgTiO3\", \"MgFeO3\", \"NaCdO3\", \"CaHgO3\", \"CdIrO3\", \"InOsO3\", \"LiYO3\", \"NbFeO3\", \"CaYO3\", \"SiAgO3\", \"TaFeO3\", \"MgMnO3\", \"SiHgO3\", \"MgCuO3\", \"LiNiO3\", \"SbPdO3\", \"InCuO3\", \"RbCrO3\", \"MgHgO3\", \"MgVO3\", \"BeCdO3\", \"VCoO3\", \"VZnO3\", \"LiCdO3\", \"TiZnO3\", \"TiCuO3\", \"ScCoO3\", \"BiPtO3\", \"MgCoO3\", \"YMoO3\", \"MnZnO3\", \"ZnOsO3\", \"ScCuO3\", \"AlAuO3\", \"CrCuO3\", \"YAgO3\", \"BeHgO3\", \"TlHgO3\", \"ZnCuO3\", \"CoAuO3\", \"TePdO3\", \"CrTcO3\", \"MgRuO3\", \"MgMoO3\", \"MgOsO3\", \"BeAgO3\", \"MgReO3\", \"GePdO3\", \"MgZrO3\", \"CoMoO3\", \"HfZnO3\", \"MgZnO3\", \"SiPdO3\", \"MgRhO3\", \"CuPdO3\", \"ScVO3\", \"ZrTiO3\", \"YOsO3\", \"ZrZnO3\", \"ZnRhO3\", \"BeZnO3\", \"ZnIrO3\", \"InPtO3\", \"MgIrO3\", \"ZnAuO3\", \"YWO3\", \"ScPdO3\", \"BePdO3\", \"AlVO3\", \"AlNiO3\", \"NiMoO3\", \"CoRhO3\"], \"y\": [-2.4626036060833334, -2.2480323367499992, -2.59231404075, -3.0867893873499996, -3.6482091047499994, -2.3282499660833325, -1.9958626933499992, -1.98713690975, -3.79574822875, -3.5606248020833333, -1.7471770100833333, -2.8525854053499997, -3.0652973277499997, -3.216289175749999, -1.69514817875, -3.2800992907500004, -3.789170590083333, -1.6305793697499993, -1.51313473875, -2.0959315023499996, -2.1399693060833327, -2.9555707693499995, -2.885087014083333, -1.6385515753500002, -2.4053730554166664, -1.6983840170833333, -1.2145960842499997, -2.0883475987500004, -2.462435511206368, -2.28230765175, -3.6163422900833324, -2.1050147117499995, -2.9866736902499995, -1.9799518740833335, -3.2904685660833337, -2.807517265349999, -3.5021084617499993, -1.53366497775, -1.9206438480833328, -1.687524540083333, -2.12966082335, -1.1830900493500003, -1.6723442347499997, -2.7654917982499994, -2.0446720487500003, -2.11261841275, -1.546275023349999, -2.5883968040833336, -2.65497346175, -3.1963191950833334, -1.5294291002500002, -1.9437976020833332, -2.09580037975, -2.0761363520833327, -1.9287676307500008, -1.7215968307499998, -2.83837679775, -2.12173052335, -2.5476941140833325, -1.3968495207499998, -1.1230094362500005, -2.7963608667500006, -1.9437682787499995, -2.430397001873034, -0.9641087753499995, -1.6295501927499998, -2.3680057728730346, -2.410391581083334, -2.38101250375, -1.901858092083333, -2.2456144477499995, -1.403317935749999, -1.8890124227499996, -1.9831233832500004, -2.0718626537500007, -0.7839669622499997, -3.6770269277500005, -1.6360830107499993, -2.0327239182500003, -0.8981398962500002, -0.83950673135, -1.710095268083333, -1.8808981170833328, -2.45553588875, -1.7073429497500001, -1.8534158597499997, -1.447602272249999, -2.0278735282499993, -3.48867824775, -2.3494092423499993, -1.6576347247499996, -2.4932515667499997, -2.4480668800833336, -1.4641229467499997, -2.198190997416666, -1.0566181303362066, -1.467128336083333, -2.199838573350001, -1.8864377697500003, -2.2267719874166665, -2.430877182416667, -1.8113419907500004, -0.6998989983362073, -2.12943829475, -3.08047911675, -1.3321258863362062, -1.9869521997500001, -2.276622508916666, -2.591744302336207, -2.789519998336206, -1.851243339749999, -1.2692292822499993, -0.7839204877500002, -2.2808143780166668, -1.4304653600833332, -1.3666620880833336, -1.4935204274730354, -2.6899523367499993, -1.4341814648730349, -1.8024791947500005, -1.5075855187499996, -1.72601680175, -2.3772452367499994, -0.8375359907499998, -2.7228437535397005, -3.3758856674166666, -2.9082840374166663, -1.3546921040833333, -1.8058021857500002, -2.370526274336206, -0.6677820127500006, -0.8615458407499993, -0.6854175397500001, -0.3564998307499998, -0.503858560016667, -0.6120989167499993, -1.1935137927500001, -1.626278761416667, -2.603250217416666, -2.50169440675, -0.8017796654166659, -1.0826520347500002, -1.4819196187499997, -0.4841042222499993, -2.2008513387499997, -0.46308328091666695, -2.0581112742500003, -1.0549422287499994, -0.5643218513500002, -1.852917092336206, -1.279475534336207, -0.9630987983499999, -0.5247683162499996, -1.6877729233499998, -0.7387519502499998, -0.7476143673499998, -0.42410525641666724, -0.94498684275, -0.8640701207500001, -0.6189702207499999, -0.9068602237500002, -0.8902599192499998, -0.5841874142500003, -0.5915919647499998, -1.678712948083333, -1.3524766323730346, -0.7130909663362068, -0.66833136825, -0.8708096987499999, -0.8693005563499995, -0.46152036233620636, -2.9234386434166666, -1.7274028674166657, -0.6340018197500001, -1.2198285537499998, -0.85173720875, -1.1450662727499996, -2.1864160527500003, -2.015626230749999, -2.8411269224166675, -1.6663319684166666, -2.2470740867499983, -1.8931250515397011, -1.7308155857499998, -1.1712720194166664, -0.6392676040833329, -0.9216114377499999, -0.9166636267499996, -1.5696857322500002, -0.9740595074166662, -2.2709338194166677, -1.28288346975, -1.5392532597499993, -1.6862940737499996, -0.6959367280833334, -2.29339699775, -1.9453985987500004, -2.10146562475, -0.76464933675, -1.4091579564166665, -2.3968724474166665, -1.2701368638730344, -0.9685069657499994, -1.8466788857499992, -1.4096383067500007, -1.0361743127499998, -1.600610456083332, -0.9024532237499997, -0.21189162674999978, -0.5503341977499993, -0.2817920977500002, -0.6023795487500003, -1.4121983587499998, -1.4718349474166665, -1.8691788094166668, -1.3886068914166656, -0.7881843304166665, -1.7430861244166664, -0.9111350207500003, -2.8518245074166666, -1.1750378657499994, -2.45045222975, -1.241888622416667, -1.5736872657499987, -1.2508262094166667, -0.10451529475000002, -2.5317387797499995, -2.7386896647499994, -1.8646064014166668, -2.2557921297499997, -0.6997160497499998, -1.2010446387500004, -0.7190280397500004, -0.7431208747500001, -1.2039269194166664, -0.1632261037500001, -2.1470177474166663, -1.5503801877499988, -0.8599277217499995, -2.127141850750001, -1.3202964047500003, -0.6227009227499991, -0.01967899774999964]}],\n",
       "                        {\"template\": {\"data\": {\"bar\": [{\"error_x\": {\"color\": \"#2a3f5f\"}, \"error_y\": {\"color\": \"#2a3f5f\"}, \"marker\": {\"line\": {\"color\": \"#E5ECF6\", \"width\": 0.5}}, \"type\": \"bar\"}], \"barpolar\": [{\"marker\": {\"line\": {\"color\": \"#E5ECF6\", \"width\": 0.5}}, \"type\": \"barpolar\"}], \"carpet\": [{\"aaxis\": {\"endlinecolor\": \"#2a3f5f\", \"gridcolor\": \"white\", \"linecolor\": \"white\", \"minorgridcolor\": \"white\", \"startlinecolor\": \"#2a3f5f\"}, \"baxis\": {\"endlinecolor\": \"#2a3f5f\", \"gridcolor\": \"white\", \"linecolor\": \"white\", \"minorgridcolor\": \"white\", \"startlinecolor\": \"#2a3f5f\"}, \"type\": \"carpet\"}], \"choropleth\": [{\"colorbar\": {\"outlinewidth\": 0, \"ticks\": \"\"}, \"type\": \"choropleth\"}], \"contour\": [{\"colorbar\": {\"outlinewidth\": 0, \"ticks\": \"\"}, \"colorscale\": [[0.0, \"#0d0887\"], [0.1111111111111111, \"#46039f\"], [0.2222222222222222, \"#7201a8\"], [0.3333333333333333, \"#9c179e\"], [0.4444444444444444, \"#bd3786\"], [0.5555555555555556, \"#d8576b\"], [0.6666666666666666, \"#ed7953\"], [0.7777777777777778, \"#fb9f3a\"], [0.8888888888888888, \"#fdca26\"], [1.0, \"#f0f921\"]], \"type\": \"contour\"}], \"contourcarpet\": [{\"colorbar\": {\"outlinewidth\": 0, \"ticks\": \"\"}, \"type\": \"contourcarpet\"}], \"heatmap\": [{\"colorbar\": {\"outlinewidth\": 0, \"ticks\": \"\"}, \"colorscale\": [[0.0, \"#0d0887\"], [0.1111111111111111, \"#46039f\"], [0.2222222222222222, \"#7201a8\"], [0.3333333333333333, \"#9c179e\"], [0.4444444444444444, \"#bd3786\"], [0.5555555555555556, \"#d8576b\"], [0.6666666666666666, \"#ed7953\"], [0.7777777777777778, \"#fb9f3a\"], [0.8888888888888888, \"#fdca26\"], [1.0, \"#f0f921\"]], \"type\": \"heatmap\"}], \"heatmapgl\": [{\"colorbar\": {\"outlinewidth\": 0, \"ticks\": \"\"}, \"colorscale\": [[0.0, \"#0d0887\"], [0.1111111111111111, \"#46039f\"], [0.2222222222222222, \"#7201a8\"], [0.3333333333333333, \"#9c179e\"], [0.4444444444444444, \"#bd3786\"], [0.5555555555555556, \"#d8576b\"], [0.6666666666666666, \"#ed7953\"], [0.7777777777777778, \"#fb9f3a\"], [0.8888888888888888, \"#fdca26\"], [1.0, \"#f0f921\"]], \"type\": \"heatmapgl\"}], \"histogram\": [{\"marker\": {\"colorbar\": {\"outlinewidth\": 0, \"ticks\": \"\"}}, \"type\": \"histogram\"}], \"histogram2d\": [{\"colorbar\": {\"outlinewidth\": 0, \"ticks\": \"\"}, \"colorscale\": [[0.0, \"#0d0887\"], [0.1111111111111111, \"#46039f\"], [0.2222222222222222, \"#7201a8\"], [0.3333333333333333, \"#9c179e\"], [0.4444444444444444, \"#bd3786\"], [0.5555555555555556, \"#d8576b\"], [0.6666666666666666, \"#ed7953\"], [0.7777777777777778, \"#fb9f3a\"], [0.8888888888888888, \"#fdca26\"], [1.0, \"#f0f921\"]], \"type\": \"histogram2d\"}], \"histogram2dcontour\": [{\"colorbar\": {\"outlinewidth\": 0, \"ticks\": \"\"}, \"colorscale\": [[0.0, \"#0d0887\"], [0.1111111111111111, \"#46039f\"], [0.2222222222222222, \"#7201a8\"], [0.3333333333333333, \"#9c179e\"], [0.4444444444444444, \"#bd3786\"], [0.5555555555555556, \"#d8576b\"], [0.6666666666666666, \"#ed7953\"], [0.7777777777777778, \"#fb9f3a\"], [0.8888888888888888, \"#fdca26\"], [1.0, \"#f0f921\"]], \"type\": \"histogram2dcontour\"}], \"mesh3d\": [{\"colorbar\": {\"outlinewidth\": 0, \"ticks\": \"\"}, \"type\": \"mesh3d\"}], \"parcoords\": [{\"line\": {\"colorbar\": {\"outlinewidth\": 0, \"ticks\": \"\"}}, \"type\": \"parcoords\"}], \"pie\": [{\"automargin\": true, \"type\": \"pie\"}], \"scatter\": [{\"marker\": {\"colorbar\": {\"outlinewidth\": 0, \"ticks\": \"\"}}, \"type\": \"scatter\"}], \"scatter3d\": [{\"line\": {\"colorbar\": {\"outlinewidth\": 0, \"ticks\": \"\"}}, \"marker\": {\"colorbar\": {\"outlinewidth\": 0, \"ticks\": \"\"}}, \"type\": \"scatter3d\"}], \"scattercarpet\": [{\"marker\": {\"colorbar\": {\"outlinewidth\": 0, \"ticks\": \"\"}}, \"type\": \"scattercarpet\"}], \"scattergeo\": [{\"marker\": {\"colorbar\": {\"outlinewidth\": 0, \"ticks\": \"\"}}, \"type\": \"scattergeo\"}], \"scattergl\": [{\"marker\": {\"colorbar\": {\"outlinewidth\": 0, \"ticks\": \"\"}}, \"type\": \"scattergl\"}], \"scattermapbox\": [{\"marker\": {\"colorbar\": {\"outlinewidth\": 0, \"ticks\": \"\"}}, \"type\": \"scattermapbox\"}], \"scatterpolar\": [{\"marker\": {\"colorbar\": {\"outlinewidth\": 0, \"ticks\": \"\"}}, \"type\": \"scatterpolar\"}], \"scatterpolargl\": [{\"marker\": {\"colorbar\": {\"outlinewidth\": 0, \"ticks\": \"\"}}, \"type\": \"scatterpolargl\"}], \"scatterternary\": [{\"marker\": {\"colorbar\": {\"outlinewidth\": 0, \"ticks\": \"\"}}, \"type\": \"scatterternary\"}], \"surface\": [{\"colorbar\": {\"outlinewidth\": 0, \"ticks\": \"\"}, \"colorscale\": [[0.0, \"#0d0887\"], [0.1111111111111111, \"#46039f\"], [0.2222222222222222, \"#7201a8\"], [0.3333333333333333, \"#9c179e\"], [0.4444444444444444, \"#bd3786\"], [0.5555555555555556, \"#d8576b\"], [0.6666666666666666, \"#ed7953\"], [0.7777777777777778, \"#fb9f3a\"], [0.8888888888888888, \"#fdca26\"], [1.0, \"#f0f921\"]], \"type\": \"surface\"}], \"table\": [{\"cells\": {\"fill\": {\"color\": \"#EBF0F8\"}, \"line\": {\"color\": \"white\"}}, \"header\": {\"fill\": {\"color\": \"#C8D4E3\"}, \"line\": {\"color\": \"white\"}}, \"type\": \"table\"}]}, \"layout\": {\"annotationdefaults\": {\"arrowcolor\": \"#2a3f5f\", \"arrowhead\": 0, \"arrowwidth\": 1}, \"coloraxis\": {\"colorbar\": {\"outlinewidth\": 0, \"ticks\": \"\"}}, \"colorscale\": {\"diverging\": [[0, \"#8e0152\"], [0.1, \"#c51b7d\"], [0.2, \"#de77ae\"], [0.3, \"#f1b6da\"], [0.4, \"#fde0ef\"], [0.5, \"#f7f7f7\"], [0.6, \"#e6f5d0\"], [0.7, \"#b8e186\"], [0.8, \"#7fbc41\"], [0.9, \"#4d9221\"], [1, \"#276419\"]], \"sequential\": [[0.0, \"#0d0887\"], [0.1111111111111111, \"#46039f\"], [0.2222222222222222, \"#7201a8\"], [0.3333333333333333, \"#9c179e\"], [0.4444444444444444, \"#bd3786\"], [0.5555555555555556, \"#d8576b\"], [0.6666666666666666, \"#ed7953\"], [0.7777777777777778, \"#fb9f3a\"], [0.8888888888888888, \"#fdca26\"], [1.0, \"#f0f921\"]], \"sequentialminus\": [[0.0, \"#0d0887\"], [0.1111111111111111, \"#46039f\"], [0.2222222222222222, \"#7201a8\"], [0.3333333333333333, \"#9c179e\"], [0.4444444444444444, \"#bd3786\"], [0.5555555555555556, \"#d8576b\"], [0.6666666666666666, \"#ed7953\"], [0.7777777777777778, \"#fb9f3a\"], [0.8888888888888888, \"#fdca26\"], [1.0, \"#f0f921\"]]}, \"colorway\": [\"#636efa\", \"#EF553B\", \"#00cc96\", \"#ab63fa\", \"#FFA15A\", \"#19d3f3\", \"#FF6692\", \"#B6E880\", \"#FF97FF\", \"#FECB52\"], \"font\": {\"color\": \"#2a3f5f\"}, \"geo\": {\"bgcolor\": \"white\", \"lakecolor\": \"white\", \"landcolor\": \"#E5ECF6\", \"showlakes\": true, \"showland\": true, \"subunitcolor\": \"white\"}, \"hoverlabel\": {\"align\": \"left\"}, \"hovermode\": \"closest\", \"mapbox\": {\"style\": \"light\"}, \"paper_bgcolor\": \"white\", \"plot_bgcolor\": \"#E5ECF6\", \"polar\": {\"angularaxis\": {\"gridcolor\": \"white\", \"linecolor\": \"white\", \"ticks\": \"\"}, \"bgcolor\": \"#E5ECF6\", \"radialaxis\": {\"gridcolor\": \"white\", \"linecolor\": \"white\", \"ticks\": \"\"}}, \"scene\": {\"xaxis\": {\"backgroundcolor\": \"#E5ECF6\", \"gridcolor\": \"white\", \"gridwidth\": 2, \"linecolor\": \"white\", \"showbackground\": true, \"ticks\": \"\", \"zerolinecolor\": \"white\"}, \"yaxis\": {\"backgroundcolor\": \"#E5ECF6\", \"gridcolor\": \"white\", \"gridwidth\": 2, \"linecolor\": \"white\", \"showbackground\": true, \"ticks\": \"\", \"zerolinecolor\": \"white\"}, \"zaxis\": {\"backgroundcolor\": \"#E5ECF6\", \"gridcolor\": \"white\", \"gridwidth\": 2, \"linecolor\": \"white\", \"showbackground\": true, \"ticks\": \"\", \"zerolinecolor\": \"white\"}}, \"shapedefaults\": {\"line\": {\"color\": \"#2a3f5f\"}}, \"ternary\": {\"aaxis\": {\"gridcolor\": \"white\", \"linecolor\": \"white\", \"ticks\": \"\"}, \"baxis\": {\"gridcolor\": \"white\", \"linecolor\": \"white\", \"ticks\": \"\"}, \"bgcolor\": \"#E5ECF6\", \"caxis\": {\"gridcolor\": \"white\", \"linecolor\": \"white\", \"ticks\": \"\"}}, \"title\": {\"x\": 0.05}, \"xaxis\": {\"automargin\": true, \"gridcolor\": \"white\", \"linecolor\": \"white\", \"ticks\": \"\", \"title\": {\"standoff\": 15}, \"zerolinecolor\": \"white\", \"zerolinewidth\": 2}, \"yaxis\": {\"automargin\": true, \"gridcolor\": \"white\", \"linecolor\": \"white\", \"ticks\": \"\", \"title\": {\"standoff\": 15}, \"zerolinecolor\": \"white\", \"zerolinewidth\": 2}}}, \"title\": {\"text\": \"Ehull vs DHf\"}, \"xaxis\": {\"anchor\": \"y\", \"domain\": [0.0, 1.0]}, \"yaxis\": {\"anchor\": \"x\", \"domain\": [0.0, 1.0]}},\n",
       "                        {\"responsive\": true}\n",
       "                    ).then(function(){\n",
       "                            \n",
       "var gd = document.getElementById('6568343d-efee-4e15-a00a-eee7c2817025');\n",
       "var x = new MutationObserver(function (mutations, observer) {{\n",
       "        var display = window.getComputedStyle(gd).display;\n",
       "        if (!display || display === 'none') {{\n",
       "            console.log([gd, 'removed!']);\n",
       "            Plotly.purge(gd);\n",
       "            observer.disconnect();\n",
       "        }}\n",
       "}});\n",
       "\n",
       "// Listen for the removal of the full notebook cells\n",
       "var notebookContainer = gd.closest('#notebook-container');\n",
       "if (notebookContainer) {{\n",
       "    x.observe(notebookContainer, {childList: true});\n",
       "}}\n",
       "\n",
       "// Listen for the clearing of the current output cell\n",
       "var outputEl = gd.closest('.output');\n",
       "if (outputEl) {{\n",
       "    x.observe(outputEl, {childList: true});\n",
       "}}\n",
       "\n",
       "                        })\n",
       "                };\n",
       "                });\n",
       "            </script>\n",
       "        </div>"
      ]
     },
     "metadata": {},
     "output_type": "display_data"
    }
   ],
   "source": [
    "fig = make_subplots(rows=1, cols =1, shared_xaxes = True)\n",
    "\n",
    "fig.add_trace(go.Scatter(x = df_bulk['formula'], y = df_bulk['Ehull_ref'], name = 'Ehull', mode = 'markers'))\n",
    "fig.add_trace(go.Scatter(x = df_bulk['formula'], y = df_bulk['DHf'], name = 'DHf', mode = 'markers' ))\n",
    "fig.add_trace(go.Scatter(x = df_bulk['formula'], y = df_bulk['DHf_ref'], name = 'DHf_ref', mode = 'markers' ))\n",
    "\n",
    "fig.update_layout(title = 'Ehull vs DHf')\n",
    "\n",
    "# pyo.iplot(fig)\n",
    "fig.show()"
   ]
  },
  {
   "cell_type": "code",
   "execution_count": 15,
   "metadata": {},
   "outputs": [
    {
     "data": {
      "text/plain": [
       "Index(['MP_ID', 'formula', 'PREC', 'ALGO', 'ISPIN', 'IMIX', 'NELM', 'IBRION',\n",
       "       'EDIFF', 'NSW', 'ISIF', 'ENCUT', 'MAGMOM', 'ISMEAR', 'SIGMA', 'LDAU',\n",
       "       'LDAUU', 'total_E_ref', 'E_atom', 'total_E', 'cell_param', 'angle',\n",
       "       'Magm_ref', 'Mag_O_ref', 'Magm', 'Mag_O', 'tot_mag_ref', 'tot_mag',\n",
       "       'DHf_ref', 'DHf', 'Err_DHf', 'Ehull_ref', 'Eg_ref', 'Eg', 'Volume_ref',\n",
       "       'Volume', 'Err_V_percent', 'Theoretical', 'VBM', 'E_fermi', 'CBM',\n",
       "       'bgtype', 'bgpath'],\n",
       "      dtype='object')"
      ]
     },
     "execution_count": 15,
     "metadata": {},
     "output_type": "execute_result"
    }
   ],
   "source": [
    "df_bulk.columns"
   ]
  },
  {
   "cell_type": "code",
   "execution_count": 18,
   "metadata": {},
   "outputs": [
    {
     "data": {
      "application/vnd.plotly.v1+json": {
       "config": {
        "plotlyServerURL": "https://plot.ly"
       },
       "data": [
        {
         "mode": "markers",
         "name": "total_E",
         "type": "scatter",
         "x": [
          "SrTcO3",
          "BaFeO3",
          "BaMoO3",
          "KTaO3",
          "BaZrO3",
          "SrFeO3",
          "KTcO3",
          "NaTcO3",
          "BaHfO3",
          "SrTiO3",
          "SrCuO3",
          "KNbO3",
          "NaTaO3",
          "BaScO3",
          "BaPdO3",
          "BaTaO3",
          "SrHfO3",
          "NaOsO3",
          "TlTcO3",
          "KReO3",
          "SrRuO3",
          "KHfO3",
          "SrVO3",
          "KOsO3",
          "TaAgO3",
          "SrNiO3",
          "RbIrO3",
          "NaReO3",
          "SrMnO3",
          "CaFeO3",
          "SrZrO3",
          "NaWO3",
          "RbTaO3",
          "SrCoO3",
          "SrTaO3",
          "KZrO3",
          "CaTiO3",
          "NaRuO3",
          "LiTcO3",
          "SrPdO3",
          "KWO3",
          "KRhO3",
          "BaCuO3",
          "RbNbO3",
          "BaOsO3",
          "BaRuO3",
          "KRuO3",
          "SrMoO3",
          "NaTiO3",
          "SrScO3",
          "RbOsO3",
          "SrRhO3",
          "NaMoO3",
          "SrOsO3",
          "BaRhO3",
          "BaPtO3",
          "CaVO3",
          "KMoO3",
          "SrCrO3",
          "SrAgO3",
          "RbRhO3",
          "BaVO3",
          "CaCoO3",
          "CaMnO3",
          "KPtO3",
          "BaNiO3",
          "BaMnO3",
          "SrReO3",
          "BaReO3",
          "SrIrO3",
          "NaVO3",
          "NaFeO3",
          "BaIrO3",
          "RbReO3",
          "CaRuO3",
          "RbPdO3",
          "CaHfO3",
          "TlWO3",
          "RbWO3",
          "RbPtO3",
          "KPdO3",
          "SrPtO3",
          "SrZnO3",
          "BaWO3",
          "CaCuO3",
          "BaZnO3",
          "RbRuO3",
          "RbMoO3",
          "CaZrO3",
          "KScO3",
          "BaCdO3",
          "TiCdO3",
          "SrWO3",
          "BaAuO3",
          "YNiO3",
          "CsIrO3",
          "LiRuO3",
          "KVO3",
          "BaCoO3",
          "YCuO3",
          "YCoO3",
          "CaZnO3",
          "CsPdO3",
          "TiHgO3",
          "CaScO3",
          "CsOsO3",
          "CaOsO3",
          "RbYO3",
          "CsNbO3",
          "CsTaO3",
          "CaRhO3",
          "RbFeO3",
          "NaPdO3",
          "KYO3",
          "SrAuO3",
          "SrHgO3",
          "KMnO3",
          "HfCdO3",
          "MnCdO3",
          "VCdO3",
          "VHgO3",
          "NaCrO3",
          "HfHgO3",
          "HgRuO3",
          "YMnO3",
          "YTiO3",
          "YCrO3",
          "LiFeO3",
          "CaIrO3",
          "CsTiO3",
          "TlCuO3",
          "HgOsO3",
          "NaNiO3",
          "CuHgO3",
          "KAgO3",
          "PbAuO3",
          "SnHgO3",
          "AlAgO3",
          "YFeO3",
          "ZrCdO3",
          "FeAgO3",
          "CdRuO3",
          "BiMoO3",
          "RbHgO3",
          "ZrHgO3",
          "RbAgO3",
          "RbVO3",
          "CdOsO3",
          "KAuO3",
          "CsMoO3",
          "CsRuO3",
          "KCoO3",
          "RbAuO3",
          "KCrO3",
          "RbCdO3",
          "KCdO3",
          "NaAgO3",
          "NaCoO3",
          "NaZnO3",
          "HgIrO3",
          "SbAuO3",
          "RbZnO3",
          "RbNiO3",
          "HgRhO3",
          "LiCrO3",
          "RbMnO3",
          "CsCdO3",
          "RbCuO3",
          "CdRhO3",
          "KZnO3",
          "CsAuO3",
          "MgTiO3",
          "MgFeO3",
          "NaCdO3",
          "CaHgO3",
          "CdIrO3",
          "InOsO3",
          "LiYO3",
          "NbFeO3",
          "CaYO3",
          "SiAgO3",
          "TaFeO3",
          "MgMnO3",
          "SiHgO3",
          "MgCuO3",
          "LiNiO3",
          "SbPdO3",
          "InCuO3",
          "RbCrO3",
          "MgHgO3",
          "MgVO3",
          "BeCdO3",
          "VCoO3",
          "VZnO3",
          "LiCdO3",
          "TiZnO3",
          "TiCuO3",
          "ScCoO3",
          "BiPtO3",
          "MgCoO3",
          "YMoO3",
          "MnZnO3",
          "ZnOsO3",
          "ScCuO3",
          "AlAuO3",
          "CrCuO3",
          "YAgO3",
          "BeHgO3",
          "TlHgO3",
          "ZnCuO3",
          "CoAuO3",
          "TePdO3",
          "CrTcO3",
          "MgRuO3",
          "MgMoO3",
          "MgOsO3",
          "BeAgO3",
          "MgReO3",
          "GePdO3",
          "MgZrO3",
          "CoMoO3",
          "HfZnO3",
          "MgZnO3",
          "SiPdO3",
          "MgRhO3",
          "CuPdO3",
          "ScVO3",
          "ZrTiO3",
          "YOsO3",
          "ZrZnO3",
          "ZnRhO3",
          "BeZnO3",
          "ZnIrO3",
          "InPtO3",
          "MgIrO3",
          "ZnAuO3",
          "YWO3",
          "ScPdO3",
          "BePdO3",
          "AlVO3",
          "AlNiO3",
          "NiMoO3",
          "CoRhO3"
         ],
         "y": [
          -37.322174,
          -31.430283,
          -35.036352,
          -41.068797,
          -41.725654,
          -31.566454,
          -34.457037,
          -34.732044,
          -43.558491,
          -39.993901,
          -26.919581,
          -38.1603,
          -41.219396,
          -36.952047,
          -28.351462,
          -42.843981,
          -43.267873,
          -33.457163,
          -33.151618,
          -36.681892,
          -34.569767,
          -38.518635,
          -36.064785,
          -33.239594,
          -39.294269,
          -26.056929,
          -28.535619,
          -36.903438,
          -33.944695,
          -31.640592,
          -41.349199,
          -32.313805,
          -40.457388,
          -29.448763,
          -42.636386,
          -36.6818,
          -39.989584,
          -31.259107,
          -35.029002,
          -28.105762,
          -32.187048,
          -27.205669,
          -26.760658,
          -37.617293,
          -36.110353,
          -34.630174,
          -31.004061,
          -34.79627,
          -35.134875,
          -36.585858,
          -32.584369,
          -31.492846,
          -32.119595,
          -35.992092,
          -31.617451,
          -29.314066,
          -36.120876,
          -31.940746,
          -34.619374,
          -24.337859,
          -26.666976,
          -35.888063,
          -29.609381,
          -34.09085,
          -24.754501,
          -25.954877,
          -33.726506,
          -38.822345,
          -38.928669,
          -32.647953,
          -32.552355,
          -26.622473,
          -32.808351,
          -36.007043,
          -34.463219,
          -22.914421,
          -42.99766,
          -30.901805,
          -31.598021,
          -24.303896,
          -23.336794,
          -29.024696,
          -24.857385,
          -34.696811,
          -27.019988,
          -24.995001,
          -30.353962,
          -31.326307,
          -41.028167,
          -31.792918,
          -23.639023,
          -33.732522,
          -34.388644,
          -25.338108,
          -33.439945,
          -27.687156,
          -31.554429,
          -32.068676,
          -29.249431,
          -34.105805,
          -36.520919,
          -24.800351,
          -22.403634,
          -31.328128,
          -36.290383,
          -31.533101,
          -35.83633,
          -31.640146,
          -36.692356,
          -39.407348,
          -31.359155,
          -25.482006,
          -23.327351,
          -31.778416,
          -24.929023,
          -21.374958,
          -28.486514,
          -36.848706,
          -27.874129,
          -29.891016,
          -27.672565,
          -30.185323,
          -34.704893,
          -26.538107,
          -40.171165,
          -43.9004,
          -41.155739,
          -26.992505,
          -32.474605,
          -33.293981,
          -22.005455,
          -28.450833,
          -20.691597,
          -18.423319,
          -19.189063,
          -22.809136,
          -22.622163,
          -27.32243,
          -37.794628,
          -34.878671,
          -24.924764,
          -28.382446,
          -31.500965,
          -16.254689,
          -32.777929,
          -18.841536,
          -31.252992,
          -29.97021,
          -20.009156,
          -30.340464,
          -29.374104,
          -24.439753,
          -19.686835,
          -29.712671,
          -18.101245,
          -18.268215,
          -19.085251,
          -24.927814,
          -19.691533,
          -24.75548,
          -24.523516,
          -18.76387,
          -19.790186,
          -23.270625,
          -30.583716,
          -27.924066,
          -17.916694,
          -20.763226,
          -25.251133,
          -19.280119,
          -19.293214,
          -36.673252,
          -28.459663,
          -17.938237,
          -20.934357,
          -26.502138,
          -32.291303,
          -32.47812,
          -38.267765,
          -35.478707,
          -29.253344,
          -41.110476,
          -30.993965,
          -26.930381,
          -23.899186,
          -21.080378,
          -26.611618,
          -23.622576,
          -28.994665,
          -19.22933,
          -32.863133,
          -23.628391,
          -32.647684,
          -29.507424,
          -18.915047,
          -33.095955,
          -34.004484,
          -34.581168,
          -26.568623,
          -26.537821,
          -38.709513,
          -27.44292,
          -29.912659,
          -31.952883,
          -26.717562,
          -29.182659,
          -30.150818,
          -21.141735,
          -16.086975,
          -20.365982,
          -22.499902,
          -24.039877,
          -37.982627,
          -31.076698,
          -31.11803,
          -32.423901,
          -23.139373,
          -35.363134,
          -27.150352,
          -37.445173,
          -31.203502,
          -36.01622,
          -21.527333,
          -31.231205,
          -27.975832,
          -22.409414,
          -38.913721,
          -42.785197,
          -39.748498,
          -34.024998,
          -24.803267,
          -23.581186,
          -26.226973,
          -25.157287,
          -29.041559,
          -17.821425,
          -37.725668,
          -31.910268,
          -26.011596,
          -35.08902,
          -26.34919,
          -27.487986,
          -27.777521
         ]
        },
        {
         "mode": "markers",
         "name": "total_E_ref",
         "type": "scatter",
         "x": [
          "SrTcO3",
          "BaFeO3",
          "BaMoO3",
          "KTaO3",
          "BaZrO3",
          "SrFeO3",
          "KTcO3",
          "NaTcO3",
          "BaHfO3",
          "SrTiO3",
          "SrCuO3",
          "KNbO3",
          "NaTaO3",
          "BaScO3",
          "BaPdO3",
          "BaTaO3",
          "SrHfO3",
          "NaOsO3",
          "TlTcO3",
          "KReO3",
          "SrRuO3",
          "KHfO3",
          "SrVO3",
          "KOsO3",
          "TaAgO3",
          "SrNiO3",
          "RbIrO3",
          "NaReO3",
          "SrMnO3",
          "CaFeO3",
          "SrZrO3",
          "NaWO3",
          "RbTaO3",
          "SrCoO3",
          "SrTaO3",
          "KZrO3",
          "CaTiO3",
          "NaRuO3",
          "LiTcO3",
          "SrPdO3",
          "KWO3",
          "KRhO3",
          "BaCuO3",
          "RbNbO3",
          "BaOsO3",
          "BaRuO3",
          "KRuO3",
          "SrMoO3",
          "NaTiO3",
          "SrScO3",
          "RbOsO3",
          "SrRhO3",
          "NaMoO3",
          "SrOsO3",
          "BaRhO3",
          "BaPtO3",
          "CaVO3",
          "KMoO3",
          "SrCrO3",
          "SrAgO3",
          "RbRhO3",
          "BaVO3",
          "CaCoO3",
          "CaMnO3",
          "KPtO3",
          "BaNiO3",
          "BaMnO3",
          "SrReO3",
          "BaReO3",
          "SrIrO3",
          "NaVO3",
          "NaFeO3",
          "BaIrO3",
          "RbReO3",
          "CaRuO3",
          "RbPdO3",
          "CaHfO3",
          "TlWO3",
          "RbWO3",
          "RbPtO3",
          "KPdO3",
          "SrPtO3",
          "SrZnO3",
          "BaWO3",
          "CaCuO3",
          "BaZnO3",
          "RbRuO3",
          "RbMoO3",
          "CaZrO3",
          "KScO3",
          "BaCdO3",
          "TiCdO3",
          "SrWO3",
          "BaAuO3",
          "YNiO3",
          "CsIrO3",
          "LiRuO3",
          "KVO3",
          "BaCoO3",
          "YCuO3",
          "YCoO3",
          "CaZnO3",
          "CsPdO3",
          "TiHgO3",
          "CaScO3",
          "CsOsO3",
          "CaOsO3",
          "RbYO3",
          "CsNbO3",
          "CsTaO3",
          "CaRhO3",
          "RbFeO3",
          "NaPdO3",
          "KYO3",
          "SrAuO3",
          "SrHgO3",
          "KMnO3",
          "HfCdO3",
          "MnCdO3",
          "VCdO3",
          "VHgO3",
          "NaCrO3",
          "HfHgO3",
          "HgRuO3",
          "YMnO3",
          "YTiO3",
          "YCrO3",
          "LiFeO3",
          "CaIrO3",
          "CsTiO3",
          "TlCuO3",
          "HgOsO3",
          "NaNiO3",
          "CuHgO3",
          "KAgO3",
          "PbAuO3",
          "SnHgO3",
          "AlAgO3",
          "YFeO3",
          "ZrCdO3",
          "FeAgO3",
          "CdRuO3",
          "BiMoO3",
          "RbHgO3",
          "ZrHgO3",
          "RbAgO3",
          "RbVO3",
          "CdOsO3",
          "KAuO3",
          "CsMoO3",
          "CsRuO3",
          "KCoO3",
          "RbAuO3",
          "KCrO3",
          "RbCdO3",
          "KCdO3",
          "NaAgO3",
          "NaCoO3",
          "NaZnO3",
          "HgIrO3",
          "SbAuO3",
          "RbZnO3",
          "RbNiO3",
          "HgRhO3",
          "LiCrO3",
          "RbMnO3",
          "CsCdO3",
          "RbCuO3",
          "CdRhO3",
          "KZnO3",
          "CsAuO3",
          "MgTiO3",
          "MgFeO3",
          "NaCdO3",
          "CaHgO3",
          "CdIrO3",
          "InOsO3",
          "LiYO3",
          "NbFeO3",
          "CaYO3",
          "SiAgO3",
          "TaFeO3",
          "MgMnO3",
          "SiHgO3",
          "MgCuO3",
          "LiNiO3",
          "SbPdO3",
          "InCuO3",
          "RbCrO3",
          "MgHgO3",
          "MgVO3",
          "BeCdO3",
          "VCoO3",
          "VZnO3",
          "LiCdO3",
          "TiZnO3",
          "TiCuO3",
          "ScCoO3",
          "BiPtO3",
          "MgCoO3",
          "YMoO3",
          "MnZnO3",
          "ZnOsO3",
          "ScCuO3",
          "AlAuO3",
          "CrCuO3",
          "YAgO3",
          "BeHgO3",
          "TlHgO3",
          "ZnCuO3",
          "CoAuO3",
          "TePdO3",
          "CrTcO3",
          "MgRuO3",
          "MgMoO3",
          "MgOsO3",
          "BeAgO3",
          "MgReO3",
          "GePdO3",
          "MgZrO3",
          "CoMoO3",
          "HfZnO3",
          "MgZnO3",
          "SiPdO3",
          "MgRhO3",
          "CuPdO3",
          "ScVO3",
          "ZrTiO3",
          "YOsO3",
          "ZrZnO3",
          "ZnRhO3",
          "BeZnO3",
          "ZnIrO3",
          "InPtO3",
          "MgIrO3",
          "ZnAuO3",
          "YWO3",
          "ScPdO3",
          "BePdO3",
          "AlVO3",
          "AlNiO3",
          "NiMoO3",
          "CoRhO3"
         ],
         "y": [
          -37.1001156,
          -31.63242596,
          -34.93217258,
          -41.13911957,
          -41.44471339,
          -31.80402453,
          -34.18732873,
          -34.34552387,
          -43.59189315,
          -40.12465451,
          -27.26156938,
          -38.21162742,
          -41.23348333,
          -37.06988222,
          -28.30819507,
          -42.91424097,
          -43.32951538,
          -33.42945071,
          -33.02494293,
          -36.77158005,
          -34.4007133,
          -38.58243397,
          -36.2522689,
          -33.26748768,
          -39.45416802,
          -26.534219545,
          -28.62894132,
          -36.93548459,
          -34.219511535,
          -31.88429444,
          -41.05588974,
          -33.18141944,
          -40.50867621,
          -29.560554825,
          -42.73659777,
          -36.43268231,
          -40.14205429,
          -30.99193341,
          -34.60975841,
          -28.0405873,
          -33.10282594,
          -27.10135516,
          -27.11689508,
          -37.64629451,
          -36.10666193,
          -34.49344841,
          -30.85315958,
          -34.68309682,
          -35.21913956,
          -36.74054274,
          -32.59201043,
          -31.48397523,
          -31.84285645,
          -36.03449387,
          -31.63831495,
          -29.3348591,
          -36.3286993,
          -31.77068311,
          -34.8049957,
          -24.24325432,
          -26.67108722,
          -36.03812774,
          -29.68961833,
          -34.36930047,
          -24.73884694,
          -26.41954,
          -33.97685242,
          -38.92296275,
          -39.00555694,
          -32.77419854,
          -32.67764782,
          -26.80210613,
          -32.93945977,
          -36.07767458,
          -34.37016152,
          -22.81385223,
          -43.07877855,
          -31.88619085,
          -32.48827654,
          -24.27913767,
          -23.22141595,
          -29.04786171,
          -25.09042885,
          -35.54077315,
          -27.37238056,
          -25.18250714,
          -30.22993095,
          -31.17153326,
          -40.72755101,
          -31.92691067,
          -23.85034364,
          -34.00450986,
          -35.27393853,
          -25.25046351,
          -33.80984785,
          -27.75391985,
          -31.25595005,
          -32.24694439,
          -29.32247388,
          -34.43613767,
          -36.59177477,
          -25.0526297,
          -22.30838071,
          -31.58286974,
          -36.47132383,
          -31.52036266,
          -35.89855459,
          -31.56671768,
          -36.69242533,
          -39.43777605,
          -31.3311854,
          -25.79997393,
          -23.14530879,
          -31.7175419,
          -24.852686,
          -21.56341712,
          -28.79585381,
          -37.05014564,
          -28.29496283,
          -30.05595133,
          -27.97890919,
          -30.31935089,
          -34.88403638,
          -26.50269449,
          -40.29814615,
          -43.97755224,
          -41.38453872,
          -27.15567682,
          -32.60390049,
          -33.38008299,
          -22.53676606,
          -28.57568908,
          -21.09212891,
          -18.92233125,
          -19.19921721,
          -22.78396208,
          -23.00048937,
          -27.4464951,
          -37.95561919,
          -34.69937185,
          -25.31472083,
          -28.33084847,
          -31.34764602,
          -16.44168061,
          -32.59258275,
          -18.86547594,
          -31.40844302,
          -30.14524478,
          -19.94288615,
          -30.21161938,
          -29.30416556,
          -23.89720714,
          -19.6152536,
          -29.92630744,
          -18.31749301,
          -18.49166997,
          -19.00227475,
          -24.00847142,
          -19.62903062,
          -24.97390695,
          -24.67417865,
          -19.42829068,
          -20.25428935,
          -23.33709481,
          -30.67953147,
          -27.96076996,
          -18.10405639,
          -21.15839399,
          -25.33575724,
          -19.45335874,
          -19.21388213,
          -36.84613838,
          -28.7072037,
          -18.12543129,
          -21.13923093,
          -26.74031565,
          -32.44134595,
          -32.04407418,
          -38.65272964,
          -35.40816841,
          -29.32457596,
          -41.56644116,
          -31.2803739,
          -27.11809401,
          -24.28945909,
          -21.45807908,
          -26.65054012,
          -24.17120494,
          -29.20600661,
          -19.50781888,
          -33.08891759,
          -23.7970294,
          -33.06793667,
          -29.82828355,
          -19.03180568,
          -33.35849484,
          -34.45824891,
          -34.81111143,
          -26.51756718,
          -26.6139999,
          -38.50206844,
          -27.82799765,
          -30.06632629,
          -32.40206661,
          -26.80464531,
          -29.65712211,
          -30.0386524,
          -21.29230441,
          -16.46173648,
          -20.84733467,
          -22.65415623,
          -24.06868202,
          -37.79865558,
          -30.96745617,
          -30.99442151,
          -32.50426123,
          -23.24985998,
          -35.49385013,
          -27.08667008,
          -37.14071549,
          -31.16113867,
          -36.20590293,
          -21.80279604,
          -31.20531033,
          -27.92653293,
          -22.53526649,
          -39.12851558,
          -42.8731982,
          -39.75343752,
          -33.82311829,
          -24.83354682,
          -23.74109307,
          -26.43002763,
          -25.27519222,
          -29.19195734,
          -18.08646907,
          -38.54528627,
          -31.99785339,
          -25.95253482,
          -34.51863766,
          -26.69987606,
          -26.78095796,
          -25.40821875
         ]
        }
       ],
       "layout": {
        "template": {
         "data": {
          "bar": [
           {
            "error_x": {
             "color": "#2a3f5f"
            },
            "error_y": {
             "color": "#2a3f5f"
            },
            "marker": {
             "line": {
              "color": "#E5ECF6",
              "width": 0.5
             }
            },
            "type": "bar"
           }
          ],
          "barpolar": [
           {
            "marker": {
             "line": {
              "color": "#E5ECF6",
              "width": 0.5
             }
            },
            "type": "barpolar"
           }
          ],
          "carpet": [
           {
            "aaxis": {
             "endlinecolor": "#2a3f5f",
             "gridcolor": "white",
             "linecolor": "white",
             "minorgridcolor": "white",
             "startlinecolor": "#2a3f5f"
            },
            "baxis": {
             "endlinecolor": "#2a3f5f",
             "gridcolor": "white",
             "linecolor": "white",
             "minorgridcolor": "white",
             "startlinecolor": "#2a3f5f"
            },
            "type": "carpet"
           }
          ],
          "choropleth": [
           {
            "colorbar": {
             "outlinewidth": 0,
             "ticks": ""
            },
            "type": "choropleth"
           }
          ],
          "contour": [
           {
            "colorbar": {
             "outlinewidth": 0,
             "ticks": ""
            },
            "colorscale": [
             [
              0,
              "#0d0887"
             ],
             [
              0.1111111111111111,
              "#46039f"
             ],
             [
              0.2222222222222222,
              "#7201a8"
             ],
             [
              0.3333333333333333,
              "#9c179e"
             ],
             [
              0.4444444444444444,
              "#bd3786"
             ],
             [
              0.5555555555555556,
              "#d8576b"
             ],
             [
              0.6666666666666666,
              "#ed7953"
             ],
             [
              0.7777777777777778,
              "#fb9f3a"
             ],
             [
              0.8888888888888888,
              "#fdca26"
             ],
             [
              1,
              "#f0f921"
             ]
            ],
            "type": "contour"
           }
          ],
          "contourcarpet": [
           {
            "colorbar": {
             "outlinewidth": 0,
             "ticks": ""
            },
            "type": "contourcarpet"
           }
          ],
          "heatmap": [
           {
            "colorbar": {
             "outlinewidth": 0,
             "ticks": ""
            },
            "colorscale": [
             [
              0,
              "#0d0887"
             ],
             [
              0.1111111111111111,
              "#46039f"
             ],
             [
              0.2222222222222222,
              "#7201a8"
             ],
             [
              0.3333333333333333,
              "#9c179e"
             ],
             [
              0.4444444444444444,
              "#bd3786"
             ],
             [
              0.5555555555555556,
              "#d8576b"
             ],
             [
              0.6666666666666666,
              "#ed7953"
             ],
             [
              0.7777777777777778,
              "#fb9f3a"
             ],
             [
              0.8888888888888888,
              "#fdca26"
             ],
             [
              1,
              "#f0f921"
             ]
            ],
            "type": "heatmap"
           }
          ],
          "heatmapgl": [
           {
            "colorbar": {
             "outlinewidth": 0,
             "ticks": ""
            },
            "colorscale": [
             [
              0,
              "#0d0887"
             ],
             [
              0.1111111111111111,
              "#46039f"
             ],
             [
              0.2222222222222222,
              "#7201a8"
             ],
             [
              0.3333333333333333,
              "#9c179e"
             ],
             [
              0.4444444444444444,
              "#bd3786"
             ],
             [
              0.5555555555555556,
              "#d8576b"
             ],
             [
              0.6666666666666666,
              "#ed7953"
             ],
             [
              0.7777777777777778,
              "#fb9f3a"
             ],
             [
              0.8888888888888888,
              "#fdca26"
             ],
             [
              1,
              "#f0f921"
             ]
            ],
            "type": "heatmapgl"
           }
          ],
          "histogram": [
           {
            "marker": {
             "colorbar": {
              "outlinewidth": 0,
              "ticks": ""
             }
            },
            "type": "histogram"
           }
          ],
          "histogram2d": [
           {
            "colorbar": {
             "outlinewidth": 0,
             "ticks": ""
            },
            "colorscale": [
             [
              0,
              "#0d0887"
             ],
             [
              0.1111111111111111,
              "#46039f"
             ],
             [
              0.2222222222222222,
              "#7201a8"
             ],
             [
              0.3333333333333333,
              "#9c179e"
             ],
             [
              0.4444444444444444,
              "#bd3786"
             ],
             [
              0.5555555555555556,
              "#d8576b"
             ],
             [
              0.6666666666666666,
              "#ed7953"
             ],
             [
              0.7777777777777778,
              "#fb9f3a"
             ],
             [
              0.8888888888888888,
              "#fdca26"
             ],
             [
              1,
              "#f0f921"
             ]
            ],
            "type": "histogram2d"
           }
          ],
          "histogram2dcontour": [
           {
            "colorbar": {
             "outlinewidth": 0,
             "ticks": ""
            },
            "colorscale": [
             [
              0,
              "#0d0887"
             ],
             [
              0.1111111111111111,
              "#46039f"
             ],
             [
              0.2222222222222222,
              "#7201a8"
             ],
             [
              0.3333333333333333,
              "#9c179e"
             ],
             [
              0.4444444444444444,
              "#bd3786"
             ],
             [
              0.5555555555555556,
              "#d8576b"
             ],
             [
              0.6666666666666666,
              "#ed7953"
             ],
             [
              0.7777777777777778,
              "#fb9f3a"
             ],
             [
              0.8888888888888888,
              "#fdca26"
             ],
             [
              1,
              "#f0f921"
             ]
            ],
            "type": "histogram2dcontour"
           }
          ],
          "mesh3d": [
           {
            "colorbar": {
             "outlinewidth": 0,
             "ticks": ""
            },
            "type": "mesh3d"
           }
          ],
          "parcoords": [
           {
            "line": {
             "colorbar": {
              "outlinewidth": 0,
              "ticks": ""
             }
            },
            "type": "parcoords"
           }
          ],
          "pie": [
           {
            "automargin": true,
            "type": "pie"
           }
          ],
          "scatter": [
           {
            "marker": {
             "colorbar": {
              "outlinewidth": 0,
              "ticks": ""
             }
            },
            "type": "scatter"
           }
          ],
          "scatter3d": [
           {
            "line": {
             "colorbar": {
              "outlinewidth": 0,
              "ticks": ""
             }
            },
            "marker": {
             "colorbar": {
              "outlinewidth": 0,
              "ticks": ""
             }
            },
            "type": "scatter3d"
           }
          ],
          "scattercarpet": [
           {
            "marker": {
             "colorbar": {
              "outlinewidth": 0,
              "ticks": ""
             }
            },
            "type": "scattercarpet"
           }
          ],
          "scattergeo": [
           {
            "marker": {
             "colorbar": {
              "outlinewidth": 0,
              "ticks": ""
             }
            },
            "type": "scattergeo"
           }
          ],
          "scattergl": [
           {
            "marker": {
             "colorbar": {
              "outlinewidth": 0,
              "ticks": ""
             }
            },
            "type": "scattergl"
           }
          ],
          "scattermapbox": [
           {
            "marker": {
             "colorbar": {
              "outlinewidth": 0,
              "ticks": ""
             }
            },
            "type": "scattermapbox"
           }
          ],
          "scatterpolar": [
           {
            "marker": {
             "colorbar": {
              "outlinewidth": 0,
              "ticks": ""
             }
            },
            "type": "scatterpolar"
           }
          ],
          "scatterpolargl": [
           {
            "marker": {
             "colorbar": {
              "outlinewidth": 0,
              "ticks": ""
             }
            },
            "type": "scatterpolargl"
           }
          ],
          "scatterternary": [
           {
            "marker": {
             "colorbar": {
              "outlinewidth": 0,
              "ticks": ""
             }
            },
            "type": "scatterternary"
           }
          ],
          "surface": [
           {
            "colorbar": {
             "outlinewidth": 0,
             "ticks": ""
            },
            "colorscale": [
             [
              0,
              "#0d0887"
             ],
             [
              0.1111111111111111,
              "#46039f"
             ],
             [
              0.2222222222222222,
              "#7201a8"
             ],
             [
              0.3333333333333333,
              "#9c179e"
             ],
             [
              0.4444444444444444,
              "#bd3786"
             ],
             [
              0.5555555555555556,
              "#d8576b"
             ],
             [
              0.6666666666666666,
              "#ed7953"
             ],
             [
              0.7777777777777778,
              "#fb9f3a"
             ],
             [
              0.8888888888888888,
              "#fdca26"
             ],
             [
              1,
              "#f0f921"
             ]
            ],
            "type": "surface"
           }
          ],
          "table": [
           {
            "cells": {
             "fill": {
              "color": "#EBF0F8"
             },
             "line": {
              "color": "white"
             }
            },
            "header": {
             "fill": {
              "color": "#C8D4E3"
             },
             "line": {
              "color": "white"
             }
            },
            "type": "table"
           }
          ]
         },
         "layout": {
          "annotationdefaults": {
           "arrowcolor": "#2a3f5f",
           "arrowhead": 0,
           "arrowwidth": 1
          },
          "coloraxis": {
           "colorbar": {
            "outlinewidth": 0,
            "ticks": ""
           }
          },
          "colorscale": {
           "diverging": [
            [
             0,
             "#8e0152"
            ],
            [
             0.1,
             "#c51b7d"
            ],
            [
             0.2,
             "#de77ae"
            ],
            [
             0.3,
             "#f1b6da"
            ],
            [
             0.4,
             "#fde0ef"
            ],
            [
             0.5,
             "#f7f7f7"
            ],
            [
             0.6,
             "#e6f5d0"
            ],
            [
             0.7,
             "#b8e186"
            ],
            [
             0.8,
             "#7fbc41"
            ],
            [
             0.9,
             "#4d9221"
            ],
            [
             1,
             "#276419"
            ]
           ],
           "sequential": [
            [
             0,
             "#0d0887"
            ],
            [
             0.1111111111111111,
             "#46039f"
            ],
            [
             0.2222222222222222,
             "#7201a8"
            ],
            [
             0.3333333333333333,
             "#9c179e"
            ],
            [
             0.4444444444444444,
             "#bd3786"
            ],
            [
             0.5555555555555556,
             "#d8576b"
            ],
            [
             0.6666666666666666,
             "#ed7953"
            ],
            [
             0.7777777777777778,
             "#fb9f3a"
            ],
            [
             0.8888888888888888,
             "#fdca26"
            ],
            [
             1,
             "#f0f921"
            ]
           ],
           "sequentialminus": [
            [
             0,
             "#0d0887"
            ],
            [
             0.1111111111111111,
             "#46039f"
            ],
            [
             0.2222222222222222,
             "#7201a8"
            ],
            [
             0.3333333333333333,
             "#9c179e"
            ],
            [
             0.4444444444444444,
             "#bd3786"
            ],
            [
             0.5555555555555556,
             "#d8576b"
            ],
            [
             0.6666666666666666,
             "#ed7953"
            ],
            [
             0.7777777777777778,
             "#fb9f3a"
            ],
            [
             0.8888888888888888,
             "#fdca26"
            ],
            [
             1,
             "#f0f921"
            ]
           ]
          },
          "colorway": [
           "#636efa",
           "#EF553B",
           "#00cc96",
           "#ab63fa",
           "#FFA15A",
           "#19d3f3",
           "#FF6692",
           "#B6E880",
           "#FF97FF",
           "#FECB52"
          ],
          "font": {
           "color": "#2a3f5f"
          },
          "geo": {
           "bgcolor": "white",
           "lakecolor": "white",
           "landcolor": "#E5ECF6",
           "showlakes": true,
           "showland": true,
           "subunitcolor": "white"
          },
          "hoverlabel": {
           "align": "left"
          },
          "hovermode": "closest",
          "mapbox": {
           "style": "light"
          },
          "paper_bgcolor": "white",
          "plot_bgcolor": "#E5ECF6",
          "polar": {
           "angularaxis": {
            "gridcolor": "white",
            "linecolor": "white",
            "ticks": ""
           },
           "bgcolor": "#E5ECF6",
           "radialaxis": {
            "gridcolor": "white",
            "linecolor": "white",
            "ticks": ""
           }
          },
          "scene": {
           "xaxis": {
            "backgroundcolor": "#E5ECF6",
            "gridcolor": "white",
            "gridwidth": 2,
            "linecolor": "white",
            "showbackground": true,
            "ticks": "",
            "zerolinecolor": "white"
           },
           "yaxis": {
            "backgroundcolor": "#E5ECF6",
            "gridcolor": "white",
            "gridwidth": 2,
            "linecolor": "white",
            "showbackground": true,
            "ticks": "",
            "zerolinecolor": "white"
           },
           "zaxis": {
            "backgroundcolor": "#E5ECF6",
            "gridcolor": "white",
            "gridwidth": 2,
            "linecolor": "white",
            "showbackground": true,
            "ticks": "",
            "zerolinecolor": "white"
           }
          },
          "shapedefaults": {
           "line": {
            "color": "#2a3f5f"
           }
          },
          "ternary": {
           "aaxis": {
            "gridcolor": "white",
            "linecolor": "white",
            "ticks": ""
           },
           "baxis": {
            "gridcolor": "white",
            "linecolor": "white",
            "ticks": ""
           },
           "bgcolor": "#E5ECF6",
           "caxis": {
            "gridcolor": "white",
            "linecolor": "white",
            "ticks": ""
           }
          },
          "title": {
           "x": 0.05
          },
          "xaxis": {
           "automargin": true,
           "gridcolor": "white",
           "linecolor": "white",
           "ticks": "",
           "title": {
            "standoff": 15
           },
           "zerolinecolor": "white",
           "zerolinewidth": 2
          },
          "yaxis": {
           "automargin": true,
           "gridcolor": "white",
           "linecolor": "white",
           "ticks": "",
           "title": {
            "standoff": 15
           },
           "zerolinecolor": "white",
           "zerolinewidth": 2
          }
         }
        },
        "title": {
         "text": "Ehull vs total_E"
        }
       }
      },
      "text/html": [
       "<div>\n",
       "        \n",
       "        \n",
       "            <div id=\"12e8ae3d-b053-47f1-8552-310c24fb9a7b\" class=\"plotly-graph-div\" style=\"height:525px; width:100%;\"></div>\n",
       "            <script type=\"text/javascript\">\n",
       "                require([\"plotly\"], function(Plotly) {\n",
       "                    window.PLOTLYENV=window.PLOTLYENV || {};\n",
       "                    \n",
       "                if (document.getElementById(\"12e8ae3d-b053-47f1-8552-310c24fb9a7b\")) {\n",
       "                    Plotly.newPlot(\n",
       "                        '12e8ae3d-b053-47f1-8552-310c24fb9a7b',\n",
       "                        [{\"mode\": \"markers\", \"name\": \"total_E\", \"type\": \"scatter\", \"x\": [\"SrTcO3\", \"BaFeO3\", \"BaMoO3\", \"KTaO3\", \"BaZrO3\", \"SrFeO3\", \"KTcO3\", \"NaTcO3\", \"BaHfO3\", \"SrTiO3\", \"SrCuO3\", \"KNbO3\", \"NaTaO3\", \"BaScO3\", \"BaPdO3\", \"BaTaO3\", \"SrHfO3\", \"NaOsO3\", \"TlTcO3\", \"KReO3\", \"SrRuO3\", \"KHfO3\", \"SrVO3\", \"KOsO3\", \"TaAgO3\", \"SrNiO3\", \"RbIrO3\", \"NaReO3\", \"SrMnO3\", \"CaFeO3\", \"SrZrO3\", \"NaWO3\", \"RbTaO3\", \"SrCoO3\", \"SrTaO3\", \"KZrO3\", \"CaTiO3\", \"NaRuO3\", \"LiTcO3\", \"SrPdO3\", \"KWO3\", \"KRhO3\", \"BaCuO3\", \"RbNbO3\", \"BaOsO3\", \"BaRuO3\", \"KRuO3\", \"SrMoO3\", \"NaTiO3\", \"SrScO3\", \"RbOsO3\", \"SrRhO3\", \"NaMoO3\", \"SrOsO3\", \"BaRhO3\", \"BaPtO3\", \"CaVO3\", \"KMoO3\", \"SrCrO3\", \"SrAgO3\", \"RbRhO3\", \"BaVO3\", \"CaCoO3\", \"CaMnO3\", \"KPtO3\", \"BaNiO3\", \"BaMnO3\", \"SrReO3\", \"BaReO3\", \"SrIrO3\", \"NaVO3\", \"NaFeO3\", \"BaIrO3\", \"RbReO3\", \"CaRuO3\", \"RbPdO3\", \"CaHfO3\", \"TlWO3\", \"RbWO3\", \"RbPtO3\", \"KPdO3\", \"SrPtO3\", \"SrZnO3\", \"BaWO3\", \"CaCuO3\", \"BaZnO3\", \"RbRuO3\", \"RbMoO3\", \"CaZrO3\", \"KScO3\", \"BaCdO3\", \"TiCdO3\", \"SrWO3\", \"BaAuO3\", \"YNiO3\", \"CsIrO3\", \"LiRuO3\", \"KVO3\", \"BaCoO3\", \"YCuO3\", \"YCoO3\", \"CaZnO3\", \"CsPdO3\", \"TiHgO3\", \"CaScO3\", \"CsOsO3\", \"CaOsO3\", \"RbYO3\", \"CsNbO3\", \"CsTaO3\", \"CaRhO3\", \"RbFeO3\", \"NaPdO3\", \"KYO3\", \"SrAuO3\", \"SrHgO3\", \"KMnO3\", \"HfCdO3\", \"MnCdO3\", \"VCdO3\", \"VHgO3\", \"NaCrO3\", \"HfHgO3\", \"HgRuO3\", \"YMnO3\", \"YTiO3\", \"YCrO3\", \"LiFeO3\", \"CaIrO3\", \"CsTiO3\", \"TlCuO3\", \"HgOsO3\", \"NaNiO3\", \"CuHgO3\", \"KAgO3\", \"PbAuO3\", \"SnHgO3\", \"AlAgO3\", \"YFeO3\", \"ZrCdO3\", \"FeAgO3\", \"CdRuO3\", \"BiMoO3\", \"RbHgO3\", \"ZrHgO3\", \"RbAgO3\", \"RbVO3\", \"CdOsO3\", \"KAuO3\", \"CsMoO3\", \"CsRuO3\", \"KCoO3\", \"RbAuO3\", \"KCrO3\", \"RbCdO3\", \"KCdO3\", \"NaAgO3\", \"NaCoO3\", \"NaZnO3\", \"HgIrO3\", \"SbAuO3\", \"RbZnO3\", \"RbNiO3\", \"HgRhO3\", \"LiCrO3\", \"RbMnO3\", \"CsCdO3\", \"RbCuO3\", \"CdRhO3\", \"KZnO3\", \"CsAuO3\", \"MgTiO3\", \"MgFeO3\", \"NaCdO3\", \"CaHgO3\", \"CdIrO3\", \"InOsO3\", \"LiYO3\", \"NbFeO3\", \"CaYO3\", \"SiAgO3\", \"TaFeO3\", \"MgMnO3\", \"SiHgO3\", \"MgCuO3\", \"LiNiO3\", \"SbPdO3\", \"InCuO3\", \"RbCrO3\", \"MgHgO3\", \"MgVO3\", \"BeCdO3\", \"VCoO3\", \"VZnO3\", \"LiCdO3\", \"TiZnO3\", \"TiCuO3\", \"ScCoO3\", \"BiPtO3\", \"MgCoO3\", \"YMoO3\", \"MnZnO3\", \"ZnOsO3\", \"ScCuO3\", \"AlAuO3\", \"CrCuO3\", \"YAgO3\", \"BeHgO3\", \"TlHgO3\", \"ZnCuO3\", \"CoAuO3\", \"TePdO3\", \"CrTcO3\", \"MgRuO3\", \"MgMoO3\", \"MgOsO3\", \"BeAgO3\", \"MgReO3\", \"GePdO3\", \"MgZrO3\", \"CoMoO3\", \"HfZnO3\", \"MgZnO3\", \"SiPdO3\", \"MgRhO3\", \"CuPdO3\", \"ScVO3\", \"ZrTiO3\", \"YOsO3\", \"ZrZnO3\", \"ZnRhO3\", \"BeZnO3\", \"ZnIrO3\", \"InPtO3\", \"MgIrO3\", \"ZnAuO3\", \"YWO3\", \"ScPdO3\", \"BePdO3\", \"AlVO3\", \"AlNiO3\", \"NiMoO3\", \"CoRhO3\"], \"y\": [-37.322174, -31.430283, -35.036352, -41.068797, -41.725654, -31.566454, -34.457037, -34.732044, -43.558491, -39.993901, -26.919581, -38.1603, -41.219396, -36.952047, -28.351462, -42.843981, -43.267873, -33.457163, -33.151618, -36.681892, -34.569767, -38.518635, -36.064785, -33.239594, -39.294269, -26.056929, -28.535619, -36.903438, -33.944695, -31.640592, -41.349199, -32.313805, -40.457388, -29.448763, -42.636386, -36.6818, -39.989584, -31.259107, -35.029002, -28.105762, -32.187048, -27.205669, -26.760658, -37.617293, -36.110353, -34.630174, -31.004061, -34.79627, -35.134875, -36.585858, -32.584369, -31.492846, -32.119595, -35.992092, -31.617451, -29.314066, -36.120876, -31.940746, -34.619374, -24.337859, -26.666976, -35.888063, -29.609381, -34.09085, -24.754501, -25.954877, -33.726506, -38.822345, -38.928669, -32.647953, -32.552355, -26.622473, -32.808351, -36.007043, -34.463219, -22.914421, -42.99766, -30.901805, -31.598021, -24.303896, -23.336794, -29.024696, -24.857385, -34.696811, -27.019988, -24.995001, -30.353962, -31.326307, -41.028167, -31.792918, -23.639023, -33.732522, -34.388644, -25.338108, -33.439945, -27.687156, -31.554429, -32.068676, -29.249431, -34.105805, -36.520919, -24.800351, -22.403634, -31.328128, -36.290383, -31.533101, -35.83633, -31.640146, -36.692356, -39.407348, -31.359155, -25.482006, -23.327351, -31.778416, -24.929023, -21.374958, -28.486514, -36.848706, -27.874129, -29.891016, -27.672565, -30.185323, -34.704893, -26.538107, -40.171165, -43.9004, -41.155739, -26.992505, -32.474605, -33.293981, -22.005455, -28.450833, -20.691597, -18.423319, -19.189063, -22.809136, -22.622163, -27.32243, -37.794628, -34.878671, -24.924764, -28.382446, -31.500965, -16.254689, -32.777929, -18.841536, -31.252992, -29.97021, -20.009156, -30.340464, -29.374104, -24.439753, -19.686835, -29.712671, -18.101245, -18.268215, -19.085251, -24.927814, -19.691533, -24.75548, -24.523516, -18.76387, -19.790186, -23.270625, -30.583716, -27.924066, -17.916694, -20.763226, -25.251133, -19.280119, -19.293214, -36.673252, -28.459663, -17.938237, -20.934357, -26.502138, -32.291303, -32.47812, -38.267765, -35.478707, -29.253344, -41.110476, -30.993965, -26.930381, -23.899186, -21.080378, -26.611618, -23.622576, -28.994665, -19.22933, -32.863133, -23.628391, -32.647684, -29.507424, -18.915047, -33.095955, -34.004484, -34.581168, -26.568623, -26.537821, -38.709513, -27.44292, -29.912659, -31.952883, -26.717562, -29.182659, -30.150818, -21.141735, -16.086975, -20.365982, -22.499902, -24.039877, -37.982627, -31.076698, -31.11803, -32.423901, -23.139373, -35.363134, -27.150352, -37.445173, -31.203502, -36.01622, -21.527333, -31.231205, -27.975832, -22.409414, -38.913721, -42.785197, -39.748498, -34.024998, -24.803267, -23.581186, -26.226973, -25.157287, -29.041559, -17.821425, -37.725668, -31.910268, -26.011596, -35.08902, -26.34919, -27.487986, -27.777521]}, {\"mode\": \"markers\", \"name\": \"total_E_ref\", \"type\": \"scatter\", \"x\": [\"SrTcO3\", \"BaFeO3\", \"BaMoO3\", \"KTaO3\", \"BaZrO3\", \"SrFeO3\", \"KTcO3\", \"NaTcO3\", \"BaHfO3\", \"SrTiO3\", \"SrCuO3\", \"KNbO3\", \"NaTaO3\", \"BaScO3\", \"BaPdO3\", \"BaTaO3\", \"SrHfO3\", \"NaOsO3\", \"TlTcO3\", \"KReO3\", \"SrRuO3\", \"KHfO3\", \"SrVO3\", \"KOsO3\", \"TaAgO3\", \"SrNiO3\", \"RbIrO3\", \"NaReO3\", \"SrMnO3\", \"CaFeO3\", \"SrZrO3\", \"NaWO3\", \"RbTaO3\", \"SrCoO3\", \"SrTaO3\", \"KZrO3\", \"CaTiO3\", \"NaRuO3\", \"LiTcO3\", \"SrPdO3\", \"KWO3\", \"KRhO3\", \"BaCuO3\", \"RbNbO3\", \"BaOsO3\", \"BaRuO3\", \"KRuO3\", \"SrMoO3\", \"NaTiO3\", \"SrScO3\", \"RbOsO3\", \"SrRhO3\", \"NaMoO3\", \"SrOsO3\", \"BaRhO3\", \"BaPtO3\", \"CaVO3\", \"KMoO3\", \"SrCrO3\", \"SrAgO3\", \"RbRhO3\", \"BaVO3\", \"CaCoO3\", \"CaMnO3\", \"KPtO3\", \"BaNiO3\", \"BaMnO3\", \"SrReO3\", \"BaReO3\", \"SrIrO3\", \"NaVO3\", \"NaFeO3\", \"BaIrO3\", \"RbReO3\", \"CaRuO3\", \"RbPdO3\", \"CaHfO3\", \"TlWO3\", \"RbWO3\", \"RbPtO3\", \"KPdO3\", \"SrPtO3\", \"SrZnO3\", \"BaWO3\", \"CaCuO3\", \"BaZnO3\", \"RbRuO3\", \"RbMoO3\", \"CaZrO3\", \"KScO3\", \"BaCdO3\", \"TiCdO3\", \"SrWO3\", \"BaAuO3\", \"YNiO3\", \"CsIrO3\", \"LiRuO3\", \"KVO3\", \"BaCoO3\", \"YCuO3\", \"YCoO3\", \"CaZnO3\", \"CsPdO3\", \"TiHgO3\", \"CaScO3\", \"CsOsO3\", \"CaOsO3\", \"RbYO3\", \"CsNbO3\", \"CsTaO3\", \"CaRhO3\", \"RbFeO3\", \"NaPdO3\", \"KYO3\", \"SrAuO3\", \"SrHgO3\", \"KMnO3\", \"HfCdO3\", \"MnCdO3\", \"VCdO3\", \"VHgO3\", \"NaCrO3\", \"HfHgO3\", \"HgRuO3\", \"YMnO3\", \"YTiO3\", \"YCrO3\", \"LiFeO3\", \"CaIrO3\", \"CsTiO3\", \"TlCuO3\", \"HgOsO3\", \"NaNiO3\", \"CuHgO3\", \"KAgO3\", \"PbAuO3\", \"SnHgO3\", \"AlAgO3\", \"YFeO3\", \"ZrCdO3\", \"FeAgO3\", \"CdRuO3\", \"BiMoO3\", \"RbHgO3\", \"ZrHgO3\", \"RbAgO3\", \"RbVO3\", \"CdOsO3\", \"KAuO3\", \"CsMoO3\", \"CsRuO3\", \"KCoO3\", \"RbAuO3\", \"KCrO3\", \"RbCdO3\", \"KCdO3\", \"NaAgO3\", \"NaCoO3\", \"NaZnO3\", \"HgIrO3\", \"SbAuO3\", \"RbZnO3\", \"RbNiO3\", \"HgRhO3\", \"LiCrO3\", \"RbMnO3\", \"CsCdO3\", \"RbCuO3\", \"CdRhO3\", \"KZnO3\", \"CsAuO3\", \"MgTiO3\", \"MgFeO3\", \"NaCdO3\", \"CaHgO3\", \"CdIrO3\", \"InOsO3\", \"LiYO3\", \"NbFeO3\", \"CaYO3\", \"SiAgO3\", \"TaFeO3\", \"MgMnO3\", \"SiHgO3\", \"MgCuO3\", \"LiNiO3\", \"SbPdO3\", \"InCuO3\", \"RbCrO3\", \"MgHgO3\", \"MgVO3\", \"BeCdO3\", \"VCoO3\", \"VZnO3\", \"LiCdO3\", \"TiZnO3\", \"TiCuO3\", \"ScCoO3\", \"BiPtO3\", \"MgCoO3\", \"YMoO3\", \"MnZnO3\", \"ZnOsO3\", \"ScCuO3\", \"AlAuO3\", \"CrCuO3\", \"YAgO3\", \"BeHgO3\", \"TlHgO3\", \"ZnCuO3\", \"CoAuO3\", \"TePdO3\", \"CrTcO3\", \"MgRuO3\", \"MgMoO3\", \"MgOsO3\", \"BeAgO3\", \"MgReO3\", \"GePdO3\", \"MgZrO3\", \"CoMoO3\", \"HfZnO3\", \"MgZnO3\", \"SiPdO3\", \"MgRhO3\", \"CuPdO3\", \"ScVO3\", \"ZrTiO3\", \"YOsO3\", \"ZrZnO3\", \"ZnRhO3\", \"BeZnO3\", \"ZnIrO3\", \"InPtO3\", \"MgIrO3\", \"ZnAuO3\", \"YWO3\", \"ScPdO3\", \"BePdO3\", \"AlVO3\", \"AlNiO3\", \"NiMoO3\", \"CoRhO3\"], \"y\": [-37.1001156, -31.63242596, -34.93217258, -41.13911957, -41.44471339, -31.80402453, -34.18732873, -34.34552387, -43.59189315, -40.12465451, -27.26156938, -38.21162742, -41.23348333, -37.06988222, -28.30819507, -42.91424097, -43.32951538, -33.42945071, -33.02494293, -36.77158005, -34.4007133, -38.58243397, -36.2522689, -33.26748768, -39.45416802, -26.534219545, -28.62894132, -36.93548459, -34.219511535, -31.88429444, -41.05588974, -33.18141944, -40.50867621, -29.560554825, -42.73659777, -36.43268231, -40.14205429, -30.99193341, -34.60975841, -28.0405873, -33.10282594, -27.10135516, -27.11689508, -37.64629451, -36.10666193, -34.49344841, -30.85315958, -34.68309682, -35.21913956, -36.74054274, -32.59201043, -31.48397523, -31.84285645, -36.03449387, -31.63831495, -29.3348591, -36.3286993, -31.77068311, -34.8049957, -24.24325432, -26.67108722, -36.03812774, -29.68961833, -34.36930047, -24.73884694, -26.41954, -33.97685242, -38.92296275, -39.00555694, -32.77419854, -32.67764782, -26.80210613, -32.93945977, -36.07767458, -34.37016152, -22.81385223, -43.07877855, -31.88619085, -32.48827654, -24.27913767, -23.22141595, -29.04786171, -25.09042885, -35.54077315, -27.37238056, -25.18250714, -30.22993095, -31.17153326, -40.72755101, -31.92691067, -23.85034364, -34.00450986, -35.27393853, -25.25046351, -33.80984785, -27.75391985, -31.25595005, -32.24694439, -29.32247388, -34.43613767, -36.59177477, -25.0526297, -22.30838071, -31.58286974, -36.47132383, -31.52036266, -35.89855459, -31.56671768, -36.69242533, -39.43777605, -31.3311854, -25.79997393, -23.14530879, -31.7175419, -24.852686, -21.56341712, -28.79585381, -37.05014564, -28.29496283, -30.05595133, -27.97890919, -30.31935089, -34.88403638, -26.50269449, -40.29814615, -43.97755224, -41.38453872, -27.15567682, -32.60390049, -33.38008299, -22.53676606, -28.57568908, -21.09212891, -18.92233125, -19.19921721, -22.78396208, -23.00048937, -27.4464951, -37.95561919, -34.69937185, -25.31472083, -28.33084847, -31.34764602, -16.44168061, -32.59258275, -18.86547594, -31.40844302, -30.14524478, -19.94288615, -30.21161938, -29.30416556, -23.89720714, -19.6152536, -29.92630744, -18.31749301, -18.49166997, -19.00227475, -24.00847142, -19.62903062, -24.97390695, -24.67417865, -19.42829068, -20.25428935, -23.33709481, -30.67953147, -27.96076996, -18.10405639, -21.15839399, -25.33575724, -19.45335874, -19.21388213, -36.84613838, -28.7072037, -18.12543129, -21.13923093, -26.74031565, -32.44134595, -32.04407418, -38.65272964, -35.40816841, -29.32457596, -41.56644116, -31.2803739, -27.11809401, -24.28945909, -21.45807908, -26.65054012, -24.17120494, -29.20600661, -19.50781888, -33.08891759, -23.7970294, -33.06793667, -29.82828355, -19.03180568, -33.35849484, -34.45824891, -34.81111143, -26.51756718, -26.6139999, -38.50206844, -27.82799765, -30.06632629, -32.40206661, -26.80464531, -29.65712211, -30.0386524, -21.29230441, -16.46173648, -20.84733467, -22.65415623, -24.06868202, -37.79865558, -30.96745617, -30.99442151, -32.50426123, -23.24985998, -35.49385013, -27.08667008, -37.14071549, -31.16113867, -36.20590293, -21.80279604, -31.20531033, -27.92653293, -22.53526649, -39.12851558, -42.8731982, -39.75343752, -33.82311829, -24.83354682, -23.74109307, -26.43002763, -25.27519222, -29.19195734, -18.08646907, -38.54528627, -31.99785339, -25.95253482, -34.51863766, -26.69987606, -26.78095796, -25.40821875]}],\n",
       "                        {\"template\": {\"data\": {\"bar\": [{\"error_x\": {\"color\": \"#2a3f5f\"}, \"error_y\": {\"color\": \"#2a3f5f\"}, \"marker\": {\"line\": {\"color\": \"#E5ECF6\", \"width\": 0.5}}, \"type\": \"bar\"}], \"barpolar\": [{\"marker\": {\"line\": {\"color\": \"#E5ECF6\", \"width\": 0.5}}, \"type\": \"barpolar\"}], \"carpet\": [{\"aaxis\": {\"endlinecolor\": \"#2a3f5f\", \"gridcolor\": \"white\", \"linecolor\": \"white\", \"minorgridcolor\": \"white\", \"startlinecolor\": \"#2a3f5f\"}, \"baxis\": {\"endlinecolor\": \"#2a3f5f\", \"gridcolor\": \"white\", \"linecolor\": \"white\", \"minorgridcolor\": \"white\", \"startlinecolor\": \"#2a3f5f\"}, \"type\": \"carpet\"}], \"choropleth\": [{\"colorbar\": {\"outlinewidth\": 0, \"ticks\": \"\"}, \"type\": \"choropleth\"}], \"contour\": [{\"colorbar\": {\"outlinewidth\": 0, \"ticks\": \"\"}, \"colorscale\": [[0.0, \"#0d0887\"], [0.1111111111111111, \"#46039f\"], [0.2222222222222222, \"#7201a8\"], [0.3333333333333333, \"#9c179e\"], [0.4444444444444444, \"#bd3786\"], [0.5555555555555556, \"#d8576b\"], [0.6666666666666666, \"#ed7953\"], [0.7777777777777778, \"#fb9f3a\"], [0.8888888888888888, \"#fdca26\"], [1.0, \"#f0f921\"]], \"type\": \"contour\"}], \"contourcarpet\": [{\"colorbar\": {\"outlinewidth\": 0, \"ticks\": \"\"}, \"type\": \"contourcarpet\"}], \"heatmap\": [{\"colorbar\": {\"outlinewidth\": 0, \"ticks\": \"\"}, \"colorscale\": [[0.0, \"#0d0887\"], [0.1111111111111111, \"#46039f\"], [0.2222222222222222, \"#7201a8\"], [0.3333333333333333, \"#9c179e\"], [0.4444444444444444, \"#bd3786\"], [0.5555555555555556, \"#d8576b\"], [0.6666666666666666, \"#ed7953\"], [0.7777777777777778, \"#fb9f3a\"], [0.8888888888888888, \"#fdca26\"], [1.0, \"#f0f921\"]], \"type\": \"heatmap\"}], \"heatmapgl\": [{\"colorbar\": {\"outlinewidth\": 0, \"ticks\": \"\"}, \"colorscale\": [[0.0, \"#0d0887\"], [0.1111111111111111, \"#46039f\"], [0.2222222222222222, \"#7201a8\"], [0.3333333333333333, \"#9c179e\"], [0.4444444444444444, \"#bd3786\"], [0.5555555555555556, \"#d8576b\"], [0.6666666666666666, \"#ed7953\"], [0.7777777777777778, \"#fb9f3a\"], [0.8888888888888888, \"#fdca26\"], [1.0, \"#f0f921\"]], \"type\": \"heatmapgl\"}], \"histogram\": [{\"marker\": {\"colorbar\": {\"outlinewidth\": 0, \"ticks\": \"\"}}, \"type\": \"histogram\"}], \"histogram2d\": [{\"colorbar\": {\"outlinewidth\": 0, \"ticks\": \"\"}, \"colorscale\": [[0.0, \"#0d0887\"], [0.1111111111111111, \"#46039f\"], [0.2222222222222222, \"#7201a8\"], [0.3333333333333333, \"#9c179e\"], [0.4444444444444444, \"#bd3786\"], [0.5555555555555556, \"#d8576b\"], [0.6666666666666666, \"#ed7953\"], [0.7777777777777778, \"#fb9f3a\"], [0.8888888888888888, \"#fdca26\"], [1.0, \"#f0f921\"]], \"type\": \"histogram2d\"}], \"histogram2dcontour\": [{\"colorbar\": {\"outlinewidth\": 0, \"ticks\": \"\"}, \"colorscale\": [[0.0, \"#0d0887\"], [0.1111111111111111, \"#46039f\"], [0.2222222222222222, \"#7201a8\"], [0.3333333333333333, \"#9c179e\"], [0.4444444444444444, \"#bd3786\"], [0.5555555555555556, \"#d8576b\"], [0.6666666666666666, \"#ed7953\"], [0.7777777777777778, \"#fb9f3a\"], [0.8888888888888888, \"#fdca26\"], [1.0, \"#f0f921\"]], \"type\": \"histogram2dcontour\"}], \"mesh3d\": [{\"colorbar\": {\"outlinewidth\": 0, \"ticks\": \"\"}, \"type\": \"mesh3d\"}], \"parcoords\": [{\"line\": {\"colorbar\": {\"outlinewidth\": 0, \"ticks\": \"\"}}, \"type\": \"parcoords\"}], \"pie\": [{\"automargin\": true, \"type\": \"pie\"}], \"scatter\": [{\"marker\": {\"colorbar\": {\"outlinewidth\": 0, \"ticks\": \"\"}}, \"type\": \"scatter\"}], \"scatter3d\": [{\"line\": {\"colorbar\": {\"outlinewidth\": 0, \"ticks\": \"\"}}, \"marker\": {\"colorbar\": {\"outlinewidth\": 0, \"ticks\": \"\"}}, \"type\": \"scatter3d\"}], \"scattercarpet\": [{\"marker\": {\"colorbar\": {\"outlinewidth\": 0, \"ticks\": \"\"}}, \"type\": \"scattercarpet\"}], \"scattergeo\": [{\"marker\": {\"colorbar\": {\"outlinewidth\": 0, \"ticks\": \"\"}}, \"type\": \"scattergeo\"}], \"scattergl\": [{\"marker\": {\"colorbar\": {\"outlinewidth\": 0, \"ticks\": \"\"}}, \"type\": \"scattergl\"}], \"scattermapbox\": [{\"marker\": {\"colorbar\": {\"outlinewidth\": 0, \"ticks\": \"\"}}, \"type\": \"scattermapbox\"}], \"scatterpolar\": [{\"marker\": {\"colorbar\": {\"outlinewidth\": 0, \"ticks\": \"\"}}, \"type\": \"scatterpolar\"}], \"scatterpolargl\": [{\"marker\": {\"colorbar\": {\"outlinewidth\": 0, \"ticks\": \"\"}}, \"type\": \"scatterpolargl\"}], \"scatterternary\": [{\"marker\": {\"colorbar\": {\"outlinewidth\": 0, \"ticks\": \"\"}}, \"type\": \"scatterternary\"}], \"surface\": [{\"colorbar\": {\"outlinewidth\": 0, \"ticks\": \"\"}, \"colorscale\": [[0.0, \"#0d0887\"], [0.1111111111111111, \"#46039f\"], [0.2222222222222222, \"#7201a8\"], [0.3333333333333333, \"#9c179e\"], [0.4444444444444444, \"#bd3786\"], [0.5555555555555556, \"#d8576b\"], [0.6666666666666666, \"#ed7953\"], [0.7777777777777778, \"#fb9f3a\"], [0.8888888888888888, \"#fdca26\"], [1.0, \"#f0f921\"]], \"type\": \"surface\"}], \"table\": [{\"cells\": {\"fill\": {\"color\": \"#EBF0F8\"}, \"line\": {\"color\": \"white\"}}, \"header\": {\"fill\": {\"color\": \"#C8D4E3\"}, \"line\": {\"color\": \"white\"}}, \"type\": \"table\"}]}, \"layout\": {\"annotationdefaults\": {\"arrowcolor\": \"#2a3f5f\", \"arrowhead\": 0, \"arrowwidth\": 1}, \"coloraxis\": {\"colorbar\": {\"outlinewidth\": 0, \"ticks\": \"\"}}, \"colorscale\": {\"diverging\": [[0, \"#8e0152\"], [0.1, \"#c51b7d\"], [0.2, \"#de77ae\"], [0.3, \"#f1b6da\"], [0.4, \"#fde0ef\"], [0.5, \"#f7f7f7\"], [0.6, \"#e6f5d0\"], [0.7, \"#b8e186\"], [0.8, \"#7fbc41\"], [0.9, \"#4d9221\"], [1, \"#276419\"]], \"sequential\": [[0.0, \"#0d0887\"], [0.1111111111111111, \"#46039f\"], [0.2222222222222222, \"#7201a8\"], [0.3333333333333333, \"#9c179e\"], [0.4444444444444444, \"#bd3786\"], [0.5555555555555556, \"#d8576b\"], [0.6666666666666666, \"#ed7953\"], [0.7777777777777778, \"#fb9f3a\"], [0.8888888888888888, \"#fdca26\"], [1.0, \"#f0f921\"]], \"sequentialminus\": [[0.0, \"#0d0887\"], [0.1111111111111111, \"#46039f\"], [0.2222222222222222, \"#7201a8\"], [0.3333333333333333, \"#9c179e\"], [0.4444444444444444, \"#bd3786\"], [0.5555555555555556, \"#d8576b\"], [0.6666666666666666, \"#ed7953\"], [0.7777777777777778, \"#fb9f3a\"], [0.8888888888888888, \"#fdca26\"], [1.0, \"#f0f921\"]]}, \"colorway\": [\"#636efa\", \"#EF553B\", \"#00cc96\", \"#ab63fa\", \"#FFA15A\", \"#19d3f3\", \"#FF6692\", \"#B6E880\", \"#FF97FF\", \"#FECB52\"], \"font\": {\"color\": \"#2a3f5f\"}, \"geo\": {\"bgcolor\": \"white\", \"lakecolor\": \"white\", \"landcolor\": \"#E5ECF6\", \"showlakes\": true, \"showland\": true, \"subunitcolor\": \"white\"}, \"hoverlabel\": {\"align\": \"left\"}, \"hovermode\": \"closest\", \"mapbox\": {\"style\": \"light\"}, \"paper_bgcolor\": \"white\", \"plot_bgcolor\": \"#E5ECF6\", \"polar\": {\"angularaxis\": {\"gridcolor\": \"white\", \"linecolor\": \"white\", \"ticks\": \"\"}, \"bgcolor\": \"#E5ECF6\", \"radialaxis\": {\"gridcolor\": \"white\", \"linecolor\": \"white\", \"ticks\": \"\"}}, \"scene\": {\"xaxis\": {\"backgroundcolor\": \"#E5ECF6\", \"gridcolor\": \"white\", \"gridwidth\": 2, \"linecolor\": \"white\", \"showbackground\": true, \"ticks\": \"\", \"zerolinecolor\": \"white\"}, \"yaxis\": {\"backgroundcolor\": \"#E5ECF6\", \"gridcolor\": \"white\", \"gridwidth\": 2, \"linecolor\": \"white\", \"showbackground\": true, \"ticks\": \"\", \"zerolinecolor\": \"white\"}, \"zaxis\": {\"backgroundcolor\": \"#E5ECF6\", \"gridcolor\": \"white\", \"gridwidth\": 2, \"linecolor\": \"white\", \"showbackground\": true, \"ticks\": \"\", \"zerolinecolor\": \"white\"}}, \"shapedefaults\": {\"line\": {\"color\": \"#2a3f5f\"}}, \"ternary\": {\"aaxis\": {\"gridcolor\": \"white\", \"linecolor\": \"white\", \"ticks\": \"\"}, \"baxis\": {\"gridcolor\": \"white\", \"linecolor\": \"white\", \"ticks\": \"\"}, \"bgcolor\": \"#E5ECF6\", \"caxis\": {\"gridcolor\": \"white\", \"linecolor\": \"white\", \"ticks\": \"\"}}, \"title\": {\"x\": 0.05}, \"xaxis\": {\"automargin\": true, \"gridcolor\": \"white\", \"linecolor\": \"white\", \"ticks\": \"\", \"title\": {\"standoff\": 15}, \"zerolinecolor\": \"white\", \"zerolinewidth\": 2}, \"yaxis\": {\"automargin\": true, \"gridcolor\": \"white\", \"linecolor\": \"white\", \"ticks\": \"\", \"title\": {\"standoff\": 15}, \"zerolinecolor\": \"white\", \"zerolinewidth\": 2}}}, \"title\": {\"text\": \"Ehull vs total_E\"}},\n",
       "                        {\"responsive\": true}\n",
       "                    ).then(function(){\n",
       "                            \n",
       "var gd = document.getElementById('12e8ae3d-b053-47f1-8552-310c24fb9a7b');\n",
       "var x = new MutationObserver(function (mutations, observer) {{\n",
       "        var display = window.getComputedStyle(gd).display;\n",
       "        if (!display || display === 'none') {{\n",
       "            console.log([gd, 'removed!']);\n",
       "            Plotly.purge(gd);\n",
       "            observer.disconnect();\n",
       "        }}\n",
       "}});\n",
       "\n",
       "// Listen for the removal of the full notebook cells\n",
       "var notebookContainer = gd.closest('#notebook-container');\n",
       "if (notebookContainer) {{\n",
       "    x.observe(notebookContainer, {childList: true});\n",
       "}}\n",
       "\n",
       "// Listen for the clearing of the current output cell\n",
       "var outputEl = gd.closest('.output');\n",
       "if (outputEl) {{\n",
       "    x.observe(outputEl, {childList: true});\n",
       "}}\n",
       "\n",
       "                        })\n",
       "                };\n",
       "                });\n",
       "            </script>\n",
       "        </div>"
      ]
     },
     "metadata": {},
     "output_type": "display_data"
    }
   ],
   "source": [
    "trace1 = go.Scatter(x = df_bulk['formula'], y = df_bulk['total_E'], name = 'total_E', mode = 'markers' )\n",
    "trace2 = go.Scatter(x = df_bulk['formula'], y = df_bulk['total_E_ref'], name = 'total_E_ref', mode = 'markers' )\n",
    "\n",
    "data = [trace1, trace2]\n",
    "layout = go.Layout(title = 'Ehull vs total_E')\n",
    "fig = go.Figure(data = data, layout = layout)\n",
    "# pyo.iplot(fig)\n",
    "fig.show()"
   ]
  },
  {
   "cell_type": "code",
   "execution_count": 20,
   "metadata": {},
   "outputs": [
    {
     "data": {
      "application/vnd.plotly.v1+json": {
       "config": {
        "plotlyServerURL": "https://plot.ly"
       },
       "data": [
        {
         "mode": "markers",
         "name": "total_E",
         "type": "scatter",
         "x": [
          -37.322174,
          -31.430283,
          -35.036352,
          -41.068797,
          -41.725654,
          -31.566454,
          -34.457037,
          -34.732044,
          -43.558491,
          -39.993901,
          -26.919581,
          -38.1603,
          -41.219396,
          -36.952047,
          -28.351462,
          -42.843981,
          -43.267873,
          -33.457163,
          -33.151618,
          -36.681892,
          -34.569767,
          -38.518635,
          -36.064785,
          -33.239594,
          -39.294269,
          -26.056929,
          -28.535619,
          -36.903438,
          -33.944695,
          -31.640592,
          -41.349199,
          -32.313805,
          -40.457388,
          -29.448763,
          -42.636386,
          -36.6818,
          -39.989584,
          -31.259107,
          -35.029002,
          -28.105762,
          -32.187048,
          -27.205669,
          -26.760658,
          -37.617293,
          -36.110353,
          -34.630174,
          -31.004061,
          -34.79627,
          -35.134875,
          -36.585858,
          -32.584369,
          -31.492846,
          -32.119595,
          -35.992092,
          -31.617451,
          -29.314066,
          -36.120876,
          -31.940746,
          -34.619374,
          -24.337859,
          -26.666976,
          -35.888063,
          -29.609381,
          -34.09085,
          -24.754501,
          -25.954877,
          -33.726506,
          -38.822345,
          -38.928669,
          -32.647953,
          -32.552355,
          -26.622473,
          -32.808351,
          -36.007043,
          -34.463219,
          -22.914421,
          -42.99766,
          -30.901805,
          -31.598021,
          -24.303896,
          -23.336794,
          -29.024696,
          -24.857385,
          -34.696811,
          -27.019988,
          -24.995001,
          -30.353962,
          -31.326307,
          -41.028167,
          -31.792918,
          -23.639023,
          -33.732522,
          -34.388644,
          -25.338108,
          -33.439945,
          -27.687156,
          -31.554429,
          -32.068676,
          -29.249431,
          -34.105805,
          -36.520919,
          -24.800351,
          -22.403634,
          -31.328128,
          -36.290383,
          -31.533101,
          -35.83633,
          -31.640146,
          -36.692356,
          -39.407348,
          -31.359155,
          -25.482006,
          -23.327351,
          -31.778416,
          -24.929023,
          -21.374958,
          -28.486514,
          -36.848706,
          -27.874129,
          -29.891016,
          -27.672565,
          -30.185323,
          -34.704893,
          -26.538107,
          -40.171165,
          -43.9004,
          -41.155739,
          -26.992505,
          -32.474605,
          -33.293981,
          -22.005455,
          -28.450833,
          -20.691597,
          -18.423319,
          -19.189063,
          -22.809136,
          -22.622163,
          -27.32243,
          -37.794628,
          -34.878671,
          -24.924764,
          -28.382446,
          -31.500965,
          -16.254689,
          -32.777929,
          -18.841536,
          -31.252992,
          -29.97021,
          -20.009156,
          -30.340464,
          -29.374104,
          -24.439753,
          -19.686835,
          -29.712671,
          -18.101245,
          -18.268215,
          -19.085251,
          -24.927814,
          -19.691533,
          -24.75548,
          -24.523516,
          -18.76387,
          -19.790186,
          -23.270625,
          -30.583716,
          -27.924066,
          -17.916694,
          -20.763226,
          -25.251133,
          -19.280119,
          -19.293214,
          -36.673252,
          -28.459663,
          -17.938237,
          -20.934357,
          -26.502138,
          -32.291303,
          -32.47812,
          -38.267765,
          -35.478707,
          -29.253344,
          -41.110476,
          -30.993965,
          -26.930381,
          -23.899186,
          -21.080378,
          -26.611618,
          -23.622576,
          -28.994665,
          -19.22933,
          -32.863133,
          -23.628391,
          -32.647684,
          -29.507424,
          -18.915047,
          -33.095955,
          -34.004484,
          -34.581168,
          -26.568623,
          -26.537821,
          -38.709513,
          -27.44292,
          -29.912659,
          -31.952883,
          -26.717562,
          -29.182659,
          -30.150818,
          -21.141735,
          -16.086975,
          -20.365982,
          -22.499902,
          -24.039877,
          -37.982627,
          -31.076698,
          -31.11803,
          -32.423901,
          -23.139373,
          -35.363134,
          -27.150352,
          -37.445173,
          -31.203502,
          -36.01622,
          -21.527333,
          -31.231205,
          -27.975832,
          -22.409414,
          -38.913721,
          -42.785197,
          -39.748498,
          -34.024998,
          -24.803267,
          -23.581186,
          -26.226973,
          -25.157287,
          -29.041559,
          -17.821425,
          -37.725668,
          -31.910268,
          -26.011596,
          -35.08902,
          -26.34919,
          -27.487986,
          -27.777521
         ],
         "xaxis": "x",
         "y": [
          -37.1001156,
          -31.63242596,
          -34.93217258,
          -41.13911957,
          -41.44471339,
          -31.80402453,
          -34.18732873,
          -34.34552387,
          -43.59189315,
          -40.12465451,
          -27.26156938,
          -38.21162742,
          -41.23348333,
          -37.06988222,
          -28.30819507,
          -42.91424097,
          -43.32951538,
          -33.42945071,
          -33.02494293,
          -36.77158005,
          -34.4007133,
          -38.58243397,
          -36.2522689,
          -33.26748768,
          -39.45416802,
          -26.534219545,
          -28.62894132,
          -36.93548459,
          -34.219511535,
          -31.88429444,
          -41.05588974,
          -33.18141944,
          -40.50867621,
          -29.560554825,
          -42.73659777,
          -36.43268231,
          -40.14205429,
          -30.99193341,
          -34.60975841,
          -28.0405873,
          -33.10282594,
          -27.10135516,
          -27.11689508,
          -37.64629451,
          -36.10666193,
          -34.49344841,
          -30.85315958,
          -34.68309682,
          -35.21913956,
          -36.74054274,
          -32.59201043,
          -31.48397523,
          -31.84285645,
          -36.03449387,
          -31.63831495,
          -29.3348591,
          -36.3286993,
          -31.77068311,
          -34.8049957,
          -24.24325432,
          -26.67108722,
          -36.03812774,
          -29.68961833,
          -34.36930047,
          -24.73884694,
          -26.41954,
          -33.97685242,
          -38.92296275,
          -39.00555694,
          -32.77419854,
          -32.67764782,
          -26.80210613,
          -32.93945977,
          -36.07767458,
          -34.37016152,
          -22.81385223,
          -43.07877855,
          -31.88619085,
          -32.48827654,
          -24.27913767,
          -23.22141595,
          -29.04786171,
          -25.09042885,
          -35.54077315,
          -27.37238056,
          -25.18250714,
          -30.22993095,
          -31.17153326,
          -40.72755101,
          -31.92691067,
          -23.85034364,
          -34.00450986,
          -35.27393853,
          -25.25046351,
          -33.80984785,
          -27.75391985,
          -31.25595005,
          -32.24694439,
          -29.32247388,
          -34.43613767,
          -36.59177477,
          -25.0526297,
          -22.30838071,
          -31.58286974,
          -36.47132383,
          -31.52036266,
          -35.89855459,
          -31.56671768,
          -36.69242533,
          -39.43777605,
          -31.3311854,
          -25.79997393,
          -23.14530879,
          -31.7175419,
          -24.852686,
          -21.56341712,
          -28.79585381,
          -37.05014564,
          -28.29496283,
          -30.05595133,
          -27.97890919,
          -30.31935089,
          -34.88403638,
          -26.50269449,
          -40.29814615,
          -43.97755224,
          -41.38453872,
          -27.15567682,
          -32.60390049,
          -33.38008299,
          -22.53676606,
          -28.57568908,
          -21.09212891,
          -18.92233125,
          -19.19921721,
          -22.78396208,
          -23.00048937,
          -27.4464951,
          -37.95561919,
          -34.69937185,
          -25.31472083,
          -28.33084847,
          -31.34764602,
          -16.44168061,
          -32.59258275,
          -18.86547594,
          -31.40844302,
          -30.14524478,
          -19.94288615,
          -30.21161938,
          -29.30416556,
          -23.89720714,
          -19.6152536,
          -29.92630744,
          -18.31749301,
          -18.49166997,
          -19.00227475,
          -24.00847142,
          -19.62903062,
          -24.97390695,
          -24.67417865,
          -19.42829068,
          -20.25428935,
          -23.33709481,
          -30.67953147,
          -27.96076996,
          -18.10405639,
          -21.15839399,
          -25.33575724,
          -19.45335874,
          -19.21388213,
          -36.84613838,
          -28.7072037,
          -18.12543129,
          -21.13923093,
          -26.74031565,
          -32.44134595,
          -32.04407418,
          -38.65272964,
          -35.40816841,
          -29.32457596,
          -41.56644116,
          -31.2803739,
          -27.11809401,
          -24.28945909,
          -21.45807908,
          -26.65054012,
          -24.17120494,
          -29.20600661,
          -19.50781888,
          -33.08891759,
          -23.7970294,
          -33.06793667,
          -29.82828355,
          -19.03180568,
          -33.35849484,
          -34.45824891,
          -34.81111143,
          -26.51756718,
          -26.6139999,
          -38.50206844,
          -27.82799765,
          -30.06632629,
          -32.40206661,
          -26.80464531,
          -29.65712211,
          -30.0386524,
          -21.29230441,
          -16.46173648,
          -20.84733467,
          -22.65415623,
          -24.06868202,
          -37.79865558,
          -30.96745617,
          -30.99442151,
          -32.50426123,
          -23.24985998,
          -35.49385013,
          -27.08667008,
          -37.14071549,
          -31.16113867,
          -36.20590293,
          -21.80279604,
          -31.20531033,
          -27.92653293,
          -22.53526649,
          -39.12851558,
          -42.8731982,
          -39.75343752,
          -33.82311829,
          -24.83354682,
          -23.74109307,
          -26.43002763,
          -25.27519222,
          -29.19195734,
          -18.08646907,
          -38.54528627,
          -31.99785339,
          -25.95253482,
          -34.51863766,
          -26.69987606,
          -26.78095796,
          -25.40821875
         ],
         "yaxis": "y"
        },
        {
         "mode": "markers",
         "name": "DHf",
         "type": "scatter",
         "x": [
          -2.5301085089999993,
          -2.2629687819999993,
          -2.610794782000001,
          -3.1067656696,
          -3.7227805190000005,
          -2.3444722829999995,
          -2.0765819295999997,
          -2.0784385166,
          -3.8083502879999998,
          -3.5731536676000006,
          -1.7700747194000002,
          -2.8680442455999993,
          -3.0837406566,
          -3.2224652930000004,
          -1.7082501424,
          -3.288032347999999,
          -3.8044959890000003,
          -1.6488292266000002,
          -1.5791314919999997,
          -2.1138925115999996,
          -2.204082004,
          -2.9741492096,
          -2.893789284,
          -1.6584602395999994,
          -2.4159249234,
          -1.6825189214000003,
          -1.2151669779999998,
          -2.1050568986,
          -2.4600002176,
          -2.301252522400001,
          -3.70175882,
          -2.1057209286000003,
          -3.0071120289999995,
          -1.9971254509999998,
          -3.300782649,
          -2.8877798406000004,
          -3.5142429070000007,
          -1.6083060115999999,
          -2.018032353,
          -1.7133794433999996,
          -2.1335143415999993,
          -1.2450021445999995,
          -1.6840208183999998,
          -2.782071004999999,
          -2.058841918,
          -2.161894102999999,
          -1.6104416246,
          -2.617047683,
          -2.6677044752,
          -3.2034967940000003,
          -1.5500433990000004,
          -1.9829367239999995,
          -2.1480686905999993,
          -2.0894590190000004,
          -1.9535884229999994,
          -1.7249424624,
          -2.8469601234000006,
          -2.1654437036000003,
          -2.5598195610000003,
          -1.4597107434,
          -1.159891703999999,
          -2.8041755829999997,
          -1.9712016903999998,
          -2.4311838570000006,
          -0.9867995839999999,
          -1.6078392204,
          -2.3620931165999997,
          -2.422482291,
          -2.3894777899999995,
          -1.8955047980000004,
          -2.257659291599999,
          -1.422032090599999,
          -1.8733150970000003,
          -2.0015508710000005,
          -2.1247250434000007,
          -0.8172402233999996,
          -3.6924060284000007,
          -1.6400991040000001,
          -2.038337100999999,
          -0.9193067434,
          -0.8790866639999997,
          -1.7213377633999998,
          -1.885562498,
          -2.461696819999999,
          -1.7321087588000004,
          -1.8588163969999996,
          -1.5030499839999991,
          -2.065184063,
          -3.579505059400001,
          -2.3644096145999995,
          -1.6597696760000005,
          -2.4985389756000003,
          -2.454332721,
          -1.5050595789999996,
          -2.200916500400001,
          -1.0622546066000005,
          -1.5475726479999992,
          -2.2140683046000005,
          -1.9029897500000001,
          -2.2491138983999988,
          -2.45335103,
          -1.8161083374,
          -0.7318630519999999,
          -2.1296273655999998,
          -3.0863544333999995,
          -1.3565700276000001,
          -2.0002592584,
          -2.3205258279999996,
          -2.6138638335999986,
          -2.813884257599999,
          -1.8981511634000001,
          -1.269711662999999,
          -0.8240532509999994,
          -2.3255516685999993,
          -1.4775118800000002,
          -1.3731931670000002,
          -1.4878648381999995,
          -2.6983236969999993,
          -1.4235481256,
          -1.836696592000001,
          -1.5049735820000005,
          -1.7393653685999997,
          -2.3815282869999996,
          -0.8873783020000005,
          -2.7470885966,
          -3.3962478465999992,
          -2.9088869399999995,
          -1.3762407269999997,
          -1.8027878373999997,
          -2.3920788762000003,
          -0.6703837024000002,
          -0.8708355170000004,
          -0.6758085290000001,
          -0.36045061739999973,
          -0.5494523640000001,
          -0.6679185913999994,
          -1.1804864298000006,
          -1.6342362678,
          -2.6319014619999996,
          -2.585314327999999,
          -0.7996999573999996,
          -1.144278912,
          -1.5086790796000007,
          -0.4912683470000001,
          -2.2771331179999996,
          -0.5025751234000001,
          -2.0735596639999994,
          -1.0627437270000002,
          -0.6130393006000002,
          -1.8847956916000004,
          -1.3238586126,
          -1.1148242715999994,
          -0.5712032599999997,
          -1.6979797815999997,
          -0.7486123569999996,
          -0.7593781976000002,
          -0.47554515099999967,
          -1.1592916585999997,
          -0.9187481055999995,
          -0.6066384960000001,
          -0.8979657540000006,
          -0.8089884779999998,
          -0.5712993014,
          -0.628120822,
          -1.6992462049999997,
          -1.3980033975999995,
          -0.7284823856000002,
          -0.6809326993999996,
          -0.9122552319999997,
          -0.8896101185999996,
          -0.5092592885999998,
          -2.9360493973999993,
          -1.7501396127999995,
          -0.6402377846000004,
          -1.2270256064000002,
          -0.844002906,
          -1.1641426002000004,
          -2.2925498919999994,
          -1.9926446389999988,
          -2.8880616873999996,
          -1.6850944811999995,
          -2.2182088629999988,
          -1.8968797473999999,
          -1.7265645048000002,
          -1.1930212492000003,
          -0.6337669654,
          -0.9161059174000001,
          -0.9255151005999999,
          -1.577006741,
          -0.9710930968000007,
          -2.2804844138000004,
          -1.2892353230000004,
          -1.509168666,
          -1.687829313,
          -0.7158020210000003,
          -2.2990766965999994,
          -1.9528555179999998,
          -2.1013583759999994,
          -0.78081556,
          -1.4419625808000003,
          -2.441490662,
          -1.2651574466,
          -0.979084648,
          -1.8544870443999997,
          -1.4128310044000003,
          -1.0500618114000002,
          -1.6640969224000002,
          -0.9038713130000005,
          -0.19873074999999965,
          -0.5648671483999997,
          -0.29048726199999947,
          -0.5989577173999997,
          -1.489570601,
          -1.5324937337999998,
          -1.9084252128000005,
          -1.4028463488,
          -0.7973362893999998,
          -1.7576656208000003,
          -0.9458693574000001,
          -2.947979149799999,
          -1.197293665,
          -2.4596776179999993,
          -1.2465776278,
          -1.5807547811999996,
          -1.3065594537999998,
          -0.15169509380000007,
          -2.541328409,
          -2.7547586185999995,
          -1.8825345979999994,
          -2.3424308489999994,
          -0.7505331530000007,
          -1.207645444,
          -0.7168210270000003,
          -0.7626973446,
          -1.2012515278000002,
          -0.16150450900000024,
          -2.1635318999999997,
          -1.5520325683999991,
          -0.8718689894,
          -2.2762476083999994,
          -1.3185824458000002,
          -0.8179507354000002,
          -0.5386713059999997
         ],
         "xaxis": "x2",
         "y": [
          -2.4626036060833334,
          -2.2480323367499992,
          -2.59231404075,
          -3.0867893873499996,
          -3.6482091047499994,
          -2.3282499660833325,
          -1.9958626933499992,
          -1.98713690975,
          -3.79574822875,
          -3.5606248020833333,
          -1.7471770100833333,
          -2.8525854053499997,
          -3.0652973277499997,
          -3.216289175749999,
          -1.69514817875,
          -3.2800992907500004,
          -3.789170590083333,
          -1.6305793697499993,
          -1.51313473875,
          -2.0959315023499996,
          -2.1399693060833327,
          -2.9555707693499995,
          -2.885087014083333,
          -1.6385515753500002,
          -2.4053730554166664,
          -1.6983840170833333,
          -1.2145960842499997,
          -2.0883475987500004,
          -2.462435511206368,
          -2.28230765175,
          -3.6163422900833324,
          -2.1050147117499995,
          -2.9866736902499995,
          -1.9799518740833335,
          -3.2904685660833337,
          -2.807517265349999,
          -3.5021084617499993,
          -1.53366497775,
          -1.9206438480833328,
          -1.687524540083333,
          -2.12966082335,
          -1.1830900493500003,
          -1.6723442347499997,
          -2.7654917982499994,
          -2.0446720487500003,
          -2.11261841275,
          -1.546275023349999,
          -2.5883968040833336,
          -2.65497346175,
          -3.1963191950833334,
          -1.5294291002500002,
          -1.9437976020833332,
          -2.09580037975,
          -2.0761363520833327,
          -1.9287676307500008,
          -1.7215968307499998,
          -2.83837679775,
          -2.12173052335,
          -2.5476941140833325,
          -1.3968495207499998,
          -1.1230094362500005,
          -2.7963608667500006,
          -1.9437682787499995,
          -2.430397001873034,
          -0.9641087753499995,
          -1.6295501927499998,
          -2.3680057728730346,
          -2.410391581083334,
          -2.38101250375,
          -1.901858092083333,
          -2.2456144477499995,
          -1.403317935749999,
          -1.8890124227499996,
          -1.9831233832500004,
          -2.0718626537500007,
          -0.7839669622499997,
          -3.6770269277500005,
          -1.6360830107499993,
          -2.0327239182500003,
          -0.8981398962500002,
          -0.83950673135,
          -1.710095268083333,
          -1.8808981170833328,
          -2.45553588875,
          -1.7073429497500001,
          -1.8534158597499997,
          -1.447602272249999,
          -2.0278735282499993,
          -3.48867824775,
          -2.3494092423499993,
          -1.6576347247499996,
          -2.4932515667499997,
          -2.4480668800833336,
          -1.4641229467499997,
          -2.198190997416666,
          -1.0566181303362066,
          -1.467128336083333,
          -2.199838573350001,
          -1.8864377697500003,
          -2.2267719874166665,
          -2.430877182416667,
          -1.8113419907500004,
          -0.6998989983362073,
          -2.12943829475,
          -3.08047911675,
          -1.3321258863362062,
          -1.9869521997500001,
          -2.276622508916666,
          -2.591744302336207,
          -2.789519998336206,
          -1.851243339749999,
          -1.2692292822499993,
          -0.7839204877500002,
          -2.2808143780166668,
          -1.4304653600833332,
          -1.3666620880833336,
          -1.4935204274730354,
          -2.6899523367499993,
          -1.4341814648730349,
          -1.8024791947500005,
          -1.5075855187499996,
          -1.72601680175,
          -2.3772452367499994,
          -0.8375359907499998,
          -2.7228437535397005,
          -3.3758856674166666,
          -2.9082840374166663,
          -1.3546921040833333,
          -1.8058021857500002,
          -2.370526274336206,
          -0.6677820127500006,
          -0.8615458407499993,
          -0.6854175397500001,
          -0.3564998307499998,
          -0.503858560016667,
          -0.6120989167499993,
          -1.1935137927500001,
          -1.626278761416667,
          -2.603250217416666,
          -2.50169440675,
          -0.8017796654166659,
          -1.0826520347500002,
          -1.4819196187499997,
          -0.4841042222499993,
          -2.2008513387499997,
          -0.46308328091666695,
          -2.0581112742500003,
          -1.0549422287499994,
          -0.5643218513500002,
          -1.852917092336206,
          -1.279475534336207,
          -0.9630987983499999,
          -0.5247683162499996,
          -1.6877729233499998,
          -0.7387519502499998,
          -0.7476143673499998,
          -0.42410525641666724,
          -0.94498684275,
          -0.8640701207500001,
          -0.6189702207499999,
          -0.9068602237500002,
          -0.8902599192499998,
          -0.5841874142500003,
          -0.5915919647499998,
          -1.678712948083333,
          -1.3524766323730346,
          -0.7130909663362068,
          -0.66833136825,
          -0.8708096987499999,
          -0.8693005563499995,
          -0.46152036233620636,
          -2.9234386434166666,
          -1.7274028674166657,
          -0.6340018197500001,
          -1.2198285537499998,
          -0.85173720875,
          -1.1450662727499996,
          -2.1864160527500003,
          -2.015626230749999,
          -2.8411269224166675,
          -1.6663319684166666,
          -2.2470740867499983,
          -1.8931250515397011,
          -1.7308155857499998,
          -1.1712720194166664,
          -0.6392676040833329,
          -0.9216114377499999,
          -0.9166636267499996,
          -1.5696857322500002,
          -0.9740595074166662,
          -2.2709338194166677,
          -1.28288346975,
          -1.5392532597499993,
          -1.6862940737499996,
          -0.6959367280833334,
          -2.29339699775,
          -1.9453985987500004,
          -2.10146562475,
          -0.76464933675,
          -1.4091579564166665,
          -2.3968724474166665,
          -1.2701368638730344,
          -0.9685069657499994,
          -1.8466788857499992,
          -1.4096383067500007,
          -1.0361743127499998,
          -1.600610456083332,
          -0.9024532237499997,
          -0.21189162674999978,
          -0.5503341977499993,
          -0.2817920977500002,
          -0.6023795487500003,
          -1.4121983587499998,
          -1.4718349474166665,
          -1.8691788094166668,
          -1.3886068914166656,
          -0.7881843304166665,
          -1.7430861244166664,
          -0.9111350207500003,
          -2.8518245074166666,
          -1.1750378657499994,
          -2.45045222975,
          -1.241888622416667,
          -1.5736872657499987,
          -1.2508262094166667,
          -0.10451529475000002,
          -2.5317387797499995,
          -2.7386896647499994,
          -1.8646064014166668,
          -2.2557921297499997,
          -0.6997160497499998,
          -1.2010446387500004,
          -0.7190280397500004,
          -0.7431208747500001,
          -1.2039269194166664,
          -0.1632261037500001,
          -2.1470177474166663,
          -1.5503801877499988,
          -0.8599277217499995,
          -2.127141850750001,
          -1.3202964047500003,
          -0.6227009227499991,
          -0.01967899774999964
         ],
         "yaxis": "y2"
        },
        {
         "mode": "markers",
         "name": "Volume",
         "type": "scatter",
         "x": [
          62.1201269317667,
          65.59929974851559,
          70.76397698842007,
          65.37615669388408,
          76.01381897430926,
          59.49505700717092,
          59.668291073189785,
          56.97309695609223,
          74.15074536835624,
          61.40220340476369,
          58.61490434603682,
          66.7983340335915,
          63.05880894140952,
          75.13526132667413,
          69.21228004205737,
          70.48829628052674,
          70.88497027372121,
          58.26098792489951,
          62.59193912272767,
          61.13365513937619,
          62.45922522968976,
          72.92743889412984,
          59.35966561911505,
          60.75217475613986,
          63.80021720233885,
          58.67922500977154,
          64.44276112195803,
          58.755619851879835,
          58.319500021342606,
          56.10789451662906,
          72.77488204346425,
          62.5512945491811,
          67.38982886750443,
          56.939013581252276,
          67.26411512562386,
          75.19521547239943,
          58.83985762289643,
          56.78795157166124,
          55.900320190022654,
          64.72251283412746,
          64.99750920665997,
          62.33675876197672,
          64.42511669367143,
          68.86332417595558,
          67.13281089520898,
          66.31593068144113,
          59.64960846958759,
          67.08510278973796,
          59.248922138455875,
          70.95413907681151,
          62.855437882329376,
          63.07013845195382,
          60.3979432475498,
          63.63388435567394,
          67.4736131150708,
          69.8914415658043,
          56.71039927484806,
          63.156119801263955,
          58.69230809649668,
          68.70611203336534,
          64.77379729345958,
          63.945731186314134,
          53.07355768809984,
          54.59912560866635,
          65.24269609888454,
          65.26865595597641,
          64.73897665499463,
          63.7559065002297,
          67.08691710525484,
          63.90634971621028,
          53.716785097599946,
          55.07726385249558,
          67.49331318402852,
          63.10965928824141,
          60.16693948302806,
          69.16684751547484,
          68.98689265397739,
          67.77767792105595,
          67.07296510263137,
          68.02619114264678,
          66.3029354902509,
          65.93935605386685,
          62.394884244135405,
          72.55689561349688,
          55.02966228172412,
          69.16887913401554,
          62.09018098235983,
          65.53973255732694,
          70.8728937721368,
          74.65340065311048,
          79.32984241293673,
          58.726787929889916,
          69.26678920266556,
          74.12429422739261,
          53.025242522589764,
          68.38163912130234,
          55.6171070854287,
          57.204585275290995,
          62.9185759025742,
          54.10253626517338,
          51.475228789683264,
          58.89752587401804,
          73.03812356533092,
          60.15237528120199,
          68.44586839471975,
          66.6889474096607,
          61.7311750736624,
          92.19085476622914,
          72.55966476353424,
          71.1719581712204,
          60.46912786656684,
          64.31844992369547,
          62.02730795445683,
          89.87528405937205,
          69.96669704278166,
          75.71195074188853,
          59.05831395851692,
          68.82568084657431,
          54.84528369468812,
          56.78868112505305,
          58.012850630147575,
          52.94852574731425,
          70.07409939156388,
          60.50011626522569,
          57.75691241254253,
          58.85304673141841,
          57.077354790809295,
          53.101957075051054,
          61.792674200619054,
          69.27365160285488,
          56.57472626396929,
          61.847082438291004,
          54.71946282254193,
          56.69310040003382,
          72.37316103140108,
          70.57091759099293,
          67.90324809457981,
          52.996919172909315,
          58.55670870199426,
          70.71230831964436,
          57.16074725073366,
          60.049780447089674,
          68.98506997761821,
          83.95126452155172,
          72.05911855138874,
          75.79206482417884,
          60.014684858942445,
          61.29977114342224,
          71.56880236010689,
          69.88517771810483,
          66.37939858766198,
          58.13916092561977,
          74.2228531000963,
          57.33532918520518,
          89.05753605405575,
          83.8634894108236,
          68.11294408589744,
          52.316368834752694,
          62.47911346979296,
          62.312628153008475,
          64.11512496108023,
          68.4213195073129,
          66.97438996384103,
          61.33430863947776,
          50.949436059090765,
          65.54824517286744,
          93.63968780473493,
          65.26838653367912,
          60.25237436462964,
          64.6415455507192,
          77.67809273559145,
          56.73341366101276,
          53.244263505234144,
          78.09227731703822,
          73.20496814183277,
          61.77813947332076,
          62.763459271681576,
          49.450828617635864,
          64.17497521827609,
          80.6001827807193,
          47.48972232323486,
          62.84506354149955,
          51.79716745699414,
          49.22213362928917,
          51.9444260137228,
          52.25001531019591,
          63.264976424547065,
          54.219007413757616,
          61.14861197985087,
          62.734466400036546,
          54.48925147302552,
          47.24786719250145,
          53.964181405453154,
          54.442924489117125,
          52.945225019202574,
          56.8767086031238,
          57.101005279421834,
          48.66800081871876,
          67.15787490584141,
          49.99123354172881,
          67.39607685435715,
          51.99639540458534,
          59.06165753858214,
          51.49910135492424,
          53.02215285131863,
          52.290417388064924,
          65.61406419353818,
          48.891748779920675,
          77.36541033597288,
          51.958543490447454,
          53.765721935402766,
          67.18297192655213,
          57.81961530355884,
          58.33700226201805,
          62.920292465133834,
          60.0879244515128,
          45.43780109045,
          60.21967583666518,
          53.32099700887655,
          69.27615743810713,
          61.28783948651671,
          67.7504521495989,
          55.58027535258515,
          46.491042271860906,
          58.2067210237383,
          54.085795069139394,
          55.68049895933286,
          57.47219178112415,
          62.30532592089454,
          69.67737308401624,
          57.90600688543547,
          42.991823945284224,
          59.639716349152586,
          64.75270758778957,
          60.19300384707256,
          60.71055903780999,
          69.520295956479,
          68.07246024263772,
          42.625751769176134,
          48.24822233179429,
          48.94206694176443,
          59.37059829970502,
          57.823011554740695
         ],
         "xaxis": "x3",
         "y": [
          63.14906342457975,
          65.59929974851559,
          71.4285907012129,
          65.49171385629549,
          77.07431052181566,
          59.922759697716636,
          60.866064642145275,
          58.23348991182055,
          74.32554670898205,
          61.40220340476369,
          58.61490434603682,
          66.7983340335915,
          63.19227008845978,
          75.13526132667413,
          70.35635538244601,
          70.48829628052674,
          71.01997313864919,
          58.26098792489951,
          63.556834845711684,
          61.11912479420659,
          63.39114104699642,
          72.92743889412984,
          59.35966561911505,
          60.75217475613986,
          63.96976476254995,
          59.25232803682914,
          64.44276112195803,
          58.755619851879835,
          57.91234574027879,
          56.47327359803378,
          73.96074740540564,
          62.5512945491811,
          67.47978870917987,
          58.64031856788647,
          67.26411512562386,
          76.13256665533781,
          58.83985762289643,
          57.84641929357169,
          57.23804068843266,
          65.91341396431488,
          64.82668610173054,
          63.59654676556202,
          64.17733153205626,
          68.86332417595558,
          67.13281089520898,
          67.1049654561984,
          61.12931948987885,
          67.94623090034395,
          59.42551848449956,
          70.95413907681151,
          62.76469020489101,
          64.21547336522843,
          61.57755902520197,
          63.63388435567394,
          68.64174366791524,
          70.864454291593,
          56.19975561423256,
          64.23163890078015,
          59.00944767205266,
          69.43909948075958,
          66.07194957741817,
          63.16295592953194,
          53.30553410603655,
          54.946370694131424,
          66.25367573946053,
          65.48415898349904,
          65.61237804092859,
          63.851842473577,
          67.15769002397445,
          63.90634971621028,
          53.745207954482915,
          56.203056881149166,
          67.78231600459345,
          63.238020189559734,
          60.67733082827061,
          70.35850277043419,
          69.17836138914774,
          67.77767792105595,
          66.83879192428014,
          69.17709751024132,
          67.42291986772541,
          67.0436533800309,
          63.04788092844678,
          72.21768246815921,
          55.02966228172412,
          69.67818890775195,
          62.97762089316109,
          66.57386524218768,
          71.99498215571205,
          74.65340065311048,
          79.65491918762994,
          58.726787929889916,
          68.98501547948386,
          74.70777290092101,
          53.025242522589764,
          68.60262261525105,
          56.39139875519791,
          57.204585275290995,
          63.120523575171546,
          54.10253626517338,
          54.26048474581901,
          58.258778748431645,
          74.07238969648931,
          60.29679039566384,
          68.15474941663646,
          66.6889474096607,
          61.7311750736624,
          93.76817320196758,
          72.55966476353424,
          71.1719581712204,
          61.82709777288515,
          66.20594225067894,
          63.576091389022885,
          90.97581873262898,
          70.7442566555607,
          76.01870174364761,
          61.91950425785535,
          68.82568084657431,
          55.42670862107124,
          56.628589540333415,
          57.7087725860362,
          52.65299502293593,
          70.07409939156388,
          61.36490393041002,
          58.06198077710698,
          59.0010722886116,
          57.23928827956947,
          53.878919459443516,
          61.792674200619054,
          69.27365160285488,
          56.751354716769065,
          61.847082438291004,
          55.793589759155374,
          56.257612521104434,
          73.698716327076,
          71.41118537597386,
          67.99169860966235,
          52.77775563990637,
          58.55670870199426,
          71.96388740867712,
          57.61912852121193,
          60.61615746211363,
          69.76336218902185,
          83.95126452155172,
          73.29755705300552,
          77.07990692192173,
          60.014684858942445,
          61.29977114342224,
          71.87610219949094,
          70.60272032171409,
          67.44006663288721,
          58.13916092561977,
          75.00835937393516,
          57.72427493335193,
          89.05753605405575,
          81.73842379384307,
          69.5491383976443,
          53.30039279125477,
          59.646539963363715,
          62.425585703929045,
          64.11512496108023,
          72.20306426586795,
          66.52489446797706,
          62.604160522924644,
          49.7945631362843,
          65.90328141912995,
          93.63968780473493,
          66.23687800780135,
          61.70418835153962,
          68.34503711356686,
          78.95204306569005,
          56.73341366101276,
          53.40651528572358,
          77.1257750075502,
          73.60014685629169,
          61.77813947332076,
          62.72537273464162,
          50.121167612811526,
          64.17497521827609,
          82.06034800537797,
          47.48972232323486,
          63.017091198476514,
          52.132135357475256,
          49.22213362928917,
          51.9444260137228,
          53.80230863498618,
          63.684440061159755,
          54.3254369445951,
          61.486287631130566,
          62.734466400036546,
          53.97676689030422,
          47.24786719250145,
          53.84456178860735,
          54.02571356190828,
          53.231081072507145,
          56.759817119617246,
          57.101005279421834,
          49.10300326279377,
          67.45428325640967,
          50.55166582011618,
          68.32803813085468,
          52.26198479368501,
          59.17670270509917,
          51.848925970517726,
          53.21380497954464,
          50.60278799076263,
          66.64785960361091,
          48.891748779920675,
          77.36541033597288,
          52.11003339679049,
          54.82851821037035,
          67.18297192655213,
          58.98279651663666,
          58.5623184227951,
          64.1182487522513,
          60.0879244515128,
          45.43780109045,
          60.35474831531324,
          53.483516561437256,
          70.61532784659279,
          63.216023109056,
          67.7504521495989,
          55.75597083930134,
          46.58900297437676,
          59.32881099084245,
          54.57419554411089,
          54.284997039030245,
          57.47219178112415,
          62.30532592089454,
          71.11550484229129,
          58.92249507561895,
          42.991823945284224,
          59.639716349152586,
          65.44390862037989,
          60.29937371610635,
          60.89549963874947,
          69.09315987921504,
          67.8551067576614,
          42.81809943999384,
          48.24822233179429,
          48.94206694176443,
          60.589080202351056,
          59.037908071244885
         ],
         "yaxis": "y3"
        }
       ],
       "layout": {
        "height": 400,
        "template": {
         "data": {
          "bar": [
           {
            "error_x": {
             "color": "#2a3f5f"
            },
            "error_y": {
             "color": "#2a3f5f"
            },
            "marker": {
             "line": {
              "color": "#E5ECF6",
              "width": 0.5
             }
            },
            "type": "bar"
           }
          ],
          "barpolar": [
           {
            "marker": {
             "line": {
              "color": "#E5ECF6",
              "width": 0.5
             }
            },
            "type": "barpolar"
           }
          ],
          "carpet": [
           {
            "aaxis": {
             "endlinecolor": "#2a3f5f",
             "gridcolor": "white",
             "linecolor": "white",
             "minorgridcolor": "white",
             "startlinecolor": "#2a3f5f"
            },
            "baxis": {
             "endlinecolor": "#2a3f5f",
             "gridcolor": "white",
             "linecolor": "white",
             "minorgridcolor": "white",
             "startlinecolor": "#2a3f5f"
            },
            "type": "carpet"
           }
          ],
          "choropleth": [
           {
            "colorbar": {
             "outlinewidth": 0,
             "ticks": ""
            },
            "type": "choropleth"
           }
          ],
          "contour": [
           {
            "colorbar": {
             "outlinewidth": 0,
             "ticks": ""
            },
            "colorscale": [
             [
              0,
              "#0d0887"
             ],
             [
              0.1111111111111111,
              "#46039f"
             ],
             [
              0.2222222222222222,
              "#7201a8"
             ],
             [
              0.3333333333333333,
              "#9c179e"
             ],
             [
              0.4444444444444444,
              "#bd3786"
             ],
             [
              0.5555555555555556,
              "#d8576b"
             ],
             [
              0.6666666666666666,
              "#ed7953"
             ],
             [
              0.7777777777777778,
              "#fb9f3a"
             ],
             [
              0.8888888888888888,
              "#fdca26"
             ],
             [
              1,
              "#f0f921"
             ]
            ],
            "type": "contour"
           }
          ],
          "contourcarpet": [
           {
            "colorbar": {
             "outlinewidth": 0,
             "ticks": ""
            },
            "type": "contourcarpet"
           }
          ],
          "heatmap": [
           {
            "colorbar": {
             "outlinewidth": 0,
             "ticks": ""
            },
            "colorscale": [
             [
              0,
              "#0d0887"
             ],
             [
              0.1111111111111111,
              "#46039f"
             ],
             [
              0.2222222222222222,
              "#7201a8"
             ],
             [
              0.3333333333333333,
              "#9c179e"
             ],
             [
              0.4444444444444444,
              "#bd3786"
             ],
             [
              0.5555555555555556,
              "#d8576b"
             ],
             [
              0.6666666666666666,
              "#ed7953"
             ],
             [
              0.7777777777777778,
              "#fb9f3a"
             ],
             [
              0.8888888888888888,
              "#fdca26"
             ],
             [
              1,
              "#f0f921"
             ]
            ],
            "type": "heatmap"
           }
          ],
          "heatmapgl": [
           {
            "colorbar": {
             "outlinewidth": 0,
             "ticks": ""
            },
            "colorscale": [
             [
              0,
              "#0d0887"
             ],
             [
              0.1111111111111111,
              "#46039f"
             ],
             [
              0.2222222222222222,
              "#7201a8"
             ],
             [
              0.3333333333333333,
              "#9c179e"
             ],
             [
              0.4444444444444444,
              "#bd3786"
             ],
             [
              0.5555555555555556,
              "#d8576b"
             ],
             [
              0.6666666666666666,
              "#ed7953"
             ],
             [
              0.7777777777777778,
              "#fb9f3a"
             ],
             [
              0.8888888888888888,
              "#fdca26"
             ],
             [
              1,
              "#f0f921"
             ]
            ],
            "type": "heatmapgl"
           }
          ],
          "histogram": [
           {
            "marker": {
             "colorbar": {
              "outlinewidth": 0,
              "ticks": ""
             }
            },
            "type": "histogram"
           }
          ],
          "histogram2d": [
           {
            "colorbar": {
             "outlinewidth": 0,
             "ticks": ""
            },
            "colorscale": [
             [
              0,
              "#0d0887"
             ],
             [
              0.1111111111111111,
              "#46039f"
             ],
             [
              0.2222222222222222,
              "#7201a8"
             ],
             [
              0.3333333333333333,
              "#9c179e"
             ],
             [
              0.4444444444444444,
              "#bd3786"
             ],
             [
              0.5555555555555556,
              "#d8576b"
             ],
             [
              0.6666666666666666,
              "#ed7953"
             ],
             [
              0.7777777777777778,
              "#fb9f3a"
             ],
             [
              0.8888888888888888,
              "#fdca26"
             ],
             [
              1,
              "#f0f921"
             ]
            ],
            "type": "histogram2d"
           }
          ],
          "histogram2dcontour": [
           {
            "colorbar": {
             "outlinewidth": 0,
             "ticks": ""
            },
            "colorscale": [
             [
              0,
              "#0d0887"
             ],
             [
              0.1111111111111111,
              "#46039f"
             ],
             [
              0.2222222222222222,
              "#7201a8"
             ],
             [
              0.3333333333333333,
              "#9c179e"
             ],
             [
              0.4444444444444444,
              "#bd3786"
             ],
             [
              0.5555555555555556,
              "#d8576b"
             ],
             [
              0.6666666666666666,
              "#ed7953"
             ],
             [
              0.7777777777777778,
              "#fb9f3a"
             ],
             [
              0.8888888888888888,
              "#fdca26"
             ],
             [
              1,
              "#f0f921"
             ]
            ],
            "type": "histogram2dcontour"
           }
          ],
          "mesh3d": [
           {
            "colorbar": {
             "outlinewidth": 0,
             "ticks": ""
            },
            "type": "mesh3d"
           }
          ],
          "parcoords": [
           {
            "line": {
             "colorbar": {
              "outlinewidth": 0,
              "ticks": ""
             }
            },
            "type": "parcoords"
           }
          ],
          "pie": [
           {
            "automargin": true,
            "type": "pie"
           }
          ],
          "scatter": [
           {
            "marker": {
             "colorbar": {
              "outlinewidth": 0,
              "ticks": ""
             }
            },
            "type": "scatter"
           }
          ],
          "scatter3d": [
           {
            "line": {
             "colorbar": {
              "outlinewidth": 0,
              "ticks": ""
             }
            },
            "marker": {
             "colorbar": {
              "outlinewidth": 0,
              "ticks": ""
             }
            },
            "type": "scatter3d"
           }
          ],
          "scattercarpet": [
           {
            "marker": {
             "colorbar": {
              "outlinewidth": 0,
              "ticks": ""
             }
            },
            "type": "scattercarpet"
           }
          ],
          "scattergeo": [
           {
            "marker": {
             "colorbar": {
              "outlinewidth": 0,
              "ticks": ""
             }
            },
            "type": "scattergeo"
           }
          ],
          "scattergl": [
           {
            "marker": {
             "colorbar": {
              "outlinewidth": 0,
              "ticks": ""
             }
            },
            "type": "scattergl"
           }
          ],
          "scattermapbox": [
           {
            "marker": {
             "colorbar": {
              "outlinewidth": 0,
              "ticks": ""
             }
            },
            "type": "scattermapbox"
           }
          ],
          "scatterpolar": [
           {
            "marker": {
             "colorbar": {
              "outlinewidth": 0,
              "ticks": ""
             }
            },
            "type": "scatterpolar"
           }
          ],
          "scatterpolargl": [
           {
            "marker": {
             "colorbar": {
              "outlinewidth": 0,
              "ticks": ""
             }
            },
            "type": "scatterpolargl"
           }
          ],
          "scatterternary": [
           {
            "marker": {
             "colorbar": {
              "outlinewidth": 0,
              "ticks": ""
             }
            },
            "type": "scatterternary"
           }
          ],
          "surface": [
           {
            "colorbar": {
             "outlinewidth": 0,
             "ticks": ""
            },
            "colorscale": [
             [
              0,
              "#0d0887"
             ],
             [
              0.1111111111111111,
              "#46039f"
             ],
             [
              0.2222222222222222,
              "#7201a8"
             ],
             [
              0.3333333333333333,
              "#9c179e"
             ],
             [
              0.4444444444444444,
              "#bd3786"
             ],
             [
              0.5555555555555556,
              "#d8576b"
             ],
             [
              0.6666666666666666,
              "#ed7953"
             ],
             [
              0.7777777777777778,
              "#fb9f3a"
             ],
             [
              0.8888888888888888,
              "#fdca26"
             ],
             [
              1,
              "#f0f921"
             ]
            ],
            "type": "surface"
           }
          ],
          "table": [
           {
            "cells": {
             "fill": {
              "color": "#EBF0F8"
             },
             "line": {
              "color": "white"
             }
            },
            "header": {
             "fill": {
              "color": "#C8D4E3"
             },
             "line": {
              "color": "white"
             }
            },
            "type": "table"
           }
          ]
         },
         "layout": {
          "annotationdefaults": {
           "arrowcolor": "#2a3f5f",
           "arrowhead": 0,
           "arrowwidth": 1
          },
          "coloraxis": {
           "colorbar": {
            "outlinewidth": 0,
            "ticks": ""
           }
          },
          "colorscale": {
           "diverging": [
            [
             0,
             "#8e0152"
            ],
            [
             0.1,
             "#c51b7d"
            ],
            [
             0.2,
             "#de77ae"
            ],
            [
             0.3,
             "#f1b6da"
            ],
            [
             0.4,
             "#fde0ef"
            ],
            [
             0.5,
             "#f7f7f7"
            ],
            [
             0.6,
             "#e6f5d0"
            ],
            [
             0.7,
             "#b8e186"
            ],
            [
             0.8,
             "#7fbc41"
            ],
            [
             0.9,
             "#4d9221"
            ],
            [
             1,
             "#276419"
            ]
           ],
           "sequential": [
            [
             0,
             "#0d0887"
            ],
            [
             0.1111111111111111,
             "#46039f"
            ],
            [
             0.2222222222222222,
             "#7201a8"
            ],
            [
             0.3333333333333333,
             "#9c179e"
            ],
            [
             0.4444444444444444,
             "#bd3786"
            ],
            [
             0.5555555555555556,
             "#d8576b"
            ],
            [
             0.6666666666666666,
             "#ed7953"
            ],
            [
             0.7777777777777778,
             "#fb9f3a"
            ],
            [
             0.8888888888888888,
             "#fdca26"
            ],
            [
             1,
             "#f0f921"
            ]
           ],
           "sequentialminus": [
            [
             0,
             "#0d0887"
            ],
            [
             0.1111111111111111,
             "#46039f"
            ],
            [
             0.2222222222222222,
             "#7201a8"
            ],
            [
             0.3333333333333333,
             "#9c179e"
            ],
            [
             0.4444444444444444,
             "#bd3786"
            ],
            [
             0.5555555555555556,
             "#d8576b"
            ],
            [
             0.6666666666666666,
             "#ed7953"
            ],
            [
             0.7777777777777778,
             "#fb9f3a"
            ],
            [
             0.8888888888888888,
             "#fdca26"
            ],
            [
             1,
             "#f0f921"
            ]
           ]
          },
          "colorway": [
           "#636efa",
           "#EF553B",
           "#00cc96",
           "#ab63fa",
           "#FFA15A",
           "#19d3f3",
           "#FF6692",
           "#B6E880",
           "#FF97FF",
           "#FECB52"
          ],
          "font": {
           "color": "#2a3f5f"
          },
          "geo": {
           "bgcolor": "white",
           "lakecolor": "white",
           "landcolor": "#E5ECF6",
           "showlakes": true,
           "showland": true,
           "subunitcolor": "white"
          },
          "hoverlabel": {
           "align": "left"
          },
          "hovermode": "closest",
          "mapbox": {
           "style": "light"
          },
          "paper_bgcolor": "white",
          "plot_bgcolor": "#E5ECF6",
          "polar": {
           "angularaxis": {
            "gridcolor": "white",
            "linecolor": "white",
            "ticks": ""
           },
           "bgcolor": "#E5ECF6",
           "radialaxis": {
            "gridcolor": "white",
            "linecolor": "white",
            "ticks": ""
           }
          },
          "scene": {
           "xaxis": {
            "backgroundcolor": "#E5ECF6",
            "gridcolor": "white",
            "gridwidth": 2,
            "linecolor": "white",
            "showbackground": true,
            "ticks": "",
            "zerolinecolor": "white"
           },
           "yaxis": {
            "backgroundcolor": "#E5ECF6",
            "gridcolor": "white",
            "gridwidth": 2,
            "linecolor": "white",
            "showbackground": true,
            "ticks": "",
            "zerolinecolor": "white"
           },
           "zaxis": {
            "backgroundcolor": "#E5ECF6",
            "gridcolor": "white",
            "gridwidth": 2,
            "linecolor": "white",
            "showbackground": true,
            "ticks": "",
            "zerolinecolor": "white"
           }
          },
          "shapedefaults": {
           "line": {
            "color": "#2a3f5f"
           }
          },
          "ternary": {
           "aaxis": {
            "gridcolor": "white",
            "linecolor": "white",
            "ticks": ""
           },
           "baxis": {
            "gridcolor": "white",
            "linecolor": "white",
            "ticks": ""
           },
           "bgcolor": "#E5ECF6",
           "caxis": {
            "gridcolor": "white",
            "linecolor": "white",
            "ticks": ""
           }
          },
          "title": {
           "x": 0.05
          },
          "xaxis": {
           "automargin": true,
           "gridcolor": "white",
           "linecolor": "white",
           "ticks": "",
           "title": {
            "standoff": 15
           },
           "zerolinecolor": "white",
           "zerolinewidth": 2
          },
          "yaxis": {
           "automargin": true,
           "gridcolor": "white",
           "linecolor": "white",
           "ticks": "",
           "title": {
            "standoff": 15
           },
           "zerolinecolor": "white",
           "zerolinewidth": 2
          }
         }
        },
        "title": {
         "text": "bulk_results"
        },
        "width": 800,
        "xaxis": {
         "anchor": "y",
         "domain": [
          0,
          0.2888888888888889
         ]
        },
        "xaxis2": {
         "anchor": "y2",
         "domain": [
          0.35555555555555557,
          0.6444444444444445
         ]
        },
        "xaxis3": {
         "anchor": "y3",
         "domain": [
          0.7111111111111111,
          1
         ]
        },
        "yaxis": {
         "anchor": "x",
         "domain": [
          0,
          1
         ]
        },
        "yaxis2": {
         "anchor": "x2",
         "domain": [
          0,
          1
         ]
        },
        "yaxis3": {
         "anchor": "x3",
         "domain": [
          0,
          1
         ]
        }
       }
      },
      "text/html": [
       "<div>\n",
       "        \n",
       "        \n",
       "            <div id=\"50e70caf-f2f7-4b5b-93b5-c15cd6d091c2\" class=\"plotly-graph-div\" style=\"height:400px; width:800px;\"></div>\n",
       "            <script type=\"text/javascript\">\n",
       "                require([\"plotly\"], function(Plotly) {\n",
       "                    window.PLOTLYENV=window.PLOTLYENV || {};\n",
       "                    \n",
       "                if (document.getElementById(\"50e70caf-f2f7-4b5b-93b5-c15cd6d091c2\")) {\n",
       "                    Plotly.newPlot(\n",
       "                        '50e70caf-f2f7-4b5b-93b5-c15cd6d091c2',\n",
       "                        [{\"mode\": \"markers\", \"name\": \"total_E\", \"type\": \"scatter\", \"x\": [-37.322174, -31.430283, -35.036352, -41.068797, -41.725654, -31.566454, -34.457037, -34.732044, -43.558491, -39.993901, -26.919581, -38.1603, -41.219396, -36.952047, -28.351462, -42.843981, -43.267873, -33.457163, -33.151618, -36.681892, -34.569767, -38.518635, -36.064785, -33.239594, -39.294269, -26.056929, -28.535619, -36.903438, -33.944695, -31.640592, -41.349199, -32.313805, -40.457388, -29.448763, -42.636386, -36.6818, -39.989584, -31.259107, -35.029002, -28.105762, -32.187048, -27.205669, -26.760658, -37.617293, -36.110353, -34.630174, -31.004061, -34.79627, -35.134875, -36.585858, -32.584369, -31.492846, -32.119595, -35.992092, -31.617451, -29.314066, -36.120876, -31.940746, -34.619374, -24.337859, -26.666976, -35.888063, -29.609381, -34.09085, -24.754501, -25.954877, -33.726506, -38.822345, -38.928669, -32.647953, -32.552355, -26.622473, -32.808351, -36.007043, -34.463219, -22.914421, -42.99766, -30.901805, -31.598021, -24.303896, -23.336794, -29.024696, -24.857385, -34.696811, -27.019988, -24.995001, -30.353962, -31.326307, -41.028167, -31.792918, -23.639023, -33.732522, -34.388644, -25.338108, -33.439945, -27.687156, -31.554429, -32.068676, -29.249431, -34.105805, -36.520919, -24.800351, -22.403634, -31.328128, -36.290383, -31.533101, -35.83633, -31.640146, -36.692356, -39.407348, -31.359155, -25.482006, -23.327351, -31.778416, -24.929023, -21.374958, -28.486514, -36.848706, -27.874129, -29.891016, -27.672565, -30.185323, -34.704893, -26.538107, -40.171165, -43.9004, -41.155739, -26.992505, -32.474605, -33.293981, -22.005455, -28.450833, -20.691597, -18.423319, -19.189063, -22.809136, -22.622163, -27.32243, -37.794628, -34.878671, -24.924764, -28.382446, -31.500965, -16.254689, -32.777929, -18.841536, -31.252992, -29.97021, -20.009156, -30.340464, -29.374104, -24.439753, -19.686835, -29.712671, -18.101245, -18.268215, -19.085251, -24.927814, -19.691533, -24.75548, -24.523516, -18.76387, -19.790186, -23.270625, -30.583716, -27.924066, -17.916694, -20.763226, -25.251133, -19.280119, -19.293214, -36.673252, -28.459663, -17.938237, -20.934357, -26.502138, -32.291303, -32.47812, -38.267765, -35.478707, -29.253344, -41.110476, -30.993965, -26.930381, -23.899186, -21.080378, -26.611618, -23.622576, -28.994665, -19.22933, -32.863133, -23.628391, -32.647684, -29.507424, -18.915047, -33.095955, -34.004484, -34.581168, -26.568623, -26.537821, -38.709513, -27.44292, -29.912659, -31.952883, -26.717562, -29.182659, -30.150818, -21.141735, -16.086975, -20.365982, -22.499902, -24.039877, -37.982627, -31.076698, -31.11803, -32.423901, -23.139373, -35.363134, -27.150352, -37.445173, -31.203502, -36.01622, -21.527333, -31.231205, -27.975832, -22.409414, -38.913721, -42.785197, -39.748498, -34.024998, -24.803267, -23.581186, -26.226973, -25.157287, -29.041559, -17.821425, -37.725668, -31.910268, -26.011596, -35.08902, -26.34919, -27.487986, -27.777521], \"xaxis\": \"x\", \"y\": [-37.1001156, -31.63242596, -34.93217258, -41.13911957, -41.44471339, -31.80402453, -34.18732873, -34.34552387, -43.59189315, -40.12465451, -27.26156938, -38.21162742, -41.23348333, -37.06988222, -28.30819507, -42.91424097, -43.32951538, -33.42945071, -33.02494293, -36.77158005, -34.4007133, -38.58243397, -36.2522689, -33.26748768, -39.45416802, -26.534219545, -28.62894132, -36.93548459, -34.219511535, -31.88429444, -41.05588974, -33.18141944, -40.50867621, -29.560554825, -42.73659777, -36.43268231, -40.14205429, -30.99193341, -34.60975841, -28.0405873, -33.10282594, -27.10135516, -27.11689508, -37.64629451, -36.10666193, -34.49344841, -30.85315958, -34.68309682, -35.21913956, -36.74054274, -32.59201043, -31.48397523, -31.84285645, -36.03449387, -31.63831495, -29.3348591, -36.3286993, -31.77068311, -34.8049957, -24.24325432, -26.67108722, -36.03812774, -29.68961833, -34.36930047, -24.73884694, -26.41954, -33.97685242, -38.92296275, -39.00555694, -32.77419854, -32.67764782, -26.80210613, -32.93945977, -36.07767458, -34.37016152, -22.81385223, -43.07877855, -31.88619085, -32.48827654, -24.27913767, -23.22141595, -29.04786171, -25.09042885, -35.54077315, -27.37238056, -25.18250714, -30.22993095, -31.17153326, -40.72755101, -31.92691067, -23.85034364, -34.00450986, -35.27393853, -25.25046351, -33.80984785, -27.75391985, -31.25595005, -32.24694439, -29.32247388, -34.43613767, -36.59177477, -25.0526297, -22.30838071, -31.58286974, -36.47132383, -31.52036266, -35.89855459, -31.56671768, -36.69242533, -39.43777605, -31.3311854, -25.79997393, -23.14530879, -31.7175419, -24.852686, -21.56341712, -28.79585381, -37.05014564, -28.29496283, -30.05595133, -27.97890919, -30.31935089, -34.88403638, -26.50269449, -40.29814615, -43.97755224, -41.38453872, -27.15567682, -32.60390049, -33.38008299, -22.53676606, -28.57568908, -21.09212891, -18.92233125, -19.19921721, -22.78396208, -23.00048937, -27.4464951, -37.95561919, -34.69937185, -25.31472083, -28.33084847, -31.34764602, -16.44168061, -32.59258275, -18.86547594, -31.40844302, -30.14524478, -19.94288615, -30.21161938, -29.30416556, -23.89720714, -19.6152536, -29.92630744, -18.31749301, -18.49166997, -19.00227475, -24.00847142, -19.62903062, -24.97390695, -24.67417865, -19.42829068, -20.25428935, -23.33709481, -30.67953147, -27.96076996, -18.10405639, -21.15839399, -25.33575724, -19.45335874, -19.21388213, -36.84613838, -28.7072037, -18.12543129, -21.13923093, -26.74031565, -32.44134595, -32.04407418, -38.65272964, -35.40816841, -29.32457596, -41.56644116, -31.2803739, -27.11809401, -24.28945909, -21.45807908, -26.65054012, -24.17120494, -29.20600661, -19.50781888, -33.08891759, -23.7970294, -33.06793667, -29.82828355, -19.03180568, -33.35849484, -34.45824891, -34.81111143, -26.51756718, -26.6139999, -38.50206844, -27.82799765, -30.06632629, -32.40206661, -26.80464531, -29.65712211, -30.0386524, -21.29230441, -16.46173648, -20.84733467, -22.65415623, -24.06868202, -37.79865558, -30.96745617, -30.99442151, -32.50426123, -23.24985998, -35.49385013, -27.08667008, -37.14071549, -31.16113867, -36.20590293, -21.80279604, -31.20531033, -27.92653293, -22.53526649, -39.12851558, -42.8731982, -39.75343752, -33.82311829, -24.83354682, -23.74109307, -26.43002763, -25.27519222, -29.19195734, -18.08646907, -38.54528627, -31.99785339, -25.95253482, -34.51863766, -26.69987606, -26.78095796, -25.40821875], \"yaxis\": \"y\"}, {\"mode\": \"markers\", \"name\": \"DHf\", \"type\": \"scatter\", \"x\": [-2.5301085089999993, -2.2629687819999993, -2.610794782000001, -3.1067656696, -3.7227805190000005, -2.3444722829999995, -2.0765819295999997, -2.0784385166, -3.8083502879999998, -3.5731536676000006, -1.7700747194000002, -2.8680442455999993, -3.0837406566, -3.2224652930000004, -1.7082501424, -3.288032347999999, -3.8044959890000003, -1.6488292266000002, -1.5791314919999997, -2.1138925115999996, -2.204082004, -2.9741492096, -2.893789284, -1.6584602395999994, -2.4159249234, -1.6825189214000003, -1.2151669779999998, -2.1050568986, -2.4600002176, -2.301252522400001, -3.70175882, -2.1057209286000003, -3.0071120289999995, -1.9971254509999998, -3.300782649, -2.8877798406000004, -3.5142429070000007, -1.6083060115999999, -2.018032353, -1.7133794433999996, -2.1335143415999993, -1.2450021445999995, -1.6840208183999998, -2.782071004999999, -2.058841918, -2.161894102999999, -1.6104416246, -2.617047683, -2.6677044752, -3.2034967940000003, -1.5500433990000004, -1.9829367239999995, -2.1480686905999993, -2.0894590190000004, -1.9535884229999994, -1.7249424624, -2.8469601234000006, -2.1654437036000003, -2.5598195610000003, -1.4597107434, -1.159891703999999, -2.8041755829999997, -1.9712016903999998, -2.4311838570000006, -0.9867995839999999, -1.6078392204, -2.3620931165999997, -2.422482291, -2.3894777899999995, -1.8955047980000004, -2.257659291599999, -1.422032090599999, -1.8733150970000003, -2.0015508710000005, -2.1247250434000007, -0.8172402233999996, -3.6924060284000007, -1.6400991040000001, -2.038337100999999, -0.9193067434, -0.8790866639999997, -1.7213377633999998, -1.885562498, -2.461696819999999, -1.7321087588000004, -1.8588163969999996, -1.5030499839999991, -2.065184063, -3.579505059400001, -2.3644096145999995, -1.6597696760000005, -2.4985389756000003, -2.454332721, -1.5050595789999996, -2.200916500400001, -1.0622546066000005, -1.5475726479999992, -2.2140683046000005, -1.9029897500000001, -2.2491138983999988, -2.45335103, -1.8161083374, -0.7318630519999999, -2.1296273655999998, -3.0863544333999995, -1.3565700276000001, -2.0002592584, -2.3205258279999996, -2.6138638335999986, -2.813884257599999, -1.8981511634000001, -1.269711662999999, -0.8240532509999994, -2.3255516685999993, -1.4775118800000002, -1.3731931670000002, -1.4878648381999995, -2.6983236969999993, -1.4235481256, -1.836696592000001, -1.5049735820000005, -1.7393653685999997, -2.3815282869999996, -0.8873783020000005, -2.7470885966, -3.3962478465999992, -2.9088869399999995, -1.3762407269999997, -1.8027878373999997, -2.3920788762000003, -0.6703837024000002, -0.8708355170000004, -0.6758085290000001, -0.36045061739999973, -0.5494523640000001, -0.6679185913999994, -1.1804864298000006, -1.6342362678, -2.6319014619999996, -2.585314327999999, -0.7996999573999996, -1.144278912, -1.5086790796000007, -0.4912683470000001, -2.2771331179999996, -0.5025751234000001, -2.0735596639999994, -1.0627437270000002, -0.6130393006000002, -1.8847956916000004, -1.3238586126, -1.1148242715999994, -0.5712032599999997, -1.6979797815999997, -0.7486123569999996, -0.7593781976000002, -0.47554515099999967, -1.1592916585999997, -0.9187481055999995, -0.6066384960000001, -0.8979657540000006, -0.8089884779999998, -0.5712993014, -0.628120822, -1.6992462049999997, -1.3980033975999995, -0.7284823856000002, -0.6809326993999996, -0.9122552319999997, -0.8896101185999996, -0.5092592885999998, -2.9360493973999993, -1.7501396127999995, -0.6402377846000004, -1.2270256064000002, -0.844002906, -1.1641426002000004, -2.2925498919999994, -1.9926446389999988, -2.8880616873999996, -1.6850944811999995, -2.2182088629999988, -1.8968797473999999, -1.7265645048000002, -1.1930212492000003, -0.6337669654, -0.9161059174000001, -0.9255151005999999, -1.577006741, -0.9710930968000007, -2.2804844138000004, -1.2892353230000004, -1.509168666, -1.687829313, -0.7158020210000003, -2.2990766965999994, -1.9528555179999998, -2.1013583759999994, -0.78081556, -1.4419625808000003, -2.441490662, -1.2651574466, -0.979084648, -1.8544870443999997, -1.4128310044000003, -1.0500618114000002, -1.6640969224000002, -0.9038713130000005, -0.19873074999999965, -0.5648671483999997, -0.29048726199999947, -0.5989577173999997, -1.489570601, -1.5324937337999998, -1.9084252128000005, -1.4028463488, -0.7973362893999998, -1.7576656208000003, -0.9458693574000001, -2.947979149799999, -1.197293665, -2.4596776179999993, -1.2465776278, -1.5807547811999996, -1.3065594537999998, -0.15169509380000007, -2.541328409, -2.7547586185999995, -1.8825345979999994, -2.3424308489999994, -0.7505331530000007, -1.207645444, -0.7168210270000003, -0.7626973446, -1.2012515278000002, -0.16150450900000024, -2.1635318999999997, -1.5520325683999991, -0.8718689894, -2.2762476083999994, -1.3185824458000002, -0.8179507354000002, -0.5386713059999997], \"xaxis\": \"x2\", \"y\": [-2.4626036060833334, -2.2480323367499992, -2.59231404075, -3.0867893873499996, -3.6482091047499994, -2.3282499660833325, -1.9958626933499992, -1.98713690975, -3.79574822875, -3.5606248020833333, -1.7471770100833333, -2.8525854053499997, -3.0652973277499997, -3.216289175749999, -1.69514817875, -3.2800992907500004, -3.789170590083333, -1.6305793697499993, -1.51313473875, -2.0959315023499996, -2.1399693060833327, -2.9555707693499995, -2.885087014083333, -1.6385515753500002, -2.4053730554166664, -1.6983840170833333, -1.2145960842499997, -2.0883475987500004, -2.462435511206368, -2.28230765175, -3.6163422900833324, -2.1050147117499995, -2.9866736902499995, -1.9799518740833335, -3.2904685660833337, -2.807517265349999, -3.5021084617499993, -1.53366497775, -1.9206438480833328, -1.687524540083333, -2.12966082335, -1.1830900493500003, -1.6723442347499997, -2.7654917982499994, -2.0446720487500003, -2.11261841275, -1.546275023349999, -2.5883968040833336, -2.65497346175, -3.1963191950833334, -1.5294291002500002, -1.9437976020833332, -2.09580037975, -2.0761363520833327, -1.9287676307500008, -1.7215968307499998, -2.83837679775, -2.12173052335, -2.5476941140833325, -1.3968495207499998, -1.1230094362500005, -2.7963608667500006, -1.9437682787499995, -2.430397001873034, -0.9641087753499995, -1.6295501927499998, -2.3680057728730346, -2.410391581083334, -2.38101250375, -1.901858092083333, -2.2456144477499995, -1.403317935749999, -1.8890124227499996, -1.9831233832500004, -2.0718626537500007, -0.7839669622499997, -3.6770269277500005, -1.6360830107499993, -2.0327239182500003, -0.8981398962500002, -0.83950673135, -1.710095268083333, -1.8808981170833328, -2.45553588875, -1.7073429497500001, -1.8534158597499997, -1.447602272249999, -2.0278735282499993, -3.48867824775, -2.3494092423499993, -1.6576347247499996, -2.4932515667499997, -2.4480668800833336, -1.4641229467499997, -2.198190997416666, -1.0566181303362066, -1.467128336083333, -2.199838573350001, -1.8864377697500003, -2.2267719874166665, -2.430877182416667, -1.8113419907500004, -0.6998989983362073, -2.12943829475, -3.08047911675, -1.3321258863362062, -1.9869521997500001, -2.276622508916666, -2.591744302336207, -2.789519998336206, -1.851243339749999, -1.2692292822499993, -0.7839204877500002, -2.2808143780166668, -1.4304653600833332, -1.3666620880833336, -1.4935204274730354, -2.6899523367499993, -1.4341814648730349, -1.8024791947500005, -1.5075855187499996, -1.72601680175, -2.3772452367499994, -0.8375359907499998, -2.7228437535397005, -3.3758856674166666, -2.9082840374166663, -1.3546921040833333, -1.8058021857500002, -2.370526274336206, -0.6677820127500006, -0.8615458407499993, -0.6854175397500001, -0.3564998307499998, -0.503858560016667, -0.6120989167499993, -1.1935137927500001, -1.626278761416667, -2.603250217416666, -2.50169440675, -0.8017796654166659, -1.0826520347500002, -1.4819196187499997, -0.4841042222499993, -2.2008513387499997, -0.46308328091666695, -2.0581112742500003, -1.0549422287499994, -0.5643218513500002, -1.852917092336206, -1.279475534336207, -0.9630987983499999, -0.5247683162499996, -1.6877729233499998, -0.7387519502499998, -0.7476143673499998, -0.42410525641666724, -0.94498684275, -0.8640701207500001, -0.6189702207499999, -0.9068602237500002, -0.8902599192499998, -0.5841874142500003, -0.5915919647499998, -1.678712948083333, -1.3524766323730346, -0.7130909663362068, -0.66833136825, -0.8708096987499999, -0.8693005563499995, -0.46152036233620636, -2.9234386434166666, -1.7274028674166657, -0.6340018197500001, -1.2198285537499998, -0.85173720875, -1.1450662727499996, -2.1864160527500003, -2.015626230749999, -2.8411269224166675, -1.6663319684166666, -2.2470740867499983, -1.8931250515397011, -1.7308155857499998, -1.1712720194166664, -0.6392676040833329, -0.9216114377499999, -0.9166636267499996, -1.5696857322500002, -0.9740595074166662, -2.2709338194166677, -1.28288346975, -1.5392532597499993, -1.6862940737499996, -0.6959367280833334, -2.29339699775, -1.9453985987500004, -2.10146562475, -0.76464933675, -1.4091579564166665, -2.3968724474166665, -1.2701368638730344, -0.9685069657499994, -1.8466788857499992, -1.4096383067500007, -1.0361743127499998, -1.600610456083332, -0.9024532237499997, -0.21189162674999978, -0.5503341977499993, -0.2817920977500002, -0.6023795487500003, -1.4121983587499998, -1.4718349474166665, -1.8691788094166668, -1.3886068914166656, -0.7881843304166665, -1.7430861244166664, -0.9111350207500003, -2.8518245074166666, -1.1750378657499994, -2.45045222975, -1.241888622416667, -1.5736872657499987, -1.2508262094166667, -0.10451529475000002, -2.5317387797499995, -2.7386896647499994, -1.8646064014166668, -2.2557921297499997, -0.6997160497499998, -1.2010446387500004, -0.7190280397500004, -0.7431208747500001, -1.2039269194166664, -0.1632261037500001, -2.1470177474166663, -1.5503801877499988, -0.8599277217499995, -2.127141850750001, -1.3202964047500003, -0.6227009227499991, -0.01967899774999964], \"yaxis\": \"y2\"}, {\"mode\": \"markers\", \"name\": \"Volume\", \"type\": \"scatter\", \"x\": [62.1201269317667, 65.59929974851559, 70.76397698842007, 65.37615669388408, 76.01381897430926, 59.49505700717092, 59.668291073189785, 56.97309695609223, 74.15074536835624, 61.40220340476369, 58.61490434603682, 66.7983340335915, 63.05880894140952, 75.13526132667413, 69.21228004205737, 70.48829628052674, 70.88497027372121, 58.26098792489951, 62.59193912272767, 61.13365513937619, 62.45922522968976, 72.92743889412984, 59.35966561911505, 60.75217475613986, 63.80021720233885, 58.67922500977154, 64.44276112195803, 58.755619851879835, 58.319500021342606, 56.10789451662906, 72.77488204346425, 62.5512945491811, 67.38982886750443, 56.939013581252276, 67.26411512562386, 75.19521547239943, 58.83985762289643, 56.78795157166124, 55.900320190022654, 64.72251283412746, 64.99750920665997, 62.33675876197672, 64.42511669367143, 68.86332417595558, 67.13281089520898, 66.31593068144113, 59.64960846958759, 67.08510278973796, 59.248922138455875, 70.95413907681151, 62.855437882329376, 63.07013845195382, 60.3979432475498, 63.63388435567394, 67.4736131150708, 69.8914415658043, 56.71039927484806, 63.156119801263955, 58.69230809649668, 68.70611203336534, 64.77379729345958, 63.945731186314134, 53.07355768809984, 54.59912560866635, 65.24269609888454, 65.26865595597641, 64.73897665499463, 63.7559065002297, 67.08691710525484, 63.90634971621028, 53.716785097599946, 55.07726385249558, 67.49331318402852, 63.10965928824141, 60.16693948302806, 69.16684751547484, 68.98689265397739, 67.77767792105595, 67.07296510263137, 68.02619114264678, 66.3029354902509, 65.93935605386685, 62.394884244135405, 72.55689561349688, 55.02966228172412, 69.16887913401554, 62.09018098235983, 65.53973255732694, 70.8728937721368, 74.65340065311048, 79.32984241293673, 58.726787929889916, 69.26678920266556, 74.12429422739261, 53.025242522589764, 68.38163912130234, 55.6171070854287, 57.204585275290995, 62.9185759025742, 54.10253626517338, 51.475228789683264, 58.89752587401804, 73.03812356533092, 60.15237528120199, 68.44586839471975, 66.6889474096607, 61.7311750736624, 92.19085476622914, 72.55966476353424, 71.1719581712204, 60.46912786656684, 64.31844992369547, 62.02730795445683, 89.87528405937205, 69.96669704278166, 75.71195074188853, 59.05831395851692, 68.82568084657431, 54.84528369468812, 56.78868112505305, 58.012850630147575, 52.94852574731425, 70.07409939156388, 60.50011626522569, 57.75691241254253, 58.85304673141841, 57.077354790809295, 53.101957075051054, 61.792674200619054, 69.27365160285488, 56.57472626396929, 61.847082438291004, 54.71946282254193, 56.69310040003382, 72.37316103140108, 70.57091759099293, 67.90324809457981, 52.996919172909315, 58.55670870199426, 70.71230831964436, 57.16074725073366, 60.049780447089674, 68.98506997761821, 83.95126452155172, 72.05911855138874, 75.79206482417884, 60.014684858942445, 61.29977114342224, 71.56880236010689, 69.88517771810483, 66.37939858766198, 58.13916092561977, 74.2228531000963, 57.33532918520518, 89.05753605405575, 83.8634894108236, 68.11294408589744, 52.316368834752694, 62.47911346979296, 62.312628153008475, 64.11512496108023, 68.4213195073129, 66.97438996384103, 61.33430863947776, 50.949436059090765, 65.54824517286744, 93.63968780473493, 65.26838653367912, 60.25237436462964, 64.6415455507192, 77.67809273559145, 56.73341366101276, 53.244263505234144, 78.09227731703822, 73.20496814183277, 61.77813947332076, 62.763459271681576, 49.450828617635864, 64.17497521827609, 80.6001827807193, 47.48972232323486, 62.84506354149955, 51.79716745699414, 49.22213362928917, 51.9444260137228, 52.25001531019591, 63.264976424547065, 54.219007413757616, 61.14861197985087, 62.734466400036546, 54.48925147302552, 47.24786719250145, 53.964181405453154, 54.442924489117125, 52.945225019202574, 56.8767086031238, 57.101005279421834, 48.66800081871876, 67.15787490584141, 49.99123354172881, 67.39607685435715, 51.99639540458534, 59.06165753858214, 51.49910135492424, 53.02215285131863, 52.290417388064924, 65.61406419353818, 48.891748779920675, 77.36541033597288, 51.958543490447454, 53.765721935402766, 67.18297192655213, 57.81961530355884, 58.33700226201805, 62.920292465133834, 60.0879244515128, 45.43780109045, 60.21967583666518, 53.32099700887655, 69.27615743810713, 61.28783948651671, 67.7504521495989, 55.58027535258515, 46.491042271860906, 58.2067210237383, 54.085795069139394, 55.68049895933286, 57.47219178112415, 62.30532592089454, 69.67737308401624, 57.90600688543547, 42.991823945284224, 59.639716349152586, 64.75270758778957, 60.19300384707256, 60.71055903780999, 69.520295956479, 68.07246024263772, 42.625751769176134, 48.24822233179429, 48.94206694176443, 59.37059829970502, 57.823011554740695], \"xaxis\": \"x3\", \"y\": [63.14906342457975, 65.59929974851559, 71.4285907012129, 65.49171385629549, 77.07431052181566, 59.922759697716636, 60.866064642145275, 58.23348991182055, 74.32554670898205, 61.40220340476369, 58.61490434603682, 66.7983340335915, 63.19227008845978, 75.13526132667413, 70.35635538244601, 70.48829628052674, 71.01997313864919, 58.26098792489951, 63.556834845711684, 61.11912479420659, 63.39114104699642, 72.92743889412984, 59.35966561911505, 60.75217475613986, 63.96976476254995, 59.25232803682914, 64.44276112195803, 58.755619851879835, 57.91234574027879, 56.47327359803378, 73.96074740540564, 62.5512945491811, 67.47978870917987, 58.64031856788647, 67.26411512562386, 76.13256665533781, 58.83985762289643, 57.84641929357169, 57.23804068843266, 65.91341396431488, 64.82668610173054, 63.59654676556202, 64.17733153205626, 68.86332417595558, 67.13281089520898, 67.1049654561984, 61.12931948987885, 67.94623090034395, 59.42551848449956, 70.95413907681151, 62.76469020489101, 64.21547336522843, 61.57755902520197, 63.63388435567394, 68.64174366791524, 70.864454291593, 56.19975561423256, 64.23163890078015, 59.00944767205266, 69.43909948075958, 66.07194957741817, 63.16295592953194, 53.30553410603655, 54.946370694131424, 66.25367573946053, 65.48415898349904, 65.61237804092859, 63.851842473577, 67.15769002397445, 63.90634971621028, 53.745207954482915, 56.203056881149166, 67.78231600459345, 63.238020189559734, 60.67733082827061, 70.35850277043419, 69.17836138914774, 67.77767792105595, 66.83879192428014, 69.17709751024132, 67.42291986772541, 67.0436533800309, 63.04788092844678, 72.21768246815921, 55.02966228172412, 69.67818890775195, 62.97762089316109, 66.57386524218768, 71.99498215571205, 74.65340065311048, 79.65491918762994, 58.726787929889916, 68.98501547948386, 74.70777290092101, 53.025242522589764, 68.60262261525105, 56.39139875519791, 57.204585275290995, 63.120523575171546, 54.10253626517338, 54.26048474581901, 58.258778748431645, 74.07238969648931, 60.29679039566384, 68.15474941663646, 66.6889474096607, 61.7311750736624, 93.76817320196758, 72.55966476353424, 71.1719581712204, 61.82709777288515, 66.20594225067894, 63.576091389022885, 90.97581873262898, 70.7442566555607, 76.01870174364761, 61.91950425785535, 68.82568084657431, 55.42670862107124, 56.628589540333415, 57.7087725860362, 52.65299502293593, 70.07409939156388, 61.36490393041002, 58.06198077710698, 59.0010722886116, 57.23928827956947, 53.878919459443516, 61.792674200619054, 69.27365160285488, 56.751354716769065, 61.847082438291004, 55.793589759155374, 56.257612521104434, 73.698716327076, 71.41118537597386, 67.99169860966235, 52.77775563990637, 58.55670870199426, 71.96388740867712, 57.61912852121193, 60.61615746211363, 69.76336218902185, 83.95126452155172, 73.29755705300552, 77.07990692192173, 60.014684858942445, 61.29977114342224, 71.87610219949094, 70.60272032171409, 67.44006663288721, 58.13916092561977, 75.00835937393516, 57.72427493335193, 89.05753605405575, 81.73842379384307, 69.5491383976443, 53.30039279125477, 59.646539963363715, 62.425585703929045, 64.11512496108023, 72.20306426586795, 66.52489446797706, 62.604160522924644, 49.7945631362843, 65.90328141912995, 93.63968780473493, 66.23687800780135, 61.70418835153962, 68.34503711356686, 78.95204306569005, 56.73341366101276, 53.40651528572358, 77.1257750075502, 73.60014685629169, 61.77813947332076, 62.72537273464162, 50.121167612811526, 64.17497521827609, 82.06034800537797, 47.48972232323486, 63.017091198476514, 52.132135357475256, 49.22213362928917, 51.9444260137228, 53.80230863498618, 63.684440061159755, 54.3254369445951, 61.486287631130566, 62.734466400036546, 53.97676689030422, 47.24786719250145, 53.84456178860735, 54.02571356190828, 53.231081072507145, 56.759817119617246, 57.101005279421834, 49.10300326279377, 67.45428325640967, 50.55166582011618, 68.32803813085468, 52.26198479368501, 59.17670270509917, 51.848925970517726, 53.21380497954464, 50.60278799076263, 66.64785960361091, 48.891748779920675, 77.36541033597288, 52.11003339679049, 54.82851821037035, 67.18297192655213, 58.98279651663666, 58.5623184227951, 64.1182487522513, 60.0879244515128, 45.43780109045, 60.35474831531324, 53.483516561437256, 70.61532784659279, 63.216023109056, 67.7504521495989, 55.75597083930134, 46.58900297437676, 59.32881099084245, 54.57419554411089, 54.284997039030245, 57.47219178112415, 62.30532592089454, 71.11550484229129, 58.92249507561895, 42.991823945284224, 59.639716349152586, 65.44390862037989, 60.29937371610635, 60.89549963874947, 69.09315987921504, 67.8551067576614, 42.81809943999384, 48.24822233179429, 48.94206694176443, 60.589080202351056, 59.037908071244885], \"yaxis\": \"y3\"}],\n",
       "                        {\"height\": 400, \"template\": {\"data\": {\"bar\": [{\"error_x\": {\"color\": \"#2a3f5f\"}, \"error_y\": {\"color\": \"#2a3f5f\"}, \"marker\": {\"line\": {\"color\": \"#E5ECF6\", \"width\": 0.5}}, \"type\": \"bar\"}], \"barpolar\": [{\"marker\": {\"line\": {\"color\": \"#E5ECF6\", \"width\": 0.5}}, \"type\": \"barpolar\"}], \"carpet\": [{\"aaxis\": {\"endlinecolor\": \"#2a3f5f\", \"gridcolor\": \"white\", \"linecolor\": \"white\", \"minorgridcolor\": \"white\", \"startlinecolor\": \"#2a3f5f\"}, \"baxis\": {\"endlinecolor\": \"#2a3f5f\", \"gridcolor\": \"white\", \"linecolor\": \"white\", \"minorgridcolor\": \"white\", \"startlinecolor\": \"#2a3f5f\"}, \"type\": \"carpet\"}], \"choropleth\": [{\"colorbar\": {\"outlinewidth\": 0, \"ticks\": \"\"}, \"type\": \"choropleth\"}], \"contour\": [{\"colorbar\": {\"outlinewidth\": 0, \"ticks\": \"\"}, \"colorscale\": [[0.0, \"#0d0887\"], [0.1111111111111111, \"#46039f\"], [0.2222222222222222, \"#7201a8\"], [0.3333333333333333, \"#9c179e\"], [0.4444444444444444, \"#bd3786\"], [0.5555555555555556, \"#d8576b\"], [0.6666666666666666, \"#ed7953\"], [0.7777777777777778, \"#fb9f3a\"], [0.8888888888888888, \"#fdca26\"], [1.0, \"#f0f921\"]], \"type\": \"contour\"}], \"contourcarpet\": [{\"colorbar\": {\"outlinewidth\": 0, \"ticks\": \"\"}, \"type\": \"contourcarpet\"}], \"heatmap\": [{\"colorbar\": {\"outlinewidth\": 0, \"ticks\": \"\"}, \"colorscale\": [[0.0, \"#0d0887\"], [0.1111111111111111, \"#46039f\"], [0.2222222222222222, \"#7201a8\"], [0.3333333333333333, \"#9c179e\"], [0.4444444444444444, \"#bd3786\"], [0.5555555555555556, \"#d8576b\"], [0.6666666666666666, \"#ed7953\"], [0.7777777777777778, \"#fb9f3a\"], [0.8888888888888888, \"#fdca26\"], [1.0, \"#f0f921\"]], \"type\": \"heatmap\"}], \"heatmapgl\": [{\"colorbar\": {\"outlinewidth\": 0, \"ticks\": \"\"}, \"colorscale\": [[0.0, \"#0d0887\"], [0.1111111111111111, \"#46039f\"], [0.2222222222222222, \"#7201a8\"], [0.3333333333333333, \"#9c179e\"], [0.4444444444444444, \"#bd3786\"], [0.5555555555555556, \"#d8576b\"], [0.6666666666666666, \"#ed7953\"], [0.7777777777777778, \"#fb9f3a\"], [0.8888888888888888, \"#fdca26\"], [1.0, \"#f0f921\"]], \"type\": \"heatmapgl\"}], \"histogram\": [{\"marker\": {\"colorbar\": {\"outlinewidth\": 0, \"ticks\": \"\"}}, \"type\": \"histogram\"}], \"histogram2d\": [{\"colorbar\": {\"outlinewidth\": 0, \"ticks\": \"\"}, \"colorscale\": [[0.0, \"#0d0887\"], [0.1111111111111111, \"#46039f\"], [0.2222222222222222, \"#7201a8\"], [0.3333333333333333, \"#9c179e\"], [0.4444444444444444, \"#bd3786\"], [0.5555555555555556, \"#d8576b\"], [0.6666666666666666, \"#ed7953\"], [0.7777777777777778, \"#fb9f3a\"], [0.8888888888888888, \"#fdca26\"], [1.0, \"#f0f921\"]], \"type\": \"histogram2d\"}], \"histogram2dcontour\": [{\"colorbar\": {\"outlinewidth\": 0, \"ticks\": \"\"}, \"colorscale\": [[0.0, \"#0d0887\"], [0.1111111111111111, \"#46039f\"], [0.2222222222222222, \"#7201a8\"], [0.3333333333333333, \"#9c179e\"], [0.4444444444444444, \"#bd3786\"], [0.5555555555555556, \"#d8576b\"], [0.6666666666666666, \"#ed7953\"], [0.7777777777777778, \"#fb9f3a\"], [0.8888888888888888, \"#fdca26\"], [1.0, \"#f0f921\"]], \"type\": \"histogram2dcontour\"}], \"mesh3d\": [{\"colorbar\": {\"outlinewidth\": 0, \"ticks\": \"\"}, \"type\": \"mesh3d\"}], \"parcoords\": [{\"line\": {\"colorbar\": {\"outlinewidth\": 0, \"ticks\": \"\"}}, \"type\": \"parcoords\"}], \"pie\": [{\"automargin\": true, \"type\": \"pie\"}], \"scatter\": [{\"marker\": {\"colorbar\": {\"outlinewidth\": 0, \"ticks\": \"\"}}, \"type\": \"scatter\"}], \"scatter3d\": [{\"line\": {\"colorbar\": {\"outlinewidth\": 0, \"ticks\": \"\"}}, \"marker\": {\"colorbar\": {\"outlinewidth\": 0, \"ticks\": \"\"}}, \"type\": \"scatter3d\"}], \"scattercarpet\": [{\"marker\": {\"colorbar\": {\"outlinewidth\": 0, \"ticks\": \"\"}}, \"type\": \"scattercarpet\"}], \"scattergeo\": [{\"marker\": {\"colorbar\": {\"outlinewidth\": 0, \"ticks\": \"\"}}, \"type\": \"scattergeo\"}], \"scattergl\": [{\"marker\": {\"colorbar\": {\"outlinewidth\": 0, \"ticks\": \"\"}}, \"type\": \"scattergl\"}], \"scattermapbox\": [{\"marker\": {\"colorbar\": {\"outlinewidth\": 0, \"ticks\": \"\"}}, \"type\": \"scattermapbox\"}], \"scatterpolar\": [{\"marker\": {\"colorbar\": {\"outlinewidth\": 0, \"ticks\": \"\"}}, \"type\": \"scatterpolar\"}], \"scatterpolargl\": [{\"marker\": {\"colorbar\": {\"outlinewidth\": 0, \"ticks\": \"\"}}, \"type\": \"scatterpolargl\"}], \"scatterternary\": [{\"marker\": {\"colorbar\": {\"outlinewidth\": 0, \"ticks\": \"\"}}, \"type\": \"scatterternary\"}], \"surface\": [{\"colorbar\": {\"outlinewidth\": 0, \"ticks\": \"\"}, \"colorscale\": [[0.0, \"#0d0887\"], [0.1111111111111111, \"#46039f\"], [0.2222222222222222, \"#7201a8\"], [0.3333333333333333, \"#9c179e\"], [0.4444444444444444, \"#bd3786\"], [0.5555555555555556, \"#d8576b\"], [0.6666666666666666, \"#ed7953\"], [0.7777777777777778, \"#fb9f3a\"], [0.8888888888888888, \"#fdca26\"], [1.0, \"#f0f921\"]], \"type\": \"surface\"}], \"table\": [{\"cells\": {\"fill\": {\"color\": \"#EBF0F8\"}, \"line\": {\"color\": \"white\"}}, \"header\": {\"fill\": {\"color\": \"#C8D4E3\"}, \"line\": {\"color\": \"white\"}}, \"type\": \"table\"}]}, \"layout\": {\"annotationdefaults\": {\"arrowcolor\": \"#2a3f5f\", \"arrowhead\": 0, \"arrowwidth\": 1}, \"coloraxis\": {\"colorbar\": {\"outlinewidth\": 0, \"ticks\": \"\"}}, \"colorscale\": {\"diverging\": [[0, \"#8e0152\"], [0.1, \"#c51b7d\"], [0.2, \"#de77ae\"], [0.3, \"#f1b6da\"], [0.4, \"#fde0ef\"], [0.5, \"#f7f7f7\"], [0.6, \"#e6f5d0\"], [0.7, \"#b8e186\"], [0.8, \"#7fbc41\"], [0.9, \"#4d9221\"], [1, \"#276419\"]], \"sequential\": [[0.0, \"#0d0887\"], [0.1111111111111111, \"#46039f\"], [0.2222222222222222, \"#7201a8\"], [0.3333333333333333, \"#9c179e\"], [0.4444444444444444, \"#bd3786\"], [0.5555555555555556, \"#d8576b\"], [0.6666666666666666, \"#ed7953\"], [0.7777777777777778, \"#fb9f3a\"], [0.8888888888888888, \"#fdca26\"], [1.0, \"#f0f921\"]], \"sequentialminus\": [[0.0, \"#0d0887\"], [0.1111111111111111, \"#46039f\"], [0.2222222222222222, \"#7201a8\"], [0.3333333333333333, \"#9c179e\"], [0.4444444444444444, \"#bd3786\"], [0.5555555555555556, \"#d8576b\"], [0.6666666666666666, \"#ed7953\"], [0.7777777777777778, \"#fb9f3a\"], [0.8888888888888888, \"#fdca26\"], [1.0, \"#f0f921\"]]}, \"colorway\": [\"#636efa\", \"#EF553B\", \"#00cc96\", \"#ab63fa\", \"#FFA15A\", \"#19d3f3\", \"#FF6692\", \"#B6E880\", \"#FF97FF\", \"#FECB52\"], \"font\": {\"color\": \"#2a3f5f\"}, \"geo\": {\"bgcolor\": \"white\", \"lakecolor\": \"white\", \"landcolor\": \"#E5ECF6\", \"showlakes\": true, \"showland\": true, \"subunitcolor\": \"white\"}, \"hoverlabel\": {\"align\": \"left\"}, \"hovermode\": \"closest\", \"mapbox\": {\"style\": \"light\"}, \"paper_bgcolor\": \"white\", \"plot_bgcolor\": \"#E5ECF6\", \"polar\": {\"angularaxis\": {\"gridcolor\": \"white\", \"linecolor\": \"white\", \"ticks\": \"\"}, \"bgcolor\": \"#E5ECF6\", \"radialaxis\": {\"gridcolor\": \"white\", \"linecolor\": \"white\", \"ticks\": \"\"}}, \"scene\": {\"xaxis\": {\"backgroundcolor\": \"#E5ECF6\", \"gridcolor\": \"white\", \"gridwidth\": 2, \"linecolor\": \"white\", \"showbackground\": true, \"ticks\": \"\", \"zerolinecolor\": \"white\"}, \"yaxis\": {\"backgroundcolor\": \"#E5ECF6\", \"gridcolor\": \"white\", \"gridwidth\": 2, \"linecolor\": \"white\", \"showbackground\": true, \"ticks\": \"\", \"zerolinecolor\": \"white\"}, \"zaxis\": {\"backgroundcolor\": \"#E5ECF6\", \"gridcolor\": \"white\", \"gridwidth\": 2, \"linecolor\": \"white\", \"showbackground\": true, \"ticks\": \"\", \"zerolinecolor\": \"white\"}}, \"shapedefaults\": {\"line\": {\"color\": \"#2a3f5f\"}}, \"ternary\": {\"aaxis\": {\"gridcolor\": \"white\", \"linecolor\": \"white\", \"ticks\": \"\"}, \"baxis\": {\"gridcolor\": \"white\", \"linecolor\": \"white\", \"ticks\": \"\"}, \"bgcolor\": \"#E5ECF6\", \"caxis\": {\"gridcolor\": \"white\", \"linecolor\": \"white\", \"ticks\": \"\"}}, \"title\": {\"x\": 0.05}, \"xaxis\": {\"automargin\": true, \"gridcolor\": \"white\", \"linecolor\": \"white\", \"ticks\": \"\", \"title\": {\"standoff\": 15}, \"zerolinecolor\": \"white\", \"zerolinewidth\": 2}, \"yaxis\": {\"automargin\": true, \"gridcolor\": \"white\", \"linecolor\": \"white\", \"ticks\": \"\", \"title\": {\"standoff\": 15}, \"zerolinecolor\": \"white\", \"zerolinewidth\": 2}}}, \"title\": {\"text\": \"bulk_results\"}, \"width\": 800, \"xaxis\": {\"anchor\": \"y\", \"domain\": [0.0, 0.2888888888888889]}, \"xaxis2\": {\"anchor\": \"y2\", \"domain\": [0.35555555555555557, 0.6444444444444445]}, \"xaxis3\": {\"anchor\": \"y3\", \"domain\": [0.7111111111111111, 1.0]}, \"yaxis\": {\"anchor\": \"x\", \"domain\": [0.0, 1.0]}, \"yaxis2\": {\"anchor\": \"x2\", \"domain\": [0.0, 1.0]}, \"yaxis3\": {\"anchor\": \"x3\", \"domain\": [0.0, 1.0]}},\n",
       "                        {\"responsive\": true}\n",
       "                    ).then(function(){\n",
       "                            \n",
       "var gd = document.getElementById('50e70caf-f2f7-4b5b-93b5-c15cd6d091c2');\n",
       "var x = new MutationObserver(function (mutations, observer) {{\n",
       "        var display = window.getComputedStyle(gd).display;\n",
       "        if (!display || display === 'none') {{\n",
       "            console.log([gd, 'removed!']);\n",
       "            Plotly.purge(gd);\n",
       "            observer.disconnect();\n",
       "        }}\n",
       "}});\n",
       "\n",
       "// Listen for the removal of the full notebook cells\n",
       "var notebookContainer = gd.closest('#notebook-container');\n",
       "if (notebookContainer) {{\n",
       "    x.observe(notebookContainer, {childList: true});\n",
       "}}\n",
       "\n",
       "// Listen for the clearing of the current output cell\n",
       "var outputEl = gd.closest('.output');\n",
       "if (outputEl) {{\n",
       "    x.observe(outputEl, {childList: true});\n",
       "}}\n",
       "\n",
       "                        })\n",
       "                };\n",
       "                });\n",
       "            </script>\n",
       "        </div>"
      ]
     },
     "metadata": {},
     "output_type": "display_data"
    }
   ],
   "source": [
    "fig = make_subplots(rows = 1, cols = 3)\n",
    "\n",
    "fig.add_trace(go.Scatter(x = df_bulk['total_E'], y = df_bulk['total_E_ref'], name = 'total_E', mode = 'markers'),\n",
    "             row = 1, col = 1)\n",
    "fig.add_trace(go.Scatter(x = df_bulk['DHf'], y = df_bulk['DHf_ref'], name = 'DHf', mode = 'markers'),\n",
    "             row = 1, col = 2)\n",
    "fig.add_trace(go.Scatter(x = df_bulk['Volume'], y = df_bulk['Volume_ref'], name = 'Volume', mode = 'markers'),\n",
    "             row = 1, col = 3)\n",
    "go.Scatter\n",
    "fig.update_layout(height = 400, width = 800, title_text = 'bulk_results')\n",
    "fig.show()"
   ]
  },
  {
   "cell_type": "code",
   "execution_count": 22,
   "metadata": {},
   "outputs": [
    {
     "data": {
      "application/vnd.plotly.v1+json": {
       "config": {
        "linkText": "Export to plot.ly",
        "plotlyServerURL": "https://plot.ly",
        "showLink": false
       },
       "data": [
        {
         "hoverlabel": {
          "namelength": 0
         },
         "hovertemplate": "total_E=%{x}<br>DHf=%{y}<br>Ehull_ref=%{z}",
         "legendgroup": "",
         "marker": {
          "color": "#636efa",
          "symbol": "circle"
         },
         "mode": "markers",
         "name": "",
         "scene": "scene",
         "showlegend": false,
         "type": "scatter3d",
         "x": [
          -37.322174,
          -31.430283,
          -35.036352,
          -41.068797,
          -41.725654,
          -31.566454,
          -34.457037,
          -34.732044,
          -43.558491,
          -39.993901,
          -26.919581,
          -38.1603,
          -41.219396,
          -36.952047,
          -28.351462,
          -42.843981,
          -43.267873,
          -33.457163,
          -33.151618,
          -36.681892,
          -34.569767,
          -38.518635,
          -36.064785,
          -33.239594,
          -39.294269,
          -26.056929,
          -28.535619,
          -36.903438,
          -33.944695,
          -31.640592,
          -41.349199,
          -32.313805,
          -40.457388,
          -29.448763,
          -42.636386,
          -36.6818,
          -39.989584,
          -31.259107,
          -35.029002,
          -28.105762,
          -32.187048,
          -27.205669,
          -26.760658,
          -37.617293,
          -36.110353,
          -34.630174,
          -31.004061,
          -34.79627,
          -35.134875,
          -36.585858,
          -32.584369,
          -31.492846,
          -32.119595,
          -35.992092,
          -31.617451,
          -29.314066,
          -36.120876,
          -31.940746,
          -34.619374,
          -24.337859,
          -26.666976,
          -35.888063,
          -29.609381,
          -34.09085,
          -24.754501,
          -25.954877,
          -33.726506,
          -38.822345,
          -38.928669,
          -32.647953,
          -32.552355,
          -26.622473,
          -32.808351,
          -36.007043,
          -34.463219,
          -22.914421,
          -42.99766,
          -30.901805,
          -31.598021,
          -24.303896,
          -23.336794,
          -29.024696,
          -24.857385,
          -34.696811,
          -27.019988,
          -24.995001,
          -30.353962,
          -31.326307,
          -41.028167,
          -31.792918,
          -23.639023,
          -33.732522,
          -34.388644,
          -25.338108,
          -33.439945,
          -27.687156,
          -31.554429,
          -32.068676,
          -29.249431,
          -34.105805,
          -36.520919,
          -24.800351,
          -22.403634,
          -31.328128,
          -36.290383,
          -31.533101,
          -35.83633,
          -31.640146,
          -36.692356,
          -39.407348,
          -31.359155,
          -25.482006,
          -23.327351,
          -31.778416,
          -24.929023,
          -21.374958,
          -28.486514,
          -36.848706,
          -27.874129,
          -29.891016,
          -27.672565,
          -30.185323,
          -34.704893,
          -26.538107,
          -40.171165,
          -43.9004,
          -41.155739,
          -26.992505,
          -32.474605,
          -33.293981,
          -22.005455,
          -28.450833,
          -20.691597,
          -18.423319,
          -19.189063,
          -22.809136,
          -22.622163,
          -27.32243,
          -37.794628,
          -34.878671,
          -24.924764,
          -28.382446,
          -31.500965,
          -16.254689,
          -32.777929,
          -18.841536,
          -31.252992,
          -29.97021,
          -20.009156,
          -30.340464,
          -29.374104,
          -24.439753,
          -19.686835,
          -29.712671,
          -18.101245,
          -18.268215,
          -19.085251,
          -24.927814,
          -19.691533,
          -24.75548,
          -24.523516,
          -18.76387,
          -19.790186,
          -23.270625,
          -30.583716,
          -27.924066,
          -17.916694,
          -20.763226,
          -25.251133,
          -19.280119,
          -19.293214,
          -36.673252,
          -28.459663,
          -17.938237,
          -20.934357,
          -26.502138,
          -32.291303,
          -32.47812,
          -38.267765,
          -35.478707,
          -29.253344,
          -41.110476,
          -30.993965,
          -26.930381,
          -23.899186,
          -21.080378,
          -26.611618,
          -23.622576,
          -28.994665,
          -19.22933,
          -32.863133,
          -23.628391,
          -32.647684,
          -29.507424,
          -18.915047,
          -33.095955,
          -34.004484,
          -34.581168,
          -26.568623,
          -26.537821,
          -38.709513,
          -27.44292,
          -29.912659,
          -31.952883,
          -26.717562,
          -29.182659,
          -30.150818,
          -21.141735,
          -16.086975,
          -20.365982,
          -22.499902,
          -24.039877,
          -37.982627,
          -31.076698,
          -31.11803,
          -32.423901,
          -23.139373,
          -35.363134,
          -27.150352,
          -37.445173,
          -31.203502,
          -36.01622,
          -21.527333,
          -31.231205,
          -27.975832,
          -22.409414,
          -38.913721,
          -42.785197,
          -39.748498,
          -34.024998,
          -24.803267,
          -23.581186,
          -26.226973,
          -25.157287,
          -29.041559,
          -17.821425,
          -37.725668,
          -31.910268,
          -26.011596,
          -35.08902,
          -26.34919,
          -27.487986,
          -27.777521
         ],
         "y": [
          -2.5301085089999993,
          -2.2629687819999993,
          -2.610794782000001,
          -3.1067656696,
          -3.7227805190000005,
          -2.3444722829999995,
          -2.0765819295999997,
          -2.0784385166,
          -3.8083502879999998,
          -3.5731536676000006,
          -1.7700747194000002,
          -2.8680442455999993,
          -3.0837406566,
          -3.2224652930000004,
          -1.7082501424,
          -3.288032347999999,
          -3.8044959890000003,
          -1.6488292266000002,
          -1.5791314919999997,
          -2.1138925115999996,
          -2.204082004,
          -2.9741492096,
          -2.893789284,
          -1.6584602395999994,
          -2.4159249234,
          -1.6825189214000003,
          -1.2151669779999998,
          -2.1050568986,
          -2.4600002176,
          -2.301252522400001,
          -3.70175882,
          -2.1057209286000003,
          -3.0071120289999995,
          -1.9971254509999998,
          -3.300782649,
          -2.8877798406000004,
          -3.5142429070000007,
          -1.6083060115999999,
          -2.018032353,
          -1.7133794433999996,
          -2.1335143415999993,
          -1.2450021445999995,
          -1.6840208183999998,
          -2.782071004999999,
          -2.058841918,
          -2.161894102999999,
          -1.6104416246,
          -2.617047683,
          -2.6677044752,
          -3.2034967940000003,
          -1.5500433990000004,
          -1.9829367239999995,
          -2.1480686905999993,
          -2.0894590190000004,
          -1.9535884229999994,
          -1.7249424624,
          -2.8469601234000006,
          -2.1654437036000003,
          -2.5598195610000003,
          -1.4597107434,
          -1.159891703999999,
          -2.8041755829999997,
          -1.9712016903999998,
          -2.4311838570000006,
          -0.9867995839999999,
          -1.6078392204,
          -2.3620931165999997,
          -2.422482291,
          -2.3894777899999995,
          -1.8955047980000004,
          -2.257659291599999,
          -1.422032090599999,
          -1.8733150970000003,
          -2.0015508710000005,
          -2.1247250434000007,
          -0.8172402233999996,
          -3.6924060284000007,
          -1.6400991040000001,
          -2.038337100999999,
          -0.9193067434,
          -0.8790866639999997,
          -1.7213377633999998,
          -1.885562498,
          -2.461696819999999,
          -1.7321087588000004,
          -1.8588163969999996,
          -1.5030499839999991,
          -2.065184063,
          -3.579505059400001,
          -2.3644096145999995,
          -1.6597696760000005,
          -2.4985389756000003,
          -2.454332721,
          -1.5050595789999996,
          -2.200916500400001,
          -1.0622546066000005,
          -1.5475726479999992,
          -2.2140683046000005,
          -1.9029897500000001,
          -2.2491138983999988,
          -2.45335103,
          -1.8161083374,
          -0.7318630519999999,
          -2.1296273655999998,
          -3.0863544333999995,
          -1.3565700276000001,
          -2.0002592584,
          -2.3205258279999996,
          -2.6138638335999986,
          -2.813884257599999,
          -1.8981511634000001,
          -1.269711662999999,
          -0.8240532509999994,
          -2.3255516685999993,
          -1.4775118800000002,
          -1.3731931670000002,
          -1.4878648381999995,
          -2.6983236969999993,
          -1.4235481256,
          -1.836696592000001,
          -1.5049735820000005,
          -1.7393653685999997,
          -2.3815282869999996,
          -0.8873783020000005,
          -2.7470885966,
          -3.3962478465999992,
          -2.9088869399999995,
          -1.3762407269999997,
          -1.8027878373999997,
          -2.3920788762000003,
          -0.6703837024000002,
          -0.8708355170000004,
          -0.6758085290000001,
          -0.36045061739999973,
          -0.5494523640000001,
          -0.6679185913999994,
          -1.1804864298000006,
          -1.6342362678,
          -2.6319014619999996,
          -2.585314327999999,
          -0.7996999573999996,
          -1.144278912,
          -1.5086790796000007,
          -0.4912683470000001,
          -2.2771331179999996,
          -0.5025751234000001,
          -2.0735596639999994,
          -1.0627437270000002,
          -0.6130393006000002,
          -1.8847956916000004,
          -1.3238586126,
          -1.1148242715999994,
          -0.5712032599999997,
          -1.6979797815999997,
          -0.7486123569999996,
          -0.7593781976000002,
          -0.47554515099999967,
          -1.1592916585999997,
          -0.9187481055999995,
          -0.6066384960000001,
          -0.8979657540000006,
          -0.8089884779999998,
          -0.5712993014,
          -0.628120822,
          -1.6992462049999997,
          -1.3980033975999995,
          -0.7284823856000002,
          -0.6809326993999996,
          -0.9122552319999997,
          -0.8896101185999996,
          -0.5092592885999998,
          -2.9360493973999993,
          -1.7501396127999995,
          -0.6402377846000004,
          -1.2270256064000002,
          -0.844002906,
          -1.1641426002000004,
          -2.2925498919999994,
          -1.9926446389999988,
          -2.8880616873999996,
          -1.6850944811999995,
          -2.2182088629999988,
          -1.8968797473999999,
          -1.7265645048000002,
          -1.1930212492000003,
          -0.6337669654,
          -0.9161059174000001,
          -0.9255151005999999,
          -1.577006741,
          -0.9710930968000007,
          -2.2804844138000004,
          -1.2892353230000004,
          -1.509168666,
          -1.687829313,
          -0.7158020210000003,
          -2.2990766965999994,
          -1.9528555179999998,
          -2.1013583759999994,
          -0.78081556,
          -1.4419625808000003,
          -2.441490662,
          -1.2651574466,
          -0.979084648,
          -1.8544870443999997,
          -1.4128310044000003,
          -1.0500618114000002,
          -1.6640969224000002,
          -0.9038713130000005,
          -0.19873074999999965,
          -0.5648671483999997,
          -0.29048726199999947,
          -0.5989577173999997,
          -1.489570601,
          -1.5324937337999998,
          -1.9084252128000005,
          -1.4028463488,
          -0.7973362893999998,
          -1.7576656208000003,
          -0.9458693574000001,
          -2.947979149799999,
          -1.197293665,
          -2.4596776179999993,
          -1.2465776278,
          -1.5807547811999996,
          -1.3065594537999998,
          -0.15169509380000007,
          -2.541328409,
          -2.7547586185999995,
          -1.8825345979999994,
          -2.3424308489999994,
          -0.7505331530000007,
          -1.207645444,
          -0.7168210270000003,
          -0.7626973446,
          -1.2012515278000002,
          -0.16150450900000024,
          -2.1635318999999997,
          -1.5520325683999991,
          -0.8718689894,
          -2.2762476083999994,
          -1.3185824458000002,
          -0.8179507354000002,
          -0.5386713059999997
         ],
         "z": [
          0,
          0,
          0,
          0,
          0,
          0,
          0,
          0,
          0,
          0.000882217999999213,
          0.009568164875000562,
          0.012912933999992049,
          0.014601897500000405,
          0.023880135000009517,
          0.02588665849999927,
          0.03218881879999991,
          0.032961875000001584,
          0.035054968499999895,
          0.035974791958333974,
          0.03723231714285813,
          0.037396135500003425,
          0.03788947374999729,
          0.0380674330000037,
          0.03861854957142263,
          0.039203620000010986,
          0.04032233000000218,
          0.0414840639999996,
          0.041774871600004815,
          0.046183698500001036,
          0.05216096349999777,
          0.05508322750000083,
          0.055926283695651335,
          0.05665698100001748,
          0.0586556319860998,
          0.059249466000006024,
          0.06312991274999824,
          0.06447128150000125,
          0.06520865262499953,
          0.06527291791666645,
          0.07011863874999946,
          0.07027808349999809,
          0.07794870799999742,
          0.07894813758333363,
          0.0827236650000005,
          0.0839918569090905,
          0.0843781879999872,
          0.08456636424999786,
          0.08723388099999774,
          0.08835162867500124,
          0.08843607424999167,
          0.08873023299999883,
          0.09117577574999736,
          0.09499668624999913,
          0.09691571972727342,
          0.09833247362963249,
          0.0993174252666611,
          0.10508193049999726,
          0.10552783725001369,
          0.1064126840000057,
          0.10851050900000025,
          0.11303347499999994,
          0.11490964846510998,
          0.11775246493750036,
          0.11810790000000182,
          0.11938604316666535,
          0.12423250300000088,
          0.12612266499999958,
          0.12614001513333584,
          0.13580388100000462,
          0.14179081199999644,
          0.14191423800000091,
          0.1425442137500026,
          0.14292753937499825,
          0.1466208092352952,
          0.15184324949999795,
          0.15277174399999982,
          0.1543113860000016,
          0.15493013733333427,
          0.1558609073333317,
          0.15740757000000105,
          0.1581163013333322,
          0.15975899574999985,
          0.16231580399999945,
          0.1641601968333326,
          0.1645825311250011,
          0.16865455200000046,
          0.1799572872499997,
          0.19183317524999577,
          0.19190157250000084,
          0.19567250083333398,
          0.19725303800000038,
          0.19823604299999964,
          0.199436746444416,
          0.20524483500000112,
          0.2099519154999978,
          0.21023699583333233,
          0.2147965309750024,
          0.21690222900000045,
          0.22176297600000083,
          0.22206072063636206,
          0.23033052950000688,
          0.23468275975000097,
          0.23584165699999993,
          0.23603125000000347,
          0.23811505337500094,
          0.241024331909089,
          0.24487290119999905,
          0.24889340537500004,
          0.25199686275000044,
          0.25341476204545543,
          0.25708098000000046,
          0.25794452600000195,
          0.26044224124999804,
          0.26319552458333373,
          0.2717218329999982,
          0.27331328774999974,
          0.27868774775000027,
          0.2803344825000025,
          0.28219929266666544,
          0.2852663065000005,
          0.28763265200001165,
          0.29644555588889165,
          0.29905115799999926,
          0.30147249049999036,
          0.3019567264999985,
          0.3027160442500243,
          0.30330930349999896,
          0.3063941497,
          0.30639546000000006,
          0.3067170846666665,
          0.3099624594999959,
          0.3148475884999993,
          0.31655720475000404,
          0.3227713701250021,
          0.3253447787499981,
          0.3294768926666656,
          0.3388109505000001,
          0.3398094532954552,
          0.34055694487499366,
          0.34487334649999646,
          0.34540158662500353,
          0.3503468709999975,
          0.3510387281666656,
          0.3515368514999997,
          0.35172599000000204,
          0.35256425574999906,
          0.3573852454999997,
          0.3595717660000046,
          0.3611940707499999,
          0.37244897650000564,
          0.37825283774999896,
          0.3814342625,
          0.3903206787499993,
          0.390398377000003,
          0.3908795480000009,
          0.39095161399999956,
          0.392548979749999,
          0.39307589844999935,
          0.3998834819999999,
          0.40197515449999965,
          0.40221379483332864,
          0.4065542279999965,
          0.40811915899999995,
          0.4093161734999997,
          0.4093615643333415,
          0.4123854022812594,
          0.42109283200000025,
          0.4239368597499995,
          0.4240888640000007,
          0.4364480739999994,
          0.4551229417500009,
          0.4554779789999994,
          0.4578845713750006,
          0.4627691339999993,
          0.46311277174999876,
          0.46319859100000826,
          0.4671484177500007,
          0.4690018289464275,
          0.47157315608333406,
          0.47556204174999994,
          0.48158028900000804,
          0.49047448750000733,
          0.49114127600000046,
          0.49427371949999976,
          0.4967471433749999,
          0.5000794055454572,
          0.5066664857500038,
          0.5074102180000013,
          0.5075693690000032,
          0.5092032072499997,
          0.5105942759999991,
          0.5135986467499993,
          0.5157359705000033,
          0.5241475830000129,
          0.5266109771428562,
          0.536665202833337,
          0.5419573265000004,
          0.5458620058750032,
          0.5484207966250025,
          0.5498234308750032,
          0.5548863764999865,
          0.5611383420000058,
          0.5631186020000003,
          0.5632505270000001,
          0.5752129526363623,
          0.5815415029999969,
          0.5830196154999978,
          0.6000384682499993,
          0.6031630521250015,
          0.606307099875,
          0.6154238686666709,
          0.6202237412499967,
          0.6305895350000004,
          0.6338548410000051,
          0.637967645500007,
          0.6485269100000046,
          0.6495187384999994,
          0.6516945938571448,
          0.6619779759999993,
          0.6674341285000001,
          0.671147929,
          0.6870172384999975,
          0.7025471657500004,
          0.712775812000003,
          0.7167632360000011,
          0.7189750189999966,
          0.7214540362499999,
          0.7219264145000004,
          0.7346429323749977,
          0.7579582725000016,
          0.7623651620000107,
          0.7626201267499981,
          0.7630904089999797,
          0.7702423624374966,
          0.7836997629999809,
          0.7897293113749999,
          0.8120642075000113,
          0.8200575807500012,
          0.8275864959999994,
          0.8549662145000045,
          0.86951488062879,
          1.0744297244999998,
          1.286949787499995
         ]
        }
       ],
       "layout": {
        "legend": {
         "tracegroupgap": 0
        },
        "margin": {
         "t": 60
        },
        "scene": {
         "domain": {
          "x": [
           0,
           1
          ],
          "y": [
           0,
           1
          ]
         },
         "xaxis": {
          "title": {
           "text": "total_E"
          }
         },
         "yaxis": {
          "title": {
           "text": "DHf"
          }
         },
         "zaxis": {
          "title": {
           "text": "Ehull_ref"
          }
         }
        },
        "template": {
         "data": {
          "bar": [
           {
            "error_x": {
             "color": "#2a3f5f"
            },
            "error_y": {
             "color": "#2a3f5f"
            },
            "marker": {
             "line": {
              "color": "#E5ECF6",
              "width": 0.5
             }
            },
            "type": "bar"
           }
          ],
          "barpolar": [
           {
            "marker": {
             "line": {
              "color": "#E5ECF6",
              "width": 0.5
             }
            },
            "type": "barpolar"
           }
          ],
          "carpet": [
           {
            "aaxis": {
             "endlinecolor": "#2a3f5f",
             "gridcolor": "white",
             "linecolor": "white",
             "minorgridcolor": "white",
             "startlinecolor": "#2a3f5f"
            },
            "baxis": {
             "endlinecolor": "#2a3f5f",
             "gridcolor": "white",
             "linecolor": "white",
             "minorgridcolor": "white",
             "startlinecolor": "#2a3f5f"
            },
            "type": "carpet"
           }
          ],
          "choropleth": [
           {
            "colorbar": {
             "outlinewidth": 0,
             "ticks": ""
            },
            "type": "choropleth"
           }
          ],
          "contour": [
           {
            "colorbar": {
             "outlinewidth": 0,
             "ticks": ""
            },
            "colorscale": [
             [
              0,
              "#0d0887"
             ],
             [
              0.1111111111111111,
              "#46039f"
             ],
             [
              0.2222222222222222,
              "#7201a8"
             ],
             [
              0.3333333333333333,
              "#9c179e"
             ],
             [
              0.4444444444444444,
              "#bd3786"
             ],
             [
              0.5555555555555556,
              "#d8576b"
             ],
             [
              0.6666666666666666,
              "#ed7953"
             ],
             [
              0.7777777777777778,
              "#fb9f3a"
             ],
             [
              0.8888888888888888,
              "#fdca26"
             ],
             [
              1,
              "#f0f921"
             ]
            ],
            "type": "contour"
           }
          ],
          "contourcarpet": [
           {
            "colorbar": {
             "outlinewidth": 0,
             "ticks": ""
            },
            "type": "contourcarpet"
           }
          ],
          "heatmap": [
           {
            "colorbar": {
             "outlinewidth": 0,
             "ticks": ""
            },
            "colorscale": [
             [
              0,
              "#0d0887"
             ],
             [
              0.1111111111111111,
              "#46039f"
             ],
             [
              0.2222222222222222,
              "#7201a8"
             ],
             [
              0.3333333333333333,
              "#9c179e"
             ],
             [
              0.4444444444444444,
              "#bd3786"
             ],
             [
              0.5555555555555556,
              "#d8576b"
             ],
             [
              0.6666666666666666,
              "#ed7953"
             ],
             [
              0.7777777777777778,
              "#fb9f3a"
             ],
             [
              0.8888888888888888,
              "#fdca26"
             ],
             [
              1,
              "#f0f921"
             ]
            ],
            "type": "heatmap"
           }
          ],
          "heatmapgl": [
           {
            "colorbar": {
             "outlinewidth": 0,
             "ticks": ""
            },
            "colorscale": [
             [
              0,
              "#0d0887"
             ],
             [
              0.1111111111111111,
              "#46039f"
             ],
             [
              0.2222222222222222,
              "#7201a8"
             ],
             [
              0.3333333333333333,
              "#9c179e"
             ],
             [
              0.4444444444444444,
              "#bd3786"
             ],
             [
              0.5555555555555556,
              "#d8576b"
             ],
             [
              0.6666666666666666,
              "#ed7953"
             ],
             [
              0.7777777777777778,
              "#fb9f3a"
             ],
             [
              0.8888888888888888,
              "#fdca26"
             ],
             [
              1,
              "#f0f921"
             ]
            ],
            "type": "heatmapgl"
           }
          ],
          "histogram": [
           {
            "marker": {
             "colorbar": {
              "outlinewidth": 0,
              "ticks": ""
             }
            },
            "type": "histogram"
           }
          ],
          "histogram2d": [
           {
            "colorbar": {
             "outlinewidth": 0,
             "ticks": ""
            },
            "colorscale": [
             [
              0,
              "#0d0887"
             ],
             [
              0.1111111111111111,
              "#46039f"
             ],
             [
              0.2222222222222222,
              "#7201a8"
             ],
             [
              0.3333333333333333,
              "#9c179e"
             ],
             [
              0.4444444444444444,
              "#bd3786"
             ],
             [
              0.5555555555555556,
              "#d8576b"
             ],
             [
              0.6666666666666666,
              "#ed7953"
             ],
             [
              0.7777777777777778,
              "#fb9f3a"
             ],
             [
              0.8888888888888888,
              "#fdca26"
             ],
             [
              1,
              "#f0f921"
             ]
            ],
            "type": "histogram2d"
           }
          ],
          "histogram2dcontour": [
           {
            "colorbar": {
             "outlinewidth": 0,
             "ticks": ""
            },
            "colorscale": [
             [
              0,
              "#0d0887"
             ],
             [
              0.1111111111111111,
              "#46039f"
             ],
             [
              0.2222222222222222,
              "#7201a8"
             ],
             [
              0.3333333333333333,
              "#9c179e"
             ],
             [
              0.4444444444444444,
              "#bd3786"
             ],
             [
              0.5555555555555556,
              "#d8576b"
             ],
             [
              0.6666666666666666,
              "#ed7953"
             ],
             [
              0.7777777777777778,
              "#fb9f3a"
             ],
             [
              0.8888888888888888,
              "#fdca26"
             ],
             [
              1,
              "#f0f921"
             ]
            ],
            "type": "histogram2dcontour"
           }
          ],
          "mesh3d": [
           {
            "colorbar": {
             "outlinewidth": 0,
             "ticks": ""
            },
            "type": "mesh3d"
           }
          ],
          "parcoords": [
           {
            "line": {
             "colorbar": {
              "outlinewidth": 0,
              "ticks": ""
             }
            },
            "type": "parcoords"
           }
          ],
          "pie": [
           {
            "automargin": true,
            "type": "pie"
           }
          ],
          "scatter": [
           {
            "marker": {
             "colorbar": {
              "outlinewidth": 0,
              "ticks": ""
             }
            },
            "type": "scatter"
           }
          ],
          "scatter3d": [
           {
            "line": {
             "colorbar": {
              "outlinewidth": 0,
              "ticks": ""
             }
            },
            "marker": {
             "colorbar": {
              "outlinewidth": 0,
              "ticks": ""
             }
            },
            "type": "scatter3d"
           }
          ],
          "scattercarpet": [
           {
            "marker": {
             "colorbar": {
              "outlinewidth": 0,
              "ticks": ""
             }
            },
            "type": "scattercarpet"
           }
          ],
          "scattergeo": [
           {
            "marker": {
             "colorbar": {
              "outlinewidth": 0,
              "ticks": ""
             }
            },
            "type": "scattergeo"
           }
          ],
          "scattergl": [
           {
            "marker": {
             "colorbar": {
              "outlinewidth": 0,
              "ticks": ""
             }
            },
            "type": "scattergl"
           }
          ],
          "scattermapbox": [
           {
            "marker": {
             "colorbar": {
              "outlinewidth": 0,
              "ticks": ""
             }
            },
            "type": "scattermapbox"
           }
          ],
          "scatterpolar": [
           {
            "marker": {
             "colorbar": {
              "outlinewidth": 0,
              "ticks": ""
             }
            },
            "type": "scatterpolar"
           }
          ],
          "scatterpolargl": [
           {
            "marker": {
             "colorbar": {
              "outlinewidth": 0,
              "ticks": ""
             }
            },
            "type": "scatterpolargl"
           }
          ],
          "scatterternary": [
           {
            "marker": {
             "colorbar": {
              "outlinewidth": 0,
              "ticks": ""
             }
            },
            "type": "scatterternary"
           }
          ],
          "surface": [
           {
            "colorbar": {
             "outlinewidth": 0,
             "ticks": ""
            },
            "colorscale": [
             [
              0,
              "#0d0887"
             ],
             [
              0.1111111111111111,
              "#46039f"
             ],
             [
              0.2222222222222222,
              "#7201a8"
             ],
             [
              0.3333333333333333,
              "#9c179e"
             ],
             [
              0.4444444444444444,
              "#bd3786"
             ],
             [
              0.5555555555555556,
              "#d8576b"
             ],
             [
              0.6666666666666666,
              "#ed7953"
             ],
             [
              0.7777777777777778,
              "#fb9f3a"
             ],
             [
              0.8888888888888888,
              "#fdca26"
             ],
             [
              1,
              "#f0f921"
             ]
            ],
            "type": "surface"
           }
          ],
          "table": [
           {
            "cells": {
             "fill": {
              "color": "#EBF0F8"
             },
             "line": {
              "color": "white"
             }
            },
            "header": {
             "fill": {
              "color": "#C8D4E3"
             },
             "line": {
              "color": "white"
             }
            },
            "type": "table"
           }
          ]
         },
         "layout": {
          "annotationdefaults": {
           "arrowcolor": "#2a3f5f",
           "arrowhead": 0,
           "arrowwidth": 1
          },
          "coloraxis": {
           "colorbar": {
            "outlinewidth": 0,
            "ticks": ""
           }
          },
          "colorscale": {
           "diverging": [
            [
             0,
             "#8e0152"
            ],
            [
             0.1,
             "#c51b7d"
            ],
            [
             0.2,
             "#de77ae"
            ],
            [
             0.3,
             "#f1b6da"
            ],
            [
             0.4,
             "#fde0ef"
            ],
            [
             0.5,
             "#f7f7f7"
            ],
            [
             0.6,
             "#e6f5d0"
            ],
            [
             0.7,
             "#b8e186"
            ],
            [
             0.8,
             "#7fbc41"
            ],
            [
             0.9,
             "#4d9221"
            ],
            [
             1,
             "#276419"
            ]
           ],
           "sequential": [
            [
             0,
             "#0d0887"
            ],
            [
             0.1111111111111111,
             "#46039f"
            ],
            [
             0.2222222222222222,
             "#7201a8"
            ],
            [
             0.3333333333333333,
             "#9c179e"
            ],
            [
             0.4444444444444444,
             "#bd3786"
            ],
            [
             0.5555555555555556,
             "#d8576b"
            ],
            [
             0.6666666666666666,
             "#ed7953"
            ],
            [
             0.7777777777777778,
             "#fb9f3a"
            ],
            [
             0.8888888888888888,
             "#fdca26"
            ],
            [
             1,
             "#f0f921"
            ]
           ],
           "sequentialminus": [
            [
             0,
             "#0d0887"
            ],
            [
             0.1111111111111111,
             "#46039f"
            ],
            [
             0.2222222222222222,
             "#7201a8"
            ],
            [
             0.3333333333333333,
             "#9c179e"
            ],
            [
             0.4444444444444444,
             "#bd3786"
            ],
            [
             0.5555555555555556,
             "#d8576b"
            ],
            [
             0.6666666666666666,
             "#ed7953"
            ],
            [
             0.7777777777777778,
             "#fb9f3a"
            ],
            [
             0.8888888888888888,
             "#fdca26"
            ],
            [
             1,
             "#f0f921"
            ]
           ]
          },
          "colorway": [
           "#636efa",
           "#EF553B",
           "#00cc96",
           "#ab63fa",
           "#FFA15A",
           "#19d3f3",
           "#FF6692",
           "#B6E880",
           "#FF97FF",
           "#FECB52"
          ],
          "font": {
           "color": "#2a3f5f"
          },
          "geo": {
           "bgcolor": "white",
           "lakecolor": "white",
           "landcolor": "#E5ECF6",
           "showlakes": true,
           "showland": true,
           "subunitcolor": "white"
          },
          "hoverlabel": {
           "align": "left"
          },
          "hovermode": "closest",
          "mapbox": {
           "style": "light"
          },
          "paper_bgcolor": "white",
          "plot_bgcolor": "#E5ECF6",
          "polar": {
           "angularaxis": {
            "gridcolor": "white",
            "linecolor": "white",
            "ticks": ""
           },
           "bgcolor": "#E5ECF6",
           "radialaxis": {
            "gridcolor": "white",
            "linecolor": "white",
            "ticks": ""
           }
          },
          "scene": {
           "xaxis": {
            "backgroundcolor": "#E5ECF6",
            "gridcolor": "white",
            "gridwidth": 2,
            "linecolor": "white",
            "showbackground": true,
            "ticks": "",
            "zerolinecolor": "white"
           },
           "yaxis": {
            "backgroundcolor": "#E5ECF6",
            "gridcolor": "white",
            "gridwidth": 2,
            "linecolor": "white",
            "showbackground": true,
            "ticks": "",
            "zerolinecolor": "white"
           },
           "zaxis": {
            "backgroundcolor": "#E5ECF6",
            "gridcolor": "white",
            "gridwidth": 2,
            "linecolor": "white",
            "showbackground": true,
            "ticks": "",
            "zerolinecolor": "white"
           }
          },
          "shapedefaults": {
           "line": {
            "color": "#2a3f5f"
           }
          },
          "ternary": {
           "aaxis": {
            "gridcolor": "white",
            "linecolor": "white",
            "ticks": ""
           },
           "baxis": {
            "gridcolor": "white",
            "linecolor": "white",
            "ticks": ""
           },
           "bgcolor": "#E5ECF6",
           "caxis": {
            "gridcolor": "white",
            "linecolor": "white",
            "ticks": ""
           }
          },
          "title": {
           "x": 0.05
          },
          "xaxis": {
           "automargin": true,
           "gridcolor": "white",
           "linecolor": "white",
           "ticks": "",
           "title": {
            "standoff": 15
           },
           "zerolinecolor": "white",
           "zerolinewidth": 2
          },
          "yaxis": {
           "automargin": true,
           "gridcolor": "white",
           "linecolor": "white",
           "ticks": "",
           "title": {
            "standoff": 15
           },
           "zerolinecolor": "white",
           "zerolinewidth": 2
          }
         }
        }
       }
      },
      "text/html": [
       "<div>\n",
       "        \n",
       "        \n",
       "            <div id=\"7a2268d0-0964-431b-8b64-ddaad699cb70\" class=\"plotly-graph-div\" style=\"height:525px; width:100%;\"></div>\n",
       "            <script type=\"text/javascript\">\n",
       "                require([\"plotly\"], function(Plotly) {\n",
       "                    window.PLOTLYENV=window.PLOTLYENV || {};\n",
       "                    \n",
       "                if (document.getElementById(\"7a2268d0-0964-431b-8b64-ddaad699cb70\")) {\n",
       "                    Plotly.newPlot(\n",
       "                        '7a2268d0-0964-431b-8b64-ddaad699cb70',\n",
       "                        [{\"hoverlabel\": {\"namelength\": 0}, \"hovertemplate\": \"total_E=%{x}<br>DHf=%{y}<br>Ehull_ref=%{z}\", \"legendgroup\": \"\", \"marker\": {\"color\": \"#636efa\", \"symbol\": \"circle\"}, \"mode\": \"markers\", \"name\": \"\", \"scene\": \"scene\", \"showlegend\": false, \"type\": \"scatter3d\", \"x\": [-37.322174, -31.430283, -35.036352, -41.068797, -41.725654, -31.566454, -34.457037, -34.732044, -43.558491, -39.993901, -26.919581, -38.1603, -41.219396, -36.952047, -28.351462, -42.843981, -43.267873, -33.457163, -33.151618, -36.681892, -34.569767, -38.518635, -36.064785, -33.239594, -39.294269, -26.056929, -28.535619, -36.903438, -33.944695, -31.640592, -41.349199, -32.313805, -40.457388, -29.448763, -42.636386, -36.6818, -39.989584, -31.259107, -35.029002, -28.105762, -32.187048, -27.205669, -26.760658, -37.617293, -36.110353, -34.630174, -31.004061, -34.79627, -35.134875, -36.585858, -32.584369, -31.492846, -32.119595, -35.992092, -31.617451, -29.314066, -36.120876, -31.940746, -34.619374, -24.337859, -26.666976, -35.888063, -29.609381, -34.09085, -24.754501, -25.954877, -33.726506, -38.822345, -38.928669, -32.647953, -32.552355, -26.622473, -32.808351, -36.007043, -34.463219, -22.914421, -42.99766, -30.901805, -31.598021, -24.303896, -23.336794, -29.024696, -24.857385, -34.696811, -27.019988, -24.995001, -30.353962, -31.326307, -41.028167, -31.792918, -23.639023, -33.732522, -34.388644, -25.338108, -33.439945, -27.687156, -31.554429, -32.068676, -29.249431, -34.105805, -36.520919, -24.800351, -22.403634, -31.328128, -36.290383, -31.533101, -35.83633, -31.640146, -36.692356, -39.407348, -31.359155, -25.482006, -23.327351, -31.778416, -24.929023, -21.374958, -28.486514, -36.848706, -27.874129, -29.891016, -27.672565, -30.185323, -34.704893, -26.538107, -40.171165, -43.9004, -41.155739, -26.992505, -32.474605, -33.293981, -22.005455, -28.450833, -20.691597, -18.423319, -19.189063, -22.809136, -22.622163, -27.32243, -37.794628, -34.878671, -24.924764, -28.382446, -31.500965, -16.254689, -32.777929, -18.841536, -31.252992, -29.97021, -20.009156, -30.340464, -29.374104, -24.439753, -19.686835, -29.712671, -18.101245, -18.268215, -19.085251, -24.927814, -19.691533, -24.75548, -24.523516, -18.76387, -19.790186, -23.270625, -30.583716, -27.924066, -17.916694, -20.763226, -25.251133, -19.280119, -19.293214, -36.673252, -28.459663, -17.938237, -20.934357, -26.502138, -32.291303, -32.47812, -38.267765, -35.478707, -29.253344, -41.110476, -30.993965, -26.930381, -23.899186, -21.080378, -26.611618, -23.622576, -28.994665, -19.22933, -32.863133, -23.628391, -32.647684, -29.507424, -18.915047, -33.095955, -34.004484, -34.581168, -26.568623, -26.537821, -38.709513, -27.44292, -29.912659, -31.952883, -26.717562, -29.182659, -30.150818, -21.141735, -16.086975, -20.365982, -22.499902, -24.039877, -37.982627, -31.076698, -31.11803, -32.423901, -23.139373, -35.363134, -27.150352, -37.445173, -31.203502, -36.01622, -21.527333, -31.231205, -27.975832, -22.409414, -38.913721, -42.785197, -39.748498, -34.024998, -24.803267, -23.581186, -26.226973, -25.157287, -29.041559, -17.821425, -37.725668, -31.910268, -26.011596, -35.08902, -26.34919, -27.487986, -27.777521], \"y\": [-2.5301085089999993, -2.2629687819999993, -2.610794782000001, -3.1067656696, -3.7227805190000005, -2.3444722829999995, -2.0765819295999997, -2.0784385166, -3.8083502879999998, -3.5731536676000006, -1.7700747194000002, -2.8680442455999993, -3.0837406566, -3.2224652930000004, -1.7082501424, -3.288032347999999, -3.8044959890000003, -1.6488292266000002, -1.5791314919999997, -2.1138925115999996, -2.204082004, -2.9741492096, -2.893789284, -1.6584602395999994, -2.4159249234, -1.6825189214000003, -1.2151669779999998, -2.1050568986, -2.4600002176, -2.301252522400001, -3.70175882, -2.1057209286000003, -3.0071120289999995, -1.9971254509999998, -3.300782649, -2.8877798406000004, -3.5142429070000007, -1.6083060115999999, -2.018032353, -1.7133794433999996, -2.1335143415999993, -1.2450021445999995, -1.6840208183999998, -2.782071004999999, -2.058841918, -2.161894102999999, -1.6104416246, -2.617047683, -2.6677044752, -3.2034967940000003, -1.5500433990000004, -1.9829367239999995, -2.1480686905999993, -2.0894590190000004, -1.9535884229999994, -1.7249424624, -2.8469601234000006, -2.1654437036000003, -2.5598195610000003, -1.4597107434, -1.159891703999999, -2.8041755829999997, -1.9712016903999998, -2.4311838570000006, -0.9867995839999999, -1.6078392204, -2.3620931165999997, -2.422482291, -2.3894777899999995, -1.8955047980000004, -2.257659291599999, -1.422032090599999, -1.8733150970000003, -2.0015508710000005, -2.1247250434000007, -0.8172402233999996, -3.6924060284000007, -1.6400991040000001, -2.038337100999999, -0.9193067434, -0.8790866639999997, -1.7213377633999998, -1.885562498, -2.461696819999999, -1.7321087588000004, -1.8588163969999996, -1.5030499839999991, -2.065184063, -3.579505059400001, -2.3644096145999995, -1.6597696760000005, -2.4985389756000003, -2.454332721, -1.5050595789999996, -2.200916500400001, -1.0622546066000005, -1.5475726479999992, -2.2140683046000005, -1.9029897500000001, -2.2491138983999988, -2.45335103, -1.8161083374, -0.7318630519999999, -2.1296273655999998, -3.0863544333999995, -1.3565700276000001, -2.0002592584, -2.3205258279999996, -2.6138638335999986, -2.813884257599999, -1.8981511634000001, -1.269711662999999, -0.8240532509999994, -2.3255516685999993, -1.4775118800000002, -1.3731931670000002, -1.4878648381999995, -2.6983236969999993, -1.4235481256, -1.836696592000001, -1.5049735820000005, -1.7393653685999997, -2.3815282869999996, -0.8873783020000005, -2.7470885966, -3.3962478465999992, -2.9088869399999995, -1.3762407269999997, -1.8027878373999997, -2.3920788762000003, -0.6703837024000002, -0.8708355170000004, -0.6758085290000001, -0.36045061739999973, -0.5494523640000001, -0.6679185913999994, -1.1804864298000006, -1.6342362678, -2.6319014619999996, -2.585314327999999, -0.7996999573999996, -1.144278912, -1.5086790796000007, -0.4912683470000001, -2.2771331179999996, -0.5025751234000001, -2.0735596639999994, -1.0627437270000002, -0.6130393006000002, -1.8847956916000004, -1.3238586126, -1.1148242715999994, -0.5712032599999997, -1.6979797815999997, -0.7486123569999996, -0.7593781976000002, -0.47554515099999967, -1.1592916585999997, -0.9187481055999995, -0.6066384960000001, -0.8979657540000006, -0.8089884779999998, -0.5712993014, -0.628120822, -1.6992462049999997, -1.3980033975999995, -0.7284823856000002, -0.6809326993999996, -0.9122552319999997, -0.8896101185999996, -0.5092592885999998, -2.9360493973999993, -1.7501396127999995, -0.6402377846000004, -1.2270256064000002, -0.844002906, -1.1641426002000004, -2.2925498919999994, -1.9926446389999988, -2.8880616873999996, -1.6850944811999995, -2.2182088629999988, -1.8968797473999999, -1.7265645048000002, -1.1930212492000003, -0.6337669654, -0.9161059174000001, -0.9255151005999999, -1.577006741, -0.9710930968000007, -2.2804844138000004, -1.2892353230000004, -1.509168666, -1.687829313, -0.7158020210000003, -2.2990766965999994, -1.9528555179999998, -2.1013583759999994, -0.78081556, -1.4419625808000003, -2.441490662, -1.2651574466, -0.979084648, -1.8544870443999997, -1.4128310044000003, -1.0500618114000002, -1.6640969224000002, -0.9038713130000005, -0.19873074999999965, -0.5648671483999997, -0.29048726199999947, -0.5989577173999997, -1.489570601, -1.5324937337999998, -1.9084252128000005, -1.4028463488, -0.7973362893999998, -1.7576656208000003, -0.9458693574000001, -2.947979149799999, -1.197293665, -2.4596776179999993, -1.2465776278, -1.5807547811999996, -1.3065594537999998, -0.15169509380000007, -2.541328409, -2.7547586185999995, -1.8825345979999994, -2.3424308489999994, -0.7505331530000007, -1.207645444, -0.7168210270000003, -0.7626973446, -1.2012515278000002, -0.16150450900000024, -2.1635318999999997, -1.5520325683999991, -0.8718689894, -2.2762476083999994, -1.3185824458000002, -0.8179507354000002, -0.5386713059999997], \"z\": [0, 0, 0, 0, 0, 0, 0, 0, 0, 0.000882217999999213, 0.009568164875000562, 0.012912933999992049, 0.014601897500000405, 0.023880135000009517, 0.02588665849999927, 0.03218881879999991, 0.032961875000001584, 0.035054968499999895, 0.035974791958333974, 0.03723231714285813, 0.037396135500003425, 0.03788947374999729, 0.0380674330000037, 0.03861854957142263, 0.039203620000010986, 0.04032233000000218, 0.0414840639999996, 0.041774871600004815, 0.046183698500001036, 0.05216096349999777, 0.05508322750000083, 0.055926283695651335, 0.05665698100001748, 0.0586556319860998, 0.059249466000006024, 0.06312991274999824, 0.06447128150000125, 0.06520865262499953, 0.06527291791666645, 0.07011863874999946, 0.07027808349999809, 0.07794870799999742, 0.07894813758333363, 0.0827236650000005, 0.0839918569090905, 0.0843781879999872, 0.08456636424999786, 0.08723388099999774, 0.08835162867500124, 0.08843607424999167, 0.08873023299999883, 0.09117577574999736, 0.09499668624999913, 0.09691571972727342, 0.09833247362963249, 0.0993174252666611, 0.10508193049999726, 0.10552783725001369, 0.1064126840000057, 0.10851050900000025, 0.11303347499999994, 0.11490964846510998, 0.11775246493750036, 0.11810790000000182, 0.11938604316666535, 0.12423250300000088, 0.12612266499999958, 0.12614001513333584, 0.13580388100000462, 0.14179081199999644, 0.14191423800000091, 0.1425442137500026, 0.14292753937499825, 0.1466208092352952, 0.15184324949999795, 0.15277174399999982, 0.1543113860000016, 0.15493013733333427, 0.1558609073333317, 0.15740757000000105, 0.1581163013333322, 0.15975899574999985, 0.16231580399999945, 0.1641601968333326, 0.1645825311250011, 0.16865455200000046, 0.1799572872499997, 0.19183317524999577, 0.19190157250000084, 0.19567250083333398, 0.19725303800000038, 0.19823604299999964, 0.199436746444416, 0.20524483500000112, 0.2099519154999978, 0.21023699583333233, 0.2147965309750024, 0.21690222900000045, 0.22176297600000083, 0.22206072063636206, 0.23033052950000688, 0.23468275975000097, 0.23584165699999993, 0.23603125000000347, 0.23811505337500094, 0.241024331909089, 0.24487290119999905, 0.24889340537500004, 0.25199686275000044, 0.25341476204545543, 0.25708098000000046, 0.25794452600000195, 0.26044224124999804, 0.26319552458333373, 0.2717218329999982, 0.27331328774999974, 0.27868774775000027, 0.2803344825000025, 0.28219929266666544, 0.2852663065000005, 0.28763265200001165, 0.29644555588889165, 0.29905115799999926, 0.30147249049999036, 0.3019567264999985, 0.3027160442500243, 0.30330930349999896, 0.3063941497, 0.30639546000000006, 0.3067170846666665, 0.3099624594999959, 0.3148475884999993, 0.31655720475000404, 0.3227713701250021, 0.3253447787499981, 0.3294768926666656, 0.3388109505000001, 0.3398094532954552, 0.34055694487499366, 0.34487334649999646, 0.34540158662500353, 0.3503468709999975, 0.3510387281666656, 0.3515368514999997, 0.35172599000000204, 0.35256425574999906, 0.3573852454999997, 0.3595717660000046, 0.3611940707499999, 0.37244897650000564, 0.37825283774999896, 0.3814342625, 0.3903206787499993, 0.390398377000003, 0.3908795480000009, 0.39095161399999956, 0.392548979749999, 0.39307589844999935, 0.3998834819999999, 0.40197515449999965, 0.40221379483332864, 0.4065542279999965, 0.40811915899999995, 0.4093161734999997, 0.4093615643333415, 0.4123854022812594, 0.42109283200000025, 0.4239368597499995, 0.4240888640000007, 0.4364480739999994, 0.4551229417500009, 0.4554779789999994, 0.4578845713750006, 0.4627691339999993, 0.46311277174999876, 0.46319859100000826, 0.4671484177500007, 0.4690018289464275, 0.47157315608333406, 0.47556204174999994, 0.48158028900000804, 0.49047448750000733, 0.49114127600000046, 0.49427371949999976, 0.4967471433749999, 0.5000794055454572, 0.5066664857500038, 0.5074102180000013, 0.5075693690000032, 0.5092032072499997, 0.5105942759999991, 0.5135986467499993, 0.5157359705000033, 0.5241475830000129, 0.5266109771428562, 0.536665202833337, 0.5419573265000004, 0.5458620058750032, 0.5484207966250025, 0.5498234308750032, 0.5548863764999865, 0.5611383420000058, 0.5631186020000003, 0.5632505270000001, 0.5752129526363623, 0.5815415029999969, 0.5830196154999978, 0.6000384682499993, 0.6031630521250015, 0.606307099875, 0.6154238686666709, 0.6202237412499967, 0.6305895350000004, 0.6338548410000051, 0.637967645500007, 0.6485269100000046, 0.6495187384999994, 0.6516945938571448, 0.6619779759999993, 0.6674341285000001, 0.671147929, 0.6870172384999975, 0.7025471657500004, 0.712775812000003, 0.7167632360000011, 0.7189750189999966, 0.7214540362499999, 0.7219264145000004, 0.7346429323749977, 0.7579582725000016, 0.7623651620000107, 0.7626201267499981, 0.7630904089999797, 0.7702423624374966, 0.7836997629999809, 0.7897293113749999, 0.8120642075000113, 0.8200575807500012, 0.8275864959999994, 0.8549662145000045, 0.86951488062879, 1.0744297244999998, 1.286949787499995]}],\n",
       "                        {\"legend\": {\"tracegroupgap\": 0}, \"margin\": {\"t\": 60}, \"scene\": {\"domain\": {\"x\": [0.0, 1.0], \"y\": [0.0, 1.0]}, \"xaxis\": {\"title\": {\"text\": \"total_E\"}}, \"yaxis\": {\"title\": {\"text\": \"DHf\"}}, \"zaxis\": {\"title\": {\"text\": \"Ehull_ref\"}}}, \"template\": {\"data\": {\"bar\": [{\"error_x\": {\"color\": \"#2a3f5f\"}, \"error_y\": {\"color\": \"#2a3f5f\"}, \"marker\": {\"line\": {\"color\": \"#E5ECF6\", \"width\": 0.5}}, \"type\": \"bar\"}], \"barpolar\": [{\"marker\": {\"line\": {\"color\": \"#E5ECF6\", \"width\": 0.5}}, \"type\": \"barpolar\"}], \"carpet\": [{\"aaxis\": {\"endlinecolor\": \"#2a3f5f\", \"gridcolor\": \"white\", \"linecolor\": \"white\", \"minorgridcolor\": \"white\", \"startlinecolor\": \"#2a3f5f\"}, \"baxis\": {\"endlinecolor\": \"#2a3f5f\", \"gridcolor\": \"white\", \"linecolor\": \"white\", \"minorgridcolor\": \"white\", \"startlinecolor\": \"#2a3f5f\"}, \"type\": \"carpet\"}], \"choropleth\": [{\"colorbar\": {\"outlinewidth\": 0, \"ticks\": \"\"}, \"type\": \"choropleth\"}], \"contour\": [{\"colorbar\": {\"outlinewidth\": 0, \"ticks\": \"\"}, \"colorscale\": [[0.0, \"#0d0887\"], [0.1111111111111111, \"#46039f\"], [0.2222222222222222, \"#7201a8\"], [0.3333333333333333, \"#9c179e\"], [0.4444444444444444, \"#bd3786\"], [0.5555555555555556, \"#d8576b\"], [0.6666666666666666, \"#ed7953\"], [0.7777777777777778, \"#fb9f3a\"], [0.8888888888888888, \"#fdca26\"], [1.0, \"#f0f921\"]], \"type\": \"contour\"}], \"contourcarpet\": [{\"colorbar\": {\"outlinewidth\": 0, \"ticks\": \"\"}, \"type\": \"contourcarpet\"}], \"heatmap\": [{\"colorbar\": {\"outlinewidth\": 0, \"ticks\": \"\"}, \"colorscale\": [[0.0, \"#0d0887\"], [0.1111111111111111, \"#46039f\"], [0.2222222222222222, \"#7201a8\"], [0.3333333333333333, \"#9c179e\"], [0.4444444444444444, \"#bd3786\"], [0.5555555555555556, \"#d8576b\"], [0.6666666666666666, \"#ed7953\"], [0.7777777777777778, \"#fb9f3a\"], [0.8888888888888888, \"#fdca26\"], [1.0, \"#f0f921\"]], \"type\": \"heatmap\"}], \"heatmapgl\": [{\"colorbar\": {\"outlinewidth\": 0, \"ticks\": \"\"}, \"colorscale\": [[0.0, \"#0d0887\"], [0.1111111111111111, \"#46039f\"], [0.2222222222222222, \"#7201a8\"], [0.3333333333333333, \"#9c179e\"], [0.4444444444444444, \"#bd3786\"], [0.5555555555555556, \"#d8576b\"], [0.6666666666666666, \"#ed7953\"], [0.7777777777777778, \"#fb9f3a\"], [0.8888888888888888, \"#fdca26\"], [1.0, \"#f0f921\"]], \"type\": \"heatmapgl\"}], \"histogram\": [{\"marker\": {\"colorbar\": {\"outlinewidth\": 0, \"ticks\": \"\"}}, \"type\": \"histogram\"}], \"histogram2d\": [{\"colorbar\": {\"outlinewidth\": 0, \"ticks\": \"\"}, \"colorscale\": [[0.0, \"#0d0887\"], [0.1111111111111111, \"#46039f\"], [0.2222222222222222, \"#7201a8\"], [0.3333333333333333, \"#9c179e\"], [0.4444444444444444, \"#bd3786\"], [0.5555555555555556, \"#d8576b\"], [0.6666666666666666, \"#ed7953\"], [0.7777777777777778, \"#fb9f3a\"], [0.8888888888888888, \"#fdca26\"], [1.0, \"#f0f921\"]], \"type\": \"histogram2d\"}], \"histogram2dcontour\": [{\"colorbar\": {\"outlinewidth\": 0, \"ticks\": \"\"}, \"colorscale\": [[0.0, \"#0d0887\"], [0.1111111111111111, \"#46039f\"], [0.2222222222222222, \"#7201a8\"], [0.3333333333333333, \"#9c179e\"], [0.4444444444444444, \"#bd3786\"], [0.5555555555555556, \"#d8576b\"], [0.6666666666666666, \"#ed7953\"], [0.7777777777777778, \"#fb9f3a\"], [0.8888888888888888, \"#fdca26\"], [1.0, \"#f0f921\"]], \"type\": \"histogram2dcontour\"}], \"mesh3d\": [{\"colorbar\": {\"outlinewidth\": 0, \"ticks\": \"\"}, \"type\": \"mesh3d\"}], \"parcoords\": [{\"line\": {\"colorbar\": {\"outlinewidth\": 0, \"ticks\": \"\"}}, \"type\": \"parcoords\"}], \"pie\": [{\"automargin\": true, \"type\": \"pie\"}], \"scatter\": [{\"marker\": {\"colorbar\": {\"outlinewidth\": 0, \"ticks\": \"\"}}, \"type\": \"scatter\"}], \"scatter3d\": [{\"line\": {\"colorbar\": {\"outlinewidth\": 0, \"ticks\": \"\"}}, \"marker\": {\"colorbar\": {\"outlinewidth\": 0, \"ticks\": \"\"}}, \"type\": \"scatter3d\"}], \"scattercarpet\": [{\"marker\": {\"colorbar\": {\"outlinewidth\": 0, \"ticks\": \"\"}}, \"type\": \"scattercarpet\"}], \"scattergeo\": [{\"marker\": {\"colorbar\": {\"outlinewidth\": 0, \"ticks\": \"\"}}, \"type\": \"scattergeo\"}], \"scattergl\": [{\"marker\": {\"colorbar\": {\"outlinewidth\": 0, \"ticks\": \"\"}}, \"type\": \"scattergl\"}], \"scattermapbox\": [{\"marker\": {\"colorbar\": {\"outlinewidth\": 0, \"ticks\": \"\"}}, \"type\": \"scattermapbox\"}], \"scatterpolar\": [{\"marker\": {\"colorbar\": {\"outlinewidth\": 0, \"ticks\": \"\"}}, \"type\": \"scatterpolar\"}], \"scatterpolargl\": [{\"marker\": {\"colorbar\": {\"outlinewidth\": 0, \"ticks\": \"\"}}, \"type\": \"scatterpolargl\"}], \"scatterternary\": [{\"marker\": {\"colorbar\": {\"outlinewidth\": 0, \"ticks\": \"\"}}, \"type\": \"scatterternary\"}], \"surface\": [{\"colorbar\": {\"outlinewidth\": 0, \"ticks\": \"\"}, \"colorscale\": [[0.0, \"#0d0887\"], [0.1111111111111111, \"#46039f\"], [0.2222222222222222, \"#7201a8\"], [0.3333333333333333, \"#9c179e\"], [0.4444444444444444, \"#bd3786\"], [0.5555555555555556, \"#d8576b\"], [0.6666666666666666, \"#ed7953\"], [0.7777777777777778, \"#fb9f3a\"], [0.8888888888888888, \"#fdca26\"], [1.0, \"#f0f921\"]], \"type\": \"surface\"}], \"table\": [{\"cells\": {\"fill\": {\"color\": \"#EBF0F8\"}, \"line\": {\"color\": \"white\"}}, \"header\": {\"fill\": {\"color\": \"#C8D4E3\"}, \"line\": {\"color\": \"white\"}}, \"type\": \"table\"}]}, \"layout\": {\"annotationdefaults\": {\"arrowcolor\": \"#2a3f5f\", \"arrowhead\": 0, \"arrowwidth\": 1}, \"coloraxis\": {\"colorbar\": {\"outlinewidth\": 0, \"ticks\": \"\"}}, \"colorscale\": {\"diverging\": [[0, \"#8e0152\"], [0.1, \"#c51b7d\"], [0.2, \"#de77ae\"], [0.3, \"#f1b6da\"], [0.4, \"#fde0ef\"], [0.5, \"#f7f7f7\"], [0.6, \"#e6f5d0\"], [0.7, \"#b8e186\"], [0.8, \"#7fbc41\"], [0.9, \"#4d9221\"], [1, \"#276419\"]], \"sequential\": [[0.0, \"#0d0887\"], [0.1111111111111111, \"#46039f\"], [0.2222222222222222, \"#7201a8\"], [0.3333333333333333, \"#9c179e\"], [0.4444444444444444, \"#bd3786\"], [0.5555555555555556, \"#d8576b\"], [0.6666666666666666, \"#ed7953\"], [0.7777777777777778, \"#fb9f3a\"], [0.8888888888888888, \"#fdca26\"], [1.0, \"#f0f921\"]], \"sequentialminus\": [[0.0, \"#0d0887\"], [0.1111111111111111, \"#46039f\"], [0.2222222222222222, \"#7201a8\"], [0.3333333333333333, \"#9c179e\"], [0.4444444444444444, \"#bd3786\"], [0.5555555555555556, \"#d8576b\"], [0.6666666666666666, \"#ed7953\"], [0.7777777777777778, \"#fb9f3a\"], [0.8888888888888888, \"#fdca26\"], [1.0, \"#f0f921\"]]}, \"colorway\": [\"#636efa\", \"#EF553B\", \"#00cc96\", \"#ab63fa\", \"#FFA15A\", \"#19d3f3\", \"#FF6692\", \"#B6E880\", \"#FF97FF\", \"#FECB52\"], \"font\": {\"color\": \"#2a3f5f\"}, \"geo\": {\"bgcolor\": \"white\", \"lakecolor\": \"white\", \"landcolor\": \"#E5ECF6\", \"showlakes\": true, \"showland\": true, \"subunitcolor\": \"white\"}, \"hoverlabel\": {\"align\": \"left\"}, \"hovermode\": \"closest\", \"mapbox\": {\"style\": \"light\"}, \"paper_bgcolor\": \"white\", \"plot_bgcolor\": \"#E5ECF6\", \"polar\": {\"angularaxis\": {\"gridcolor\": \"white\", \"linecolor\": \"white\", \"ticks\": \"\"}, \"bgcolor\": \"#E5ECF6\", \"radialaxis\": {\"gridcolor\": \"white\", \"linecolor\": \"white\", \"ticks\": \"\"}}, \"scene\": {\"xaxis\": {\"backgroundcolor\": \"#E5ECF6\", \"gridcolor\": \"white\", \"gridwidth\": 2, \"linecolor\": \"white\", \"showbackground\": true, \"ticks\": \"\", \"zerolinecolor\": \"white\"}, \"yaxis\": {\"backgroundcolor\": \"#E5ECF6\", \"gridcolor\": \"white\", \"gridwidth\": 2, \"linecolor\": \"white\", \"showbackground\": true, \"ticks\": \"\", \"zerolinecolor\": \"white\"}, \"zaxis\": {\"backgroundcolor\": \"#E5ECF6\", \"gridcolor\": \"white\", \"gridwidth\": 2, \"linecolor\": \"white\", \"showbackground\": true, \"ticks\": \"\", \"zerolinecolor\": \"white\"}}, \"shapedefaults\": {\"line\": {\"color\": \"#2a3f5f\"}}, \"ternary\": {\"aaxis\": {\"gridcolor\": \"white\", \"linecolor\": \"white\", \"ticks\": \"\"}, \"baxis\": {\"gridcolor\": \"white\", \"linecolor\": \"white\", \"ticks\": \"\"}, \"bgcolor\": \"#E5ECF6\", \"caxis\": {\"gridcolor\": \"white\", \"linecolor\": \"white\", \"ticks\": \"\"}}, \"title\": {\"x\": 0.05}, \"xaxis\": {\"automargin\": true, \"gridcolor\": \"white\", \"linecolor\": \"white\", \"ticks\": \"\", \"title\": {\"standoff\": 15}, \"zerolinecolor\": \"white\", \"zerolinewidth\": 2}, \"yaxis\": {\"automargin\": true, \"gridcolor\": \"white\", \"linecolor\": \"white\", \"ticks\": \"\", \"title\": {\"standoff\": 15}, \"zerolinecolor\": \"white\", \"zerolinewidth\": 2}}}},\n",
       "                        {\"responsive\": true}\n",
       "                    ).then(function(){\n",
       "                            \n",
       "var gd = document.getElementById('7a2268d0-0964-431b-8b64-ddaad699cb70');\n",
       "var x = new MutationObserver(function (mutations, observer) {{\n",
       "        var display = window.getComputedStyle(gd).display;\n",
       "        if (!display || display === 'none') {{\n",
       "            console.log([gd, 'removed!']);\n",
       "            Plotly.purge(gd);\n",
       "            observer.disconnect();\n",
       "        }}\n",
       "}});\n",
       "\n",
       "// Listen for the removal of the full notebook cells\n",
       "var notebookContainer = gd.closest('#notebook-container');\n",
       "if (notebookContainer) {{\n",
       "    x.observe(notebookContainer, {childList: true});\n",
       "}}\n",
       "\n",
       "// Listen for the clearing of the current output cell\n",
       "var outputEl = gd.closest('.output');\n",
       "if (outputEl) {{\n",
       "    x.observe(outputEl, {childList: true});\n",
       "}}\n",
       "\n",
       "                        })\n",
       "                };\n",
       "                });\n",
       "            </script>\n",
       "        </div>"
      ]
     },
     "metadata": {},
     "output_type": "display_data"
    }
   ],
   "source": [
    "fig = px.scatter_3d(df_bulk, x = 'total_E', y = 'DHf', z = 'Ehull_ref')\n",
    "pyo.iplot(fig)"
   ]
  },
  {
   "cell_type": "code",
   "execution_count": 23,
   "metadata": {},
   "outputs": [
    {
     "data": {
      "application/vnd.plotly.v1+json": {
       "config": {
        "linkText": "Export to plot.ly",
        "plotlyServerURL": "https://plot.ly",
        "showLink": false
       },
       "data": [
        {
         "dimensions": [
          {
           "axis": {
            "matches": true
           },
           "label": "total_E",
           "values": [
            -37.322174,
            -31.430283,
            -35.036352,
            -41.068797,
            -41.725654,
            -31.566454,
            -34.457037,
            -34.732044,
            -43.558491,
            -39.993901,
            -26.919581,
            -38.1603,
            -41.219396,
            -36.952047,
            -28.351462,
            -42.843981,
            -43.267873,
            -33.457163,
            -33.151618,
            -36.681892,
            -34.569767,
            -38.518635,
            -36.064785,
            -33.239594,
            -39.294269,
            -26.056929,
            -28.535619,
            -36.903438,
            -33.944695,
            -31.640592,
            -41.349199,
            -32.313805,
            -40.457388,
            -29.448763,
            -42.636386,
            -36.6818,
            -39.989584,
            -31.259107,
            -35.029002,
            -28.105762,
            -32.187048,
            -27.205669,
            -26.760658,
            -37.617293,
            -36.110353,
            -34.630174,
            -31.004061,
            -34.79627,
            -35.134875,
            -36.585858,
            -32.584369,
            -31.492846,
            -32.119595,
            -35.992092,
            -31.617451,
            -29.314066,
            -36.120876,
            -31.940746,
            -34.619374,
            -24.337859,
            -26.666976,
            -35.888063,
            -29.609381,
            -34.09085,
            -24.754501,
            -25.954877,
            -33.726506,
            -38.822345,
            -38.928669,
            -32.647953,
            -32.552355,
            -26.622473,
            -32.808351,
            -36.007043,
            -34.463219,
            -22.914421,
            -42.99766,
            -30.901805,
            -31.598021,
            -24.303896,
            -23.336794,
            -29.024696,
            -24.857385,
            -34.696811,
            -27.019988,
            -24.995001,
            -30.353962,
            -31.326307,
            -41.028167,
            -31.792918,
            -23.639023,
            -33.732522,
            -34.388644,
            -25.338108,
            -33.439945,
            -27.687156,
            -31.554429,
            -32.068676,
            -29.249431,
            -34.105805,
            -36.520919,
            -24.800351,
            -22.403634,
            -31.328128,
            -36.290383,
            -31.533101,
            -35.83633,
            -31.640146,
            -36.692356,
            -39.407348,
            -31.359155,
            -25.482006,
            -23.327351,
            -31.778416,
            -24.929023,
            -21.374958,
            -28.486514,
            -36.848706,
            -27.874129,
            -29.891016,
            -27.672565,
            -30.185323,
            -34.704893,
            -26.538107,
            -40.171165,
            -43.9004,
            -41.155739,
            -26.992505,
            -32.474605,
            -33.293981,
            -22.005455,
            -28.450833,
            -20.691597,
            -18.423319,
            -19.189063,
            -22.809136,
            -22.622163,
            -27.32243,
            -37.794628,
            -34.878671,
            -24.924764,
            -28.382446,
            -31.500965,
            -16.254689,
            -32.777929,
            -18.841536,
            -31.252992,
            -29.97021,
            -20.009156,
            -30.340464,
            -29.374104,
            -24.439753,
            -19.686835,
            -29.712671,
            -18.101245,
            -18.268215,
            -19.085251,
            -24.927814,
            -19.691533,
            -24.75548,
            -24.523516,
            -18.76387,
            -19.790186,
            -23.270625,
            -30.583716,
            -27.924066,
            -17.916694,
            -20.763226,
            -25.251133,
            -19.280119,
            -19.293214,
            -36.673252,
            -28.459663,
            -17.938237,
            -20.934357,
            -26.502138,
            -32.291303,
            -32.47812,
            -38.267765,
            -35.478707,
            -29.253344,
            -41.110476,
            -30.993965,
            -26.930381,
            -23.899186,
            -21.080378,
            -26.611618,
            -23.622576,
            -28.994665,
            -19.22933,
            -32.863133,
            -23.628391,
            -32.647684,
            -29.507424,
            -18.915047,
            -33.095955,
            -34.004484,
            -34.581168,
            -26.568623,
            -26.537821,
            -38.709513,
            -27.44292,
            -29.912659,
            -31.952883,
            -26.717562,
            -29.182659,
            -30.150818,
            -21.141735,
            -16.086975,
            -20.365982,
            -22.499902,
            -24.039877,
            -37.982627,
            -31.076698,
            -31.11803,
            -32.423901,
            -23.139373,
            -35.363134,
            -27.150352,
            -37.445173,
            -31.203502,
            -36.01622,
            -21.527333,
            -31.231205,
            -27.975832,
            -22.409414,
            -38.913721,
            -42.785197,
            -39.748498,
            -34.024998,
            -24.803267,
            -23.581186,
            -26.226973,
            -25.157287,
            -29.041559,
            -17.821425,
            -37.725668,
            -31.910268,
            -26.011596,
            -35.08902,
            -26.34919,
            -27.487986,
            -27.777521
           ]
          },
          {
           "axis": {
            "matches": true
           },
           "label": "DHf",
           "values": [
            -2.5301085089999993,
            -2.2629687819999993,
            -2.610794782000001,
            -3.1067656696,
            -3.7227805190000005,
            -2.3444722829999995,
            -2.0765819295999997,
            -2.0784385166,
            -3.8083502879999998,
            -3.5731536676000006,
            -1.7700747194000002,
            -2.8680442455999993,
            -3.0837406566,
            -3.2224652930000004,
            -1.7082501424,
            -3.288032347999999,
            -3.8044959890000003,
            -1.6488292266000002,
            -1.5791314919999997,
            -2.1138925115999996,
            -2.204082004,
            -2.9741492096,
            -2.893789284,
            -1.6584602395999994,
            -2.4159249234,
            -1.6825189214000003,
            -1.2151669779999998,
            -2.1050568986,
            -2.4600002176,
            -2.301252522400001,
            -3.70175882,
            -2.1057209286000003,
            -3.0071120289999995,
            -1.9971254509999998,
            -3.300782649,
            -2.8877798406000004,
            -3.5142429070000007,
            -1.6083060115999999,
            -2.018032353,
            -1.7133794433999996,
            -2.1335143415999993,
            -1.2450021445999995,
            -1.6840208183999998,
            -2.782071004999999,
            -2.058841918,
            -2.161894102999999,
            -1.6104416246,
            -2.617047683,
            -2.6677044752,
            -3.2034967940000003,
            -1.5500433990000004,
            -1.9829367239999995,
            -2.1480686905999993,
            -2.0894590190000004,
            -1.9535884229999994,
            -1.7249424624,
            -2.8469601234000006,
            -2.1654437036000003,
            -2.5598195610000003,
            -1.4597107434,
            -1.159891703999999,
            -2.8041755829999997,
            -1.9712016903999998,
            -2.4311838570000006,
            -0.9867995839999999,
            -1.6078392204,
            -2.3620931165999997,
            -2.422482291,
            -2.3894777899999995,
            -1.8955047980000004,
            -2.257659291599999,
            -1.422032090599999,
            -1.8733150970000003,
            -2.0015508710000005,
            -2.1247250434000007,
            -0.8172402233999996,
            -3.6924060284000007,
            -1.6400991040000001,
            -2.038337100999999,
            -0.9193067434,
            -0.8790866639999997,
            -1.7213377633999998,
            -1.885562498,
            -2.461696819999999,
            -1.7321087588000004,
            -1.8588163969999996,
            -1.5030499839999991,
            -2.065184063,
            -3.579505059400001,
            -2.3644096145999995,
            -1.6597696760000005,
            -2.4985389756000003,
            -2.454332721,
            -1.5050595789999996,
            -2.200916500400001,
            -1.0622546066000005,
            -1.5475726479999992,
            -2.2140683046000005,
            -1.9029897500000001,
            -2.2491138983999988,
            -2.45335103,
            -1.8161083374,
            -0.7318630519999999,
            -2.1296273655999998,
            -3.0863544333999995,
            -1.3565700276000001,
            -2.0002592584,
            -2.3205258279999996,
            -2.6138638335999986,
            -2.813884257599999,
            -1.8981511634000001,
            -1.269711662999999,
            -0.8240532509999994,
            -2.3255516685999993,
            -1.4775118800000002,
            -1.3731931670000002,
            -1.4878648381999995,
            -2.6983236969999993,
            -1.4235481256,
            -1.836696592000001,
            -1.5049735820000005,
            -1.7393653685999997,
            -2.3815282869999996,
            -0.8873783020000005,
            -2.7470885966,
            -3.3962478465999992,
            -2.9088869399999995,
            -1.3762407269999997,
            -1.8027878373999997,
            -2.3920788762000003,
            -0.6703837024000002,
            -0.8708355170000004,
            -0.6758085290000001,
            -0.36045061739999973,
            -0.5494523640000001,
            -0.6679185913999994,
            -1.1804864298000006,
            -1.6342362678,
            -2.6319014619999996,
            -2.585314327999999,
            -0.7996999573999996,
            -1.144278912,
            -1.5086790796000007,
            -0.4912683470000001,
            -2.2771331179999996,
            -0.5025751234000001,
            -2.0735596639999994,
            -1.0627437270000002,
            -0.6130393006000002,
            -1.8847956916000004,
            -1.3238586126,
            -1.1148242715999994,
            -0.5712032599999997,
            -1.6979797815999997,
            -0.7486123569999996,
            -0.7593781976000002,
            -0.47554515099999967,
            -1.1592916585999997,
            -0.9187481055999995,
            -0.6066384960000001,
            -0.8979657540000006,
            -0.8089884779999998,
            -0.5712993014,
            -0.628120822,
            -1.6992462049999997,
            -1.3980033975999995,
            -0.7284823856000002,
            -0.6809326993999996,
            -0.9122552319999997,
            -0.8896101185999996,
            -0.5092592885999998,
            -2.9360493973999993,
            -1.7501396127999995,
            -0.6402377846000004,
            -1.2270256064000002,
            -0.844002906,
            -1.1641426002000004,
            -2.2925498919999994,
            -1.9926446389999988,
            -2.8880616873999996,
            -1.6850944811999995,
            -2.2182088629999988,
            -1.8968797473999999,
            -1.7265645048000002,
            -1.1930212492000003,
            -0.6337669654,
            -0.9161059174000001,
            -0.9255151005999999,
            -1.577006741,
            -0.9710930968000007,
            -2.2804844138000004,
            -1.2892353230000004,
            -1.509168666,
            -1.687829313,
            -0.7158020210000003,
            -2.2990766965999994,
            -1.9528555179999998,
            -2.1013583759999994,
            -0.78081556,
            -1.4419625808000003,
            -2.441490662,
            -1.2651574466,
            -0.979084648,
            -1.8544870443999997,
            -1.4128310044000003,
            -1.0500618114000002,
            -1.6640969224000002,
            -0.9038713130000005,
            -0.19873074999999965,
            -0.5648671483999997,
            -0.29048726199999947,
            -0.5989577173999997,
            -1.489570601,
            -1.5324937337999998,
            -1.9084252128000005,
            -1.4028463488,
            -0.7973362893999998,
            -1.7576656208000003,
            -0.9458693574000001,
            -2.947979149799999,
            -1.197293665,
            -2.4596776179999993,
            -1.2465776278,
            -1.5807547811999996,
            -1.3065594537999998,
            -0.15169509380000007,
            -2.541328409,
            -2.7547586185999995,
            -1.8825345979999994,
            -2.3424308489999994,
            -0.7505331530000007,
            -1.207645444,
            -0.7168210270000003,
            -0.7626973446,
            -1.2012515278000002,
            -0.16150450900000024,
            -2.1635318999999997,
            -1.5520325683999991,
            -0.8718689894,
            -2.2762476083999994,
            -1.3185824458000002,
            -0.8179507354000002,
            -0.5386713059999997
           ]
          },
          {
           "axis": {
            "matches": true
           },
           "label": "Ehull_ref",
           "values": [
            0,
            0,
            0,
            0,
            0,
            0,
            0,
            0,
            0,
            0.000882217999999213,
            0.009568164875000562,
            0.012912933999992049,
            0.014601897500000405,
            0.023880135000009517,
            0.02588665849999927,
            0.03218881879999991,
            0.032961875000001584,
            0.035054968499999895,
            0.035974791958333974,
            0.03723231714285813,
            0.037396135500003425,
            0.03788947374999729,
            0.0380674330000037,
            0.03861854957142263,
            0.039203620000010986,
            0.04032233000000218,
            0.0414840639999996,
            0.041774871600004815,
            0.046183698500001036,
            0.05216096349999777,
            0.05508322750000083,
            0.055926283695651335,
            0.05665698100001748,
            0.0586556319860998,
            0.059249466000006024,
            0.06312991274999824,
            0.06447128150000125,
            0.06520865262499953,
            0.06527291791666645,
            0.07011863874999946,
            0.07027808349999809,
            0.07794870799999742,
            0.07894813758333363,
            0.0827236650000005,
            0.0839918569090905,
            0.0843781879999872,
            0.08456636424999786,
            0.08723388099999774,
            0.08835162867500124,
            0.08843607424999167,
            0.08873023299999883,
            0.09117577574999736,
            0.09499668624999913,
            0.09691571972727342,
            0.09833247362963249,
            0.0993174252666611,
            0.10508193049999726,
            0.10552783725001369,
            0.1064126840000057,
            0.10851050900000025,
            0.11303347499999994,
            0.11490964846510998,
            0.11775246493750036,
            0.11810790000000182,
            0.11938604316666535,
            0.12423250300000088,
            0.12612266499999958,
            0.12614001513333584,
            0.13580388100000462,
            0.14179081199999644,
            0.14191423800000091,
            0.1425442137500026,
            0.14292753937499825,
            0.1466208092352952,
            0.15184324949999795,
            0.15277174399999982,
            0.1543113860000016,
            0.15493013733333427,
            0.1558609073333317,
            0.15740757000000105,
            0.1581163013333322,
            0.15975899574999985,
            0.16231580399999945,
            0.1641601968333326,
            0.1645825311250011,
            0.16865455200000046,
            0.1799572872499997,
            0.19183317524999577,
            0.19190157250000084,
            0.19567250083333398,
            0.19725303800000038,
            0.19823604299999964,
            0.199436746444416,
            0.20524483500000112,
            0.2099519154999978,
            0.21023699583333233,
            0.2147965309750024,
            0.21690222900000045,
            0.22176297600000083,
            0.22206072063636206,
            0.23033052950000688,
            0.23468275975000097,
            0.23584165699999993,
            0.23603125000000347,
            0.23811505337500094,
            0.241024331909089,
            0.24487290119999905,
            0.24889340537500004,
            0.25199686275000044,
            0.25341476204545543,
            0.25708098000000046,
            0.25794452600000195,
            0.26044224124999804,
            0.26319552458333373,
            0.2717218329999982,
            0.27331328774999974,
            0.27868774775000027,
            0.2803344825000025,
            0.28219929266666544,
            0.2852663065000005,
            0.28763265200001165,
            0.29644555588889165,
            0.29905115799999926,
            0.30147249049999036,
            0.3019567264999985,
            0.3027160442500243,
            0.30330930349999896,
            0.3063941497,
            0.30639546000000006,
            0.3067170846666665,
            0.3099624594999959,
            0.3148475884999993,
            0.31655720475000404,
            0.3227713701250021,
            0.3253447787499981,
            0.3294768926666656,
            0.3388109505000001,
            0.3398094532954552,
            0.34055694487499366,
            0.34487334649999646,
            0.34540158662500353,
            0.3503468709999975,
            0.3510387281666656,
            0.3515368514999997,
            0.35172599000000204,
            0.35256425574999906,
            0.3573852454999997,
            0.3595717660000046,
            0.3611940707499999,
            0.37244897650000564,
            0.37825283774999896,
            0.3814342625,
            0.3903206787499993,
            0.390398377000003,
            0.3908795480000009,
            0.39095161399999956,
            0.392548979749999,
            0.39307589844999935,
            0.3998834819999999,
            0.40197515449999965,
            0.40221379483332864,
            0.4065542279999965,
            0.40811915899999995,
            0.4093161734999997,
            0.4093615643333415,
            0.4123854022812594,
            0.42109283200000025,
            0.4239368597499995,
            0.4240888640000007,
            0.4364480739999994,
            0.4551229417500009,
            0.4554779789999994,
            0.4578845713750006,
            0.4627691339999993,
            0.46311277174999876,
            0.46319859100000826,
            0.4671484177500007,
            0.4690018289464275,
            0.47157315608333406,
            0.47556204174999994,
            0.48158028900000804,
            0.49047448750000733,
            0.49114127600000046,
            0.49427371949999976,
            0.4967471433749999,
            0.5000794055454572,
            0.5066664857500038,
            0.5074102180000013,
            0.5075693690000032,
            0.5092032072499997,
            0.5105942759999991,
            0.5135986467499993,
            0.5157359705000033,
            0.5241475830000129,
            0.5266109771428562,
            0.536665202833337,
            0.5419573265000004,
            0.5458620058750032,
            0.5484207966250025,
            0.5498234308750032,
            0.5548863764999865,
            0.5611383420000058,
            0.5631186020000003,
            0.5632505270000001,
            0.5752129526363623,
            0.5815415029999969,
            0.5830196154999978,
            0.6000384682499993,
            0.6031630521250015,
            0.606307099875,
            0.6154238686666709,
            0.6202237412499967,
            0.6305895350000004,
            0.6338548410000051,
            0.637967645500007,
            0.6485269100000046,
            0.6495187384999994,
            0.6516945938571448,
            0.6619779759999993,
            0.6674341285000001,
            0.671147929,
            0.6870172384999975,
            0.7025471657500004,
            0.712775812000003,
            0.7167632360000011,
            0.7189750189999966,
            0.7214540362499999,
            0.7219264145000004,
            0.7346429323749977,
            0.7579582725000016,
            0.7623651620000107,
            0.7626201267499981,
            0.7630904089999797,
            0.7702423624374966,
            0.7836997629999809,
            0.7897293113749999,
            0.8120642075000113,
            0.8200575807500012,
            0.8275864959999994,
            0.8549662145000045,
            0.86951488062879,
            1.0744297244999998,
            1.286949787499995
           ]
          },
          {
           "axis": {
            "matches": true
           },
           "label": "Volume",
           "values": [
            62.1201269317667,
            65.59929974851559,
            70.76397698842007,
            65.37615669388408,
            76.01381897430926,
            59.49505700717092,
            59.668291073189785,
            56.97309695609223,
            74.15074536835624,
            61.40220340476369,
            58.61490434603682,
            66.7983340335915,
            63.05880894140952,
            75.13526132667413,
            69.21228004205737,
            70.48829628052674,
            70.88497027372121,
            58.26098792489951,
            62.59193912272767,
            61.13365513937619,
            62.45922522968976,
            72.92743889412984,
            59.35966561911505,
            60.75217475613986,
            63.80021720233885,
            58.67922500977154,
            64.44276112195803,
            58.755619851879835,
            58.319500021342606,
            56.10789451662906,
            72.77488204346425,
            62.5512945491811,
            67.38982886750443,
            56.939013581252276,
            67.26411512562386,
            75.19521547239943,
            58.83985762289643,
            56.78795157166124,
            55.900320190022654,
            64.72251283412746,
            64.99750920665997,
            62.33675876197672,
            64.42511669367143,
            68.86332417595558,
            67.13281089520898,
            66.31593068144113,
            59.64960846958759,
            67.08510278973796,
            59.248922138455875,
            70.95413907681151,
            62.855437882329376,
            63.07013845195382,
            60.3979432475498,
            63.63388435567394,
            67.4736131150708,
            69.8914415658043,
            56.71039927484806,
            63.156119801263955,
            58.69230809649668,
            68.70611203336534,
            64.77379729345958,
            63.945731186314134,
            53.07355768809984,
            54.59912560866635,
            65.24269609888454,
            65.26865595597641,
            64.73897665499463,
            63.7559065002297,
            67.08691710525484,
            63.90634971621028,
            53.716785097599946,
            55.07726385249558,
            67.49331318402852,
            63.10965928824141,
            60.16693948302806,
            69.16684751547484,
            68.98689265397739,
            67.77767792105595,
            67.07296510263137,
            68.02619114264678,
            66.3029354902509,
            65.93935605386685,
            62.394884244135405,
            72.55689561349688,
            55.02966228172412,
            69.16887913401554,
            62.09018098235983,
            65.53973255732694,
            70.8728937721368,
            74.65340065311048,
            79.32984241293673,
            58.726787929889916,
            69.26678920266556,
            74.12429422739261,
            53.025242522589764,
            68.38163912130234,
            55.6171070854287,
            57.204585275290995,
            62.9185759025742,
            54.10253626517338,
            51.475228789683264,
            58.89752587401804,
            73.03812356533092,
            60.15237528120199,
            68.44586839471975,
            66.6889474096607,
            61.7311750736624,
            92.19085476622914,
            72.55966476353424,
            71.1719581712204,
            60.46912786656684,
            64.31844992369547,
            62.02730795445683,
            89.87528405937205,
            69.96669704278166,
            75.71195074188853,
            59.05831395851692,
            68.82568084657431,
            54.84528369468812,
            56.78868112505305,
            58.012850630147575,
            52.94852574731425,
            70.07409939156388,
            60.50011626522569,
            57.75691241254253,
            58.85304673141841,
            57.077354790809295,
            53.101957075051054,
            61.792674200619054,
            69.27365160285488,
            56.57472626396929,
            61.847082438291004,
            54.71946282254193,
            56.69310040003382,
            72.37316103140108,
            70.57091759099293,
            67.90324809457981,
            52.996919172909315,
            58.55670870199426,
            70.71230831964436,
            57.16074725073366,
            60.049780447089674,
            68.98506997761821,
            83.95126452155172,
            72.05911855138874,
            75.79206482417884,
            60.014684858942445,
            61.29977114342224,
            71.56880236010689,
            69.88517771810483,
            66.37939858766198,
            58.13916092561977,
            74.2228531000963,
            57.33532918520518,
            89.05753605405575,
            83.8634894108236,
            68.11294408589744,
            52.316368834752694,
            62.47911346979296,
            62.312628153008475,
            64.11512496108023,
            68.4213195073129,
            66.97438996384103,
            61.33430863947776,
            50.949436059090765,
            65.54824517286744,
            93.63968780473493,
            65.26838653367912,
            60.25237436462964,
            64.6415455507192,
            77.67809273559145,
            56.73341366101276,
            53.244263505234144,
            78.09227731703822,
            73.20496814183277,
            61.77813947332076,
            62.763459271681576,
            49.450828617635864,
            64.17497521827609,
            80.6001827807193,
            47.48972232323486,
            62.84506354149955,
            51.79716745699414,
            49.22213362928917,
            51.9444260137228,
            52.25001531019591,
            63.264976424547065,
            54.219007413757616,
            61.14861197985087,
            62.734466400036546,
            54.48925147302552,
            47.24786719250145,
            53.964181405453154,
            54.442924489117125,
            52.945225019202574,
            56.8767086031238,
            57.101005279421834,
            48.66800081871876,
            67.15787490584141,
            49.99123354172881,
            67.39607685435715,
            51.99639540458534,
            59.06165753858214,
            51.49910135492424,
            53.02215285131863,
            52.290417388064924,
            65.61406419353818,
            48.891748779920675,
            77.36541033597288,
            51.958543490447454,
            53.765721935402766,
            67.18297192655213,
            57.81961530355884,
            58.33700226201805,
            62.920292465133834,
            60.0879244515128,
            45.43780109045,
            60.21967583666518,
            53.32099700887655,
            69.27615743810713,
            61.28783948651671,
            67.7504521495989,
            55.58027535258515,
            46.491042271860906,
            58.2067210237383,
            54.085795069139394,
            55.68049895933286,
            57.47219178112415,
            62.30532592089454,
            69.67737308401624,
            57.90600688543547,
            42.991823945284224,
            59.639716349152586,
            64.75270758778957,
            60.19300384707256,
            60.71055903780999,
            69.520295956479,
            68.07246024263772,
            42.625751769176134,
            48.24822233179429,
            48.94206694176443,
            59.37059829970502,
            57.823011554740695
           ]
          },
          {
           "axis": {
            "matches": true
           },
           "label": "Eg_ref",
           "values": [
            0,
            0,
            0,
            2.1106999999999996,
            3.0368000000000004,
            0,
            0,
            0,
            3.5424,
            1.7819000000000003,
            0,
            1.4237999999999997,
            2.2711,
            0,
            0,
            0,
            3.7344999999999997,
            0,
            0,
            0,
            0,
            0,
            0.24469999999999992,
            0,
            1.799,
            0,
            0,
            0,
            0,
            0,
            3.2114000000000003,
            0,
            2.0144,
            0,
            0,
            0,
            1.8271000000000002,
            0,
            0,
            0,
            0,
            0,
            0,
            1.3677000000000001,
            0,
            0,
            0,
            0,
            0,
            0,
            0,
            0,
            0,
            0,
            0,
            0,
            0,
            0,
            0.031199999999999672,
            0,
            0,
            0,
            0,
            0,
            0,
            0,
            0,
            0,
            0,
            0,
            0.22519999999999962,
            0,
            0,
            0,
            0,
            0,
            3.6765,
            0,
            0,
            0,
            0,
            0,
            0,
            0,
            0,
            0,
            0,
            0,
            3.2269,
            0,
            0,
            0,
            0,
            0,
            0,
            0,
            0,
            0.22270000000000012,
            0,
            0,
            0.8719000000000001,
            0,
            0,
            0,
            0,
            0,
            0,
            0,
            1.2863000000000002,
            1.8586,
            0,
            0,
            0,
            0,
            0,
            0,
            0,
            0,
            0,
            0,
            0,
            0,
            0,
            0,
            0,
            0,
            1.8380999999999998,
            0,
            0,
            0,
            0,
            0,
            0,
            0,
            0,
            0,
            0,
            0,
            0.8084999999999996,
            0,
            0,
            0,
            0,
            0,
            0,
            0,
            0.2538,
            0,
            0,
            0,
            0,
            0,
            0,
            0,
            0,
            0,
            0,
            0,
            0,
            0,
            0,
            0,
            0,
            0,
            0,
            0,
            0,
            0,
            0,
            0,
            0,
            1.6075,
            0,
            0,
            0,
            0,
            0,
            0,
            0,
            0,
            0,
            0,
            0,
            0,
            0,
            0,
            0,
            0,
            0,
            0,
            0,
            0,
            0,
            0,
            0,
            0,
            0,
            0.7908,
            0,
            0,
            0,
            0,
            0,
            0,
            0,
            0,
            0,
            0,
            0,
            0,
            0,
            0,
            0,
            0,
            0,
            0,
            0,
            0,
            0,
            0.6429999999999998,
            0,
            0,
            0,
            0,
            0,
            0,
            0,
            0,
            0,
            0,
            0,
            0,
            0,
            0,
            0,
            0,
            0,
            0,
            0,
            0,
            0,
            0,
            0
           ]
          },
          {
           "axis": {
            "matches": true
           },
           "label": "tot_mag",
           "values": [
            0,
            4.3596,
            2,
            0,
            0,
            4.1263,
            0,
            0,
            0,
            0,
            -0.0683,
            0,
            0,
            1,
            0.1971,
            0,
            0,
            -0.0011,
            0,
            0,
            1.8588,
            1,
            1,
            0.0001,
            0,
            0,
            1.3769,
            0,
            3.0368,
            4.0265,
            0,
            0.9999,
            0,
            3.2069,
            0,
            1,
            0,
            0,
            0.0001,
            0.4076,
            1,
            2.4029,
            -0.3865,
            0,
            1.2044,
            1.7907,
            0,
            2,
            1,
            1,
            0,
            1.4694,
            1,
            1.1833,
            1.5733,
            0,
            1.0001,
            1,
            2,
            -0.019,
            2.2907,
            1,
            2.8357,
            3,
            1.68,
            0,
            3,
            0,
            0,
            0.0013,
            0,
            4.6653,
            0,
            0,
            1.8805,
            2.2334,
            0,
            1,
            1,
            1.8331,
            2.1615,
            0,
            0.0381,
            2,
            -0.0553,
            -1.6531,
            0,
            1,
            0,
            2,
            0.6732,
            0,
            2,
            0,
            1,
            1.3278,
            0.0002,
            0,
            3.7298,
            0,
            0,
            -0.0044,
            2.2553,
            0.0098,
            1,
            0.0002,
            1.1796,
            2,
            0.0001,
            0,
            1.3776,
            3.9249,
            1.8012,
            2,
            0.036,
            0,
            3.4053,
            0,
            3,
            -0.9484,
            -0.8218,
            1,
            0.0412,
            0.0068,
            4,
            0,
            3,
            4.5641,
            0.0004,
            1,
            0,
            0.0003,
            2.7621,
            -0.5144,
            1.6269,
            0,
            0.0377,
            -2,
            5,
            0,
            3,
            2.023,
            2.7496,
            1.5438,
            0.0463,
            1.7342,
            0,
            0.9244,
            1.3186,
            1,
            0.7178,
            4.5817,
            1.374,
            1,
            3,
            2.6486,
            1.52,
            4.0487,
            2.7368,
            0.8856,
            0.075,
            0.0001,
            3.9336,
            1.3408,
            1,
            2,
            3,
            -2.1536,
            1.2802,
            -0.0139,
            1.4466,
            0,
            4,
            2.2294,
            0,
            0.9331,
            0,
            2,
            3.0549,
            1,
            -1,
            3.0668,
            3,
            0,
            0,
            2.5889,
            1.1319,
            0,
            1,
            2.0195,
            1,
            2,
            3.6129,
            -0.8616,
            3,
            0,
            -1,
            0,
            0,
            2.6372,
            2.996,
            3,
            0.0689,
            0,
            -2,
            1,
            0,
            2,
            0.1706,
            0.0004,
            3.7845,
            1.0976,
            4.7781,
            2,
            1.946,
            1.2318,
            0,
            0,
            2,
            0,
            4.1943,
            0.0141,
            0.0676,
            2,
            1.2445,
            -2.9819,
            2,
            1.2429,
            0.0006,
            -0.0161,
            1.0975,
            -2,
            0.8527,
            0,
            0.815,
            -2.7662,
            3,
            3,
            0,
            2,
            3,
            2.176,
            4.2219
           ]
          }
         ],
         "hoverlabel": {
          "namelength": 0
         },
         "hovertemplate": "%{xaxis.title.text}=%{x}<br>%{yaxis.title.text}=%{y}",
         "legendgroup": "",
         "marker": {
          "color": "#636efa",
          "symbol": "circle"
         },
         "name": "",
         "showlegend": false,
         "type": "splom"
        }
       ],
       "layout": {
        "dragmode": "select",
        "height": 1000,
        "legend": {
         "tracegroupgap": 0
        },
        "margin": {
         "t": 60
        },
        "template": {
         "data": {
          "bar": [
           {
            "error_x": {
             "color": "#2a3f5f"
            },
            "error_y": {
             "color": "#2a3f5f"
            },
            "marker": {
             "line": {
              "color": "#E5ECF6",
              "width": 0.5
             }
            },
            "type": "bar"
           }
          ],
          "barpolar": [
           {
            "marker": {
             "line": {
              "color": "#E5ECF6",
              "width": 0.5
             }
            },
            "type": "barpolar"
           }
          ],
          "carpet": [
           {
            "aaxis": {
             "endlinecolor": "#2a3f5f",
             "gridcolor": "white",
             "linecolor": "white",
             "minorgridcolor": "white",
             "startlinecolor": "#2a3f5f"
            },
            "baxis": {
             "endlinecolor": "#2a3f5f",
             "gridcolor": "white",
             "linecolor": "white",
             "minorgridcolor": "white",
             "startlinecolor": "#2a3f5f"
            },
            "type": "carpet"
           }
          ],
          "choropleth": [
           {
            "colorbar": {
             "outlinewidth": 0,
             "ticks": ""
            },
            "type": "choropleth"
           }
          ],
          "contour": [
           {
            "colorbar": {
             "outlinewidth": 0,
             "ticks": ""
            },
            "colorscale": [
             [
              0,
              "#0d0887"
             ],
             [
              0.1111111111111111,
              "#46039f"
             ],
             [
              0.2222222222222222,
              "#7201a8"
             ],
             [
              0.3333333333333333,
              "#9c179e"
             ],
             [
              0.4444444444444444,
              "#bd3786"
             ],
             [
              0.5555555555555556,
              "#d8576b"
             ],
             [
              0.6666666666666666,
              "#ed7953"
             ],
             [
              0.7777777777777778,
              "#fb9f3a"
             ],
             [
              0.8888888888888888,
              "#fdca26"
             ],
             [
              1,
              "#f0f921"
             ]
            ],
            "type": "contour"
           }
          ],
          "contourcarpet": [
           {
            "colorbar": {
             "outlinewidth": 0,
             "ticks": ""
            },
            "type": "contourcarpet"
           }
          ],
          "heatmap": [
           {
            "colorbar": {
             "outlinewidth": 0,
             "ticks": ""
            },
            "colorscale": [
             [
              0,
              "#0d0887"
             ],
             [
              0.1111111111111111,
              "#46039f"
             ],
             [
              0.2222222222222222,
              "#7201a8"
             ],
             [
              0.3333333333333333,
              "#9c179e"
             ],
             [
              0.4444444444444444,
              "#bd3786"
             ],
             [
              0.5555555555555556,
              "#d8576b"
             ],
             [
              0.6666666666666666,
              "#ed7953"
             ],
             [
              0.7777777777777778,
              "#fb9f3a"
             ],
             [
              0.8888888888888888,
              "#fdca26"
             ],
             [
              1,
              "#f0f921"
             ]
            ],
            "type": "heatmap"
           }
          ],
          "heatmapgl": [
           {
            "colorbar": {
             "outlinewidth": 0,
             "ticks": ""
            },
            "colorscale": [
             [
              0,
              "#0d0887"
             ],
             [
              0.1111111111111111,
              "#46039f"
             ],
             [
              0.2222222222222222,
              "#7201a8"
             ],
             [
              0.3333333333333333,
              "#9c179e"
             ],
             [
              0.4444444444444444,
              "#bd3786"
             ],
             [
              0.5555555555555556,
              "#d8576b"
             ],
             [
              0.6666666666666666,
              "#ed7953"
             ],
             [
              0.7777777777777778,
              "#fb9f3a"
             ],
             [
              0.8888888888888888,
              "#fdca26"
             ],
             [
              1,
              "#f0f921"
             ]
            ],
            "type": "heatmapgl"
           }
          ],
          "histogram": [
           {
            "marker": {
             "colorbar": {
              "outlinewidth": 0,
              "ticks": ""
             }
            },
            "type": "histogram"
           }
          ],
          "histogram2d": [
           {
            "colorbar": {
             "outlinewidth": 0,
             "ticks": ""
            },
            "colorscale": [
             [
              0,
              "#0d0887"
             ],
             [
              0.1111111111111111,
              "#46039f"
             ],
             [
              0.2222222222222222,
              "#7201a8"
             ],
             [
              0.3333333333333333,
              "#9c179e"
             ],
             [
              0.4444444444444444,
              "#bd3786"
             ],
             [
              0.5555555555555556,
              "#d8576b"
             ],
             [
              0.6666666666666666,
              "#ed7953"
             ],
             [
              0.7777777777777778,
              "#fb9f3a"
             ],
             [
              0.8888888888888888,
              "#fdca26"
             ],
             [
              1,
              "#f0f921"
             ]
            ],
            "type": "histogram2d"
           }
          ],
          "histogram2dcontour": [
           {
            "colorbar": {
             "outlinewidth": 0,
             "ticks": ""
            },
            "colorscale": [
             [
              0,
              "#0d0887"
             ],
             [
              0.1111111111111111,
              "#46039f"
             ],
             [
              0.2222222222222222,
              "#7201a8"
             ],
             [
              0.3333333333333333,
              "#9c179e"
             ],
             [
              0.4444444444444444,
              "#bd3786"
             ],
             [
              0.5555555555555556,
              "#d8576b"
             ],
             [
              0.6666666666666666,
              "#ed7953"
             ],
             [
              0.7777777777777778,
              "#fb9f3a"
             ],
             [
              0.8888888888888888,
              "#fdca26"
             ],
             [
              1,
              "#f0f921"
             ]
            ],
            "type": "histogram2dcontour"
           }
          ],
          "mesh3d": [
           {
            "colorbar": {
             "outlinewidth": 0,
             "ticks": ""
            },
            "type": "mesh3d"
           }
          ],
          "parcoords": [
           {
            "line": {
             "colorbar": {
              "outlinewidth": 0,
              "ticks": ""
             }
            },
            "type": "parcoords"
           }
          ],
          "pie": [
           {
            "automargin": true,
            "type": "pie"
           }
          ],
          "scatter": [
           {
            "marker": {
             "colorbar": {
              "outlinewidth": 0,
              "ticks": ""
             }
            },
            "type": "scatter"
           }
          ],
          "scatter3d": [
           {
            "line": {
             "colorbar": {
              "outlinewidth": 0,
              "ticks": ""
             }
            },
            "marker": {
             "colorbar": {
              "outlinewidth": 0,
              "ticks": ""
             }
            },
            "type": "scatter3d"
           }
          ],
          "scattercarpet": [
           {
            "marker": {
             "colorbar": {
              "outlinewidth": 0,
              "ticks": ""
             }
            },
            "type": "scattercarpet"
           }
          ],
          "scattergeo": [
           {
            "marker": {
             "colorbar": {
              "outlinewidth": 0,
              "ticks": ""
             }
            },
            "type": "scattergeo"
           }
          ],
          "scattergl": [
           {
            "marker": {
             "colorbar": {
              "outlinewidth": 0,
              "ticks": ""
             }
            },
            "type": "scattergl"
           }
          ],
          "scattermapbox": [
           {
            "marker": {
             "colorbar": {
              "outlinewidth": 0,
              "ticks": ""
             }
            },
            "type": "scattermapbox"
           }
          ],
          "scatterpolar": [
           {
            "marker": {
             "colorbar": {
              "outlinewidth": 0,
              "ticks": ""
             }
            },
            "type": "scatterpolar"
           }
          ],
          "scatterpolargl": [
           {
            "marker": {
             "colorbar": {
              "outlinewidth": 0,
              "ticks": ""
             }
            },
            "type": "scatterpolargl"
           }
          ],
          "scatterternary": [
           {
            "marker": {
             "colorbar": {
              "outlinewidth": 0,
              "ticks": ""
             }
            },
            "type": "scatterternary"
           }
          ],
          "surface": [
           {
            "colorbar": {
             "outlinewidth": 0,
             "ticks": ""
            },
            "colorscale": [
             [
              0,
              "#0d0887"
             ],
             [
              0.1111111111111111,
              "#46039f"
             ],
             [
              0.2222222222222222,
              "#7201a8"
             ],
             [
              0.3333333333333333,
              "#9c179e"
             ],
             [
              0.4444444444444444,
              "#bd3786"
             ],
             [
              0.5555555555555556,
              "#d8576b"
             ],
             [
              0.6666666666666666,
              "#ed7953"
             ],
             [
              0.7777777777777778,
              "#fb9f3a"
             ],
             [
              0.8888888888888888,
              "#fdca26"
             ],
             [
              1,
              "#f0f921"
             ]
            ],
            "type": "surface"
           }
          ],
          "table": [
           {
            "cells": {
             "fill": {
              "color": "#EBF0F8"
             },
             "line": {
              "color": "white"
             }
            },
            "header": {
             "fill": {
              "color": "#C8D4E3"
             },
             "line": {
              "color": "white"
             }
            },
            "type": "table"
           }
          ]
         },
         "layout": {
          "annotationdefaults": {
           "arrowcolor": "#2a3f5f",
           "arrowhead": 0,
           "arrowwidth": 1
          },
          "coloraxis": {
           "colorbar": {
            "outlinewidth": 0,
            "ticks": ""
           }
          },
          "colorscale": {
           "diverging": [
            [
             0,
             "#8e0152"
            ],
            [
             0.1,
             "#c51b7d"
            ],
            [
             0.2,
             "#de77ae"
            ],
            [
             0.3,
             "#f1b6da"
            ],
            [
             0.4,
             "#fde0ef"
            ],
            [
             0.5,
             "#f7f7f7"
            ],
            [
             0.6,
             "#e6f5d0"
            ],
            [
             0.7,
             "#b8e186"
            ],
            [
             0.8,
             "#7fbc41"
            ],
            [
             0.9,
             "#4d9221"
            ],
            [
             1,
             "#276419"
            ]
           ],
           "sequential": [
            [
             0,
             "#0d0887"
            ],
            [
             0.1111111111111111,
             "#46039f"
            ],
            [
             0.2222222222222222,
             "#7201a8"
            ],
            [
             0.3333333333333333,
             "#9c179e"
            ],
            [
             0.4444444444444444,
             "#bd3786"
            ],
            [
             0.5555555555555556,
             "#d8576b"
            ],
            [
             0.6666666666666666,
             "#ed7953"
            ],
            [
             0.7777777777777778,
             "#fb9f3a"
            ],
            [
             0.8888888888888888,
             "#fdca26"
            ],
            [
             1,
             "#f0f921"
            ]
           ],
           "sequentialminus": [
            [
             0,
             "#0d0887"
            ],
            [
             0.1111111111111111,
             "#46039f"
            ],
            [
             0.2222222222222222,
             "#7201a8"
            ],
            [
             0.3333333333333333,
             "#9c179e"
            ],
            [
             0.4444444444444444,
             "#bd3786"
            ],
            [
             0.5555555555555556,
             "#d8576b"
            ],
            [
             0.6666666666666666,
             "#ed7953"
            ],
            [
             0.7777777777777778,
             "#fb9f3a"
            ],
            [
             0.8888888888888888,
             "#fdca26"
            ],
            [
             1,
             "#f0f921"
            ]
           ]
          },
          "colorway": [
           "#636efa",
           "#EF553B",
           "#00cc96",
           "#ab63fa",
           "#FFA15A",
           "#19d3f3",
           "#FF6692",
           "#B6E880",
           "#FF97FF",
           "#FECB52"
          ],
          "font": {
           "color": "#2a3f5f"
          },
          "geo": {
           "bgcolor": "white",
           "lakecolor": "white",
           "landcolor": "#E5ECF6",
           "showlakes": true,
           "showland": true,
           "subunitcolor": "white"
          },
          "hoverlabel": {
           "align": "left"
          },
          "hovermode": "closest",
          "mapbox": {
           "style": "light"
          },
          "paper_bgcolor": "white",
          "plot_bgcolor": "#E5ECF6",
          "polar": {
           "angularaxis": {
            "gridcolor": "white",
            "linecolor": "white",
            "ticks": ""
           },
           "bgcolor": "#E5ECF6",
           "radialaxis": {
            "gridcolor": "white",
            "linecolor": "white",
            "ticks": ""
           }
          },
          "scene": {
           "xaxis": {
            "backgroundcolor": "#E5ECF6",
            "gridcolor": "white",
            "gridwidth": 2,
            "linecolor": "white",
            "showbackground": true,
            "ticks": "",
            "zerolinecolor": "white"
           },
           "yaxis": {
            "backgroundcolor": "#E5ECF6",
            "gridcolor": "white",
            "gridwidth": 2,
            "linecolor": "white",
            "showbackground": true,
            "ticks": "",
            "zerolinecolor": "white"
           },
           "zaxis": {
            "backgroundcolor": "#E5ECF6",
            "gridcolor": "white",
            "gridwidth": 2,
            "linecolor": "white",
            "showbackground": true,
            "ticks": "",
            "zerolinecolor": "white"
           }
          },
          "shapedefaults": {
           "line": {
            "color": "#2a3f5f"
           }
          },
          "ternary": {
           "aaxis": {
            "gridcolor": "white",
            "linecolor": "white",
            "ticks": ""
           },
           "baxis": {
            "gridcolor": "white",
            "linecolor": "white",
            "ticks": ""
           },
           "bgcolor": "#E5ECF6",
           "caxis": {
            "gridcolor": "white",
            "linecolor": "white",
            "ticks": ""
           }
          },
          "title": {
           "x": 0.05
          },
          "xaxis": {
           "automargin": true,
           "gridcolor": "white",
           "linecolor": "white",
           "ticks": "",
           "title": {
            "standoff": 15
           },
           "zerolinecolor": "white",
           "zerolinewidth": 2
          },
          "yaxis": {
           "automargin": true,
           "gridcolor": "white",
           "linecolor": "white",
           "ticks": "",
           "title": {
            "standoff": 15
           },
           "zerolinecolor": "white",
           "zerolinewidth": 2
          }
         }
        },
        "title": {
         "text": "all_results"
        },
        "width": 1000
       }
      },
      "text/html": [
       "<div>\n",
       "        \n",
       "        \n",
       "            <div id=\"f4f58252-1333-443e-b0db-3312ec053083\" class=\"plotly-graph-div\" style=\"height:1000px; width:1000px;\"></div>\n",
       "            <script type=\"text/javascript\">\n",
       "                require([\"plotly\"], function(Plotly) {\n",
       "                    window.PLOTLYENV=window.PLOTLYENV || {};\n",
       "                    \n",
       "                if (document.getElementById(\"f4f58252-1333-443e-b0db-3312ec053083\")) {\n",
       "                    Plotly.newPlot(\n",
       "                        'f4f58252-1333-443e-b0db-3312ec053083',\n",
       "                        [{\"dimensions\": [{\"axis\": {\"matches\": true}, \"label\": \"total_E\", \"values\": [-37.322174, -31.430283, -35.036352, -41.068797, -41.725654, -31.566454, -34.457037, -34.732044, -43.558491, -39.993901, -26.919581, -38.1603, -41.219396, -36.952047, -28.351462, -42.843981, -43.267873, -33.457163, -33.151618, -36.681892, -34.569767, -38.518635, -36.064785, -33.239594, -39.294269, -26.056929, -28.535619, -36.903438, -33.944695, -31.640592, -41.349199, -32.313805, -40.457388, -29.448763, -42.636386, -36.6818, -39.989584, -31.259107, -35.029002, -28.105762, -32.187048, -27.205669, -26.760658, -37.617293, -36.110353, -34.630174, -31.004061, -34.79627, -35.134875, -36.585858, -32.584369, -31.492846, -32.119595, -35.992092, -31.617451, -29.314066, -36.120876, -31.940746, -34.619374, -24.337859, -26.666976, -35.888063, -29.609381, -34.09085, -24.754501, -25.954877, -33.726506, -38.822345, -38.928669, -32.647953, -32.552355, -26.622473, -32.808351, -36.007043, -34.463219, -22.914421, -42.99766, -30.901805, -31.598021, -24.303896, -23.336794, -29.024696, -24.857385, -34.696811, -27.019988, -24.995001, -30.353962, -31.326307, -41.028167, -31.792918, -23.639023, -33.732522, -34.388644, -25.338108, -33.439945, -27.687156, -31.554429, -32.068676, -29.249431, -34.105805, -36.520919, -24.800351, -22.403634, -31.328128, -36.290383, -31.533101, -35.83633, -31.640146, -36.692356, -39.407348, -31.359155, -25.482006, -23.327351, -31.778416, -24.929023, -21.374958, -28.486514, -36.848706, -27.874129, -29.891016, -27.672565, -30.185323, -34.704893, -26.538107, -40.171165, -43.9004, -41.155739, -26.992505, -32.474605, -33.293981, -22.005455, -28.450833, -20.691597, -18.423319, -19.189063, -22.809136, -22.622163, -27.32243, -37.794628, -34.878671, -24.924764, -28.382446, -31.500965, -16.254689, -32.777929, -18.841536, -31.252992, -29.97021, -20.009156, -30.340464, -29.374104, -24.439753, -19.686835, -29.712671, -18.101245, -18.268215, -19.085251, -24.927814, -19.691533, -24.75548, -24.523516, -18.76387, -19.790186, -23.270625, -30.583716, -27.924066, -17.916694, -20.763226, -25.251133, -19.280119, -19.293214, -36.673252, -28.459663, -17.938237, -20.934357, -26.502138, -32.291303, -32.47812, -38.267765, -35.478707, -29.253344, -41.110476, -30.993965, -26.930381, -23.899186, -21.080378, -26.611618, -23.622576, -28.994665, -19.22933, -32.863133, -23.628391, -32.647684, -29.507424, -18.915047, -33.095955, -34.004484, -34.581168, -26.568623, -26.537821, -38.709513, -27.44292, -29.912659, -31.952883, -26.717562, -29.182659, -30.150818, -21.141735, -16.086975, -20.365982, -22.499902, -24.039877, -37.982627, -31.076698, -31.11803, -32.423901, -23.139373, -35.363134, -27.150352, -37.445173, -31.203502, -36.01622, -21.527333, -31.231205, -27.975832, -22.409414, -38.913721, -42.785197, -39.748498, -34.024998, -24.803267, -23.581186, -26.226973, -25.157287, -29.041559, -17.821425, -37.725668, -31.910268, -26.011596, -35.08902, -26.34919, -27.487986, -27.777521]}, {\"axis\": {\"matches\": true}, \"label\": \"DHf\", \"values\": [-2.5301085089999993, -2.2629687819999993, -2.610794782000001, -3.1067656696, -3.7227805190000005, -2.3444722829999995, -2.0765819295999997, -2.0784385166, -3.8083502879999998, -3.5731536676000006, -1.7700747194000002, -2.8680442455999993, -3.0837406566, -3.2224652930000004, -1.7082501424, -3.288032347999999, -3.8044959890000003, -1.6488292266000002, -1.5791314919999997, -2.1138925115999996, -2.204082004, -2.9741492096, -2.893789284, -1.6584602395999994, -2.4159249234, -1.6825189214000003, -1.2151669779999998, -2.1050568986, -2.4600002176, -2.301252522400001, -3.70175882, -2.1057209286000003, -3.0071120289999995, -1.9971254509999998, -3.300782649, -2.8877798406000004, -3.5142429070000007, -1.6083060115999999, -2.018032353, -1.7133794433999996, -2.1335143415999993, -1.2450021445999995, -1.6840208183999998, -2.782071004999999, -2.058841918, -2.161894102999999, -1.6104416246, -2.617047683, -2.6677044752, -3.2034967940000003, -1.5500433990000004, -1.9829367239999995, -2.1480686905999993, -2.0894590190000004, -1.9535884229999994, -1.7249424624, -2.8469601234000006, -2.1654437036000003, -2.5598195610000003, -1.4597107434, -1.159891703999999, -2.8041755829999997, -1.9712016903999998, -2.4311838570000006, -0.9867995839999999, -1.6078392204, -2.3620931165999997, -2.422482291, -2.3894777899999995, -1.8955047980000004, -2.257659291599999, -1.422032090599999, -1.8733150970000003, -2.0015508710000005, -2.1247250434000007, -0.8172402233999996, -3.6924060284000007, -1.6400991040000001, -2.038337100999999, -0.9193067434, -0.8790866639999997, -1.7213377633999998, -1.885562498, -2.461696819999999, -1.7321087588000004, -1.8588163969999996, -1.5030499839999991, -2.065184063, -3.579505059400001, -2.3644096145999995, -1.6597696760000005, -2.4985389756000003, -2.454332721, -1.5050595789999996, -2.200916500400001, -1.0622546066000005, -1.5475726479999992, -2.2140683046000005, -1.9029897500000001, -2.2491138983999988, -2.45335103, -1.8161083374, -0.7318630519999999, -2.1296273655999998, -3.0863544333999995, -1.3565700276000001, -2.0002592584, -2.3205258279999996, -2.6138638335999986, -2.813884257599999, -1.8981511634000001, -1.269711662999999, -0.8240532509999994, -2.3255516685999993, -1.4775118800000002, -1.3731931670000002, -1.4878648381999995, -2.6983236969999993, -1.4235481256, -1.836696592000001, -1.5049735820000005, -1.7393653685999997, -2.3815282869999996, -0.8873783020000005, -2.7470885966, -3.3962478465999992, -2.9088869399999995, -1.3762407269999997, -1.8027878373999997, -2.3920788762000003, -0.6703837024000002, -0.8708355170000004, -0.6758085290000001, -0.36045061739999973, -0.5494523640000001, -0.6679185913999994, -1.1804864298000006, -1.6342362678, -2.6319014619999996, -2.585314327999999, -0.7996999573999996, -1.144278912, -1.5086790796000007, -0.4912683470000001, -2.2771331179999996, -0.5025751234000001, -2.0735596639999994, -1.0627437270000002, -0.6130393006000002, -1.8847956916000004, -1.3238586126, -1.1148242715999994, -0.5712032599999997, -1.6979797815999997, -0.7486123569999996, -0.7593781976000002, -0.47554515099999967, -1.1592916585999997, -0.9187481055999995, -0.6066384960000001, -0.8979657540000006, -0.8089884779999998, -0.5712993014, -0.628120822, -1.6992462049999997, -1.3980033975999995, -0.7284823856000002, -0.6809326993999996, -0.9122552319999997, -0.8896101185999996, -0.5092592885999998, -2.9360493973999993, -1.7501396127999995, -0.6402377846000004, -1.2270256064000002, -0.844002906, -1.1641426002000004, -2.2925498919999994, -1.9926446389999988, -2.8880616873999996, -1.6850944811999995, -2.2182088629999988, -1.8968797473999999, -1.7265645048000002, -1.1930212492000003, -0.6337669654, -0.9161059174000001, -0.9255151005999999, -1.577006741, -0.9710930968000007, -2.2804844138000004, -1.2892353230000004, -1.509168666, -1.687829313, -0.7158020210000003, -2.2990766965999994, -1.9528555179999998, -2.1013583759999994, -0.78081556, -1.4419625808000003, -2.441490662, -1.2651574466, -0.979084648, -1.8544870443999997, -1.4128310044000003, -1.0500618114000002, -1.6640969224000002, -0.9038713130000005, -0.19873074999999965, -0.5648671483999997, -0.29048726199999947, -0.5989577173999997, -1.489570601, -1.5324937337999998, -1.9084252128000005, -1.4028463488, -0.7973362893999998, -1.7576656208000003, -0.9458693574000001, -2.947979149799999, -1.197293665, -2.4596776179999993, -1.2465776278, -1.5807547811999996, -1.3065594537999998, -0.15169509380000007, -2.541328409, -2.7547586185999995, -1.8825345979999994, -2.3424308489999994, -0.7505331530000007, -1.207645444, -0.7168210270000003, -0.7626973446, -1.2012515278000002, -0.16150450900000024, -2.1635318999999997, -1.5520325683999991, -0.8718689894, -2.2762476083999994, -1.3185824458000002, -0.8179507354000002, -0.5386713059999997]}, {\"axis\": {\"matches\": true}, \"label\": \"Ehull_ref\", \"values\": [0, 0, 0, 0, 0, 0, 0, 0, 0, 0.000882217999999213, 0.009568164875000562, 0.012912933999992049, 0.014601897500000405, 0.023880135000009517, 0.02588665849999927, 0.03218881879999991, 0.032961875000001584, 0.035054968499999895, 0.035974791958333974, 0.03723231714285813, 0.037396135500003425, 0.03788947374999729, 0.0380674330000037, 0.03861854957142263, 0.039203620000010986, 0.04032233000000218, 0.0414840639999996, 0.041774871600004815, 0.046183698500001036, 0.05216096349999777, 0.05508322750000083, 0.055926283695651335, 0.05665698100001748, 0.0586556319860998, 0.059249466000006024, 0.06312991274999824, 0.06447128150000125, 0.06520865262499953, 0.06527291791666645, 0.07011863874999946, 0.07027808349999809, 0.07794870799999742, 0.07894813758333363, 0.0827236650000005, 0.0839918569090905, 0.0843781879999872, 0.08456636424999786, 0.08723388099999774, 0.08835162867500124, 0.08843607424999167, 0.08873023299999883, 0.09117577574999736, 0.09499668624999913, 0.09691571972727342, 0.09833247362963249, 0.0993174252666611, 0.10508193049999726, 0.10552783725001369, 0.1064126840000057, 0.10851050900000025, 0.11303347499999994, 0.11490964846510998, 0.11775246493750036, 0.11810790000000182, 0.11938604316666535, 0.12423250300000088, 0.12612266499999958, 0.12614001513333584, 0.13580388100000462, 0.14179081199999644, 0.14191423800000091, 0.1425442137500026, 0.14292753937499825, 0.1466208092352952, 0.15184324949999795, 0.15277174399999982, 0.1543113860000016, 0.15493013733333427, 0.1558609073333317, 0.15740757000000105, 0.1581163013333322, 0.15975899574999985, 0.16231580399999945, 0.1641601968333326, 0.1645825311250011, 0.16865455200000046, 0.1799572872499997, 0.19183317524999577, 0.19190157250000084, 0.19567250083333398, 0.19725303800000038, 0.19823604299999964, 0.199436746444416, 0.20524483500000112, 0.2099519154999978, 0.21023699583333233, 0.2147965309750024, 0.21690222900000045, 0.22176297600000083, 0.22206072063636206, 0.23033052950000688, 0.23468275975000097, 0.23584165699999993, 0.23603125000000347, 0.23811505337500094, 0.241024331909089, 0.24487290119999905, 0.24889340537500004, 0.25199686275000044, 0.25341476204545543, 0.25708098000000046, 0.25794452600000195, 0.26044224124999804, 0.26319552458333373, 0.2717218329999982, 0.27331328774999974, 0.27868774775000027, 0.2803344825000025, 0.28219929266666544, 0.2852663065000005, 0.28763265200001165, 0.29644555588889165, 0.29905115799999926, 0.30147249049999036, 0.3019567264999985, 0.3027160442500243, 0.30330930349999896, 0.3063941497, 0.30639546000000006, 0.3067170846666665, 0.3099624594999959, 0.3148475884999993, 0.31655720475000404, 0.3227713701250021, 0.3253447787499981, 0.3294768926666656, 0.3388109505000001, 0.3398094532954552, 0.34055694487499366, 0.34487334649999646, 0.34540158662500353, 0.3503468709999975, 0.3510387281666656, 0.3515368514999997, 0.35172599000000204, 0.35256425574999906, 0.3573852454999997, 0.3595717660000046, 0.3611940707499999, 0.37244897650000564, 0.37825283774999896, 0.3814342625, 0.3903206787499993, 0.390398377000003, 0.3908795480000009, 0.39095161399999956, 0.392548979749999, 0.39307589844999935, 0.3998834819999999, 0.40197515449999965, 0.40221379483332864, 0.4065542279999965, 0.40811915899999995, 0.4093161734999997, 0.4093615643333415, 0.4123854022812594, 0.42109283200000025, 0.4239368597499995, 0.4240888640000007, 0.4364480739999994, 0.4551229417500009, 0.4554779789999994, 0.4578845713750006, 0.4627691339999993, 0.46311277174999876, 0.46319859100000826, 0.4671484177500007, 0.4690018289464275, 0.47157315608333406, 0.47556204174999994, 0.48158028900000804, 0.49047448750000733, 0.49114127600000046, 0.49427371949999976, 0.4967471433749999, 0.5000794055454572, 0.5066664857500038, 0.5074102180000013, 0.5075693690000032, 0.5092032072499997, 0.5105942759999991, 0.5135986467499993, 0.5157359705000033, 0.5241475830000129, 0.5266109771428562, 0.536665202833337, 0.5419573265000004, 0.5458620058750032, 0.5484207966250025, 0.5498234308750032, 0.5548863764999865, 0.5611383420000058, 0.5631186020000003, 0.5632505270000001, 0.5752129526363623, 0.5815415029999969, 0.5830196154999978, 0.6000384682499993, 0.6031630521250015, 0.606307099875, 0.6154238686666709, 0.6202237412499967, 0.6305895350000004, 0.6338548410000051, 0.637967645500007, 0.6485269100000046, 0.6495187384999994, 0.6516945938571448, 0.6619779759999993, 0.6674341285000001, 0.671147929, 0.6870172384999975, 0.7025471657500004, 0.712775812000003, 0.7167632360000011, 0.7189750189999966, 0.7214540362499999, 0.7219264145000004, 0.7346429323749977, 0.7579582725000016, 0.7623651620000107, 0.7626201267499981, 0.7630904089999797, 0.7702423624374966, 0.7836997629999809, 0.7897293113749999, 0.8120642075000113, 0.8200575807500012, 0.8275864959999994, 0.8549662145000045, 0.86951488062879, 1.0744297244999998, 1.286949787499995]}, {\"axis\": {\"matches\": true}, \"label\": \"Volume\", \"values\": [62.1201269317667, 65.59929974851559, 70.76397698842007, 65.37615669388408, 76.01381897430926, 59.49505700717092, 59.668291073189785, 56.97309695609223, 74.15074536835624, 61.40220340476369, 58.61490434603682, 66.7983340335915, 63.05880894140952, 75.13526132667413, 69.21228004205737, 70.48829628052674, 70.88497027372121, 58.26098792489951, 62.59193912272767, 61.13365513937619, 62.45922522968976, 72.92743889412984, 59.35966561911505, 60.75217475613986, 63.80021720233885, 58.67922500977154, 64.44276112195803, 58.755619851879835, 58.319500021342606, 56.10789451662906, 72.77488204346425, 62.5512945491811, 67.38982886750443, 56.939013581252276, 67.26411512562386, 75.19521547239943, 58.83985762289643, 56.78795157166124, 55.900320190022654, 64.72251283412746, 64.99750920665997, 62.33675876197672, 64.42511669367143, 68.86332417595558, 67.13281089520898, 66.31593068144113, 59.64960846958759, 67.08510278973796, 59.248922138455875, 70.95413907681151, 62.855437882329376, 63.07013845195382, 60.3979432475498, 63.63388435567394, 67.4736131150708, 69.8914415658043, 56.71039927484806, 63.156119801263955, 58.69230809649668, 68.70611203336534, 64.77379729345958, 63.945731186314134, 53.07355768809984, 54.59912560866635, 65.24269609888454, 65.26865595597641, 64.73897665499463, 63.7559065002297, 67.08691710525484, 63.90634971621028, 53.716785097599946, 55.07726385249558, 67.49331318402852, 63.10965928824141, 60.16693948302806, 69.16684751547484, 68.98689265397739, 67.77767792105595, 67.07296510263137, 68.02619114264678, 66.3029354902509, 65.93935605386685, 62.394884244135405, 72.55689561349688, 55.02966228172412, 69.16887913401554, 62.09018098235983, 65.53973255732694, 70.8728937721368, 74.65340065311048, 79.32984241293673, 58.726787929889916, 69.26678920266556, 74.12429422739261, 53.025242522589764, 68.38163912130234, 55.6171070854287, 57.204585275290995, 62.9185759025742, 54.10253626517338, 51.475228789683264, 58.89752587401804, 73.03812356533092, 60.15237528120199, 68.44586839471975, 66.6889474096607, 61.7311750736624, 92.19085476622914, 72.55966476353424, 71.1719581712204, 60.46912786656684, 64.31844992369547, 62.02730795445683, 89.87528405937205, 69.96669704278166, 75.71195074188853, 59.05831395851692, 68.82568084657431, 54.84528369468812, 56.78868112505305, 58.012850630147575, 52.94852574731425, 70.07409939156388, 60.50011626522569, 57.75691241254253, 58.85304673141841, 57.077354790809295, 53.101957075051054, 61.792674200619054, 69.27365160285488, 56.57472626396929, 61.847082438291004, 54.71946282254193, 56.69310040003382, 72.37316103140108, 70.57091759099293, 67.90324809457981, 52.996919172909315, 58.55670870199426, 70.71230831964436, 57.16074725073366, 60.049780447089674, 68.98506997761821, 83.95126452155172, 72.05911855138874, 75.79206482417884, 60.014684858942445, 61.29977114342224, 71.56880236010689, 69.88517771810483, 66.37939858766198, 58.13916092561977, 74.2228531000963, 57.33532918520518, 89.05753605405575, 83.8634894108236, 68.11294408589744, 52.316368834752694, 62.47911346979296, 62.312628153008475, 64.11512496108023, 68.4213195073129, 66.97438996384103, 61.33430863947776, 50.949436059090765, 65.54824517286744, 93.63968780473493, 65.26838653367912, 60.25237436462964, 64.6415455507192, 77.67809273559145, 56.73341366101276, 53.244263505234144, 78.09227731703822, 73.20496814183277, 61.77813947332076, 62.763459271681576, 49.450828617635864, 64.17497521827609, 80.6001827807193, 47.48972232323486, 62.84506354149955, 51.79716745699414, 49.22213362928917, 51.9444260137228, 52.25001531019591, 63.264976424547065, 54.219007413757616, 61.14861197985087, 62.734466400036546, 54.48925147302552, 47.24786719250145, 53.964181405453154, 54.442924489117125, 52.945225019202574, 56.8767086031238, 57.101005279421834, 48.66800081871876, 67.15787490584141, 49.99123354172881, 67.39607685435715, 51.99639540458534, 59.06165753858214, 51.49910135492424, 53.02215285131863, 52.290417388064924, 65.61406419353818, 48.891748779920675, 77.36541033597288, 51.958543490447454, 53.765721935402766, 67.18297192655213, 57.81961530355884, 58.33700226201805, 62.920292465133834, 60.0879244515128, 45.43780109045, 60.21967583666518, 53.32099700887655, 69.27615743810713, 61.28783948651671, 67.7504521495989, 55.58027535258515, 46.491042271860906, 58.2067210237383, 54.085795069139394, 55.68049895933286, 57.47219178112415, 62.30532592089454, 69.67737308401624, 57.90600688543547, 42.991823945284224, 59.639716349152586, 64.75270758778957, 60.19300384707256, 60.71055903780999, 69.520295956479, 68.07246024263772, 42.625751769176134, 48.24822233179429, 48.94206694176443, 59.37059829970502, 57.823011554740695]}, {\"axis\": {\"matches\": true}, \"label\": \"Eg_ref\", \"values\": [0.0, 0.0, 0, 2.1106999999999996, 3.0368000000000004, 0.0, 0.0, 0.0, 3.5424, 1.7819000000000003, 0.0, 1.4237999999999997, 2.2711, 0.0, 0.0, 0.0, 3.7344999999999997, 0.0, 0.0, 0.0, 0.0, 0.0, 0.24469999999999992, 0.0, 1.799, 0.0, 0.0, 0.0, 0.0, 0.0, 3.2114000000000003, 0.0, 2.0144, 0.0, 0.0, 0.0, 1.8271000000000002, 0.0, 0.0, 0.0, 0.0, 0.0, 0.0, 1.3677000000000001, 0.0, 0.0, 0.0, 0.0, 0.0, 0.0, 0.0, 0.0, 0.0, 0.0, 0.0, 0.0, 0.0, 0.0, 0.031199999999999672, 0.0, 0.0, 0.0, 0.0, 0.0, 0.0, 0.0, 0.0, 0.0, 0.0, 0.0, 0.22519999999999962, 0.0, 0.0, 0.0, 0.0, 0.0, 3.6765, 0.0, 0.0, 0.0, 0.0, 0.0, 0.0, 0.0, 0.0, 0.0, 0.0, 0.0, 3.2269, 0.0, 0.0, 0.0, 0.0, 0.0, 0.0, 0.0, 0.0, 0.22270000000000012, 0.0, 0.0, 0.8719000000000001, 0.0, 0.0, 0.0, 0.0, 0.0, 0.0, 0.0, 1.2863000000000002, 1.8586, 0.0, 0.0, 0.0, 0.0, 0.0, 0.0, 0.0, 0.0, 0.0, 0.0, 0.0, 0.0, 0.0, 0.0, 0.0, 0.0, 1.8380999999999998, 0.0, 0.0, 0.0, 0.0, 0.0, 0.0, 0.0, 0.0, 0.0, 0.0, 0.0, 0.8084999999999996, 0.0, 0.0, 0.0, 0.0, 0.0, 0.0, 0.0, 0.2538, 0.0, 0.0, 0.0, 0.0, 0.0, 0.0, 0.0, 0.0, 0.0, 0.0, 0.0, 0.0, 0.0, 0.0, 0.0, 0.0, 0.0, 0.0, 0.0, 0.0, 0.0, 0.0, 0.0, 0.0, 1.6075, 0.0, 0.0, 0.0, 0.0, 0.0, 0.0, 0.0, 0.0, 0.0, 0.0, 0.0, 0.0, 0.0, 0.0, 0.0, 0.0, 0.0, 0.0, 0.0, 0.0, 0.0, 0.0, 0.0, 0.0, 0.0, 0.7908, 0.0, 0.0, 0.0, 0.0, 0.0, 0.0, 0.0, 0.0, 0.0, 0.0, 0.0, 0.0, 0.0, 0.0, 0.0, 0.0, 0.0, 0.0, 0.0, 0.0, 0.0, 0.6429999999999998, 0.0, 0.0, 0.0, 0.0, 0.0, 0.0, 0.0, 0.0, 0.0, 0.0, 0.0, 0.0, 0.0, 0.0, 0.0, 0.0, 0.0, 0.0, 0.0, 0.0, 0.0, 0.0, 0.0]}, {\"axis\": {\"matches\": true}, \"label\": \"tot_mag\", \"values\": [0.0, 4.3596, 2.0, 0.0, -0.0, 4.1263, -0.0, -0.0, 0.0, -0.0, -0.0683, -0.0, -0.0, 1.0, 0.1971, -0.0, 0.0, -0.0011, 0.0, -0.0, 1.8588, 1.0, 1.0, 0.0001, 0.0, 0.0, 1.3769, 0.0, 3.0368, 4.0265, 0.0, 0.9999, -0.0, 3.2069, -0.0, 1.0, -0.0, -0.0, 0.0001, 0.4076, 1.0, 2.4029, -0.3865, -0.0, 1.2044, 1.7907, -0.0, 2.0, 1.0, 1.0, 0.0, 1.4694, 1.0, 1.1833, 1.5733, -0.0, 1.0001, 1.0, 2.0, -0.019, 2.2907, 1.0, 2.8357, 3.0, 1.68, -0.0, 3.0, 0.0, 0.0, 0.0013, 0.0, 4.6653, 0.0, 0.0, 1.8805, 2.2334, 0.0, 1.0, 1.0, 1.8331, 2.1615, 0.0, 0.0381, 2.0, -0.0553, -1.6531, -0.0, 1.0, -0.0, 2.0, 0.6732, 0.0, 2.0, 0.0, 1.0, 1.3278, 0.0002, 0.0, 3.7298, -0.0, 0.0, -0.0044, 2.2553, 0.0098, 1.0, 0.0002, 1.1796, 2.0, 0.0001, 0.0, 1.3776, 3.9249, 1.8012, 2.0, 0.036, 0.0, 3.4053, -0.0, 3.0, -0.9484, -0.8218, 1.0, 0.0412, 0.0068, 4.0, -0.0, 3.0, 4.5641, 0.0004, 1.0, -0.0, 0.0003, 2.7621, -0.5144, 1.6269, 0.0, 0.0377, -2.0, 5.0, -0.0, 3.0, 2.023, 2.7496, 1.5438, 0.0463, 1.7342, -0.0, 0.9244, 1.3186, 1.0, 0.7178, 4.5817, 1.374, 1.0, 3.0, 2.6486, 1.52, 4.0487, 2.7368, 0.8856, 0.075, 0.0001, 3.9336, 1.3408, 1.0, 2.0, 3.0, -2.1536, 1.2802, -0.0139, 1.4466, 0.0, 4.0, 2.2294, -0.0, 0.9331, 0.0, 2.0, 3.0549, 1.0, -1.0, 3.0668, 3.0, 0.0, 0.0, 2.5889, 1.1319, -0.0, 1.0, 2.0195, 1.0, 2.0, 3.6129, -0.8616, 3.0, -0.0, -1.0, -0.0, -0.0, 2.6372, 2.996, 3.0, 0.0689, 0.0, -2.0, 1.0, -0.0, 2.0, 0.1706, 0.0004, 3.7845, 1.0976, 4.7781, 2.0, 1.946, 1.2318, 0.0, 0.0, 2.0, -0.0, 4.1943, 0.0141, 0.0676, 2.0, 1.2445, -2.9819, 2.0, 1.2429, 0.0006, -0.0161, 1.0975, -2.0, 0.8527, 0.0, 0.815, -2.7662, 3.0, 3.0, 0.0, 2.0, 3.0, 2.176, 4.2219]}], \"hoverlabel\": {\"namelength\": 0}, \"hovertemplate\": \"%{xaxis.title.text}=%{x}<br>%{yaxis.title.text}=%{y}\", \"legendgroup\": \"\", \"marker\": {\"color\": \"#636efa\", \"symbol\": \"circle\"}, \"name\": \"\", \"showlegend\": false, \"type\": \"splom\"}],\n",
       "                        {\"dragmode\": \"select\", \"height\": 1000, \"legend\": {\"tracegroupgap\": 0}, \"margin\": {\"t\": 60}, \"template\": {\"data\": {\"bar\": [{\"error_x\": {\"color\": \"#2a3f5f\"}, \"error_y\": {\"color\": \"#2a3f5f\"}, \"marker\": {\"line\": {\"color\": \"#E5ECF6\", \"width\": 0.5}}, \"type\": \"bar\"}], \"barpolar\": [{\"marker\": {\"line\": {\"color\": \"#E5ECF6\", \"width\": 0.5}}, \"type\": \"barpolar\"}], \"carpet\": [{\"aaxis\": {\"endlinecolor\": \"#2a3f5f\", \"gridcolor\": \"white\", \"linecolor\": \"white\", \"minorgridcolor\": \"white\", \"startlinecolor\": \"#2a3f5f\"}, \"baxis\": {\"endlinecolor\": \"#2a3f5f\", \"gridcolor\": \"white\", \"linecolor\": \"white\", \"minorgridcolor\": \"white\", \"startlinecolor\": \"#2a3f5f\"}, \"type\": \"carpet\"}], \"choropleth\": [{\"colorbar\": {\"outlinewidth\": 0, \"ticks\": \"\"}, \"type\": \"choropleth\"}], \"contour\": [{\"colorbar\": {\"outlinewidth\": 0, \"ticks\": \"\"}, \"colorscale\": [[0.0, \"#0d0887\"], [0.1111111111111111, \"#46039f\"], [0.2222222222222222, \"#7201a8\"], [0.3333333333333333, \"#9c179e\"], [0.4444444444444444, \"#bd3786\"], [0.5555555555555556, \"#d8576b\"], [0.6666666666666666, \"#ed7953\"], [0.7777777777777778, \"#fb9f3a\"], [0.8888888888888888, \"#fdca26\"], [1.0, \"#f0f921\"]], \"type\": \"contour\"}], \"contourcarpet\": [{\"colorbar\": {\"outlinewidth\": 0, \"ticks\": \"\"}, \"type\": \"contourcarpet\"}], \"heatmap\": [{\"colorbar\": {\"outlinewidth\": 0, \"ticks\": \"\"}, \"colorscale\": [[0.0, \"#0d0887\"], [0.1111111111111111, \"#46039f\"], [0.2222222222222222, \"#7201a8\"], [0.3333333333333333, \"#9c179e\"], [0.4444444444444444, \"#bd3786\"], [0.5555555555555556, \"#d8576b\"], [0.6666666666666666, \"#ed7953\"], [0.7777777777777778, \"#fb9f3a\"], [0.8888888888888888, \"#fdca26\"], [1.0, \"#f0f921\"]], \"type\": \"heatmap\"}], \"heatmapgl\": [{\"colorbar\": {\"outlinewidth\": 0, \"ticks\": \"\"}, \"colorscale\": [[0.0, \"#0d0887\"], [0.1111111111111111, \"#46039f\"], [0.2222222222222222, \"#7201a8\"], [0.3333333333333333, \"#9c179e\"], [0.4444444444444444, \"#bd3786\"], [0.5555555555555556, \"#d8576b\"], [0.6666666666666666, \"#ed7953\"], [0.7777777777777778, \"#fb9f3a\"], [0.8888888888888888, \"#fdca26\"], [1.0, \"#f0f921\"]], \"type\": \"heatmapgl\"}], \"histogram\": [{\"marker\": {\"colorbar\": {\"outlinewidth\": 0, \"ticks\": \"\"}}, \"type\": \"histogram\"}], \"histogram2d\": [{\"colorbar\": {\"outlinewidth\": 0, \"ticks\": \"\"}, \"colorscale\": [[0.0, \"#0d0887\"], [0.1111111111111111, \"#46039f\"], [0.2222222222222222, \"#7201a8\"], [0.3333333333333333, \"#9c179e\"], [0.4444444444444444, \"#bd3786\"], [0.5555555555555556, \"#d8576b\"], [0.6666666666666666, \"#ed7953\"], [0.7777777777777778, \"#fb9f3a\"], [0.8888888888888888, \"#fdca26\"], [1.0, \"#f0f921\"]], \"type\": \"histogram2d\"}], \"histogram2dcontour\": [{\"colorbar\": {\"outlinewidth\": 0, \"ticks\": \"\"}, \"colorscale\": [[0.0, \"#0d0887\"], [0.1111111111111111, \"#46039f\"], [0.2222222222222222, \"#7201a8\"], [0.3333333333333333, \"#9c179e\"], [0.4444444444444444, \"#bd3786\"], [0.5555555555555556, \"#d8576b\"], [0.6666666666666666, \"#ed7953\"], [0.7777777777777778, \"#fb9f3a\"], [0.8888888888888888, \"#fdca26\"], [1.0, \"#f0f921\"]], \"type\": \"histogram2dcontour\"}], \"mesh3d\": [{\"colorbar\": {\"outlinewidth\": 0, \"ticks\": \"\"}, \"type\": \"mesh3d\"}], \"parcoords\": [{\"line\": {\"colorbar\": {\"outlinewidth\": 0, \"ticks\": \"\"}}, \"type\": \"parcoords\"}], \"pie\": [{\"automargin\": true, \"type\": \"pie\"}], \"scatter\": [{\"marker\": {\"colorbar\": {\"outlinewidth\": 0, \"ticks\": \"\"}}, \"type\": \"scatter\"}], \"scatter3d\": [{\"line\": {\"colorbar\": {\"outlinewidth\": 0, \"ticks\": \"\"}}, \"marker\": {\"colorbar\": {\"outlinewidth\": 0, \"ticks\": \"\"}}, \"type\": \"scatter3d\"}], \"scattercarpet\": [{\"marker\": {\"colorbar\": {\"outlinewidth\": 0, \"ticks\": \"\"}}, \"type\": \"scattercarpet\"}], \"scattergeo\": [{\"marker\": {\"colorbar\": {\"outlinewidth\": 0, \"ticks\": \"\"}}, \"type\": \"scattergeo\"}], \"scattergl\": [{\"marker\": {\"colorbar\": {\"outlinewidth\": 0, \"ticks\": \"\"}}, \"type\": \"scattergl\"}], \"scattermapbox\": [{\"marker\": {\"colorbar\": {\"outlinewidth\": 0, \"ticks\": \"\"}}, \"type\": \"scattermapbox\"}], \"scatterpolar\": [{\"marker\": {\"colorbar\": {\"outlinewidth\": 0, \"ticks\": \"\"}}, \"type\": \"scatterpolar\"}], \"scatterpolargl\": [{\"marker\": {\"colorbar\": {\"outlinewidth\": 0, \"ticks\": \"\"}}, \"type\": \"scatterpolargl\"}], \"scatterternary\": [{\"marker\": {\"colorbar\": {\"outlinewidth\": 0, \"ticks\": \"\"}}, \"type\": \"scatterternary\"}], \"surface\": [{\"colorbar\": {\"outlinewidth\": 0, \"ticks\": \"\"}, \"colorscale\": [[0.0, \"#0d0887\"], [0.1111111111111111, \"#46039f\"], [0.2222222222222222, \"#7201a8\"], [0.3333333333333333, \"#9c179e\"], [0.4444444444444444, \"#bd3786\"], [0.5555555555555556, \"#d8576b\"], [0.6666666666666666, \"#ed7953\"], [0.7777777777777778, \"#fb9f3a\"], [0.8888888888888888, \"#fdca26\"], [1.0, \"#f0f921\"]], \"type\": \"surface\"}], \"table\": [{\"cells\": {\"fill\": {\"color\": \"#EBF0F8\"}, \"line\": {\"color\": \"white\"}}, \"header\": {\"fill\": {\"color\": \"#C8D4E3\"}, \"line\": {\"color\": \"white\"}}, \"type\": \"table\"}]}, \"layout\": {\"annotationdefaults\": {\"arrowcolor\": \"#2a3f5f\", \"arrowhead\": 0, \"arrowwidth\": 1}, \"coloraxis\": {\"colorbar\": {\"outlinewidth\": 0, \"ticks\": \"\"}}, \"colorscale\": {\"diverging\": [[0, \"#8e0152\"], [0.1, \"#c51b7d\"], [0.2, \"#de77ae\"], [0.3, \"#f1b6da\"], [0.4, \"#fde0ef\"], [0.5, \"#f7f7f7\"], [0.6, \"#e6f5d0\"], [0.7, \"#b8e186\"], [0.8, \"#7fbc41\"], [0.9, \"#4d9221\"], [1, \"#276419\"]], \"sequential\": [[0.0, \"#0d0887\"], [0.1111111111111111, \"#46039f\"], [0.2222222222222222, \"#7201a8\"], [0.3333333333333333, \"#9c179e\"], [0.4444444444444444, \"#bd3786\"], [0.5555555555555556, \"#d8576b\"], [0.6666666666666666, \"#ed7953\"], [0.7777777777777778, \"#fb9f3a\"], [0.8888888888888888, \"#fdca26\"], [1.0, \"#f0f921\"]], \"sequentialminus\": [[0.0, \"#0d0887\"], [0.1111111111111111, \"#46039f\"], [0.2222222222222222, \"#7201a8\"], [0.3333333333333333, \"#9c179e\"], [0.4444444444444444, \"#bd3786\"], [0.5555555555555556, \"#d8576b\"], [0.6666666666666666, \"#ed7953\"], [0.7777777777777778, \"#fb9f3a\"], [0.8888888888888888, \"#fdca26\"], [1.0, \"#f0f921\"]]}, \"colorway\": [\"#636efa\", \"#EF553B\", \"#00cc96\", \"#ab63fa\", \"#FFA15A\", \"#19d3f3\", \"#FF6692\", \"#B6E880\", \"#FF97FF\", \"#FECB52\"], \"font\": {\"color\": \"#2a3f5f\"}, \"geo\": {\"bgcolor\": \"white\", \"lakecolor\": \"white\", \"landcolor\": \"#E5ECF6\", \"showlakes\": true, \"showland\": true, \"subunitcolor\": \"white\"}, \"hoverlabel\": {\"align\": \"left\"}, \"hovermode\": \"closest\", \"mapbox\": {\"style\": \"light\"}, \"paper_bgcolor\": \"white\", \"plot_bgcolor\": \"#E5ECF6\", \"polar\": {\"angularaxis\": {\"gridcolor\": \"white\", \"linecolor\": \"white\", \"ticks\": \"\"}, \"bgcolor\": \"#E5ECF6\", \"radialaxis\": {\"gridcolor\": \"white\", \"linecolor\": \"white\", \"ticks\": \"\"}}, \"scene\": {\"xaxis\": {\"backgroundcolor\": \"#E5ECF6\", \"gridcolor\": \"white\", \"gridwidth\": 2, \"linecolor\": \"white\", \"showbackground\": true, \"ticks\": \"\", \"zerolinecolor\": \"white\"}, \"yaxis\": {\"backgroundcolor\": \"#E5ECF6\", \"gridcolor\": \"white\", \"gridwidth\": 2, \"linecolor\": \"white\", \"showbackground\": true, \"ticks\": \"\", \"zerolinecolor\": \"white\"}, \"zaxis\": {\"backgroundcolor\": \"#E5ECF6\", \"gridcolor\": \"white\", \"gridwidth\": 2, \"linecolor\": \"white\", \"showbackground\": true, \"ticks\": \"\", \"zerolinecolor\": \"white\"}}, \"shapedefaults\": {\"line\": {\"color\": \"#2a3f5f\"}}, \"ternary\": {\"aaxis\": {\"gridcolor\": \"white\", \"linecolor\": \"white\", \"ticks\": \"\"}, \"baxis\": {\"gridcolor\": \"white\", \"linecolor\": \"white\", \"ticks\": \"\"}, \"bgcolor\": \"#E5ECF6\", \"caxis\": {\"gridcolor\": \"white\", \"linecolor\": \"white\", \"ticks\": \"\"}}, \"title\": {\"x\": 0.05}, \"xaxis\": {\"automargin\": true, \"gridcolor\": \"white\", \"linecolor\": \"white\", \"ticks\": \"\", \"title\": {\"standoff\": 15}, \"zerolinecolor\": \"white\", \"zerolinewidth\": 2}, \"yaxis\": {\"automargin\": true, \"gridcolor\": \"white\", \"linecolor\": \"white\", \"ticks\": \"\", \"title\": {\"standoff\": 15}, \"zerolinecolor\": \"white\", \"zerolinewidth\": 2}}}, \"title\": {\"text\": \"all_results\"}, \"width\": 1000},\n",
       "                        {\"responsive\": true}\n",
       "                    ).then(function(){\n",
       "                            \n",
       "var gd = document.getElementById('f4f58252-1333-443e-b0db-3312ec053083');\n",
       "var x = new MutationObserver(function (mutations, observer) {{\n",
       "        var display = window.getComputedStyle(gd).display;\n",
       "        if (!display || display === 'none') {{\n",
       "            console.log([gd, 'removed!']);\n",
       "            Plotly.purge(gd);\n",
       "            observer.disconnect();\n",
       "        }}\n",
       "}});\n",
       "\n",
       "// Listen for the removal of the full notebook cells\n",
       "var notebookContainer = gd.closest('#notebook-container');\n",
       "if (notebookContainer) {{\n",
       "    x.observe(notebookContainer, {childList: true});\n",
       "}}\n",
       "\n",
       "// Listen for the clearing of the current output cell\n",
       "var outputEl = gd.closest('.output');\n",
       "if (outputEl) {{\n",
       "    x.observe(outputEl, {childList: true});\n",
       "}}\n",
       "\n",
       "                        })\n",
       "                };\n",
       "                });\n",
       "            </script>\n",
       "        </div>"
      ]
     },
     "metadata": {},
     "output_type": "display_data"
    }
   ],
   "source": [
    "fig = px.scatter_matrix(df_bulk, \n",
    "                        dimensions = ['total_E', 'DHf', 'Ehull_ref','Volume', 'Eg_ref', 'tot_mag'])\n",
    "fig.update_layout(height = 1000, width = 1000, title_text = 'all_results')\n",
    "\n",
    "pyo.iplot(fig)"
   ]
  }
 ],
 "metadata": {
  "kernelspec": {
   "display_name": "Python 3",
   "language": "python",
   "name": "python3"
  },
  "language_info": {
   "codemirror_mode": {
    "name": "ipython",
    "version": 3
   },
   "file_extension": ".py",
   "mimetype": "text/x-python",
   "name": "python",
   "nbconvert_exporter": "python",
   "pygments_lexer": "ipython3",
   "version": "3.7.4"
  }
 },
 "nbformat": 4,
 "nbformat_minor": 2
}
