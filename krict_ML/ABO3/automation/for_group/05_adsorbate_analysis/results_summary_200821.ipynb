{
 "cells": [
  {
   "cell_type": "code",
   "execution_count": 101,
   "metadata": {},
   "outputs": [],
   "source": [
    "import pickle\n",
    "import pandas as pd\n",
    "\n",
    "from itertools import repeat\n",
    "\n",
    "import plotly.offline as pyo\n",
    "import plotly.graph_objs as go\n",
    "from plotly.subplots import make_subplots\n",
    "\n",
    "import plotly.express as px\n",
    "\n",
    "from plotly.offline import init_notebook_mode, plot_mpl\n",
    "import matplotlib.pyplot as plt"
   ]
  },
  {
   "cell_type": "code",
   "execution_count": 102,
   "metadata": {},
   "outputs": [],
   "source": [
    "with open('../results_nurion/adsorbate_analysis/df_summary_001_010.pkl', 'rb') as f:\n",
    "    data = pickle.load(f)\n",
    "# print(data)"
   ]
  },
  {
   "cell_type": "code",
   "execution_count": 103,
   "metadata": {},
   "outputs": [],
   "source": [
    "df1 = pd.read_pickle('../results_nurion/adsorbate_analysis/df_summary_001_010.pkl')\n",
    "df2 = pd.read_pickle('../results_nurion/adsorbate_analysis/df_summary_011_020.pkl')\n",
    "\n",
    "df1_afm = pd.read_pickle('../results_nurion/adsorbate_analysis/AFM/df_summary_001_005.pkl')\n",
    "df2_afm = pd.read_pickle('../results_nurion/adsorbate_analysis/AFM/df_summary_006_010.pkl')"
   ]
  },
  {
   "cell_type": "code",
   "execution_count": 104,
   "metadata": {},
   "outputs": [],
   "source": [
    "df1['mag_ini'] = list(repeat('FM',10))\n",
    "df2['mag_ini'] = list(repeat('FM',10))\n",
    "\n",
    "df1_afm['mag_ini'] = list(repeat('AFM',5))\n",
    "df2_afm['mag_ini'] = list(repeat('AFM',5))\n"
   ]
  },
  {
   "cell_type": "code",
   "execution_count": 105,
   "metadata": {},
   "outputs": [
    {
     "data": {
      "text/html": [
       "<div>\n",
       "<style scoped>\n",
       "    .dataframe tbody tr th:only-of-type {\n",
       "        vertical-align: middle;\n",
       "    }\n",
       "\n",
       "    .dataframe tbody tr th {\n",
       "        vertical-align: top;\n",
       "    }\n",
       "\n",
       "    .dataframe thead th {\n",
       "        text-align: right;\n",
       "    }\n",
       "</style>\n",
       "<table border=\"1\" class=\"dataframe\">\n",
       "  <thead>\n",
       "    <tr style=\"text-align: right;\">\n",
       "      <th></th>\n",
       "      <th>formula</th>\n",
       "      <th>mag_ini</th>\n",
       "      <th>convg_bare</th>\n",
       "      <th>tot_E_bare</th>\n",
       "      <th>DE_bare</th>\n",
       "      <th>bare_mag</th>\n",
       "      <th>nsteps_bare</th>\n",
       "      <th>time_bare</th>\n",
       "      <th>convg_OOH</th>\n",
       "      <th>tot_E_OOH</th>\n",
       "      <th>...</th>\n",
       "      <th>O_dmag</th>\n",
       "      <th>nsteps_O</th>\n",
       "      <th>time_O</th>\n",
       "      <th>convg_OH</th>\n",
       "      <th>tot_E_OH</th>\n",
       "      <th>DE_OH</th>\n",
       "      <th>OH_mag</th>\n",
       "      <th>OH_dmag</th>\n",
       "      <th>nsteps_OH</th>\n",
       "      <th>time_OH</th>\n",
       "    </tr>\n",
       "  </thead>\n",
       "  <tbody>\n",
       "    <tr>\n",
       "      <td>1</td>\n",
       "      <td>SrTcO3</td>\n",
       "      <td>FM</td>\n",
       "      <td>True</td>\n",
       "      <td>-386.83</td>\n",
       "      <td>0</td>\n",
       "      <td>13.642</td>\n",
       "      <td>1</td>\n",
       "      <td>0.231</td>\n",
       "      <td>True</td>\n",
       "      <td>-402.976</td>\n",
       "      <td>...</td>\n",
       "      <td>-6.812</td>\n",
       "      <td>33</td>\n",
       "      <td>3.963</td>\n",
       "      <td>True</td>\n",
       "      <td>-398.741</td>\n",
       "      <td>-1.077</td>\n",
       "      <td>10.772</td>\n",
       "      <td>-2.871</td>\n",
       "      <td>104</td>\n",
       "      <td>6.984</td>\n",
       "    </tr>\n",
       "    <tr>\n",
       "      <td>2</td>\n",
       "      <td>BaFeO3</td>\n",
       "      <td>FM</td>\n",
       "      <td>True</td>\n",
       "      <td>-316.788</td>\n",
       "      <td>0</td>\n",
       "      <td>59.992</td>\n",
       "      <td>1</td>\n",
       "      <td>0.214</td>\n",
       "      <td>True</td>\n",
       "      <td>-330.499</td>\n",
       "      <td>...</td>\n",
       "      <td>-3.356</td>\n",
       "      <td>22</td>\n",
       "      <td>7.076</td>\n",
       "      <td>True</td>\n",
       "      <td>-325.893</td>\n",
       "      <td>1.729</td>\n",
       "      <td>58.79</td>\n",
       "      <td>-1.202</td>\n",
       "      <td>135</td>\n",
       "      <td>23.709</td>\n",
       "    </tr>\n",
       "    <tr>\n",
       "      <td>3</td>\n",
       "      <td>BaMoO3</td>\n",
       "      <td>FM</td>\n",
       "      <td>True</td>\n",
       "      <td>-359.32</td>\n",
       "      <td>0</td>\n",
       "      <td>24</td>\n",
       "      <td>1</td>\n",
       "      <td>0.213</td>\n",
       "      <td>True</td>\n",
       "      <td>-374.928</td>\n",
       "      <td>...</td>\n",
       "      <td>-2</td>\n",
       "      <td>42</td>\n",
       "      <td>4.014</td>\n",
       "      <td>True</td>\n",
       "      <td>-370.751</td>\n",
       "      <td>-0.597</td>\n",
       "      <td>23</td>\n",
       "      <td>-1</td>\n",
       "      <td>74</td>\n",
       "      <td>11.724</td>\n",
       "    </tr>\n",
       "    <tr>\n",
       "      <td>4</td>\n",
       "      <td>KTaO3</td>\n",
       "      <td>FM</td>\n",
       "      <td>True</td>\n",
       "      <td>-438.376</td>\n",
       "      <td>0</td>\n",
       "      <td>0</td>\n",
       "      <td>1</td>\n",
       "      <td>0.182</td>\n",
       "      <td>True</td>\n",
       "      <td>-454.428</td>\n",
       "      <td>...</td>\n",
       "      <td>1.665</td>\n",
       "      <td>57</td>\n",
       "      <td>5.913</td>\n",
       "      <td>True</td>\n",
       "      <td>-450.506</td>\n",
       "      <td>-1.296</td>\n",
       "      <td>0.991</td>\n",
       "      <td>0.991</td>\n",
       "      <td>67</td>\n",
       "      <td>5.088</td>\n",
       "    </tr>\n",
       "    <tr>\n",
       "      <td>5</td>\n",
       "      <td>BaZrO3</td>\n",
       "      <td>FM</td>\n",
       "      <td>True</td>\n",
       "      <td>-438.828</td>\n",
       "      <td>0</td>\n",
       "      <td>0</td>\n",
       "      <td>1</td>\n",
       "      <td>0.216</td>\n",
       "      <td>True</td>\n",
       "      <td>-452.75</td>\n",
       "      <td>...</td>\n",
       "      <td>-1.331</td>\n",
       "      <td>21</td>\n",
       "      <td>5.219</td>\n",
       "      <td>True</td>\n",
       "      <td>-448.668</td>\n",
       "      <td>0.995</td>\n",
       "      <td>0.216</td>\n",
       "      <td>0.216</td>\n",
       "      <td>112</td>\n",
       "      <td>14.91</td>\n",
       "    </tr>\n",
       "    <tr>\n",
       "      <td>6</td>\n",
       "      <td>SrFeO3</td>\n",
       "      <td>FM</td>\n",
       "      <td>True</td>\n",
       "      <td>-319.464</td>\n",
       "      <td>0</td>\n",
       "      <td>53.798</td>\n",
       "      <td>1</td>\n",
       "      <td>0.212</td>\n",
       "      <td>True</td>\n",
       "      <td>-333.151</td>\n",
       "      <td>...</td>\n",
       "      <td>-6.308</td>\n",
       "      <td>20</td>\n",
       "      <td>6.255</td>\n",
       "      <td>True</td>\n",
       "      <td>-328.567</td>\n",
       "      <td>1.731</td>\n",
       "      <td>53.888</td>\n",
       "      <td>0.09</td>\n",
       "      <td>60</td>\n",
       "      <td>9.614</td>\n",
       "    </tr>\n",
       "    <tr>\n",
       "      <td>7</td>\n",
       "      <td>KTcO3</td>\n",
       "      <td>FM</td>\n",
       "      <td>True</td>\n",
       "      <td>-365.187</td>\n",
       "      <td>0</td>\n",
       "      <td>0</td>\n",
       "      <td>1</td>\n",
       "      <td>0.202</td>\n",
       "      <td>True</td>\n",
       "      <td>-380.584</td>\n",
       "      <td>...</td>\n",
       "      <td>0.934</td>\n",
       "      <td>32</td>\n",
       "      <td>5.654</td>\n",
       "      <td>True</td>\n",
       "      <td>-376.277</td>\n",
       "      <td>-0.255</td>\n",
       "      <td>-0.566</td>\n",
       "      <td>-0.566</td>\n",
       "      <td>102</td>\n",
       "      <td>11.206</td>\n",
       "    </tr>\n",
       "    <tr>\n",
       "      <td>8</td>\n",
       "      <td>NaTcO3</td>\n",
       "      <td>FM</td>\n",
       "      <td>True</td>\n",
       "      <td>-367.817</td>\n",
       "      <td>0</td>\n",
       "      <td>0.01</td>\n",
       "      <td>15</td>\n",
       "      <td>2.156</td>\n",
       "      <td>True</td>\n",
       "      <td>-383.295</td>\n",
       "      <td>...</td>\n",
       "      <td>1.116</td>\n",
       "      <td>34</td>\n",
       "      <td>4.36</td>\n",
       "      <td>True</td>\n",
       "      <td>-379.013</td>\n",
       "      <td>-0.362</td>\n",
       "      <td>0.48</td>\n",
       "      <td>0.47</td>\n",
       "      <td>92</td>\n",
       "      <td>8.044</td>\n",
       "    </tr>\n",
       "    <tr>\n",
       "      <td>9</td>\n",
       "      <td>BaHfO3</td>\n",
       "      <td>FM</td>\n",
       "      <td>True</td>\n",
       "      <td>-459.591</td>\n",
       "      <td>0</td>\n",
       "      <td>-0</td>\n",
       "      <td>1</td>\n",
       "      <td>0.202</td>\n",
       "      <td>True</td>\n",
       "      <td>-473.682</td>\n",
       "      <td>...</td>\n",
       "      <td>1.393</td>\n",
       "      <td>20</td>\n",
       "      <td>2.395</td>\n",
       "      <td>True</td>\n",
       "      <td>-469.529</td>\n",
       "      <td>0.896</td>\n",
       "      <td>0.002</td>\n",
       "      <td>0.002</td>\n",
       "      <td>100</td>\n",
       "      <td>6.591</td>\n",
       "    </tr>\n",
       "    <tr>\n",
       "      <td>10</td>\n",
       "      <td>SrTiO3</td>\n",
       "      <td>FM</td>\n",
       "      <td>True</td>\n",
       "      <td>-418.989</td>\n",
       "      <td>0</td>\n",
       "      <td>0</td>\n",
       "      <td>1</td>\n",
       "      <td>0.174</td>\n",
       "      <td>True</td>\n",
       "      <td>-432.985</td>\n",
       "      <td>...</td>\n",
       "      <td>1.079</td>\n",
       "      <td>40</td>\n",
       "      <td>5.503</td>\n",
       "      <td>True</td>\n",
       "      <td>-428.842</td>\n",
       "      <td>0.981</td>\n",
       "      <td>0.001</td>\n",
       "      <td>0.001</td>\n",
       "      <td>58</td>\n",
       "      <td>4.226</td>\n",
       "    </tr>\n",
       "    <tr>\n",
       "      <td>11</td>\n",
       "      <td>SrCuO3</td>\n",
       "      <td>FM</td>\n",
       "      <td>True</td>\n",
       "      <td>-263.515</td>\n",
       "      <td>0</td>\n",
       "      <td>13.957</td>\n",
       "      <td>1</td>\n",
       "      <td>0.223</td>\n",
       "      <td>True</td>\n",
       "      <td>-277.135</td>\n",
       "      <td>...</td>\n",
       "      <td>0.581</td>\n",
       "      <td>27</td>\n",
       "      <td>4.104</td>\n",
       "      <td>True</td>\n",
       "      <td>-272.637</td>\n",
       "      <td>1.712</td>\n",
       "      <td>13.012</td>\n",
       "      <td>-0.946</td>\n",
       "      <td>91</td>\n",
       "      <td>10.558</td>\n",
       "    </tr>\n",
       "    <tr>\n",
       "      <td>12</td>\n",
       "      <td>KNbO3</td>\n",
       "      <td>FM</td>\n",
       "      <td>True</td>\n",
       "      <td>-407.896</td>\n",
       "      <td>0</td>\n",
       "      <td>-0.19</td>\n",
       "      <td>1</td>\n",
       "      <td>0.189</td>\n",
       "      <td>True</td>\n",
       "      <td>-423.225</td>\n",
       "      <td>...</td>\n",
       "      <td>1.954</td>\n",
       "      <td>148</td>\n",
       "      <td>20.854</td>\n",
       "      <td>True</td>\n",
       "      <td>-419.242</td>\n",
       "      <td>-0.512</td>\n",
       "      <td>1.066</td>\n",
       "      <td>1.256</td>\n",
       "      <td>110</td>\n",
       "      <td>9.889</td>\n",
       "    </tr>\n",
       "    <tr>\n",
       "      <td>13</td>\n",
       "      <td>NaTaO3</td>\n",
       "      <td>FM</td>\n",
       "      <td>True</td>\n",
       "      <td>-439.846</td>\n",
       "      <td>0</td>\n",
       "      <td>0.001</td>\n",
       "      <td>26</td>\n",
       "      <td>2.156</td>\n",
       "      <td>True</td>\n",
       "      <td>-456.051</td>\n",
       "      <td>...</td>\n",
       "      <td>-0.002</td>\n",
       "      <td>76</td>\n",
       "      <td>6.89</td>\n",
       "      <td>True</td>\n",
       "      <td>-452.104</td>\n",
       "      <td>-1.424</td>\n",
       "      <td>0.997</td>\n",
       "      <td>0.995</td>\n",
       "      <td>48</td>\n",
       "      <td>3.434</td>\n",
       "    </tr>\n",
       "    <tr>\n",
       "      <td>14</td>\n",
       "      <td>BaScO3</td>\n",
       "      <td>FM</td>\n",
       "      <td>True</td>\n",
       "      <td>-384.892</td>\n",
       "      <td>0</td>\n",
       "      <td>12</td>\n",
       "      <td>1</td>\n",
       "      <td>0.233</td>\n",
       "      <td>True</td>\n",
       "      <td>-398.543</td>\n",
       "      <td>...</td>\n",
       "      <td>2</td>\n",
       "      <td>11</td>\n",
       "      <td>1.514</td>\n",
       "      <td>False</td>\n",
       "      <td>-393.83</td>\n",
       "      <td>1.896</td>\n",
       "      <td>13</td>\n",
       "      <td>1</td>\n",
       "      <td>200</td>\n",
       "      <td>16.219</td>\n",
       "    </tr>\n",
       "    <tr>\n",
       "      <td>15</td>\n",
       "      <td>BaPdO3</td>\n",
       "      <td>FM</td>\n",
       "      <td>True</td>\n",
       "      <td>-281.011</td>\n",
       "      <td>0</td>\n",
       "      <td>16.38</td>\n",
       "      <td>1</td>\n",
       "      <td>0.219</td>\n",
       "      <td>True</td>\n",
       "      <td>-294.973</td>\n",
       "      <td>...</td>\n",
       "      <td>1.103</td>\n",
       "      <td>34</td>\n",
       "      <td>4.146</td>\n",
       "      <td>True</td>\n",
       "      <td>-290.44</td>\n",
       "      <td>1.405</td>\n",
       "      <td>16.407</td>\n",
       "      <td>0.027</td>\n",
       "      <td>53</td>\n",
       "      <td>5.468</td>\n",
       "    </tr>\n",
       "    <tr>\n",
       "      <td>16</td>\n",
       "      <td>BaTaO3</td>\n",
       "      <td>FM</td>\n",
       "      <td>True</td>\n",
       "      <td>-449.92</td>\n",
       "      <td>0</td>\n",
       "      <td>2.961</td>\n",
       "      <td>1</td>\n",
       "      <td>0.202</td>\n",
       "      <td>NaN</td>\n",
       "      <td>NaN</td>\n",
       "      <td>...</td>\n",
       "      <td>-0.87</td>\n",
       "      <td>43</td>\n",
       "      <td>3.039</td>\n",
       "      <td>True</td>\n",
       "      <td>-462.935</td>\n",
       "      <td>-2.181</td>\n",
       "      <td>2.744</td>\n",
       "      <td>-0.217</td>\n",
       "      <td>58</td>\n",
       "      <td>3.347</td>\n",
       "    </tr>\n",
       "    <tr>\n",
       "      <td>17</td>\n",
       "      <td>SrHfO3</td>\n",
       "      <td>FM</td>\n",
       "      <td>True</td>\n",
       "      <td>-458.405</td>\n",
       "      <td>0</td>\n",
       "      <td>-0</td>\n",
       "      <td>1</td>\n",
       "      <td>0.212</td>\n",
       "      <td>True</td>\n",
       "      <td>-472.572</td>\n",
       "      <td>...</td>\n",
       "      <td>1.478</td>\n",
       "      <td>20</td>\n",
       "      <td>3.274</td>\n",
       "      <td>True</td>\n",
       "      <td>-468.453</td>\n",
       "      <td>0.786</td>\n",
       "      <td>-0.063</td>\n",
       "      <td>-0.063</td>\n",
       "      <td>125</td>\n",
       "      <td>6.872</td>\n",
       "    </tr>\n",
       "    <tr>\n",
       "      <td>18</td>\n",
       "      <td>NaOsO3</td>\n",
       "      <td>FM</td>\n",
       "      <td>True</td>\n",
       "      <td>-351.564</td>\n",
       "      <td>0</td>\n",
       "      <td>7.513</td>\n",
       "      <td>34</td>\n",
       "      <td>8.976</td>\n",
       "      <td>NaN</td>\n",
       "      <td>NaN</td>\n",
       "      <td>...</td>\n",
       "      <td>-1.577</td>\n",
       "      <td>30</td>\n",
       "      <td>46.635</td>\n",
       "      <td>NaN</td>\n",
       "      <td>NaN</td>\n",
       "      <td>NaN</td>\n",
       "      <td>NaN</td>\n",
       "      <td>NaN</td>\n",
       "      <td>NaN</td>\n",
       "      <td>NaN</td>\n",
       "    </tr>\n",
       "    <tr>\n",
       "      <td>19</td>\n",
       "      <td>TlTcO3</td>\n",
       "      <td>FM</td>\n",
       "      <td>True</td>\n",
       "      <td>-353.586</td>\n",
       "      <td>0</td>\n",
       "      <td>1.901</td>\n",
       "      <td>1</td>\n",
       "      <td>0.264</td>\n",
       "      <td>True</td>\n",
       "      <td>-369.113</td>\n",
       "      <td>...</td>\n",
       "      <td>-1.143</td>\n",
       "      <td>44</td>\n",
       "      <td>9.307</td>\n",
       "      <td>True</td>\n",
       "      <td>-364.746</td>\n",
       "      <td>-0.326</td>\n",
       "      <td>-2.579</td>\n",
       "      <td>-4.48</td>\n",
       "      <td>56</td>\n",
       "      <td>9.794</td>\n",
       "    </tr>\n",
       "    <tr>\n",
       "      <td>20</td>\n",
       "      <td>KReO3</td>\n",
       "      <td>FM</td>\n",
       "      <td>True</td>\n",
       "      <td>-387.749</td>\n",
       "      <td>0</td>\n",
       "      <td>1.071</td>\n",
       "      <td>2</td>\n",
       "      <td>0.296</td>\n",
       "      <td>True</td>\n",
       "      <td>-403.837</td>\n",
       "      <td>...</td>\n",
       "      <td>0.18</td>\n",
       "      <td>45</td>\n",
       "      <td>20.188</td>\n",
       "      <td>True</td>\n",
       "      <td>-399.611</td>\n",
       "      <td>-1.028</td>\n",
       "      <td>0.643</td>\n",
       "      <td>-0.428</td>\n",
       "      <td>49</td>\n",
       "      <td>9.195</td>\n",
       "    </tr>\n",
       "  </tbody>\n",
       "</table>\n",
       "<p>20 rows × 29 columns</p>\n",
       "</div>"
      ],
      "text/plain": [
       "   formula mag_ini convg_bare tot_E_bare DE_bare bare_mag nsteps_bare  \\\n",
       "1   SrTcO3      FM       True    -386.83       0   13.642           1   \n",
       "2   BaFeO3      FM       True   -316.788       0   59.992           1   \n",
       "3   BaMoO3      FM       True    -359.32       0       24           1   \n",
       "4    KTaO3      FM       True   -438.376       0        0           1   \n",
       "5   BaZrO3      FM       True   -438.828       0        0           1   \n",
       "6   SrFeO3      FM       True   -319.464       0   53.798           1   \n",
       "7    KTcO3      FM       True   -365.187       0        0           1   \n",
       "8   NaTcO3      FM       True   -367.817       0     0.01          15   \n",
       "9   BaHfO3      FM       True   -459.591       0       -0           1   \n",
       "10  SrTiO3      FM       True   -418.989       0        0           1   \n",
       "11  SrCuO3      FM       True   -263.515       0   13.957           1   \n",
       "12   KNbO3      FM       True   -407.896       0    -0.19           1   \n",
       "13  NaTaO3      FM       True   -439.846       0    0.001          26   \n",
       "14  BaScO3      FM       True   -384.892       0       12           1   \n",
       "15  BaPdO3      FM       True   -281.011       0    16.38           1   \n",
       "16  BaTaO3      FM       True    -449.92       0    2.961           1   \n",
       "17  SrHfO3      FM       True   -458.405       0       -0           1   \n",
       "18  NaOsO3      FM       True   -351.564       0    7.513          34   \n",
       "19  TlTcO3      FM       True   -353.586       0    1.901           1   \n",
       "20   KReO3      FM       True   -387.749       0    1.071           2   \n",
       "\n",
       "   time_bare convg_OOH tot_E_OOH  ... O_dmag nsteps_O  time_O convg_OH  \\\n",
       "1      0.231      True  -402.976  ... -6.812       33   3.963     True   \n",
       "2      0.214      True  -330.499  ... -3.356       22   7.076     True   \n",
       "3      0.213      True  -374.928  ...     -2       42   4.014     True   \n",
       "4      0.182      True  -454.428  ...  1.665       57   5.913     True   \n",
       "5      0.216      True   -452.75  ... -1.331       21   5.219     True   \n",
       "6      0.212      True  -333.151  ... -6.308       20   6.255     True   \n",
       "7      0.202      True  -380.584  ...  0.934       32   5.654     True   \n",
       "8      2.156      True  -383.295  ...  1.116       34    4.36     True   \n",
       "9      0.202      True  -473.682  ...  1.393       20   2.395     True   \n",
       "10     0.174      True  -432.985  ...  1.079       40   5.503     True   \n",
       "11     0.223      True  -277.135  ...  0.581       27   4.104     True   \n",
       "12     0.189      True  -423.225  ...  1.954      148  20.854     True   \n",
       "13     2.156      True  -456.051  ... -0.002       76    6.89     True   \n",
       "14     0.233      True  -398.543  ...      2       11   1.514    False   \n",
       "15     0.219      True  -294.973  ...  1.103       34   4.146     True   \n",
       "16     0.202       NaN       NaN  ...  -0.87       43   3.039     True   \n",
       "17     0.212      True  -472.572  ...  1.478       20   3.274     True   \n",
       "18     8.976       NaN       NaN  ... -1.577       30  46.635      NaN   \n",
       "19     0.264      True  -369.113  ... -1.143       44   9.307     True   \n",
       "20     0.296      True  -403.837  ...   0.18       45  20.188     True   \n",
       "\n",
       "   tot_E_OH  DE_OH  OH_mag OH_dmag nsteps_OH time_OH  \n",
       "1  -398.741 -1.077  10.772  -2.871       104   6.984  \n",
       "2  -325.893  1.729   58.79  -1.202       135  23.709  \n",
       "3  -370.751 -0.597      23      -1        74  11.724  \n",
       "4  -450.506 -1.296   0.991   0.991        67   5.088  \n",
       "5  -448.668  0.995   0.216   0.216       112   14.91  \n",
       "6  -328.567  1.731  53.888    0.09        60   9.614  \n",
       "7  -376.277 -0.255  -0.566  -0.566       102  11.206  \n",
       "8  -379.013 -0.362    0.48    0.47        92   8.044  \n",
       "9  -469.529  0.896   0.002   0.002       100   6.591  \n",
       "10 -428.842  0.981   0.001   0.001        58   4.226  \n",
       "11 -272.637  1.712  13.012  -0.946        91  10.558  \n",
       "12 -419.242 -0.512   1.066   1.256       110   9.889  \n",
       "13 -452.104 -1.424   0.997   0.995        48   3.434  \n",
       "14  -393.83  1.896      13       1       200  16.219  \n",
       "15  -290.44  1.405  16.407   0.027        53   5.468  \n",
       "16 -462.935 -2.181   2.744  -0.217        58   3.347  \n",
       "17 -468.453  0.786  -0.063  -0.063       125   6.872  \n",
       "18      NaN    NaN     NaN     NaN       NaN     NaN  \n",
       "19 -364.746 -0.326  -2.579   -4.48        56   9.794  \n",
       "20 -399.611 -1.028   0.643  -0.428        49   9.195  \n",
       "\n",
       "[20 rows x 29 columns]"
      ]
     },
     "execution_count": 105,
     "metadata": {},
     "output_type": "execute_result"
    }
   ],
   "source": [
    "df = pd.concat([df1, df2], ignore_index = False)\n",
    "cols = df.columns.tolist()\n",
    "cols = [cols[0]] + cols[-1:] + cols[1:-1]\n",
    "df = df[cols]\n",
    "df"
   ]
  },
  {
   "cell_type": "code",
   "execution_count": 106,
   "metadata": {},
   "outputs": [
    {
     "data": {
      "text/html": [
       "<div>\n",
       "<style scoped>\n",
       "    .dataframe tbody tr th:only-of-type {\n",
       "        vertical-align: middle;\n",
       "    }\n",
       "\n",
       "    .dataframe tbody tr th {\n",
       "        vertical-align: top;\n",
       "    }\n",
       "\n",
       "    .dataframe thead th {\n",
       "        text-align: right;\n",
       "    }\n",
       "</style>\n",
       "<table border=\"1\" class=\"dataframe\">\n",
       "  <thead>\n",
       "    <tr style=\"text-align: right;\">\n",
       "      <th></th>\n",
       "      <th>formula</th>\n",
       "      <th>mag_ini</th>\n",
       "      <th>convg_bare</th>\n",
       "      <th>tot_E_bare</th>\n",
       "      <th>DE_bare</th>\n",
       "      <th>bare_mag</th>\n",
       "      <th>nsteps_bare</th>\n",
       "      <th>time_bare</th>\n",
       "      <th>convg_OOH</th>\n",
       "      <th>tot_E_OOH</th>\n",
       "      <th>...</th>\n",
       "      <th>O_dmag</th>\n",
       "      <th>nsteps_O</th>\n",
       "      <th>time_O</th>\n",
       "      <th>convg_OH</th>\n",
       "      <th>tot_E_OH</th>\n",
       "      <th>DE_OH</th>\n",
       "      <th>OH_mag</th>\n",
       "      <th>OH_dmag</th>\n",
       "      <th>nsteps_OH</th>\n",
       "      <th>time_OH</th>\n",
       "    </tr>\n",
       "  </thead>\n",
       "  <tbody>\n",
       "    <tr>\n",
       "      <td>1</td>\n",
       "      <td>SrTcO3</td>\n",
       "      <td>FM</td>\n",
       "      <td>True</td>\n",
       "      <td>-386.83</td>\n",
       "      <td>0</td>\n",
       "      <td>13.642</td>\n",
       "      <td>1</td>\n",
       "      <td>0.231</td>\n",
       "      <td>True</td>\n",
       "      <td>-402.976</td>\n",
       "      <td>...</td>\n",
       "      <td>-6.812</td>\n",
       "      <td>33</td>\n",
       "      <td>3.963</td>\n",
       "      <td>True</td>\n",
       "      <td>-398.741</td>\n",
       "      <td>-1.077</td>\n",
       "      <td>10.772</td>\n",
       "      <td>-2.871</td>\n",
       "      <td>104</td>\n",
       "      <td>6.984</td>\n",
       "    </tr>\n",
       "    <tr>\n",
       "      <td>2</td>\n",
       "      <td>BaFeO3</td>\n",
       "      <td>FM</td>\n",
       "      <td>True</td>\n",
       "      <td>-316.788</td>\n",
       "      <td>0</td>\n",
       "      <td>59.992</td>\n",
       "      <td>1</td>\n",
       "      <td>0.214</td>\n",
       "      <td>True</td>\n",
       "      <td>-330.499</td>\n",
       "      <td>...</td>\n",
       "      <td>-3.356</td>\n",
       "      <td>22</td>\n",
       "      <td>7.076</td>\n",
       "      <td>True</td>\n",
       "      <td>-325.893</td>\n",
       "      <td>1.729</td>\n",
       "      <td>58.79</td>\n",
       "      <td>-1.202</td>\n",
       "      <td>135</td>\n",
       "      <td>23.709</td>\n",
       "    </tr>\n",
       "    <tr>\n",
       "      <td>3</td>\n",
       "      <td>BaMoO3</td>\n",
       "      <td>FM</td>\n",
       "      <td>True</td>\n",
       "      <td>-359.32</td>\n",
       "      <td>0</td>\n",
       "      <td>24</td>\n",
       "      <td>1</td>\n",
       "      <td>0.213</td>\n",
       "      <td>True</td>\n",
       "      <td>-374.928</td>\n",
       "      <td>...</td>\n",
       "      <td>-2</td>\n",
       "      <td>42</td>\n",
       "      <td>4.014</td>\n",
       "      <td>True</td>\n",
       "      <td>-370.751</td>\n",
       "      <td>-0.597</td>\n",
       "      <td>23</td>\n",
       "      <td>-1</td>\n",
       "      <td>74</td>\n",
       "      <td>11.724</td>\n",
       "    </tr>\n",
       "    <tr>\n",
       "      <td>4</td>\n",
       "      <td>KTaO3</td>\n",
       "      <td>FM</td>\n",
       "      <td>True</td>\n",
       "      <td>-438.376</td>\n",
       "      <td>0</td>\n",
       "      <td>0</td>\n",
       "      <td>1</td>\n",
       "      <td>0.182</td>\n",
       "      <td>True</td>\n",
       "      <td>-454.428</td>\n",
       "      <td>...</td>\n",
       "      <td>1.665</td>\n",
       "      <td>57</td>\n",
       "      <td>5.913</td>\n",
       "      <td>True</td>\n",
       "      <td>-450.506</td>\n",
       "      <td>-1.296</td>\n",
       "      <td>0.991</td>\n",
       "      <td>0.991</td>\n",
       "      <td>67</td>\n",
       "      <td>5.088</td>\n",
       "    </tr>\n",
       "    <tr>\n",
       "      <td>5</td>\n",
       "      <td>BaZrO3</td>\n",
       "      <td>FM</td>\n",
       "      <td>True</td>\n",
       "      <td>-438.828</td>\n",
       "      <td>0</td>\n",
       "      <td>0</td>\n",
       "      <td>1</td>\n",
       "      <td>0.216</td>\n",
       "      <td>True</td>\n",
       "      <td>-452.75</td>\n",
       "      <td>...</td>\n",
       "      <td>-1.331</td>\n",
       "      <td>21</td>\n",
       "      <td>5.219</td>\n",
       "      <td>True</td>\n",
       "      <td>-448.668</td>\n",
       "      <td>0.995</td>\n",
       "      <td>0.216</td>\n",
       "      <td>0.216</td>\n",
       "      <td>112</td>\n",
       "      <td>14.91</td>\n",
       "    </tr>\n",
       "    <tr>\n",
       "      <td>6</td>\n",
       "      <td>SrFeO3</td>\n",
       "      <td>FM</td>\n",
       "      <td>True</td>\n",
       "      <td>-319.464</td>\n",
       "      <td>0</td>\n",
       "      <td>53.798</td>\n",
       "      <td>1</td>\n",
       "      <td>0.212</td>\n",
       "      <td>True</td>\n",
       "      <td>-333.151</td>\n",
       "      <td>...</td>\n",
       "      <td>-6.308</td>\n",
       "      <td>20</td>\n",
       "      <td>6.255</td>\n",
       "      <td>True</td>\n",
       "      <td>-328.567</td>\n",
       "      <td>1.731</td>\n",
       "      <td>53.888</td>\n",
       "      <td>0.09</td>\n",
       "      <td>60</td>\n",
       "      <td>9.614</td>\n",
       "    </tr>\n",
       "    <tr>\n",
       "      <td>7</td>\n",
       "      <td>KTcO3</td>\n",
       "      <td>FM</td>\n",
       "      <td>True</td>\n",
       "      <td>-365.187</td>\n",
       "      <td>0</td>\n",
       "      <td>0</td>\n",
       "      <td>1</td>\n",
       "      <td>0.202</td>\n",
       "      <td>True</td>\n",
       "      <td>-380.584</td>\n",
       "      <td>...</td>\n",
       "      <td>0.934</td>\n",
       "      <td>32</td>\n",
       "      <td>5.654</td>\n",
       "      <td>True</td>\n",
       "      <td>-376.277</td>\n",
       "      <td>-0.255</td>\n",
       "      <td>-0.566</td>\n",
       "      <td>-0.566</td>\n",
       "      <td>102</td>\n",
       "      <td>11.206</td>\n",
       "    </tr>\n",
       "    <tr>\n",
       "      <td>8</td>\n",
       "      <td>NaTcO3</td>\n",
       "      <td>FM</td>\n",
       "      <td>True</td>\n",
       "      <td>-367.817</td>\n",
       "      <td>0</td>\n",
       "      <td>0.01</td>\n",
       "      <td>15</td>\n",
       "      <td>2.156</td>\n",
       "      <td>True</td>\n",
       "      <td>-383.295</td>\n",
       "      <td>...</td>\n",
       "      <td>1.116</td>\n",
       "      <td>34</td>\n",
       "      <td>4.36</td>\n",
       "      <td>True</td>\n",
       "      <td>-379.013</td>\n",
       "      <td>-0.362</td>\n",
       "      <td>0.48</td>\n",
       "      <td>0.47</td>\n",
       "      <td>92</td>\n",
       "      <td>8.044</td>\n",
       "    </tr>\n",
       "    <tr>\n",
       "      <td>9</td>\n",
       "      <td>BaHfO3</td>\n",
       "      <td>FM</td>\n",
       "      <td>True</td>\n",
       "      <td>-459.591</td>\n",
       "      <td>0</td>\n",
       "      <td>-0</td>\n",
       "      <td>1</td>\n",
       "      <td>0.202</td>\n",
       "      <td>True</td>\n",
       "      <td>-473.682</td>\n",
       "      <td>...</td>\n",
       "      <td>1.393</td>\n",
       "      <td>20</td>\n",
       "      <td>2.395</td>\n",
       "      <td>True</td>\n",
       "      <td>-469.529</td>\n",
       "      <td>0.896</td>\n",
       "      <td>0.002</td>\n",
       "      <td>0.002</td>\n",
       "      <td>100</td>\n",
       "      <td>6.591</td>\n",
       "    </tr>\n",
       "    <tr>\n",
       "      <td>10</td>\n",
       "      <td>SrTiO3</td>\n",
       "      <td>FM</td>\n",
       "      <td>True</td>\n",
       "      <td>-418.989</td>\n",
       "      <td>0</td>\n",
       "      <td>0</td>\n",
       "      <td>1</td>\n",
       "      <td>0.174</td>\n",
       "      <td>True</td>\n",
       "      <td>-432.985</td>\n",
       "      <td>...</td>\n",
       "      <td>1.079</td>\n",
       "      <td>40</td>\n",
       "      <td>5.503</td>\n",
       "      <td>True</td>\n",
       "      <td>-428.842</td>\n",
       "      <td>0.981</td>\n",
       "      <td>0.001</td>\n",
       "      <td>0.001</td>\n",
       "      <td>58</td>\n",
       "      <td>4.226</td>\n",
       "    </tr>\n",
       "    <tr>\n",
       "      <td>11</td>\n",
       "      <td>SrCuO3</td>\n",
       "      <td>FM</td>\n",
       "      <td>True</td>\n",
       "      <td>-263.515</td>\n",
       "      <td>0</td>\n",
       "      <td>13.957</td>\n",
       "      <td>1</td>\n",
       "      <td>0.223</td>\n",
       "      <td>True</td>\n",
       "      <td>-277.135</td>\n",
       "      <td>...</td>\n",
       "      <td>0.581</td>\n",
       "      <td>27</td>\n",
       "      <td>4.104</td>\n",
       "      <td>True</td>\n",
       "      <td>-272.637</td>\n",
       "      <td>1.712</td>\n",
       "      <td>13.012</td>\n",
       "      <td>-0.946</td>\n",
       "      <td>91</td>\n",
       "      <td>10.558</td>\n",
       "    </tr>\n",
       "    <tr>\n",
       "      <td>12</td>\n",
       "      <td>KNbO3</td>\n",
       "      <td>FM</td>\n",
       "      <td>True</td>\n",
       "      <td>-407.896</td>\n",
       "      <td>0</td>\n",
       "      <td>-0.19</td>\n",
       "      <td>1</td>\n",
       "      <td>0.189</td>\n",
       "      <td>True</td>\n",
       "      <td>-423.225</td>\n",
       "      <td>...</td>\n",
       "      <td>1.954</td>\n",
       "      <td>148</td>\n",
       "      <td>20.854</td>\n",
       "      <td>True</td>\n",
       "      <td>-419.242</td>\n",
       "      <td>-0.512</td>\n",
       "      <td>1.066</td>\n",
       "      <td>1.256</td>\n",
       "      <td>110</td>\n",
       "      <td>9.889</td>\n",
       "    </tr>\n",
       "    <tr>\n",
       "      <td>13</td>\n",
       "      <td>NaTaO3</td>\n",
       "      <td>FM</td>\n",
       "      <td>True</td>\n",
       "      <td>-439.846</td>\n",
       "      <td>0</td>\n",
       "      <td>0.001</td>\n",
       "      <td>26</td>\n",
       "      <td>2.156</td>\n",
       "      <td>True</td>\n",
       "      <td>-456.051</td>\n",
       "      <td>...</td>\n",
       "      <td>-0.002</td>\n",
       "      <td>76</td>\n",
       "      <td>6.89</td>\n",
       "      <td>True</td>\n",
       "      <td>-452.104</td>\n",
       "      <td>-1.424</td>\n",
       "      <td>0.997</td>\n",
       "      <td>0.995</td>\n",
       "      <td>48</td>\n",
       "      <td>3.434</td>\n",
       "    </tr>\n",
       "    <tr>\n",
       "      <td>14</td>\n",
       "      <td>BaScO3</td>\n",
       "      <td>FM</td>\n",
       "      <td>True</td>\n",
       "      <td>-384.892</td>\n",
       "      <td>0</td>\n",
       "      <td>12</td>\n",
       "      <td>1</td>\n",
       "      <td>0.233</td>\n",
       "      <td>True</td>\n",
       "      <td>-398.543</td>\n",
       "      <td>...</td>\n",
       "      <td>2</td>\n",
       "      <td>11</td>\n",
       "      <td>1.514</td>\n",
       "      <td>False</td>\n",
       "      <td>-393.83</td>\n",
       "      <td>1.896</td>\n",
       "      <td>13</td>\n",
       "      <td>1</td>\n",
       "      <td>200</td>\n",
       "      <td>16.219</td>\n",
       "    </tr>\n",
       "    <tr>\n",
       "      <td>15</td>\n",
       "      <td>BaPdO3</td>\n",
       "      <td>FM</td>\n",
       "      <td>True</td>\n",
       "      <td>-281.011</td>\n",
       "      <td>0</td>\n",
       "      <td>16.38</td>\n",
       "      <td>1</td>\n",
       "      <td>0.219</td>\n",
       "      <td>True</td>\n",
       "      <td>-294.973</td>\n",
       "      <td>...</td>\n",
       "      <td>1.103</td>\n",
       "      <td>34</td>\n",
       "      <td>4.146</td>\n",
       "      <td>True</td>\n",
       "      <td>-290.44</td>\n",
       "      <td>1.405</td>\n",
       "      <td>16.407</td>\n",
       "      <td>0.027</td>\n",
       "      <td>53</td>\n",
       "      <td>5.468</td>\n",
       "    </tr>\n",
       "    <tr>\n",
       "      <td>16</td>\n",
       "      <td>BaTaO3</td>\n",
       "      <td>FM</td>\n",
       "      <td>True</td>\n",
       "      <td>-449.92</td>\n",
       "      <td>0</td>\n",
       "      <td>2.961</td>\n",
       "      <td>1</td>\n",
       "      <td>0.202</td>\n",
       "      <td>NaN</td>\n",
       "      <td>NaN</td>\n",
       "      <td>...</td>\n",
       "      <td>-0.87</td>\n",
       "      <td>43</td>\n",
       "      <td>3.039</td>\n",
       "      <td>True</td>\n",
       "      <td>-462.935</td>\n",
       "      <td>-2.181</td>\n",
       "      <td>2.744</td>\n",
       "      <td>-0.217</td>\n",
       "      <td>58</td>\n",
       "      <td>3.347</td>\n",
       "    </tr>\n",
       "    <tr>\n",
       "      <td>17</td>\n",
       "      <td>SrHfO3</td>\n",
       "      <td>FM</td>\n",
       "      <td>True</td>\n",
       "      <td>-458.405</td>\n",
       "      <td>0</td>\n",
       "      <td>-0</td>\n",
       "      <td>1</td>\n",
       "      <td>0.212</td>\n",
       "      <td>True</td>\n",
       "      <td>-472.572</td>\n",
       "      <td>...</td>\n",
       "      <td>1.478</td>\n",
       "      <td>20</td>\n",
       "      <td>3.274</td>\n",
       "      <td>True</td>\n",
       "      <td>-468.453</td>\n",
       "      <td>0.786</td>\n",
       "      <td>-0.063</td>\n",
       "      <td>-0.063</td>\n",
       "      <td>125</td>\n",
       "      <td>6.872</td>\n",
       "    </tr>\n",
       "    <tr>\n",
       "      <td>18</td>\n",
       "      <td>NaOsO3</td>\n",
       "      <td>FM</td>\n",
       "      <td>True</td>\n",
       "      <td>-351.564</td>\n",
       "      <td>0</td>\n",
       "      <td>7.513</td>\n",
       "      <td>34</td>\n",
       "      <td>8.976</td>\n",
       "      <td>NaN</td>\n",
       "      <td>NaN</td>\n",
       "      <td>...</td>\n",
       "      <td>-1.577</td>\n",
       "      <td>30</td>\n",
       "      <td>46.635</td>\n",
       "      <td>NaN</td>\n",
       "      <td>NaN</td>\n",
       "      <td>NaN</td>\n",
       "      <td>NaN</td>\n",
       "      <td>NaN</td>\n",
       "      <td>NaN</td>\n",
       "      <td>NaN</td>\n",
       "    </tr>\n",
       "    <tr>\n",
       "      <td>19</td>\n",
       "      <td>TlTcO3</td>\n",
       "      <td>FM</td>\n",
       "      <td>True</td>\n",
       "      <td>-353.586</td>\n",
       "      <td>0</td>\n",
       "      <td>1.901</td>\n",
       "      <td>1</td>\n",
       "      <td>0.264</td>\n",
       "      <td>True</td>\n",
       "      <td>-369.113</td>\n",
       "      <td>...</td>\n",
       "      <td>-1.143</td>\n",
       "      <td>44</td>\n",
       "      <td>9.307</td>\n",
       "      <td>True</td>\n",
       "      <td>-364.746</td>\n",
       "      <td>-0.326</td>\n",
       "      <td>-2.579</td>\n",
       "      <td>-4.48</td>\n",
       "      <td>56</td>\n",
       "      <td>9.794</td>\n",
       "    </tr>\n",
       "    <tr>\n",
       "      <td>20</td>\n",
       "      <td>KReO3</td>\n",
       "      <td>FM</td>\n",
       "      <td>True</td>\n",
       "      <td>-387.749</td>\n",
       "      <td>0</td>\n",
       "      <td>1.071</td>\n",
       "      <td>2</td>\n",
       "      <td>0.296</td>\n",
       "      <td>True</td>\n",
       "      <td>-403.837</td>\n",
       "      <td>...</td>\n",
       "      <td>0.18</td>\n",
       "      <td>45</td>\n",
       "      <td>20.188</td>\n",
       "      <td>True</td>\n",
       "      <td>-399.611</td>\n",
       "      <td>-1.028</td>\n",
       "      <td>0.643</td>\n",
       "      <td>-0.428</td>\n",
       "      <td>49</td>\n",
       "      <td>9.195</td>\n",
       "    </tr>\n",
       "    <tr>\n",
       "      <td>1</td>\n",
       "      <td>SrTcO3</td>\n",
       "      <td>AFM</td>\n",
       "      <td>True</td>\n",
       "      <td>-386.83</td>\n",
       "      <td>0</td>\n",
       "      <td>13.642</td>\n",
       "      <td>1</td>\n",
       "      <td>0.231</td>\n",
       "      <td>True</td>\n",
       "      <td>-403.4</td>\n",
       "      <td>...</td>\n",
       "      <td>-3.303</td>\n",
       "      <td>38</td>\n",
       "      <td>7.336</td>\n",
       "      <td>True</td>\n",
       "      <td>-398.526</td>\n",
       "      <td>-0.862</td>\n",
       "      <td>9.382</td>\n",
       "      <td>-4.261</td>\n",
       "      <td>113</td>\n",
       "      <td>32.061</td>\n",
       "    </tr>\n",
       "    <tr>\n",
       "      <td>2</td>\n",
       "      <td>BaFeO3</td>\n",
       "      <td>AFM</td>\n",
       "      <td>True</td>\n",
       "      <td>-316.788</td>\n",
       "      <td>0</td>\n",
       "      <td>59.992</td>\n",
       "      <td>1</td>\n",
       "      <td>0.214</td>\n",
       "      <td>True</td>\n",
       "      <td>-330.002</td>\n",
       "      <td>...</td>\n",
       "      <td>-60.672</td>\n",
       "      <td>37</td>\n",
       "      <td>4.479</td>\n",
       "      <td>True</td>\n",
       "      <td>-325.474</td>\n",
       "      <td>2.148</td>\n",
       "      <td>-5.739</td>\n",
       "      <td>-65.731</td>\n",
       "      <td>108</td>\n",
       "      <td>11.207</td>\n",
       "    </tr>\n",
       "    <tr>\n",
       "      <td>3</td>\n",
       "      <td>BaMoO3</td>\n",
       "      <td>AFM</td>\n",
       "      <td>True</td>\n",
       "      <td>-359.32</td>\n",
       "      <td>0</td>\n",
       "      <td>24</td>\n",
       "      <td>1</td>\n",
       "      <td>0.213</td>\n",
       "      <td>True</td>\n",
       "      <td>-375.867</td>\n",
       "      <td>...</td>\n",
       "      <td>-26.045</td>\n",
       "      <td>195</td>\n",
       "      <td>25.088</td>\n",
       "      <td>True</td>\n",
       "      <td>-371.828</td>\n",
       "      <td>-1.674</td>\n",
       "      <td>5</td>\n",
       "      <td>-19</td>\n",
       "      <td>69</td>\n",
       "      <td>4.357</td>\n",
       "    </tr>\n",
       "    <tr>\n",
       "      <td>4</td>\n",
       "      <td>KTaO3</td>\n",
       "      <td>AFM</td>\n",
       "      <td>True</td>\n",
       "      <td>-438.376</td>\n",
       "      <td>0</td>\n",
       "      <td>0</td>\n",
       "      <td>1</td>\n",
       "      <td>0.182</td>\n",
       "      <td>True</td>\n",
       "      <td>-454.428</td>\n",
       "      <td>...</td>\n",
       "      <td>-0.335</td>\n",
       "      <td>59</td>\n",
       "      <td>3.451</td>\n",
       "      <td>True</td>\n",
       "      <td>-450.506</td>\n",
       "      <td>-1.296</td>\n",
       "      <td>0.991</td>\n",
       "      <td>0.991</td>\n",
       "      <td>79</td>\n",
       "      <td>2.976</td>\n",
       "    </tr>\n",
       "    <tr>\n",
       "      <td>5</td>\n",
       "      <td>BaZrO3</td>\n",
       "      <td>AFM</td>\n",
       "      <td>True</td>\n",
       "      <td>-438.828</td>\n",
       "      <td>0</td>\n",
       "      <td>0</td>\n",
       "      <td>1</td>\n",
       "      <td>0.216</td>\n",
       "      <td>True</td>\n",
       "      <td>-452.75</td>\n",
       "      <td>...</td>\n",
       "      <td>-1.204</td>\n",
       "      <td>24</td>\n",
       "      <td>5.287</td>\n",
       "      <td>True</td>\n",
       "      <td>-448.673</td>\n",
       "      <td>0.989</td>\n",
       "      <td>0.217</td>\n",
       "      <td>0.217</td>\n",
       "      <td>127</td>\n",
       "      <td>15.593</td>\n",
       "    </tr>\n",
       "    <tr>\n",
       "      <td>6</td>\n",
       "      <td>SrFeO3</td>\n",
       "      <td>AFM</td>\n",
       "      <td>True</td>\n",
       "      <td>-319.464</td>\n",
       "      <td>0</td>\n",
       "      <td>53.798</td>\n",
       "      <td>1</td>\n",
       "      <td>0.212</td>\n",
       "      <td>NaN</td>\n",
       "      <td>NaN</td>\n",
       "      <td>...</td>\n",
       "      <td>-50.872</td>\n",
       "      <td>13</td>\n",
       "      <td>5.158</td>\n",
       "      <td>True</td>\n",
       "      <td>-327.633</td>\n",
       "      <td>2.666</td>\n",
       "      <td>2.033</td>\n",
       "      <td>-51.765</td>\n",
       "      <td>33</td>\n",
       "      <td>5.366</td>\n",
       "    </tr>\n",
       "    <tr>\n",
       "      <td>7</td>\n",
       "      <td>KTcO3</td>\n",
       "      <td>AFM</td>\n",
       "      <td>True</td>\n",
       "      <td>-365.187</td>\n",
       "      <td>0</td>\n",
       "      <td>0</td>\n",
       "      <td>1</td>\n",
       "      <td>0.202</td>\n",
       "      <td>True</td>\n",
       "      <td>-380.585</td>\n",
       "      <td>...</td>\n",
       "      <td>0.665</td>\n",
       "      <td>36</td>\n",
       "      <td>11.932</td>\n",
       "      <td>True</td>\n",
       "      <td>-376.265</td>\n",
       "      <td>-0.244</td>\n",
       "      <td>0.469</td>\n",
       "      <td>0.469</td>\n",
       "      <td>29</td>\n",
       "      <td>4.774</td>\n",
       "    </tr>\n",
       "    <tr>\n",
       "      <td>8</td>\n",
       "      <td>NaTcO3</td>\n",
       "      <td>AFM</td>\n",
       "      <td>True</td>\n",
       "      <td>-367.817</td>\n",
       "      <td>0</td>\n",
       "      <td>0.01</td>\n",
       "      <td>15</td>\n",
       "      <td>2.156</td>\n",
       "      <td>NaN</td>\n",
       "      <td>NaN</td>\n",
       "      <td>...</td>\n",
       "      <td>NaN</td>\n",
       "      <td>NaN</td>\n",
       "      <td>NaN</td>\n",
       "      <td>True</td>\n",
       "      <td>-378.998</td>\n",
       "      <td>-0.347</td>\n",
       "      <td>0.983</td>\n",
       "      <td>0.974</td>\n",
       "      <td>37</td>\n",
       "      <td>14.624</td>\n",
       "    </tr>\n",
       "    <tr>\n",
       "      <td>9</td>\n",
       "      <td>BaHfO3</td>\n",
       "      <td>AFM</td>\n",
       "      <td>True</td>\n",
       "      <td>-459.591</td>\n",
       "      <td>0</td>\n",
       "      <td>-0</td>\n",
       "      <td>1</td>\n",
       "      <td>0.202</td>\n",
       "      <td>NaN</td>\n",
       "      <td>NaN</td>\n",
       "      <td>...</td>\n",
       "      <td>1.391</td>\n",
       "      <td>20</td>\n",
       "      <td>2.012</td>\n",
       "      <td>True</td>\n",
       "      <td>-469.528</td>\n",
       "      <td>0.897</td>\n",
       "      <td>-0.003</td>\n",
       "      <td>-0.003</td>\n",
       "      <td>94</td>\n",
       "      <td>5.77</td>\n",
       "    </tr>\n",
       "    <tr>\n",
       "      <td>10</td>\n",
       "      <td>SrTiO3</td>\n",
       "      <td>AFM</td>\n",
       "      <td>True</td>\n",
       "      <td>-418.989</td>\n",
       "      <td>0</td>\n",
       "      <td>0</td>\n",
       "      <td>1</td>\n",
       "      <td>0.174</td>\n",
       "      <td>True</td>\n",
       "      <td>-432.983</td>\n",
       "      <td>...</td>\n",
       "      <td>-1.08</td>\n",
       "      <td>35</td>\n",
       "      <td>3.475</td>\n",
       "      <td>True</td>\n",
       "      <td>-428.84</td>\n",
       "      <td>0.983</td>\n",
       "      <td>-0</td>\n",
       "      <td>-0</td>\n",
       "      <td>57</td>\n",
       "      <td>3.882</td>\n",
       "    </tr>\n",
       "  </tbody>\n",
       "</table>\n",
       "<p>30 rows × 29 columns</p>\n",
       "</div>"
      ],
      "text/plain": [
       "   formula mag_ini convg_bare tot_E_bare DE_bare bare_mag nsteps_bare  \\\n",
       "1   SrTcO3      FM       True    -386.83       0   13.642           1   \n",
       "2   BaFeO3      FM       True   -316.788       0   59.992           1   \n",
       "3   BaMoO3      FM       True    -359.32       0       24           1   \n",
       "4    KTaO3      FM       True   -438.376       0        0           1   \n",
       "5   BaZrO3      FM       True   -438.828       0        0           1   \n",
       "6   SrFeO3      FM       True   -319.464       0   53.798           1   \n",
       "7    KTcO3      FM       True   -365.187       0        0           1   \n",
       "8   NaTcO3      FM       True   -367.817       0     0.01          15   \n",
       "9   BaHfO3      FM       True   -459.591       0       -0           1   \n",
       "10  SrTiO3      FM       True   -418.989       0        0           1   \n",
       "11  SrCuO3      FM       True   -263.515       0   13.957           1   \n",
       "12   KNbO3      FM       True   -407.896       0    -0.19           1   \n",
       "13  NaTaO3      FM       True   -439.846       0    0.001          26   \n",
       "14  BaScO3      FM       True   -384.892       0       12           1   \n",
       "15  BaPdO3      FM       True   -281.011       0    16.38           1   \n",
       "16  BaTaO3      FM       True    -449.92       0    2.961           1   \n",
       "17  SrHfO3      FM       True   -458.405       0       -0           1   \n",
       "18  NaOsO3      FM       True   -351.564       0    7.513          34   \n",
       "19  TlTcO3      FM       True   -353.586       0    1.901           1   \n",
       "20   KReO3      FM       True   -387.749       0    1.071           2   \n",
       "1   SrTcO3     AFM       True    -386.83       0   13.642           1   \n",
       "2   BaFeO3     AFM       True   -316.788       0   59.992           1   \n",
       "3   BaMoO3     AFM       True    -359.32       0       24           1   \n",
       "4    KTaO3     AFM       True   -438.376       0        0           1   \n",
       "5   BaZrO3     AFM       True   -438.828       0        0           1   \n",
       "6   SrFeO3     AFM       True   -319.464       0   53.798           1   \n",
       "7    KTcO3     AFM       True   -365.187       0        0           1   \n",
       "8   NaTcO3     AFM       True   -367.817       0     0.01          15   \n",
       "9   BaHfO3     AFM       True   -459.591       0       -0           1   \n",
       "10  SrTiO3     AFM       True   -418.989       0        0           1   \n",
       "\n",
       "   time_bare convg_OOH tot_E_OOH  ...  O_dmag nsteps_O  time_O convg_OH  \\\n",
       "1      0.231      True  -402.976  ...  -6.812       33   3.963     True   \n",
       "2      0.214      True  -330.499  ...  -3.356       22   7.076     True   \n",
       "3      0.213      True  -374.928  ...      -2       42   4.014     True   \n",
       "4      0.182      True  -454.428  ...   1.665       57   5.913     True   \n",
       "5      0.216      True   -452.75  ...  -1.331       21   5.219     True   \n",
       "6      0.212      True  -333.151  ...  -6.308       20   6.255     True   \n",
       "7      0.202      True  -380.584  ...   0.934       32   5.654     True   \n",
       "8      2.156      True  -383.295  ...   1.116       34    4.36     True   \n",
       "9      0.202      True  -473.682  ...   1.393       20   2.395     True   \n",
       "10     0.174      True  -432.985  ...   1.079       40   5.503     True   \n",
       "11     0.223      True  -277.135  ...   0.581       27   4.104     True   \n",
       "12     0.189      True  -423.225  ...   1.954      148  20.854     True   \n",
       "13     2.156      True  -456.051  ...  -0.002       76    6.89     True   \n",
       "14     0.233      True  -398.543  ...       2       11   1.514    False   \n",
       "15     0.219      True  -294.973  ...   1.103       34   4.146     True   \n",
       "16     0.202       NaN       NaN  ...   -0.87       43   3.039     True   \n",
       "17     0.212      True  -472.572  ...   1.478       20   3.274     True   \n",
       "18     8.976       NaN       NaN  ...  -1.577       30  46.635      NaN   \n",
       "19     0.264      True  -369.113  ...  -1.143       44   9.307     True   \n",
       "20     0.296      True  -403.837  ...    0.18       45  20.188     True   \n",
       "1      0.231      True    -403.4  ...  -3.303       38   7.336     True   \n",
       "2      0.214      True  -330.002  ... -60.672       37   4.479     True   \n",
       "3      0.213      True  -375.867  ... -26.045      195  25.088     True   \n",
       "4      0.182      True  -454.428  ...  -0.335       59   3.451     True   \n",
       "5      0.216      True   -452.75  ...  -1.204       24   5.287     True   \n",
       "6      0.212       NaN       NaN  ... -50.872       13   5.158     True   \n",
       "7      0.202      True  -380.585  ...   0.665       36  11.932     True   \n",
       "8      2.156       NaN       NaN  ...     NaN      NaN     NaN     True   \n",
       "9      0.202       NaN       NaN  ...   1.391       20   2.012     True   \n",
       "10     0.174      True  -432.983  ...   -1.08       35   3.475     True   \n",
       "\n",
       "   tot_E_OH  DE_OH  OH_mag OH_dmag nsteps_OH time_OH  \n",
       "1  -398.741 -1.077  10.772  -2.871       104   6.984  \n",
       "2  -325.893  1.729   58.79  -1.202       135  23.709  \n",
       "3  -370.751 -0.597      23      -1        74  11.724  \n",
       "4  -450.506 -1.296   0.991   0.991        67   5.088  \n",
       "5  -448.668  0.995   0.216   0.216       112   14.91  \n",
       "6  -328.567  1.731  53.888    0.09        60   9.614  \n",
       "7  -376.277 -0.255  -0.566  -0.566       102  11.206  \n",
       "8  -379.013 -0.362    0.48    0.47        92   8.044  \n",
       "9  -469.529  0.896   0.002   0.002       100   6.591  \n",
       "10 -428.842  0.981   0.001   0.001        58   4.226  \n",
       "11 -272.637  1.712  13.012  -0.946        91  10.558  \n",
       "12 -419.242 -0.512   1.066   1.256       110   9.889  \n",
       "13 -452.104 -1.424   0.997   0.995        48   3.434  \n",
       "14  -393.83  1.896      13       1       200  16.219  \n",
       "15  -290.44  1.405  16.407   0.027        53   5.468  \n",
       "16 -462.935 -2.181   2.744  -0.217        58   3.347  \n",
       "17 -468.453  0.786  -0.063  -0.063       125   6.872  \n",
       "18      NaN    NaN     NaN     NaN       NaN     NaN  \n",
       "19 -364.746 -0.326  -2.579   -4.48        56   9.794  \n",
       "20 -399.611 -1.028   0.643  -0.428        49   9.195  \n",
       "1  -398.526 -0.862   9.382  -4.261       113  32.061  \n",
       "2  -325.474  2.148  -5.739 -65.731       108  11.207  \n",
       "3  -371.828 -1.674       5     -19        69   4.357  \n",
       "4  -450.506 -1.296   0.991   0.991        79   2.976  \n",
       "5  -448.673  0.989   0.217   0.217       127  15.593  \n",
       "6  -327.633  2.666   2.033 -51.765        33   5.366  \n",
       "7  -376.265 -0.244   0.469   0.469        29   4.774  \n",
       "8  -378.998 -0.347   0.983   0.974        37  14.624  \n",
       "9  -469.528  0.897  -0.003  -0.003        94    5.77  \n",
       "10  -428.84  0.983      -0      -0        57   3.882  \n",
       "\n",
       "[30 rows x 29 columns]"
      ]
     },
     "execution_count": 106,
     "metadata": {},
     "output_type": "execute_result"
    }
   ],
   "source": [
    "df_merged = pd.concat([df1, df2, df1_afm,df2_afm], ignore_index = False)\n",
    "cols = df_merged.columns.tolist()\n",
    "cols = [cols[0]] + cols[-1:] + cols[1:-1]\n",
    "df_merged = df_merged[cols]\n",
    "df_merged"
   ]
  },
  {
   "cell_type": "code",
   "execution_count": 107,
   "metadata": {},
   "outputs": [
    {
     "data": {
      "text/html": [
       "<div>\n",
       "<style scoped>\n",
       "    .dataframe tbody tr th:only-of-type {\n",
       "        vertical-align: middle;\n",
       "    }\n",
       "\n",
       "    .dataframe tbody tr th {\n",
       "        vertical-align: top;\n",
       "    }\n",
       "\n",
       "    .dataframe thead th {\n",
       "        text-align: right;\n",
       "    }\n",
       "</style>\n",
       "<table border=\"1\" class=\"dataframe\">\n",
       "  <thead>\n",
       "    <tr style=\"text-align: right;\">\n",
       "      <th></th>\n",
       "      <th>formula</th>\n",
       "      <th>mag_ini</th>\n",
       "      <th>convg_bare</th>\n",
       "      <th>tot_E_bare</th>\n",
       "      <th>DE_bare</th>\n",
       "      <th>bare_mag</th>\n",
       "      <th>nsteps_bare</th>\n",
       "      <th>time_bare</th>\n",
       "      <th>convg_OOH</th>\n",
       "      <th>tot_E_OOH</th>\n",
       "      <th>...</th>\n",
       "      <th>O_dmag</th>\n",
       "      <th>nsteps_O</th>\n",
       "      <th>time_O</th>\n",
       "      <th>convg_OH</th>\n",
       "      <th>tot_E_OH</th>\n",
       "      <th>DE_OH</th>\n",
       "      <th>OH_mag</th>\n",
       "      <th>OH_dmag</th>\n",
       "      <th>nsteps_OH</th>\n",
       "      <th>time_OH</th>\n",
       "    </tr>\n",
       "  </thead>\n",
       "  <tbody>\n",
       "    <tr>\n",
       "      <td>1</td>\n",
       "      <td>SrTcO3</td>\n",
       "      <td>FM</td>\n",
       "      <td>True</td>\n",
       "      <td>-386.83</td>\n",
       "      <td>0</td>\n",
       "      <td>13.642</td>\n",
       "      <td>1</td>\n",
       "      <td>0.231</td>\n",
       "      <td>True</td>\n",
       "      <td>-402.976</td>\n",
       "      <td>...</td>\n",
       "      <td>-6.812</td>\n",
       "      <td>33</td>\n",
       "      <td>3.963</td>\n",
       "      <td>True</td>\n",
       "      <td>-398.741</td>\n",
       "      <td>-1.077</td>\n",
       "      <td>10.772</td>\n",
       "      <td>-2.871</td>\n",
       "      <td>104</td>\n",
       "      <td>6.984</td>\n",
       "    </tr>\n",
       "    <tr>\n",
       "      <td>1</td>\n",
       "      <td>SrTcO3</td>\n",
       "      <td>AFM</td>\n",
       "      <td>True</td>\n",
       "      <td>-386.83</td>\n",
       "      <td>0</td>\n",
       "      <td>13.642</td>\n",
       "      <td>1</td>\n",
       "      <td>0.231</td>\n",
       "      <td>True</td>\n",
       "      <td>-403.4</td>\n",
       "      <td>...</td>\n",
       "      <td>-3.303</td>\n",
       "      <td>38</td>\n",
       "      <td>7.336</td>\n",
       "      <td>True</td>\n",
       "      <td>-398.526</td>\n",
       "      <td>-0.862</td>\n",
       "      <td>9.382</td>\n",
       "      <td>-4.261</td>\n",
       "      <td>113</td>\n",
       "      <td>32.061</td>\n",
       "    </tr>\n",
       "  </tbody>\n",
       "</table>\n",
       "<p>2 rows × 29 columns</p>\n",
       "</div>"
      ],
      "text/plain": [
       "  formula mag_ini convg_bare tot_E_bare DE_bare bare_mag nsteps_bare  \\\n",
       "1  SrTcO3      FM       True    -386.83       0   13.642           1   \n",
       "1  SrTcO3     AFM       True    -386.83       0   13.642           1   \n",
       "\n",
       "  time_bare convg_OOH tot_E_OOH  ... O_dmag nsteps_O time_O convg_OH tot_E_OH  \\\n",
       "1     0.231      True  -402.976  ... -6.812       33  3.963     True -398.741   \n",
       "1     0.231      True    -403.4  ... -3.303       38  7.336     True -398.526   \n",
       "\n",
       "   DE_OH  OH_mag OH_dmag nsteps_OH time_OH  \n",
       "1 -1.077  10.772  -2.871       104   6.984  \n",
       "1 -0.862   9.382  -4.261       113  32.061  \n",
       "\n",
       "[2 rows x 29 columns]"
      ]
     },
     "execution_count": 107,
     "metadata": {},
     "output_type": "execute_result"
    }
   ],
   "source": [
    "df_merged.loc[1]"
   ]
  },
  {
   "cell_type": "code",
   "execution_count": 108,
   "metadata": {},
   "outputs": [],
   "source": [
    "df_bare = df.loc[:,('formula', 'convg_bare', 'tot_E_bare', 'DE_bare', 'bare_mag', 'nsteps_bare', 'time_bare')]\n",
    "df_OOH = df.loc[:,('formula', 'convg_OOH','tot_E_OOH', 'DE_OOH', 'OOH_mag', 'OOH_dmag', 'nsteps_OOH', 'time_OOH')]\n",
    "df_O = df.loc[:,('formula', 'convg_O','tot_E_O', 'DE_O', 'O_mag', 'O_dmag', 'nsteps_O', 'time_O')]\n",
    "df_OH = df.loc[:,('formula', 'convg_OH','tot_E_OH', 'DE_OH', 'OH_mag', 'OH_dmag', 'nsteps_OH', 'time_OH')]"
   ]
  },
  {
   "cell_type": "code",
   "execution_count": 109,
   "metadata": {},
   "outputs": [
    {
     "data": {
      "text/html": [
       "<div>\n",
       "<style scoped>\n",
       "    .dataframe tbody tr th:only-of-type {\n",
       "        vertical-align: middle;\n",
       "    }\n",
       "\n",
       "    .dataframe tbody tr th {\n",
       "        vertical-align: top;\n",
       "    }\n",
       "\n",
       "    .dataframe thead th {\n",
       "        text-align: right;\n",
       "    }\n",
       "</style>\n",
       "<table border=\"1\" class=\"dataframe\">\n",
       "  <thead>\n",
       "    <tr style=\"text-align: right;\">\n",
       "      <th></th>\n",
       "      <th>formula</th>\n",
       "      <th>convg_bare</th>\n",
       "      <th>tot_E_bare</th>\n",
       "      <th>DE_bare</th>\n",
       "      <th>bare_mag</th>\n",
       "      <th>nsteps_bare</th>\n",
       "      <th>time_bare</th>\n",
       "    </tr>\n",
       "  </thead>\n",
       "  <tbody>\n",
       "    <tr>\n",
       "      <td>1</td>\n",
       "      <td>SrTcO3</td>\n",
       "      <td>True</td>\n",
       "      <td>-386.83</td>\n",
       "      <td>0</td>\n",
       "      <td>13.642</td>\n",
       "      <td>1</td>\n",
       "      <td>0.231</td>\n",
       "    </tr>\n",
       "    <tr>\n",
       "      <td>2</td>\n",
       "      <td>BaFeO3</td>\n",
       "      <td>True</td>\n",
       "      <td>-316.788</td>\n",
       "      <td>0</td>\n",
       "      <td>59.992</td>\n",
       "      <td>1</td>\n",
       "      <td>0.214</td>\n",
       "    </tr>\n",
       "    <tr>\n",
       "      <td>3</td>\n",
       "      <td>BaMoO3</td>\n",
       "      <td>True</td>\n",
       "      <td>-359.32</td>\n",
       "      <td>0</td>\n",
       "      <td>24</td>\n",
       "      <td>1</td>\n",
       "      <td>0.213</td>\n",
       "    </tr>\n",
       "    <tr>\n",
       "      <td>4</td>\n",
       "      <td>KTaO3</td>\n",
       "      <td>True</td>\n",
       "      <td>-438.376</td>\n",
       "      <td>0</td>\n",
       "      <td>0</td>\n",
       "      <td>1</td>\n",
       "      <td>0.182</td>\n",
       "    </tr>\n",
       "    <tr>\n",
       "      <td>5</td>\n",
       "      <td>BaZrO3</td>\n",
       "      <td>True</td>\n",
       "      <td>-438.828</td>\n",
       "      <td>0</td>\n",
       "      <td>0</td>\n",
       "      <td>1</td>\n",
       "      <td>0.216</td>\n",
       "    </tr>\n",
       "    <tr>\n",
       "      <td>6</td>\n",
       "      <td>SrFeO3</td>\n",
       "      <td>True</td>\n",
       "      <td>-319.464</td>\n",
       "      <td>0</td>\n",
       "      <td>53.798</td>\n",
       "      <td>1</td>\n",
       "      <td>0.212</td>\n",
       "    </tr>\n",
       "    <tr>\n",
       "      <td>7</td>\n",
       "      <td>KTcO3</td>\n",
       "      <td>True</td>\n",
       "      <td>-365.187</td>\n",
       "      <td>0</td>\n",
       "      <td>0</td>\n",
       "      <td>1</td>\n",
       "      <td>0.202</td>\n",
       "    </tr>\n",
       "    <tr>\n",
       "      <td>8</td>\n",
       "      <td>NaTcO3</td>\n",
       "      <td>True</td>\n",
       "      <td>-367.817</td>\n",
       "      <td>0</td>\n",
       "      <td>0.01</td>\n",
       "      <td>15</td>\n",
       "      <td>2.156</td>\n",
       "    </tr>\n",
       "    <tr>\n",
       "      <td>9</td>\n",
       "      <td>BaHfO3</td>\n",
       "      <td>True</td>\n",
       "      <td>-459.591</td>\n",
       "      <td>0</td>\n",
       "      <td>-0</td>\n",
       "      <td>1</td>\n",
       "      <td>0.202</td>\n",
       "    </tr>\n",
       "    <tr>\n",
       "      <td>10</td>\n",
       "      <td>SrTiO3</td>\n",
       "      <td>True</td>\n",
       "      <td>-418.989</td>\n",
       "      <td>0</td>\n",
       "      <td>0</td>\n",
       "      <td>1</td>\n",
       "      <td>0.174</td>\n",
       "    </tr>\n",
       "    <tr>\n",
       "      <td>11</td>\n",
       "      <td>SrCuO3</td>\n",
       "      <td>True</td>\n",
       "      <td>-263.515</td>\n",
       "      <td>0</td>\n",
       "      <td>13.957</td>\n",
       "      <td>1</td>\n",
       "      <td>0.223</td>\n",
       "    </tr>\n",
       "    <tr>\n",
       "      <td>12</td>\n",
       "      <td>KNbO3</td>\n",
       "      <td>True</td>\n",
       "      <td>-407.896</td>\n",
       "      <td>0</td>\n",
       "      <td>-0.19</td>\n",
       "      <td>1</td>\n",
       "      <td>0.189</td>\n",
       "    </tr>\n",
       "    <tr>\n",
       "      <td>13</td>\n",
       "      <td>NaTaO3</td>\n",
       "      <td>True</td>\n",
       "      <td>-439.846</td>\n",
       "      <td>0</td>\n",
       "      <td>0.001</td>\n",
       "      <td>26</td>\n",
       "      <td>2.156</td>\n",
       "    </tr>\n",
       "    <tr>\n",
       "      <td>14</td>\n",
       "      <td>BaScO3</td>\n",
       "      <td>True</td>\n",
       "      <td>-384.892</td>\n",
       "      <td>0</td>\n",
       "      <td>12</td>\n",
       "      <td>1</td>\n",
       "      <td>0.233</td>\n",
       "    </tr>\n",
       "    <tr>\n",
       "      <td>15</td>\n",
       "      <td>BaPdO3</td>\n",
       "      <td>True</td>\n",
       "      <td>-281.011</td>\n",
       "      <td>0</td>\n",
       "      <td>16.38</td>\n",
       "      <td>1</td>\n",
       "      <td>0.219</td>\n",
       "    </tr>\n",
       "    <tr>\n",
       "      <td>16</td>\n",
       "      <td>BaTaO3</td>\n",
       "      <td>True</td>\n",
       "      <td>-449.92</td>\n",
       "      <td>0</td>\n",
       "      <td>2.961</td>\n",
       "      <td>1</td>\n",
       "      <td>0.202</td>\n",
       "    </tr>\n",
       "    <tr>\n",
       "      <td>17</td>\n",
       "      <td>SrHfO3</td>\n",
       "      <td>True</td>\n",
       "      <td>-458.405</td>\n",
       "      <td>0</td>\n",
       "      <td>-0</td>\n",
       "      <td>1</td>\n",
       "      <td>0.212</td>\n",
       "    </tr>\n",
       "    <tr>\n",
       "      <td>18</td>\n",
       "      <td>NaOsO3</td>\n",
       "      <td>True</td>\n",
       "      <td>-351.564</td>\n",
       "      <td>0</td>\n",
       "      <td>7.513</td>\n",
       "      <td>34</td>\n",
       "      <td>8.976</td>\n",
       "    </tr>\n",
       "    <tr>\n",
       "      <td>19</td>\n",
       "      <td>TlTcO3</td>\n",
       "      <td>True</td>\n",
       "      <td>-353.586</td>\n",
       "      <td>0</td>\n",
       "      <td>1.901</td>\n",
       "      <td>1</td>\n",
       "      <td>0.264</td>\n",
       "    </tr>\n",
       "    <tr>\n",
       "      <td>20</td>\n",
       "      <td>KReO3</td>\n",
       "      <td>True</td>\n",
       "      <td>-387.749</td>\n",
       "      <td>0</td>\n",
       "      <td>1.071</td>\n",
       "      <td>2</td>\n",
       "      <td>0.296</td>\n",
       "    </tr>\n",
       "  </tbody>\n",
       "</table>\n",
       "</div>"
      ],
      "text/plain": [
       "   formula convg_bare tot_E_bare DE_bare bare_mag nsteps_bare time_bare\n",
       "1   SrTcO3       True    -386.83       0   13.642           1     0.231\n",
       "2   BaFeO3       True   -316.788       0   59.992           1     0.214\n",
       "3   BaMoO3       True    -359.32       0       24           1     0.213\n",
       "4    KTaO3       True   -438.376       0        0           1     0.182\n",
       "5   BaZrO3       True   -438.828       0        0           1     0.216\n",
       "6   SrFeO3       True   -319.464       0   53.798           1     0.212\n",
       "7    KTcO3       True   -365.187       0        0           1     0.202\n",
       "8   NaTcO3       True   -367.817       0     0.01          15     2.156\n",
       "9   BaHfO3       True   -459.591       0       -0           1     0.202\n",
       "10  SrTiO3       True   -418.989       0        0           1     0.174\n",
       "11  SrCuO3       True   -263.515       0   13.957           1     0.223\n",
       "12   KNbO3       True   -407.896       0    -0.19           1     0.189\n",
       "13  NaTaO3       True   -439.846       0    0.001          26     2.156\n",
       "14  BaScO3       True   -384.892       0       12           1     0.233\n",
       "15  BaPdO3       True   -281.011       0    16.38           1     0.219\n",
       "16  BaTaO3       True    -449.92       0    2.961           1     0.202\n",
       "17  SrHfO3       True   -458.405       0       -0           1     0.212\n",
       "18  NaOsO3       True   -351.564       0    7.513          34     8.976\n",
       "19  TlTcO3       True   -353.586       0    1.901           1     0.264\n",
       "20   KReO3       True   -387.749       0    1.071           2     0.296"
      ]
     },
     "execution_count": 109,
     "metadata": {},
     "output_type": "execute_result"
    }
   ],
   "source": [
    "df_bare"
   ]
  },
  {
   "cell_type": "code",
   "execution_count": 110,
   "metadata": {},
   "outputs": [
    {
     "data": {
      "text/html": [
       "<div>\n",
       "<style scoped>\n",
       "    .dataframe tbody tr th:only-of-type {\n",
       "        vertical-align: middle;\n",
       "    }\n",
       "\n",
       "    .dataframe tbody tr th {\n",
       "        vertical-align: top;\n",
       "    }\n",
       "\n",
       "    .dataframe thead th {\n",
       "        text-align: right;\n",
       "    }\n",
       "</style>\n",
       "<table border=\"1\" class=\"dataframe\">\n",
       "  <thead>\n",
       "    <tr style=\"text-align: right;\">\n",
       "      <th></th>\n",
       "      <th>formula</th>\n",
       "      <th>convg_OOH</th>\n",
       "      <th>tot_E_OOH</th>\n",
       "      <th>DE_OOH</th>\n",
       "      <th>OOH_mag</th>\n",
       "      <th>OOH_dmag</th>\n",
       "      <th>nsteps_OOH</th>\n",
       "      <th>time_OOH</th>\n",
       "    </tr>\n",
       "  </thead>\n",
       "  <tbody>\n",
       "    <tr>\n",
       "      <td>1</td>\n",
       "      <td>SrTcO3</td>\n",
       "      <td>True</td>\n",
       "      <td>-402.976</td>\n",
       "      <td>2.136</td>\n",
       "      <td>10.741</td>\n",
       "      <td>-2.902</td>\n",
       "      <td>112</td>\n",
       "      <td>8.484</td>\n",
       "    </tr>\n",
       "    <tr>\n",
       "      <td>2</td>\n",
       "      <td>BaFeO3</td>\n",
       "      <td>True</td>\n",
       "      <td>-330.499</td>\n",
       "      <td>4.572</td>\n",
       "      <td>60.985</td>\n",
       "      <td>0.993</td>\n",
       "      <td>84</td>\n",
       "      <td>6.655</td>\n",
       "    </tr>\n",
       "    <tr>\n",
       "      <td>3</td>\n",
       "      <td>BaMoO3</td>\n",
       "      <td>True</td>\n",
       "      <td>-374.928</td>\n",
       "      <td>2.674</td>\n",
       "      <td>23</td>\n",
       "      <td>-1</td>\n",
       "      <td>59</td>\n",
       "      <td>21.487</td>\n",
       "    </tr>\n",
       "    <tr>\n",
       "      <td>4</td>\n",
       "      <td>KTaO3</td>\n",
       "      <td>True</td>\n",
       "      <td>-454.428</td>\n",
       "      <td>2.23</td>\n",
       "      <td>0.989</td>\n",
       "      <td>0.989</td>\n",
       "      <td>122</td>\n",
       "      <td>8.188</td>\n",
       "    </tr>\n",
       "    <tr>\n",
       "      <td>5</td>\n",
       "      <td>BaZrO3</td>\n",
       "      <td>True</td>\n",
       "      <td>-452.75</td>\n",
       "      <td>4.361</td>\n",
       "      <td>-0.002</td>\n",
       "      <td>-0.002</td>\n",
       "      <td>57</td>\n",
       "      <td>9.562</td>\n",
       "    </tr>\n",
       "    <tr>\n",
       "      <td>6</td>\n",
       "      <td>SrFeO3</td>\n",
       "      <td>True</td>\n",
       "      <td>-333.151</td>\n",
       "      <td>4.595</td>\n",
       "      <td>54.683</td>\n",
       "      <td>0.884</td>\n",
       "      <td>96</td>\n",
       "      <td>11.628</td>\n",
       "    </tr>\n",
       "    <tr>\n",
       "      <td>7</td>\n",
       "      <td>KTcO3</td>\n",
       "      <td>True</td>\n",
       "      <td>-380.584</td>\n",
       "      <td>2.886</td>\n",
       "      <td>-1.053</td>\n",
       "      <td>-1.053</td>\n",
       "      <td>145</td>\n",
       "      <td>15.333</td>\n",
       "    </tr>\n",
       "    <tr>\n",
       "      <td>8</td>\n",
       "      <td>NaTcO3</td>\n",
       "      <td>True</td>\n",
       "      <td>-383.295</td>\n",
       "      <td>2.804</td>\n",
       "      <td>-0.345</td>\n",
       "      <td>-0.355</td>\n",
       "      <td>115</td>\n",
       "      <td>11.938</td>\n",
       "    </tr>\n",
       "    <tr>\n",
       "      <td>9</td>\n",
       "      <td>BaHfO3</td>\n",
       "      <td>True</td>\n",
       "      <td>-473.682</td>\n",
       "      <td>4.192</td>\n",
       "      <td>0.629</td>\n",
       "      <td>0.629</td>\n",
       "      <td>53</td>\n",
       "      <td>4.211</td>\n",
       "    </tr>\n",
       "    <tr>\n",
       "      <td>10</td>\n",
       "      <td>SrTiO3</td>\n",
       "      <td>True</td>\n",
       "      <td>-432.985</td>\n",
       "      <td>4.287</td>\n",
       "      <td>-0.736</td>\n",
       "      <td>-0.736</td>\n",
       "      <td>70</td>\n",
       "      <td>5.406</td>\n",
       "    </tr>\n",
       "    <tr>\n",
       "      <td>11</td>\n",
       "      <td>SrCuO3</td>\n",
       "      <td>True</td>\n",
       "      <td>-277.135</td>\n",
       "      <td>4.662</td>\n",
       "      <td>14.04</td>\n",
       "      <td>0.082</td>\n",
       "      <td>74</td>\n",
       "      <td>13.15</td>\n",
       "    </tr>\n",
       "    <tr>\n",
       "      <td>12</td>\n",
       "      <td>KNbO3</td>\n",
       "      <td>True</td>\n",
       "      <td>-423.225</td>\n",
       "      <td>2.953</td>\n",
       "      <td>1.036</td>\n",
       "      <td>1.226</td>\n",
       "      <td>175</td>\n",
       "      <td>12.238</td>\n",
       "    </tr>\n",
       "    <tr>\n",
       "      <td>13</td>\n",
       "      <td>NaTaO3</td>\n",
       "      <td>True</td>\n",
       "      <td>-456.051</td>\n",
       "      <td>2.078</td>\n",
       "      <td>0.997</td>\n",
       "      <td>0.995</td>\n",
       "      <td>109</td>\n",
       "      <td>6.203</td>\n",
       "    </tr>\n",
       "    <tr>\n",
       "      <td>14</td>\n",
       "      <td>BaScO3</td>\n",
       "      <td>True</td>\n",
       "      <td>-398.543</td>\n",
       "      <td>4.632</td>\n",
       "      <td>13</td>\n",
       "      <td>1</td>\n",
       "      <td>154</td>\n",
       "      <td>12.059</td>\n",
       "    </tr>\n",
       "    <tr>\n",
       "      <td>15</td>\n",
       "      <td>BaPdO3</td>\n",
       "      <td>True</td>\n",
       "      <td>-294.973</td>\n",
       "      <td>4.32</td>\n",
       "      <td>16.342</td>\n",
       "      <td>-0.037</td>\n",
       "      <td>124</td>\n",
       "      <td>9.694</td>\n",
       "    </tr>\n",
       "    <tr>\n",
       "      <td>16</td>\n",
       "      <td>BaTaO3</td>\n",
       "      <td>NaN</td>\n",
       "      <td>NaN</td>\n",
       "      <td>NaN</td>\n",
       "      <td>NaN</td>\n",
       "      <td>NaN</td>\n",
       "      <td>NaN</td>\n",
       "      <td>NaN</td>\n",
       "    </tr>\n",
       "    <tr>\n",
       "      <td>17</td>\n",
       "      <td>SrHfO3</td>\n",
       "      <td>True</td>\n",
       "      <td>-472.572</td>\n",
       "      <td>4.115</td>\n",
       "      <td>-0.629</td>\n",
       "      <td>-0.629</td>\n",
       "      <td>54</td>\n",
       "      <td>4.391</td>\n",
       "    </tr>\n",
       "    <tr>\n",
       "      <td>18</td>\n",
       "      <td>NaOsO3</td>\n",
       "      <td>NaN</td>\n",
       "      <td>NaN</td>\n",
       "      <td>NaN</td>\n",
       "      <td>NaN</td>\n",
       "      <td>NaN</td>\n",
       "      <td>NaN</td>\n",
       "      <td>NaN</td>\n",
       "    </tr>\n",
       "    <tr>\n",
       "      <td>19</td>\n",
       "      <td>TlTcO3</td>\n",
       "      <td>True</td>\n",
       "      <td>-369.113</td>\n",
       "      <td>2.755</td>\n",
       "      <td>-1.063</td>\n",
       "      <td>-2.964</td>\n",
       "      <td>76</td>\n",
       "      <td>18.649</td>\n",
       "    </tr>\n",
       "    <tr>\n",
       "      <td>20</td>\n",
       "      <td>KReO3</td>\n",
       "      <td>True</td>\n",
       "      <td>-403.837</td>\n",
       "      <td>2.194</td>\n",
       "      <td>0.594</td>\n",
       "      <td>-0.477</td>\n",
       "      <td>83</td>\n",
       "      <td>12.691</td>\n",
       "    </tr>\n",
       "  </tbody>\n",
       "</table>\n",
       "</div>"
      ],
      "text/plain": [
       "   formula convg_OOH tot_E_OOH DE_OOH OOH_mag OOH_dmag nsteps_OOH time_OOH\n",
       "1   SrTcO3      True  -402.976  2.136  10.741   -2.902        112    8.484\n",
       "2   BaFeO3      True  -330.499  4.572  60.985    0.993         84    6.655\n",
       "3   BaMoO3      True  -374.928  2.674      23       -1         59   21.487\n",
       "4    KTaO3      True  -454.428   2.23   0.989    0.989        122    8.188\n",
       "5   BaZrO3      True   -452.75  4.361  -0.002   -0.002         57    9.562\n",
       "6   SrFeO3      True  -333.151  4.595  54.683    0.884         96   11.628\n",
       "7    KTcO3      True  -380.584  2.886  -1.053   -1.053        145   15.333\n",
       "8   NaTcO3      True  -383.295  2.804  -0.345   -0.355        115   11.938\n",
       "9   BaHfO3      True  -473.682  4.192   0.629    0.629         53    4.211\n",
       "10  SrTiO3      True  -432.985  4.287  -0.736   -0.736         70    5.406\n",
       "11  SrCuO3      True  -277.135  4.662   14.04    0.082         74    13.15\n",
       "12   KNbO3      True  -423.225  2.953   1.036    1.226        175   12.238\n",
       "13  NaTaO3      True  -456.051  2.078   0.997    0.995        109    6.203\n",
       "14  BaScO3      True  -398.543  4.632      13        1        154   12.059\n",
       "15  BaPdO3      True  -294.973   4.32  16.342   -0.037        124    9.694\n",
       "16  BaTaO3       NaN       NaN    NaN     NaN      NaN        NaN      NaN\n",
       "17  SrHfO3      True  -472.572  4.115  -0.629   -0.629         54    4.391\n",
       "18  NaOsO3       NaN       NaN    NaN     NaN      NaN        NaN      NaN\n",
       "19  TlTcO3      True  -369.113  2.755  -1.063   -2.964         76   18.649\n",
       "20   KReO3      True  -403.837  2.194   0.594   -0.477         83   12.691"
      ]
     },
     "execution_count": 110,
     "metadata": {},
     "output_type": "execute_result"
    }
   ],
   "source": [
    "df_OOH"
   ]
  },
  {
   "cell_type": "code",
   "execution_count": 111,
   "metadata": {
    "scrolled": true
   },
   "outputs": [
    {
     "data": {
      "text/html": [
       "<div>\n",
       "<style scoped>\n",
       "    .dataframe tbody tr th:only-of-type {\n",
       "        vertical-align: middle;\n",
       "    }\n",
       "\n",
       "    .dataframe tbody tr th {\n",
       "        vertical-align: top;\n",
       "    }\n",
       "\n",
       "    .dataframe thead th {\n",
       "        text-align: right;\n",
       "    }\n",
       "</style>\n",
       "<table border=\"1\" class=\"dataframe\">\n",
       "  <thead>\n",
       "    <tr style=\"text-align: right;\">\n",
       "      <th></th>\n",
       "      <th>formula</th>\n",
       "      <th>convg_O</th>\n",
       "      <th>tot_E_O</th>\n",
       "      <th>DE_O</th>\n",
       "      <th>O_mag</th>\n",
       "      <th>O_dmag</th>\n",
       "      <th>nsteps_O</th>\n",
       "      <th>time_O</th>\n",
       "    </tr>\n",
       "  </thead>\n",
       "  <tbody>\n",
       "    <tr>\n",
       "      <td>1</td>\n",
       "      <td>SrTcO3</td>\n",
       "      <td>True</td>\n",
       "      <td>-395.005</td>\n",
       "      <td>-0.727</td>\n",
       "      <td>6.83</td>\n",
       "      <td>-6.812</td>\n",
       "      <td>33</td>\n",
       "      <td>3.963</td>\n",
       "    </tr>\n",
       "    <tr>\n",
       "      <td>2</td>\n",
       "      <td>BaFeO3</td>\n",
       "      <td>True</td>\n",
       "      <td>-319.805</td>\n",
       "      <td>4.432</td>\n",
       "      <td>56.636</td>\n",
       "      <td>-3.356</td>\n",
       "      <td>22</td>\n",
       "      <td>7.076</td>\n",
       "    </tr>\n",
       "    <tr>\n",
       "      <td>3</td>\n",
       "      <td>BaMoO3</td>\n",
       "      <td>True</td>\n",
       "      <td>-367.641</td>\n",
       "      <td>-0.873</td>\n",
       "      <td>22</td>\n",
       "      <td>-2</td>\n",
       "      <td>42</td>\n",
       "      <td>4.014</td>\n",
       "    </tr>\n",
       "    <tr>\n",
       "      <td>4</td>\n",
       "      <td>KTaO3</td>\n",
       "      <td>True</td>\n",
       "      <td>-446.458</td>\n",
       "      <td>-0.634</td>\n",
       "      <td>1.665</td>\n",
       "      <td>1.665</td>\n",
       "      <td>57</td>\n",
       "      <td>5.913</td>\n",
       "    </tr>\n",
       "    <tr>\n",
       "      <td>5</td>\n",
       "      <td>BaZrO3</td>\n",
       "      <td>True</td>\n",
       "      <td>-442.153</td>\n",
       "      <td>4.123</td>\n",
       "      <td>-1.331</td>\n",
       "      <td>-1.331</td>\n",
       "      <td>21</td>\n",
       "      <td>5.219</td>\n",
       "    </tr>\n",
       "    <tr>\n",
       "      <td>6</td>\n",
       "      <td>SrFeO3</td>\n",
       "      <td>True</td>\n",
       "      <td>-322.327</td>\n",
       "      <td>4.586</td>\n",
       "      <td>47.49</td>\n",
       "      <td>-6.308</td>\n",
       "      <td>20</td>\n",
       "      <td>6.255</td>\n",
       "    </tr>\n",
       "    <tr>\n",
       "      <td>7</td>\n",
       "      <td>KTcO3</td>\n",
       "      <td>True</td>\n",
       "      <td>-372.209</td>\n",
       "      <td>0.426</td>\n",
       "      <td>0.934</td>\n",
       "      <td>0.934</td>\n",
       "      <td>32</td>\n",
       "      <td>5.654</td>\n",
       "    </tr>\n",
       "    <tr>\n",
       "      <td>8</td>\n",
       "      <td>NaTcO3</td>\n",
       "      <td>True</td>\n",
       "      <td>-374.983</td>\n",
       "      <td>0.281</td>\n",
       "      <td>1.126</td>\n",
       "      <td>1.116</td>\n",
       "      <td>34</td>\n",
       "      <td>4.36</td>\n",
       "    </tr>\n",
       "    <tr>\n",
       "      <td>9</td>\n",
       "      <td>BaHfO3</td>\n",
       "      <td>True</td>\n",
       "      <td>-463.036</td>\n",
       "      <td>4.003</td>\n",
       "      <td>1.393</td>\n",
       "      <td>1.393</td>\n",
       "      <td>20</td>\n",
       "      <td>2.395</td>\n",
       "    </tr>\n",
       "    <tr>\n",
       "      <td>10</td>\n",
       "      <td>SrTiO3</td>\n",
       "      <td>True</td>\n",
       "      <td>-422.569</td>\n",
       "      <td>3.869</td>\n",
       "      <td>1.079</td>\n",
       "      <td>1.079</td>\n",
       "      <td>40</td>\n",
       "      <td>5.503</td>\n",
       "    </tr>\n",
       "    <tr>\n",
       "      <td>11</td>\n",
       "      <td>SrCuO3</td>\n",
       "      <td>True</td>\n",
       "      <td>-266.753</td>\n",
       "      <td>4.21</td>\n",
       "      <td>14.539</td>\n",
       "      <td>0.581</td>\n",
       "      <td>27</td>\n",
       "      <td>4.104</td>\n",
       "    </tr>\n",
       "    <tr>\n",
       "      <td>12</td>\n",
       "      <td>KNbO3</td>\n",
       "      <td>True</td>\n",
       "      <td>-414.899</td>\n",
       "      <td>0.445</td>\n",
       "      <td>1.765</td>\n",
       "      <td>1.954</td>\n",
       "      <td>148</td>\n",
       "      <td>20.854</td>\n",
       "    </tr>\n",
       "    <tr>\n",
       "      <td>13</td>\n",
       "      <td>NaTaO3</td>\n",
       "      <td>True</td>\n",
       "      <td>-448.214</td>\n",
       "      <td>-0.919</td>\n",
       "      <td>-0.001</td>\n",
       "      <td>-0.002</td>\n",
       "      <td>76</td>\n",
       "      <td>6.89</td>\n",
       "    </tr>\n",
       "    <tr>\n",
       "      <td>14</td>\n",
       "      <td>BaScO3</td>\n",
       "      <td>True</td>\n",
       "      <td>-387.661</td>\n",
       "      <td>4.68</td>\n",
       "      <td>14</td>\n",
       "      <td>2</td>\n",
       "      <td>11</td>\n",
       "      <td>1.514</td>\n",
       "    </tr>\n",
       "    <tr>\n",
       "      <td>15</td>\n",
       "      <td>BaPdO3</td>\n",
       "      <td>True</td>\n",
       "      <td>-285.025</td>\n",
       "      <td>3.435</td>\n",
       "      <td>17.483</td>\n",
       "      <td>1.103</td>\n",
       "      <td>34</td>\n",
       "      <td>4.146</td>\n",
       "    </tr>\n",
       "    <tr>\n",
       "      <td>16</td>\n",
       "      <td>BaTaO3</td>\n",
       "      <td>True</td>\n",
       "      <td>-459.96</td>\n",
       "      <td>-2.591</td>\n",
       "      <td>2.091</td>\n",
       "      <td>-0.87</td>\n",
       "      <td>43</td>\n",
       "      <td>3.039</td>\n",
       "    </tr>\n",
       "    <tr>\n",
       "      <td>17</td>\n",
       "      <td>SrHfO3</td>\n",
       "      <td>True</td>\n",
       "      <td>-461.921</td>\n",
       "      <td>3.932</td>\n",
       "      <td>1.478</td>\n",
       "      <td>1.478</td>\n",
       "      <td>20</td>\n",
       "      <td>3.274</td>\n",
       "    </tr>\n",
       "    <tr>\n",
       "      <td>18</td>\n",
       "      <td>NaOsO3</td>\n",
       "      <td>True</td>\n",
       "      <td>-358.455</td>\n",
       "      <td>0.557</td>\n",
       "      <td>5.937</td>\n",
       "      <td>-1.577</td>\n",
       "      <td>30</td>\n",
       "      <td>46.635</td>\n",
       "    </tr>\n",
       "    <tr>\n",
       "      <td>19</td>\n",
       "      <td>TlTcO3</td>\n",
       "      <td>True</td>\n",
       "      <td>-360.741</td>\n",
       "      <td>0.293</td>\n",
       "      <td>0.757</td>\n",
       "      <td>-1.143</td>\n",
       "      <td>44</td>\n",
       "      <td>9.307</td>\n",
       "    </tr>\n",
       "    <tr>\n",
       "      <td>20</td>\n",
       "      <td>KReO3</td>\n",
       "      <td>True</td>\n",
       "      <td>-395.761</td>\n",
       "      <td>-0.564</td>\n",
       "      <td>1.25</td>\n",
       "      <td>0.18</td>\n",
       "      <td>45</td>\n",
       "      <td>20.188</td>\n",
       "    </tr>\n",
       "  </tbody>\n",
       "</table>\n",
       "</div>"
      ],
      "text/plain": [
       "   formula convg_O  tot_E_O   DE_O   O_mag O_dmag nsteps_O  time_O\n",
       "1   SrTcO3    True -395.005 -0.727    6.83 -6.812       33   3.963\n",
       "2   BaFeO3    True -319.805  4.432  56.636 -3.356       22   7.076\n",
       "3   BaMoO3    True -367.641 -0.873      22     -2       42   4.014\n",
       "4    KTaO3    True -446.458 -0.634   1.665  1.665       57   5.913\n",
       "5   BaZrO3    True -442.153  4.123  -1.331 -1.331       21   5.219\n",
       "6   SrFeO3    True -322.327  4.586   47.49 -6.308       20   6.255\n",
       "7    KTcO3    True -372.209  0.426   0.934  0.934       32   5.654\n",
       "8   NaTcO3    True -374.983  0.281   1.126  1.116       34    4.36\n",
       "9   BaHfO3    True -463.036  4.003   1.393  1.393       20   2.395\n",
       "10  SrTiO3    True -422.569  3.869   1.079  1.079       40   5.503\n",
       "11  SrCuO3    True -266.753   4.21  14.539  0.581       27   4.104\n",
       "12   KNbO3    True -414.899  0.445   1.765  1.954      148  20.854\n",
       "13  NaTaO3    True -448.214 -0.919  -0.001 -0.002       76    6.89\n",
       "14  BaScO3    True -387.661   4.68      14      2       11   1.514\n",
       "15  BaPdO3    True -285.025  3.435  17.483  1.103       34   4.146\n",
       "16  BaTaO3    True  -459.96 -2.591   2.091  -0.87       43   3.039\n",
       "17  SrHfO3    True -461.921  3.932   1.478  1.478       20   3.274\n",
       "18  NaOsO3    True -358.455  0.557   5.937 -1.577       30  46.635\n",
       "19  TlTcO3    True -360.741  0.293   0.757 -1.143       44   9.307\n",
       "20   KReO3    True -395.761 -0.564    1.25   0.18       45  20.188"
      ]
     },
     "execution_count": 111,
     "metadata": {},
     "output_type": "execute_result"
    }
   ],
   "source": [
    "df_O"
   ]
  },
  {
   "cell_type": "code",
   "execution_count": 112,
   "metadata": {},
   "outputs": [
    {
     "data": {
      "text/html": [
       "<div>\n",
       "<style scoped>\n",
       "    .dataframe tbody tr th:only-of-type {\n",
       "        vertical-align: middle;\n",
       "    }\n",
       "\n",
       "    .dataframe tbody tr th {\n",
       "        vertical-align: top;\n",
       "    }\n",
       "\n",
       "    .dataframe thead th {\n",
       "        text-align: right;\n",
       "    }\n",
       "</style>\n",
       "<table border=\"1\" class=\"dataframe\">\n",
       "  <thead>\n",
       "    <tr style=\"text-align: right;\">\n",
       "      <th></th>\n",
       "      <th>formula</th>\n",
       "      <th>convg_OH</th>\n",
       "      <th>tot_E_OH</th>\n",
       "      <th>DE_OH</th>\n",
       "      <th>OH_mag</th>\n",
       "      <th>OH_dmag</th>\n",
       "      <th>nsteps_OH</th>\n",
       "      <th>time_OH</th>\n",
       "    </tr>\n",
       "  </thead>\n",
       "  <tbody>\n",
       "    <tr>\n",
       "      <td>1</td>\n",
       "      <td>SrTcO3</td>\n",
       "      <td>True</td>\n",
       "      <td>-398.741</td>\n",
       "      <td>-1.077</td>\n",
       "      <td>10.772</td>\n",
       "      <td>-2.871</td>\n",
       "      <td>104</td>\n",
       "      <td>6.984</td>\n",
       "    </tr>\n",
       "    <tr>\n",
       "      <td>2</td>\n",
       "      <td>BaFeO3</td>\n",
       "      <td>True</td>\n",
       "      <td>-325.893</td>\n",
       "      <td>1.729</td>\n",
       "      <td>58.79</td>\n",
       "      <td>-1.202</td>\n",
       "      <td>135</td>\n",
       "      <td>23.709</td>\n",
       "    </tr>\n",
       "    <tr>\n",
       "      <td>3</td>\n",
       "      <td>BaMoO3</td>\n",
       "      <td>True</td>\n",
       "      <td>-370.751</td>\n",
       "      <td>-0.597</td>\n",
       "      <td>23</td>\n",
       "      <td>-1</td>\n",
       "      <td>74</td>\n",
       "      <td>11.724</td>\n",
       "    </tr>\n",
       "    <tr>\n",
       "      <td>4</td>\n",
       "      <td>KTaO3</td>\n",
       "      <td>True</td>\n",
       "      <td>-450.506</td>\n",
       "      <td>-1.296</td>\n",
       "      <td>0.991</td>\n",
       "      <td>0.991</td>\n",
       "      <td>67</td>\n",
       "      <td>5.088</td>\n",
       "    </tr>\n",
       "    <tr>\n",
       "      <td>5</td>\n",
       "      <td>BaZrO3</td>\n",
       "      <td>True</td>\n",
       "      <td>-448.668</td>\n",
       "      <td>0.995</td>\n",
       "      <td>0.216</td>\n",
       "      <td>0.216</td>\n",
       "      <td>112</td>\n",
       "      <td>14.91</td>\n",
       "    </tr>\n",
       "    <tr>\n",
       "      <td>6</td>\n",
       "      <td>SrFeO3</td>\n",
       "      <td>True</td>\n",
       "      <td>-328.567</td>\n",
       "      <td>1.731</td>\n",
       "      <td>53.888</td>\n",
       "      <td>0.09</td>\n",
       "      <td>60</td>\n",
       "      <td>9.614</td>\n",
       "    </tr>\n",
       "    <tr>\n",
       "      <td>7</td>\n",
       "      <td>KTcO3</td>\n",
       "      <td>True</td>\n",
       "      <td>-376.277</td>\n",
       "      <td>-0.255</td>\n",
       "      <td>-0.566</td>\n",
       "      <td>-0.566</td>\n",
       "      <td>102</td>\n",
       "      <td>11.206</td>\n",
       "    </tr>\n",
       "    <tr>\n",
       "      <td>8</td>\n",
       "      <td>NaTcO3</td>\n",
       "      <td>True</td>\n",
       "      <td>-379.013</td>\n",
       "      <td>-0.362</td>\n",
       "      <td>0.48</td>\n",
       "      <td>0.47</td>\n",
       "      <td>92</td>\n",
       "      <td>8.044</td>\n",
       "    </tr>\n",
       "    <tr>\n",
       "      <td>9</td>\n",
       "      <td>BaHfO3</td>\n",
       "      <td>True</td>\n",
       "      <td>-469.529</td>\n",
       "      <td>0.896</td>\n",
       "      <td>0.002</td>\n",
       "      <td>0.002</td>\n",
       "      <td>100</td>\n",
       "      <td>6.591</td>\n",
       "    </tr>\n",
       "    <tr>\n",
       "      <td>10</td>\n",
       "      <td>SrTiO3</td>\n",
       "      <td>True</td>\n",
       "      <td>-428.842</td>\n",
       "      <td>0.981</td>\n",
       "      <td>0.001</td>\n",
       "      <td>0.001</td>\n",
       "      <td>58</td>\n",
       "      <td>4.226</td>\n",
       "    </tr>\n",
       "    <tr>\n",
       "      <td>11</td>\n",
       "      <td>SrCuO3</td>\n",
       "      <td>True</td>\n",
       "      <td>-272.637</td>\n",
       "      <td>1.712</td>\n",
       "      <td>13.012</td>\n",
       "      <td>-0.946</td>\n",
       "      <td>91</td>\n",
       "      <td>10.558</td>\n",
       "    </tr>\n",
       "    <tr>\n",
       "      <td>12</td>\n",
       "      <td>KNbO3</td>\n",
       "      <td>True</td>\n",
       "      <td>-419.242</td>\n",
       "      <td>-0.512</td>\n",
       "      <td>1.066</td>\n",
       "      <td>1.256</td>\n",
       "      <td>110</td>\n",
       "      <td>9.889</td>\n",
       "    </tr>\n",
       "    <tr>\n",
       "      <td>13</td>\n",
       "      <td>NaTaO3</td>\n",
       "      <td>True</td>\n",
       "      <td>-452.104</td>\n",
       "      <td>-1.424</td>\n",
       "      <td>0.997</td>\n",
       "      <td>0.995</td>\n",
       "      <td>48</td>\n",
       "      <td>3.434</td>\n",
       "    </tr>\n",
       "    <tr>\n",
       "      <td>14</td>\n",
       "      <td>BaScO3</td>\n",
       "      <td>False</td>\n",
       "      <td>-393.83</td>\n",
       "      <td>1.896</td>\n",
       "      <td>13</td>\n",
       "      <td>1</td>\n",
       "      <td>200</td>\n",
       "      <td>16.219</td>\n",
       "    </tr>\n",
       "    <tr>\n",
       "      <td>15</td>\n",
       "      <td>BaPdO3</td>\n",
       "      <td>True</td>\n",
       "      <td>-290.44</td>\n",
       "      <td>1.405</td>\n",
       "      <td>16.407</td>\n",
       "      <td>0.027</td>\n",
       "      <td>53</td>\n",
       "      <td>5.468</td>\n",
       "    </tr>\n",
       "    <tr>\n",
       "      <td>16</td>\n",
       "      <td>BaTaO3</td>\n",
       "      <td>True</td>\n",
       "      <td>-462.935</td>\n",
       "      <td>-2.181</td>\n",
       "      <td>2.744</td>\n",
       "      <td>-0.217</td>\n",
       "      <td>58</td>\n",
       "      <td>3.347</td>\n",
       "    </tr>\n",
       "    <tr>\n",
       "      <td>17</td>\n",
       "      <td>SrHfO3</td>\n",
       "      <td>True</td>\n",
       "      <td>-468.453</td>\n",
       "      <td>0.786</td>\n",
       "      <td>-0.063</td>\n",
       "      <td>-0.063</td>\n",
       "      <td>125</td>\n",
       "      <td>6.872</td>\n",
       "    </tr>\n",
       "    <tr>\n",
       "      <td>18</td>\n",
       "      <td>NaOsO3</td>\n",
       "      <td>NaN</td>\n",
       "      <td>NaN</td>\n",
       "      <td>NaN</td>\n",
       "      <td>NaN</td>\n",
       "      <td>NaN</td>\n",
       "      <td>NaN</td>\n",
       "      <td>NaN</td>\n",
       "    </tr>\n",
       "    <tr>\n",
       "      <td>19</td>\n",
       "      <td>TlTcO3</td>\n",
       "      <td>True</td>\n",
       "      <td>-364.746</td>\n",
       "      <td>-0.326</td>\n",
       "      <td>-2.579</td>\n",
       "      <td>-4.48</td>\n",
       "      <td>56</td>\n",
       "      <td>9.794</td>\n",
       "    </tr>\n",
       "    <tr>\n",
       "      <td>20</td>\n",
       "      <td>KReO3</td>\n",
       "      <td>True</td>\n",
       "      <td>-399.611</td>\n",
       "      <td>-1.028</td>\n",
       "      <td>0.643</td>\n",
       "      <td>-0.428</td>\n",
       "      <td>49</td>\n",
       "      <td>9.195</td>\n",
       "    </tr>\n",
       "  </tbody>\n",
       "</table>\n",
       "</div>"
      ],
      "text/plain": [
       "   formula convg_OH tot_E_OH  DE_OH  OH_mag OH_dmag nsteps_OH time_OH\n",
       "1   SrTcO3     True -398.741 -1.077  10.772  -2.871       104   6.984\n",
       "2   BaFeO3     True -325.893  1.729   58.79  -1.202       135  23.709\n",
       "3   BaMoO3     True -370.751 -0.597      23      -1        74  11.724\n",
       "4    KTaO3     True -450.506 -1.296   0.991   0.991        67   5.088\n",
       "5   BaZrO3     True -448.668  0.995   0.216   0.216       112   14.91\n",
       "6   SrFeO3     True -328.567  1.731  53.888    0.09        60   9.614\n",
       "7    KTcO3     True -376.277 -0.255  -0.566  -0.566       102  11.206\n",
       "8   NaTcO3     True -379.013 -0.362    0.48    0.47        92   8.044\n",
       "9   BaHfO3     True -469.529  0.896   0.002   0.002       100   6.591\n",
       "10  SrTiO3     True -428.842  0.981   0.001   0.001        58   4.226\n",
       "11  SrCuO3     True -272.637  1.712  13.012  -0.946        91  10.558\n",
       "12   KNbO3     True -419.242 -0.512   1.066   1.256       110   9.889\n",
       "13  NaTaO3     True -452.104 -1.424   0.997   0.995        48   3.434\n",
       "14  BaScO3    False  -393.83  1.896      13       1       200  16.219\n",
       "15  BaPdO3     True  -290.44  1.405  16.407   0.027        53   5.468\n",
       "16  BaTaO3     True -462.935 -2.181   2.744  -0.217        58   3.347\n",
       "17  SrHfO3     True -468.453  0.786  -0.063  -0.063       125   6.872\n",
       "18  NaOsO3      NaN      NaN    NaN     NaN     NaN       NaN     NaN\n",
       "19  TlTcO3     True -364.746 -0.326  -2.579   -4.48        56   9.794\n",
       "20   KReO3     True -399.611 -1.028   0.643  -0.428        49   9.195"
      ]
     },
     "execution_count": 112,
     "metadata": {},
     "output_type": "execute_result"
    }
   ],
   "source": [
    "df_OH"
   ]
  },
  {
   "cell_type": "code",
   "execution_count": 113,
   "metadata": {},
   "outputs": [
    {
     "data": {
      "text/html": [
       "<div>\n",
       "<style scoped>\n",
       "    .dataframe tbody tr th:only-of-type {\n",
       "        vertical-align: middle;\n",
       "    }\n",
       "\n",
       "    .dataframe tbody tr th {\n",
       "        vertical-align: top;\n",
       "    }\n",
       "\n",
       "    .dataframe thead th {\n",
       "        text-align: right;\n",
       "    }\n",
       "</style>\n",
       "<table border=\"1\" class=\"dataframe\">\n",
       "  <thead>\n",
       "    <tr style=\"text-align: right;\">\n",
       "      <th></th>\n",
       "      <th>formula</th>\n",
       "      <th>mag_ini</th>\n",
       "      <th>convg_bare</th>\n",
       "      <th>tot_E_bare</th>\n",
       "      <th>DE_bare</th>\n",
       "      <th>bare_mag</th>\n",
       "      <th>nsteps_bare</th>\n",
       "      <th>time_bare</th>\n",
       "      <th>convg_OOH</th>\n",
       "      <th>tot_E_OOH</th>\n",
       "      <th>...</th>\n",
       "      <th>O_dmag</th>\n",
       "      <th>nsteps_O</th>\n",
       "      <th>time_O</th>\n",
       "      <th>convg_OH</th>\n",
       "      <th>tot_E_OH</th>\n",
       "      <th>DE_OH</th>\n",
       "      <th>OH_mag</th>\n",
       "      <th>OH_dmag</th>\n",
       "      <th>nsteps_OH</th>\n",
       "      <th>time_OH</th>\n",
       "    </tr>\n",
       "  </thead>\n",
       "  <tbody>\n",
       "    <tr>\n",
       "      <td>1</td>\n",
       "      <td>SrTcO3</td>\n",
       "      <td>FM</td>\n",
       "      <td>True</td>\n",
       "      <td>-386.83</td>\n",
       "      <td>0</td>\n",
       "      <td>13.642</td>\n",
       "      <td>1</td>\n",
       "      <td>0.231</td>\n",
       "      <td>True</td>\n",
       "      <td>-402.976</td>\n",
       "      <td>...</td>\n",
       "      <td>-6.812</td>\n",
       "      <td>33</td>\n",
       "      <td>3.963</td>\n",
       "      <td>True</td>\n",
       "      <td>-398.741</td>\n",
       "      <td>-1.077</td>\n",
       "      <td>10.772</td>\n",
       "      <td>-2.871</td>\n",
       "      <td>104</td>\n",
       "      <td>6.984</td>\n",
       "    </tr>\n",
       "    <tr>\n",
       "      <td>2</td>\n",
       "      <td>BaFeO3</td>\n",
       "      <td>FM</td>\n",
       "      <td>True</td>\n",
       "      <td>-316.788</td>\n",
       "      <td>0</td>\n",
       "      <td>59.992</td>\n",
       "      <td>1</td>\n",
       "      <td>0.214</td>\n",
       "      <td>True</td>\n",
       "      <td>-330.499</td>\n",
       "      <td>...</td>\n",
       "      <td>-3.356</td>\n",
       "      <td>22</td>\n",
       "      <td>7.076</td>\n",
       "      <td>True</td>\n",
       "      <td>-325.893</td>\n",
       "      <td>1.729</td>\n",
       "      <td>58.79</td>\n",
       "      <td>-1.202</td>\n",
       "      <td>135</td>\n",
       "      <td>23.709</td>\n",
       "    </tr>\n",
       "    <tr>\n",
       "      <td>3</td>\n",
       "      <td>BaMoO3</td>\n",
       "      <td>FM</td>\n",
       "      <td>True</td>\n",
       "      <td>-359.32</td>\n",
       "      <td>0</td>\n",
       "      <td>24</td>\n",
       "      <td>1</td>\n",
       "      <td>0.213</td>\n",
       "      <td>True</td>\n",
       "      <td>-374.928</td>\n",
       "      <td>...</td>\n",
       "      <td>-2</td>\n",
       "      <td>42</td>\n",
       "      <td>4.014</td>\n",
       "      <td>True</td>\n",
       "      <td>-370.751</td>\n",
       "      <td>-0.597</td>\n",
       "      <td>23</td>\n",
       "      <td>-1</td>\n",
       "      <td>74</td>\n",
       "      <td>11.724</td>\n",
       "    </tr>\n",
       "    <tr>\n",
       "      <td>4</td>\n",
       "      <td>KTaO3</td>\n",
       "      <td>FM</td>\n",
       "      <td>True</td>\n",
       "      <td>-438.376</td>\n",
       "      <td>0</td>\n",
       "      <td>0</td>\n",
       "      <td>1</td>\n",
       "      <td>0.182</td>\n",
       "      <td>True</td>\n",
       "      <td>-454.428</td>\n",
       "      <td>...</td>\n",
       "      <td>1.665</td>\n",
       "      <td>57</td>\n",
       "      <td>5.913</td>\n",
       "      <td>True</td>\n",
       "      <td>-450.506</td>\n",
       "      <td>-1.296</td>\n",
       "      <td>0.991</td>\n",
       "      <td>0.991</td>\n",
       "      <td>67</td>\n",
       "      <td>5.088</td>\n",
       "    </tr>\n",
       "    <tr>\n",
       "      <td>5</td>\n",
       "      <td>BaZrO3</td>\n",
       "      <td>FM</td>\n",
       "      <td>True</td>\n",
       "      <td>-438.828</td>\n",
       "      <td>0</td>\n",
       "      <td>0</td>\n",
       "      <td>1</td>\n",
       "      <td>0.216</td>\n",
       "      <td>True</td>\n",
       "      <td>-452.75</td>\n",
       "      <td>...</td>\n",
       "      <td>-1.331</td>\n",
       "      <td>21</td>\n",
       "      <td>5.219</td>\n",
       "      <td>True</td>\n",
       "      <td>-448.668</td>\n",
       "      <td>0.995</td>\n",
       "      <td>0.216</td>\n",
       "      <td>0.216</td>\n",
       "      <td>112</td>\n",
       "      <td>14.91</td>\n",
       "    </tr>\n",
       "  </tbody>\n",
       "</table>\n",
       "<p>5 rows × 29 columns</p>\n",
       "</div>"
      ],
      "text/plain": [
       "  formula mag_ini convg_bare tot_E_bare DE_bare bare_mag nsteps_bare  \\\n",
       "1  SrTcO3      FM       True    -386.83       0   13.642           1   \n",
       "2  BaFeO3      FM       True   -316.788       0   59.992           1   \n",
       "3  BaMoO3      FM       True    -359.32       0       24           1   \n",
       "4   KTaO3      FM       True   -438.376       0        0           1   \n",
       "5  BaZrO3      FM       True   -438.828       0        0           1   \n",
       "\n",
       "  time_bare convg_OOH tot_E_OOH  ... O_dmag nsteps_O time_O convg_OH tot_E_OH  \\\n",
       "1     0.231      True  -402.976  ... -6.812       33  3.963     True -398.741   \n",
       "2     0.214      True  -330.499  ... -3.356       22  7.076     True -325.893   \n",
       "3     0.213      True  -374.928  ...     -2       42  4.014     True -370.751   \n",
       "4     0.182      True  -454.428  ...  1.665       57  5.913     True -450.506   \n",
       "5     0.216      True   -452.75  ... -1.331       21  5.219     True -448.668   \n",
       "\n",
       "   DE_OH  OH_mag OH_dmag nsteps_OH time_OH  \n",
       "1 -1.077  10.772  -2.871       104   6.984  \n",
       "2  1.729   58.79  -1.202       135  23.709  \n",
       "3 -0.597      23      -1        74  11.724  \n",
       "4 -1.296   0.991   0.991        67   5.088  \n",
       "5  0.995   0.216   0.216       112   14.91  \n",
       "\n",
       "[5 rows x 29 columns]"
      ]
     },
     "execution_count": 113,
     "metadata": {},
     "output_type": "execute_result"
    }
   ],
   "source": [
    "df.head()"
   ]
  },
  {
   "cell_type": "code",
   "execution_count": 114,
   "metadata": {},
   "outputs": [
    {
     "data": {
      "application/vnd.plotly.v1+json": {
       "config": {
        "plotlyServerURL": "https://plot.ly"
       },
       "data": [
        {
         "name": "bare",
         "type": "bar",
         "x": [
          "SrTcO3",
          "BaFeO3",
          "BaMoO3",
          "KTaO3",
          "BaZrO3",
          "SrFeO3",
          "KTcO3",
          "NaTcO3",
          "BaHfO3",
          "SrTiO3",
          "SrCuO3",
          "KNbO3",
          "NaTaO3",
          "BaScO3",
          "BaPdO3",
          "BaTaO3",
          "SrHfO3",
          "NaOsO3",
          "TlTcO3",
          "KReO3"
         ],
         "y": [
          13.642,
          59.992,
          24,
          0,
          0,
          53.798,
          0,
          0.01,
          0,
          0,
          13.957,
          -0.19,
          0.001,
          12,
          16.38,
          2.961,
          0,
          7.513,
          1.901,
          1.071
         ]
        },
        {
         "name": "OOH",
         "type": "bar",
         "x": [
          "SrTcO3",
          "BaFeO3",
          "BaMoO3",
          "KTaO3",
          "BaZrO3",
          "SrFeO3",
          "KTcO3",
          "NaTcO3",
          "BaHfO3",
          "SrTiO3",
          "SrCuO3",
          "KNbO3",
          "NaTaO3",
          "BaScO3",
          "BaPdO3",
          "BaTaO3",
          "SrHfO3",
          "NaOsO3",
          "TlTcO3",
          "KReO3"
         ],
         "y": [
          10.741,
          60.985,
          23,
          0.989,
          -0.002,
          54.683,
          -1.053,
          -0.345,
          0.629,
          -0.736,
          14.04,
          1.036,
          0.997,
          13,
          16.342,
          "NaN",
          -0.629,
          "NaN",
          -1.063,
          0.594
         ]
        },
        {
         "name": "O",
         "type": "bar",
         "x": [
          "SrTcO3",
          "BaFeO3",
          "BaMoO3",
          "KTaO3",
          "BaZrO3",
          "SrFeO3",
          "KTcO3",
          "NaTcO3",
          "BaHfO3",
          "SrTiO3",
          "SrCuO3",
          "KNbO3",
          "NaTaO3",
          "BaScO3",
          "BaPdO3",
          "BaTaO3",
          "SrHfO3",
          "NaOsO3",
          "TlTcO3",
          "KReO3"
         ],
         "y": [
          6.83,
          56.636,
          22,
          1.665,
          -1.331,
          47.49,
          0.934,
          1.126,
          1.393,
          1.079,
          14.539,
          1.765,
          -0.001,
          14,
          17.483,
          2.091,
          1.478,
          5.937,
          0.757,
          1.25
         ]
        },
        {
         "name": "OH",
         "type": "bar",
         "x": [
          "SrTcO3",
          "BaFeO3",
          "BaMoO3",
          "KTaO3",
          "BaZrO3",
          "SrFeO3",
          "KTcO3",
          "NaTcO3",
          "BaHfO3",
          "SrTiO3",
          "SrCuO3",
          "KNbO3",
          "NaTaO3",
          "BaScO3",
          "BaPdO3",
          "BaTaO3",
          "SrHfO3",
          "NaOsO3",
          "TlTcO3",
          "KReO3"
         ],
         "y": [
          10.772,
          58.79,
          23,
          0.991,
          0.216,
          53.888,
          -0.566,
          0.48,
          0.002,
          0.001,
          13.012,
          1.066,
          0.997,
          13,
          16.407,
          2.744,
          -0.063,
          "NaN",
          -2.579,
          0.643
         ]
        }
       ],
       "layout": {
        "template": {
         "data": {
          "bar": [
           {
            "error_x": {
             "color": "#2a3f5f"
            },
            "error_y": {
             "color": "#2a3f5f"
            },
            "marker": {
             "line": {
              "color": "#E5ECF6",
              "width": 0.5
             }
            },
            "type": "bar"
           }
          ],
          "barpolar": [
           {
            "marker": {
             "line": {
              "color": "#E5ECF6",
              "width": 0.5
             }
            },
            "type": "barpolar"
           }
          ],
          "carpet": [
           {
            "aaxis": {
             "endlinecolor": "#2a3f5f",
             "gridcolor": "white",
             "linecolor": "white",
             "minorgridcolor": "white",
             "startlinecolor": "#2a3f5f"
            },
            "baxis": {
             "endlinecolor": "#2a3f5f",
             "gridcolor": "white",
             "linecolor": "white",
             "minorgridcolor": "white",
             "startlinecolor": "#2a3f5f"
            },
            "type": "carpet"
           }
          ],
          "choropleth": [
           {
            "colorbar": {
             "outlinewidth": 0,
             "ticks": ""
            },
            "type": "choropleth"
           }
          ],
          "contour": [
           {
            "colorbar": {
             "outlinewidth": 0,
             "ticks": ""
            },
            "colorscale": [
             [
              0,
              "#0d0887"
             ],
             [
              0.1111111111111111,
              "#46039f"
             ],
             [
              0.2222222222222222,
              "#7201a8"
             ],
             [
              0.3333333333333333,
              "#9c179e"
             ],
             [
              0.4444444444444444,
              "#bd3786"
             ],
             [
              0.5555555555555556,
              "#d8576b"
             ],
             [
              0.6666666666666666,
              "#ed7953"
             ],
             [
              0.7777777777777778,
              "#fb9f3a"
             ],
             [
              0.8888888888888888,
              "#fdca26"
             ],
             [
              1,
              "#f0f921"
             ]
            ],
            "type": "contour"
           }
          ],
          "contourcarpet": [
           {
            "colorbar": {
             "outlinewidth": 0,
             "ticks": ""
            },
            "type": "contourcarpet"
           }
          ],
          "heatmap": [
           {
            "colorbar": {
             "outlinewidth": 0,
             "ticks": ""
            },
            "colorscale": [
             [
              0,
              "#0d0887"
             ],
             [
              0.1111111111111111,
              "#46039f"
             ],
             [
              0.2222222222222222,
              "#7201a8"
             ],
             [
              0.3333333333333333,
              "#9c179e"
             ],
             [
              0.4444444444444444,
              "#bd3786"
             ],
             [
              0.5555555555555556,
              "#d8576b"
             ],
             [
              0.6666666666666666,
              "#ed7953"
             ],
             [
              0.7777777777777778,
              "#fb9f3a"
             ],
             [
              0.8888888888888888,
              "#fdca26"
             ],
             [
              1,
              "#f0f921"
             ]
            ],
            "type": "heatmap"
           }
          ],
          "heatmapgl": [
           {
            "colorbar": {
             "outlinewidth": 0,
             "ticks": ""
            },
            "colorscale": [
             [
              0,
              "#0d0887"
             ],
             [
              0.1111111111111111,
              "#46039f"
             ],
             [
              0.2222222222222222,
              "#7201a8"
             ],
             [
              0.3333333333333333,
              "#9c179e"
             ],
             [
              0.4444444444444444,
              "#bd3786"
             ],
             [
              0.5555555555555556,
              "#d8576b"
             ],
             [
              0.6666666666666666,
              "#ed7953"
             ],
             [
              0.7777777777777778,
              "#fb9f3a"
             ],
             [
              0.8888888888888888,
              "#fdca26"
             ],
             [
              1,
              "#f0f921"
             ]
            ],
            "type": "heatmapgl"
           }
          ],
          "histogram": [
           {
            "marker": {
             "colorbar": {
              "outlinewidth": 0,
              "ticks": ""
             }
            },
            "type": "histogram"
           }
          ],
          "histogram2d": [
           {
            "colorbar": {
             "outlinewidth": 0,
             "ticks": ""
            },
            "colorscale": [
             [
              0,
              "#0d0887"
             ],
             [
              0.1111111111111111,
              "#46039f"
             ],
             [
              0.2222222222222222,
              "#7201a8"
             ],
             [
              0.3333333333333333,
              "#9c179e"
             ],
             [
              0.4444444444444444,
              "#bd3786"
             ],
             [
              0.5555555555555556,
              "#d8576b"
             ],
             [
              0.6666666666666666,
              "#ed7953"
             ],
             [
              0.7777777777777778,
              "#fb9f3a"
             ],
             [
              0.8888888888888888,
              "#fdca26"
             ],
             [
              1,
              "#f0f921"
             ]
            ],
            "type": "histogram2d"
           }
          ],
          "histogram2dcontour": [
           {
            "colorbar": {
             "outlinewidth": 0,
             "ticks": ""
            },
            "colorscale": [
             [
              0,
              "#0d0887"
             ],
             [
              0.1111111111111111,
              "#46039f"
             ],
             [
              0.2222222222222222,
              "#7201a8"
             ],
             [
              0.3333333333333333,
              "#9c179e"
             ],
             [
              0.4444444444444444,
              "#bd3786"
             ],
             [
              0.5555555555555556,
              "#d8576b"
             ],
             [
              0.6666666666666666,
              "#ed7953"
             ],
             [
              0.7777777777777778,
              "#fb9f3a"
             ],
             [
              0.8888888888888888,
              "#fdca26"
             ],
             [
              1,
              "#f0f921"
             ]
            ],
            "type": "histogram2dcontour"
           }
          ],
          "mesh3d": [
           {
            "colorbar": {
             "outlinewidth": 0,
             "ticks": ""
            },
            "type": "mesh3d"
           }
          ],
          "parcoords": [
           {
            "line": {
             "colorbar": {
              "outlinewidth": 0,
              "ticks": ""
             }
            },
            "type": "parcoords"
           }
          ],
          "pie": [
           {
            "automargin": true,
            "type": "pie"
           }
          ],
          "scatter": [
           {
            "marker": {
             "colorbar": {
              "outlinewidth": 0,
              "ticks": ""
             }
            },
            "type": "scatter"
           }
          ],
          "scatter3d": [
           {
            "line": {
             "colorbar": {
              "outlinewidth": 0,
              "ticks": ""
             }
            },
            "marker": {
             "colorbar": {
              "outlinewidth": 0,
              "ticks": ""
             }
            },
            "type": "scatter3d"
           }
          ],
          "scattercarpet": [
           {
            "marker": {
             "colorbar": {
              "outlinewidth": 0,
              "ticks": ""
             }
            },
            "type": "scattercarpet"
           }
          ],
          "scattergeo": [
           {
            "marker": {
             "colorbar": {
              "outlinewidth": 0,
              "ticks": ""
             }
            },
            "type": "scattergeo"
           }
          ],
          "scattergl": [
           {
            "marker": {
             "colorbar": {
              "outlinewidth": 0,
              "ticks": ""
             }
            },
            "type": "scattergl"
           }
          ],
          "scattermapbox": [
           {
            "marker": {
             "colorbar": {
              "outlinewidth": 0,
              "ticks": ""
             }
            },
            "type": "scattermapbox"
           }
          ],
          "scatterpolar": [
           {
            "marker": {
             "colorbar": {
              "outlinewidth": 0,
              "ticks": ""
             }
            },
            "type": "scatterpolar"
           }
          ],
          "scatterpolargl": [
           {
            "marker": {
             "colorbar": {
              "outlinewidth": 0,
              "ticks": ""
             }
            },
            "type": "scatterpolargl"
           }
          ],
          "scatterternary": [
           {
            "marker": {
             "colorbar": {
              "outlinewidth": 0,
              "ticks": ""
             }
            },
            "type": "scatterternary"
           }
          ],
          "surface": [
           {
            "colorbar": {
             "outlinewidth": 0,
             "ticks": ""
            },
            "colorscale": [
             [
              0,
              "#0d0887"
             ],
             [
              0.1111111111111111,
              "#46039f"
             ],
             [
              0.2222222222222222,
              "#7201a8"
             ],
             [
              0.3333333333333333,
              "#9c179e"
             ],
             [
              0.4444444444444444,
              "#bd3786"
             ],
             [
              0.5555555555555556,
              "#d8576b"
             ],
             [
              0.6666666666666666,
              "#ed7953"
             ],
             [
              0.7777777777777778,
              "#fb9f3a"
             ],
             [
              0.8888888888888888,
              "#fdca26"
             ],
             [
              1,
              "#f0f921"
             ]
            ],
            "type": "surface"
           }
          ],
          "table": [
           {
            "cells": {
             "fill": {
              "color": "#EBF0F8"
             },
             "line": {
              "color": "white"
             }
            },
            "header": {
             "fill": {
              "color": "#C8D4E3"
             },
             "line": {
              "color": "white"
             }
            },
            "type": "table"
           }
          ]
         },
         "layout": {
          "annotationdefaults": {
           "arrowcolor": "#2a3f5f",
           "arrowhead": 0,
           "arrowwidth": 1
          },
          "coloraxis": {
           "colorbar": {
            "outlinewidth": 0,
            "ticks": ""
           }
          },
          "colorscale": {
           "diverging": [
            [
             0,
             "#8e0152"
            ],
            [
             0.1,
             "#c51b7d"
            ],
            [
             0.2,
             "#de77ae"
            ],
            [
             0.3,
             "#f1b6da"
            ],
            [
             0.4,
             "#fde0ef"
            ],
            [
             0.5,
             "#f7f7f7"
            ],
            [
             0.6,
             "#e6f5d0"
            ],
            [
             0.7,
             "#b8e186"
            ],
            [
             0.8,
             "#7fbc41"
            ],
            [
             0.9,
             "#4d9221"
            ],
            [
             1,
             "#276419"
            ]
           ],
           "sequential": [
            [
             0,
             "#0d0887"
            ],
            [
             0.1111111111111111,
             "#46039f"
            ],
            [
             0.2222222222222222,
             "#7201a8"
            ],
            [
             0.3333333333333333,
             "#9c179e"
            ],
            [
             0.4444444444444444,
             "#bd3786"
            ],
            [
             0.5555555555555556,
             "#d8576b"
            ],
            [
             0.6666666666666666,
             "#ed7953"
            ],
            [
             0.7777777777777778,
             "#fb9f3a"
            ],
            [
             0.8888888888888888,
             "#fdca26"
            ],
            [
             1,
             "#f0f921"
            ]
           ],
           "sequentialminus": [
            [
             0,
             "#0d0887"
            ],
            [
             0.1111111111111111,
             "#46039f"
            ],
            [
             0.2222222222222222,
             "#7201a8"
            ],
            [
             0.3333333333333333,
             "#9c179e"
            ],
            [
             0.4444444444444444,
             "#bd3786"
            ],
            [
             0.5555555555555556,
             "#d8576b"
            ],
            [
             0.6666666666666666,
             "#ed7953"
            ],
            [
             0.7777777777777778,
             "#fb9f3a"
            ],
            [
             0.8888888888888888,
             "#fdca26"
            ],
            [
             1,
             "#f0f921"
            ]
           ]
          },
          "colorway": [
           "#636efa",
           "#EF553B",
           "#00cc96",
           "#ab63fa",
           "#FFA15A",
           "#19d3f3",
           "#FF6692",
           "#B6E880",
           "#FF97FF",
           "#FECB52"
          ],
          "font": {
           "color": "#2a3f5f"
          },
          "geo": {
           "bgcolor": "white",
           "lakecolor": "white",
           "landcolor": "#E5ECF6",
           "showlakes": true,
           "showland": true,
           "subunitcolor": "white"
          },
          "hoverlabel": {
           "align": "left"
          },
          "hovermode": "closest",
          "mapbox": {
           "style": "light"
          },
          "paper_bgcolor": "white",
          "plot_bgcolor": "#E5ECF6",
          "polar": {
           "angularaxis": {
            "gridcolor": "white",
            "linecolor": "white",
            "ticks": ""
           },
           "bgcolor": "#E5ECF6",
           "radialaxis": {
            "gridcolor": "white",
            "linecolor": "white",
            "ticks": ""
           }
          },
          "scene": {
           "xaxis": {
            "backgroundcolor": "#E5ECF6",
            "gridcolor": "white",
            "gridwidth": 2,
            "linecolor": "white",
            "showbackground": true,
            "ticks": "",
            "zerolinecolor": "white"
           },
           "yaxis": {
            "backgroundcolor": "#E5ECF6",
            "gridcolor": "white",
            "gridwidth": 2,
            "linecolor": "white",
            "showbackground": true,
            "ticks": "",
            "zerolinecolor": "white"
           },
           "zaxis": {
            "backgroundcolor": "#E5ECF6",
            "gridcolor": "white",
            "gridwidth": 2,
            "linecolor": "white",
            "showbackground": true,
            "ticks": "",
            "zerolinecolor": "white"
           }
          },
          "shapedefaults": {
           "line": {
            "color": "#2a3f5f"
           }
          },
          "ternary": {
           "aaxis": {
            "gridcolor": "white",
            "linecolor": "white",
            "ticks": ""
           },
           "baxis": {
            "gridcolor": "white",
            "linecolor": "white",
            "ticks": ""
           },
           "bgcolor": "#E5ECF6",
           "caxis": {
            "gridcolor": "white",
            "linecolor": "white",
            "ticks": ""
           }
          },
          "title": {
           "x": 0.05
          },
          "xaxis": {
           "automargin": true,
           "gridcolor": "white",
           "linecolor": "white",
           "ticks": "",
           "title": {
            "standoff": 15
           },
           "zerolinecolor": "white",
           "zerolinewidth": 2
          },
          "yaxis": {
           "automargin": true,
           "gridcolor": "white",
           "linecolor": "white",
           "ticks": "",
           "title": {
            "standoff": 15
           },
           "zerolinecolor": "white",
           "zerolinewidth": 2
          }
         }
        },
        "title": {
         "text": "Total magnetization"
        }
       }
      },
      "text/html": [
       "<div>\n",
       "        \n",
       "        \n",
       "            <div id=\"2caf75a1-dcb3-4995-8df1-8d227ae5f1e3\" class=\"plotly-graph-div\" style=\"height:525px; width:100%;\"></div>\n",
       "            <script type=\"text/javascript\">\n",
       "                require([\"plotly\"], function(Plotly) {\n",
       "                    window.PLOTLYENV=window.PLOTLYENV || {};\n",
       "                    \n",
       "                if (document.getElementById(\"2caf75a1-dcb3-4995-8df1-8d227ae5f1e3\")) {\n",
       "                    Plotly.newPlot(\n",
       "                        '2caf75a1-dcb3-4995-8df1-8d227ae5f1e3',\n",
       "                        [{\"name\": \"bare\", \"type\": \"bar\", \"x\": [\"SrTcO3\", \"BaFeO3\", \"BaMoO3\", \"KTaO3\", \"BaZrO3\", \"SrFeO3\", \"KTcO3\", \"NaTcO3\", \"BaHfO3\", \"SrTiO3\", \"SrCuO3\", \"KNbO3\", \"NaTaO3\", \"BaScO3\", \"BaPdO3\", \"BaTaO3\", \"SrHfO3\", \"NaOsO3\", \"TlTcO3\", \"KReO3\"], \"y\": [13.642, 59.992, 24.0, 0.0, 0.0, 53.798, 0.0, 0.01, -0.0, 0.0, 13.957, -0.19, 0.001, 12.0, 16.38, 2.961, -0.0, 7.513, 1.901, 1.071]}, {\"name\": \"OOH\", \"type\": \"bar\", \"x\": [\"SrTcO3\", \"BaFeO3\", \"BaMoO3\", \"KTaO3\", \"BaZrO3\", \"SrFeO3\", \"KTcO3\", \"NaTcO3\", \"BaHfO3\", \"SrTiO3\", \"SrCuO3\", \"KNbO3\", \"NaTaO3\", \"BaScO3\", \"BaPdO3\", \"BaTaO3\", \"SrHfO3\", \"NaOsO3\", \"TlTcO3\", \"KReO3\"], \"y\": [10.741, 60.985, 23.0, 0.989, -0.002, 54.683, -1.053, -0.345, 0.629, -0.736, 14.04, 1.036, 0.997, 13.0, 16.342, \"NaN\", -0.629, \"NaN\", -1.063, 0.594]}, {\"name\": \"O\", \"type\": \"bar\", \"x\": [\"SrTcO3\", \"BaFeO3\", \"BaMoO3\", \"KTaO3\", \"BaZrO3\", \"SrFeO3\", \"KTcO3\", \"NaTcO3\", \"BaHfO3\", \"SrTiO3\", \"SrCuO3\", \"KNbO3\", \"NaTaO3\", \"BaScO3\", \"BaPdO3\", \"BaTaO3\", \"SrHfO3\", \"NaOsO3\", \"TlTcO3\", \"KReO3\"], \"y\": [6.83, 56.636, 22.0, 1.665, -1.331, 47.49, 0.934, 1.126, 1.393, 1.079, 14.539, 1.765, -0.001, 14.0, 17.483, 2.091, 1.478, 5.937, 0.757, 1.25]}, {\"name\": \"OH\", \"type\": \"bar\", \"x\": [\"SrTcO3\", \"BaFeO3\", \"BaMoO3\", \"KTaO3\", \"BaZrO3\", \"SrFeO3\", \"KTcO3\", \"NaTcO3\", \"BaHfO3\", \"SrTiO3\", \"SrCuO3\", \"KNbO3\", \"NaTaO3\", \"BaScO3\", \"BaPdO3\", \"BaTaO3\", \"SrHfO3\", \"NaOsO3\", \"TlTcO3\", \"KReO3\"], \"y\": [10.772, 58.79, 23.0, 0.991, 0.216, 53.888, -0.566, 0.48, 0.002, 0.001, 13.012, 1.066, 0.997, 13.0, 16.407, 2.744, -0.063, \"NaN\", -2.579, 0.643]}],\n",
       "                        {\"template\": {\"data\": {\"bar\": [{\"error_x\": {\"color\": \"#2a3f5f\"}, \"error_y\": {\"color\": \"#2a3f5f\"}, \"marker\": {\"line\": {\"color\": \"#E5ECF6\", \"width\": 0.5}}, \"type\": \"bar\"}], \"barpolar\": [{\"marker\": {\"line\": {\"color\": \"#E5ECF6\", \"width\": 0.5}}, \"type\": \"barpolar\"}], \"carpet\": [{\"aaxis\": {\"endlinecolor\": \"#2a3f5f\", \"gridcolor\": \"white\", \"linecolor\": \"white\", \"minorgridcolor\": \"white\", \"startlinecolor\": \"#2a3f5f\"}, \"baxis\": {\"endlinecolor\": \"#2a3f5f\", \"gridcolor\": \"white\", \"linecolor\": \"white\", \"minorgridcolor\": \"white\", \"startlinecolor\": \"#2a3f5f\"}, \"type\": \"carpet\"}], \"choropleth\": [{\"colorbar\": {\"outlinewidth\": 0, \"ticks\": \"\"}, \"type\": \"choropleth\"}], \"contour\": [{\"colorbar\": {\"outlinewidth\": 0, \"ticks\": \"\"}, \"colorscale\": [[0.0, \"#0d0887\"], [0.1111111111111111, \"#46039f\"], [0.2222222222222222, \"#7201a8\"], [0.3333333333333333, \"#9c179e\"], [0.4444444444444444, \"#bd3786\"], [0.5555555555555556, \"#d8576b\"], [0.6666666666666666, \"#ed7953\"], [0.7777777777777778, \"#fb9f3a\"], [0.8888888888888888, \"#fdca26\"], [1.0, \"#f0f921\"]], \"type\": \"contour\"}], \"contourcarpet\": [{\"colorbar\": {\"outlinewidth\": 0, \"ticks\": \"\"}, \"type\": \"contourcarpet\"}], \"heatmap\": [{\"colorbar\": {\"outlinewidth\": 0, \"ticks\": \"\"}, \"colorscale\": [[0.0, \"#0d0887\"], [0.1111111111111111, \"#46039f\"], [0.2222222222222222, \"#7201a8\"], [0.3333333333333333, \"#9c179e\"], [0.4444444444444444, \"#bd3786\"], [0.5555555555555556, \"#d8576b\"], [0.6666666666666666, \"#ed7953\"], [0.7777777777777778, \"#fb9f3a\"], [0.8888888888888888, \"#fdca26\"], [1.0, \"#f0f921\"]], \"type\": \"heatmap\"}], \"heatmapgl\": [{\"colorbar\": {\"outlinewidth\": 0, \"ticks\": \"\"}, \"colorscale\": [[0.0, \"#0d0887\"], [0.1111111111111111, \"#46039f\"], [0.2222222222222222, \"#7201a8\"], [0.3333333333333333, \"#9c179e\"], [0.4444444444444444, \"#bd3786\"], [0.5555555555555556, \"#d8576b\"], [0.6666666666666666, \"#ed7953\"], [0.7777777777777778, \"#fb9f3a\"], [0.8888888888888888, \"#fdca26\"], [1.0, \"#f0f921\"]], \"type\": \"heatmapgl\"}], \"histogram\": [{\"marker\": {\"colorbar\": {\"outlinewidth\": 0, \"ticks\": \"\"}}, \"type\": \"histogram\"}], \"histogram2d\": [{\"colorbar\": {\"outlinewidth\": 0, \"ticks\": \"\"}, \"colorscale\": [[0.0, \"#0d0887\"], [0.1111111111111111, \"#46039f\"], [0.2222222222222222, \"#7201a8\"], [0.3333333333333333, \"#9c179e\"], [0.4444444444444444, \"#bd3786\"], [0.5555555555555556, \"#d8576b\"], [0.6666666666666666, \"#ed7953\"], [0.7777777777777778, \"#fb9f3a\"], [0.8888888888888888, \"#fdca26\"], [1.0, \"#f0f921\"]], \"type\": \"histogram2d\"}], \"histogram2dcontour\": [{\"colorbar\": {\"outlinewidth\": 0, \"ticks\": \"\"}, \"colorscale\": [[0.0, \"#0d0887\"], [0.1111111111111111, \"#46039f\"], [0.2222222222222222, \"#7201a8\"], [0.3333333333333333, \"#9c179e\"], [0.4444444444444444, \"#bd3786\"], [0.5555555555555556, \"#d8576b\"], [0.6666666666666666, \"#ed7953\"], [0.7777777777777778, \"#fb9f3a\"], [0.8888888888888888, \"#fdca26\"], [1.0, \"#f0f921\"]], \"type\": \"histogram2dcontour\"}], \"mesh3d\": [{\"colorbar\": {\"outlinewidth\": 0, \"ticks\": \"\"}, \"type\": \"mesh3d\"}], \"parcoords\": [{\"line\": {\"colorbar\": {\"outlinewidth\": 0, \"ticks\": \"\"}}, \"type\": \"parcoords\"}], \"pie\": [{\"automargin\": true, \"type\": \"pie\"}], \"scatter\": [{\"marker\": {\"colorbar\": {\"outlinewidth\": 0, \"ticks\": \"\"}}, \"type\": \"scatter\"}], \"scatter3d\": [{\"line\": {\"colorbar\": {\"outlinewidth\": 0, \"ticks\": \"\"}}, \"marker\": {\"colorbar\": {\"outlinewidth\": 0, \"ticks\": \"\"}}, \"type\": \"scatter3d\"}], \"scattercarpet\": [{\"marker\": {\"colorbar\": {\"outlinewidth\": 0, \"ticks\": \"\"}}, \"type\": \"scattercarpet\"}], \"scattergeo\": [{\"marker\": {\"colorbar\": {\"outlinewidth\": 0, \"ticks\": \"\"}}, \"type\": \"scattergeo\"}], \"scattergl\": [{\"marker\": {\"colorbar\": {\"outlinewidth\": 0, \"ticks\": \"\"}}, \"type\": \"scattergl\"}], \"scattermapbox\": [{\"marker\": {\"colorbar\": {\"outlinewidth\": 0, \"ticks\": \"\"}}, \"type\": \"scattermapbox\"}], \"scatterpolar\": [{\"marker\": {\"colorbar\": {\"outlinewidth\": 0, \"ticks\": \"\"}}, \"type\": \"scatterpolar\"}], \"scatterpolargl\": [{\"marker\": {\"colorbar\": {\"outlinewidth\": 0, \"ticks\": \"\"}}, \"type\": \"scatterpolargl\"}], \"scatterternary\": [{\"marker\": {\"colorbar\": {\"outlinewidth\": 0, \"ticks\": \"\"}}, \"type\": \"scatterternary\"}], \"surface\": [{\"colorbar\": {\"outlinewidth\": 0, \"ticks\": \"\"}, \"colorscale\": [[0.0, \"#0d0887\"], [0.1111111111111111, \"#46039f\"], [0.2222222222222222, \"#7201a8\"], [0.3333333333333333, \"#9c179e\"], [0.4444444444444444, \"#bd3786\"], [0.5555555555555556, \"#d8576b\"], [0.6666666666666666, \"#ed7953\"], [0.7777777777777778, \"#fb9f3a\"], [0.8888888888888888, \"#fdca26\"], [1.0, \"#f0f921\"]], \"type\": \"surface\"}], \"table\": [{\"cells\": {\"fill\": {\"color\": \"#EBF0F8\"}, \"line\": {\"color\": \"white\"}}, \"header\": {\"fill\": {\"color\": \"#C8D4E3\"}, \"line\": {\"color\": \"white\"}}, \"type\": \"table\"}]}, \"layout\": {\"annotationdefaults\": {\"arrowcolor\": \"#2a3f5f\", \"arrowhead\": 0, \"arrowwidth\": 1}, \"coloraxis\": {\"colorbar\": {\"outlinewidth\": 0, \"ticks\": \"\"}}, \"colorscale\": {\"diverging\": [[0, \"#8e0152\"], [0.1, \"#c51b7d\"], [0.2, \"#de77ae\"], [0.3, \"#f1b6da\"], [0.4, \"#fde0ef\"], [0.5, \"#f7f7f7\"], [0.6, \"#e6f5d0\"], [0.7, \"#b8e186\"], [0.8, \"#7fbc41\"], [0.9, \"#4d9221\"], [1, \"#276419\"]], \"sequential\": [[0.0, \"#0d0887\"], [0.1111111111111111, \"#46039f\"], [0.2222222222222222, \"#7201a8\"], [0.3333333333333333, \"#9c179e\"], [0.4444444444444444, \"#bd3786\"], [0.5555555555555556, \"#d8576b\"], [0.6666666666666666, \"#ed7953\"], [0.7777777777777778, \"#fb9f3a\"], [0.8888888888888888, \"#fdca26\"], [1.0, \"#f0f921\"]], \"sequentialminus\": [[0.0, \"#0d0887\"], [0.1111111111111111, \"#46039f\"], [0.2222222222222222, \"#7201a8\"], [0.3333333333333333, \"#9c179e\"], [0.4444444444444444, \"#bd3786\"], [0.5555555555555556, \"#d8576b\"], [0.6666666666666666, \"#ed7953\"], [0.7777777777777778, \"#fb9f3a\"], [0.8888888888888888, \"#fdca26\"], [1.0, \"#f0f921\"]]}, \"colorway\": [\"#636efa\", \"#EF553B\", \"#00cc96\", \"#ab63fa\", \"#FFA15A\", \"#19d3f3\", \"#FF6692\", \"#B6E880\", \"#FF97FF\", \"#FECB52\"], \"font\": {\"color\": \"#2a3f5f\"}, \"geo\": {\"bgcolor\": \"white\", \"lakecolor\": \"white\", \"landcolor\": \"#E5ECF6\", \"showlakes\": true, \"showland\": true, \"subunitcolor\": \"white\"}, \"hoverlabel\": {\"align\": \"left\"}, \"hovermode\": \"closest\", \"mapbox\": {\"style\": \"light\"}, \"paper_bgcolor\": \"white\", \"plot_bgcolor\": \"#E5ECF6\", \"polar\": {\"angularaxis\": {\"gridcolor\": \"white\", \"linecolor\": \"white\", \"ticks\": \"\"}, \"bgcolor\": \"#E5ECF6\", \"radialaxis\": {\"gridcolor\": \"white\", \"linecolor\": \"white\", \"ticks\": \"\"}}, \"scene\": {\"xaxis\": {\"backgroundcolor\": \"#E5ECF6\", \"gridcolor\": \"white\", \"gridwidth\": 2, \"linecolor\": \"white\", \"showbackground\": true, \"ticks\": \"\", \"zerolinecolor\": \"white\"}, \"yaxis\": {\"backgroundcolor\": \"#E5ECF6\", \"gridcolor\": \"white\", \"gridwidth\": 2, \"linecolor\": \"white\", \"showbackground\": true, \"ticks\": \"\", \"zerolinecolor\": \"white\"}, \"zaxis\": {\"backgroundcolor\": \"#E5ECF6\", \"gridcolor\": \"white\", \"gridwidth\": 2, \"linecolor\": \"white\", \"showbackground\": true, \"ticks\": \"\", \"zerolinecolor\": \"white\"}}, \"shapedefaults\": {\"line\": {\"color\": \"#2a3f5f\"}}, \"ternary\": {\"aaxis\": {\"gridcolor\": \"white\", \"linecolor\": \"white\", \"ticks\": \"\"}, \"baxis\": {\"gridcolor\": \"white\", \"linecolor\": \"white\", \"ticks\": \"\"}, \"bgcolor\": \"#E5ECF6\", \"caxis\": {\"gridcolor\": \"white\", \"linecolor\": \"white\", \"ticks\": \"\"}}, \"title\": {\"x\": 0.05}, \"xaxis\": {\"automargin\": true, \"gridcolor\": \"white\", \"linecolor\": \"white\", \"ticks\": \"\", \"title\": {\"standoff\": 15}, \"zerolinecolor\": \"white\", \"zerolinewidth\": 2}, \"yaxis\": {\"automargin\": true, \"gridcolor\": \"white\", \"linecolor\": \"white\", \"ticks\": \"\", \"title\": {\"standoff\": 15}, \"zerolinecolor\": \"white\", \"zerolinewidth\": 2}}}, \"title\": {\"text\": \"Total magnetization\"}},\n",
       "                        {\"responsive\": true}\n",
       "                    ).then(function(){\n",
       "                            \n",
       "var gd = document.getElementById('2caf75a1-dcb3-4995-8df1-8d227ae5f1e3');\n",
       "var x = new MutationObserver(function (mutations, observer) {{\n",
       "        var display = window.getComputedStyle(gd).display;\n",
       "        if (!display || display === 'none') {{\n",
       "            console.log([gd, 'removed!']);\n",
       "            Plotly.purge(gd);\n",
       "            observer.disconnect();\n",
       "        }}\n",
       "}});\n",
       "\n",
       "// Listen for the removal of the full notebook cells\n",
       "var notebookContainer = gd.closest('#notebook-container');\n",
       "if (notebookContainer) {{\n",
       "    x.observe(notebookContainer, {childList: true});\n",
       "}}\n",
       "\n",
       "// Listen for the clearing of the current output cell\n",
       "var outputEl = gd.closest('.output');\n",
       "if (outputEl) {{\n",
       "    x.observe(outputEl, {childList: true});\n",
       "}}\n",
       "\n",
       "                        })\n",
       "                };\n",
       "                });\n",
       "            </script>\n",
       "        </div>"
      ]
     },
     "metadata": {},
     "output_type": "display_data"
    }
   ],
   "source": [
    "# 막대 그래프 그리기\n",
    "trace1 = go.Bar(x = df['formula'], y = df['bare_mag'], name = 'bare')\n",
    "trace2 = go.Bar(x = df['formula'], y = df['OOH_mag'], name = 'OOH')\n",
    "trace3 = go.Bar(x = df['formula'], y = df['O_mag'], name = 'O')\n",
    "trace4 = go.Bar(x = df['formula'], y = df['OH_mag'], name = 'OH')\n",
    "\n",
    "\n",
    "data = [trace1, trace2,trace3, trace4]\n",
    "layout = go.Layout(title = 'Total magnetization')\n",
    "fig = go.Figure(data = data, layout = layout)\n",
    "#pyo.plot(fig, image = 'png', image_filename ='plot_image')\n",
    "fig.show()"
   ]
  },
  {
   "cell_type": "code",
   "execution_count": 115,
   "metadata": {},
   "outputs": [
    {
     "data": {
      "application/vnd.plotly.v1+json": {
       "config": {
        "linkText": "Export to plot.ly",
        "plotlyServerURL": "https://plot.ly",
        "showLink": false
       },
       "data": [
        {
         "name": "OOH",
         "type": "bar",
         "x": [
          "SrTcO3",
          "BaFeO3",
          "BaMoO3",
          "KTaO3",
          "BaZrO3",
          "SrFeO3",
          "KTcO3",
          "NaTcO3",
          "BaHfO3",
          "SrTiO3",
          "SrCuO3",
          "KNbO3",
          "NaTaO3",
          "BaScO3",
          "BaPdO3",
          "BaTaO3",
          "SrHfO3",
          "NaOsO3",
          "TlTcO3",
          "KReO3"
         ],
         "y": [
          -2.902,
          0.993,
          -1,
          0.989,
          -0.002,
          0.884,
          -1.053,
          -0.355,
          0.629,
          -0.736,
          0.082,
          1.226,
          0.995,
          1,
          -0.037,
          "NaN",
          -0.629,
          "NaN",
          -2.964,
          -0.477
         ]
        },
        {
         "name": "O",
         "type": "bar",
         "x": [
          "SrTcO3",
          "BaFeO3",
          "BaMoO3",
          "KTaO3",
          "BaZrO3",
          "SrFeO3",
          "KTcO3",
          "NaTcO3",
          "BaHfO3",
          "SrTiO3",
          "SrCuO3",
          "KNbO3",
          "NaTaO3",
          "BaScO3",
          "BaPdO3",
          "BaTaO3",
          "SrHfO3",
          "NaOsO3",
          "TlTcO3",
          "KReO3"
         ],
         "y": [
          -6.812,
          -3.356,
          -2,
          1.665,
          -1.331,
          -6.308,
          0.934,
          1.116,
          1.393,
          1.079,
          0.581,
          1.954,
          -0.002,
          2,
          1.103,
          -0.87,
          1.478,
          -1.577,
          -1.143,
          0.18
         ]
        },
        {
         "name": "OH",
         "type": "bar",
         "x": [
          "SrTcO3",
          "BaFeO3",
          "BaMoO3",
          "KTaO3",
          "BaZrO3",
          "SrFeO3",
          "KTcO3",
          "NaTcO3",
          "BaHfO3",
          "SrTiO3",
          "SrCuO3",
          "KNbO3",
          "NaTaO3",
          "BaScO3",
          "BaPdO3",
          "BaTaO3",
          "SrHfO3",
          "NaOsO3",
          "TlTcO3",
          "KReO3"
         ],
         "y": [
          -2.871,
          -1.202,
          -1,
          0.991,
          0.216,
          0.09,
          -0.566,
          0.47,
          0.002,
          0.001,
          -0.946,
          1.256,
          0.995,
          1,
          0.027,
          -0.217,
          -0.063,
          "NaN",
          -4.48,
          -0.428
         ]
        }
       ],
       "layout": {
        "template": {
         "data": {
          "bar": [
           {
            "error_x": {
             "color": "#2a3f5f"
            },
            "error_y": {
             "color": "#2a3f5f"
            },
            "marker": {
             "line": {
              "color": "#E5ECF6",
              "width": 0.5
             }
            },
            "type": "bar"
           }
          ],
          "barpolar": [
           {
            "marker": {
             "line": {
              "color": "#E5ECF6",
              "width": 0.5
             }
            },
            "type": "barpolar"
           }
          ],
          "carpet": [
           {
            "aaxis": {
             "endlinecolor": "#2a3f5f",
             "gridcolor": "white",
             "linecolor": "white",
             "minorgridcolor": "white",
             "startlinecolor": "#2a3f5f"
            },
            "baxis": {
             "endlinecolor": "#2a3f5f",
             "gridcolor": "white",
             "linecolor": "white",
             "minorgridcolor": "white",
             "startlinecolor": "#2a3f5f"
            },
            "type": "carpet"
           }
          ],
          "choropleth": [
           {
            "colorbar": {
             "outlinewidth": 0,
             "ticks": ""
            },
            "type": "choropleth"
           }
          ],
          "contour": [
           {
            "colorbar": {
             "outlinewidth": 0,
             "ticks": ""
            },
            "colorscale": [
             [
              0,
              "#0d0887"
             ],
             [
              0.1111111111111111,
              "#46039f"
             ],
             [
              0.2222222222222222,
              "#7201a8"
             ],
             [
              0.3333333333333333,
              "#9c179e"
             ],
             [
              0.4444444444444444,
              "#bd3786"
             ],
             [
              0.5555555555555556,
              "#d8576b"
             ],
             [
              0.6666666666666666,
              "#ed7953"
             ],
             [
              0.7777777777777778,
              "#fb9f3a"
             ],
             [
              0.8888888888888888,
              "#fdca26"
             ],
             [
              1,
              "#f0f921"
             ]
            ],
            "type": "contour"
           }
          ],
          "contourcarpet": [
           {
            "colorbar": {
             "outlinewidth": 0,
             "ticks": ""
            },
            "type": "contourcarpet"
           }
          ],
          "heatmap": [
           {
            "colorbar": {
             "outlinewidth": 0,
             "ticks": ""
            },
            "colorscale": [
             [
              0,
              "#0d0887"
             ],
             [
              0.1111111111111111,
              "#46039f"
             ],
             [
              0.2222222222222222,
              "#7201a8"
             ],
             [
              0.3333333333333333,
              "#9c179e"
             ],
             [
              0.4444444444444444,
              "#bd3786"
             ],
             [
              0.5555555555555556,
              "#d8576b"
             ],
             [
              0.6666666666666666,
              "#ed7953"
             ],
             [
              0.7777777777777778,
              "#fb9f3a"
             ],
             [
              0.8888888888888888,
              "#fdca26"
             ],
             [
              1,
              "#f0f921"
             ]
            ],
            "type": "heatmap"
           }
          ],
          "heatmapgl": [
           {
            "colorbar": {
             "outlinewidth": 0,
             "ticks": ""
            },
            "colorscale": [
             [
              0,
              "#0d0887"
             ],
             [
              0.1111111111111111,
              "#46039f"
             ],
             [
              0.2222222222222222,
              "#7201a8"
             ],
             [
              0.3333333333333333,
              "#9c179e"
             ],
             [
              0.4444444444444444,
              "#bd3786"
             ],
             [
              0.5555555555555556,
              "#d8576b"
             ],
             [
              0.6666666666666666,
              "#ed7953"
             ],
             [
              0.7777777777777778,
              "#fb9f3a"
             ],
             [
              0.8888888888888888,
              "#fdca26"
             ],
             [
              1,
              "#f0f921"
             ]
            ],
            "type": "heatmapgl"
           }
          ],
          "histogram": [
           {
            "marker": {
             "colorbar": {
              "outlinewidth": 0,
              "ticks": ""
             }
            },
            "type": "histogram"
           }
          ],
          "histogram2d": [
           {
            "colorbar": {
             "outlinewidth": 0,
             "ticks": ""
            },
            "colorscale": [
             [
              0,
              "#0d0887"
             ],
             [
              0.1111111111111111,
              "#46039f"
             ],
             [
              0.2222222222222222,
              "#7201a8"
             ],
             [
              0.3333333333333333,
              "#9c179e"
             ],
             [
              0.4444444444444444,
              "#bd3786"
             ],
             [
              0.5555555555555556,
              "#d8576b"
             ],
             [
              0.6666666666666666,
              "#ed7953"
             ],
             [
              0.7777777777777778,
              "#fb9f3a"
             ],
             [
              0.8888888888888888,
              "#fdca26"
             ],
             [
              1,
              "#f0f921"
             ]
            ],
            "type": "histogram2d"
           }
          ],
          "histogram2dcontour": [
           {
            "colorbar": {
             "outlinewidth": 0,
             "ticks": ""
            },
            "colorscale": [
             [
              0,
              "#0d0887"
             ],
             [
              0.1111111111111111,
              "#46039f"
             ],
             [
              0.2222222222222222,
              "#7201a8"
             ],
             [
              0.3333333333333333,
              "#9c179e"
             ],
             [
              0.4444444444444444,
              "#bd3786"
             ],
             [
              0.5555555555555556,
              "#d8576b"
             ],
             [
              0.6666666666666666,
              "#ed7953"
             ],
             [
              0.7777777777777778,
              "#fb9f3a"
             ],
             [
              0.8888888888888888,
              "#fdca26"
             ],
             [
              1,
              "#f0f921"
             ]
            ],
            "type": "histogram2dcontour"
           }
          ],
          "mesh3d": [
           {
            "colorbar": {
             "outlinewidth": 0,
             "ticks": ""
            },
            "type": "mesh3d"
           }
          ],
          "parcoords": [
           {
            "line": {
             "colorbar": {
              "outlinewidth": 0,
              "ticks": ""
             }
            },
            "type": "parcoords"
           }
          ],
          "pie": [
           {
            "automargin": true,
            "type": "pie"
           }
          ],
          "scatter": [
           {
            "marker": {
             "colorbar": {
              "outlinewidth": 0,
              "ticks": ""
             }
            },
            "type": "scatter"
           }
          ],
          "scatter3d": [
           {
            "line": {
             "colorbar": {
              "outlinewidth": 0,
              "ticks": ""
             }
            },
            "marker": {
             "colorbar": {
              "outlinewidth": 0,
              "ticks": ""
             }
            },
            "type": "scatter3d"
           }
          ],
          "scattercarpet": [
           {
            "marker": {
             "colorbar": {
              "outlinewidth": 0,
              "ticks": ""
             }
            },
            "type": "scattercarpet"
           }
          ],
          "scattergeo": [
           {
            "marker": {
             "colorbar": {
              "outlinewidth": 0,
              "ticks": ""
             }
            },
            "type": "scattergeo"
           }
          ],
          "scattergl": [
           {
            "marker": {
             "colorbar": {
              "outlinewidth": 0,
              "ticks": ""
             }
            },
            "type": "scattergl"
           }
          ],
          "scattermapbox": [
           {
            "marker": {
             "colorbar": {
              "outlinewidth": 0,
              "ticks": ""
             }
            },
            "type": "scattermapbox"
           }
          ],
          "scatterpolar": [
           {
            "marker": {
             "colorbar": {
              "outlinewidth": 0,
              "ticks": ""
             }
            },
            "type": "scatterpolar"
           }
          ],
          "scatterpolargl": [
           {
            "marker": {
             "colorbar": {
              "outlinewidth": 0,
              "ticks": ""
             }
            },
            "type": "scatterpolargl"
           }
          ],
          "scatterternary": [
           {
            "marker": {
             "colorbar": {
              "outlinewidth": 0,
              "ticks": ""
             }
            },
            "type": "scatterternary"
           }
          ],
          "surface": [
           {
            "colorbar": {
             "outlinewidth": 0,
             "ticks": ""
            },
            "colorscale": [
             [
              0,
              "#0d0887"
             ],
             [
              0.1111111111111111,
              "#46039f"
             ],
             [
              0.2222222222222222,
              "#7201a8"
             ],
             [
              0.3333333333333333,
              "#9c179e"
             ],
             [
              0.4444444444444444,
              "#bd3786"
             ],
             [
              0.5555555555555556,
              "#d8576b"
             ],
             [
              0.6666666666666666,
              "#ed7953"
             ],
             [
              0.7777777777777778,
              "#fb9f3a"
             ],
             [
              0.8888888888888888,
              "#fdca26"
             ],
             [
              1,
              "#f0f921"
             ]
            ],
            "type": "surface"
           }
          ],
          "table": [
           {
            "cells": {
             "fill": {
              "color": "#EBF0F8"
             },
             "line": {
              "color": "white"
             }
            },
            "header": {
             "fill": {
              "color": "#C8D4E3"
             },
             "line": {
              "color": "white"
             }
            },
            "type": "table"
           }
          ]
         },
         "layout": {
          "annotationdefaults": {
           "arrowcolor": "#2a3f5f",
           "arrowhead": 0,
           "arrowwidth": 1
          },
          "coloraxis": {
           "colorbar": {
            "outlinewidth": 0,
            "ticks": ""
           }
          },
          "colorscale": {
           "diverging": [
            [
             0,
             "#8e0152"
            ],
            [
             0.1,
             "#c51b7d"
            ],
            [
             0.2,
             "#de77ae"
            ],
            [
             0.3,
             "#f1b6da"
            ],
            [
             0.4,
             "#fde0ef"
            ],
            [
             0.5,
             "#f7f7f7"
            ],
            [
             0.6,
             "#e6f5d0"
            ],
            [
             0.7,
             "#b8e186"
            ],
            [
             0.8,
             "#7fbc41"
            ],
            [
             0.9,
             "#4d9221"
            ],
            [
             1,
             "#276419"
            ]
           ],
           "sequential": [
            [
             0,
             "#0d0887"
            ],
            [
             0.1111111111111111,
             "#46039f"
            ],
            [
             0.2222222222222222,
             "#7201a8"
            ],
            [
             0.3333333333333333,
             "#9c179e"
            ],
            [
             0.4444444444444444,
             "#bd3786"
            ],
            [
             0.5555555555555556,
             "#d8576b"
            ],
            [
             0.6666666666666666,
             "#ed7953"
            ],
            [
             0.7777777777777778,
             "#fb9f3a"
            ],
            [
             0.8888888888888888,
             "#fdca26"
            ],
            [
             1,
             "#f0f921"
            ]
           ],
           "sequentialminus": [
            [
             0,
             "#0d0887"
            ],
            [
             0.1111111111111111,
             "#46039f"
            ],
            [
             0.2222222222222222,
             "#7201a8"
            ],
            [
             0.3333333333333333,
             "#9c179e"
            ],
            [
             0.4444444444444444,
             "#bd3786"
            ],
            [
             0.5555555555555556,
             "#d8576b"
            ],
            [
             0.6666666666666666,
             "#ed7953"
            ],
            [
             0.7777777777777778,
             "#fb9f3a"
            ],
            [
             0.8888888888888888,
             "#fdca26"
            ],
            [
             1,
             "#f0f921"
            ]
           ]
          },
          "colorway": [
           "#636efa",
           "#EF553B",
           "#00cc96",
           "#ab63fa",
           "#FFA15A",
           "#19d3f3",
           "#FF6692",
           "#B6E880",
           "#FF97FF",
           "#FECB52"
          ],
          "font": {
           "color": "#2a3f5f"
          },
          "geo": {
           "bgcolor": "white",
           "lakecolor": "white",
           "landcolor": "#E5ECF6",
           "showlakes": true,
           "showland": true,
           "subunitcolor": "white"
          },
          "hoverlabel": {
           "align": "left"
          },
          "hovermode": "closest",
          "mapbox": {
           "style": "light"
          },
          "paper_bgcolor": "white",
          "plot_bgcolor": "#E5ECF6",
          "polar": {
           "angularaxis": {
            "gridcolor": "white",
            "linecolor": "white",
            "ticks": ""
           },
           "bgcolor": "#E5ECF6",
           "radialaxis": {
            "gridcolor": "white",
            "linecolor": "white",
            "ticks": ""
           }
          },
          "scene": {
           "xaxis": {
            "backgroundcolor": "#E5ECF6",
            "gridcolor": "white",
            "gridwidth": 2,
            "linecolor": "white",
            "showbackground": true,
            "ticks": "",
            "zerolinecolor": "white"
           },
           "yaxis": {
            "backgroundcolor": "#E5ECF6",
            "gridcolor": "white",
            "gridwidth": 2,
            "linecolor": "white",
            "showbackground": true,
            "ticks": "",
            "zerolinecolor": "white"
           },
           "zaxis": {
            "backgroundcolor": "#E5ECF6",
            "gridcolor": "white",
            "gridwidth": 2,
            "linecolor": "white",
            "showbackground": true,
            "ticks": "",
            "zerolinecolor": "white"
           }
          },
          "shapedefaults": {
           "line": {
            "color": "#2a3f5f"
           }
          },
          "ternary": {
           "aaxis": {
            "gridcolor": "white",
            "linecolor": "white",
            "ticks": ""
           },
           "baxis": {
            "gridcolor": "white",
            "linecolor": "white",
            "ticks": ""
           },
           "bgcolor": "#E5ECF6",
           "caxis": {
            "gridcolor": "white",
            "linecolor": "white",
            "ticks": ""
           }
          },
          "title": {
           "x": 0.05
          },
          "xaxis": {
           "automargin": true,
           "gridcolor": "white",
           "linecolor": "white",
           "ticks": "",
           "title": {
            "standoff": 15
           },
           "zerolinecolor": "white",
           "zerolinewidth": 2
          },
          "yaxis": {
           "automargin": true,
           "gridcolor": "white",
           "linecolor": "white",
           "ticks": "",
           "title": {
            "standoff": 15
           },
           "zerolinecolor": "white",
           "zerolinewidth": 2
          }
         }
        },
        "title": {
         "text": "Delta magnetization"
        }
       }
      },
      "text/html": [
       "<div>\n",
       "        \n",
       "        \n",
       "            <div id=\"0c9352d8-690e-408d-8df8-52d54ca31491\" class=\"plotly-graph-div\" style=\"height:525px; width:100%;\"></div>\n",
       "            <script type=\"text/javascript\">\n",
       "                require([\"plotly\"], function(Plotly) {\n",
       "                    window.PLOTLYENV=window.PLOTLYENV || {};\n",
       "                    \n",
       "                if (document.getElementById(\"0c9352d8-690e-408d-8df8-52d54ca31491\")) {\n",
       "                    Plotly.newPlot(\n",
       "                        '0c9352d8-690e-408d-8df8-52d54ca31491',\n",
       "                        [{\"name\": \"OOH\", \"type\": \"bar\", \"x\": [\"SrTcO3\", \"BaFeO3\", \"BaMoO3\", \"KTaO3\", \"BaZrO3\", \"SrFeO3\", \"KTcO3\", \"NaTcO3\", \"BaHfO3\", \"SrTiO3\", \"SrCuO3\", \"KNbO3\", \"NaTaO3\", \"BaScO3\", \"BaPdO3\", \"BaTaO3\", \"SrHfO3\", \"NaOsO3\", \"TlTcO3\", \"KReO3\"], \"y\": [-2.902, 0.993, -1.0, 0.989, -0.002, 0.884, -1.053, -0.355, 0.629, -0.736, 0.082, 1.226, 0.995, 1.0, -0.037, \"NaN\", -0.629, \"NaN\", -2.964, -0.477]}, {\"name\": \"O\", \"type\": \"bar\", \"x\": [\"SrTcO3\", \"BaFeO3\", \"BaMoO3\", \"KTaO3\", \"BaZrO3\", \"SrFeO3\", \"KTcO3\", \"NaTcO3\", \"BaHfO3\", \"SrTiO3\", \"SrCuO3\", \"KNbO3\", \"NaTaO3\", \"BaScO3\", \"BaPdO3\", \"BaTaO3\", \"SrHfO3\", \"NaOsO3\", \"TlTcO3\", \"KReO3\"], \"y\": [-6.812, -3.356, -2.0, 1.665, -1.331, -6.308, 0.934, 1.116, 1.393, 1.079, 0.581, 1.954, -0.002, 2.0, 1.103, -0.87, 1.478, -1.577, -1.143, 0.18]}, {\"name\": \"OH\", \"type\": \"bar\", \"x\": [\"SrTcO3\", \"BaFeO3\", \"BaMoO3\", \"KTaO3\", \"BaZrO3\", \"SrFeO3\", \"KTcO3\", \"NaTcO3\", \"BaHfO3\", \"SrTiO3\", \"SrCuO3\", \"KNbO3\", \"NaTaO3\", \"BaScO3\", \"BaPdO3\", \"BaTaO3\", \"SrHfO3\", \"NaOsO3\", \"TlTcO3\", \"KReO3\"], \"y\": [-2.871, -1.202, -1.0, 0.991, 0.216, 0.09, -0.566, 0.47, 0.002, 0.001, -0.946, 1.256, 0.995, 1.0, 0.027, -0.217, -0.063, \"NaN\", -4.48, -0.428]}],\n",
       "                        {\"template\": {\"data\": {\"bar\": [{\"error_x\": {\"color\": \"#2a3f5f\"}, \"error_y\": {\"color\": \"#2a3f5f\"}, \"marker\": {\"line\": {\"color\": \"#E5ECF6\", \"width\": 0.5}}, \"type\": \"bar\"}], \"barpolar\": [{\"marker\": {\"line\": {\"color\": \"#E5ECF6\", \"width\": 0.5}}, \"type\": \"barpolar\"}], \"carpet\": [{\"aaxis\": {\"endlinecolor\": \"#2a3f5f\", \"gridcolor\": \"white\", \"linecolor\": \"white\", \"minorgridcolor\": \"white\", \"startlinecolor\": \"#2a3f5f\"}, \"baxis\": {\"endlinecolor\": \"#2a3f5f\", \"gridcolor\": \"white\", \"linecolor\": \"white\", \"minorgridcolor\": \"white\", \"startlinecolor\": \"#2a3f5f\"}, \"type\": \"carpet\"}], \"choropleth\": [{\"colorbar\": {\"outlinewidth\": 0, \"ticks\": \"\"}, \"type\": \"choropleth\"}], \"contour\": [{\"colorbar\": {\"outlinewidth\": 0, \"ticks\": \"\"}, \"colorscale\": [[0.0, \"#0d0887\"], [0.1111111111111111, \"#46039f\"], [0.2222222222222222, \"#7201a8\"], [0.3333333333333333, \"#9c179e\"], [0.4444444444444444, \"#bd3786\"], [0.5555555555555556, \"#d8576b\"], [0.6666666666666666, \"#ed7953\"], [0.7777777777777778, \"#fb9f3a\"], [0.8888888888888888, \"#fdca26\"], [1.0, \"#f0f921\"]], \"type\": \"contour\"}], \"contourcarpet\": [{\"colorbar\": {\"outlinewidth\": 0, \"ticks\": \"\"}, \"type\": \"contourcarpet\"}], \"heatmap\": [{\"colorbar\": {\"outlinewidth\": 0, \"ticks\": \"\"}, \"colorscale\": [[0.0, \"#0d0887\"], [0.1111111111111111, \"#46039f\"], [0.2222222222222222, \"#7201a8\"], [0.3333333333333333, \"#9c179e\"], [0.4444444444444444, \"#bd3786\"], [0.5555555555555556, \"#d8576b\"], [0.6666666666666666, \"#ed7953\"], [0.7777777777777778, \"#fb9f3a\"], [0.8888888888888888, \"#fdca26\"], [1.0, \"#f0f921\"]], \"type\": \"heatmap\"}], \"heatmapgl\": [{\"colorbar\": {\"outlinewidth\": 0, \"ticks\": \"\"}, \"colorscale\": [[0.0, \"#0d0887\"], [0.1111111111111111, \"#46039f\"], [0.2222222222222222, \"#7201a8\"], [0.3333333333333333, \"#9c179e\"], [0.4444444444444444, \"#bd3786\"], [0.5555555555555556, \"#d8576b\"], [0.6666666666666666, \"#ed7953\"], [0.7777777777777778, \"#fb9f3a\"], [0.8888888888888888, \"#fdca26\"], [1.0, \"#f0f921\"]], \"type\": \"heatmapgl\"}], \"histogram\": [{\"marker\": {\"colorbar\": {\"outlinewidth\": 0, \"ticks\": \"\"}}, \"type\": \"histogram\"}], \"histogram2d\": [{\"colorbar\": {\"outlinewidth\": 0, \"ticks\": \"\"}, \"colorscale\": [[0.0, \"#0d0887\"], [0.1111111111111111, \"#46039f\"], [0.2222222222222222, \"#7201a8\"], [0.3333333333333333, \"#9c179e\"], [0.4444444444444444, \"#bd3786\"], [0.5555555555555556, \"#d8576b\"], [0.6666666666666666, \"#ed7953\"], [0.7777777777777778, \"#fb9f3a\"], [0.8888888888888888, \"#fdca26\"], [1.0, \"#f0f921\"]], \"type\": \"histogram2d\"}], \"histogram2dcontour\": [{\"colorbar\": {\"outlinewidth\": 0, \"ticks\": \"\"}, \"colorscale\": [[0.0, \"#0d0887\"], [0.1111111111111111, \"#46039f\"], [0.2222222222222222, \"#7201a8\"], [0.3333333333333333, \"#9c179e\"], [0.4444444444444444, \"#bd3786\"], [0.5555555555555556, \"#d8576b\"], [0.6666666666666666, \"#ed7953\"], [0.7777777777777778, \"#fb9f3a\"], [0.8888888888888888, \"#fdca26\"], [1.0, \"#f0f921\"]], \"type\": \"histogram2dcontour\"}], \"mesh3d\": [{\"colorbar\": {\"outlinewidth\": 0, \"ticks\": \"\"}, \"type\": \"mesh3d\"}], \"parcoords\": [{\"line\": {\"colorbar\": {\"outlinewidth\": 0, \"ticks\": \"\"}}, \"type\": \"parcoords\"}], \"pie\": [{\"automargin\": true, \"type\": \"pie\"}], \"scatter\": [{\"marker\": {\"colorbar\": {\"outlinewidth\": 0, \"ticks\": \"\"}}, \"type\": \"scatter\"}], \"scatter3d\": [{\"line\": {\"colorbar\": {\"outlinewidth\": 0, \"ticks\": \"\"}}, \"marker\": {\"colorbar\": {\"outlinewidth\": 0, \"ticks\": \"\"}}, \"type\": \"scatter3d\"}], \"scattercarpet\": [{\"marker\": {\"colorbar\": {\"outlinewidth\": 0, \"ticks\": \"\"}}, \"type\": \"scattercarpet\"}], \"scattergeo\": [{\"marker\": {\"colorbar\": {\"outlinewidth\": 0, \"ticks\": \"\"}}, \"type\": \"scattergeo\"}], \"scattergl\": [{\"marker\": {\"colorbar\": {\"outlinewidth\": 0, \"ticks\": \"\"}}, \"type\": \"scattergl\"}], \"scattermapbox\": [{\"marker\": {\"colorbar\": {\"outlinewidth\": 0, \"ticks\": \"\"}}, \"type\": \"scattermapbox\"}], \"scatterpolar\": [{\"marker\": {\"colorbar\": {\"outlinewidth\": 0, \"ticks\": \"\"}}, \"type\": \"scatterpolar\"}], \"scatterpolargl\": [{\"marker\": {\"colorbar\": {\"outlinewidth\": 0, \"ticks\": \"\"}}, \"type\": \"scatterpolargl\"}], \"scatterternary\": [{\"marker\": {\"colorbar\": {\"outlinewidth\": 0, \"ticks\": \"\"}}, \"type\": \"scatterternary\"}], \"surface\": [{\"colorbar\": {\"outlinewidth\": 0, \"ticks\": \"\"}, \"colorscale\": [[0.0, \"#0d0887\"], [0.1111111111111111, \"#46039f\"], [0.2222222222222222, \"#7201a8\"], [0.3333333333333333, \"#9c179e\"], [0.4444444444444444, \"#bd3786\"], [0.5555555555555556, \"#d8576b\"], [0.6666666666666666, \"#ed7953\"], [0.7777777777777778, \"#fb9f3a\"], [0.8888888888888888, \"#fdca26\"], [1.0, \"#f0f921\"]], \"type\": \"surface\"}], \"table\": [{\"cells\": {\"fill\": {\"color\": \"#EBF0F8\"}, \"line\": {\"color\": \"white\"}}, \"header\": {\"fill\": {\"color\": \"#C8D4E3\"}, \"line\": {\"color\": \"white\"}}, \"type\": \"table\"}]}, \"layout\": {\"annotationdefaults\": {\"arrowcolor\": \"#2a3f5f\", \"arrowhead\": 0, \"arrowwidth\": 1}, \"coloraxis\": {\"colorbar\": {\"outlinewidth\": 0, \"ticks\": \"\"}}, \"colorscale\": {\"diverging\": [[0, \"#8e0152\"], [0.1, \"#c51b7d\"], [0.2, \"#de77ae\"], [0.3, \"#f1b6da\"], [0.4, \"#fde0ef\"], [0.5, \"#f7f7f7\"], [0.6, \"#e6f5d0\"], [0.7, \"#b8e186\"], [0.8, \"#7fbc41\"], [0.9, \"#4d9221\"], [1, \"#276419\"]], \"sequential\": [[0.0, \"#0d0887\"], [0.1111111111111111, \"#46039f\"], [0.2222222222222222, \"#7201a8\"], [0.3333333333333333, \"#9c179e\"], [0.4444444444444444, \"#bd3786\"], [0.5555555555555556, \"#d8576b\"], [0.6666666666666666, \"#ed7953\"], [0.7777777777777778, \"#fb9f3a\"], [0.8888888888888888, \"#fdca26\"], [1.0, \"#f0f921\"]], \"sequentialminus\": [[0.0, \"#0d0887\"], [0.1111111111111111, \"#46039f\"], [0.2222222222222222, \"#7201a8\"], [0.3333333333333333, \"#9c179e\"], [0.4444444444444444, \"#bd3786\"], [0.5555555555555556, \"#d8576b\"], [0.6666666666666666, \"#ed7953\"], [0.7777777777777778, \"#fb9f3a\"], [0.8888888888888888, \"#fdca26\"], [1.0, \"#f0f921\"]]}, \"colorway\": [\"#636efa\", \"#EF553B\", \"#00cc96\", \"#ab63fa\", \"#FFA15A\", \"#19d3f3\", \"#FF6692\", \"#B6E880\", \"#FF97FF\", \"#FECB52\"], \"font\": {\"color\": \"#2a3f5f\"}, \"geo\": {\"bgcolor\": \"white\", \"lakecolor\": \"white\", \"landcolor\": \"#E5ECF6\", \"showlakes\": true, \"showland\": true, \"subunitcolor\": \"white\"}, \"hoverlabel\": {\"align\": \"left\"}, \"hovermode\": \"closest\", \"mapbox\": {\"style\": \"light\"}, \"paper_bgcolor\": \"white\", \"plot_bgcolor\": \"#E5ECF6\", \"polar\": {\"angularaxis\": {\"gridcolor\": \"white\", \"linecolor\": \"white\", \"ticks\": \"\"}, \"bgcolor\": \"#E5ECF6\", \"radialaxis\": {\"gridcolor\": \"white\", \"linecolor\": \"white\", \"ticks\": \"\"}}, \"scene\": {\"xaxis\": {\"backgroundcolor\": \"#E5ECF6\", \"gridcolor\": \"white\", \"gridwidth\": 2, \"linecolor\": \"white\", \"showbackground\": true, \"ticks\": \"\", \"zerolinecolor\": \"white\"}, \"yaxis\": {\"backgroundcolor\": \"#E5ECF6\", \"gridcolor\": \"white\", \"gridwidth\": 2, \"linecolor\": \"white\", \"showbackground\": true, \"ticks\": \"\", \"zerolinecolor\": \"white\"}, \"zaxis\": {\"backgroundcolor\": \"#E5ECF6\", \"gridcolor\": \"white\", \"gridwidth\": 2, \"linecolor\": \"white\", \"showbackground\": true, \"ticks\": \"\", \"zerolinecolor\": \"white\"}}, \"shapedefaults\": {\"line\": {\"color\": \"#2a3f5f\"}}, \"ternary\": {\"aaxis\": {\"gridcolor\": \"white\", \"linecolor\": \"white\", \"ticks\": \"\"}, \"baxis\": {\"gridcolor\": \"white\", \"linecolor\": \"white\", \"ticks\": \"\"}, \"bgcolor\": \"#E5ECF6\", \"caxis\": {\"gridcolor\": \"white\", \"linecolor\": \"white\", \"ticks\": \"\"}}, \"title\": {\"x\": 0.05}, \"xaxis\": {\"automargin\": true, \"gridcolor\": \"white\", \"linecolor\": \"white\", \"ticks\": \"\", \"title\": {\"standoff\": 15}, \"zerolinecolor\": \"white\", \"zerolinewidth\": 2}, \"yaxis\": {\"automargin\": true, \"gridcolor\": \"white\", \"linecolor\": \"white\", \"ticks\": \"\", \"title\": {\"standoff\": 15}, \"zerolinecolor\": \"white\", \"zerolinewidth\": 2}}}, \"title\": {\"text\": \"Delta magnetization\"}},\n",
       "                        {\"responsive\": true}\n",
       "                    ).then(function(){\n",
       "                            \n",
       "var gd = document.getElementById('0c9352d8-690e-408d-8df8-52d54ca31491');\n",
       "var x = new MutationObserver(function (mutations, observer) {{\n",
       "        var display = window.getComputedStyle(gd).display;\n",
       "        if (!display || display === 'none') {{\n",
       "            console.log([gd, 'removed!']);\n",
       "            Plotly.purge(gd);\n",
       "            observer.disconnect();\n",
       "        }}\n",
       "}});\n",
       "\n",
       "// Listen for the removal of the full notebook cells\n",
       "var notebookContainer = gd.closest('#notebook-container');\n",
       "if (notebookContainer) {{\n",
       "    x.observe(notebookContainer, {childList: true});\n",
       "}}\n",
       "\n",
       "// Listen for the clearing of the current output cell\n",
       "var outputEl = gd.closest('.output');\n",
       "if (outputEl) {{\n",
       "    x.observe(outputEl, {childList: true});\n",
       "}}\n",
       "\n",
       "                        })\n",
       "                };\n",
       "                });\n",
       "            </script>\n",
       "        </div>"
      ]
     },
     "metadata": {},
     "output_type": "display_data"
    }
   ],
   "source": [
    "# 막대 그래프 그리기\n",
    "trace1 = go.Bar(x = df['formula'], y = df['OOH_dmag'], name = 'OOH')\n",
    "trace2 = go.Bar(x = df['formula'], y = df['O_dmag'], name = 'O')\n",
    "trace3 = go.Bar(x = df['formula'], y = df['OH_dmag'], name = 'OH')\n",
    "\n",
    "\n",
    "data = [trace1, trace2, trace3]\n",
    "layout = go.Layout(title = 'Delta magnetization')\n",
    "fig = go.Figure(data = data, layout = layout)\n",
    "pyo.iplot(fig)"
   ]
  },
  {
   "cell_type": "code",
   "execution_count": 116,
   "metadata": {},
   "outputs": [
    {
     "data": {
      "application/vnd.plotly.v1+json": {
       "config": {
        "linkText": "Export to plot.ly",
        "plotlyServerURL": "https://plot.ly",
        "showLink": false
       },
       "data": [
        {
         "name": "OOH",
         "type": "bar",
         "x": [
          "SrTcO3",
          "BaFeO3",
          "BaMoO3",
          "KTaO3",
          "BaZrO3",
          "SrFeO3",
          "KTcO3",
          "NaTcO3",
          "BaHfO3",
          "SrTiO3",
          "SrCuO3",
          "KNbO3",
          "NaTaO3",
          "BaScO3",
          "BaPdO3",
          "BaTaO3",
          "SrHfO3",
          "NaOsO3",
          "TlTcO3",
          "KReO3"
         ],
         "y": [
          2.136,
          4.572,
          2.674,
          2.23,
          4.361,
          4.595,
          2.886,
          2.804,
          4.192,
          4.287,
          4.662,
          2.953,
          2.078,
          4.632,
          4.32,
          "NaN",
          4.115,
          "NaN",
          2.755,
          2.194
         ]
        },
        {
         "name": "O",
         "type": "bar",
         "x": [
          "SrTcO3",
          "BaFeO3",
          "BaMoO3",
          "KTaO3",
          "BaZrO3",
          "SrFeO3",
          "KTcO3",
          "NaTcO3",
          "BaHfO3",
          "SrTiO3",
          "SrCuO3",
          "KNbO3",
          "NaTaO3",
          "BaScO3",
          "BaPdO3",
          "BaTaO3",
          "SrHfO3",
          "NaOsO3",
          "TlTcO3",
          "KReO3"
         ],
         "y": [
          -0.727,
          4.432,
          -0.873,
          -0.634,
          4.123,
          4.586,
          0.426,
          0.281,
          4.003,
          3.869,
          4.21,
          0.445,
          -0.919,
          4.68,
          3.435,
          -2.591,
          3.932,
          0.557,
          0.293,
          -0.564
         ]
        },
        {
         "name": "OH",
         "type": "bar",
         "x": [
          "SrTcO3",
          "BaFeO3",
          "BaMoO3",
          "KTaO3",
          "BaZrO3",
          "SrFeO3",
          "KTcO3",
          "NaTcO3",
          "BaHfO3",
          "SrTiO3",
          "SrCuO3",
          "KNbO3",
          "NaTaO3",
          "BaScO3",
          "BaPdO3",
          "BaTaO3",
          "SrHfO3",
          "NaOsO3",
          "TlTcO3",
          "KReO3"
         ],
         "y": [
          -1.077,
          1.729,
          -0.597,
          -1.296,
          0.995,
          1.731,
          -0.255,
          -0.362,
          0.896,
          0.981,
          1.712,
          -0.512,
          -1.424,
          1.896,
          1.405,
          -2.181,
          0.786,
          "NaN",
          -0.326,
          -1.028
         ]
        }
       ],
       "layout": {
        "template": {
         "data": {
          "bar": [
           {
            "error_x": {
             "color": "#2a3f5f"
            },
            "error_y": {
             "color": "#2a3f5f"
            },
            "marker": {
             "line": {
              "color": "#E5ECF6",
              "width": 0.5
             }
            },
            "type": "bar"
           }
          ],
          "barpolar": [
           {
            "marker": {
             "line": {
              "color": "#E5ECF6",
              "width": 0.5
             }
            },
            "type": "barpolar"
           }
          ],
          "carpet": [
           {
            "aaxis": {
             "endlinecolor": "#2a3f5f",
             "gridcolor": "white",
             "linecolor": "white",
             "minorgridcolor": "white",
             "startlinecolor": "#2a3f5f"
            },
            "baxis": {
             "endlinecolor": "#2a3f5f",
             "gridcolor": "white",
             "linecolor": "white",
             "minorgridcolor": "white",
             "startlinecolor": "#2a3f5f"
            },
            "type": "carpet"
           }
          ],
          "choropleth": [
           {
            "colorbar": {
             "outlinewidth": 0,
             "ticks": ""
            },
            "type": "choropleth"
           }
          ],
          "contour": [
           {
            "colorbar": {
             "outlinewidth": 0,
             "ticks": ""
            },
            "colorscale": [
             [
              0,
              "#0d0887"
             ],
             [
              0.1111111111111111,
              "#46039f"
             ],
             [
              0.2222222222222222,
              "#7201a8"
             ],
             [
              0.3333333333333333,
              "#9c179e"
             ],
             [
              0.4444444444444444,
              "#bd3786"
             ],
             [
              0.5555555555555556,
              "#d8576b"
             ],
             [
              0.6666666666666666,
              "#ed7953"
             ],
             [
              0.7777777777777778,
              "#fb9f3a"
             ],
             [
              0.8888888888888888,
              "#fdca26"
             ],
             [
              1,
              "#f0f921"
             ]
            ],
            "type": "contour"
           }
          ],
          "contourcarpet": [
           {
            "colorbar": {
             "outlinewidth": 0,
             "ticks": ""
            },
            "type": "contourcarpet"
           }
          ],
          "heatmap": [
           {
            "colorbar": {
             "outlinewidth": 0,
             "ticks": ""
            },
            "colorscale": [
             [
              0,
              "#0d0887"
             ],
             [
              0.1111111111111111,
              "#46039f"
             ],
             [
              0.2222222222222222,
              "#7201a8"
             ],
             [
              0.3333333333333333,
              "#9c179e"
             ],
             [
              0.4444444444444444,
              "#bd3786"
             ],
             [
              0.5555555555555556,
              "#d8576b"
             ],
             [
              0.6666666666666666,
              "#ed7953"
             ],
             [
              0.7777777777777778,
              "#fb9f3a"
             ],
             [
              0.8888888888888888,
              "#fdca26"
             ],
             [
              1,
              "#f0f921"
             ]
            ],
            "type": "heatmap"
           }
          ],
          "heatmapgl": [
           {
            "colorbar": {
             "outlinewidth": 0,
             "ticks": ""
            },
            "colorscale": [
             [
              0,
              "#0d0887"
             ],
             [
              0.1111111111111111,
              "#46039f"
             ],
             [
              0.2222222222222222,
              "#7201a8"
             ],
             [
              0.3333333333333333,
              "#9c179e"
             ],
             [
              0.4444444444444444,
              "#bd3786"
             ],
             [
              0.5555555555555556,
              "#d8576b"
             ],
             [
              0.6666666666666666,
              "#ed7953"
             ],
             [
              0.7777777777777778,
              "#fb9f3a"
             ],
             [
              0.8888888888888888,
              "#fdca26"
             ],
             [
              1,
              "#f0f921"
             ]
            ],
            "type": "heatmapgl"
           }
          ],
          "histogram": [
           {
            "marker": {
             "colorbar": {
              "outlinewidth": 0,
              "ticks": ""
             }
            },
            "type": "histogram"
           }
          ],
          "histogram2d": [
           {
            "colorbar": {
             "outlinewidth": 0,
             "ticks": ""
            },
            "colorscale": [
             [
              0,
              "#0d0887"
             ],
             [
              0.1111111111111111,
              "#46039f"
             ],
             [
              0.2222222222222222,
              "#7201a8"
             ],
             [
              0.3333333333333333,
              "#9c179e"
             ],
             [
              0.4444444444444444,
              "#bd3786"
             ],
             [
              0.5555555555555556,
              "#d8576b"
             ],
             [
              0.6666666666666666,
              "#ed7953"
             ],
             [
              0.7777777777777778,
              "#fb9f3a"
             ],
             [
              0.8888888888888888,
              "#fdca26"
             ],
             [
              1,
              "#f0f921"
             ]
            ],
            "type": "histogram2d"
           }
          ],
          "histogram2dcontour": [
           {
            "colorbar": {
             "outlinewidth": 0,
             "ticks": ""
            },
            "colorscale": [
             [
              0,
              "#0d0887"
             ],
             [
              0.1111111111111111,
              "#46039f"
             ],
             [
              0.2222222222222222,
              "#7201a8"
             ],
             [
              0.3333333333333333,
              "#9c179e"
             ],
             [
              0.4444444444444444,
              "#bd3786"
             ],
             [
              0.5555555555555556,
              "#d8576b"
             ],
             [
              0.6666666666666666,
              "#ed7953"
             ],
             [
              0.7777777777777778,
              "#fb9f3a"
             ],
             [
              0.8888888888888888,
              "#fdca26"
             ],
             [
              1,
              "#f0f921"
             ]
            ],
            "type": "histogram2dcontour"
           }
          ],
          "mesh3d": [
           {
            "colorbar": {
             "outlinewidth": 0,
             "ticks": ""
            },
            "type": "mesh3d"
           }
          ],
          "parcoords": [
           {
            "line": {
             "colorbar": {
              "outlinewidth": 0,
              "ticks": ""
             }
            },
            "type": "parcoords"
           }
          ],
          "pie": [
           {
            "automargin": true,
            "type": "pie"
           }
          ],
          "scatter": [
           {
            "marker": {
             "colorbar": {
              "outlinewidth": 0,
              "ticks": ""
             }
            },
            "type": "scatter"
           }
          ],
          "scatter3d": [
           {
            "line": {
             "colorbar": {
              "outlinewidth": 0,
              "ticks": ""
             }
            },
            "marker": {
             "colorbar": {
              "outlinewidth": 0,
              "ticks": ""
             }
            },
            "type": "scatter3d"
           }
          ],
          "scattercarpet": [
           {
            "marker": {
             "colorbar": {
              "outlinewidth": 0,
              "ticks": ""
             }
            },
            "type": "scattercarpet"
           }
          ],
          "scattergeo": [
           {
            "marker": {
             "colorbar": {
              "outlinewidth": 0,
              "ticks": ""
             }
            },
            "type": "scattergeo"
           }
          ],
          "scattergl": [
           {
            "marker": {
             "colorbar": {
              "outlinewidth": 0,
              "ticks": ""
             }
            },
            "type": "scattergl"
           }
          ],
          "scattermapbox": [
           {
            "marker": {
             "colorbar": {
              "outlinewidth": 0,
              "ticks": ""
             }
            },
            "type": "scattermapbox"
           }
          ],
          "scatterpolar": [
           {
            "marker": {
             "colorbar": {
              "outlinewidth": 0,
              "ticks": ""
             }
            },
            "type": "scatterpolar"
           }
          ],
          "scatterpolargl": [
           {
            "marker": {
             "colorbar": {
              "outlinewidth": 0,
              "ticks": ""
             }
            },
            "type": "scatterpolargl"
           }
          ],
          "scatterternary": [
           {
            "marker": {
             "colorbar": {
              "outlinewidth": 0,
              "ticks": ""
             }
            },
            "type": "scatterternary"
           }
          ],
          "surface": [
           {
            "colorbar": {
             "outlinewidth": 0,
             "ticks": ""
            },
            "colorscale": [
             [
              0,
              "#0d0887"
             ],
             [
              0.1111111111111111,
              "#46039f"
             ],
             [
              0.2222222222222222,
              "#7201a8"
             ],
             [
              0.3333333333333333,
              "#9c179e"
             ],
             [
              0.4444444444444444,
              "#bd3786"
             ],
             [
              0.5555555555555556,
              "#d8576b"
             ],
             [
              0.6666666666666666,
              "#ed7953"
             ],
             [
              0.7777777777777778,
              "#fb9f3a"
             ],
             [
              0.8888888888888888,
              "#fdca26"
             ],
             [
              1,
              "#f0f921"
             ]
            ],
            "type": "surface"
           }
          ],
          "table": [
           {
            "cells": {
             "fill": {
              "color": "#EBF0F8"
             },
             "line": {
              "color": "white"
             }
            },
            "header": {
             "fill": {
              "color": "#C8D4E3"
             },
             "line": {
              "color": "white"
             }
            },
            "type": "table"
           }
          ]
         },
         "layout": {
          "annotationdefaults": {
           "arrowcolor": "#2a3f5f",
           "arrowhead": 0,
           "arrowwidth": 1
          },
          "coloraxis": {
           "colorbar": {
            "outlinewidth": 0,
            "ticks": ""
           }
          },
          "colorscale": {
           "diverging": [
            [
             0,
             "#8e0152"
            ],
            [
             0.1,
             "#c51b7d"
            ],
            [
             0.2,
             "#de77ae"
            ],
            [
             0.3,
             "#f1b6da"
            ],
            [
             0.4,
             "#fde0ef"
            ],
            [
             0.5,
             "#f7f7f7"
            ],
            [
             0.6,
             "#e6f5d0"
            ],
            [
             0.7,
             "#b8e186"
            ],
            [
             0.8,
             "#7fbc41"
            ],
            [
             0.9,
             "#4d9221"
            ],
            [
             1,
             "#276419"
            ]
           ],
           "sequential": [
            [
             0,
             "#0d0887"
            ],
            [
             0.1111111111111111,
             "#46039f"
            ],
            [
             0.2222222222222222,
             "#7201a8"
            ],
            [
             0.3333333333333333,
             "#9c179e"
            ],
            [
             0.4444444444444444,
             "#bd3786"
            ],
            [
             0.5555555555555556,
             "#d8576b"
            ],
            [
             0.6666666666666666,
             "#ed7953"
            ],
            [
             0.7777777777777778,
             "#fb9f3a"
            ],
            [
             0.8888888888888888,
             "#fdca26"
            ],
            [
             1,
             "#f0f921"
            ]
           ],
           "sequentialminus": [
            [
             0,
             "#0d0887"
            ],
            [
             0.1111111111111111,
             "#46039f"
            ],
            [
             0.2222222222222222,
             "#7201a8"
            ],
            [
             0.3333333333333333,
             "#9c179e"
            ],
            [
             0.4444444444444444,
             "#bd3786"
            ],
            [
             0.5555555555555556,
             "#d8576b"
            ],
            [
             0.6666666666666666,
             "#ed7953"
            ],
            [
             0.7777777777777778,
             "#fb9f3a"
            ],
            [
             0.8888888888888888,
             "#fdca26"
            ],
            [
             1,
             "#f0f921"
            ]
           ]
          },
          "colorway": [
           "#636efa",
           "#EF553B",
           "#00cc96",
           "#ab63fa",
           "#FFA15A",
           "#19d3f3",
           "#FF6692",
           "#B6E880",
           "#FF97FF",
           "#FECB52"
          ],
          "font": {
           "color": "#2a3f5f"
          },
          "geo": {
           "bgcolor": "white",
           "lakecolor": "white",
           "landcolor": "#E5ECF6",
           "showlakes": true,
           "showland": true,
           "subunitcolor": "white"
          },
          "hoverlabel": {
           "align": "left"
          },
          "hovermode": "closest",
          "mapbox": {
           "style": "light"
          },
          "paper_bgcolor": "white",
          "plot_bgcolor": "#E5ECF6",
          "polar": {
           "angularaxis": {
            "gridcolor": "white",
            "linecolor": "white",
            "ticks": ""
           },
           "bgcolor": "#E5ECF6",
           "radialaxis": {
            "gridcolor": "white",
            "linecolor": "white",
            "ticks": ""
           }
          },
          "scene": {
           "xaxis": {
            "backgroundcolor": "#E5ECF6",
            "gridcolor": "white",
            "gridwidth": 2,
            "linecolor": "white",
            "showbackground": true,
            "ticks": "",
            "zerolinecolor": "white"
           },
           "yaxis": {
            "backgroundcolor": "#E5ECF6",
            "gridcolor": "white",
            "gridwidth": 2,
            "linecolor": "white",
            "showbackground": true,
            "ticks": "",
            "zerolinecolor": "white"
           },
           "zaxis": {
            "backgroundcolor": "#E5ECF6",
            "gridcolor": "white",
            "gridwidth": 2,
            "linecolor": "white",
            "showbackground": true,
            "ticks": "",
            "zerolinecolor": "white"
           }
          },
          "shapedefaults": {
           "line": {
            "color": "#2a3f5f"
           }
          },
          "ternary": {
           "aaxis": {
            "gridcolor": "white",
            "linecolor": "white",
            "ticks": ""
           },
           "baxis": {
            "gridcolor": "white",
            "linecolor": "white",
            "ticks": ""
           },
           "bgcolor": "#E5ECF6",
           "caxis": {
            "gridcolor": "white",
            "linecolor": "white",
            "ticks": ""
           }
          },
          "title": {
           "x": 0.05
          },
          "xaxis": {
           "automargin": true,
           "gridcolor": "white",
           "linecolor": "white",
           "ticks": "",
           "title": {
            "standoff": 15
           },
           "zerolinecolor": "white",
           "zerolinewidth": 2
          },
          "yaxis": {
           "automargin": true,
           "gridcolor": "white",
           "linecolor": "white",
           "ticks": "",
           "title": {
            "standoff": 15
           },
           "zerolinecolor": "white",
           "zerolinewidth": 2
          }
         }
        },
        "title": {
         "font": {
          "size": 25
         },
         "text": "E_ads"
        }
       }
      },
      "text/html": [
       "<div>\n",
       "        \n",
       "        \n",
       "            <div id=\"6e3f12a9-06bc-4519-85e3-9d740cdce1e4\" class=\"plotly-graph-div\" style=\"height:525px; width:100%;\"></div>\n",
       "            <script type=\"text/javascript\">\n",
       "                require([\"plotly\"], function(Plotly) {\n",
       "                    window.PLOTLYENV=window.PLOTLYENV || {};\n",
       "                    \n",
       "                if (document.getElementById(\"6e3f12a9-06bc-4519-85e3-9d740cdce1e4\")) {\n",
       "                    Plotly.newPlot(\n",
       "                        '6e3f12a9-06bc-4519-85e3-9d740cdce1e4',\n",
       "                        [{\"name\": \"OOH\", \"type\": \"bar\", \"x\": [\"SrTcO3\", \"BaFeO3\", \"BaMoO3\", \"KTaO3\", \"BaZrO3\", \"SrFeO3\", \"KTcO3\", \"NaTcO3\", \"BaHfO3\", \"SrTiO3\", \"SrCuO3\", \"KNbO3\", \"NaTaO3\", \"BaScO3\", \"BaPdO3\", \"BaTaO3\", \"SrHfO3\", \"NaOsO3\", \"TlTcO3\", \"KReO3\"], \"y\": [2.136, 4.572, 2.674, 2.23, 4.361, 4.595, 2.886, 2.804, 4.192, 4.287, 4.662, 2.953, 2.078, 4.632, 4.32, \"NaN\", 4.115, \"NaN\", 2.755, 2.194]}, {\"name\": \"O\", \"type\": \"bar\", \"x\": [\"SrTcO3\", \"BaFeO3\", \"BaMoO3\", \"KTaO3\", \"BaZrO3\", \"SrFeO3\", \"KTcO3\", \"NaTcO3\", \"BaHfO3\", \"SrTiO3\", \"SrCuO3\", \"KNbO3\", \"NaTaO3\", \"BaScO3\", \"BaPdO3\", \"BaTaO3\", \"SrHfO3\", \"NaOsO3\", \"TlTcO3\", \"KReO3\"], \"y\": [-0.727, 4.432, -0.873, -0.634, 4.123, 4.586, 0.426, 0.281, 4.003, 3.869, 4.21, 0.445, -0.919, 4.68, 3.435, -2.591, 3.932, 0.557, 0.293, -0.564]}, {\"name\": \"OH\", \"type\": \"bar\", \"x\": [\"SrTcO3\", \"BaFeO3\", \"BaMoO3\", \"KTaO3\", \"BaZrO3\", \"SrFeO3\", \"KTcO3\", \"NaTcO3\", \"BaHfO3\", \"SrTiO3\", \"SrCuO3\", \"KNbO3\", \"NaTaO3\", \"BaScO3\", \"BaPdO3\", \"BaTaO3\", \"SrHfO3\", \"NaOsO3\", \"TlTcO3\", \"KReO3\"], \"y\": [-1.077, 1.729, -0.597, -1.296, 0.995, 1.731, -0.255, -0.362, 0.896, 0.981, 1.712, -0.512, -1.424, 1.896, 1.405, -2.181, 0.786, \"NaN\", -0.326, -1.028]}],\n",
       "                        {\"template\": {\"data\": {\"bar\": [{\"error_x\": {\"color\": \"#2a3f5f\"}, \"error_y\": {\"color\": \"#2a3f5f\"}, \"marker\": {\"line\": {\"color\": \"#E5ECF6\", \"width\": 0.5}}, \"type\": \"bar\"}], \"barpolar\": [{\"marker\": {\"line\": {\"color\": \"#E5ECF6\", \"width\": 0.5}}, \"type\": \"barpolar\"}], \"carpet\": [{\"aaxis\": {\"endlinecolor\": \"#2a3f5f\", \"gridcolor\": \"white\", \"linecolor\": \"white\", \"minorgridcolor\": \"white\", \"startlinecolor\": \"#2a3f5f\"}, \"baxis\": {\"endlinecolor\": \"#2a3f5f\", \"gridcolor\": \"white\", \"linecolor\": \"white\", \"minorgridcolor\": \"white\", \"startlinecolor\": \"#2a3f5f\"}, \"type\": \"carpet\"}], \"choropleth\": [{\"colorbar\": {\"outlinewidth\": 0, \"ticks\": \"\"}, \"type\": \"choropleth\"}], \"contour\": [{\"colorbar\": {\"outlinewidth\": 0, \"ticks\": \"\"}, \"colorscale\": [[0.0, \"#0d0887\"], [0.1111111111111111, \"#46039f\"], [0.2222222222222222, \"#7201a8\"], [0.3333333333333333, \"#9c179e\"], [0.4444444444444444, \"#bd3786\"], [0.5555555555555556, \"#d8576b\"], [0.6666666666666666, \"#ed7953\"], [0.7777777777777778, \"#fb9f3a\"], [0.8888888888888888, \"#fdca26\"], [1.0, \"#f0f921\"]], \"type\": \"contour\"}], \"contourcarpet\": [{\"colorbar\": {\"outlinewidth\": 0, \"ticks\": \"\"}, \"type\": \"contourcarpet\"}], \"heatmap\": [{\"colorbar\": {\"outlinewidth\": 0, \"ticks\": \"\"}, \"colorscale\": [[0.0, \"#0d0887\"], [0.1111111111111111, \"#46039f\"], [0.2222222222222222, \"#7201a8\"], [0.3333333333333333, \"#9c179e\"], [0.4444444444444444, \"#bd3786\"], [0.5555555555555556, \"#d8576b\"], [0.6666666666666666, \"#ed7953\"], [0.7777777777777778, \"#fb9f3a\"], [0.8888888888888888, \"#fdca26\"], [1.0, \"#f0f921\"]], \"type\": \"heatmap\"}], \"heatmapgl\": [{\"colorbar\": {\"outlinewidth\": 0, \"ticks\": \"\"}, \"colorscale\": [[0.0, \"#0d0887\"], [0.1111111111111111, \"#46039f\"], [0.2222222222222222, \"#7201a8\"], [0.3333333333333333, \"#9c179e\"], [0.4444444444444444, \"#bd3786\"], [0.5555555555555556, \"#d8576b\"], [0.6666666666666666, \"#ed7953\"], [0.7777777777777778, \"#fb9f3a\"], [0.8888888888888888, \"#fdca26\"], [1.0, \"#f0f921\"]], \"type\": \"heatmapgl\"}], \"histogram\": [{\"marker\": {\"colorbar\": {\"outlinewidth\": 0, \"ticks\": \"\"}}, \"type\": \"histogram\"}], \"histogram2d\": [{\"colorbar\": {\"outlinewidth\": 0, \"ticks\": \"\"}, \"colorscale\": [[0.0, \"#0d0887\"], [0.1111111111111111, \"#46039f\"], [0.2222222222222222, \"#7201a8\"], [0.3333333333333333, \"#9c179e\"], [0.4444444444444444, \"#bd3786\"], [0.5555555555555556, \"#d8576b\"], [0.6666666666666666, \"#ed7953\"], [0.7777777777777778, \"#fb9f3a\"], [0.8888888888888888, \"#fdca26\"], [1.0, \"#f0f921\"]], \"type\": \"histogram2d\"}], \"histogram2dcontour\": [{\"colorbar\": {\"outlinewidth\": 0, \"ticks\": \"\"}, \"colorscale\": [[0.0, \"#0d0887\"], [0.1111111111111111, \"#46039f\"], [0.2222222222222222, \"#7201a8\"], [0.3333333333333333, \"#9c179e\"], [0.4444444444444444, \"#bd3786\"], [0.5555555555555556, \"#d8576b\"], [0.6666666666666666, \"#ed7953\"], [0.7777777777777778, \"#fb9f3a\"], [0.8888888888888888, \"#fdca26\"], [1.0, \"#f0f921\"]], \"type\": \"histogram2dcontour\"}], \"mesh3d\": [{\"colorbar\": {\"outlinewidth\": 0, \"ticks\": \"\"}, \"type\": \"mesh3d\"}], \"parcoords\": [{\"line\": {\"colorbar\": {\"outlinewidth\": 0, \"ticks\": \"\"}}, \"type\": \"parcoords\"}], \"pie\": [{\"automargin\": true, \"type\": \"pie\"}], \"scatter\": [{\"marker\": {\"colorbar\": {\"outlinewidth\": 0, \"ticks\": \"\"}}, \"type\": \"scatter\"}], \"scatter3d\": [{\"line\": {\"colorbar\": {\"outlinewidth\": 0, \"ticks\": \"\"}}, \"marker\": {\"colorbar\": {\"outlinewidth\": 0, \"ticks\": \"\"}}, \"type\": \"scatter3d\"}], \"scattercarpet\": [{\"marker\": {\"colorbar\": {\"outlinewidth\": 0, \"ticks\": \"\"}}, \"type\": \"scattercarpet\"}], \"scattergeo\": [{\"marker\": {\"colorbar\": {\"outlinewidth\": 0, \"ticks\": \"\"}}, \"type\": \"scattergeo\"}], \"scattergl\": [{\"marker\": {\"colorbar\": {\"outlinewidth\": 0, \"ticks\": \"\"}}, \"type\": \"scattergl\"}], \"scattermapbox\": [{\"marker\": {\"colorbar\": {\"outlinewidth\": 0, \"ticks\": \"\"}}, \"type\": \"scattermapbox\"}], \"scatterpolar\": [{\"marker\": {\"colorbar\": {\"outlinewidth\": 0, \"ticks\": \"\"}}, \"type\": \"scatterpolar\"}], \"scatterpolargl\": [{\"marker\": {\"colorbar\": {\"outlinewidth\": 0, \"ticks\": \"\"}}, \"type\": \"scatterpolargl\"}], \"scatterternary\": [{\"marker\": {\"colorbar\": {\"outlinewidth\": 0, \"ticks\": \"\"}}, \"type\": \"scatterternary\"}], \"surface\": [{\"colorbar\": {\"outlinewidth\": 0, \"ticks\": \"\"}, \"colorscale\": [[0.0, \"#0d0887\"], [0.1111111111111111, \"#46039f\"], [0.2222222222222222, \"#7201a8\"], [0.3333333333333333, \"#9c179e\"], [0.4444444444444444, \"#bd3786\"], [0.5555555555555556, \"#d8576b\"], [0.6666666666666666, \"#ed7953\"], [0.7777777777777778, \"#fb9f3a\"], [0.8888888888888888, \"#fdca26\"], [1.0, \"#f0f921\"]], \"type\": \"surface\"}], \"table\": [{\"cells\": {\"fill\": {\"color\": \"#EBF0F8\"}, \"line\": {\"color\": \"white\"}}, \"header\": {\"fill\": {\"color\": \"#C8D4E3\"}, \"line\": {\"color\": \"white\"}}, \"type\": \"table\"}]}, \"layout\": {\"annotationdefaults\": {\"arrowcolor\": \"#2a3f5f\", \"arrowhead\": 0, \"arrowwidth\": 1}, \"coloraxis\": {\"colorbar\": {\"outlinewidth\": 0, \"ticks\": \"\"}}, \"colorscale\": {\"diverging\": [[0, \"#8e0152\"], [0.1, \"#c51b7d\"], [0.2, \"#de77ae\"], [0.3, \"#f1b6da\"], [0.4, \"#fde0ef\"], [0.5, \"#f7f7f7\"], [0.6, \"#e6f5d0\"], [0.7, \"#b8e186\"], [0.8, \"#7fbc41\"], [0.9, \"#4d9221\"], [1, \"#276419\"]], \"sequential\": [[0.0, \"#0d0887\"], [0.1111111111111111, \"#46039f\"], [0.2222222222222222, \"#7201a8\"], [0.3333333333333333, \"#9c179e\"], [0.4444444444444444, \"#bd3786\"], [0.5555555555555556, \"#d8576b\"], [0.6666666666666666, \"#ed7953\"], [0.7777777777777778, \"#fb9f3a\"], [0.8888888888888888, \"#fdca26\"], [1.0, \"#f0f921\"]], \"sequentialminus\": [[0.0, \"#0d0887\"], [0.1111111111111111, \"#46039f\"], [0.2222222222222222, \"#7201a8\"], [0.3333333333333333, \"#9c179e\"], [0.4444444444444444, \"#bd3786\"], [0.5555555555555556, \"#d8576b\"], [0.6666666666666666, \"#ed7953\"], [0.7777777777777778, \"#fb9f3a\"], [0.8888888888888888, \"#fdca26\"], [1.0, \"#f0f921\"]]}, \"colorway\": [\"#636efa\", \"#EF553B\", \"#00cc96\", \"#ab63fa\", \"#FFA15A\", \"#19d3f3\", \"#FF6692\", \"#B6E880\", \"#FF97FF\", \"#FECB52\"], \"font\": {\"color\": \"#2a3f5f\"}, \"geo\": {\"bgcolor\": \"white\", \"lakecolor\": \"white\", \"landcolor\": \"#E5ECF6\", \"showlakes\": true, \"showland\": true, \"subunitcolor\": \"white\"}, \"hoverlabel\": {\"align\": \"left\"}, \"hovermode\": \"closest\", \"mapbox\": {\"style\": \"light\"}, \"paper_bgcolor\": \"white\", \"plot_bgcolor\": \"#E5ECF6\", \"polar\": {\"angularaxis\": {\"gridcolor\": \"white\", \"linecolor\": \"white\", \"ticks\": \"\"}, \"bgcolor\": \"#E5ECF6\", \"radialaxis\": {\"gridcolor\": \"white\", \"linecolor\": \"white\", \"ticks\": \"\"}}, \"scene\": {\"xaxis\": {\"backgroundcolor\": \"#E5ECF6\", \"gridcolor\": \"white\", \"gridwidth\": 2, \"linecolor\": \"white\", \"showbackground\": true, \"ticks\": \"\", \"zerolinecolor\": \"white\"}, \"yaxis\": {\"backgroundcolor\": \"#E5ECF6\", \"gridcolor\": \"white\", \"gridwidth\": 2, \"linecolor\": \"white\", \"showbackground\": true, \"ticks\": \"\", \"zerolinecolor\": \"white\"}, \"zaxis\": {\"backgroundcolor\": \"#E5ECF6\", \"gridcolor\": \"white\", \"gridwidth\": 2, \"linecolor\": \"white\", \"showbackground\": true, \"ticks\": \"\", \"zerolinecolor\": \"white\"}}, \"shapedefaults\": {\"line\": {\"color\": \"#2a3f5f\"}}, \"ternary\": {\"aaxis\": {\"gridcolor\": \"white\", \"linecolor\": \"white\", \"ticks\": \"\"}, \"baxis\": {\"gridcolor\": \"white\", \"linecolor\": \"white\", \"ticks\": \"\"}, \"bgcolor\": \"#E5ECF6\", \"caxis\": {\"gridcolor\": \"white\", \"linecolor\": \"white\", \"ticks\": \"\"}}, \"title\": {\"x\": 0.05}, \"xaxis\": {\"automargin\": true, \"gridcolor\": \"white\", \"linecolor\": \"white\", \"ticks\": \"\", \"title\": {\"standoff\": 15}, \"zerolinecolor\": \"white\", \"zerolinewidth\": 2}, \"yaxis\": {\"automargin\": true, \"gridcolor\": \"white\", \"linecolor\": \"white\", \"ticks\": \"\", \"title\": {\"standoff\": 15}, \"zerolinecolor\": \"white\", \"zerolinewidth\": 2}}}, \"title\": {\"font\": {\"size\": 25}, \"text\": \"E_ads\"}},\n",
       "                        {\"responsive\": true}\n",
       "                    ).then(function(){\n",
       "                            \n",
       "var gd = document.getElementById('6e3f12a9-06bc-4519-85e3-9d740cdce1e4');\n",
       "var x = new MutationObserver(function (mutations, observer) {{\n",
       "        var display = window.getComputedStyle(gd).display;\n",
       "        if (!display || display === 'none') {{\n",
       "            console.log([gd, 'removed!']);\n",
       "            Plotly.purge(gd);\n",
       "            observer.disconnect();\n",
       "        }}\n",
       "}});\n",
       "\n",
       "// Listen for the removal of the full notebook cells\n",
       "var notebookContainer = gd.closest('#notebook-container');\n",
       "if (notebookContainer) {{\n",
       "    x.observe(notebookContainer, {childList: true});\n",
       "}}\n",
       "\n",
       "// Listen for the clearing of the current output cell\n",
       "var outputEl = gd.closest('.output');\n",
       "if (outputEl) {{\n",
       "    x.observe(outputEl, {childList: true});\n",
       "}}\n",
       "\n",
       "                        })\n",
       "                };\n",
       "                });\n",
       "            </script>\n",
       "        </div>"
      ]
     },
     "metadata": {},
     "output_type": "display_data"
    }
   ],
   "source": [
    "# 막대 그래프 그리기\n",
    "trace1 = go.Bar(x = df['formula'], y = df['DE_OOH'], name = 'OOH')\n",
    "trace2 = go.Bar(x = df['formula'], y = df['DE_O'], name = 'O')\n",
    "trace3 = go.Bar(x = df['formula'], y = df['DE_OH'], name = 'OH')\n",
    "\n",
    "data = [trace1, trace2, trace3]\n",
    "layout = go.Layout(title = 'E_ads', titlefont = dict(size = 25))\n",
    "fig = go.Figure(data = data, layout = layout)\n",
    "pyo.iplot(fig)"
   ]
  },
  {
   "cell_type": "code",
   "execution_count": 202,
   "metadata": {},
   "outputs": [
    {
     "data": {
      "text/plain": [
       "Index(['formula', 'convg_bare', 'tot_E_bare', 'DE_bare', 'bare_mag',\n",
       "       'nsteps_bare', 'time_bare', 'convg_OOH', 'tot_E_OOH', 'DE_OOH',\n",
       "       'OOH_mag', 'OOH_dmag', 'nsteps_OOH', 'time_OOH', 'convg_O', 'tot_E_O',\n",
       "       'DE_O', 'O_mag', 'O_dmag', 'nsteps_O', 'time_O', 'convg_OH', 'tot_E_OH',\n",
       "       'DE_OH', 'OH_mag', 'OH_dmag', 'nsteps_OH', 'time_OH'],\n",
       "      dtype='object')"
      ]
     },
     "execution_count": 202,
     "metadata": {},
     "output_type": "execute_result"
    }
   ],
   "source": [
    "df.columns"
   ]
  },
  {
   "cell_type": "code",
   "execution_count": 117,
   "metadata": {},
   "outputs": [
    {
     "data": {
      "application/vnd.plotly.v1+json": {
       "config": {
        "linkText": "Export to plot.ly",
        "plotlyServerURL": "https://plot.ly",
        "showLink": false
       },
       "data": [
        {
         "name": "bare",
         "type": "bar",
         "x": [
          "SrTcO3",
          "BaFeO3",
          "BaMoO3",
          "KTaO3",
          "BaZrO3",
          "SrFeO3",
          "KTcO3",
          "NaTcO3",
          "BaHfO3",
          "SrTiO3",
          "SrCuO3",
          "KNbO3",
          "NaTaO3",
          "BaScO3",
          "BaPdO3",
          "BaTaO3",
          "SrHfO3",
          "NaOsO3",
          "TlTcO3",
          "KReO3"
         ],
         "y": [
          0.231,
          0.214,
          0.213,
          0.182,
          0.216,
          0.212,
          0.202,
          2.156,
          0.202,
          0.174,
          0.223,
          0.189,
          2.156,
          0.233,
          0.219,
          0.202,
          0.212,
          8.976,
          0.264,
          0.296
         ]
        },
        {
         "name": "OOH",
         "type": "bar",
         "x": [
          "SrTcO3",
          "BaFeO3",
          "BaMoO3",
          "KTaO3",
          "BaZrO3",
          "SrFeO3",
          "KTcO3",
          "NaTcO3",
          "BaHfO3",
          "SrTiO3",
          "SrCuO3",
          "KNbO3",
          "NaTaO3",
          "BaScO3",
          "BaPdO3",
          "BaTaO3",
          "SrHfO3",
          "NaOsO3",
          "TlTcO3",
          "KReO3"
         ],
         "y": [
          8.484,
          6.655,
          21.487,
          8.188,
          9.562,
          11.628,
          15.333,
          11.938,
          4.211,
          5.406,
          13.15,
          12.238,
          6.203,
          12.059,
          9.694,
          "NaN",
          4.391,
          "NaN",
          18.649,
          12.691
         ]
        },
        {
         "name": "O",
         "type": "bar",
         "x": [
          "SrTcO3",
          "BaFeO3",
          "BaMoO3",
          "KTaO3",
          "BaZrO3",
          "SrFeO3",
          "KTcO3",
          "NaTcO3",
          "BaHfO3",
          "SrTiO3",
          "SrCuO3",
          "KNbO3",
          "NaTaO3",
          "BaScO3",
          "BaPdO3",
          "BaTaO3",
          "SrHfO3",
          "NaOsO3",
          "TlTcO3",
          "KReO3"
         ],
         "y": [
          3.963,
          7.076,
          4.014,
          5.913,
          5.219,
          6.255,
          5.654,
          4.36,
          2.395,
          5.503,
          4.104,
          20.854,
          6.89,
          1.514,
          4.146,
          3.039,
          3.274,
          46.635,
          9.307,
          20.188
         ]
        },
        {
         "name": "OH",
         "type": "bar",
         "x": [
          "SrTcO3",
          "BaFeO3",
          "BaMoO3",
          "KTaO3",
          "BaZrO3",
          "SrFeO3",
          "KTcO3",
          "NaTcO3",
          "BaHfO3",
          "SrTiO3",
          "SrCuO3",
          "KNbO3",
          "NaTaO3",
          "BaScO3",
          "BaPdO3",
          "BaTaO3",
          "SrHfO3",
          "NaOsO3",
          "TlTcO3",
          "KReO3"
         ],
         "y": [
          6.984,
          23.709,
          11.724,
          5.088,
          14.91,
          9.614,
          11.206,
          8.044,
          6.591,
          4.226,
          10.558,
          9.889,
          3.434,
          16.219,
          5.468,
          3.347,
          6.872,
          "NaN",
          9.794,
          9.195
         ]
        }
       ],
       "layout": {
        "template": {
         "data": {
          "bar": [
           {
            "error_x": {
             "color": "#2a3f5f"
            },
            "error_y": {
             "color": "#2a3f5f"
            },
            "marker": {
             "line": {
              "color": "#E5ECF6",
              "width": 0.5
             }
            },
            "type": "bar"
           }
          ],
          "barpolar": [
           {
            "marker": {
             "line": {
              "color": "#E5ECF6",
              "width": 0.5
             }
            },
            "type": "barpolar"
           }
          ],
          "carpet": [
           {
            "aaxis": {
             "endlinecolor": "#2a3f5f",
             "gridcolor": "white",
             "linecolor": "white",
             "minorgridcolor": "white",
             "startlinecolor": "#2a3f5f"
            },
            "baxis": {
             "endlinecolor": "#2a3f5f",
             "gridcolor": "white",
             "linecolor": "white",
             "minorgridcolor": "white",
             "startlinecolor": "#2a3f5f"
            },
            "type": "carpet"
           }
          ],
          "choropleth": [
           {
            "colorbar": {
             "outlinewidth": 0,
             "ticks": ""
            },
            "type": "choropleth"
           }
          ],
          "contour": [
           {
            "colorbar": {
             "outlinewidth": 0,
             "ticks": ""
            },
            "colorscale": [
             [
              0,
              "#0d0887"
             ],
             [
              0.1111111111111111,
              "#46039f"
             ],
             [
              0.2222222222222222,
              "#7201a8"
             ],
             [
              0.3333333333333333,
              "#9c179e"
             ],
             [
              0.4444444444444444,
              "#bd3786"
             ],
             [
              0.5555555555555556,
              "#d8576b"
             ],
             [
              0.6666666666666666,
              "#ed7953"
             ],
             [
              0.7777777777777778,
              "#fb9f3a"
             ],
             [
              0.8888888888888888,
              "#fdca26"
             ],
             [
              1,
              "#f0f921"
             ]
            ],
            "type": "contour"
           }
          ],
          "contourcarpet": [
           {
            "colorbar": {
             "outlinewidth": 0,
             "ticks": ""
            },
            "type": "contourcarpet"
           }
          ],
          "heatmap": [
           {
            "colorbar": {
             "outlinewidth": 0,
             "ticks": ""
            },
            "colorscale": [
             [
              0,
              "#0d0887"
             ],
             [
              0.1111111111111111,
              "#46039f"
             ],
             [
              0.2222222222222222,
              "#7201a8"
             ],
             [
              0.3333333333333333,
              "#9c179e"
             ],
             [
              0.4444444444444444,
              "#bd3786"
             ],
             [
              0.5555555555555556,
              "#d8576b"
             ],
             [
              0.6666666666666666,
              "#ed7953"
             ],
             [
              0.7777777777777778,
              "#fb9f3a"
             ],
             [
              0.8888888888888888,
              "#fdca26"
             ],
             [
              1,
              "#f0f921"
             ]
            ],
            "type": "heatmap"
           }
          ],
          "heatmapgl": [
           {
            "colorbar": {
             "outlinewidth": 0,
             "ticks": ""
            },
            "colorscale": [
             [
              0,
              "#0d0887"
             ],
             [
              0.1111111111111111,
              "#46039f"
             ],
             [
              0.2222222222222222,
              "#7201a8"
             ],
             [
              0.3333333333333333,
              "#9c179e"
             ],
             [
              0.4444444444444444,
              "#bd3786"
             ],
             [
              0.5555555555555556,
              "#d8576b"
             ],
             [
              0.6666666666666666,
              "#ed7953"
             ],
             [
              0.7777777777777778,
              "#fb9f3a"
             ],
             [
              0.8888888888888888,
              "#fdca26"
             ],
             [
              1,
              "#f0f921"
             ]
            ],
            "type": "heatmapgl"
           }
          ],
          "histogram": [
           {
            "marker": {
             "colorbar": {
              "outlinewidth": 0,
              "ticks": ""
             }
            },
            "type": "histogram"
           }
          ],
          "histogram2d": [
           {
            "colorbar": {
             "outlinewidth": 0,
             "ticks": ""
            },
            "colorscale": [
             [
              0,
              "#0d0887"
             ],
             [
              0.1111111111111111,
              "#46039f"
             ],
             [
              0.2222222222222222,
              "#7201a8"
             ],
             [
              0.3333333333333333,
              "#9c179e"
             ],
             [
              0.4444444444444444,
              "#bd3786"
             ],
             [
              0.5555555555555556,
              "#d8576b"
             ],
             [
              0.6666666666666666,
              "#ed7953"
             ],
             [
              0.7777777777777778,
              "#fb9f3a"
             ],
             [
              0.8888888888888888,
              "#fdca26"
             ],
             [
              1,
              "#f0f921"
             ]
            ],
            "type": "histogram2d"
           }
          ],
          "histogram2dcontour": [
           {
            "colorbar": {
             "outlinewidth": 0,
             "ticks": ""
            },
            "colorscale": [
             [
              0,
              "#0d0887"
             ],
             [
              0.1111111111111111,
              "#46039f"
             ],
             [
              0.2222222222222222,
              "#7201a8"
             ],
             [
              0.3333333333333333,
              "#9c179e"
             ],
             [
              0.4444444444444444,
              "#bd3786"
             ],
             [
              0.5555555555555556,
              "#d8576b"
             ],
             [
              0.6666666666666666,
              "#ed7953"
             ],
             [
              0.7777777777777778,
              "#fb9f3a"
             ],
             [
              0.8888888888888888,
              "#fdca26"
             ],
             [
              1,
              "#f0f921"
             ]
            ],
            "type": "histogram2dcontour"
           }
          ],
          "mesh3d": [
           {
            "colorbar": {
             "outlinewidth": 0,
             "ticks": ""
            },
            "type": "mesh3d"
           }
          ],
          "parcoords": [
           {
            "line": {
             "colorbar": {
              "outlinewidth": 0,
              "ticks": ""
             }
            },
            "type": "parcoords"
           }
          ],
          "pie": [
           {
            "automargin": true,
            "type": "pie"
           }
          ],
          "scatter": [
           {
            "marker": {
             "colorbar": {
              "outlinewidth": 0,
              "ticks": ""
             }
            },
            "type": "scatter"
           }
          ],
          "scatter3d": [
           {
            "line": {
             "colorbar": {
              "outlinewidth": 0,
              "ticks": ""
             }
            },
            "marker": {
             "colorbar": {
              "outlinewidth": 0,
              "ticks": ""
             }
            },
            "type": "scatter3d"
           }
          ],
          "scattercarpet": [
           {
            "marker": {
             "colorbar": {
              "outlinewidth": 0,
              "ticks": ""
             }
            },
            "type": "scattercarpet"
           }
          ],
          "scattergeo": [
           {
            "marker": {
             "colorbar": {
              "outlinewidth": 0,
              "ticks": ""
             }
            },
            "type": "scattergeo"
           }
          ],
          "scattergl": [
           {
            "marker": {
             "colorbar": {
              "outlinewidth": 0,
              "ticks": ""
             }
            },
            "type": "scattergl"
           }
          ],
          "scattermapbox": [
           {
            "marker": {
             "colorbar": {
              "outlinewidth": 0,
              "ticks": ""
             }
            },
            "type": "scattermapbox"
           }
          ],
          "scatterpolar": [
           {
            "marker": {
             "colorbar": {
              "outlinewidth": 0,
              "ticks": ""
             }
            },
            "type": "scatterpolar"
           }
          ],
          "scatterpolargl": [
           {
            "marker": {
             "colorbar": {
              "outlinewidth": 0,
              "ticks": ""
             }
            },
            "type": "scatterpolargl"
           }
          ],
          "scatterternary": [
           {
            "marker": {
             "colorbar": {
              "outlinewidth": 0,
              "ticks": ""
             }
            },
            "type": "scatterternary"
           }
          ],
          "surface": [
           {
            "colorbar": {
             "outlinewidth": 0,
             "ticks": ""
            },
            "colorscale": [
             [
              0,
              "#0d0887"
             ],
             [
              0.1111111111111111,
              "#46039f"
             ],
             [
              0.2222222222222222,
              "#7201a8"
             ],
             [
              0.3333333333333333,
              "#9c179e"
             ],
             [
              0.4444444444444444,
              "#bd3786"
             ],
             [
              0.5555555555555556,
              "#d8576b"
             ],
             [
              0.6666666666666666,
              "#ed7953"
             ],
             [
              0.7777777777777778,
              "#fb9f3a"
             ],
             [
              0.8888888888888888,
              "#fdca26"
             ],
             [
              1,
              "#f0f921"
             ]
            ],
            "type": "surface"
           }
          ],
          "table": [
           {
            "cells": {
             "fill": {
              "color": "#EBF0F8"
             },
             "line": {
              "color": "white"
             }
            },
            "header": {
             "fill": {
              "color": "#C8D4E3"
             },
             "line": {
              "color": "white"
             }
            },
            "type": "table"
           }
          ]
         },
         "layout": {
          "annotationdefaults": {
           "arrowcolor": "#2a3f5f",
           "arrowhead": 0,
           "arrowwidth": 1
          },
          "coloraxis": {
           "colorbar": {
            "outlinewidth": 0,
            "ticks": ""
           }
          },
          "colorscale": {
           "diverging": [
            [
             0,
             "#8e0152"
            ],
            [
             0.1,
             "#c51b7d"
            ],
            [
             0.2,
             "#de77ae"
            ],
            [
             0.3,
             "#f1b6da"
            ],
            [
             0.4,
             "#fde0ef"
            ],
            [
             0.5,
             "#f7f7f7"
            ],
            [
             0.6,
             "#e6f5d0"
            ],
            [
             0.7,
             "#b8e186"
            ],
            [
             0.8,
             "#7fbc41"
            ],
            [
             0.9,
             "#4d9221"
            ],
            [
             1,
             "#276419"
            ]
           ],
           "sequential": [
            [
             0,
             "#0d0887"
            ],
            [
             0.1111111111111111,
             "#46039f"
            ],
            [
             0.2222222222222222,
             "#7201a8"
            ],
            [
             0.3333333333333333,
             "#9c179e"
            ],
            [
             0.4444444444444444,
             "#bd3786"
            ],
            [
             0.5555555555555556,
             "#d8576b"
            ],
            [
             0.6666666666666666,
             "#ed7953"
            ],
            [
             0.7777777777777778,
             "#fb9f3a"
            ],
            [
             0.8888888888888888,
             "#fdca26"
            ],
            [
             1,
             "#f0f921"
            ]
           ],
           "sequentialminus": [
            [
             0,
             "#0d0887"
            ],
            [
             0.1111111111111111,
             "#46039f"
            ],
            [
             0.2222222222222222,
             "#7201a8"
            ],
            [
             0.3333333333333333,
             "#9c179e"
            ],
            [
             0.4444444444444444,
             "#bd3786"
            ],
            [
             0.5555555555555556,
             "#d8576b"
            ],
            [
             0.6666666666666666,
             "#ed7953"
            ],
            [
             0.7777777777777778,
             "#fb9f3a"
            ],
            [
             0.8888888888888888,
             "#fdca26"
            ],
            [
             1,
             "#f0f921"
            ]
           ]
          },
          "colorway": [
           "#636efa",
           "#EF553B",
           "#00cc96",
           "#ab63fa",
           "#FFA15A",
           "#19d3f3",
           "#FF6692",
           "#B6E880",
           "#FF97FF",
           "#FECB52"
          ],
          "font": {
           "color": "#2a3f5f"
          },
          "geo": {
           "bgcolor": "white",
           "lakecolor": "white",
           "landcolor": "#E5ECF6",
           "showlakes": true,
           "showland": true,
           "subunitcolor": "white"
          },
          "hoverlabel": {
           "align": "left"
          },
          "hovermode": "closest",
          "mapbox": {
           "style": "light"
          },
          "paper_bgcolor": "white",
          "plot_bgcolor": "#E5ECF6",
          "polar": {
           "angularaxis": {
            "gridcolor": "white",
            "linecolor": "white",
            "ticks": ""
           },
           "bgcolor": "#E5ECF6",
           "radialaxis": {
            "gridcolor": "white",
            "linecolor": "white",
            "ticks": ""
           }
          },
          "scene": {
           "xaxis": {
            "backgroundcolor": "#E5ECF6",
            "gridcolor": "white",
            "gridwidth": 2,
            "linecolor": "white",
            "showbackground": true,
            "ticks": "",
            "zerolinecolor": "white"
           },
           "yaxis": {
            "backgroundcolor": "#E5ECF6",
            "gridcolor": "white",
            "gridwidth": 2,
            "linecolor": "white",
            "showbackground": true,
            "ticks": "",
            "zerolinecolor": "white"
           },
           "zaxis": {
            "backgroundcolor": "#E5ECF6",
            "gridcolor": "white",
            "gridwidth": 2,
            "linecolor": "white",
            "showbackground": true,
            "ticks": "",
            "zerolinecolor": "white"
           }
          },
          "shapedefaults": {
           "line": {
            "color": "#2a3f5f"
           }
          },
          "ternary": {
           "aaxis": {
            "gridcolor": "white",
            "linecolor": "white",
            "ticks": ""
           },
           "baxis": {
            "gridcolor": "white",
            "linecolor": "white",
            "ticks": ""
           },
           "bgcolor": "#E5ECF6",
           "caxis": {
            "gridcolor": "white",
            "linecolor": "white",
            "ticks": ""
           }
          },
          "title": {
           "x": 0.05
          },
          "xaxis": {
           "automargin": true,
           "gridcolor": "white",
           "linecolor": "white",
           "ticks": "",
           "title": {
            "standoff": 15
           },
           "zerolinecolor": "white",
           "zerolinewidth": 2
          },
          "yaxis": {
           "automargin": true,
           "gridcolor": "white",
           "linecolor": "white",
           "ticks": "",
           "title": {
            "standoff": 15
           },
           "zerolinecolor": "white",
           "zerolinewidth": 2
          }
         }
        },
        "title": {
         "font": {
          "size": 25
         },
         "text": "Calculation time (hour)"
        }
       }
      },
      "text/html": [
       "<div>\n",
       "        \n",
       "        \n",
       "            <div id=\"99c3ae79-bcd3-4c46-9b0d-6b80ab2784e4\" class=\"plotly-graph-div\" style=\"height:525px; width:100%;\"></div>\n",
       "            <script type=\"text/javascript\">\n",
       "                require([\"plotly\"], function(Plotly) {\n",
       "                    window.PLOTLYENV=window.PLOTLYENV || {};\n",
       "                    \n",
       "                if (document.getElementById(\"99c3ae79-bcd3-4c46-9b0d-6b80ab2784e4\")) {\n",
       "                    Plotly.newPlot(\n",
       "                        '99c3ae79-bcd3-4c46-9b0d-6b80ab2784e4',\n",
       "                        [{\"name\": \"bare\", \"type\": \"bar\", \"x\": [\"SrTcO3\", \"BaFeO3\", \"BaMoO3\", \"KTaO3\", \"BaZrO3\", \"SrFeO3\", \"KTcO3\", \"NaTcO3\", \"BaHfO3\", \"SrTiO3\", \"SrCuO3\", \"KNbO3\", \"NaTaO3\", \"BaScO3\", \"BaPdO3\", \"BaTaO3\", \"SrHfO3\", \"NaOsO3\", \"TlTcO3\", \"KReO3\"], \"y\": [0.231, 0.214, 0.213, 0.182, 0.216, 0.212, 0.202, 2.156, 0.202, 0.174, 0.223, 0.189, 2.156, 0.233, 0.219, 0.202, 0.212, 8.976, 0.264, 0.296]}, {\"name\": \"OOH\", \"type\": \"bar\", \"x\": [\"SrTcO3\", \"BaFeO3\", \"BaMoO3\", \"KTaO3\", \"BaZrO3\", \"SrFeO3\", \"KTcO3\", \"NaTcO3\", \"BaHfO3\", \"SrTiO3\", \"SrCuO3\", \"KNbO3\", \"NaTaO3\", \"BaScO3\", \"BaPdO3\", \"BaTaO3\", \"SrHfO3\", \"NaOsO3\", \"TlTcO3\", \"KReO3\"], \"y\": [8.484, 6.655, 21.487, 8.188, 9.562, 11.628, 15.333, 11.938, 4.211, 5.406, 13.15, 12.238, 6.203, 12.059, 9.694, \"NaN\", 4.391, \"NaN\", 18.649, 12.691]}, {\"name\": \"O\", \"type\": \"bar\", \"x\": [\"SrTcO3\", \"BaFeO3\", \"BaMoO3\", \"KTaO3\", \"BaZrO3\", \"SrFeO3\", \"KTcO3\", \"NaTcO3\", \"BaHfO3\", \"SrTiO3\", \"SrCuO3\", \"KNbO3\", \"NaTaO3\", \"BaScO3\", \"BaPdO3\", \"BaTaO3\", \"SrHfO3\", \"NaOsO3\", \"TlTcO3\", \"KReO3\"], \"y\": [3.963, 7.076, 4.014, 5.913, 5.219, 6.255, 5.654, 4.36, 2.395, 5.503, 4.104, 20.854, 6.89, 1.514, 4.146, 3.039, 3.274, 46.635, 9.307, 20.188]}, {\"name\": \"OH\", \"type\": \"bar\", \"x\": [\"SrTcO3\", \"BaFeO3\", \"BaMoO3\", \"KTaO3\", \"BaZrO3\", \"SrFeO3\", \"KTcO3\", \"NaTcO3\", \"BaHfO3\", \"SrTiO3\", \"SrCuO3\", \"KNbO3\", \"NaTaO3\", \"BaScO3\", \"BaPdO3\", \"BaTaO3\", \"SrHfO3\", \"NaOsO3\", \"TlTcO3\", \"KReO3\"], \"y\": [6.984, 23.709, 11.724, 5.088, 14.91, 9.614, 11.206, 8.044, 6.591, 4.226, 10.558, 9.889, 3.434, 16.219, 5.468, 3.347, 6.872, \"NaN\", 9.794, 9.195]}],\n",
       "                        {\"template\": {\"data\": {\"bar\": [{\"error_x\": {\"color\": \"#2a3f5f\"}, \"error_y\": {\"color\": \"#2a3f5f\"}, \"marker\": {\"line\": {\"color\": \"#E5ECF6\", \"width\": 0.5}}, \"type\": \"bar\"}], \"barpolar\": [{\"marker\": {\"line\": {\"color\": \"#E5ECF6\", \"width\": 0.5}}, \"type\": \"barpolar\"}], \"carpet\": [{\"aaxis\": {\"endlinecolor\": \"#2a3f5f\", \"gridcolor\": \"white\", \"linecolor\": \"white\", \"minorgridcolor\": \"white\", \"startlinecolor\": \"#2a3f5f\"}, \"baxis\": {\"endlinecolor\": \"#2a3f5f\", \"gridcolor\": \"white\", \"linecolor\": \"white\", \"minorgridcolor\": \"white\", \"startlinecolor\": \"#2a3f5f\"}, \"type\": \"carpet\"}], \"choropleth\": [{\"colorbar\": {\"outlinewidth\": 0, \"ticks\": \"\"}, \"type\": \"choropleth\"}], \"contour\": [{\"colorbar\": {\"outlinewidth\": 0, \"ticks\": \"\"}, \"colorscale\": [[0.0, \"#0d0887\"], [0.1111111111111111, \"#46039f\"], [0.2222222222222222, \"#7201a8\"], [0.3333333333333333, \"#9c179e\"], [0.4444444444444444, \"#bd3786\"], [0.5555555555555556, \"#d8576b\"], [0.6666666666666666, \"#ed7953\"], [0.7777777777777778, \"#fb9f3a\"], [0.8888888888888888, \"#fdca26\"], [1.0, \"#f0f921\"]], \"type\": \"contour\"}], \"contourcarpet\": [{\"colorbar\": {\"outlinewidth\": 0, \"ticks\": \"\"}, \"type\": \"contourcarpet\"}], \"heatmap\": [{\"colorbar\": {\"outlinewidth\": 0, \"ticks\": \"\"}, \"colorscale\": [[0.0, \"#0d0887\"], [0.1111111111111111, \"#46039f\"], [0.2222222222222222, \"#7201a8\"], [0.3333333333333333, \"#9c179e\"], [0.4444444444444444, \"#bd3786\"], [0.5555555555555556, \"#d8576b\"], [0.6666666666666666, \"#ed7953\"], [0.7777777777777778, \"#fb9f3a\"], [0.8888888888888888, \"#fdca26\"], [1.0, \"#f0f921\"]], \"type\": \"heatmap\"}], \"heatmapgl\": [{\"colorbar\": {\"outlinewidth\": 0, \"ticks\": \"\"}, \"colorscale\": [[0.0, \"#0d0887\"], [0.1111111111111111, \"#46039f\"], [0.2222222222222222, \"#7201a8\"], [0.3333333333333333, \"#9c179e\"], [0.4444444444444444, \"#bd3786\"], [0.5555555555555556, \"#d8576b\"], [0.6666666666666666, \"#ed7953\"], [0.7777777777777778, \"#fb9f3a\"], [0.8888888888888888, \"#fdca26\"], [1.0, \"#f0f921\"]], \"type\": \"heatmapgl\"}], \"histogram\": [{\"marker\": {\"colorbar\": {\"outlinewidth\": 0, \"ticks\": \"\"}}, \"type\": \"histogram\"}], \"histogram2d\": [{\"colorbar\": {\"outlinewidth\": 0, \"ticks\": \"\"}, \"colorscale\": [[0.0, \"#0d0887\"], [0.1111111111111111, \"#46039f\"], [0.2222222222222222, \"#7201a8\"], [0.3333333333333333, \"#9c179e\"], [0.4444444444444444, \"#bd3786\"], [0.5555555555555556, \"#d8576b\"], [0.6666666666666666, \"#ed7953\"], [0.7777777777777778, \"#fb9f3a\"], [0.8888888888888888, \"#fdca26\"], [1.0, \"#f0f921\"]], \"type\": \"histogram2d\"}], \"histogram2dcontour\": [{\"colorbar\": {\"outlinewidth\": 0, \"ticks\": \"\"}, \"colorscale\": [[0.0, \"#0d0887\"], [0.1111111111111111, \"#46039f\"], [0.2222222222222222, \"#7201a8\"], [0.3333333333333333, \"#9c179e\"], [0.4444444444444444, \"#bd3786\"], [0.5555555555555556, \"#d8576b\"], [0.6666666666666666, \"#ed7953\"], [0.7777777777777778, \"#fb9f3a\"], [0.8888888888888888, \"#fdca26\"], [1.0, \"#f0f921\"]], \"type\": \"histogram2dcontour\"}], \"mesh3d\": [{\"colorbar\": {\"outlinewidth\": 0, \"ticks\": \"\"}, \"type\": \"mesh3d\"}], \"parcoords\": [{\"line\": {\"colorbar\": {\"outlinewidth\": 0, \"ticks\": \"\"}}, \"type\": \"parcoords\"}], \"pie\": [{\"automargin\": true, \"type\": \"pie\"}], \"scatter\": [{\"marker\": {\"colorbar\": {\"outlinewidth\": 0, \"ticks\": \"\"}}, \"type\": \"scatter\"}], \"scatter3d\": [{\"line\": {\"colorbar\": {\"outlinewidth\": 0, \"ticks\": \"\"}}, \"marker\": {\"colorbar\": {\"outlinewidth\": 0, \"ticks\": \"\"}}, \"type\": \"scatter3d\"}], \"scattercarpet\": [{\"marker\": {\"colorbar\": {\"outlinewidth\": 0, \"ticks\": \"\"}}, \"type\": \"scattercarpet\"}], \"scattergeo\": [{\"marker\": {\"colorbar\": {\"outlinewidth\": 0, \"ticks\": \"\"}}, \"type\": \"scattergeo\"}], \"scattergl\": [{\"marker\": {\"colorbar\": {\"outlinewidth\": 0, \"ticks\": \"\"}}, \"type\": \"scattergl\"}], \"scattermapbox\": [{\"marker\": {\"colorbar\": {\"outlinewidth\": 0, \"ticks\": \"\"}}, \"type\": \"scattermapbox\"}], \"scatterpolar\": [{\"marker\": {\"colorbar\": {\"outlinewidth\": 0, \"ticks\": \"\"}}, \"type\": \"scatterpolar\"}], \"scatterpolargl\": [{\"marker\": {\"colorbar\": {\"outlinewidth\": 0, \"ticks\": \"\"}}, \"type\": \"scatterpolargl\"}], \"scatterternary\": [{\"marker\": {\"colorbar\": {\"outlinewidth\": 0, \"ticks\": \"\"}}, \"type\": \"scatterternary\"}], \"surface\": [{\"colorbar\": {\"outlinewidth\": 0, \"ticks\": \"\"}, \"colorscale\": [[0.0, \"#0d0887\"], [0.1111111111111111, \"#46039f\"], [0.2222222222222222, \"#7201a8\"], [0.3333333333333333, \"#9c179e\"], [0.4444444444444444, \"#bd3786\"], [0.5555555555555556, \"#d8576b\"], [0.6666666666666666, \"#ed7953\"], [0.7777777777777778, \"#fb9f3a\"], [0.8888888888888888, \"#fdca26\"], [1.0, \"#f0f921\"]], \"type\": \"surface\"}], \"table\": [{\"cells\": {\"fill\": {\"color\": \"#EBF0F8\"}, \"line\": {\"color\": \"white\"}}, \"header\": {\"fill\": {\"color\": \"#C8D4E3\"}, \"line\": {\"color\": \"white\"}}, \"type\": \"table\"}]}, \"layout\": {\"annotationdefaults\": {\"arrowcolor\": \"#2a3f5f\", \"arrowhead\": 0, \"arrowwidth\": 1}, \"coloraxis\": {\"colorbar\": {\"outlinewidth\": 0, \"ticks\": \"\"}}, \"colorscale\": {\"diverging\": [[0, \"#8e0152\"], [0.1, \"#c51b7d\"], [0.2, \"#de77ae\"], [0.3, \"#f1b6da\"], [0.4, \"#fde0ef\"], [0.5, \"#f7f7f7\"], [0.6, \"#e6f5d0\"], [0.7, \"#b8e186\"], [0.8, \"#7fbc41\"], [0.9, \"#4d9221\"], [1, \"#276419\"]], \"sequential\": [[0.0, \"#0d0887\"], [0.1111111111111111, \"#46039f\"], [0.2222222222222222, \"#7201a8\"], [0.3333333333333333, \"#9c179e\"], [0.4444444444444444, \"#bd3786\"], [0.5555555555555556, \"#d8576b\"], [0.6666666666666666, \"#ed7953\"], [0.7777777777777778, \"#fb9f3a\"], [0.8888888888888888, \"#fdca26\"], [1.0, \"#f0f921\"]], \"sequentialminus\": [[0.0, \"#0d0887\"], [0.1111111111111111, \"#46039f\"], [0.2222222222222222, \"#7201a8\"], [0.3333333333333333, \"#9c179e\"], [0.4444444444444444, \"#bd3786\"], [0.5555555555555556, \"#d8576b\"], [0.6666666666666666, \"#ed7953\"], [0.7777777777777778, \"#fb9f3a\"], [0.8888888888888888, \"#fdca26\"], [1.0, \"#f0f921\"]]}, \"colorway\": [\"#636efa\", \"#EF553B\", \"#00cc96\", \"#ab63fa\", \"#FFA15A\", \"#19d3f3\", \"#FF6692\", \"#B6E880\", \"#FF97FF\", \"#FECB52\"], \"font\": {\"color\": \"#2a3f5f\"}, \"geo\": {\"bgcolor\": \"white\", \"lakecolor\": \"white\", \"landcolor\": \"#E5ECF6\", \"showlakes\": true, \"showland\": true, \"subunitcolor\": \"white\"}, \"hoverlabel\": {\"align\": \"left\"}, \"hovermode\": \"closest\", \"mapbox\": {\"style\": \"light\"}, \"paper_bgcolor\": \"white\", \"plot_bgcolor\": \"#E5ECF6\", \"polar\": {\"angularaxis\": {\"gridcolor\": \"white\", \"linecolor\": \"white\", \"ticks\": \"\"}, \"bgcolor\": \"#E5ECF6\", \"radialaxis\": {\"gridcolor\": \"white\", \"linecolor\": \"white\", \"ticks\": \"\"}}, \"scene\": {\"xaxis\": {\"backgroundcolor\": \"#E5ECF6\", \"gridcolor\": \"white\", \"gridwidth\": 2, \"linecolor\": \"white\", \"showbackground\": true, \"ticks\": \"\", \"zerolinecolor\": \"white\"}, \"yaxis\": {\"backgroundcolor\": \"#E5ECF6\", \"gridcolor\": \"white\", \"gridwidth\": 2, \"linecolor\": \"white\", \"showbackground\": true, \"ticks\": \"\", \"zerolinecolor\": \"white\"}, \"zaxis\": {\"backgroundcolor\": \"#E5ECF6\", \"gridcolor\": \"white\", \"gridwidth\": 2, \"linecolor\": \"white\", \"showbackground\": true, \"ticks\": \"\", \"zerolinecolor\": \"white\"}}, \"shapedefaults\": {\"line\": {\"color\": \"#2a3f5f\"}}, \"ternary\": {\"aaxis\": {\"gridcolor\": \"white\", \"linecolor\": \"white\", \"ticks\": \"\"}, \"baxis\": {\"gridcolor\": \"white\", \"linecolor\": \"white\", \"ticks\": \"\"}, \"bgcolor\": \"#E5ECF6\", \"caxis\": {\"gridcolor\": \"white\", \"linecolor\": \"white\", \"ticks\": \"\"}}, \"title\": {\"x\": 0.05}, \"xaxis\": {\"automargin\": true, \"gridcolor\": \"white\", \"linecolor\": \"white\", \"ticks\": \"\", \"title\": {\"standoff\": 15}, \"zerolinecolor\": \"white\", \"zerolinewidth\": 2}, \"yaxis\": {\"automargin\": true, \"gridcolor\": \"white\", \"linecolor\": \"white\", \"ticks\": \"\", \"title\": {\"standoff\": 15}, \"zerolinecolor\": \"white\", \"zerolinewidth\": 2}}}, \"title\": {\"font\": {\"size\": 25}, \"text\": \"Calculation time (hour)\"}},\n",
       "                        {\"responsive\": true}\n",
       "                    ).then(function(){\n",
       "                            \n",
       "var gd = document.getElementById('99c3ae79-bcd3-4c46-9b0d-6b80ab2784e4');\n",
       "var x = new MutationObserver(function (mutations, observer) {{\n",
       "        var display = window.getComputedStyle(gd).display;\n",
       "        if (!display || display === 'none') {{\n",
       "            console.log([gd, 'removed!']);\n",
       "            Plotly.purge(gd);\n",
       "            observer.disconnect();\n",
       "        }}\n",
       "}});\n",
       "\n",
       "// Listen for the removal of the full notebook cells\n",
       "var notebookContainer = gd.closest('#notebook-container');\n",
       "if (notebookContainer) {{\n",
       "    x.observe(notebookContainer, {childList: true});\n",
       "}}\n",
       "\n",
       "// Listen for the clearing of the current output cell\n",
       "var outputEl = gd.closest('.output');\n",
       "if (outputEl) {{\n",
       "    x.observe(outputEl, {childList: true});\n",
       "}}\n",
       "\n",
       "                        })\n",
       "                };\n",
       "                });\n",
       "            </script>\n",
       "        </div>"
      ]
     },
     "metadata": {},
     "output_type": "display_data"
    }
   ],
   "source": [
    "# 막대 그래프 그리기\n",
    "trace1 = go.Bar(x = df['formula'], y = df['time_bare'], name = 'bare')\n",
    "trace2 = go.Bar(x = df['formula'], y = df['time_OOH'], name = 'OOH')\n",
    "trace3 = go.Bar(x = df['formula'], y = df['time_O'], name = 'O')\n",
    "trace4 = go.Bar(x = df['formula'], y = df['time_OH'], name = 'OH')\n",
    "\n",
    "data = [trace1, trace2, trace3, trace4]\n",
    "layout = go.Layout(title = 'Calculation time (hour)', titlefont = dict(size = 25))\n",
    "fig = go.Figure(data = data, layout = layout)\n",
    "pyo.iplot(fig)"
   ]
  },
  {
   "cell_type": "code",
   "execution_count": 118,
   "metadata": {},
   "outputs": [
    {
     "data": {
      "application/vnd.plotly.v1+json": {
       "config": {
        "plotlyServerURL": "https://plot.ly"
       },
       "data": [
        {
         "marker": {
          "size": 15,
          "symbol": 18
         },
         "mode": "markers",
         "name": "OOH vs OH",
         "type": "scatter",
         "x": [
          -1.077,
          1.729,
          -0.597,
          -1.296,
          0.995,
          1.731,
          -0.255,
          -0.362,
          0.896,
          0.981,
          1.712,
          -0.512,
          -1.424,
          1.896,
          1.405,
          -2.181,
          0.786,
          "NaN",
          -0.326,
          -1.028
         ],
         "y": [
          2.136,
          4.572,
          2.674,
          2.23,
          4.361,
          4.595,
          2.886,
          2.804,
          4.192,
          4.287,
          4.662,
          2.953,
          2.078,
          4.632,
          4.32,
          "NaN",
          4.115,
          "NaN",
          2.755,
          2.194
         ]
        },
        {
         "marker": {
          "color": "rgb(255,0,0)",
          "size": 15,
          "symbol": 0
         },
         "mode": "markers",
         "name": "O vs OH",
         "type": "scatter",
         "x": [
          -1.077,
          1.729,
          -0.597,
          -1.296,
          0.995,
          1.731,
          -0.255,
          -0.362,
          0.896,
          0.981,
          1.712,
          -0.512,
          -1.424,
          1.896,
          1.405,
          -2.181,
          0.786,
          "NaN",
          -0.326,
          -1.028
         ],
         "y": [
          -0.727,
          4.432,
          -0.873,
          -0.634,
          4.123,
          4.586,
          0.426,
          0.281,
          4.003,
          3.869,
          4.21,
          0.445,
          -0.919,
          4.68,
          3.435,
          -2.591,
          3.932,
          0.557,
          0.293,
          -0.564
         ]
        },
        {
         "marker": {
          "size": 15,
          "symbol": 0
         },
         "mode": "markers",
         "name": "OH vs OH",
         "type": "scatter",
         "x": [
          -1.077,
          1.729,
          -0.597,
          -1.296,
          0.995,
          1.731,
          -0.255,
          -0.362,
          0.896,
          0.981,
          1.712,
          -0.512,
          -1.424,
          1.896,
          1.405,
          -2.181,
          0.786,
          "NaN",
          -0.326,
          -1.028
         ],
         "y": [
          -1.077,
          1.729,
          -0.597,
          -1.296,
          0.995,
          1.731,
          -0.255,
          -0.362,
          0.896,
          0.981,
          1.712,
          -0.512,
          -1.424,
          1.896,
          1.405,
          -2.181,
          0.786,
          "NaN",
          -0.326,
          -1.028
         ]
        }
       ],
       "layout": {
        "height": 600,
        "template": {
         "data": {
          "bar": [
           {
            "error_x": {
             "color": "#2a3f5f"
            },
            "error_y": {
             "color": "#2a3f5f"
            },
            "marker": {
             "line": {
              "color": "#E5ECF6",
              "width": 0.5
             }
            },
            "type": "bar"
           }
          ],
          "barpolar": [
           {
            "marker": {
             "line": {
              "color": "#E5ECF6",
              "width": 0.5
             }
            },
            "type": "barpolar"
           }
          ],
          "carpet": [
           {
            "aaxis": {
             "endlinecolor": "#2a3f5f",
             "gridcolor": "white",
             "linecolor": "white",
             "minorgridcolor": "white",
             "startlinecolor": "#2a3f5f"
            },
            "baxis": {
             "endlinecolor": "#2a3f5f",
             "gridcolor": "white",
             "linecolor": "white",
             "minorgridcolor": "white",
             "startlinecolor": "#2a3f5f"
            },
            "type": "carpet"
           }
          ],
          "choropleth": [
           {
            "colorbar": {
             "outlinewidth": 0,
             "ticks": ""
            },
            "type": "choropleth"
           }
          ],
          "contour": [
           {
            "colorbar": {
             "outlinewidth": 0,
             "ticks": ""
            },
            "colorscale": [
             [
              0,
              "#0d0887"
             ],
             [
              0.1111111111111111,
              "#46039f"
             ],
             [
              0.2222222222222222,
              "#7201a8"
             ],
             [
              0.3333333333333333,
              "#9c179e"
             ],
             [
              0.4444444444444444,
              "#bd3786"
             ],
             [
              0.5555555555555556,
              "#d8576b"
             ],
             [
              0.6666666666666666,
              "#ed7953"
             ],
             [
              0.7777777777777778,
              "#fb9f3a"
             ],
             [
              0.8888888888888888,
              "#fdca26"
             ],
             [
              1,
              "#f0f921"
             ]
            ],
            "type": "contour"
           }
          ],
          "contourcarpet": [
           {
            "colorbar": {
             "outlinewidth": 0,
             "ticks": ""
            },
            "type": "contourcarpet"
           }
          ],
          "heatmap": [
           {
            "colorbar": {
             "outlinewidth": 0,
             "ticks": ""
            },
            "colorscale": [
             [
              0,
              "#0d0887"
             ],
             [
              0.1111111111111111,
              "#46039f"
             ],
             [
              0.2222222222222222,
              "#7201a8"
             ],
             [
              0.3333333333333333,
              "#9c179e"
             ],
             [
              0.4444444444444444,
              "#bd3786"
             ],
             [
              0.5555555555555556,
              "#d8576b"
             ],
             [
              0.6666666666666666,
              "#ed7953"
             ],
             [
              0.7777777777777778,
              "#fb9f3a"
             ],
             [
              0.8888888888888888,
              "#fdca26"
             ],
             [
              1,
              "#f0f921"
             ]
            ],
            "type": "heatmap"
           }
          ],
          "heatmapgl": [
           {
            "colorbar": {
             "outlinewidth": 0,
             "ticks": ""
            },
            "colorscale": [
             [
              0,
              "#0d0887"
             ],
             [
              0.1111111111111111,
              "#46039f"
             ],
             [
              0.2222222222222222,
              "#7201a8"
             ],
             [
              0.3333333333333333,
              "#9c179e"
             ],
             [
              0.4444444444444444,
              "#bd3786"
             ],
             [
              0.5555555555555556,
              "#d8576b"
             ],
             [
              0.6666666666666666,
              "#ed7953"
             ],
             [
              0.7777777777777778,
              "#fb9f3a"
             ],
             [
              0.8888888888888888,
              "#fdca26"
             ],
             [
              1,
              "#f0f921"
             ]
            ],
            "type": "heatmapgl"
           }
          ],
          "histogram": [
           {
            "marker": {
             "colorbar": {
              "outlinewidth": 0,
              "ticks": ""
             }
            },
            "type": "histogram"
           }
          ],
          "histogram2d": [
           {
            "colorbar": {
             "outlinewidth": 0,
             "ticks": ""
            },
            "colorscale": [
             [
              0,
              "#0d0887"
             ],
             [
              0.1111111111111111,
              "#46039f"
             ],
             [
              0.2222222222222222,
              "#7201a8"
             ],
             [
              0.3333333333333333,
              "#9c179e"
             ],
             [
              0.4444444444444444,
              "#bd3786"
             ],
             [
              0.5555555555555556,
              "#d8576b"
             ],
             [
              0.6666666666666666,
              "#ed7953"
             ],
             [
              0.7777777777777778,
              "#fb9f3a"
             ],
             [
              0.8888888888888888,
              "#fdca26"
             ],
             [
              1,
              "#f0f921"
             ]
            ],
            "type": "histogram2d"
           }
          ],
          "histogram2dcontour": [
           {
            "colorbar": {
             "outlinewidth": 0,
             "ticks": ""
            },
            "colorscale": [
             [
              0,
              "#0d0887"
             ],
             [
              0.1111111111111111,
              "#46039f"
             ],
             [
              0.2222222222222222,
              "#7201a8"
             ],
             [
              0.3333333333333333,
              "#9c179e"
             ],
             [
              0.4444444444444444,
              "#bd3786"
             ],
             [
              0.5555555555555556,
              "#d8576b"
             ],
             [
              0.6666666666666666,
              "#ed7953"
             ],
             [
              0.7777777777777778,
              "#fb9f3a"
             ],
             [
              0.8888888888888888,
              "#fdca26"
             ],
             [
              1,
              "#f0f921"
             ]
            ],
            "type": "histogram2dcontour"
           }
          ],
          "mesh3d": [
           {
            "colorbar": {
             "outlinewidth": 0,
             "ticks": ""
            },
            "type": "mesh3d"
           }
          ],
          "parcoords": [
           {
            "line": {
             "colorbar": {
              "outlinewidth": 0,
              "ticks": ""
             }
            },
            "type": "parcoords"
           }
          ],
          "pie": [
           {
            "automargin": true,
            "type": "pie"
           }
          ],
          "scatter": [
           {
            "marker": {
             "colorbar": {
              "outlinewidth": 0,
              "ticks": ""
             }
            },
            "type": "scatter"
           }
          ],
          "scatter3d": [
           {
            "line": {
             "colorbar": {
              "outlinewidth": 0,
              "ticks": ""
             }
            },
            "marker": {
             "colorbar": {
              "outlinewidth": 0,
              "ticks": ""
             }
            },
            "type": "scatter3d"
           }
          ],
          "scattercarpet": [
           {
            "marker": {
             "colorbar": {
              "outlinewidth": 0,
              "ticks": ""
             }
            },
            "type": "scattercarpet"
           }
          ],
          "scattergeo": [
           {
            "marker": {
             "colorbar": {
              "outlinewidth": 0,
              "ticks": ""
             }
            },
            "type": "scattergeo"
           }
          ],
          "scattergl": [
           {
            "marker": {
             "colorbar": {
              "outlinewidth": 0,
              "ticks": ""
             }
            },
            "type": "scattergl"
           }
          ],
          "scattermapbox": [
           {
            "marker": {
             "colorbar": {
              "outlinewidth": 0,
              "ticks": ""
             }
            },
            "type": "scattermapbox"
           }
          ],
          "scatterpolar": [
           {
            "marker": {
             "colorbar": {
              "outlinewidth": 0,
              "ticks": ""
             }
            },
            "type": "scatterpolar"
           }
          ],
          "scatterpolargl": [
           {
            "marker": {
             "colorbar": {
              "outlinewidth": 0,
              "ticks": ""
             }
            },
            "type": "scatterpolargl"
           }
          ],
          "scatterternary": [
           {
            "marker": {
             "colorbar": {
              "outlinewidth": 0,
              "ticks": ""
             }
            },
            "type": "scatterternary"
           }
          ],
          "surface": [
           {
            "colorbar": {
             "outlinewidth": 0,
             "ticks": ""
            },
            "colorscale": [
             [
              0,
              "#0d0887"
             ],
             [
              0.1111111111111111,
              "#46039f"
             ],
             [
              0.2222222222222222,
              "#7201a8"
             ],
             [
              0.3333333333333333,
              "#9c179e"
             ],
             [
              0.4444444444444444,
              "#bd3786"
             ],
             [
              0.5555555555555556,
              "#d8576b"
             ],
             [
              0.6666666666666666,
              "#ed7953"
             ],
             [
              0.7777777777777778,
              "#fb9f3a"
             ],
             [
              0.8888888888888888,
              "#fdca26"
             ],
             [
              1,
              "#f0f921"
             ]
            ],
            "type": "surface"
           }
          ],
          "table": [
           {
            "cells": {
             "fill": {
              "color": "#EBF0F8"
             },
             "line": {
              "color": "white"
             }
            },
            "header": {
             "fill": {
              "color": "#C8D4E3"
             },
             "line": {
              "color": "white"
             }
            },
            "type": "table"
           }
          ]
         },
         "layout": {
          "annotationdefaults": {
           "arrowcolor": "#2a3f5f",
           "arrowhead": 0,
           "arrowwidth": 1
          },
          "coloraxis": {
           "colorbar": {
            "outlinewidth": 0,
            "ticks": ""
           }
          },
          "colorscale": {
           "diverging": [
            [
             0,
             "#8e0152"
            ],
            [
             0.1,
             "#c51b7d"
            ],
            [
             0.2,
             "#de77ae"
            ],
            [
             0.3,
             "#f1b6da"
            ],
            [
             0.4,
             "#fde0ef"
            ],
            [
             0.5,
             "#f7f7f7"
            ],
            [
             0.6,
             "#e6f5d0"
            ],
            [
             0.7,
             "#b8e186"
            ],
            [
             0.8,
             "#7fbc41"
            ],
            [
             0.9,
             "#4d9221"
            ],
            [
             1,
             "#276419"
            ]
           ],
           "sequential": [
            [
             0,
             "#0d0887"
            ],
            [
             0.1111111111111111,
             "#46039f"
            ],
            [
             0.2222222222222222,
             "#7201a8"
            ],
            [
             0.3333333333333333,
             "#9c179e"
            ],
            [
             0.4444444444444444,
             "#bd3786"
            ],
            [
             0.5555555555555556,
             "#d8576b"
            ],
            [
             0.6666666666666666,
             "#ed7953"
            ],
            [
             0.7777777777777778,
             "#fb9f3a"
            ],
            [
             0.8888888888888888,
             "#fdca26"
            ],
            [
             1,
             "#f0f921"
            ]
           ],
           "sequentialminus": [
            [
             0,
             "#0d0887"
            ],
            [
             0.1111111111111111,
             "#46039f"
            ],
            [
             0.2222222222222222,
             "#7201a8"
            ],
            [
             0.3333333333333333,
             "#9c179e"
            ],
            [
             0.4444444444444444,
             "#bd3786"
            ],
            [
             0.5555555555555556,
             "#d8576b"
            ],
            [
             0.6666666666666666,
             "#ed7953"
            ],
            [
             0.7777777777777778,
             "#fb9f3a"
            ],
            [
             0.8888888888888888,
             "#fdca26"
            ],
            [
             1,
             "#f0f921"
            ]
           ]
          },
          "colorway": [
           "#636efa",
           "#EF553B",
           "#00cc96",
           "#ab63fa",
           "#FFA15A",
           "#19d3f3",
           "#FF6692",
           "#B6E880",
           "#FF97FF",
           "#FECB52"
          ],
          "font": {
           "color": "#2a3f5f"
          },
          "geo": {
           "bgcolor": "white",
           "lakecolor": "white",
           "landcolor": "#E5ECF6",
           "showlakes": true,
           "showland": true,
           "subunitcolor": "white"
          },
          "hoverlabel": {
           "align": "left"
          },
          "hovermode": "closest",
          "mapbox": {
           "style": "light"
          },
          "paper_bgcolor": "white",
          "plot_bgcolor": "#E5ECF6",
          "polar": {
           "angularaxis": {
            "gridcolor": "white",
            "linecolor": "white",
            "ticks": ""
           },
           "bgcolor": "#E5ECF6",
           "radialaxis": {
            "gridcolor": "white",
            "linecolor": "white",
            "ticks": ""
           }
          },
          "scene": {
           "xaxis": {
            "backgroundcolor": "#E5ECF6",
            "gridcolor": "white",
            "gridwidth": 2,
            "linecolor": "white",
            "showbackground": true,
            "ticks": "",
            "zerolinecolor": "white"
           },
           "yaxis": {
            "backgroundcolor": "#E5ECF6",
            "gridcolor": "white",
            "gridwidth": 2,
            "linecolor": "white",
            "showbackground": true,
            "ticks": "",
            "zerolinecolor": "white"
           },
           "zaxis": {
            "backgroundcolor": "#E5ECF6",
            "gridcolor": "white",
            "gridwidth": 2,
            "linecolor": "white",
            "showbackground": true,
            "ticks": "",
            "zerolinecolor": "white"
           }
          },
          "shapedefaults": {
           "line": {
            "color": "#2a3f5f"
           }
          },
          "ternary": {
           "aaxis": {
            "gridcolor": "white",
            "linecolor": "white",
            "ticks": ""
           },
           "baxis": {
            "gridcolor": "white",
            "linecolor": "white",
            "ticks": ""
           },
           "bgcolor": "#E5ECF6",
           "caxis": {
            "gridcolor": "white",
            "linecolor": "white",
            "ticks": ""
           }
          },
          "title": {
           "x": 0.05
          },
          "xaxis": {
           "automargin": true,
           "gridcolor": "white",
           "linecolor": "white",
           "ticks": "",
           "title": {
            "standoff": 15
           },
           "zerolinecolor": "white",
           "zerolinewidth": 2
          },
          "yaxis": {
           "automargin": true,
           "gridcolor": "white",
           "linecolor": "white",
           "ticks": "",
           "title": {
            "standoff": 15
           },
           "zerolinecolor": "white",
           "zerolinewidth": 2
          }
         }
        },
        "title": {
         "font": {
          "size": 25
         },
         "text": "scaling relation"
        },
        "width": 800
       }
      },
      "text/html": [
       "<div>\n",
       "        \n",
       "        \n",
       "            <div id=\"d66d4c32-4bd1-4ea2-902e-b2a94ebed433\" class=\"plotly-graph-div\" style=\"height:600px; width:800px;\"></div>\n",
       "            <script type=\"text/javascript\">\n",
       "                require([\"plotly\"], function(Plotly) {\n",
       "                    window.PLOTLYENV=window.PLOTLYENV || {};\n",
       "                    \n",
       "                if (document.getElementById(\"d66d4c32-4bd1-4ea2-902e-b2a94ebed433\")) {\n",
       "                    Plotly.newPlot(\n",
       "                        'd66d4c32-4bd1-4ea2-902e-b2a94ebed433',\n",
       "                        [{\"marker\": {\"size\": 15, \"symbol\": 18}, \"mode\": \"markers\", \"name\": \"OOH vs OH\", \"type\": \"scatter\", \"x\": [-1.077, 1.729, -0.597, -1.296, 0.995, 1.731, -0.255, -0.362, 0.896, 0.981, 1.712, -0.512, -1.424, 1.896, 1.405, -2.181, 0.786, \"NaN\", -0.326, -1.028], \"y\": [2.136, 4.572, 2.674, 2.23, 4.361, 4.595, 2.886, 2.804, 4.192, 4.287, 4.662, 2.953, 2.078, 4.632, 4.32, \"NaN\", 4.115, \"NaN\", 2.755, 2.194]}, {\"marker\": {\"color\": \"rgb(255,0,0)\", \"size\": 15, \"symbol\": 0}, \"mode\": \"markers\", \"name\": \"O vs OH\", \"type\": \"scatter\", \"x\": [-1.077, 1.729, -0.597, -1.296, 0.995, 1.731, -0.255, -0.362, 0.896, 0.981, 1.712, -0.512, -1.424, 1.896, 1.405, -2.181, 0.786, \"NaN\", -0.326, -1.028], \"y\": [-0.727, 4.432, -0.873, -0.634, 4.123, 4.586, 0.426, 0.281, 4.003, 3.869, 4.21, 0.445, -0.919, 4.68, 3.435, -2.591, 3.932, 0.557, 0.293, -0.564]}, {\"marker\": {\"size\": 15, \"symbol\": 0}, \"mode\": \"markers\", \"name\": \"OH vs OH\", \"type\": \"scatter\", \"x\": [-1.077, 1.729, -0.597, -1.296, 0.995, 1.731, -0.255, -0.362, 0.896, 0.981, 1.712, -0.512, -1.424, 1.896, 1.405, -2.181, 0.786, \"NaN\", -0.326, -1.028], \"y\": [-1.077, 1.729, -0.597, -1.296, 0.995, 1.731, -0.255, -0.362, 0.896, 0.981, 1.712, -0.512, -1.424, 1.896, 1.405, -2.181, 0.786, \"NaN\", -0.326, -1.028]}],\n",
       "                        {\"height\": 600, \"template\": {\"data\": {\"bar\": [{\"error_x\": {\"color\": \"#2a3f5f\"}, \"error_y\": {\"color\": \"#2a3f5f\"}, \"marker\": {\"line\": {\"color\": \"#E5ECF6\", \"width\": 0.5}}, \"type\": \"bar\"}], \"barpolar\": [{\"marker\": {\"line\": {\"color\": \"#E5ECF6\", \"width\": 0.5}}, \"type\": \"barpolar\"}], \"carpet\": [{\"aaxis\": {\"endlinecolor\": \"#2a3f5f\", \"gridcolor\": \"white\", \"linecolor\": \"white\", \"minorgridcolor\": \"white\", \"startlinecolor\": \"#2a3f5f\"}, \"baxis\": {\"endlinecolor\": \"#2a3f5f\", \"gridcolor\": \"white\", \"linecolor\": \"white\", \"minorgridcolor\": \"white\", \"startlinecolor\": \"#2a3f5f\"}, \"type\": \"carpet\"}], \"choropleth\": [{\"colorbar\": {\"outlinewidth\": 0, \"ticks\": \"\"}, \"type\": \"choropleth\"}], \"contour\": [{\"colorbar\": {\"outlinewidth\": 0, \"ticks\": \"\"}, \"colorscale\": [[0.0, \"#0d0887\"], [0.1111111111111111, \"#46039f\"], [0.2222222222222222, \"#7201a8\"], [0.3333333333333333, \"#9c179e\"], [0.4444444444444444, \"#bd3786\"], [0.5555555555555556, \"#d8576b\"], [0.6666666666666666, \"#ed7953\"], [0.7777777777777778, \"#fb9f3a\"], [0.8888888888888888, \"#fdca26\"], [1.0, \"#f0f921\"]], \"type\": \"contour\"}], \"contourcarpet\": [{\"colorbar\": {\"outlinewidth\": 0, \"ticks\": \"\"}, \"type\": \"contourcarpet\"}], \"heatmap\": [{\"colorbar\": {\"outlinewidth\": 0, \"ticks\": \"\"}, \"colorscale\": [[0.0, \"#0d0887\"], [0.1111111111111111, \"#46039f\"], [0.2222222222222222, \"#7201a8\"], [0.3333333333333333, \"#9c179e\"], [0.4444444444444444, \"#bd3786\"], [0.5555555555555556, \"#d8576b\"], [0.6666666666666666, \"#ed7953\"], [0.7777777777777778, \"#fb9f3a\"], [0.8888888888888888, \"#fdca26\"], [1.0, \"#f0f921\"]], \"type\": \"heatmap\"}], \"heatmapgl\": [{\"colorbar\": {\"outlinewidth\": 0, \"ticks\": \"\"}, \"colorscale\": [[0.0, \"#0d0887\"], [0.1111111111111111, \"#46039f\"], [0.2222222222222222, \"#7201a8\"], [0.3333333333333333, \"#9c179e\"], [0.4444444444444444, \"#bd3786\"], [0.5555555555555556, \"#d8576b\"], [0.6666666666666666, \"#ed7953\"], [0.7777777777777778, \"#fb9f3a\"], [0.8888888888888888, \"#fdca26\"], [1.0, \"#f0f921\"]], \"type\": \"heatmapgl\"}], \"histogram\": [{\"marker\": {\"colorbar\": {\"outlinewidth\": 0, \"ticks\": \"\"}}, \"type\": \"histogram\"}], \"histogram2d\": [{\"colorbar\": {\"outlinewidth\": 0, \"ticks\": \"\"}, \"colorscale\": [[0.0, \"#0d0887\"], [0.1111111111111111, \"#46039f\"], [0.2222222222222222, \"#7201a8\"], [0.3333333333333333, \"#9c179e\"], [0.4444444444444444, \"#bd3786\"], [0.5555555555555556, \"#d8576b\"], [0.6666666666666666, \"#ed7953\"], [0.7777777777777778, \"#fb9f3a\"], [0.8888888888888888, \"#fdca26\"], [1.0, \"#f0f921\"]], \"type\": \"histogram2d\"}], \"histogram2dcontour\": [{\"colorbar\": {\"outlinewidth\": 0, \"ticks\": \"\"}, \"colorscale\": [[0.0, \"#0d0887\"], [0.1111111111111111, \"#46039f\"], [0.2222222222222222, \"#7201a8\"], [0.3333333333333333, \"#9c179e\"], [0.4444444444444444, \"#bd3786\"], [0.5555555555555556, \"#d8576b\"], [0.6666666666666666, \"#ed7953\"], [0.7777777777777778, \"#fb9f3a\"], [0.8888888888888888, \"#fdca26\"], [1.0, \"#f0f921\"]], \"type\": \"histogram2dcontour\"}], \"mesh3d\": [{\"colorbar\": {\"outlinewidth\": 0, \"ticks\": \"\"}, \"type\": \"mesh3d\"}], \"parcoords\": [{\"line\": {\"colorbar\": {\"outlinewidth\": 0, \"ticks\": \"\"}}, \"type\": \"parcoords\"}], \"pie\": [{\"automargin\": true, \"type\": \"pie\"}], \"scatter\": [{\"marker\": {\"colorbar\": {\"outlinewidth\": 0, \"ticks\": \"\"}}, \"type\": \"scatter\"}], \"scatter3d\": [{\"line\": {\"colorbar\": {\"outlinewidth\": 0, \"ticks\": \"\"}}, \"marker\": {\"colorbar\": {\"outlinewidth\": 0, \"ticks\": \"\"}}, \"type\": \"scatter3d\"}], \"scattercarpet\": [{\"marker\": {\"colorbar\": {\"outlinewidth\": 0, \"ticks\": \"\"}}, \"type\": \"scattercarpet\"}], \"scattergeo\": [{\"marker\": {\"colorbar\": {\"outlinewidth\": 0, \"ticks\": \"\"}}, \"type\": \"scattergeo\"}], \"scattergl\": [{\"marker\": {\"colorbar\": {\"outlinewidth\": 0, \"ticks\": \"\"}}, \"type\": \"scattergl\"}], \"scattermapbox\": [{\"marker\": {\"colorbar\": {\"outlinewidth\": 0, \"ticks\": \"\"}}, \"type\": \"scattermapbox\"}], \"scatterpolar\": [{\"marker\": {\"colorbar\": {\"outlinewidth\": 0, \"ticks\": \"\"}}, \"type\": \"scatterpolar\"}], \"scatterpolargl\": [{\"marker\": {\"colorbar\": {\"outlinewidth\": 0, \"ticks\": \"\"}}, \"type\": \"scatterpolargl\"}], \"scatterternary\": [{\"marker\": {\"colorbar\": {\"outlinewidth\": 0, \"ticks\": \"\"}}, \"type\": \"scatterternary\"}], \"surface\": [{\"colorbar\": {\"outlinewidth\": 0, \"ticks\": \"\"}, \"colorscale\": [[0.0, \"#0d0887\"], [0.1111111111111111, \"#46039f\"], [0.2222222222222222, \"#7201a8\"], [0.3333333333333333, \"#9c179e\"], [0.4444444444444444, \"#bd3786\"], [0.5555555555555556, \"#d8576b\"], [0.6666666666666666, \"#ed7953\"], [0.7777777777777778, \"#fb9f3a\"], [0.8888888888888888, \"#fdca26\"], [1.0, \"#f0f921\"]], \"type\": \"surface\"}], \"table\": [{\"cells\": {\"fill\": {\"color\": \"#EBF0F8\"}, \"line\": {\"color\": \"white\"}}, \"header\": {\"fill\": {\"color\": \"#C8D4E3\"}, \"line\": {\"color\": \"white\"}}, \"type\": \"table\"}]}, \"layout\": {\"annotationdefaults\": {\"arrowcolor\": \"#2a3f5f\", \"arrowhead\": 0, \"arrowwidth\": 1}, \"coloraxis\": {\"colorbar\": {\"outlinewidth\": 0, \"ticks\": \"\"}}, \"colorscale\": {\"diverging\": [[0, \"#8e0152\"], [0.1, \"#c51b7d\"], [0.2, \"#de77ae\"], [0.3, \"#f1b6da\"], [0.4, \"#fde0ef\"], [0.5, \"#f7f7f7\"], [0.6, \"#e6f5d0\"], [0.7, \"#b8e186\"], [0.8, \"#7fbc41\"], [0.9, \"#4d9221\"], [1, \"#276419\"]], \"sequential\": [[0.0, \"#0d0887\"], [0.1111111111111111, \"#46039f\"], [0.2222222222222222, \"#7201a8\"], [0.3333333333333333, \"#9c179e\"], [0.4444444444444444, \"#bd3786\"], [0.5555555555555556, \"#d8576b\"], [0.6666666666666666, \"#ed7953\"], [0.7777777777777778, \"#fb9f3a\"], [0.8888888888888888, \"#fdca26\"], [1.0, \"#f0f921\"]], \"sequentialminus\": [[0.0, \"#0d0887\"], [0.1111111111111111, \"#46039f\"], [0.2222222222222222, \"#7201a8\"], [0.3333333333333333, \"#9c179e\"], [0.4444444444444444, \"#bd3786\"], [0.5555555555555556, \"#d8576b\"], [0.6666666666666666, \"#ed7953\"], [0.7777777777777778, \"#fb9f3a\"], [0.8888888888888888, \"#fdca26\"], [1.0, \"#f0f921\"]]}, \"colorway\": [\"#636efa\", \"#EF553B\", \"#00cc96\", \"#ab63fa\", \"#FFA15A\", \"#19d3f3\", \"#FF6692\", \"#B6E880\", \"#FF97FF\", \"#FECB52\"], \"font\": {\"color\": \"#2a3f5f\"}, \"geo\": {\"bgcolor\": \"white\", \"lakecolor\": \"white\", \"landcolor\": \"#E5ECF6\", \"showlakes\": true, \"showland\": true, \"subunitcolor\": \"white\"}, \"hoverlabel\": {\"align\": \"left\"}, \"hovermode\": \"closest\", \"mapbox\": {\"style\": \"light\"}, \"paper_bgcolor\": \"white\", \"plot_bgcolor\": \"#E5ECF6\", \"polar\": {\"angularaxis\": {\"gridcolor\": \"white\", \"linecolor\": \"white\", \"ticks\": \"\"}, \"bgcolor\": \"#E5ECF6\", \"radialaxis\": {\"gridcolor\": \"white\", \"linecolor\": \"white\", \"ticks\": \"\"}}, \"scene\": {\"xaxis\": {\"backgroundcolor\": \"#E5ECF6\", \"gridcolor\": \"white\", \"gridwidth\": 2, \"linecolor\": \"white\", \"showbackground\": true, \"ticks\": \"\", \"zerolinecolor\": \"white\"}, \"yaxis\": {\"backgroundcolor\": \"#E5ECF6\", \"gridcolor\": \"white\", \"gridwidth\": 2, \"linecolor\": \"white\", \"showbackground\": true, \"ticks\": \"\", \"zerolinecolor\": \"white\"}, \"zaxis\": {\"backgroundcolor\": \"#E5ECF6\", \"gridcolor\": \"white\", \"gridwidth\": 2, \"linecolor\": \"white\", \"showbackground\": true, \"ticks\": \"\", \"zerolinecolor\": \"white\"}}, \"shapedefaults\": {\"line\": {\"color\": \"#2a3f5f\"}}, \"ternary\": {\"aaxis\": {\"gridcolor\": \"white\", \"linecolor\": \"white\", \"ticks\": \"\"}, \"baxis\": {\"gridcolor\": \"white\", \"linecolor\": \"white\", \"ticks\": \"\"}, \"bgcolor\": \"#E5ECF6\", \"caxis\": {\"gridcolor\": \"white\", \"linecolor\": \"white\", \"ticks\": \"\"}}, \"title\": {\"x\": 0.05}, \"xaxis\": {\"automargin\": true, \"gridcolor\": \"white\", \"linecolor\": \"white\", \"ticks\": \"\", \"title\": {\"standoff\": 15}, \"zerolinecolor\": \"white\", \"zerolinewidth\": 2}, \"yaxis\": {\"automargin\": true, \"gridcolor\": \"white\", \"linecolor\": \"white\", \"ticks\": \"\", \"title\": {\"standoff\": 15}, \"zerolinecolor\": \"white\", \"zerolinewidth\": 2}}}, \"title\": {\"font\": {\"size\": 25}, \"text\": \"scaling relation\"}, \"width\": 800},\n",
       "                        {\"responsive\": true}\n",
       "                    ).then(function(){\n",
       "                            \n",
       "var gd = document.getElementById('d66d4c32-4bd1-4ea2-902e-b2a94ebed433');\n",
       "var x = new MutationObserver(function (mutations, observer) {{\n",
       "        var display = window.getComputedStyle(gd).display;\n",
       "        if (!display || display === 'none') {{\n",
       "            console.log([gd, 'removed!']);\n",
       "            Plotly.purge(gd);\n",
       "            observer.disconnect();\n",
       "        }}\n",
       "}});\n",
       "\n",
       "// Listen for the removal of the full notebook cells\n",
       "var notebookContainer = gd.closest('#notebook-container');\n",
       "if (notebookContainer) {{\n",
       "    x.observe(notebookContainer, {childList: true});\n",
       "}}\n",
       "\n",
       "// Listen for the clearing of the current output cell\n",
       "var outputEl = gd.closest('.output');\n",
       "if (outputEl) {{\n",
       "    x.observe(outputEl, {childList: true});\n",
       "}}\n",
       "\n",
       "                        })\n",
       "                };\n",
       "                });\n",
       "            </script>\n",
       "        </div>"
      ]
     },
     "metadata": {},
     "output_type": "display_data"
    }
   ],
   "source": [
    "# scatter 그래프 그리기\n",
    "\n",
    "trace1 = go.Scatter(x = df['DE_OH'], y = df['DE_OOH'], name = 'OOH vs OH', mode = 'markers',\n",
    "                    marker = dict(size = 15, symbol = 18)) # color = '#ff9f43'\n",
    "trace2 = go.Scatter(x = df['DE_OH'], y = df['DE_O'], name = 'O vs OH', mode = 'markers',\n",
    "                    marker = dict(size = 15, symbol = 0, color = 'rgb(255,0,0)'))\n",
    "trace3 = go.Scatter(x = df['DE_OH'], y = df['DE_OH'], name = 'OH vs OH', mode = 'markers',\n",
    "                    marker = dict(size = 15, symbol = 0))\n",
    "\n",
    "data = [trace1, trace2, trace3]\n",
    "\n",
    "layout = go.Layout(height = 600, width = 800,title = 'scaling relation', titlefont = dict(size = 25))\n",
    "fig = go.Figure(data = data, layout = layout)\n",
    "# pyo.iplot(fig)\n",
    "fig.show()"
   ]
  },
  {
   "cell_type": "code",
   "execution_count": 120,
   "metadata": {},
   "outputs": [
    {
     "data": {
      "application/vnd.plotly.v1+json": {
       "config": {
        "plotlyServerURL": "https://plot.ly"
       },
       "data": [
        {
         "mode": "lines+text",
         "name": "SrTcO3",
         "text": [
          "",
          "H2O",
          "",
          "OH*",
          "",
          "O*",
          "",
          "OOH*",
          "",
          "O2(g)"
         ],
         "textposition": "bottom center",
         "type": "scatter",
         "x": [
          0,
          1,
          1,
          2,
          2,
          3,
          3,
          4,
          4,
          5
         ],
         "xaxis": "x",
         "y": [
          0,
          0,
          -1.077,
          -1.077,
          -0.727,
          -0.727,
          2.136,
          2.136,
          4.92,
          4.92
         ],
         "yaxis": "y"
        },
        {
         "mode": "lines+text",
         "name": "BaFeO3",
         "text": [
          "",
          "H2O",
          "",
          "OH*",
          "",
          "O*",
          "",
          "OOH*",
          "",
          "O2(g)"
         ],
         "textposition": "bottom center",
         "type": "scatter",
         "x": [
          0,
          1,
          1,
          2,
          2,
          3,
          3,
          4,
          4,
          5
         ],
         "xaxis": "x2",
         "y": [
          0,
          0,
          1.729,
          1.729,
          4.432,
          4.432,
          4.572,
          4.572,
          4.92,
          4.92
         ],
         "yaxis": "y2"
        },
        {
         "mode": "lines+text",
         "name": "BaMoO3",
         "text": [
          "",
          "H2O",
          "",
          "OH*",
          "",
          "O*",
          "",
          "OOH*",
          "",
          "O2(g)"
         ],
         "textposition": "bottom center",
         "type": "scatter",
         "x": [
          0,
          1,
          1,
          2,
          2,
          3,
          3,
          4,
          4,
          5
         ],
         "xaxis": "x3",
         "y": [
          0,
          0,
          -0.597,
          -0.597,
          -0.873,
          -0.873,
          2.674,
          2.674,
          4.92,
          4.92
         ],
         "yaxis": "y3"
        },
        {
         "mode": "lines+text",
         "name": "KTaO3",
         "text": [
          "",
          "H2O",
          "",
          "OH*",
          "",
          "O*",
          "",
          "OOH*",
          "",
          "O2(g)"
         ],
         "textposition": "bottom center",
         "type": "scatter",
         "x": [
          0,
          1,
          1,
          2,
          2,
          3,
          3,
          4,
          4,
          5
         ],
         "xaxis": "x4",
         "y": [
          0,
          0,
          -1.296,
          -1.296,
          -0.634,
          -0.634,
          2.23,
          2.23,
          4.92,
          4.92
         ],
         "yaxis": "y4"
        },
        {
         "mode": "lines+text",
         "name": "BaZrO3",
         "text": [
          "",
          "H2O",
          "",
          "OH*",
          "",
          "O*",
          "",
          "OOH*",
          "",
          "O2(g)"
         ],
         "textposition": "bottom center",
         "type": "scatter",
         "x": [
          0,
          1,
          1,
          2,
          2,
          3,
          3,
          4,
          4,
          5
         ],
         "xaxis": "x5",
         "y": [
          0,
          0,
          0.995,
          0.995,
          4.123,
          4.123,
          4.361,
          4.361,
          4.92,
          4.92
         ],
         "yaxis": "y5"
        },
        {
         "mode": "lines+text",
         "name": "SrFeO3",
         "text": [
          "",
          "H2O",
          "",
          "OH*",
          "",
          "O*",
          "",
          "OOH*",
          "",
          "O2(g)"
         ],
         "textposition": "bottom center",
         "type": "scatter",
         "x": [
          0,
          1,
          1,
          2,
          2,
          3,
          3,
          4,
          4,
          5
         ],
         "xaxis": "x6",
         "y": [
          0,
          0,
          1.731,
          1.731,
          4.586,
          4.586,
          4.595,
          4.595,
          4.92,
          4.92
         ],
         "yaxis": "y6"
        },
        {
         "mode": "lines+text",
         "name": "KTcO3",
         "text": [
          "",
          "H2O",
          "",
          "OH*",
          "",
          "O*",
          "",
          "OOH*",
          "",
          "O2(g)"
         ],
         "textposition": "bottom center",
         "type": "scatter",
         "x": [
          0,
          1,
          1,
          2,
          2,
          3,
          3,
          4,
          4,
          5
         ],
         "xaxis": "x7",
         "y": [
          0,
          0,
          -0.255,
          -0.255,
          0.426,
          0.426,
          2.886,
          2.886,
          4.92,
          4.92
         ],
         "yaxis": "y7"
        },
        {
         "mode": "lines+text",
         "name": "NaTcO3",
         "text": [
          "",
          "H2O",
          "",
          "OH*",
          "",
          "O*",
          "",
          "OOH*",
          "",
          "O2(g)"
         ],
         "textposition": "bottom center",
         "type": "scatter",
         "x": [
          0,
          1,
          1,
          2,
          2,
          3,
          3,
          4,
          4,
          5
         ],
         "xaxis": "x8",
         "y": [
          0,
          0,
          -0.362,
          -0.362,
          0.281,
          0.281,
          2.804,
          2.804,
          4.92,
          4.92
         ],
         "yaxis": "y8"
        },
        {
         "mode": "lines+text",
         "name": "BaHfO3",
         "text": [
          "",
          "H2O",
          "",
          "OH*",
          "",
          "O*",
          "",
          "OOH*",
          "",
          "O2(g)"
         ],
         "textposition": "bottom center",
         "type": "scatter",
         "x": [
          0,
          1,
          1,
          2,
          2,
          3,
          3,
          4,
          4,
          5
         ],
         "xaxis": "x9",
         "y": [
          0,
          0,
          0.896,
          0.896,
          4.003,
          4.003,
          4.192,
          4.192,
          4.92,
          4.92
         ],
         "yaxis": "y9"
        },
        {
         "mode": "lines+text",
         "name": "SrTiO3",
         "text": [
          "",
          "H2O",
          "",
          "OH*",
          "",
          "O*",
          "",
          "OOH*",
          "",
          "O2(g)"
         ],
         "textposition": "bottom center",
         "type": "scatter",
         "x": [
          0,
          1,
          1,
          2,
          2,
          3,
          3,
          4,
          4,
          5
         ],
         "xaxis": "x10",
         "y": [
          0,
          0,
          0.981,
          0.981,
          3.869,
          3.869,
          4.287,
          4.287,
          4.92,
          4.92
         ],
         "yaxis": "y10"
        },
        {
         "mode": "lines+text",
         "name": "SrCuO3",
         "text": [
          "",
          "H2O",
          "",
          "OH*",
          "",
          "O*",
          "",
          "OOH*",
          "",
          "O2(g)"
         ],
         "textposition": "bottom center",
         "type": "scatter",
         "x": [
          0,
          1,
          1,
          2,
          2,
          3,
          3,
          4,
          4,
          5
         ],
         "xaxis": "x11",
         "y": [
          0,
          0,
          1.712,
          1.712,
          4.21,
          4.21,
          4.662,
          4.662,
          4.92,
          4.92
         ],
         "yaxis": "y11"
        },
        {
         "mode": "lines+text",
         "name": "KNbO3",
         "text": [
          "",
          "H2O",
          "",
          "OH*",
          "",
          "O*",
          "",
          "OOH*",
          "",
          "O2(g)"
         ],
         "textposition": "bottom center",
         "type": "scatter",
         "x": [
          0,
          1,
          1,
          2,
          2,
          3,
          3,
          4,
          4,
          5
         ],
         "xaxis": "x12",
         "y": [
          0,
          0,
          -0.512,
          -0.512,
          0.445,
          0.445,
          2.953,
          2.953,
          4.92,
          4.92
         ],
         "yaxis": "y12"
        },
        {
         "mode": "lines+text",
         "name": "NaTaO3",
         "text": [
          "",
          "H2O",
          "",
          "OH*",
          "",
          "O*",
          "",
          "OOH*",
          "",
          "O2(g)"
         ],
         "textposition": "bottom center",
         "type": "scatter",
         "x": [
          0,
          1,
          1,
          2,
          2,
          3,
          3,
          4,
          4,
          5
         ],
         "xaxis": "x13",
         "y": [
          0,
          0,
          -1.424,
          -1.424,
          -0.919,
          -0.919,
          2.078,
          2.078,
          4.92,
          4.92
         ],
         "yaxis": "y13"
        },
        {
         "mode": "lines+text",
         "name": "BaScO3",
         "text": [
          "",
          "H2O",
          "",
          "OH*",
          "",
          "O*",
          "",
          "OOH*",
          "",
          "O2(g)"
         ],
         "textposition": "bottom center",
         "type": "scatter",
         "x": [
          0,
          1,
          1,
          2,
          2,
          3,
          3,
          4,
          4,
          5
         ],
         "xaxis": "x14",
         "y": [
          0,
          0,
          1.896,
          1.896,
          4.68,
          4.68,
          4.632,
          4.632,
          4.92,
          4.92
         ],
         "yaxis": "y14"
        },
        {
         "mode": "lines+text",
         "name": "BaPdO3",
         "text": [
          "",
          "H2O",
          "",
          "OH*",
          "",
          "O*",
          "",
          "OOH*",
          "",
          "O2(g)"
         ],
         "textposition": "bottom center",
         "type": "scatter",
         "x": [
          0,
          1,
          1,
          2,
          2,
          3,
          3,
          4,
          4,
          5
         ],
         "xaxis": "x15",
         "y": [
          0,
          0,
          1.405,
          1.405,
          3.435,
          3.435,
          4.32,
          4.32,
          4.92,
          4.92
         ],
         "yaxis": "y15"
        },
        {
         "mode": "lines+text",
         "name": "BaTaO3",
         "text": [
          "",
          "H2O",
          "",
          "OH*",
          "",
          "O*",
          "",
          "OOH*",
          "",
          "O2(g)"
         ],
         "textposition": "bottom center",
         "type": "scatter",
         "x": [
          0,
          1,
          1,
          2,
          2,
          3,
          3,
          4,
          4,
          5
         ],
         "xaxis": "x16",
         "y": [
          0,
          0,
          -2.181,
          -2.181,
          -2.591,
          -2.591,
          "NaN",
          "NaN",
          4.92,
          4.92
         ],
         "yaxis": "y16"
        },
        {
         "mode": "lines+text",
         "name": "SrHfO3",
         "text": [
          "",
          "H2O",
          "",
          "OH*",
          "",
          "O*",
          "",
          "OOH*",
          "",
          "O2(g)"
         ],
         "textposition": "bottom center",
         "type": "scatter",
         "x": [
          0,
          1,
          1,
          2,
          2,
          3,
          3,
          4,
          4,
          5
         ],
         "xaxis": "x17",
         "y": [
          0,
          0,
          0.786,
          0.786,
          3.932,
          3.932,
          4.115,
          4.115,
          4.92,
          4.92
         ],
         "yaxis": "y17"
        },
        {
         "mode": "lines+text",
         "name": "NaOsO3",
         "text": [
          "",
          "H2O",
          "",
          "OH*",
          "",
          "O*",
          "",
          "OOH*",
          "",
          "O2(g)"
         ],
         "textposition": "bottom center",
         "type": "scatter",
         "x": [
          0,
          1,
          1,
          2,
          2,
          3,
          3,
          4,
          4,
          5
         ],
         "xaxis": "x18",
         "y": [
          0,
          0,
          "NaN",
          "NaN",
          0.557,
          0.557,
          "NaN",
          "NaN",
          4.92,
          4.92
         ],
         "yaxis": "y18"
        },
        {
         "mode": "lines+text",
         "name": "TlTcO3",
         "text": [
          "",
          "H2O",
          "",
          "OH*",
          "",
          "O*",
          "",
          "OOH*",
          "",
          "O2(g)"
         ],
         "textposition": "bottom center",
         "type": "scatter",
         "x": [
          0,
          1,
          1,
          2,
          2,
          3,
          3,
          4,
          4,
          5
         ],
         "xaxis": "x19",
         "y": [
          0,
          0,
          -0.326,
          -0.326,
          0.293,
          0.293,
          2.755,
          2.755,
          4.92,
          4.92
         ],
         "yaxis": "y19"
        },
        {
         "mode": "lines+text",
         "name": "KReO3",
         "text": [
          "",
          "H2O",
          "",
          "OH*",
          "",
          "O*",
          "",
          "OOH*",
          "",
          "O2(g)"
         ],
         "textposition": "bottom center",
         "type": "scatter",
         "x": [
          0,
          1,
          1,
          2,
          2,
          3,
          3,
          4,
          4,
          5
         ],
         "xaxis": "x20",
         "y": [
          0,
          0,
          -1.028,
          -1.028,
          -0.564,
          -0.564,
          2.194,
          2.194,
          4.92,
          4.92
         ],
         "yaxis": "y20"
        }
       ],
       "layout": {
        "annotations": [
         {
          "font": {
           "size": 16
          },
          "showarrow": false,
          "text": "SrTcO3",
          "x": 0.5,
          "xanchor": "center",
          "xref": "paper",
          "y": 0.9999999999999998,
          "yanchor": "bottom",
          "yref": "paper"
         },
         {
          "font": {
           "size": 16
          },
          "showarrow": false,
          "text": "BaFeO3",
          "x": 0.5,
          "xanchor": "center",
          "xref": "paper",
          "y": 0.9494999999999998,
          "yanchor": "bottom",
          "yref": "paper"
         },
         {
          "font": {
           "size": 16
          },
          "showarrow": false,
          "text": "BaMoO3",
          "x": 0.5,
          "xanchor": "center",
          "xref": "paper",
          "y": 0.8989999999999999,
          "yanchor": "bottom",
          "yref": "paper"
         },
         {
          "font": {
           "size": 16
          },
          "showarrow": false,
          "text": "KTaO3",
          "x": 0.5,
          "xanchor": "center",
          "xref": "paper",
          "y": 0.8484999999999999,
          "yanchor": "bottom",
          "yref": "paper"
         },
         {
          "font": {
           "size": 16
          },
          "showarrow": false,
          "text": "BaZrO3",
          "x": 0.5,
          "xanchor": "center",
          "xref": "paper",
          "y": 0.7979999999999999,
          "yanchor": "bottom",
          "yref": "paper"
         },
         {
          "font": {
           "size": 16
          },
          "showarrow": false,
          "text": "SrFeO3",
          "x": 0.5,
          "xanchor": "center",
          "xref": "paper",
          "y": 0.7474999999999999,
          "yanchor": "bottom",
          "yref": "paper"
         },
         {
          "font": {
           "size": 16
          },
          "showarrow": false,
          "text": "KTcO3",
          "x": 0.5,
          "xanchor": "center",
          "xref": "paper",
          "y": 0.697,
          "yanchor": "bottom",
          "yref": "paper"
         },
         {
          "font": {
           "size": 16
          },
          "showarrow": false,
          "text": "NaTcO3",
          "x": 0.5,
          "xanchor": "center",
          "xref": "paper",
          "y": 0.6464999999999999,
          "yanchor": "bottom",
          "yref": "paper"
         },
         {
          "font": {
           "size": 16
          },
          "showarrow": false,
          "text": "BaHfO3",
          "x": 0.5,
          "xanchor": "center",
          "xref": "paper",
          "y": 0.596,
          "yanchor": "bottom",
          "yref": "paper"
         },
         {
          "font": {
           "size": 16
          },
          "showarrow": false,
          "text": "SrTiO3",
          "x": 0.5,
          "xanchor": "center",
          "xref": "paper",
          "y": 0.5455,
          "yanchor": "bottom",
          "yref": "paper"
         },
         {
          "font": {
           "size": 16
          },
          "showarrow": false,
          "text": "SrCuO3",
          "x": 0.5,
          "xanchor": "center",
          "xref": "paper",
          "y": 0.495,
          "yanchor": "bottom",
          "yref": "paper"
         },
         {
          "font": {
           "size": 16
          },
          "showarrow": false,
          "text": "KNbO3",
          "x": 0.5,
          "xanchor": "center",
          "xref": "paper",
          "y": 0.4445,
          "yanchor": "bottom",
          "yref": "paper"
         },
         {
          "font": {
           "size": 16
          },
          "showarrow": false,
          "text": "NaTaO3",
          "x": 0.5,
          "xanchor": "center",
          "xref": "paper",
          "y": 0.394,
          "yanchor": "bottom",
          "yref": "paper"
         },
         {
          "font": {
           "size": 16
          },
          "showarrow": false,
          "text": "BaScO3",
          "x": 0.5,
          "xanchor": "center",
          "xref": "paper",
          "y": 0.3435,
          "yanchor": "bottom",
          "yref": "paper"
         },
         {
          "font": {
           "size": 16
          },
          "showarrow": false,
          "text": "BaPdO3",
          "x": 0.5,
          "xanchor": "center",
          "xref": "paper",
          "y": 0.293,
          "yanchor": "bottom",
          "yref": "paper"
         },
         {
          "font": {
           "size": 16
          },
          "showarrow": false,
          "text": "BaTaO3",
          "x": 0.5,
          "xanchor": "center",
          "xref": "paper",
          "y": 0.24250000000000002,
          "yanchor": "bottom",
          "yref": "paper"
         },
         {
          "font": {
           "size": 16
          },
          "showarrow": false,
          "text": "SrHfO3",
          "x": 0.5,
          "xanchor": "center",
          "xref": "paper",
          "y": 0.192,
          "yanchor": "bottom",
          "yref": "paper"
         },
         {
          "font": {
           "size": 16
          },
          "showarrow": false,
          "text": "NaOsO3",
          "x": 0.5,
          "xanchor": "center",
          "xref": "paper",
          "y": 0.14150000000000001,
          "yanchor": "bottom",
          "yref": "paper"
         },
         {
          "font": {
           "size": 16
          },
          "showarrow": false,
          "text": "TlTcO3",
          "x": 0.5,
          "xanchor": "center",
          "xref": "paper",
          "y": 0.091,
          "yanchor": "bottom",
          "yref": "paper"
         },
         {
          "font": {
           "size": 16
          },
          "showarrow": false,
          "text": "KReO3",
          "x": 0.5,
          "xanchor": "center",
          "xref": "paper",
          "y": 0.0405,
          "yanchor": "bottom",
          "yref": "paper"
         },
         {
          "font": {
           "size": 16
          },
          "showarrow": false,
          "text": "SrTcO3",
          "x": 0.5,
          "xanchor": "center",
          "xref": "paper",
          "y": 0.9999999999999998,
          "yanchor": "bottom",
          "yref": "paper"
         }
        ],
        "height": 4000,
        "showlegend": true,
        "template": {
         "data": {
          "bar": [
           {
            "error_x": {
             "color": "#2a3f5f"
            },
            "error_y": {
             "color": "#2a3f5f"
            },
            "marker": {
             "line": {
              "color": "#E5ECF6",
              "width": 0.5
             }
            },
            "type": "bar"
           }
          ],
          "barpolar": [
           {
            "marker": {
             "line": {
              "color": "#E5ECF6",
              "width": 0.5
             }
            },
            "type": "barpolar"
           }
          ],
          "carpet": [
           {
            "aaxis": {
             "endlinecolor": "#2a3f5f",
             "gridcolor": "white",
             "linecolor": "white",
             "minorgridcolor": "white",
             "startlinecolor": "#2a3f5f"
            },
            "baxis": {
             "endlinecolor": "#2a3f5f",
             "gridcolor": "white",
             "linecolor": "white",
             "minorgridcolor": "white",
             "startlinecolor": "#2a3f5f"
            },
            "type": "carpet"
           }
          ],
          "choropleth": [
           {
            "colorbar": {
             "outlinewidth": 0,
             "ticks": ""
            },
            "type": "choropleth"
           }
          ],
          "contour": [
           {
            "colorbar": {
             "outlinewidth": 0,
             "ticks": ""
            },
            "colorscale": [
             [
              0,
              "#0d0887"
             ],
             [
              0.1111111111111111,
              "#46039f"
             ],
             [
              0.2222222222222222,
              "#7201a8"
             ],
             [
              0.3333333333333333,
              "#9c179e"
             ],
             [
              0.4444444444444444,
              "#bd3786"
             ],
             [
              0.5555555555555556,
              "#d8576b"
             ],
             [
              0.6666666666666666,
              "#ed7953"
             ],
             [
              0.7777777777777778,
              "#fb9f3a"
             ],
             [
              0.8888888888888888,
              "#fdca26"
             ],
             [
              1,
              "#f0f921"
             ]
            ],
            "type": "contour"
           }
          ],
          "contourcarpet": [
           {
            "colorbar": {
             "outlinewidth": 0,
             "ticks": ""
            },
            "type": "contourcarpet"
           }
          ],
          "heatmap": [
           {
            "colorbar": {
             "outlinewidth": 0,
             "ticks": ""
            },
            "colorscale": [
             [
              0,
              "#0d0887"
             ],
             [
              0.1111111111111111,
              "#46039f"
             ],
             [
              0.2222222222222222,
              "#7201a8"
             ],
             [
              0.3333333333333333,
              "#9c179e"
             ],
             [
              0.4444444444444444,
              "#bd3786"
             ],
             [
              0.5555555555555556,
              "#d8576b"
             ],
             [
              0.6666666666666666,
              "#ed7953"
             ],
             [
              0.7777777777777778,
              "#fb9f3a"
             ],
             [
              0.8888888888888888,
              "#fdca26"
             ],
             [
              1,
              "#f0f921"
             ]
            ],
            "type": "heatmap"
           }
          ],
          "heatmapgl": [
           {
            "colorbar": {
             "outlinewidth": 0,
             "ticks": ""
            },
            "colorscale": [
             [
              0,
              "#0d0887"
             ],
             [
              0.1111111111111111,
              "#46039f"
             ],
             [
              0.2222222222222222,
              "#7201a8"
             ],
             [
              0.3333333333333333,
              "#9c179e"
             ],
             [
              0.4444444444444444,
              "#bd3786"
             ],
             [
              0.5555555555555556,
              "#d8576b"
             ],
             [
              0.6666666666666666,
              "#ed7953"
             ],
             [
              0.7777777777777778,
              "#fb9f3a"
             ],
             [
              0.8888888888888888,
              "#fdca26"
             ],
             [
              1,
              "#f0f921"
             ]
            ],
            "type": "heatmapgl"
           }
          ],
          "histogram": [
           {
            "marker": {
             "colorbar": {
              "outlinewidth": 0,
              "ticks": ""
             }
            },
            "type": "histogram"
           }
          ],
          "histogram2d": [
           {
            "colorbar": {
             "outlinewidth": 0,
             "ticks": ""
            },
            "colorscale": [
             [
              0,
              "#0d0887"
             ],
             [
              0.1111111111111111,
              "#46039f"
             ],
             [
              0.2222222222222222,
              "#7201a8"
             ],
             [
              0.3333333333333333,
              "#9c179e"
             ],
             [
              0.4444444444444444,
              "#bd3786"
             ],
             [
              0.5555555555555556,
              "#d8576b"
             ],
             [
              0.6666666666666666,
              "#ed7953"
             ],
             [
              0.7777777777777778,
              "#fb9f3a"
             ],
             [
              0.8888888888888888,
              "#fdca26"
             ],
             [
              1,
              "#f0f921"
             ]
            ],
            "type": "histogram2d"
           }
          ],
          "histogram2dcontour": [
           {
            "colorbar": {
             "outlinewidth": 0,
             "ticks": ""
            },
            "colorscale": [
             [
              0,
              "#0d0887"
             ],
             [
              0.1111111111111111,
              "#46039f"
             ],
             [
              0.2222222222222222,
              "#7201a8"
             ],
             [
              0.3333333333333333,
              "#9c179e"
             ],
             [
              0.4444444444444444,
              "#bd3786"
             ],
             [
              0.5555555555555556,
              "#d8576b"
             ],
             [
              0.6666666666666666,
              "#ed7953"
             ],
             [
              0.7777777777777778,
              "#fb9f3a"
             ],
             [
              0.8888888888888888,
              "#fdca26"
             ],
             [
              1,
              "#f0f921"
             ]
            ],
            "type": "histogram2dcontour"
           }
          ],
          "mesh3d": [
           {
            "colorbar": {
             "outlinewidth": 0,
             "ticks": ""
            },
            "type": "mesh3d"
           }
          ],
          "parcoords": [
           {
            "line": {
             "colorbar": {
              "outlinewidth": 0,
              "ticks": ""
             }
            },
            "type": "parcoords"
           }
          ],
          "pie": [
           {
            "automargin": true,
            "type": "pie"
           }
          ],
          "scatter": [
           {
            "marker": {
             "colorbar": {
              "outlinewidth": 0,
              "ticks": ""
             }
            },
            "type": "scatter"
           }
          ],
          "scatter3d": [
           {
            "line": {
             "colorbar": {
              "outlinewidth": 0,
              "ticks": ""
             }
            },
            "marker": {
             "colorbar": {
              "outlinewidth": 0,
              "ticks": ""
             }
            },
            "type": "scatter3d"
           }
          ],
          "scattercarpet": [
           {
            "marker": {
             "colorbar": {
              "outlinewidth": 0,
              "ticks": ""
             }
            },
            "type": "scattercarpet"
           }
          ],
          "scattergeo": [
           {
            "marker": {
             "colorbar": {
              "outlinewidth": 0,
              "ticks": ""
             }
            },
            "type": "scattergeo"
           }
          ],
          "scattergl": [
           {
            "marker": {
             "colorbar": {
              "outlinewidth": 0,
              "ticks": ""
             }
            },
            "type": "scattergl"
           }
          ],
          "scattermapbox": [
           {
            "marker": {
             "colorbar": {
              "outlinewidth": 0,
              "ticks": ""
             }
            },
            "type": "scattermapbox"
           }
          ],
          "scatterpolar": [
           {
            "marker": {
             "colorbar": {
              "outlinewidth": 0,
              "ticks": ""
             }
            },
            "type": "scatterpolar"
           }
          ],
          "scatterpolargl": [
           {
            "marker": {
             "colorbar": {
              "outlinewidth": 0,
              "ticks": ""
             }
            },
            "type": "scatterpolargl"
           }
          ],
          "scatterternary": [
           {
            "marker": {
             "colorbar": {
              "outlinewidth": 0,
              "ticks": ""
             }
            },
            "type": "scatterternary"
           }
          ],
          "surface": [
           {
            "colorbar": {
             "outlinewidth": 0,
             "ticks": ""
            },
            "colorscale": [
             [
              0,
              "#0d0887"
             ],
             [
              0.1111111111111111,
              "#46039f"
             ],
             [
              0.2222222222222222,
              "#7201a8"
             ],
             [
              0.3333333333333333,
              "#9c179e"
             ],
             [
              0.4444444444444444,
              "#bd3786"
             ],
             [
              0.5555555555555556,
              "#d8576b"
             ],
             [
              0.6666666666666666,
              "#ed7953"
             ],
             [
              0.7777777777777778,
              "#fb9f3a"
             ],
             [
              0.8888888888888888,
              "#fdca26"
             ],
             [
              1,
              "#f0f921"
             ]
            ],
            "type": "surface"
           }
          ],
          "table": [
           {
            "cells": {
             "fill": {
              "color": "#EBF0F8"
             },
             "line": {
              "color": "white"
             }
            },
            "header": {
             "fill": {
              "color": "#C8D4E3"
             },
             "line": {
              "color": "white"
             }
            },
            "type": "table"
           }
          ]
         },
         "layout": {
          "annotationdefaults": {
           "arrowcolor": "#2a3f5f",
           "arrowhead": 0,
           "arrowwidth": 1
          },
          "coloraxis": {
           "colorbar": {
            "outlinewidth": 0,
            "ticks": ""
           }
          },
          "colorscale": {
           "diverging": [
            [
             0,
             "#8e0152"
            ],
            [
             0.1,
             "#c51b7d"
            ],
            [
             0.2,
             "#de77ae"
            ],
            [
             0.3,
             "#f1b6da"
            ],
            [
             0.4,
             "#fde0ef"
            ],
            [
             0.5,
             "#f7f7f7"
            ],
            [
             0.6,
             "#e6f5d0"
            ],
            [
             0.7,
             "#b8e186"
            ],
            [
             0.8,
             "#7fbc41"
            ],
            [
             0.9,
             "#4d9221"
            ],
            [
             1,
             "#276419"
            ]
           ],
           "sequential": [
            [
             0,
             "#0d0887"
            ],
            [
             0.1111111111111111,
             "#46039f"
            ],
            [
             0.2222222222222222,
             "#7201a8"
            ],
            [
             0.3333333333333333,
             "#9c179e"
            ],
            [
             0.4444444444444444,
             "#bd3786"
            ],
            [
             0.5555555555555556,
             "#d8576b"
            ],
            [
             0.6666666666666666,
             "#ed7953"
            ],
            [
             0.7777777777777778,
             "#fb9f3a"
            ],
            [
             0.8888888888888888,
             "#fdca26"
            ],
            [
             1,
             "#f0f921"
            ]
           ],
           "sequentialminus": [
            [
             0,
             "#0d0887"
            ],
            [
             0.1111111111111111,
             "#46039f"
            ],
            [
             0.2222222222222222,
             "#7201a8"
            ],
            [
             0.3333333333333333,
             "#9c179e"
            ],
            [
             0.4444444444444444,
             "#bd3786"
            ],
            [
             0.5555555555555556,
             "#d8576b"
            ],
            [
             0.6666666666666666,
             "#ed7953"
            ],
            [
             0.7777777777777778,
             "#fb9f3a"
            ],
            [
             0.8888888888888888,
             "#fdca26"
            ],
            [
             1,
             "#f0f921"
            ]
           ]
          },
          "colorway": [
           "#636efa",
           "#EF553B",
           "#00cc96",
           "#ab63fa",
           "#FFA15A",
           "#19d3f3",
           "#FF6692",
           "#B6E880",
           "#FF97FF",
           "#FECB52"
          ],
          "font": {
           "color": "#2a3f5f"
          },
          "geo": {
           "bgcolor": "white",
           "lakecolor": "white",
           "landcolor": "#E5ECF6",
           "showlakes": true,
           "showland": true,
           "subunitcolor": "white"
          },
          "hoverlabel": {
           "align": "left"
          },
          "hovermode": "closest",
          "mapbox": {
           "style": "light"
          },
          "paper_bgcolor": "white",
          "plot_bgcolor": "#E5ECF6",
          "polar": {
           "angularaxis": {
            "gridcolor": "white",
            "linecolor": "white",
            "ticks": ""
           },
           "bgcolor": "#E5ECF6",
           "radialaxis": {
            "gridcolor": "white",
            "linecolor": "white",
            "ticks": ""
           }
          },
          "scene": {
           "xaxis": {
            "backgroundcolor": "#E5ECF6",
            "gridcolor": "white",
            "gridwidth": 2,
            "linecolor": "white",
            "showbackground": true,
            "ticks": "",
            "zerolinecolor": "white"
           },
           "yaxis": {
            "backgroundcolor": "#E5ECF6",
            "gridcolor": "white",
            "gridwidth": 2,
            "linecolor": "white",
            "showbackground": true,
            "ticks": "",
            "zerolinecolor": "white"
           },
           "zaxis": {
            "backgroundcolor": "#E5ECF6",
            "gridcolor": "white",
            "gridwidth": 2,
            "linecolor": "white",
            "showbackground": true,
            "ticks": "",
            "zerolinecolor": "white"
           }
          },
          "shapedefaults": {
           "line": {
            "color": "#2a3f5f"
           }
          },
          "ternary": {
           "aaxis": {
            "gridcolor": "white",
            "linecolor": "white",
            "ticks": ""
           },
           "baxis": {
            "gridcolor": "white",
            "linecolor": "white",
            "ticks": ""
           },
           "bgcolor": "#E5ECF6",
           "caxis": {
            "gridcolor": "white",
            "linecolor": "white",
            "ticks": ""
           }
          },
          "title": {
           "x": 0.05
          },
          "xaxis": {
           "automargin": true,
           "gridcolor": "white",
           "linecolor": "white",
           "ticks": "",
           "title": {
            "standoff": 15
           },
           "zerolinecolor": "white",
           "zerolinewidth": 2
          },
          "yaxis": {
           "automargin": true,
           "gridcolor": "white",
           "linecolor": "white",
           "ticks": "",
           "title": {
            "standoff": 15
           },
           "zerolinecolor": "white",
           "zerolinewidth": 2
          }
         }
        },
        "title": {
         "text": "free_energy_diagram"
        },
        "width": 600,
        "xaxis": {
         "anchor": "y",
         "domain": [
          0,
          1
         ],
         "matches": "x20",
         "showticklabels": false
        },
        "xaxis10": {
         "anchor": "y10",
         "domain": [
          0,
          1
         ],
         "matches": "x20",
         "showticklabels": false
        },
        "xaxis11": {
         "anchor": "y11",
         "domain": [
          0,
          1
         ],
         "matches": "x20",
         "showticklabels": false
        },
        "xaxis12": {
         "anchor": "y12",
         "domain": [
          0,
          1
         ],
         "matches": "x20",
         "showticklabels": false
        },
        "xaxis13": {
         "anchor": "y13",
         "domain": [
          0,
          1
         ],
         "matches": "x20",
         "showticklabels": false
        },
        "xaxis14": {
         "anchor": "y14",
         "domain": [
          0,
          1
         ],
         "matches": "x20",
         "showticklabels": false
        },
        "xaxis15": {
         "anchor": "y15",
         "domain": [
          0,
          1
         ],
         "matches": "x20",
         "showticklabels": false
        },
        "xaxis16": {
         "anchor": "y16",
         "domain": [
          0,
          1
         ],
         "matches": "x20",
         "showticklabels": false
        },
        "xaxis17": {
         "anchor": "y17",
         "domain": [
          0,
          1
         ],
         "matches": "x20",
         "showticklabels": false
        },
        "xaxis18": {
         "anchor": "y18",
         "domain": [
          0,
          1
         ],
         "matches": "x20",
         "showticklabels": false
        },
        "xaxis19": {
         "anchor": "y19",
         "domain": [
          0,
          1
         ],
         "matches": "x20",
         "showticklabels": false
        },
        "xaxis2": {
         "anchor": "y2",
         "domain": [
          0,
          1
         ],
         "matches": "x20",
         "showticklabels": false
        },
        "xaxis20": {
         "anchor": "y20",
         "domain": [
          0,
          1
         ]
        },
        "xaxis3": {
         "anchor": "y3",
         "domain": [
          0,
          1
         ],
         "matches": "x20",
         "showticklabels": false
        },
        "xaxis4": {
         "anchor": "y4",
         "domain": [
          0,
          1
         ],
         "matches": "x20",
         "showticklabels": false
        },
        "xaxis5": {
         "anchor": "y5",
         "domain": [
          0,
          1
         ],
         "matches": "x20",
         "showticklabels": false
        },
        "xaxis6": {
         "anchor": "y6",
         "domain": [
          0,
          1
         ],
         "matches": "x20",
         "showticklabels": false
        },
        "xaxis7": {
         "anchor": "y7",
         "domain": [
          0,
          1
         ],
         "matches": "x20",
         "showticklabels": false
        },
        "xaxis8": {
         "anchor": "y8",
         "domain": [
          0,
          1
         ],
         "matches": "x20",
         "showticklabels": false
        },
        "xaxis9": {
         "anchor": "y9",
         "domain": [
          0,
          1
         ],
         "matches": "x20",
         "showticklabels": false
        },
        "yaxis": {
         "anchor": "x",
         "domain": [
          0.9594999999999998,
          0.9999999999999998
         ],
         "title": {
          "text": "DG_eV"
         }
        },
        "yaxis10": {
         "anchor": "x10",
         "domain": [
          0.505,
          0.5455
         ],
         "title": {
          "text": "DG_eV"
         }
        },
        "yaxis11": {
         "anchor": "x11",
         "domain": [
          0.4545,
          0.495
         ],
         "title": {
          "text": "DG_eV"
         }
        },
        "yaxis12": {
         "anchor": "x12",
         "domain": [
          0.404,
          0.4445
         ],
         "title": {
          "text": "DG_eV"
         }
        },
        "yaxis13": {
         "anchor": "x13",
         "domain": [
          0.35350000000000004,
          0.394
         ],
         "title": {
          "text": "DG_eV"
         }
        },
        "yaxis14": {
         "anchor": "x14",
         "domain": [
          0.30300000000000005,
          0.3435
         ],
         "title": {
          "text": "DG_eV"
         }
        },
        "yaxis15": {
         "anchor": "x15",
         "domain": [
          0.2525,
          0.293
         ],
         "title": {
          "text": "DG_eV"
         }
        },
        "yaxis16": {
         "anchor": "x16",
         "domain": [
          0.202,
          0.24250000000000002
         ],
         "title": {
          "text": "DG_eV"
         }
        },
        "yaxis17": {
         "anchor": "x17",
         "domain": [
          0.1515,
          0.192
         ],
         "title": {
          "text": "DG_eV"
         }
        },
        "yaxis18": {
         "anchor": "x18",
         "domain": [
          0.101,
          0.14150000000000001
         ],
         "title": {
          "text": "DG_eV"
         }
        },
        "yaxis19": {
         "anchor": "x19",
         "domain": [
          0.0505,
          0.091
         ],
         "title": {
          "text": "DG_eV"
         }
        },
        "yaxis2": {
         "anchor": "x2",
         "domain": [
          0.9089999999999998,
          0.9494999999999998
         ],
         "title": {
          "text": "DG_eV"
         }
        },
        "yaxis20": {
         "anchor": "x20",
         "domain": [
          0,
          0.0405
         ],
         "title": {
          "text": "DG_eV"
         }
        },
        "yaxis3": {
         "anchor": "x3",
         "domain": [
          0.8584999999999999,
          0.8989999999999999
         ],
         "title": {
          "text": "DG_eV"
         }
        },
        "yaxis4": {
         "anchor": "x4",
         "domain": [
          0.8079999999999999,
          0.8484999999999999
         ],
         "title": {
          "text": "DG_eV"
         }
        },
        "yaxis5": {
         "anchor": "x5",
         "domain": [
          0.7575,
          0.7979999999999999
         ],
         "title": {
          "text": "DG_eV"
         }
        },
        "yaxis6": {
         "anchor": "x6",
         "domain": [
          0.707,
          0.7474999999999999
         ],
         "title": {
          "text": "DG_eV"
         }
        },
        "yaxis7": {
         "anchor": "x7",
         "domain": [
          0.6565,
          0.697
         ],
         "title": {
          "text": "DG_eV"
         }
        },
        "yaxis8": {
         "anchor": "x8",
         "domain": [
          0.6059999999999999,
          0.6464999999999999
         ],
         "title": {
          "text": "DG_eV"
         }
        },
        "yaxis9": {
         "anchor": "x9",
         "domain": [
          0.5555,
          0.596
         ],
         "title": {
          "text": "DG_eV"
         }
        }
       }
      },
      "text/html": [
       "<div>\n",
       "        \n",
       "        \n",
       "            <div id=\"2e2f2ef5-686c-4dea-a953-6fae2074f894\" class=\"plotly-graph-div\" style=\"height:4000px; width:600px;\"></div>\n",
       "            <script type=\"text/javascript\">\n",
       "                require([\"plotly\"], function(Plotly) {\n",
       "                    window.PLOTLYENV=window.PLOTLYENV || {};\n",
       "                    \n",
       "                if (document.getElementById(\"2e2f2ef5-686c-4dea-a953-6fae2074f894\")) {\n",
       "                    Plotly.newPlot(\n",
       "                        '2e2f2ef5-686c-4dea-a953-6fae2074f894',\n",
       "                        [{\"mode\": \"lines+text\", \"name\": \"SrTcO3\", \"text\": [\"\", \"H2O\", \"\", \"OH*\", \"\", \"O*\", \"\", \"OOH*\", \"\", \"O2(g)\"], \"textposition\": \"bottom center\", \"type\": \"scatter\", \"x\": [0, 1, 1, 2, 2, 3, 3, 4, 4, 5], \"xaxis\": \"x\", \"y\": [0, 0, -1.077, -1.077, -0.727, -0.727, 2.136, 2.136, 4.92, 4.92], \"yaxis\": \"y\"}, {\"mode\": \"lines+text\", \"name\": \"BaFeO3\", \"text\": [\"\", \"H2O\", \"\", \"OH*\", \"\", \"O*\", \"\", \"OOH*\", \"\", \"O2(g)\"], \"textposition\": \"bottom center\", \"type\": \"scatter\", \"x\": [0, 1, 1, 2, 2, 3, 3, 4, 4, 5], \"xaxis\": \"x2\", \"y\": [0, 0, 1.729, 1.729, 4.432, 4.432, 4.572, 4.572, 4.92, 4.92], \"yaxis\": \"y2\"}, {\"mode\": \"lines+text\", \"name\": \"BaMoO3\", \"text\": [\"\", \"H2O\", \"\", \"OH*\", \"\", \"O*\", \"\", \"OOH*\", \"\", \"O2(g)\"], \"textposition\": \"bottom center\", \"type\": \"scatter\", \"x\": [0, 1, 1, 2, 2, 3, 3, 4, 4, 5], \"xaxis\": \"x3\", \"y\": [0, 0, -0.597, -0.597, -0.873, -0.873, 2.674, 2.674, 4.92, 4.92], \"yaxis\": \"y3\"}, {\"mode\": \"lines+text\", \"name\": \"KTaO3\", \"text\": [\"\", \"H2O\", \"\", \"OH*\", \"\", \"O*\", \"\", \"OOH*\", \"\", \"O2(g)\"], \"textposition\": \"bottom center\", \"type\": \"scatter\", \"x\": [0, 1, 1, 2, 2, 3, 3, 4, 4, 5], \"xaxis\": \"x4\", \"y\": [0, 0, -1.296, -1.296, -0.634, -0.634, 2.23, 2.23, 4.92, 4.92], \"yaxis\": \"y4\"}, {\"mode\": \"lines+text\", \"name\": \"BaZrO3\", \"text\": [\"\", \"H2O\", \"\", \"OH*\", \"\", \"O*\", \"\", \"OOH*\", \"\", \"O2(g)\"], \"textposition\": \"bottom center\", \"type\": \"scatter\", \"x\": [0, 1, 1, 2, 2, 3, 3, 4, 4, 5], \"xaxis\": \"x5\", \"y\": [0, 0, 0.995, 0.995, 4.123, 4.123, 4.361, 4.361, 4.92, 4.92], \"yaxis\": \"y5\"}, {\"mode\": \"lines+text\", \"name\": \"SrFeO3\", \"text\": [\"\", \"H2O\", \"\", \"OH*\", \"\", \"O*\", \"\", \"OOH*\", \"\", \"O2(g)\"], \"textposition\": \"bottom center\", \"type\": \"scatter\", \"x\": [0, 1, 1, 2, 2, 3, 3, 4, 4, 5], \"xaxis\": \"x6\", \"y\": [0, 0, 1.731, 1.731, 4.586, 4.586, 4.595, 4.595, 4.92, 4.92], \"yaxis\": \"y6\"}, {\"mode\": \"lines+text\", \"name\": \"KTcO3\", \"text\": [\"\", \"H2O\", \"\", \"OH*\", \"\", \"O*\", \"\", \"OOH*\", \"\", \"O2(g)\"], \"textposition\": \"bottom center\", \"type\": \"scatter\", \"x\": [0, 1, 1, 2, 2, 3, 3, 4, 4, 5], \"xaxis\": \"x7\", \"y\": [0, 0, -0.255, -0.255, 0.426, 0.426, 2.886, 2.886, 4.92, 4.92], \"yaxis\": \"y7\"}, {\"mode\": \"lines+text\", \"name\": \"NaTcO3\", \"text\": [\"\", \"H2O\", \"\", \"OH*\", \"\", \"O*\", \"\", \"OOH*\", \"\", \"O2(g)\"], \"textposition\": \"bottom center\", \"type\": \"scatter\", \"x\": [0, 1, 1, 2, 2, 3, 3, 4, 4, 5], \"xaxis\": \"x8\", \"y\": [0, 0, -0.362, -0.362, 0.281, 0.281, 2.804, 2.804, 4.92, 4.92], \"yaxis\": \"y8\"}, {\"mode\": \"lines+text\", \"name\": \"BaHfO3\", \"text\": [\"\", \"H2O\", \"\", \"OH*\", \"\", \"O*\", \"\", \"OOH*\", \"\", \"O2(g)\"], \"textposition\": \"bottom center\", \"type\": \"scatter\", \"x\": [0, 1, 1, 2, 2, 3, 3, 4, 4, 5], \"xaxis\": \"x9\", \"y\": [0, 0, 0.896, 0.896, 4.003, 4.003, 4.192, 4.192, 4.92, 4.92], \"yaxis\": \"y9\"}, {\"mode\": \"lines+text\", \"name\": \"SrTiO3\", \"text\": [\"\", \"H2O\", \"\", \"OH*\", \"\", \"O*\", \"\", \"OOH*\", \"\", \"O2(g)\"], \"textposition\": \"bottom center\", \"type\": \"scatter\", \"x\": [0, 1, 1, 2, 2, 3, 3, 4, 4, 5], \"xaxis\": \"x10\", \"y\": [0, 0, 0.981, 0.981, 3.869, 3.869, 4.287, 4.287, 4.92, 4.92], \"yaxis\": \"y10\"}, {\"mode\": \"lines+text\", \"name\": \"SrCuO3\", \"text\": [\"\", \"H2O\", \"\", \"OH*\", \"\", \"O*\", \"\", \"OOH*\", \"\", \"O2(g)\"], \"textposition\": \"bottom center\", \"type\": \"scatter\", \"x\": [0, 1, 1, 2, 2, 3, 3, 4, 4, 5], \"xaxis\": \"x11\", \"y\": [0, 0, 1.712, 1.712, 4.21, 4.21, 4.662, 4.662, 4.92, 4.92], \"yaxis\": \"y11\"}, {\"mode\": \"lines+text\", \"name\": \"KNbO3\", \"text\": [\"\", \"H2O\", \"\", \"OH*\", \"\", \"O*\", \"\", \"OOH*\", \"\", \"O2(g)\"], \"textposition\": \"bottom center\", \"type\": \"scatter\", \"x\": [0, 1, 1, 2, 2, 3, 3, 4, 4, 5], \"xaxis\": \"x12\", \"y\": [0, 0, -0.512, -0.512, 0.445, 0.445, 2.953, 2.953, 4.92, 4.92], \"yaxis\": \"y12\"}, {\"mode\": \"lines+text\", \"name\": \"NaTaO3\", \"text\": [\"\", \"H2O\", \"\", \"OH*\", \"\", \"O*\", \"\", \"OOH*\", \"\", \"O2(g)\"], \"textposition\": \"bottom center\", \"type\": \"scatter\", \"x\": [0, 1, 1, 2, 2, 3, 3, 4, 4, 5], \"xaxis\": \"x13\", \"y\": [0, 0, -1.424, -1.424, -0.919, -0.919, 2.078, 2.078, 4.92, 4.92], \"yaxis\": \"y13\"}, {\"mode\": \"lines+text\", \"name\": \"BaScO3\", \"text\": [\"\", \"H2O\", \"\", \"OH*\", \"\", \"O*\", \"\", \"OOH*\", \"\", \"O2(g)\"], \"textposition\": \"bottom center\", \"type\": \"scatter\", \"x\": [0, 1, 1, 2, 2, 3, 3, 4, 4, 5], \"xaxis\": \"x14\", \"y\": [0, 0, 1.896, 1.896, 4.68, 4.68, 4.632, 4.632, 4.92, 4.92], \"yaxis\": \"y14\"}, {\"mode\": \"lines+text\", \"name\": \"BaPdO3\", \"text\": [\"\", \"H2O\", \"\", \"OH*\", \"\", \"O*\", \"\", \"OOH*\", \"\", \"O2(g)\"], \"textposition\": \"bottom center\", \"type\": \"scatter\", \"x\": [0, 1, 1, 2, 2, 3, 3, 4, 4, 5], \"xaxis\": \"x15\", \"y\": [0, 0, 1.405, 1.405, 3.435, 3.435, 4.32, 4.32, 4.92, 4.92], \"yaxis\": \"y15\"}, {\"mode\": \"lines+text\", \"name\": \"BaTaO3\", \"text\": [\"\", \"H2O\", \"\", \"OH*\", \"\", \"O*\", \"\", \"OOH*\", \"\", \"O2(g)\"], \"textposition\": \"bottom center\", \"type\": \"scatter\", \"x\": [0, 1, 1, 2, 2, 3, 3, 4, 4, 5], \"xaxis\": \"x16\", \"y\": [0, 0, -2.181, -2.181, -2.591, -2.591, \"NaN\", \"NaN\", 4.92, 4.92], \"yaxis\": \"y16\"}, {\"mode\": \"lines+text\", \"name\": \"SrHfO3\", \"text\": [\"\", \"H2O\", \"\", \"OH*\", \"\", \"O*\", \"\", \"OOH*\", \"\", \"O2(g)\"], \"textposition\": \"bottom center\", \"type\": \"scatter\", \"x\": [0, 1, 1, 2, 2, 3, 3, 4, 4, 5], \"xaxis\": \"x17\", \"y\": [0, 0, 0.786, 0.786, 3.932, 3.932, 4.115, 4.115, 4.92, 4.92], \"yaxis\": \"y17\"}, {\"mode\": \"lines+text\", \"name\": \"NaOsO3\", \"text\": [\"\", \"H2O\", \"\", \"OH*\", \"\", \"O*\", \"\", \"OOH*\", \"\", \"O2(g)\"], \"textposition\": \"bottom center\", \"type\": \"scatter\", \"x\": [0, 1, 1, 2, 2, 3, 3, 4, 4, 5], \"xaxis\": \"x18\", \"y\": [0, 0, \"NaN\", \"NaN\", 0.557, 0.557, \"NaN\", \"NaN\", 4.92, 4.92], \"yaxis\": \"y18\"}, {\"mode\": \"lines+text\", \"name\": \"TlTcO3\", \"text\": [\"\", \"H2O\", \"\", \"OH*\", \"\", \"O*\", \"\", \"OOH*\", \"\", \"O2(g)\"], \"textposition\": \"bottom center\", \"type\": \"scatter\", \"x\": [0, 1, 1, 2, 2, 3, 3, 4, 4, 5], \"xaxis\": \"x19\", \"y\": [0, 0, -0.326, -0.326, 0.293, 0.293, 2.755, 2.755, 4.92, 4.92], \"yaxis\": \"y19\"}, {\"mode\": \"lines+text\", \"name\": \"KReO3\", \"text\": [\"\", \"H2O\", \"\", \"OH*\", \"\", \"O*\", \"\", \"OOH*\", \"\", \"O2(g)\"], \"textposition\": \"bottom center\", \"type\": \"scatter\", \"x\": [0, 1, 1, 2, 2, 3, 3, 4, 4, 5], \"xaxis\": \"x20\", \"y\": [0, 0, -1.028, -1.028, -0.564, -0.564, 2.194, 2.194, 4.92, 4.92], \"yaxis\": \"y20\"}],\n",
       "                        {\"annotations\": [{\"font\": {\"size\": 16}, \"showarrow\": false, \"text\": \"SrTcO3\", \"x\": 0.5, \"xanchor\": \"center\", \"xref\": \"paper\", \"y\": 0.9999999999999998, \"yanchor\": \"bottom\", \"yref\": \"paper\"}, {\"font\": {\"size\": 16}, \"showarrow\": false, \"text\": \"BaFeO3\", \"x\": 0.5, \"xanchor\": \"center\", \"xref\": \"paper\", \"y\": 0.9494999999999998, \"yanchor\": \"bottom\", \"yref\": \"paper\"}, {\"font\": {\"size\": 16}, \"showarrow\": false, \"text\": \"BaMoO3\", \"x\": 0.5, \"xanchor\": \"center\", \"xref\": \"paper\", \"y\": 0.8989999999999999, \"yanchor\": \"bottom\", \"yref\": \"paper\"}, {\"font\": {\"size\": 16}, \"showarrow\": false, \"text\": \"KTaO3\", \"x\": 0.5, \"xanchor\": \"center\", \"xref\": \"paper\", \"y\": 0.8484999999999999, \"yanchor\": \"bottom\", \"yref\": \"paper\"}, {\"font\": {\"size\": 16}, \"showarrow\": false, \"text\": \"BaZrO3\", \"x\": 0.5, \"xanchor\": \"center\", \"xref\": \"paper\", \"y\": 0.7979999999999999, \"yanchor\": \"bottom\", \"yref\": \"paper\"}, {\"font\": {\"size\": 16}, \"showarrow\": false, \"text\": \"SrFeO3\", \"x\": 0.5, \"xanchor\": \"center\", \"xref\": \"paper\", \"y\": 0.7474999999999999, \"yanchor\": \"bottom\", \"yref\": \"paper\"}, {\"font\": {\"size\": 16}, \"showarrow\": false, \"text\": \"KTcO3\", \"x\": 0.5, \"xanchor\": \"center\", \"xref\": \"paper\", \"y\": 0.697, \"yanchor\": \"bottom\", \"yref\": \"paper\"}, {\"font\": {\"size\": 16}, \"showarrow\": false, \"text\": \"NaTcO3\", \"x\": 0.5, \"xanchor\": \"center\", \"xref\": \"paper\", \"y\": 0.6464999999999999, \"yanchor\": \"bottom\", \"yref\": \"paper\"}, {\"font\": {\"size\": 16}, \"showarrow\": false, \"text\": \"BaHfO3\", \"x\": 0.5, \"xanchor\": \"center\", \"xref\": \"paper\", \"y\": 0.596, \"yanchor\": \"bottom\", \"yref\": \"paper\"}, {\"font\": {\"size\": 16}, \"showarrow\": false, \"text\": \"SrTiO3\", \"x\": 0.5, \"xanchor\": \"center\", \"xref\": \"paper\", \"y\": 0.5455, \"yanchor\": \"bottom\", \"yref\": \"paper\"}, {\"font\": {\"size\": 16}, \"showarrow\": false, \"text\": \"SrCuO3\", \"x\": 0.5, \"xanchor\": \"center\", \"xref\": \"paper\", \"y\": 0.495, \"yanchor\": \"bottom\", \"yref\": \"paper\"}, {\"font\": {\"size\": 16}, \"showarrow\": false, \"text\": \"KNbO3\", \"x\": 0.5, \"xanchor\": \"center\", \"xref\": \"paper\", \"y\": 0.4445, \"yanchor\": \"bottom\", \"yref\": \"paper\"}, {\"font\": {\"size\": 16}, \"showarrow\": false, \"text\": \"NaTaO3\", \"x\": 0.5, \"xanchor\": \"center\", \"xref\": \"paper\", \"y\": 0.394, \"yanchor\": \"bottom\", \"yref\": \"paper\"}, {\"font\": {\"size\": 16}, \"showarrow\": false, \"text\": \"BaScO3\", \"x\": 0.5, \"xanchor\": \"center\", \"xref\": \"paper\", \"y\": 0.3435, \"yanchor\": \"bottom\", \"yref\": \"paper\"}, {\"font\": {\"size\": 16}, \"showarrow\": false, \"text\": \"BaPdO3\", \"x\": 0.5, \"xanchor\": \"center\", \"xref\": \"paper\", \"y\": 0.293, \"yanchor\": \"bottom\", \"yref\": \"paper\"}, {\"font\": {\"size\": 16}, \"showarrow\": false, \"text\": \"BaTaO3\", \"x\": 0.5, \"xanchor\": \"center\", \"xref\": \"paper\", \"y\": 0.24250000000000002, \"yanchor\": \"bottom\", \"yref\": \"paper\"}, {\"font\": {\"size\": 16}, \"showarrow\": false, \"text\": \"SrHfO3\", \"x\": 0.5, \"xanchor\": \"center\", \"xref\": \"paper\", \"y\": 0.192, \"yanchor\": \"bottom\", \"yref\": \"paper\"}, {\"font\": {\"size\": 16}, \"showarrow\": false, \"text\": \"NaOsO3\", \"x\": 0.5, \"xanchor\": \"center\", \"xref\": \"paper\", \"y\": 0.14150000000000001, \"yanchor\": \"bottom\", \"yref\": \"paper\"}, {\"font\": {\"size\": 16}, \"showarrow\": false, \"text\": \"TlTcO3\", \"x\": 0.5, \"xanchor\": \"center\", \"xref\": \"paper\", \"y\": 0.091, \"yanchor\": \"bottom\", \"yref\": \"paper\"}, {\"font\": {\"size\": 16}, \"showarrow\": false, \"text\": \"KReO3\", \"x\": 0.5, \"xanchor\": \"center\", \"xref\": \"paper\", \"y\": 0.0405, \"yanchor\": \"bottom\", \"yref\": \"paper\"}, {\"font\": {\"size\": 16}, \"showarrow\": false, \"text\": \"SrTcO3\", \"x\": 0.5, \"xanchor\": \"center\", \"xref\": \"paper\", \"y\": 0.9999999999999998, \"yanchor\": \"bottom\", \"yref\": \"paper\"}], \"height\": 4000, \"showlegend\": true, \"template\": {\"data\": {\"bar\": [{\"error_x\": {\"color\": \"#2a3f5f\"}, \"error_y\": {\"color\": \"#2a3f5f\"}, \"marker\": {\"line\": {\"color\": \"#E5ECF6\", \"width\": 0.5}}, \"type\": \"bar\"}], \"barpolar\": [{\"marker\": {\"line\": {\"color\": \"#E5ECF6\", \"width\": 0.5}}, \"type\": \"barpolar\"}], \"carpet\": [{\"aaxis\": {\"endlinecolor\": \"#2a3f5f\", \"gridcolor\": \"white\", \"linecolor\": \"white\", \"minorgridcolor\": \"white\", \"startlinecolor\": \"#2a3f5f\"}, \"baxis\": {\"endlinecolor\": \"#2a3f5f\", \"gridcolor\": \"white\", \"linecolor\": \"white\", \"minorgridcolor\": \"white\", \"startlinecolor\": \"#2a3f5f\"}, \"type\": \"carpet\"}], \"choropleth\": [{\"colorbar\": {\"outlinewidth\": 0, \"ticks\": \"\"}, \"type\": \"choropleth\"}], \"contour\": [{\"colorbar\": {\"outlinewidth\": 0, \"ticks\": \"\"}, \"colorscale\": [[0.0, \"#0d0887\"], [0.1111111111111111, \"#46039f\"], [0.2222222222222222, \"#7201a8\"], [0.3333333333333333, \"#9c179e\"], [0.4444444444444444, \"#bd3786\"], [0.5555555555555556, \"#d8576b\"], [0.6666666666666666, \"#ed7953\"], [0.7777777777777778, \"#fb9f3a\"], [0.8888888888888888, \"#fdca26\"], [1.0, \"#f0f921\"]], \"type\": \"contour\"}], \"contourcarpet\": [{\"colorbar\": {\"outlinewidth\": 0, \"ticks\": \"\"}, \"type\": \"contourcarpet\"}], \"heatmap\": [{\"colorbar\": {\"outlinewidth\": 0, \"ticks\": \"\"}, \"colorscale\": [[0.0, \"#0d0887\"], [0.1111111111111111, \"#46039f\"], [0.2222222222222222, \"#7201a8\"], [0.3333333333333333, \"#9c179e\"], [0.4444444444444444, \"#bd3786\"], [0.5555555555555556, \"#d8576b\"], [0.6666666666666666, \"#ed7953\"], [0.7777777777777778, \"#fb9f3a\"], [0.8888888888888888, \"#fdca26\"], [1.0, \"#f0f921\"]], \"type\": \"heatmap\"}], \"heatmapgl\": [{\"colorbar\": {\"outlinewidth\": 0, \"ticks\": \"\"}, \"colorscale\": [[0.0, \"#0d0887\"], [0.1111111111111111, \"#46039f\"], [0.2222222222222222, \"#7201a8\"], [0.3333333333333333, \"#9c179e\"], [0.4444444444444444, \"#bd3786\"], [0.5555555555555556, \"#d8576b\"], [0.6666666666666666, \"#ed7953\"], [0.7777777777777778, \"#fb9f3a\"], [0.8888888888888888, \"#fdca26\"], [1.0, \"#f0f921\"]], \"type\": \"heatmapgl\"}], \"histogram\": [{\"marker\": {\"colorbar\": {\"outlinewidth\": 0, \"ticks\": \"\"}}, \"type\": \"histogram\"}], \"histogram2d\": [{\"colorbar\": {\"outlinewidth\": 0, \"ticks\": \"\"}, \"colorscale\": [[0.0, \"#0d0887\"], [0.1111111111111111, \"#46039f\"], [0.2222222222222222, \"#7201a8\"], [0.3333333333333333, \"#9c179e\"], [0.4444444444444444, \"#bd3786\"], [0.5555555555555556, \"#d8576b\"], [0.6666666666666666, \"#ed7953\"], [0.7777777777777778, \"#fb9f3a\"], [0.8888888888888888, \"#fdca26\"], [1.0, \"#f0f921\"]], \"type\": \"histogram2d\"}], \"histogram2dcontour\": [{\"colorbar\": {\"outlinewidth\": 0, \"ticks\": \"\"}, \"colorscale\": [[0.0, \"#0d0887\"], [0.1111111111111111, \"#46039f\"], [0.2222222222222222, \"#7201a8\"], [0.3333333333333333, \"#9c179e\"], [0.4444444444444444, \"#bd3786\"], [0.5555555555555556, \"#d8576b\"], [0.6666666666666666, \"#ed7953\"], [0.7777777777777778, \"#fb9f3a\"], [0.8888888888888888, \"#fdca26\"], [1.0, \"#f0f921\"]], \"type\": \"histogram2dcontour\"}], \"mesh3d\": [{\"colorbar\": {\"outlinewidth\": 0, \"ticks\": \"\"}, \"type\": \"mesh3d\"}], \"parcoords\": [{\"line\": {\"colorbar\": {\"outlinewidth\": 0, \"ticks\": \"\"}}, \"type\": \"parcoords\"}], \"pie\": [{\"automargin\": true, \"type\": \"pie\"}], \"scatter\": [{\"marker\": {\"colorbar\": {\"outlinewidth\": 0, \"ticks\": \"\"}}, \"type\": \"scatter\"}], \"scatter3d\": [{\"line\": {\"colorbar\": {\"outlinewidth\": 0, \"ticks\": \"\"}}, \"marker\": {\"colorbar\": {\"outlinewidth\": 0, \"ticks\": \"\"}}, \"type\": \"scatter3d\"}], \"scattercarpet\": [{\"marker\": {\"colorbar\": {\"outlinewidth\": 0, \"ticks\": \"\"}}, \"type\": \"scattercarpet\"}], \"scattergeo\": [{\"marker\": {\"colorbar\": {\"outlinewidth\": 0, \"ticks\": \"\"}}, \"type\": \"scattergeo\"}], \"scattergl\": [{\"marker\": {\"colorbar\": {\"outlinewidth\": 0, \"ticks\": \"\"}}, \"type\": \"scattergl\"}], \"scattermapbox\": [{\"marker\": {\"colorbar\": {\"outlinewidth\": 0, \"ticks\": \"\"}}, \"type\": \"scattermapbox\"}], \"scatterpolar\": [{\"marker\": {\"colorbar\": {\"outlinewidth\": 0, \"ticks\": \"\"}}, \"type\": \"scatterpolar\"}], \"scatterpolargl\": [{\"marker\": {\"colorbar\": {\"outlinewidth\": 0, \"ticks\": \"\"}}, \"type\": \"scatterpolargl\"}], \"scatterternary\": [{\"marker\": {\"colorbar\": {\"outlinewidth\": 0, \"ticks\": \"\"}}, \"type\": \"scatterternary\"}], \"surface\": [{\"colorbar\": {\"outlinewidth\": 0, \"ticks\": \"\"}, \"colorscale\": [[0.0, \"#0d0887\"], [0.1111111111111111, \"#46039f\"], [0.2222222222222222, \"#7201a8\"], [0.3333333333333333, \"#9c179e\"], [0.4444444444444444, \"#bd3786\"], [0.5555555555555556, \"#d8576b\"], [0.6666666666666666, \"#ed7953\"], [0.7777777777777778, \"#fb9f3a\"], [0.8888888888888888, \"#fdca26\"], [1.0, \"#f0f921\"]], \"type\": \"surface\"}], \"table\": [{\"cells\": {\"fill\": {\"color\": \"#EBF0F8\"}, \"line\": {\"color\": \"white\"}}, \"header\": {\"fill\": {\"color\": \"#C8D4E3\"}, \"line\": {\"color\": \"white\"}}, \"type\": \"table\"}]}, \"layout\": {\"annotationdefaults\": {\"arrowcolor\": \"#2a3f5f\", \"arrowhead\": 0, \"arrowwidth\": 1}, \"coloraxis\": {\"colorbar\": {\"outlinewidth\": 0, \"ticks\": \"\"}}, \"colorscale\": {\"diverging\": [[0, \"#8e0152\"], [0.1, \"#c51b7d\"], [0.2, \"#de77ae\"], [0.3, \"#f1b6da\"], [0.4, \"#fde0ef\"], [0.5, \"#f7f7f7\"], [0.6, \"#e6f5d0\"], [0.7, \"#b8e186\"], [0.8, \"#7fbc41\"], [0.9, \"#4d9221\"], [1, \"#276419\"]], \"sequential\": [[0.0, \"#0d0887\"], [0.1111111111111111, \"#46039f\"], [0.2222222222222222, \"#7201a8\"], [0.3333333333333333, \"#9c179e\"], [0.4444444444444444, \"#bd3786\"], [0.5555555555555556, \"#d8576b\"], [0.6666666666666666, \"#ed7953\"], [0.7777777777777778, \"#fb9f3a\"], [0.8888888888888888, \"#fdca26\"], [1.0, \"#f0f921\"]], \"sequentialminus\": [[0.0, \"#0d0887\"], [0.1111111111111111, \"#46039f\"], [0.2222222222222222, \"#7201a8\"], [0.3333333333333333, \"#9c179e\"], [0.4444444444444444, \"#bd3786\"], [0.5555555555555556, \"#d8576b\"], [0.6666666666666666, \"#ed7953\"], [0.7777777777777778, \"#fb9f3a\"], [0.8888888888888888, \"#fdca26\"], [1.0, \"#f0f921\"]]}, \"colorway\": [\"#636efa\", \"#EF553B\", \"#00cc96\", \"#ab63fa\", \"#FFA15A\", \"#19d3f3\", \"#FF6692\", \"#B6E880\", \"#FF97FF\", \"#FECB52\"], \"font\": {\"color\": \"#2a3f5f\"}, \"geo\": {\"bgcolor\": \"white\", \"lakecolor\": \"white\", \"landcolor\": \"#E5ECF6\", \"showlakes\": true, \"showland\": true, \"subunitcolor\": \"white\"}, \"hoverlabel\": {\"align\": \"left\"}, \"hovermode\": \"closest\", \"mapbox\": {\"style\": \"light\"}, \"paper_bgcolor\": \"white\", \"plot_bgcolor\": \"#E5ECF6\", \"polar\": {\"angularaxis\": {\"gridcolor\": \"white\", \"linecolor\": \"white\", \"ticks\": \"\"}, \"bgcolor\": \"#E5ECF6\", \"radialaxis\": {\"gridcolor\": \"white\", \"linecolor\": \"white\", \"ticks\": \"\"}}, \"scene\": {\"xaxis\": {\"backgroundcolor\": \"#E5ECF6\", \"gridcolor\": \"white\", \"gridwidth\": 2, \"linecolor\": \"white\", \"showbackground\": true, \"ticks\": \"\", \"zerolinecolor\": \"white\"}, \"yaxis\": {\"backgroundcolor\": \"#E5ECF6\", \"gridcolor\": \"white\", \"gridwidth\": 2, \"linecolor\": \"white\", \"showbackground\": true, \"ticks\": \"\", \"zerolinecolor\": \"white\"}, \"zaxis\": {\"backgroundcolor\": \"#E5ECF6\", \"gridcolor\": \"white\", \"gridwidth\": 2, \"linecolor\": \"white\", \"showbackground\": true, \"ticks\": \"\", \"zerolinecolor\": \"white\"}}, \"shapedefaults\": {\"line\": {\"color\": \"#2a3f5f\"}}, \"ternary\": {\"aaxis\": {\"gridcolor\": \"white\", \"linecolor\": \"white\", \"ticks\": \"\"}, \"baxis\": {\"gridcolor\": \"white\", \"linecolor\": \"white\", \"ticks\": \"\"}, \"bgcolor\": \"#E5ECF6\", \"caxis\": {\"gridcolor\": \"white\", \"linecolor\": \"white\", \"ticks\": \"\"}}, \"title\": {\"x\": 0.05}, \"xaxis\": {\"automargin\": true, \"gridcolor\": \"white\", \"linecolor\": \"white\", \"ticks\": \"\", \"title\": {\"standoff\": 15}, \"zerolinecolor\": \"white\", \"zerolinewidth\": 2}, \"yaxis\": {\"automargin\": true, \"gridcolor\": \"white\", \"linecolor\": \"white\", \"ticks\": \"\", \"title\": {\"standoff\": 15}, \"zerolinecolor\": \"white\", \"zerolinewidth\": 2}}}, \"title\": {\"text\": \"free_energy_diagram\"}, \"width\": 600, \"xaxis\": {\"anchor\": \"y\", \"domain\": [0.0, 1.0], \"matches\": \"x20\", \"showticklabels\": false}, \"xaxis10\": {\"anchor\": \"y10\", \"domain\": [0.0, 1.0], \"matches\": \"x20\", \"showticklabels\": false}, \"xaxis11\": {\"anchor\": \"y11\", \"domain\": [0.0, 1.0], \"matches\": \"x20\", \"showticklabels\": false}, \"xaxis12\": {\"anchor\": \"y12\", \"domain\": [0.0, 1.0], \"matches\": \"x20\", \"showticklabels\": false}, \"xaxis13\": {\"anchor\": \"y13\", \"domain\": [0.0, 1.0], \"matches\": \"x20\", \"showticklabels\": false}, \"xaxis14\": {\"anchor\": \"y14\", \"domain\": [0.0, 1.0], \"matches\": \"x20\", \"showticklabels\": false}, \"xaxis15\": {\"anchor\": \"y15\", \"domain\": [0.0, 1.0], \"matches\": \"x20\", \"showticklabels\": false}, \"xaxis16\": {\"anchor\": \"y16\", \"domain\": [0.0, 1.0], \"matches\": \"x20\", \"showticklabels\": false}, \"xaxis17\": {\"anchor\": \"y17\", \"domain\": [0.0, 1.0], \"matches\": \"x20\", \"showticklabels\": false}, \"xaxis18\": {\"anchor\": \"y18\", \"domain\": [0.0, 1.0], \"matches\": \"x20\", \"showticklabels\": false}, \"xaxis19\": {\"anchor\": \"y19\", \"domain\": [0.0, 1.0], \"matches\": \"x20\", \"showticklabels\": false}, \"xaxis2\": {\"anchor\": \"y2\", \"domain\": [0.0, 1.0], \"matches\": \"x20\", \"showticklabels\": false}, \"xaxis20\": {\"anchor\": \"y20\", \"domain\": [0.0, 1.0]}, \"xaxis3\": {\"anchor\": \"y3\", \"domain\": [0.0, 1.0], \"matches\": \"x20\", \"showticklabels\": false}, \"xaxis4\": {\"anchor\": \"y4\", \"domain\": [0.0, 1.0], \"matches\": \"x20\", \"showticklabels\": false}, \"xaxis5\": {\"anchor\": \"y5\", \"domain\": [0.0, 1.0], \"matches\": \"x20\", \"showticklabels\": false}, \"xaxis6\": {\"anchor\": \"y6\", \"domain\": [0.0, 1.0], \"matches\": \"x20\", \"showticklabels\": false}, \"xaxis7\": {\"anchor\": \"y7\", \"domain\": [0.0, 1.0], \"matches\": \"x20\", \"showticklabels\": false}, \"xaxis8\": {\"anchor\": \"y8\", \"domain\": [0.0, 1.0], \"matches\": \"x20\", \"showticklabels\": false}, \"xaxis9\": {\"anchor\": \"y9\", \"domain\": [0.0, 1.0], \"matches\": \"x20\", \"showticklabels\": false}, \"yaxis\": {\"anchor\": \"x\", \"domain\": [0.9594999999999998, 0.9999999999999998], \"title\": {\"text\": \"DG_eV\"}}, \"yaxis10\": {\"anchor\": \"x10\", \"domain\": [0.505, 0.5455], \"title\": {\"text\": \"DG_eV\"}}, \"yaxis11\": {\"anchor\": \"x11\", \"domain\": [0.4545, 0.495], \"title\": {\"text\": \"DG_eV\"}}, \"yaxis12\": {\"anchor\": \"x12\", \"domain\": [0.404, 0.4445], \"title\": {\"text\": \"DG_eV\"}}, \"yaxis13\": {\"anchor\": \"x13\", \"domain\": [0.35350000000000004, 0.394], \"title\": {\"text\": \"DG_eV\"}}, \"yaxis14\": {\"anchor\": \"x14\", \"domain\": [0.30300000000000005, 0.3435], \"title\": {\"text\": \"DG_eV\"}}, \"yaxis15\": {\"anchor\": \"x15\", \"domain\": [0.2525, 0.293], \"title\": {\"text\": \"DG_eV\"}}, \"yaxis16\": {\"anchor\": \"x16\", \"domain\": [0.202, 0.24250000000000002], \"title\": {\"text\": \"DG_eV\"}}, \"yaxis17\": {\"anchor\": \"x17\", \"domain\": [0.1515, 0.192], \"title\": {\"text\": \"DG_eV\"}}, \"yaxis18\": {\"anchor\": \"x18\", \"domain\": [0.101, 0.14150000000000001], \"title\": {\"text\": \"DG_eV\"}}, \"yaxis19\": {\"anchor\": \"x19\", \"domain\": [0.0505, 0.091], \"title\": {\"text\": \"DG_eV\"}}, \"yaxis2\": {\"anchor\": \"x2\", \"domain\": [0.9089999999999998, 0.9494999999999998], \"title\": {\"text\": \"DG_eV\"}}, \"yaxis20\": {\"anchor\": \"x20\", \"domain\": [0.0, 0.0405], \"title\": {\"text\": \"DG_eV\"}}, \"yaxis3\": {\"anchor\": \"x3\", \"domain\": [0.8584999999999999, 0.8989999999999999], \"title\": {\"text\": \"DG_eV\"}}, \"yaxis4\": {\"anchor\": \"x4\", \"domain\": [0.8079999999999999, 0.8484999999999999], \"title\": {\"text\": \"DG_eV\"}}, \"yaxis5\": {\"anchor\": \"x5\", \"domain\": [0.7575, 0.7979999999999999], \"title\": {\"text\": \"DG_eV\"}}, \"yaxis6\": {\"anchor\": \"x6\", \"domain\": [0.707, 0.7474999999999999], \"title\": {\"text\": \"DG_eV\"}}, \"yaxis7\": {\"anchor\": \"x7\", \"domain\": [0.6565, 0.697], \"title\": {\"text\": \"DG_eV\"}}, \"yaxis8\": {\"anchor\": \"x8\", \"domain\": [0.6059999999999999, 0.6464999999999999], \"title\": {\"text\": \"DG_eV\"}}, \"yaxis9\": {\"anchor\": \"x9\", \"domain\": [0.5555, 0.596], \"title\": {\"text\": \"DG_eV\"}}},\n",
       "                        {\"responsive\": true}\n",
       "                    ).then(function(){\n",
       "                            \n",
       "var gd = document.getElementById('2e2f2ef5-686c-4dea-a953-6fae2074f894');\n",
       "var x = new MutationObserver(function (mutations, observer) {{\n",
       "        var display = window.getComputedStyle(gd).display;\n",
       "        if (!display || display === 'none') {{\n",
       "            console.log([gd, 'removed!']);\n",
       "            Plotly.purge(gd);\n",
       "            observer.disconnect();\n",
       "        }}\n",
       "}});\n",
       "\n",
       "// Listen for the removal of the full notebook cells\n",
       "var notebookContainer = gd.closest('#notebook-container');\n",
       "if (notebookContainer) {{\n",
       "    x.observe(notebookContainer, {childList: true});\n",
       "}}\n",
       "\n",
       "// Listen for the clearing of the current output cell\n",
       "var outputEl = gd.closest('.output');\n",
       "if (outputEl) {{\n",
       "    x.observe(outputEl, {childList: true});\n",
       "}}\n",
       "\n",
       "                        })\n",
       "                };\n",
       "                });\n",
       "            </script>\n",
       "        </div>"
      ]
     },
     "metadata": {},
     "output_type": "display_data"
    }
   ],
   "source": [
    "fig = make_subplots(rows = 20, cols = 1, shared_xaxes = True,\n",
    "                   subplot_titles=tuple(df['formula']), column_titles = tuple(df['formula']),\n",
    "                   vertical_spacing = 0.01)\n",
    "\n",
    "x_list = [0,1,1,2,2,3,3,4,4,5]\n",
    "y_idx = [0,0,1,1,2,2,3,3,4,4]\n",
    "\n",
    "for idx in range(1,21):\n",
    "    ads_list= [0, df.loc[idx,'DE_OH'], df.loc[idx,'DE_O'], df.loc[idx,'DE_OOH'], 4.92]\n",
    "    \n",
    "    y_list = []\n",
    "    for x in range(len(x_list)):\n",
    "      #  print(x_list[x],\" \",ads_list[y_idx[x]])\n",
    "        y_list.append(ads_list[y_idx[x]])\n",
    "\n",
    "    fig.append_trace(go.Scatter(x = x_list, y = y_list, name = df.loc[idx,'formula'],\n",
    "                               text = ['', 'H2O','','OH*','','O*','','OOH*','','O2(g)'],\n",
    "                               textposition = \"bottom center\",\n",
    "                               mode = 'lines+text'), row = idx, col = 1)\n",
    "    fig.update_yaxes(title_text = 'DG_eV')\n",
    "    layout = go.Layout(title = 'free energy diagram', titlefont = dict(size = 25))\n",
    "\n",
    "fig.update_layout(height = 4000, width = 600, title_text = 'free_energy_diagram', showlegend = True)\n",
    "# pyo.iplot(fig)\n",
    "fig.show()\n"
   ]
  },
  {
   "cell_type": "code",
   "execution_count": 122,
   "metadata": {},
   "outputs": [
    {
     "data": {
      "application/vnd.plotly.v1+json": {
       "config": {
        "plotlyServerURL": "https://plot.ly"
       },
       "data": [
        {
         "name": "SrTcO3",
         "type": "scatter",
         "x": [
          0,
          1,
          1,
          2,
          2,
          3,
          3,
          4,
          4,
          5
         ],
         "xaxis": "x",
         "y": [
          0,
          0,
          -1.077,
          -1.077,
          -0.727,
          -0.727,
          2.136,
          2.136,
          4.92,
          4.92
         ],
         "yaxis": "y"
        },
        {
         "name": "BaFeO3",
         "type": "scatter",
         "x": [
          0,
          1,
          1,
          2,
          2,
          3,
          3,
          4,
          4,
          5
         ],
         "xaxis": "x",
         "y": [
          0,
          0,
          1.729,
          1.729,
          4.432,
          4.432,
          4.572,
          4.572,
          4.92,
          4.92
         ],
         "yaxis": "y"
        },
        {
         "name": "BaMoO3",
         "type": "scatter",
         "x": [
          0,
          1,
          1,
          2,
          2,
          3,
          3,
          4,
          4,
          5
         ],
         "xaxis": "x",
         "y": [
          0,
          0,
          -0.597,
          -0.597,
          -0.873,
          -0.873,
          2.674,
          2.674,
          4.92,
          4.92
         ],
         "yaxis": "y"
        },
        {
         "name": "KTaO3",
         "type": "scatter",
         "x": [
          0,
          1,
          1,
          2,
          2,
          3,
          3,
          4,
          4,
          5
         ],
         "xaxis": "x",
         "y": [
          0,
          0,
          -1.296,
          -1.296,
          -0.634,
          -0.634,
          2.23,
          2.23,
          4.92,
          4.92
         ],
         "yaxis": "y"
        },
        {
         "name": "BaZrO3",
         "type": "scatter",
         "x": [
          0,
          1,
          1,
          2,
          2,
          3,
          3,
          4,
          4,
          5
         ],
         "xaxis": "x",
         "y": [
          0,
          0,
          0.995,
          0.995,
          4.123,
          4.123,
          4.361,
          4.361,
          4.92,
          4.92
         ],
         "yaxis": "y"
        },
        {
         "name": "SrFeO3",
         "type": "scatter",
         "x": [
          0,
          1,
          1,
          2,
          2,
          3,
          3,
          4,
          4,
          5
         ],
         "xaxis": "x",
         "y": [
          0,
          0,
          1.731,
          1.731,
          4.586,
          4.586,
          4.595,
          4.595,
          4.92,
          4.92
         ],
         "yaxis": "y"
        },
        {
         "name": "KTcO3",
         "type": "scatter",
         "x": [
          0,
          1,
          1,
          2,
          2,
          3,
          3,
          4,
          4,
          5
         ],
         "xaxis": "x",
         "y": [
          0,
          0,
          -0.255,
          -0.255,
          0.426,
          0.426,
          2.886,
          2.886,
          4.92,
          4.92
         ],
         "yaxis": "y"
        },
        {
         "name": "NaTcO3",
         "type": "scatter",
         "x": [
          0,
          1,
          1,
          2,
          2,
          3,
          3,
          4,
          4,
          5
         ],
         "xaxis": "x",
         "y": [
          0,
          0,
          -0.362,
          -0.362,
          0.281,
          0.281,
          2.804,
          2.804,
          4.92,
          4.92
         ],
         "yaxis": "y"
        },
        {
         "name": "BaHfO3",
         "type": "scatter",
         "x": [
          0,
          1,
          1,
          2,
          2,
          3,
          3,
          4,
          4,
          5
         ],
         "xaxis": "x",
         "y": [
          0,
          0,
          0.896,
          0.896,
          4.003,
          4.003,
          4.192,
          4.192,
          4.92,
          4.92
         ],
         "yaxis": "y"
        },
        {
         "name": "SrTiO3",
         "type": "scatter",
         "x": [
          0,
          1,
          1,
          2,
          2,
          3,
          3,
          4,
          4,
          5
         ],
         "xaxis": "x",
         "y": [
          0,
          0,
          0.981,
          0.981,
          3.869,
          3.869,
          4.287,
          4.287,
          4.92,
          4.92
         ],
         "yaxis": "y"
        },
        {
         "name": "SrCuO3",
         "type": "scatter",
         "x": [
          0,
          1,
          1,
          2,
          2,
          3,
          3,
          4,
          4,
          5
         ],
         "xaxis": "x",
         "y": [
          0,
          0,
          1.712,
          1.712,
          4.21,
          4.21,
          4.662,
          4.662,
          4.92,
          4.92
         ],
         "yaxis": "y"
        },
        {
         "name": "KNbO3",
         "type": "scatter",
         "x": [
          0,
          1,
          1,
          2,
          2,
          3,
          3,
          4,
          4,
          5
         ],
         "xaxis": "x",
         "y": [
          0,
          0,
          -0.512,
          -0.512,
          0.445,
          0.445,
          2.953,
          2.953,
          4.92,
          4.92
         ],
         "yaxis": "y"
        },
        {
         "name": "NaTaO3",
         "type": "scatter",
         "x": [
          0,
          1,
          1,
          2,
          2,
          3,
          3,
          4,
          4,
          5
         ],
         "xaxis": "x",
         "y": [
          0,
          0,
          -1.424,
          -1.424,
          -0.919,
          -0.919,
          2.078,
          2.078,
          4.92,
          4.92
         ],
         "yaxis": "y"
        },
        {
         "name": "BaScO3",
         "type": "scatter",
         "x": [
          0,
          1,
          1,
          2,
          2,
          3,
          3,
          4,
          4,
          5
         ],
         "xaxis": "x",
         "y": [
          0,
          0,
          1.896,
          1.896,
          4.68,
          4.68,
          4.632,
          4.632,
          4.92,
          4.92
         ],
         "yaxis": "y"
        },
        {
         "name": "BaPdO3",
         "type": "scatter",
         "x": [
          0,
          1,
          1,
          2,
          2,
          3,
          3,
          4,
          4,
          5
         ],
         "xaxis": "x",
         "y": [
          0,
          0,
          1.405,
          1.405,
          3.435,
          3.435,
          4.32,
          4.32,
          4.92,
          4.92
         ],
         "yaxis": "y"
        },
        {
         "name": "BaTaO3",
         "type": "scatter",
         "x": [
          0,
          1,
          1,
          2,
          2,
          3,
          3,
          4,
          4,
          5
         ],
         "xaxis": "x",
         "y": [
          0,
          0,
          -2.181,
          -2.181,
          -2.591,
          -2.591,
          "NaN",
          "NaN",
          4.92,
          4.92
         ],
         "yaxis": "y"
        },
        {
         "name": "SrHfO3",
         "type": "scatter",
         "x": [
          0,
          1,
          1,
          2,
          2,
          3,
          3,
          4,
          4,
          5
         ],
         "xaxis": "x",
         "y": [
          0,
          0,
          0.786,
          0.786,
          3.932,
          3.932,
          4.115,
          4.115,
          4.92,
          4.92
         ],
         "yaxis": "y"
        },
        {
         "name": "NaOsO3",
         "type": "scatter",
         "x": [
          0,
          1,
          1,
          2,
          2,
          3,
          3,
          4,
          4,
          5
         ],
         "xaxis": "x",
         "y": [
          0,
          0,
          "NaN",
          "NaN",
          0.557,
          0.557,
          "NaN",
          "NaN",
          4.92,
          4.92
         ],
         "yaxis": "y"
        },
        {
         "name": "TlTcO3",
         "type": "scatter",
         "x": [
          0,
          1,
          1,
          2,
          2,
          3,
          3,
          4,
          4,
          5
         ],
         "xaxis": "x",
         "y": [
          0,
          0,
          -0.326,
          -0.326,
          0.293,
          0.293,
          2.755,
          2.755,
          4.92,
          4.92
         ],
         "yaxis": "y"
        },
        {
         "name": "KReO3",
         "type": "scatter",
         "x": [
          0,
          1,
          1,
          2,
          2,
          3,
          3,
          4,
          4,
          5
         ],
         "xaxis": "x",
         "y": [
          0,
          0,
          -1.028,
          -1.028,
          -0.564,
          -0.564,
          2.194,
          2.194,
          4.92,
          4.92
         ],
         "yaxis": "y"
        }
       ],
       "layout": {
        "height": 600,
        "legend": {
         "y": 0.95,
         "yanchor": "top"
        },
        "template": {
         "data": {
          "bar": [
           {
            "error_x": {
             "color": "#2a3f5f"
            },
            "error_y": {
             "color": "#2a3f5f"
            },
            "marker": {
             "line": {
              "color": "#E5ECF6",
              "width": 0.5
             }
            },
            "type": "bar"
           }
          ],
          "barpolar": [
           {
            "marker": {
             "line": {
              "color": "#E5ECF6",
              "width": 0.5
             }
            },
            "type": "barpolar"
           }
          ],
          "carpet": [
           {
            "aaxis": {
             "endlinecolor": "#2a3f5f",
             "gridcolor": "white",
             "linecolor": "white",
             "minorgridcolor": "white",
             "startlinecolor": "#2a3f5f"
            },
            "baxis": {
             "endlinecolor": "#2a3f5f",
             "gridcolor": "white",
             "linecolor": "white",
             "minorgridcolor": "white",
             "startlinecolor": "#2a3f5f"
            },
            "type": "carpet"
           }
          ],
          "choropleth": [
           {
            "colorbar": {
             "outlinewidth": 0,
             "ticks": ""
            },
            "type": "choropleth"
           }
          ],
          "contour": [
           {
            "colorbar": {
             "outlinewidth": 0,
             "ticks": ""
            },
            "colorscale": [
             [
              0,
              "#0d0887"
             ],
             [
              0.1111111111111111,
              "#46039f"
             ],
             [
              0.2222222222222222,
              "#7201a8"
             ],
             [
              0.3333333333333333,
              "#9c179e"
             ],
             [
              0.4444444444444444,
              "#bd3786"
             ],
             [
              0.5555555555555556,
              "#d8576b"
             ],
             [
              0.6666666666666666,
              "#ed7953"
             ],
             [
              0.7777777777777778,
              "#fb9f3a"
             ],
             [
              0.8888888888888888,
              "#fdca26"
             ],
             [
              1,
              "#f0f921"
             ]
            ],
            "type": "contour"
           }
          ],
          "contourcarpet": [
           {
            "colorbar": {
             "outlinewidth": 0,
             "ticks": ""
            },
            "type": "contourcarpet"
           }
          ],
          "heatmap": [
           {
            "colorbar": {
             "outlinewidth": 0,
             "ticks": ""
            },
            "colorscale": [
             [
              0,
              "#0d0887"
             ],
             [
              0.1111111111111111,
              "#46039f"
             ],
             [
              0.2222222222222222,
              "#7201a8"
             ],
             [
              0.3333333333333333,
              "#9c179e"
             ],
             [
              0.4444444444444444,
              "#bd3786"
             ],
             [
              0.5555555555555556,
              "#d8576b"
             ],
             [
              0.6666666666666666,
              "#ed7953"
             ],
             [
              0.7777777777777778,
              "#fb9f3a"
             ],
             [
              0.8888888888888888,
              "#fdca26"
             ],
             [
              1,
              "#f0f921"
             ]
            ],
            "type": "heatmap"
           }
          ],
          "heatmapgl": [
           {
            "colorbar": {
             "outlinewidth": 0,
             "ticks": ""
            },
            "colorscale": [
             [
              0,
              "#0d0887"
             ],
             [
              0.1111111111111111,
              "#46039f"
             ],
             [
              0.2222222222222222,
              "#7201a8"
             ],
             [
              0.3333333333333333,
              "#9c179e"
             ],
             [
              0.4444444444444444,
              "#bd3786"
             ],
             [
              0.5555555555555556,
              "#d8576b"
             ],
             [
              0.6666666666666666,
              "#ed7953"
             ],
             [
              0.7777777777777778,
              "#fb9f3a"
             ],
             [
              0.8888888888888888,
              "#fdca26"
             ],
             [
              1,
              "#f0f921"
             ]
            ],
            "type": "heatmapgl"
           }
          ],
          "histogram": [
           {
            "marker": {
             "colorbar": {
              "outlinewidth": 0,
              "ticks": ""
             }
            },
            "type": "histogram"
           }
          ],
          "histogram2d": [
           {
            "colorbar": {
             "outlinewidth": 0,
             "ticks": ""
            },
            "colorscale": [
             [
              0,
              "#0d0887"
             ],
             [
              0.1111111111111111,
              "#46039f"
             ],
             [
              0.2222222222222222,
              "#7201a8"
             ],
             [
              0.3333333333333333,
              "#9c179e"
             ],
             [
              0.4444444444444444,
              "#bd3786"
             ],
             [
              0.5555555555555556,
              "#d8576b"
             ],
             [
              0.6666666666666666,
              "#ed7953"
             ],
             [
              0.7777777777777778,
              "#fb9f3a"
             ],
             [
              0.8888888888888888,
              "#fdca26"
             ],
             [
              1,
              "#f0f921"
             ]
            ],
            "type": "histogram2d"
           }
          ],
          "histogram2dcontour": [
           {
            "colorbar": {
             "outlinewidth": 0,
             "ticks": ""
            },
            "colorscale": [
             [
              0,
              "#0d0887"
             ],
             [
              0.1111111111111111,
              "#46039f"
             ],
             [
              0.2222222222222222,
              "#7201a8"
             ],
             [
              0.3333333333333333,
              "#9c179e"
             ],
             [
              0.4444444444444444,
              "#bd3786"
             ],
             [
              0.5555555555555556,
              "#d8576b"
             ],
             [
              0.6666666666666666,
              "#ed7953"
             ],
             [
              0.7777777777777778,
              "#fb9f3a"
             ],
             [
              0.8888888888888888,
              "#fdca26"
             ],
             [
              1,
              "#f0f921"
             ]
            ],
            "type": "histogram2dcontour"
           }
          ],
          "mesh3d": [
           {
            "colorbar": {
             "outlinewidth": 0,
             "ticks": ""
            },
            "type": "mesh3d"
           }
          ],
          "parcoords": [
           {
            "line": {
             "colorbar": {
              "outlinewidth": 0,
              "ticks": ""
             }
            },
            "type": "parcoords"
           }
          ],
          "pie": [
           {
            "automargin": true,
            "type": "pie"
           }
          ],
          "scatter": [
           {
            "marker": {
             "colorbar": {
              "outlinewidth": 0,
              "ticks": ""
             }
            },
            "type": "scatter"
           }
          ],
          "scatter3d": [
           {
            "line": {
             "colorbar": {
              "outlinewidth": 0,
              "ticks": ""
             }
            },
            "marker": {
             "colorbar": {
              "outlinewidth": 0,
              "ticks": ""
             }
            },
            "type": "scatter3d"
           }
          ],
          "scattercarpet": [
           {
            "marker": {
             "colorbar": {
              "outlinewidth": 0,
              "ticks": ""
             }
            },
            "type": "scattercarpet"
           }
          ],
          "scattergeo": [
           {
            "marker": {
             "colorbar": {
              "outlinewidth": 0,
              "ticks": ""
             }
            },
            "type": "scattergeo"
           }
          ],
          "scattergl": [
           {
            "marker": {
             "colorbar": {
              "outlinewidth": 0,
              "ticks": ""
             }
            },
            "type": "scattergl"
           }
          ],
          "scattermapbox": [
           {
            "marker": {
             "colorbar": {
              "outlinewidth": 0,
              "ticks": ""
             }
            },
            "type": "scattermapbox"
           }
          ],
          "scatterpolar": [
           {
            "marker": {
             "colorbar": {
              "outlinewidth": 0,
              "ticks": ""
             }
            },
            "type": "scatterpolar"
           }
          ],
          "scatterpolargl": [
           {
            "marker": {
             "colorbar": {
              "outlinewidth": 0,
              "ticks": ""
             }
            },
            "type": "scatterpolargl"
           }
          ],
          "scatterternary": [
           {
            "marker": {
             "colorbar": {
              "outlinewidth": 0,
              "ticks": ""
             }
            },
            "type": "scatterternary"
           }
          ],
          "surface": [
           {
            "colorbar": {
             "outlinewidth": 0,
             "ticks": ""
            },
            "colorscale": [
             [
              0,
              "#0d0887"
             ],
             [
              0.1111111111111111,
              "#46039f"
             ],
             [
              0.2222222222222222,
              "#7201a8"
             ],
             [
              0.3333333333333333,
              "#9c179e"
             ],
             [
              0.4444444444444444,
              "#bd3786"
             ],
             [
              0.5555555555555556,
              "#d8576b"
             ],
             [
              0.6666666666666666,
              "#ed7953"
             ],
             [
              0.7777777777777778,
              "#fb9f3a"
             ],
             [
              0.8888888888888888,
              "#fdca26"
             ],
             [
              1,
              "#f0f921"
             ]
            ],
            "type": "surface"
           }
          ],
          "table": [
           {
            "cells": {
             "fill": {
              "color": "#EBF0F8"
             },
             "line": {
              "color": "white"
             }
            },
            "header": {
             "fill": {
              "color": "#C8D4E3"
             },
             "line": {
              "color": "white"
             }
            },
            "type": "table"
           }
          ]
         },
         "layout": {
          "annotationdefaults": {
           "arrowcolor": "#2a3f5f",
           "arrowhead": 0,
           "arrowwidth": 1
          },
          "coloraxis": {
           "colorbar": {
            "outlinewidth": 0,
            "ticks": ""
           }
          },
          "colorscale": {
           "diverging": [
            [
             0,
             "#8e0152"
            ],
            [
             0.1,
             "#c51b7d"
            ],
            [
             0.2,
             "#de77ae"
            ],
            [
             0.3,
             "#f1b6da"
            ],
            [
             0.4,
             "#fde0ef"
            ],
            [
             0.5,
             "#f7f7f7"
            ],
            [
             0.6,
             "#e6f5d0"
            ],
            [
             0.7,
             "#b8e186"
            ],
            [
             0.8,
             "#7fbc41"
            ],
            [
             0.9,
             "#4d9221"
            ],
            [
             1,
             "#276419"
            ]
           ],
           "sequential": [
            [
             0,
             "#0d0887"
            ],
            [
             0.1111111111111111,
             "#46039f"
            ],
            [
             0.2222222222222222,
             "#7201a8"
            ],
            [
             0.3333333333333333,
             "#9c179e"
            ],
            [
             0.4444444444444444,
             "#bd3786"
            ],
            [
             0.5555555555555556,
             "#d8576b"
            ],
            [
             0.6666666666666666,
             "#ed7953"
            ],
            [
             0.7777777777777778,
             "#fb9f3a"
            ],
            [
             0.8888888888888888,
             "#fdca26"
            ],
            [
             1,
             "#f0f921"
            ]
           ],
           "sequentialminus": [
            [
             0,
             "#0d0887"
            ],
            [
             0.1111111111111111,
             "#46039f"
            ],
            [
             0.2222222222222222,
             "#7201a8"
            ],
            [
             0.3333333333333333,
             "#9c179e"
            ],
            [
             0.4444444444444444,
             "#bd3786"
            ],
            [
             0.5555555555555556,
             "#d8576b"
            ],
            [
             0.6666666666666666,
             "#ed7953"
            ],
            [
             0.7777777777777778,
             "#fb9f3a"
            ],
            [
             0.8888888888888888,
             "#fdca26"
            ],
            [
             1,
             "#f0f921"
            ]
           ]
          },
          "colorway": [
           "#636efa",
           "#EF553B",
           "#00cc96",
           "#ab63fa",
           "#FFA15A",
           "#19d3f3",
           "#FF6692",
           "#B6E880",
           "#FF97FF",
           "#FECB52"
          ],
          "font": {
           "color": "#2a3f5f"
          },
          "geo": {
           "bgcolor": "white",
           "lakecolor": "white",
           "landcolor": "#E5ECF6",
           "showlakes": true,
           "showland": true,
           "subunitcolor": "white"
          },
          "hoverlabel": {
           "align": "left"
          },
          "hovermode": "closest",
          "mapbox": {
           "style": "light"
          },
          "paper_bgcolor": "white",
          "plot_bgcolor": "#E5ECF6",
          "polar": {
           "angularaxis": {
            "gridcolor": "white",
            "linecolor": "white",
            "ticks": ""
           },
           "bgcolor": "#E5ECF6",
           "radialaxis": {
            "gridcolor": "white",
            "linecolor": "white",
            "ticks": ""
           }
          },
          "scene": {
           "xaxis": {
            "backgroundcolor": "#E5ECF6",
            "gridcolor": "white",
            "gridwidth": 2,
            "linecolor": "white",
            "showbackground": true,
            "ticks": "",
            "zerolinecolor": "white"
           },
           "yaxis": {
            "backgroundcolor": "#E5ECF6",
            "gridcolor": "white",
            "gridwidth": 2,
            "linecolor": "white",
            "showbackground": true,
            "ticks": "",
            "zerolinecolor": "white"
           },
           "zaxis": {
            "backgroundcolor": "#E5ECF6",
            "gridcolor": "white",
            "gridwidth": 2,
            "linecolor": "white",
            "showbackground": true,
            "ticks": "",
            "zerolinecolor": "white"
           }
          },
          "shapedefaults": {
           "line": {
            "color": "#2a3f5f"
           }
          },
          "ternary": {
           "aaxis": {
            "gridcolor": "white",
            "linecolor": "white",
            "ticks": ""
           },
           "baxis": {
            "gridcolor": "white",
            "linecolor": "white",
            "ticks": ""
           },
           "bgcolor": "#E5ECF6",
           "caxis": {
            "gridcolor": "white",
            "linecolor": "white",
            "ticks": ""
           }
          },
          "title": {
           "x": 0.05
          },
          "xaxis": {
           "automargin": true,
           "gridcolor": "white",
           "linecolor": "white",
           "ticks": "",
           "title": {
            "standoff": 15
           },
           "zerolinecolor": "white",
           "zerolinewidth": 2
          },
          "yaxis": {
           "automargin": true,
           "gridcolor": "white",
           "linecolor": "white",
           "ticks": "",
           "title": {
            "standoff": 15
           },
           "zerolinecolor": "white",
           "zerolinewidth": 2
          }
         }
        },
        "title": {
         "text": "<b>Free energy diagram"
        },
        "width": 800,
        "xaxis": {
         "anchor": "y",
         "domain": [
          0,
          1
         ],
         "title": {
          "font": {
           "size": 25
          },
          "text": "Reaction Coordinate"
         }
        },
        "yaxis": {
         "anchor": "x",
         "domain": [
          0,
          1
         ],
         "title": {
          "font": {
           "size": 25
          },
          "text": "DG_eV"
         }
        }
       }
      },
      "text/html": [
       "<div>\n",
       "        \n",
       "        \n",
       "            <div id=\"a13ece63-c405-490a-80ef-93b1ce5b62e6\" class=\"plotly-graph-div\" style=\"height:600px; width:800px;\"></div>\n",
       "            <script type=\"text/javascript\">\n",
       "                require([\"plotly\"], function(Plotly) {\n",
       "                    window.PLOTLYENV=window.PLOTLYENV || {};\n",
       "                    \n",
       "                if (document.getElementById(\"a13ece63-c405-490a-80ef-93b1ce5b62e6\")) {\n",
       "                    Plotly.newPlot(\n",
       "                        'a13ece63-c405-490a-80ef-93b1ce5b62e6',\n",
       "                        [{\"name\": \"SrTcO3\", \"type\": \"scatter\", \"x\": [0, 1, 1, 2, 2, 3, 3, 4, 4, 5], \"xaxis\": \"x\", \"y\": [0, 0, -1.077, -1.077, -0.727, -0.727, 2.136, 2.136, 4.92, 4.92], \"yaxis\": \"y\"}, {\"name\": \"BaFeO3\", \"type\": \"scatter\", \"x\": [0, 1, 1, 2, 2, 3, 3, 4, 4, 5], \"xaxis\": \"x\", \"y\": [0, 0, 1.729, 1.729, 4.432, 4.432, 4.572, 4.572, 4.92, 4.92], \"yaxis\": \"y\"}, {\"name\": \"BaMoO3\", \"type\": \"scatter\", \"x\": [0, 1, 1, 2, 2, 3, 3, 4, 4, 5], \"xaxis\": \"x\", \"y\": [0, 0, -0.597, -0.597, -0.873, -0.873, 2.674, 2.674, 4.92, 4.92], \"yaxis\": \"y\"}, {\"name\": \"KTaO3\", \"type\": \"scatter\", \"x\": [0, 1, 1, 2, 2, 3, 3, 4, 4, 5], \"xaxis\": \"x\", \"y\": [0, 0, -1.296, -1.296, -0.634, -0.634, 2.23, 2.23, 4.92, 4.92], \"yaxis\": \"y\"}, {\"name\": \"BaZrO3\", \"type\": \"scatter\", \"x\": [0, 1, 1, 2, 2, 3, 3, 4, 4, 5], \"xaxis\": \"x\", \"y\": [0, 0, 0.995, 0.995, 4.123, 4.123, 4.361, 4.361, 4.92, 4.92], \"yaxis\": \"y\"}, {\"name\": \"SrFeO3\", \"type\": \"scatter\", \"x\": [0, 1, 1, 2, 2, 3, 3, 4, 4, 5], \"xaxis\": \"x\", \"y\": [0, 0, 1.731, 1.731, 4.586, 4.586, 4.595, 4.595, 4.92, 4.92], \"yaxis\": \"y\"}, {\"name\": \"KTcO3\", \"type\": \"scatter\", \"x\": [0, 1, 1, 2, 2, 3, 3, 4, 4, 5], \"xaxis\": \"x\", \"y\": [0, 0, -0.255, -0.255, 0.426, 0.426, 2.886, 2.886, 4.92, 4.92], \"yaxis\": \"y\"}, {\"name\": \"NaTcO3\", \"type\": \"scatter\", \"x\": [0, 1, 1, 2, 2, 3, 3, 4, 4, 5], \"xaxis\": \"x\", \"y\": [0, 0, -0.362, -0.362, 0.281, 0.281, 2.804, 2.804, 4.92, 4.92], \"yaxis\": \"y\"}, {\"name\": \"BaHfO3\", \"type\": \"scatter\", \"x\": [0, 1, 1, 2, 2, 3, 3, 4, 4, 5], \"xaxis\": \"x\", \"y\": [0, 0, 0.896, 0.896, 4.003, 4.003, 4.192, 4.192, 4.92, 4.92], \"yaxis\": \"y\"}, {\"name\": \"SrTiO3\", \"type\": \"scatter\", \"x\": [0, 1, 1, 2, 2, 3, 3, 4, 4, 5], \"xaxis\": \"x\", \"y\": [0, 0, 0.981, 0.981, 3.869, 3.869, 4.287, 4.287, 4.92, 4.92], \"yaxis\": \"y\"}, {\"name\": \"SrCuO3\", \"type\": \"scatter\", \"x\": [0, 1, 1, 2, 2, 3, 3, 4, 4, 5], \"xaxis\": \"x\", \"y\": [0, 0, 1.712, 1.712, 4.21, 4.21, 4.662, 4.662, 4.92, 4.92], \"yaxis\": \"y\"}, {\"name\": \"KNbO3\", \"type\": \"scatter\", \"x\": [0, 1, 1, 2, 2, 3, 3, 4, 4, 5], \"xaxis\": \"x\", \"y\": [0, 0, -0.512, -0.512, 0.445, 0.445, 2.953, 2.953, 4.92, 4.92], \"yaxis\": \"y\"}, {\"name\": \"NaTaO3\", \"type\": \"scatter\", \"x\": [0, 1, 1, 2, 2, 3, 3, 4, 4, 5], \"xaxis\": \"x\", \"y\": [0, 0, -1.424, -1.424, -0.919, -0.919, 2.078, 2.078, 4.92, 4.92], \"yaxis\": \"y\"}, {\"name\": \"BaScO3\", \"type\": \"scatter\", \"x\": [0, 1, 1, 2, 2, 3, 3, 4, 4, 5], \"xaxis\": \"x\", \"y\": [0, 0, 1.896, 1.896, 4.68, 4.68, 4.632, 4.632, 4.92, 4.92], \"yaxis\": \"y\"}, {\"name\": \"BaPdO3\", \"type\": \"scatter\", \"x\": [0, 1, 1, 2, 2, 3, 3, 4, 4, 5], \"xaxis\": \"x\", \"y\": [0, 0, 1.405, 1.405, 3.435, 3.435, 4.32, 4.32, 4.92, 4.92], \"yaxis\": \"y\"}, {\"name\": \"BaTaO3\", \"type\": \"scatter\", \"x\": [0, 1, 1, 2, 2, 3, 3, 4, 4, 5], \"xaxis\": \"x\", \"y\": [0, 0, -2.181, -2.181, -2.591, -2.591, \"NaN\", \"NaN\", 4.92, 4.92], \"yaxis\": \"y\"}, {\"name\": \"SrHfO3\", \"type\": \"scatter\", \"x\": [0, 1, 1, 2, 2, 3, 3, 4, 4, 5], \"xaxis\": \"x\", \"y\": [0, 0, 0.786, 0.786, 3.932, 3.932, 4.115, 4.115, 4.92, 4.92], \"yaxis\": \"y\"}, {\"name\": \"NaOsO3\", \"type\": \"scatter\", \"x\": [0, 1, 1, 2, 2, 3, 3, 4, 4, 5], \"xaxis\": \"x\", \"y\": [0, 0, \"NaN\", \"NaN\", 0.557, 0.557, \"NaN\", \"NaN\", 4.92, 4.92], \"yaxis\": \"y\"}, {\"name\": \"TlTcO3\", \"type\": \"scatter\", \"x\": [0, 1, 1, 2, 2, 3, 3, 4, 4, 5], \"xaxis\": \"x\", \"y\": [0, 0, -0.326, -0.326, 0.293, 0.293, 2.755, 2.755, 4.92, 4.92], \"yaxis\": \"y\"}, {\"name\": \"KReO3\", \"type\": \"scatter\", \"x\": [0, 1, 1, 2, 2, 3, 3, 4, 4, 5], \"xaxis\": \"x\", \"y\": [0, 0, -1.028, -1.028, -0.564, -0.564, 2.194, 2.194, 4.92, 4.92], \"yaxis\": \"y\"}],\n",
       "                        {\"height\": 600, \"legend\": {\"y\": 0.95, \"yanchor\": \"top\"}, \"template\": {\"data\": {\"bar\": [{\"error_x\": {\"color\": \"#2a3f5f\"}, \"error_y\": {\"color\": \"#2a3f5f\"}, \"marker\": {\"line\": {\"color\": \"#E5ECF6\", \"width\": 0.5}}, \"type\": \"bar\"}], \"barpolar\": [{\"marker\": {\"line\": {\"color\": \"#E5ECF6\", \"width\": 0.5}}, \"type\": \"barpolar\"}], \"carpet\": [{\"aaxis\": {\"endlinecolor\": \"#2a3f5f\", \"gridcolor\": \"white\", \"linecolor\": \"white\", \"minorgridcolor\": \"white\", \"startlinecolor\": \"#2a3f5f\"}, \"baxis\": {\"endlinecolor\": \"#2a3f5f\", \"gridcolor\": \"white\", \"linecolor\": \"white\", \"minorgridcolor\": \"white\", \"startlinecolor\": \"#2a3f5f\"}, \"type\": \"carpet\"}], \"choropleth\": [{\"colorbar\": {\"outlinewidth\": 0, \"ticks\": \"\"}, \"type\": \"choropleth\"}], \"contour\": [{\"colorbar\": {\"outlinewidth\": 0, \"ticks\": \"\"}, \"colorscale\": [[0.0, \"#0d0887\"], [0.1111111111111111, \"#46039f\"], [0.2222222222222222, \"#7201a8\"], [0.3333333333333333, \"#9c179e\"], [0.4444444444444444, \"#bd3786\"], [0.5555555555555556, \"#d8576b\"], [0.6666666666666666, \"#ed7953\"], [0.7777777777777778, \"#fb9f3a\"], [0.8888888888888888, \"#fdca26\"], [1.0, \"#f0f921\"]], \"type\": \"contour\"}], \"contourcarpet\": [{\"colorbar\": {\"outlinewidth\": 0, \"ticks\": \"\"}, \"type\": \"contourcarpet\"}], \"heatmap\": [{\"colorbar\": {\"outlinewidth\": 0, \"ticks\": \"\"}, \"colorscale\": [[0.0, \"#0d0887\"], [0.1111111111111111, \"#46039f\"], [0.2222222222222222, \"#7201a8\"], [0.3333333333333333, \"#9c179e\"], [0.4444444444444444, \"#bd3786\"], [0.5555555555555556, \"#d8576b\"], [0.6666666666666666, \"#ed7953\"], [0.7777777777777778, \"#fb9f3a\"], [0.8888888888888888, \"#fdca26\"], [1.0, \"#f0f921\"]], \"type\": \"heatmap\"}], \"heatmapgl\": [{\"colorbar\": {\"outlinewidth\": 0, \"ticks\": \"\"}, \"colorscale\": [[0.0, \"#0d0887\"], [0.1111111111111111, \"#46039f\"], [0.2222222222222222, \"#7201a8\"], [0.3333333333333333, \"#9c179e\"], [0.4444444444444444, \"#bd3786\"], [0.5555555555555556, \"#d8576b\"], [0.6666666666666666, \"#ed7953\"], [0.7777777777777778, \"#fb9f3a\"], [0.8888888888888888, \"#fdca26\"], [1.0, \"#f0f921\"]], \"type\": \"heatmapgl\"}], \"histogram\": [{\"marker\": {\"colorbar\": {\"outlinewidth\": 0, \"ticks\": \"\"}}, \"type\": \"histogram\"}], \"histogram2d\": [{\"colorbar\": {\"outlinewidth\": 0, \"ticks\": \"\"}, \"colorscale\": [[0.0, \"#0d0887\"], [0.1111111111111111, \"#46039f\"], [0.2222222222222222, \"#7201a8\"], [0.3333333333333333, \"#9c179e\"], [0.4444444444444444, \"#bd3786\"], [0.5555555555555556, \"#d8576b\"], [0.6666666666666666, \"#ed7953\"], [0.7777777777777778, \"#fb9f3a\"], [0.8888888888888888, \"#fdca26\"], [1.0, \"#f0f921\"]], \"type\": \"histogram2d\"}], \"histogram2dcontour\": [{\"colorbar\": {\"outlinewidth\": 0, \"ticks\": \"\"}, \"colorscale\": [[0.0, \"#0d0887\"], [0.1111111111111111, \"#46039f\"], [0.2222222222222222, \"#7201a8\"], [0.3333333333333333, \"#9c179e\"], [0.4444444444444444, \"#bd3786\"], [0.5555555555555556, \"#d8576b\"], [0.6666666666666666, \"#ed7953\"], [0.7777777777777778, \"#fb9f3a\"], [0.8888888888888888, \"#fdca26\"], [1.0, \"#f0f921\"]], \"type\": \"histogram2dcontour\"}], \"mesh3d\": [{\"colorbar\": {\"outlinewidth\": 0, \"ticks\": \"\"}, \"type\": \"mesh3d\"}], \"parcoords\": [{\"line\": {\"colorbar\": {\"outlinewidth\": 0, \"ticks\": \"\"}}, \"type\": \"parcoords\"}], \"pie\": [{\"automargin\": true, \"type\": \"pie\"}], \"scatter\": [{\"marker\": {\"colorbar\": {\"outlinewidth\": 0, \"ticks\": \"\"}}, \"type\": \"scatter\"}], \"scatter3d\": [{\"line\": {\"colorbar\": {\"outlinewidth\": 0, \"ticks\": \"\"}}, \"marker\": {\"colorbar\": {\"outlinewidth\": 0, \"ticks\": \"\"}}, \"type\": \"scatter3d\"}], \"scattercarpet\": [{\"marker\": {\"colorbar\": {\"outlinewidth\": 0, \"ticks\": \"\"}}, \"type\": \"scattercarpet\"}], \"scattergeo\": [{\"marker\": {\"colorbar\": {\"outlinewidth\": 0, \"ticks\": \"\"}}, \"type\": \"scattergeo\"}], \"scattergl\": [{\"marker\": {\"colorbar\": {\"outlinewidth\": 0, \"ticks\": \"\"}}, \"type\": \"scattergl\"}], \"scattermapbox\": [{\"marker\": {\"colorbar\": {\"outlinewidth\": 0, \"ticks\": \"\"}}, \"type\": \"scattermapbox\"}], \"scatterpolar\": [{\"marker\": {\"colorbar\": {\"outlinewidth\": 0, \"ticks\": \"\"}}, \"type\": \"scatterpolar\"}], \"scatterpolargl\": [{\"marker\": {\"colorbar\": {\"outlinewidth\": 0, \"ticks\": \"\"}}, \"type\": \"scatterpolargl\"}], \"scatterternary\": [{\"marker\": {\"colorbar\": {\"outlinewidth\": 0, \"ticks\": \"\"}}, \"type\": \"scatterternary\"}], \"surface\": [{\"colorbar\": {\"outlinewidth\": 0, \"ticks\": \"\"}, \"colorscale\": [[0.0, \"#0d0887\"], [0.1111111111111111, \"#46039f\"], [0.2222222222222222, \"#7201a8\"], [0.3333333333333333, \"#9c179e\"], [0.4444444444444444, \"#bd3786\"], [0.5555555555555556, \"#d8576b\"], [0.6666666666666666, \"#ed7953\"], [0.7777777777777778, \"#fb9f3a\"], [0.8888888888888888, \"#fdca26\"], [1.0, \"#f0f921\"]], \"type\": \"surface\"}], \"table\": [{\"cells\": {\"fill\": {\"color\": \"#EBF0F8\"}, \"line\": {\"color\": \"white\"}}, \"header\": {\"fill\": {\"color\": \"#C8D4E3\"}, \"line\": {\"color\": \"white\"}}, \"type\": \"table\"}]}, \"layout\": {\"annotationdefaults\": {\"arrowcolor\": \"#2a3f5f\", \"arrowhead\": 0, \"arrowwidth\": 1}, \"coloraxis\": {\"colorbar\": {\"outlinewidth\": 0, \"ticks\": \"\"}}, \"colorscale\": {\"diverging\": [[0, \"#8e0152\"], [0.1, \"#c51b7d\"], [0.2, \"#de77ae\"], [0.3, \"#f1b6da\"], [0.4, \"#fde0ef\"], [0.5, \"#f7f7f7\"], [0.6, \"#e6f5d0\"], [0.7, \"#b8e186\"], [0.8, \"#7fbc41\"], [0.9, \"#4d9221\"], [1, \"#276419\"]], \"sequential\": [[0.0, \"#0d0887\"], [0.1111111111111111, \"#46039f\"], [0.2222222222222222, \"#7201a8\"], [0.3333333333333333, \"#9c179e\"], [0.4444444444444444, \"#bd3786\"], [0.5555555555555556, \"#d8576b\"], [0.6666666666666666, \"#ed7953\"], [0.7777777777777778, \"#fb9f3a\"], [0.8888888888888888, \"#fdca26\"], [1.0, \"#f0f921\"]], \"sequentialminus\": [[0.0, \"#0d0887\"], [0.1111111111111111, \"#46039f\"], [0.2222222222222222, \"#7201a8\"], [0.3333333333333333, \"#9c179e\"], [0.4444444444444444, \"#bd3786\"], [0.5555555555555556, \"#d8576b\"], [0.6666666666666666, \"#ed7953\"], [0.7777777777777778, \"#fb9f3a\"], [0.8888888888888888, \"#fdca26\"], [1.0, \"#f0f921\"]]}, \"colorway\": [\"#636efa\", \"#EF553B\", \"#00cc96\", \"#ab63fa\", \"#FFA15A\", \"#19d3f3\", \"#FF6692\", \"#B6E880\", \"#FF97FF\", \"#FECB52\"], \"font\": {\"color\": \"#2a3f5f\"}, \"geo\": {\"bgcolor\": \"white\", \"lakecolor\": \"white\", \"landcolor\": \"#E5ECF6\", \"showlakes\": true, \"showland\": true, \"subunitcolor\": \"white\"}, \"hoverlabel\": {\"align\": \"left\"}, \"hovermode\": \"closest\", \"mapbox\": {\"style\": \"light\"}, \"paper_bgcolor\": \"white\", \"plot_bgcolor\": \"#E5ECF6\", \"polar\": {\"angularaxis\": {\"gridcolor\": \"white\", \"linecolor\": \"white\", \"ticks\": \"\"}, \"bgcolor\": \"#E5ECF6\", \"radialaxis\": {\"gridcolor\": \"white\", \"linecolor\": \"white\", \"ticks\": \"\"}}, \"scene\": {\"xaxis\": {\"backgroundcolor\": \"#E5ECF6\", \"gridcolor\": \"white\", \"gridwidth\": 2, \"linecolor\": \"white\", \"showbackground\": true, \"ticks\": \"\", \"zerolinecolor\": \"white\"}, \"yaxis\": {\"backgroundcolor\": \"#E5ECF6\", \"gridcolor\": \"white\", \"gridwidth\": 2, \"linecolor\": \"white\", \"showbackground\": true, \"ticks\": \"\", \"zerolinecolor\": \"white\"}, \"zaxis\": {\"backgroundcolor\": \"#E5ECF6\", \"gridcolor\": \"white\", \"gridwidth\": 2, \"linecolor\": \"white\", \"showbackground\": true, \"ticks\": \"\", \"zerolinecolor\": \"white\"}}, \"shapedefaults\": {\"line\": {\"color\": \"#2a3f5f\"}}, \"ternary\": {\"aaxis\": {\"gridcolor\": \"white\", \"linecolor\": \"white\", \"ticks\": \"\"}, \"baxis\": {\"gridcolor\": \"white\", \"linecolor\": \"white\", \"ticks\": \"\"}, \"bgcolor\": \"#E5ECF6\", \"caxis\": {\"gridcolor\": \"white\", \"linecolor\": \"white\", \"ticks\": \"\"}}, \"title\": {\"x\": 0.05}, \"xaxis\": {\"automargin\": true, \"gridcolor\": \"white\", \"linecolor\": \"white\", \"ticks\": \"\", \"title\": {\"standoff\": 15}, \"zerolinecolor\": \"white\", \"zerolinewidth\": 2}, \"yaxis\": {\"automargin\": true, \"gridcolor\": \"white\", \"linecolor\": \"white\", \"ticks\": \"\", \"title\": {\"standoff\": 15}, \"zerolinecolor\": \"white\", \"zerolinewidth\": 2}}}, \"title\": {\"text\": \"<b>Free energy diagram\"}, \"width\": 800, \"xaxis\": {\"anchor\": \"y\", \"domain\": [0.0, 1.0], \"title\": {\"font\": {\"size\": 25}, \"text\": \"Reaction Coordinate\"}}, \"yaxis\": {\"anchor\": \"x\", \"domain\": [0.0, 1.0], \"title\": {\"font\": {\"size\": 25}, \"text\": \"DG_eV\"}}},\n",
       "                        {\"responsive\": true}\n",
       "                    ).then(function(){\n",
       "                            \n",
       "var gd = document.getElementById('a13ece63-c405-490a-80ef-93b1ce5b62e6');\n",
       "var x = new MutationObserver(function (mutations, observer) {{\n",
       "        var display = window.getComputedStyle(gd).display;\n",
       "        if (!display || display === 'none') {{\n",
       "            console.log([gd, 'removed!']);\n",
       "            Plotly.purge(gd);\n",
       "            observer.disconnect();\n",
       "        }}\n",
       "}});\n",
       "\n",
       "// Listen for the removal of the full notebook cells\n",
       "var notebookContainer = gd.closest('#notebook-container');\n",
       "if (notebookContainer) {{\n",
       "    x.observe(notebookContainer, {childList: true});\n",
       "}}\n",
       "\n",
       "// Listen for the clearing of the current output cell\n",
       "var outputEl = gd.closest('.output');\n",
       "if (outputEl) {{\n",
       "    x.observe(outputEl, {childList: true});\n",
       "}}\n",
       "\n",
       "                        })\n",
       "                };\n",
       "                });\n",
       "            </script>\n",
       "        </div>"
      ]
     },
     "metadata": {},
     "output_type": "display_data"
    }
   ],
   "source": [
    "fig = make_subplots(rows = 1, cols = 1)\n",
    "\n",
    "x_list = [0,1,1,2,2,3,3,4,4,5]\n",
    "y_idx = [0,0,1,1,2,2,3,3,4,4]\n",
    "\n",
    "for idx in range(1,21):\n",
    "    ads_list= [0, df.loc[idx,'DE_OH'], df.loc[idx,'DE_O'], df.loc[idx,'DE_OOH'], 4.92]\n",
    "    \n",
    "    y_list = []\n",
    "    for x in range(len(x_list)):\n",
    "      #  print(x_list[x],\" \",ads_list[y_idx[x]])\n",
    "        y_list.append(ads_list[y_idx[x]])\n",
    "\n",
    "    fig.add_trace(go.Scatter(x = x_list, y = y_list, name = df.loc[idx,'formula']), row = 1, col = 1) # visible='legendonly'\n",
    "    layout = go.Layout(title = 'free energy diagram', titlefont = dict(size = 25))\n",
    "    fig.update_xaxes(title_text = 'Reaction Coordinate', titlefont = dict(size = 25))\n",
    "    fig.update_yaxes(title_text = 'DG_eV', titlefont = dict(size = 25))\n",
    "    fig.update_layout(height = 600, width = 800, title_text = '<b>Free energy diagram',\n",
    "                     legend=dict(yanchor = \"top\", y = 0.95))\n",
    "# pyo.iplot(fig)\n",
    "fig.show()"
   ]
  },
  {
   "cell_type": "code",
   "execution_count": null,
   "metadata": {},
   "outputs": [],
   "source": []
  }
 ],
 "metadata": {
  "kernelspec": {
   "display_name": "Python 3",
   "language": "python",
   "name": "python3"
  },
  "language_info": {
   "codemirror_mode": {
    "name": "ipython",
    "version": 3
   },
   "file_extension": ".py",
   "mimetype": "text/x-python",
   "name": "python",
   "nbconvert_exporter": "python",
   "pygments_lexer": "ipython3",
   "version": "3.7.4"
  }
 },
 "nbformat": 4,
 "nbformat_minor": 4
}
