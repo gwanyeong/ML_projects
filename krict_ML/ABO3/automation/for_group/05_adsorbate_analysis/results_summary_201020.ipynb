{
 "cells": [
  {
   "cell_type": "code",
   "execution_count": 148,
   "metadata": {},
   "outputs": [],
   "source": [
    "import os\n",
    "import pickle5\n",
    "import pandas as pd\n",
    "import numpy as np\n",
    "\n",
    "from dotenv import load_dotenv\n",
    "from itertools import repeat\n",
    "\n",
    "import plotly.offline as pyo\n",
    "import plotly.graph_objs as go\n",
    "from plotly.subplots import make_subplots\n",
    "import chart_studio.plotly as py\n",
    "\n",
    "import plotly.express as px\n",
    "\n",
    "from plotly.offline import init_notebook_mode, plot_mpl\n",
    "import matplotlib.pyplot as plt\n",
    "\n",
    "from sklearn.linear_model import LinearRegression\n"
   ]
  },
  {
   "cell_type": "code",
   "execution_count": 149,
   "metadata": {},
   "outputs": [],
   "source": [
    "load_dotenv('.env')\n",
    "PLOTLY_API_KEY = os.getenv('PLOTLY_API_KEY')\n",
    "\n",
    "py.sign_in('gwanyeong', PLOTLY_API_KEY)"
   ]
  },
  {
   "cell_type": "code",
   "execution_count": 150,
   "metadata": {},
   "outputs": [
    {
     "data": {
      "text/html": [
       "<div>\n",
       "<style scoped>\n",
       "    .dataframe tbody tr th:only-of-type {\n",
       "        vertical-align: middle;\n",
       "    }\n",
       "\n",
       "    .dataframe tbody tr th {\n",
       "        vertical-align: top;\n",
       "    }\n",
       "\n",
       "    .dataframe thead th {\n",
       "        text-align: right;\n",
       "    }\n",
       "</style>\n",
       "<table border=\"1\" class=\"dataframe\">\n",
       "  <thead>\n",
       "    <tr style=\"text-align: right;\">\n",
       "      <th></th>\n",
       "      <th>MP_ID</th>\n",
       "      <th>formula</th>\n",
       "      <th>PREC</th>\n",
       "      <th>ALGO</th>\n",
       "      <th>ISPIN</th>\n",
       "      <th>IMIX</th>\n",
       "      <th>NELM</th>\n",
       "      <th>IBRION</th>\n",
       "      <th>EDIFF</th>\n",
       "      <th>NSW</th>\n",
       "      <th>...</th>\n",
       "      <th>Volume_ref</th>\n",
       "      <th>Volume</th>\n",
       "      <th>Err_V_percent</th>\n",
       "      <th>Theoretical</th>\n",
       "      <th>VBM</th>\n",
       "      <th>E_fermi</th>\n",
       "      <th>CBM</th>\n",
       "      <th>bgtype</th>\n",
       "      <th>bgpath</th>\n",
       "      <th>structure</th>\n",
       "    </tr>\n",
       "  </thead>\n",
       "  <tbody>\n",
       "    <tr>\n",
       "      <th>1</th>\n",
       "      <td>mp-12631</td>\n",
       "      <td>SrTcO3</td>\n",
       "      <td>Accurate</td>\n",
       "      <td>Fast</td>\n",
       "      <td>2</td>\n",
       "      <td>4</td>\n",
       "      <td>100</td>\n",
       "      <td>2</td>\n",
       "      <td>2e-06</td>\n",
       "      <td>200</td>\n",
       "      <td>...</td>\n",
       "      <td>63.1491</td>\n",
       "      <td>62.1201</td>\n",
       "      <td>1.62938</td>\n",
       "      <td>False</td>\n",
       "      <td>None</td>\n",
       "      <td>7.15536</td>\n",
       "      <td>None</td>\n",
       "      <td>Indirect</td>\n",
       "      <td>None</td>\n",
       "      <td>[[0. 0. 0.] Sr, [1.98022307 1.98022307 1.98022...</td>\n",
       "    </tr>\n",
       "    <tr>\n",
       "      <th>2</th>\n",
       "      <td>mp-19035</td>\n",
       "      <td>BaFeO3</td>\n",
       "      <td>Accurate</td>\n",
       "      <td>Fast</td>\n",
       "      <td>2</td>\n",
       "      <td>4</td>\n",
       "      <td>100</td>\n",
       "      <td>2</td>\n",
       "      <td>0.0001</td>\n",
       "      <td>200</td>\n",
       "      <td>...</td>\n",
       "      <td>65.5993</td>\n",
       "      <td>65.5993</td>\n",
       "      <td>0</td>\n",
       "      <td>False</td>\n",
       "      <td>None</td>\n",
       "      <td>3.27322</td>\n",
       "      <td>None</td>\n",
       "      <td>Indirect</td>\n",
       "      <td>None</td>\n",
       "      <td>[[2.0165225 2.0165225 2.0165225] Ba, [0. 0. 0....</td>\n",
       "    </tr>\n",
       "    <tr>\n",
       "      <th>3</th>\n",
       "      <td>mp-19322</td>\n",
       "      <td>BaMoO3</td>\n",
       "      <td>Accurate</td>\n",
       "      <td>Fast</td>\n",
       "      <td>2</td>\n",
       "      <td>4</td>\n",
       "      <td>100</td>\n",
       "      <td>2</td>\n",
       "      <td>0.0001</td>\n",
       "      <td>200</td>\n",
       "      <td>...</td>\n",
       "      <td>71.4286</td>\n",
       "      <td>70.764</td>\n",
       "      <td>0.930459</td>\n",
       "      <td>False</td>\n",
       "      <td>None</td>\n",
       "      <td>5.68616</td>\n",
       "      <td>None</td>\n",
       "      <td>Indirect</td>\n",
       "      <td>None</td>\n",
       "      <td>[[2.06811213 2.06811213 2.06811213] Ba, [0. 0....</td>\n",
       "    </tr>\n",
       "    <tr>\n",
       "      <th>4</th>\n",
       "      <td>mp-3614</td>\n",
       "      <td>KTaO3</td>\n",
       "      <td>Accurate</td>\n",
       "      <td>Fast</td>\n",
       "      <td>2</td>\n",
       "      <td>4</td>\n",
       "      <td>100</td>\n",
       "      <td>2</td>\n",
       "      <td>2e-06</td>\n",
       "      <td>200</td>\n",
       "      <td>...</td>\n",
       "      <td>65.4917</td>\n",
       "      <td>65.3762</td>\n",
       "      <td>0.176445</td>\n",
       "      <td>False</td>\n",
       "      <td>1.5991</td>\n",
       "      <td>1.84427</td>\n",
       "      <td>3.7071</td>\n",
       "      <td>Indirect</td>\n",
       "      <td>R-gamma</td>\n",
       "      <td>[[2.01423343 2.01423343 2.01423343] K, [0. 0. ...</td>\n",
       "    </tr>\n",
       "    <tr>\n",
       "      <th>5</th>\n",
       "      <td>mp-3834</td>\n",
       "      <td>BaZrO3</td>\n",
       "      <td>Accurate</td>\n",
       "      <td>Fast</td>\n",
       "      <td>2</td>\n",
       "      <td>4</td>\n",
       "      <td>100</td>\n",
       "      <td>2</td>\n",
       "      <td>1e-07</td>\n",
       "      <td>99</td>\n",
       "      <td>...</td>\n",
       "      <td>77.0743</td>\n",
       "      <td>76.0138</td>\n",
       "      <td>1.37593</td>\n",
       "      <td>False</td>\n",
       "      <td>3.5638</td>\n",
       "      <td>3.90525</td>\n",
       "      <td>6.683</td>\n",
       "      <td>Indirect</td>\n",
       "      <td>R-gamma</td>\n",
       "      <td>[[0. 0. 0.] Ba, [2.11804015 2.11804015 2.11804...</td>\n",
       "    </tr>\n",
       "    <tr>\n",
       "      <th>...</th>\n",
       "      <td>...</td>\n",
       "      <td>...</td>\n",
       "      <td>...</td>\n",
       "      <td>...</td>\n",
       "      <td>...</td>\n",
       "      <td>...</td>\n",
       "      <td>...</td>\n",
       "      <td>...</td>\n",
       "      <td>...</td>\n",
       "      <td>...</td>\n",
       "      <td>...</td>\n",
       "      <td>...</td>\n",
       "      <td>...</td>\n",
       "      <td>...</td>\n",
       "      <td>...</td>\n",
       "      <td>...</td>\n",
       "      <td>...</td>\n",
       "      <td>...</td>\n",
       "      <td>...</td>\n",
       "      <td>...</td>\n",
       "      <td>...</td>\n",
       "    </tr>\n",
       "    <tr>\n",
       "      <th>239</th>\n",
       "      <td>mp-1183447</td>\n",
       "      <td>BePdO3</td>\n",
       "      <td>Accurate</td>\n",
       "      <td>Fast</td>\n",
       "      <td>2</td>\n",
       "      <td>4</td>\n",
       "      <td>100</td>\n",
       "      <td>2</td>\n",
       "      <td>0.00025</td>\n",
       "      <td>99</td>\n",
       "      <td>...</td>\n",
       "      <td>42.8181</td>\n",
       "      <td>42.6258</td>\n",
       "      <td>0.44922</td>\n",
       "      <td>True</td>\n",
       "      <td>None</td>\n",
       "      <td>5.65873</td>\n",
       "      <td>None</td>\n",
       "      <td>Indirect</td>\n",
       "      <td>None</td>\n",
       "      <td>[[1.74660227 1.74660227 1.74660227] Be, [0. 0....</td>\n",
       "    </tr>\n",
       "    <tr>\n",
       "      <th>240</th>\n",
       "      <td>mp-1183128</td>\n",
       "      <td>AlVO3</td>\n",
       "      <td>Accurate</td>\n",
       "      <td>Fast</td>\n",
       "      <td>2</td>\n",
       "      <td>4</td>\n",
       "      <td>100</td>\n",
       "      <td>2</td>\n",
       "      <td>0.00025</td>\n",
       "      <td>99</td>\n",
       "      <td>...</td>\n",
       "      <td>48.2482</td>\n",
       "      <td>48.2482</td>\n",
       "      <td>0</td>\n",
       "      <td>True</td>\n",
       "      <td>None</td>\n",
       "      <td>5.7664</td>\n",
       "      <td>None</td>\n",
       "      <td>Indirect</td>\n",
       "      <td>None</td>\n",
       "      <td>[[1.8202475 1.8202475 1.8202475] Al, [0. 0. 0....</td>\n",
       "    </tr>\n",
       "    <tr>\n",
       "      <th>241</th>\n",
       "      <td>mp-1183176</td>\n",
       "      <td>AlNiO3</td>\n",
       "      <td>Accurate</td>\n",
       "      <td>Fast</td>\n",
       "      <td>2</td>\n",
       "      <td>4</td>\n",
       "      <td>100</td>\n",
       "      <td>2</td>\n",
       "      <td>0.00025</td>\n",
       "      <td>99</td>\n",
       "      <td>...</td>\n",
       "      <td>48.9421</td>\n",
       "      <td>48.9421</td>\n",
       "      <td>0</td>\n",
       "      <td>True</td>\n",
       "      <td>None</td>\n",
       "      <td>4.62838</td>\n",
       "      <td>None</td>\n",
       "      <td>Indirect</td>\n",
       "      <td>None</td>\n",
       "      <td>[[0. 0. 0.] Al, [1.8289315 1.8289315 1.8289315...</td>\n",
       "    </tr>\n",
       "    <tr>\n",
       "      <th>242</th>\n",
       "      <td>mp-977100</td>\n",
       "      <td>NiMoO3</td>\n",
       "      <td>Accurate</td>\n",
       "      <td>Fast</td>\n",
       "      <td>2</td>\n",
       "      <td>4</td>\n",
       "      <td>100</td>\n",
       "      <td>2</td>\n",
       "      <td>0.00025</td>\n",
       "      <td>99</td>\n",
       "      <td>...</td>\n",
       "      <td>60.5891</td>\n",
       "      <td>59.3706</td>\n",
       "      <td>2.01106</td>\n",
       "      <td>True</td>\n",
       "      <td>None</td>\n",
       "      <td>6.0286</td>\n",
       "      <td>None</td>\n",
       "      <td>Indirect</td>\n",
       "      <td>None</td>\n",
       "      <td>[[1.95056523 1.95056523 1.95056523] Ni, [0. 0....</td>\n",
       "    </tr>\n",
       "    <tr>\n",
       "      <th>243</th>\n",
       "      <td>mp-1183715</td>\n",
       "      <td>CoRhO3</td>\n",
       "      <td>Accurate</td>\n",
       "      <td>Fast</td>\n",
       "      <td>2</td>\n",
       "      <td>4</td>\n",
       "      <td>100</td>\n",
       "      <td>2</td>\n",
       "      <td>0.00025</td>\n",
       "      <td>99</td>\n",
       "      <td>...</td>\n",
       "      <td>59.0379</td>\n",
       "      <td>57.823</td>\n",
       "      <td>2.05782</td>\n",
       "      <td>True</td>\n",
       "      <td>None</td>\n",
       "      <td>5.78475</td>\n",
       "      <td>None</td>\n",
       "      <td>Indirect</td>\n",
       "      <td>None</td>\n",
       "      <td>[[0. 0. 0.] Co, [1.93346763 1.93346763 1.93346...</td>\n",
       "    </tr>\n",
       "  </tbody>\n",
       "</table>\n",
       "<p>243 rows × 44 columns</p>\n",
       "</div>"
      ],
      "text/plain": [
       "          MP_ID formula      PREC  ALGO ISPIN IMIX NELM IBRION    EDIFF  NSW  \\\n",
       "1      mp-12631  SrTcO3  Accurate  Fast     2    4  100      2    2e-06  200   \n",
       "2      mp-19035  BaFeO3  Accurate  Fast     2    4  100      2   0.0001  200   \n",
       "3      mp-19322  BaMoO3  Accurate  Fast     2    4  100      2   0.0001  200   \n",
       "4       mp-3614   KTaO3  Accurate  Fast     2    4  100      2    2e-06  200   \n",
       "5       mp-3834  BaZrO3  Accurate  Fast     2    4  100      2    1e-07   99   \n",
       "..          ...     ...       ...   ...   ...  ...  ...    ...      ...  ...   \n",
       "239  mp-1183447  BePdO3  Accurate  Fast     2    4  100      2  0.00025   99   \n",
       "240  mp-1183128   AlVO3  Accurate  Fast     2    4  100      2  0.00025   99   \n",
       "241  mp-1183176  AlNiO3  Accurate  Fast     2    4  100      2  0.00025   99   \n",
       "242   mp-977100  NiMoO3  Accurate  Fast     2    4  100      2  0.00025   99   \n",
       "243  mp-1183715  CoRhO3  Accurate  Fast     2    4  100      2  0.00025   99   \n",
       "\n",
       "     ... Volume_ref   Volume Err_V_percent Theoretical     VBM  E_fermi  \\\n",
       "1    ...    63.1491  62.1201       1.62938       False    None  7.15536   \n",
       "2    ...    65.5993  65.5993             0       False    None  3.27322   \n",
       "3    ...    71.4286   70.764      0.930459       False    None  5.68616   \n",
       "4    ...    65.4917  65.3762      0.176445       False  1.5991  1.84427   \n",
       "5    ...    77.0743  76.0138       1.37593       False  3.5638  3.90525   \n",
       "..   ...        ...      ...           ...         ...     ...      ...   \n",
       "239  ...    42.8181  42.6258       0.44922        True    None  5.65873   \n",
       "240  ...    48.2482  48.2482             0        True    None   5.7664   \n",
       "241  ...    48.9421  48.9421             0        True    None  4.62838   \n",
       "242  ...    60.5891  59.3706       2.01106        True    None   6.0286   \n",
       "243  ...    59.0379   57.823       2.05782        True    None  5.78475   \n",
       "\n",
       "        CBM    bgtype   bgpath  \\\n",
       "1      None  Indirect     None   \n",
       "2      None  Indirect     None   \n",
       "3      None  Indirect     None   \n",
       "4    3.7071  Indirect  R-gamma   \n",
       "5     6.683  Indirect  R-gamma   \n",
       "..      ...       ...      ...   \n",
       "239    None  Indirect     None   \n",
       "240    None  Indirect     None   \n",
       "241    None  Indirect     None   \n",
       "242    None  Indirect     None   \n",
       "243    None  Indirect     None   \n",
       "\n",
       "                                             structure  \n",
       "1    [[0. 0. 0.] Sr, [1.98022307 1.98022307 1.98022...  \n",
       "2    [[2.0165225 2.0165225 2.0165225] Ba, [0. 0. 0....  \n",
       "3    [[2.06811213 2.06811213 2.06811213] Ba, [0. 0....  \n",
       "4    [[2.01423343 2.01423343 2.01423343] K, [0. 0. ...  \n",
       "5    [[0. 0. 0.] Ba, [2.11804015 2.11804015 2.11804...  \n",
       "..                                                 ...  \n",
       "239  [[1.74660227 1.74660227 1.74660227] Be, [0. 0....  \n",
       "240  [[1.8202475 1.8202475 1.8202475] Al, [0. 0. 0....  \n",
       "241  [[0. 0. 0.] Al, [1.8289315 1.8289315 1.8289315...  \n",
       "242  [[1.95056523 1.95056523 1.95056523] Ni, [0. 0....  \n",
       "243  [[0. 0. 0.] Co, [1.93346763 1.93346763 1.93346...  \n",
       "\n",
       "[243 rows x 44 columns]"
      ]
     },
     "execution_count": 150,
     "metadata": {},
     "output_type": "execute_result"
    }
   ],
   "source": [
    "with open('../results_nurion/bulk_analysis/df_bulk.pkl', 'rb') as f:\n",
    "    data = pickle5.load(f)\n",
    "# print(data)\n",
    "df_bulk = pd.DataFrame(data)\n",
    "df_bulk"
   ]
  },
  {
   "cell_type": "code",
   "execution_count": 151,
   "metadata": {},
   "outputs": [
    {
     "data": {
      "text/html": [
       "<div>\n",
       "<style scoped>\n",
       "    .dataframe tbody tr th:only-of-type {\n",
       "        vertical-align: middle;\n",
       "    }\n",
       "\n",
       "    .dataframe tbody tr th {\n",
       "        vertical-align: top;\n",
       "    }\n",
       "\n",
       "    .dataframe thead th {\n",
       "        text-align: right;\n",
       "    }\n",
       "</style>\n",
       "<table border=\"1\" class=\"dataframe\">\n",
       "  <thead>\n",
       "    <tr style=\"text-align: right;\">\n",
       "      <th></th>\n",
       "      <th>formula</th>\n",
       "      <th>convg_bare</th>\n",
       "      <th>tot_E_bare</th>\n",
       "      <th>DE_bare</th>\n",
       "      <th>DG_bare</th>\n",
       "      <th>bare_mag</th>\n",
       "      <th>nsteps_bare</th>\n",
       "      <th>struc_bare</th>\n",
       "      <th>time_bare</th>\n",
       "      <th>convg_OOH</th>\n",
       "      <th>...</th>\n",
       "      <th>time_O</th>\n",
       "      <th>convg_OH</th>\n",
       "      <th>tot_E_OH</th>\n",
       "      <th>DE_OH</th>\n",
       "      <th>DG_OH</th>\n",
       "      <th>OH_mag</th>\n",
       "      <th>OH_dmag</th>\n",
       "      <th>nsteps_OH</th>\n",
       "      <th>struc_OH</th>\n",
       "      <th>time_OH</th>\n",
       "    </tr>\n",
       "  </thead>\n",
       "  <tbody>\n",
       "    <tr>\n",
       "      <th>1</th>\n",
       "      <td>SrTcO3</td>\n",
       "      <td>True</td>\n",
       "      <td>-386.83</td>\n",
       "      <td>0</td>\n",
       "      <td>0</td>\n",
       "      <td>13.642</td>\n",
       "      <td>1</td>\n",
       "      <td>[[0.         1.98022307 0.        ] O, [1.9802...</td>\n",
       "      <td>NaN</td>\n",
       "      <td>True</td>\n",
       "      <td>...</td>\n",
       "      <td>NaN</td>\n",
       "      <td>True</td>\n",
       "      <td>-398.741</td>\n",
       "      <td>-1.077</td>\n",
       "      <td>-0.782</td>\n",
       "      <td>10.772</td>\n",
       "      <td>-2.871</td>\n",
       "      <td>104</td>\n",
       "      <td>[[ 1.08924803  2.12199985 10.29190122] H, [0. ...</td>\n",
       "      <td>NaN</td>\n",
       "    </tr>\n",
       "    <tr>\n",
       "      <th>2</th>\n",
       "      <td>BaFeO3</td>\n",
       "      <td>True</td>\n",
       "      <td>-316.788</td>\n",
       "      <td>0</td>\n",
       "      <td>0</td>\n",
       "      <td>59.992</td>\n",
       "      <td>1</td>\n",
       "      <td>[[2.0165225 2.0165225 2.0165225] Ba, [2.016522...</td>\n",
       "      <td>NaN</td>\n",
       "      <td>True</td>\n",
       "      <td>...</td>\n",
       "      <td>NaN</td>\n",
       "      <td>True</td>\n",
       "      <td>-325.893</td>\n",
       "      <td>1.729</td>\n",
       "      <td>2.024</td>\n",
       "      <td>58.79</td>\n",
       "      <td>-1.202</td>\n",
       "      <td>135</td>\n",
       "      <td>[[2.0165225 2.0165225 2.0165225] Ba, [1.998014...</td>\n",
       "      <td>NaN</td>\n",
       "    </tr>\n",
       "    <tr>\n",
       "      <th>3</th>\n",
       "      <td>BaMoO3</td>\n",
       "      <td>True</td>\n",
       "      <td>-359.32</td>\n",
       "      <td>0</td>\n",
       "      <td>0</td>\n",
       "      <td>24</td>\n",
       "      <td>1</td>\n",
       "      <td>[[2.06811213 2.06811213 2.06811213] Ba, [2.068...</td>\n",
       "      <td>NaN</td>\n",
       "      <td>True</td>\n",
       "      <td>...</td>\n",
       "      <td>NaN</td>\n",
       "      <td>True</td>\n",
       "      <td>-370.751</td>\n",
       "      <td>-0.597</td>\n",
       "      <td>-0.302</td>\n",
       "      <td>23</td>\n",
       "      <td>-1</td>\n",
       "      <td>74</td>\n",
       "      <td>[[2.06811213 2.06811213 2.06811213] Ba, [2.090...</td>\n",
       "      <td>NaN</td>\n",
       "    </tr>\n",
       "    <tr>\n",
       "      <th>4</th>\n",
       "      <td>KTaO3</td>\n",
       "      <td>True</td>\n",
       "      <td>-438.376</td>\n",
       "      <td>0</td>\n",
       "      <td>0</td>\n",
       "      <td>0</td>\n",
       "      <td>1</td>\n",
       "      <td>[[2.01423343 2.01423343 2.01423343] K, [2.0142...</td>\n",
       "      <td>NaN</td>\n",
       "      <td>True</td>\n",
       "      <td>...</td>\n",
       "      <td>NaN</td>\n",
       "      <td>True</td>\n",
       "      <td>-450.506</td>\n",
       "      <td>-1.296</td>\n",
       "      <td>-1.001</td>\n",
       "      <td>0.991</td>\n",
       "      <td>0.991</td>\n",
       "      <td>67</td>\n",
       "      <td>[[ 7.21096101  0.38768809 10.5776824 ] H, [2.0...</td>\n",
       "      <td>NaN</td>\n",
       "    </tr>\n",
       "    <tr>\n",
       "      <th>5</th>\n",
       "      <td>BaZrO3</td>\n",
       "      <td>True</td>\n",
       "      <td>-438.828</td>\n",
       "      <td>0</td>\n",
       "      <td>0</td>\n",
       "      <td>0</td>\n",
       "      <td>1</td>\n",
       "      <td>[[0.         0.         2.11804015] Ba, [8.472...</td>\n",
       "      <td>NaN</td>\n",
       "      <td>True</td>\n",
       "      <td>...</td>\n",
       "      <td>NaN</td>\n",
       "      <td>True</td>\n",
       "      <td>-448.668</td>\n",
       "      <td>0.995</td>\n",
       "      <td>1.29</td>\n",
       "      <td>0.216</td>\n",
       "      <td>0.216</td>\n",
       "      <td>112</td>\n",
       "      <td>[[0.         0.         2.11804015] Ba, [0.064...</td>\n",
       "      <td>NaN</td>\n",
       "    </tr>\n",
       "    <tr>\n",
       "      <th>...</th>\n",
       "      <td>...</td>\n",
       "      <td>...</td>\n",
       "      <td>...</td>\n",
       "      <td>...</td>\n",
       "      <td>...</td>\n",
       "      <td>...</td>\n",
       "      <td>...</td>\n",
       "      <td>...</td>\n",
       "      <td>...</td>\n",
       "      <td>...</td>\n",
       "      <td>...</td>\n",
       "      <td>...</td>\n",
       "      <td>...</td>\n",
       "      <td>...</td>\n",
       "      <td>...</td>\n",
       "      <td>...</td>\n",
       "      <td>...</td>\n",
       "      <td>...</td>\n",
       "      <td>...</td>\n",
       "      <td>...</td>\n",
       "      <td>...</td>\n",
       "    </tr>\n",
       "    <tr>\n",
       "      <th>76</th>\n",
       "      <td>RbPdO3</td>\n",
       "      <td>True</td>\n",
       "      <td>-237.862</td>\n",
       "      <td>0</td>\n",
       "      <td>0</td>\n",
       "      <td>24.444</td>\n",
       "      <td>1</td>\n",
       "      <td>[[0.         2.05243462 0.        ] O, [2.0524...</td>\n",
       "      <td>NaN</td>\n",
       "      <td>True</td>\n",
       "      <td>...</td>\n",
       "      <td>NaN</td>\n",
       "      <td>True</td>\n",
       "      <td>-247.677</td>\n",
       "      <td>1.018</td>\n",
       "      <td>1.313</td>\n",
       "      <td>22</td>\n",
       "      <td>-2.444</td>\n",
       "      <td>126</td>\n",
       "      <td>[[ 0.08219953  7.29743334 10.52365441] H, [0. ...</td>\n",
       "      <td>NaN</td>\n",
       "    </tr>\n",
       "    <tr>\n",
       "      <th>77</th>\n",
       "      <td>CaHfO3</td>\n",
       "      <td>True</td>\n",
       "      <td>-456.965</td>\n",
       "      <td>0</td>\n",
       "      <td>0</td>\n",
       "      <td>-0</td>\n",
       "      <td>1</td>\n",
       "      <td>[[0.        0.        2.0506531] Ca, [3.755119...</td>\n",
       "      <td>NaN</td>\n",
       "      <td>True</td>\n",
       "      <td>...</td>\n",
       "      <td>NaN</td>\n",
       "      <td>True</td>\n",
       "      <td>-467.476</td>\n",
       "      <td>0.324</td>\n",
       "      <td>0.619</td>\n",
       "      <td>0.059</td>\n",
       "      <td>0.059</td>\n",
       "      <td>148</td>\n",
       "      <td>[[0.        0.        2.0506531] Ca, [0.225467...</td>\n",
       "      <td>NaN</td>\n",
       "    </tr>\n",
       "    <tr>\n",
       "      <th>78</th>\n",
       "      <td>TlWO3</td>\n",
       "      <td>True</td>\n",
       "      <td>-326.169</td>\n",
       "      <td>0</td>\n",
       "      <td>0</td>\n",
       "      <td>16</td>\n",
       "      <td>26</td>\n",
       "      <td>[[2.038601 0.       0.      ] O, [0.       2.0...</td>\n",
       "      <td>NaN</td>\n",
       "      <td>True</td>\n",
       "      <td>...</td>\n",
       "      <td>NaN</td>\n",
       "      <td>True</td>\n",
       "      <td>-338.705</td>\n",
       "      <td>-1.702</td>\n",
       "      <td>-1.407</td>\n",
       "      <td>15</td>\n",
       "      <td>-1</td>\n",
       "      <td>130</td>\n",
       "      <td>[[ 2.06261209  1.13741873 10.68303356] H, [2.0...</td>\n",
       "      <td>NaN</td>\n",
       "    </tr>\n",
       "    <tr>\n",
       "      <th>79</th>\n",
       "      <td>RbWO3</td>\n",
       "      <td>True</td>\n",
       "      <td>-331.043</td>\n",
       "      <td>0</td>\n",
       "      <td>0</td>\n",
       "      <td>16</td>\n",
       "      <td>1</td>\n",
       "      <td>[[0.         0.         2.03151098] O, [2.0315...</td>\n",
       "      <td>NaN</td>\n",
       "      <td>True</td>\n",
       "      <td>...</td>\n",
       "      <td>NaN</td>\n",
       "      <td>True</td>\n",
       "      <td>-343.287</td>\n",
       "      <td>-1.41</td>\n",
       "      <td>-1.115</td>\n",
       "      <td>15</td>\n",
       "      <td>-1</td>\n",
       "      <td>78</td>\n",
       "      <td>[[ 8.0649423   7.29799559 10.66649638] H, [0. ...</td>\n",
       "      <td>NaN</td>\n",
       "    </tr>\n",
       "    <tr>\n",
       "      <th>80</th>\n",
       "      <td>RbPtO3</td>\n",
       "      <td>True</td>\n",
       "      <td>-252.909</td>\n",
       "      <td>0</td>\n",
       "      <td>0</td>\n",
       "      <td>20.962</td>\n",
       "      <td>1</td>\n",
       "      <td>[[2.04108953 0.         0.        ] O, [0.    ...</td>\n",
       "      <td>NaN</td>\n",
       "      <td>True</td>\n",
       "      <td>...</td>\n",
       "      <td>NaN</td>\n",
       "      <td>True</td>\n",
       "      <td>-263.005</td>\n",
       "      <td>0.739</td>\n",
       "      <td>1.034</td>\n",
       "      <td>19.65</td>\n",
       "      <td>-1.312</td>\n",
       "      <td>126</td>\n",
       "      <td>[[ 1.325425    1.32540497 10.69731981] H, [2.0...</td>\n",
       "      <td>NaN</td>\n",
       "    </tr>\n",
       "  </tbody>\n",
       "</table>\n",
       "<p>80 rows × 36 columns</p>\n",
       "</div>"
      ],
      "text/plain": [
       "   formula convg_bare tot_E_bare DE_bare DG_bare bare_mag nsteps_bare  \\\n",
       "1   SrTcO3       True    -386.83       0       0   13.642           1   \n",
       "2   BaFeO3       True   -316.788       0       0   59.992           1   \n",
       "3   BaMoO3       True    -359.32       0       0       24           1   \n",
       "4    KTaO3       True   -438.376       0       0        0           1   \n",
       "5   BaZrO3       True   -438.828       0       0        0           1   \n",
       "..     ...        ...        ...     ...     ...      ...         ...   \n",
       "76  RbPdO3       True   -237.862       0       0   24.444           1   \n",
       "77  CaHfO3       True   -456.965       0       0       -0           1   \n",
       "78   TlWO3       True   -326.169       0       0       16          26   \n",
       "79   RbWO3       True   -331.043       0       0       16           1   \n",
       "80  RbPtO3       True   -252.909       0       0   20.962           1   \n",
       "\n",
       "                                           struc_bare time_bare convg_OOH  \\\n",
       "1   [[0.         1.98022307 0.        ] O, [1.9802...       NaN      True   \n",
       "2   [[2.0165225 2.0165225 2.0165225] Ba, [2.016522...       NaN      True   \n",
       "3   [[2.06811213 2.06811213 2.06811213] Ba, [2.068...       NaN      True   \n",
       "4   [[2.01423343 2.01423343 2.01423343] K, [2.0142...       NaN      True   \n",
       "5   [[0.         0.         2.11804015] Ba, [8.472...       NaN      True   \n",
       "..                                                ...       ...       ...   \n",
       "76  [[0.         2.05243462 0.        ] O, [2.0524...       NaN      True   \n",
       "77  [[0.        0.        2.0506531] Ca, [3.755119...       NaN      True   \n",
       "78  [[2.038601 0.       0.      ] O, [0.       2.0...       NaN      True   \n",
       "79  [[0.         0.         2.03151098] O, [2.0315...       NaN      True   \n",
       "80  [[2.04108953 0.         0.        ] O, [0.    ...       NaN      True   \n",
       "\n",
       "    ... time_O convg_OH tot_E_OH  DE_OH  DG_OH  OH_mag OH_dmag nsteps_OH  \\\n",
       "1   ...    NaN     True -398.741 -1.077 -0.782  10.772  -2.871       104   \n",
       "2   ...    NaN     True -325.893  1.729  2.024   58.79  -1.202       135   \n",
       "3   ...    NaN     True -370.751 -0.597 -0.302      23      -1        74   \n",
       "4   ...    NaN     True -450.506 -1.296 -1.001   0.991   0.991        67   \n",
       "5   ...    NaN     True -448.668  0.995   1.29   0.216   0.216       112   \n",
       "..  ...    ...      ...      ...    ...    ...     ...     ...       ...   \n",
       "76  ...    NaN     True -247.677  1.018  1.313      22  -2.444       126   \n",
       "77  ...    NaN     True -467.476  0.324  0.619   0.059   0.059       148   \n",
       "78  ...    NaN     True -338.705 -1.702 -1.407      15      -1       130   \n",
       "79  ...    NaN     True -343.287  -1.41 -1.115      15      -1        78   \n",
       "80  ...    NaN     True -263.005  0.739  1.034   19.65  -1.312       126   \n",
       "\n",
       "                                             struc_OH time_OH  \n",
       "1   [[ 1.08924803  2.12199985 10.29190122] H, [0. ...     NaN  \n",
       "2   [[2.0165225 2.0165225 2.0165225] Ba, [1.998014...     NaN  \n",
       "3   [[2.06811213 2.06811213 2.06811213] Ba, [2.090...     NaN  \n",
       "4   [[ 7.21096101  0.38768809 10.5776824 ] H, [2.0...     NaN  \n",
       "5   [[0.         0.         2.11804015] Ba, [0.064...     NaN  \n",
       "..                                                ...     ...  \n",
       "76  [[ 0.08219953  7.29743334 10.52365441] H, [0. ...     NaN  \n",
       "77  [[0.        0.        2.0506531] Ca, [0.225467...     NaN  \n",
       "78  [[ 2.06261209  1.13741873 10.68303356] H, [2.0...     NaN  \n",
       "79  [[ 8.0649423   7.29799559 10.66649638] H, [0. ...     NaN  \n",
       "80  [[ 1.325425    1.32540497 10.69731981] H, [2.0...     NaN  \n",
       "\n",
       "[80 rows x 36 columns]"
      ]
     },
     "execution_count": 151,
     "metadata": {},
     "output_type": "execute_result"
    }
   ],
   "source": [
    "with open('../results_nurion/adsorbate_analysis/df_summary_001_080.pkl', 'rb') as f:\n",
    "    data = pickle5.load(f)\n",
    "# print(data)\n",
    "df = pd.DataFrame(data)\n",
    "df"
   ]
  },
  {
   "cell_type": "code",
   "execution_count": 152,
   "metadata": {},
   "outputs": [],
   "source": [
    "df['Ehull'] = df_bulk['Ehull_ref'][:80]"
   ]
  },
  {
   "cell_type": "code",
   "execution_count": 153,
   "metadata": {},
   "outputs": [
    {
     "data": {
      "text/plain": [
       "array(['formula', 'convg_bare', 'tot_E_bare', 'DE_bare', 'DG_bare',\n",
       "       'bare_mag', 'nsteps_bare', 'struc_bare', 'time_bare', 'convg_OOH',\n",
       "       'tot_E_OOH', 'DE_OOH', 'DG_OOH', 'OOH_mag', 'OOH_dmag',\n",
       "       'nsteps_OOH', 'struc_OOH', 'time_OOH', 'convg_O', 'tot_E_O',\n",
       "       'DE_O', 'DG_O', 'O_mag', 'O_dmag', 'nsteps_O', 'struc_O', 'time_O',\n",
       "       'convg_OH', 'tot_E_OH', 'DE_OH', 'DG_OH', 'OH_mag', 'OH_dmag',\n",
       "       'nsteps_OH', 'struc_OH', 'time_OH', 'Ehull', 'mag_ini'],\n",
       "      dtype=object)"
      ]
     },
     "execution_count": 153,
     "metadata": {},
     "output_type": "execute_result"
    }
   ],
   "source": [
    "df['mag_ini'] = 'FM'\n",
    "df.columns.values"
   ]
  },
  {
   "cell_type": "code",
   "execution_count": 154,
   "metadata": {},
   "outputs": [
    {
     "data": {
      "text/html": [
       "<div>\n",
       "<style scoped>\n",
       "    .dataframe tbody tr th:only-of-type {\n",
       "        vertical-align: middle;\n",
       "    }\n",
       "\n",
       "    .dataframe tbody tr th {\n",
       "        vertical-align: top;\n",
       "    }\n",
       "\n",
       "    .dataframe thead th {\n",
       "        text-align: right;\n",
       "    }\n",
       "</style>\n",
       "<table border=\"1\" class=\"dataframe\">\n",
       "  <thead>\n",
       "    <tr style=\"text-align: right;\">\n",
       "      <th></th>\n",
       "      <th>formula</th>\n",
       "      <th>mag_ini</th>\n",
       "      <th>Ehull</th>\n",
       "      <th>convg_bare</th>\n",
       "      <th>tot_E_bare</th>\n",
       "      <th>DE_bare</th>\n",
       "      <th>DG_bare</th>\n",
       "      <th>bare_mag</th>\n",
       "      <th>nsteps_bare</th>\n",
       "      <th>struc_bare</th>\n",
       "      <th>...</th>\n",
       "      <th>nsteps_O</th>\n",
       "      <th>struc_O</th>\n",
       "      <th>convg_OH</th>\n",
       "      <th>tot_E_OH</th>\n",
       "      <th>DE_OH</th>\n",
       "      <th>DG_OH</th>\n",
       "      <th>OH_mag</th>\n",
       "      <th>OH_dmag</th>\n",
       "      <th>nsteps_OH</th>\n",
       "      <th>struc_OH</th>\n",
       "    </tr>\n",
       "  </thead>\n",
       "  <tbody>\n",
       "    <tr>\n",
       "      <th>1</th>\n",
       "      <td>SrTcO3</td>\n",
       "      <td>FM</td>\n",
       "      <td>0</td>\n",
       "      <td>True</td>\n",
       "      <td>-386.83</td>\n",
       "      <td>0</td>\n",
       "      <td>0</td>\n",
       "      <td>13.642</td>\n",
       "      <td>1</td>\n",
       "      <td>[[0.         1.98022307 0.        ] O, [1.9802...</td>\n",
       "      <td>...</td>\n",
       "      <td>33</td>\n",
       "      <td>[[0.         1.98022307 0.        ] O, [1.9802...</td>\n",
       "      <td>True</td>\n",
       "      <td>-398.741</td>\n",
       "      <td>-1.077</td>\n",
       "      <td>-0.782</td>\n",
       "      <td>10.772</td>\n",
       "      <td>-2.871</td>\n",
       "      <td>104</td>\n",
       "      <td>[[ 1.08924803  2.12199985 10.29190122] H, [0. ...</td>\n",
       "    </tr>\n",
       "    <tr>\n",
       "      <th>2</th>\n",
       "      <td>BaFeO3</td>\n",
       "      <td>FM</td>\n",
       "      <td>0</td>\n",
       "      <td>True</td>\n",
       "      <td>-316.788</td>\n",
       "      <td>0</td>\n",
       "      <td>0</td>\n",
       "      <td>59.992</td>\n",
       "      <td>1</td>\n",
       "      <td>[[2.0165225 2.0165225 2.0165225] Ba, [2.016522...</td>\n",
       "      <td>...</td>\n",
       "      <td>22</td>\n",
       "      <td>[[2.0165225 2.0165225 2.0165225] Ba, [2.013674...</td>\n",
       "      <td>True</td>\n",
       "      <td>-325.893</td>\n",
       "      <td>1.729</td>\n",
       "      <td>2.024</td>\n",
       "      <td>58.79</td>\n",
       "      <td>-1.202</td>\n",
       "      <td>135</td>\n",
       "      <td>[[2.0165225 2.0165225 2.0165225] Ba, [1.998014...</td>\n",
       "    </tr>\n",
       "    <tr>\n",
       "      <th>3</th>\n",
       "      <td>BaMoO3</td>\n",
       "      <td>FM</td>\n",
       "      <td>0</td>\n",
       "      <td>True</td>\n",
       "      <td>-359.32</td>\n",
       "      <td>0</td>\n",
       "      <td>0</td>\n",
       "      <td>24</td>\n",
       "      <td>1</td>\n",
       "      <td>[[2.06811213 2.06811213 2.06811213] Ba, [2.068...</td>\n",
       "      <td>...</td>\n",
       "      <td>42</td>\n",
       "      <td>[[2.06811213 2.06811213 2.06811213] Ba, [2.056...</td>\n",
       "      <td>True</td>\n",
       "      <td>-370.751</td>\n",
       "      <td>-0.597</td>\n",
       "      <td>-0.302</td>\n",
       "      <td>23</td>\n",
       "      <td>-1</td>\n",
       "      <td>74</td>\n",
       "      <td>[[2.06811213 2.06811213 2.06811213] Ba, [2.090...</td>\n",
       "    </tr>\n",
       "    <tr>\n",
       "      <th>4</th>\n",
       "      <td>KTaO3</td>\n",
       "      <td>FM</td>\n",
       "      <td>0</td>\n",
       "      <td>True</td>\n",
       "      <td>-438.376</td>\n",
       "      <td>0</td>\n",
       "      <td>0</td>\n",
       "      <td>0</td>\n",
       "      <td>1</td>\n",
       "      <td>[[2.01423343 2.01423343 2.01423343] K, [2.0142...</td>\n",
       "      <td>...</td>\n",
       "      <td>57</td>\n",
       "      <td>[[2.01423343 2.01423343 2.01423343] K, [1.9147...</td>\n",
       "      <td>True</td>\n",
       "      <td>-450.506</td>\n",
       "      <td>-1.296</td>\n",
       "      <td>-1.001</td>\n",
       "      <td>0.991</td>\n",
       "      <td>0.991</td>\n",
       "      <td>67</td>\n",
       "      <td>[[ 7.21096101  0.38768809 10.5776824 ] H, [2.0...</td>\n",
       "    </tr>\n",
       "    <tr>\n",
       "      <th>5</th>\n",
       "      <td>BaZrO3</td>\n",
       "      <td>FM</td>\n",
       "      <td>0</td>\n",
       "      <td>True</td>\n",
       "      <td>-438.828</td>\n",
       "      <td>0</td>\n",
       "      <td>0</td>\n",
       "      <td>0</td>\n",
       "      <td>1</td>\n",
       "      <td>[[0.         0.         2.11804015] Ba, [8.472...</td>\n",
       "      <td>...</td>\n",
       "      <td>21</td>\n",
       "      <td>[[0.         0.         2.11804015] Ba, [0.045...</td>\n",
       "      <td>True</td>\n",
       "      <td>-448.668</td>\n",
       "      <td>0.995</td>\n",
       "      <td>1.29</td>\n",
       "      <td>0.216</td>\n",
       "      <td>0.216</td>\n",
       "      <td>112</td>\n",
       "      <td>[[0.         0.         2.11804015] Ba, [0.064...</td>\n",
       "    </tr>\n",
       "    <tr>\n",
       "      <th>...</th>\n",
       "      <td>...</td>\n",
       "      <td>...</td>\n",
       "      <td>...</td>\n",
       "      <td>...</td>\n",
       "      <td>...</td>\n",
       "      <td>...</td>\n",
       "      <td>...</td>\n",
       "      <td>...</td>\n",
       "      <td>...</td>\n",
       "      <td>...</td>\n",
       "      <td>...</td>\n",
       "      <td>...</td>\n",
       "      <td>...</td>\n",
       "      <td>...</td>\n",
       "      <td>...</td>\n",
       "      <td>...</td>\n",
       "      <td>...</td>\n",
       "      <td>...</td>\n",
       "      <td>...</td>\n",
       "      <td>...</td>\n",
       "      <td>...</td>\n",
       "    </tr>\n",
       "    <tr>\n",
       "      <th>76</th>\n",
       "      <td>RbPdO3</td>\n",
       "      <td>FM</td>\n",
       "      <td>0.152772</td>\n",
       "      <td>True</td>\n",
       "      <td>-237.862</td>\n",
       "      <td>0</td>\n",
       "      <td>0</td>\n",
       "      <td>24.444</td>\n",
       "      <td>1</td>\n",
       "      <td>[[0.         2.05243462 0.        ] O, [2.0524...</td>\n",
       "      <td>...</td>\n",
       "      <td>59</td>\n",
       "      <td>[[0.         2.05243462 0.        ] O, [2.0524...</td>\n",
       "      <td>True</td>\n",
       "      <td>-247.677</td>\n",
       "      <td>1.018</td>\n",
       "      <td>1.313</td>\n",
       "      <td>22</td>\n",
       "      <td>-2.444</td>\n",
       "      <td>126</td>\n",
       "      <td>[[ 0.08219953  7.29743334 10.52365441] H, [0. ...</td>\n",
       "    </tr>\n",
       "    <tr>\n",
       "      <th>77</th>\n",
       "      <td>CaHfO3</td>\n",
       "      <td>FM</td>\n",
       "      <td>0.154311</td>\n",
       "      <td>True</td>\n",
       "      <td>-456.965</td>\n",
       "      <td>0</td>\n",
       "      <td>0</td>\n",
       "      <td>-0</td>\n",
       "      <td>1</td>\n",
       "      <td>[[0.        0.        2.0506531] Ca, [3.755119...</td>\n",
       "      <td>...</td>\n",
       "      <td>34</td>\n",
       "      <td>[[0.        0.        2.0506531] Ca, [0.122237...</td>\n",
       "      <td>True</td>\n",
       "      <td>-467.476</td>\n",
       "      <td>0.324</td>\n",
       "      <td>0.619</td>\n",
       "      <td>0.059</td>\n",
       "      <td>0.059</td>\n",
       "      <td>148</td>\n",
       "      <td>[[0.        0.        2.0506531] Ca, [0.225467...</td>\n",
       "    </tr>\n",
       "    <tr>\n",
       "      <th>78</th>\n",
       "      <td>TlWO3</td>\n",
       "      <td>FM</td>\n",
       "      <td>0.15493</td>\n",
       "      <td>True</td>\n",
       "      <td>-326.169</td>\n",
       "      <td>0</td>\n",
       "      <td>0</td>\n",
       "      <td>16</td>\n",
       "      <td>26</td>\n",
       "      <td>[[2.038601 0.       0.      ] O, [0.       2.0...</td>\n",
       "      <td>...</td>\n",
       "      <td>30</td>\n",
       "      <td>[[2.038601 0.       0.      ] O, [0.       2.0...</td>\n",
       "      <td>True</td>\n",
       "      <td>-338.705</td>\n",
       "      <td>-1.702</td>\n",
       "      <td>-1.407</td>\n",
       "      <td>15</td>\n",
       "      <td>-1</td>\n",
       "      <td>130</td>\n",
       "      <td>[[ 2.06261209  1.13741873 10.68303356] H, [2.0...</td>\n",
       "    </tr>\n",
       "    <tr>\n",
       "      <th>79</th>\n",
       "      <td>RbWO3</td>\n",
       "      <td>FM</td>\n",
       "      <td>0.155861</td>\n",
       "      <td>True</td>\n",
       "      <td>-331.043</td>\n",
       "      <td>0</td>\n",
       "      <td>0</td>\n",
       "      <td>16</td>\n",
       "      <td>1</td>\n",
       "      <td>[[0.         0.         2.03151098] O, [2.0315...</td>\n",
       "      <td>...</td>\n",
       "      <td>62</td>\n",
       "      <td>[[0.         0.         2.03151098] O, [2.0315...</td>\n",
       "      <td>True</td>\n",
       "      <td>-343.287</td>\n",
       "      <td>-1.41</td>\n",
       "      <td>-1.115</td>\n",
       "      <td>15</td>\n",
       "      <td>-1</td>\n",
       "      <td>78</td>\n",
       "      <td>[[ 8.0649423   7.29799559 10.66649638] H, [0. ...</td>\n",
       "    </tr>\n",
       "    <tr>\n",
       "      <th>80</th>\n",
       "      <td>RbPtO3</td>\n",
       "      <td>FM</td>\n",
       "      <td>0.157408</td>\n",
       "      <td>True</td>\n",
       "      <td>-252.909</td>\n",
       "      <td>0</td>\n",
       "      <td>0</td>\n",
       "      <td>20.962</td>\n",
       "      <td>1</td>\n",
       "      <td>[[2.04108953 0.         0.        ] O, [0.    ...</td>\n",
       "      <td>...</td>\n",
       "      <td>163</td>\n",
       "      <td>[[2.04108953 0.         0.        ] O, [0.    ...</td>\n",
       "      <td>True</td>\n",
       "      <td>-263.005</td>\n",
       "      <td>0.739</td>\n",
       "      <td>1.034</td>\n",
       "      <td>19.65</td>\n",
       "      <td>-1.312</td>\n",
       "      <td>126</td>\n",
       "      <td>[[ 1.325425    1.32540497 10.69731981] H, [2.0...</td>\n",
       "    </tr>\n",
       "  </tbody>\n",
       "</table>\n",
       "<p>80 rows × 34 columns</p>\n",
       "</div>"
      ],
      "text/plain": [
       "   formula mag_ini     Ehull convg_bare tot_E_bare DE_bare DG_bare bare_mag  \\\n",
       "1   SrTcO3      FM         0       True    -386.83       0       0   13.642   \n",
       "2   BaFeO3      FM         0       True   -316.788       0       0   59.992   \n",
       "3   BaMoO3      FM         0       True    -359.32       0       0       24   \n",
       "4    KTaO3      FM         0       True   -438.376       0       0        0   \n",
       "5   BaZrO3      FM         0       True   -438.828       0       0        0   \n",
       "..     ...     ...       ...        ...        ...     ...     ...      ...   \n",
       "76  RbPdO3      FM  0.152772       True   -237.862       0       0   24.444   \n",
       "77  CaHfO3      FM  0.154311       True   -456.965       0       0       -0   \n",
       "78   TlWO3      FM   0.15493       True   -326.169       0       0       16   \n",
       "79   RbWO3      FM  0.155861       True   -331.043       0       0       16   \n",
       "80  RbPtO3      FM  0.157408       True   -252.909       0       0   20.962   \n",
       "\n",
       "   nsteps_bare                                         struc_bare  ...  \\\n",
       "1            1  [[0.         1.98022307 0.        ] O, [1.9802...  ...   \n",
       "2            1  [[2.0165225 2.0165225 2.0165225] Ba, [2.016522...  ...   \n",
       "3            1  [[2.06811213 2.06811213 2.06811213] Ba, [2.068...  ...   \n",
       "4            1  [[2.01423343 2.01423343 2.01423343] K, [2.0142...  ...   \n",
       "5            1  [[0.         0.         2.11804015] Ba, [8.472...  ...   \n",
       "..         ...                                                ...  ...   \n",
       "76           1  [[0.         2.05243462 0.        ] O, [2.0524...  ...   \n",
       "77           1  [[0.        0.        2.0506531] Ca, [3.755119...  ...   \n",
       "78          26  [[2.038601 0.       0.      ] O, [0.       2.0...  ...   \n",
       "79           1  [[0.         0.         2.03151098] O, [2.0315...  ...   \n",
       "80           1  [[2.04108953 0.         0.        ] O, [0.    ...  ...   \n",
       "\n",
       "   nsteps_O                                            struc_O convg_OH  \\\n",
       "1        33  [[0.         1.98022307 0.        ] O, [1.9802...     True   \n",
       "2        22  [[2.0165225 2.0165225 2.0165225] Ba, [2.013674...     True   \n",
       "3        42  [[2.06811213 2.06811213 2.06811213] Ba, [2.056...     True   \n",
       "4        57  [[2.01423343 2.01423343 2.01423343] K, [1.9147...     True   \n",
       "5        21  [[0.         0.         2.11804015] Ba, [0.045...     True   \n",
       "..      ...                                                ...      ...   \n",
       "76       59  [[0.         2.05243462 0.        ] O, [2.0524...     True   \n",
       "77       34  [[0.        0.        2.0506531] Ca, [0.122237...     True   \n",
       "78       30  [[2.038601 0.       0.      ] O, [0.       2.0...     True   \n",
       "79       62  [[0.         0.         2.03151098] O, [2.0315...     True   \n",
       "80      163  [[2.04108953 0.         0.        ] O, [0.    ...     True   \n",
       "\n",
       "   tot_E_OH  DE_OH  DG_OH  OH_mag OH_dmag nsteps_OH  \\\n",
       "1  -398.741 -1.077 -0.782  10.772  -2.871       104   \n",
       "2  -325.893  1.729  2.024   58.79  -1.202       135   \n",
       "3  -370.751 -0.597 -0.302      23      -1        74   \n",
       "4  -450.506 -1.296 -1.001   0.991   0.991        67   \n",
       "5  -448.668  0.995   1.29   0.216   0.216       112   \n",
       "..      ...    ...    ...     ...     ...       ...   \n",
       "76 -247.677  1.018  1.313      22  -2.444       126   \n",
       "77 -467.476  0.324  0.619   0.059   0.059       148   \n",
       "78 -338.705 -1.702 -1.407      15      -1       130   \n",
       "79 -343.287  -1.41 -1.115      15      -1        78   \n",
       "80 -263.005  0.739  1.034   19.65  -1.312       126   \n",
       "\n",
       "                                             struc_OH  \n",
       "1   [[ 1.08924803  2.12199985 10.29190122] H, [0. ...  \n",
       "2   [[2.0165225 2.0165225 2.0165225] Ba, [1.998014...  \n",
       "3   [[2.06811213 2.06811213 2.06811213] Ba, [2.090...  \n",
       "4   [[ 7.21096101  0.38768809 10.5776824 ] H, [2.0...  \n",
       "5   [[0.         0.         2.11804015] Ba, [0.064...  \n",
       "..                                                ...  \n",
       "76  [[ 0.08219953  7.29743334 10.52365441] H, [0. ...  \n",
       "77  [[0.        0.        2.0506531] Ca, [0.225467...  \n",
       "78  [[ 2.06261209  1.13741873 10.68303356] H, [2.0...  \n",
       "79  [[ 8.0649423   7.29799559 10.66649638] H, [0. ...  \n",
       "80  [[ 1.325425    1.32540497 10.69731981] H, [2.0...  \n",
       "\n",
       "[80 rows x 34 columns]"
      ]
     },
     "execution_count": 154,
     "metadata": {},
     "output_type": "execute_result"
    }
   ],
   "source": [
    "columns = ['formula', 'mag_ini','Ehull',\n",
    "           'convg_bare', 'tot_E_bare', 'DE_bare', 'DG_bare','bare_mag', 'nsteps_bare', 'struc_bare',\n",
    "           'convg_OOH', 'tot_E_OOH', 'DE_OOH', 'DG_OOH', 'OOH_mag', 'OOH_dmag','nsteps_OOH', 'struc_OOH',\n",
    "           'convg_O', 'tot_E_O', 'DE_O', 'DG_O', 'O_mag', 'O_dmag', 'nsteps_O', 'struc_O', \n",
    "           'convg_OH', 'tot_E_OH', 'DE_OH', 'DG_OH', 'OH_mag', 'OH_dmag','nsteps_OH', 'struc_OH', ]\n",
    "df = df[columns]\n",
    "df"
   ]
  },
  {
   "cell_type": "code",
   "execution_count": 155,
   "metadata": {},
   "outputs": [
    {
     "data": {
      "text/html": [
       "<div>\n",
       "<style scoped>\n",
       "    .dataframe tbody tr th:only-of-type {\n",
       "        vertical-align: middle;\n",
       "    }\n",
       "\n",
       "    .dataframe tbody tr th {\n",
       "        vertical-align: top;\n",
       "    }\n",
       "\n",
       "    .dataframe thead th {\n",
       "        text-align: right;\n",
       "    }\n",
       "</style>\n",
       "<table border=\"1\" class=\"dataframe\">\n",
       "  <thead>\n",
       "    <tr style=\"text-align: right;\">\n",
       "      <th></th>\n",
       "      <th>formula</th>\n",
       "      <th>mag_ini</th>\n",
       "      <th>Ehull</th>\n",
       "      <th>convg_bare</th>\n",
       "      <th>tot_E_bare</th>\n",
       "      <th>DE_bare</th>\n",
       "      <th>DG_bare</th>\n",
       "      <th>bare_mag</th>\n",
       "      <th>nsteps_bare</th>\n",
       "      <th>struc_bare</th>\n",
       "      <th>...</th>\n",
       "      <th>nsteps_O</th>\n",
       "      <th>struc_O</th>\n",
       "      <th>convg_OH</th>\n",
       "      <th>tot_E_OH</th>\n",
       "      <th>DE_OH</th>\n",
       "      <th>DG_OH</th>\n",
       "      <th>OH_mag</th>\n",
       "      <th>OH_dmag</th>\n",
       "      <th>nsteps_OH</th>\n",
       "      <th>struc_OH</th>\n",
       "    </tr>\n",
       "  </thead>\n",
       "  <tbody>\n",
       "    <tr>\n",
       "      <th>count</th>\n",
       "      <td>80</td>\n",
       "      <td>80</td>\n",
       "      <td>80.0</td>\n",
       "      <td>80</td>\n",
       "      <td>80.0000</td>\n",
       "      <td>80</td>\n",
       "      <td>80</td>\n",
       "      <td>80.0</td>\n",
       "      <td>80</td>\n",
       "      <td>80</td>\n",
       "      <td>...</td>\n",
       "      <td>80</td>\n",
       "      <td>80</td>\n",
       "      <td>80</td>\n",
       "      <td>80.0000</td>\n",
       "      <td>80.000</td>\n",
       "      <td>80.000</td>\n",
       "      <td>80.0</td>\n",
       "      <td>80.0</td>\n",
       "      <td>80</td>\n",
       "      <td>80</td>\n",
       "    </tr>\n",
       "    <tr>\n",
       "      <th>unique</th>\n",
       "      <td>80</td>\n",
       "      <td>1</td>\n",
       "      <td>72.0</td>\n",
       "      <td>1</td>\n",
       "      <td>80.0000</td>\n",
       "      <td>1</td>\n",
       "      <td>1</td>\n",
       "      <td>59.0</td>\n",
       "      <td>11</td>\n",
       "      <td>80</td>\n",
       "      <td>...</td>\n",
       "      <td>52</td>\n",
       "      <td>79</td>\n",
       "      <td>2</td>\n",
       "      <td>80.0000</td>\n",
       "      <td>77.000</td>\n",
       "      <td>77.000</td>\n",
       "      <td>70.0</td>\n",
       "      <td>66.0</td>\n",
       "      <td>59</td>\n",
       "      <td>80</td>\n",
       "    </tr>\n",
       "    <tr>\n",
       "      <th>top</th>\n",
       "      <td>RbPdO3</td>\n",
       "      <td>FM</td>\n",
       "      <td>0.0</td>\n",
       "      <td>True</td>\n",
       "      <td>-257.0364</td>\n",
       "      <td>0</td>\n",
       "      <td>0</td>\n",
       "      <td>0.0</td>\n",
       "      <td>1</td>\n",
       "      <td>[[1.953616 1.953616 1.953616] K, [1.95361614 1...</td>\n",
       "      <td>...</td>\n",
       "      <td>20</td>\n",
       "      <td>NaN</td>\n",
       "      <td>True</td>\n",
       "      <td>-386.6621</td>\n",
       "      <td>0.351</td>\n",
       "      <td>2.007</td>\n",
       "      <td>15.0</td>\n",
       "      <td>-1.0</td>\n",
       "      <td>49</td>\n",
       "      <td>[[ 7.82537295  7.31138183 10.50317301] H, [0. ...</td>\n",
       "    </tr>\n",
       "    <tr>\n",
       "      <th>freq</th>\n",
       "      <td>1</td>\n",
       "      <td>80</td>\n",
       "      <td>9.0</td>\n",
       "      <td>80</td>\n",
       "      <td>1.0000</td>\n",
       "      <td>80</td>\n",
       "      <td>80</td>\n",
       "      <td>10.0</td>\n",
       "      <td>67</td>\n",
       "      <td>1</td>\n",
       "      <td>...</td>\n",
       "      <td>4</td>\n",
       "      <td>2</td>\n",
       "      <td>79</td>\n",
       "      <td>1.0000</td>\n",
       "      <td>2.000</td>\n",
       "      <td>2.000</td>\n",
       "      <td>5.0</td>\n",
       "      <td>13.0</td>\n",
       "      <td>3</td>\n",
       "      <td>1</td>\n",
       "    </tr>\n",
       "  </tbody>\n",
       "</table>\n",
       "<p>4 rows × 34 columns</p>\n",
       "</div>"
      ],
      "text/plain": [
       "       formula mag_ini  Ehull convg_bare  tot_E_bare  DE_bare  DG_bare  \\\n",
       "count       80      80   80.0         80     80.0000       80       80   \n",
       "unique      80       1   72.0          1     80.0000        1        1   \n",
       "top     RbPdO3      FM    0.0       True   -257.0364        0        0   \n",
       "freq         1      80    9.0         80      1.0000       80       80   \n",
       "\n",
       "        bare_mag  nsteps_bare  \\\n",
       "count       80.0           80   \n",
       "unique      59.0           11   \n",
       "top          0.0            1   \n",
       "freq        10.0           67   \n",
       "\n",
       "                                               struc_bare  ... nsteps_O  \\\n",
       "count                                                  80  ...       80   \n",
       "unique                                                 80  ...       52   \n",
       "top     [[1.953616 1.953616 1.953616] K, [1.95361614 1...  ...       20   \n",
       "freq                                                    1  ...        4   \n",
       "\n",
       "       struc_O  convg_OH  tot_E_OH   DE_OH   DG_OH  OH_mag OH_dmag nsteps_OH  \\\n",
       "count       80        80   80.0000  80.000  80.000    80.0    80.0        80   \n",
       "unique      79         2   80.0000  77.000  77.000    70.0    66.0        59   \n",
       "top        NaN      True -386.6621   0.351   2.007    15.0    -1.0        49   \n",
       "freq         2        79    1.0000   2.000   2.000     5.0    13.0         3   \n",
       "\n",
       "                                                 struc_OH  \n",
       "count                                                  80  \n",
       "unique                                                 80  \n",
       "top     [[ 7.82537295  7.31138183 10.50317301] H, [0. ...  \n",
       "freq                                                    1  \n",
       "\n",
       "[4 rows x 34 columns]"
      ]
     },
     "execution_count": 155,
     "metadata": {},
     "output_type": "execute_result"
    }
   ],
   "source": [
    "df.describe()"
   ]
  },
  {
   "cell_type": "code",
   "execution_count": 172,
   "metadata": {},
   "outputs": [
    {
     "data": {
      "text/html": [
       "\n",
       "        <iframe\n",
       "            width=\"2000px\"\n",
       "            height=\"525px\"\n",
       "            src=\"https://plotly.com/~gwanyeong/52.embed\"\n",
       "            frameborder=\"0\"\n",
       "            allowfullscreen\n",
       "        ></iframe>\n",
       "        "
      ],
      "text/plain": [
       "<IPython.lib.display.IFrame at 0x201fae2a9c8>"
      ]
     },
     "execution_count": 172,
     "metadata": {},
     "output_type": "execute_result"
    }
   ],
   "source": [
    "# Total magnetization\n",
    "trace1 = go.Bar(x = df['formula'], y = df['bare_mag'], name = 'bare')\n",
    "trace2 = go.Bar(x = df['formula'], y = df['OOH_mag'], name = 'OOH')\n",
    "trace3 = go.Bar(x = df['formula'], y = df['O_mag'], name = 'O')\n",
    "trace4 = go.Bar(x = df['formula'], y = df['OH_mag'], name = 'OH')\n",
    "\n",
    "\n",
    "data = [trace1, trace2,trace3, trace4]\n",
    "layout = go.Layout(title = 'Total magnetization',template = 'seaborn', width = 2000, yaxis = {'title':'Total magnetization'})\n",
    "fig = go.Figure(data = data, layout = layout)\n",
    "#pyo.plot(fig, image = 'png', image_filename ='plot_image')\n",
    "fig.show()\n",
    "# py.iplot(fig)"
   ]
  },
  {
   "cell_type": "markdown",
   "metadata": {},
   "source": [
    "<div>\n",
    "    <a href=\"https://plotly.com/~gwanyeong/52/?share_key=Hoy8Hce8CTgLMZxzsx1cEK\" target=\"_blank\" title=\"Plot 52\" style=\"display: block; text-align: center;\"><img src=\"https://plotly.com/~gwanyeong/52.png?share_key=Hoy8Hce8CTgLMZxzsx1cEK\" alt=\"Plot 52\" style=\"max-width: 100%;width: 2000px;\"  width=\"2000\" onerror=\"this.onerror=null;this.src='https://plotly.com/404.png';\" /></a>\n",
    "    <script data-plotly=\"gwanyeong:52\" sharekey-plotly=\"Hoy8Hce8CTgLMZxzsx1cEK\" src=\"https://plotly.com/embed.js\" async></script>\n",
    "</div>\n"
   ]
  },
  {
   "cell_type": "code",
   "execution_count": 173,
   "metadata": {},
   "outputs": [
    {
     "data": {
      "text/html": [
       "\n",
       "        <iframe\n",
       "            width=\"2000px\"\n",
       "            height=\"525px\"\n",
       "            src=\"https://plotly.com/~gwanyeong/54.embed\"\n",
       "            frameborder=\"0\"\n",
       "            allowfullscreen\n",
       "        ></iframe>\n",
       "        "
      ],
      "text/plain": [
       "<IPython.lib.display.IFrame at 0x201fe5fdd88>"
      ]
     },
     "execution_count": 173,
     "metadata": {},
     "output_type": "execute_result"
    }
   ],
   "source": [
    "# Delta magnetization\n",
    "trace1 = go.Bar(x = df['formula'], y = df['OOH_dmag'], name = 'OOH')\n",
    "trace2 = go.Bar(x = df['formula'], y = df['O_dmag'], name = 'O')\n",
    "trace3 = go.Bar(x = df['formula'], y = df['OH_dmag'], name = 'OH')\n",
    "\n",
    "\n",
    "data = [trace1, trace2,trace3]\n",
    "layout = go.Layout(title = 'Delta magnetization',template = 'seaborn', width = 2000, yaxis = {'title':'Delta magnetization'})\n",
    "fig = go.Figure(data = data, layout = layout)\n",
    "#pyo.plot(fig, image = 'png', image_filename ='plot_image')\n",
    "# fig.show()\n",
    "py.iplot(fig)"
   ]
  },
  {
   "cell_type": "markdown",
   "metadata": {},
   "source": [
    "<div>\n",
    "    <a href=\"https://plotly.com/~gwanyeong/54/?share_key=s9S1IJ2kvrVMvchIT8LMFh\" target=\"_blank\" title=\"Plot 54\" style=\"display: block; text-align: center;\"><img src=\"https://plotly.com/~gwanyeong/54.png?share_key=s9S1IJ2kvrVMvchIT8LMFh\" alt=\"Plot 54\" style=\"max-width: 100%;width: 2000px;\"  width=\"2000\" onerror=\"this.onerror=null;this.src='https://plotly.com/404.png';\" /></a>\n",
    "    <script data-plotly=\"gwanyeong:54\" sharekey-plotly=\"s9S1IJ2kvrVMvchIT8LMFh\" src=\"https://plotly.com/embed.js\" async></script>\n",
    "</div>\n"
   ]
  },
  {
   "cell_type": "code",
   "execution_count": 158,
   "metadata": {},
   "outputs": [
    {
     "data": {
      "application/vnd.plotly.v1+json": {
       "config": {
        "plotlyServerURL": "https://plot.ly"
       },
       "data": [
        {
         "name": "OOH",
         "type": "bar",
         "x": [
          "SrTcO3",
          "BaFeO3",
          "BaMoO3",
          "KTaO3",
          "BaZrO3",
          "SrFeO3",
          "KTcO3",
          "NaTcO3",
          "BaHfO3",
          "SrTiO3",
          "SrCuO3",
          "KNbO3",
          "NaTaO3",
          "BaScO3",
          "BaPdO3",
          "BaTaO3",
          "SrHfO3",
          "NaOsO3",
          "TlTcO3",
          "KReO3",
          "SrRuO3",
          "KHfO3",
          "SrVO3",
          "KOsO3",
          "TaAgO3",
          "SrNiO3",
          "RbIrO3",
          "NaReO3",
          "SrMnO3",
          "CaFeO3",
          "SrZrO3",
          "NaWO3",
          "RbTaO3",
          "SrCoO3",
          "SrTaO3",
          "KZrO3",
          "CaTiO3",
          "NaRuO3",
          "LiTcO3",
          "SrPdO3",
          "KWO3",
          "KRhO3",
          "BaCuO3",
          "RbNbO3",
          "BaOsO3",
          "BaRuO3",
          "KRuO3",
          "SrMoO3",
          "NaTiO3",
          "SrScO3",
          "RbOsO3",
          "SrRhO3",
          "NaMoO3",
          "SrOsO3",
          "BaRhO3",
          "BaPtO3",
          "CaVO3",
          "KMoO3",
          "SrCrO3",
          "SrAgO3",
          "RbRhO3",
          "BaVO3",
          "CaCoO3",
          "CaMnO3",
          "KPtO3",
          "BaNiO3",
          "BaMnO3",
          "SrReO3",
          "BaReO3",
          "SrIrO3",
          "NaVO3",
          "NaFeO3",
          "BaIrO3",
          "RbReO3",
          "CaRuO3",
          "RbPdO3",
          "CaHfO3",
          "TlWO3",
          "RbWO3",
          "RbPtO3"
         ],
         "y": [
          2.481,
          4.917,
          3.019,
          2.575,
          4.706,
          4.94,
          3.231,
          3.149,
          4.537,
          4.632,
          5.007,
          3.298,
          2.423,
          4.977,
          4.665,
          -4.233,
          4.46,
          3.103,
          3.1,
          2.539,
          3.406,
          4.806,
          3.026,
          2.802,
          2.512,
          4.641,
          4.135,
          2.449,
          5.509,
          4.926,
          4.537,
          "NaN",
          2.619,
          4.261,
          -4.866,
          4.825,
          4.692,
          3.804,
          3.351,
          3.741,
          2.067,
          4.504,
          4.755,
          3.187,
          2.141,
          3.513,
          3.972,
          2.216,
          4.918,
          4.963,
          2.772,
          3.496,
          2.624,
          "NaN",
          4.115,
          4.159,
          3.376,
          2.632,
          3.829,
          2.733,
          4.069,
          3.366,
          4.683,
          4.967,
          4.28,
          4.943,
          4.914,
          -2.589,
          -1.913,
          3.546,
          3.911,
          5.028,
          3.828,
          2.581,
          2.514,
          4.231,
          3.86,
          2.157,
          2.599,
          4.02
         ]
        },
        {
         "name": "O",
         "type": "bar",
         "x": [
          "SrTcO3",
          "BaFeO3",
          "BaMoO3",
          "KTaO3",
          "BaZrO3",
          "SrFeO3",
          "KTcO3",
          "NaTcO3",
          "BaHfO3",
          "SrTiO3",
          "SrCuO3",
          "KNbO3",
          "NaTaO3",
          "BaScO3",
          "BaPdO3",
          "BaTaO3",
          "SrHfO3",
          "NaOsO3",
          "TlTcO3",
          "KReO3",
          "SrRuO3",
          "KHfO3",
          "SrVO3",
          "KOsO3",
          "TaAgO3",
          "SrNiO3",
          "RbIrO3",
          "NaReO3",
          "SrMnO3",
          "CaFeO3",
          "SrZrO3",
          "NaWO3",
          "RbTaO3",
          "SrCoO3",
          "SrTaO3",
          "KZrO3",
          "CaTiO3",
          "NaRuO3",
          "LiTcO3",
          "SrPdO3",
          "KWO3",
          "KRhO3",
          "BaCuO3",
          "RbNbO3",
          "BaOsO3",
          "BaRuO3",
          "KRuO3",
          "SrMoO3",
          "NaTiO3",
          "SrScO3",
          "RbOsO3",
          "SrRhO3",
          "NaMoO3",
          "SrOsO3",
          "BaRhO3",
          "BaPtO3",
          "CaVO3",
          "KMoO3",
          "SrCrO3",
          "SrAgO3",
          "RbRhO3",
          "BaVO3",
          "CaCoO3",
          "CaMnO3",
          "KPtO3",
          "BaNiO3",
          "BaMnO3",
          "SrReO3",
          "BaReO3",
          "SrIrO3",
          "NaVO3",
          "NaFeO3",
          "BaIrO3",
          "RbReO3",
          "CaRuO3",
          "RbPdO3",
          "CaHfO3",
          "TlWO3",
          "RbWO3",
          "RbPtO3"
         ],
         "y": [
          -0.707,
          4.452,
          -0.853,
          -0.614,
          4.143,
          4.606,
          0.446,
          0.301,
          4.023,
          3.889,
          4.23,
          0.465,
          -0.899,
          4.7,
          3.455,
          -2.572,
          3.952,
          0.577,
          0.313,
          -0.544,
          0.96,
          4.407,
          0.516,
          0.699,
          -0.969,
          4.437,
          2.415,
          -0.697,
          4.648,
          4.277,
          4.034,
          -1.577,
          -0.617,
          3.136,
          -2.783,
          4.516,
          3.911,
          1.871,
          0.621,
          3.176,
          -1.2,
          3.321,
          3.95,
          0.282,
          -0.728,
          1.303,
          2.006,
          -1.375,
          4.568,
          4.677,
          "NaN",
          2.151,
          -0.665,
          "NaN",
          2.461,
          2.56,
          0.389,
          -0.412,
          2.046,
          4.29,
          3.2,
          0.504,
          3.425,
          4.289,
          2.948,
          4.41,
          2.943,
          -1.278,
          -1.129,
          1.673,
          1.743,
          4.625,
          1.989,
          -0.492,
          0.68,
          3.183,
          3.642,
          -0.904,
          -1.056,
          2.727
         ]
        },
        {
         "name": "OH",
         "type": "bar",
         "x": [
          "SrTcO3",
          "BaFeO3",
          "BaMoO3",
          "KTaO3",
          "BaZrO3",
          "SrFeO3",
          "KTcO3",
          "NaTcO3",
          "BaHfO3",
          "SrTiO3",
          "SrCuO3",
          "KNbO3",
          "NaTaO3",
          "BaScO3",
          "BaPdO3",
          "BaTaO3",
          "SrHfO3",
          "NaOsO3",
          "TlTcO3",
          "KReO3",
          "SrRuO3",
          "KHfO3",
          "SrVO3",
          "KOsO3",
          "TaAgO3",
          "SrNiO3",
          "RbIrO3",
          "NaReO3",
          "SrMnO3",
          "CaFeO3",
          "SrZrO3",
          "NaWO3",
          "RbTaO3",
          "SrCoO3",
          "SrTaO3",
          "KZrO3",
          "CaTiO3",
          "NaRuO3",
          "LiTcO3",
          "SrPdO3",
          "KWO3",
          "KRhO3",
          "BaCuO3",
          "RbNbO3",
          "BaOsO3",
          "BaRuO3",
          "KRuO3",
          "SrMoO3",
          "NaTiO3",
          "SrScO3",
          "RbOsO3",
          "SrRhO3",
          "NaMoO3",
          "SrOsO3",
          "BaRhO3",
          "BaPtO3",
          "CaVO3",
          "KMoO3",
          "SrCrO3",
          "SrAgO3",
          "RbRhO3",
          "BaVO3",
          "CaCoO3",
          "CaMnO3",
          "KPtO3",
          "BaNiO3",
          "BaMnO3",
          "SrReO3",
          "BaReO3",
          "SrIrO3",
          "NaVO3",
          "NaFeO3",
          "BaIrO3",
          "RbReO3",
          "CaRuO3",
          "RbPdO3",
          "CaHfO3",
          "TlWO3",
          "RbWO3",
          "RbPtO3"
         ],
         "y": [
          -0.782,
          2.024,
          -0.302,
          -1.001,
          1.29,
          2.026,
          0.04,
          -0.067,
          1.191,
          1.276,
          2.007,
          -0.217,
          -1.129,
          2.147,
          1.7,
          -1.886,
          1.081,
          -0.354,
          -0.031,
          -0.733,
          0.26,
          1.946,
          -0.191,
          -0.464,
          -1.056,
          3.474,
          0.976,
          -0.831,
          2.548,
          1.927,
          1.151,
          "NaN",
          -0.997,
          1.163,
          -2.023,
          2.007,
          1.263,
          0.746,
          0.152,
          0.899,
          -1.124,
          1.568,
          1.821,
          -0.344,
          -1.484,
          0.446,
          0.83,
          -1.13,
          2.205,
          2.146,
          0.07,
          0.499,
          -0.415,
          -0.547,
          1.086,
          1.101,
          -0.181,
          -0.558,
          0.646,
          1.903,
          1.29,
          -0.474,
          1.636,
          1.408,
          1.292,
          2.267,
          1.655,
          -1.281,
          -0.775,
          0.424,
          0.52,
          2.325,
          0.646,
          -0.678,
          -0.363,
          1.313,
          0.619,
          -1.407,
          -1.115,
          1.034
         ]
        }
       ],
       "layout": {
        "template": {
         "data": {
          "bar": [
           {
            "error_x": {
             "color": "rgb(36,36,36)"
            },
            "error_y": {
             "color": "rgb(36,36,36)"
            },
            "marker": {
             "line": {
              "color": "rgb(234,234,242)",
              "width": 0.5
             }
            },
            "type": "bar"
           }
          ],
          "barpolar": [
           {
            "marker": {
             "line": {
              "color": "rgb(234,234,242)",
              "width": 0.5
             }
            },
            "type": "barpolar"
           }
          ],
          "carpet": [
           {
            "aaxis": {
             "endlinecolor": "rgb(36,36,36)",
             "gridcolor": "white",
             "linecolor": "white",
             "minorgridcolor": "white",
             "startlinecolor": "rgb(36,36,36)"
            },
            "baxis": {
             "endlinecolor": "rgb(36,36,36)",
             "gridcolor": "white",
             "linecolor": "white",
             "minorgridcolor": "white",
             "startlinecolor": "rgb(36,36,36)"
            },
            "type": "carpet"
           }
          ],
          "choropleth": [
           {
            "colorbar": {
             "outlinewidth": 0,
             "tickcolor": "rgb(36,36,36)",
             "ticklen": 8,
             "ticks": "outside",
             "tickwidth": 2
            },
            "type": "choropleth"
           }
          ],
          "contour": [
           {
            "colorbar": {
             "outlinewidth": 0,
             "tickcolor": "rgb(36,36,36)",
             "ticklen": 8,
             "ticks": "outside",
             "tickwidth": 2
            },
            "colorscale": [
             [
              0,
              "rgb(2,4,25)"
             ],
             [
              0.06274509803921569,
              "rgb(24,15,41)"
             ],
             [
              0.12549019607843137,
              "rgb(47,23,57)"
             ],
             [
              0.18823529411764706,
              "rgb(71,28,72)"
             ],
             [
              0.25098039215686274,
              "rgb(97,30,82)"
             ],
             [
              0.3137254901960784,
              "rgb(123,30,89)"
             ],
             [
              0.3764705882352941,
              "rgb(150,27,91)"
             ],
             [
              0.4392156862745098,
              "rgb(177,22,88)"
             ],
             [
              0.5019607843137255,
              "rgb(203,26,79)"
             ],
             [
              0.5647058823529412,
              "rgb(223,47,67)"
             ],
             [
              0.6274509803921569,
              "rgb(236,76,61)"
             ],
             [
              0.6901960784313725,
              "rgb(242,107,73)"
             ],
             [
              0.7529411764705882,
              "rgb(244,135,95)"
             ],
             [
              0.8156862745098039,
              "rgb(245,162,122)"
             ],
             [
              0.8784313725490196,
              "rgb(246,188,153)"
             ],
             [
              0.9411764705882353,
              "rgb(247,212,187)"
             ],
             [
              1,
              "rgb(250,234,220)"
             ]
            ],
            "type": "contour"
           }
          ],
          "contourcarpet": [
           {
            "colorbar": {
             "outlinewidth": 0,
             "tickcolor": "rgb(36,36,36)",
             "ticklen": 8,
             "ticks": "outside",
             "tickwidth": 2
            },
            "type": "contourcarpet"
           }
          ],
          "heatmap": [
           {
            "colorbar": {
             "outlinewidth": 0,
             "tickcolor": "rgb(36,36,36)",
             "ticklen": 8,
             "ticks": "outside",
             "tickwidth": 2
            },
            "colorscale": [
             [
              0,
              "rgb(2,4,25)"
             ],
             [
              0.06274509803921569,
              "rgb(24,15,41)"
             ],
             [
              0.12549019607843137,
              "rgb(47,23,57)"
             ],
             [
              0.18823529411764706,
              "rgb(71,28,72)"
             ],
             [
              0.25098039215686274,
              "rgb(97,30,82)"
             ],
             [
              0.3137254901960784,
              "rgb(123,30,89)"
             ],
             [
              0.3764705882352941,
              "rgb(150,27,91)"
             ],
             [
              0.4392156862745098,
              "rgb(177,22,88)"
             ],
             [
              0.5019607843137255,
              "rgb(203,26,79)"
             ],
             [
              0.5647058823529412,
              "rgb(223,47,67)"
             ],
             [
              0.6274509803921569,
              "rgb(236,76,61)"
             ],
             [
              0.6901960784313725,
              "rgb(242,107,73)"
             ],
             [
              0.7529411764705882,
              "rgb(244,135,95)"
             ],
             [
              0.8156862745098039,
              "rgb(245,162,122)"
             ],
             [
              0.8784313725490196,
              "rgb(246,188,153)"
             ],
             [
              0.9411764705882353,
              "rgb(247,212,187)"
             ],
             [
              1,
              "rgb(250,234,220)"
             ]
            ],
            "type": "heatmap"
           }
          ],
          "heatmapgl": [
           {
            "colorbar": {
             "outlinewidth": 0,
             "tickcolor": "rgb(36,36,36)",
             "ticklen": 8,
             "ticks": "outside",
             "tickwidth": 2
            },
            "colorscale": [
             [
              0,
              "rgb(2,4,25)"
             ],
             [
              0.06274509803921569,
              "rgb(24,15,41)"
             ],
             [
              0.12549019607843137,
              "rgb(47,23,57)"
             ],
             [
              0.18823529411764706,
              "rgb(71,28,72)"
             ],
             [
              0.25098039215686274,
              "rgb(97,30,82)"
             ],
             [
              0.3137254901960784,
              "rgb(123,30,89)"
             ],
             [
              0.3764705882352941,
              "rgb(150,27,91)"
             ],
             [
              0.4392156862745098,
              "rgb(177,22,88)"
             ],
             [
              0.5019607843137255,
              "rgb(203,26,79)"
             ],
             [
              0.5647058823529412,
              "rgb(223,47,67)"
             ],
             [
              0.6274509803921569,
              "rgb(236,76,61)"
             ],
             [
              0.6901960784313725,
              "rgb(242,107,73)"
             ],
             [
              0.7529411764705882,
              "rgb(244,135,95)"
             ],
             [
              0.8156862745098039,
              "rgb(245,162,122)"
             ],
             [
              0.8784313725490196,
              "rgb(246,188,153)"
             ],
             [
              0.9411764705882353,
              "rgb(247,212,187)"
             ],
             [
              1,
              "rgb(250,234,220)"
             ]
            ],
            "type": "heatmapgl"
           }
          ],
          "histogram": [
           {
            "marker": {
             "colorbar": {
              "outlinewidth": 0,
              "tickcolor": "rgb(36,36,36)",
              "ticklen": 8,
              "ticks": "outside",
              "tickwidth": 2
             }
            },
            "type": "histogram"
           }
          ],
          "histogram2d": [
           {
            "colorbar": {
             "outlinewidth": 0,
             "tickcolor": "rgb(36,36,36)",
             "ticklen": 8,
             "ticks": "outside",
             "tickwidth": 2
            },
            "colorscale": [
             [
              0,
              "rgb(2,4,25)"
             ],
             [
              0.06274509803921569,
              "rgb(24,15,41)"
             ],
             [
              0.12549019607843137,
              "rgb(47,23,57)"
             ],
             [
              0.18823529411764706,
              "rgb(71,28,72)"
             ],
             [
              0.25098039215686274,
              "rgb(97,30,82)"
             ],
             [
              0.3137254901960784,
              "rgb(123,30,89)"
             ],
             [
              0.3764705882352941,
              "rgb(150,27,91)"
             ],
             [
              0.4392156862745098,
              "rgb(177,22,88)"
             ],
             [
              0.5019607843137255,
              "rgb(203,26,79)"
             ],
             [
              0.5647058823529412,
              "rgb(223,47,67)"
             ],
             [
              0.6274509803921569,
              "rgb(236,76,61)"
             ],
             [
              0.6901960784313725,
              "rgb(242,107,73)"
             ],
             [
              0.7529411764705882,
              "rgb(244,135,95)"
             ],
             [
              0.8156862745098039,
              "rgb(245,162,122)"
             ],
             [
              0.8784313725490196,
              "rgb(246,188,153)"
             ],
             [
              0.9411764705882353,
              "rgb(247,212,187)"
             ],
             [
              1,
              "rgb(250,234,220)"
             ]
            ],
            "type": "histogram2d"
           }
          ],
          "histogram2dcontour": [
           {
            "colorbar": {
             "outlinewidth": 0,
             "tickcolor": "rgb(36,36,36)",
             "ticklen": 8,
             "ticks": "outside",
             "tickwidth": 2
            },
            "colorscale": [
             [
              0,
              "rgb(2,4,25)"
             ],
             [
              0.06274509803921569,
              "rgb(24,15,41)"
             ],
             [
              0.12549019607843137,
              "rgb(47,23,57)"
             ],
             [
              0.18823529411764706,
              "rgb(71,28,72)"
             ],
             [
              0.25098039215686274,
              "rgb(97,30,82)"
             ],
             [
              0.3137254901960784,
              "rgb(123,30,89)"
             ],
             [
              0.3764705882352941,
              "rgb(150,27,91)"
             ],
             [
              0.4392156862745098,
              "rgb(177,22,88)"
             ],
             [
              0.5019607843137255,
              "rgb(203,26,79)"
             ],
             [
              0.5647058823529412,
              "rgb(223,47,67)"
             ],
             [
              0.6274509803921569,
              "rgb(236,76,61)"
             ],
             [
              0.6901960784313725,
              "rgb(242,107,73)"
             ],
             [
              0.7529411764705882,
              "rgb(244,135,95)"
             ],
             [
              0.8156862745098039,
              "rgb(245,162,122)"
             ],
             [
              0.8784313725490196,
              "rgb(246,188,153)"
             ],
             [
              0.9411764705882353,
              "rgb(247,212,187)"
             ],
             [
              1,
              "rgb(250,234,220)"
             ]
            ],
            "type": "histogram2dcontour"
           }
          ],
          "mesh3d": [
           {
            "colorbar": {
             "outlinewidth": 0,
             "tickcolor": "rgb(36,36,36)",
             "ticklen": 8,
             "ticks": "outside",
             "tickwidth": 2
            },
            "type": "mesh3d"
           }
          ],
          "parcoords": [
           {
            "line": {
             "colorbar": {
              "outlinewidth": 0,
              "tickcolor": "rgb(36,36,36)",
              "ticklen": 8,
              "ticks": "outside",
              "tickwidth": 2
             }
            },
            "type": "parcoords"
           }
          ],
          "pie": [
           {
            "automargin": true,
            "type": "pie"
           }
          ],
          "scatter": [
           {
            "marker": {
             "colorbar": {
              "outlinewidth": 0,
              "tickcolor": "rgb(36,36,36)",
              "ticklen": 8,
              "ticks": "outside",
              "tickwidth": 2
             }
            },
            "type": "scatter"
           }
          ],
          "scatter3d": [
           {
            "line": {
             "colorbar": {
              "outlinewidth": 0,
              "tickcolor": "rgb(36,36,36)",
              "ticklen": 8,
              "ticks": "outside",
              "tickwidth": 2
             }
            },
            "marker": {
             "colorbar": {
              "outlinewidth": 0,
              "tickcolor": "rgb(36,36,36)",
              "ticklen": 8,
              "ticks": "outside",
              "tickwidth": 2
             }
            },
            "type": "scatter3d"
           }
          ],
          "scattercarpet": [
           {
            "marker": {
             "colorbar": {
              "outlinewidth": 0,
              "tickcolor": "rgb(36,36,36)",
              "ticklen": 8,
              "ticks": "outside",
              "tickwidth": 2
             }
            },
            "type": "scattercarpet"
           }
          ],
          "scattergeo": [
           {
            "marker": {
             "colorbar": {
              "outlinewidth": 0,
              "tickcolor": "rgb(36,36,36)",
              "ticklen": 8,
              "ticks": "outside",
              "tickwidth": 2
             }
            },
            "type": "scattergeo"
           }
          ],
          "scattergl": [
           {
            "marker": {
             "colorbar": {
              "outlinewidth": 0,
              "tickcolor": "rgb(36,36,36)",
              "ticklen": 8,
              "ticks": "outside",
              "tickwidth": 2
             }
            },
            "type": "scattergl"
           }
          ],
          "scattermapbox": [
           {
            "marker": {
             "colorbar": {
              "outlinewidth": 0,
              "tickcolor": "rgb(36,36,36)",
              "ticklen": 8,
              "ticks": "outside",
              "tickwidth": 2
             }
            },
            "type": "scattermapbox"
           }
          ],
          "scatterpolar": [
           {
            "marker": {
             "colorbar": {
              "outlinewidth": 0,
              "tickcolor": "rgb(36,36,36)",
              "ticklen": 8,
              "ticks": "outside",
              "tickwidth": 2
             }
            },
            "type": "scatterpolar"
           }
          ],
          "scatterpolargl": [
           {
            "marker": {
             "colorbar": {
              "outlinewidth": 0,
              "tickcolor": "rgb(36,36,36)",
              "ticklen": 8,
              "ticks": "outside",
              "tickwidth": 2
             }
            },
            "type": "scatterpolargl"
           }
          ],
          "scatterternary": [
           {
            "marker": {
             "colorbar": {
              "outlinewidth": 0,
              "tickcolor": "rgb(36,36,36)",
              "ticklen": 8,
              "ticks": "outside",
              "tickwidth": 2
             }
            },
            "type": "scatterternary"
           }
          ],
          "surface": [
           {
            "colorbar": {
             "outlinewidth": 0,
             "tickcolor": "rgb(36,36,36)",
             "ticklen": 8,
             "ticks": "outside",
             "tickwidth": 2
            },
            "colorscale": [
             [
              0,
              "rgb(2,4,25)"
             ],
             [
              0.06274509803921569,
              "rgb(24,15,41)"
             ],
             [
              0.12549019607843137,
              "rgb(47,23,57)"
             ],
             [
              0.18823529411764706,
              "rgb(71,28,72)"
             ],
             [
              0.25098039215686274,
              "rgb(97,30,82)"
             ],
             [
              0.3137254901960784,
              "rgb(123,30,89)"
             ],
             [
              0.3764705882352941,
              "rgb(150,27,91)"
             ],
             [
              0.4392156862745098,
              "rgb(177,22,88)"
             ],
             [
              0.5019607843137255,
              "rgb(203,26,79)"
             ],
             [
              0.5647058823529412,
              "rgb(223,47,67)"
             ],
             [
              0.6274509803921569,
              "rgb(236,76,61)"
             ],
             [
              0.6901960784313725,
              "rgb(242,107,73)"
             ],
             [
              0.7529411764705882,
              "rgb(244,135,95)"
             ],
             [
              0.8156862745098039,
              "rgb(245,162,122)"
             ],
             [
              0.8784313725490196,
              "rgb(246,188,153)"
             ],
             [
              0.9411764705882353,
              "rgb(247,212,187)"
             ],
             [
              1,
              "rgb(250,234,220)"
             ]
            ],
            "type": "surface"
           }
          ],
          "table": [
           {
            "cells": {
             "fill": {
              "color": "rgb(231,231,240)"
             },
             "line": {
              "color": "white"
             }
            },
            "header": {
             "fill": {
              "color": "rgb(183,183,191)"
             },
             "line": {
              "color": "white"
             }
            },
            "type": "table"
           }
          ]
         },
         "layout": {
          "annotationdefaults": {
           "arrowcolor": "rgb(67,103,167)"
          },
          "coloraxis": {
           "colorbar": {
            "outlinewidth": 0,
            "tickcolor": "rgb(36,36,36)",
            "ticklen": 8,
            "ticks": "outside",
            "tickwidth": 2
           }
          },
          "colorscale": {
           "sequential": [
            [
             0,
             "rgb(2,4,25)"
            ],
            [
             0.06274509803921569,
             "rgb(24,15,41)"
            ],
            [
             0.12549019607843137,
             "rgb(47,23,57)"
            ],
            [
             0.18823529411764706,
             "rgb(71,28,72)"
            ],
            [
             0.25098039215686274,
             "rgb(97,30,82)"
            ],
            [
             0.3137254901960784,
             "rgb(123,30,89)"
            ],
            [
             0.3764705882352941,
             "rgb(150,27,91)"
            ],
            [
             0.4392156862745098,
             "rgb(177,22,88)"
            ],
            [
             0.5019607843137255,
             "rgb(203,26,79)"
            ],
            [
             0.5647058823529412,
             "rgb(223,47,67)"
            ],
            [
             0.6274509803921569,
             "rgb(236,76,61)"
            ],
            [
             0.6901960784313725,
             "rgb(242,107,73)"
            ],
            [
             0.7529411764705882,
             "rgb(244,135,95)"
            ],
            [
             0.8156862745098039,
             "rgb(245,162,122)"
            ],
            [
             0.8784313725490196,
             "rgb(246,188,153)"
            ],
            [
             0.9411764705882353,
             "rgb(247,212,187)"
            ],
            [
             1,
             "rgb(250,234,220)"
            ]
           ],
           "sequentialminus": [
            [
             0,
             "rgb(2,4,25)"
            ],
            [
             0.06274509803921569,
             "rgb(24,15,41)"
            ],
            [
             0.12549019607843137,
             "rgb(47,23,57)"
            ],
            [
             0.18823529411764706,
             "rgb(71,28,72)"
            ],
            [
             0.25098039215686274,
             "rgb(97,30,82)"
            ],
            [
             0.3137254901960784,
             "rgb(123,30,89)"
            ],
            [
             0.3764705882352941,
             "rgb(150,27,91)"
            ],
            [
             0.4392156862745098,
             "rgb(177,22,88)"
            ],
            [
             0.5019607843137255,
             "rgb(203,26,79)"
            ],
            [
             0.5647058823529412,
             "rgb(223,47,67)"
            ],
            [
             0.6274509803921569,
             "rgb(236,76,61)"
            ],
            [
             0.6901960784313725,
             "rgb(242,107,73)"
            ],
            [
             0.7529411764705882,
             "rgb(244,135,95)"
            ],
            [
             0.8156862745098039,
             "rgb(245,162,122)"
            ],
            [
             0.8784313725490196,
             "rgb(246,188,153)"
            ],
            [
             0.9411764705882353,
             "rgb(247,212,187)"
            ],
            [
             1,
             "rgb(250,234,220)"
            ]
           ]
          },
          "colorway": [
           "rgb(76,114,176)",
           "rgb(221,132,82)",
           "rgb(85,168,104)",
           "rgb(196,78,82)",
           "rgb(129,114,179)",
           "rgb(147,120,96)",
           "rgb(218,139,195)",
           "rgb(140,140,140)",
           "rgb(204,185,116)",
           "rgb(100,181,205)"
          ],
          "font": {
           "color": "rgb(36,36,36)"
          },
          "geo": {
           "bgcolor": "white",
           "lakecolor": "white",
           "landcolor": "rgb(234,234,242)",
           "showlakes": true,
           "showland": true,
           "subunitcolor": "white"
          },
          "hoverlabel": {
           "align": "left"
          },
          "hovermode": "closest",
          "paper_bgcolor": "white",
          "plot_bgcolor": "rgb(234,234,242)",
          "polar": {
           "angularaxis": {
            "gridcolor": "white",
            "linecolor": "white",
            "showgrid": true,
            "ticks": ""
           },
           "bgcolor": "rgb(234,234,242)",
           "radialaxis": {
            "gridcolor": "white",
            "linecolor": "white",
            "showgrid": true,
            "ticks": ""
           }
          },
          "scene": {
           "xaxis": {
            "backgroundcolor": "rgb(234,234,242)",
            "gridcolor": "white",
            "gridwidth": 2,
            "linecolor": "white",
            "showbackground": true,
            "showgrid": true,
            "ticks": "",
            "zerolinecolor": "white"
           },
           "yaxis": {
            "backgroundcolor": "rgb(234,234,242)",
            "gridcolor": "white",
            "gridwidth": 2,
            "linecolor": "white",
            "showbackground": true,
            "showgrid": true,
            "ticks": "",
            "zerolinecolor": "white"
           },
           "zaxis": {
            "backgroundcolor": "rgb(234,234,242)",
            "gridcolor": "white",
            "gridwidth": 2,
            "linecolor": "white",
            "showbackground": true,
            "showgrid": true,
            "ticks": "",
            "zerolinecolor": "white"
           }
          },
          "shapedefaults": {
           "fillcolor": "rgb(67,103,167)",
           "line": {
            "width": 0
           },
           "opacity": 0.5
          },
          "ternary": {
           "aaxis": {
            "gridcolor": "white",
            "linecolor": "white",
            "showgrid": true,
            "ticks": ""
           },
           "baxis": {
            "gridcolor": "white",
            "linecolor": "white",
            "showgrid": true,
            "ticks": ""
           },
           "bgcolor": "rgb(234,234,242)",
           "caxis": {
            "gridcolor": "white",
            "linecolor": "white",
            "showgrid": true,
            "ticks": ""
           }
          },
          "xaxis": {
           "automargin": true,
           "gridcolor": "white",
           "linecolor": "white",
           "showgrid": true,
           "ticks": "",
           "title": {
            "standoff": 15
           },
           "zerolinecolor": "white"
          },
          "yaxis": {
           "automargin": true,
           "gridcolor": "white",
           "linecolor": "white",
           "showgrid": true,
           "ticks": "",
           "title": {
            "standoff": 15
           },
           "zerolinecolor": "white"
          }
         }
        },
        "title": {
         "text": "Adsorption free energies"
        },
        "width": 2000,
        "yaxis": {
         "title": {
          "text": "$\\Delta G_{ads} (eV)$"
         }
        }
       }
      },
      "text/html": [
       "<div>                            <div id=\"89fe7f46-ee9e-40d5-b63b-58a09b63d745\" class=\"plotly-graph-div\" style=\"height:525px; width:2000px;\"></div>            <script type=\"text/javascript\">                require([\"plotly\"], function(Plotly) {                    window.PLOTLYENV=window.PLOTLYENV || {};                                    if (document.getElementById(\"89fe7f46-ee9e-40d5-b63b-58a09b63d745\")) {                    Plotly.newPlot(                        \"89fe7f46-ee9e-40d5-b63b-58a09b63d745\",                        [{\"name\": \"OOH\", \"type\": \"bar\", \"x\": [\"SrTcO3\", \"BaFeO3\", \"BaMoO3\", \"KTaO3\", \"BaZrO3\", \"SrFeO3\", \"KTcO3\", \"NaTcO3\", \"BaHfO3\", \"SrTiO3\", \"SrCuO3\", \"KNbO3\", \"NaTaO3\", \"BaScO3\", \"BaPdO3\", \"BaTaO3\", \"SrHfO3\", \"NaOsO3\", \"TlTcO3\", \"KReO3\", \"SrRuO3\", \"KHfO3\", \"SrVO3\", \"KOsO3\", \"TaAgO3\", \"SrNiO3\", \"RbIrO3\", \"NaReO3\", \"SrMnO3\", \"CaFeO3\", \"SrZrO3\", \"NaWO3\", \"RbTaO3\", \"SrCoO3\", \"SrTaO3\", \"KZrO3\", \"CaTiO3\", \"NaRuO3\", \"LiTcO3\", \"SrPdO3\", \"KWO3\", \"KRhO3\", \"BaCuO3\", \"RbNbO3\", \"BaOsO3\", \"BaRuO3\", \"KRuO3\", \"SrMoO3\", \"NaTiO3\", \"SrScO3\", \"RbOsO3\", \"SrRhO3\", \"NaMoO3\", \"SrOsO3\", \"BaRhO3\", \"BaPtO3\", \"CaVO3\", \"KMoO3\", \"SrCrO3\", \"SrAgO3\", \"RbRhO3\", \"BaVO3\", \"CaCoO3\", \"CaMnO3\", \"KPtO3\", \"BaNiO3\", \"BaMnO3\", \"SrReO3\", \"BaReO3\", \"SrIrO3\", \"NaVO3\", \"NaFeO3\", \"BaIrO3\", \"RbReO3\", \"CaRuO3\", \"RbPdO3\", \"CaHfO3\", \"TlWO3\", \"RbWO3\", \"RbPtO3\"], \"y\": [2.481, 4.917, 3.019, 2.575, 4.706, 4.94, 3.231, 3.149, 4.537, 4.632, 5.007, 3.298, 2.423, 4.977, 4.665, -4.233, 4.46, 3.103, 3.1, 2.539, 3.406, 4.806, 3.026, 2.802, 2.512, 4.641, 4.135, 2.449, 5.509, 4.926, 4.537, \"NaN\", 2.619, 4.261, -4.866, 4.825, 4.692, 3.804, 3.351, 3.741, 2.067, 4.504, 4.755, 3.187, 2.141, 3.513, 3.972, 2.216, 4.918, 4.963, 2.772, 3.496, 2.624, \"NaN\", 4.115, 4.159, 3.376, 2.632, 3.829, 2.733, 4.069, 3.366, 4.683, 4.967, 4.28, 4.943, 4.914, -2.589, -1.913, 3.546, 3.911, 5.028, 3.828, 2.581, 2.514, 4.231, 3.86, 2.157, 2.599, 4.02]}, {\"name\": \"O\", \"type\": \"bar\", \"x\": [\"SrTcO3\", \"BaFeO3\", \"BaMoO3\", \"KTaO3\", \"BaZrO3\", \"SrFeO3\", \"KTcO3\", \"NaTcO3\", \"BaHfO3\", \"SrTiO3\", \"SrCuO3\", \"KNbO3\", \"NaTaO3\", \"BaScO3\", \"BaPdO3\", \"BaTaO3\", \"SrHfO3\", \"NaOsO3\", \"TlTcO3\", \"KReO3\", \"SrRuO3\", \"KHfO3\", \"SrVO3\", \"KOsO3\", \"TaAgO3\", \"SrNiO3\", \"RbIrO3\", \"NaReO3\", \"SrMnO3\", \"CaFeO3\", \"SrZrO3\", \"NaWO3\", \"RbTaO3\", \"SrCoO3\", \"SrTaO3\", \"KZrO3\", \"CaTiO3\", \"NaRuO3\", \"LiTcO3\", \"SrPdO3\", \"KWO3\", \"KRhO3\", \"BaCuO3\", \"RbNbO3\", \"BaOsO3\", \"BaRuO3\", \"KRuO3\", \"SrMoO3\", \"NaTiO3\", \"SrScO3\", \"RbOsO3\", \"SrRhO3\", \"NaMoO3\", \"SrOsO3\", \"BaRhO3\", \"BaPtO3\", \"CaVO3\", \"KMoO3\", \"SrCrO3\", \"SrAgO3\", \"RbRhO3\", \"BaVO3\", \"CaCoO3\", \"CaMnO3\", \"KPtO3\", \"BaNiO3\", \"BaMnO3\", \"SrReO3\", \"BaReO3\", \"SrIrO3\", \"NaVO3\", \"NaFeO3\", \"BaIrO3\", \"RbReO3\", \"CaRuO3\", \"RbPdO3\", \"CaHfO3\", \"TlWO3\", \"RbWO3\", \"RbPtO3\"], \"y\": [-0.707, 4.452, -0.853, -0.614, 4.143, 4.606, 0.446, 0.301, 4.023, 3.889, 4.23, 0.465, -0.899, 4.7, 3.455, -2.572, 3.952, 0.577, 0.313, -0.544, 0.96, 4.407, 0.516, 0.699, -0.969, 4.437, 2.415, -0.697, 4.648, 4.277, 4.034, -1.577, -0.617, 3.136, -2.783, 4.516, 3.911, 1.871, 0.621, 3.176, -1.2, 3.321, 3.95, 0.282, -0.728, 1.303, 2.006, -1.375, 4.568, 4.677, \"NaN\", 2.151, -0.665, \"NaN\", 2.461, 2.56, 0.389, -0.412, 2.046, 4.29, 3.2, 0.504, 3.425, 4.289, 2.948, 4.41, 2.943, -1.278, -1.129, 1.673, 1.743, 4.625, 1.989, -0.492, 0.68, 3.183, 3.642, -0.904, -1.056, 2.727]}, {\"name\": \"OH\", \"type\": \"bar\", \"x\": [\"SrTcO3\", \"BaFeO3\", \"BaMoO3\", \"KTaO3\", \"BaZrO3\", \"SrFeO3\", \"KTcO3\", \"NaTcO3\", \"BaHfO3\", \"SrTiO3\", \"SrCuO3\", \"KNbO3\", \"NaTaO3\", \"BaScO3\", \"BaPdO3\", \"BaTaO3\", \"SrHfO3\", \"NaOsO3\", \"TlTcO3\", \"KReO3\", \"SrRuO3\", \"KHfO3\", \"SrVO3\", \"KOsO3\", \"TaAgO3\", \"SrNiO3\", \"RbIrO3\", \"NaReO3\", \"SrMnO3\", \"CaFeO3\", \"SrZrO3\", \"NaWO3\", \"RbTaO3\", \"SrCoO3\", \"SrTaO3\", \"KZrO3\", \"CaTiO3\", \"NaRuO3\", \"LiTcO3\", \"SrPdO3\", \"KWO3\", \"KRhO3\", \"BaCuO3\", \"RbNbO3\", \"BaOsO3\", \"BaRuO3\", \"KRuO3\", \"SrMoO3\", \"NaTiO3\", \"SrScO3\", \"RbOsO3\", \"SrRhO3\", \"NaMoO3\", \"SrOsO3\", \"BaRhO3\", \"BaPtO3\", \"CaVO3\", \"KMoO3\", \"SrCrO3\", \"SrAgO3\", \"RbRhO3\", \"BaVO3\", \"CaCoO3\", \"CaMnO3\", \"KPtO3\", \"BaNiO3\", \"BaMnO3\", \"SrReO3\", \"BaReO3\", \"SrIrO3\", \"NaVO3\", \"NaFeO3\", \"BaIrO3\", \"RbReO3\", \"CaRuO3\", \"RbPdO3\", \"CaHfO3\", \"TlWO3\", \"RbWO3\", \"RbPtO3\"], \"y\": [-0.782, 2.024, -0.302, -1.001, 1.29, 2.026, 0.04, -0.067, 1.191, 1.276, 2.007, -0.217, -1.129, 2.147, 1.7, -1.886, 1.081, -0.354, -0.031, -0.733, 0.26, 1.946, -0.191, -0.464, -1.056, 3.474, 0.976, -0.831, 2.548, 1.927, 1.151, \"NaN\", -0.997, 1.163, -2.023, 2.007, 1.263, 0.746, 0.152, 0.899, -1.124, 1.568, 1.821, -0.344, -1.484, 0.446, 0.83, -1.13, 2.205, 2.146, 0.07, 0.499, -0.415, -0.547, 1.086, 1.101, -0.181, -0.558, 0.646, 1.903, 1.29, -0.474, 1.636, 1.408, 1.292, 2.267, 1.655, -1.281, -0.775, 0.424, 0.52, 2.325, 0.646, -0.678, -0.363, 1.313, 0.619, -1.407, -1.115, 1.034]}],                        {\"template\": {\"data\": {\"bar\": [{\"error_x\": {\"color\": \"rgb(36,36,36)\"}, \"error_y\": {\"color\": \"rgb(36,36,36)\"}, \"marker\": {\"line\": {\"color\": \"rgb(234,234,242)\", \"width\": 0.5}}, \"type\": \"bar\"}], \"barpolar\": [{\"marker\": {\"line\": {\"color\": \"rgb(234,234,242)\", \"width\": 0.5}}, \"type\": \"barpolar\"}], \"carpet\": [{\"aaxis\": {\"endlinecolor\": \"rgb(36,36,36)\", \"gridcolor\": \"white\", \"linecolor\": \"white\", \"minorgridcolor\": \"white\", \"startlinecolor\": \"rgb(36,36,36)\"}, \"baxis\": {\"endlinecolor\": \"rgb(36,36,36)\", \"gridcolor\": \"white\", \"linecolor\": \"white\", \"minorgridcolor\": \"white\", \"startlinecolor\": \"rgb(36,36,36)\"}, \"type\": \"carpet\"}], \"choropleth\": [{\"colorbar\": {\"outlinewidth\": 0, \"tickcolor\": \"rgb(36,36,36)\", \"ticklen\": 8, \"ticks\": \"outside\", \"tickwidth\": 2}, \"type\": \"choropleth\"}], \"contour\": [{\"colorbar\": {\"outlinewidth\": 0, \"tickcolor\": \"rgb(36,36,36)\", \"ticklen\": 8, \"ticks\": \"outside\", \"tickwidth\": 2}, \"colorscale\": [[0.0, \"rgb(2,4,25)\"], [0.06274509803921569, \"rgb(24,15,41)\"], [0.12549019607843137, \"rgb(47,23,57)\"], [0.18823529411764706, \"rgb(71,28,72)\"], [0.25098039215686274, \"rgb(97,30,82)\"], [0.3137254901960784, \"rgb(123,30,89)\"], [0.3764705882352941, \"rgb(150,27,91)\"], [0.4392156862745098, \"rgb(177,22,88)\"], [0.5019607843137255, \"rgb(203,26,79)\"], [0.5647058823529412, \"rgb(223,47,67)\"], [0.6274509803921569, \"rgb(236,76,61)\"], [0.6901960784313725, \"rgb(242,107,73)\"], [0.7529411764705882, \"rgb(244,135,95)\"], [0.8156862745098039, \"rgb(245,162,122)\"], [0.8784313725490196, \"rgb(246,188,153)\"], [0.9411764705882353, \"rgb(247,212,187)\"], [1.0, \"rgb(250,234,220)\"]], \"type\": \"contour\"}], \"contourcarpet\": [{\"colorbar\": {\"outlinewidth\": 0, \"tickcolor\": \"rgb(36,36,36)\", \"ticklen\": 8, \"ticks\": \"outside\", \"tickwidth\": 2}, \"type\": \"contourcarpet\"}], \"heatmap\": [{\"colorbar\": {\"outlinewidth\": 0, \"tickcolor\": \"rgb(36,36,36)\", \"ticklen\": 8, \"ticks\": \"outside\", \"tickwidth\": 2}, \"colorscale\": [[0.0, \"rgb(2,4,25)\"], [0.06274509803921569, \"rgb(24,15,41)\"], [0.12549019607843137, \"rgb(47,23,57)\"], [0.18823529411764706, \"rgb(71,28,72)\"], [0.25098039215686274, \"rgb(97,30,82)\"], [0.3137254901960784, \"rgb(123,30,89)\"], [0.3764705882352941, \"rgb(150,27,91)\"], [0.4392156862745098, \"rgb(177,22,88)\"], [0.5019607843137255, \"rgb(203,26,79)\"], [0.5647058823529412, \"rgb(223,47,67)\"], [0.6274509803921569, \"rgb(236,76,61)\"], [0.6901960784313725, \"rgb(242,107,73)\"], [0.7529411764705882, \"rgb(244,135,95)\"], [0.8156862745098039, \"rgb(245,162,122)\"], [0.8784313725490196, \"rgb(246,188,153)\"], [0.9411764705882353, \"rgb(247,212,187)\"], [1.0, \"rgb(250,234,220)\"]], \"type\": \"heatmap\"}], \"heatmapgl\": [{\"colorbar\": {\"outlinewidth\": 0, \"tickcolor\": \"rgb(36,36,36)\", \"ticklen\": 8, \"ticks\": \"outside\", \"tickwidth\": 2}, \"colorscale\": [[0.0, \"rgb(2,4,25)\"], [0.06274509803921569, \"rgb(24,15,41)\"], [0.12549019607843137, \"rgb(47,23,57)\"], [0.18823529411764706, \"rgb(71,28,72)\"], [0.25098039215686274, \"rgb(97,30,82)\"], [0.3137254901960784, \"rgb(123,30,89)\"], [0.3764705882352941, \"rgb(150,27,91)\"], [0.4392156862745098, \"rgb(177,22,88)\"], [0.5019607843137255, \"rgb(203,26,79)\"], [0.5647058823529412, \"rgb(223,47,67)\"], [0.6274509803921569, \"rgb(236,76,61)\"], [0.6901960784313725, \"rgb(242,107,73)\"], [0.7529411764705882, \"rgb(244,135,95)\"], [0.8156862745098039, \"rgb(245,162,122)\"], [0.8784313725490196, \"rgb(246,188,153)\"], [0.9411764705882353, \"rgb(247,212,187)\"], [1.0, \"rgb(250,234,220)\"]], \"type\": \"heatmapgl\"}], \"histogram\": [{\"marker\": {\"colorbar\": {\"outlinewidth\": 0, \"tickcolor\": \"rgb(36,36,36)\", \"ticklen\": 8, \"ticks\": \"outside\", \"tickwidth\": 2}}, \"type\": \"histogram\"}], \"histogram2d\": [{\"colorbar\": {\"outlinewidth\": 0, \"tickcolor\": \"rgb(36,36,36)\", \"ticklen\": 8, \"ticks\": \"outside\", \"tickwidth\": 2}, \"colorscale\": [[0.0, \"rgb(2,4,25)\"], [0.06274509803921569, \"rgb(24,15,41)\"], [0.12549019607843137, \"rgb(47,23,57)\"], [0.18823529411764706, \"rgb(71,28,72)\"], [0.25098039215686274, \"rgb(97,30,82)\"], [0.3137254901960784, \"rgb(123,30,89)\"], [0.3764705882352941, \"rgb(150,27,91)\"], [0.4392156862745098, \"rgb(177,22,88)\"], [0.5019607843137255, \"rgb(203,26,79)\"], [0.5647058823529412, \"rgb(223,47,67)\"], [0.6274509803921569, \"rgb(236,76,61)\"], [0.6901960784313725, \"rgb(242,107,73)\"], [0.7529411764705882, \"rgb(244,135,95)\"], [0.8156862745098039, \"rgb(245,162,122)\"], [0.8784313725490196, \"rgb(246,188,153)\"], [0.9411764705882353, \"rgb(247,212,187)\"], [1.0, \"rgb(250,234,220)\"]], \"type\": \"histogram2d\"}], \"histogram2dcontour\": [{\"colorbar\": {\"outlinewidth\": 0, \"tickcolor\": \"rgb(36,36,36)\", \"ticklen\": 8, \"ticks\": \"outside\", \"tickwidth\": 2}, \"colorscale\": [[0.0, \"rgb(2,4,25)\"], [0.06274509803921569, \"rgb(24,15,41)\"], [0.12549019607843137, \"rgb(47,23,57)\"], [0.18823529411764706, \"rgb(71,28,72)\"], [0.25098039215686274, \"rgb(97,30,82)\"], [0.3137254901960784, \"rgb(123,30,89)\"], [0.3764705882352941, \"rgb(150,27,91)\"], [0.4392156862745098, \"rgb(177,22,88)\"], [0.5019607843137255, \"rgb(203,26,79)\"], [0.5647058823529412, \"rgb(223,47,67)\"], [0.6274509803921569, \"rgb(236,76,61)\"], [0.6901960784313725, \"rgb(242,107,73)\"], [0.7529411764705882, \"rgb(244,135,95)\"], [0.8156862745098039, \"rgb(245,162,122)\"], [0.8784313725490196, \"rgb(246,188,153)\"], [0.9411764705882353, \"rgb(247,212,187)\"], [1.0, \"rgb(250,234,220)\"]], \"type\": \"histogram2dcontour\"}], \"mesh3d\": [{\"colorbar\": {\"outlinewidth\": 0, \"tickcolor\": \"rgb(36,36,36)\", \"ticklen\": 8, \"ticks\": \"outside\", \"tickwidth\": 2}, \"type\": \"mesh3d\"}], \"parcoords\": [{\"line\": {\"colorbar\": {\"outlinewidth\": 0, \"tickcolor\": \"rgb(36,36,36)\", \"ticklen\": 8, \"ticks\": \"outside\", \"tickwidth\": 2}}, \"type\": \"parcoords\"}], \"pie\": [{\"automargin\": true, \"type\": \"pie\"}], \"scatter\": [{\"marker\": {\"colorbar\": {\"outlinewidth\": 0, \"tickcolor\": \"rgb(36,36,36)\", \"ticklen\": 8, \"ticks\": \"outside\", \"tickwidth\": 2}}, \"type\": \"scatter\"}], \"scatter3d\": [{\"line\": {\"colorbar\": {\"outlinewidth\": 0, \"tickcolor\": \"rgb(36,36,36)\", \"ticklen\": 8, \"ticks\": \"outside\", \"tickwidth\": 2}}, \"marker\": {\"colorbar\": {\"outlinewidth\": 0, \"tickcolor\": \"rgb(36,36,36)\", \"ticklen\": 8, \"ticks\": \"outside\", \"tickwidth\": 2}}, \"type\": \"scatter3d\"}], \"scattercarpet\": [{\"marker\": {\"colorbar\": {\"outlinewidth\": 0, \"tickcolor\": \"rgb(36,36,36)\", \"ticklen\": 8, \"ticks\": \"outside\", \"tickwidth\": 2}}, \"type\": \"scattercarpet\"}], \"scattergeo\": [{\"marker\": {\"colorbar\": {\"outlinewidth\": 0, \"tickcolor\": \"rgb(36,36,36)\", \"ticklen\": 8, \"ticks\": \"outside\", \"tickwidth\": 2}}, \"type\": \"scattergeo\"}], \"scattergl\": [{\"marker\": {\"colorbar\": {\"outlinewidth\": 0, \"tickcolor\": \"rgb(36,36,36)\", \"ticklen\": 8, \"ticks\": \"outside\", \"tickwidth\": 2}}, \"type\": \"scattergl\"}], \"scattermapbox\": [{\"marker\": {\"colorbar\": {\"outlinewidth\": 0, \"tickcolor\": \"rgb(36,36,36)\", \"ticklen\": 8, \"ticks\": \"outside\", \"tickwidth\": 2}}, \"type\": \"scattermapbox\"}], \"scatterpolar\": [{\"marker\": {\"colorbar\": {\"outlinewidth\": 0, \"tickcolor\": \"rgb(36,36,36)\", \"ticklen\": 8, \"ticks\": \"outside\", \"tickwidth\": 2}}, \"type\": \"scatterpolar\"}], \"scatterpolargl\": [{\"marker\": {\"colorbar\": {\"outlinewidth\": 0, \"tickcolor\": \"rgb(36,36,36)\", \"ticklen\": 8, \"ticks\": \"outside\", \"tickwidth\": 2}}, \"type\": \"scatterpolargl\"}], \"scatterternary\": [{\"marker\": {\"colorbar\": {\"outlinewidth\": 0, \"tickcolor\": \"rgb(36,36,36)\", \"ticklen\": 8, \"ticks\": \"outside\", \"tickwidth\": 2}}, \"type\": \"scatterternary\"}], \"surface\": [{\"colorbar\": {\"outlinewidth\": 0, \"tickcolor\": \"rgb(36,36,36)\", \"ticklen\": 8, \"ticks\": \"outside\", \"tickwidth\": 2}, \"colorscale\": [[0.0, \"rgb(2,4,25)\"], [0.06274509803921569, \"rgb(24,15,41)\"], [0.12549019607843137, \"rgb(47,23,57)\"], [0.18823529411764706, \"rgb(71,28,72)\"], [0.25098039215686274, \"rgb(97,30,82)\"], [0.3137254901960784, \"rgb(123,30,89)\"], [0.3764705882352941, \"rgb(150,27,91)\"], [0.4392156862745098, \"rgb(177,22,88)\"], [0.5019607843137255, \"rgb(203,26,79)\"], [0.5647058823529412, \"rgb(223,47,67)\"], [0.6274509803921569, \"rgb(236,76,61)\"], [0.6901960784313725, \"rgb(242,107,73)\"], [0.7529411764705882, \"rgb(244,135,95)\"], [0.8156862745098039, \"rgb(245,162,122)\"], [0.8784313725490196, \"rgb(246,188,153)\"], [0.9411764705882353, \"rgb(247,212,187)\"], [1.0, \"rgb(250,234,220)\"]], \"type\": \"surface\"}], \"table\": [{\"cells\": {\"fill\": {\"color\": \"rgb(231,231,240)\"}, \"line\": {\"color\": \"white\"}}, \"header\": {\"fill\": {\"color\": \"rgb(183,183,191)\"}, \"line\": {\"color\": \"white\"}}, \"type\": \"table\"}]}, \"layout\": {\"annotationdefaults\": {\"arrowcolor\": \"rgb(67,103,167)\"}, \"coloraxis\": {\"colorbar\": {\"outlinewidth\": 0, \"tickcolor\": \"rgb(36,36,36)\", \"ticklen\": 8, \"ticks\": \"outside\", \"tickwidth\": 2}}, \"colorscale\": {\"sequential\": [[0.0, \"rgb(2,4,25)\"], [0.06274509803921569, \"rgb(24,15,41)\"], [0.12549019607843137, \"rgb(47,23,57)\"], [0.18823529411764706, \"rgb(71,28,72)\"], [0.25098039215686274, \"rgb(97,30,82)\"], [0.3137254901960784, \"rgb(123,30,89)\"], [0.3764705882352941, \"rgb(150,27,91)\"], [0.4392156862745098, \"rgb(177,22,88)\"], [0.5019607843137255, \"rgb(203,26,79)\"], [0.5647058823529412, \"rgb(223,47,67)\"], [0.6274509803921569, \"rgb(236,76,61)\"], [0.6901960784313725, \"rgb(242,107,73)\"], [0.7529411764705882, \"rgb(244,135,95)\"], [0.8156862745098039, \"rgb(245,162,122)\"], [0.8784313725490196, \"rgb(246,188,153)\"], [0.9411764705882353, \"rgb(247,212,187)\"], [1.0, \"rgb(250,234,220)\"]], \"sequentialminus\": [[0.0, \"rgb(2,4,25)\"], [0.06274509803921569, \"rgb(24,15,41)\"], [0.12549019607843137, \"rgb(47,23,57)\"], [0.18823529411764706, \"rgb(71,28,72)\"], [0.25098039215686274, \"rgb(97,30,82)\"], [0.3137254901960784, \"rgb(123,30,89)\"], [0.3764705882352941, \"rgb(150,27,91)\"], [0.4392156862745098, \"rgb(177,22,88)\"], [0.5019607843137255, \"rgb(203,26,79)\"], [0.5647058823529412, \"rgb(223,47,67)\"], [0.6274509803921569, \"rgb(236,76,61)\"], [0.6901960784313725, \"rgb(242,107,73)\"], [0.7529411764705882, \"rgb(244,135,95)\"], [0.8156862745098039, \"rgb(245,162,122)\"], [0.8784313725490196, \"rgb(246,188,153)\"], [0.9411764705882353, \"rgb(247,212,187)\"], [1.0, \"rgb(250,234,220)\"]]}, \"colorway\": [\"rgb(76,114,176)\", \"rgb(221,132,82)\", \"rgb(85,168,104)\", \"rgb(196,78,82)\", \"rgb(129,114,179)\", \"rgb(147,120,96)\", \"rgb(218,139,195)\", \"rgb(140,140,140)\", \"rgb(204,185,116)\", \"rgb(100,181,205)\"], \"font\": {\"color\": \"rgb(36,36,36)\"}, \"geo\": {\"bgcolor\": \"white\", \"lakecolor\": \"white\", \"landcolor\": \"rgb(234,234,242)\", \"showlakes\": true, \"showland\": true, \"subunitcolor\": \"white\"}, \"hoverlabel\": {\"align\": \"left\"}, \"hovermode\": \"closest\", \"paper_bgcolor\": \"white\", \"plot_bgcolor\": \"rgb(234,234,242)\", \"polar\": {\"angularaxis\": {\"gridcolor\": \"white\", \"linecolor\": \"white\", \"showgrid\": true, \"ticks\": \"\"}, \"bgcolor\": \"rgb(234,234,242)\", \"radialaxis\": {\"gridcolor\": \"white\", \"linecolor\": \"white\", \"showgrid\": true, \"ticks\": \"\"}}, \"scene\": {\"xaxis\": {\"backgroundcolor\": \"rgb(234,234,242)\", \"gridcolor\": \"white\", \"gridwidth\": 2, \"linecolor\": \"white\", \"showbackground\": true, \"showgrid\": true, \"ticks\": \"\", \"zerolinecolor\": \"white\"}, \"yaxis\": {\"backgroundcolor\": \"rgb(234,234,242)\", \"gridcolor\": \"white\", \"gridwidth\": 2, \"linecolor\": \"white\", \"showbackground\": true, \"showgrid\": true, \"ticks\": \"\", \"zerolinecolor\": \"white\"}, \"zaxis\": {\"backgroundcolor\": \"rgb(234,234,242)\", \"gridcolor\": \"white\", \"gridwidth\": 2, \"linecolor\": \"white\", \"showbackground\": true, \"showgrid\": true, \"ticks\": \"\", \"zerolinecolor\": \"white\"}}, \"shapedefaults\": {\"fillcolor\": \"rgb(67,103,167)\", \"line\": {\"width\": 0}, \"opacity\": 0.5}, \"ternary\": {\"aaxis\": {\"gridcolor\": \"white\", \"linecolor\": \"white\", \"showgrid\": true, \"ticks\": \"\"}, \"baxis\": {\"gridcolor\": \"white\", \"linecolor\": \"white\", \"showgrid\": true, \"ticks\": \"\"}, \"bgcolor\": \"rgb(234,234,242)\", \"caxis\": {\"gridcolor\": \"white\", \"linecolor\": \"white\", \"showgrid\": true, \"ticks\": \"\"}}, \"xaxis\": {\"automargin\": true, \"gridcolor\": \"white\", \"linecolor\": \"white\", \"showgrid\": true, \"ticks\": \"\", \"title\": {\"standoff\": 15}, \"zerolinecolor\": \"white\"}, \"yaxis\": {\"automargin\": true, \"gridcolor\": \"white\", \"linecolor\": \"white\", \"showgrid\": true, \"ticks\": \"\", \"title\": {\"standoff\": 15}, \"zerolinecolor\": \"white\"}}}, \"title\": {\"text\": \"Adsorption free energies\"}, \"width\": 2000, \"yaxis\": {\"title\": {\"text\": \"$\\\\Delta G_{ads} (eV)$\"}}},                        {\"responsive\": true}                    ).then(function(){\n",
       "                            \n",
       "var gd = document.getElementById('89fe7f46-ee9e-40d5-b63b-58a09b63d745');\n",
       "var x = new MutationObserver(function (mutations, observer) {{\n",
       "        var display = window.getComputedStyle(gd).display;\n",
       "        if (!display || display === 'none') {{\n",
       "            console.log([gd, 'removed!']);\n",
       "            Plotly.purge(gd);\n",
       "            observer.disconnect();\n",
       "        }}\n",
       "}});\n",
       "\n",
       "// Listen for the removal of the full notebook cells\n",
       "var notebookContainer = gd.closest('#notebook-container');\n",
       "if (notebookContainer) {{\n",
       "    x.observe(notebookContainer, {childList: true});\n",
       "}}\n",
       "\n",
       "// Listen for the clearing of the current output cell\n",
       "var outputEl = gd.closest('.output');\n",
       "if (outputEl) {{\n",
       "    x.observe(outputEl, {childList: true});\n",
       "}}\n",
       "\n",
       "                        })                };                });            </script>        </div>"
      ]
     },
     "metadata": {},
     "output_type": "display_data"
    }
   ],
   "source": [
    "# 막대 그래프 그리기\n",
    "trace1 = go.Bar(x = df['formula'], y = df['DG_OOH'], name = 'OOH')\n",
    "trace2 = go.Bar(x = df['formula'], y = df['DG_O'], name = 'O')\n",
    "trace3 = go.Bar(x = df['formula'], y = df['DG_OH'], name = 'OH')\n",
    "\n",
    "data = [trace1, trace2, trace3]\n",
    "layout = go.Layout(title = 'Adsorption free energies',template = 'seaborn', width = 2000, yaxis = {'title':'$\\Delta G_{ads} (eV)$'})\n",
    "\n",
    "fig = go.Figure(data = data, layout = layout)\n",
    "fig.show()"
   ]
  },
  {
   "cell_type": "code",
   "execution_count": 159,
   "metadata": {},
   "outputs": [
    {
     "name": "stdout",
     "output_type": "stream",
     "text": [
      "32     NaWO3\n",
      "54    SrOsO3\n",
      "Name: formula, dtype: object\n",
      "32     NaWO3\n",
      "54    SrOsO3\n",
      "Name: formula, dtype: object\n",
      "51    RbOsO3\n",
      "54    SrOsO3\n",
      "Name: formula, dtype: object\n",
      "51    RbOsO3\n",
      "54    SrOsO3\n",
      "Name: formula, dtype: object\n",
      "32    NaWO3\n",
      "Name: formula, dtype: object\n",
      "32    NaWO3\n",
      "Name: formula, dtype: object\n"
     ]
    }
   ],
   "source": [
    "# Cleaning the data\n",
    "feature_labels = ['DE_OOH','DG_OOH','DE_O','DG_O','DE_OH','DG_OH']\n",
    "for feature in feature_labels:\n",
    "    print(df[df[feature] == 'NaN']['formula'])"
   ]
  },
  {
   "cell_type": "code",
   "execution_count": 160,
   "metadata": {
    "scrolled": true
   },
   "outputs": [
    {
     "name": "stdout",
     "output_type": "stream",
     "text": [
      "Removed 9/80 entries\n"
     ]
    },
    {
     "data": {
      "text/html": [
       "<div>\n",
       "<style scoped>\n",
       "    .dataframe tbody tr th:only-of-type {\n",
       "        vertical-align: middle;\n",
       "    }\n",
       "\n",
       "    .dataframe tbody tr th {\n",
       "        vertical-align: top;\n",
       "    }\n",
       "\n",
       "    .dataframe thead th {\n",
       "        text-align: right;\n",
       "    }\n",
       "</style>\n",
       "<table border=\"1\" class=\"dataframe\">\n",
       "  <thead>\n",
       "    <tr style=\"text-align: right;\">\n",
       "      <th></th>\n",
       "      <th>formula</th>\n",
       "      <th>mag_ini</th>\n",
       "      <th>Ehull</th>\n",
       "      <th>convg_bare</th>\n",
       "      <th>tot_E_bare</th>\n",
       "      <th>DE_bare</th>\n",
       "      <th>DG_bare</th>\n",
       "      <th>bare_mag</th>\n",
       "      <th>nsteps_bare</th>\n",
       "      <th>struc_bare</th>\n",
       "      <th>...</th>\n",
       "      <th>struc_O</th>\n",
       "      <th>convg_OH</th>\n",
       "      <th>tot_E_OH</th>\n",
       "      <th>DE_OH</th>\n",
       "      <th>DG_OH</th>\n",
       "      <th>OH_mag</th>\n",
       "      <th>OH_dmag</th>\n",
       "      <th>nsteps_OH</th>\n",
       "      <th>struc_OH</th>\n",
       "      <th>index</th>\n",
       "    </tr>\n",
       "  </thead>\n",
       "  <tbody>\n",
       "    <tr>\n",
       "      <th>0</th>\n",
       "      <td>SrTcO3</td>\n",
       "      <td>FM</td>\n",
       "      <td>0</td>\n",
       "      <td>True</td>\n",
       "      <td>-386.83</td>\n",
       "      <td>0</td>\n",
       "      <td>0</td>\n",
       "      <td>13.642</td>\n",
       "      <td>1</td>\n",
       "      <td>[[0.         1.98022307 0.        ] O, [1.9802...</td>\n",
       "      <td>...</td>\n",
       "      <td>[[0.         1.98022307 0.        ] O, [1.9802...</td>\n",
       "      <td>True</td>\n",
       "      <td>-398.741</td>\n",
       "      <td>-1.077</td>\n",
       "      <td>-0.782</td>\n",
       "      <td>10.772</td>\n",
       "      <td>-2.871</td>\n",
       "      <td>104</td>\n",
       "      <td>[[ 1.08924803  2.12199985 10.29190122] H, [0. ...</td>\n",
       "      <td>1</td>\n",
       "    </tr>\n",
       "    <tr>\n",
       "      <th>1</th>\n",
       "      <td>BaFeO3</td>\n",
       "      <td>FM</td>\n",
       "      <td>0</td>\n",
       "      <td>True</td>\n",
       "      <td>-316.788</td>\n",
       "      <td>0</td>\n",
       "      <td>0</td>\n",
       "      <td>59.992</td>\n",
       "      <td>1</td>\n",
       "      <td>[[2.0165225 2.0165225 2.0165225] Ba, [2.016522...</td>\n",
       "      <td>...</td>\n",
       "      <td>[[2.0165225 2.0165225 2.0165225] Ba, [2.013674...</td>\n",
       "      <td>True</td>\n",
       "      <td>-325.893</td>\n",
       "      <td>1.729</td>\n",
       "      <td>2.024</td>\n",
       "      <td>58.79</td>\n",
       "      <td>-1.202</td>\n",
       "      <td>135</td>\n",
       "      <td>[[2.0165225 2.0165225 2.0165225] Ba, [1.998014...</td>\n",
       "      <td>2</td>\n",
       "    </tr>\n",
       "    <tr>\n",
       "      <th>2</th>\n",
       "      <td>BaMoO3</td>\n",
       "      <td>FM</td>\n",
       "      <td>0</td>\n",
       "      <td>True</td>\n",
       "      <td>-359.32</td>\n",
       "      <td>0</td>\n",
       "      <td>0</td>\n",
       "      <td>24</td>\n",
       "      <td>1</td>\n",
       "      <td>[[2.06811213 2.06811213 2.06811213] Ba, [2.068...</td>\n",
       "      <td>...</td>\n",
       "      <td>[[2.06811213 2.06811213 2.06811213] Ba, [2.056...</td>\n",
       "      <td>True</td>\n",
       "      <td>-370.751</td>\n",
       "      <td>-0.597</td>\n",
       "      <td>-0.302</td>\n",
       "      <td>23</td>\n",
       "      <td>-1</td>\n",
       "      <td>74</td>\n",
       "      <td>[[2.06811213 2.06811213 2.06811213] Ba, [2.090...</td>\n",
       "      <td>3</td>\n",
       "    </tr>\n",
       "    <tr>\n",
       "      <th>3</th>\n",
       "      <td>KTaO3</td>\n",
       "      <td>FM</td>\n",
       "      <td>0</td>\n",
       "      <td>True</td>\n",
       "      <td>-438.376</td>\n",
       "      <td>0</td>\n",
       "      <td>0</td>\n",
       "      <td>0</td>\n",
       "      <td>1</td>\n",
       "      <td>[[2.01423343 2.01423343 2.01423343] K, [2.0142...</td>\n",
       "      <td>...</td>\n",
       "      <td>[[2.01423343 2.01423343 2.01423343] K, [1.9147...</td>\n",
       "      <td>True</td>\n",
       "      <td>-450.506</td>\n",
       "      <td>-1.296</td>\n",
       "      <td>-1.001</td>\n",
       "      <td>0.991</td>\n",
       "      <td>0.991</td>\n",
       "      <td>67</td>\n",
       "      <td>[[ 7.21096101  0.38768809 10.5776824 ] H, [2.0...</td>\n",
       "      <td>4</td>\n",
       "    </tr>\n",
       "    <tr>\n",
       "      <th>4</th>\n",
       "      <td>BaZrO3</td>\n",
       "      <td>FM</td>\n",
       "      <td>0</td>\n",
       "      <td>True</td>\n",
       "      <td>-438.828</td>\n",
       "      <td>0</td>\n",
       "      <td>0</td>\n",
       "      <td>0</td>\n",
       "      <td>1</td>\n",
       "      <td>[[0.         0.         2.11804015] Ba, [8.472...</td>\n",
       "      <td>...</td>\n",
       "      <td>[[0.         0.         2.11804015] Ba, [0.045...</td>\n",
       "      <td>True</td>\n",
       "      <td>-448.668</td>\n",
       "      <td>0.995</td>\n",
       "      <td>1.29</td>\n",
       "      <td>0.216</td>\n",
       "      <td>0.216</td>\n",
       "      <td>112</td>\n",
       "      <td>[[0.         0.         2.11804015] Ba, [0.064...</td>\n",
       "      <td>5</td>\n",
       "    </tr>\n",
       "    <tr>\n",
       "      <th>...</th>\n",
       "      <td>...</td>\n",
       "      <td>...</td>\n",
       "      <td>...</td>\n",
       "      <td>...</td>\n",
       "      <td>...</td>\n",
       "      <td>...</td>\n",
       "      <td>...</td>\n",
       "      <td>...</td>\n",
       "      <td>...</td>\n",
       "      <td>...</td>\n",
       "      <td>...</td>\n",
       "      <td>...</td>\n",
       "      <td>...</td>\n",
       "      <td>...</td>\n",
       "      <td>...</td>\n",
       "      <td>...</td>\n",
       "      <td>...</td>\n",
       "      <td>...</td>\n",
       "      <td>...</td>\n",
       "      <td>...</td>\n",
       "      <td>...</td>\n",
       "    </tr>\n",
       "    <tr>\n",
       "      <th>66</th>\n",
       "      <td>CaRuO3</td>\n",
       "      <td>FM</td>\n",
       "      <td>0.151843</td>\n",
       "      <td>True</td>\n",
       "      <td>-354.261</td>\n",
       "      <td>0</td>\n",
       "      <td>0</td>\n",
       "      <td>25.842</td>\n",
       "      <td>1</td>\n",
       "      <td>[[0.         0.         1.95924755] Ca, [2.519...</td>\n",
       "      <td>...</td>\n",
       "      <td>[[0.         0.         1.95924755] Ca, [0.097...</td>\n",
       "      <td>True</td>\n",
       "      <td>-365.753</td>\n",
       "      <td>-0.658</td>\n",
       "      <td>-0.363</td>\n",
       "      <td>18.609</td>\n",
       "      <td>-7.233</td>\n",
       "      <td>148</td>\n",
       "      <td>[[0.         0.         1.95924755] Ca, [0.020...</td>\n",
       "      <td>75</td>\n",
       "    </tr>\n",
       "    <tr>\n",
       "      <th>67</th>\n",
       "      <td>RbPdO3</td>\n",
       "      <td>FM</td>\n",
       "      <td>0.152772</td>\n",
       "      <td>True</td>\n",
       "      <td>-237.862</td>\n",
       "      <td>0</td>\n",
       "      <td>0</td>\n",
       "      <td>24.444</td>\n",
       "      <td>1</td>\n",
       "      <td>[[0.         2.05243462 0.        ] O, [2.0524...</td>\n",
       "      <td>...</td>\n",
       "      <td>[[0.         2.05243462 0.        ] O, [2.0524...</td>\n",
       "      <td>True</td>\n",
       "      <td>-247.677</td>\n",
       "      <td>1.018</td>\n",
       "      <td>1.313</td>\n",
       "      <td>22</td>\n",
       "      <td>-2.444</td>\n",
       "      <td>126</td>\n",
       "      <td>[[ 0.08219953  7.29743334 10.52365441] H, [0. ...</td>\n",
       "      <td>76</td>\n",
       "    </tr>\n",
       "    <tr>\n",
       "      <th>68</th>\n",
       "      <td>CaHfO3</td>\n",
       "      <td>FM</td>\n",
       "      <td>0.154311</td>\n",
       "      <td>True</td>\n",
       "      <td>-456.965</td>\n",
       "      <td>0</td>\n",
       "      <td>0</td>\n",
       "      <td>-0</td>\n",
       "      <td>1</td>\n",
       "      <td>[[0.        0.        2.0506531] Ca, [3.755119...</td>\n",
       "      <td>...</td>\n",
       "      <td>[[0.        0.        2.0506531] Ca, [0.122237...</td>\n",
       "      <td>True</td>\n",
       "      <td>-467.476</td>\n",
       "      <td>0.324</td>\n",
       "      <td>0.619</td>\n",
       "      <td>0.059</td>\n",
       "      <td>0.059</td>\n",
       "      <td>148</td>\n",
       "      <td>[[0.        0.        2.0506531] Ca, [0.225467...</td>\n",
       "      <td>77</td>\n",
       "    </tr>\n",
       "    <tr>\n",
       "      <th>69</th>\n",
       "      <td>TlWO3</td>\n",
       "      <td>FM</td>\n",
       "      <td>0.15493</td>\n",
       "      <td>True</td>\n",
       "      <td>-326.169</td>\n",
       "      <td>0</td>\n",
       "      <td>0</td>\n",
       "      <td>16</td>\n",
       "      <td>26</td>\n",
       "      <td>[[2.038601 0.       0.      ] O, [0.       2.0...</td>\n",
       "      <td>...</td>\n",
       "      <td>[[2.038601 0.       0.      ] O, [0.       2.0...</td>\n",
       "      <td>True</td>\n",
       "      <td>-338.705</td>\n",
       "      <td>-1.702</td>\n",
       "      <td>-1.407</td>\n",
       "      <td>15</td>\n",
       "      <td>-1</td>\n",
       "      <td>130</td>\n",
       "      <td>[[ 2.06261209  1.13741873 10.68303356] H, [2.0...</td>\n",
       "      <td>78</td>\n",
       "    </tr>\n",
       "    <tr>\n",
       "      <th>70</th>\n",
       "      <td>RbPtO3</td>\n",
       "      <td>FM</td>\n",
       "      <td>0.157408</td>\n",
       "      <td>True</td>\n",
       "      <td>-252.909</td>\n",
       "      <td>0</td>\n",
       "      <td>0</td>\n",
       "      <td>20.962</td>\n",
       "      <td>1</td>\n",
       "      <td>[[2.04108953 0.         0.        ] O, [0.    ...</td>\n",
       "      <td>...</td>\n",
       "      <td>[[2.04108953 0.         0.        ] O, [0.    ...</td>\n",
       "      <td>True</td>\n",
       "      <td>-263.005</td>\n",
       "      <td>0.739</td>\n",
       "      <td>1.034</td>\n",
       "      <td>19.65</td>\n",
       "      <td>-1.312</td>\n",
       "      <td>126</td>\n",
       "      <td>[[ 1.325425    1.32540497 10.69731981] H, [2.0...</td>\n",
       "      <td>80</td>\n",
       "    </tr>\n",
       "  </tbody>\n",
       "</table>\n",
       "<p>71 rows × 35 columns</p>\n",
       "</div>"
      ],
      "text/plain": [
       "   formula mag_ini     Ehull convg_bare tot_E_bare DE_bare DG_bare bare_mag  \\\n",
       "0   SrTcO3      FM         0       True    -386.83       0       0   13.642   \n",
       "1   BaFeO3      FM         0       True   -316.788       0       0   59.992   \n",
       "2   BaMoO3      FM         0       True    -359.32       0       0       24   \n",
       "3    KTaO3      FM         0       True   -438.376       0       0        0   \n",
       "4   BaZrO3      FM         0       True   -438.828       0       0        0   \n",
       "..     ...     ...       ...        ...        ...     ...     ...      ...   \n",
       "66  CaRuO3      FM  0.151843       True   -354.261       0       0   25.842   \n",
       "67  RbPdO3      FM  0.152772       True   -237.862       0       0   24.444   \n",
       "68  CaHfO3      FM  0.154311       True   -456.965       0       0       -0   \n",
       "69   TlWO3      FM   0.15493       True   -326.169       0       0       16   \n",
       "70  RbPtO3      FM  0.157408       True   -252.909       0       0   20.962   \n",
       "\n",
       "   nsteps_bare                                         struc_bare  ...  \\\n",
       "0            1  [[0.         1.98022307 0.        ] O, [1.9802...  ...   \n",
       "1            1  [[2.0165225 2.0165225 2.0165225] Ba, [2.016522...  ...   \n",
       "2            1  [[2.06811213 2.06811213 2.06811213] Ba, [2.068...  ...   \n",
       "3            1  [[2.01423343 2.01423343 2.01423343] K, [2.0142...  ...   \n",
       "4            1  [[0.         0.         2.11804015] Ba, [8.472...  ...   \n",
       "..         ...                                                ...  ...   \n",
       "66           1  [[0.         0.         1.95924755] Ca, [2.519...  ...   \n",
       "67           1  [[0.         2.05243462 0.        ] O, [2.0524...  ...   \n",
       "68           1  [[0.        0.        2.0506531] Ca, [3.755119...  ...   \n",
       "69          26  [[2.038601 0.       0.      ] O, [0.       2.0...  ...   \n",
       "70           1  [[2.04108953 0.         0.        ] O, [0.    ...  ...   \n",
       "\n",
       "                                              struc_O convg_OH tot_E_OH  \\\n",
       "0   [[0.         1.98022307 0.        ] O, [1.9802...     True -398.741   \n",
       "1   [[2.0165225 2.0165225 2.0165225] Ba, [2.013674...     True -325.893   \n",
       "2   [[2.06811213 2.06811213 2.06811213] Ba, [2.056...     True -370.751   \n",
       "3   [[2.01423343 2.01423343 2.01423343] K, [1.9147...     True -450.506   \n",
       "4   [[0.         0.         2.11804015] Ba, [0.045...     True -448.668   \n",
       "..                                                ...      ...      ...   \n",
       "66  [[0.         0.         1.95924755] Ca, [0.097...     True -365.753   \n",
       "67  [[0.         2.05243462 0.        ] O, [2.0524...     True -247.677   \n",
       "68  [[0.        0.        2.0506531] Ca, [0.122237...     True -467.476   \n",
       "69  [[2.038601 0.       0.      ] O, [0.       2.0...     True -338.705   \n",
       "70  [[2.04108953 0.         0.        ] O, [0.    ...     True -263.005   \n",
       "\n",
       "    DE_OH  DG_OH  OH_mag OH_dmag nsteps_OH  \\\n",
       "0  -1.077 -0.782  10.772  -2.871       104   \n",
       "1   1.729  2.024   58.79  -1.202       135   \n",
       "2  -0.597 -0.302      23      -1        74   \n",
       "3  -1.296 -1.001   0.991   0.991        67   \n",
       "4   0.995   1.29   0.216   0.216       112   \n",
       "..    ...    ...     ...     ...       ...   \n",
       "66 -0.658 -0.363  18.609  -7.233       148   \n",
       "67  1.018  1.313      22  -2.444       126   \n",
       "68  0.324  0.619   0.059   0.059       148   \n",
       "69 -1.702 -1.407      15      -1       130   \n",
       "70  0.739  1.034   19.65  -1.312       126   \n",
       "\n",
       "                                             struc_OH index  \n",
       "0   [[ 1.08924803  2.12199985 10.29190122] H, [0. ...     1  \n",
       "1   [[2.0165225 2.0165225 2.0165225] Ba, [1.998014...     2  \n",
       "2   [[2.06811213 2.06811213 2.06811213] Ba, [2.090...     3  \n",
       "3   [[ 7.21096101  0.38768809 10.5776824 ] H, [2.0...     4  \n",
       "4   [[0.         0.         2.11804015] Ba, [0.064...     5  \n",
       "..                                                ...   ...  \n",
       "66  [[0.         0.         1.95924755] Ca, [0.020...    75  \n",
       "67  [[ 0.08219953  7.29743334 10.52365441] H, [0. ...    76  \n",
       "68  [[0.        0.        2.0506531] Ca, [0.225467...    77  \n",
       "69  [[ 2.06261209  1.13741873 10.68303356] H, [2.0...    78  \n",
       "70  [[ 1.325425    1.32540497 10.69731981] H, [2.0...    80  \n",
       "\n",
       "[71 rows x 35 columns]"
      ]
     },
     "execution_count": 160,
     "metadata": {},
     "output_type": "execute_result"
    }
   ],
   "source": [
    "excluded = ['NaWO3','SrOsO3','RbOsO3']\n",
    "\n",
    "original_count = len(df)\n",
    "\n",
    "for i in range(1,len(df)+1):\n",
    "    if df['formula'][i] in excluded:\n",
    "        idx_list.append(i)\n",
    "df_cleaned = df.drop(idx_list)\n",
    "\n",
    "str_expr = \"(DE_OOH) > 0 & (DE_OH < 3)\"\n",
    "df_cleaned.query(str_expr)\n",
    "\n",
    "print('Removed %d/%d entries'%(original_count - len(df_cleaned), original_count))\n",
    "\n",
    "df_cleaned['index'] = df_cleaned.index\n",
    "df_cleaned.index = range(len(df_cleaned))\n",
    "\n",
    "df_cleaned"
   ]
  },
  {
   "cell_type": "code",
   "execution_count": 161,
   "metadata": {},
   "outputs": [],
   "source": [
    "# Scaling relation\n",
    "model = LinearRegression()\n",
    "\n",
    "X = df_cleaned.DG_OH.values.reshape(-1,1)\n",
    "model.fit(X, df_cleaned.DG_OOH)\n",
    "\n",
    "x_range = np.linspace(X.min(), X.max(), 100)\n",
    "y1_range = model.predict(x_range.reshape(-1,1))\n",
    "coeff_OOH = model.coef_\n",
    "intercept_OOH = model.intercept_\n",
    "\n",
    "model.fit(X, df_cleaned.DG_O)\n",
    "y2_range = model.predict(x_range.reshape(-1,1))\n",
    "coeff_O = model.coef_\n",
    "intercept_O = model.intercept_\n",
    "\n",
    "\n",
    "model.fit(X, df_cleaned.DG_OH)\n",
    "y3_range = model.predict(x_range.reshape(-1,1))\n",
    "coeff_OH = model.coef_\n",
    "intercept_OH = model.intercept_"
   ]
  },
  {
   "cell_type": "code",
   "execution_count": 170,
   "metadata": {},
   "outputs": [
    {
     "data": {
      "application/vnd.plotly.v1+json": {
       "config": {
        "plotlyServerURL": "https://plot.ly"
       },
       "data": [
        {
         "marker": {
          "size": 15,
          "symbol": 18
         },
         "mode": "markers",
         "name": "OOH vs OH",
         "text": [
          "SrTcO3",
          "BaFeO3",
          "BaMoO3",
          "KTaO3",
          "BaZrO3",
          "SrFeO3",
          "KTcO3",
          "NaTcO3",
          "BaHfO3",
          "SrTiO3",
          "SrCuO3",
          "KNbO3",
          "NaTaO3",
          "BaScO3",
          "BaPdO3",
          "SrHfO3",
          "NaOsO3",
          "TlTcO3",
          "KReO3",
          "SrRuO3",
          "KHfO3",
          "SrVO3",
          "KOsO3",
          "TaAgO3",
          "SrNiO3",
          "RbIrO3",
          "NaReO3",
          "SrMnO3",
          "CaFeO3",
          "SrZrO3",
          "RbTaO3",
          "SrCoO3",
          "KZrO3",
          "CaTiO3",
          "NaRuO3",
          "LiTcO3",
          "SrPdO3",
          "KWO3",
          "KRhO3",
          "BaCuO3",
          "RbNbO3",
          "BaOsO3",
          "BaRuO3",
          "KRuO3",
          "SrMoO3",
          "NaTiO3",
          "SrScO3",
          "SrRhO3",
          "NaMoO3",
          "BaRhO3",
          "BaPtO3",
          "CaVO3",
          "KMoO3",
          "SrCrO3",
          "RbRhO3",
          "BaVO3",
          "CaCoO3",
          "CaMnO3",
          "KPtO3",
          "BaNiO3",
          "BaMnO3",
          "SrIrO3",
          "NaVO3",
          "NaFeO3",
          "BaIrO3",
          "RbReO3",
          "CaRuO3",
          "RbPdO3",
          "CaHfO3",
          "TlWO3",
          "RbPtO3"
         ],
         "type": "scatter",
         "x": [
          -0.782,
          2.024,
          -0.302,
          -1.001,
          1.29,
          2.026,
          0.04,
          -0.067,
          1.191,
          1.276,
          2.007,
          -0.217,
          -1.129,
          2.147,
          1.7,
          1.081,
          -0.354,
          -0.031,
          -0.733,
          0.26,
          1.946,
          -0.191,
          -0.464,
          -1.056,
          3.474,
          0.976,
          -0.831,
          2.548,
          1.927,
          1.151,
          -0.997,
          1.163,
          2.007,
          1.263,
          0.746,
          0.152,
          0.899,
          -1.124,
          1.568,
          1.821,
          -0.344,
          -1.484,
          0.446,
          0.83,
          -1.13,
          2.205,
          2.146,
          0.499,
          -0.415,
          1.086,
          1.101,
          -0.181,
          -0.558,
          0.646,
          1.29,
          -0.474,
          1.636,
          1.408,
          1.292,
          2.267,
          1.655,
          0.424,
          0.52,
          2.325,
          0.646,
          -0.678,
          -0.363,
          1.313,
          0.619,
          -1.407,
          1.034
         ],
         "y": [
          2.481,
          4.917,
          3.019,
          2.575,
          4.706,
          4.94,
          3.231,
          3.149,
          4.537,
          4.632,
          5.007,
          3.298,
          2.423,
          4.977,
          4.665,
          4.46,
          3.103,
          3.1,
          2.539,
          3.406,
          4.806,
          3.026,
          2.802,
          2.512,
          4.641,
          4.135,
          2.449,
          5.509,
          4.926,
          4.537,
          2.619,
          4.261,
          4.825,
          4.692,
          3.804,
          3.351,
          3.741,
          2.067,
          4.504,
          4.755,
          3.187,
          2.141,
          3.513,
          3.972,
          2.216,
          4.918,
          4.963,
          3.496,
          2.624,
          4.115,
          4.159,
          3.376,
          2.632,
          3.829,
          4.069,
          3.366,
          4.683,
          4.967,
          4.28,
          4.943,
          4.914,
          3.546,
          3.911,
          5.028,
          3.828,
          2.581,
          2.514,
          4.231,
          3.86,
          2.157,
          4.02
         ]
        },
        {
         "marker": {
          "color": "rgb(255,0,0)",
          "size": 15,
          "symbol": 30
         },
         "mode": "markers",
         "name": "O vs OH",
         "text": [
          "SrTcO3",
          "BaFeO3",
          "BaMoO3",
          "KTaO3",
          "BaZrO3",
          "SrFeO3",
          "KTcO3",
          "NaTcO3",
          "BaHfO3",
          "SrTiO3",
          "SrCuO3",
          "KNbO3",
          "NaTaO3",
          "BaScO3",
          "BaPdO3",
          "SrHfO3",
          "NaOsO3",
          "TlTcO3",
          "KReO3",
          "SrRuO3",
          "KHfO3",
          "SrVO3",
          "KOsO3",
          "TaAgO3",
          "SrNiO3",
          "RbIrO3",
          "NaReO3",
          "SrMnO3",
          "CaFeO3",
          "SrZrO3",
          "RbTaO3",
          "SrCoO3",
          "KZrO3",
          "CaTiO3",
          "NaRuO3",
          "LiTcO3",
          "SrPdO3",
          "KWO3",
          "KRhO3",
          "BaCuO3",
          "RbNbO3",
          "BaOsO3",
          "BaRuO3",
          "KRuO3",
          "SrMoO3",
          "NaTiO3",
          "SrScO3",
          "SrRhO3",
          "NaMoO3",
          "BaRhO3",
          "BaPtO3",
          "CaVO3",
          "KMoO3",
          "SrCrO3",
          "RbRhO3",
          "BaVO3",
          "CaCoO3",
          "CaMnO3",
          "KPtO3",
          "BaNiO3",
          "BaMnO3",
          "SrIrO3",
          "NaVO3",
          "NaFeO3",
          "BaIrO3",
          "RbReO3",
          "CaRuO3",
          "RbPdO3",
          "CaHfO3",
          "TlWO3",
          "RbPtO3"
         ],
         "type": "scatter",
         "x": [
          -0.782,
          2.024,
          -0.302,
          -1.001,
          1.29,
          2.026,
          0.04,
          -0.067,
          1.191,
          1.276,
          2.007,
          -0.217,
          -1.129,
          2.147,
          1.7,
          1.081,
          -0.354,
          -0.031,
          -0.733,
          0.26,
          1.946,
          -0.191,
          -0.464,
          -1.056,
          3.474,
          0.976,
          -0.831,
          2.548,
          1.927,
          1.151,
          -0.997,
          1.163,
          2.007,
          1.263,
          0.746,
          0.152,
          0.899,
          -1.124,
          1.568,
          1.821,
          -0.344,
          -1.484,
          0.446,
          0.83,
          -1.13,
          2.205,
          2.146,
          0.499,
          -0.415,
          1.086,
          1.101,
          -0.181,
          -0.558,
          0.646,
          1.29,
          -0.474,
          1.636,
          1.408,
          1.292,
          2.267,
          1.655,
          0.424,
          0.52,
          2.325,
          0.646,
          -0.678,
          -0.363,
          1.313,
          0.619,
          -1.407,
          1.034
         ],
         "y": [
          -0.707,
          4.452,
          -0.853,
          -0.614,
          4.143,
          4.606,
          0.446,
          0.301,
          4.023,
          3.889,
          4.23,
          0.465,
          -0.899,
          4.7,
          3.455,
          3.952,
          0.577,
          0.313,
          -0.544,
          0.96,
          4.407,
          0.516,
          0.699,
          -0.969,
          4.437,
          2.415,
          -0.697,
          4.648,
          4.277,
          4.034,
          -0.617,
          3.136,
          4.516,
          3.911,
          1.871,
          0.621,
          3.176,
          -1.2,
          3.321,
          3.95,
          0.282,
          -0.728,
          1.303,
          2.006,
          -1.375,
          4.568,
          4.677,
          2.151,
          -0.665,
          2.461,
          2.56,
          0.389,
          -0.412,
          2.046,
          3.2,
          0.504,
          3.425,
          4.289,
          2.948,
          4.41,
          2.943,
          1.673,
          1.743,
          4.625,
          1.989,
          -0.492,
          0.68,
          3.183,
          3.642,
          -0.904,
          2.727
         ]
        },
        {
         "marker": {
          "size": 15,
          "symbol": 0
         },
         "mode": "markers",
         "name": "OH vs OH",
         "text": [
          "SrTcO3",
          "BaFeO3",
          "BaMoO3",
          "KTaO3",
          "BaZrO3",
          "SrFeO3",
          "KTcO3",
          "NaTcO3",
          "BaHfO3",
          "SrTiO3",
          "SrCuO3",
          "KNbO3",
          "NaTaO3",
          "BaScO3",
          "BaPdO3",
          "SrHfO3",
          "NaOsO3",
          "TlTcO3",
          "KReO3",
          "SrRuO3",
          "KHfO3",
          "SrVO3",
          "KOsO3",
          "TaAgO3",
          "SrNiO3",
          "RbIrO3",
          "NaReO3",
          "SrMnO3",
          "CaFeO3",
          "SrZrO3",
          "RbTaO3",
          "SrCoO3",
          "KZrO3",
          "CaTiO3",
          "NaRuO3",
          "LiTcO3",
          "SrPdO3",
          "KWO3",
          "KRhO3",
          "BaCuO3",
          "RbNbO3",
          "BaOsO3",
          "BaRuO3",
          "KRuO3",
          "SrMoO3",
          "NaTiO3",
          "SrScO3",
          "SrRhO3",
          "NaMoO3",
          "BaRhO3",
          "BaPtO3",
          "CaVO3",
          "KMoO3",
          "SrCrO3",
          "RbRhO3",
          "BaVO3",
          "CaCoO3",
          "CaMnO3",
          "KPtO3",
          "BaNiO3",
          "BaMnO3",
          "SrIrO3",
          "NaVO3",
          "NaFeO3",
          "BaIrO3",
          "RbReO3",
          "CaRuO3",
          "RbPdO3",
          "CaHfO3",
          "TlWO3",
          "RbPtO3"
         ],
         "type": "scatter",
         "x": [
          -0.782,
          2.024,
          -0.302,
          -1.001,
          1.29,
          2.026,
          0.04,
          -0.067,
          1.191,
          1.276,
          2.007,
          -0.217,
          -1.129,
          2.147,
          1.7,
          1.081,
          -0.354,
          -0.031,
          -0.733,
          0.26,
          1.946,
          -0.191,
          -0.464,
          -1.056,
          3.474,
          0.976,
          -0.831,
          2.548,
          1.927,
          1.151,
          -0.997,
          1.163,
          2.007,
          1.263,
          0.746,
          0.152,
          0.899,
          -1.124,
          1.568,
          1.821,
          -0.344,
          -1.484,
          0.446,
          0.83,
          -1.13,
          2.205,
          2.146,
          0.499,
          -0.415,
          1.086,
          1.101,
          -0.181,
          -0.558,
          0.646,
          1.29,
          -0.474,
          1.636,
          1.408,
          1.292,
          2.267,
          1.655,
          0.424,
          0.52,
          2.325,
          0.646,
          -0.678,
          -0.363,
          1.313,
          0.619,
          -1.407,
          1.034
         ],
         "y": [
          -0.782,
          2.024,
          -0.302,
          -1.001,
          1.29,
          2.026,
          0.04,
          -0.067,
          1.191,
          1.276,
          2.007,
          -0.217,
          -1.129,
          2.147,
          1.7,
          1.081,
          -0.354,
          -0.031,
          -0.733,
          0.26,
          1.946,
          -0.191,
          -0.464,
          -1.056,
          3.474,
          0.976,
          -0.831,
          2.548,
          1.927,
          1.151,
          -0.997,
          1.163,
          2.007,
          1.263,
          0.746,
          0.152,
          0.899,
          -1.124,
          1.568,
          1.821,
          -0.344,
          -1.484,
          0.446,
          0.83,
          -1.13,
          2.205,
          2.146,
          0.499,
          -0.415,
          1.086,
          1.101,
          -0.181,
          -0.558,
          0.646,
          1.29,
          -0.474,
          1.636,
          1.408,
          1.292,
          2.267,
          1.655,
          0.424,
          0.52,
          2.325,
          0.646,
          -0.678,
          -0.363,
          1.313,
          0.619,
          -1.407,
          1.034
         ]
        },
        {
         "marker": {
          "color": "blue"
         },
         "mode": "lines",
         "name": "OOH_fit",
         "type": "scatter",
         "x": [
          -1.484,
          -1.4339191919191918,
          -1.3838383838383839,
          -1.3337575757575757,
          -1.2836767676767677,
          -1.2335959595959596,
          -1.1835151515151514,
          -1.1334343434343435,
          -1.0833535353535353,
          -1.0332727272727273,
          -0.9831919191919192,
          -0.9331111111111111,
          -0.883030303030303,
          -0.832949494949495,
          -0.7828686868686868,
          -0.7327878787878788,
          -0.6827070707070707,
          -0.6326262626262626,
          -0.5825454545454546,
          -0.5324646464646464,
          -0.48238383838383836,
          -0.4323030303030304,
          -0.38222222222222224,
          -0.33214141414141407,
          -0.2820606060606061,
          -0.23197979797979795,
          -0.18189898989899,
          -0.13181818181818183,
          -0.08173737373737366,
          -0.031656565656565716,
          0.018424242424242454,
          0.0685050505050504,
          0.11858585858585857,
          0.16866666666666674,
          0.2187474747474747,
          0.26882828282828286,
          0.3189090909090908,
          0.368989898989899,
          0.41907070707070715,
          0.4691515151515151,
          0.5192323232323233,
          0.5693131313131312,
          0.6193939393939392,
          0.6694747474747476,
          0.7195555555555555,
          0.7696363636363635,
          0.8197171717171718,
          0.8697979797979798,
          0.9198787878787877,
          0.9699595959595961,
          1.020040404040404,
          1.070121212121212,
          1.12020202020202,
          1.1702828282828284,
          1.2203636363636363,
          1.2704444444444443,
          1.3205252525252527,
          1.3706060606060606,
          1.4206868686868686,
          1.470767676767677,
          1.520848484848485,
          1.5709292929292928,
          1.6210101010101008,
          1.6710909090909092,
          1.7211717171717171,
          1.771252525252525,
          1.8213333333333335,
          1.8714141414141414,
          1.9214949494949494,
          1.9715757575757573,
          2.0216565656565657,
          2.0717373737373737,
          2.1218181818181816,
          2.17189898989899,
          2.221979797979798,
          2.272060606060606,
          2.3221414141414143,
          2.3722222222222222,
          2.42230303030303,
          2.472383838383838,
          2.5224646464646465,
          2.5725454545454545,
          2.6226262626262624,
          2.6727070707070704,
          2.7227878787878783,
          2.772868686868687,
          2.822949494949495,
          2.873030303030303,
          2.923111111111111,
          2.973191919191919,
          3.023272727272727,
          3.0733535353535357,
          3.1234343434343437,
          3.1735151515151516,
          3.2235959595959596,
          3.2736767676767675,
          3.3237575757575755,
          3.3738383838383834,
          3.4239191919191923,
          3.474
         ],
         "y": [
          1.5456201074931448,
          1.5626436027096275,
          1.5796670979261105,
          1.5966905931425934,
          1.6137140883590766,
          1.6307375835755593,
          1.6477610787920425,
          1.6647845740085252,
          1.6818080692250081,
          1.6988315644414913,
          1.715855059657974,
          1.7328785548744572,
          1.74990205009094,
          1.7669255453074229,
          1.783949040523906,
          1.8009725357403887,
          1.817996030956872,
          1.8350195261733546,
          1.8520430213898376,
          1.8690665166063207,
          1.8860900118228034,
          1.9031135070392864,
          1.9201370022557693,
          1.9371604974722523,
          1.9541839926887354,
          1.9712074879052184,
          1.988230983121701,
          2.005254478338184,
          2.022277973554667,
          2.03930146877115,
          2.056324963987633,
          2.073348459204116,
          2.0903719544205988,
          2.1073954496370817,
          2.1244189448535646,
          2.1414424400700476,
          2.1584659352865305,
          2.1754894305030135,
          2.1925129257194964,
          2.2095364209359794,
          2.2265599161524623,
          2.2435834113689452,
          2.260606906585428,
          2.277630401801911,
          2.294653897018394,
          2.311677392234877,
          2.32870088745136,
          2.345724382667843,
          2.362747877884326,
          2.3797713731008088,
          2.3967948683172917,
          2.4138183635337747,
          2.4308418587502576,
          2.4478653539667405,
          2.4648888491832235,
          2.4819123443997064,
          2.4989358396161894,
          2.5159593348326723,
          2.5329828300491553,
          2.550006325265638,
          2.567029820482121,
          2.584053315698604,
          2.601076810915087,
          2.61810030613157,
          2.635123801348053,
          2.652147296564536,
          2.669170791781019,
          2.6861942869975017,
          2.7032177822139847,
          2.7202412774304676,
          2.7372647726469506,
          2.7542882678634335,
          2.7713117630799164,
          2.7883352582963994,
          2.8053587535128823,
          2.8223822487293653,
          2.839405743945848,
          2.856429239162331,
          2.873452734378814,
          2.890476229595297,
          2.90749972481178,
          2.924523220028263,
          2.941546715244746,
          2.958570210461229,
          2.9755937056777118,
          2.9926172008941947,
          3.0096406961106776,
          3.0266641913271606,
          3.0436876865436435,
          3.0607111817601265,
          3.0777346769766094,
          3.0947581721930923,
          3.1117816674095753,
          3.1288051626260582,
          3.145828657842541,
          3.162852153059024,
          3.179875648275507,
          3.19689914349199,
          3.213922638708473,
          3.230946133924956
         ]
        },
        {
         "marker": {
          "color": "red"
         },
         "mode": "lines",
         "name": "O_fit",
         "type": "scatter",
         "x": [
          -1.484,
          -1.4339191919191918,
          -1.3838383838383839,
          -1.3337575757575757,
          -1.2836767676767677,
          -1.2335959595959596,
          -1.1835151515151514,
          -1.1334343434343435,
          -1.0833535353535353,
          -1.0332727272727273,
          -0.9831919191919192,
          -0.9331111111111111,
          -0.883030303030303,
          -0.832949494949495,
          -0.7828686868686868,
          -0.7327878787878788,
          -0.6827070707070707,
          -0.6326262626262626,
          -0.5825454545454546,
          -0.5324646464646464,
          -0.48238383838383836,
          -0.4323030303030304,
          -0.38222222222222224,
          -0.33214141414141407,
          -0.2820606060606061,
          -0.23197979797979795,
          -0.18189898989899,
          -0.13181818181818183,
          -0.08173737373737366,
          -0.031656565656565716,
          0.018424242424242454,
          0.0685050505050504,
          0.11858585858585857,
          0.16866666666666674,
          0.2187474747474747,
          0.26882828282828286,
          0.3189090909090908,
          0.368989898989899,
          0.41907070707070715,
          0.4691515151515151,
          0.5192323232323233,
          0.5693131313131312,
          0.6193939393939392,
          0.6694747474747476,
          0.7195555555555555,
          0.7696363636363635,
          0.8197171717171718,
          0.8697979797979798,
          0.9198787878787877,
          0.9699595959595961,
          1.020040404040404,
          1.070121212121212,
          1.12020202020202,
          1.1702828282828284,
          1.2203636363636363,
          1.2704444444444443,
          1.3205252525252527,
          1.3706060606060606,
          1.4206868686868686,
          1.470767676767677,
          1.520848484848485,
          1.5709292929292928,
          1.6210101010101008,
          1.6710909090909092,
          1.7211717171717171,
          1.771252525252525,
          1.8213333333333335,
          1.8714141414141414,
          1.9214949494949494,
          1.9715757575757573,
          2.0216565656565657,
          2.0717373737373737,
          2.1218181818181816,
          2.17189898989899,
          2.221979797979798,
          2.272060606060606,
          2.3221414141414143,
          2.3722222222222222,
          2.42230303030303,
          2.472383838383838,
          2.5224646464646465,
          2.5725454545454545,
          2.6226262626262624,
          2.6727070707070704,
          2.7227878787878783,
          2.772868686868687,
          2.822949494949495,
          2.873030303030303,
          2.923111111111111,
          2.973191919191919,
          3.023272727272727,
          3.0733535353535357,
          3.1234343434343437,
          3.1735151515151516,
          3.2235959595959596,
          3.2736767676767675,
          3.3237575757575755,
          3.3738383838383834,
          3.4239191919191923,
          3.474
         ],
         "y": [
          3.618981009929983,
          3.598037970511429,
          3.577094931092875,
          3.556151891674321,
          3.535208852255767,
          3.5142658128372135,
          3.4933227734186594,
          3.4723797340001052,
          3.4514366945815516,
          3.430493655162998,
          3.4095506157444437,
          3.3886075763258896,
          3.367664536907336,
          3.346721497488782,
          3.325778458070228,
          3.304835418651674,
          3.2838923792331203,
          3.262949339814566,
          3.2420063003960125,
          3.2210632609774583,
          3.2001202215589046,
          3.1791771821403505,
          3.1582341427217964,
          3.1372911033032427,
          3.1163480638846885,
          3.095405024466135,
          3.0744619850475807,
          3.053518945629027,
          3.032575906210473,
          3.011632866791919,
          2.990689827373365,
          2.9697467879548114,
          2.9488037485362573,
          2.9278607091177036,
          2.9069176696991494,
          2.8859746302805958,
          2.8650315908620416,
          2.844088551443488,
          2.823145512024934,
          2.80220247260638,
          2.781259433187826,
          2.760316393769272,
          2.739373354350718,
          2.7184303149321645,
          2.6974872755136103,
          2.6765442360950567,
          2.6556011966765025,
          2.634658157257949,
          2.6137151178393947,
          2.5927720784208406,
          2.571829039002287,
          2.5508859995837327,
          2.529942960165179,
          2.508999920746625,
          2.4880568813280712,
          2.467113841909517,
          2.4461708024909634,
          2.4252277630724093,
          2.4042847236538556,
          2.3833416842353015,
          2.3623986448167478,
          2.3414556053981936,
          2.32051256597964,
          2.299569526561086,
          2.278626487142532,
          2.257683447723978,
          2.2367404083054243,
          2.21579736888687,
          2.194854329468316,
          2.1739112900497624,
          2.1529682506312087,
          2.1320252112126545,
          2.1110821717941004,
          2.0901391323755467,
          2.069196092956993,
          2.048253053538439,
          2.0273100141198848,
          2.006366974701331,
          1.9854239352827772,
          1.9644808958642233,
          1.9435378564456693,
          1.9225948170271152,
          1.9016517776085613,
          1.8807087381900074,
          1.8597656987714537,
          1.8388226593528996,
          1.8178796199343457,
          1.7969365805157917,
          1.7759935410972378,
          1.755050501678684,
          1.73410746226013,
          1.7131644228415759,
          1.6922213834230222,
          1.671278344004468,
          1.6503353045859144,
          1.6293922651673602,
          1.6084492257488063,
          1.5875061863302524,
          1.5665631469116983,
          1.5456201074931448
         ]
        },
        {
         "marker": {
          "color": "green"
         },
         "mode": "lines",
         "name": "OH_fit",
         "type": "scatter",
         "x": [
          -1.484,
          -1.4339191919191918,
          -1.3838383838383839,
          -1.3337575757575757,
          -1.2836767676767677,
          -1.2335959595959596,
          -1.1835151515151514,
          -1.1334343434343435,
          -1.0833535353535353,
          -1.0332727272727273,
          -0.9831919191919192,
          -0.9331111111111111,
          -0.883030303030303,
          -0.832949494949495,
          -0.7828686868686868,
          -0.7327878787878788,
          -0.6827070707070707,
          -0.6326262626262626,
          -0.5825454545454546,
          -0.5324646464646464,
          -0.48238383838383836,
          -0.4323030303030304,
          -0.38222222222222224,
          -0.33214141414141407,
          -0.2820606060606061,
          -0.23197979797979795,
          -0.18189898989899,
          -0.13181818181818183,
          -0.08173737373737366,
          -0.031656565656565716,
          0.018424242424242454,
          0.0685050505050504,
          0.11858585858585857,
          0.16866666666666674,
          0.2187474747474747,
          0.26882828282828286,
          0.3189090909090908,
          0.368989898989899,
          0.41907070707070715,
          0.4691515151515151,
          0.5192323232323233,
          0.5693131313131312,
          0.6193939393939392,
          0.6694747474747476,
          0.7195555555555555,
          0.7696363636363635,
          0.8197171717171718,
          0.8697979797979798,
          0.9198787878787877,
          0.9699595959595961,
          1.020040404040404,
          1.070121212121212,
          1.12020202020202,
          1.1702828282828284,
          1.2203636363636363,
          1.2704444444444443,
          1.3205252525252527,
          1.3706060606060606,
          1.4206868686868686,
          1.470767676767677,
          1.520848484848485,
          1.5709292929292928,
          1.6210101010101008,
          1.6710909090909092,
          1.7211717171717171,
          1.771252525252525,
          1.8213333333333335,
          1.8714141414141414,
          1.9214949494949494,
          1.9715757575757573,
          2.0216565656565657,
          2.0717373737373737,
          2.1218181818181816,
          2.17189898989899,
          2.221979797979798,
          2.272060606060606,
          2.3221414141414143,
          2.3722222222222222,
          2.42230303030303,
          2.472383838383838,
          2.5224646464646465,
          2.5725454545454545,
          2.6226262626262624,
          2.6727070707070704,
          2.7227878787878783,
          2.772868686868687,
          2.822949494949495,
          2.873030303030303,
          2.923111111111111,
          2.973191919191919,
          3.023272727272727,
          3.0733535353535357,
          3.1234343434343437,
          3.1735151515151516,
          3.2235959595959596,
          3.2736767676767675,
          3.3237575757575755,
          3.3738383838383834,
          3.4239191919191923,
          3.474
         ],
         "y": [
          1.7600000000000002,
          1.7773131313131318,
          1.794626262626263,
          1.8119393939393942,
          1.8292525252525258,
          1.846565656565657,
          1.8638787878787881,
          1.8811919191919197,
          1.898505050505051,
          1.915818181818182,
          1.9331313131313137,
          1.9504444444444449,
          1.967757575757576,
          1.9850707070707077,
          2.002383838383839,
          2.01969696969697,
          2.0370101010101016,
          2.0543232323232328,
          2.071636363636364,
          2.0889494949494956,
          2.1062626262626267,
          2.123575757575758,
          2.1408888888888895,
          2.1582020202020207,
          2.175515151515152,
          2.1928282828282835,
          2.2101414141414146,
          2.227454545454546,
          2.2447676767676774,
          2.2620808080808086,
          2.2793939393939397,
          2.2967070707070714,
          2.3140202020202025,
          2.3313333333333337,
          2.3486464646464653,
          2.3659595959595965,
          2.3832727272727277,
          2.4005858585858593,
          2.4178989898989904,
          2.4352121212121216,
          2.452525252525253,
          2.4698383838383844,
          2.4871515151515156,
          2.504464646464647,
          2.5217777777777783,
          2.5390909090909095,
          2.556404040404041,
          2.5737171717171723,
          2.5910303030303035,
          2.608343434343435,
          2.6256565656565662,
          2.6429696969696974,
          2.660282828282829,
          2.67759595959596,
          2.6949090909090914,
          2.712222222222223,
          2.729535353535354,
          2.7468484848484853,
          2.764161616161617,
          2.781474747474748,
          2.7987878787878793,
          2.816101010101011,
          2.833414141414142,
          2.850727272727273,
          2.868040404040405,
          2.885353535353536,
          2.902666666666667,
          2.919979797979799,
          2.93729292929293,
          2.954606060606061,
          2.9719191919191927,
          2.989232323232324,
          3.0065454545454555,
          3.023858585858587,
          3.0411717171717183,
          3.0584848484848495,
          3.075797979797981,
          3.0931111111111123,
          3.1104242424242434,
          3.127737373737375,
          3.1450505050505058,
          3.1623636363636374,
          3.179676767676769,
          3.1969898989898997,
          3.2143030303030313,
          3.231616161616163,
          3.2489292929292937,
          3.2662424242424253,
          3.283555555555557,
          3.3008686868686876,
          3.3181818181818192,
          3.335494949494951,
          3.3528080808080816,
          3.370121212121213,
          3.387434343434345,
          3.4047474747474755,
          3.422060606060607,
          3.4393737373737387,
          3.4566868686868695,
          3.474000000000001
         ]
        }
       ],
       "layout": {
        "annotations": [
         {
          "font": {
           "color": "blue",
           "size": 20
          },
          "text": "$\\Delta G_{\\text{OOH}} = \\text{0.790} \\Delta G_{\\text{OH}} + \\text{3.282}$",
          "x": 2,
          "xshift": 50,
          "y": 1,
          "yshift": -80
         },
         {
          "font": {
           "color": "red",
           "size": 20
          },
          "text": "$\\Delta G_{\\text{O}} = \\text{1.657} \\Delta G_{\\text{OH}} + \\text{0.949}$",
          "x": 2,
          "xshift": 50,
          "y": 0.5,
          "yshift": -90
         },
         {
          "font": {
           "color": "green",
           "size": 20
          },
          "text": "$\\Delta G_{\\text{OH}} = \\text{1.000} \\Delta G_{\\text{OH}} + \\text{-0.000}$",
          "x": 2,
          "xshift": 50,
          "y": 0,
          "yshift": -100
         }
        ],
        "height": 600,
        "template": {
         "data": {
          "bar": [
           {
            "error_x": {
             "color": "rgb(36,36,36)"
            },
            "error_y": {
             "color": "rgb(36,36,36)"
            },
            "marker": {
             "line": {
              "color": "rgb(234,234,242)",
              "width": 0.5
             }
            },
            "type": "bar"
           }
          ],
          "barpolar": [
           {
            "marker": {
             "line": {
              "color": "rgb(234,234,242)",
              "width": 0.5
             }
            },
            "type": "barpolar"
           }
          ],
          "carpet": [
           {
            "aaxis": {
             "endlinecolor": "rgb(36,36,36)",
             "gridcolor": "white",
             "linecolor": "white",
             "minorgridcolor": "white",
             "startlinecolor": "rgb(36,36,36)"
            },
            "baxis": {
             "endlinecolor": "rgb(36,36,36)",
             "gridcolor": "white",
             "linecolor": "white",
             "minorgridcolor": "white",
             "startlinecolor": "rgb(36,36,36)"
            },
            "type": "carpet"
           }
          ],
          "choropleth": [
           {
            "colorbar": {
             "outlinewidth": 0,
             "tickcolor": "rgb(36,36,36)",
             "ticklen": 8,
             "ticks": "outside",
             "tickwidth": 2
            },
            "type": "choropleth"
           }
          ],
          "contour": [
           {
            "colorbar": {
             "outlinewidth": 0,
             "tickcolor": "rgb(36,36,36)",
             "ticklen": 8,
             "ticks": "outside",
             "tickwidth": 2
            },
            "colorscale": [
             [
              0,
              "rgb(2,4,25)"
             ],
             [
              0.06274509803921569,
              "rgb(24,15,41)"
             ],
             [
              0.12549019607843137,
              "rgb(47,23,57)"
             ],
             [
              0.18823529411764706,
              "rgb(71,28,72)"
             ],
             [
              0.25098039215686274,
              "rgb(97,30,82)"
             ],
             [
              0.3137254901960784,
              "rgb(123,30,89)"
             ],
             [
              0.3764705882352941,
              "rgb(150,27,91)"
             ],
             [
              0.4392156862745098,
              "rgb(177,22,88)"
             ],
             [
              0.5019607843137255,
              "rgb(203,26,79)"
             ],
             [
              0.5647058823529412,
              "rgb(223,47,67)"
             ],
             [
              0.6274509803921569,
              "rgb(236,76,61)"
             ],
             [
              0.6901960784313725,
              "rgb(242,107,73)"
             ],
             [
              0.7529411764705882,
              "rgb(244,135,95)"
             ],
             [
              0.8156862745098039,
              "rgb(245,162,122)"
             ],
             [
              0.8784313725490196,
              "rgb(246,188,153)"
             ],
             [
              0.9411764705882353,
              "rgb(247,212,187)"
             ],
             [
              1,
              "rgb(250,234,220)"
             ]
            ],
            "type": "contour"
           }
          ],
          "contourcarpet": [
           {
            "colorbar": {
             "outlinewidth": 0,
             "tickcolor": "rgb(36,36,36)",
             "ticklen": 8,
             "ticks": "outside",
             "tickwidth": 2
            },
            "type": "contourcarpet"
           }
          ],
          "heatmap": [
           {
            "colorbar": {
             "outlinewidth": 0,
             "tickcolor": "rgb(36,36,36)",
             "ticklen": 8,
             "ticks": "outside",
             "tickwidth": 2
            },
            "colorscale": [
             [
              0,
              "rgb(2,4,25)"
             ],
             [
              0.06274509803921569,
              "rgb(24,15,41)"
             ],
             [
              0.12549019607843137,
              "rgb(47,23,57)"
             ],
             [
              0.18823529411764706,
              "rgb(71,28,72)"
             ],
             [
              0.25098039215686274,
              "rgb(97,30,82)"
             ],
             [
              0.3137254901960784,
              "rgb(123,30,89)"
             ],
             [
              0.3764705882352941,
              "rgb(150,27,91)"
             ],
             [
              0.4392156862745098,
              "rgb(177,22,88)"
             ],
             [
              0.5019607843137255,
              "rgb(203,26,79)"
             ],
             [
              0.5647058823529412,
              "rgb(223,47,67)"
             ],
             [
              0.6274509803921569,
              "rgb(236,76,61)"
             ],
             [
              0.6901960784313725,
              "rgb(242,107,73)"
             ],
             [
              0.7529411764705882,
              "rgb(244,135,95)"
             ],
             [
              0.8156862745098039,
              "rgb(245,162,122)"
             ],
             [
              0.8784313725490196,
              "rgb(246,188,153)"
             ],
             [
              0.9411764705882353,
              "rgb(247,212,187)"
             ],
             [
              1,
              "rgb(250,234,220)"
             ]
            ],
            "type": "heatmap"
           }
          ],
          "heatmapgl": [
           {
            "colorbar": {
             "outlinewidth": 0,
             "tickcolor": "rgb(36,36,36)",
             "ticklen": 8,
             "ticks": "outside",
             "tickwidth": 2
            },
            "colorscale": [
             [
              0,
              "rgb(2,4,25)"
             ],
             [
              0.06274509803921569,
              "rgb(24,15,41)"
             ],
             [
              0.12549019607843137,
              "rgb(47,23,57)"
             ],
             [
              0.18823529411764706,
              "rgb(71,28,72)"
             ],
             [
              0.25098039215686274,
              "rgb(97,30,82)"
             ],
             [
              0.3137254901960784,
              "rgb(123,30,89)"
             ],
             [
              0.3764705882352941,
              "rgb(150,27,91)"
             ],
             [
              0.4392156862745098,
              "rgb(177,22,88)"
             ],
             [
              0.5019607843137255,
              "rgb(203,26,79)"
             ],
             [
              0.5647058823529412,
              "rgb(223,47,67)"
             ],
             [
              0.6274509803921569,
              "rgb(236,76,61)"
             ],
             [
              0.6901960784313725,
              "rgb(242,107,73)"
             ],
             [
              0.7529411764705882,
              "rgb(244,135,95)"
             ],
             [
              0.8156862745098039,
              "rgb(245,162,122)"
             ],
             [
              0.8784313725490196,
              "rgb(246,188,153)"
             ],
             [
              0.9411764705882353,
              "rgb(247,212,187)"
             ],
             [
              1,
              "rgb(250,234,220)"
             ]
            ],
            "type": "heatmapgl"
           }
          ],
          "histogram": [
           {
            "marker": {
             "colorbar": {
              "outlinewidth": 0,
              "tickcolor": "rgb(36,36,36)",
              "ticklen": 8,
              "ticks": "outside",
              "tickwidth": 2
             }
            },
            "type": "histogram"
           }
          ],
          "histogram2d": [
           {
            "colorbar": {
             "outlinewidth": 0,
             "tickcolor": "rgb(36,36,36)",
             "ticklen": 8,
             "ticks": "outside",
             "tickwidth": 2
            },
            "colorscale": [
             [
              0,
              "rgb(2,4,25)"
             ],
             [
              0.06274509803921569,
              "rgb(24,15,41)"
             ],
             [
              0.12549019607843137,
              "rgb(47,23,57)"
             ],
             [
              0.18823529411764706,
              "rgb(71,28,72)"
             ],
             [
              0.25098039215686274,
              "rgb(97,30,82)"
             ],
             [
              0.3137254901960784,
              "rgb(123,30,89)"
             ],
             [
              0.3764705882352941,
              "rgb(150,27,91)"
             ],
             [
              0.4392156862745098,
              "rgb(177,22,88)"
             ],
             [
              0.5019607843137255,
              "rgb(203,26,79)"
             ],
             [
              0.5647058823529412,
              "rgb(223,47,67)"
             ],
             [
              0.6274509803921569,
              "rgb(236,76,61)"
             ],
             [
              0.6901960784313725,
              "rgb(242,107,73)"
             ],
             [
              0.7529411764705882,
              "rgb(244,135,95)"
             ],
             [
              0.8156862745098039,
              "rgb(245,162,122)"
             ],
             [
              0.8784313725490196,
              "rgb(246,188,153)"
             ],
             [
              0.9411764705882353,
              "rgb(247,212,187)"
             ],
             [
              1,
              "rgb(250,234,220)"
             ]
            ],
            "type": "histogram2d"
           }
          ],
          "histogram2dcontour": [
           {
            "colorbar": {
             "outlinewidth": 0,
             "tickcolor": "rgb(36,36,36)",
             "ticklen": 8,
             "ticks": "outside",
             "tickwidth": 2
            },
            "colorscale": [
             [
              0,
              "rgb(2,4,25)"
             ],
             [
              0.06274509803921569,
              "rgb(24,15,41)"
             ],
             [
              0.12549019607843137,
              "rgb(47,23,57)"
             ],
             [
              0.18823529411764706,
              "rgb(71,28,72)"
             ],
             [
              0.25098039215686274,
              "rgb(97,30,82)"
             ],
             [
              0.3137254901960784,
              "rgb(123,30,89)"
             ],
             [
              0.3764705882352941,
              "rgb(150,27,91)"
             ],
             [
              0.4392156862745098,
              "rgb(177,22,88)"
             ],
             [
              0.5019607843137255,
              "rgb(203,26,79)"
             ],
             [
              0.5647058823529412,
              "rgb(223,47,67)"
             ],
             [
              0.6274509803921569,
              "rgb(236,76,61)"
             ],
             [
              0.6901960784313725,
              "rgb(242,107,73)"
             ],
             [
              0.7529411764705882,
              "rgb(244,135,95)"
             ],
             [
              0.8156862745098039,
              "rgb(245,162,122)"
             ],
             [
              0.8784313725490196,
              "rgb(246,188,153)"
             ],
             [
              0.9411764705882353,
              "rgb(247,212,187)"
             ],
             [
              1,
              "rgb(250,234,220)"
             ]
            ],
            "type": "histogram2dcontour"
           }
          ],
          "mesh3d": [
           {
            "colorbar": {
             "outlinewidth": 0,
             "tickcolor": "rgb(36,36,36)",
             "ticklen": 8,
             "ticks": "outside",
             "tickwidth": 2
            },
            "type": "mesh3d"
           }
          ],
          "parcoords": [
           {
            "line": {
             "colorbar": {
              "outlinewidth": 0,
              "tickcolor": "rgb(36,36,36)",
              "ticklen": 8,
              "ticks": "outside",
              "tickwidth": 2
             }
            },
            "type": "parcoords"
           }
          ],
          "pie": [
           {
            "automargin": true,
            "type": "pie"
           }
          ],
          "scatter": [
           {
            "marker": {
             "colorbar": {
              "outlinewidth": 0,
              "tickcolor": "rgb(36,36,36)",
              "ticklen": 8,
              "ticks": "outside",
              "tickwidth": 2
             }
            },
            "type": "scatter"
           }
          ],
          "scatter3d": [
           {
            "line": {
             "colorbar": {
              "outlinewidth": 0,
              "tickcolor": "rgb(36,36,36)",
              "ticklen": 8,
              "ticks": "outside",
              "tickwidth": 2
             }
            },
            "marker": {
             "colorbar": {
              "outlinewidth": 0,
              "tickcolor": "rgb(36,36,36)",
              "ticklen": 8,
              "ticks": "outside",
              "tickwidth": 2
             }
            },
            "type": "scatter3d"
           }
          ],
          "scattercarpet": [
           {
            "marker": {
             "colorbar": {
              "outlinewidth": 0,
              "tickcolor": "rgb(36,36,36)",
              "ticklen": 8,
              "ticks": "outside",
              "tickwidth": 2
             }
            },
            "type": "scattercarpet"
           }
          ],
          "scattergeo": [
           {
            "marker": {
             "colorbar": {
              "outlinewidth": 0,
              "tickcolor": "rgb(36,36,36)",
              "ticklen": 8,
              "ticks": "outside",
              "tickwidth": 2
             }
            },
            "type": "scattergeo"
           }
          ],
          "scattergl": [
           {
            "marker": {
             "colorbar": {
              "outlinewidth": 0,
              "tickcolor": "rgb(36,36,36)",
              "ticklen": 8,
              "ticks": "outside",
              "tickwidth": 2
             }
            },
            "type": "scattergl"
           }
          ],
          "scattermapbox": [
           {
            "marker": {
             "colorbar": {
              "outlinewidth": 0,
              "tickcolor": "rgb(36,36,36)",
              "ticklen": 8,
              "ticks": "outside",
              "tickwidth": 2
             }
            },
            "type": "scattermapbox"
           }
          ],
          "scatterpolar": [
           {
            "marker": {
             "colorbar": {
              "outlinewidth": 0,
              "tickcolor": "rgb(36,36,36)",
              "ticklen": 8,
              "ticks": "outside",
              "tickwidth": 2
             }
            },
            "type": "scatterpolar"
           }
          ],
          "scatterpolargl": [
           {
            "marker": {
             "colorbar": {
              "outlinewidth": 0,
              "tickcolor": "rgb(36,36,36)",
              "ticklen": 8,
              "ticks": "outside",
              "tickwidth": 2
             }
            },
            "type": "scatterpolargl"
           }
          ],
          "scatterternary": [
           {
            "marker": {
             "colorbar": {
              "outlinewidth": 0,
              "tickcolor": "rgb(36,36,36)",
              "ticklen": 8,
              "ticks": "outside",
              "tickwidth": 2
             }
            },
            "type": "scatterternary"
           }
          ],
          "surface": [
           {
            "colorbar": {
             "outlinewidth": 0,
             "tickcolor": "rgb(36,36,36)",
             "ticklen": 8,
             "ticks": "outside",
             "tickwidth": 2
            },
            "colorscale": [
             [
              0,
              "rgb(2,4,25)"
             ],
             [
              0.06274509803921569,
              "rgb(24,15,41)"
             ],
             [
              0.12549019607843137,
              "rgb(47,23,57)"
             ],
             [
              0.18823529411764706,
              "rgb(71,28,72)"
             ],
             [
              0.25098039215686274,
              "rgb(97,30,82)"
             ],
             [
              0.3137254901960784,
              "rgb(123,30,89)"
             ],
             [
              0.3764705882352941,
              "rgb(150,27,91)"
             ],
             [
              0.4392156862745098,
              "rgb(177,22,88)"
             ],
             [
              0.5019607843137255,
              "rgb(203,26,79)"
             ],
             [
              0.5647058823529412,
              "rgb(223,47,67)"
             ],
             [
              0.6274509803921569,
              "rgb(236,76,61)"
             ],
             [
              0.6901960784313725,
              "rgb(242,107,73)"
             ],
             [
              0.7529411764705882,
              "rgb(244,135,95)"
             ],
             [
              0.8156862745098039,
              "rgb(245,162,122)"
             ],
             [
              0.8784313725490196,
              "rgb(246,188,153)"
             ],
             [
              0.9411764705882353,
              "rgb(247,212,187)"
             ],
             [
              1,
              "rgb(250,234,220)"
             ]
            ],
            "type": "surface"
           }
          ],
          "table": [
           {
            "cells": {
             "fill": {
              "color": "rgb(231,231,240)"
             },
             "line": {
              "color": "white"
             }
            },
            "header": {
             "fill": {
              "color": "rgb(183,183,191)"
             },
             "line": {
              "color": "white"
             }
            },
            "type": "table"
           }
          ]
         },
         "layout": {
          "annotationdefaults": {
           "arrowcolor": "rgb(67,103,167)"
          },
          "coloraxis": {
           "colorbar": {
            "outlinewidth": 0,
            "tickcolor": "rgb(36,36,36)",
            "ticklen": 8,
            "ticks": "outside",
            "tickwidth": 2
           }
          },
          "colorscale": {
           "sequential": [
            [
             0,
             "rgb(2,4,25)"
            ],
            [
             0.06274509803921569,
             "rgb(24,15,41)"
            ],
            [
             0.12549019607843137,
             "rgb(47,23,57)"
            ],
            [
             0.18823529411764706,
             "rgb(71,28,72)"
            ],
            [
             0.25098039215686274,
             "rgb(97,30,82)"
            ],
            [
             0.3137254901960784,
             "rgb(123,30,89)"
            ],
            [
             0.3764705882352941,
             "rgb(150,27,91)"
            ],
            [
             0.4392156862745098,
             "rgb(177,22,88)"
            ],
            [
             0.5019607843137255,
             "rgb(203,26,79)"
            ],
            [
             0.5647058823529412,
             "rgb(223,47,67)"
            ],
            [
             0.6274509803921569,
             "rgb(236,76,61)"
            ],
            [
             0.6901960784313725,
             "rgb(242,107,73)"
            ],
            [
             0.7529411764705882,
             "rgb(244,135,95)"
            ],
            [
             0.8156862745098039,
             "rgb(245,162,122)"
            ],
            [
             0.8784313725490196,
             "rgb(246,188,153)"
            ],
            [
             0.9411764705882353,
             "rgb(247,212,187)"
            ],
            [
             1,
             "rgb(250,234,220)"
            ]
           ],
           "sequentialminus": [
            [
             0,
             "rgb(2,4,25)"
            ],
            [
             0.06274509803921569,
             "rgb(24,15,41)"
            ],
            [
             0.12549019607843137,
             "rgb(47,23,57)"
            ],
            [
             0.18823529411764706,
             "rgb(71,28,72)"
            ],
            [
             0.25098039215686274,
             "rgb(97,30,82)"
            ],
            [
             0.3137254901960784,
             "rgb(123,30,89)"
            ],
            [
             0.3764705882352941,
             "rgb(150,27,91)"
            ],
            [
             0.4392156862745098,
             "rgb(177,22,88)"
            ],
            [
             0.5019607843137255,
             "rgb(203,26,79)"
            ],
            [
             0.5647058823529412,
             "rgb(223,47,67)"
            ],
            [
             0.6274509803921569,
             "rgb(236,76,61)"
            ],
            [
             0.6901960784313725,
             "rgb(242,107,73)"
            ],
            [
             0.7529411764705882,
             "rgb(244,135,95)"
            ],
            [
             0.8156862745098039,
             "rgb(245,162,122)"
            ],
            [
             0.8784313725490196,
             "rgb(246,188,153)"
            ],
            [
             0.9411764705882353,
             "rgb(247,212,187)"
            ],
            [
             1,
             "rgb(250,234,220)"
            ]
           ]
          },
          "colorway": [
           "rgb(76,114,176)",
           "rgb(221,132,82)",
           "rgb(85,168,104)",
           "rgb(196,78,82)",
           "rgb(129,114,179)",
           "rgb(147,120,96)",
           "rgb(218,139,195)",
           "rgb(140,140,140)",
           "rgb(204,185,116)",
           "rgb(100,181,205)"
          ],
          "font": {
           "color": "rgb(36,36,36)"
          },
          "geo": {
           "bgcolor": "white",
           "lakecolor": "white",
           "landcolor": "rgb(234,234,242)",
           "showlakes": true,
           "showland": true,
           "subunitcolor": "white"
          },
          "hoverlabel": {
           "align": "left"
          },
          "hovermode": "closest",
          "paper_bgcolor": "white",
          "plot_bgcolor": "rgb(234,234,242)",
          "polar": {
           "angularaxis": {
            "gridcolor": "white",
            "linecolor": "white",
            "showgrid": true,
            "ticks": ""
           },
           "bgcolor": "rgb(234,234,242)",
           "radialaxis": {
            "gridcolor": "white",
            "linecolor": "white",
            "showgrid": true,
            "ticks": ""
           }
          },
          "scene": {
           "xaxis": {
            "backgroundcolor": "rgb(234,234,242)",
            "gridcolor": "white",
            "gridwidth": 2,
            "linecolor": "white",
            "showbackground": true,
            "showgrid": true,
            "ticks": "",
            "zerolinecolor": "white"
           },
           "yaxis": {
            "backgroundcolor": "rgb(234,234,242)",
            "gridcolor": "white",
            "gridwidth": 2,
            "linecolor": "white",
            "showbackground": true,
            "showgrid": true,
            "ticks": "",
            "zerolinecolor": "white"
           },
           "zaxis": {
            "backgroundcolor": "rgb(234,234,242)",
            "gridcolor": "white",
            "gridwidth": 2,
            "linecolor": "white",
            "showbackground": true,
            "showgrid": true,
            "ticks": "",
            "zerolinecolor": "white"
           }
          },
          "shapedefaults": {
           "fillcolor": "rgb(67,103,167)",
           "line": {
            "width": 0
           },
           "opacity": 0.5
          },
          "ternary": {
           "aaxis": {
            "gridcolor": "white",
            "linecolor": "white",
            "showgrid": true,
            "ticks": ""
           },
           "baxis": {
            "gridcolor": "white",
            "linecolor": "white",
            "showgrid": true,
            "ticks": ""
           },
           "bgcolor": "rgb(234,234,242)",
           "caxis": {
            "gridcolor": "white",
            "linecolor": "white",
            "showgrid": true,
            "ticks": ""
           }
          },
          "xaxis": {
           "automargin": true,
           "gridcolor": "white",
           "linecolor": "white",
           "showgrid": true,
           "ticks": "",
           "title": {
            "standoff": 15
           },
           "zerolinecolor": "white"
          },
          "yaxis": {
           "automargin": true,
           "gridcolor": "white",
           "linecolor": "white",
           "showgrid": true,
           "ticks": "",
           "title": {
            "standoff": 15
           },
           "zerolinecolor": "white"
          }
         }
        },
        "title": {
         "font": {
          "size": 25
         },
         "text": "scaling relation"
        },
        "width": 800,
        "xaxis": {
         "gridwidth": 1,
         "tickfont": {
          "size": 18
         },
         "title": {
          "font": {
           "size": 25
          },
          "text": "$\\Delta G_{\\text{OH}} \\text{ (eV)}$"
         },
         "zeroline": false
        },
        "yaxis": {
         "gridwidth": 1,
         "tickfont": {
          "size": 18
         },
         "title": {
          "font": {
           "size": 25
          },
          "text": "$\\Delta G_{\\text{X}} \\text{ (eV)}$"
         },
         "zeroline": false
        }
       }
      },
      "text/html": [
       "<div>                            <div id=\"ac1183c3-ef5f-4c52-868d-185490368af0\" class=\"plotly-graph-div\" style=\"height:600px; width:800px;\"></div>            <script type=\"text/javascript\">                require([\"plotly\"], function(Plotly) {                    window.PLOTLYENV=window.PLOTLYENV || {};                                    if (document.getElementById(\"ac1183c3-ef5f-4c52-868d-185490368af0\")) {                    Plotly.newPlot(                        \"ac1183c3-ef5f-4c52-868d-185490368af0\",                        [{\"marker\": {\"size\": 15, \"symbol\": 18}, \"mode\": \"markers\", \"name\": \"OOH vs OH\", \"text\": [\"SrTcO3\", \"BaFeO3\", \"BaMoO3\", \"KTaO3\", \"BaZrO3\", \"SrFeO3\", \"KTcO3\", \"NaTcO3\", \"BaHfO3\", \"SrTiO3\", \"SrCuO3\", \"KNbO3\", \"NaTaO3\", \"BaScO3\", \"BaPdO3\", \"SrHfO3\", \"NaOsO3\", \"TlTcO3\", \"KReO3\", \"SrRuO3\", \"KHfO3\", \"SrVO3\", \"KOsO3\", \"TaAgO3\", \"SrNiO3\", \"RbIrO3\", \"NaReO3\", \"SrMnO3\", \"CaFeO3\", \"SrZrO3\", \"RbTaO3\", \"SrCoO3\", \"KZrO3\", \"CaTiO3\", \"NaRuO3\", \"LiTcO3\", \"SrPdO3\", \"KWO3\", \"KRhO3\", \"BaCuO3\", \"RbNbO3\", \"BaOsO3\", \"BaRuO3\", \"KRuO3\", \"SrMoO3\", \"NaTiO3\", \"SrScO3\", \"SrRhO3\", \"NaMoO3\", \"BaRhO3\", \"BaPtO3\", \"CaVO3\", \"KMoO3\", \"SrCrO3\", \"RbRhO3\", \"BaVO3\", \"CaCoO3\", \"CaMnO3\", \"KPtO3\", \"BaNiO3\", \"BaMnO3\", \"SrIrO3\", \"NaVO3\", \"NaFeO3\", \"BaIrO3\", \"RbReO3\", \"CaRuO3\", \"RbPdO3\", \"CaHfO3\", \"TlWO3\", \"RbPtO3\"], \"type\": \"scatter\", \"x\": [-0.782, 2.024, -0.302, -1.001, 1.29, 2.026, 0.04, -0.067, 1.191, 1.276, 2.007, -0.217, -1.129, 2.147, 1.7, 1.081, -0.354, -0.031, -0.733, 0.26, 1.946, -0.191, -0.464, -1.056, 3.474, 0.976, -0.831, 2.548, 1.927, 1.151, -0.997, 1.163, 2.007, 1.263, 0.746, 0.152, 0.899, -1.124, 1.568, 1.821, -0.344, -1.484, 0.446, 0.83, -1.13, 2.205, 2.146, 0.499, -0.415, 1.086, 1.101, -0.181, -0.558, 0.646, 1.29, -0.474, 1.636, 1.408, 1.292, 2.267, 1.655, 0.424, 0.52, 2.325, 0.646, -0.678, -0.363, 1.313, 0.619, -1.407, 1.034], \"y\": [2.481, 4.917, 3.019, 2.575, 4.706, 4.94, 3.231, 3.149, 4.537, 4.632, 5.007, 3.298, 2.423, 4.977, 4.665, 4.46, 3.103, 3.1, 2.539, 3.406, 4.806, 3.026, 2.802, 2.512, 4.641, 4.135, 2.449, 5.509, 4.926, 4.537, 2.619, 4.261, 4.825, 4.692, 3.804, 3.351, 3.741, 2.067, 4.504, 4.755, 3.187, 2.141, 3.513, 3.972, 2.216, 4.918, 4.963, 3.496, 2.624, 4.115, 4.159, 3.376, 2.632, 3.829, 4.069, 3.366, 4.683, 4.967, 4.28, 4.943, 4.914, 3.546, 3.911, 5.028, 3.828, 2.581, 2.514, 4.231, 3.86, 2.157, 4.02]}, {\"marker\": {\"color\": \"rgb(255,0,0)\", \"size\": 15, \"symbol\": 30}, \"mode\": \"markers\", \"name\": \"O vs OH\", \"text\": [\"SrTcO3\", \"BaFeO3\", \"BaMoO3\", \"KTaO3\", \"BaZrO3\", \"SrFeO3\", \"KTcO3\", \"NaTcO3\", \"BaHfO3\", \"SrTiO3\", \"SrCuO3\", \"KNbO3\", \"NaTaO3\", \"BaScO3\", \"BaPdO3\", \"SrHfO3\", \"NaOsO3\", \"TlTcO3\", \"KReO3\", \"SrRuO3\", \"KHfO3\", \"SrVO3\", \"KOsO3\", \"TaAgO3\", \"SrNiO3\", \"RbIrO3\", \"NaReO3\", \"SrMnO3\", \"CaFeO3\", \"SrZrO3\", \"RbTaO3\", \"SrCoO3\", \"KZrO3\", \"CaTiO3\", \"NaRuO3\", \"LiTcO3\", \"SrPdO3\", \"KWO3\", \"KRhO3\", \"BaCuO3\", \"RbNbO3\", \"BaOsO3\", \"BaRuO3\", \"KRuO3\", \"SrMoO3\", \"NaTiO3\", \"SrScO3\", \"SrRhO3\", \"NaMoO3\", \"BaRhO3\", \"BaPtO3\", \"CaVO3\", \"KMoO3\", \"SrCrO3\", \"RbRhO3\", \"BaVO3\", \"CaCoO3\", \"CaMnO3\", \"KPtO3\", \"BaNiO3\", \"BaMnO3\", \"SrIrO3\", \"NaVO3\", \"NaFeO3\", \"BaIrO3\", \"RbReO3\", \"CaRuO3\", \"RbPdO3\", \"CaHfO3\", \"TlWO3\", \"RbPtO3\"], \"type\": \"scatter\", \"x\": [-0.782, 2.024, -0.302, -1.001, 1.29, 2.026, 0.04, -0.067, 1.191, 1.276, 2.007, -0.217, -1.129, 2.147, 1.7, 1.081, -0.354, -0.031, -0.733, 0.26, 1.946, -0.191, -0.464, -1.056, 3.474, 0.976, -0.831, 2.548, 1.927, 1.151, -0.997, 1.163, 2.007, 1.263, 0.746, 0.152, 0.899, -1.124, 1.568, 1.821, -0.344, -1.484, 0.446, 0.83, -1.13, 2.205, 2.146, 0.499, -0.415, 1.086, 1.101, -0.181, -0.558, 0.646, 1.29, -0.474, 1.636, 1.408, 1.292, 2.267, 1.655, 0.424, 0.52, 2.325, 0.646, -0.678, -0.363, 1.313, 0.619, -1.407, 1.034], \"y\": [-0.707, 4.452, -0.853, -0.614, 4.143, 4.606, 0.446, 0.301, 4.023, 3.889, 4.23, 0.465, -0.899, 4.7, 3.455, 3.952, 0.577, 0.313, -0.544, 0.96, 4.407, 0.516, 0.699, -0.969, 4.437, 2.415, -0.697, 4.648, 4.277, 4.034, -0.617, 3.136, 4.516, 3.911, 1.871, 0.621, 3.176, -1.2, 3.321, 3.95, 0.282, -0.728, 1.303, 2.006, -1.375, 4.568, 4.677, 2.151, -0.665, 2.461, 2.56, 0.389, -0.412, 2.046, 3.2, 0.504, 3.425, 4.289, 2.948, 4.41, 2.943, 1.673, 1.743, 4.625, 1.989, -0.492, 0.68, 3.183, 3.642, -0.904, 2.727]}, {\"marker\": {\"size\": 15, \"symbol\": 0}, \"mode\": \"markers\", \"name\": \"OH vs OH\", \"text\": [\"SrTcO3\", \"BaFeO3\", \"BaMoO3\", \"KTaO3\", \"BaZrO3\", \"SrFeO3\", \"KTcO3\", \"NaTcO3\", \"BaHfO3\", \"SrTiO3\", \"SrCuO3\", \"KNbO3\", \"NaTaO3\", \"BaScO3\", \"BaPdO3\", \"SrHfO3\", \"NaOsO3\", \"TlTcO3\", \"KReO3\", \"SrRuO3\", \"KHfO3\", \"SrVO3\", \"KOsO3\", \"TaAgO3\", \"SrNiO3\", \"RbIrO3\", \"NaReO3\", \"SrMnO3\", \"CaFeO3\", \"SrZrO3\", \"RbTaO3\", \"SrCoO3\", \"KZrO3\", \"CaTiO3\", \"NaRuO3\", \"LiTcO3\", \"SrPdO3\", \"KWO3\", \"KRhO3\", \"BaCuO3\", \"RbNbO3\", \"BaOsO3\", \"BaRuO3\", \"KRuO3\", \"SrMoO3\", \"NaTiO3\", \"SrScO3\", \"SrRhO3\", \"NaMoO3\", \"BaRhO3\", \"BaPtO3\", \"CaVO3\", \"KMoO3\", \"SrCrO3\", \"RbRhO3\", \"BaVO3\", \"CaCoO3\", \"CaMnO3\", \"KPtO3\", \"BaNiO3\", \"BaMnO3\", \"SrIrO3\", \"NaVO3\", \"NaFeO3\", \"BaIrO3\", \"RbReO3\", \"CaRuO3\", \"RbPdO3\", \"CaHfO3\", \"TlWO3\", \"RbPtO3\"], \"type\": \"scatter\", \"x\": [-0.782, 2.024, -0.302, -1.001, 1.29, 2.026, 0.04, -0.067, 1.191, 1.276, 2.007, -0.217, -1.129, 2.147, 1.7, 1.081, -0.354, -0.031, -0.733, 0.26, 1.946, -0.191, -0.464, -1.056, 3.474, 0.976, -0.831, 2.548, 1.927, 1.151, -0.997, 1.163, 2.007, 1.263, 0.746, 0.152, 0.899, -1.124, 1.568, 1.821, -0.344, -1.484, 0.446, 0.83, -1.13, 2.205, 2.146, 0.499, -0.415, 1.086, 1.101, -0.181, -0.558, 0.646, 1.29, -0.474, 1.636, 1.408, 1.292, 2.267, 1.655, 0.424, 0.52, 2.325, 0.646, -0.678, -0.363, 1.313, 0.619, -1.407, 1.034], \"y\": [-0.782, 2.024, -0.302, -1.001, 1.29, 2.026, 0.04, -0.067, 1.191, 1.276, 2.007, -0.217, -1.129, 2.147, 1.7, 1.081, -0.354, -0.031, -0.733, 0.26, 1.946, -0.191, -0.464, -1.056, 3.474, 0.976, -0.831, 2.548, 1.927, 1.151, -0.997, 1.163, 2.007, 1.263, 0.746, 0.152, 0.899, -1.124, 1.568, 1.821, -0.344, -1.484, 0.446, 0.83, -1.13, 2.205, 2.146, 0.499, -0.415, 1.086, 1.101, -0.181, -0.558, 0.646, 1.29, -0.474, 1.636, 1.408, 1.292, 2.267, 1.655, 0.424, 0.52, 2.325, 0.646, -0.678, -0.363, 1.313, 0.619, -1.407, 1.034]}, {\"marker\": {\"color\": \"blue\"}, \"mode\": \"lines\", \"name\": \"OOH_fit\", \"type\": \"scatter\", \"x\": [-1.484, -1.4339191919191918, -1.3838383838383839, -1.3337575757575757, -1.2836767676767677, -1.2335959595959596, -1.1835151515151514, -1.1334343434343435, -1.0833535353535353, -1.0332727272727273, -0.9831919191919192, -0.9331111111111111, -0.883030303030303, -0.832949494949495, -0.7828686868686868, -0.7327878787878788, -0.6827070707070707, -0.6326262626262626, -0.5825454545454546, -0.5324646464646464, -0.48238383838383836, -0.4323030303030304, -0.38222222222222224, -0.33214141414141407, -0.2820606060606061, -0.23197979797979795, -0.18189898989899, -0.13181818181818183, -0.08173737373737366, -0.031656565656565716, 0.018424242424242454, 0.0685050505050504, 0.11858585858585857, 0.16866666666666674, 0.2187474747474747, 0.26882828282828286, 0.3189090909090908, 0.368989898989899, 0.41907070707070715, 0.4691515151515151, 0.5192323232323233, 0.5693131313131312, 0.6193939393939392, 0.6694747474747476, 0.7195555555555555, 0.7696363636363635, 0.8197171717171718, 0.8697979797979798, 0.9198787878787877, 0.9699595959595961, 1.020040404040404, 1.070121212121212, 1.12020202020202, 1.1702828282828284, 1.2203636363636363, 1.2704444444444443, 1.3205252525252527, 1.3706060606060606, 1.4206868686868686, 1.470767676767677, 1.520848484848485, 1.5709292929292928, 1.6210101010101008, 1.6710909090909092, 1.7211717171717171, 1.771252525252525, 1.8213333333333335, 1.8714141414141414, 1.9214949494949494, 1.9715757575757573, 2.0216565656565657, 2.0717373737373737, 2.1218181818181816, 2.17189898989899, 2.221979797979798, 2.272060606060606, 2.3221414141414143, 2.3722222222222222, 2.42230303030303, 2.472383838383838, 2.5224646464646465, 2.5725454545454545, 2.6226262626262624, 2.6727070707070704, 2.7227878787878783, 2.772868686868687, 2.822949494949495, 2.873030303030303, 2.923111111111111, 2.973191919191919, 3.023272727272727, 3.0733535353535357, 3.1234343434343437, 3.1735151515151516, 3.2235959595959596, 3.2736767676767675, 3.3237575757575755, 3.3738383838383834, 3.4239191919191923, 3.474], \"y\": [1.5456201074931448, 1.5626436027096275, 1.5796670979261105, 1.5966905931425934, 1.6137140883590766, 1.6307375835755593, 1.6477610787920425, 1.6647845740085252, 1.6818080692250081, 1.6988315644414913, 1.715855059657974, 1.7328785548744572, 1.74990205009094, 1.7669255453074229, 1.783949040523906, 1.8009725357403887, 1.817996030956872, 1.8350195261733546, 1.8520430213898376, 1.8690665166063207, 1.8860900118228034, 1.9031135070392864, 1.9201370022557693, 1.9371604974722523, 1.9541839926887354, 1.9712074879052184, 1.988230983121701, 2.005254478338184, 2.022277973554667, 2.03930146877115, 2.056324963987633, 2.073348459204116, 2.0903719544205988, 2.1073954496370817, 2.1244189448535646, 2.1414424400700476, 2.1584659352865305, 2.1754894305030135, 2.1925129257194964, 2.2095364209359794, 2.2265599161524623, 2.2435834113689452, 2.260606906585428, 2.277630401801911, 2.294653897018394, 2.311677392234877, 2.32870088745136, 2.345724382667843, 2.362747877884326, 2.3797713731008088, 2.3967948683172917, 2.4138183635337747, 2.4308418587502576, 2.4478653539667405, 2.4648888491832235, 2.4819123443997064, 2.4989358396161894, 2.5159593348326723, 2.5329828300491553, 2.550006325265638, 2.567029820482121, 2.584053315698604, 2.601076810915087, 2.61810030613157, 2.635123801348053, 2.652147296564536, 2.669170791781019, 2.6861942869975017, 2.7032177822139847, 2.7202412774304676, 2.7372647726469506, 2.7542882678634335, 2.7713117630799164, 2.7883352582963994, 2.8053587535128823, 2.8223822487293653, 2.839405743945848, 2.856429239162331, 2.873452734378814, 2.890476229595297, 2.90749972481178, 2.924523220028263, 2.941546715244746, 2.958570210461229, 2.9755937056777118, 2.9926172008941947, 3.0096406961106776, 3.0266641913271606, 3.0436876865436435, 3.0607111817601265, 3.0777346769766094, 3.0947581721930923, 3.1117816674095753, 3.1288051626260582, 3.145828657842541, 3.162852153059024, 3.179875648275507, 3.19689914349199, 3.213922638708473, 3.230946133924956]}, {\"marker\": {\"color\": \"red\"}, \"mode\": \"lines\", \"name\": \"O_fit\", \"type\": \"scatter\", \"x\": [-1.484, -1.4339191919191918, -1.3838383838383839, -1.3337575757575757, -1.2836767676767677, -1.2335959595959596, -1.1835151515151514, -1.1334343434343435, -1.0833535353535353, -1.0332727272727273, -0.9831919191919192, -0.9331111111111111, -0.883030303030303, -0.832949494949495, -0.7828686868686868, -0.7327878787878788, -0.6827070707070707, -0.6326262626262626, -0.5825454545454546, -0.5324646464646464, -0.48238383838383836, -0.4323030303030304, -0.38222222222222224, -0.33214141414141407, -0.2820606060606061, -0.23197979797979795, -0.18189898989899, -0.13181818181818183, -0.08173737373737366, -0.031656565656565716, 0.018424242424242454, 0.0685050505050504, 0.11858585858585857, 0.16866666666666674, 0.2187474747474747, 0.26882828282828286, 0.3189090909090908, 0.368989898989899, 0.41907070707070715, 0.4691515151515151, 0.5192323232323233, 0.5693131313131312, 0.6193939393939392, 0.6694747474747476, 0.7195555555555555, 0.7696363636363635, 0.8197171717171718, 0.8697979797979798, 0.9198787878787877, 0.9699595959595961, 1.020040404040404, 1.070121212121212, 1.12020202020202, 1.1702828282828284, 1.2203636363636363, 1.2704444444444443, 1.3205252525252527, 1.3706060606060606, 1.4206868686868686, 1.470767676767677, 1.520848484848485, 1.5709292929292928, 1.6210101010101008, 1.6710909090909092, 1.7211717171717171, 1.771252525252525, 1.8213333333333335, 1.8714141414141414, 1.9214949494949494, 1.9715757575757573, 2.0216565656565657, 2.0717373737373737, 2.1218181818181816, 2.17189898989899, 2.221979797979798, 2.272060606060606, 2.3221414141414143, 2.3722222222222222, 2.42230303030303, 2.472383838383838, 2.5224646464646465, 2.5725454545454545, 2.6226262626262624, 2.6727070707070704, 2.7227878787878783, 2.772868686868687, 2.822949494949495, 2.873030303030303, 2.923111111111111, 2.973191919191919, 3.023272727272727, 3.0733535353535357, 3.1234343434343437, 3.1735151515151516, 3.2235959595959596, 3.2736767676767675, 3.3237575757575755, 3.3738383838383834, 3.4239191919191923, 3.474], \"y\": [3.618981009929983, 3.598037970511429, 3.577094931092875, 3.556151891674321, 3.535208852255767, 3.5142658128372135, 3.4933227734186594, 3.4723797340001052, 3.4514366945815516, 3.430493655162998, 3.4095506157444437, 3.3886075763258896, 3.367664536907336, 3.346721497488782, 3.325778458070228, 3.304835418651674, 3.2838923792331203, 3.262949339814566, 3.2420063003960125, 3.2210632609774583, 3.2001202215589046, 3.1791771821403505, 3.1582341427217964, 3.1372911033032427, 3.1163480638846885, 3.095405024466135, 3.0744619850475807, 3.053518945629027, 3.032575906210473, 3.011632866791919, 2.990689827373365, 2.9697467879548114, 2.9488037485362573, 2.9278607091177036, 2.9069176696991494, 2.8859746302805958, 2.8650315908620416, 2.844088551443488, 2.823145512024934, 2.80220247260638, 2.781259433187826, 2.760316393769272, 2.739373354350718, 2.7184303149321645, 2.6974872755136103, 2.6765442360950567, 2.6556011966765025, 2.634658157257949, 2.6137151178393947, 2.5927720784208406, 2.571829039002287, 2.5508859995837327, 2.529942960165179, 2.508999920746625, 2.4880568813280712, 2.467113841909517, 2.4461708024909634, 2.4252277630724093, 2.4042847236538556, 2.3833416842353015, 2.3623986448167478, 2.3414556053981936, 2.32051256597964, 2.299569526561086, 2.278626487142532, 2.257683447723978, 2.2367404083054243, 2.21579736888687, 2.194854329468316, 2.1739112900497624, 2.1529682506312087, 2.1320252112126545, 2.1110821717941004, 2.0901391323755467, 2.069196092956993, 2.048253053538439, 2.0273100141198848, 2.006366974701331, 1.9854239352827772, 1.9644808958642233, 1.9435378564456693, 1.9225948170271152, 1.9016517776085613, 1.8807087381900074, 1.8597656987714537, 1.8388226593528996, 1.8178796199343457, 1.7969365805157917, 1.7759935410972378, 1.755050501678684, 1.73410746226013, 1.7131644228415759, 1.6922213834230222, 1.671278344004468, 1.6503353045859144, 1.6293922651673602, 1.6084492257488063, 1.5875061863302524, 1.5665631469116983, 1.5456201074931448]}, {\"marker\": {\"color\": \"green\"}, \"mode\": \"lines\", \"name\": \"OH_fit\", \"type\": \"scatter\", \"x\": [-1.484, -1.4339191919191918, -1.3838383838383839, -1.3337575757575757, -1.2836767676767677, -1.2335959595959596, -1.1835151515151514, -1.1334343434343435, -1.0833535353535353, -1.0332727272727273, -0.9831919191919192, -0.9331111111111111, -0.883030303030303, -0.832949494949495, -0.7828686868686868, -0.7327878787878788, -0.6827070707070707, -0.6326262626262626, -0.5825454545454546, -0.5324646464646464, -0.48238383838383836, -0.4323030303030304, -0.38222222222222224, -0.33214141414141407, -0.2820606060606061, -0.23197979797979795, -0.18189898989899, -0.13181818181818183, -0.08173737373737366, -0.031656565656565716, 0.018424242424242454, 0.0685050505050504, 0.11858585858585857, 0.16866666666666674, 0.2187474747474747, 0.26882828282828286, 0.3189090909090908, 0.368989898989899, 0.41907070707070715, 0.4691515151515151, 0.5192323232323233, 0.5693131313131312, 0.6193939393939392, 0.6694747474747476, 0.7195555555555555, 0.7696363636363635, 0.8197171717171718, 0.8697979797979798, 0.9198787878787877, 0.9699595959595961, 1.020040404040404, 1.070121212121212, 1.12020202020202, 1.1702828282828284, 1.2203636363636363, 1.2704444444444443, 1.3205252525252527, 1.3706060606060606, 1.4206868686868686, 1.470767676767677, 1.520848484848485, 1.5709292929292928, 1.6210101010101008, 1.6710909090909092, 1.7211717171717171, 1.771252525252525, 1.8213333333333335, 1.8714141414141414, 1.9214949494949494, 1.9715757575757573, 2.0216565656565657, 2.0717373737373737, 2.1218181818181816, 2.17189898989899, 2.221979797979798, 2.272060606060606, 2.3221414141414143, 2.3722222222222222, 2.42230303030303, 2.472383838383838, 2.5224646464646465, 2.5725454545454545, 2.6226262626262624, 2.6727070707070704, 2.7227878787878783, 2.772868686868687, 2.822949494949495, 2.873030303030303, 2.923111111111111, 2.973191919191919, 3.023272727272727, 3.0733535353535357, 3.1234343434343437, 3.1735151515151516, 3.2235959595959596, 3.2736767676767675, 3.3237575757575755, 3.3738383838383834, 3.4239191919191923, 3.474], \"y\": [1.7600000000000002, 1.7773131313131318, 1.794626262626263, 1.8119393939393942, 1.8292525252525258, 1.846565656565657, 1.8638787878787881, 1.8811919191919197, 1.898505050505051, 1.915818181818182, 1.9331313131313137, 1.9504444444444449, 1.967757575757576, 1.9850707070707077, 2.002383838383839, 2.01969696969697, 2.0370101010101016, 2.0543232323232328, 2.071636363636364, 2.0889494949494956, 2.1062626262626267, 2.123575757575758, 2.1408888888888895, 2.1582020202020207, 2.175515151515152, 2.1928282828282835, 2.2101414141414146, 2.227454545454546, 2.2447676767676774, 2.2620808080808086, 2.2793939393939397, 2.2967070707070714, 2.3140202020202025, 2.3313333333333337, 2.3486464646464653, 2.3659595959595965, 2.3832727272727277, 2.4005858585858593, 2.4178989898989904, 2.4352121212121216, 2.452525252525253, 2.4698383838383844, 2.4871515151515156, 2.504464646464647, 2.5217777777777783, 2.5390909090909095, 2.556404040404041, 2.5737171717171723, 2.5910303030303035, 2.608343434343435, 2.6256565656565662, 2.6429696969696974, 2.660282828282829, 2.67759595959596, 2.6949090909090914, 2.712222222222223, 2.729535353535354, 2.7468484848484853, 2.764161616161617, 2.781474747474748, 2.7987878787878793, 2.816101010101011, 2.833414141414142, 2.850727272727273, 2.868040404040405, 2.885353535353536, 2.902666666666667, 2.919979797979799, 2.93729292929293, 2.954606060606061, 2.9719191919191927, 2.989232323232324, 3.0065454545454555, 3.023858585858587, 3.0411717171717183, 3.0584848484848495, 3.075797979797981, 3.0931111111111123, 3.1104242424242434, 3.127737373737375, 3.1450505050505058, 3.1623636363636374, 3.179676767676769, 3.1969898989898997, 3.2143030303030313, 3.231616161616163, 3.2489292929292937, 3.2662424242424253, 3.283555555555557, 3.3008686868686876, 3.3181818181818192, 3.335494949494951, 3.3528080808080816, 3.370121212121213, 3.387434343434345, 3.4047474747474755, 3.422060606060607, 3.4393737373737387, 3.4566868686868695, 3.474000000000001]}],                        {\"annotations\": [{\"font\": {\"color\": \"blue\", \"size\": 20}, \"text\": \"$\\\\Delta G_{\\\\text{OOH}} = \\\\text{0.790} \\\\Delta G_{\\\\text{OH}} + \\\\text{3.282}$\", \"x\": 2, \"xshift\": 50, \"y\": 1, \"yshift\": -80}, {\"font\": {\"color\": \"red\", \"size\": 20}, \"text\": \"$\\\\Delta G_{\\\\text{O}} = \\\\text{1.657} \\\\Delta G_{\\\\text{OH}} + \\\\text{0.949}$\", \"x\": 2, \"xshift\": 50, \"y\": 0.5, \"yshift\": -90}, {\"font\": {\"color\": \"green\", \"size\": 20}, \"text\": \"$\\\\Delta G_{\\\\text{OH}} = \\\\text{1.000} \\\\Delta G_{\\\\text{OH}} + \\\\text{-0.000}$\", \"x\": 2, \"xshift\": 50, \"y\": 0, \"yshift\": -100}], \"height\": 600, \"template\": {\"data\": {\"bar\": [{\"error_x\": {\"color\": \"rgb(36,36,36)\"}, \"error_y\": {\"color\": \"rgb(36,36,36)\"}, \"marker\": {\"line\": {\"color\": \"rgb(234,234,242)\", \"width\": 0.5}}, \"type\": \"bar\"}], \"barpolar\": [{\"marker\": {\"line\": {\"color\": \"rgb(234,234,242)\", \"width\": 0.5}}, \"type\": \"barpolar\"}], \"carpet\": [{\"aaxis\": {\"endlinecolor\": \"rgb(36,36,36)\", \"gridcolor\": \"white\", \"linecolor\": \"white\", \"minorgridcolor\": \"white\", \"startlinecolor\": \"rgb(36,36,36)\"}, \"baxis\": {\"endlinecolor\": \"rgb(36,36,36)\", \"gridcolor\": \"white\", \"linecolor\": \"white\", \"minorgridcolor\": \"white\", \"startlinecolor\": \"rgb(36,36,36)\"}, \"type\": \"carpet\"}], \"choropleth\": [{\"colorbar\": {\"outlinewidth\": 0, \"tickcolor\": \"rgb(36,36,36)\", \"ticklen\": 8, \"ticks\": \"outside\", \"tickwidth\": 2}, \"type\": \"choropleth\"}], \"contour\": [{\"colorbar\": {\"outlinewidth\": 0, \"tickcolor\": \"rgb(36,36,36)\", \"ticklen\": 8, \"ticks\": \"outside\", \"tickwidth\": 2}, \"colorscale\": [[0.0, \"rgb(2,4,25)\"], [0.06274509803921569, \"rgb(24,15,41)\"], [0.12549019607843137, \"rgb(47,23,57)\"], [0.18823529411764706, \"rgb(71,28,72)\"], [0.25098039215686274, \"rgb(97,30,82)\"], [0.3137254901960784, \"rgb(123,30,89)\"], [0.3764705882352941, \"rgb(150,27,91)\"], [0.4392156862745098, \"rgb(177,22,88)\"], [0.5019607843137255, \"rgb(203,26,79)\"], [0.5647058823529412, \"rgb(223,47,67)\"], [0.6274509803921569, \"rgb(236,76,61)\"], [0.6901960784313725, \"rgb(242,107,73)\"], [0.7529411764705882, \"rgb(244,135,95)\"], [0.8156862745098039, \"rgb(245,162,122)\"], [0.8784313725490196, \"rgb(246,188,153)\"], [0.9411764705882353, \"rgb(247,212,187)\"], [1.0, \"rgb(250,234,220)\"]], \"type\": \"contour\"}], \"contourcarpet\": [{\"colorbar\": {\"outlinewidth\": 0, \"tickcolor\": \"rgb(36,36,36)\", \"ticklen\": 8, \"ticks\": \"outside\", \"tickwidth\": 2}, \"type\": \"contourcarpet\"}], \"heatmap\": [{\"colorbar\": {\"outlinewidth\": 0, \"tickcolor\": \"rgb(36,36,36)\", \"ticklen\": 8, \"ticks\": \"outside\", \"tickwidth\": 2}, \"colorscale\": [[0.0, \"rgb(2,4,25)\"], [0.06274509803921569, \"rgb(24,15,41)\"], [0.12549019607843137, \"rgb(47,23,57)\"], [0.18823529411764706, \"rgb(71,28,72)\"], [0.25098039215686274, \"rgb(97,30,82)\"], [0.3137254901960784, \"rgb(123,30,89)\"], [0.3764705882352941, \"rgb(150,27,91)\"], [0.4392156862745098, \"rgb(177,22,88)\"], [0.5019607843137255, \"rgb(203,26,79)\"], [0.5647058823529412, \"rgb(223,47,67)\"], [0.6274509803921569, \"rgb(236,76,61)\"], [0.6901960784313725, \"rgb(242,107,73)\"], [0.7529411764705882, \"rgb(244,135,95)\"], [0.8156862745098039, \"rgb(245,162,122)\"], [0.8784313725490196, \"rgb(246,188,153)\"], [0.9411764705882353, \"rgb(247,212,187)\"], [1.0, \"rgb(250,234,220)\"]], \"type\": \"heatmap\"}], \"heatmapgl\": [{\"colorbar\": {\"outlinewidth\": 0, \"tickcolor\": \"rgb(36,36,36)\", \"ticklen\": 8, \"ticks\": \"outside\", \"tickwidth\": 2}, \"colorscale\": [[0.0, \"rgb(2,4,25)\"], [0.06274509803921569, \"rgb(24,15,41)\"], [0.12549019607843137, \"rgb(47,23,57)\"], [0.18823529411764706, \"rgb(71,28,72)\"], [0.25098039215686274, \"rgb(97,30,82)\"], [0.3137254901960784, \"rgb(123,30,89)\"], [0.3764705882352941, \"rgb(150,27,91)\"], [0.4392156862745098, \"rgb(177,22,88)\"], [0.5019607843137255, \"rgb(203,26,79)\"], [0.5647058823529412, \"rgb(223,47,67)\"], [0.6274509803921569, \"rgb(236,76,61)\"], [0.6901960784313725, \"rgb(242,107,73)\"], [0.7529411764705882, \"rgb(244,135,95)\"], [0.8156862745098039, \"rgb(245,162,122)\"], [0.8784313725490196, \"rgb(246,188,153)\"], [0.9411764705882353, \"rgb(247,212,187)\"], [1.0, \"rgb(250,234,220)\"]], \"type\": \"heatmapgl\"}], \"histogram\": [{\"marker\": {\"colorbar\": {\"outlinewidth\": 0, \"tickcolor\": \"rgb(36,36,36)\", \"ticklen\": 8, \"ticks\": \"outside\", \"tickwidth\": 2}}, \"type\": \"histogram\"}], \"histogram2d\": [{\"colorbar\": {\"outlinewidth\": 0, \"tickcolor\": \"rgb(36,36,36)\", \"ticklen\": 8, \"ticks\": \"outside\", \"tickwidth\": 2}, \"colorscale\": [[0.0, \"rgb(2,4,25)\"], [0.06274509803921569, \"rgb(24,15,41)\"], [0.12549019607843137, \"rgb(47,23,57)\"], [0.18823529411764706, \"rgb(71,28,72)\"], [0.25098039215686274, \"rgb(97,30,82)\"], [0.3137254901960784, \"rgb(123,30,89)\"], [0.3764705882352941, \"rgb(150,27,91)\"], [0.4392156862745098, \"rgb(177,22,88)\"], [0.5019607843137255, \"rgb(203,26,79)\"], [0.5647058823529412, \"rgb(223,47,67)\"], [0.6274509803921569, \"rgb(236,76,61)\"], [0.6901960784313725, \"rgb(242,107,73)\"], [0.7529411764705882, \"rgb(244,135,95)\"], [0.8156862745098039, \"rgb(245,162,122)\"], [0.8784313725490196, \"rgb(246,188,153)\"], [0.9411764705882353, \"rgb(247,212,187)\"], [1.0, \"rgb(250,234,220)\"]], \"type\": \"histogram2d\"}], \"histogram2dcontour\": [{\"colorbar\": {\"outlinewidth\": 0, \"tickcolor\": \"rgb(36,36,36)\", \"ticklen\": 8, \"ticks\": \"outside\", \"tickwidth\": 2}, \"colorscale\": [[0.0, \"rgb(2,4,25)\"], [0.06274509803921569, \"rgb(24,15,41)\"], [0.12549019607843137, \"rgb(47,23,57)\"], [0.18823529411764706, \"rgb(71,28,72)\"], [0.25098039215686274, \"rgb(97,30,82)\"], [0.3137254901960784, \"rgb(123,30,89)\"], [0.3764705882352941, \"rgb(150,27,91)\"], [0.4392156862745098, \"rgb(177,22,88)\"], [0.5019607843137255, \"rgb(203,26,79)\"], [0.5647058823529412, \"rgb(223,47,67)\"], [0.6274509803921569, \"rgb(236,76,61)\"], [0.6901960784313725, \"rgb(242,107,73)\"], [0.7529411764705882, \"rgb(244,135,95)\"], [0.8156862745098039, \"rgb(245,162,122)\"], [0.8784313725490196, \"rgb(246,188,153)\"], [0.9411764705882353, \"rgb(247,212,187)\"], [1.0, \"rgb(250,234,220)\"]], \"type\": \"histogram2dcontour\"}], \"mesh3d\": [{\"colorbar\": {\"outlinewidth\": 0, \"tickcolor\": \"rgb(36,36,36)\", \"ticklen\": 8, \"ticks\": \"outside\", \"tickwidth\": 2}, \"type\": \"mesh3d\"}], \"parcoords\": [{\"line\": {\"colorbar\": {\"outlinewidth\": 0, \"tickcolor\": \"rgb(36,36,36)\", \"ticklen\": 8, \"ticks\": \"outside\", \"tickwidth\": 2}}, \"type\": \"parcoords\"}], \"pie\": [{\"automargin\": true, \"type\": \"pie\"}], \"scatter\": [{\"marker\": {\"colorbar\": {\"outlinewidth\": 0, \"tickcolor\": \"rgb(36,36,36)\", \"ticklen\": 8, \"ticks\": \"outside\", \"tickwidth\": 2}}, \"type\": \"scatter\"}], \"scatter3d\": [{\"line\": {\"colorbar\": {\"outlinewidth\": 0, \"tickcolor\": \"rgb(36,36,36)\", \"ticklen\": 8, \"ticks\": \"outside\", \"tickwidth\": 2}}, \"marker\": {\"colorbar\": {\"outlinewidth\": 0, \"tickcolor\": \"rgb(36,36,36)\", \"ticklen\": 8, \"ticks\": \"outside\", \"tickwidth\": 2}}, \"type\": \"scatter3d\"}], \"scattercarpet\": [{\"marker\": {\"colorbar\": {\"outlinewidth\": 0, \"tickcolor\": \"rgb(36,36,36)\", \"ticklen\": 8, \"ticks\": \"outside\", \"tickwidth\": 2}}, \"type\": \"scattercarpet\"}], \"scattergeo\": [{\"marker\": {\"colorbar\": {\"outlinewidth\": 0, \"tickcolor\": \"rgb(36,36,36)\", \"ticklen\": 8, \"ticks\": \"outside\", \"tickwidth\": 2}}, \"type\": \"scattergeo\"}], \"scattergl\": [{\"marker\": {\"colorbar\": {\"outlinewidth\": 0, \"tickcolor\": \"rgb(36,36,36)\", \"ticklen\": 8, \"ticks\": \"outside\", \"tickwidth\": 2}}, \"type\": \"scattergl\"}], \"scattermapbox\": [{\"marker\": {\"colorbar\": {\"outlinewidth\": 0, \"tickcolor\": \"rgb(36,36,36)\", \"ticklen\": 8, \"ticks\": \"outside\", \"tickwidth\": 2}}, \"type\": \"scattermapbox\"}], \"scatterpolar\": [{\"marker\": {\"colorbar\": {\"outlinewidth\": 0, \"tickcolor\": \"rgb(36,36,36)\", \"ticklen\": 8, \"ticks\": \"outside\", \"tickwidth\": 2}}, \"type\": \"scatterpolar\"}], \"scatterpolargl\": [{\"marker\": {\"colorbar\": {\"outlinewidth\": 0, \"tickcolor\": \"rgb(36,36,36)\", \"ticklen\": 8, \"ticks\": \"outside\", \"tickwidth\": 2}}, \"type\": \"scatterpolargl\"}], \"scatterternary\": [{\"marker\": {\"colorbar\": {\"outlinewidth\": 0, \"tickcolor\": \"rgb(36,36,36)\", \"ticklen\": 8, \"ticks\": \"outside\", \"tickwidth\": 2}}, \"type\": \"scatterternary\"}], \"surface\": [{\"colorbar\": {\"outlinewidth\": 0, \"tickcolor\": \"rgb(36,36,36)\", \"ticklen\": 8, \"ticks\": \"outside\", \"tickwidth\": 2}, \"colorscale\": [[0.0, \"rgb(2,4,25)\"], [0.06274509803921569, \"rgb(24,15,41)\"], [0.12549019607843137, \"rgb(47,23,57)\"], [0.18823529411764706, \"rgb(71,28,72)\"], [0.25098039215686274, \"rgb(97,30,82)\"], [0.3137254901960784, \"rgb(123,30,89)\"], [0.3764705882352941, \"rgb(150,27,91)\"], [0.4392156862745098, \"rgb(177,22,88)\"], [0.5019607843137255, \"rgb(203,26,79)\"], [0.5647058823529412, \"rgb(223,47,67)\"], [0.6274509803921569, \"rgb(236,76,61)\"], [0.6901960784313725, \"rgb(242,107,73)\"], [0.7529411764705882, \"rgb(244,135,95)\"], [0.8156862745098039, \"rgb(245,162,122)\"], [0.8784313725490196, \"rgb(246,188,153)\"], [0.9411764705882353, \"rgb(247,212,187)\"], [1.0, \"rgb(250,234,220)\"]], \"type\": \"surface\"}], \"table\": [{\"cells\": {\"fill\": {\"color\": \"rgb(231,231,240)\"}, \"line\": {\"color\": \"white\"}}, \"header\": {\"fill\": {\"color\": \"rgb(183,183,191)\"}, \"line\": {\"color\": \"white\"}}, \"type\": \"table\"}]}, \"layout\": {\"annotationdefaults\": {\"arrowcolor\": \"rgb(67,103,167)\"}, \"coloraxis\": {\"colorbar\": {\"outlinewidth\": 0, \"tickcolor\": \"rgb(36,36,36)\", \"ticklen\": 8, \"ticks\": \"outside\", \"tickwidth\": 2}}, \"colorscale\": {\"sequential\": [[0.0, \"rgb(2,4,25)\"], [0.06274509803921569, \"rgb(24,15,41)\"], [0.12549019607843137, \"rgb(47,23,57)\"], [0.18823529411764706, \"rgb(71,28,72)\"], [0.25098039215686274, \"rgb(97,30,82)\"], [0.3137254901960784, \"rgb(123,30,89)\"], [0.3764705882352941, \"rgb(150,27,91)\"], [0.4392156862745098, \"rgb(177,22,88)\"], [0.5019607843137255, \"rgb(203,26,79)\"], [0.5647058823529412, \"rgb(223,47,67)\"], [0.6274509803921569, \"rgb(236,76,61)\"], [0.6901960784313725, \"rgb(242,107,73)\"], [0.7529411764705882, \"rgb(244,135,95)\"], [0.8156862745098039, \"rgb(245,162,122)\"], [0.8784313725490196, \"rgb(246,188,153)\"], [0.9411764705882353, \"rgb(247,212,187)\"], [1.0, \"rgb(250,234,220)\"]], \"sequentialminus\": [[0.0, \"rgb(2,4,25)\"], [0.06274509803921569, \"rgb(24,15,41)\"], [0.12549019607843137, \"rgb(47,23,57)\"], [0.18823529411764706, \"rgb(71,28,72)\"], [0.25098039215686274, \"rgb(97,30,82)\"], [0.3137254901960784, \"rgb(123,30,89)\"], [0.3764705882352941, \"rgb(150,27,91)\"], [0.4392156862745098, \"rgb(177,22,88)\"], [0.5019607843137255, \"rgb(203,26,79)\"], [0.5647058823529412, \"rgb(223,47,67)\"], [0.6274509803921569, \"rgb(236,76,61)\"], [0.6901960784313725, \"rgb(242,107,73)\"], [0.7529411764705882, \"rgb(244,135,95)\"], [0.8156862745098039, \"rgb(245,162,122)\"], [0.8784313725490196, \"rgb(246,188,153)\"], [0.9411764705882353, \"rgb(247,212,187)\"], [1.0, \"rgb(250,234,220)\"]]}, \"colorway\": [\"rgb(76,114,176)\", \"rgb(221,132,82)\", \"rgb(85,168,104)\", \"rgb(196,78,82)\", \"rgb(129,114,179)\", \"rgb(147,120,96)\", \"rgb(218,139,195)\", \"rgb(140,140,140)\", \"rgb(204,185,116)\", \"rgb(100,181,205)\"], \"font\": {\"color\": \"rgb(36,36,36)\"}, \"geo\": {\"bgcolor\": \"white\", \"lakecolor\": \"white\", \"landcolor\": \"rgb(234,234,242)\", \"showlakes\": true, \"showland\": true, \"subunitcolor\": \"white\"}, \"hoverlabel\": {\"align\": \"left\"}, \"hovermode\": \"closest\", \"paper_bgcolor\": \"white\", \"plot_bgcolor\": \"rgb(234,234,242)\", \"polar\": {\"angularaxis\": {\"gridcolor\": \"white\", \"linecolor\": \"white\", \"showgrid\": true, \"ticks\": \"\"}, \"bgcolor\": \"rgb(234,234,242)\", \"radialaxis\": {\"gridcolor\": \"white\", \"linecolor\": \"white\", \"showgrid\": true, \"ticks\": \"\"}}, \"scene\": {\"xaxis\": {\"backgroundcolor\": \"rgb(234,234,242)\", \"gridcolor\": \"white\", \"gridwidth\": 2, \"linecolor\": \"white\", \"showbackground\": true, \"showgrid\": true, \"ticks\": \"\", \"zerolinecolor\": \"white\"}, \"yaxis\": {\"backgroundcolor\": \"rgb(234,234,242)\", \"gridcolor\": \"white\", \"gridwidth\": 2, \"linecolor\": \"white\", \"showbackground\": true, \"showgrid\": true, \"ticks\": \"\", \"zerolinecolor\": \"white\"}, \"zaxis\": {\"backgroundcolor\": \"rgb(234,234,242)\", \"gridcolor\": \"white\", \"gridwidth\": 2, \"linecolor\": \"white\", \"showbackground\": true, \"showgrid\": true, \"ticks\": \"\", \"zerolinecolor\": \"white\"}}, \"shapedefaults\": {\"fillcolor\": \"rgb(67,103,167)\", \"line\": {\"width\": 0}, \"opacity\": 0.5}, \"ternary\": {\"aaxis\": {\"gridcolor\": \"white\", \"linecolor\": \"white\", \"showgrid\": true, \"ticks\": \"\"}, \"baxis\": {\"gridcolor\": \"white\", \"linecolor\": \"white\", \"showgrid\": true, \"ticks\": \"\"}, \"bgcolor\": \"rgb(234,234,242)\", \"caxis\": {\"gridcolor\": \"white\", \"linecolor\": \"white\", \"showgrid\": true, \"ticks\": \"\"}}, \"xaxis\": {\"automargin\": true, \"gridcolor\": \"white\", \"linecolor\": \"white\", \"showgrid\": true, \"ticks\": \"\", \"title\": {\"standoff\": 15}, \"zerolinecolor\": \"white\"}, \"yaxis\": {\"automargin\": true, \"gridcolor\": \"white\", \"linecolor\": \"white\", \"showgrid\": true, \"ticks\": \"\", \"title\": {\"standoff\": 15}, \"zerolinecolor\": \"white\"}}}, \"title\": {\"font\": {\"size\": 25}, \"text\": \"scaling relation\"}, \"width\": 800, \"xaxis\": {\"gridwidth\": 1, \"tickfont\": {\"size\": 18}, \"title\": {\"font\": {\"size\": 25}, \"text\": \"$\\\\Delta G_{\\\\text{OH}} \\\\text{ (eV)}$\"}, \"zeroline\": false}, \"yaxis\": {\"gridwidth\": 1, \"tickfont\": {\"size\": 18}, \"title\": {\"font\": {\"size\": 25}, \"text\": \"$\\\\Delta G_{\\\\text{X}} \\\\text{ (eV)}$\"}, \"zeroline\": false}},                        {\"responsive\": true}                    ).then(function(){\n",
       "                            \n",
       "var gd = document.getElementById('ac1183c3-ef5f-4c52-868d-185490368af0');\n",
       "var x = new MutationObserver(function (mutations, observer) {{\n",
       "        var display = window.getComputedStyle(gd).display;\n",
       "        if (!display || display === 'none') {{\n",
       "            console.log([gd, 'removed!']);\n",
       "            Plotly.purge(gd);\n",
       "            observer.disconnect();\n",
       "        }}\n",
       "}});\n",
       "\n",
       "// Listen for the removal of the full notebook cells\n",
       "var notebookContainer = gd.closest('#notebook-container');\n",
       "if (notebookContainer) {{\n",
       "    x.observe(notebookContainer, {childList: true});\n",
       "}}\n",
       "\n",
       "// Listen for the clearing of the current output cell\n",
       "var outputEl = gd.closest('.output');\n",
       "if (outputEl) {{\n",
       "    x.observe(outputEl, {childList: true});\n",
       "}}\n",
       "\n",
       "                        })                };                });            </script>        </div>"
      ]
     },
     "metadata": {},
     "output_type": "display_data"
    }
   ],
   "source": [
    "trace1 = go.Scatter(x = df_cleaned['DG_OH'], y = df_cleaned['DG_OOH'], name = 'OOH vs OH',\n",
    "                    text = df_cleaned['formula'],\n",
    "                    mode = 'markers', marker = dict(size = 15, symbol = 18))\n",
    "\n",
    "trace2 = go.Scatter(x = df_cleaned['DG_OH'], y = df_cleaned['DG_O'], name = 'O vs OH',\n",
    "                    text = df_cleaned['formula'],\n",
    "                    mode = 'markers', marker = dict(size = 15, symbol = 30,\n",
    "                                                    color = 'rgb(255,0,0)'))\n",
    "trace3 = go.Scatter(x = df_cleaned['DG_OH'], y = df_cleaned['DG_OH'], name = 'OH vs OH',\n",
    "                    text = df_cleaned['formula'],\n",
    "                    mode = 'markers', marker = dict(size = 15, symbol = 0))\n",
    "\n",
    "trace4 = go.Scatter(x=x_range, y= y1_range, name = 'OOH_fit',\n",
    "                    mode = 'lines', marker=dict(color = 'blue'))\n",
    "trace5 = go.Scatter(x=x_range, y= y2_range, name = 'O_fit',\n",
    "                    mode = 'lines', marker=dict(color = 'red'))\n",
    "trace6 = go.Scatter(x=x_range, y= y3_range, name = 'OH_fit',\n",
    "                    mode = 'lines', marker=dict(color = 'green'))\n",
    "\n",
    "data = [trace1, trace2, trace3, trace4, trace5, trace6]\n",
    "\n",
    "layout = go.Layout(height = 600, width = 800, title = 'scaling relation',\n",
    "                   titlefont = dict(size = 25), template= 'seaborn',\n",
    "                    )\n",
    "\n",
    "fig = go.Figure(data = data, layout = layout)\n",
    "\n",
    "fig.update_xaxes(title_text = r'$\\Delta G_{\\text{OH}} \\text{ (eV)}$', titlefont = dict(size = 25),\n",
    "                 tickfont = dict(size=18),\n",
    "                   zeroline = False,\n",
    "                   gridwidth = 1)\n",
    "fig.update_yaxes(title_text = r'$\\Delta G_{\\text{X}} \\text{ (eV)}$', titlefont = dict(size = 25),\n",
    "                 tickfont = dict(size=18),\n",
    "                   zeroline = False,\n",
    "                   gridwidth = 1)\n",
    "annotations = []\n",
    "annotations.append(dict(x=2, y= 1,\n",
    "                        text = r'$\\Delta G_{\\text{OOH}} = \\text{%4.3f} \\Delta G_{\\text{OH}} + \\text{%4.3f}$'\n",
    "                               % (coeff_OOH, intercept_OOH),\n",
    "                        xshift = 50, yshift = -80,\n",
    "                        font = dict(size = 20, color = 'blue')))\n",
    "annotations.append(dict(x=2, y= 0.5, text = r'$\\Delta G_{\\text{O}} = \\text{%4.3f} \\Delta G_{\\text{OH}} + \\text{%4.3f}$'\n",
    "                                          % (coeff_O, intercept_O),\n",
    "                        xshift = 50, yshift = -90,\n",
    "                        font = dict(size = 20, color = 'red')))\n",
    "\n",
    "annotations.append(dict(x=2, y= 0, text = r'$\\Delta G_{\\text{OH}} = \\text{%4.3f} \\Delta G_{\\text{OH}} + \\text{%4.3f}$'\n",
    "                                          % (coeff_OH, intercept_OH),\n",
    "                        xshift = 50, yshift = -100,\n",
    "                        font = dict(size = 20, color = 'green')))\n",
    "\n",
    "fig.update_layout(annotations = annotations)\n",
    "\n",
    "# plot(fig, auto_open = True, filename = 'plots/scaling_relations.html', include_mathjax='cdn')\n",
    "fig.show()\n",
    "# py.iplot(fig)"
   ]
  },
  {
   "cell_type": "markdown",
   "metadata": {},
   "source": [
    "<div>\n",
    "    <a href=\"https://plotly.com/~gwanyeong/50/?share_key=atBCZhDkY1Yq1lCjq3nrsN\" target=\"_blank\" title=\"scaling_relations_v2\" style=\"display: block; text-align: center;\"><img src=\"https://plotly.com/~gwanyeong/50.png?share_key=atBCZhDkY1Yq1lCjq3nrsN\" alt=\"scaling_relations_v2\" style=\"max-width: 100%;width: 800px;\"  width=\"800\" onerror=\"this.onerror=null;this.src='https://plotly.com/404.png';\" /></a>\n",
    "    <script data-plotly=\"gwanyeong:50\" sharekey-plotly=\"atBCZhDkY1Yq1lCjq3nrsN\" src=\"https://plotly.com/embed.js\" async></script>\n",
    "</div>\n"
   ]
  },
  {
   "cell_type": "code",
   "execution_count": 163,
   "metadata": {},
   "outputs": [
    {
     "data": {
      "application/vnd.plotly.v1+json": {
       "config": {
        "plotlyServerURL": "https://plot.ly"
       },
       "data": [
        {
         "mode": "lines+text",
         "name": "SrTcO3",
         "text": [
          "",
          "H2O",
          "",
          "OH*",
          "",
          "O*",
          "",
          "OOH*",
          "",
          "O2(g)"
         ],
         "textposition": "bottom center",
         "type": "scatter",
         "x": [
          0,
          1,
          1,
          2,
          2,
          3,
          3,
          4,
          4,
          5
         ],
         "xaxis": "x",
         "y": [
          0,
          0,
          -1.077,
          -1.077,
          -0.727,
          -0.727,
          2.136,
          2.136,
          4.92,
          4.92
         ],
         "yaxis": "y"
        },
        {
         "mode": "lines+text",
         "name": "BaFeO3",
         "text": [
          "",
          "H2O",
          "",
          "OH*",
          "",
          "O*",
          "",
          "OOH*",
          "",
          "O2(g)"
         ],
         "textposition": "bottom center",
         "type": "scatter",
         "x": [
          0,
          1,
          1,
          2,
          2,
          3,
          3,
          4,
          4,
          5
         ],
         "xaxis": "x2",
         "y": [
          0,
          0,
          1.729,
          1.729,
          4.432,
          4.432,
          4.572,
          4.572,
          4.92,
          4.92
         ],
         "yaxis": "y2"
        },
        {
         "mode": "lines+text",
         "name": "BaMoO3",
         "text": [
          "",
          "H2O",
          "",
          "OH*",
          "",
          "O*",
          "",
          "OOH*",
          "",
          "O2(g)"
         ],
         "textposition": "bottom center",
         "type": "scatter",
         "x": [
          0,
          1,
          1,
          2,
          2,
          3,
          3,
          4,
          4,
          5
         ],
         "xaxis": "x3",
         "y": [
          0,
          0,
          -0.597,
          -0.597,
          -0.873,
          -0.873,
          2.674,
          2.674,
          4.92,
          4.92
         ],
         "yaxis": "y3"
        },
        {
         "mode": "lines+text",
         "name": "KTaO3",
         "text": [
          "",
          "H2O",
          "",
          "OH*",
          "",
          "O*",
          "",
          "OOH*",
          "",
          "O2(g)"
         ],
         "textposition": "bottom center",
         "type": "scatter",
         "x": [
          0,
          1,
          1,
          2,
          2,
          3,
          3,
          4,
          4,
          5
         ],
         "xaxis": "x4",
         "y": [
          0,
          0,
          -1.296,
          -1.296,
          -0.634,
          -0.634,
          2.23,
          2.23,
          4.92,
          4.92
         ],
         "yaxis": "y4"
        },
        {
         "mode": "lines+text",
         "name": "BaZrO3",
         "text": [
          "",
          "H2O",
          "",
          "OH*",
          "",
          "O*",
          "",
          "OOH*",
          "",
          "O2(g)"
         ],
         "textposition": "bottom center",
         "type": "scatter",
         "x": [
          0,
          1,
          1,
          2,
          2,
          3,
          3,
          4,
          4,
          5
         ],
         "xaxis": "x5",
         "y": [
          0,
          0,
          0.995,
          0.995,
          4.123,
          4.123,
          4.361,
          4.361,
          4.92,
          4.92
         ],
         "yaxis": "y5"
        },
        {
         "mode": "lines+text",
         "name": "SrFeO3",
         "text": [
          "",
          "H2O",
          "",
          "OH*",
          "",
          "O*",
          "",
          "OOH*",
          "",
          "O2(g)"
         ],
         "textposition": "bottom center",
         "type": "scatter",
         "x": [
          0,
          1,
          1,
          2,
          2,
          3,
          3,
          4,
          4,
          5
         ],
         "xaxis": "x6",
         "y": [
          0,
          0,
          1.731,
          1.731,
          4.586,
          4.586,
          4.595,
          4.595,
          4.92,
          4.92
         ],
         "yaxis": "y6"
        },
        {
         "mode": "lines+text",
         "name": "KTcO3",
         "text": [
          "",
          "H2O",
          "",
          "OH*",
          "",
          "O*",
          "",
          "OOH*",
          "",
          "O2(g)"
         ],
         "textposition": "bottom center",
         "type": "scatter",
         "x": [
          0,
          1,
          1,
          2,
          2,
          3,
          3,
          4,
          4,
          5
         ],
         "xaxis": "x7",
         "y": [
          0,
          0,
          -0.255,
          -0.255,
          0.426,
          0.426,
          2.886,
          2.886,
          4.92,
          4.92
         ],
         "yaxis": "y7"
        },
        {
         "mode": "lines+text",
         "name": "NaTcO3",
         "text": [
          "",
          "H2O",
          "",
          "OH*",
          "",
          "O*",
          "",
          "OOH*",
          "",
          "O2(g)"
         ],
         "textposition": "bottom center",
         "type": "scatter",
         "x": [
          0,
          1,
          1,
          2,
          2,
          3,
          3,
          4,
          4,
          5
         ],
         "xaxis": "x8",
         "y": [
          0,
          0,
          -0.362,
          -0.362,
          0.281,
          0.281,
          2.804,
          2.804,
          4.92,
          4.92
         ],
         "yaxis": "y8"
        },
        {
         "mode": "lines+text",
         "name": "BaHfO3",
         "text": [
          "",
          "H2O",
          "",
          "OH*",
          "",
          "O*",
          "",
          "OOH*",
          "",
          "O2(g)"
         ],
         "textposition": "bottom center",
         "type": "scatter",
         "x": [
          0,
          1,
          1,
          2,
          2,
          3,
          3,
          4,
          4,
          5
         ],
         "xaxis": "x9",
         "y": [
          0,
          0,
          0.896,
          0.896,
          4.003,
          4.003,
          4.192,
          4.192,
          4.92,
          4.92
         ],
         "yaxis": "y9"
        },
        {
         "mode": "lines+text",
         "name": "SrTiO3",
         "text": [
          "",
          "H2O",
          "",
          "OH*",
          "",
          "O*",
          "",
          "OOH*",
          "",
          "O2(g)"
         ],
         "textposition": "bottom center",
         "type": "scatter",
         "x": [
          0,
          1,
          1,
          2,
          2,
          3,
          3,
          4,
          4,
          5
         ],
         "xaxis": "x10",
         "y": [
          0,
          0,
          0.981,
          0.981,
          3.869,
          3.869,
          4.287,
          4.287,
          4.92,
          4.92
         ],
         "yaxis": "y10"
        },
        {
         "mode": "lines+text",
         "name": "SrCuO3",
         "text": [
          "",
          "H2O",
          "",
          "OH*",
          "",
          "O*",
          "",
          "OOH*",
          "",
          "O2(g)"
         ],
         "textposition": "bottom center",
         "type": "scatter",
         "x": [
          0,
          1,
          1,
          2,
          2,
          3,
          3,
          4,
          4,
          5
         ],
         "xaxis": "x11",
         "y": [
          0,
          0,
          1.712,
          1.712,
          4.21,
          4.21,
          4.662,
          4.662,
          4.92,
          4.92
         ],
         "yaxis": "y11"
        },
        {
         "mode": "lines+text",
         "name": "KNbO3",
         "text": [
          "",
          "H2O",
          "",
          "OH*",
          "",
          "O*",
          "",
          "OOH*",
          "",
          "O2(g)"
         ],
         "textposition": "bottom center",
         "type": "scatter",
         "x": [
          0,
          1,
          1,
          2,
          2,
          3,
          3,
          4,
          4,
          5
         ],
         "xaxis": "x12",
         "y": [
          0,
          0,
          -0.512,
          -0.512,
          0.445,
          0.445,
          2.953,
          2.953,
          4.92,
          4.92
         ],
         "yaxis": "y12"
        },
        {
         "mode": "lines+text",
         "name": "NaTaO3",
         "text": [
          "",
          "H2O",
          "",
          "OH*",
          "",
          "O*",
          "",
          "OOH*",
          "",
          "O2(g)"
         ],
         "textposition": "bottom center",
         "type": "scatter",
         "x": [
          0,
          1,
          1,
          2,
          2,
          3,
          3,
          4,
          4,
          5
         ],
         "xaxis": "x13",
         "y": [
          0,
          0,
          -1.424,
          -1.424,
          -0.919,
          -0.919,
          2.078,
          2.078,
          4.92,
          4.92
         ],
         "yaxis": "y13"
        },
        {
         "mode": "lines+text",
         "name": "BaScO3",
         "text": [
          "",
          "H2O",
          "",
          "OH*",
          "",
          "O*",
          "",
          "OOH*",
          "",
          "O2(g)"
         ],
         "textposition": "bottom center",
         "type": "scatter",
         "x": [
          0,
          1,
          1,
          2,
          2,
          3,
          3,
          4,
          4,
          5
         ],
         "xaxis": "x14",
         "y": [
          0,
          0,
          1.852,
          1.852,
          4.68,
          4.68,
          4.632,
          4.632,
          4.92,
          4.92
         ],
         "yaxis": "y14"
        },
        {
         "mode": "lines+text",
         "name": "BaPdO3",
         "text": [
          "",
          "H2O",
          "",
          "OH*",
          "",
          "O*",
          "",
          "OOH*",
          "",
          "O2(g)"
         ],
         "textposition": "bottom center",
         "type": "scatter",
         "x": [
          0,
          1,
          1,
          2,
          2,
          3,
          3,
          4,
          4,
          5
         ],
         "xaxis": "x15",
         "y": [
          0,
          0,
          1.405,
          1.405,
          3.435,
          3.435,
          4.32,
          4.32,
          4.92,
          4.92
         ],
         "yaxis": "y15"
        },
        {
         "mode": "lines+text",
         "name": "BaTaO3",
         "text": [
          "",
          "H2O",
          "",
          "OH*",
          "",
          "O*",
          "",
          "OOH*",
          "",
          "O2(g)"
         ],
         "textposition": "bottom center",
         "type": "scatter",
         "x": [
          0,
          1,
          1,
          2,
          2,
          3,
          3,
          4,
          4,
          5
         ],
         "xaxis": "x16",
         "y": [
          0,
          0,
          -2.181,
          -2.181,
          -2.592,
          -2.592,
          -4.578,
          -4.578,
          4.92,
          4.92
         ],
         "yaxis": "y16"
        },
        {
         "mode": "lines+text",
         "name": "SrHfO3",
         "text": [
          "",
          "H2O",
          "",
          "OH*",
          "",
          "O*",
          "",
          "OOH*",
          "",
          "O2(g)"
         ],
         "textposition": "bottom center",
         "type": "scatter",
         "x": [
          0,
          1,
          1,
          2,
          2,
          3,
          3,
          4,
          4,
          5
         ],
         "xaxis": "x17",
         "y": [
          0,
          0,
          0.786,
          0.786,
          3.932,
          3.932,
          4.115,
          4.115,
          4.92,
          4.92
         ],
         "yaxis": "y17"
        },
        {
         "mode": "lines+text",
         "name": "NaOsO3",
         "text": [
          "",
          "H2O",
          "",
          "OH*",
          "",
          "O*",
          "",
          "OOH*",
          "",
          "O2(g)"
         ],
         "textposition": "bottom center",
         "type": "scatter",
         "x": [
          0,
          1,
          1,
          2,
          2,
          3,
          3,
          4,
          4,
          5
         ],
         "xaxis": "x18",
         "y": [
          0,
          0,
          -0.649,
          -0.649,
          0.557,
          0.557,
          2.758,
          2.758,
          4.92,
          4.92
         ],
         "yaxis": "y18"
        },
        {
         "mode": "lines+text",
         "name": "TlTcO3",
         "text": [
          "",
          "H2O",
          "",
          "OH*",
          "",
          "O*",
          "",
          "OOH*",
          "",
          "O2(g)"
         ],
         "textposition": "bottom center",
         "type": "scatter",
         "x": [
          0,
          1,
          1,
          2,
          2,
          3,
          3,
          4,
          4,
          5
         ],
         "xaxis": "x19",
         "y": [
          0,
          0,
          -0.326,
          -0.326,
          0.293,
          0.293,
          2.755,
          2.755,
          4.92,
          4.92
         ],
         "yaxis": "y19"
        },
        {
         "mode": "lines+text",
         "name": "KReO3",
         "text": [
          "",
          "H2O",
          "",
          "OH*",
          "",
          "O*",
          "",
          "OOH*",
          "",
          "O2(g)"
         ],
         "textposition": "bottom center",
         "type": "scatter",
         "x": [
          0,
          1,
          1,
          2,
          2,
          3,
          3,
          4,
          4,
          5
         ],
         "xaxis": "x20",
         "y": [
          0,
          0,
          -1.028,
          -1.028,
          -0.564,
          -0.564,
          2.194,
          2.194,
          4.92,
          4.92
         ],
         "yaxis": "y20"
        },
        {
         "mode": "lines+text",
         "name": "SrRuO3",
         "text": [
          "",
          "H2O",
          "",
          "OH*",
          "",
          "O*",
          "",
          "OOH*",
          "",
          "O2(g)"
         ],
         "textposition": "bottom center",
         "type": "scatter",
         "x": [
          0,
          1,
          1,
          2,
          2,
          3,
          3,
          4,
          4,
          5
         ],
         "xaxis": "x21",
         "y": [
          0,
          0,
          -0.035,
          -0.035,
          0.94,
          0.94,
          3.061,
          3.061,
          4.92,
          4.92
         ],
         "yaxis": "y21"
        },
        {
         "mode": "lines+text",
         "name": "KHfO3",
         "text": [
          "",
          "H2O",
          "",
          "OH*",
          "",
          "O*",
          "",
          "OOH*",
          "",
          "O2(g)"
         ],
         "textposition": "bottom center",
         "type": "scatter",
         "x": [
          0,
          1,
          1,
          2,
          2,
          3,
          3,
          4,
          4,
          5
         ],
         "xaxis": "x22",
         "y": [
          0,
          0,
          1.651,
          1.651,
          4.387,
          4.387,
          4.461,
          4.461,
          4.92,
          4.92
         ],
         "yaxis": "y22"
        },
        {
         "mode": "lines+text",
         "name": "SrVO3",
         "text": [
          "",
          "H2O",
          "",
          "OH*",
          "",
          "O*",
          "",
          "OOH*",
          "",
          "O2(g)"
         ],
         "textposition": "bottom center",
         "type": "scatter",
         "x": [
          0,
          1,
          1,
          2,
          2,
          3,
          3,
          4,
          4,
          5
         ],
         "xaxis": "x23",
         "y": [
          0,
          0,
          -0.486,
          -0.486,
          0.496,
          0.496,
          2.681,
          2.681,
          4.92,
          4.92
         ],
         "yaxis": "y23"
        },
        {
         "mode": "lines+text",
         "name": "KOsO3",
         "text": [
          "",
          "H2O",
          "",
          "OH*",
          "",
          "O*",
          "",
          "OOH*",
          "",
          "O2(g)"
         ],
         "textposition": "bottom center",
         "type": "scatter",
         "x": [
          0,
          1,
          1,
          2,
          2,
          3,
          3,
          4,
          4,
          5
         ],
         "xaxis": "x24",
         "y": [
          0,
          0,
          -0.759,
          -0.759,
          0.679,
          0.679,
          2.457,
          2.457,
          4.92,
          4.92
         ],
         "yaxis": "y24"
        },
        {
         "mode": "lines+text",
         "name": "TaAgO3",
         "text": [
          "",
          "H2O",
          "",
          "OH*",
          "",
          "O*",
          "",
          "OOH*",
          "",
          "O2(g)"
         ],
         "textposition": "bottom center",
         "type": "scatter",
         "x": [
          0,
          1,
          1,
          2,
          2,
          3,
          3,
          4,
          4,
          5
         ],
         "xaxis": "x25",
         "y": [
          0,
          0,
          -1.351,
          -1.351,
          -0.989,
          -0.989,
          2.167,
          2.167,
          4.92,
          4.92
         ],
         "yaxis": "y25"
        },
        {
         "mode": "lines+text",
         "name": "SrNiO3",
         "text": [
          "",
          "H2O",
          "",
          "OH*",
          "",
          "O*",
          "",
          "OOH*",
          "",
          "O2(g)"
         ],
         "textposition": "bottom center",
         "type": "scatter",
         "x": [
          0,
          1,
          1,
          2,
          2,
          3,
          3,
          4,
          4,
          5
         ],
         "xaxis": "x26",
         "y": [
          0,
          0,
          3.179,
          3.179,
          4.417,
          4.417,
          4.296,
          4.296,
          4.92,
          4.92
         ],
         "yaxis": "y26"
        },
        {
         "mode": "lines+text",
         "name": "RbIrO3",
         "text": [
          "",
          "H2O",
          "",
          "OH*",
          "",
          "O*",
          "",
          "OOH*",
          "",
          "O2(g)"
         ],
         "textposition": "bottom center",
         "type": "scatter",
         "x": [
          0,
          1,
          1,
          2,
          2,
          3,
          3,
          4,
          4,
          5
         ],
         "xaxis": "x27",
         "y": [
          0,
          0,
          0.681,
          0.681,
          2.395,
          2.395,
          3.79,
          3.79,
          4.92,
          4.92
         ],
         "yaxis": "y27"
        },
        {
         "mode": "lines+text",
         "name": "NaReO3",
         "text": [
          "",
          "H2O",
          "",
          "OH*",
          "",
          "O*",
          "",
          "OOH*",
          "",
          "O2(g)"
         ],
         "textposition": "bottom center",
         "type": "scatter",
         "x": [
          0,
          1,
          1,
          2,
          2,
          3,
          3,
          4,
          4,
          5
         ],
         "xaxis": "x28",
         "y": [
          0,
          0,
          -1.126,
          -1.126,
          -0.717,
          -0.717,
          2.104,
          2.104,
          4.92,
          4.92
         ],
         "yaxis": "y28"
        },
        {
         "mode": "lines+text",
         "name": "SrMnO3",
         "text": [
          "",
          "H2O",
          "",
          "OH*",
          "",
          "O*",
          "",
          "OOH*",
          "",
          "O2(g)"
         ],
         "textposition": "bottom center",
         "type": "scatter",
         "x": [
          0,
          1,
          1,
          2,
          2,
          3,
          3,
          4,
          4,
          5
         ],
         "xaxis": "x29",
         "y": [
          0,
          0,
          2.253,
          2.253,
          4.628,
          4.628,
          5.164,
          5.164,
          4.92,
          4.92
         ],
         "yaxis": "y29"
        },
        {
         "mode": "lines+text",
         "name": "CaFeO3",
         "text": [
          "",
          "H2O",
          "",
          "OH*",
          "",
          "O*",
          "",
          "OOH*",
          "",
          "O2(g)"
         ],
         "textposition": "bottom center",
         "type": "scatter",
         "x": [
          0,
          1,
          1,
          2,
          2,
          3,
          3,
          4,
          4,
          5
         ],
         "xaxis": "x30",
         "y": [
          0,
          0,
          1.632,
          1.632,
          4.257,
          4.257,
          4.581,
          4.581,
          4.92,
          4.92
         ],
         "yaxis": "y30"
        },
        {
         "mode": "lines+text",
         "name": "SrZrO3",
         "text": [
          "",
          "H2O",
          "",
          "OH*",
          "",
          "O*",
          "",
          "OOH*",
          "",
          "O2(g)"
         ],
         "textposition": "bottom center",
         "type": "scatter",
         "x": [
          0,
          1,
          1,
          2,
          2,
          3,
          3,
          4,
          4,
          5
         ],
         "xaxis": "x31",
         "y": [
          0,
          0,
          0.856,
          0.856,
          4.014,
          4.014,
          4.192,
          4.192,
          4.92,
          4.92
         ],
         "yaxis": "y31"
        },
        {
         "mode": "lines+text",
         "name": "NaWO3",
         "text": [
          "",
          "H2O",
          "",
          "OH*",
          "",
          "O*",
          "",
          "OOH*",
          "",
          "O2(g)"
         ],
         "textposition": "bottom center",
         "type": "scatter",
         "x": [
          0,
          1,
          1,
          2,
          2,
          3,
          3,
          4,
          4,
          5
         ],
         "xaxis": "x32",
         "y": [
          0,
          0,
          "NaN",
          "NaN",
          -1.597,
          -1.597,
          "NaN",
          "NaN",
          4.92,
          4.92
         ],
         "yaxis": "y32"
        },
        {
         "mode": "lines+text",
         "name": "RbTaO3",
         "text": [
          "",
          "H2O",
          "",
          "OH*",
          "",
          "O*",
          "",
          "OOH*",
          "",
          "O2(g)"
         ],
         "textposition": "bottom center",
         "type": "scatter",
         "x": [
          0,
          1,
          1,
          2,
          2,
          3,
          3,
          4,
          4,
          5
         ],
         "xaxis": "x33",
         "y": [
          0,
          0,
          -1.292,
          -1.292,
          -0.637,
          -0.637,
          2.274,
          2.274,
          4.92,
          4.92
         ],
         "yaxis": "y33"
        },
        {
         "mode": "lines+text",
         "name": "SrCoO3",
         "text": [
          "",
          "H2O",
          "",
          "OH*",
          "",
          "O*",
          "",
          "OOH*",
          "",
          "O2(g)"
         ],
         "textposition": "bottom center",
         "type": "scatter",
         "x": [
          0,
          1,
          1,
          2,
          2,
          3,
          3,
          4,
          4,
          5
         ],
         "xaxis": "x34",
         "y": [
          0,
          0,
          0.868,
          0.868,
          3.116,
          3.116,
          3.916,
          3.916,
          4.92,
          4.92
         ],
         "yaxis": "y34"
        },
        {
         "mode": "lines+text",
         "name": "SrTaO3",
         "text": [
          "",
          "H2O",
          "",
          "OH*",
          "",
          "O*",
          "",
          "OOH*",
          "",
          "O2(g)"
         ],
         "textposition": "bottom center",
         "type": "scatter",
         "x": [
          0,
          1,
          1,
          2,
          2,
          3,
          3,
          4,
          4,
          5
         ],
         "xaxis": "x35",
         "y": [
          0,
          0,
          -2.318,
          -2.318,
          -2.803,
          -2.803,
          -5.211,
          -5.211,
          4.92,
          4.92
         ],
         "yaxis": "y35"
        },
        {
         "mode": "lines+text",
         "name": "KZrO3",
         "text": [
          "",
          "H2O",
          "",
          "OH*",
          "",
          "O*",
          "",
          "OOH*",
          "",
          "O2(g)"
         ],
         "textposition": "bottom center",
         "type": "scatter",
         "x": [
          0,
          1,
          1,
          2,
          2,
          3,
          3,
          4,
          4,
          5
         ],
         "xaxis": "x36",
         "y": [
          0,
          0,
          1.712,
          1.712,
          4.496,
          4.496,
          4.48,
          4.48,
          4.92,
          4.92
         ],
         "yaxis": "y36"
        },
        {
         "mode": "lines+text",
         "name": "CaTiO3",
         "text": [
          "",
          "H2O",
          "",
          "OH*",
          "",
          "O*",
          "",
          "OOH*",
          "",
          "O2(g)"
         ],
         "textposition": "bottom center",
         "type": "scatter",
         "x": [
          0,
          1,
          1,
          2,
          2,
          3,
          3,
          4,
          4,
          5
         ],
         "xaxis": "x37",
         "y": [
          0,
          0,
          0.968,
          0.968,
          3.891,
          3.891,
          4.347,
          4.347,
          4.92,
          4.92
         ],
         "yaxis": "y37"
        },
        {
         "mode": "lines+text",
         "name": "NaRuO3",
         "text": [
          "",
          "H2O",
          "",
          "OH*",
          "",
          "O*",
          "",
          "OOH*",
          "",
          "O2(g)"
         ],
         "textposition": "bottom center",
         "type": "scatter",
         "x": [
          0,
          1,
          1,
          2,
          2,
          3,
          3,
          4,
          4,
          5
         ],
         "xaxis": "x38",
         "y": [
          0,
          0,
          0.451,
          0.451,
          1.851,
          1.851,
          3.459,
          3.459,
          4.92,
          4.92
         ],
         "yaxis": "y38"
        },
        {
         "mode": "lines+text",
         "name": "LiTcO3",
         "text": [
          "",
          "H2O",
          "",
          "OH*",
          "",
          "O*",
          "",
          "OOH*",
          "",
          "O2(g)"
         ],
         "textposition": "bottom center",
         "type": "scatter",
         "x": [
          0,
          1,
          1,
          2,
          2,
          3,
          3,
          4,
          4,
          5
         ],
         "xaxis": "x39",
         "y": [
          0,
          0,
          -0.143,
          -0.143,
          0.601,
          0.601,
          3.006,
          3.006,
          4.92,
          4.92
         ],
         "yaxis": "y39"
        },
        {
         "mode": "lines+text",
         "name": "SrPdO3",
         "text": [
          "",
          "H2O",
          "",
          "OH*",
          "",
          "O*",
          "",
          "OOH*",
          "",
          "O2(g)"
         ],
         "textposition": "bottom center",
         "type": "scatter",
         "x": [
          0,
          1,
          1,
          2,
          2,
          3,
          3,
          4,
          4,
          5
         ],
         "xaxis": "x40",
         "y": [
          0,
          0,
          0.604,
          0.604,
          3.156,
          3.156,
          3.396,
          3.396,
          4.92,
          4.92
         ],
         "yaxis": "y40"
        },
        {
         "mode": "lines+text",
         "name": "KWO3",
         "text": [
          "",
          "H2O",
          "",
          "OH*",
          "",
          "O*",
          "",
          "OOH*",
          "",
          "O2(g)"
         ],
         "textposition": "bottom center",
         "type": "scatter",
         "x": [
          0,
          1,
          1,
          2,
          2,
          3,
          3,
          4,
          4,
          5
         ],
         "xaxis": "x41",
         "y": [
          0,
          0,
          -1.419,
          -1.419,
          -1.22,
          -1.22,
          1.722,
          1.722,
          4.92,
          4.92
         ],
         "yaxis": "y41"
        },
        {
         "mode": "lines+text",
         "name": "KRhO3",
         "text": [
          "",
          "H2O",
          "",
          "OH*",
          "",
          "O*",
          "",
          "OOH*",
          "",
          "O2(g)"
         ],
         "textposition": "bottom center",
         "type": "scatter",
         "x": [
          0,
          1,
          1,
          2,
          2,
          3,
          3,
          4,
          4,
          5
         ],
         "xaxis": "x42",
         "y": [
          0,
          0,
          1.273,
          1.273,
          3.301,
          3.301,
          4.159,
          4.159,
          4.92,
          4.92
         ],
         "yaxis": "y42"
        },
        {
         "mode": "lines+text",
         "name": "BaCuO3",
         "text": [
          "",
          "H2O",
          "",
          "OH*",
          "",
          "O*",
          "",
          "OOH*",
          "",
          "O2(g)"
         ],
         "textposition": "bottom center",
         "type": "scatter",
         "x": [
          0,
          1,
          1,
          2,
          2,
          3,
          3,
          4,
          4,
          5
         ],
         "xaxis": "x43",
         "y": [
          0,
          0,
          1.526,
          1.526,
          3.93,
          3.93,
          4.41,
          4.41,
          4.92,
          4.92
         ],
         "yaxis": "y43"
        },
        {
         "mode": "lines+text",
         "name": "RbNbO3",
         "text": [
          "",
          "H2O",
          "",
          "OH*",
          "",
          "O*",
          "",
          "OOH*",
          "",
          "O2(g)"
         ],
         "textposition": "bottom center",
         "type": "scatter",
         "x": [
          0,
          1,
          1,
          2,
          2,
          3,
          3,
          4,
          4,
          5
         ],
         "xaxis": "x44",
         "y": [
          0,
          0,
          -0.639,
          -0.639,
          0.262,
          0.262,
          2.842,
          2.842,
          4.92,
          4.92
         ],
         "yaxis": "y44"
        },
        {
         "mode": "lines+text",
         "name": "BaOsO3",
         "text": [
          "",
          "H2O",
          "",
          "OH*",
          "",
          "O*",
          "",
          "OOH*",
          "",
          "O2(g)"
         ],
         "textposition": "bottom center",
         "type": "scatter",
         "x": [
          0,
          1,
          1,
          2,
          2,
          3,
          3,
          4,
          4,
          5
         ],
         "xaxis": "x45",
         "y": [
          0,
          0,
          -1.779,
          -1.779,
          -0.748,
          -0.748,
          1.796,
          1.796,
          4.92,
          4.92
         ],
         "yaxis": "y45"
        },
        {
         "mode": "lines+text",
         "name": "BaRuO3",
         "text": [
          "",
          "H2O",
          "",
          "OH*",
          "",
          "O*",
          "",
          "OOH*",
          "",
          "O2(g)"
         ],
         "textposition": "bottom center",
         "type": "scatter",
         "x": [
          0,
          1,
          1,
          2,
          2,
          3,
          3,
          4,
          4,
          5
         ],
         "xaxis": "x46",
         "y": [
          0,
          0,
          0.151,
          0.151,
          1.283,
          1.283,
          3.168,
          3.168,
          4.92,
          4.92
         ],
         "yaxis": "y46"
        },
        {
         "mode": "lines+text",
         "name": "KRuO3",
         "text": [
          "",
          "H2O",
          "",
          "OH*",
          "",
          "O*",
          "",
          "OOH*",
          "",
          "O2(g)"
         ],
         "textposition": "bottom center",
         "type": "scatter",
         "x": [
          0,
          1,
          1,
          2,
          2,
          3,
          3,
          4,
          4,
          5
         ],
         "xaxis": "x47",
         "y": [
          0,
          0,
          0.535,
          0.535,
          1.986,
          1.986,
          3.627,
          3.627,
          4.92,
          4.92
         ],
         "yaxis": "y47"
        },
        {
         "mode": "lines+text",
         "name": "SrMoO3",
         "text": [
          "",
          "H2O",
          "",
          "OH*",
          "",
          "O*",
          "",
          "OOH*",
          "",
          "O2(g)"
         ],
         "textposition": "bottom center",
         "type": "scatter",
         "x": [
          0,
          1,
          1,
          2,
          2,
          3,
          3,
          4,
          4,
          5
         ],
         "xaxis": "x48",
         "y": [
          0,
          0,
          -1.425,
          -1.425,
          -1.395,
          -1.395,
          1.871,
          1.871,
          4.92,
          4.92
         ],
         "yaxis": "y48"
        },
        {
         "mode": "lines+text",
         "name": "NaTiO3",
         "text": [
          "",
          "H2O",
          "",
          "OH*",
          "",
          "O*",
          "",
          "OOH*",
          "",
          "O2(g)"
         ],
         "textposition": "bottom center",
         "type": "scatter",
         "x": [
          0,
          1,
          1,
          2,
          2,
          3,
          3,
          4,
          4,
          5
         ],
         "xaxis": "x49",
         "y": [
          0,
          0,
          1.91,
          1.91,
          4.548,
          4.548,
          4.573,
          4.573,
          4.92,
          4.92
         ],
         "yaxis": "y49"
        },
        {
         "mode": "lines+text",
         "name": "SrScO3",
         "text": [
          "",
          "H2O",
          "",
          "OH*",
          "",
          "O*",
          "",
          "OOH*",
          "",
          "O2(g)"
         ],
         "textposition": "bottom center",
         "type": "scatter",
         "x": [
          0,
          1,
          1,
          2,
          2,
          3,
          3,
          4,
          4,
          5
         ],
         "xaxis": "x50",
         "y": [
          0,
          0,
          1.851,
          1.851,
          4.657,
          4.657,
          4.618,
          4.618,
          4.92,
          4.92
         ],
         "yaxis": "y50"
        },
        {
         "mode": "lines+text",
         "name": "RbOsO3",
         "text": [
          "",
          "H2O",
          "",
          "OH*",
          "",
          "O*",
          "",
          "OOH*",
          "",
          "O2(g)"
         ],
         "textposition": "bottom center",
         "type": "scatter",
         "x": [
          0,
          1,
          1,
          2,
          2,
          3,
          3,
          4,
          4,
          5
         ],
         "xaxis": "x51",
         "y": [
          0,
          0,
          -0.225,
          -0.225,
          "NaN",
          "NaN",
          2.427,
          2.427,
          4.92,
          4.92
         ],
         "yaxis": "y51"
        },
        {
         "mode": "lines+text",
         "name": "SrRhO3",
         "text": [
          "",
          "H2O",
          "",
          "OH*",
          "",
          "O*",
          "",
          "OOH*",
          "",
          "O2(g)"
         ],
         "textposition": "bottom center",
         "type": "scatter",
         "x": [
          0,
          1,
          1,
          2,
          2,
          3,
          3,
          4,
          4,
          5
         ],
         "xaxis": "x52",
         "y": [
          0,
          0,
          0.204,
          0.204,
          2.131,
          2.131,
          3.151,
          3.151,
          4.92,
          4.92
         ],
         "yaxis": "y52"
        },
        {
         "mode": "lines+text",
         "name": "NaMoO3",
         "text": [
          "",
          "H2O",
          "",
          "OH*",
          "",
          "O*",
          "",
          "OOH*",
          "",
          "O2(g)"
         ],
         "textposition": "bottom center",
         "type": "scatter",
         "x": [
          0,
          1,
          1,
          2,
          2,
          3,
          3,
          4,
          4,
          5
         ],
         "xaxis": "x53",
         "y": [
          0,
          0,
          -0.71,
          -0.71,
          -0.685,
          -0.685,
          2.279,
          2.279,
          4.92,
          4.92
         ],
         "yaxis": "y53"
        },
        {
         "mode": "lines+text",
         "name": "SrOsO3",
         "text": [
          "",
          "H2O",
          "",
          "OH*",
          "",
          "O*",
          "",
          "OOH*",
          "",
          "O2(g)"
         ],
         "textposition": "bottom center",
         "type": "scatter",
         "x": [
          0,
          1,
          1,
          2,
          2,
          3,
          3,
          4,
          4,
          5
         ],
         "xaxis": "x54",
         "y": [
          0,
          0,
          -0.842,
          -0.842,
          "NaN",
          "NaN",
          "NaN",
          "NaN",
          4.92,
          4.92
         ],
         "yaxis": "y54"
        },
        {
         "mode": "lines+text",
         "name": "BaRhO3",
         "text": [
          "",
          "H2O",
          "",
          "OH*",
          "",
          "O*",
          "",
          "OOH*",
          "",
          "O2(g)"
         ],
         "textposition": "bottom center",
         "type": "scatter",
         "x": [
          0,
          1,
          1,
          2,
          2,
          3,
          3,
          4,
          4,
          5
         ],
         "xaxis": "x55",
         "y": [
          0,
          0,
          0.791,
          0.791,
          2.441,
          2.441,
          3.77,
          3.77,
          4.92,
          4.92
         ],
         "yaxis": "y55"
        },
        {
         "mode": "lines+text",
         "name": "BaPtO3",
         "text": [
          "",
          "H2O",
          "",
          "OH*",
          "",
          "O*",
          "",
          "OOH*",
          "",
          "O2(g)"
         ],
         "textposition": "bottom center",
         "type": "scatter",
         "x": [
          0,
          1,
          1,
          2,
          2,
          3,
          3,
          4,
          4,
          5
         ],
         "xaxis": "x56",
         "y": [
          0,
          0,
          0.806,
          0.806,
          2.54,
          2.54,
          3.814,
          3.814,
          4.92,
          4.92
         ],
         "yaxis": "y56"
        },
        {
         "mode": "lines+text",
         "name": "CaVO3",
         "text": [
          "",
          "H2O",
          "",
          "OH*",
          "",
          "O*",
          "",
          "OOH*",
          "",
          "O2(g)"
         ],
         "textposition": "bottom center",
         "type": "scatter",
         "x": [
          0,
          1,
          1,
          2,
          2,
          3,
          3,
          4,
          4,
          5
         ],
         "xaxis": "x57",
         "y": [
          0,
          0,
          -0.476,
          -0.476,
          0.369,
          0.369,
          3.031,
          3.031,
          4.92,
          4.92
         ],
         "yaxis": "y57"
        },
        {
         "mode": "lines+text",
         "name": "KMoO3",
         "text": [
          "",
          "H2O",
          "",
          "OH*",
          "",
          "O*",
          "",
          "OOH*",
          "",
          "O2(g)"
         ],
         "textposition": "bottom center",
         "type": "scatter",
         "x": [
          0,
          1,
          1,
          2,
          2,
          3,
          3,
          4,
          4,
          5
         ],
         "xaxis": "x58",
         "y": [
          0,
          0,
          -0.853,
          -0.853,
          -0.432,
          -0.432,
          2.287,
          2.287,
          4.92,
          4.92
         ],
         "yaxis": "y58"
        },
        {
         "mode": "lines+text",
         "name": "SrCrO3",
         "text": [
          "",
          "H2O",
          "",
          "OH*",
          "",
          "O*",
          "",
          "OOH*",
          "",
          "O2(g)"
         ],
         "textposition": "bottom center",
         "type": "scatter",
         "x": [
          0,
          1,
          1,
          2,
          2,
          3,
          3,
          4,
          4,
          5
         ],
         "xaxis": "x59",
         "y": [
          0,
          0,
          0.351,
          0.351,
          2.026,
          2.026,
          3.484,
          3.484,
          4.92,
          4.92
         ],
         "yaxis": "y59"
        },
        {
         "mode": "lines+text",
         "name": "SrAgO3",
         "text": [
          "",
          "H2O",
          "",
          "OH*",
          "",
          "O*",
          "",
          "OOH*",
          "",
          "O2(g)"
         ],
         "textposition": "bottom center",
         "type": "scatter",
         "x": [
          0,
          1,
          1,
          2,
          2,
          3,
          3,
          4,
          4,
          5
         ],
         "xaxis": "x60",
         "y": [
          0,
          0,
          1.608,
          1.608,
          4.27,
          4.27,
          2.388,
          2.388,
          4.92,
          4.92
         ],
         "yaxis": "y60"
        },
        {
         "mode": "lines+text",
         "name": "RbRhO3",
         "text": [
          "",
          "H2O",
          "",
          "OH*",
          "",
          "O*",
          "",
          "OOH*",
          "",
          "O2(g)"
         ],
         "textposition": "bottom center",
         "type": "scatter",
         "x": [
          0,
          1,
          1,
          2,
          2,
          3,
          3,
          4,
          4,
          5
         ],
         "xaxis": "x61",
         "y": [
          0,
          0,
          0.995,
          0.995,
          3.18,
          3.18,
          3.724,
          3.724,
          4.92,
          4.92
         ],
         "yaxis": "y61"
        },
        {
         "mode": "lines+text",
         "name": "BaVO3",
         "text": [
          "",
          "H2O",
          "",
          "OH*",
          "",
          "O*",
          "",
          "OOH*",
          "",
          "O2(g)"
         ],
         "textposition": "bottom center",
         "type": "scatter",
         "x": [
          0,
          1,
          1,
          2,
          2,
          3,
          3,
          4,
          4,
          5
         ],
         "xaxis": "x62",
         "y": [
          0,
          0,
          -0.769,
          -0.769,
          0.484,
          0.484,
          3.021,
          3.021,
          4.92,
          4.92
         ],
         "yaxis": "y62"
        },
        {
         "mode": "lines+text",
         "name": "CaCoO3",
         "text": [
          "",
          "H2O",
          "",
          "OH*",
          "",
          "O*",
          "",
          "OOH*",
          "",
          "O2(g)"
         ],
         "textposition": "bottom center",
         "type": "scatter",
         "x": [
          0,
          1,
          1,
          2,
          2,
          3,
          3,
          4,
          4,
          5
         ],
         "xaxis": "x63",
         "y": [
          0,
          0,
          1.341,
          1.341,
          3.405,
          3.405,
          4.338,
          4.338,
          4.92,
          4.92
         ],
         "yaxis": "y63"
        },
        {
         "mode": "lines+text",
         "name": "CaMnO3",
         "text": [
          "",
          "H2O",
          "",
          "OH*",
          "",
          "O*",
          "",
          "OOH*",
          "",
          "O2(g)"
         ],
         "textposition": "bottom center",
         "type": "scatter",
         "x": [
          0,
          1,
          1,
          2,
          2,
          3,
          3,
          4,
          4,
          5
         ],
         "xaxis": "x64",
         "y": [
          0,
          0,
          1.113,
          1.113,
          4.269,
          4.269,
          4.622,
          4.622,
          4.92,
          4.92
         ],
         "yaxis": "y64"
        },
        {
         "mode": "lines+text",
         "name": "KPtO3",
         "text": [
          "",
          "H2O",
          "",
          "OH*",
          "",
          "O*",
          "",
          "OOH*",
          "",
          "O2(g)"
         ],
         "textposition": "bottom center",
         "type": "scatter",
         "x": [
          0,
          1,
          1,
          2,
          2,
          3,
          3,
          4,
          4,
          5
         ],
         "xaxis": "x65",
         "y": [
          0,
          0,
          0.997,
          0.997,
          2.928,
          2.928,
          3.935,
          3.935,
          4.92,
          4.92
         ],
         "yaxis": "y65"
        },
        {
         "mode": "lines+text",
         "name": "BaNiO3",
         "text": [
          "",
          "H2O",
          "",
          "OH*",
          "",
          "O*",
          "",
          "OOH*",
          "",
          "O2(g)"
         ],
         "textposition": "bottom center",
         "type": "scatter",
         "x": [
          0,
          1,
          1,
          2,
          2,
          3,
          3,
          4,
          4,
          5
         ],
         "xaxis": "x66",
         "y": [
          0,
          0,
          1.972,
          1.972,
          4.39,
          4.39,
          4.598,
          4.598,
          4.92,
          4.92
         ],
         "yaxis": "y66"
        },
        {
         "mode": "lines+text",
         "name": "BaMnO3",
         "text": [
          "",
          "H2O",
          "",
          "OH*",
          "",
          "O*",
          "",
          "OOH*",
          "",
          "O2(g)"
         ],
         "textposition": "bottom center",
         "type": "scatter",
         "x": [
          0,
          1,
          1,
          2,
          2,
          3,
          3,
          4,
          4,
          5
         ],
         "xaxis": "x67",
         "y": [
          0,
          0,
          1.36,
          1.36,
          2.923,
          2.923,
          4.569,
          4.569,
          4.92,
          4.92
         ],
         "yaxis": "y67"
        },
        {
         "mode": "lines+text",
         "name": "SrReO3",
         "text": [
          "",
          "H2O",
          "",
          "OH*",
          "",
          "O*",
          "",
          "OOH*",
          "",
          "O2(g)"
         ],
         "textposition": "bottom center",
         "type": "scatter",
         "x": [
          0,
          1,
          1,
          2,
          2,
          3,
          3,
          4,
          4,
          5
         ],
         "xaxis": "x68",
         "y": [
          0,
          0,
          -1.576,
          -1.576,
          -1.298,
          -1.298,
          -2.934,
          -2.934,
          4.92,
          4.92
         ],
         "yaxis": "y68"
        },
        {
         "mode": "lines+text",
         "name": "BaReO3",
         "text": [
          "",
          "H2O",
          "",
          "OH*",
          "",
          "O*",
          "",
          "OOH*",
          "",
          "O2(g)"
         ],
         "textposition": "bottom center",
         "type": "scatter",
         "x": [
          0,
          1,
          1,
          2,
          2,
          3,
          3,
          4,
          4,
          5
         ],
         "xaxis": "x69",
         "y": [
          0,
          0,
          -1.07,
          -1.07,
          -1.149,
          -1.149,
          -2.258,
          -2.258,
          4.92,
          4.92
         ],
         "yaxis": "y69"
        },
        {
         "mode": "lines+text",
         "name": "SrIrO3",
         "text": [
          "",
          "H2O",
          "",
          "OH*",
          "",
          "O*",
          "",
          "OOH*",
          "",
          "O2(g)"
         ],
         "textposition": "bottom center",
         "type": "scatter",
         "x": [
          0,
          1,
          1,
          2,
          2,
          3,
          3,
          4,
          4,
          5
         ],
         "xaxis": "x70",
         "y": [
          0,
          0,
          0.129,
          0.129,
          1.653,
          1.653,
          3.201,
          3.201,
          4.92,
          4.92
         ],
         "yaxis": "y70"
        },
        {
         "mode": "lines+text",
         "name": "NaVO3",
         "text": [
          "",
          "H2O",
          "",
          "OH*",
          "",
          "O*",
          "",
          "OOH*",
          "",
          "O2(g)"
         ],
         "textposition": "bottom center",
         "type": "scatter",
         "x": [
          0,
          1,
          1,
          2,
          2,
          3,
          3,
          4,
          4,
          5
         ],
         "xaxis": "x71",
         "y": [
          0,
          0,
          0.225,
          0.225,
          1.723,
          1.723,
          3.566,
          3.566,
          4.92,
          4.92
         ],
         "yaxis": "y71"
        },
        {
         "mode": "lines+text",
         "name": "NaFeO3",
         "text": [
          "",
          "H2O",
          "",
          "OH*",
          "",
          "O*",
          "",
          "OOH*",
          "",
          "O2(g)"
         ],
         "textposition": "bottom center",
         "type": "scatter",
         "x": [
          0,
          1,
          1,
          2,
          2,
          3,
          3,
          4,
          4,
          5
         ],
         "xaxis": "x72",
         "y": [
          0,
          0,
          2.03,
          2.03,
          4.605,
          4.605,
          4.683,
          4.683,
          4.92,
          4.92
         ],
         "yaxis": "y72"
        },
        {
         "mode": "lines+text",
         "name": "BaIrO3",
         "text": [
          "",
          "H2O",
          "",
          "OH*",
          "",
          "O*",
          "",
          "OOH*",
          "",
          "O2(g)"
         ],
         "textposition": "bottom center",
         "type": "scatter",
         "x": [
          0,
          1,
          1,
          2,
          2,
          3,
          3,
          4,
          4,
          5
         ],
         "xaxis": "x73",
         "y": [
          0,
          0,
          0.351,
          0.351,
          1.969,
          1.969,
          3.483,
          3.483,
          4.92,
          4.92
         ],
         "yaxis": "y73"
        },
        {
         "mode": "lines+text",
         "name": "RbReO3",
         "text": [
          "",
          "H2O",
          "",
          "OH*",
          "",
          "O*",
          "",
          "OOH*",
          "",
          "O2(g)"
         ],
         "textposition": "bottom center",
         "type": "scatter",
         "x": [
          0,
          1,
          1,
          2,
          2,
          3,
          3,
          4,
          4,
          5
         ],
         "xaxis": "x74",
         "y": [
          0,
          0,
          -0.973,
          -0.973,
          -0.512,
          -0.512,
          2.236,
          2.236,
          4.92,
          4.92
         ],
         "yaxis": "y74"
        },
        {
         "mode": "lines+text",
         "name": "CaRuO3",
         "text": [
          "",
          "H2O",
          "",
          "OH*",
          "",
          "O*",
          "",
          "OOH*",
          "",
          "O2(g)"
         ],
         "textposition": "bottom center",
         "type": "scatter",
         "x": [
          0,
          1,
          1,
          2,
          2,
          3,
          3,
          4,
          4,
          5
         ],
         "xaxis": "x75",
         "y": [
          0,
          0,
          -0.658,
          -0.658,
          0.66,
          0.66,
          2.169,
          2.169,
          4.92,
          4.92
         ],
         "yaxis": "y75"
        },
        {
         "mode": "lines+text",
         "name": "RbPdO3",
         "text": [
          "",
          "H2O",
          "",
          "OH*",
          "",
          "O*",
          "",
          "OOH*",
          "",
          "O2(g)"
         ],
         "textposition": "bottom center",
         "type": "scatter",
         "x": [
          0,
          1,
          1,
          2,
          2,
          3,
          3,
          4,
          4,
          5
         ],
         "xaxis": "x76",
         "y": [
          0,
          0,
          1.018,
          1.018,
          3.163,
          3.163,
          3.886,
          3.886,
          4.92,
          4.92
         ],
         "yaxis": "y76"
        },
        {
         "mode": "lines+text",
         "name": "CaHfO3",
         "text": [
          "",
          "H2O",
          "",
          "OH*",
          "",
          "O*",
          "",
          "OOH*",
          "",
          "O2(g)"
         ],
         "textposition": "bottom center",
         "type": "scatter",
         "x": [
          0,
          1,
          1,
          2,
          2,
          3,
          3,
          4,
          4,
          5
         ],
         "xaxis": "x77",
         "y": [
          0,
          0,
          0.324,
          0.324,
          3.622,
          3.622,
          3.515,
          3.515,
          4.92,
          4.92
         ],
         "yaxis": "y77"
        },
        {
         "mode": "lines+text",
         "name": "TlWO3",
         "text": [
          "",
          "H2O",
          "",
          "OH*",
          "",
          "O*",
          "",
          "OOH*",
          "",
          "O2(g)"
         ],
         "textposition": "bottom center",
         "type": "scatter",
         "x": [
          0,
          1,
          1,
          2,
          2,
          3,
          3,
          4,
          4,
          5
         ],
         "xaxis": "x78",
         "y": [
          0,
          0,
          -1.702,
          -1.702,
          -0.924,
          -0.924,
          1.812,
          1.812,
          4.92,
          4.92
         ],
         "yaxis": "y78"
        },
        {
         "mode": "lines+text",
         "name": "RbWO3",
         "text": [
          "",
          "H2O",
          "",
          "OH*",
          "",
          "O*",
          "",
          "OOH*",
          "",
          "O2(g)"
         ],
         "textposition": "bottom center",
         "type": "scatter",
         "x": [
          0,
          1,
          1,
          2,
          2,
          3,
          3,
          4,
          4,
          5
         ],
         "xaxis": "x79",
         "y": [
          0,
          0,
          -1.41,
          -1.41,
          -1.076,
          -1.076,
          2.254,
          2.254,
          4.92,
          4.92
         ],
         "yaxis": "y79"
        },
        {
         "mode": "lines+text",
         "name": "RbPtO3",
         "text": [
          "",
          "H2O",
          "",
          "OH*",
          "",
          "O*",
          "",
          "OOH*",
          "",
          "O2(g)"
         ],
         "textposition": "bottom center",
         "type": "scatter",
         "x": [
          0,
          1,
          1,
          2,
          2,
          3,
          3,
          4,
          4,
          5
         ],
         "xaxis": "x80",
         "y": [
          0,
          0,
          0.739,
          0.739,
          2.707,
          2.707,
          3.675,
          3.675,
          4.92,
          4.92
         ],
         "yaxis": "y80"
        }
       ],
       "layout": {
        "annotations": [
         {
          "font": {
           "size": 16
          },
          "showarrow": false,
          "text": "SrTcO3",
          "x": 0.5,
          "xanchor": "center",
          "xref": "paper",
          "y": 1.0000000000000004,
          "yanchor": "bottom",
          "yref": "paper"
         },
         {
          "font": {
           "size": 16
          },
          "showarrow": false,
          "text": "BaFeO3",
          "x": 0.5,
          "xanchor": "center",
          "xref": "paper",
          "y": 0.9874218750000006,
          "yanchor": "bottom",
          "yref": "paper"
         },
         {
          "font": {
           "size": 16
          },
          "showarrow": false,
          "text": "BaMoO3",
          "x": 0.5,
          "xanchor": "center",
          "xref": "paper",
          "y": 0.9748437500000005,
          "yanchor": "bottom",
          "yref": "paper"
         },
         {
          "font": {
           "size": 16
          },
          "showarrow": false,
          "text": "KTaO3",
          "x": 0.5,
          "xanchor": "center",
          "xref": "paper",
          "y": 0.9622656250000006,
          "yanchor": "bottom",
          "yref": "paper"
         },
         {
          "font": {
           "size": 16
          },
          "showarrow": false,
          "text": "BaZrO3",
          "x": 0.5,
          "xanchor": "center",
          "xref": "paper",
          "y": 0.9496875000000005,
          "yanchor": "bottom",
          "yref": "paper"
         },
         {
          "font": {
           "size": 16
          },
          "showarrow": false,
          "text": "SrFeO3",
          "x": 0.5,
          "xanchor": "center",
          "xref": "paper",
          "y": 0.9371093750000005,
          "yanchor": "bottom",
          "yref": "paper"
         },
         {
          "font": {
           "size": 16
          },
          "showarrow": false,
          "text": "KTcO3",
          "x": 0.5,
          "xanchor": "center",
          "xref": "paper",
          "y": 0.9245312500000005,
          "yanchor": "bottom",
          "yref": "paper"
         },
         {
          "font": {
           "size": 16
          },
          "showarrow": false,
          "text": "NaTcO3",
          "x": 0.5,
          "xanchor": "center",
          "xref": "paper",
          "y": 0.9119531250000004,
          "yanchor": "bottom",
          "yref": "paper"
         },
         {
          "font": {
           "size": 16
          },
          "showarrow": false,
          "text": "BaHfO3",
          "x": 0.5,
          "xanchor": "center",
          "xref": "paper",
          "y": 0.8993750000000005,
          "yanchor": "bottom",
          "yref": "paper"
         },
         {
          "font": {
           "size": 16
          },
          "showarrow": false,
          "text": "SrTiO3",
          "x": 0.5,
          "xanchor": "center",
          "xref": "paper",
          "y": 0.8867968750000004,
          "yanchor": "bottom",
          "yref": "paper"
         },
         {
          "font": {
           "size": 16
          },
          "showarrow": false,
          "text": "SrCuO3",
          "x": 0.5,
          "xanchor": "center",
          "xref": "paper",
          "y": 0.8742187500000004,
          "yanchor": "bottom",
          "yref": "paper"
         },
         {
          "font": {
           "size": 16
          },
          "showarrow": false,
          "text": "KNbO3",
          "x": 0.5,
          "xanchor": "center",
          "xref": "paper",
          "y": 0.8616406250000004,
          "yanchor": "bottom",
          "yref": "paper"
         },
         {
          "font": {
           "size": 16
          },
          "showarrow": false,
          "text": "NaTaO3",
          "x": 0.5,
          "xanchor": "center",
          "xref": "paper",
          "y": 0.8490625000000003,
          "yanchor": "bottom",
          "yref": "paper"
         },
         {
          "font": {
           "size": 16
          },
          "showarrow": false,
          "text": "BaScO3",
          "x": 0.5,
          "xanchor": "center",
          "xref": "paper",
          "y": 0.8364843750000004,
          "yanchor": "bottom",
          "yref": "paper"
         },
         {
          "font": {
           "size": 16
          },
          "showarrow": false,
          "text": "BaPdO3",
          "x": 0.5,
          "xanchor": "center",
          "xref": "paper",
          "y": 0.8239062500000003,
          "yanchor": "bottom",
          "yref": "paper"
         },
         {
          "font": {
           "size": 16
          },
          "showarrow": false,
          "text": "BaTaO3",
          "x": 0.5,
          "xanchor": "center",
          "xref": "paper",
          "y": 0.8113281250000003,
          "yanchor": "bottom",
          "yref": "paper"
         },
         {
          "font": {
           "size": 16
          },
          "showarrow": false,
          "text": "SrHfO3",
          "x": 0.5,
          "xanchor": "center",
          "xref": "paper",
          "y": 0.7987500000000003,
          "yanchor": "bottom",
          "yref": "paper"
         },
         {
          "font": {
           "size": 16
          },
          "showarrow": false,
          "text": "NaOsO3",
          "x": 0.5,
          "xanchor": "center",
          "xref": "paper",
          "y": 0.7861718750000002,
          "yanchor": "bottom",
          "yref": "paper"
         },
         {
          "font": {
           "size": 16
          },
          "showarrow": false,
          "text": "TlTcO3",
          "x": 0.5,
          "xanchor": "center",
          "xref": "paper",
          "y": 0.7735937500000003,
          "yanchor": "bottom",
          "yref": "paper"
         },
         {
          "font": {
           "size": 16
          },
          "showarrow": false,
          "text": "KReO3",
          "x": 0.5,
          "xanchor": "center",
          "xref": "paper",
          "y": 0.7610156250000002,
          "yanchor": "bottom",
          "yref": "paper"
         },
         {
          "font": {
           "size": 16
          },
          "showarrow": false,
          "text": "SrRuO3",
          "x": 0.5,
          "xanchor": "center",
          "xref": "paper",
          "y": 0.7484375000000002,
          "yanchor": "bottom",
          "yref": "paper"
         },
         {
          "font": {
           "size": 16
          },
          "showarrow": false,
          "text": "KHfO3",
          "x": 0.5,
          "xanchor": "center",
          "xref": "paper",
          "y": 0.7358593750000002,
          "yanchor": "bottom",
          "yref": "paper"
         },
         {
          "font": {
           "size": 16
          },
          "showarrow": false,
          "text": "SrVO3",
          "x": 0.5,
          "xanchor": "center",
          "xref": "paper",
          "y": 0.7232812500000001,
          "yanchor": "bottom",
          "yref": "paper"
         },
         {
          "font": {
           "size": 16
          },
          "showarrow": false,
          "text": "KOsO3",
          "x": 0.5,
          "xanchor": "center",
          "xref": "paper",
          "y": 0.7107031250000002,
          "yanchor": "bottom",
          "yref": "paper"
         },
         {
          "font": {
           "size": 16
          },
          "showarrow": false,
          "text": "TaAgO3",
          "x": 0.5,
          "xanchor": "center",
          "xref": "paper",
          "y": 0.6981250000000001,
          "yanchor": "bottom",
          "yref": "paper"
         },
         {
          "font": {
           "size": 16
          },
          "showarrow": false,
          "text": "SrNiO3",
          "x": 0.5,
          "xanchor": "center",
          "xref": "paper",
          "y": 0.6855468750000001,
          "yanchor": "bottom",
          "yref": "paper"
         },
         {
          "font": {
           "size": 16
          },
          "showarrow": false,
          "text": "RbIrO3",
          "x": 0.5,
          "xanchor": "center",
          "xref": "paper",
          "y": 0.6729687500000001,
          "yanchor": "bottom",
          "yref": "paper"
         },
         {
          "font": {
           "size": 16
          },
          "showarrow": false,
          "text": "NaReO3",
          "x": 0.5,
          "xanchor": "center",
          "xref": "paper",
          "y": 0.660390625,
          "yanchor": "bottom",
          "yref": "paper"
         },
         {
          "font": {
           "size": 16
          },
          "showarrow": false,
          "text": "SrMnO3",
          "x": 0.5,
          "xanchor": "center",
          "xref": "paper",
          "y": 0.6478125000000001,
          "yanchor": "bottom",
          "yref": "paper"
         },
         {
          "font": {
           "size": 16
          },
          "showarrow": false,
          "text": "CaFeO3",
          "x": 0.5,
          "xanchor": "center",
          "xref": "paper",
          "y": 0.635234375,
          "yanchor": "bottom",
          "yref": "paper"
         },
         {
          "font": {
           "size": 16
          },
          "showarrow": false,
          "text": "SrZrO3",
          "x": 0.5,
          "xanchor": "center",
          "xref": "paper",
          "y": 0.62265625,
          "yanchor": "bottom",
          "yref": "paper"
         },
         {
          "font": {
           "size": 16
          },
          "showarrow": false,
          "text": "NaWO3",
          "x": 0.5,
          "xanchor": "center",
          "xref": "paper",
          "y": 0.610078125,
          "yanchor": "bottom",
          "yref": "paper"
         },
         {
          "font": {
           "size": 16
          },
          "showarrow": false,
          "text": "RbTaO3",
          "x": 0.5,
          "xanchor": "center",
          "xref": "paper",
          "y": 0.5974999999999999,
          "yanchor": "bottom",
          "yref": "paper"
         },
         {
          "font": {
           "size": 16
          },
          "showarrow": false,
          "text": "SrCoO3",
          "x": 0.5,
          "xanchor": "center",
          "xref": "paper",
          "y": 0.584921875,
          "yanchor": "bottom",
          "yref": "paper"
         },
         {
          "font": {
           "size": 16
          },
          "showarrow": false,
          "text": "SrTaO3",
          "x": 0.5,
          "xanchor": "center",
          "xref": "paper",
          "y": 0.5723437499999999,
          "yanchor": "bottom",
          "yref": "paper"
         },
         {
          "font": {
           "size": 16
          },
          "showarrow": false,
          "text": "KZrO3",
          "x": 0.5,
          "xanchor": "center",
          "xref": "paper",
          "y": 0.5597656249999999,
          "yanchor": "bottom",
          "yref": "paper"
         },
         {
          "font": {
           "size": 16
          },
          "showarrow": false,
          "text": "CaTiO3",
          "x": 0.5,
          "xanchor": "center",
          "xref": "paper",
          "y": 0.5471874999999999,
          "yanchor": "bottom",
          "yref": "paper"
         },
         {
          "font": {
           "size": 16
          },
          "showarrow": false,
          "text": "NaRuO3",
          "x": 0.5,
          "xanchor": "center",
          "xref": "paper",
          "y": 0.5346093749999998,
          "yanchor": "bottom",
          "yref": "paper"
         },
         {
          "font": {
           "size": 16
          },
          "showarrow": false,
          "text": "LiTcO3",
          "x": 0.5,
          "xanchor": "center",
          "xref": "paper",
          "y": 0.52203125,
          "yanchor": "bottom",
          "yref": "paper"
         },
         {
          "font": {
           "size": 16
          },
          "showarrow": false,
          "text": "SrPdO3",
          "x": 0.5,
          "xanchor": "center",
          "xref": "paper",
          "y": 0.5094531249999998,
          "yanchor": "bottom",
          "yref": "paper"
         },
         {
          "font": {
           "size": 16
          },
          "showarrow": false,
          "text": "KWO3",
          "x": 0.5,
          "xanchor": "center",
          "xref": "paper",
          "y": 0.49687499999999984,
          "yanchor": "bottom",
          "yref": "paper"
         },
         {
          "font": {
           "size": 16
          },
          "showarrow": false,
          "text": "KRhO3",
          "x": 0.5,
          "xanchor": "center",
          "xref": "paper",
          "y": 0.48429687499999985,
          "yanchor": "bottom",
          "yref": "paper"
         },
         {
          "font": {
           "size": 16
          },
          "showarrow": false,
          "text": "BaCuO3",
          "x": 0.5,
          "xanchor": "center",
          "xref": "paper",
          "y": 0.47171874999999985,
          "yanchor": "bottom",
          "yref": "paper"
         },
         {
          "font": {
           "size": 16
          },
          "showarrow": false,
          "text": "RbNbO3",
          "x": 0.5,
          "xanchor": "center",
          "xref": "paper",
          "y": 0.45914062499999986,
          "yanchor": "bottom",
          "yref": "paper"
         },
         {
          "font": {
           "size": 16
          },
          "showarrow": false,
          "text": "BaOsO3",
          "x": 0.5,
          "xanchor": "center",
          "xref": "paper",
          "y": 0.44656249999999986,
          "yanchor": "bottom",
          "yref": "paper"
         },
         {
          "font": {
           "size": 16
          },
          "showarrow": false,
          "text": "BaRuO3",
          "x": 0.5,
          "xanchor": "center",
          "xref": "paper",
          "y": 0.4339843749999999,
          "yanchor": "bottom",
          "yref": "paper"
         },
         {
          "font": {
           "size": 16
          },
          "showarrow": false,
          "text": "KRuO3",
          "x": 0.5,
          "xanchor": "center",
          "xref": "paper",
          "y": 0.4214062499999999,
          "yanchor": "bottom",
          "yref": "paper"
         },
         {
          "font": {
           "size": 16
          },
          "showarrow": false,
          "text": "SrMoO3",
          "x": 0.5,
          "xanchor": "center",
          "xref": "paper",
          "y": 0.40882812499999993,
          "yanchor": "bottom",
          "yref": "paper"
         },
         {
          "font": {
           "size": 16
          },
          "showarrow": false,
          "text": "NaTiO3",
          "x": 0.5,
          "xanchor": "center",
          "xref": "paper",
          "y": 0.39624999999999994,
          "yanchor": "bottom",
          "yref": "paper"
         },
         {
          "font": {
           "size": 16
          },
          "showarrow": false,
          "text": "SrScO3",
          "x": 0.5,
          "xanchor": "center",
          "xref": "paper",
          "y": 0.38367187499999994,
          "yanchor": "bottom",
          "yref": "paper"
         },
         {
          "font": {
           "size": 16
          },
          "showarrow": false,
          "text": "RbOsO3",
          "x": 0.5,
          "xanchor": "center",
          "xref": "paper",
          "y": 0.37109375,
          "yanchor": "bottom",
          "yref": "paper"
         },
         {
          "font": {
           "size": 16
          },
          "showarrow": false,
          "text": "SrRhO3",
          "x": 0.5,
          "xanchor": "center",
          "xref": "paper",
          "y": 0.358515625,
          "yanchor": "bottom",
          "yref": "paper"
         },
         {
          "font": {
           "size": 16
          },
          "showarrow": false,
          "text": "NaMoO3",
          "x": 0.5,
          "xanchor": "center",
          "xref": "paper",
          "y": 0.3459375,
          "yanchor": "bottom",
          "yref": "paper"
         },
         {
          "font": {
           "size": 16
          },
          "showarrow": false,
          "text": "SrOsO3",
          "x": 0.5,
          "xanchor": "center",
          "xref": "paper",
          "y": 0.333359375,
          "yanchor": "bottom",
          "yref": "paper"
         },
         {
          "font": {
           "size": 16
          },
          "showarrow": false,
          "text": "BaRhO3",
          "x": 0.5,
          "xanchor": "center",
          "xref": "paper",
          "y": 0.32078125,
          "yanchor": "bottom",
          "yref": "paper"
         },
         {
          "font": {
           "size": 16
          },
          "showarrow": false,
          "text": "BaPtO3",
          "x": 0.5,
          "xanchor": "center",
          "xref": "paper",
          "y": 0.308203125,
          "yanchor": "bottom",
          "yref": "paper"
         },
         {
          "font": {
           "size": 16
          },
          "showarrow": false,
          "text": "CaVO3",
          "x": 0.5,
          "xanchor": "center",
          "xref": "paper",
          "y": 0.295625,
          "yanchor": "bottom",
          "yref": "paper"
         },
         {
          "font": {
           "size": 16
          },
          "showarrow": false,
          "text": "KMoO3",
          "x": 0.5,
          "xanchor": "center",
          "xref": "paper",
          "y": 0.28304687500000003,
          "yanchor": "bottom",
          "yref": "paper"
         },
         {
          "font": {
           "size": 16
          },
          "showarrow": false,
          "text": "SrCrO3",
          "x": 0.5,
          "xanchor": "center",
          "xref": "paper",
          "y": 0.27046875000000004,
          "yanchor": "bottom",
          "yref": "paper"
         },
         {
          "font": {
           "size": 16
          },
          "showarrow": false,
          "text": "SrAgO3",
          "x": 0.5,
          "xanchor": "center",
          "xref": "paper",
          "y": 0.25789062500000004,
          "yanchor": "bottom",
          "yref": "paper"
         },
         {
          "font": {
           "size": 16
          },
          "showarrow": false,
          "text": "RbRhO3",
          "x": 0.5,
          "xanchor": "center",
          "xref": "paper",
          "y": 0.24531250000000002,
          "yanchor": "bottom",
          "yref": "paper"
         },
         {
          "font": {
           "size": 16
          },
          "showarrow": false,
          "text": "BaVO3",
          "x": 0.5,
          "xanchor": "center",
          "xref": "paper",
          "y": 0.23273437500000002,
          "yanchor": "bottom",
          "yref": "paper"
         },
         {
          "font": {
           "size": 16
          },
          "showarrow": false,
          "text": "CaCoO3",
          "x": 0.5,
          "xanchor": "center",
          "xref": "paper",
          "y": 0.22015625000000003,
          "yanchor": "bottom",
          "yref": "paper"
         },
         {
          "font": {
           "size": 16
          },
          "showarrow": false,
          "text": "CaMnO3",
          "x": 0.5,
          "xanchor": "center",
          "xref": "paper",
          "y": 0.207578125,
          "yanchor": "bottom",
          "yref": "paper"
         },
         {
          "font": {
           "size": 16
          },
          "showarrow": false,
          "text": "KPtO3",
          "x": 0.5,
          "xanchor": "center",
          "xref": "paper",
          "y": 0.19499999999999998,
          "yanchor": "bottom",
          "yref": "paper"
         },
         {
          "font": {
           "size": 16
          },
          "showarrow": false,
          "text": "BaNiO3",
          "x": 0.5,
          "xanchor": "center",
          "xref": "paper",
          "y": 0.18242187499999998,
          "yanchor": "bottom",
          "yref": "paper"
         },
         {
          "font": {
           "size": 16
          },
          "showarrow": false,
          "text": "BaMnO3",
          "x": 0.5,
          "xanchor": "center",
          "xref": "paper",
          "y": 0.16984375,
          "yanchor": "bottom",
          "yref": "paper"
         },
         {
          "font": {
           "size": 16
          },
          "showarrow": false,
          "text": "SrReO3",
          "x": 0.5,
          "xanchor": "center",
          "xref": "paper",
          "y": 0.157265625,
          "yanchor": "bottom",
          "yref": "paper"
         },
         {
          "font": {
           "size": 16
          },
          "showarrow": false,
          "text": "BaReO3",
          "x": 0.5,
          "xanchor": "center",
          "xref": "paper",
          "y": 0.1446875,
          "yanchor": "bottom",
          "yref": "paper"
         },
         {
          "font": {
           "size": 16
          },
          "showarrow": false,
          "text": "SrIrO3",
          "x": 0.5,
          "xanchor": "center",
          "xref": "paper",
          "y": 0.13210937499999997,
          "yanchor": "bottom",
          "yref": "paper"
         },
         {
          "font": {
           "size": 16
          },
          "showarrow": false,
          "text": "NaVO3",
          "x": 0.5,
          "xanchor": "center",
          "xref": "paper",
          "y": 0.11953124999999999,
          "yanchor": "bottom",
          "yref": "paper"
         },
         {
          "font": {
           "size": 16
          },
          "showarrow": false,
          "text": "NaFeO3",
          "x": 0.5,
          "xanchor": "center",
          "xref": "paper",
          "y": 0.106953125,
          "yanchor": "bottom",
          "yref": "paper"
         },
         {
          "font": {
           "size": 16
          },
          "showarrow": false,
          "text": "BaIrO3",
          "x": 0.5,
          "xanchor": "center",
          "xref": "paper",
          "y": 0.094375,
          "yanchor": "bottom",
          "yref": "paper"
         },
         {
          "font": {
           "size": 16
          },
          "showarrow": false,
          "text": "RbReO3",
          "x": 0.5,
          "xanchor": "center",
          "xref": "paper",
          "y": 0.081796875,
          "yanchor": "bottom",
          "yref": "paper"
         },
         {
          "font": {
           "size": 16
          },
          "showarrow": false,
          "text": "CaRuO3",
          "x": 0.5,
          "xanchor": "center",
          "xref": "paper",
          "y": 0.06921875000000001,
          "yanchor": "bottom",
          "yref": "paper"
         },
         {
          "font": {
           "size": 16
          },
          "showarrow": false,
          "text": "RbPdO3",
          "x": 0.5,
          "xanchor": "center",
          "xref": "paper",
          "y": 0.05664062499999999,
          "yanchor": "bottom",
          "yref": "paper"
         },
         {
          "font": {
           "size": 16
          },
          "showarrow": false,
          "text": "CaHfO3",
          "x": 0.5,
          "xanchor": "center",
          "xref": "paper",
          "y": 0.0440625,
          "yanchor": "bottom",
          "yref": "paper"
         },
         {
          "font": {
           "size": 16
          },
          "showarrow": false,
          "text": "TlWO3",
          "x": 0.5,
          "xanchor": "center",
          "xref": "paper",
          "y": 0.031484374999999995,
          "yanchor": "bottom",
          "yref": "paper"
         },
         {
          "font": {
           "size": 16
          },
          "showarrow": false,
          "text": "RbWO3",
          "x": 0.5,
          "xanchor": "center",
          "xref": "paper",
          "y": 0.01890625,
          "yanchor": "bottom",
          "yref": "paper"
         },
         {
          "font": {
           "size": 16
          },
          "showarrow": false,
          "text": "RbPtO3",
          "x": 0.5,
          "xanchor": "center",
          "xref": "paper",
          "y": 0.0063281249999999995,
          "yanchor": "bottom",
          "yref": "paper"
         },
         {
          "font": {
           "size": 16
          },
          "showarrow": false,
          "text": "SrTcO3",
          "x": 0.5,
          "xanchor": "center",
          "xref": "paper",
          "y": 1.0000000000000004,
          "yanchor": "bottom",
          "yref": "paper"
         }
        ],
        "height": 15000,
        "showlegend": true,
        "template": {
         "data": {
          "bar": [
           {
            "error_x": {
             "color": "#2a3f5f"
            },
            "error_y": {
             "color": "#2a3f5f"
            },
            "marker": {
             "line": {
              "color": "#E5ECF6",
              "width": 0.5
             }
            },
            "type": "bar"
           }
          ],
          "barpolar": [
           {
            "marker": {
             "line": {
              "color": "#E5ECF6",
              "width": 0.5
             }
            },
            "type": "barpolar"
           }
          ],
          "carpet": [
           {
            "aaxis": {
             "endlinecolor": "#2a3f5f",
             "gridcolor": "white",
             "linecolor": "white",
             "minorgridcolor": "white",
             "startlinecolor": "#2a3f5f"
            },
            "baxis": {
             "endlinecolor": "#2a3f5f",
             "gridcolor": "white",
             "linecolor": "white",
             "minorgridcolor": "white",
             "startlinecolor": "#2a3f5f"
            },
            "type": "carpet"
           }
          ],
          "choropleth": [
           {
            "colorbar": {
             "outlinewidth": 0,
             "ticks": ""
            },
            "type": "choropleth"
           }
          ],
          "contour": [
           {
            "colorbar": {
             "outlinewidth": 0,
             "ticks": ""
            },
            "colorscale": [
             [
              0,
              "#0d0887"
             ],
             [
              0.1111111111111111,
              "#46039f"
             ],
             [
              0.2222222222222222,
              "#7201a8"
             ],
             [
              0.3333333333333333,
              "#9c179e"
             ],
             [
              0.4444444444444444,
              "#bd3786"
             ],
             [
              0.5555555555555556,
              "#d8576b"
             ],
             [
              0.6666666666666666,
              "#ed7953"
             ],
             [
              0.7777777777777778,
              "#fb9f3a"
             ],
             [
              0.8888888888888888,
              "#fdca26"
             ],
             [
              1,
              "#f0f921"
             ]
            ],
            "type": "contour"
           }
          ],
          "contourcarpet": [
           {
            "colorbar": {
             "outlinewidth": 0,
             "ticks": ""
            },
            "type": "contourcarpet"
           }
          ],
          "heatmap": [
           {
            "colorbar": {
             "outlinewidth": 0,
             "ticks": ""
            },
            "colorscale": [
             [
              0,
              "#0d0887"
             ],
             [
              0.1111111111111111,
              "#46039f"
             ],
             [
              0.2222222222222222,
              "#7201a8"
             ],
             [
              0.3333333333333333,
              "#9c179e"
             ],
             [
              0.4444444444444444,
              "#bd3786"
             ],
             [
              0.5555555555555556,
              "#d8576b"
             ],
             [
              0.6666666666666666,
              "#ed7953"
             ],
             [
              0.7777777777777778,
              "#fb9f3a"
             ],
             [
              0.8888888888888888,
              "#fdca26"
             ],
             [
              1,
              "#f0f921"
             ]
            ],
            "type": "heatmap"
           }
          ],
          "heatmapgl": [
           {
            "colorbar": {
             "outlinewidth": 0,
             "ticks": ""
            },
            "colorscale": [
             [
              0,
              "#0d0887"
             ],
             [
              0.1111111111111111,
              "#46039f"
             ],
             [
              0.2222222222222222,
              "#7201a8"
             ],
             [
              0.3333333333333333,
              "#9c179e"
             ],
             [
              0.4444444444444444,
              "#bd3786"
             ],
             [
              0.5555555555555556,
              "#d8576b"
             ],
             [
              0.6666666666666666,
              "#ed7953"
             ],
             [
              0.7777777777777778,
              "#fb9f3a"
             ],
             [
              0.8888888888888888,
              "#fdca26"
             ],
             [
              1,
              "#f0f921"
             ]
            ],
            "type": "heatmapgl"
           }
          ],
          "histogram": [
           {
            "marker": {
             "colorbar": {
              "outlinewidth": 0,
              "ticks": ""
             }
            },
            "type": "histogram"
           }
          ],
          "histogram2d": [
           {
            "colorbar": {
             "outlinewidth": 0,
             "ticks": ""
            },
            "colorscale": [
             [
              0,
              "#0d0887"
             ],
             [
              0.1111111111111111,
              "#46039f"
             ],
             [
              0.2222222222222222,
              "#7201a8"
             ],
             [
              0.3333333333333333,
              "#9c179e"
             ],
             [
              0.4444444444444444,
              "#bd3786"
             ],
             [
              0.5555555555555556,
              "#d8576b"
             ],
             [
              0.6666666666666666,
              "#ed7953"
             ],
             [
              0.7777777777777778,
              "#fb9f3a"
             ],
             [
              0.8888888888888888,
              "#fdca26"
             ],
             [
              1,
              "#f0f921"
             ]
            ],
            "type": "histogram2d"
           }
          ],
          "histogram2dcontour": [
           {
            "colorbar": {
             "outlinewidth": 0,
             "ticks": ""
            },
            "colorscale": [
             [
              0,
              "#0d0887"
             ],
             [
              0.1111111111111111,
              "#46039f"
             ],
             [
              0.2222222222222222,
              "#7201a8"
             ],
             [
              0.3333333333333333,
              "#9c179e"
             ],
             [
              0.4444444444444444,
              "#bd3786"
             ],
             [
              0.5555555555555556,
              "#d8576b"
             ],
             [
              0.6666666666666666,
              "#ed7953"
             ],
             [
              0.7777777777777778,
              "#fb9f3a"
             ],
             [
              0.8888888888888888,
              "#fdca26"
             ],
             [
              1,
              "#f0f921"
             ]
            ],
            "type": "histogram2dcontour"
           }
          ],
          "mesh3d": [
           {
            "colorbar": {
             "outlinewidth": 0,
             "ticks": ""
            },
            "type": "mesh3d"
           }
          ],
          "parcoords": [
           {
            "line": {
             "colorbar": {
              "outlinewidth": 0,
              "ticks": ""
             }
            },
            "type": "parcoords"
           }
          ],
          "pie": [
           {
            "automargin": true,
            "type": "pie"
           }
          ],
          "scatter": [
           {
            "marker": {
             "colorbar": {
              "outlinewidth": 0,
              "ticks": ""
             }
            },
            "type": "scatter"
           }
          ],
          "scatter3d": [
           {
            "line": {
             "colorbar": {
              "outlinewidth": 0,
              "ticks": ""
             }
            },
            "marker": {
             "colorbar": {
              "outlinewidth": 0,
              "ticks": ""
             }
            },
            "type": "scatter3d"
           }
          ],
          "scattercarpet": [
           {
            "marker": {
             "colorbar": {
              "outlinewidth": 0,
              "ticks": ""
             }
            },
            "type": "scattercarpet"
           }
          ],
          "scattergeo": [
           {
            "marker": {
             "colorbar": {
              "outlinewidth": 0,
              "ticks": ""
             }
            },
            "type": "scattergeo"
           }
          ],
          "scattergl": [
           {
            "marker": {
             "colorbar": {
              "outlinewidth": 0,
              "ticks": ""
             }
            },
            "type": "scattergl"
           }
          ],
          "scattermapbox": [
           {
            "marker": {
             "colorbar": {
              "outlinewidth": 0,
              "ticks": ""
             }
            },
            "type": "scattermapbox"
           }
          ],
          "scatterpolar": [
           {
            "marker": {
             "colorbar": {
              "outlinewidth": 0,
              "ticks": ""
             }
            },
            "type": "scatterpolar"
           }
          ],
          "scatterpolargl": [
           {
            "marker": {
             "colorbar": {
              "outlinewidth": 0,
              "ticks": ""
             }
            },
            "type": "scatterpolargl"
           }
          ],
          "scatterternary": [
           {
            "marker": {
             "colorbar": {
              "outlinewidth": 0,
              "ticks": ""
             }
            },
            "type": "scatterternary"
           }
          ],
          "surface": [
           {
            "colorbar": {
             "outlinewidth": 0,
             "ticks": ""
            },
            "colorscale": [
             [
              0,
              "#0d0887"
             ],
             [
              0.1111111111111111,
              "#46039f"
             ],
             [
              0.2222222222222222,
              "#7201a8"
             ],
             [
              0.3333333333333333,
              "#9c179e"
             ],
             [
              0.4444444444444444,
              "#bd3786"
             ],
             [
              0.5555555555555556,
              "#d8576b"
             ],
             [
              0.6666666666666666,
              "#ed7953"
             ],
             [
              0.7777777777777778,
              "#fb9f3a"
             ],
             [
              0.8888888888888888,
              "#fdca26"
             ],
             [
              1,
              "#f0f921"
             ]
            ],
            "type": "surface"
           }
          ],
          "table": [
           {
            "cells": {
             "fill": {
              "color": "#EBF0F8"
             },
             "line": {
              "color": "white"
             }
            },
            "header": {
             "fill": {
              "color": "#C8D4E3"
             },
             "line": {
              "color": "white"
             }
            },
            "type": "table"
           }
          ]
         },
         "layout": {
          "annotationdefaults": {
           "arrowcolor": "#2a3f5f",
           "arrowhead": 0,
           "arrowwidth": 1
          },
          "coloraxis": {
           "colorbar": {
            "outlinewidth": 0,
            "ticks": ""
           }
          },
          "colorscale": {
           "diverging": [
            [
             0,
             "#8e0152"
            ],
            [
             0.1,
             "#c51b7d"
            ],
            [
             0.2,
             "#de77ae"
            ],
            [
             0.3,
             "#f1b6da"
            ],
            [
             0.4,
             "#fde0ef"
            ],
            [
             0.5,
             "#f7f7f7"
            ],
            [
             0.6,
             "#e6f5d0"
            ],
            [
             0.7,
             "#b8e186"
            ],
            [
             0.8,
             "#7fbc41"
            ],
            [
             0.9,
             "#4d9221"
            ],
            [
             1,
             "#276419"
            ]
           ],
           "sequential": [
            [
             0,
             "#0d0887"
            ],
            [
             0.1111111111111111,
             "#46039f"
            ],
            [
             0.2222222222222222,
             "#7201a8"
            ],
            [
             0.3333333333333333,
             "#9c179e"
            ],
            [
             0.4444444444444444,
             "#bd3786"
            ],
            [
             0.5555555555555556,
             "#d8576b"
            ],
            [
             0.6666666666666666,
             "#ed7953"
            ],
            [
             0.7777777777777778,
             "#fb9f3a"
            ],
            [
             0.8888888888888888,
             "#fdca26"
            ],
            [
             1,
             "#f0f921"
            ]
           ],
           "sequentialminus": [
            [
             0,
             "#0d0887"
            ],
            [
             0.1111111111111111,
             "#46039f"
            ],
            [
             0.2222222222222222,
             "#7201a8"
            ],
            [
             0.3333333333333333,
             "#9c179e"
            ],
            [
             0.4444444444444444,
             "#bd3786"
            ],
            [
             0.5555555555555556,
             "#d8576b"
            ],
            [
             0.6666666666666666,
             "#ed7953"
            ],
            [
             0.7777777777777778,
             "#fb9f3a"
            ],
            [
             0.8888888888888888,
             "#fdca26"
            ],
            [
             1,
             "#f0f921"
            ]
           ]
          },
          "colorway": [
           "#636efa",
           "#EF553B",
           "#00cc96",
           "#ab63fa",
           "#FFA15A",
           "#19d3f3",
           "#FF6692",
           "#B6E880",
           "#FF97FF",
           "#FECB52"
          ],
          "font": {
           "color": "#2a3f5f"
          },
          "geo": {
           "bgcolor": "white",
           "lakecolor": "white",
           "landcolor": "#E5ECF6",
           "showlakes": true,
           "showland": true,
           "subunitcolor": "white"
          },
          "hoverlabel": {
           "align": "left"
          },
          "hovermode": "closest",
          "mapbox": {
           "style": "light"
          },
          "paper_bgcolor": "white",
          "plot_bgcolor": "#E5ECF6",
          "polar": {
           "angularaxis": {
            "gridcolor": "white",
            "linecolor": "white",
            "ticks": ""
           },
           "bgcolor": "#E5ECF6",
           "radialaxis": {
            "gridcolor": "white",
            "linecolor": "white",
            "ticks": ""
           }
          },
          "scene": {
           "xaxis": {
            "backgroundcolor": "#E5ECF6",
            "gridcolor": "white",
            "gridwidth": 2,
            "linecolor": "white",
            "showbackground": true,
            "ticks": "",
            "zerolinecolor": "white"
           },
           "yaxis": {
            "backgroundcolor": "#E5ECF6",
            "gridcolor": "white",
            "gridwidth": 2,
            "linecolor": "white",
            "showbackground": true,
            "ticks": "",
            "zerolinecolor": "white"
           },
           "zaxis": {
            "backgroundcolor": "#E5ECF6",
            "gridcolor": "white",
            "gridwidth": 2,
            "linecolor": "white",
            "showbackground": true,
            "ticks": "",
            "zerolinecolor": "white"
           }
          },
          "shapedefaults": {
           "line": {
            "color": "#2a3f5f"
           }
          },
          "ternary": {
           "aaxis": {
            "gridcolor": "white",
            "linecolor": "white",
            "ticks": ""
           },
           "baxis": {
            "gridcolor": "white",
            "linecolor": "white",
            "ticks": ""
           },
           "bgcolor": "#E5ECF6",
           "caxis": {
            "gridcolor": "white",
            "linecolor": "white",
            "ticks": ""
           }
          },
          "title": {
           "x": 0.05
          },
          "xaxis": {
           "automargin": true,
           "gridcolor": "white",
           "linecolor": "white",
           "ticks": "",
           "title": {
            "standoff": 15
           },
           "zerolinecolor": "white",
           "zerolinewidth": 2
          },
          "yaxis": {
           "automargin": true,
           "gridcolor": "white",
           "linecolor": "white",
           "ticks": "",
           "title": {
            "standoff": 15
           },
           "zerolinecolor": "white",
           "zerolinewidth": 2
          }
         }
        },
        "title": {
         "text": "free_energy_diagram"
        },
        "width": 500,
        "xaxis": {
         "anchor": "y",
         "domain": [
          0,
          1
         ],
         "matches": "x80",
         "showticklabels": false
        },
        "xaxis10": {
         "anchor": "y10",
         "domain": [
          0,
          1
         ],
         "matches": "x80",
         "showticklabels": false
        },
        "xaxis11": {
         "anchor": "y11",
         "domain": [
          0,
          1
         ],
         "matches": "x80",
         "showticklabels": false
        },
        "xaxis12": {
         "anchor": "y12",
         "domain": [
          0,
          1
         ],
         "matches": "x80",
         "showticklabels": false
        },
        "xaxis13": {
         "anchor": "y13",
         "domain": [
          0,
          1
         ],
         "matches": "x80",
         "showticklabels": false
        },
        "xaxis14": {
         "anchor": "y14",
         "domain": [
          0,
          1
         ],
         "matches": "x80",
         "showticklabels": false
        },
        "xaxis15": {
         "anchor": "y15",
         "domain": [
          0,
          1
         ],
         "matches": "x80",
         "showticklabels": false
        },
        "xaxis16": {
         "anchor": "y16",
         "domain": [
          0,
          1
         ],
         "matches": "x80",
         "showticklabels": false
        },
        "xaxis17": {
         "anchor": "y17",
         "domain": [
          0,
          1
         ],
         "matches": "x80",
         "showticklabels": false
        },
        "xaxis18": {
         "anchor": "y18",
         "domain": [
          0,
          1
         ],
         "matches": "x80",
         "showticklabels": false
        },
        "xaxis19": {
         "anchor": "y19",
         "domain": [
          0,
          1
         ],
         "matches": "x80",
         "showticklabels": false
        },
        "xaxis2": {
         "anchor": "y2",
         "domain": [
          0,
          1
         ],
         "matches": "x80",
         "showticklabels": false
        },
        "xaxis20": {
         "anchor": "y20",
         "domain": [
          0,
          1
         ],
         "matches": "x80",
         "showticklabels": false
        },
        "xaxis21": {
         "anchor": "y21",
         "domain": [
          0,
          1
         ],
         "matches": "x80",
         "showticklabels": false
        },
        "xaxis22": {
         "anchor": "y22",
         "domain": [
          0,
          1
         ],
         "matches": "x80",
         "showticklabels": false
        },
        "xaxis23": {
         "anchor": "y23",
         "domain": [
          0,
          1
         ],
         "matches": "x80",
         "showticklabels": false
        },
        "xaxis24": {
         "anchor": "y24",
         "domain": [
          0,
          1
         ],
         "matches": "x80",
         "showticklabels": false
        },
        "xaxis25": {
         "anchor": "y25",
         "domain": [
          0,
          1
         ],
         "matches": "x80",
         "showticklabels": false
        },
        "xaxis26": {
         "anchor": "y26",
         "domain": [
          0,
          1
         ],
         "matches": "x80",
         "showticklabels": false
        },
        "xaxis27": {
         "anchor": "y27",
         "domain": [
          0,
          1
         ],
         "matches": "x80",
         "showticklabels": false
        },
        "xaxis28": {
         "anchor": "y28",
         "domain": [
          0,
          1
         ],
         "matches": "x80",
         "showticklabels": false
        },
        "xaxis29": {
         "anchor": "y29",
         "domain": [
          0,
          1
         ],
         "matches": "x80",
         "showticklabels": false
        },
        "xaxis3": {
         "anchor": "y3",
         "domain": [
          0,
          1
         ],
         "matches": "x80",
         "showticklabels": false
        },
        "xaxis30": {
         "anchor": "y30",
         "domain": [
          0,
          1
         ],
         "matches": "x80",
         "showticklabels": false
        },
        "xaxis31": {
         "anchor": "y31",
         "domain": [
          0,
          1
         ],
         "matches": "x80",
         "showticklabels": false
        },
        "xaxis32": {
         "anchor": "y32",
         "domain": [
          0,
          1
         ],
         "matches": "x80",
         "showticklabels": false
        },
        "xaxis33": {
         "anchor": "y33",
         "domain": [
          0,
          1
         ],
         "matches": "x80",
         "showticklabels": false
        },
        "xaxis34": {
         "anchor": "y34",
         "domain": [
          0,
          1
         ],
         "matches": "x80",
         "showticklabels": false
        },
        "xaxis35": {
         "anchor": "y35",
         "domain": [
          0,
          1
         ],
         "matches": "x80",
         "showticklabels": false
        },
        "xaxis36": {
         "anchor": "y36",
         "domain": [
          0,
          1
         ],
         "matches": "x80",
         "showticklabels": false
        },
        "xaxis37": {
         "anchor": "y37",
         "domain": [
          0,
          1
         ],
         "matches": "x80",
         "showticklabels": false
        },
        "xaxis38": {
         "anchor": "y38",
         "domain": [
          0,
          1
         ],
         "matches": "x80",
         "showticklabels": false
        },
        "xaxis39": {
         "anchor": "y39",
         "domain": [
          0,
          1
         ],
         "matches": "x80",
         "showticklabels": false
        },
        "xaxis4": {
         "anchor": "y4",
         "domain": [
          0,
          1
         ],
         "matches": "x80",
         "showticklabels": false
        },
        "xaxis40": {
         "anchor": "y40",
         "domain": [
          0,
          1
         ],
         "matches": "x80",
         "showticklabels": false
        },
        "xaxis41": {
         "anchor": "y41",
         "domain": [
          0,
          1
         ],
         "matches": "x80",
         "showticklabels": false
        },
        "xaxis42": {
         "anchor": "y42",
         "domain": [
          0,
          1
         ],
         "matches": "x80",
         "showticklabels": false
        },
        "xaxis43": {
         "anchor": "y43",
         "domain": [
          0,
          1
         ],
         "matches": "x80",
         "showticklabels": false
        },
        "xaxis44": {
         "anchor": "y44",
         "domain": [
          0,
          1
         ],
         "matches": "x80",
         "showticklabels": false
        },
        "xaxis45": {
         "anchor": "y45",
         "domain": [
          0,
          1
         ],
         "matches": "x80",
         "showticklabels": false
        },
        "xaxis46": {
         "anchor": "y46",
         "domain": [
          0,
          1
         ],
         "matches": "x80",
         "showticklabels": false
        },
        "xaxis47": {
         "anchor": "y47",
         "domain": [
          0,
          1
         ],
         "matches": "x80",
         "showticklabels": false
        },
        "xaxis48": {
         "anchor": "y48",
         "domain": [
          0,
          1
         ],
         "matches": "x80",
         "showticklabels": false
        },
        "xaxis49": {
         "anchor": "y49",
         "domain": [
          0,
          1
         ],
         "matches": "x80",
         "showticklabels": false
        },
        "xaxis5": {
         "anchor": "y5",
         "domain": [
          0,
          1
         ],
         "matches": "x80",
         "showticklabels": false
        },
        "xaxis50": {
         "anchor": "y50",
         "domain": [
          0,
          1
         ],
         "matches": "x80",
         "showticklabels": false
        },
        "xaxis51": {
         "anchor": "y51",
         "domain": [
          0,
          1
         ],
         "matches": "x80",
         "showticklabels": false
        },
        "xaxis52": {
         "anchor": "y52",
         "domain": [
          0,
          1
         ],
         "matches": "x80",
         "showticklabels": false
        },
        "xaxis53": {
         "anchor": "y53",
         "domain": [
          0,
          1
         ],
         "matches": "x80",
         "showticklabels": false
        },
        "xaxis54": {
         "anchor": "y54",
         "domain": [
          0,
          1
         ],
         "matches": "x80",
         "showticklabels": false
        },
        "xaxis55": {
         "anchor": "y55",
         "domain": [
          0,
          1
         ],
         "matches": "x80",
         "showticklabels": false
        },
        "xaxis56": {
         "anchor": "y56",
         "domain": [
          0,
          1
         ],
         "matches": "x80",
         "showticklabels": false
        },
        "xaxis57": {
         "anchor": "y57",
         "domain": [
          0,
          1
         ],
         "matches": "x80",
         "showticklabels": false
        },
        "xaxis58": {
         "anchor": "y58",
         "domain": [
          0,
          1
         ],
         "matches": "x80",
         "showticklabels": false
        },
        "xaxis59": {
         "anchor": "y59",
         "domain": [
          0,
          1
         ],
         "matches": "x80",
         "showticklabels": false
        },
        "xaxis6": {
         "anchor": "y6",
         "domain": [
          0,
          1
         ],
         "matches": "x80",
         "showticklabels": false
        },
        "xaxis60": {
         "anchor": "y60",
         "domain": [
          0,
          1
         ],
         "matches": "x80",
         "showticklabels": false
        },
        "xaxis61": {
         "anchor": "y61",
         "domain": [
          0,
          1
         ],
         "matches": "x80",
         "showticklabels": false
        },
        "xaxis62": {
         "anchor": "y62",
         "domain": [
          0,
          1
         ],
         "matches": "x80",
         "showticklabels": false
        },
        "xaxis63": {
         "anchor": "y63",
         "domain": [
          0,
          1
         ],
         "matches": "x80",
         "showticklabels": false
        },
        "xaxis64": {
         "anchor": "y64",
         "domain": [
          0,
          1
         ],
         "matches": "x80",
         "showticklabels": false
        },
        "xaxis65": {
         "anchor": "y65",
         "domain": [
          0,
          1
         ],
         "matches": "x80",
         "showticklabels": false
        },
        "xaxis66": {
         "anchor": "y66",
         "domain": [
          0,
          1
         ],
         "matches": "x80",
         "showticklabels": false
        },
        "xaxis67": {
         "anchor": "y67",
         "domain": [
          0,
          1
         ],
         "matches": "x80",
         "showticklabels": false
        },
        "xaxis68": {
         "anchor": "y68",
         "domain": [
          0,
          1
         ],
         "matches": "x80",
         "showticklabels": false
        },
        "xaxis69": {
         "anchor": "y69",
         "domain": [
          0,
          1
         ],
         "matches": "x80",
         "showticklabels": false
        },
        "xaxis7": {
         "anchor": "y7",
         "domain": [
          0,
          1
         ],
         "matches": "x80",
         "showticklabels": false
        },
        "xaxis70": {
         "anchor": "y70",
         "domain": [
          0,
          1
         ],
         "matches": "x80",
         "showticklabels": false
        },
        "xaxis71": {
         "anchor": "y71",
         "domain": [
          0,
          1
         ],
         "matches": "x80",
         "showticklabels": false
        },
        "xaxis72": {
         "anchor": "y72",
         "domain": [
          0,
          1
         ],
         "matches": "x80",
         "showticklabels": false
        },
        "xaxis73": {
         "anchor": "y73",
         "domain": [
          0,
          1
         ],
         "matches": "x80",
         "showticklabels": false
        },
        "xaxis74": {
         "anchor": "y74",
         "domain": [
          0,
          1
         ],
         "matches": "x80",
         "showticklabels": false
        },
        "xaxis75": {
         "anchor": "y75",
         "domain": [
          0,
          1
         ],
         "matches": "x80",
         "showticklabels": false
        },
        "xaxis76": {
         "anchor": "y76",
         "domain": [
          0,
          1
         ],
         "matches": "x80",
         "showticklabels": false
        },
        "xaxis77": {
         "anchor": "y77",
         "domain": [
          0,
          1
         ],
         "matches": "x80",
         "showticklabels": false
        },
        "xaxis78": {
         "anchor": "y78",
         "domain": [
          0,
          1
         ],
         "matches": "x80",
         "showticklabels": false
        },
        "xaxis79": {
         "anchor": "y79",
         "domain": [
          0,
          1
         ],
         "matches": "x80",
         "showticklabels": false
        },
        "xaxis8": {
         "anchor": "y8",
         "domain": [
          0,
          1
         ],
         "matches": "x80",
         "showticklabels": false
        },
        "xaxis80": {
         "anchor": "y80",
         "domain": [
          0,
          1
         ]
        },
        "xaxis9": {
         "anchor": "y9",
         "domain": [
          0,
          1
         ],
         "matches": "x80",
         "showticklabels": false
        },
        "yaxis": {
         "anchor": "x",
         "domain": [
          0.9936718750000005,
          1
         ],
         "title": {
          "text": "DG (eV)"
         }
        },
        "yaxis10": {
         "anchor": "x10",
         "domain": [
          0.8804687500000004,
          0.8867968750000004
         ],
         "title": {
          "text": "DG (eV)"
         }
        },
        "yaxis11": {
         "anchor": "x11",
         "domain": [
          0.8678906250000004,
          0.8742187500000004
         ],
         "title": {
          "text": "DG (eV)"
         }
        },
        "yaxis12": {
         "anchor": "x12",
         "domain": [
          0.8553125000000004,
          0.8616406250000004
         ],
         "title": {
          "text": "DG (eV)"
         }
        },
        "yaxis13": {
         "anchor": "x13",
         "domain": [
          0.8427343750000003,
          0.8490625000000003
         ],
         "title": {
          "text": "DG (eV)"
         }
        },
        "yaxis14": {
         "anchor": "x14",
         "domain": [
          0.8301562500000004,
          0.8364843750000004
         ],
         "title": {
          "text": "DG (eV)"
         }
        },
        "yaxis15": {
         "anchor": "x15",
         "domain": [
          0.8175781250000003,
          0.8239062500000003
         ],
         "title": {
          "text": "DG (eV)"
         }
        },
        "yaxis16": {
         "anchor": "x16",
         "domain": [
          0.8050000000000003,
          0.8113281250000003
         ],
         "title": {
          "text": "DG (eV)"
         }
        },
        "yaxis17": {
         "anchor": "x17",
         "domain": [
          0.7924218750000003,
          0.7987500000000003
         ],
         "title": {
          "text": "DG (eV)"
         }
        },
        "yaxis18": {
         "anchor": "x18",
         "domain": [
          0.7798437500000002,
          0.7861718750000002
         ],
         "title": {
          "text": "DG (eV)"
         }
        },
        "yaxis19": {
         "anchor": "x19",
         "domain": [
          0.7672656250000003,
          0.7735937500000003
         ],
         "title": {
          "text": "DG (eV)"
         }
        },
        "yaxis2": {
         "anchor": "x2",
         "domain": [
          0.9810937500000005,
          0.9874218750000006
         ],
         "title": {
          "text": "DG (eV)"
         }
        },
        "yaxis20": {
         "anchor": "x20",
         "domain": [
          0.7546875000000002,
          0.7610156250000002
         ],
         "title": {
          "text": "DG (eV)"
         }
        },
        "yaxis21": {
         "anchor": "x21",
         "domain": [
          0.7421093750000002,
          0.7484375000000002
         ],
         "title": {
          "text": "DG (eV)"
         }
        },
        "yaxis22": {
         "anchor": "x22",
         "domain": [
          0.7295312500000002,
          0.7358593750000002
         ],
         "title": {
          "text": "DG (eV)"
         }
        },
        "yaxis23": {
         "anchor": "x23",
         "domain": [
          0.7169531250000001,
          0.7232812500000001
         ],
         "title": {
          "text": "DG (eV)"
         }
        },
        "yaxis24": {
         "anchor": "x24",
         "domain": [
          0.7043750000000002,
          0.7107031250000002
         ],
         "title": {
          "text": "DG (eV)"
         }
        },
        "yaxis25": {
         "anchor": "x25",
         "domain": [
          0.6917968750000001,
          0.6981250000000001
         ],
         "title": {
          "text": "DG (eV)"
         }
        },
        "yaxis26": {
         "anchor": "x26",
         "domain": [
          0.6792187500000001,
          0.6855468750000001
         ],
         "title": {
          "text": "DG (eV)"
         }
        },
        "yaxis27": {
         "anchor": "x27",
         "domain": [
          0.6666406250000001,
          0.6729687500000001
         ],
         "title": {
          "text": "DG (eV)"
         }
        },
        "yaxis28": {
         "anchor": "x28",
         "domain": [
          0.6540625,
          0.660390625
         ],
         "title": {
          "text": "DG (eV)"
         }
        },
        "yaxis29": {
         "anchor": "x29",
         "domain": [
          0.6414843750000001,
          0.6478125000000001
         ],
         "title": {
          "text": "DG (eV)"
         }
        },
        "yaxis3": {
         "anchor": "x3",
         "domain": [
          0.9685156250000004,
          0.9748437500000005
         ],
         "title": {
          "text": "DG (eV)"
         }
        },
        "yaxis30": {
         "anchor": "x30",
         "domain": [
          0.62890625,
          0.635234375
         ],
         "title": {
          "text": "DG (eV)"
         }
        },
        "yaxis31": {
         "anchor": "x31",
         "domain": [
          0.616328125,
          0.62265625
         ],
         "title": {
          "text": "DG (eV)"
         }
        },
        "yaxis32": {
         "anchor": "x32",
         "domain": [
          0.60375,
          0.610078125
         ],
         "title": {
          "text": "DG (eV)"
         }
        },
        "yaxis33": {
         "anchor": "x33",
         "domain": [
          0.5911718749999999,
          0.5974999999999999
         ],
         "title": {
          "text": "DG (eV)"
         }
        },
        "yaxis34": {
         "anchor": "x34",
         "domain": [
          0.57859375,
          0.584921875
         ],
         "title": {
          "text": "DG (eV)"
         }
        },
        "yaxis35": {
         "anchor": "x35",
         "domain": [
          0.5660156249999999,
          0.5723437499999999
         ],
         "title": {
          "text": "DG (eV)"
         }
        },
        "yaxis36": {
         "anchor": "x36",
         "domain": [
          0.5534374999999999,
          0.5597656249999999
         ],
         "title": {
          "text": "DG (eV)"
         }
        },
        "yaxis37": {
         "anchor": "x37",
         "domain": [
          0.5408593749999999,
          0.5471874999999999
         ],
         "title": {
          "text": "DG (eV)"
         }
        },
        "yaxis38": {
         "anchor": "x38",
         "domain": [
          0.5282812499999998,
          0.5346093749999998
         ],
         "title": {
          "text": "DG (eV)"
         }
        },
        "yaxis39": {
         "anchor": "x39",
         "domain": [
          0.5157031249999999,
          0.52203125
         ],
         "title": {
          "text": "DG (eV)"
         }
        },
        "yaxis4": {
         "anchor": "x4",
         "domain": [
          0.9559375000000006,
          0.9622656250000006
         ],
         "title": {
          "text": "DG (eV)"
         }
        },
        "yaxis40": {
         "anchor": "x40",
         "domain": [
          0.5031249999999998,
          0.5094531249999998
         ],
         "title": {
          "text": "DG (eV)"
         }
        },
        "yaxis41": {
         "anchor": "x41",
         "domain": [
          0.4905468749999998,
          0.49687499999999984
         ],
         "title": {
          "text": "DG (eV)"
         }
        },
        "yaxis42": {
         "anchor": "x42",
         "domain": [
          0.47796874999999983,
          0.48429687499999985
         ],
         "title": {
          "text": "DG (eV)"
         }
        },
        "yaxis43": {
         "anchor": "x43",
         "domain": [
          0.46539062499999984,
          0.47171874999999985
         ],
         "title": {
          "text": "DG (eV)"
         }
        },
        "yaxis44": {
         "anchor": "x44",
         "domain": [
          0.45281249999999984,
          0.45914062499999986
         ],
         "title": {
          "text": "DG (eV)"
         }
        },
        "yaxis45": {
         "anchor": "x45",
         "domain": [
          0.44023437499999984,
          0.44656249999999986
         ],
         "title": {
          "text": "DG (eV)"
         }
        },
        "yaxis46": {
         "anchor": "x46",
         "domain": [
          0.4276562499999999,
          0.4339843749999999
         ],
         "title": {
          "text": "DG (eV)"
         }
        },
        "yaxis47": {
         "anchor": "x47",
         "domain": [
          0.4150781249999999,
          0.4214062499999999
         ],
         "title": {
          "text": "DG (eV)"
         }
        },
        "yaxis48": {
         "anchor": "x48",
         "domain": [
          0.4024999999999999,
          0.40882812499999993
         ],
         "title": {
          "text": "DG (eV)"
         }
        },
        "yaxis49": {
         "anchor": "x49",
         "domain": [
          0.3899218749999999,
          0.39624999999999994
         ],
         "title": {
          "text": "DG (eV)"
         }
        },
        "yaxis5": {
         "anchor": "x5",
         "domain": [
          0.9433593750000004,
          0.9496875000000005
         ],
         "title": {
          "text": "DG (eV)"
         }
        },
        "yaxis50": {
         "anchor": "x50",
         "domain": [
          0.3773437499999999,
          0.38367187499999994
         ],
         "title": {
          "text": "DG (eV)"
         }
        },
        "yaxis51": {
         "anchor": "x51",
         "domain": [
          0.364765625,
          0.37109375
         ],
         "title": {
          "text": "DG (eV)"
         }
        },
        "yaxis52": {
         "anchor": "x52",
         "domain": [
          0.3521875,
          0.358515625
         ],
         "title": {
          "text": "DG (eV)"
         }
        },
        "yaxis53": {
         "anchor": "x53",
         "domain": [
          0.339609375,
          0.3459375
         ],
         "title": {
          "text": "DG (eV)"
         }
        },
        "yaxis54": {
         "anchor": "x54",
         "domain": [
          0.32703125,
          0.333359375
         ],
         "title": {
          "text": "DG (eV)"
         }
        },
        "yaxis55": {
         "anchor": "x55",
         "domain": [
          0.314453125,
          0.32078125
         ],
         "title": {
          "text": "DG (eV)"
         }
        },
        "yaxis56": {
         "anchor": "x56",
         "domain": [
          0.301875,
          0.308203125
         ],
         "title": {
          "text": "DG (eV)"
         }
        },
        "yaxis57": {
         "anchor": "x57",
         "domain": [
          0.289296875,
          0.295625
         ],
         "title": {
          "text": "DG (eV)"
         }
        },
        "yaxis58": {
         "anchor": "x58",
         "domain": [
          0.27671875,
          0.28304687500000003
         ],
         "title": {
          "text": "DG (eV)"
         }
        },
        "yaxis59": {
         "anchor": "x59",
         "domain": [
          0.264140625,
          0.27046875000000004
         ],
         "title": {
          "text": "DG (eV)"
         }
        },
        "yaxis6": {
         "anchor": "x6",
         "domain": [
          0.9307812500000004,
          0.9371093750000005
         ],
         "title": {
          "text": "DG (eV)"
         }
        },
        "yaxis60": {
         "anchor": "x60",
         "domain": [
          0.2515625,
          0.25789062500000004
         ],
         "title": {
          "text": "DG (eV)"
         }
        },
        "yaxis61": {
         "anchor": "x61",
         "domain": [
          0.23898437500000003,
          0.24531250000000002
         ],
         "title": {
          "text": "DG (eV)"
         }
        },
        "yaxis62": {
         "anchor": "x62",
         "domain": [
          0.22640625000000003,
          0.23273437500000002
         ],
         "title": {
          "text": "DG (eV)"
         }
        },
        "yaxis63": {
         "anchor": "x63",
         "domain": [
          0.21382812500000004,
          0.22015625000000003
         ],
         "title": {
          "text": "DG (eV)"
         }
        },
        "yaxis64": {
         "anchor": "x64",
         "domain": [
          0.20125,
          0.207578125
         ],
         "title": {
          "text": "DG (eV)"
         }
        },
        "yaxis65": {
         "anchor": "x65",
         "domain": [
          0.188671875,
          0.19499999999999998
         ],
         "title": {
          "text": "DG (eV)"
         }
        },
        "yaxis66": {
         "anchor": "x66",
         "domain": [
          0.17609375,
          0.18242187499999998
         ],
         "title": {
          "text": "DG (eV)"
         }
        },
        "yaxis67": {
         "anchor": "x67",
         "domain": [
          0.163515625,
          0.16984375
         ],
         "title": {
          "text": "DG (eV)"
         }
        },
        "yaxis68": {
         "anchor": "x68",
         "domain": [
          0.1509375,
          0.157265625
         ],
         "title": {
          "text": "DG (eV)"
         }
        },
        "yaxis69": {
         "anchor": "x69",
         "domain": [
          0.138359375,
          0.1446875
         ],
         "title": {
          "text": "DG (eV)"
         }
        },
        "yaxis7": {
         "anchor": "x7",
         "domain": [
          0.9182031250000005,
          0.9245312500000005
         ],
         "title": {
          "text": "DG (eV)"
         }
        },
        "yaxis70": {
         "anchor": "x70",
         "domain": [
          0.12578124999999998,
          0.13210937499999997
         ],
         "title": {
          "text": "DG (eV)"
         }
        },
        "yaxis71": {
         "anchor": "x71",
         "domain": [
          0.11320312499999999,
          0.11953124999999999
         ],
         "title": {
          "text": "DG (eV)"
         }
        },
        "yaxis72": {
         "anchor": "x72",
         "domain": [
          0.10062499999999999,
          0.106953125
         ],
         "title": {
          "text": "DG (eV)"
         }
        },
        "yaxis73": {
         "anchor": "x73",
         "domain": [
          0.088046875,
          0.094375
         ],
         "title": {
          "text": "DG (eV)"
         }
        },
        "yaxis74": {
         "anchor": "x74",
         "domain": [
          0.07546875,
          0.081796875
         ],
         "title": {
          "text": "DG (eV)"
         }
        },
        "yaxis75": {
         "anchor": "x75",
         "domain": [
          0.062890625,
          0.06921875000000001
         ],
         "title": {
          "text": "DG (eV)"
         }
        },
        "yaxis76": {
         "anchor": "x76",
         "domain": [
          0.050312499999999996,
          0.05664062499999999
         ],
         "title": {
          "text": "DG (eV)"
         }
        },
        "yaxis77": {
         "anchor": "x77",
         "domain": [
          0.037734375,
          0.0440625
         ],
         "title": {
          "text": "DG (eV)"
         }
        },
        "yaxis78": {
         "anchor": "x78",
         "domain": [
          0.025156249999999998,
          0.031484374999999995
         ],
         "title": {
          "text": "DG (eV)"
         }
        },
        "yaxis79": {
         "anchor": "x79",
         "domain": [
          0.012578124999999999,
          0.01890625
         ],
         "title": {
          "text": "DG (eV)"
         }
        },
        "yaxis8": {
         "anchor": "x8",
         "domain": [
          0.9056250000000003,
          0.9119531250000004
         ],
         "title": {
          "text": "DG (eV)"
         }
        },
        "yaxis80": {
         "anchor": "x80",
         "domain": [
          0,
          0.0063281249999999995
         ],
         "title": {
          "text": "DG (eV)"
         }
        },
        "yaxis9": {
         "anchor": "x9",
         "domain": [
          0.8930468750000005,
          0.8993750000000005
         ],
         "title": {
          "text": "DG (eV)"
         }
        }
       }
      },
      "text/html": [
       "<div>                            <div id=\"b8867289-5b7f-4867-a0e6-02db3d45b129\" class=\"plotly-graph-div\" style=\"height:15000px; width:500px;\"></div>            <script type=\"text/javascript\">                require([\"plotly\"], function(Plotly) {                    window.PLOTLYENV=window.PLOTLYENV || {};                                    if (document.getElementById(\"b8867289-5b7f-4867-a0e6-02db3d45b129\")) {                    Plotly.newPlot(                        \"b8867289-5b7f-4867-a0e6-02db3d45b129\",                        [{\"mode\": \"lines+text\", \"name\": \"SrTcO3\", \"text\": [\"\", \"H2O\", \"\", \"OH*\", \"\", \"O*\", \"\", \"OOH*\", \"\", \"O2(g)\"], \"textposition\": \"bottom center\", \"type\": \"scatter\", \"x\": [0, 1, 1, 2, 2, 3, 3, 4, 4, 5], \"xaxis\": \"x\", \"y\": [0, 0, -1.077, -1.077, -0.727, -0.727, 2.136, 2.136, 4.92, 4.92], \"yaxis\": \"y\"}, {\"mode\": \"lines+text\", \"name\": \"BaFeO3\", \"text\": [\"\", \"H2O\", \"\", \"OH*\", \"\", \"O*\", \"\", \"OOH*\", \"\", \"O2(g)\"], \"textposition\": \"bottom center\", \"type\": \"scatter\", \"x\": [0, 1, 1, 2, 2, 3, 3, 4, 4, 5], \"xaxis\": \"x2\", \"y\": [0, 0, 1.729, 1.729, 4.432, 4.432, 4.572, 4.572, 4.92, 4.92], \"yaxis\": \"y2\"}, {\"mode\": \"lines+text\", \"name\": \"BaMoO3\", \"text\": [\"\", \"H2O\", \"\", \"OH*\", \"\", \"O*\", \"\", \"OOH*\", \"\", \"O2(g)\"], \"textposition\": \"bottom center\", \"type\": \"scatter\", \"x\": [0, 1, 1, 2, 2, 3, 3, 4, 4, 5], \"xaxis\": \"x3\", \"y\": [0, 0, -0.597, -0.597, -0.873, -0.873, 2.674, 2.674, 4.92, 4.92], \"yaxis\": \"y3\"}, {\"mode\": \"lines+text\", \"name\": \"KTaO3\", \"text\": [\"\", \"H2O\", \"\", \"OH*\", \"\", \"O*\", \"\", \"OOH*\", \"\", \"O2(g)\"], \"textposition\": \"bottom center\", \"type\": \"scatter\", \"x\": [0, 1, 1, 2, 2, 3, 3, 4, 4, 5], \"xaxis\": \"x4\", \"y\": [0, 0, -1.296, -1.296, -0.634, -0.634, 2.23, 2.23, 4.92, 4.92], \"yaxis\": \"y4\"}, {\"mode\": \"lines+text\", \"name\": \"BaZrO3\", \"text\": [\"\", \"H2O\", \"\", \"OH*\", \"\", \"O*\", \"\", \"OOH*\", \"\", \"O2(g)\"], \"textposition\": \"bottom center\", \"type\": \"scatter\", \"x\": [0, 1, 1, 2, 2, 3, 3, 4, 4, 5], \"xaxis\": \"x5\", \"y\": [0, 0, 0.995, 0.995, 4.123, 4.123, 4.361, 4.361, 4.92, 4.92], \"yaxis\": \"y5\"}, {\"mode\": \"lines+text\", \"name\": \"SrFeO3\", \"text\": [\"\", \"H2O\", \"\", \"OH*\", \"\", \"O*\", \"\", \"OOH*\", \"\", \"O2(g)\"], \"textposition\": \"bottom center\", \"type\": \"scatter\", \"x\": [0, 1, 1, 2, 2, 3, 3, 4, 4, 5], \"xaxis\": \"x6\", \"y\": [0, 0, 1.731, 1.731, 4.586, 4.586, 4.595, 4.595, 4.92, 4.92], \"yaxis\": \"y6\"}, {\"mode\": \"lines+text\", \"name\": \"KTcO3\", \"text\": [\"\", \"H2O\", \"\", \"OH*\", \"\", \"O*\", \"\", \"OOH*\", \"\", \"O2(g)\"], \"textposition\": \"bottom center\", \"type\": \"scatter\", \"x\": [0, 1, 1, 2, 2, 3, 3, 4, 4, 5], \"xaxis\": \"x7\", \"y\": [0, 0, -0.255, -0.255, 0.426, 0.426, 2.886, 2.886, 4.92, 4.92], \"yaxis\": \"y7\"}, {\"mode\": \"lines+text\", \"name\": \"NaTcO3\", \"text\": [\"\", \"H2O\", \"\", \"OH*\", \"\", \"O*\", \"\", \"OOH*\", \"\", \"O2(g)\"], \"textposition\": \"bottom center\", \"type\": \"scatter\", \"x\": [0, 1, 1, 2, 2, 3, 3, 4, 4, 5], \"xaxis\": \"x8\", \"y\": [0, 0, -0.362, -0.362, 0.281, 0.281, 2.804, 2.804, 4.92, 4.92], \"yaxis\": \"y8\"}, {\"mode\": \"lines+text\", \"name\": \"BaHfO3\", \"text\": [\"\", \"H2O\", \"\", \"OH*\", \"\", \"O*\", \"\", \"OOH*\", \"\", \"O2(g)\"], \"textposition\": \"bottom center\", \"type\": \"scatter\", \"x\": [0, 1, 1, 2, 2, 3, 3, 4, 4, 5], \"xaxis\": \"x9\", \"y\": [0, 0, 0.896, 0.896, 4.003, 4.003, 4.192, 4.192, 4.92, 4.92], \"yaxis\": \"y9\"}, {\"mode\": \"lines+text\", \"name\": \"SrTiO3\", \"text\": [\"\", \"H2O\", \"\", \"OH*\", \"\", \"O*\", \"\", \"OOH*\", \"\", \"O2(g)\"], \"textposition\": \"bottom center\", \"type\": \"scatter\", \"x\": [0, 1, 1, 2, 2, 3, 3, 4, 4, 5], \"xaxis\": \"x10\", \"y\": [0, 0, 0.981, 0.981, 3.869, 3.869, 4.287, 4.287, 4.92, 4.92], \"yaxis\": \"y10\"}, {\"mode\": \"lines+text\", \"name\": \"SrCuO3\", \"text\": [\"\", \"H2O\", \"\", \"OH*\", \"\", \"O*\", \"\", \"OOH*\", \"\", \"O2(g)\"], \"textposition\": \"bottom center\", \"type\": \"scatter\", \"x\": [0, 1, 1, 2, 2, 3, 3, 4, 4, 5], \"xaxis\": \"x11\", \"y\": [0, 0, 1.712, 1.712, 4.21, 4.21, 4.662, 4.662, 4.92, 4.92], \"yaxis\": \"y11\"}, {\"mode\": \"lines+text\", \"name\": \"KNbO3\", \"text\": [\"\", \"H2O\", \"\", \"OH*\", \"\", \"O*\", \"\", \"OOH*\", \"\", \"O2(g)\"], \"textposition\": \"bottom center\", \"type\": \"scatter\", \"x\": [0, 1, 1, 2, 2, 3, 3, 4, 4, 5], \"xaxis\": \"x12\", \"y\": [0, 0, -0.512, -0.512, 0.445, 0.445, 2.953, 2.953, 4.92, 4.92], \"yaxis\": \"y12\"}, {\"mode\": \"lines+text\", \"name\": \"NaTaO3\", \"text\": [\"\", \"H2O\", \"\", \"OH*\", \"\", \"O*\", \"\", \"OOH*\", \"\", \"O2(g)\"], \"textposition\": \"bottom center\", \"type\": \"scatter\", \"x\": [0, 1, 1, 2, 2, 3, 3, 4, 4, 5], \"xaxis\": \"x13\", \"y\": [0, 0, -1.424, -1.424, -0.919, -0.919, 2.078, 2.078, 4.92, 4.92], \"yaxis\": \"y13\"}, {\"mode\": \"lines+text\", \"name\": \"BaScO3\", \"text\": [\"\", \"H2O\", \"\", \"OH*\", \"\", \"O*\", \"\", \"OOH*\", \"\", \"O2(g)\"], \"textposition\": \"bottom center\", \"type\": \"scatter\", \"x\": [0, 1, 1, 2, 2, 3, 3, 4, 4, 5], \"xaxis\": \"x14\", \"y\": [0, 0, 1.852, 1.852, 4.68, 4.68, 4.632, 4.632, 4.92, 4.92], \"yaxis\": \"y14\"}, {\"mode\": \"lines+text\", \"name\": \"BaPdO3\", \"text\": [\"\", \"H2O\", \"\", \"OH*\", \"\", \"O*\", \"\", \"OOH*\", \"\", \"O2(g)\"], \"textposition\": \"bottom center\", \"type\": \"scatter\", \"x\": [0, 1, 1, 2, 2, 3, 3, 4, 4, 5], \"xaxis\": \"x15\", \"y\": [0, 0, 1.405, 1.405, 3.435, 3.435, 4.32, 4.32, 4.92, 4.92], \"yaxis\": \"y15\"}, {\"mode\": \"lines+text\", \"name\": \"BaTaO3\", \"text\": [\"\", \"H2O\", \"\", \"OH*\", \"\", \"O*\", \"\", \"OOH*\", \"\", \"O2(g)\"], \"textposition\": \"bottom center\", \"type\": \"scatter\", \"x\": [0, 1, 1, 2, 2, 3, 3, 4, 4, 5], \"xaxis\": \"x16\", \"y\": [0, 0, -2.181, -2.181, -2.592, -2.592, -4.578, -4.578, 4.92, 4.92], \"yaxis\": \"y16\"}, {\"mode\": \"lines+text\", \"name\": \"SrHfO3\", \"text\": [\"\", \"H2O\", \"\", \"OH*\", \"\", \"O*\", \"\", \"OOH*\", \"\", \"O2(g)\"], \"textposition\": \"bottom center\", \"type\": \"scatter\", \"x\": [0, 1, 1, 2, 2, 3, 3, 4, 4, 5], \"xaxis\": \"x17\", \"y\": [0, 0, 0.786, 0.786, 3.932, 3.932, 4.115, 4.115, 4.92, 4.92], \"yaxis\": \"y17\"}, {\"mode\": \"lines+text\", \"name\": \"NaOsO3\", \"text\": [\"\", \"H2O\", \"\", \"OH*\", \"\", \"O*\", \"\", \"OOH*\", \"\", \"O2(g)\"], \"textposition\": \"bottom center\", \"type\": \"scatter\", \"x\": [0, 1, 1, 2, 2, 3, 3, 4, 4, 5], \"xaxis\": \"x18\", \"y\": [0, 0, -0.649, -0.649, 0.557, 0.557, 2.758, 2.758, 4.92, 4.92], \"yaxis\": \"y18\"}, {\"mode\": \"lines+text\", \"name\": \"TlTcO3\", \"text\": [\"\", \"H2O\", \"\", \"OH*\", \"\", \"O*\", \"\", \"OOH*\", \"\", \"O2(g)\"], \"textposition\": \"bottom center\", \"type\": \"scatter\", \"x\": [0, 1, 1, 2, 2, 3, 3, 4, 4, 5], \"xaxis\": \"x19\", \"y\": [0, 0, -0.326, -0.326, 0.293, 0.293, 2.755, 2.755, 4.92, 4.92], \"yaxis\": \"y19\"}, {\"mode\": \"lines+text\", \"name\": \"KReO3\", \"text\": [\"\", \"H2O\", \"\", \"OH*\", \"\", \"O*\", \"\", \"OOH*\", \"\", \"O2(g)\"], \"textposition\": \"bottom center\", \"type\": \"scatter\", \"x\": [0, 1, 1, 2, 2, 3, 3, 4, 4, 5], \"xaxis\": \"x20\", \"y\": [0, 0, -1.028, -1.028, -0.564, -0.564, 2.194, 2.194, 4.92, 4.92], \"yaxis\": \"y20\"}, {\"mode\": \"lines+text\", \"name\": \"SrRuO3\", \"text\": [\"\", \"H2O\", \"\", \"OH*\", \"\", \"O*\", \"\", \"OOH*\", \"\", \"O2(g)\"], \"textposition\": \"bottom center\", \"type\": \"scatter\", \"x\": [0, 1, 1, 2, 2, 3, 3, 4, 4, 5], \"xaxis\": \"x21\", \"y\": [0, 0, -0.035, -0.035, 0.94, 0.94, 3.061, 3.061, 4.92, 4.92], \"yaxis\": \"y21\"}, {\"mode\": \"lines+text\", \"name\": \"KHfO3\", \"text\": [\"\", \"H2O\", \"\", \"OH*\", \"\", \"O*\", \"\", \"OOH*\", \"\", \"O2(g)\"], \"textposition\": \"bottom center\", \"type\": \"scatter\", \"x\": [0, 1, 1, 2, 2, 3, 3, 4, 4, 5], \"xaxis\": \"x22\", \"y\": [0, 0, 1.651, 1.651, 4.387, 4.387, 4.461, 4.461, 4.92, 4.92], \"yaxis\": \"y22\"}, {\"mode\": \"lines+text\", \"name\": \"SrVO3\", \"text\": [\"\", \"H2O\", \"\", \"OH*\", \"\", \"O*\", \"\", \"OOH*\", \"\", \"O2(g)\"], \"textposition\": \"bottom center\", \"type\": \"scatter\", \"x\": [0, 1, 1, 2, 2, 3, 3, 4, 4, 5], \"xaxis\": \"x23\", \"y\": [0, 0, -0.486, -0.486, 0.496, 0.496, 2.681, 2.681, 4.92, 4.92], \"yaxis\": \"y23\"}, {\"mode\": \"lines+text\", \"name\": \"KOsO3\", \"text\": [\"\", \"H2O\", \"\", \"OH*\", \"\", \"O*\", \"\", \"OOH*\", \"\", \"O2(g)\"], \"textposition\": \"bottom center\", \"type\": \"scatter\", \"x\": [0, 1, 1, 2, 2, 3, 3, 4, 4, 5], \"xaxis\": \"x24\", \"y\": [0, 0, -0.759, -0.759, 0.679, 0.679, 2.457, 2.457, 4.92, 4.92], \"yaxis\": \"y24\"}, {\"mode\": \"lines+text\", \"name\": \"TaAgO3\", \"text\": [\"\", \"H2O\", \"\", \"OH*\", \"\", \"O*\", \"\", \"OOH*\", \"\", \"O2(g)\"], \"textposition\": \"bottom center\", \"type\": \"scatter\", \"x\": [0, 1, 1, 2, 2, 3, 3, 4, 4, 5], \"xaxis\": \"x25\", \"y\": [0, 0, -1.351, -1.351, -0.989, -0.989, 2.167, 2.167, 4.92, 4.92], \"yaxis\": \"y25\"}, {\"mode\": \"lines+text\", \"name\": \"SrNiO3\", \"text\": [\"\", \"H2O\", \"\", \"OH*\", \"\", \"O*\", \"\", \"OOH*\", \"\", \"O2(g)\"], \"textposition\": \"bottom center\", \"type\": \"scatter\", \"x\": [0, 1, 1, 2, 2, 3, 3, 4, 4, 5], \"xaxis\": \"x26\", \"y\": [0, 0, 3.179, 3.179, 4.417, 4.417, 4.296, 4.296, 4.92, 4.92], \"yaxis\": \"y26\"}, {\"mode\": \"lines+text\", \"name\": \"RbIrO3\", \"text\": [\"\", \"H2O\", \"\", \"OH*\", \"\", \"O*\", \"\", \"OOH*\", \"\", \"O2(g)\"], \"textposition\": \"bottom center\", \"type\": \"scatter\", \"x\": [0, 1, 1, 2, 2, 3, 3, 4, 4, 5], \"xaxis\": \"x27\", \"y\": [0, 0, 0.681, 0.681, 2.395, 2.395, 3.79, 3.79, 4.92, 4.92], \"yaxis\": \"y27\"}, {\"mode\": \"lines+text\", \"name\": \"NaReO3\", \"text\": [\"\", \"H2O\", \"\", \"OH*\", \"\", \"O*\", \"\", \"OOH*\", \"\", \"O2(g)\"], \"textposition\": \"bottom center\", \"type\": \"scatter\", \"x\": [0, 1, 1, 2, 2, 3, 3, 4, 4, 5], \"xaxis\": \"x28\", \"y\": [0, 0, -1.126, -1.126, -0.717, -0.717, 2.104, 2.104, 4.92, 4.92], \"yaxis\": \"y28\"}, {\"mode\": \"lines+text\", \"name\": \"SrMnO3\", \"text\": [\"\", \"H2O\", \"\", \"OH*\", \"\", \"O*\", \"\", \"OOH*\", \"\", \"O2(g)\"], \"textposition\": \"bottom center\", \"type\": \"scatter\", \"x\": [0, 1, 1, 2, 2, 3, 3, 4, 4, 5], \"xaxis\": \"x29\", \"y\": [0, 0, 2.253, 2.253, 4.628, 4.628, 5.164, 5.164, 4.92, 4.92], \"yaxis\": \"y29\"}, {\"mode\": \"lines+text\", \"name\": \"CaFeO3\", \"text\": [\"\", \"H2O\", \"\", \"OH*\", \"\", \"O*\", \"\", \"OOH*\", \"\", \"O2(g)\"], \"textposition\": \"bottom center\", \"type\": \"scatter\", \"x\": [0, 1, 1, 2, 2, 3, 3, 4, 4, 5], \"xaxis\": \"x30\", \"y\": [0, 0, 1.632, 1.632, 4.257, 4.257, 4.581, 4.581, 4.92, 4.92], \"yaxis\": \"y30\"}, {\"mode\": \"lines+text\", \"name\": \"SrZrO3\", \"text\": [\"\", \"H2O\", \"\", \"OH*\", \"\", \"O*\", \"\", \"OOH*\", \"\", \"O2(g)\"], \"textposition\": \"bottom center\", \"type\": \"scatter\", \"x\": [0, 1, 1, 2, 2, 3, 3, 4, 4, 5], \"xaxis\": \"x31\", \"y\": [0, 0, 0.856, 0.856, 4.014, 4.014, 4.192, 4.192, 4.92, 4.92], \"yaxis\": \"y31\"}, {\"mode\": \"lines+text\", \"name\": \"NaWO3\", \"text\": [\"\", \"H2O\", \"\", \"OH*\", \"\", \"O*\", \"\", \"OOH*\", \"\", \"O2(g)\"], \"textposition\": \"bottom center\", \"type\": \"scatter\", \"x\": [0, 1, 1, 2, 2, 3, 3, 4, 4, 5], \"xaxis\": \"x32\", \"y\": [0, 0, \"NaN\", \"NaN\", -1.597, -1.597, \"NaN\", \"NaN\", 4.92, 4.92], \"yaxis\": \"y32\"}, {\"mode\": \"lines+text\", \"name\": \"RbTaO3\", \"text\": [\"\", \"H2O\", \"\", \"OH*\", \"\", \"O*\", \"\", \"OOH*\", \"\", \"O2(g)\"], \"textposition\": \"bottom center\", \"type\": \"scatter\", \"x\": [0, 1, 1, 2, 2, 3, 3, 4, 4, 5], \"xaxis\": \"x33\", \"y\": [0, 0, -1.292, -1.292, -0.637, -0.637, 2.274, 2.274, 4.92, 4.92], \"yaxis\": \"y33\"}, {\"mode\": \"lines+text\", \"name\": \"SrCoO3\", \"text\": [\"\", \"H2O\", \"\", \"OH*\", \"\", \"O*\", \"\", \"OOH*\", \"\", \"O2(g)\"], \"textposition\": \"bottom center\", \"type\": \"scatter\", \"x\": [0, 1, 1, 2, 2, 3, 3, 4, 4, 5], \"xaxis\": \"x34\", \"y\": [0, 0, 0.868, 0.868, 3.116, 3.116, 3.916, 3.916, 4.92, 4.92], \"yaxis\": \"y34\"}, {\"mode\": \"lines+text\", \"name\": \"SrTaO3\", \"text\": [\"\", \"H2O\", \"\", \"OH*\", \"\", \"O*\", \"\", \"OOH*\", \"\", \"O2(g)\"], \"textposition\": \"bottom center\", \"type\": \"scatter\", \"x\": [0, 1, 1, 2, 2, 3, 3, 4, 4, 5], \"xaxis\": \"x35\", \"y\": [0, 0, -2.318, -2.318, -2.803, -2.803, -5.211, -5.211, 4.92, 4.92], \"yaxis\": \"y35\"}, {\"mode\": \"lines+text\", \"name\": \"KZrO3\", \"text\": [\"\", \"H2O\", \"\", \"OH*\", \"\", \"O*\", \"\", \"OOH*\", \"\", \"O2(g)\"], \"textposition\": \"bottom center\", \"type\": \"scatter\", \"x\": [0, 1, 1, 2, 2, 3, 3, 4, 4, 5], \"xaxis\": \"x36\", \"y\": [0, 0, 1.712, 1.712, 4.496, 4.496, 4.48, 4.48, 4.92, 4.92], \"yaxis\": \"y36\"}, {\"mode\": \"lines+text\", \"name\": \"CaTiO3\", \"text\": [\"\", \"H2O\", \"\", \"OH*\", \"\", \"O*\", \"\", \"OOH*\", \"\", \"O2(g)\"], \"textposition\": \"bottom center\", \"type\": \"scatter\", \"x\": [0, 1, 1, 2, 2, 3, 3, 4, 4, 5], \"xaxis\": \"x37\", \"y\": [0, 0, 0.968, 0.968, 3.891, 3.891, 4.347, 4.347, 4.92, 4.92], \"yaxis\": \"y37\"}, {\"mode\": \"lines+text\", \"name\": \"NaRuO3\", \"text\": [\"\", \"H2O\", \"\", \"OH*\", \"\", \"O*\", \"\", \"OOH*\", \"\", \"O2(g)\"], \"textposition\": \"bottom center\", \"type\": \"scatter\", \"x\": [0, 1, 1, 2, 2, 3, 3, 4, 4, 5], \"xaxis\": \"x38\", \"y\": [0, 0, 0.451, 0.451, 1.851, 1.851, 3.459, 3.459, 4.92, 4.92], \"yaxis\": \"y38\"}, {\"mode\": \"lines+text\", \"name\": \"LiTcO3\", \"text\": [\"\", \"H2O\", \"\", \"OH*\", \"\", \"O*\", \"\", \"OOH*\", \"\", \"O2(g)\"], \"textposition\": \"bottom center\", \"type\": \"scatter\", \"x\": [0, 1, 1, 2, 2, 3, 3, 4, 4, 5], \"xaxis\": \"x39\", \"y\": [0, 0, -0.143, -0.143, 0.601, 0.601, 3.006, 3.006, 4.92, 4.92], \"yaxis\": \"y39\"}, {\"mode\": \"lines+text\", \"name\": \"SrPdO3\", \"text\": [\"\", \"H2O\", \"\", \"OH*\", \"\", \"O*\", \"\", \"OOH*\", \"\", \"O2(g)\"], \"textposition\": \"bottom center\", \"type\": \"scatter\", \"x\": [0, 1, 1, 2, 2, 3, 3, 4, 4, 5], \"xaxis\": \"x40\", \"y\": [0, 0, 0.604, 0.604, 3.156, 3.156, 3.396, 3.396, 4.92, 4.92], \"yaxis\": \"y40\"}, {\"mode\": \"lines+text\", \"name\": \"KWO3\", \"text\": [\"\", \"H2O\", \"\", \"OH*\", \"\", \"O*\", \"\", \"OOH*\", \"\", \"O2(g)\"], \"textposition\": \"bottom center\", \"type\": \"scatter\", \"x\": [0, 1, 1, 2, 2, 3, 3, 4, 4, 5], \"xaxis\": \"x41\", \"y\": [0, 0, -1.419, -1.419, -1.22, -1.22, 1.722, 1.722, 4.92, 4.92], \"yaxis\": \"y41\"}, {\"mode\": \"lines+text\", \"name\": \"KRhO3\", \"text\": [\"\", \"H2O\", \"\", \"OH*\", \"\", \"O*\", \"\", \"OOH*\", \"\", \"O2(g)\"], \"textposition\": \"bottom center\", \"type\": \"scatter\", \"x\": [0, 1, 1, 2, 2, 3, 3, 4, 4, 5], \"xaxis\": \"x42\", \"y\": [0, 0, 1.273, 1.273, 3.301, 3.301, 4.159, 4.159, 4.92, 4.92], \"yaxis\": \"y42\"}, {\"mode\": \"lines+text\", \"name\": \"BaCuO3\", \"text\": [\"\", \"H2O\", \"\", \"OH*\", \"\", \"O*\", \"\", \"OOH*\", \"\", \"O2(g)\"], \"textposition\": \"bottom center\", \"type\": \"scatter\", \"x\": [0, 1, 1, 2, 2, 3, 3, 4, 4, 5], \"xaxis\": \"x43\", \"y\": [0, 0, 1.526, 1.526, 3.93, 3.93, 4.41, 4.41, 4.92, 4.92], \"yaxis\": \"y43\"}, {\"mode\": \"lines+text\", \"name\": \"RbNbO3\", \"text\": [\"\", \"H2O\", \"\", \"OH*\", \"\", \"O*\", \"\", \"OOH*\", \"\", \"O2(g)\"], \"textposition\": \"bottom center\", \"type\": \"scatter\", \"x\": [0, 1, 1, 2, 2, 3, 3, 4, 4, 5], \"xaxis\": \"x44\", \"y\": [0, 0, -0.639, -0.639, 0.262, 0.262, 2.842, 2.842, 4.92, 4.92], \"yaxis\": \"y44\"}, {\"mode\": \"lines+text\", \"name\": \"BaOsO3\", \"text\": [\"\", \"H2O\", \"\", \"OH*\", \"\", \"O*\", \"\", \"OOH*\", \"\", \"O2(g)\"], \"textposition\": \"bottom center\", \"type\": \"scatter\", \"x\": [0, 1, 1, 2, 2, 3, 3, 4, 4, 5], \"xaxis\": \"x45\", \"y\": [0, 0, -1.779, -1.779, -0.748, -0.748, 1.796, 1.796, 4.92, 4.92], \"yaxis\": \"y45\"}, {\"mode\": \"lines+text\", \"name\": \"BaRuO3\", \"text\": [\"\", \"H2O\", \"\", \"OH*\", \"\", \"O*\", \"\", \"OOH*\", \"\", \"O2(g)\"], \"textposition\": \"bottom center\", \"type\": \"scatter\", \"x\": [0, 1, 1, 2, 2, 3, 3, 4, 4, 5], \"xaxis\": \"x46\", \"y\": [0, 0, 0.151, 0.151, 1.283, 1.283, 3.168, 3.168, 4.92, 4.92], \"yaxis\": \"y46\"}, {\"mode\": \"lines+text\", \"name\": \"KRuO3\", \"text\": [\"\", \"H2O\", \"\", \"OH*\", \"\", \"O*\", \"\", \"OOH*\", \"\", \"O2(g)\"], \"textposition\": \"bottom center\", \"type\": \"scatter\", \"x\": [0, 1, 1, 2, 2, 3, 3, 4, 4, 5], \"xaxis\": \"x47\", \"y\": [0, 0, 0.535, 0.535, 1.986, 1.986, 3.627, 3.627, 4.92, 4.92], \"yaxis\": \"y47\"}, {\"mode\": \"lines+text\", \"name\": \"SrMoO3\", \"text\": [\"\", \"H2O\", \"\", \"OH*\", \"\", \"O*\", \"\", \"OOH*\", \"\", \"O2(g)\"], \"textposition\": \"bottom center\", \"type\": \"scatter\", \"x\": [0, 1, 1, 2, 2, 3, 3, 4, 4, 5], \"xaxis\": \"x48\", \"y\": [0, 0, -1.425, -1.425, -1.395, -1.395, 1.871, 1.871, 4.92, 4.92], \"yaxis\": \"y48\"}, {\"mode\": \"lines+text\", \"name\": \"NaTiO3\", \"text\": [\"\", \"H2O\", \"\", \"OH*\", \"\", \"O*\", \"\", \"OOH*\", \"\", \"O2(g)\"], \"textposition\": \"bottom center\", \"type\": \"scatter\", \"x\": [0, 1, 1, 2, 2, 3, 3, 4, 4, 5], \"xaxis\": \"x49\", \"y\": [0, 0, 1.91, 1.91, 4.548, 4.548, 4.573, 4.573, 4.92, 4.92], \"yaxis\": \"y49\"}, {\"mode\": \"lines+text\", \"name\": \"SrScO3\", \"text\": [\"\", \"H2O\", \"\", \"OH*\", \"\", \"O*\", \"\", \"OOH*\", \"\", \"O2(g)\"], \"textposition\": \"bottom center\", \"type\": \"scatter\", \"x\": [0, 1, 1, 2, 2, 3, 3, 4, 4, 5], \"xaxis\": \"x50\", \"y\": [0, 0, 1.851, 1.851, 4.657, 4.657, 4.618, 4.618, 4.92, 4.92], \"yaxis\": \"y50\"}, {\"mode\": \"lines+text\", \"name\": \"RbOsO3\", \"text\": [\"\", \"H2O\", \"\", \"OH*\", \"\", \"O*\", \"\", \"OOH*\", \"\", \"O2(g)\"], \"textposition\": \"bottom center\", \"type\": \"scatter\", \"x\": [0, 1, 1, 2, 2, 3, 3, 4, 4, 5], \"xaxis\": \"x51\", \"y\": [0, 0, -0.225, -0.225, \"NaN\", \"NaN\", 2.427, 2.427, 4.92, 4.92], \"yaxis\": \"y51\"}, {\"mode\": \"lines+text\", \"name\": \"SrRhO3\", \"text\": [\"\", \"H2O\", \"\", \"OH*\", \"\", \"O*\", \"\", \"OOH*\", \"\", \"O2(g)\"], \"textposition\": \"bottom center\", \"type\": \"scatter\", \"x\": [0, 1, 1, 2, 2, 3, 3, 4, 4, 5], \"xaxis\": \"x52\", \"y\": [0, 0, 0.204, 0.204, 2.131, 2.131, 3.151, 3.151, 4.92, 4.92], \"yaxis\": \"y52\"}, {\"mode\": \"lines+text\", \"name\": \"NaMoO3\", \"text\": [\"\", \"H2O\", \"\", \"OH*\", \"\", \"O*\", \"\", \"OOH*\", \"\", \"O2(g)\"], \"textposition\": \"bottom center\", \"type\": \"scatter\", \"x\": [0, 1, 1, 2, 2, 3, 3, 4, 4, 5], \"xaxis\": \"x53\", \"y\": [0, 0, -0.71, -0.71, -0.685, -0.685, 2.279, 2.279, 4.92, 4.92], \"yaxis\": \"y53\"}, {\"mode\": \"lines+text\", \"name\": \"SrOsO3\", \"text\": [\"\", \"H2O\", \"\", \"OH*\", \"\", \"O*\", \"\", \"OOH*\", \"\", \"O2(g)\"], \"textposition\": \"bottom center\", \"type\": \"scatter\", \"x\": [0, 1, 1, 2, 2, 3, 3, 4, 4, 5], \"xaxis\": \"x54\", \"y\": [0, 0, -0.842, -0.842, \"NaN\", \"NaN\", \"NaN\", \"NaN\", 4.92, 4.92], \"yaxis\": \"y54\"}, {\"mode\": \"lines+text\", \"name\": \"BaRhO3\", \"text\": [\"\", \"H2O\", \"\", \"OH*\", \"\", \"O*\", \"\", \"OOH*\", \"\", \"O2(g)\"], \"textposition\": \"bottom center\", \"type\": \"scatter\", \"x\": [0, 1, 1, 2, 2, 3, 3, 4, 4, 5], \"xaxis\": \"x55\", \"y\": [0, 0, 0.791, 0.791, 2.441, 2.441, 3.77, 3.77, 4.92, 4.92], \"yaxis\": \"y55\"}, {\"mode\": \"lines+text\", \"name\": \"BaPtO3\", \"text\": [\"\", \"H2O\", \"\", \"OH*\", \"\", \"O*\", \"\", \"OOH*\", \"\", \"O2(g)\"], \"textposition\": \"bottom center\", \"type\": \"scatter\", \"x\": [0, 1, 1, 2, 2, 3, 3, 4, 4, 5], \"xaxis\": \"x56\", \"y\": [0, 0, 0.806, 0.806, 2.54, 2.54, 3.814, 3.814, 4.92, 4.92], \"yaxis\": \"y56\"}, {\"mode\": \"lines+text\", \"name\": \"CaVO3\", \"text\": [\"\", \"H2O\", \"\", \"OH*\", \"\", \"O*\", \"\", \"OOH*\", \"\", \"O2(g)\"], \"textposition\": \"bottom center\", \"type\": \"scatter\", \"x\": [0, 1, 1, 2, 2, 3, 3, 4, 4, 5], \"xaxis\": \"x57\", \"y\": [0, 0, -0.476, -0.476, 0.369, 0.369, 3.031, 3.031, 4.92, 4.92], \"yaxis\": \"y57\"}, {\"mode\": \"lines+text\", \"name\": \"KMoO3\", \"text\": [\"\", \"H2O\", \"\", \"OH*\", \"\", \"O*\", \"\", \"OOH*\", \"\", \"O2(g)\"], \"textposition\": \"bottom center\", \"type\": \"scatter\", \"x\": [0, 1, 1, 2, 2, 3, 3, 4, 4, 5], \"xaxis\": \"x58\", \"y\": [0, 0, -0.853, -0.853, -0.432, -0.432, 2.287, 2.287, 4.92, 4.92], \"yaxis\": \"y58\"}, {\"mode\": \"lines+text\", \"name\": \"SrCrO3\", \"text\": [\"\", \"H2O\", \"\", \"OH*\", \"\", \"O*\", \"\", \"OOH*\", \"\", \"O2(g)\"], \"textposition\": \"bottom center\", \"type\": \"scatter\", \"x\": [0, 1, 1, 2, 2, 3, 3, 4, 4, 5], \"xaxis\": \"x59\", \"y\": [0, 0, 0.351, 0.351, 2.026, 2.026, 3.484, 3.484, 4.92, 4.92], \"yaxis\": \"y59\"}, {\"mode\": \"lines+text\", \"name\": \"SrAgO3\", \"text\": [\"\", \"H2O\", \"\", \"OH*\", \"\", \"O*\", \"\", \"OOH*\", \"\", \"O2(g)\"], \"textposition\": \"bottom center\", \"type\": \"scatter\", \"x\": [0, 1, 1, 2, 2, 3, 3, 4, 4, 5], \"xaxis\": \"x60\", \"y\": [0, 0, 1.608, 1.608, 4.27, 4.27, 2.388, 2.388, 4.92, 4.92], \"yaxis\": \"y60\"}, {\"mode\": \"lines+text\", \"name\": \"RbRhO3\", \"text\": [\"\", \"H2O\", \"\", \"OH*\", \"\", \"O*\", \"\", \"OOH*\", \"\", \"O2(g)\"], \"textposition\": \"bottom center\", \"type\": \"scatter\", \"x\": [0, 1, 1, 2, 2, 3, 3, 4, 4, 5], \"xaxis\": \"x61\", \"y\": [0, 0, 0.995, 0.995, 3.18, 3.18, 3.724, 3.724, 4.92, 4.92], \"yaxis\": \"y61\"}, {\"mode\": \"lines+text\", \"name\": \"BaVO3\", \"text\": [\"\", \"H2O\", \"\", \"OH*\", \"\", \"O*\", \"\", \"OOH*\", \"\", \"O2(g)\"], \"textposition\": \"bottom center\", \"type\": \"scatter\", \"x\": [0, 1, 1, 2, 2, 3, 3, 4, 4, 5], \"xaxis\": \"x62\", \"y\": [0, 0, -0.769, -0.769, 0.484, 0.484, 3.021, 3.021, 4.92, 4.92], \"yaxis\": \"y62\"}, {\"mode\": \"lines+text\", \"name\": \"CaCoO3\", \"text\": [\"\", \"H2O\", \"\", \"OH*\", \"\", \"O*\", \"\", \"OOH*\", \"\", \"O2(g)\"], \"textposition\": \"bottom center\", \"type\": \"scatter\", \"x\": [0, 1, 1, 2, 2, 3, 3, 4, 4, 5], \"xaxis\": \"x63\", \"y\": [0, 0, 1.341, 1.341, 3.405, 3.405, 4.338, 4.338, 4.92, 4.92], \"yaxis\": \"y63\"}, {\"mode\": \"lines+text\", \"name\": \"CaMnO3\", \"text\": [\"\", \"H2O\", \"\", \"OH*\", \"\", \"O*\", \"\", \"OOH*\", \"\", \"O2(g)\"], \"textposition\": \"bottom center\", \"type\": \"scatter\", \"x\": [0, 1, 1, 2, 2, 3, 3, 4, 4, 5], \"xaxis\": \"x64\", \"y\": [0, 0, 1.113, 1.113, 4.269, 4.269, 4.622, 4.622, 4.92, 4.92], \"yaxis\": \"y64\"}, {\"mode\": \"lines+text\", \"name\": \"KPtO3\", \"text\": [\"\", \"H2O\", \"\", \"OH*\", \"\", \"O*\", \"\", \"OOH*\", \"\", \"O2(g)\"], \"textposition\": \"bottom center\", \"type\": \"scatter\", \"x\": [0, 1, 1, 2, 2, 3, 3, 4, 4, 5], \"xaxis\": \"x65\", \"y\": [0, 0, 0.997, 0.997, 2.928, 2.928, 3.935, 3.935, 4.92, 4.92], \"yaxis\": \"y65\"}, {\"mode\": \"lines+text\", \"name\": \"BaNiO3\", \"text\": [\"\", \"H2O\", \"\", \"OH*\", \"\", \"O*\", \"\", \"OOH*\", \"\", \"O2(g)\"], \"textposition\": \"bottom center\", \"type\": \"scatter\", \"x\": [0, 1, 1, 2, 2, 3, 3, 4, 4, 5], \"xaxis\": \"x66\", \"y\": [0, 0, 1.972, 1.972, 4.39, 4.39, 4.598, 4.598, 4.92, 4.92], \"yaxis\": \"y66\"}, {\"mode\": \"lines+text\", \"name\": \"BaMnO3\", \"text\": [\"\", \"H2O\", \"\", \"OH*\", \"\", \"O*\", \"\", \"OOH*\", \"\", \"O2(g)\"], \"textposition\": \"bottom center\", \"type\": \"scatter\", \"x\": [0, 1, 1, 2, 2, 3, 3, 4, 4, 5], \"xaxis\": \"x67\", \"y\": [0, 0, 1.36, 1.36, 2.923, 2.923, 4.569, 4.569, 4.92, 4.92], \"yaxis\": \"y67\"}, {\"mode\": \"lines+text\", \"name\": \"SrReO3\", \"text\": [\"\", \"H2O\", \"\", \"OH*\", \"\", \"O*\", \"\", \"OOH*\", \"\", \"O2(g)\"], \"textposition\": \"bottom center\", \"type\": \"scatter\", \"x\": [0, 1, 1, 2, 2, 3, 3, 4, 4, 5], \"xaxis\": \"x68\", \"y\": [0, 0, -1.576, -1.576, -1.298, -1.298, -2.934, -2.934, 4.92, 4.92], \"yaxis\": \"y68\"}, {\"mode\": \"lines+text\", \"name\": \"BaReO3\", \"text\": [\"\", \"H2O\", \"\", \"OH*\", \"\", \"O*\", \"\", \"OOH*\", \"\", \"O2(g)\"], \"textposition\": \"bottom center\", \"type\": \"scatter\", \"x\": [0, 1, 1, 2, 2, 3, 3, 4, 4, 5], \"xaxis\": \"x69\", \"y\": [0, 0, -1.07, -1.07, -1.149, -1.149, -2.258, -2.258, 4.92, 4.92], \"yaxis\": \"y69\"}, {\"mode\": \"lines+text\", \"name\": \"SrIrO3\", \"text\": [\"\", \"H2O\", \"\", \"OH*\", \"\", \"O*\", \"\", \"OOH*\", \"\", \"O2(g)\"], \"textposition\": \"bottom center\", \"type\": \"scatter\", \"x\": [0, 1, 1, 2, 2, 3, 3, 4, 4, 5], \"xaxis\": \"x70\", \"y\": [0, 0, 0.129, 0.129, 1.653, 1.653, 3.201, 3.201, 4.92, 4.92], \"yaxis\": \"y70\"}, {\"mode\": \"lines+text\", \"name\": \"NaVO3\", \"text\": [\"\", \"H2O\", \"\", \"OH*\", \"\", \"O*\", \"\", \"OOH*\", \"\", \"O2(g)\"], \"textposition\": \"bottom center\", \"type\": \"scatter\", \"x\": [0, 1, 1, 2, 2, 3, 3, 4, 4, 5], \"xaxis\": \"x71\", \"y\": [0, 0, 0.225, 0.225, 1.723, 1.723, 3.566, 3.566, 4.92, 4.92], \"yaxis\": \"y71\"}, {\"mode\": \"lines+text\", \"name\": \"NaFeO3\", \"text\": [\"\", \"H2O\", \"\", \"OH*\", \"\", \"O*\", \"\", \"OOH*\", \"\", \"O2(g)\"], \"textposition\": \"bottom center\", \"type\": \"scatter\", \"x\": [0, 1, 1, 2, 2, 3, 3, 4, 4, 5], \"xaxis\": \"x72\", \"y\": [0, 0, 2.03, 2.03, 4.605, 4.605, 4.683, 4.683, 4.92, 4.92], \"yaxis\": \"y72\"}, {\"mode\": \"lines+text\", \"name\": \"BaIrO3\", \"text\": [\"\", \"H2O\", \"\", \"OH*\", \"\", \"O*\", \"\", \"OOH*\", \"\", \"O2(g)\"], \"textposition\": \"bottom center\", \"type\": \"scatter\", \"x\": [0, 1, 1, 2, 2, 3, 3, 4, 4, 5], \"xaxis\": \"x73\", \"y\": [0, 0, 0.351, 0.351, 1.969, 1.969, 3.483, 3.483, 4.92, 4.92], \"yaxis\": \"y73\"}, {\"mode\": \"lines+text\", \"name\": \"RbReO3\", \"text\": [\"\", \"H2O\", \"\", \"OH*\", \"\", \"O*\", \"\", \"OOH*\", \"\", \"O2(g)\"], \"textposition\": \"bottom center\", \"type\": \"scatter\", \"x\": [0, 1, 1, 2, 2, 3, 3, 4, 4, 5], \"xaxis\": \"x74\", \"y\": [0, 0, -0.973, -0.973, -0.512, -0.512, 2.236, 2.236, 4.92, 4.92], \"yaxis\": \"y74\"}, {\"mode\": \"lines+text\", \"name\": \"CaRuO3\", \"text\": [\"\", \"H2O\", \"\", \"OH*\", \"\", \"O*\", \"\", \"OOH*\", \"\", \"O2(g)\"], \"textposition\": \"bottom center\", \"type\": \"scatter\", \"x\": [0, 1, 1, 2, 2, 3, 3, 4, 4, 5], \"xaxis\": \"x75\", \"y\": [0, 0, -0.658, -0.658, 0.66, 0.66, 2.169, 2.169, 4.92, 4.92], \"yaxis\": \"y75\"}, {\"mode\": \"lines+text\", \"name\": \"RbPdO3\", \"text\": [\"\", \"H2O\", \"\", \"OH*\", \"\", \"O*\", \"\", \"OOH*\", \"\", \"O2(g)\"], \"textposition\": \"bottom center\", \"type\": \"scatter\", \"x\": [0, 1, 1, 2, 2, 3, 3, 4, 4, 5], \"xaxis\": \"x76\", \"y\": [0, 0, 1.018, 1.018, 3.163, 3.163, 3.886, 3.886, 4.92, 4.92], \"yaxis\": \"y76\"}, {\"mode\": \"lines+text\", \"name\": \"CaHfO3\", \"text\": [\"\", \"H2O\", \"\", \"OH*\", \"\", \"O*\", \"\", \"OOH*\", \"\", \"O2(g)\"], \"textposition\": \"bottom center\", \"type\": \"scatter\", \"x\": [0, 1, 1, 2, 2, 3, 3, 4, 4, 5], \"xaxis\": \"x77\", \"y\": [0, 0, 0.324, 0.324, 3.622, 3.622, 3.515, 3.515, 4.92, 4.92], \"yaxis\": \"y77\"}, {\"mode\": \"lines+text\", \"name\": \"TlWO3\", \"text\": [\"\", \"H2O\", \"\", \"OH*\", \"\", \"O*\", \"\", \"OOH*\", \"\", \"O2(g)\"], \"textposition\": \"bottom center\", \"type\": \"scatter\", \"x\": [0, 1, 1, 2, 2, 3, 3, 4, 4, 5], \"xaxis\": \"x78\", \"y\": [0, 0, -1.702, -1.702, -0.924, -0.924, 1.812, 1.812, 4.92, 4.92], \"yaxis\": \"y78\"}, {\"mode\": \"lines+text\", \"name\": \"RbWO3\", \"text\": [\"\", \"H2O\", \"\", \"OH*\", \"\", \"O*\", \"\", \"OOH*\", \"\", \"O2(g)\"], \"textposition\": \"bottom center\", \"type\": \"scatter\", \"x\": [0, 1, 1, 2, 2, 3, 3, 4, 4, 5], \"xaxis\": \"x79\", \"y\": [0, 0, -1.41, -1.41, -1.076, -1.076, 2.254, 2.254, 4.92, 4.92], \"yaxis\": \"y79\"}, {\"mode\": \"lines+text\", \"name\": \"RbPtO3\", \"text\": [\"\", \"H2O\", \"\", \"OH*\", \"\", \"O*\", \"\", \"OOH*\", \"\", \"O2(g)\"], \"textposition\": \"bottom center\", \"type\": \"scatter\", \"x\": [0, 1, 1, 2, 2, 3, 3, 4, 4, 5], \"xaxis\": \"x80\", \"y\": [0, 0, 0.739, 0.739, 2.707, 2.707, 3.675, 3.675, 4.92, 4.92], \"yaxis\": \"y80\"}],                        {\"annotations\": [{\"font\": {\"size\": 16}, \"showarrow\": false, \"text\": \"SrTcO3\", \"x\": 0.5, \"xanchor\": \"center\", \"xref\": \"paper\", \"y\": 1.0000000000000004, \"yanchor\": \"bottom\", \"yref\": \"paper\"}, {\"font\": {\"size\": 16}, \"showarrow\": false, \"text\": \"BaFeO3\", \"x\": 0.5, \"xanchor\": \"center\", \"xref\": \"paper\", \"y\": 0.9874218750000006, \"yanchor\": \"bottom\", \"yref\": \"paper\"}, {\"font\": {\"size\": 16}, \"showarrow\": false, \"text\": \"BaMoO3\", \"x\": 0.5, \"xanchor\": \"center\", \"xref\": \"paper\", \"y\": 0.9748437500000005, \"yanchor\": \"bottom\", \"yref\": \"paper\"}, {\"font\": {\"size\": 16}, \"showarrow\": false, \"text\": \"KTaO3\", \"x\": 0.5, \"xanchor\": \"center\", \"xref\": \"paper\", \"y\": 0.9622656250000006, \"yanchor\": \"bottom\", \"yref\": \"paper\"}, {\"font\": {\"size\": 16}, \"showarrow\": false, \"text\": \"BaZrO3\", \"x\": 0.5, \"xanchor\": \"center\", \"xref\": \"paper\", \"y\": 0.9496875000000005, \"yanchor\": \"bottom\", \"yref\": \"paper\"}, {\"font\": {\"size\": 16}, \"showarrow\": false, \"text\": \"SrFeO3\", \"x\": 0.5, \"xanchor\": \"center\", \"xref\": \"paper\", \"y\": 0.9371093750000005, \"yanchor\": \"bottom\", \"yref\": \"paper\"}, {\"font\": {\"size\": 16}, \"showarrow\": false, \"text\": \"KTcO3\", \"x\": 0.5, \"xanchor\": \"center\", \"xref\": \"paper\", \"y\": 0.9245312500000005, \"yanchor\": \"bottom\", \"yref\": \"paper\"}, {\"font\": {\"size\": 16}, \"showarrow\": false, \"text\": \"NaTcO3\", \"x\": 0.5, \"xanchor\": \"center\", \"xref\": \"paper\", \"y\": 0.9119531250000004, \"yanchor\": \"bottom\", \"yref\": \"paper\"}, {\"font\": {\"size\": 16}, \"showarrow\": false, \"text\": \"BaHfO3\", \"x\": 0.5, \"xanchor\": \"center\", \"xref\": \"paper\", \"y\": 0.8993750000000005, \"yanchor\": \"bottom\", \"yref\": \"paper\"}, {\"font\": {\"size\": 16}, \"showarrow\": false, \"text\": \"SrTiO3\", \"x\": 0.5, \"xanchor\": \"center\", \"xref\": \"paper\", \"y\": 0.8867968750000004, \"yanchor\": \"bottom\", \"yref\": \"paper\"}, {\"font\": {\"size\": 16}, \"showarrow\": false, \"text\": \"SrCuO3\", \"x\": 0.5, \"xanchor\": \"center\", \"xref\": \"paper\", \"y\": 0.8742187500000004, \"yanchor\": \"bottom\", \"yref\": \"paper\"}, {\"font\": {\"size\": 16}, \"showarrow\": false, \"text\": \"KNbO3\", \"x\": 0.5, \"xanchor\": \"center\", \"xref\": \"paper\", \"y\": 0.8616406250000004, \"yanchor\": \"bottom\", \"yref\": \"paper\"}, {\"font\": {\"size\": 16}, \"showarrow\": false, \"text\": \"NaTaO3\", \"x\": 0.5, \"xanchor\": \"center\", \"xref\": \"paper\", \"y\": 0.8490625000000003, \"yanchor\": \"bottom\", \"yref\": \"paper\"}, {\"font\": {\"size\": 16}, \"showarrow\": false, \"text\": \"BaScO3\", \"x\": 0.5, \"xanchor\": \"center\", \"xref\": \"paper\", \"y\": 0.8364843750000004, \"yanchor\": \"bottom\", \"yref\": \"paper\"}, {\"font\": {\"size\": 16}, \"showarrow\": false, \"text\": \"BaPdO3\", \"x\": 0.5, \"xanchor\": \"center\", \"xref\": \"paper\", \"y\": 0.8239062500000003, \"yanchor\": \"bottom\", \"yref\": \"paper\"}, {\"font\": {\"size\": 16}, \"showarrow\": false, \"text\": \"BaTaO3\", \"x\": 0.5, \"xanchor\": \"center\", \"xref\": \"paper\", \"y\": 0.8113281250000003, \"yanchor\": \"bottom\", \"yref\": \"paper\"}, {\"font\": {\"size\": 16}, \"showarrow\": false, \"text\": \"SrHfO3\", \"x\": 0.5, \"xanchor\": \"center\", \"xref\": \"paper\", \"y\": 0.7987500000000003, \"yanchor\": \"bottom\", \"yref\": \"paper\"}, {\"font\": {\"size\": 16}, \"showarrow\": false, \"text\": \"NaOsO3\", \"x\": 0.5, \"xanchor\": \"center\", \"xref\": \"paper\", \"y\": 0.7861718750000002, \"yanchor\": \"bottom\", \"yref\": \"paper\"}, {\"font\": {\"size\": 16}, \"showarrow\": false, \"text\": \"TlTcO3\", \"x\": 0.5, \"xanchor\": \"center\", \"xref\": \"paper\", \"y\": 0.7735937500000003, \"yanchor\": \"bottom\", \"yref\": \"paper\"}, {\"font\": {\"size\": 16}, \"showarrow\": false, \"text\": \"KReO3\", \"x\": 0.5, \"xanchor\": \"center\", \"xref\": \"paper\", \"y\": 0.7610156250000002, \"yanchor\": \"bottom\", \"yref\": \"paper\"}, {\"font\": {\"size\": 16}, \"showarrow\": false, \"text\": \"SrRuO3\", \"x\": 0.5, \"xanchor\": \"center\", \"xref\": \"paper\", \"y\": 0.7484375000000002, \"yanchor\": \"bottom\", \"yref\": \"paper\"}, {\"font\": {\"size\": 16}, \"showarrow\": false, \"text\": \"KHfO3\", \"x\": 0.5, \"xanchor\": \"center\", \"xref\": \"paper\", \"y\": 0.7358593750000002, \"yanchor\": \"bottom\", \"yref\": \"paper\"}, {\"font\": {\"size\": 16}, \"showarrow\": false, \"text\": \"SrVO3\", \"x\": 0.5, \"xanchor\": \"center\", \"xref\": \"paper\", \"y\": 0.7232812500000001, \"yanchor\": \"bottom\", \"yref\": \"paper\"}, {\"font\": {\"size\": 16}, \"showarrow\": false, \"text\": \"KOsO3\", \"x\": 0.5, \"xanchor\": \"center\", \"xref\": \"paper\", \"y\": 0.7107031250000002, \"yanchor\": \"bottom\", \"yref\": \"paper\"}, {\"font\": {\"size\": 16}, \"showarrow\": false, \"text\": \"TaAgO3\", \"x\": 0.5, \"xanchor\": \"center\", \"xref\": \"paper\", \"y\": 0.6981250000000001, \"yanchor\": \"bottom\", \"yref\": \"paper\"}, {\"font\": {\"size\": 16}, \"showarrow\": false, \"text\": \"SrNiO3\", \"x\": 0.5, \"xanchor\": \"center\", \"xref\": \"paper\", \"y\": 0.6855468750000001, \"yanchor\": \"bottom\", \"yref\": \"paper\"}, {\"font\": {\"size\": 16}, \"showarrow\": false, \"text\": \"RbIrO3\", \"x\": 0.5, \"xanchor\": \"center\", \"xref\": \"paper\", \"y\": 0.6729687500000001, \"yanchor\": \"bottom\", \"yref\": \"paper\"}, {\"font\": {\"size\": 16}, \"showarrow\": false, \"text\": \"NaReO3\", \"x\": 0.5, \"xanchor\": \"center\", \"xref\": \"paper\", \"y\": 0.660390625, \"yanchor\": \"bottom\", \"yref\": \"paper\"}, {\"font\": {\"size\": 16}, \"showarrow\": false, \"text\": \"SrMnO3\", \"x\": 0.5, \"xanchor\": \"center\", \"xref\": \"paper\", \"y\": 0.6478125000000001, \"yanchor\": \"bottom\", \"yref\": \"paper\"}, {\"font\": {\"size\": 16}, \"showarrow\": false, \"text\": \"CaFeO3\", \"x\": 0.5, \"xanchor\": \"center\", \"xref\": \"paper\", \"y\": 0.635234375, \"yanchor\": \"bottom\", \"yref\": \"paper\"}, {\"font\": {\"size\": 16}, \"showarrow\": false, \"text\": \"SrZrO3\", \"x\": 0.5, \"xanchor\": \"center\", \"xref\": \"paper\", \"y\": 0.62265625, \"yanchor\": \"bottom\", \"yref\": \"paper\"}, {\"font\": {\"size\": 16}, \"showarrow\": false, \"text\": \"NaWO3\", \"x\": 0.5, \"xanchor\": \"center\", \"xref\": \"paper\", \"y\": 0.610078125, \"yanchor\": \"bottom\", \"yref\": \"paper\"}, {\"font\": {\"size\": 16}, \"showarrow\": false, \"text\": \"RbTaO3\", \"x\": 0.5, \"xanchor\": \"center\", \"xref\": \"paper\", \"y\": 0.5974999999999999, \"yanchor\": \"bottom\", \"yref\": \"paper\"}, {\"font\": {\"size\": 16}, \"showarrow\": false, \"text\": \"SrCoO3\", \"x\": 0.5, \"xanchor\": \"center\", \"xref\": \"paper\", \"y\": 0.584921875, \"yanchor\": \"bottom\", \"yref\": \"paper\"}, {\"font\": {\"size\": 16}, \"showarrow\": false, \"text\": \"SrTaO3\", \"x\": 0.5, \"xanchor\": \"center\", \"xref\": \"paper\", \"y\": 0.5723437499999999, \"yanchor\": \"bottom\", \"yref\": \"paper\"}, {\"font\": {\"size\": 16}, \"showarrow\": false, \"text\": \"KZrO3\", \"x\": 0.5, \"xanchor\": \"center\", \"xref\": \"paper\", \"y\": 0.5597656249999999, \"yanchor\": \"bottom\", \"yref\": \"paper\"}, {\"font\": {\"size\": 16}, \"showarrow\": false, \"text\": \"CaTiO3\", \"x\": 0.5, \"xanchor\": \"center\", \"xref\": \"paper\", \"y\": 0.5471874999999999, \"yanchor\": \"bottom\", \"yref\": \"paper\"}, {\"font\": {\"size\": 16}, \"showarrow\": false, \"text\": \"NaRuO3\", \"x\": 0.5, \"xanchor\": \"center\", \"xref\": \"paper\", \"y\": 0.5346093749999998, \"yanchor\": \"bottom\", \"yref\": \"paper\"}, {\"font\": {\"size\": 16}, \"showarrow\": false, \"text\": \"LiTcO3\", \"x\": 0.5, \"xanchor\": \"center\", \"xref\": \"paper\", \"y\": 0.52203125, \"yanchor\": \"bottom\", \"yref\": \"paper\"}, {\"font\": {\"size\": 16}, \"showarrow\": false, \"text\": \"SrPdO3\", \"x\": 0.5, \"xanchor\": \"center\", \"xref\": \"paper\", \"y\": 0.5094531249999998, \"yanchor\": \"bottom\", \"yref\": \"paper\"}, {\"font\": {\"size\": 16}, \"showarrow\": false, \"text\": \"KWO3\", \"x\": 0.5, \"xanchor\": \"center\", \"xref\": \"paper\", \"y\": 0.49687499999999984, \"yanchor\": \"bottom\", \"yref\": \"paper\"}, {\"font\": {\"size\": 16}, \"showarrow\": false, \"text\": \"KRhO3\", \"x\": 0.5, \"xanchor\": \"center\", \"xref\": \"paper\", \"y\": 0.48429687499999985, \"yanchor\": \"bottom\", \"yref\": \"paper\"}, {\"font\": {\"size\": 16}, \"showarrow\": false, \"text\": \"BaCuO3\", \"x\": 0.5, \"xanchor\": \"center\", \"xref\": \"paper\", \"y\": 0.47171874999999985, \"yanchor\": \"bottom\", \"yref\": \"paper\"}, {\"font\": {\"size\": 16}, \"showarrow\": false, \"text\": \"RbNbO3\", \"x\": 0.5, \"xanchor\": \"center\", \"xref\": \"paper\", \"y\": 0.45914062499999986, \"yanchor\": \"bottom\", \"yref\": \"paper\"}, {\"font\": {\"size\": 16}, \"showarrow\": false, \"text\": \"BaOsO3\", \"x\": 0.5, \"xanchor\": \"center\", \"xref\": \"paper\", \"y\": 0.44656249999999986, \"yanchor\": \"bottom\", \"yref\": \"paper\"}, {\"font\": {\"size\": 16}, \"showarrow\": false, \"text\": \"BaRuO3\", \"x\": 0.5, \"xanchor\": \"center\", \"xref\": \"paper\", \"y\": 0.4339843749999999, \"yanchor\": \"bottom\", \"yref\": \"paper\"}, {\"font\": {\"size\": 16}, \"showarrow\": false, \"text\": \"KRuO3\", \"x\": 0.5, \"xanchor\": \"center\", \"xref\": \"paper\", \"y\": 0.4214062499999999, \"yanchor\": \"bottom\", \"yref\": \"paper\"}, {\"font\": {\"size\": 16}, \"showarrow\": false, \"text\": \"SrMoO3\", \"x\": 0.5, \"xanchor\": \"center\", \"xref\": \"paper\", \"y\": 0.40882812499999993, \"yanchor\": \"bottom\", \"yref\": \"paper\"}, {\"font\": {\"size\": 16}, \"showarrow\": false, \"text\": \"NaTiO3\", \"x\": 0.5, \"xanchor\": \"center\", \"xref\": \"paper\", \"y\": 0.39624999999999994, \"yanchor\": \"bottom\", \"yref\": \"paper\"}, {\"font\": {\"size\": 16}, \"showarrow\": false, \"text\": \"SrScO3\", \"x\": 0.5, \"xanchor\": \"center\", \"xref\": \"paper\", \"y\": 0.38367187499999994, \"yanchor\": \"bottom\", \"yref\": \"paper\"}, {\"font\": {\"size\": 16}, \"showarrow\": false, \"text\": \"RbOsO3\", \"x\": 0.5, \"xanchor\": \"center\", \"xref\": \"paper\", \"y\": 0.37109375, \"yanchor\": \"bottom\", \"yref\": \"paper\"}, {\"font\": {\"size\": 16}, \"showarrow\": false, \"text\": \"SrRhO3\", \"x\": 0.5, \"xanchor\": \"center\", \"xref\": \"paper\", \"y\": 0.358515625, \"yanchor\": \"bottom\", \"yref\": \"paper\"}, {\"font\": {\"size\": 16}, \"showarrow\": false, \"text\": \"NaMoO3\", \"x\": 0.5, \"xanchor\": \"center\", \"xref\": \"paper\", \"y\": 0.3459375, \"yanchor\": \"bottom\", \"yref\": \"paper\"}, {\"font\": {\"size\": 16}, \"showarrow\": false, \"text\": \"SrOsO3\", \"x\": 0.5, \"xanchor\": \"center\", \"xref\": \"paper\", \"y\": 0.333359375, \"yanchor\": \"bottom\", \"yref\": \"paper\"}, {\"font\": {\"size\": 16}, \"showarrow\": false, \"text\": \"BaRhO3\", \"x\": 0.5, \"xanchor\": \"center\", \"xref\": \"paper\", \"y\": 0.32078125, \"yanchor\": \"bottom\", \"yref\": \"paper\"}, {\"font\": {\"size\": 16}, \"showarrow\": false, \"text\": \"BaPtO3\", \"x\": 0.5, \"xanchor\": \"center\", \"xref\": \"paper\", \"y\": 0.308203125, \"yanchor\": \"bottom\", \"yref\": \"paper\"}, {\"font\": {\"size\": 16}, \"showarrow\": false, \"text\": \"CaVO3\", \"x\": 0.5, \"xanchor\": \"center\", \"xref\": \"paper\", \"y\": 0.295625, \"yanchor\": \"bottom\", \"yref\": \"paper\"}, {\"font\": {\"size\": 16}, \"showarrow\": false, \"text\": \"KMoO3\", \"x\": 0.5, \"xanchor\": \"center\", \"xref\": \"paper\", \"y\": 0.28304687500000003, \"yanchor\": \"bottom\", \"yref\": \"paper\"}, {\"font\": {\"size\": 16}, \"showarrow\": false, \"text\": \"SrCrO3\", \"x\": 0.5, \"xanchor\": \"center\", \"xref\": \"paper\", \"y\": 0.27046875000000004, \"yanchor\": \"bottom\", \"yref\": \"paper\"}, {\"font\": {\"size\": 16}, \"showarrow\": false, \"text\": \"SrAgO3\", \"x\": 0.5, \"xanchor\": \"center\", \"xref\": \"paper\", \"y\": 0.25789062500000004, \"yanchor\": \"bottom\", \"yref\": \"paper\"}, {\"font\": {\"size\": 16}, \"showarrow\": false, \"text\": \"RbRhO3\", \"x\": 0.5, \"xanchor\": \"center\", \"xref\": \"paper\", \"y\": 0.24531250000000002, \"yanchor\": \"bottom\", \"yref\": \"paper\"}, {\"font\": {\"size\": 16}, \"showarrow\": false, \"text\": \"BaVO3\", \"x\": 0.5, \"xanchor\": \"center\", \"xref\": \"paper\", \"y\": 0.23273437500000002, \"yanchor\": \"bottom\", \"yref\": \"paper\"}, {\"font\": {\"size\": 16}, \"showarrow\": false, \"text\": \"CaCoO3\", \"x\": 0.5, \"xanchor\": \"center\", \"xref\": \"paper\", \"y\": 0.22015625000000003, \"yanchor\": \"bottom\", \"yref\": \"paper\"}, {\"font\": {\"size\": 16}, \"showarrow\": false, \"text\": \"CaMnO3\", \"x\": 0.5, \"xanchor\": \"center\", \"xref\": \"paper\", \"y\": 0.207578125, \"yanchor\": \"bottom\", \"yref\": \"paper\"}, {\"font\": {\"size\": 16}, \"showarrow\": false, \"text\": \"KPtO3\", \"x\": 0.5, \"xanchor\": \"center\", \"xref\": \"paper\", \"y\": 0.19499999999999998, \"yanchor\": \"bottom\", \"yref\": \"paper\"}, {\"font\": {\"size\": 16}, \"showarrow\": false, \"text\": \"BaNiO3\", \"x\": 0.5, \"xanchor\": \"center\", \"xref\": \"paper\", \"y\": 0.18242187499999998, \"yanchor\": \"bottom\", \"yref\": \"paper\"}, {\"font\": {\"size\": 16}, \"showarrow\": false, \"text\": \"BaMnO3\", \"x\": 0.5, \"xanchor\": \"center\", \"xref\": \"paper\", \"y\": 0.16984375, \"yanchor\": \"bottom\", \"yref\": \"paper\"}, {\"font\": {\"size\": 16}, \"showarrow\": false, \"text\": \"SrReO3\", \"x\": 0.5, \"xanchor\": \"center\", \"xref\": \"paper\", \"y\": 0.157265625, \"yanchor\": \"bottom\", \"yref\": \"paper\"}, {\"font\": {\"size\": 16}, \"showarrow\": false, \"text\": \"BaReO3\", \"x\": 0.5, \"xanchor\": \"center\", \"xref\": \"paper\", \"y\": 0.1446875, \"yanchor\": \"bottom\", \"yref\": \"paper\"}, {\"font\": {\"size\": 16}, \"showarrow\": false, \"text\": \"SrIrO3\", \"x\": 0.5, \"xanchor\": \"center\", \"xref\": \"paper\", \"y\": 0.13210937499999997, \"yanchor\": \"bottom\", \"yref\": \"paper\"}, {\"font\": {\"size\": 16}, \"showarrow\": false, \"text\": \"NaVO3\", \"x\": 0.5, \"xanchor\": \"center\", \"xref\": \"paper\", \"y\": 0.11953124999999999, \"yanchor\": \"bottom\", \"yref\": \"paper\"}, {\"font\": {\"size\": 16}, \"showarrow\": false, \"text\": \"NaFeO3\", \"x\": 0.5, \"xanchor\": \"center\", \"xref\": \"paper\", \"y\": 0.106953125, \"yanchor\": \"bottom\", \"yref\": \"paper\"}, {\"font\": {\"size\": 16}, \"showarrow\": false, \"text\": \"BaIrO3\", \"x\": 0.5, \"xanchor\": \"center\", \"xref\": \"paper\", \"y\": 0.094375, \"yanchor\": \"bottom\", \"yref\": \"paper\"}, {\"font\": {\"size\": 16}, \"showarrow\": false, \"text\": \"RbReO3\", \"x\": 0.5, \"xanchor\": \"center\", \"xref\": \"paper\", \"y\": 0.081796875, \"yanchor\": \"bottom\", \"yref\": \"paper\"}, {\"font\": {\"size\": 16}, \"showarrow\": false, \"text\": \"CaRuO3\", \"x\": 0.5, \"xanchor\": \"center\", \"xref\": \"paper\", \"y\": 0.06921875000000001, \"yanchor\": \"bottom\", \"yref\": \"paper\"}, {\"font\": {\"size\": 16}, \"showarrow\": false, \"text\": \"RbPdO3\", \"x\": 0.5, \"xanchor\": \"center\", \"xref\": \"paper\", \"y\": 0.05664062499999999, \"yanchor\": \"bottom\", \"yref\": \"paper\"}, {\"font\": {\"size\": 16}, \"showarrow\": false, \"text\": \"CaHfO3\", \"x\": 0.5, \"xanchor\": \"center\", \"xref\": \"paper\", \"y\": 0.0440625, \"yanchor\": \"bottom\", \"yref\": \"paper\"}, {\"font\": {\"size\": 16}, \"showarrow\": false, \"text\": \"TlWO3\", \"x\": 0.5, \"xanchor\": \"center\", \"xref\": \"paper\", \"y\": 0.031484374999999995, \"yanchor\": \"bottom\", \"yref\": \"paper\"}, {\"font\": {\"size\": 16}, \"showarrow\": false, \"text\": \"RbWO3\", \"x\": 0.5, \"xanchor\": \"center\", \"xref\": \"paper\", \"y\": 0.01890625, \"yanchor\": \"bottom\", \"yref\": \"paper\"}, {\"font\": {\"size\": 16}, \"showarrow\": false, \"text\": \"RbPtO3\", \"x\": 0.5, \"xanchor\": \"center\", \"xref\": \"paper\", \"y\": 0.0063281249999999995, \"yanchor\": \"bottom\", \"yref\": \"paper\"}, {\"font\": {\"size\": 16}, \"showarrow\": false, \"text\": \"SrTcO3\", \"x\": 0.5, \"xanchor\": \"center\", \"xref\": \"paper\", \"y\": 1.0000000000000004, \"yanchor\": \"bottom\", \"yref\": \"paper\"}], \"height\": 15000, \"showlegend\": true, \"template\": {\"data\": {\"bar\": [{\"error_x\": {\"color\": \"#2a3f5f\"}, \"error_y\": {\"color\": \"#2a3f5f\"}, \"marker\": {\"line\": {\"color\": \"#E5ECF6\", \"width\": 0.5}}, \"type\": \"bar\"}], \"barpolar\": [{\"marker\": {\"line\": {\"color\": \"#E5ECF6\", \"width\": 0.5}}, \"type\": \"barpolar\"}], \"carpet\": [{\"aaxis\": {\"endlinecolor\": \"#2a3f5f\", \"gridcolor\": \"white\", \"linecolor\": \"white\", \"minorgridcolor\": \"white\", \"startlinecolor\": \"#2a3f5f\"}, \"baxis\": {\"endlinecolor\": \"#2a3f5f\", \"gridcolor\": \"white\", \"linecolor\": \"white\", \"minorgridcolor\": \"white\", \"startlinecolor\": \"#2a3f5f\"}, \"type\": \"carpet\"}], \"choropleth\": [{\"colorbar\": {\"outlinewidth\": 0, \"ticks\": \"\"}, \"type\": \"choropleth\"}], \"contour\": [{\"colorbar\": {\"outlinewidth\": 0, \"ticks\": \"\"}, \"colorscale\": [[0.0, \"#0d0887\"], [0.1111111111111111, \"#46039f\"], [0.2222222222222222, \"#7201a8\"], [0.3333333333333333, \"#9c179e\"], [0.4444444444444444, \"#bd3786\"], [0.5555555555555556, \"#d8576b\"], [0.6666666666666666, \"#ed7953\"], [0.7777777777777778, \"#fb9f3a\"], [0.8888888888888888, \"#fdca26\"], [1.0, \"#f0f921\"]], \"type\": \"contour\"}], \"contourcarpet\": [{\"colorbar\": {\"outlinewidth\": 0, \"ticks\": \"\"}, \"type\": \"contourcarpet\"}], \"heatmap\": [{\"colorbar\": {\"outlinewidth\": 0, \"ticks\": \"\"}, \"colorscale\": [[0.0, \"#0d0887\"], [0.1111111111111111, \"#46039f\"], [0.2222222222222222, \"#7201a8\"], [0.3333333333333333, \"#9c179e\"], [0.4444444444444444, \"#bd3786\"], [0.5555555555555556, \"#d8576b\"], [0.6666666666666666, \"#ed7953\"], [0.7777777777777778, \"#fb9f3a\"], [0.8888888888888888, \"#fdca26\"], [1.0, \"#f0f921\"]], \"type\": \"heatmap\"}], \"heatmapgl\": [{\"colorbar\": {\"outlinewidth\": 0, \"ticks\": \"\"}, \"colorscale\": [[0.0, \"#0d0887\"], [0.1111111111111111, \"#46039f\"], [0.2222222222222222, \"#7201a8\"], [0.3333333333333333, \"#9c179e\"], [0.4444444444444444, \"#bd3786\"], [0.5555555555555556, \"#d8576b\"], [0.6666666666666666, \"#ed7953\"], [0.7777777777777778, \"#fb9f3a\"], [0.8888888888888888, \"#fdca26\"], [1.0, \"#f0f921\"]], \"type\": \"heatmapgl\"}], \"histogram\": [{\"marker\": {\"colorbar\": {\"outlinewidth\": 0, \"ticks\": \"\"}}, \"type\": \"histogram\"}], \"histogram2d\": [{\"colorbar\": {\"outlinewidth\": 0, \"ticks\": \"\"}, \"colorscale\": [[0.0, \"#0d0887\"], [0.1111111111111111, \"#46039f\"], [0.2222222222222222, \"#7201a8\"], [0.3333333333333333, \"#9c179e\"], [0.4444444444444444, \"#bd3786\"], [0.5555555555555556, \"#d8576b\"], [0.6666666666666666, \"#ed7953\"], [0.7777777777777778, \"#fb9f3a\"], [0.8888888888888888, \"#fdca26\"], [1.0, \"#f0f921\"]], \"type\": \"histogram2d\"}], \"histogram2dcontour\": [{\"colorbar\": {\"outlinewidth\": 0, \"ticks\": \"\"}, \"colorscale\": [[0.0, \"#0d0887\"], [0.1111111111111111, \"#46039f\"], [0.2222222222222222, \"#7201a8\"], [0.3333333333333333, \"#9c179e\"], [0.4444444444444444, \"#bd3786\"], [0.5555555555555556, \"#d8576b\"], [0.6666666666666666, \"#ed7953\"], [0.7777777777777778, \"#fb9f3a\"], [0.8888888888888888, \"#fdca26\"], [1.0, \"#f0f921\"]], \"type\": \"histogram2dcontour\"}], \"mesh3d\": [{\"colorbar\": {\"outlinewidth\": 0, \"ticks\": \"\"}, \"type\": \"mesh3d\"}], \"parcoords\": [{\"line\": {\"colorbar\": {\"outlinewidth\": 0, \"ticks\": \"\"}}, \"type\": \"parcoords\"}], \"pie\": [{\"automargin\": true, \"type\": \"pie\"}], \"scatter\": [{\"marker\": {\"colorbar\": {\"outlinewidth\": 0, \"ticks\": \"\"}}, \"type\": \"scatter\"}], \"scatter3d\": [{\"line\": {\"colorbar\": {\"outlinewidth\": 0, \"ticks\": \"\"}}, \"marker\": {\"colorbar\": {\"outlinewidth\": 0, \"ticks\": \"\"}}, \"type\": \"scatter3d\"}], \"scattercarpet\": [{\"marker\": {\"colorbar\": {\"outlinewidth\": 0, \"ticks\": \"\"}}, \"type\": \"scattercarpet\"}], \"scattergeo\": [{\"marker\": {\"colorbar\": {\"outlinewidth\": 0, \"ticks\": \"\"}}, \"type\": \"scattergeo\"}], \"scattergl\": [{\"marker\": {\"colorbar\": {\"outlinewidth\": 0, \"ticks\": \"\"}}, \"type\": \"scattergl\"}], \"scattermapbox\": [{\"marker\": {\"colorbar\": {\"outlinewidth\": 0, \"ticks\": \"\"}}, \"type\": \"scattermapbox\"}], \"scatterpolar\": [{\"marker\": {\"colorbar\": {\"outlinewidth\": 0, \"ticks\": \"\"}}, \"type\": \"scatterpolar\"}], \"scatterpolargl\": [{\"marker\": {\"colorbar\": {\"outlinewidth\": 0, \"ticks\": \"\"}}, \"type\": \"scatterpolargl\"}], \"scatterternary\": [{\"marker\": {\"colorbar\": {\"outlinewidth\": 0, \"ticks\": \"\"}}, \"type\": \"scatterternary\"}], \"surface\": [{\"colorbar\": {\"outlinewidth\": 0, \"ticks\": \"\"}, \"colorscale\": [[0.0, \"#0d0887\"], [0.1111111111111111, \"#46039f\"], [0.2222222222222222, \"#7201a8\"], [0.3333333333333333, \"#9c179e\"], [0.4444444444444444, \"#bd3786\"], [0.5555555555555556, \"#d8576b\"], [0.6666666666666666, \"#ed7953\"], [0.7777777777777778, \"#fb9f3a\"], [0.8888888888888888, \"#fdca26\"], [1.0, \"#f0f921\"]], \"type\": \"surface\"}], \"table\": [{\"cells\": {\"fill\": {\"color\": \"#EBF0F8\"}, \"line\": {\"color\": \"white\"}}, \"header\": {\"fill\": {\"color\": \"#C8D4E3\"}, \"line\": {\"color\": \"white\"}}, \"type\": \"table\"}]}, \"layout\": {\"annotationdefaults\": {\"arrowcolor\": \"#2a3f5f\", \"arrowhead\": 0, \"arrowwidth\": 1}, \"coloraxis\": {\"colorbar\": {\"outlinewidth\": 0, \"ticks\": \"\"}}, \"colorscale\": {\"diverging\": [[0, \"#8e0152\"], [0.1, \"#c51b7d\"], [0.2, \"#de77ae\"], [0.3, \"#f1b6da\"], [0.4, \"#fde0ef\"], [0.5, \"#f7f7f7\"], [0.6, \"#e6f5d0\"], [0.7, \"#b8e186\"], [0.8, \"#7fbc41\"], [0.9, \"#4d9221\"], [1, \"#276419\"]], \"sequential\": [[0.0, \"#0d0887\"], [0.1111111111111111, \"#46039f\"], [0.2222222222222222, \"#7201a8\"], [0.3333333333333333, \"#9c179e\"], [0.4444444444444444, \"#bd3786\"], [0.5555555555555556, \"#d8576b\"], [0.6666666666666666, \"#ed7953\"], [0.7777777777777778, \"#fb9f3a\"], [0.8888888888888888, \"#fdca26\"], [1.0, \"#f0f921\"]], \"sequentialminus\": [[0.0, \"#0d0887\"], [0.1111111111111111, \"#46039f\"], [0.2222222222222222, \"#7201a8\"], [0.3333333333333333, \"#9c179e\"], [0.4444444444444444, \"#bd3786\"], [0.5555555555555556, \"#d8576b\"], [0.6666666666666666, \"#ed7953\"], [0.7777777777777778, \"#fb9f3a\"], [0.8888888888888888, \"#fdca26\"], [1.0, \"#f0f921\"]]}, \"colorway\": [\"#636efa\", \"#EF553B\", \"#00cc96\", \"#ab63fa\", \"#FFA15A\", \"#19d3f3\", \"#FF6692\", \"#B6E880\", \"#FF97FF\", \"#FECB52\"], \"font\": {\"color\": \"#2a3f5f\"}, \"geo\": {\"bgcolor\": \"white\", \"lakecolor\": \"white\", \"landcolor\": \"#E5ECF6\", \"showlakes\": true, \"showland\": true, \"subunitcolor\": \"white\"}, \"hoverlabel\": {\"align\": \"left\"}, \"hovermode\": \"closest\", \"mapbox\": {\"style\": \"light\"}, \"paper_bgcolor\": \"white\", \"plot_bgcolor\": \"#E5ECF6\", \"polar\": {\"angularaxis\": {\"gridcolor\": \"white\", \"linecolor\": \"white\", \"ticks\": \"\"}, \"bgcolor\": \"#E5ECF6\", \"radialaxis\": {\"gridcolor\": \"white\", \"linecolor\": \"white\", \"ticks\": \"\"}}, \"scene\": {\"xaxis\": {\"backgroundcolor\": \"#E5ECF6\", \"gridcolor\": \"white\", \"gridwidth\": 2, \"linecolor\": \"white\", \"showbackground\": true, \"ticks\": \"\", \"zerolinecolor\": \"white\"}, \"yaxis\": {\"backgroundcolor\": \"#E5ECF6\", \"gridcolor\": \"white\", \"gridwidth\": 2, \"linecolor\": \"white\", \"showbackground\": true, \"ticks\": \"\", \"zerolinecolor\": \"white\"}, \"zaxis\": {\"backgroundcolor\": \"#E5ECF6\", \"gridcolor\": \"white\", \"gridwidth\": 2, \"linecolor\": \"white\", \"showbackground\": true, \"ticks\": \"\", \"zerolinecolor\": \"white\"}}, \"shapedefaults\": {\"line\": {\"color\": \"#2a3f5f\"}}, \"ternary\": {\"aaxis\": {\"gridcolor\": \"white\", \"linecolor\": \"white\", \"ticks\": \"\"}, \"baxis\": {\"gridcolor\": \"white\", \"linecolor\": \"white\", \"ticks\": \"\"}, \"bgcolor\": \"#E5ECF6\", \"caxis\": {\"gridcolor\": \"white\", \"linecolor\": \"white\", \"ticks\": \"\"}}, \"title\": {\"x\": 0.05}, \"xaxis\": {\"automargin\": true, \"gridcolor\": \"white\", \"linecolor\": \"white\", \"ticks\": \"\", \"title\": {\"standoff\": 15}, \"zerolinecolor\": \"white\", \"zerolinewidth\": 2}, \"yaxis\": {\"automargin\": true, \"gridcolor\": \"white\", \"linecolor\": \"white\", \"ticks\": \"\", \"title\": {\"standoff\": 15}, \"zerolinecolor\": \"white\", \"zerolinewidth\": 2}}}, \"title\": {\"text\": \"free_energy_diagram\"}, \"width\": 500, \"xaxis\": {\"anchor\": \"y\", \"domain\": [0.0, 1.0], \"matches\": \"x80\", \"showticklabels\": false}, \"xaxis10\": {\"anchor\": \"y10\", \"domain\": [0.0, 1.0], \"matches\": \"x80\", \"showticklabels\": false}, \"xaxis11\": {\"anchor\": \"y11\", \"domain\": [0.0, 1.0], \"matches\": \"x80\", \"showticklabels\": false}, \"xaxis12\": {\"anchor\": \"y12\", \"domain\": [0.0, 1.0], \"matches\": \"x80\", \"showticklabels\": false}, \"xaxis13\": {\"anchor\": \"y13\", \"domain\": [0.0, 1.0], \"matches\": \"x80\", \"showticklabels\": false}, \"xaxis14\": {\"anchor\": \"y14\", \"domain\": [0.0, 1.0], \"matches\": \"x80\", \"showticklabels\": false}, \"xaxis15\": {\"anchor\": \"y15\", \"domain\": [0.0, 1.0], \"matches\": \"x80\", \"showticklabels\": false}, \"xaxis16\": {\"anchor\": \"y16\", \"domain\": [0.0, 1.0], \"matches\": \"x80\", \"showticklabels\": false}, \"xaxis17\": {\"anchor\": \"y17\", \"domain\": [0.0, 1.0], \"matches\": \"x80\", \"showticklabels\": false}, \"xaxis18\": {\"anchor\": \"y18\", \"domain\": [0.0, 1.0], \"matches\": \"x80\", \"showticklabels\": false}, \"xaxis19\": {\"anchor\": \"y19\", \"domain\": [0.0, 1.0], \"matches\": \"x80\", \"showticklabels\": false}, \"xaxis2\": {\"anchor\": \"y2\", \"domain\": [0.0, 1.0], \"matches\": \"x80\", \"showticklabels\": false}, \"xaxis20\": {\"anchor\": \"y20\", \"domain\": [0.0, 1.0], \"matches\": \"x80\", \"showticklabels\": false}, \"xaxis21\": {\"anchor\": \"y21\", \"domain\": [0.0, 1.0], \"matches\": \"x80\", \"showticklabels\": false}, \"xaxis22\": {\"anchor\": \"y22\", \"domain\": [0.0, 1.0], \"matches\": \"x80\", \"showticklabels\": false}, \"xaxis23\": {\"anchor\": \"y23\", \"domain\": [0.0, 1.0], \"matches\": \"x80\", \"showticklabels\": false}, \"xaxis24\": {\"anchor\": \"y24\", \"domain\": [0.0, 1.0], \"matches\": \"x80\", \"showticklabels\": false}, \"xaxis25\": {\"anchor\": \"y25\", \"domain\": [0.0, 1.0], \"matches\": \"x80\", \"showticklabels\": false}, \"xaxis26\": {\"anchor\": \"y26\", \"domain\": [0.0, 1.0], \"matches\": \"x80\", \"showticklabels\": false}, \"xaxis27\": {\"anchor\": \"y27\", \"domain\": [0.0, 1.0], \"matches\": \"x80\", \"showticklabels\": false}, \"xaxis28\": {\"anchor\": \"y28\", \"domain\": [0.0, 1.0], \"matches\": \"x80\", \"showticklabels\": false}, \"xaxis29\": {\"anchor\": \"y29\", \"domain\": [0.0, 1.0], \"matches\": \"x80\", \"showticklabels\": false}, \"xaxis3\": {\"anchor\": \"y3\", \"domain\": [0.0, 1.0], \"matches\": \"x80\", \"showticklabels\": false}, \"xaxis30\": {\"anchor\": \"y30\", \"domain\": [0.0, 1.0], \"matches\": \"x80\", \"showticklabels\": false}, \"xaxis31\": {\"anchor\": \"y31\", \"domain\": [0.0, 1.0], \"matches\": \"x80\", \"showticklabels\": false}, \"xaxis32\": {\"anchor\": \"y32\", \"domain\": [0.0, 1.0], \"matches\": \"x80\", \"showticklabels\": false}, \"xaxis33\": {\"anchor\": \"y33\", \"domain\": [0.0, 1.0], \"matches\": \"x80\", \"showticklabels\": false}, \"xaxis34\": {\"anchor\": \"y34\", \"domain\": [0.0, 1.0], \"matches\": \"x80\", \"showticklabels\": false}, \"xaxis35\": {\"anchor\": \"y35\", \"domain\": [0.0, 1.0], \"matches\": \"x80\", \"showticklabels\": false}, \"xaxis36\": {\"anchor\": \"y36\", \"domain\": [0.0, 1.0], \"matches\": \"x80\", \"showticklabels\": false}, \"xaxis37\": {\"anchor\": \"y37\", \"domain\": [0.0, 1.0], \"matches\": \"x80\", \"showticklabels\": false}, \"xaxis38\": {\"anchor\": \"y38\", \"domain\": [0.0, 1.0], \"matches\": \"x80\", \"showticklabels\": false}, \"xaxis39\": {\"anchor\": \"y39\", \"domain\": [0.0, 1.0], \"matches\": \"x80\", \"showticklabels\": false}, \"xaxis4\": {\"anchor\": \"y4\", \"domain\": [0.0, 1.0], \"matches\": \"x80\", \"showticklabels\": false}, \"xaxis40\": {\"anchor\": \"y40\", \"domain\": [0.0, 1.0], \"matches\": \"x80\", \"showticklabels\": false}, \"xaxis41\": {\"anchor\": \"y41\", \"domain\": [0.0, 1.0], \"matches\": \"x80\", \"showticklabels\": false}, \"xaxis42\": {\"anchor\": \"y42\", \"domain\": [0.0, 1.0], \"matches\": \"x80\", \"showticklabels\": false}, \"xaxis43\": {\"anchor\": \"y43\", \"domain\": [0.0, 1.0], \"matches\": \"x80\", \"showticklabels\": false}, \"xaxis44\": {\"anchor\": \"y44\", \"domain\": [0.0, 1.0], \"matches\": \"x80\", \"showticklabels\": false}, \"xaxis45\": {\"anchor\": \"y45\", \"domain\": [0.0, 1.0], \"matches\": \"x80\", \"showticklabels\": false}, \"xaxis46\": {\"anchor\": \"y46\", \"domain\": [0.0, 1.0], \"matches\": \"x80\", \"showticklabels\": false}, \"xaxis47\": {\"anchor\": \"y47\", \"domain\": [0.0, 1.0], \"matches\": \"x80\", \"showticklabels\": false}, \"xaxis48\": {\"anchor\": \"y48\", \"domain\": [0.0, 1.0], \"matches\": \"x80\", \"showticklabels\": false}, \"xaxis49\": {\"anchor\": \"y49\", \"domain\": [0.0, 1.0], \"matches\": \"x80\", \"showticklabels\": false}, \"xaxis5\": {\"anchor\": \"y5\", \"domain\": [0.0, 1.0], \"matches\": \"x80\", \"showticklabels\": false}, \"xaxis50\": {\"anchor\": \"y50\", \"domain\": [0.0, 1.0], \"matches\": \"x80\", \"showticklabels\": false}, \"xaxis51\": {\"anchor\": \"y51\", \"domain\": [0.0, 1.0], \"matches\": \"x80\", \"showticklabels\": false}, \"xaxis52\": {\"anchor\": \"y52\", \"domain\": [0.0, 1.0], \"matches\": \"x80\", \"showticklabels\": false}, \"xaxis53\": {\"anchor\": \"y53\", \"domain\": [0.0, 1.0], \"matches\": \"x80\", \"showticklabels\": false}, \"xaxis54\": {\"anchor\": \"y54\", \"domain\": [0.0, 1.0], \"matches\": \"x80\", \"showticklabels\": false}, \"xaxis55\": {\"anchor\": \"y55\", \"domain\": [0.0, 1.0], \"matches\": \"x80\", \"showticklabels\": false}, \"xaxis56\": {\"anchor\": \"y56\", \"domain\": [0.0, 1.0], \"matches\": \"x80\", \"showticklabels\": false}, \"xaxis57\": {\"anchor\": \"y57\", \"domain\": [0.0, 1.0], \"matches\": \"x80\", \"showticklabels\": false}, \"xaxis58\": {\"anchor\": \"y58\", \"domain\": [0.0, 1.0], \"matches\": \"x80\", \"showticklabels\": false}, \"xaxis59\": {\"anchor\": \"y59\", \"domain\": [0.0, 1.0], \"matches\": \"x80\", \"showticklabels\": false}, \"xaxis6\": {\"anchor\": \"y6\", \"domain\": [0.0, 1.0], \"matches\": \"x80\", \"showticklabels\": false}, \"xaxis60\": {\"anchor\": \"y60\", \"domain\": [0.0, 1.0], \"matches\": \"x80\", \"showticklabels\": false}, \"xaxis61\": {\"anchor\": \"y61\", \"domain\": [0.0, 1.0], \"matches\": \"x80\", \"showticklabels\": false}, \"xaxis62\": {\"anchor\": \"y62\", \"domain\": [0.0, 1.0], \"matches\": \"x80\", \"showticklabels\": false}, \"xaxis63\": {\"anchor\": \"y63\", \"domain\": [0.0, 1.0], \"matches\": \"x80\", \"showticklabels\": false}, \"xaxis64\": {\"anchor\": \"y64\", \"domain\": [0.0, 1.0], \"matches\": \"x80\", \"showticklabels\": false}, \"xaxis65\": {\"anchor\": \"y65\", \"domain\": [0.0, 1.0], \"matches\": \"x80\", \"showticklabels\": false}, \"xaxis66\": {\"anchor\": \"y66\", \"domain\": [0.0, 1.0], \"matches\": \"x80\", \"showticklabels\": false}, \"xaxis67\": {\"anchor\": \"y67\", \"domain\": [0.0, 1.0], \"matches\": \"x80\", \"showticklabels\": false}, \"xaxis68\": {\"anchor\": \"y68\", \"domain\": [0.0, 1.0], \"matches\": \"x80\", \"showticklabels\": false}, \"xaxis69\": {\"anchor\": \"y69\", \"domain\": [0.0, 1.0], \"matches\": \"x80\", \"showticklabels\": false}, \"xaxis7\": {\"anchor\": \"y7\", \"domain\": [0.0, 1.0], \"matches\": \"x80\", \"showticklabels\": false}, \"xaxis70\": {\"anchor\": \"y70\", \"domain\": [0.0, 1.0], \"matches\": \"x80\", \"showticklabels\": false}, \"xaxis71\": {\"anchor\": \"y71\", \"domain\": [0.0, 1.0], \"matches\": \"x80\", \"showticklabels\": false}, \"xaxis72\": {\"anchor\": \"y72\", \"domain\": [0.0, 1.0], \"matches\": \"x80\", \"showticklabels\": false}, \"xaxis73\": {\"anchor\": \"y73\", \"domain\": [0.0, 1.0], \"matches\": \"x80\", \"showticklabels\": false}, \"xaxis74\": {\"anchor\": \"y74\", \"domain\": [0.0, 1.0], \"matches\": \"x80\", \"showticklabels\": false}, \"xaxis75\": {\"anchor\": \"y75\", \"domain\": [0.0, 1.0], \"matches\": \"x80\", \"showticklabels\": false}, \"xaxis76\": {\"anchor\": \"y76\", \"domain\": [0.0, 1.0], \"matches\": \"x80\", \"showticklabels\": false}, \"xaxis77\": {\"anchor\": \"y77\", \"domain\": [0.0, 1.0], \"matches\": \"x80\", \"showticklabels\": false}, \"xaxis78\": {\"anchor\": \"y78\", \"domain\": [0.0, 1.0], \"matches\": \"x80\", \"showticklabels\": false}, \"xaxis79\": {\"anchor\": \"y79\", \"domain\": [0.0, 1.0], \"matches\": \"x80\", \"showticklabels\": false}, \"xaxis8\": {\"anchor\": \"y8\", \"domain\": [0.0, 1.0], \"matches\": \"x80\", \"showticklabels\": false}, \"xaxis80\": {\"anchor\": \"y80\", \"domain\": [0.0, 1.0]}, \"xaxis9\": {\"anchor\": \"y9\", \"domain\": [0.0, 1.0], \"matches\": \"x80\", \"showticklabels\": false}, \"yaxis\": {\"anchor\": \"x\", \"domain\": [0.9936718750000005, 1.0], \"title\": {\"text\": \"DG (eV)\"}}, \"yaxis10\": {\"anchor\": \"x10\", \"domain\": [0.8804687500000004, 0.8867968750000004], \"title\": {\"text\": \"DG (eV)\"}}, \"yaxis11\": {\"anchor\": \"x11\", \"domain\": [0.8678906250000004, 0.8742187500000004], \"title\": {\"text\": \"DG (eV)\"}}, \"yaxis12\": {\"anchor\": \"x12\", \"domain\": [0.8553125000000004, 0.8616406250000004], \"title\": {\"text\": \"DG (eV)\"}}, \"yaxis13\": {\"anchor\": \"x13\", \"domain\": [0.8427343750000003, 0.8490625000000003], \"title\": {\"text\": \"DG (eV)\"}}, \"yaxis14\": {\"anchor\": \"x14\", \"domain\": [0.8301562500000004, 0.8364843750000004], \"title\": {\"text\": \"DG (eV)\"}}, \"yaxis15\": {\"anchor\": \"x15\", \"domain\": [0.8175781250000003, 0.8239062500000003], \"title\": {\"text\": \"DG (eV)\"}}, \"yaxis16\": {\"anchor\": \"x16\", \"domain\": [0.8050000000000003, 0.8113281250000003], \"title\": {\"text\": \"DG (eV)\"}}, \"yaxis17\": {\"anchor\": \"x17\", \"domain\": [0.7924218750000003, 0.7987500000000003], \"title\": {\"text\": \"DG (eV)\"}}, \"yaxis18\": {\"anchor\": \"x18\", \"domain\": [0.7798437500000002, 0.7861718750000002], \"title\": {\"text\": \"DG (eV)\"}}, \"yaxis19\": {\"anchor\": \"x19\", \"domain\": [0.7672656250000003, 0.7735937500000003], \"title\": {\"text\": \"DG (eV)\"}}, \"yaxis2\": {\"anchor\": \"x2\", \"domain\": [0.9810937500000005, 0.9874218750000006], \"title\": {\"text\": \"DG (eV)\"}}, \"yaxis20\": {\"anchor\": \"x20\", \"domain\": [0.7546875000000002, 0.7610156250000002], \"title\": {\"text\": \"DG (eV)\"}}, \"yaxis21\": {\"anchor\": \"x21\", \"domain\": [0.7421093750000002, 0.7484375000000002], \"title\": {\"text\": \"DG (eV)\"}}, \"yaxis22\": {\"anchor\": \"x22\", \"domain\": [0.7295312500000002, 0.7358593750000002], \"title\": {\"text\": \"DG (eV)\"}}, \"yaxis23\": {\"anchor\": \"x23\", \"domain\": [0.7169531250000001, 0.7232812500000001], \"title\": {\"text\": \"DG (eV)\"}}, \"yaxis24\": {\"anchor\": \"x24\", \"domain\": [0.7043750000000002, 0.7107031250000002], \"title\": {\"text\": \"DG (eV)\"}}, \"yaxis25\": {\"anchor\": \"x25\", \"domain\": [0.6917968750000001, 0.6981250000000001], \"title\": {\"text\": \"DG (eV)\"}}, \"yaxis26\": {\"anchor\": \"x26\", \"domain\": [0.6792187500000001, 0.6855468750000001], \"title\": {\"text\": \"DG (eV)\"}}, \"yaxis27\": {\"anchor\": \"x27\", \"domain\": [0.6666406250000001, 0.6729687500000001], \"title\": {\"text\": \"DG (eV)\"}}, \"yaxis28\": {\"anchor\": \"x28\", \"domain\": [0.6540625, 0.660390625], \"title\": {\"text\": \"DG (eV)\"}}, \"yaxis29\": {\"anchor\": \"x29\", \"domain\": [0.6414843750000001, 0.6478125000000001], \"title\": {\"text\": \"DG (eV)\"}}, \"yaxis3\": {\"anchor\": \"x3\", \"domain\": [0.9685156250000004, 0.9748437500000005], \"title\": {\"text\": \"DG (eV)\"}}, \"yaxis30\": {\"anchor\": \"x30\", \"domain\": [0.62890625, 0.635234375], \"title\": {\"text\": \"DG (eV)\"}}, \"yaxis31\": {\"anchor\": \"x31\", \"domain\": [0.616328125, 0.62265625], \"title\": {\"text\": \"DG (eV)\"}}, \"yaxis32\": {\"anchor\": \"x32\", \"domain\": [0.60375, 0.610078125], \"title\": {\"text\": \"DG (eV)\"}}, \"yaxis33\": {\"anchor\": \"x33\", \"domain\": [0.5911718749999999, 0.5974999999999999], \"title\": {\"text\": \"DG (eV)\"}}, \"yaxis34\": {\"anchor\": \"x34\", \"domain\": [0.57859375, 0.584921875], \"title\": {\"text\": \"DG (eV)\"}}, \"yaxis35\": {\"anchor\": \"x35\", \"domain\": [0.5660156249999999, 0.5723437499999999], \"title\": {\"text\": \"DG (eV)\"}}, \"yaxis36\": {\"anchor\": \"x36\", \"domain\": [0.5534374999999999, 0.5597656249999999], \"title\": {\"text\": \"DG (eV)\"}}, \"yaxis37\": {\"anchor\": \"x37\", \"domain\": [0.5408593749999999, 0.5471874999999999], \"title\": {\"text\": \"DG (eV)\"}}, \"yaxis38\": {\"anchor\": \"x38\", \"domain\": [0.5282812499999998, 0.5346093749999998], \"title\": {\"text\": \"DG (eV)\"}}, \"yaxis39\": {\"anchor\": \"x39\", \"domain\": [0.5157031249999999, 0.52203125], \"title\": {\"text\": \"DG (eV)\"}}, \"yaxis4\": {\"anchor\": \"x4\", \"domain\": [0.9559375000000006, 0.9622656250000006], \"title\": {\"text\": \"DG (eV)\"}}, \"yaxis40\": {\"anchor\": \"x40\", \"domain\": [0.5031249999999998, 0.5094531249999998], \"title\": {\"text\": \"DG (eV)\"}}, \"yaxis41\": {\"anchor\": \"x41\", \"domain\": [0.4905468749999998, 0.49687499999999984], \"title\": {\"text\": \"DG (eV)\"}}, \"yaxis42\": {\"anchor\": \"x42\", \"domain\": [0.47796874999999983, 0.48429687499999985], \"title\": {\"text\": \"DG (eV)\"}}, \"yaxis43\": {\"anchor\": \"x43\", \"domain\": [0.46539062499999984, 0.47171874999999985], \"title\": {\"text\": \"DG (eV)\"}}, \"yaxis44\": {\"anchor\": \"x44\", \"domain\": [0.45281249999999984, 0.45914062499999986], \"title\": {\"text\": \"DG (eV)\"}}, \"yaxis45\": {\"anchor\": \"x45\", \"domain\": [0.44023437499999984, 0.44656249999999986], \"title\": {\"text\": \"DG (eV)\"}}, \"yaxis46\": {\"anchor\": \"x46\", \"domain\": [0.4276562499999999, 0.4339843749999999], \"title\": {\"text\": \"DG (eV)\"}}, \"yaxis47\": {\"anchor\": \"x47\", \"domain\": [0.4150781249999999, 0.4214062499999999], \"title\": {\"text\": \"DG (eV)\"}}, \"yaxis48\": {\"anchor\": \"x48\", \"domain\": [0.4024999999999999, 0.40882812499999993], \"title\": {\"text\": \"DG (eV)\"}}, \"yaxis49\": {\"anchor\": \"x49\", \"domain\": [0.3899218749999999, 0.39624999999999994], \"title\": {\"text\": \"DG (eV)\"}}, \"yaxis5\": {\"anchor\": \"x5\", \"domain\": [0.9433593750000004, 0.9496875000000005], \"title\": {\"text\": \"DG (eV)\"}}, \"yaxis50\": {\"anchor\": \"x50\", \"domain\": [0.3773437499999999, 0.38367187499999994], \"title\": {\"text\": \"DG (eV)\"}}, \"yaxis51\": {\"anchor\": \"x51\", \"domain\": [0.364765625, 0.37109375], \"title\": {\"text\": \"DG (eV)\"}}, \"yaxis52\": {\"anchor\": \"x52\", \"domain\": [0.3521875, 0.358515625], \"title\": {\"text\": \"DG (eV)\"}}, \"yaxis53\": {\"anchor\": \"x53\", \"domain\": [0.339609375, 0.3459375], \"title\": {\"text\": \"DG (eV)\"}}, \"yaxis54\": {\"anchor\": \"x54\", \"domain\": [0.32703125, 0.333359375], \"title\": {\"text\": \"DG (eV)\"}}, \"yaxis55\": {\"anchor\": \"x55\", \"domain\": [0.314453125, 0.32078125], \"title\": {\"text\": \"DG (eV)\"}}, \"yaxis56\": {\"anchor\": \"x56\", \"domain\": [0.301875, 0.308203125], \"title\": {\"text\": \"DG (eV)\"}}, \"yaxis57\": {\"anchor\": \"x57\", \"domain\": [0.289296875, 0.295625], \"title\": {\"text\": \"DG (eV)\"}}, \"yaxis58\": {\"anchor\": \"x58\", \"domain\": [0.27671875, 0.28304687500000003], \"title\": {\"text\": \"DG (eV)\"}}, \"yaxis59\": {\"anchor\": \"x59\", \"domain\": [0.264140625, 0.27046875000000004], \"title\": {\"text\": \"DG (eV)\"}}, \"yaxis6\": {\"anchor\": \"x6\", \"domain\": [0.9307812500000004, 0.9371093750000005], \"title\": {\"text\": \"DG (eV)\"}}, \"yaxis60\": {\"anchor\": \"x60\", \"domain\": [0.2515625, 0.25789062500000004], \"title\": {\"text\": \"DG (eV)\"}}, \"yaxis61\": {\"anchor\": \"x61\", \"domain\": [0.23898437500000003, 0.24531250000000002], \"title\": {\"text\": \"DG (eV)\"}}, \"yaxis62\": {\"anchor\": \"x62\", \"domain\": [0.22640625000000003, 0.23273437500000002], \"title\": {\"text\": \"DG (eV)\"}}, \"yaxis63\": {\"anchor\": \"x63\", \"domain\": [0.21382812500000004, 0.22015625000000003], \"title\": {\"text\": \"DG (eV)\"}}, \"yaxis64\": {\"anchor\": \"x64\", \"domain\": [0.20125, 0.207578125], \"title\": {\"text\": \"DG (eV)\"}}, \"yaxis65\": {\"anchor\": \"x65\", \"domain\": [0.188671875, 0.19499999999999998], \"title\": {\"text\": \"DG (eV)\"}}, \"yaxis66\": {\"anchor\": \"x66\", \"domain\": [0.17609375, 0.18242187499999998], \"title\": {\"text\": \"DG (eV)\"}}, \"yaxis67\": {\"anchor\": \"x67\", \"domain\": [0.163515625, 0.16984375], \"title\": {\"text\": \"DG (eV)\"}}, \"yaxis68\": {\"anchor\": \"x68\", \"domain\": [0.1509375, 0.157265625], \"title\": {\"text\": \"DG (eV)\"}}, \"yaxis69\": {\"anchor\": \"x69\", \"domain\": [0.138359375, 0.1446875], \"title\": {\"text\": \"DG (eV)\"}}, \"yaxis7\": {\"anchor\": \"x7\", \"domain\": [0.9182031250000005, 0.9245312500000005], \"title\": {\"text\": \"DG (eV)\"}}, \"yaxis70\": {\"anchor\": \"x70\", \"domain\": [0.12578124999999998, 0.13210937499999997], \"title\": {\"text\": \"DG (eV)\"}}, \"yaxis71\": {\"anchor\": \"x71\", \"domain\": [0.11320312499999999, 0.11953124999999999], \"title\": {\"text\": \"DG (eV)\"}}, \"yaxis72\": {\"anchor\": \"x72\", \"domain\": [0.10062499999999999, 0.106953125], \"title\": {\"text\": \"DG (eV)\"}}, \"yaxis73\": {\"anchor\": \"x73\", \"domain\": [0.088046875, 0.094375], \"title\": {\"text\": \"DG (eV)\"}}, \"yaxis74\": {\"anchor\": \"x74\", \"domain\": [0.07546875, 0.081796875], \"title\": {\"text\": \"DG (eV)\"}}, \"yaxis75\": {\"anchor\": \"x75\", \"domain\": [0.062890625, 0.06921875000000001], \"title\": {\"text\": \"DG (eV)\"}}, \"yaxis76\": {\"anchor\": \"x76\", \"domain\": [0.050312499999999996, 0.05664062499999999], \"title\": {\"text\": \"DG (eV)\"}}, \"yaxis77\": {\"anchor\": \"x77\", \"domain\": [0.037734375, 0.0440625], \"title\": {\"text\": \"DG (eV)\"}}, \"yaxis78\": {\"anchor\": \"x78\", \"domain\": [0.025156249999999998, 0.031484374999999995], \"title\": {\"text\": \"DG (eV)\"}}, \"yaxis79\": {\"anchor\": \"x79\", \"domain\": [0.012578124999999999, 0.01890625], \"title\": {\"text\": \"DG (eV)\"}}, \"yaxis8\": {\"anchor\": \"x8\", \"domain\": [0.9056250000000003, 0.9119531250000004], \"title\": {\"text\": \"DG (eV)\"}}, \"yaxis80\": {\"anchor\": \"x80\", \"domain\": [0.0, 0.0063281249999999995], \"title\": {\"text\": \"DG (eV)\"}}, \"yaxis9\": {\"anchor\": \"x9\", \"domain\": [0.8930468750000005, 0.8993750000000005], \"title\": {\"text\": \"DG (eV)\"}}},                        {\"responsive\": true}                    ).then(function(){\n",
       "                            \n",
       "var gd = document.getElementById('b8867289-5b7f-4867-a0e6-02db3d45b129');\n",
       "var x = new MutationObserver(function (mutations, observer) {{\n",
       "        var display = window.getComputedStyle(gd).display;\n",
       "        if (!display || display === 'none') {{\n",
       "            console.log([gd, 'removed!']);\n",
       "            Plotly.purge(gd);\n",
       "            observer.disconnect();\n",
       "        }}\n",
       "}});\n",
       "\n",
       "// Listen for the removal of the full notebook cells\n",
       "var notebookContainer = gd.closest('#notebook-container');\n",
       "if (notebookContainer) {{\n",
       "    x.observe(notebookContainer, {childList: true});\n",
       "}}\n",
       "\n",
       "// Listen for the clearing of the current output cell\n",
       "var outputEl = gd.closest('.output');\n",
       "if (outputEl) {{\n",
       "    x.observe(outputEl, {childList: true});\n",
       "}}\n",
       "\n",
       "                        })                };                });            </script>        </div>"
      ]
     },
     "metadata": {},
     "output_type": "display_data"
    }
   ],
   "source": [
    "fig = make_subplots(rows = 80, cols = 1, shared_xaxes = True,\n",
    "                   subplot_titles=tuple(df['formula']), column_titles = tuple(df['formula']),\n",
    "                  # vertical_spacing = 0.01\n",
    "                   )\n",
    "\n",
    "x_list = [0,1,1,2,2,3,3,4,4,5]\n",
    "y_idx = [0,0,1,1,2,2,3,3,4,4]\n",
    "\n",
    "for idx in range(1,81):\n",
    "    ads_list= [0, df.loc[idx,'DE_OH'], df.loc[idx,'DE_O'], df.loc[idx,'DE_OOH'], 4.92]\n",
    "    \n",
    "    y_list = []\n",
    "    for x in range(len(x_list)):\n",
    "      #  print(x_list[x],\" \",ads_list[y_idx[x]])\n",
    "        y_list.append(ads_list[y_idx[x]])\n",
    "\n",
    "    fig.append_trace(go.Scatter(x = x_list, y = y_list, name = df.loc[idx,'formula'],\n",
    "                               text = ['', 'H2O','','OH*','','O*','','OOH*','','O2(g)'],\n",
    "                               textposition = \"bottom center\",\n",
    "                               mode = 'lines+text'), row = idx, col = 1)\n",
    "    fig.update_yaxes(title_text = 'DG (eV)')\n",
    "    layout = go.Layout(title = 'free energy diagram', titlefont = dict(size = 25), autosize = True, \n",
    "                          )\n",
    "\n",
    "fig.update_layout(title_text = 'free_energy_diagram', showlegend = True, height = 15000, width = 500 )\n",
    "# pyo.iplot(fig)\n",
    "fig.show()\n"
   ]
  },
  {
   "cell_type": "code",
   "execution_count": 164,
   "metadata": {},
   "outputs": [
    {
     "data": {
      "application/vnd.plotly.v1+json": {
       "config": {
        "plotlyServerURL": "https://plot.ly"
       },
       "data": [
        {
         "name": "SrTcO3",
         "type": "scatter",
         "x": [
          0,
          1,
          1,
          2,
          2,
          3,
          3,
          4,
          4,
          5
         ],
         "xaxis": "x",
         "y": [
          0,
          0,
          -0.782,
          -0.782,
          -0.707,
          -0.707,
          2.481,
          2.481,
          4.92,
          4.92
         ],
         "yaxis": "y"
        },
        {
         "name": "BaFeO3",
         "type": "scatter",
         "x": [
          0,
          1,
          1,
          2,
          2,
          3,
          3,
          4,
          4,
          5
         ],
         "xaxis": "x",
         "y": [
          0,
          0,
          2.024,
          2.024,
          4.452,
          4.452,
          4.917,
          4.917,
          4.92,
          4.92
         ],
         "yaxis": "y"
        },
        {
         "name": "BaMoO3",
         "type": "scatter",
         "x": [
          0,
          1,
          1,
          2,
          2,
          3,
          3,
          4,
          4,
          5
         ],
         "xaxis": "x",
         "y": [
          0,
          0,
          -0.302,
          -0.302,
          -0.853,
          -0.853,
          3.019,
          3.019,
          4.92,
          4.92
         ],
         "yaxis": "y"
        },
        {
         "name": "KTaO3",
         "type": "scatter",
         "x": [
          0,
          1,
          1,
          2,
          2,
          3,
          3,
          4,
          4,
          5
         ],
         "xaxis": "x",
         "y": [
          0,
          0,
          -1.001,
          -1.001,
          -0.614,
          -0.614,
          2.575,
          2.575,
          4.92,
          4.92
         ],
         "yaxis": "y"
        },
        {
         "name": "BaZrO3",
         "type": "scatter",
         "x": [
          0,
          1,
          1,
          2,
          2,
          3,
          3,
          4,
          4,
          5
         ],
         "xaxis": "x",
         "y": [
          0,
          0,
          1.29,
          1.29,
          4.143,
          4.143,
          4.706,
          4.706,
          4.92,
          4.92
         ],
         "yaxis": "y"
        },
        {
         "name": "SrFeO3",
         "type": "scatter",
         "x": [
          0,
          1,
          1,
          2,
          2,
          3,
          3,
          4,
          4,
          5
         ],
         "xaxis": "x",
         "y": [
          0,
          0,
          2.026,
          2.026,
          4.606,
          4.606,
          4.94,
          4.94,
          4.92,
          4.92
         ],
         "yaxis": "y"
        },
        {
         "name": "KTcO3",
         "type": "scatter",
         "x": [
          0,
          1,
          1,
          2,
          2,
          3,
          3,
          4,
          4,
          5
         ],
         "xaxis": "x",
         "y": [
          0,
          0,
          0.04,
          0.04,
          0.446,
          0.446,
          3.231,
          3.231,
          4.92,
          4.92
         ],
         "yaxis": "y"
        },
        {
         "name": "NaTcO3",
         "type": "scatter",
         "x": [
          0,
          1,
          1,
          2,
          2,
          3,
          3,
          4,
          4,
          5
         ],
         "xaxis": "x",
         "y": [
          0,
          0,
          -0.067,
          -0.067,
          0.301,
          0.301,
          3.149,
          3.149,
          4.92,
          4.92
         ],
         "yaxis": "y"
        },
        {
         "name": "BaHfO3",
         "type": "scatter",
         "x": [
          0,
          1,
          1,
          2,
          2,
          3,
          3,
          4,
          4,
          5
         ],
         "xaxis": "x",
         "y": [
          0,
          0,
          1.191,
          1.191,
          4.023,
          4.023,
          4.537,
          4.537,
          4.92,
          4.92
         ],
         "yaxis": "y"
        },
        {
         "name": "SrTiO3",
         "type": "scatter",
         "x": [
          0,
          1,
          1,
          2,
          2,
          3,
          3,
          4,
          4,
          5
         ],
         "xaxis": "x",
         "y": [
          0,
          0,
          1.276,
          1.276,
          3.889,
          3.889,
          4.632,
          4.632,
          4.92,
          4.92
         ],
         "yaxis": "y"
        },
        {
         "name": "SrCuO3",
         "type": "scatter",
         "x": [
          0,
          1,
          1,
          2,
          2,
          3,
          3,
          4,
          4,
          5
         ],
         "xaxis": "x",
         "y": [
          0,
          0,
          2.007,
          2.007,
          4.23,
          4.23,
          5.007,
          5.007,
          4.92,
          4.92
         ],
         "yaxis": "y"
        },
        {
         "name": "KNbO3",
         "type": "scatter",
         "x": [
          0,
          1,
          1,
          2,
          2,
          3,
          3,
          4,
          4,
          5
         ],
         "xaxis": "x",
         "y": [
          0,
          0,
          -0.217,
          -0.217,
          0.465,
          0.465,
          3.298,
          3.298,
          4.92,
          4.92
         ],
         "yaxis": "y"
        },
        {
         "name": "NaTaO3",
         "type": "scatter",
         "x": [
          0,
          1,
          1,
          2,
          2,
          3,
          3,
          4,
          4,
          5
         ],
         "xaxis": "x",
         "y": [
          0,
          0,
          -1.129,
          -1.129,
          -0.899,
          -0.899,
          2.423,
          2.423,
          4.92,
          4.92
         ],
         "yaxis": "y"
        },
        {
         "name": "BaScO3",
         "type": "scatter",
         "x": [
          0,
          1,
          1,
          2,
          2,
          3,
          3,
          4,
          4,
          5
         ],
         "xaxis": "x",
         "y": [
          0,
          0,
          2.147,
          2.147,
          4.7,
          4.7,
          4.977,
          4.977,
          4.92,
          4.92
         ],
         "yaxis": "y"
        },
        {
         "name": "BaPdO3",
         "type": "scatter",
         "x": [
          0,
          1,
          1,
          2,
          2,
          3,
          3,
          4,
          4,
          5
         ],
         "xaxis": "x",
         "y": [
          0,
          0,
          1.7,
          1.7,
          3.455,
          3.455,
          4.665,
          4.665,
          4.92,
          4.92
         ],
         "yaxis": "y"
        },
        {
         "name": "SrHfO3",
         "type": "scatter",
         "x": [
          0,
          1,
          1,
          2,
          2,
          3,
          3,
          4,
          4,
          5
         ],
         "xaxis": "x",
         "y": [
          0,
          0,
          1.081,
          1.081,
          3.952,
          3.952,
          4.46,
          4.46,
          4.92,
          4.92
         ],
         "yaxis": "y"
        },
        {
         "name": "NaOsO3",
         "type": "scatter",
         "x": [
          0,
          1,
          1,
          2,
          2,
          3,
          3,
          4,
          4,
          5
         ],
         "xaxis": "x",
         "y": [
          0,
          0,
          -0.354,
          -0.354,
          0.577,
          0.577,
          3.103,
          3.103,
          4.92,
          4.92
         ],
         "yaxis": "y"
        },
        {
         "name": "TlTcO3",
         "type": "scatter",
         "x": [
          0,
          1,
          1,
          2,
          2,
          3,
          3,
          4,
          4,
          5
         ],
         "xaxis": "x",
         "y": [
          0,
          0,
          -0.031,
          -0.031,
          0.313,
          0.313,
          3.1,
          3.1,
          4.92,
          4.92
         ],
         "yaxis": "y"
        },
        {
         "name": "KReO3",
         "type": "scatter",
         "x": [
          0,
          1,
          1,
          2,
          2,
          3,
          3,
          4,
          4,
          5
         ],
         "xaxis": "x",
         "y": [
          0,
          0,
          -0.733,
          -0.733,
          -0.544,
          -0.544,
          2.539,
          2.539,
          4.92,
          4.92
         ],
         "yaxis": "y"
        },
        {
         "name": "SrRuO3",
         "type": "scatter",
         "x": [
          0,
          1,
          1,
          2,
          2,
          3,
          3,
          4,
          4,
          5
         ],
         "xaxis": "x",
         "y": [
          0,
          0,
          0.26,
          0.26,
          0.96,
          0.96,
          3.406,
          3.406,
          4.92,
          4.92
         ],
         "yaxis": "y"
        },
        {
         "name": "KHfO3",
         "type": "scatter",
         "x": [
          0,
          1,
          1,
          2,
          2,
          3,
          3,
          4,
          4,
          5
         ],
         "xaxis": "x",
         "y": [
          0,
          0,
          1.946,
          1.946,
          4.407,
          4.407,
          4.806,
          4.806,
          4.92,
          4.92
         ],
         "yaxis": "y"
        },
        {
         "name": "SrVO3",
         "type": "scatter",
         "x": [
          0,
          1,
          1,
          2,
          2,
          3,
          3,
          4,
          4,
          5
         ],
         "xaxis": "x",
         "y": [
          0,
          0,
          -0.191,
          -0.191,
          0.516,
          0.516,
          3.026,
          3.026,
          4.92,
          4.92
         ],
         "yaxis": "y"
        },
        {
         "name": "KOsO3",
         "type": "scatter",
         "x": [
          0,
          1,
          1,
          2,
          2,
          3,
          3,
          4,
          4,
          5
         ],
         "xaxis": "x",
         "y": [
          0,
          0,
          -0.464,
          -0.464,
          0.699,
          0.699,
          2.802,
          2.802,
          4.92,
          4.92
         ],
         "yaxis": "y"
        },
        {
         "name": "TaAgO3",
         "type": "scatter",
         "x": [
          0,
          1,
          1,
          2,
          2,
          3,
          3,
          4,
          4,
          5
         ],
         "xaxis": "x",
         "y": [
          0,
          0,
          -1.056,
          -1.056,
          -0.969,
          -0.969,
          2.512,
          2.512,
          4.92,
          4.92
         ],
         "yaxis": "y"
        },
        {
         "name": "SrNiO3",
         "type": "scatter",
         "x": [
          0,
          1,
          1,
          2,
          2,
          3,
          3,
          4,
          4,
          5
         ],
         "xaxis": "x",
         "y": [
          0,
          0,
          3.474,
          3.474,
          4.437,
          4.437,
          4.641,
          4.641,
          4.92,
          4.92
         ],
         "yaxis": "y"
        },
        {
         "name": "RbIrO3",
         "type": "scatter",
         "x": [
          0,
          1,
          1,
          2,
          2,
          3,
          3,
          4,
          4,
          5
         ],
         "xaxis": "x",
         "y": [
          0,
          0,
          0.976,
          0.976,
          2.415,
          2.415,
          4.135,
          4.135,
          4.92,
          4.92
         ],
         "yaxis": "y"
        },
        {
         "name": "NaReO3",
         "type": "scatter",
         "x": [
          0,
          1,
          1,
          2,
          2,
          3,
          3,
          4,
          4,
          5
         ],
         "xaxis": "x",
         "y": [
          0,
          0,
          -0.831,
          -0.831,
          -0.697,
          -0.697,
          2.449,
          2.449,
          4.92,
          4.92
         ],
         "yaxis": "y"
        },
        {
         "name": "SrMnO3",
         "type": "scatter",
         "x": [
          0,
          1,
          1,
          2,
          2,
          3,
          3,
          4,
          4,
          5
         ],
         "xaxis": "x",
         "y": [
          0,
          0,
          2.548,
          2.548,
          4.648,
          4.648,
          5.509,
          5.509,
          4.92,
          4.92
         ],
         "yaxis": "y"
        },
        {
         "name": "CaFeO3",
         "type": "scatter",
         "x": [
          0,
          1,
          1,
          2,
          2,
          3,
          3,
          4,
          4,
          5
         ],
         "xaxis": "x",
         "y": [
          0,
          0,
          1.927,
          1.927,
          4.277,
          4.277,
          4.926,
          4.926,
          4.92,
          4.92
         ],
         "yaxis": "y"
        },
        {
         "name": "SrZrO3",
         "type": "scatter",
         "x": [
          0,
          1,
          1,
          2,
          2,
          3,
          3,
          4,
          4,
          5
         ],
         "xaxis": "x",
         "y": [
          0,
          0,
          1.151,
          1.151,
          4.034,
          4.034,
          4.537,
          4.537,
          4.92,
          4.92
         ],
         "yaxis": "y"
        },
        {
         "name": "RbTaO3",
         "type": "scatter",
         "x": [
          0,
          1,
          1,
          2,
          2,
          3,
          3,
          4,
          4,
          5
         ],
         "xaxis": "x",
         "y": [
          0,
          0,
          -0.997,
          -0.997,
          -0.617,
          -0.617,
          2.619,
          2.619,
          4.92,
          4.92
         ],
         "yaxis": "y"
        },
        {
         "name": "SrCoO3",
         "type": "scatter",
         "x": [
          0,
          1,
          1,
          2,
          2,
          3,
          3,
          4,
          4,
          5
         ],
         "xaxis": "x",
         "y": [
          0,
          0,
          1.163,
          1.163,
          3.136,
          3.136,
          4.261,
          4.261,
          4.92,
          4.92
         ],
         "yaxis": "y"
        },
        {
         "name": "KZrO3",
         "type": "scatter",
         "x": [
          0,
          1,
          1,
          2,
          2,
          3,
          3,
          4,
          4,
          5
         ],
         "xaxis": "x",
         "y": [
          0,
          0,
          2.007,
          2.007,
          4.516,
          4.516,
          4.825,
          4.825,
          4.92,
          4.92
         ],
         "yaxis": "y"
        },
        {
         "name": "CaTiO3",
         "type": "scatter",
         "x": [
          0,
          1,
          1,
          2,
          2,
          3,
          3,
          4,
          4,
          5
         ],
         "xaxis": "x",
         "y": [
          0,
          0,
          1.263,
          1.263,
          3.911,
          3.911,
          4.692,
          4.692,
          4.92,
          4.92
         ],
         "yaxis": "y"
        },
        {
         "name": "NaRuO3",
         "type": "scatter",
         "x": [
          0,
          1,
          1,
          2,
          2,
          3,
          3,
          4,
          4,
          5
         ],
         "xaxis": "x",
         "y": [
          0,
          0,
          0.746,
          0.746,
          1.871,
          1.871,
          3.804,
          3.804,
          4.92,
          4.92
         ],
         "yaxis": "y"
        },
        {
         "name": "LiTcO3",
         "type": "scatter",
         "x": [
          0,
          1,
          1,
          2,
          2,
          3,
          3,
          4,
          4,
          5
         ],
         "xaxis": "x",
         "y": [
          0,
          0,
          0.152,
          0.152,
          0.621,
          0.621,
          3.351,
          3.351,
          4.92,
          4.92
         ],
         "yaxis": "y"
        },
        {
         "name": "SrPdO3",
         "type": "scatter",
         "x": [
          0,
          1,
          1,
          2,
          2,
          3,
          3,
          4,
          4,
          5
         ],
         "xaxis": "x",
         "y": [
          0,
          0,
          0.899,
          0.899,
          3.176,
          3.176,
          3.741,
          3.741,
          4.92,
          4.92
         ],
         "yaxis": "y"
        },
        {
         "name": "KWO3",
         "type": "scatter",
         "x": [
          0,
          1,
          1,
          2,
          2,
          3,
          3,
          4,
          4,
          5
         ],
         "xaxis": "x",
         "y": [
          0,
          0,
          -1.124,
          -1.124,
          -1.2,
          -1.2,
          2.067,
          2.067,
          4.92,
          4.92
         ],
         "yaxis": "y"
        },
        {
         "name": "KRhO3",
         "type": "scatter",
         "x": [
          0,
          1,
          1,
          2,
          2,
          3,
          3,
          4,
          4,
          5
         ],
         "xaxis": "x",
         "y": [
          0,
          0,
          1.568,
          1.568,
          3.321,
          3.321,
          4.504,
          4.504,
          4.92,
          4.92
         ],
         "yaxis": "y"
        },
        {
         "name": "BaCuO3",
         "type": "scatter",
         "x": [
          0,
          1,
          1,
          2,
          2,
          3,
          3,
          4,
          4,
          5
         ],
         "xaxis": "x",
         "y": [
          0,
          0,
          1.821,
          1.821,
          3.95,
          3.95,
          4.755,
          4.755,
          4.92,
          4.92
         ],
         "yaxis": "y"
        },
        {
         "name": "RbNbO3",
         "type": "scatter",
         "x": [
          0,
          1,
          1,
          2,
          2,
          3,
          3,
          4,
          4,
          5
         ],
         "xaxis": "x",
         "y": [
          0,
          0,
          -0.344,
          -0.344,
          0.282,
          0.282,
          3.187,
          3.187,
          4.92,
          4.92
         ],
         "yaxis": "y"
        },
        {
         "name": "BaOsO3",
         "type": "scatter",
         "x": [
          0,
          1,
          1,
          2,
          2,
          3,
          3,
          4,
          4,
          5
         ],
         "xaxis": "x",
         "y": [
          0,
          0,
          -1.484,
          -1.484,
          -0.728,
          -0.728,
          2.141,
          2.141,
          4.92,
          4.92
         ],
         "yaxis": "y"
        },
        {
         "name": "BaRuO3",
         "type": "scatter",
         "x": [
          0,
          1,
          1,
          2,
          2,
          3,
          3,
          4,
          4,
          5
         ],
         "xaxis": "x",
         "y": [
          0,
          0,
          0.446,
          0.446,
          1.303,
          1.303,
          3.513,
          3.513,
          4.92,
          4.92
         ],
         "yaxis": "y"
        },
        {
         "name": "KRuO3",
         "type": "scatter",
         "x": [
          0,
          1,
          1,
          2,
          2,
          3,
          3,
          4,
          4,
          5
         ],
         "xaxis": "x",
         "y": [
          0,
          0,
          0.83,
          0.83,
          2.006,
          2.006,
          3.972,
          3.972,
          4.92,
          4.92
         ],
         "yaxis": "y"
        },
        {
         "name": "SrMoO3",
         "type": "scatter",
         "x": [
          0,
          1,
          1,
          2,
          2,
          3,
          3,
          4,
          4,
          5
         ],
         "xaxis": "x",
         "y": [
          0,
          0,
          -1.13,
          -1.13,
          -1.375,
          -1.375,
          2.216,
          2.216,
          4.92,
          4.92
         ],
         "yaxis": "y"
        },
        {
         "name": "NaTiO3",
         "type": "scatter",
         "x": [
          0,
          1,
          1,
          2,
          2,
          3,
          3,
          4,
          4,
          5
         ],
         "xaxis": "x",
         "y": [
          0,
          0,
          2.205,
          2.205,
          4.568,
          4.568,
          4.918,
          4.918,
          4.92,
          4.92
         ],
         "yaxis": "y"
        },
        {
         "name": "SrScO3",
         "type": "scatter",
         "x": [
          0,
          1,
          1,
          2,
          2,
          3,
          3,
          4,
          4,
          5
         ],
         "xaxis": "x",
         "y": [
          0,
          0,
          2.146,
          2.146,
          4.677,
          4.677,
          4.963,
          4.963,
          4.92,
          4.92
         ],
         "yaxis": "y"
        },
        {
         "name": "SrRhO3",
         "type": "scatter",
         "x": [
          0,
          1,
          1,
          2,
          2,
          3,
          3,
          4,
          4,
          5
         ],
         "xaxis": "x",
         "y": [
          0,
          0,
          0.499,
          0.499,
          2.151,
          2.151,
          3.496,
          3.496,
          4.92,
          4.92
         ],
         "yaxis": "y"
        },
        {
         "name": "NaMoO3",
         "type": "scatter",
         "x": [
          0,
          1,
          1,
          2,
          2,
          3,
          3,
          4,
          4,
          5
         ],
         "xaxis": "x",
         "y": [
          0,
          0,
          -0.415,
          -0.415,
          -0.665,
          -0.665,
          2.624,
          2.624,
          4.92,
          4.92
         ],
         "yaxis": "y"
        },
        {
         "name": "BaRhO3",
         "type": "scatter",
         "x": [
          0,
          1,
          1,
          2,
          2,
          3,
          3,
          4,
          4,
          5
         ],
         "xaxis": "x",
         "y": [
          0,
          0,
          1.086,
          1.086,
          2.461,
          2.461,
          4.115,
          4.115,
          4.92,
          4.92
         ],
         "yaxis": "y"
        },
        {
         "name": "BaPtO3",
         "type": "scatter",
         "x": [
          0,
          1,
          1,
          2,
          2,
          3,
          3,
          4,
          4,
          5
         ],
         "xaxis": "x",
         "y": [
          0,
          0,
          1.101,
          1.101,
          2.56,
          2.56,
          4.159,
          4.159,
          4.92,
          4.92
         ],
         "yaxis": "y"
        },
        {
         "name": "CaVO3",
         "type": "scatter",
         "x": [
          0,
          1,
          1,
          2,
          2,
          3,
          3,
          4,
          4,
          5
         ],
         "xaxis": "x",
         "y": [
          0,
          0,
          -0.181,
          -0.181,
          0.389,
          0.389,
          3.376,
          3.376,
          4.92,
          4.92
         ],
         "yaxis": "y"
        },
        {
         "name": "KMoO3",
         "type": "scatter",
         "x": [
          0,
          1,
          1,
          2,
          2,
          3,
          3,
          4,
          4,
          5
         ],
         "xaxis": "x",
         "y": [
          0,
          0,
          -0.558,
          -0.558,
          -0.412,
          -0.412,
          2.632,
          2.632,
          4.92,
          4.92
         ],
         "yaxis": "y"
        },
        {
         "name": "SrCrO3",
         "type": "scatter",
         "x": [
          0,
          1,
          1,
          2,
          2,
          3,
          3,
          4,
          4,
          5
         ],
         "xaxis": "x",
         "y": [
          0,
          0,
          0.646,
          0.646,
          2.046,
          2.046,
          3.829,
          3.829,
          4.92,
          4.92
         ],
         "yaxis": "y"
        },
        {
         "name": "RbRhO3",
         "type": "scatter",
         "x": [
          0,
          1,
          1,
          2,
          2,
          3,
          3,
          4,
          4,
          5
         ],
         "xaxis": "x",
         "y": [
          0,
          0,
          1.29,
          1.29,
          3.2,
          3.2,
          4.069,
          4.069,
          4.92,
          4.92
         ],
         "yaxis": "y"
        },
        {
         "name": "BaVO3",
         "type": "scatter",
         "x": [
          0,
          1,
          1,
          2,
          2,
          3,
          3,
          4,
          4,
          5
         ],
         "xaxis": "x",
         "y": [
          0,
          0,
          -0.474,
          -0.474,
          0.504,
          0.504,
          3.366,
          3.366,
          4.92,
          4.92
         ],
         "yaxis": "y"
        },
        {
         "name": "CaCoO3",
         "type": "scatter",
         "x": [
          0,
          1,
          1,
          2,
          2,
          3,
          3,
          4,
          4,
          5
         ],
         "xaxis": "x",
         "y": [
          0,
          0,
          1.636,
          1.636,
          3.425,
          3.425,
          4.683,
          4.683,
          4.92,
          4.92
         ],
         "yaxis": "y"
        },
        {
         "name": "CaMnO3",
         "type": "scatter",
         "x": [
          0,
          1,
          1,
          2,
          2,
          3,
          3,
          4,
          4,
          5
         ],
         "xaxis": "x",
         "y": [
          0,
          0,
          1.408,
          1.408,
          4.289,
          4.289,
          4.967,
          4.967,
          4.92,
          4.92
         ],
         "yaxis": "y"
        },
        {
         "name": "KPtO3",
         "type": "scatter",
         "x": [
          0,
          1,
          1,
          2,
          2,
          3,
          3,
          4,
          4,
          5
         ],
         "xaxis": "x",
         "y": [
          0,
          0,
          1.292,
          1.292,
          2.948,
          2.948,
          4.28,
          4.28,
          4.92,
          4.92
         ],
         "yaxis": "y"
        },
        {
         "name": "BaNiO3",
         "type": "scatter",
         "x": [
          0,
          1,
          1,
          2,
          2,
          3,
          3,
          4,
          4,
          5
         ],
         "xaxis": "x",
         "y": [
          0,
          0,
          2.267,
          2.267,
          4.41,
          4.41,
          4.943,
          4.943,
          4.92,
          4.92
         ],
         "yaxis": "y"
        },
        {
         "name": "BaMnO3",
         "type": "scatter",
         "x": [
          0,
          1,
          1,
          2,
          2,
          3,
          3,
          4,
          4,
          5
         ],
         "xaxis": "x",
         "y": [
          0,
          0,
          1.655,
          1.655,
          2.943,
          2.943,
          4.914,
          4.914,
          4.92,
          4.92
         ],
         "yaxis": "y"
        },
        {
         "name": "SrIrO3",
         "type": "scatter",
         "x": [
          0,
          1,
          1,
          2,
          2,
          3,
          3,
          4,
          4,
          5
         ],
         "xaxis": "x",
         "y": [
          0,
          0,
          0.424,
          0.424,
          1.673,
          1.673,
          3.546,
          3.546,
          4.92,
          4.92
         ],
         "yaxis": "y"
        },
        {
         "name": "NaVO3",
         "type": "scatter",
         "x": [
          0,
          1,
          1,
          2,
          2,
          3,
          3,
          4,
          4,
          5
         ],
         "xaxis": "x",
         "y": [
          0,
          0,
          0.52,
          0.52,
          1.743,
          1.743,
          3.911,
          3.911,
          4.92,
          4.92
         ],
         "yaxis": "y"
        },
        {
         "name": "NaFeO3",
         "type": "scatter",
         "x": [
          0,
          1,
          1,
          2,
          2,
          3,
          3,
          4,
          4,
          5
         ],
         "xaxis": "x",
         "y": [
          0,
          0,
          2.325,
          2.325,
          4.625,
          4.625,
          5.028,
          5.028,
          4.92,
          4.92
         ],
         "yaxis": "y"
        },
        {
         "name": "BaIrO3",
         "type": "scatter",
         "x": [
          0,
          1,
          1,
          2,
          2,
          3,
          3,
          4,
          4,
          5
         ],
         "xaxis": "x",
         "y": [
          0,
          0,
          0.646,
          0.646,
          1.989,
          1.989,
          3.828,
          3.828,
          4.92,
          4.92
         ],
         "yaxis": "y"
        },
        {
         "name": "RbReO3",
         "type": "scatter",
         "x": [
          0,
          1,
          1,
          2,
          2,
          3,
          3,
          4,
          4,
          5
         ],
         "xaxis": "x",
         "y": [
          0,
          0,
          -0.678,
          -0.678,
          -0.492,
          -0.492,
          2.581,
          2.581,
          4.92,
          4.92
         ],
         "yaxis": "y"
        },
        {
         "name": "CaRuO3",
         "type": "scatter",
         "x": [
          0,
          1,
          1,
          2,
          2,
          3,
          3,
          4,
          4,
          5
         ],
         "xaxis": "x",
         "y": [
          0,
          0,
          -0.363,
          -0.363,
          0.68,
          0.68,
          2.514,
          2.514,
          4.92,
          4.92
         ],
         "yaxis": "y"
        },
        {
         "name": "RbPdO3",
         "type": "scatter",
         "x": [
          0,
          1,
          1,
          2,
          2,
          3,
          3,
          4,
          4,
          5
         ],
         "xaxis": "x",
         "y": [
          0,
          0,
          1.313,
          1.313,
          3.183,
          3.183,
          4.231,
          4.231,
          4.92,
          4.92
         ],
         "yaxis": "y"
        },
        {
         "name": "CaHfO3",
         "type": "scatter",
         "x": [
          0,
          1,
          1,
          2,
          2,
          3,
          3,
          4,
          4,
          5
         ],
         "xaxis": "x",
         "y": [
          0,
          0,
          0.619,
          0.619,
          3.642,
          3.642,
          3.86,
          3.86,
          4.92,
          4.92
         ],
         "yaxis": "y"
        },
        {
         "name": "TlWO3",
         "type": "scatter",
         "x": [
          0,
          1,
          1,
          2,
          2,
          3,
          3,
          4,
          4,
          5
         ],
         "xaxis": "x",
         "y": [
          0,
          0,
          -1.407,
          -1.407,
          -0.904,
          -0.904,
          2.157,
          2.157,
          4.92,
          4.92
         ],
         "yaxis": "y"
        },
        {
         "name": "RbPtO3",
         "type": "scatter",
         "x": [
          0,
          1,
          1,
          2,
          2,
          3,
          3,
          4,
          4,
          5
         ],
         "xaxis": "x",
         "y": [
          0,
          0,
          1.034,
          1.034,
          2.727,
          2.727,
          4.02,
          4.02,
          4.92,
          4.92
         ],
         "yaxis": "y"
        }
       ],
       "layout": {
        "height": 600,
        "legend": {
         "y": 0.95,
         "yanchor": "top"
        },
        "template": {
         "data": {
          "bar": [
           {
            "error_x": {
             "color": "rgb(36,36,36)"
            },
            "error_y": {
             "color": "rgb(36,36,36)"
            },
            "marker": {
             "line": {
              "color": "rgb(234,234,242)",
              "width": 0.5
             }
            },
            "type": "bar"
           }
          ],
          "barpolar": [
           {
            "marker": {
             "line": {
              "color": "rgb(234,234,242)",
              "width": 0.5
             }
            },
            "type": "barpolar"
           }
          ],
          "carpet": [
           {
            "aaxis": {
             "endlinecolor": "rgb(36,36,36)",
             "gridcolor": "white",
             "linecolor": "white",
             "minorgridcolor": "white",
             "startlinecolor": "rgb(36,36,36)"
            },
            "baxis": {
             "endlinecolor": "rgb(36,36,36)",
             "gridcolor": "white",
             "linecolor": "white",
             "minorgridcolor": "white",
             "startlinecolor": "rgb(36,36,36)"
            },
            "type": "carpet"
           }
          ],
          "choropleth": [
           {
            "colorbar": {
             "outlinewidth": 0,
             "tickcolor": "rgb(36,36,36)",
             "ticklen": 8,
             "ticks": "outside",
             "tickwidth": 2
            },
            "type": "choropleth"
           }
          ],
          "contour": [
           {
            "colorbar": {
             "outlinewidth": 0,
             "tickcolor": "rgb(36,36,36)",
             "ticklen": 8,
             "ticks": "outside",
             "tickwidth": 2
            },
            "colorscale": [
             [
              0,
              "rgb(2,4,25)"
             ],
             [
              0.06274509803921569,
              "rgb(24,15,41)"
             ],
             [
              0.12549019607843137,
              "rgb(47,23,57)"
             ],
             [
              0.18823529411764706,
              "rgb(71,28,72)"
             ],
             [
              0.25098039215686274,
              "rgb(97,30,82)"
             ],
             [
              0.3137254901960784,
              "rgb(123,30,89)"
             ],
             [
              0.3764705882352941,
              "rgb(150,27,91)"
             ],
             [
              0.4392156862745098,
              "rgb(177,22,88)"
             ],
             [
              0.5019607843137255,
              "rgb(203,26,79)"
             ],
             [
              0.5647058823529412,
              "rgb(223,47,67)"
             ],
             [
              0.6274509803921569,
              "rgb(236,76,61)"
             ],
             [
              0.6901960784313725,
              "rgb(242,107,73)"
             ],
             [
              0.7529411764705882,
              "rgb(244,135,95)"
             ],
             [
              0.8156862745098039,
              "rgb(245,162,122)"
             ],
             [
              0.8784313725490196,
              "rgb(246,188,153)"
             ],
             [
              0.9411764705882353,
              "rgb(247,212,187)"
             ],
             [
              1,
              "rgb(250,234,220)"
             ]
            ],
            "type": "contour"
           }
          ],
          "contourcarpet": [
           {
            "colorbar": {
             "outlinewidth": 0,
             "tickcolor": "rgb(36,36,36)",
             "ticklen": 8,
             "ticks": "outside",
             "tickwidth": 2
            },
            "type": "contourcarpet"
           }
          ],
          "heatmap": [
           {
            "colorbar": {
             "outlinewidth": 0,
             "tickcolor": "rgb(36,36,36)",
             "ticklen": 8,
             "ticks": "outside",
             "tickwidth": 2
            },
            "colorscale": [
             [
              0,
              "rgb(2,4,25)"
             ],
             [
              0.06274509803921569,
              "rgb(24,15,41)"
             ],
             [
              0.12549019607843137,
              "rgb(47,23,57)"
             ],
             [
              0.18823529411764706,
              "rgb(71,28,72)"
             ],
             [
              0.25098039215686274,
              "rgb(97,30,82)"
             ],
             [
              0.3137254901960784,
              "rgb(123,30,89)"
             ],
             [
              0.3764705882352941,
              "rgb(150,27,91)"
             ],
             [
              0.4392156862745098,
              "rgb(177,22,88)"
             ],
             [
              0.5019607843137255,
              "rgb(203,26,79)"
             ],
             [
              0.5647058823529412,
              "rgb(223,47,67)"
             ],
             [
              0.6274509803921569,
              "rgb(236,76,61)"
             ],
             [
              0.6901960784313725,
              "rgb(242,107,73)"
             ],
             [
              0.7529411764705882,
              "rgb(244,135,95)"
             ],
             [
              0.8156862745098039,
              "rgb(245,162,122)"
             ],
             [
              0.8784313725490196,
              "rgb(246,188,153)"
             ],
             [
              0.9411764705882353,
              "rgb(247,212,187)"
             ],
             [
              1,
              "rgb(250,234,220)"
             ]
            ],
            "type": "heatmap"
           }
          ],
          "heatmapgl": [
           {
            "colorbar": {
             "outlinewidth": 0,
             "tickcolor": "rgb(36,36,36)",
             "ticklen": 8,
             "ticks": "outside",
             "tickwidth": 2
            },
            "colorscale": [
             [
              0,
              "rgb(2,4,25)"
             ],
             [
              0.06274509803921569,
              "rgb(24,15,41)"
             ],
             [
              0.12549019607843137,
              "rgb(47,23,57)"
             ],
             [
              0.18823529411764706,
              "rgb(71,28,72)"
             ],
             [
              0.25098039215686274,
              "rgb(97,30,82)"
             ],
             [
              0.3137254901960784,
              "rgb(123,30,89)"
             ],
             [
              0.3764705882352941,
              "rgb(150,27,91)"
             ],
             [
              0.4392156862745098,
              "rgb(177,22,88)"
             ],
             [
              0.5019607843137255,
              "rgb(203,26,79)"
             ],
             [
              0.5647058823529412,
              "rgb(223,47,67)"
             ],
             [
              0.6274509803921569,
              "rgb(236,76,61)"
             ],
             [
              0.6901960784313725,
              "rgb(242,107,73)"
             ],
             [
              0.7529411764705882,
              "rgb(244,135,95)"
             ],
             [
              0.8156862745098039,
              "rgb(245,162,122)"
             ],
             [
              0.8784313725490196,
              "rgb(246,188,153)"
             ],
             [
              0.9411764705882353,
              "rgb(247,212,187)"
             ],
             [
              1,
              "rgb(250,234,220)"
             ]
            ],
            "type": "heatmapgl"
           }
          ],
          "histogram": [
           {
            "marker": {
             "colorbar": {
              "outlinewidth": 0,
              "tickcolor": "rgb(36,36,36)",
              "ticklen": 8,
              "ticks": "outside",
              "tickwidth": 2
             }
            },
            "type": "histogram"
           }
          ],
          "histogram2d": [
           {
            "colorbar": {
             "outlinewidth": 0,
             "tickcolor": "rgb(36,36,36)",
             "ticklen": 8,
             "ticks": "outside",
             "tickwidth": 2
            },
            "colorscale": [
             [
              0,
              "rgb(2,4,25)"
             ],
             [
              0.06274509803921569,
              "rgb(24,15,41)"
             ],
             [
              0.12549019607843137,
              "rgb(47,23,57)"
             ],
             [
              0.18823529411764706,
              "rgb(71,28,72)"
             ],
             [
              0.25098039215686274,
              "rgb(97,30,82)"
             ],
             [
              0.3137254901960784,
              "rgb(123,30,89)"
             ],
             [
              0.3764705882352941,
              "rgb(150,27,91)"
             ],
             [
              0.4392156862745098,
              "rgb(177,22,88)"
             ],
             [
              0.5019607843137255,
              "rgb(203,26,79)"
             ],
             [
              0.5647058823529412,
              "rgb(223,47,67)"
             ],
             [
              0.6274509803921569,
              "rgb(236,76,61)"
             ],
             [
              0.6901960784313725,
              "rgb(242,107,73)"
             ],
             [
              0.7529411764705882,
              "rgb(244,135,95)"
             ],
             [
              0.8156862745098039,
              "rgb(245,162,122)"
             ],
             [
              0.8784313725490196,
              "rgb(246,188,153)"
             ],
             [
              0.9411764705882353,
              "rgb(247,212,187)"
             ],
             [
              1,
              "rgb(250,234,220)"
             ]
            ],
            "type": "histogram2d"
           }
          ],
          "histogram2dcontour": [
           {
            "colorbar": {
             "outlinewidth": 0,
             "tickcolor": "rgb(36,36,36)",
             "ticklen": 8,
             "ticks": "outside",
             "tickwidth": 2
            },
            "colorscale": [
             [
              0,
              "rgb(2,4,25)"
             ],
             [
              0.06274509803921569,
              "rgb(24,15,41)"
             ],
             [
              0.12549019607843137,
              "rgb(47,23,57)"
             ],
             [
              0.18823529411764706,
              "rgb(71,28,72)"
             ],
             [
              0.25098039215686274,
              "rgb(97,30,82)"
             ],
             [
              0.3137254901960784,
              "rgb(123,30,89)"
             ],
             [
              0.3764705882352941,
              "rgb(150,27,91)"
             ],
             [
              0.4392156862745098,
              "rgb(177,22,88)"
             ],
             [
              0.5019607843137255,
              "rgb(203,26,79)"
             ],
             [
              0.5647058823529412,
              "rgb(223,47,67)"
             ],
             [
              0.6274509803921569,
              "rgb(236,76,61)"
             ],
             [
              0.6901960784313725,
              "rgb(242,107,73)"
             ],
             [
              0.7529411764705882,
              "rgb(244,135,95)"
             ],
             [
              0.8156862745098039,
              "rgb(245,162,122)"
             ],
             [
              0.8784313725490196,
              "rgb(246,188,153)"
             ],
             [
              0.9411764705882353,
              "rgb(247,212,187)"
             ],
             [
              1,
              "rgb(250,234,220)"
             ]
            ],
            "type": "histogram2dcontour"
           }
          ],
          "mesh3d": [
           {
            "colorbar": {
             "outlinewidth": 0,
             "tickcolor": "rgb(36,36,36)",
             "ticklen": 8,
             "ticks": "outside",
             "tickwidth": 2
            },
            "type": "mesh3d"
           }
          ],
          "parcoords": [
           {
            "line": {
             "colorbar": {
              "outlinewidth": 0,
              "tickcolor": "rgb(36,36,36)",
              "ticklen": 8,
              "ticks": "outside",
              "tickwidth": 2
             }
            },
            "type": "parcoords"
           }
          ],
          "pie": [
           {
            "automargin": true,
            "type": "pie"
           }
          ],
          "scatter": [
           {
            "marker": {
             "colorbar": {
              "outlinewidth": 0,
              "tickcolor": "rgb(36,36,36)",
              "ticklen": 8,
              "ticks": "outside",
              "tickwidth": 2
             }
            },
            "type": "scatter"
           }
          ],
          "scatter3d": [
           {
            "line": {
             "colorbar": {
              "outlinewidth": 0,
              "tickcolor": "rgb(36,36,36)",
              "ticklen": 8,
              "ticks": "outside",
              "tickwidth": 2
             }
            },
            "marker": {
             "colorbar": {
              "outlinewidth": 0,
              "tickcolor": "rgb(36,36,36)",
              "ticklen": 8,
              "ticks": "outside",
              "tickwidth": 2
             }
            },
            "type": "scatter3d"
           }
          ],
          "scattercarpet": [
           {
            "marker": {
             "colorbar": {
              "outlinewidth": 0,
              "tickcolor": "rgb(36,36,36)",
              "ticklen": 8,
              "ticks": "outside",
              "tickwidth": 2
             }
            },
            "type": "scattercarpet"
           }
          ],
          "scattergeo": [
           {
            "marker": {
             "colorbar": {
              "outlinewidth": 0,
              "tickcolor": "rgb(36,36,36)",
              "ticklen": 8,
              "ticks": "outside",
              "tickwidth": 2
             }
            },
            "type": "scattergeo"
           }
          ],
          "scattergl": [
           {
            "marker": {
             "colorbar": {
              "outlinewidth": 0,
              "tickcolor": "rgb(36,36,36)",
              "ticklen": 8,
              "ticks": "outside",
              "tickwidth": 2
             }
            },
            "type": "scattergl"
           }
          ],
          "scattermapbox": [
           {
            "marker": {
             "colorbar": {
              "outlinewidth": 0,
              "tickcolor": "rgb(36,36,36)",
              "ticklen": 8,
              "ticks": "outside",
              "tickwidth": 2
             }
            },
            "type": "scattermapbox"
           }
          ],
          "scatterpolar": [
           {
            "marker": {
             "colorbar": {
              "outlinewidth": 0,
              "tickcolor": "rgb(36,36,36)",
              "ticklen": 8,
              "ticks": "outside",
              "tickwidth": 2
             }
            },
            "type": "scatterpolar"
           }
          ],
          "scatterpolargl": [
           {
            "marker": {
             "colorbar": {
              "outlinewidth": 0,
              "tickcolor": "rgb(36,36,36)",
              "ticklen": 8,
              "ticks": "outside",
              "tickwidth": 2
             }
            },
            "type": "scatterpolargl"
           }
          ],
          "scatterternary": [
           {
            "marker": {
             "colorbar": {
              "outlinewidth": 0,
              "tickcolor": "rgb(36,36,36)",
              "ticklen": 8,
              "ticks": "outside",
              "tickwidth": 2
             }
            },
            "type": "scatterternary"
           }
          ],
          "surface": [
           {
            "colorbar": {
             "outlinewidth": 0,
             "tickcolor": "rgb(36,36,36)",
             "ticklen": 8,
             "ticks": "outside",
             "tickwidth": 2
            },
            "colorscale": [
             [
              0,
              "rgb(2,4,25)"
             ],
             [
              0.06274509803921569,
              "rgb(24,15,41)"
             ],
             [
              0.12549019607843137,
              "rgb(47,23,57)"
             ],
             [
              0.18823529411764706,
              "rgb(71,28,72)"
             ],
             [
              0.25098039215686274,
              "rgb(97,30,82)"
             ],
             [
              0.3137254901960784,
              "rgb(123,30,89)"
             ],
             [
              0.3764705882352941,
              "rgb(150,27,91)"
             ],
             [
              0.4392156862745098,
              "rgb(177,22,88)"
             ],
             [
              0.5019607843137255,
              "rgb(203,26,79)"
             ],
             [
              0.5647058823529412,
              "rgb(223,47,67)"
             ],
             [
              0.6274509803921569,
              "rgb(236,76,61)"
             ],
             [
              0.6901960784313725,
              "rgb(242,107,73)"
             ],
             [
              0.7529411764705882,
              "rgb(244,135,95)"
             ],
             [
              0.8156862745098039,
              "rgb(245,162,122)"
             ],
             [
              0.8784313725490196,
              "rgb(246,188,153)"
             ],
             [
              0.9411764705882353,
              "rgb(247,212,187)"
             ],
             [
              1,
              "rgb(250,234,220)"
             ]
            ],
            "type": "surface"
           }
          ],
          "table": [
           {
            "cells": {
             "fill": {
              "color": "rgb(231,231,240)"
             },
             "line": {
              "color": "white"
             }
            },
            "header": {
             "fill": {
              "color": "rgb(183,183,191)"
             },
             "line": {
              "color": "white"
             }
            },
            "type": "table"
           }
          ]
         },
         "layout": {
          "annotationdefaults": {
           "arrowcolor": "rgb(67,103,167)"
          },
          "coloraxis": {
           "colorbar": {
            "outlinewidth": 0,
            "tickcolor": "rgb(36,36,36)",
            "ticklen": 8,
            "ticks": "outside",
            "tickwidth": 2
           }
          },
          "colorscale": {
           "sequential": [
            [
             0,
             "rgb(2,4,25)"
            ],
            [
             0.06274509803921569,
             "rgb(24,15,41)"
            ],
            [
             0.12549019607843137,
             "rgb(47,23,57)"
            ],
            [
             0.18823529411764706,
             "rgb(71,28,72)"
            ],
            [
             0.25098039215686274,
             "rgb(97,30,82)"
            ],
            [
             0.3137254901960784,
             "rgb(123,30,89)"
            ],
            [
             0.3764705882352941,
             "rgb(150,27,91)"
            ],
            [
             0.4392156862745098,
             "rgb(177,22,88)"
            ],
            [
             0.5019607843137255,
             "rgb(203,26,79)"
            ],
            [
             0.5647058823529412,
             "rgb(223,47,67)"
            ],
            [
             0.6274509803921569,
             "rgb(236,76,61)"
            ],
            [
             0.6901960784313725,
             "rgb(242,107,73)"
            ],
            [
             0.7529411764705882,
             "rgb(244,135,95)"
            ],
            [
             0.8156862745098039,
             "rgb(245,162,122)"
            ],
            [
             0.8784313725490196,
             "rgb(246,188,153)"
            ],
            [
             0.9411764705882353,
             "rgb(247,212,187)"
            ],
            [
             1,
             "rgb(250,234,220)"
            ]
           ],
           "sequentialminus": [
            [
             0,
             "rgb(2,4,25)"
            ],
            [
             0.06274509803921569,
             "rgb(24,15,41)"
            ],
            [
             0.12549019607843137,
             "rgb(47,23,57)"
            ],
            [
             0.18823529411764706,
             "rgb(71,28,72)"
            ],
            [
             0.25098039215686274,
             "rgb(97,30,82)"
            ],
            [
             0.3137254901960784,
             "rgb(123,30,89)"
            ],
            [
             0.3764705882352941,
             "rgb(150,27,91)"
            ],
            [
             0.4392156862745098,
             "rgb(177,22,88)"
            ],
            [
             0.5019607843137255,
             "rgb(203,26,79)"
            ],
            [
             0.5647058823529412,
             "rgb(223,47,67)"
            ],
            [
             0.6274509803921569,
             "rgb(236,76,61)"
            ],
            [
             0.6901960784313725,
             "rgb(242,107,73)"
            ],
            [
             0.7529411764705882,
             "rgb(244,135,95)"
            ],
            [
             0.8156862745098039,
             "rgb(245,162,122)"
            ],
            [
             0.8784313725490196,
             "rgb(246,188,153)"
            ],
            [
             0.9411764705882353,
             "rgb(247,212,187)"
            ],
            [
             1,
             "rgb(250,234,220)"
            ]
           ]
          },
          "colorway": [
           "rgb(76,114,176)",
           "rgb(221,132,82)",
           "rgb(85,168,104)",
           "rgb(196,78,82)",
           "rgb(129,114,179)",
           "rgb(147,120,96)",
           "rgb(218,139,195)",
           "rgb(140,140,140)",
           "rgb(204,185,116)",
           "rgb(100,181,205)"
          ],
          "font": {
           "color": "rgb(36,36,36)"
          },
          "geo": {
           "bgcolor": "white",
           "lakecolor": "white",
           "landcolor": "rgb(234,234,242)",
           "showlakes": true,
           "showland": true,
           "subunitcolor": "white"
          },
          "hoverlabel": {
           "align": "left"
          },
          "hovermode": "closest",
          "paper_bgcolor": "white",
          "plot_bgcolor": "rgb(234,234,242)",
          "polar": {
           "angularaxis": {
            "gridcolor": "white",
            "linecolor": "white",
            "showgrid": true,
            "ticks": ""
           },
           "bgcolor": "rgb(234,234,242)",
           "radialaxis": {
            "gridcolor": "white",
            "linecolor": "white",
            "showgrid": true,
            "ticks": ""
           }
          },
          "scene": {
           "xaxis": {
            "backgroundcolor": "rgb(234,234,242)",
            "gridcolor": "white",
            "gridwidth": 2,
            "linecolor": "white",
            "showbackground": true,
            "showgrid": true,
            "ticks": "",
            "zerolinecolor": "white"
           },
           "yaxis": {
            "backgroundcolor": "rgb(234,234,242)",
            "gridcolor": "white",
            "gridwidth": 2,
            "linecolor": "white",
            "showbackground": true,
            "showgrid": true,
            "ticks": "",
            "zerolinecolor": "white"
           },
           "zaxis": {
            "backgroundcolor": "rgb(234,234,242)",
            "gridcolor": "white",
            "gridwidth": 2,
            "linecolor": "white",
            "showbackground": true,
            "showgrid": true,
            "ticks": "",
            "zerolinecolor": "white"
           }
          },
          "shapedefaults": {
           "fillcolor": "rgb(67,103,167)",
           "line": {
            "width": 0
           },
           "opacity": 0.5
          },
          "ternary": {
           "aaxis": {
            "gridcolor": "white",
            "linecolor": "white",
            "showgrid": true,
            "ticks": ""
           },
           "baxis": {
            "gridcolor": "white",
            "linecolor": "white",
            "showgrid": true,
            "ticks": ""
           },
           "bgcolor": "rgb(234,234,242)",
           "caxis": {
            "gridcolor": "white",
            "linecolor": "white",
            "showgrid": true,
            "ticks": ""
           }
          },
          "xaxis": {
           "automargin": true,
           "gridcolor": "white",
           "linecolor": "white",
           "showgrid": true,
           "ticks": "",
           "title": {
            "standoff": 15
           },
           "zerolinecolor": "white"
          },
          "yaxis": {
           "automargin": true,
           "gridcolor": "white",
           "linecolor": "white",
           "showgrid": true,
           "ticks": "",
           "title": {
            "standoff": 15
           },
           "zerolinecolor": "white"
          }
         }
        },
        "title": {
         "text": "<b>Free energy diagram"
        },
        "width": 800,
        "xaxis": {
         "anchor": "y",
         "domain": [
          0,
          1
         ],
         "title": {
          "font": {
           "size": 25
          },
          "text": "Reaction Coordinate"
         }
        },
        "yaxis": {
         "anchor": "x",
         "domain": [
          0,
          1
         ],
         "title": {
          "font": {
           "size": 25
          },
          "text": "DG_eV"
         }
        }
       }
      },
      "text/html": [
       "<div>                            <div id=\"9f0a413a-8d6f-49bc-a25c-0d2a80027166\" class=\"plotly-graph-div\" style=\"height:600px; width:800px;\"></div>            <script type=\"text/javascript\">                require([\"plotly\"], function(Plotly) {                    window.PLOTLYENV=window.PLOTLYENV || {};                                    if (document.getElementById(\"9f0a413a-8d6f-49bc-a25c-0d2a80027166\")) {                    Plotly.newPlot(                        \"9f0a413a-8d6f-49bc-a25c-0d2a80027166\",                        [{\"name\": \"SrTcO3\", \"type\": \"scatter\", \"x\": [0, 1, 1, 2, 2, 3, 3, 4, 4, 5], \"xaxis\": \"x\", \"y\": [0, 0, -0.782, -0.782, -0.707, -0.707, 2.481, 2.481, 4.92, 4.92], \"yaxis\": \"y\"}, {\"name\": \"BaFeO3\", \"type\": \"scatter\", \"x\": [0, 1, 1, 2, 2, 3, 3, 4, 4, 5], \"xaxis\": \"x\", \"y\": [0, 0, 2.024, 2.024, 4.452, 4.452, 4.917, 4.917, 4.92, 4.92], \"yaxis\": \"y\"}, {\"name\": \"BaMoO3\", \"type\": \"scatter\", \"x\": [0, 1, 1, 2, 2, 3, 3, 4, 4, 5], \"xaxis\": \"x\", \"y\": [0, 0, -0.302, -0.302, -0.853, -0.853, 3.019, 3.019, 4.92, 4.92], \"yaxis\": \"y\"}, {\"name\": \"KTaO3\", \"type\": \"scatter\", \"x\": [0, 1, 1, 2, 2, 3, 3, 4, 4, 5], \"xaxis\": \"x\", \"y\": [0, 0, -1.001, -1.001, -0.614, -0.614, 2.575, 2.575, 4.92, 4.92], \"yaxis\": \"y\"}, {\"name\": \"BaZrO3\", \"type\": \"scatter\", \"x\": [0, 1, 1, 2, 2, 3, 3, 4, 4, 5], \"xaxis\": \"x\", \"y\": [0, 0, 1.29, 1.29, 4.143, 4.143, 4.706, 4.706, 4.92, 4.92], \"yaxis\": \"y\"}, {\"name\": \"SrFeO3\", \"type\": \"scatter\", \"x\": [0, 1, 1, 2, 2, 3, 3, 4, 4, 5], \"xaxis\": \"x\", \"y\": [0, 0, 2.026, 2.026, 4.606, 4.606, 4.94, 4.94, 4.92, 4.92], \"yaxis\": \"y\"}, {\"name\": \"KTcO3\", \"type\": \"scatter\", \"x\": [0, 1, 1, 2, 2, 3, 3, 4, 4, 5], \"xaxis\": \"x\", \"y\": [0, 0, 0.04, 0.04, 0.446, 0.446, 3.231, 3.231, 4.92, 4.92], \"yaxis\": \"y\"}, {\"name\": \"NaTcO3\", \"type\": \"scatter\", \"x\": [0, 1, 1, 2, 2, 3, 3, 4, 4, 5], \"xaxis\": \"x\", \"y\": [0, 0, -0.067, -0.067, 0.301, 0.301, 3.149, 3.149, 4.92, 4.92], \"yaxis\": \"y\"}, {\"name\": \"BaHfO3\", \"type\": \"scatter\", \"x\": [0, 1, 1, 2, 2, 3, 3, 4, 4, 5], \"xaxis\": \"x\", \"y\": [0, 0, 1.191, 1.191, 4.023, 4.023, 4.537, 4.537, 4.92, 4.92], \"yaxis\": \"y\"}, {\"name\": \"SrTiO3\", \"type\": \"scatter\", \"x\": [0, 1, 1, 2, 2, 3, 3, 4, 4, 5], \"xaxis\": \"x\", \"y\": [0, 0, 1.276, 1.276, 3.889, 3.889, 4.632, 4.632, 4.92, 4.92], \"yaxis\": \"y\"}, {\"name\": \"SrCuO3\", \"type\": \"scatter\", \"x\": [0, 1, 1, 2, 2, 3, 3, 4, 4, 5], \"xaxis\": \"x\", \"y\": [0, 0, 2.007, 2.007, 4.23, 4.23, 5.007, 5.007, 4.92, 4.92], \"yaxis\": \"y\"}, {\"name\": \"KNbO3\", \"type\": \"scatter\", \"x\": [0, 1, 1, 2, 2, 3, 3, 4, 4, 5], \"xaxis\": \"x\", \"y\": [0, 0, -0.217, -0.217, 0.465, 0.465, 3.298, 3.298, 4.92, 4.92], \"yaxis\": \"y\"}, {\"name\": \"NaTaO3\", \"type\": \"scatter\", \"x\": [0, 1, 1, 2, 2, 3, 3, 4, 4, 5], \"xaxis\": \"x\", \"y\": [0, 0, -1.129, -1.129, -0.899, -0.899, 2.423, 2.423, 4.92, 4.92], \"yaxis\": \"y\"}, {\"name\": \"BaScO3\", \"type\": \"scatter\", \"x\": [0, 1, 1, 2, 2, 3, 3, 4, 4, 5], \"xaxis\": \"x\", \"y\": [0, 0, 2.147, 2.147, 4.7, 4.7, 4.977, 4.977, 4.92, 4.92], \"yaxis\": \"y\"}, {\"name\": \"BaPdO3\", \"type\": \"scatter\", \"x\": [0, 1, 1, 2, 2, 3, 3, 4, 4, 5], \"xaxis\": \"x\", \"y\": [0, 0, 1.7, 1.7, 3.455, 3.455, 4.665, 4.665, 4.92, 4.92], \"yaxis\": \"y\"}, {\"name\": \"SrHfO3\", \"type\": \"scatter\", \"x\": [0, 1, 1, 2, 2, 3, 3, 4, 4, 5], \"xaxis\": \"x\", \"y\": [0, 0, 1.081, 1.081, 3.952, 3.952, 4.46, 4.46, 4.92, 4.92], \"yaxis\": \"y\"}, {\"name\": \"NaOsO3\", \"type\": \"scatter\", \"x\": [0, 1, 1, 2, 2, 3, 3, 4, 4, 5], \"xaxis\": \"x\", \"y\": [0, 0, -0.354, -0.354, 0.577, 0.577, 3.103, 3.103, 4.92, 4.92], \"yaxis\": \"y\"}, {\"name\": \"TlTcO3\", \"type\": \"scatter\", \"x\": [0, 1, 1, 2, 2, 3, 3, 4, 4, 5], \"xaxis\": \"x\", \"y\": [0, 0, -0.031, -0.031, 0.313, 0.313, 3.1, 3.1, 4.92, 4.92], \"yaxis\": \"y\"}, {\"name\": \"KReO3\", \"type\": \"scatter\", \"x\": [0, 1, 1, 2, 2, 3, 3, 4, 4, 5], \"xaxis\": \"x\", \"y\": [0, 0, -0.733, -0.733, -0.544, -0.544, 2.539, 2.539, 4.92, 4.92], \"yaxis\": \"y\"}, {\"name\": \"SrRuO3\", \"type\": \"scatter\", \"x\": [0, 1, 1, 2, 2, 3, 3, 4, 4, 5], \"xaxis\": \"x\", \"y\": [0, 0, 0.26, 0.26, 0.96, 0.96, 3.406, 3.406, 4.92, 4.92], \"yaxis\": \"y\"}, {\"name\": \"KHfO3\", \"type\": \"scatter\", \"x\": [0, 1, 1, 2, 2, 3, 3, 4, 4, 5], \"xaxis\": \"x\", \"y\": [0, 0, 1.946, 1.946, 4.407, 4.407, 4.806, 4.806, 4.92, 4.92], \"yaxis\": \"y\"}, {\"name\": \"SrVO3\", \"type\": \"scatter\", \"x\": [0, 1, 1, 2, 2, 3, 3, 4, 4, 5], \"xaxis\": \"x\", \"y\": [0, 0, -0.191, -0.191, 0.516, 0.516, 3.026, 3.026, 4.92, 4.92], \"yaxis\": \"y\"}, {\"name\": \"KOsO3\", \"type\": \"scatter\", \"x\": [0, 1, 1, 2, 2, 3, 3, 4, 4, 5], \"xaxis\": \"x\", \"y\": [0, 0, -0.464, -0.464, 0.699, 0.699, 2.802, 2.802, 4.92, 4.92], \"yaxis\": \"y\"}, {\"name\": \"TaAgO3\", \"type\": \"scatter\", \"x\": [0, 1, 1, 2, 2, 3, 3, 4, 4, 5], \"xaxis\": \"x\", \"y\": [0, 0, -1.056, -1.056, -0.969, -0.969, 2.512, 2.512, 4.92, 4.92], \"yaxis\": \"y\"}, {\"name\": \"SrNiO3\", \"type\": \"scatter\", \"x\": [0, 1, 1, 2, 2, 3, 3, 4, 4, 5], \"xaxis\": \"x\", \"y\": [0, 0, 3.474, 3.474, 4.437, 4.437, 4.641, 4.641, 4.92, 4.92], \"yaxis\": \"y\"}, {\"name\": \"RbIrO3\", \"type\": \"scatter\", \"x\": [0, 1, 1, 2, 2, 3, 3, 4, 4, 5], \"xaxis\": \"x\", \"y\": [0, 0, 0.976, 0.976, 2.415, 2.415, 4.135, 4.135, 4.92, 4.92], \"yaxis\": \"y\"}, {\"name\": \"NaReO3\", \"type\": \"scatter\", \"x\": [0, 1, 1, 2, 2, 3, 3, 4, 4, 5], \"xaxis\": \"x\", \"y\": [0, 0, -0.831, -0.831, -0.697, -0.697, 2.449, 2.449, 4.92, 4.92], \"yaxis\": \"y\"}, {\"name\": \"SrMnO3\", \"type\": \"scatter\", \"x\": [0, 1, 1, 2, 2, 3, 3, 4, 4, 5], \"xaxis\": \"x\", \"y\": [0, 0, 2.548, 2.548, 4.648, 4.648, 5.509, 5.509, 4.92, 4.92], \"yaxis\": \"y\"}, {\"name\": \"CaFeO3\", \"type\": \"scatter\", \"x\": [0, 1, 1, 2, 2, 3, 3, 4, 4, 5], \"xaxis\": \"x\", \"y\": [0, 0, 1.927, 1.927, 4.277, 4.277, 4.926, 4.926, 4.92, 4.92], \"yaxis\": \"y\"}, {\"name\": \"SrZrO3\", \"type\": \"scatter\", \"x\": [0, 1, 1, 2, 2, 3, 3, 4, 4, 5], \"xaxis\": \"x\", \"y\": [0, 0, 1.151, 1.151, 4.034, 4.034, 4.537, 4.537, 4.92, 4.92], \"yaxis\": \"y\"}, {\"name\": \"RbTaO3\", \"type\": \"scatter\", \"x\": [0, 1, 1, 2, 2, 3, 3, 4, 4, 5], \"xaxis\": \"x\", \"y\": [0, 0, -0.997, -0.997, -0.617, -0.617, 2.619, 2.619, 4.92, 4.92], \"yaxis\": \"y\"}, {\"name\": \"SrCoO3\", \"type\": \"scatter\", \"x\": [0, 1, 1, 2, 2, 3, 3, 4, 4, 5], \"xaxis\": \"x\", \"y\": [0, 0, 1.163, 1.163, 3.136, 3.136, 4.261, 4.261, 4.92, 4.92], \"yaxis\": \"y\"}, {\"name\": \"KZrO3\", \"type\": \"scatter\", \"x\": [0, 1, 1, 2, 2, 3, 3, 4, 4, 5], \"xaxis\": \"x\", \"y\": [0, 0, 2.007, 2.007, 4.516, 4.516, 4.825, 4.825, 4.92, 4.92], \"yaxis\": \"y\"}, {\"name\": \"CaTiO3\", \"type\": \"scatter\", \"x\": [0, 1, 1, 2, 2, 3, 3, 4, 4, 5], \"xaxis\": \"x\", \"y\": [0, 0, 1.263, 1.263, 3.911, 3.911, 4.692, 4.692, 4.92, 4.92], \"yaxis\": \"y\"}, {\"name\": \"NaRuO3\", \"type\": \"scatter\", \"x\": [0, 1, 1, 2, 2, 3, 3, 4, 4, 5], \"xaxis\": \"x\", \"y\": [0, 0, 0.746, 0.746, 1.871, 1.871, 3.804, 3.804, 4.92, 4.92], \"yaxis\": \"y\"}, {\"name\": \"LiTcO3\", \"type\": \"scatter\", \"x\": [0, 1, 1, 2, 2, 3, 3, 4, 4, 5], \"xaxis\": \"x\", \"y\": [0, 0, 0.152, 0.152, 0.621, 0.621, 3.351, 3.351, 4.92, 4.92], \"yaxis\": \"y\"}, {\"name\": \"SrPdO3\", \"type\": \"scatter\", \"x\": [0, 1, 1, 2, 2, 3, 3, 4, 4, 5], \"xaxis\": \"x\", \"y\": [0, 0, 0.899, 0.899, 3.176, 3.176, 3.741, 3.741, 4.92, 4.92], \"yaxis\": \"y\"}, {\"name\": \"KWO3\", \"type\": \"scatter\", \"x\": [0, 1, 1, 2, 2, 3, 3, 4, 4, 5], \"xaxis\": \"x\", \"y\": [0, 0, -1.124, -1.124, -1.2, -1.2, 2.067, 2.067, 4.92, 4.92], \"yaxis\": \"y\"}, {\"name\": \"KRhO3\", \"type\": \"scatter\", \"x\": [0, 1, 1, 2, 2, 3, 3, 4, 4, 5], \"xaxis\": \"x\", \"y\": [0, 0, 1.568, 1.568, 3.321, 3.321, 4.504, 4.504, 4.92, 4.92], \"yaxis\": \"y\"}, {\"name\": \"BaCuO3\", \"type\": \"scatter\", \"x\": [0, 1, 1, 2, 2, 3, 3, 4, 4, 5], \"xaxis\": \"x\", \"y\": [0, 0, 1.821, 1.821, 3.95, 3.95, 4.755, 4.755, 4.92, 4.92], \"yaxis\": \"y\"}, {\"name\": \"RbNbO3\", \"type\": \"scatter\", \"x\": [0, 1, 1, 2, 2, 3, 3, 4, 4, 5], \"xaxis\": \"x\", \"y\": [0, 0, -0.344, -0.344, 0.282, 0.282, 3.187, 3.187, 4.92, 4.92], \"yaxis\": \"y\"}, {\"name\": \"BaOsO3\", \"type\": \"scatter\", \"x\": [0, 1, 1, 2, 2, 3, 3, 4, 4, 5], \"xaxis\": \"x\", \"y\": [0, 0, -1.484, -1.484, -0.728, -0.728, 2.141, 2.141, 4.92, 4.92], \"yaxis\": \"y\"}, {\"name\": \"BaRuO3\", \"type\": \"scatter\", \"x\": [0, 1, 1, 2, 2, 3, 3, 4, 4, 5], \"xaxis\": \"x\", \"y\": [0, 0, 0.446, 0.446, 1.303, 1.303, 3.513, 3.513, 4.92, 4.92], \"yaxis\": \"y\"}, {\"name\": \"KRuO3\", \"type\": \"scatter\", \"x\": [0, 1, 1, 2, 2, 3, 3, 4, 4, 5], \"xaxis\": \"x\", \"y\": [0, 0, 0.83, 0.83, 2.006, 2.006, 3.972, 3.972, 4.92, 4.92], \"yaxis\": \"y\"}, {\"name\": \"SrMoO3\", \"type\": \"scatter\", \"x\": [0, 1, 1, 2, 2, 3, 3, 4, 4, 5], \"xaxis\": \"x\", \"y\": [0, 0, -1.13, -1.13, -1.375, -1.375, 2.216, 2.216, 4.92, 4.92], \"yaxis\": \"y\"}, {\"name\": \"NaTiO3\", \"type\": \"scatter\", \"x\": [0, 1, 1, 2, 2, 3, 3, 4, 4, 5], \"xaxis\": \"x\", \"y\": [0, 0, 2.205, 2.205, 4.568, 4.568, 4.918, 4.918, 4.92, 4.92], \"yaxis\": \"y\"}, {\"name\": \"SrScO3\", \"type\": \"scatter\", \"x\": [0, 1, 1, 2, 2, 3, 3, 4, 4, 5], \"xaxis\": \"x\", \"y\": [0, 0, 2.146, 2.146, 4.677, 4.677, 4.963, 4.963, 4.92, 4.92], \"yaxis\": \"y\"}, {\"name\": \"SrRhO3\", \"type\": \"scatter\", \"x\": [0, 1, 1, 2, 2, 3, 3, 4, 4, 5], \"xaxis\": \"x\", \"y\": [0, 0, 0.499, 0.499, 2.151, 2.151, 3.496, 3.496, 4.92, 4.92], \"yaxis\": \"y\"}, {\"name\": \"NaMoO3\", \"type\": \"scatter\", \"x\": [0, 1, 1, 2, 2, 3, 3, 4, 4, 5], \"xaxis\": \"x\", \"y\": [0, 0, -0.415, -0.415, -0.665, -0.665, 2.624, 2.624, 4.92, 4.92], \"yaxis\": \"y\"}, {\"name\": \"BaRhO3\", \"type\": \"scatter\", \"x\": [0, 1, 1, 2, 2, 3, 3, 4, 4, 5], \"xaxis\": \"x\", \"y\": [0, 0, 1.086, 1.086, 2.461, 2.461, 4.115, 4.115, 4.92, 4.92], \"yaxis\": \"y\"}, {\"name\": \"BaPtO3\", \"type\": \"scatter\", \"x\": [0, 1, 1, 2, 2, 3, 3, 4, 4, 5], \"xaxis\": \"x\", \"y\": [0, 0, 1.101, 1.101, 2.56, 2.56, 4.159, 4.159, 4.92, 4.92], \"yaxis\": \"y\"}, {\"name\": \"CaVO3\", \"type\": \"scatter\", \"x\": [0, 1, 1, 2, 2, 3, 3, 4, 4, 5], \"xaxis\": \"x\", \"y\": [0, 0, -0.181, -0.181, 0.389, 0.389, 3.376, 3.376, 4.92, 4.92], \"yaxis\": \"y\"}, {\"name\": \"KMoO3\", \"type\": \"scatter\", \"x\": [0, 1, 1, 2, 2, 3, 3, 4, 4, 5], \"xaxis\": \"x\", \"y\": [0, 0, -0.558, -0.558, -0.412, -0.412, 2.632, 2.632, 4.92, 4.92], \"yaxis\": \"y\"}, {\"name\": \"SrCrO3\", \"type\": \"scatter\", \"x\": [0, 1, 1, 2, 2, 3, 3, 4, 4, 5], \"xaxis\": \"x\", \"y\": [0, 0, 0.646, 0.646, 2.046, 2.046, 3.829, 3.829, 4.92, 4.92], \"yaxis\": \"y\"}, {\"name\": \"RbRhO3\", \"type\": \"scatter\", \"x\": [0, 1, 1, 2, 2, 3, 3, 4, 4, 5], \"xaxis\": \"x\", \"y\": [0, 0, 1.29, 1.29, 3.2, 3.2, 4.069, 4.069, 4.92, 4.92], \"yaxis\": \"y\"}, {\"name\": \"BaVO3\", \"type\": \"scatter\", \"x\": [0, 1, 1, 2, 2, 3, 3, 4, 4, 5], \"xaxis\": \"x\", \"y\": [0, 0, -0.474, -0.474, 0.504, 0.504, 3.366, 3.366, 4.92, 4.92], \"yaxis\": \"y\"}, {\"name\": \"CaCoO3\", \"type\": \"scatter\", \"x\": [0, 1, 1, 2, 2, 3, 3, 4, 4, 5], \"xaxis\": \"x\", \"y\": [0, 0, 1.636, 1.636, 3.425, 3.425, 4.683, 4.683, 4.92, 4.92], \"yaxis\": \"y\"}, {\"name\": \"CaMnO3\", \"type\": \"scatter\", \"x\": [0, 1, 1, 2, 2, 3, 3, 4, 4, 5], \"xaxis\": \"x\", \"y\": [0, 0, 1.408, 1.408, 4.289, 4.289, 4.967, 4.967, 4.92, 4.92], \"yaxis\": \"y\"}, {\"name\": \"KPtO3\", \"type\": \"scatter\", \"x\": [0, 1, 1, 2, 2, 3, 3, 4, 4, 5], \"xaxis\": \"x\", \"y\": [0, 0, 1.292, 1.292, 2.948, 2.948, 4.28, 4.28, 4.92, 4.92], \"yaxis\": \"y\"}, {\"name\": \"BaNiO3\", \"type\": \"scatter\", \"x\": [0, 1, 1, 2, 2, 3, 3, 4, 4, 5], \"xaxis\": \"x\", \"y\": [0, 0, 2.267, 2.267, 4.41, 4.41, 4.943, 4.943, 4.92, 4.92], \"yaxis\": \"y\"}, {\"name\": \"BaMnO3\", \"type\": \"scatter\", \"x\": [0, 1, 1, 2, 2, 3, 3, 4, 4, 5], \"xaxis\": \"x\", \"y\": [0, 0, 1.655, 1.655, 2.943, 2.943, 4.914, 4.914, 4.92, 4.92], \"yaxis\": \"y\"}, {\"name\": \"SrIrO3\", \"type\": \"scatter\", \"x\": [0, 1, 1, 2, 2, 3, 3, 4, 4, 5], \"xaxis\": \"x\", \"y\": [0, 0, 0.424, 0.424, 1.673, 1.673, 3.546, 3.546, 4.92, 4.92], \"yaxis\": \"y\"}, {\"name\": \"NaVO3\", \"type\": \"scatter\", \"x\": [0, 1, 1, 2, 2, 3, 3, 4, 4, 5], \"xaxis\": \"x\", \"y\": [0, 0, 0.52, 0.52, 1.743, 1.743, 3.911, 3.911, 4.92, 4.92], \"yaxis\": \"y\"}, {\"name\": \"NaFeO3\", \"type\": \"scatter\", \"x\": [0, 1, 1, 2, 2, 3, 3, 4, 4, 5], \"xaxis\": \"x\", \"y\": [0, 0, 2.325, 2.325, 4.625, 4.625, 5.028, 5.028, 4.92, 4.92], \"yaxis\": \"y\"}, {\"name\": \"BaIrO3\", \"type\": \"scatter\", \"x\": [0, 1, 1, 2, 2, 3, 3, 4, 4, 5], \"xaxis\": \"x\", \"y\": [0, 0, 0.646, 0.646, 1.989, 1.989, 3.828, 3.828, 4.92, 4.92], \"yaxis\": \"y\"}, {\"name\": \"RbReO3\", \"type\": \"scatter\", \"x\": [0, 1, 1, 2, 2, 3, 3, 4, 4, 5], \"xaxis\": \"x\", \"y\": [0, 0, -0.678, -0.678, -0.492, -0.492, 2.581, 2.581, 4.92, 4.92], \"yaxis\": \"y\"}, {\"name\": \"CaRuO3\", \"type\": \"scatter\", \"x\": [0, 1, 1, 2, 2, 3, 3, 4, 4, 5], \"xaxis\": \"x\", \"y\": [0, 0, -0.363, -0.363, 0.68, 0.68, 2.514, 2.514, 4.92, 4.92], \"yaxis\": \"y\"}, {\"name\": \"RbPdO3\", \"type\": \"scatter\", \"x\": [0, 1, 1, 2, 2, 3, 3, 4, 4, 5], \"xaxis\": \"x\", \"y\": [0, 0, 1.313, 1.313, 3.183, 3.183, 4.231, 4.231, 4.92, 4.92], \"yaxis\": \"y\"}, {\"name\": \"CaHfO3\", \"type\": \"scatter\", \"x\": [0, 1, 1, 2, 2, 3, 3, 4, 4, 5], \"xaxis\": \"x\", \"y\": [0, 0, 0.619, 0.619, 3.642, 3.642, 3.86, 3.86, 4.92, 4.92], \"yaxis\": \"y\"}, {\"name\": \"TlWO3\", \"type\": \"scatter\", \"x\": [0, 1, 1, 2, 2, 3, 3, 4, 4, 5], \"xaxis\": \"x\", \"y\": [0, 0, -1.407, -1.407, -0.904, -0.904, 2.157, 2.157, 4.92, 4.92], \"yaxis\": \"y\"}, {\"name\": \"RbPtO3\", \"type\": \"scatter\", \"x\": [0, 1, 1, 2, 2, 3, 3, 4, 4, 5], \"xaxis\": \"x\", \"y\": [0, 0, 1.034, 1.034, 2.727, 2.727, 4.02, 4.02, 4.92, 4.92], \"yaxis\": \"y\"}],                        {\"height\": 600, \"legend\": {\"y\": 0.95, \"yanchor\": \"top\"}, \"template\": {\"data\": {\"bar\": [{\"error_x\": {\"color\": \"rgb(36,36,36)\"}, \"error_y\": {\"color\": \"rgb(36,36,36)\"}, \"marker\": {\"line\": {\"color\": \"rgb(234,234,242)\", \"width\": 0.5}}, \"type\": \"bar\"}], \"barpolar\": [{\"marker\": {\"line\": {\"color\": \"rgb(234,234,242)\", \"width\": 0.5}}, \"type\": \"barpolar\"}], \"carpet\": [{\"aaxis\": {\"endlinecolor\": \"rgb(36,36,36)\", \"gridcolor\": \"white\", \"linecolor\": \"white\", \"minorgridcolor\": \"white\", \"startlinecolor\": \"rgb(36,36,36)\"}, \"baxis\": {\"endlinecolor\": \"rgb(36,36,36)\", \"gridcolor\": \"white\", \"linecolor\": \"white\", \"minorgridcolor\": \"white\", \"startlinecolor\": \"rgb(36,36,36)\"}, \"type\": \"carpet\"}], \"choropleth\": [{\"colorbar\": {\"outlinewidth\": 0, \"tickcolor\": \"rgb(36,36,36)\", \"ticklen\": 8, \"ticks\": \"outside\", \"tickwidth\": 2}, \"type\": \"choropleth\"}], \"contour\": [{\"colorbar\": {\"outlinewidth\": 0, \"tickcolor\": \"rgb(36,36,36)\", \"ticklen\": 8, \"ticks\": \"outside\", \"tickwidth\": 2}, \"colorscale\": [[0.0, \"rgb(2,4,25)\"], [0.06274509803921569, \"rgb(24,15,41)\"], [0.12549019607843137, \"rgb(47,23,57)\"], [0.18823529411764706, \"rgb(71,28,72)\"], [0.25098039215686274, \"rgb(97,30,82)\"], [0.3137254901960784, \"rgb(123,30,89)\"], [0.3764705882352941, \"rgb(150,27,91)\"], [0.4392156862745098, \"rgb(177,22,88)\"], [0.5019607843137255, \"rgb(203,26,79)\"], [0.5647058823529412, \"rgb(223,47,67)\"], [0.6274509803921569, \"rgb(236,76,61)\"], [0.6901960784313725, \"rgb(242,107,73)\"], [0.7529411764705882, \"rgb(244,135,95)\"], [0.8156862745098039, \"rgb(245,162,122)\"], [0.8784313725490196, \"rgb(246,188,153)\"], [0.9411764705882353, \"rgb(247,212,187)\"], [1.0, \"rgb(250,234,220)\"]], \"type\": \"contour\"}], \"contourcarpet\": [{\"colorbar\": {\"outlinewidth\": 0, \"tickcolor\": \"rgb(36,36,36)\", \"ticklen\": 8, \"ticks\": \"outside\", \"tickwidth\": 2}, \"type\": \"contourcarpet\"}], \"heatmap\": [{\"colorbar\": {\"outlinewidth\": 0, \"tickcolor\": \"rgb(36,36,36)\", \"ticklen\": 8, \"ticks\": \"outside\", \"tickwidth\": 2}, \"colorscale\": [[0.0, \"rgb(2,4,25)\"], [0.06274509803921569, \"rgb(24,15,41)\"], [0.12549019607843137, \"rgb(47,23,57)\"], [0.18823529411764706, \"rgb(71,28,72)\"], [0.25098039215686274, \"rgb(97,30,82)\"], [0.3137254901960784, \"rgb(123,30,89)\"], [0.3764705882352941, \"rgb(150,27,91)\"], [0.4392156862745098, \"rgb(177,22,88)\"], [0.5019607843137255, \"rgb(203,26,79)\"], [0.5647058823529412, \"rgb(223,47,67)\"], [0.6274509803921569, \"rgb(236,76,61)\"], [0.6901960784313725, \"rgb(242,107,73)\"], [0.7529411764705882, \"rgb(244,135,95)\"], [0.8156862745098039, \"rgb(245,162,122)\"], [0.8784313725490196, \"rgb(246,188,153)\"], [0.9411764705882353, \"rgb(247,212,187)\"], [1.0, \"rgb(250,234,220)\"]], \"type\": \"heatmap\"}], \"heatmapgl\": [{\"colorbar\": {\"outlinewidth\": 0, \"tickcolor\": \"rgb(36,36,36)\", \"ticklen\": 8, \"ticks\": \"outside\", \"tickwidth\": 2}, \"colorscale\": [[0.0, \"rgb(2,4,25)\"], [0.06274509803921569, \"rgb(24,15,41)\"], [0.12549019607843137, \"rgb(47,23,57)\"], [0.18823529411764706, \"rgb(71,28,72)\"], [0.25098039215686274, \"rgb(97,30,82)\"], [0.3137254901960784, \"rgb(123,30,89)\"], [0.3764705882352941, \"rgb(150,27,91)\"], [0.4392156862745098, \"rgb(177,22,88)\"], [0.5019607843137255, \"rgb(203,26,79)\"], [0.5647058823529412, \"rgb(223,47,67)\"], [0.6274509803921569, \"rgb(236,76,61)\"], [0.6901960784313725, \"rgb(242,107,73)\"], [0.7529411764705882, \"rgb(244,135,95)\"], [0.8156862745098039, \"rgb(245,162,122)\"], [0.8784313725490196, \"rgb(246,188,153)\"], [0.9411764705882353, \"rgb(247,212,187)\"], [1.0, \"rgb(250,234,220)\"]], \"type\": \"heatmapgl\"}], \"histogram\": [{\"marker\": {\"colorbar\": {\"outlinewidth\": 0, \"tickcolor\": \"rgb(36,36,36)\", \"ticklen\": 8, \"ticks\": \"outside\", \"tickwidth\": 2}}, \"type\": \"histogram\"}], \"histogram2d\": [{\"colorbar\": {\"outlinewidth\": 0, \"tickcolor\": \"rgb(36,36,36)\", \"ticklen\": 8, \"ticks\": \"outside\", \"tickwidth\": 2}, \"colorscale\": [[0.0, \"rgb(2,4,25)\"], [0.06274509803921569, \"rgb(24,15,41)\"], [0.12549019607843137, \"rgb(47,23,57)\"], [0.18823529411764706, \"rgb(71,28,72)\"], [0.25098039215686274, \"rgb(97,30,82)\"], [0.3137254901960784, \"rgb(123,30,89)\"], [0.3764705882352941, \"rgb(150,27,91)\"], [0.4392156862745098, \"rgb(177,22,88)\"], [0.5019607843137255, \"rgb(203,26,79)\"], [0.5647058823529412, \"rgb(223,47,67)\"], [0.6274509803921569, \"rgb(236,76,61)\"], [0.6901960784313725, \"rgb(242,107,73)\"], [0.7529411764705882, \"rgb(244,135,95)\"], [0.8156862745098039, \"rgb(245,162,122)\"], [0.8784313725490196, \"rgb(246,188,153)\"], [0.9411764705882353, \"rgb(247,212,187)\"], [1.0, \"rgb(250,234,220)\"]], \"type\": \"histogram2d\"}], \"histogram2dcontour\": [{\"colorbar\": {\"outlinewidth\": 0, \"tickcolor\": \"rgb(36,36,36)\", \"ticklen\": 8, \"ticks\": \"outside\", \"tickwidth\": 2}, \"colorscale\": [[0.0, \"rgb(2,4,25)\"], [0.06274509803921569, \"rgb(24,15,41)\"], [0.12549019607843137, \"rgb(47,23,57)\"], [0.18823529411764706, \"rgb(71,28,72)\"], [0.25098039215686274, \"rgb(97,30,82)\"], [0.3137254901960784, \"rgb(123,30,89)\"], [0.3764705882352941, \"rgb(150,27,91)\"], [0.4392156862745098, \"rgb(177,22,88)\"], [0.5019607843137255, \"rgb(203,26,79)\"], [0.5647058823529412, \"rgb(223,47,67)\"], [0.6274509803921569, \"rgb(236,76,61)\"], [0.6901960784313725, \"rgb(242,107,73)\"], [0.7529411764705882, \"rgb(244,135,95)\"], [0.8156862745098039, \"rgb(245,162,122)\"], [0.8784313725490196, \"rgb(246,188,153)\"], [0.9411764705882353, \"rgb(247,212,187)\"], [1.0, \"rgb(250,234,220)\"]], \"type\": \"histogram2dcontour\"}], \"mesh3d\": [{\"colorbar\": {\"outlinewidth\": 0, \"tickcolor\": \"rgb(36,36,36)\", \"ticklen\": 8, \"ticks\": \"outside\", \"tickwidth\": 2}, \"type\": \"mesh3d\"}], \"parcoords\": [{\"line\": {\"colorbar\": {\"outlinewidth\": 0, \"tickcolor\": \"rgb(36,36,36)\", \"ticklen\": 8, \"ticks\": \"outside\", \"tickwidth\": 2}}, \"type\": \"parcoords\"}], \"pie\": [{\"automargin\": true, \"type\": \"pie\"}], \"scatter\": [{\"marker\": {\"colorbar\": {\"outlinewidth\": 0, \"tickcolor\": \"rgb(36,36,36)\", \"ticklen\": 8, \"ticks\": \"outside\", \"tickwidth\": 2}}, \"type\": \"scatter\"}], \"scatter3d\": [{\"line\": {\"colorbar\": {\"outlinewidth\": 0, \"tickcolor\": \"rgb(36,36,36)\", \"ticklen\": 8, \"ticks\": \"outside\", \"tickwidth\": 2}}, \"marker\": {\"colorbar\": {\"outlinewidth\": 0, \"tickcolor\": \"rgb(36,36,36)\", \"ticklen\": 8, \"ticks\": \"outside\", \"tickwidth\": 2}}, \"type\": \"scatter3d\"}], \"scattercarpet\": [{\"marker\": {\"colorbar\": {\"outlinewidth\": 0, \"tickcolor\": \"rgb(36,36,36)\", \"ticklen\": 8, \"ticks\": \"outside\", \"tickwidth\": 2}}, \"type\": \"scattercarpet\"}], \"scattergeo\": [{\"marker\": {\"colorbar\": {\"outlinewidth\": 0, \"tickcolor\": \"rgb(36,36,36)\", \"ticklen\": 8, \"ticks\": \"outside\", \"tickwidth\": 2}}, \"type\": \"scattergeo\"}], \"scattergl\": [{\"marker\": {\"colorbar\": {\"outlinewidth\": 0, \"tickcolor\": \"rgb(36,36,36)\", \"ticklen\": 8, \"ticks\": \"outside\", \"tickwidth\": 2}}, \"type\": \"scattergl\"}], \"scattermapbox\": [{\"marker\": {\"colorbar\": {\"outlinewidth\": 0, \"tickcolor\": \"rgb(36,36,36)\", \"ticklen\": 8, \"ticks\": \"outside\", \"tickwidth\": 2}}, \"type\": \"scattermapbox\"}], \"scatterpolar\": [{\"marker\": {\"colorbar\": {\"outlinewidth\": 0, \"tickcolor\": \"rgb(36,36,36)\", \"ticklen\": 8, \"ticks\": \"outside\", \"tickwidth\": 2}}, \"type\": \"scatterpolar\"}], \"scatterpolargl\": [{\"marker\": {\"colorbar\": {\"outlinewidth\": 0, \"tickcolor\": \"rgb(36,36,36)\", \"ticklen\": 8, \"ticks\": \"outside\", \"tickwidth\": 2}}, \"type\": \"scatterpolargl\"}], \"scatterternary\": [{\"marker\": {\"colorbar\": {\"outlinewidth\": 0, \"tickcolor\": \"rgb(36,36,36)\", \"ticklen\": 8, \"ticks\": \"outside\", \"tickwidth\": 2}}, \"type\": \"scatterternary\"}], \"surface\": [{\"colorbar\": {\"outlinewidth\": 0, \"tickcolor\": \"rgb(36,36,36)\", \"ticklen\": 8, \"ticks\": \"outside\", \"tickwidth\": 2}, \"colorscale\": [[0.0, \"rgb(2,4,25)\"], [0.06274509803921569, \"rgb(24,15,41)\"], [0.12549019607843137, \"rgb(47,23,57)\"], [0.18823529411764706, \"rgb(71,28,72)\"], [0.25098039215686274, \"rgb(97,30,82)\"], [0.3137254901960784, \"rgb(123,30,89)\"], [0.3764705882352941, \"rgb(150,27,91)\"], [0.4392156862745098, \"rgb(177,22,88)\"], [0.5019607843137255, \"rgb(203,26,79)\"], [0.5647058823529412, \"rgb(223,47,67)\"], [0.6274509803921569, \"rgb(236,76,61)\"], [0.6901960784313725, \"rgb(242,107,73)\"], [0.7529411764705882, \"rgb(244,135,95)\"], [0.8156862745098039, \"rgb(245,162,122)\"], [0.8784313725490196, \"rgb(246,188,153)\"], [0.9411764705882353, \"rgb(247,212,187)\"], [1.0, \"rgb(250,234,220)\"]], \"type\": \"surface\"}], \"table\": [{\"cells\": {\"fill\": {\"color\": \"rgb(231,231,240)\"}, \"line\": {\"color\": \"white\"}}, \"header\": {\"fill\": {\"color\": \"rgb(183,183,191)\"}, \"line\": {\"color\": \"white\"}}, \"type\": \"table\"}]}, \"layout\": {\"annotationdefaults\": {\"arrowcolor\": \"rgb(67,103,167)\"}, \"coloraxis\": {\"colorbar\": {\"outlinewidth\": 0, \"tickcolor\": \"rgb(36,36,36)\", \"ticklen\": 8, \"ticks\": \"outside\", \"tickwidth\": 2}}, \"colorscale\": {\"sequential\": [[0.0, \"rgb(2,4,25)\"], [0.06274509803921569, \"rgb(24,15,41)\"], [0.12549019607843137, \"rgb(47,23,57)\"], [0.18823529411764706, \"rgb(71,28,72)\"], [0.25098039215686274, \"rgb(97,30,82)\"], [0.3137254901960784, \"rgb(123,30,89)\"], [0.3764705882352941, \"rgb(150,27,91)\"], [0.4392156862745098, \"rgb(177,22,88)\"], [0.5019607843137255, \"rgb(203,26,79)\"], [0.5647058823529412, \"rgb(223,47,67)\"], [0.6274509803921569, \"rgb(236,76,61)\"], [0.6901960784313725, \"rgb(242,107,73)\"], [0.7529411764705882, \"rgb(244,135,95)\"], [0.8156862745098039, \"rgb(245,162,122)\"], [0.8784313725490196, \"rgb(246,188,153)\"], [0.9411764705882353, \"rgb(247,212,187)\"], [1.0, \"rgb(250,234,220)\"]], \"sequentialminus\": [[0.0, \"rgb(2,4,25)\"], [0.06274509803921569, \"rgb(24,15,41)\"], [0.12549019607843137, \"rgb(47,23,57)\"], [0.18823529411764706, \"rgb(71,28,72)\"], [0.25098039215686274, \"rgb(97,30,82)\"], [0.3137254901960784, \"rgb(123,30,89)\"], [0.3764705882352941, \"rgb(150,27,91)\"], [0.4392156862745098, \"rgb(177,22,88)\"], [0.5019607843137255, \"rgb(203,26,79)\"], [0.5647058823529412, \"rgb(223,47,67)\"], [0.6274509803921569, \"rgb(236,76,61)\"], [0.6901960784313725, \"rgb(242,107,73)\"], [0.7529411764705882, \"rgb(244,135,95)\"], [0.8156862745098039, \"rgb(245,162,122)\"], [0.8784313725490196, \"rgb(246,188,153)\"], [0.9411764705882353, \"rgb(247,212,187)\"], [1.0, \"rgb(250,234,220)\"]]}, \"colorway\": [\"rgb(76,114,176)\", \"rgb(221,132,82)\", \"rgb(85,168,104)\", \"rgb(196,78,82)\", \"rgb(129,114,179)\", \"rgb(147,120,96)\", \"rgb(218,139,195)\", \"rgb(140,140,140)\", \"rgb(204,185,116)\", \"rgb(100,181,205)\"], \"font\": {\"color\": \"rgb(36,36,36)\"}, \"geo\": {\"bgcolor\": \"white\", \"lakecolor\": \"white\", \"landcolor\": \"rgb(234,234,242)\", \"showlakes\": true, \"showland\": true, \"subunitcolor\": \"white\"}, \"hoverlabel\": {\"align\": \"left\"}, \"hovermode\": \"closest\", \"paper_bgcolor\": \"white\", \"plot_bgcolor\": \"rgb(234,234,242)\", \"polar\": {\"angularaxis\": {\"gridcolor\": \"white\", \"linecolor\": \"white\", \"showgrid\": true, \"ticks\": \"\"}, \"bgcolor\": \"rgb(234,234,242)\", \"radialaxis\": {\"gridcolor\": \"white\", \"linecolor\": \"white\", \"showgrid\": true, \"ticks\": \"\"}}, \"scene\": {\"xaxis\": {\"backgroundcolor\": \"rgb(234,234,242)\", \"gridcolor\": \"white\", \"gridwidth\": 2, \"linecolor\": \"white\", \"showbackground\": true, \"showgrid\": true, \"ticks\": \"\", \"zerolinecolor\": \"white\"}, \"yaxis\": {\"backgroundcolor\": \"rgb(234,234,242)\", \"gridcolor\": \"white\", \"gridwidth\": 2, \"linecolor\": \"white\", \"showbackground\": true, \"showgrid\": true, \"ticks\": \"\", \"zerolinecolor\": \"white\"}, \"zaxis\": {\"backgroundcolor\": \"rgb(234,234,242)\", \"gridcolor\": \"white\", \"gridwidth\": 2, \"linecolor\": \"white\", \"showbackground\": true, \"showgrid\": true, \"ticks\": \"\", \"zerolinecolor\": \"white\"}}, \"shapedefaults\": {\"fillcolor\": \"rgb(67,103,167)\", \"line\": {\"width\": 0}, \"opacity\": 0.5}, \"ternary\": {\"aaxis\": {\"gridcolor\": \"white\", \"linecolor\": \"white\", \"showgrid\": true, \"ticks\": \"\"}, \"baxis\": {\"gridcolor\": \"white\", \"linecolor\": \"white\", \"showgrid\": true, \"ticks\": \"\"}, \"bgcolor\": \"rgb(234,234,242)\", \"caxis\": {\"gridcolor\": \"white\", \"linecolor\": \"white\", \"showgrid\": true, \"ticks\": \"\"}}, \"xaxis\": {\"automargin\": true, \"gridcolor\": \"white\", \"linecolor\": \"white\", \"showgrid\": true, \"ticks\": \"\", \"title\": {\"standoff\": 15}, \"zerolinecolor\": \"white\"}, \"yaxis\": {\"automargin\": true, \"gridcolor\": \"white\", \"linecolor\": \"white\", \"showgrid\": true, \"ticks\": \"\", \"title\": {\"standoff\": 15}, \"zerolinecolor\": \"white\"}}}, \"title\": {\"text\": \"<b>Free energy diagram\"}, \"width\": 800, \"xaxis\": {\"anchor\": \"y\", \"domain\": [0.0, 1.0], \"title\": {\"font\": {\"size\": 25}, \"text\": \"Reaction Coordinate\"}}, \"yaxis\": {\"anchor\": \"x\", \"domain\": [0.0, 1.0], \"title\": {\"font\": {\"size\": 25}, \"text\": \"DG_eV\"}}},                        {\"responsive\": true}                    ).then(function(){\n",
       "                            \n",
       "var gd = document.getElementById('9f0a413a-8d6f-49bc-a25c-0d2a80027166');\n",
       "var x = new MutationObserver(function (mutations, observer) {{\n",
       "        var display = window.getComputedStyle(gd).display;\n",
       "        if (!display || display === 'none') {{\n",
       "            console.log([gd, 'removed!']);\n",
       "            Plotly.purge(gd);\n",
       "            observer.disconnect();\n",
       "        }}\n",
       "}});\n",
       "\n",
       "// Listen for the removal of the full notebook cells\n",
       "var notebookContainer = gd.closest('#notebook-container');\n",
       "if (notebookContainer) {{\n",
       "    x.observe(notebookContainer, {childList: true});\n",
       "}}\n",
       "\n",
       "// Listen for the clearing of the current output cell\n",
       "var outputEl = gd.closest('.output');\n",
       "if (outputEl) {{\n",
       "    x.observe(outputEl, {childList: true});\n",
       "}}\n",
       "\n",
       "                        })                };                });            </script>        </div>"
      ]
     },
     "metadata": {},
     "output_type": "display_data"
    }
   ],
   "source": [
    "fig = make_subplots(rows = 1, cols = 1)\n",
    "\n",
    "x_list = [0,1,1,2,2,3,3,4,4,5]\n",
    "y_idx = [0,0,1,1,2,2,3,3,4,4]\n",
    "\n",
    "for idx in range(len(df_cleaned)):\n",
    "    ads_list= [0, df_cleaned['DG_OH'][idx], df_cleaned['DG_O'][idx], df_cleaned['DG_OOH'][idx], 4.92]\n",
    "    \n",
    "    y_list = []\n",
    "    for x in range(len(x_list)):\n",
    "  #  print(x_list[x],\" \",ads_list[y_idx[x]])\n",
    "        y_list.append(ads_list[y_idx[x]])\n",
    "\n",
    "    fig.add_trace(go.Scatter(x = x_list, y = y_list, name = df_cleaned['formula'][idx]), row = 1, col = 1) # visible='legendonly'\n",
    "    layout = go.Layout(title = 'free energy diagram', titlefont = dict(size = 25))\n",
    "    fig.update_xaxes(title_text = 'Reaction Coordinate', titlefont = dict(size = 25))\n",
    "    fig.update_yaxes(title_text = 'DG_eV', titlefont = dict(size = 25))\n",
    "    fig.update_layout(height = 600, width = 800, title_text = '<b>Free energy diagram',\n",
    "                     legend=dict(yanchor = \"top\", y = 0.95),template = 'seaborn')\n",
    "# pyo.iplot(fig)\n",
    "fig.show()"
   ]
  },
  {
   "cell_type": "code",
   "execution_count": 165,
   "metadata": {},
   "outputs": [],
   "source": [
    "# Add 4e- WOR data\n",
    "\n",
    "df_cleaned['DG1'] = df_cleaned.DG_OH\n",
    "df_cleaned['DG2'] = df_cleaned.DG_O - df_cleaned.DG_OH\n",
    "df_cleaned['DG3'] = df_cleaned.DG_OOH - df_cleaned.DG_O\n",
    "df_cleaned['DG4'] = 4.92 - df_cleaned.DG_OOH\n",
    "\n",
    "UL_ORR_list = []\n",
    "UL_list = []\n",
    "for idx in range(len(df_cleaned)):\n",
    "    UL = max(df_cleaned['DG1'][idx],df_cleaned['DG2'][idx], df_cleaned['DG3'][idx], df_cleaned['DG4'][idx]) \n",
    "    UL_list.append(UL)\n",
    "    UL_ORR = min(df_cleaned['DG1'][idx],df_cleaned['DG2'][idx], df_cleaned['DG3'][idx], df_cleaned['DG4'][idx]) \n",
    "    UL_ORR_list.append(UL_ORR)\n",
    "    \n",
    "df_cleaned['UL_4e'] = UL_list\n",
    "df_cleaned['UL_ORR'] = UL_ORR_list"
   ]
  },
  {
   "cell_type": "code",
   "execution_count": 166,
   "metadata": {},
   "outputs": [],
   "source": [
    "df_cleaned['DG1_2e'] = df_cleaned.DG_OH\n",
    "df_cleaned['DG2_2e'] = -df_cleaned.DG_OH + 1.76*2\n",
    "df_cleaned['OP_2e'] = abs(df_cleaned['DG_OH'] - 1.76) \n",
    "df_cleaned['UL_2e'] = abs(df_cleaned['DG_OH'] - 1.76) + 1.76"
   ]
  },
  {
   "cell_type": "code",
   "execution_count": 167,
   "metadata": {},
   "outputs": [
    {
     "data": {
      "text/html": [
       "<div>\n",
       "<style scoped>\n",
       "    .dataframe tbody tr th:only-of-type {\n",
       "        vertical-align: middle;\n",
       "    }\n",
       "\n",
       "    .dataframe tbody tr th {\n",
       "        vertical-align: top;\n",
       "    }\n",
       "\n",
       "    .dataframe thead th {\n",
       "        text-align: right;\n",
       "    }\n",
       "</style>\n",
       "<table border=\"1\" class=\"dataframe\">\n",
       "  <thead>\n",
       "    <tr style=\"text-align: right;\">\n",
       "      <th></th>\n",
       "      <th>formula</th>\n",
       "      <th>mag_ini</th>\n",
       "      <th>Ehull</th>\n",
       "      <th>convg_bare</th>\n",
       "      <th>tot_E_bare</th>\n",
       "      <th>DE_bare</th>\n",
       "      <th>DG_bare</th>\n",
       "      <th>bare_mag</th>\n",
       "      <th>nsteps_bare</th>\n",
       "      <th>struc_bare</th>\n",
       "      <th>...</th>\n",
       "      <th>DG1</th>\n",
       "      <th>DG2</th>\n",
       "      <th>DG3</th>\n",
       "      <th>DG4</th>\n",
       "      <th>UL_4e</th>\n",
       "      <th>UL_ORR</th>\n",
       "      <th>DG1_2e</th>\n",
       "      <th>DG2_2e</th>\n",
       "      <th>OP_2e</th>\n",
       "      <th>UL_2e</th>\n",
       "    </tr>\n",
       "  </thead>\n",
       "  <tbody>\n",
       "    <tr>\n",
       "      <th>0</th>\n",
       "      <td>SrTcO3</td>\n",
       "      <td>FM</td>\n",
       "      <td>0</td>\n",
       "      <td>True</td>\n",
       "      <td>-386.83</td>\n",
       "      <td>0</td>\n",
       "      <td>0</td>\n",
       "      <td>13.642</td>\n",
       "      <td>1</td>\n",
       "      <td>[[0.         1.98022307 0.        ] O, [1.9802...</td>\n",
       "      <td>...</td>\n",
       "      <td>-0.782</td>\n",
       "      <td>0.075</td>\n",
       "      <td>3.188</td>\n",
       "      <td>2.439</td>\n",
       "      <td>3.188</td>\n",
       "      <td>-0.782</td>\n",
       "      <td>-0.782</td>\n",
       "      <td>4.302</td>\n",
       "      <td>2.542</td>\n",
       "      <td>4.302</td>\n",
       "    </tr>\n",
       "    <tr>\n",
       "      <th>1</th>\n",
       "      <td>BaFeO3</td>\n",
       "      <td>FM</td>\n",
       "      <td>0</td>\n",
       "      <td>True</td>\n",
       "      <td>-316.788</td>\n",
       "      <td>0</td>\n",
       "      <td>0</td>\n",
       "      <td>59.992</td>\n",
       "      <td>1</td>\n",
       "      <td>[[2.0165225 2.0165225 2.0165225] Ba, [2.016522...</td>\n",
       "      <td>...</td>\n",
       "      <td>2.024</td>\n",
       "      <td>2.428</td>\n",
       "      <td>0.465</td>\n",
       "      <td>0.003</td>\n",
       "      <td>2.428</td>\n",
       "      <td>0.003</td>\n",
       "      <td>2.024</td>\n",
       "      <td>1.496</td>\n",
       "      <td>0.264</td>\n",
       "      <td>2.024</td>\n",
       "    </tr>\n",
       "    <tr>\n",
       "      <th>2</th>\n",
       "      <td>BaMoO3</td>\n",
       "      <td>FM</td>\n",
       "      <td>0</td>\n",
       "      <td>True</td>\n",
       "      <td>-359.32</td>\n",
       "      <td>0</td>\n",
       "      <td>0</td>\n",
       "      <td>24</td>\n",
       "      <td>1</td>\n",
       "      <td>[[2.06811213 2.06811213 2.06811213] Ba, [2.068...</td>\n",
       "      <td>...</td>\n",
       "      <td>-0.302</td>\n",
       "      <td>-0.551</td>\n",
       "      <td>3.872</td>\n",
       "      <td>1.901</td>\n",
       "      <td>3.872</td>\n",
       "      <td>-0.551</td>\n",
       "      <td>-0.302</td>\n",
       "      <td>3.822</td>\n",
       "      <td>2.062</td>\n",
       "      <td>3.822</td>\n",
       "    </tr>\n",
       "    <tr>\n",
       "      <th>3</th>\n",
       "      <td>KTaO3</td>\n",
       "      <td>FM</td>\n",
       "      <td>0</td>\n",
       "      <td>True</td>\n",
       "      <td>-438.376</td>\n",
       "      <td>0</td>\n",
       "      <td>0</td>\n",
       "      <td>0</td>\n",
       "      <td>1</td>\n",
       "      <td>[[2.01423343 2.01423343 2.01423343] K, [2.0142...</td>\n",
       "      <td>...</td>\n",
       "      <td>-1.001</td>\n",
       "      <td>0.387</td>\n",
       "      <td>3.189</td>\n",
       "      <td>2.345</td>\n",
       "      <td>3.189</td>\n",
       "      <td>-1.001</td>\n",
       "      <td>-1.001</td>\n",
       "      <td>4.521</td>\n",
       "      <td>2.761</td>\n",
       "      <td>4.521</td>\n",
       "    </tr>\n",
       "    <tr>\n",
       "      <th>4</th>\n",
       "      <td>BaZrO3</td>\n",
       "      <td>FM</td>\n",
       "      <td>0</td>\n",
       "      <td>True</td>\n",
       "      <td>-438.828</td>\n",
       "      <td>0</td>\n",
       "      <td>0</td>\n",
       "      <td>0</td>\n",
       "      <td>1</td>\n",
       "      <td>[[0.         0.         2.11804015] Ba, [8.472...</td>\n",
       "      <td>...</td>\n",
       "      <td>1.29</td>\n",
       "      <td>2.853</td>\n",
       "      <td>0.563</td>\n",
       "      <td>0.214</td>\n",
       "      <td>2.853</td>\n",
       "      <td>0.214</td>\n",
       "      <td>1.29</td>\n",
       "      <td>2.23</td>\n",
       "      <td>0.47</td>\n",
       "      <td>2.23</td>\n",
       "    </tr>\n",
       "    <tr>\n",
       "      <th>...</th>\n",
       "      <td>...</td>\n",
       "      <td>...</td>\n",
       "      <td>...</td>\n",
       "      <td>...</td>\n",
       "      <td>...</td>\n",
       "      <td>...</td>\n",
       "      <td>...</td>\n",
       "      <td>...</td>\n",
       "      <td>...</td>\n",
       "      <td>...</td>\n",
       "      <td>...</td>\n",
       "      <td>...</td>\n",
       "      <td>...</td>\n",
       "      <td>...</td>\n",
       "      <td>...</td>\n",
       "      <td>...</td>\n",
       "      <td>...</td>\n",
       "      <td>...</td>\n",
       "      <td>...</td>\n",
       "      <td>...</td>\n",
       "      <td>...</td>\n",
       "    </tr>\n",
       "    <tr>\n",
       "      <th>66</th>\n",
       "      <td>CaRuO3</td>\n",
       "      <td>FM</td>\n",
       "      <td>0.151843</td>\n",
       "      <td>True</td>\n",
       "      <td>-354.261</td>\n",
       "      <td>0</td>\n",
       "      <td>0</td>\n",
       "      <td>25.842</td>\n",
       "      <td>1</td>\n",
       "      <td>[[0.         0.         1.95924755] Ca, [2.519...</td>\n",
       "      <td>...</td>\n",
       "      <td>-0.363</td>\n",
       "      <td>1.043</td>\n",
       "      <td>1.834</td>\n",
       "      <td>2.406</td>\n",
       "      <td>2.406</td>\n",
       "      <td>-0.363</td>\n",
       "      <td>-0.363</td>\n",
       "      <td>3.883</td>\n",
       "      <td>2.123</td>\n",
       "      <td>3.883</td>\n",
       "    </tr>\n",
       "    <tr>\n",
       "      <th>67</th>\n",
       "      <td>RbPdO3</td>\n",
       "      <td>FM</td>\n",
       "      <td>0.152772</td>\n",
       "      <td>True</td>\n",
       "      <td>-237.862</td>\n",
       "      <td>0</td>\n",
       "      <td>0</td>\n",
       "      <td>24.444</td>\n",
       "      <td>1</td>\n",
       "      <td>[[0.         2.05243462 0.        ] O, [2.0524...</td>\n",
       "      <td>...</td>\n",
       "      <td>1.313</td>\n",
       "      <td>1.87</td>\n",
       "      <td>1.048</td>\n",
       "      <td>0.689</td>\n",
       "      <td>1.870</td>\n",
       "      <td>0.689</td>\n",
       "      <td>1.313</td>\n",
       "      <td>2.207</td>\n",
       "      <td>0.447</td>\n",
       "      <td>2.207</td>\n",
       "    </tr>\n",
       "    <tr>\n",
       "      <th>68</th>\n",
       "      <td>CaHfO3</td>\n",
       "      <td>FM</td>\n",
       "      <td>0.154311</td>\n",
       "      <td>True</td>\n",
       "      <td>-456.965</td>\n",
       "      <td>0</td>\n",
       "      <td>0</td>\n",
       "      <td>-0</td>\n",
       "      <td>1</td>\n",
       "      <td>[[0.        0.        2.0506531] Ca, [3.755119...</td>\n",
       "      <td>...</td>\n",
       "      <td>0.619</td>\n",
       "      <td>3.023</td>\n",
       "      <td>0.218</td>\n",
       "      <td>1.06</td>\n",
       "      <td>3.023</td>\n",
       "      <td>0.218</td>\n",
       "      <td>0.619</td>\n",
       "      <td>2.901</td>\n",
       "      <td>1.141</td>\n",
       "      <td>2.901</td>\n",
       "    </tr>\n",
       "    <tr>\n",
       "      <th>69</th>\n",
       "      <td>TlWO3</td>\n",
       "      <td>FM</td>\n",
       "      <td>0.15493</td>\n",
       "      <td>True</td>\n",
       "      <td>-326.169</td>\n",
       "      <td>0</td>\n",
       "      <td>0</td>\n",
       "      <td>16</td>\n",
       "      <td>26</td>\n",
       "      <td>[[2.038601 0.       0.      ] O, [0.       2.0...</td>\n",
       "      <td>...</td>\n",
       "      <td>-1.407</td>\n",
       "      <td>0.503</td>\n",
       "      <td>3.061</td>\n",
       "      <td>2.763</td>\n",
       "      <td>3.061</td>\n",
       "      <td>-1.407</td>\n",
       "      <td>-1.407</td>\n",
       "      <td>4.927</td>\n",
       "      <td>3.167</td>\n",
       "      <td>4.927</td>\n",
       "    </tr>\n",
       "    <tr>\n",
       "      <th>70</th>\n",
       "      <td>RbPtO3</td>\n",
       "      <td>FM</td>\n",
       "      <td>0.157408</td>\n",
       "      <td>True</td>\n",
       "      <td>-252.909</td>\n",
       "      <td>0</td>\n",
       "      <td>0</td>\n",
       "      <td>20.962</td>\n",
       "      <td>1</td>\n",
       "      <td>[[2.04108953 0.         0.        ] O, [0.    ...</td>\n",
       "      <td>...</td>\n",
       "      <td>1.034</td>\n",
       "      <td>1.693</td>\n",
       "      <td>1.293</td>\n",
       "      <td>0.9</td>\n",
       "      <td>1.693</td>\n",
       "      <td>0.900</td>\n",
       "      <td>1.034</td>\n",
       "      <td>2.486</td>\n",
       "      <td>0.726</td>\n",
       "      <td>2.486</td>\n",
       "    </tr>\n",
       "  </tbody>\n",
       "</table>\n",
       "<p>71 rows × 45 columns</p>\n",
       "</div>"
      ],
      "text/plain": [
       "   formula mag_ini     Ehull convg_bare tot_E_bare DE_bare DG_bare bare_mag  \\\n",
       "0   SrTcO3      FM         0       True    -386.83       0       0   13.642   \n",
       "1   BaFeO3      FM         0       True   -316.788       0       0   59.992   \n",
       "2   BaMoO3      FM         0       True    -359.32       0       0       24   \n",
       "3    KTaO3      FM         0       True   -438.376       0       0        0   \n",
       "4   BaZrO3      FM         0       True   -438.828       0       0        0   \n",
       "..     ...     ...       ...        ...        ...     ...     ...      ...   \n",
       "66  CaRuO3      FM  0.151843       True   -354.261       0       0   25.842   \n",
       "67  RbPdO3      FM  0.152772       True   -237.862       0       0   24.444   \n",
       "68  CaHfO3      FM  0.154311       True   -456.965       0       0       -0   \n",
       "69   TlWO3      FM   0.15493       True   -326.169       0       0       16   \n",
       "70  RbPtO3      FM  0.157408       True   -252.909       0       0   20.962   \n",
       "\n",
       "   nsteps_bare                                         struc_bare  ...    DG1  \\\n",
       "0            1  [[0.         1.98022307 0.        ] O, [1.9802...  ... -0.782   \n",
       "1            1  [[2.0165225 2.0165225 2.0165225] Ba, [2.016522...  ...  2.024   \n",
       "2            1  [[2.06811213 2.06811213 2.06811213] Ba, [2.068...  ... -0.302   \n",
       "3            1  [[2.01423343 2.01423343 2.01423343] K, [2.0142...  ... -1.001   \n",
       "4            1  [[0.         0.         2.11804015] Ba, [8.472...  ...   1.29   \n",
       "..         ...                                                ...  ...    ...   \n",
       "66           1  [[0.         0.         1.95924755] Ca, [2.519...  ... -0.363   \n",
       "67           1  [[0.         2.05243462 0.        ] O, [2.0524...  ...  1.313   \n",
       "68           1  [[0.        0.        2.0506531] Ca, [3.755119...  ...  0.619   \n",
       "69          26  [[2.038601 0.       0.      ] O, [0.       2.0...  ... -1.407   \n",
       "70           1  [[2.04108953 0.         0.        ] O, [0.    ...  ...  1.034   \n",
       "\n",
       "      DG2    DG3    DG4  UL_4e UL_ORR DG1_2e DG2_2e  OP_2e  UL_2e  \n",
       "0   0.075  3.188  2.439  3.188 -0.782 -0.782  4.302  2.542  4.302  \n",
       "1   2.428  0.465  0.003  2.428  0.003  2.024  1.496  0.264  2.024  \n",
       "2  -0.551  3.872  1.901  3.872 -0.551 -0.302  3.822  2.062  3.822  \n",
       "3   0.387  3.189  2.345  3.189 -1.001 -1.001  4.521  2.761  4.521  \n",
       "4   2.853  0.563  0.214  2.853  0.214   1.29   2.23   0.47   2.23  \n",
       "..    ...    ...    ...    ...    ...    ...    ...    ...    ...  \n",
       "66  1.043  1.834  2.406  2.406 -0.363 -0.363  3.883  2.123  3.883  \n",
       "67   1.87  1.048  0.689  1.870  0.689  1.313  2.207  0.447  2.207  \n",
       "68  3.023  0.218   1.06  3.023  0.218  0.619  2.901  1.141  2.901  \n",
       "69  0.503  3.061  2.763  3.061 -1.407 -1.407  4.927  3.167  4.927  \n",
       "70  1.693  1.293    0.9  1.693  0.900  1.034  2.486  0.726  2.486  \n",
       "\n",
       "[71 rows x 45 columns]"
      ]
     },
     "execution_count": 167,
     "metadata": {},
     "output_type": "execute_result"
    }
   ],
   "source": [
    "df_cleaned"
   ]
  },
  {
   "cell_type": "code",
   "execution_count": 168,
   "metadata": {},
   "outputs": [
    {
     "data": {
      "text/plain": [
       "Index(['formula', 'mag_ini', 'Ehull', 'convg_bare', 'tot_E_bare', 'DE_bare',\n",
       "       'DG_bare', 'bare_mag', 'nsteps_bare', 'struc_bare', 'convg_OOH',\n",
       "       'tot_E_OOH', 'DE_OOH', 'DG_OOH', 'OOH_mag', 'OOH_dmag', 'nsteps_OOH',\n",
       "       'struc_OOH', 'convg_O', 'tot_E_O', 'DE_O', 'DG_O', 'O_mag', 'O_dmag',\n",
       "       'nsteps_O', 'struc_O', 'convg_OH', 'tot_E_OH', 'DE_OH', 'DG_OH',\n",
       "       'OH_mag', 'OH_dmag', 'nsteps_OH', 'struc_OH', 'index', 'DG1', 'DG2',\n",
       "       'DG3', 'DG4', 'UL_4e', 'UL_ORR', 'DG1_2e', 'DG2_2e', 'OP_2e', 'UL_2e'],\n",
       "      dtype='object')"
      ]
     },
     "execution_count": 168,
     "metadata": {},
     "output_type": "execute_result"
    }
   ],
   "source": [
    "df_cleaned.columns"
   ]
  },
  {
   "cell_type": "code",
   "execution_count": 175,
   "metadata": {},
   "outputs": [
    {
     "name": "stdout",
     "output_type": "stream",
     "text": [
      "[1.] -1.1102230246251565e-16 [-1.] 3.5199999999999996\n"
     ]
    },
    {
     "data": {
      "application/vnd.plotly.v1+json": {
       "config": {
        "plotlyServerURL": "https://plot.ly"
       },
       "data": [
        {
         "marker": {
          "color": [
           0,
           0,
           0,
           0,
           0,
           0,
           0,
           0,
           0,
           0.000882217999999213,
           0.00956816487500145,
           0.01291293400000093,
           0.014601897500000405,
           0.023880135000009517,
           0.025886658499997495,
           0.032961875000001584,
           0.035054968499995454,
           0.035974791958333974,
           0.03723231714285813,
           0.037396135500003425,
           0.03788947374999907,
           0.038067433000017914,
           0.03861854957142263,
           0.039203620000010986,
           0.04032233000000218,
           0.041484064000001375,
           0.04177487160000393,
           0.04924734949999987,
           0.052160963499999546,
           0.05508322750000261,
           0.05665698099999972,
           0.05865563198610868,
           0.06312991274999913,
           0.0644712815000048,
           0.0652086526250022,
           0.06527291791666645,
           0.07011863874999946,
           0.07027808349999454,
           0.07794870799999742,
           0.07894813758333274,
           0.08272366500000405,
           0.0839918569090905,
           0.08437818800000052,
           0.08456636424999964,
           0.08723388099999241,
           0.08835162867500213,
           0.08843607424999167,
           0.09117577574999736,
           0.09499668625000002,
           0.09833247362963249,
           0.0993174252666611,
           0.10597632891072095,
           0.10552783725000037,
           0.10917240231249714,
           0.11303347499999994,
           0.1149096484651011,
           0.11775246493750036,
           0.11810790000000182,
           0.11938604316666446,
           0.12423250299999822,
           0.12612266499999958,
           0.14179081200000354,
           0.1419142380000551,
           0.14254421374999993,
           0.14292753937500002,
           0.1466208092352952,
           0.15184324949999972,
           0.15277174399999982,
           0.1543113860000016,
           0.15493013733335292,
           0.15740757000000016
          ],
          "size": 15,
          "symbol": 0
         },
         "mode": "markers",
         "name": "2e-",
         "text": [
          "SrTcO3",
          "BaFeO3",
          "BaMoO3",
          "KTaO3",
          "BaZrO3",
          "SrFeO3",
          "KTcO3",
          "NaTcO3",
          "BaHfO3",
          "SrTiO3",
          "SrCuO3",
          "KNbO3",
          "NaTaO3",
          "BaScO3",
          "BaPdO3",
          "SrHfO3",
          "NaOsO3",
          "TlTcO3",
          "KReO3",
          "SrRuO3",
          "KHfO3",
          "SrVO3",
          "KOsO3",
          "TaAgO3",
          "SrNiO3",
          "RbIrO3",
          "NaReO3",
          "SrMnO3",
          "CaFeO3",
          "SrZrO3",
          "RbTaO3",
          "SrCoO3",
          "KZrO3",
          "CaTiO3",
          "NaRuO3",
          "LiTcO3",
          "SrPdO3",
          "KWO3",
          "KRhO3",
          "BaCuO3",
          "RbNbO3",
          "BaOsO3",
          "BaRuO3",
          "KRuO3",
          "SrMoO3",
          "NaTiO3",
          "SrScO3",
          "SrRhO3",
          "NaMoO3",
          "BaRhO3",
          "BaPtO3",
          "CaVO3",
          "KMoO3",
          "SrCrO3",
          "RbRhO3",
          "BaVO3",
          "CaCoO3",
          "CaMnO3",
          "KPtO3",
          "BaNiO3",
          "BaMnO3",
          "SrIrO3",
          "NaVO3",
          "NaFeO3",
          "BaIrO3",
          "RbReO3",
          "CaRuO3",
          "RbPdO3",
          "CaHfO3",
          "TlWO3",
          "RbPtO3"
         ],
         "textposition": "top left",
         "type": "scatter",
         "x": [
          -0.782,
          2.024,
          -0.302,
          -1.001,
          1.29,
          2.026,
          0.04,
          -0.067,
          1.191,
          1.276,
          2.007,
          -0.217,
          -1.129,
          2.147,
          1.7,
          1.081,
          -0.354,
          -0.031,
          -0.733,
          0.26,
          1.946,
          -0.191,
          -0.464,
          -1.056,
          3.474,
          0.976,
          -0.831,
          2.548,
          1.927,
          1.151,
          -0.997,
          1.163,
          2.007,
          1.263,
          0.746,
          0.152,
          0.899,
          -1.124,
          1.568,
          1.821,
          -0.344,
          -1.484,
          0.446,
          0.83,
          -1.13,
          2.205,
          2.146,
          0.499,
          -0.415,
          1.086,
          1.101,
          -0.181,
          -0.558,
          0.646,
          1.29,
          -0.474,
          1.636,
          1.408,
          1.292,
          2.267,
          1.655,
          0.424,
          0.52,
          2.325,
          0.646,
          -0.678,
          -0.363,
          1.313,
          0.619,
          -1.407,
          1.034
         ],
         "y": [
          4.302,
          2.024,
          3.822,
          4.521,
          2.23,
          2.026,
          3.48,
          3.5869999999999997,
          2.3289999999999997,
          2.2439999999999998,
          2.007,
          3.737,
          4.649,
          2.147,
          1.82,
          2.439,
          3.8739999999999997,
          3.551,
          4.253,
          3.26,
          1.946,
          3.7110000000000003,
          3.984,
          4.576,
          3.474,
          2.544,
          4.351,
          2.548,
          1.927,
          2.3689999999999998,
          4.517,
          2.357,
          2.007,
          2.257,
          2.774,
          3.3680000000000003,
          2.621,
          4.644,
          1.952,
          1.821,
          3.864,
          5.004,
          3.074,
          2.69,
          4.6499999999999995,
          2.205,
          2.146,
          3.021,
          3.9349999999999996,
          2.434,
          2.419,
          3.701,
          4.078,
          2.8739999999999997,
          2.23,
          3.9939999999999998,
          1.8840000000000001,
          2.112,
          2.2279999999999998,
          2.267,
          1.865,
          3.096,
          3,
          2.325,
          2.8739999999999997,
          4.198,
          3.883,
          2.207,
          2.901,
          4.927,
          2.4859999999999998
         ]
        },
        {
         "marker": {
          "color": "green"
         },
         "mode": "lines",
         "name": "$\\Delta G_{\\text{2}} \\text{ (4e-)}$",
         "type": "scatter",
         "x": [
          0.9082618437651638,
          0.9341783907978389,
          0.960094937830514,
          0.9860114848631891,
          1.0119280318958643,
          1.0378445789285393,
          1.0637611259612145,
          1.0896776729938895,
          1.1155942200265647,
          1.14151076705924,
          1.167427314091915,
          1.1933438611245901,
          1.219260408157265,
          1.2451769551899403,
          1.2710935022226155,
          1.2970100492552905,
          1.3229265962879657,
          1.3488431433206407,
          1.374759690353316,
          1.4006762373859911,
          1.426592784418666,
          1.452509331451341,
          1.4784258784840163,
          1.5043424255166915,
          1.5302589725493667,
          1.5561755195820417,
          1.5820920666147167,
          1.608008613647392,
          1.633925160680067,
          1.6598417077127423,
          1.6857582547454173,
          1.7116748017780923,
          1.7375913488107675,
          1.7635078958434427,
          1.7894244428761177,
          1.8153409899087927,
          1.8412575369414679,
          1.867174083974143,
          1.8930906310068183,
          1.9190071780394935,
          1.9449237250721683,
          1.9708402721048435,
          1.9967568191375187,
          2.022673366170194,
          2.0485899132028687,
          2.074506460235544,
          2.100423007268219,
          2.1263395543008943,
          2.1522561013335695,
          2.1781726483662442,
          2.2040891953989195,
          2.2300057424315947,
          2.25592228946427,
          2.281838836496945,
          2.30775538352962,
          2.333671930562295,
          2.3595884775949703,
          2.3855050246276455,
          2.4114215716603207,
          2.4373381186929954,
          2.4632546657256706,
          2.489171212758346,
          2.515087759791021,
          2.541004306823696,
          2.566920853856371,
          2.5928374008890462,
          2.6187539479217214,
          2.6446704949543967,
          2.6705870419870714,
          2.6965035890197466,
          2.722420136052422,
          2.748336683085097,
          2.7742532301177723,
          2.800169777150447,
          2.8260863241831222,
          2.8520028712157974,
          2.8779194182484726,
          2.903835965281148,
          2.929752512313823,
          2.955669059346498,
          2.981585606379173,
          3.0075021534118482,
          3.0334187004445234,
          3.059335247477198,
          3.0852517945098734,
          3.1111683415425486,
          3.137084888575224,
          3.163001435607899,
          3.188917982640574,
          3.214834529673249,
          3.240751076705924,
          3.2666676237385994,
          3.2925841707712746,
          3.3185007178039494,
          3.3444172648366246,
          3.3703338118693,
          3.396250358901975,
          3.4221669059346502,
          3.448083452967325,
          3.474
         ],
         "y": [
          1.5456201074931448,
          1.5626436027096275,
          1.5796670979261105,
          1.5966905931425934,
          1.6137140883590766,
          1.6307375835755593,
          1.6477610787920425,
          1.6647845740085252,
          1.6818080692250081,
          1.6988315644414913,
          1.715855059657974,
          1.7328785548744572,
          1.74990205009094,
          1.7669255453074229,
          1.783949040523906,
          1.8009725357403887,
          1.817996030956872,
          1.8350195261733546,
          1.8520430213898376,
          1.8690665166063207,
          1.8860900118228034,
          1.9031135070392864,
          1.9201370022557693,
          1.9371604974722523,
          1.9541839926887354,
          1.9712074879052184,
          1.988230983121701,
          2.005254478338184,
          2.022277973554667,
          2.03930146877115,
          2.056324963987633,
          2.073348459204116,
          2.0903719544205988,
          2.1073954496370817,
          2.1244189448535646,
          2.1414424400700476,
          2.1584659352865305,
          2.1754894305030135,
          2.1925129257194964,
          2.2095364209359794,
          2.2265599161524623,
          2.2435834113689452,
          2.260606906585428,
          2.277630401801911,
          2.294653897018394,
          2.311677392234877,
          2.32870088745136,
          2.345724382667843,
          2.362747877884326,
          2.3797713731008088,
          2.3967948683172917,
          2.4138183635337747,
          2.4308418587502576,
          2.4478653539667405,
          2.4648888491832235,
          2.4819123443997064,
          2.4989358396161894,
          2.5159593348326723,
          2.5329828300491553,
          2.550006325265638,
          2.567029820482121,
          2.584053315698604,
          2.601076810915087,
          2.61810030613157,
          2.635123801348053,
          2.652147296564536,
          2.669170791781019,
          2.6861942869975017,
          2.7032177822139847,
          2.7202412774304676,
          2.7372647726469506,
          2.7542882678634335,
          2.7713117630799164,
          2.7883352582963994,
          2.8053587535128823,
          2.8223822487293653,
          2.839405743945848,
          2.856429239162331,
          2.873452734378814,
          2.890476229595297,
          2.90749972481178,
          2.924523220028263,
          2.941546715244746,
          2.958570210461229,
          2.9755937056777118,
          2.9926172008941947,
          3.0096406961106776,
          3.0266641913271606,
          3.0436876865436435,
          3.0607111817601265,
          3.0777346769766094,
          3.0947581721930923,
          3.1117816674095753,
          3.1288051626260582,
          3.145828657842541,
          3.162852153059024,
          3.179875648275507,
          3.19689914349199,
          3.213922638708473,
          3.230946133924956
         ]
        },
        {
         "marker": {
          "color": "red"
         },
         "mode": "lines",
         "name": "$\\Delta G_{\\text{3}} \\text{ (4e-)}$",
         "type": "scatter",
         "x": [
          -1.484,
          -1.459835738951867,
          -1.435671477903734,
          -1.411507216855601,
          -1.3873429558074681,
          -1.3631786947593352,
          -1.3390144337112022,
          -1.3148501726630692,
          -1.2906859116149363,
          -1.2665216505668033,
          -1.2423573895186704,
          -1.2181931284705374,
          -1.1940288674224044,
          -1.1698646063742713,
          -1.1457003453261385,
          -1.1215360842780053,
          -1.0973718232298726,
          -1.0732075621817394,
          -1.0490433011336067,
          -1.0248790400854735,
          -1.0007147790373407,
          -0.9765505179892077,
          -0.9523862569410747,
          -0.9282219958929417,
          -0.9040577348448087,
          -0.8798934737966757,
          -0.8557292127485427,
          -0.8315649517004098,
          -0.8074006906522768,
          -0.7832364296041439,
          -0.7590721685560109,
          -0.7349079075078779,
          -0.710743646459745,
          -0.686579385411612,
          -0.662415124363479,
          -0.6382508633153461,
          -0.6140866022672131,
          -0.5899223412190802,
          -0.5657580801709472,
          -0.5415938191228142,
          -0.5174295580746813,
          -0.4932652970265482,
          -0.46910103597841535,
          -0.4449367749302824,
          -0.4207725138821494,
          -0.39660825283401646,
          -0.3724439917858835,
          -0.34827973073775054,
          -0.32411546968961735,
          -0.2999512086414844,
          -0.27578694759335143,
          -0.25162268654521847,
          -0.2274584254970855,
          -0.20329416444895254,
          -0.17912990340081958,
          -0.15496564235268662,
          -0.13080138130455365,
          -0.10663712025642069,
          -0.08247285920828773,
          -0.05830859816015477,
          -0.034144337112021805,
          -0.009980076063888843,
          0.01418418498424412,
          0.03834844603237708,
          0.06251270708051004,
          0.086676968128643,
          0.11084122917677597,
          0.13500549022490893,
          0.1591697512730419,
          0.18333401232117486,
          0.20749827336930782,
          0.23166253441744078,
          0.25582679546557374,
          0.2799910565137067,
          0.30415531756183967,
          0.32831957860997263,
          0.3524838396581056,
          0.37664810070623855,
          0.4008123617543715,
          0.4249766228025045,
          0.44914088385063744,
          0.4733051448987706,
          0.4974694059469036,
          0.5216336669950365,
          0.5457979280431693,
          0.5699621890913025,
          0.5941264501394352,
          0.6182907111875684,
          0.6424549722357011,
          0.6666192332838343,
          0.6907834943319671,
          0.7149477553801002,
          0.739112016428233,
          0.7632762774763662,
          0.7874405385244989,
          0.8116047995726321,
          0.8357690606207653,
          0.859933321668898,
          0.8840975827170312,
          0.9082618437651638
         ],
         "y": [
          3.618981009929983,
          3.598037970511429,
          3.577094931092875,
          3.556151891674321,
          3.535208852255767,
          3.5142658128372135,
          3.4933227734186594,
          3.4723797340001052,
          3.4514366945815516,
          3.430493655162998,
          3.4095506157444437,
          3.3886075763258896,
          3.367664536907336,
          3.346721497488782,
          3.325778458070228,
          3.304835418651674,
          3.2838923792331203,
          3.262949339814566,
          3.2420063003960125,
          3.2210632609774583,
          3.2001202215589046,
          3.1791771821403505,
          3.1582341427217964,
          3.1372911033032427,
          3.1163480638846885,
          3.095405024466135,
          3.0744619850475807,
          3.053518945629027,
          3.032575906210473,
          3.011632866791919,
          2.990689827373365,
          2.9697467879548114,
          2.9488037485362573,
          2.9278607091177036,
          2.9069176696991494,
          2.8859746302805958,
          2.8650315908620416,
          2.844088551443488,
          2.823145512024934,
          2.80220247260638,
          2.781259433187826,
          2.760316393769272,
          2.739373354350718,
          2.7184303149321645,
          2.6974872755136103,
          2.6765442360950567,
          2.6556011966765025,
          2.634658157257949,
          2.6137151178393947,
          2.5927720784208406,
          2.571829039002287,
          2.5508859995837327,
          2.529942960165179,
          2.508999920746625,
          2.4880568813280712,
          2.467113841909517,
          2.4461708024909634,
          2.4252277630724093,
          2.4042847236538556,
          2.3833416842353015,
          2.3623986448167478,
          2.3414556053981936,
          2.32051256597964,
          2.299569526561086,
          2.278626487142532,
          2.257683447723978,
          2.2367404083054243,
          2.21579736888687,
          2.194854329468316,
          2.1739112900497624,
          2.1529682506312087,
          2.1320252112126545,
          2.1110821717941004,
          2.0901391323755467,
          2.069196092956993,
          2.048253053538439,
          2.0273100141198848,
          2.006366974701331,
          1.9854239352827772,
          1.9644808958642233,
          1.9435378564456693,
          1.9225948170271152,
          1.9016517776085613,
          1.8807087381900074,
          1.8597656987714537,
          1.8388226593528996,
          1.8178796199343457,
          1.7969365805157917,
          1.7759935410972378,
          1.755050501678684,
          1.73410746226013,
          1.7131644228415759,
          1.6922213834230222,
          1.671278344004468,
          1.6503353045859144,
          1.6293922651673602,
          1.6084492257488063,
          1.5875061863302524,
          1.5665631469116983,
          1.5456201074931448
         ]
        },
        {
         "marker": {
          "color": "blue"
         },
         "mode": "lines",
         "name": "$\\Delta G_{\\text{1}} \\text{ (2e-)}$",
         "type": "scatter",
         "x": [
          1.76,
          1.7773131313131314,
          1.7946262626262626,
          1.811939393939394,
          1.8292525252525254,
          1.8465656565656565,
          1.863878787878788,
          1.8811919191919193,
          1.8985050505050505,
          1.9158181818181819,
          1.9331313131313133,
          1.9504444444444444,
          1.9677575757575758,
          1.9850707070707072,
          2.0023838383838384,
          2.0196969696969695,
          2.037010101010101,
          2.0543232323232323,
          2.0716363636363635,
          2.088949494949495,
          2.1062626262626263,
          2.1235757575757575,
          2.140888888888889,
          2.1582020202020202,
          2.1755151515151514,
          2.192828282828283,
          2.210141414141414,
          2.2274545454545454,
          2.244767676767677,
          2.262080808080808,
          2.2793939393939393,
          2.296707070707071,
          2.314020202020202,
          2.3313333333333333,
          2.348646464646465,
          2.365959595959596,
          2.383272727272727,
          2.400585858585859,
          2.41789898989899,
          2.435212121212121,
          2.4525252525252528,
          2.469838383838384,
          2.487151515151515,
          2.5044646464646467,
          2.521777777777778,
          2.539090909090909,
          2.5564040404040407,
          2.573717171717172,
          2.591030303030303,
          2.6083434343434346,
          2.625656565656566,
          2.642969696969697,
          2.6602828282828286,
          2.6775959595959598,
          2.694909090909091,
          2.7122222222222225,
          2.7295353535353537,
          2.746848484848485,
          2.7641616161616165,
          2.7814747474747477,
          2.798787878787879,
          2.8161010101010104,
          2.8334141414141416,
          2.8507272727272728,
          2.8680404040404044,
          2.8853535353535356,
          2.9026666666666667,
          2.9199797979797983,
          2.9372929292929295,
          2.9546060606060607,
          2.9719191919191923,
          2.9892323232323235,
          3.0065454545454546,
          3.0238585858585862,
          3.0411717171717174,
          3.0584848484848486,
          3.07579797979798,
          3.0931111111111114,
          3.1104242424242425,
          3.127737373737374,
          3.145050505050505,
          3.1623636363636365,
          3.179676767676768,
          3.196989898989899,
          3.2143030303030304,
          3.231616161616162,
          3.248929292929293,
          3.2662424242424244,
          3.283555555555556,
          3.3008686868686867,
          3.3181818181818183,
          3.33549494949495,
          3.3528080808080807,
          3.3701212121212123,
          3.387434343434344,
          3.4047474747474746,
          3.4220606060606062,
          3.439373737373738,
          3.4566868686868686,
          3.474
         ],
         "y": [
          1.7600000000000002,
          1.7773131313131318,
          1.794626262626263,
          1.8119393939393942,
          1.8292525252525258,
          1.846565656565657,
          1.8638787878787881,
          1.8811919191919197,
          1.898505050505051,
          1.915818181818182,
          1.9331313131313137,
          1.9504444444444449,
          1.967757575757576,
          1.9850707070707077,
          2.002383838383839,
          2.01969696969697,
          2.0370101010101016,
          2.0543232323232328,
          2.071636363636364,
          2.0889494949494956,
          2.1062626262626267,
          2.123575757575758,
          2.1408888888888895,
          2.1582020202020207,
          2.175515151515152,
          2.1928282828282835,
          2.2101414141414146,
          2.227454545454546,
          2.2447676767676774,
          2.2620808080808086,
          2.2793939393939397,
          2.2967070707070714,
          2.3140202020202025,
          2.3313333333333337,
          2.3486464646464653,
          2.3659595959595965,
          2.3832727272727277,
          2.4005858585858593,
          2.4178989898989904,
          2.4352121212121216,
          2.452525252525253,
          2.4698383838383844,
          2.4871515151515156,
          2.504464646464647,
          2.5217777777777783,
          2.5390909090909095,
          2.556404040404041,
          2.5737171717171723,
          2.5910303030303035,
          2.608343434343435,
          2.6256565656565662,
          2.6429696969696974,
          2.660282828282829,
          2.67759595959596,
          2.6949090909090914,
          2.712222222222223,
          2.729535353535354,
          2.7468484848484853,
          2.764161616161617,
          2.781474747474748,
          2.7987878787878793,
          2.816101010101011,
          2.833414141414142,
          2.850727272727273,
          2.868040404040405,
          2.885353535353536,
          2.902666666666667,
          2.919979797979799,
          2.93729292929293,
          2.954606060606061,
          2.9719191919191927,
          2.989232323232324,
          3.0065454545454555,
          3.023858585858587,
          3.0411717171717183,
          3.0584848484848495,
          3.075797979797981,
          3.0931111111111123,
          3.1104242424242434,
          3.127737373737375,
          3.1450505050505058,
          3.1623636363636374,
          3.179676767676769,
          3.1969898989898997,
          3.2143030303030313,
          3.231616161616163,
          3.2489292929292937,
          3.2662424242424253,
          3.283555555555557,
          3.3008686868686876,
          3.3181818181818192,
          3.335494949494951,
          3.3528080808080816,
          3.370121212121213,
          3.387434343434345,
          3.4047474747474755,
          3.422060606060607,
          3.4393737373737387,
          3.4566868686868695,
          3.474000000000001
         ]
        },
        {
         "marker": {
          "color": "black"
         },
         "mode": "lines",
         "name": "$\\Delta G_{\\text{2}} \\text{ (2e-)}$",
         "type": "scatter",
         "x": [
          -1.484,
          -1.4512323232323232,
          -1.4184646464646464,
          -1.3856969696969696,
          -1.3529292929292929,
          -1.320161616161616,
          -1.2873939393939393,
          -1.2546262626262625,
          -1.2218585858585858,
          -1.189090909090909,
          -1.1563232323232322,
          -1.1235555555555556,
          -1.0907878787878789,
          -1.058020202020202,
          -1.0252525252525253,
          -0.9924848484848485,
          -0.9597171717171717,
          -0.926949494949495,
          -0.8941818181818182,
          -0.8614141414141414,
          -0.8286464646464646,
          -0.795878787878788,
          -0.7631111111111112,
          -0.7303434343434344,
          -0.6975757575757576,
          -0.6648080808080808,
          -0.6320404040404041,
          -0.5992727272727273,
          -0.5665050505050506,
          -0.5337373737373738,
          -0.5009696969696971,
          -0.4682020202020203,
          -0.4354343434343435,
          -0.40266666666666673,
          -0.36989898989898995,
          -0.33713131313131317,
          -0.3043636363636364,
          -0.2715959595959596,
          -0.23882828282828283,
          -0.20606060606060606,
          -0.17329292929292928,
          -0.14052525252525272,
          -0.10775757575757594,
          -0.07498989898989916,
          -0.04222222222222238,
          -0.009454545454545604,
          0.023313131313131175,
          0.05608080808080795,
          0.08884848484848473,
          0.12161616161616151,
          0.1543838383838383,
          0.18715151515151507,
          0.21991919191919185,
          0.2526868686868686,
          0.2854545454545454,
          0.3182222222222222,
          0.35098989898989874,
          0.3837575757575755,
          0.4165252525252523,
          0.4492929292929291,
          0.48206060606060586,
          0.5148282828282826,
          0.5475959595959594,
          0.5803636363636362,
          0.613131313131313,
          0.6458989898989898,
          0.6786666666666665,
          0.7114343434343433,
          0.7442020202020201,
          0.7769696969696969,
          0.8097373737373736,
          0.8425050505050504,
          0.8752727272727272,
          0.908040404040404,
          0.9408080808080808,
          0.9735757575757575,
          1.0063434343434343,
          1.039111111111111,
          1.0718787878787879,
          1.1046464646464647,
          1.1374141414141414,
          1.1701818181818178,
          1.2029494949494945,
          1.2357171717171713,
          1.268484848484848,
          1.3012525252525249,
          1.3340202020202017,
          1.3667878787878784,
          1.3995555555555552,
          1.432323232323232,
          1.4650909090909088,
          1.4978585858585856,
          1.5306262626262623,
          1.5633939393939391,
          1.596161616161616,
          1.6289292929292927,
          1.6616969696969695,
          1.6944646464646462,
          1.727232323232323,
          1.76
         ],
         "y": [
          5.004,
          4.971232323232323,
          4.938464646464646,
          4.90569696969697,
          4.8729292929292924,
          4.840161616161616,
          4.807393939393939,
          4.7746262626262626,
          4.741858585858585,
          4.709090909090909,
          4.676323232323232,
          4.643555555555555,
          4.610787878787878,
          4.578020202020202,
          4.5452525252525255,
          4.512484848484848,
          4.479717171717171,
          4.446949494949495,
          4.414181818181818,
          4.381414141414141,
          4.348646464646464,
          4.315878787878788,
          4.283111111111111,
          4.250343434343434,
          4.217575757575757,
          4.1848080808080805,
          4.152040404040404,
          4.119272727272727,
          4.086505050505051,
          4.053737373737373,
          4.020969696969697,
          3.98820202020202,
          3.955434343434343,
          3.9226666666666663,
          3.8898989898989895,
          3.8571313131313127,
          3.824363636363636,
          3.791595959595959,
          3.7588282828282824,
          3.7260606060606056,
          3.693292929292929,
          3.6605252525252525,
          3.6277575757575757,
          3.594989898989899,
          3.562222222222222,
          3.5294545454545454,
          3.496686868686868,
          3.4639191919191914,
          3.4311515151515146,
          3.398383838383838,
          3.365616161616161,
          3.3328484848484843,
          3.3000808080808075,
          3.2673131313131307,
          3.234545454545454,
          3.201777777777777,
          3.169010101010101,
          3.136242424242424,
          3.1034747474747473,
          3.0707070707070705,
          3.0379393939393937,
          3.005171717171717,
          2.97240404040404,
          2.9396363636363634,
          2.9068686868686866,
          2.87410101010101,
          2.841333333333333,
          2.8085656565656563,
          2.7757979797979795,
          2.7430303030303023,
          2.710262626262626,
          2.6774949494949487,
          2.6447272727272724,
          2.611959595959595,
          2.579191919191919,
          2.5464242424242416,
          2.5136565656565653,
          2.480888888888888,
          2.4481212121212117,
          2.4153535353535345,
          2.382585858585858,
          2.349818181818182,
          2.3170505050505046,
          2.2842828282828282,
          2.251515151515151,
          2.2187474747474747,
          2.1859797979797975,
          2.153212121212121,
          2.120444444444444,
          2.0876767676767676,
          2.0549090909090904,
          2.022141414141414,
          1.9893737373737368,
          1.95660606060606,
          1.9238383838383832,
          1.8910707070707065,
          1.8583030303030297,
          1.825535353535353,
          1.7927676767676761,
          1.7599999999999991
         ]
        }
       ],
       "layout": {
        "height": 600,
        "showlegend": true,
        "template": {
         "data": {
          "bar": [
           {
            "error_x": {
             "color": "#2a3f5f"
            },
            "error_y": {
             "color": "#2a3f5f"
            },
            "marker": {
             "line": {
              "color": "#E5ECF6",
              "width": 0.5
             }
            },
            "type": "bar"
           }
          ],
          "barpolar": [
           {
            "marker": {
             "line": {
              "color": "#E5ECF6",
              "width": 0.5
             }
            },
            "type": "barpolar"
           }
          ],
          "carpet": [
           {
            "aaxis": {
             "endlinecolor": "#2a3f5f",
             "gridcolor": "white",
             "linecolor": "white",
             "minorgridcolor": "white",
             "startlinecolor": "#2a3f5f"
            },
            "baxis": {
             "endlinecolor": "#2a3f5f",
             "gridcolor": "white",
             "linecolor": "white",
             "minorgridcolor": "white",
             "startlinecolor": "#2a3f5f"
            },
            "type": "carpet"
           }
          ],
          "choropleth": [
           {
            "colorbar": {
             "outlinewidth": 0,
             "ticks": ""
            },
            "type": "choropleth"
           }
          ],
          "contour": [
           {
            "colorbar": {
             "outlinewidth": 0,
             "ticks": ""
            },
            "colorscale": [
             [
              0,
              "#0d0887"
             ],
             [
              0.1111111111111111,
              "#46039f"
             ],
             [
              0.2222222222222222,
              "#7201a8"
             ],
             [
              0.3333333333333333,
              "#9c179e"
             ],
             [
              0.4444444444444444,
              "#bd3786"
             ],
             [
              0.5555555555555556,
              "#d8576b"
             ],
             [
              0.6666666666666666,
              "#ed7953"
             ],
             [
              0.7777777777777778,
              "#fb9f3a"
             ],
             [
              0.8888888888888888,
              "#fdca26"
             ],
             [
              1,
              "#f0f921"
             ]
            ],
            "type": "contour"
           }
          ],
          "contourcarpet": [
           {
            "colorbar": {
             "outlinewidth": 0,
             "ticks": ""
            },
            "type": "contourcarpet"
           }
          ],
          "heatmap": [
           {
            "colorbar": {
             "outlinewidth": 0,
             "ticks": ""
            },
            "colorscale": [
             [
              0,
              "#0d0887"
             ],
             [
              0.1111111111111111,
              "#46039f"
             ],
             [
              0.2222222222222222,
              "#7201a8"
             ],
             [
              0.3333333333333333,
              "#9c179e"
             ],
             [
              0.4444444444444444,
              "#bd3786"
             ],
             [
              0.5555555555555556,
              "#d8576b"
             ],
             [
              0.6666666666666666,
              "#ed7953"
             ],
             [
              0.7777777777777778,
              "#fb9f3a"
             ],
             [
              0.8888888888888888,
              "#fdca26"
             ],
             [
              1,
              "#f0f921"
             ]
            ],
            "type": "heatmap"
           }
          ],
          "heatmapgl": [
           {
            "colorbar": {
             "outlinewidth": 0,
             "ticks": ""
            },
            "colorscale": [
             [
              0,
              "#0d0887"
             ],
             [
              0.1111111111111111,
              "#46039f"
             ],
             [
              0.2222222222222222,
              "#7201a8"
             ],
             [
              0.3333333333333333,
              "#9c179e"
             ],
             [
              0.4444444444444444,
              "#bd3786"
             ],
             [
              0.5555555555555556,
              "#d8576b"
             ],
             [
              0.6666666666666666,
              "#ed7953"
             ],
             [
              0.7777777777777778,
              "#fb9f3a"
             ],
             [
              0.8888888888888888,
              "#fdca26"
             ],
             [
              1,
              "#f0f921"
             ]
            ],
            "type": "heatmapgl"
           }
          ],
          "histogram": [
           {
            "marker": {
             "colorbar": {
              "outlinewidth": 0,
              "ticks": ""
             }
            },
            "type": "histogram"
           }
          ],
          "histogram2d": [
           {
            "colorbar": {
             "outlinewidth": 0,
             "ticks": ""
            },
            "colorscale": [
             [
              0,
              "#0d0887"
             ],
             [
              0.1111111111111111,
              "#46039f"
             ],
             [
              0.2222222222222222,
              "#7201a8"
             ],
             [
              0.3333333333333333,
              "#9c179e"
             ],
             [
              0.4444444444444444,
              "#bd3786"
             ],
             [
              0.5555555555555556,
              "#d8576b"
             ],
             [
              0.6666666666666666,
              "#ed7953"
             ],
             [
              0.7777777777777778,
              "#fb9f3a"
             ],
             [
              0.8888888888888888,
              "#fdca26"
             ],
             [
              1,
              "#f0f921"
             ]
            ],
            "type": "histogram2d"
           }
          ],
          "histogram2dcontour": [
           {
            "colorbar": {
             "outlinewidth": 0,
             "ticks": ""
            },
            "colorscale": [
             [
              0,
              "#0d0887"
             ],
             [
              0.1111111111111111,
              "#46039f"
             ],
             [
              0.2222222222222222,
              "#7201a8"
             ],
             [
              0.3333333333333333,
              "#9c179e"
             ],
             [
              0.4444444444444444,
              "#bd3786"
             ],
             [
              0.5555555555555556,
              "#d8576b"
             ],
             [
              0.6666666666666666,
              "#ed7953"
             ],
             [
              0.7777777777777778,
              "#fb9f3a"
             ],
             [
              0.8888888888888888,
              "#fdca26"
             ],
             [
              1,
              "#f0f921"
             ]
            ],
            "type": "histogram2dcontour"
           }
          ],
          "mesh3d": [
           {
            "colorbar": {
             "outlinewidth": 0,
             "ticks": ""
            },
            "type": "mesh3d"
           }
          ],
          "parcoords": [
           {
            "line": {
             "colorbar": {
              "outlinewidth": 0,
              "ticks": ""
             }
            },
            "type": "parcoords"
           }
          ],
          "pie": [
           {
            "automargin": true,
            "type": "pie"
           }
          ],
          "scatter": [
           {
            "marker": {
             "colorbar": {
              "outlinewidth": 0,
              "ticks": ""
             }
            },
            "type": "scatter"
           }
          ],
          "scatter3d": [
           {
            "line": {
             "colorbar": {
              "outlinewidth": 0,
              "ticks": ""
             }
            },
            "marker": {
             "colorbar": {
              "outlinewidth": 0,
              "ticks": ""
             }
            },
            "type": "scatter3d"
           }
          ],
          "scattercarpet": [
           {
            "marker": {
             "colorbar": {
              "outlinewidth": 0,
              "ticks": ""
             }
            },
            "type": "scattercarpet"
           }
          ],
          "scattergeo": [
           {
            "marker": {
             "colorbar": {
              "outlinewidth": 0,
              "ticks": ""
             }
            },
            "type": "scattergeo"
           }
          ],
          "scattergl": [
           {
            "marker": {
             "colorbar": {
              "outlinewidth": 0,
              "ticks": ""
             }
            },
            "type": "scattergl"
           }
          ],
          "scattermapbox": [
           {
            "marker": {
             "colorbar": {
              "outlinewidth": 0,
              "ticks": ""
             }
            },
            "type": "scattermapbox"
           }
          ],
          "scatterpolar": [
           {
            "marker": {
             "colorbar": {
              "outlinewidth": 0,
              "ticks": ""
             }
            },
            "type": "scatterpolar"
           }
          ],
          "scatterpolargl": [
           {
            "marker": {
             "colorbar": {
              "outlinewidth": 0,
              "ticks": ""
             }
            },
            "type": "scatterpolargl"
           }
          ],
          "scatterternary": [
           {
            "marker": {
             "colorbar": {
              "outlinewidth": 0,
              "ticks": ""
             }
            },
            "type": "scatterternary"
           }
          ],
          "surface": [
           {
            "colorbar": {
             "outlinewidth": 0,
             "ticks": ""
            },
            "colorscale": [
             [
              0,
              "#0d0887"
             ],
             [
              0.1111111111111111,
              "#46039f"
             ],
             [
              0.2222222222222222,
              "#7201a8"
             ],
             [
              0.3333333333333333,
              "#9c179e"
             ],
             [
              0.4444444444444444,
              "#bd3786"
             ],
             [
              0.5555555555555556,
              "#d8576b"
             ],
             [
              0.6666666666666666,
              "#ed7953"
             ],
             [
              0.7777777777777778,
              "#fb9f3a"
             ],
             [
              0.8888888888888888,
              "#fdca26"
             ],
             [
              1,
              "#f0f921"
             ]
            ],
            "type": "surface"
           }
          ],
          "table": [
           {
            "cells": {
             "fill": {
              "color": "#EBF0F8"
             },
             "line": {
              "color": "white"
             }
            },
            "header": {
             "fill": {
              "color": "#C8D4E3"
             },
             "line": {
              "color": "white"
             }
            },
            "type": "table"
           }
          ]
         },
         "layout": {
          "annotationdefaults": {
           "arrowcolor": "#2a3f5f",
           "arrowhead": 0,
           "arrowwidth": 1
          },
          "coloraxis": {
           "colorbar": {
            "outlinewidth": 0,
            "ticks": ""
           }
          },
          "colorscale": {
           "diverging": [
            [
             0,
             "#8e0152"
            ],
            [
             0.1,
             "#c51b7d"
            ],
            [
             0.2,
             "#de77ae"
            ],
            [
             0.3,
             "#f1b6da"
            ],
            [
             0.4,
             "#fde0ef"
            ],
            [
             0.5,
             "#f7f7f7"
            ],
            [
             0.6,
             "#e6f5d0"
            ],
            [
             0.7,
             "#b8e186"
            ],
            [
             0.8,
             "#7fbc41"
            ],
            [
             0.9,
             "#4d9221"
            ],
            [
             1,
             "#276419"
            ]
           ],
           "sequential": [
            [
             0,
             "#0d0887"
            ],
            [
             0.1111111111111111,
             "#46039f"
            ],
            [
             0.2222222222222222,
             "#7201a8"
            ],
            [
             0.3333333333333333,
             "#9c179e"
            ],
            [
             0.4444444444444444,
             "#bd3786"
            ],
            [
             0.5555555555555556,
             "#d8576b"
            ],
            [
             0.6666666666666666,
             "#ed7953"
            ],
            [
             0.7777777777777778,
             "#fb9f3a"
            ],
            [
             0.8888888888888888,
             "#fdca26"
            ],
            [
             1,
             "#f0f921"
            ]
           ],
           "sequentialminus": [
            [
             0,
             "#0d0887"
            ],
            [
             0.1111111111111111,
             "#46039f"
            ],
            [
             0.2222222222222222,
             "#7201a8"
            ],
            [
             0.3333333333333333,
             "#9c179e"
            ],
            [
             0.4444444444444444,
             "#bd3786"
            ],
            [
             0.5555555555555556,
             "#d8576b"
            ],
            [
             0.6666666666666666,
             "#ed7953"
            ],
            [
             0.7777777777777778,
             "#fb9f3a"
            ],
            [
             0.8888888888888888,
             "#fdca26"
            ],
            [
             1,
             "#f0f921"
            ]
           ]
          },
          "colorway": [
           "#636efa",
           "#EF553B",
           "#00cc96",
           "#ab63fa",
           "#FFA15A",
           "#19d3f3",
           "#FF6692",
           "#B6E880",
           "#FF97FF",
           "#FECB52"
          ],
          "font": {
           "color": "#2a3f5f"
          },
          "geo": {
           "bgcolor": "white",
           "lakecolor": "white",
           "landcolor": "#E5ECF6",
           "showlakes": true,
           "showland": true,
           "subunitcolor": "white"
          },
          "hoverlabel": {
           "align": "left"
          },
          "hovermode": "closest",
          "mapbox": {
           "style": "light"
          },
          "paper_bgcolor": "white",
          "plot_bgcolor": "#E5ECF6",
          "polar": {
           "angularaxis": {
            "gridcolor": "white",
            "linecolor": "white",
            "ticks": ""
           },
           "bgcolor": "#E5ECF6",
           "radialaxis": {
            "gridcolor": "white",
            "linecolor": "white",
            "ticks": ""
           }
          },
          "scene": {
           "xaxis": {
            "backgroundcolor": "#E5ECF6",
            "gridcolor": "white",
            "gridwidth": 2,
            "linecolor": "white",
            "showbackground": true,
            "ticks": "",
            "zerolinecolor": "white"
           },
           "yaxis": {
            "backgroundcolor": "#E5ECF6",
            "gridcolor": "white",
            "gridwidth": 2,
            "linecolor": "white",
            "showbackground": true,
            "ticks": "",
            "zerolinecolor": "white"
           },
           "zaxis": {
            "backgroundcolor": "#E5ECF6",
            "gridcolor": "white",
            "gridwidth": 2,
            "linecolor": "white",
            "showbackground": true,
            "ticks": "",
            "zerolinecolor": "white"
           }
          },
          "shapedefaults": {
           "line": {
            "color": "#2a3f5f"
           }
          },
          "ternary": {
           "aaxis": {
            "gridcolor": "white",
            "linecolor": "white",
            "ticks": ""
           },
           "baxis": {
            "gridcolor": "white",
            "linecolor": "white",
            "ticks": ""
           },
           "bgcolor": "#E5ECF6",
           "caxis": {
            "gridcolor": "white",
            "linecolor": "white",
            "ticks": ""
           }
          },
          "title": {
           "x": 0.05
          },
          "xaxis": {
           "automargin": true,
           "gridcolor": "white",
           "linecolor": "white",
           "ticks": "",
           "title": {
            "standoff": 15
           },
           "zerolinecolor": "white",
           "zerolinewidth": 2
          },
          "yaxis": {
           "automargin": true,
           "gridcolor": "white",
           "linecolor": "white",
           "ticks": "",
           "title": {
            "standoff": 15
           },
           "zerolinecolor": "white",
           "zerolinewidth": 2
          }
         }
        },
        "title": {
         "font": {
          "size": 25
         }
        },
        "width": 600,
        "xaxis": {
         "gridwidth": 1,
         "tickfont": {
          "size": 18
         },
         "title": {
          "font": {
           "size": 30
          },
          "text": "$\\Delta G_{\\text{OH}} \\text{ (eV)}$"
         },
         "zeroline": false
        },
        "yaxis": {
         "gridwidth": 1,
         "tickfont": {
          "size": 18
         },
         "title": {
          "font": {
           "size": 30
          },
          "text": "$ U_{\\text{L}} \\text{ (V)}$"
         },
         "zeroline": false
        }
       }
      },
      "text/html": [
       "<div>                            <div id=\"8488b71a-7bef-49d0-9fc5-25cc136ddbfe\" class=\"plotly-graph-div\" style=\"height:600px; width:600px;\"></div>            <script type=\"text/javascript\">                require([\"plotly\"], function(Plotly) {                    window.PLOTLYENV=window.PLOTLYENV || {};                                    if (document.getElementById(\"8488b71a-7bef-49d0-9fc5-25cc136ddbfe\")) {                    Plotly.newPlot(                        \"8488b71a-7bef-49d0-9fc5-25cc136ddbfe\",                        [{\"marker\": {\"color\": [0, 0, 0, 0, 0, 0, 0, 0, 0, 0.000882217999999213, 0.00956816487500145, 0.01291293400000093, 0.014601897500000405, 0.023880135000009517, 0.025886658499997495, 0.032961875000001584, 0.035054968499995454, 0.035974791958333974, 0.03723231714285813, 0.037396135500003425, 0.03788947374999907, 0.038067433000017914, 0.03861854957142263, 0.039203620000010986, 0.04032233000000218, 0.041484064000001375, 0.04177487160000393, 0.04924734949999987, 0.052160963499999546, 0.05508322750000261, 0.05665698099999972, 0.05865563198610868, 0.06312991274999913, 0.0644712815000048, 0.0652086526250022, 0.06527291791666645, 0.07011863874999946, 0.07027808349999454, 0.07794870799999742, 0.07894813758333274, 0.08272366500000405, 0.0839918569090905, 0.08437818800000052, 0.08456636424999964, 0.08723388099999241, 0.08835162867500213, 0.08843607424999167, 0.09117577574999736, 0.09499668625000002, 0.09833247362963249, 0.0993174252666611, 0.10597632891072095, 0.10552783725000037, 0.10917240231249714, 0.11303347499999994, 0.1149096484651011, 0.11775246493750036, 0.11810790000000182, 0.11938604316666446, 0.12423250299999822, 0.12612266499999958, 0.14179081200000354, 0.1419142380000551, 0.14254421374999993, 0.14292753937500002, 0.1466208092352952, 0.15184324949999972, 0.15277174399999982, 0.1543113860000016, 0.15493013733335292, 0.15740757000000016], \"size\": 15, \"symbol\": 0}, \"mode\": \"markers\", \"name\": \"2e-\", \"text\": [\"SrTcO3\", \"BaFeO3\", \"BaMoO3\", \"KTaO3\", \"BaZrO3\", \"SrFeO3\", \"KTcO3\", \"NaTcO3\", \"BaHfO3\", \"SrTiO3\", \"SrCuO3\", \"KNbO3\", \"NaTaO3\", \"BaScO3\", \"BaPdO3\", \"SrHfO3\", \"NaOsO3\", \"TlTcO3\", \"KReO3\", \"SrRuO3\", \"KHfO3\", \"SrVO3\", \"KOsO3\", \"TaAgO3\", \"SrNiO3\", \"RbIrO3\", \"NaReO3\", \"SrMnO3\", \"CaFeO3\", \"SrZrO3\", \"RbTaO3\", \"SrCoO3\", \"KZrO3\", \"CaTiO3\", \"NaRuO3\", \"LiTcO3\", \"SrPdO3\", \"KWO3\", \"KRhO3\", \"BaCuO3\", \"RbNbO3\", \"BaOsO3\", \"BaRuO3\", \"KRuO3\", \"SrMoO3\", \"NaTiO3\", \"SrScO3\", \"SrRhO3\", \"NaMoO3\", \"BaRhO3\", \"BaPtO3\", \"CaVO3\", \"KMoO3\", \"SrCrO3\", \"RbRhO3\", \"BaVO3\", \"CaCoO3\", \"CaMnO3\", \"KPtO3\", \"BaNiO3\", \"BaMnO3\", \"SrIrO3\", \"NaVO3\", \"NaFeO3\", \"BaIrO3\", \"RbReO3\", \"CaRuO3\", \"RbPdO3\", \"CaHfO3\", \"TlWO3\", \"RbPtO3\"], \"textposition\": \"top left\", \"type\": \"scatter\", \"x\": [-0.782, 2.024, -0.302, -1.001, 1.29, 2.026, 0.04, -0.067, 1.191, 1.276, 2.007, -0.217, -1.129, 2.147, 1.7, 1.081, -0.354, -0.031, -0.733, 0.26, 1.946, -0.191, -0.464, -1.056, 3.474, 0.976, -0.831, 2.548, 1.927, 1.151, -0.997, 1.163, 2.007, 1.263, 0.746, 0.152, 0.899, -1.124, 1.568, 1.821, -0.344, -1.484, 0.446, 0.83, -1.13, 2.205, 2.146, 0.499, -0.415, 1.086, 1.101, -0.181, -0.558, 0.646, 1.29, -0.474, 1.636, 1.408, 1.292, 2.267, 1.655, 0.424, 0.52, 2.325, 0.646, -0.678, -0.363, 1.313, 0.619, -1.407, 1.034], \"y\": [4.302, 2.024, 3.822, 4.521, 2.23, 2.026, 3.48, 3.5869999999999997, 2.3289999999999997, 2.2439999999999998, 2.007, 3.737, 4.649, 2.147, 1.82, 2.439, 3.8739999999999997, 3.551, 4.253, 3.26, 1.946, 3.7110000000000003, 3.984, 4.576, 3.474, 2.544, 4.351, 2.548, 1.927, 2.3689999999999998, 4.517, 2.357, 2.007, 2.257, 2.774, 3.3680000000000003, 2.621, 4.644, 1.952, 1.821, 3.864, 5.004, 3.074, 2.69, 4.6499999999999995, 2.205, 2.146, 3.021, 3.9349999999999996, 2.434, 2.419, 3.701, 4.078, 2.8739999999999997, 2.23, 3.9939999999999998, 1.8840000000000001, 2.112, 2.2279999999999998, 2.267, 1.865, 3.096, 3.0, 2.325, 2.8739999999999997, 4.198, 3.883, 2.207, 2.901, 4.927, 2.4859999999999998]}, {\"marker\": {\"color\": \"green\"}, \"mode\": \"lines\", \"name\": \"$\\\\Delta G_{\\\\text{2}} \\\\text{ (4e-)}$\", \"type\": \"scatter\", \"x\": [0.9082618437651638, 0.9341783907978389, 0.960094937830514, 0.9860114848631891, 1.0119280318958643, 1.0378445789285393, 1.0637611259612145, 1.0896776729938895, 1.1155942200265647, 1.14151076705924, 1.167427314091915, 1.1933438611245901, 1.219260408157265, 1.2451769551899403, 1.2710935022226155, 1.2970100492552905, 1.3229265962879657, 1.3488431433206407, 1.374759690353316, 1.4006762373859911, 1.426592784418666, 1.452509331451341, 1.4784258784840163, 1.5043424255166915, 1.5302589725493667, 1.5561755195820417, 1.5820920666147167, 1.608008613647392, 1.633925160680067, 1.6598417077127423, 1.6857582547454173, 1.7116748017780923, 1.7375913488107675, 1.7635078958434427, 1.7894244428761177, 1.8153409899087927, 1.8412575369414679, 1.867174083974143, 1.8930906310068183, 1.9190071780394935, 1.9449237250721683, 1.9708402721048435, 1.9967568191375187, 2.022673366170194, 2.0485899132028687, 2.074506460235544, 2.100423007268219, 2.1263395543008943, 2.1522561013335695, 2.1781726483662442, 2.2040891953989195, 2.2300057424315947, 2.25592228946427, 2.281838836496945, 2.30775538352962, 2.333671930562295, 2.3595884775949703, 2.3855050246276455, 2.4114215716603207, 2.4373381186929954, 2.4632546657256706, 2.489171212758346, 2.515087759791021, 2.541004306823696, 2.566920853856371, 2.5928374008890462, 2.6187539479217214, 2.6446704949543967, 2.6705870419870714, 2.6965035890197466, 2.722420136052422, 2.748336683085097, 2.7742532301177723, 2.800169777150447, 2.8260863241831222, 2.8520028712157974, 2.8779194182484726, 2.903835965281148, 2.929752512313823, 2.955669059346498, 2.981585606379173, 3.0075021534118482, 3.0334187004445234, 3.059335247477198, 3.0852517945098734, 3.1111683415425486, 3.137084888575224, 3.163001435607899, 3.188917982640574, 3.214834529673249, 3.240751076705924, 3.2666676237385994, 3.2925841707712746, 3.3185007178039494, 3.3444172648366246, 3.3703338118693, 3.396250358901975, 3.4221669059346502, 3.448083452967325, 3.474], \"y\": [1.5456201074931448, 1.5626436027096275, 1.5796670979261105, 1.5966905931425934, 1.6137140883590766, 1.6307375835755593, 1.6477610787920425, 1.6647845740085252, 1.6818080692250081, 1.6988315644414913, 1.715855059657974, 1.7328785548744572, 1.74990205009094, 1.7669255453074229, 1.783949040523906, 1.8009725357403887, 1.817996030956872, 1.8350195261733546, 1.8520430213898376, 1.8690665166063207, 1.8860900118228034, 1.9031135070392864, 1.9201370022557693, 1.9371604974722523, 1.9541839926887354, 1.9712074879052184, 1.988230983121701, 2.005254478338184, 2.022277973554667, 2.03930146877115, 2.056324963987633, 2.073348459204116, 2.0903719544205988, 2.1073954496370817, 2.1244189448535646, 2.1414424400700476, 2.1584659352865305, 2.1754894305030135, 2.1925129257194964, 2.2095364209359794, 2.2265599161524623, 2.2435834113689452, 2.260606906585428, 2.277630401801911, 2.294653897018394, 2.311677392234877, 2.32870088745136, 2.345724382667843, 2.362747877884326, 2.3797713731008088, 2.3967948683172917, 2.4138183635337747, 2.4308418587502576, 2.4478653539667405, 2.4648888491832235, 2.4819123443997064, 2.4989358396161894, 2.5159593348326723, 2.5329828300491553, 2.550006325265638, 2.567029820482121, 2.584053315698604, 2.601076810915087, 2.61810030613157, 2.635123801348053, 2.652147296564536, 2.669170791781019, 2.6861942869975017, 2.7032177822139847, 2.7202412774304676, 2.7372647726469506, 2.7542882678634335, 2.7713117630799164, 2.7883352582963994, 2.8053587535128823, 2.8223822487293653, 2.839405743945848, 2.856429239162331, 2.873452734378814, 2.890476229595297, 2.90749972481178, 2.924523220028263, 2.941546715244746, 2.958570210461229, 2.9755937056777118, 2.9926172008941947, 3.0096406961106776, 3.0266641913271606, 3.0436876865436435, 3.0607111817601265, 3.0777346769766094, 3.0947581721930923, 3.1117816674095753, 3.1288051626260582, 3.145828657842541, 3.162852153059024, 3.179875648275507, 3.19689914349199, 3.213922638708473, 3.230946133924956]}, {\"marker\": {\"color\": \"red\"}, \"mode\": \"lines\", \"name\": \"$\\\\Delta G_{\\\\text{3}} \\\\text{ (4e-)}$\", \"type\": \"scatter\", \"x\": [-1.484, -1.459835738951867, -1.435671477903734, -1.411507216855601, -1.3873429558074681, -1.3631786947593352, -1.3390144337112022, -1.3148501726630692, -1.2906859116149363, -1.2665216505668033, -1.2423573895186704, -1.2181931284705374, -1.1940288674224044, -1.1698646063742713, -1.1457003453261385, -1.1215360842780053, -1.0973718232298726, -1.0732075621817394, -1.0490433011336067, -1.0248790400854735, -1.0007147790373407, -0.9765505179892077, -0.9523862569410747, -0.9282219958929417, -0.9040577348448087, -0.8798934737966757, -0.8557292127485427, -0.8315649517004098, -0.8074006906522768, -0.7832364296041439, -0.7590721685560109, -0.7349079075078779, -0.710743646459745, -0.686579385411612, -0.662415124363479, -0.6382508633153461, -0.6140866022672131, -0.5899223412190802, -0.5657580801709472, -0.5415938191228142, -0.5174295580746813, -0.4932652970265482, -0.46910103597841535, -0.4449367749302824, -0.4207725138821494, -0.39660825283401646, -0.3724439917858835, -0.34827973073775054, -0.32411546968961735, -0.2999512086414844, -0.27578694759335143, -0.25162268654521847, -0.2274584254970855, -0.20329416444895254, -0.17912990340081958, -0.15496564235268662, -0.13080138130455365, -0.10663712025642069, -0.08247285920828773, -0.05830859816015477, -0.034144337112021805, -0.009980076063888843, 0.01418418498424412, 0.03834844603237708, 0.06251270708051004, 0.086676968128643, 0.11084122917677597, 0.13500549022490893, 0.1591697512730419, 0.18333401232117486, 0.20749827336930782, 0.23166253441744078, 0.25582679546557374, 0.2799910565137067, 0.30415531756183967, 0.32831957860997263, 0.3524838396581056, 0.37664810070623855, 0.4008123617543715, 0.4249766228025045, 0.44914088385063744, 0.4733051448987706, 0.4974694059469036, 0.5216336669950365, 0.5457979280431693, 0.5699621890913025, 0.5941264501394352, 0.6182907111875684, 0.6424549722357011, 0.6666192332838343, 0.6907834943319671, 0.7149477553801002, 0.739112016428233, 0.7632762774763662, 0.7874405385244989, 0.8116047995726321, 0.8357690606207653, 0.859933321668898, 0.8840975827170312, 0.9082618437651638], \"y\": [3.618981009929983, 3.598037970511429, 3.577094931092875, 3.556151891674321, 3.535208852255767, 3.5142658128372135, 3.4933227734186594, 3.4723797340001052, 3.4514366945815516, 3.430493655162998, 3.4095506157444437, 3.3886075763258896, 3.367664536907336, 3.346721497488782, 3.325778458070228, 3.304835418651674, 3.2838923792331203, 3.262949339814566, 3.2420063003960125, 3.2210632609774583, 3.2001202215589046, 3.1791771821403505, 3.1582341427217964, 3.1372911033032427, 3.1163480638846885, 3.095405024466135, 3.0744619850475807, 3.053518945629027, 3.032575906210473, 3.011632866791919, 2.990689827373365, 2.9697467879548114, 2.9488037485362573, 2.9278607091177036, 2.9069176696991494, 2.8859746302805958, 2.8650315908620416, 2.844088551443488, 2.823145512024934, 2.80220247260638, 2.781259433187826, 2.760316393769272, 2.739373354350718, 2.7184303149321645, 2.6974872755136103, 2.6765442360950567, 2.6556011966765025, 2.634658157257949, 2.6137151178393947, 2.5927720784208406, 2.571829039002287, 2.5508859995837327, 2.529942960165179, 2.508999920746625, 2.4880568813280712, 2.467113841909517, 2.4461708024909634, 2.4252277630724093, 2.4042847236538556, 2.3833416842353015, 2.3623986448167478, 2.3414556053981936, 2.32051256597964, 2.299569526561086, 2.278626487142532, 2.257683447723978, 2.2367404083054243, 2.21579736888687, 2.194854329468316, 2.1739112900497624, 2.1529682506312087, 2.1320252112126545, 2.1110821717941004, 2.0901391323755467, 2.069196092956993, 2.048253053538439, 2.0273100141198848, 2.006366974701331, 1.9854239352827772, 1.9644808958642233, 1.9435378564456693, 1.9225948170271152, 1.9016517776085613, 1.8807087381900074, 1.8597656987714537, 1.8388226593528996, 1.8178796199343457, 1.7969365805157917, 1.7759935410972378, 1.755050501678684, 1.73410746226013, 1.7131644228415759, 1.6922213834230222, 1.671278344004468, 1.6503353045859144, 1.6293922651673602, 1.6084492257488063, 1.5875061863302524, 1.5665631469116983, 1.5456201074931448]}, {\"marker\": {\"color\": \"blue\"}, \"mode\": \"lines\", \"name\": \"$\\\\Delta G_{\\\\text{1}} \\\\text{ (2e-)}$\", \"type\": \"scatter\", \"x\": [1.76, 1.7773131313131314, 1.7946262626262626, 1.811939393939394, 1.8292525252525254, 1.8465656565656565, 1.863878787878788, 1.8811919191919193, 1.8985050505050505, 1.9158181818181819, 1.9331313131313133, 1.9504444444444444, 1.9677575757575758, 1.9850707070707072, 2.0023838383838384, 2.0196969696969695, 2.037010101010101, 2.0543232323232323, 2.0716363636363635, 2.088949494949495, 2.1062626262626263, 2.1235757575757575, 2.140888888888889, 2.1582020202020202, 2.1755151515151514, 2.192828282828283, 2.210141414141414, 2.2274545454545454, 2.244767676767677, 2.262080808080808, 2.2793939393939393, 2.296707070707071, 2.314020202020202, 2.3313333333333333, 2.348646464646465, 2.365959595959596, 2.383272727272727, 2.400585858585859, 2.41789898989899, 2.435212121212121, 2.4525252525252528, 2.469838383838384, 2.487151515151515, 2.5044646464646467, 2.521777777777778, 2.539090909090909, 2.5564040404040407, 2.573717171717172, 2.591030303030303, 2.6083434343434346, 2.625656565656566, 2.642969696969697, 2.6602828282828286, 2.6775959595959598, 2.694909090909091, 2.7122222222222225, 2.7295353535353537, 2.746848484848485, 2.7641616161616165, 2.7814747474747477, 2.798787878787879, 2.8161010101010104, 2.8334141414141416, 2.8507272727272728, 2.8680404040404044, 2.8853535353535356, 2.9026666666666667, 2.9199797979797983, 2.9372929292929295, 2.9546060606060607, 2.9719191919191923, 2.9892323232323235, 3.0065454545454546, 3.0238585858585862, 3.0411717171717174, 3.0584848484848486, 3.07579797979798, 3.0931111111111114, 3.1104242424242425, 3.127737373737374, 3.145050505050505, 3.1623636363636365, 3.179676767676768, 3.196989898989899, 3.2143030303030304, 3.231616161616162, 3.248929292929293, 3.2662424242424244, 3.283555555555556, 3.3008686868686867, 3.3181818181818183, 3.33549494949495, 3.3528080808080807, 3.3701212121212123, 3.387434343434344, 3.4047474747474746, 3.4220606060606062, 3.439373737373738, 3.4566868686868686, 3.474], \"y\": [1.7600000000000002, 1.7773131313131318, 1.794626262626263, 1.8119393939393942, 1.8292525252525258, 1.846565656565657, 1.8638787878787881, 1.8811919191919197, 1.898505050505051, 1.915818181818182, 1.9331313131313137, 1.9504444444444449, 1.967757575757576, 1.9850707070707077, 2.002383838383839, 2.01969696969697, 2.0370101010101016, 2.0543232323232328, 2.071636363636364, 2.0889494949494956, 2.1062626262626267, 2.123575757575758, 2.1408888888888895, 2.1582020202020207, 2.175515151515152, 2.1928282828282835, 2.2101414141414146, 2.227454545454546, 2.2447676767676774, 2.2620808080808086, 2.2793939393939397, 2.2967070707070714, 2.3140202020202025, 2.3313333333333337, 2.3486464646464653, 2.3659595959595965, 2.3832727272727277, 2.4005858585858593, 2.4178989898989904, 2.4352121212121216, 2.452525252525253, 2.4698383838383844, 2.4871515151515156, 2.504464646464647, 2.5217777777777783, 2.5390909090909095, 2.556404040404041, 2.5737171717171723, 2.5910303030303035, 2.608343434343435, 2.6256565656565662, 2.6429696969696974, 2.660282828282829, 2.67759595959596, 2.6949090909090914, 2.712222222222223, 2.729535353535354, 2.7468484848484853, 2.764161616161617, 2.781474747474748, 2.7987878787878793, 2.816101010101011, 2.833414141414142, 2.850727272727273, 2.868040404040405, 2.885353535353536, 2.902666666666667, 2.919979797979799, 2.93729292929293, 2.954606060606061, 2.9719191919191927, 2.989232323232324, 3.0065454545454555, 3.023858585858587, 3.0411717171717183, 3.0584848484848495, 3.075797979797981, 3.0931111111111123, 3.1104242424242434, 3.127737373737375, 3.1450505050505058, 3.1623636363636374, 3.179676767676769, 3.1969898989898997, 3.2143030303030313, 3.231616161616163, 3.2489292929292937, 3.2662424242424253, 3.283555555555557, 3.3008686868686876, 3.3181818181818192, 3.335494949494951, 3.3528080808080816, 3.370121212121213, 3.387434343434345, 3.4047474747474755, 3.422060606060607, 3.4393737373737387, 3.4566868686868695, 3.474000000000001]}, {\"marker\": {\"color\": \"black\"}, \"mode\": \"lines\", \"name\": \"$\\\\Delta G_{\\\\text{2}} \\\\text{ (2e-)}$\", \"type\": \"scatter\", \"x\": [-1.484, -1.4512323232323232, -1.4184646464646464, -1.3856969696969696, -1.3529292929292929, -1.320161616161616, -1.2873939393939393, -1.2546262626262625, -1.2218585858585858, -1.189090909090909, -1.1563232323232322, -1.1235555555555556, -1.0907878787878789, -1.058020202020202, -1.0252525252525253, -0.9924848484848485, -0.9597171717171717, -0.926949494949495, -0.8941818181818182, -0.8614141414141414, -0.8286464646464646, -0.795878787878788, -0.7631111111111112, -0.7303434343434344, -0.6975757575757576, -0.6648080808080808, -0.6320404040404041, -0.5992727272727273, -0.5665050505050506, -0.5337373737373738, -0.5009696969696971, -0.4682020202020203, -0.4354343434343435, -0.40266666666666673, -0.36989898989898995, -0.33713131313131317, -0.3043636363636364, -0.2715959595959596, -0.23882828282828283, -0.20606060606060606, -0.17329292929292928, -0.14052525252525272, -0.10775757575757594, -0.07498989898989916, -0.04222222222222238, -0.009454545454545604, 0.023313131313131175, 0.05608080808080795, 0.08884848484848473, 0.12161616161616151, 0.1543838383838383, 0.18715151515151507, 0.21991919191919185, 0.2526868686868686, 0.2854545454545454, 0.3182222222222222, 0.35098989898989874, 0.3837575757575755, 0.4165252525252523, 0.4492929292929291, 0.48206060606060586, 0.5148282828282826, 0.5475959595959594, 0.5803636363636362, 0.613131313131313, 0.6458989898989898, 0.6786666666666665, 0.7114343434343433, 0.7442020202020201, 0.7769696969696969, 0.8097373737373736, 0.8425050505050504, 0.8752727272727272, 0.908040404040404, 0.9408080808080808, 0.9735757575757575, 1.0063434343434343, 1.039111111111111, 1.0718787878787879, 1.1046464646464647, 1.1374141414141414, 1.1701818181818178, 1.2029494949494945, 1.2357171717171713, 1.268484848484848, 1.3012525252525249, 1.3340202020202017, 1.3667878787878784, 1.3995555555555552, 1.432323232323232, 1.4650909090909088, 1.4978585858585856, 1.5306262626262623, 1.5633939393939391, 1.596161616161616, 1.6289292929292927, 1.6616969696969695, 1.6944646464646462, 1.727232323232323, 1.76], \"y\": [5.004, 4.971232323232323, 4.938464646464646, 4.90569696969697, 4.8729292929292924, 4.840161616161616, 4.807393939393939, 4.7746262626262626, 4.741858585858585, 4.709090909090909, 4.676323232323232, 4.643555555555555, 4.610787878787878, 4.578020202020202, 4.5452525252525255, 4.512484848484848, 4.479717171717171, 4.446949494949495, 4.414181818181818, 4.381414141414141, 4.348646464646464, 4.315878787878788, 4.283111111111111, 4.250343434343434, 4.217575757575757, 4.1848080808080805, 4.152040404040404, 4.119272727272727, 4.086505050505051, 4.053737373737373, 4.020969696969697, 3.98820202020202, 3.955434343434343, 3.9226666666666663, 3.8898989898989895, 3.8571313131313127, 3.824363636363636, 3.791595959595959, 3.7588282828282824, 3.7260606060606056, 3.693292929292929, 3.6605252525252525, 3.6277575757575757, 3.594989898989899, 3.562222222222222, 3.5294545454545454, 3.496686868686868, 3.4639191919191914, 3.4311515151515146, 3.398383838383838, 3.365616161616161, 3.3328484848484843, 3.3000808080808075, 3.2673131313131307, 3.234545454545454, 3.201777777777777, 3.169010101010101, 3.136242424242424, 3.1034747474747473, 3.0707070707070705, 3.0379393939393937, 3.005171717171717, 2.97240404040404, 2.9396363636363634, 2.9068686868686866, 2.87410101010101, 2.841333333333333, 2.8085656565656563, 2.7757979797979795, 2.7430303030303023, 2.710262626262626, 2.6774949494949487, 2.6447272727272724, 2.611959595959595, 2.579191919191919, 2.5464242424242416, 2.5136565656565653, 2.480888888888888, 2.4481212121212117, 2.4153535353535345, 2.382585858585858, 2.349818181818182, 2.3170505050505046, 2.2842828282828282, 2.251515151515151, 2.2187474747474747, 2.1859797979797975, 2.153212121212121, 2.120444444444444, 2.0876767676767676, 2.0549090909090904, 2.022141414141414, 1.9893737373737368, 1.95660606060606, 1.9238383838383832, 1.8910707070707065, 1.8583030303030297, 1.825535353535353, 1.7927676767676761, 1.7599999999999991]}],                        {\"height\": 600, \"showlegend\": true, \"template\": {\"data\": {\"bar\": [{\"error_x\": {\"color\": \"#2a3f5f\"}, \"error_y\": {\"color\": \"#2a3f5f\"}, \"marker\": {\"line\": {\"color\": \"#E5ECF6\", \"width\": 0.5}}, \"type\": \"bar\"}], \"barpolar\": [{\"marker\": {\"line\": {\"color\": \"#E5ECF6\", \"width\": 0.5}}, \"type\": \"barpolar\"}], \"carpet\": [{\"aaxis\": {\"endlinecolor\": \"#2a3f5f\", \"gridcolor\": \"white\", \"linecolor\": \"white\", \"minorgridcolor\": \"white\", \"startlinecolor\": \"#2a3f5f\"}, \"baxis\": {\"endlinecolor\": \"#2a3f5f\", \"gridcolor\": \"white\", \"linecolor\": \"white\", \"minorgridcolor\": \"white\", \"startlinecolor\": \"#2a3f5f\"}, \"type\": \"carpet\"}], \"choropleth\": [{\"colorbar\": {\"outlinewidth\": 0, \"ticks\": \"\"}, \"type\": \"choropleth\"}], \"contour\": [{\"colorbar\": {\"outlinewidth\": 0, \"ticks\": \"\"}, \"colorscale\": [[0.0, \"#0d0887\"], [0.1111111111111111, \"#46039f\"], [0.2222222222222222, \"#7201a8\"], [0.3333333333333333, \"#9c179e\"], [0.4444444444444444, \"#bd3786\"], [0.5555555555555556, \"#d8576b\"], [0.6666666666666666, \"#ed7953\"], [0.7777777777777778, \"#fb9f3a\"], [0.8888888888888888, \"#fdca26\"], [1.0, \"#f0f921\"]], \"type\": \"contour\"}], \"contourcarpet\": [{\"colorbar\": {\"outlinewidth\": 0, \"ticks\": \"\"}, \"type\": \"contourcarpet\"}], \"heatmap\": [{\"colorbar\": {\"outlinewidth\": 0, \"ticks\": \"\"}, \"colorscale\": [[0.0, \"#0d0887\"], [0.1111111111111111, \"#46039f\"], [0.2222222222222222, \"#7201a8\"], [0.3333333333333333, \"#9c179e\"], [0.4444444444444444, \"#bd3786\"], [0.5555555555555556, \"#d8576b\"], [0.6666666666666666, \"#ed7953\"], [0.7777777777777778, \"#fb9f3a\"], [0.8888888888888888, \"#fdca26\"], [1.0, \"#f0f921\"]], \"type\": \"heatmap\"}], \"heatmapgl\": [{\"colorbar\": {\"outlinewidth\": 0, \"ticks\": \"\"}, \"colorscale\": [[0.0, \"#0d0887\"], [0.1111111111111111, \"#46039f\"], [0.2222222222222222, \"#7201a8\"], [0.3333333333333333, \"#9c179e\"], [0.4444444444444444, \"#bd3786\"], [0.5555555555555556, \"#d8576b\"], [0.6666666666666666, \"#ed7953\"], [0.7777777777777778, \"#fb9f3a\"], [0.8888888888888888, \"#fdca26\"], [1.0, \"#f0f921\"]], \"type\": \"heatmapgl\"}], \"histogram\": [{\"marker\": {\"colorbar\": {\"outlinewidth\": 0, \"ticks\": \"\"}}, \"type\": \"histogram\"}], \"histogram2d\": [{\"colorbar\": {\"outlinewidth\": 0, \"ticks\": \"\"}, \"colorscale\": [[0.0, \"#0d0887\"], [0.1111111111111111, \"#46039f\"], [0.2222222222222222, \"#7201a8\"], [0.3333333333333333, \"#9c179e\"], [0.4444444444444444, \"#bd3786\"], [0.5555555555555556, \"#d8576b\"], [0.6666666666666666, \"#ed7953\"], [0.7777777777777778, \"#fb9f3a\"], [0.8888888888888888, \"#fdca26\"], [1.0, \"#f0f921\"]], \"type\": \"histogram2d\"}], \"histogram2dcontour\": [{\"colorbar\": {\"outlinewidth\": 0, \"ticks\": \"\"}, \"colorscale\": [[0.0, \"#0d0887\"], [0.1111111111111111, \"#46039f\"], [0.2222222222222222, \"#7201a8\"], [0.3333333333333333, \"#9c179e\"], [0.4444444444444444, \"#bd3786\"], [0.5555555555555556, \"#d8576b\"], [0.6666666666666666, \"#ed7953\"], [0.7777777777777778, \"#fb9f3a\"], [0.8888888888888888, \"#fdca26\"], [1.0, \"#f0f921\"]], \"type\": \"histogram2dcontour\"}], \"mesh3d\": [{\"colorbar\": {\"outlinewidth\": 0, \"ticks\": \"\"}, \"type\": \"mesh3d\"}], \"parcoords\": [{\"line\": {\"colorbar\": {\"outlinewidth\": 0, \"ticks\": \"\"}}, \"type\": \"parcoords\"}], \"pie\": [{\"automargin\": true, \"type\": \"pie\"}], \"scatter\": [{\"marker\": {\"colorbar\": {\"outlinewidth\": 0, \"ticks\": \"\"}}, \"type\": \"scatter\"}], \"scatter3d\": [{\"line\": {\"colorbar\": {\"outlinewidth\": 0, \"ticks\": \"\"}}, \"marker\": {\"colorbar\": {\"outlinewidth\": 0, \"ticks\": \"\"}}, \"type\": \"scatter3d\"}], \"scattercarpet\": [{\"marker\": {\"colorbar\": {\"outlinewidth\": 0, \"ticks\": \"\"}}, \"type\": \"scattercarpet\"}], \"scattergeo\": [{\"marker\": {\"colorbar\": {\"outlinewidth\": 0, \"ticks\": \"\"}}, \"type\": \"scattergeo\"}], \"scattergl\": [{\"marker\": {\"colorbar\": {\"outlinewidth\": 0, \"ticks\": \"\"}}, \"type\": \"scattergl\"}], \"scattermapbox\": [{\"marker\": {\"colorbar\": {\"outlinewidth\": 0, \"ticks\": \"\"}}, \"type\": \"scattermapbox\"}], \"scatterpolar\": [{\"marker\": {\"colorbar\": {\"outlinewidth\": 0, \"ticks\": \"\"}}, \"type\": \"scatterpolar\"}], \"scatterpolargl\": [{\"marker\": {\"colorbar\": {\"outlinewidth\": 0, \"ticks\": \"\"}}, \"type\": \"scatterpolargl\"}], \"scatterternary\": [{\"marker\": {\"colorbar\": {\"outlinewidth\": 0, \"ticks\": \"\"}}, \"type\": \"scatterternary\"}], \"surface\": [{\"colorbar\": {\"outlinewidth\": 0, \"ticks\": \"\"}, \"colorscale\": [[0.0, \"#0d0887\"], [0.1111111111111111, \"#46039f\"], [0.2222222222222222, \"#7201a8\"], [0.3333333333333333, \"#9c179e\"], [0.4444444444444444, \"#bd3786\"], [0.5555555555555556, \"#d8576b\"], [0.6666666666666666, \"#ed7953\"], [0.7777777777777778, \"#fb9f3a\"], [0.8888888888888888, \"#fdca26\"], [1.0, \"#f0f921\"]], \"type\": \"surface\"}], \"table\": [{\"cells\": {\"fill\": {\"color\": \"#EBF0F8\"}, \"line\": {\"color\": \"white\"}}, \"header\": {\"fill\": {\"color\": \"#C8D4E3\"}, \"line\": {\"color\": \"white\"}}, \"type\": \"table\"}]}, \"layout\": {\"annotationdefaults\": {\"arrowcolor\": \"#2a3f5f\", \"arrowhead\": 0, \"arrowwidth\": 1}, \"coloraxis\": {\"colorbar\": {\"outlinewidth\": 0, \"ticks\": \"\"}}, \"colorscale\": {\"diverging\": [[0, \"#8e0152\"], [0.1, \"#c51b7d\"], [0.2, \"#de77ae\"], [0.3, \"#f1b6da\"], [0.4, \"#fde0ef\"], [0.5, \"#f7f7f7\"], [0.6, \"#e6f5d0\"], [0.7, \"#b8e186\"], [0.8, \"#7fbc41\"], [0.9, \"#4d9221\"], [1, \"#276419\"]], \"sequential\": [[0.0, \"#0d0887\"], [0.1111111111111111, \"#46039f\"], [0.2222222222222222, \"#7201a8\"], [0.3333333333333333, \"#9c179e\"], [0.4444444444444444, \"#bd3786\"], [0.5555555555555556, \"#d8576b\"], [0.6666666666666666, \"#ed7953\"], [0.7777777777777778, \"#fb9f3a\"], [0.8888888888888888, \"#fdca26\"], [1.0, \"#f0f921\"]], \"sequentialminus\": [[0.0, \"#0d0887\"], [0.1111111111111111, \"#46039f\"], [0.2222222222222222, \"#7201a8\"], [0.3333333333333333, \"#9c179e\"], [0.4444444444444444, \"#bd3786\"], [0.5555555555555556, \"#d8576b\"], [0.6666666666666666, \"#ed7953\"], [0.7777777777777778, \"#fb9f3a\"], [0.8888888888888888, \"#fdca26\"], [1.0, \"#f0f921\"]]}, \"colorway\": [\"#636efa\", \"#EF553B\", \"#00cc96\", \"#ab63fa\", \"#FFA15A\", \"#19d3f3\", \"#FF6692\", \"#B6E880\", \"#FF97FF\", \"#FECB52\"], \"font\": {\"color\": \"#2a3f5f\"}, \"geo\": {\"bgcolor\": \"white\", \"lakecolor\": \"white\", \"landcolor\": \"#E5ECF6\", \"showlakes\": true, \"showland\": true, \"subunitcolor\": \"white\"}, \"hoverlabel\": {\"align\": \"left\"}, \"hovermode\": \"closest\", \"mapbox\": {\"style\": \"light\"}, \"paper_bgcolor\": \"white\", \"plot_bgcolor\": \"#E5ECF6\", \"polar\": {\"angularaxis\": {\"gridcolor\": \"white\", \"linecolor\": \"white\", \"ticks\": \"\"}, \"bgcolor\": \"#E5ECF6\", \"radialaxis\": {\"gridcolor\": \"white\", \"linecolor\": \"white\", \"ticks\": \"\"}}, \"scene\": {\"xaxis\": {\"backgroundcolor\": \"#E5ECF6\", \"gridcolor\": \"white\", \"gridwidth\": 2, \"linecolor\": \"white\", \"showbackground\": true, \"ticks\": \"\", \"zerolinecolor\": \"white\"}, \"yaxis\": {\"backgroundcolor\": \"#E5ECF6\", \"gridcolor\": \"white\", \"gridwidth\": 2, \"linecolor\": \"white\", \"showbackground\": true, \"ticks\": \"\", \"zerolinecolor\": \"white\"}, \"zaxis\": {\"backgroundcolor\": \"#E5ECF6\", \"gridcolor\": \"white\", \"gridwidth\": 2, \"linecolor\": \"white\", \"showbackground\": true, \"ticks\": \"\", \"zerolinecolor\": \"white\"}}, \"shapedefaults\": {\"line\": {\"color\": \"#2a3f5f\"}}, \"ternary\": {\"aaxis\": {\"gridcolor\": \"white\", \"linecolor\": \"white\", \"ticks\": \"\"}, \"baxis\": {\"gridcolor\": \"white\", \"linecolor\": \"white\", \"ticks\": \"\"}, \"bgcolor\": \"#E5ECF6\", \"caxis\": {\"gridcolor\": \"white\", \"linecolor\": \"white\", \"ticks\": \"\"}}, \"title\": {\"x\": 0.05}, \"xaxis\": {\"automargin\": true, \"gridcolor\": \"white\", \"linecolor\": \"white\", \"ticks\": \"\", \"title\": {\"standoff\": 15}, \"zerolinecolor\": \"white\", \"zerolinewidth\": 2}, \"yaxis\": {\"automargin\": true, \"gridcolor\": \"white\", \"linecolor\": \"white\", \"ticks\": \"\", \"title\": {\"standoff\": 15}, \"zerolinecolor\": \"white\", \"zerolinewidth\": 2}}}, \"title\": {\"font\": {\"size\": 25}}, \"width\": 600, \"xaxis\": {\"gridwidth\": 1, \"tickfont\": {\"size\": 18}, \"title\": {\"font\": {\"size\": 30}, \"text\": \"$\\\\Delta G_{\\\\text{OH}} \\\\text{ (eV)}$\"}, \"zeroline\": false}, \"yaxis\": {\"gridwidth\": 1, \"tickfont\": {\"size\": 18}, \"title\": {\"font\": {\"size\": 30}, \"text\": \"$ U_{\\\\text{L}} \\\\text{ (V)}$\"}, \"zeroline\": false}},                        {\"responsive\": true}                    ).then(function(){\n",
       "                            \n",
       "var gd = document.getElementById('8488b71a-7bef-49d0-9fc5-25cc136ddbfe');\n",
       "var x = new MutationObserver(function (mutations, observer) {{\n",
       "        var display = window.getComputedStyle(gd).display;\n",
       "        if (!display || display === 'none') {{\n",
       "            console.log([gd, 'removed!']);\n",
       "            Plotly.purge(gd);\n",
       "            observer.disconnect();\n",
       "        }}\n",
       "}});\n",
       "\n",
       "// Listen for the removal of the full notebook cells\n",
       "var notebookContainer = gd.closest('#notebook-container');\n",
       "if (notebookContainer) {{\n",
       "    x.observe(notebookContainer, {childList: true});\n",
       "}}\n",
       "\n",
       "// Listen for the clearing of the current output cell\n",
       "var outputEl = gd.closest('.output');\n",
       "if (outputEl) {{\n",
       "    x.observe(outputEl, {childList: true});\n",
       "}}\n",
       "\n",
       "                        })                };                });            </script>        </div>"
      ]
     },
     "metadata": {},
     "output_type": "display_data"
    }
   ],
   "source": [
    "# Activity plot (combined)- based on 2e-\n",
    "\n",
    "# linear regression for 4e- WOR\n",
    "model_DG2 = LinearRegression()\n",
    "X = df_cleaned.DG_OH.values.reshape(-1,1)\n",
    "model_DG2.fit(X, df_cleaned.DG2)\n",
    "\n",
    "x_range = np.linspace(X.min(), X.max(), 100)\n",
    "y1_range = model_DG2.predict(x_range.reshape(-1,1))\n",
    "(coef_DG2, intercept_DG2) = (model_DG2.coef_, model_DG2.intercept_)\n",
    "\n",
    "model_DG3 = LinearRegression()\n",
    "model_DG3.fit(X, df_cleaned.DG3)\n",
    "\n",
    "x_range = np.linspace(X.min(), X.max(), 100)\n",
    "y2_range = model_DG3.predict(x_range.reshape(-1,1))\n",
    "(coef_DG3, intercept_DG3) = (model_DG3.coef_, model_DG3.intercept_)\n",
    "\n",
    "# get volcano peak\n",
    "x_peak = - (intercept_DG2 - intercept_DG3) / (coef_DG2 - coef_DG3)\n",
    "y_peak = model_DG2.predict(x_peak.reshape(-1,1))\n",
    "\n",
    "\n",
    "# revise x,y range for each region\n",
    "x1_range = np.linspace(x_peak[0], X.max(), 100)\n",
    "x2_range = np.linspace(X.min(), x_peak[0], 100)\n",
    "\n",
    "y1_range = model_DG2.predict(x1_range.reshape(-1,1))\n",
    "y2_range = model_DG3.predict(x2_range.reshape(-1,1))\n",
    "\n",
    "\n",
    "\n",
    "# linear regression for 2e- WOR\n",
    "model_DG1_2e = LinearRegression()\n",
    "# X = df_cleaned.DG_OH.values.reshape(-1,1)\n",
    "model_DG1_2e.fit(X, df_cleaned.DG1_2e)\n",
    "\n",
    "x3_range = np.linspace(1.76, X.max(), 100)\n",
    "y3_range = model_DG1_2e.predict(x3_range.reshape(-1,1))\n",
    "(coef_DG1_2e, intercept_DG1_2e) = (model_DG1_2e.coef_, model_DG1_2e.intercept_)\n",
    "\n",
    "\n",
    "model_DG2_2e = LinearRegression()\n",
    "model_DG2_2e.fit(X, df_cleaned.DG2_2e)\n",
    "\n",
    "x4_range = np.linspace(X.min(), 1.76, 100)\n",
    "y4_range = model_DG2_2e.predict(x4_range.reshape(-1,1))\n",
    "(coef_DG2_2e, intercept_DG2_2e) = (model_DG2_2e.coef_, model_DG2_2e.intercept_)\n",
    "print(coef_DG1_2e, intercept_DG1_2e, coef_DG2_2e, intercept_DG2_2e)\n",
    "\n",
    "\n",
    "# get plot\n",
    "layout = go.Layout(height = 600, width = 600, # title = 'activity plot',\n",
    "                   titlefont = dict(size = 25),\n",
    "                   showlegend = True,\n",
    "              #     plot_bgcolor = 'yellow'\n",
    "              #     hovermode = 'closest'\n",
    "                   )\n",
    "\n",
    "trace_2e = go.Scatter(x = df_cleaned['DG_OH'], y = df_cleaned['UL_2e'], name = '2e-', text= df_cleaned['formula'],\n",
    "                   textposition = 'top left', \n",
    "                    mode = 'markers', marker = dict(size = 15, symbol = 0), marker_color = df_cleaned['Ehull'],) \n",
    "\n",
    "trace_4e = go.Scatter(x = df_cleaned['DG_OH'], y = df_cleaned['UL_4e'], name = '4e-', text= df_cleaned['formula'],\n",
    "                   textposition = 'top left',\n",
    "                    mode = 'markers', marker = dict(size = 15, symbol = 0), marker_color = df_cleaned['Ehull'],)\n",
    "\n",
    "trace1 = go.Scatter(x=x1_range, y= y1_range, name = r'$\\Delta G_{\\text{2}} \\text{ (4e-)}$',\n",
    "                    mode = 'lines', marker=dict(color = 'green'))\n",
    "\n",
    "trace2 = go.Scatter(x=x2_range, y= y2_range, name = r'$\\Delta G_{\\text{3}} \\text{ (4e-)}$',\n",
    "                    mode = 'lines', marker=dict(color = 'red'))\n",
    "\n",
    "trace3 = go.Scatter(x=x3_range, y= y3_range, name = r'$\\Delta G_{\\text{1}} \\text{ (2e-)}$',\n",
    "                    mode = 'lines', marker=dict(color = 'blue'))\n",
    "\n",
    "trace4 = go.Scatter(x=x4_range, y= y4_range, name = r'$\\Delta G_{\\text{2}} \\text{ (2e-)}$',\n",
    "                    mode = 'lines', marker=dict(color = 'black'))\n",
    "\n",
    "data = [trace_2e, trace1, trace2, trace3, trace4] # trace_4e\n",
    "\n",
    "fig = go.Figure(data = data, layout = layout)\n",
    "fig.update_xaxes(title_text = r'$\\Delta G_{\\text{OH}} \\text{ (eV)}$', \n",
    "                                       titlefont = dict(size = 30),\n",
    "                 tickfont = dict(size=18),\n",
    "                   zeroline = False,\n",
    "                   gridwidth = 1)\n",
    "fig.update_yaxes(title_text =  r'$ U_{\\text{L}} \\text{ (V)}$', titlefont = dict(size = 30),\n",
    "                 tickfont = dict(size=18),\n",
    "                   zeroline = False,\n",
    "                   gridwidth = 1)\n",
    "\n",
    "# plot(fig, filename = 'plots/activity_plot_combined_v2.html', include_mathjax='cdn')\n",
    "fig.show()\n",
    "# py.iplot(fig)"
   ]
  },
  {
   "cell_type": "markdown",
   "metadata": {},
   "source": [
    "<div>\n",
    "    <a href=\"https://plotly.com/~gwanyeong/56/?share_key=8KdNpTYBAzqzycaNgFjEwJ\" target=\"_blank\" title=\"activity_plot_201020\" style=\"display: block; text-align: center;\"><img src=\"https://plotly.com/~gwanyeong/56.png?share_key=8KdNpTYBAzqzycaNgFjEwJ\" alt=\"activity_plot_201020\" style=\"max-width: 100%;width: 600px;\"  width=\"600\" onerror=\"this.onerror=null;this.src='https://plotly.com/404.png';\" /></a>\n",
    "    <script data-plotly=\"gwanyeong:56\" sharekey-plotly=\"8KdNpTYBAzqzycaNgFjEwJ\" src=\"https://plotly.com/embed.js\" async></script>\n",
    "</div>\n"
   ]
  },
  {
   "cell_type": "code",
   "execution_count": null,
   "metadata": {},
   "outputs": [],
   "source": []
  }
 ],
 "metadata": {
  "kernelspec": {
   "display_name": "Python 3",
   "language": "python",
   "name": "python3"
  },
  "language_info": {
   "codemirror_mode": {
    "name": "ipython",
    "version": 3
   },
   "file_extension": ".py",
   "mimetype": "text/x-python",
   "name": "python",
   "nbconvert_exporter": "python",
   "pygments_lexer": "ipython3",
   "version": "3.7.9"
  }
 },
 "nbformat": 4,
 "nbformat_minor": 4
}
