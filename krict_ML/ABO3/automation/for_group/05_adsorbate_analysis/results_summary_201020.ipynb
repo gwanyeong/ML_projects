{
 "cells": [
  {
   "cell_type": "code",
   "execution_count": 57,
   "metadata": {},
   "outputs": [],
   "source": [
    "import pickle5\n",
    "import pandas as pd\n",
    "import numpy as np\n",
    "\n",
    "from itertools import repeat\n",
    "\n",
    "import plotly.offline as pyo\n",
    "import plotly.graph_objs as go\n",
    "from plotly.subplots import make_subplots\n",
    "import chart_studio.plotly as py\n",
    "\n",
    "import plotly.express as px\n",
    "\n",
    "from plotly.offline import init_notebook_mode, plot_mpl\n",
    "import matplotlib.pyplot as plt\n",
    "\n",
    "from sklearn.linear_model import LinearRegression\n"
   ]
  },
  {
   "cell_type": "code",
   "execution_count": 58,
   "metadata": {},
   "outputs": [
    {
     "data": {
      "text/html": [
       "<div>\n",
       "<style scoped>\n",
       "    .dataframe tbody tr th:only-of-type {\n",
       "        vertical-align: middle;\n",
       "    }\n",
       "\n",
       "    .dataframe tbody tr th {\n",
       "        vertical-align: top;\n",
       "    }\n",
       "\n",
       "    .dataframe thead th {\n",
       "        text-align: right;\n",
       "    }\n",
       "</style>\n",
       "<table border=\"1\" class=\"dataframe\">\n",
       "  <thead>\n",
       "    <tr style=\"text-align: right;\">\n",
       "      <th></th>\n",
       "      <th>formula</th>\n",
       "      <th>convg_bare</th>\n",
       "      <th>tot_E_bare</th>\n",
       "      <th>DE_bare</th>\n",
       "      <th>DG_bare</th>\n",
       "      <th>bare_mag</th>\n",
       "      <th>nsteps_bare</th>\n",
       "      <th>struc_bare</th>\n",
       "      <th>time_bare</th>\n",
       "      <th>convg_OOH</th>\n",
       "      <th>...</th>\n",
       "      <th>time_O</th>\n",
       "      <th>convg_OH</th>\n",
       "      <th>tot_E_OH</th>\n",
       "      <th>DE_OH</th>\n",
       "      <th>DG_OH</th>\n",
       "      <th>OH_mag</th>\n",
       "      <th>OH_dmag</th>\n",
       "      <th>nsteps_OH</th>\n",
       "      <th>struc_OH</th>\n",
       "      <th>time_OH</th>\n",
       "    </tr>\n",
       "  </thead>\n",
       "  <tbody>\n",
       "    <tr>\n",
       "      <th>1</th>\n",
       "      <td>SrTcO3</td>\n",
       "      <td>True</td>\n",
       "      <td>-386.83</td>\n",
       "      <td>0</td>\n",
       "      <td>0</td>\n",
       "      <td>13.642</td>\n",
       "      <td>1</td>\n",
       "      <td>[[0.         1.98022307 0.        ] O, [1.9802...</td>\n",
       "      <td>NaN</td>\n",
       "      <td>True</td>\n",
       "      <td>...</td>\n",
       "      <td>NaN</td>\n",
       "      <td>True</td>\n",
       "      <td>-398.741</td>\n",
       "      <td>-1.077</td>\n",
       "      <td>-0.782</td>\n",
       "      <td>10.772</td>\n",
       "      <td>-2.871</td>\n",
       "      <td>104</td>\n",
       "      <td>[[ 1.08924803  2.12199985 10.29190122] H, [0. ...</td>\n",
       "      <td>NaN</td>\n",
       "    </tr>\n",
       "    <tr>\n",
       "      <th>2</th>\n",
       "      <td>BaFeO3</td>\n",
       "      <td>True</td>\n",
       "      <td>-316.788</td>\n",
       "      <td>0</td>\n",
       "      <td>0</td>\n",
       "      <td>59.992</td>\n",
       "      <td>1</td>\n",
       "      <td>[[2.0165225 2.0165225 2.0165225] Ba, [2.016522...</td>\n",
       "      <td>NaN</td>\n",
       "      <td>True</td>\n",
       "      <td>...</td>\n",
       "      <td>NaN</td>\n",
       "      <td>True</td>\n",
       "      <td>-325.893</td>\n",
       "      <td>1.729</td>\n",
       "      <td>2.024</td>\n",
       "      <td>58.79</td>\n",
       "      <td>-1.202</td>\n",
       "      <td>135</td>\n",
       "      <td>[[2.0165225 2.0165225 2.0165225] Ba, [1.998014...</td>\n",
       "      <td>NaN</td>\n",
       "    </tr>\n",
       "    <tr>\n",
       "      <th>3</th>\n",
       "      <td>BaMoO3</td>\n",
       "      <td>True</td>\n",
       "      <td>-359.32</td>\n",
       "      <td>0</td>\n",
       "      <td>0</td>\n",
       "      <td>24</td>\n",
       "      <td>1</td>\n",
       "      <td>[[2.06811213 2.06811213 2.06811213] Ba, [2.068...</td>\n",
       "      <td>NaN</td>\n",
       "      <td>True</td>\n",
       "      <td>...</td>\n",
       "      <td>NaN</td>\n",
       "      <td>True</td>\n",
       "      <td>-370.751</td>\n",
       "      <td>-0.597</td>\n",
       "      <td>-0.302</td>\n",
       "      <td>23</td>\n",
       "      <td>-1</td>\n",
       "      <td>74</td>\n",
       "      <td>[[2.06811213 2.06811213 2.06811213] Ba, [2.090...</td>\n",
       "      <td>NaN</td>\n",
       "    </tr>\n",
       "    <tr>\n",
       "      <th>4</th>\n",
       "      <td>KTaO3</td>\n",
       "      <td>True</td>\n",
       "      <td>-438.376</td>\n",
       "      <td>0</td>\n",
       "      <td>0</td>\n",
       "      <td>0</td>\n",
       "      <td>1</td>\n",
       "      <td>[[2.01423343 2.01423343 2.01423343] K, [2.0142...</td>\n",
       "      <td>NaN</td>\n",
       "      <td>True</td>\n",
       "      <td>...</td>\n",
       "      <td>NaN</td>\n",
       "      <td>True</td>\n",
       "      <td>-450.506</td>\n",
       "      <td>-1.296</td>\n",
       "      <td>-1.001</td>\n",
       "      <td>0.991</td>\n",
       "      <td>0.991</td>\n",
       "      <td>67</td>\n",
       "      <td>[[ 7.21096101  0.38768809 10.5776824 ] H, [2.0...</td>\n",
       "      <td>NaN</td>\n",
       "    </tr>\n",
       "    <tr>\n",
       "      <th>5</th>\n",
       "      <td>BaZrO3</td>\n",
       "      <td>True</td>\n",
       "      <td>-438.828</td>\n",
       "      <td>0</td>\n",
       "      <td>0</td>\n",
       "      <td>0</td>\n",
       "      <td>1</td>\n",
       "      <td>[[0.         0.         2.11804015] Ba, [8.472...</td>\n",
       "      <td>NaN</td>\n",
       "      <td>True</td>\n",
       "      <td>...</td>\n",
       "      <td>NaN</td>\n",
       "      <td>True</td>\n",
       "      <td>-448.668</td>\n",
       "      <td>0.995</td>\n",
       "      <td>1.29</td>\n",
       "      <td>0.216</td>\n",
       "      <td>0.216</td>\n",
       "      <td>112</td>\n",
       "      <td>[[0.         0.         2.11804015] Ba, [0.064...</td>\n",
       "      <td>NaN</td>\n",
       "    </tr>\n",
       "    <tr>\n",
       "      <th>...</th>\n",
       "      <td>...</td>\n",
       "      <td>...</td>\n",
       "      <td>...</td>\n",
       "      <td>...</td>\n",
       "      <td>...</td>\n",
       "      <td>...</td>\n",
       "      <td>...</td>\n",
       "      <td>...</td>\n",
       "      <td>...</td>\n",
       "      <td>...</td>\n",
       "      <td>...</td>\n",
       "      <td>...</td>\n",
       "      <td>...</td>\n",
       "      <td>...</td>\n",
       "      <td>...</td>\n",
       "      <td>...</td>\n",
       "      <td>...</td>\n",
       "      <td>...</td>\n",
       "      <td>...</td>\n",
       "      <td>...</td>\n",
       "      <td>...</td>\n",
       "    </tr>\n",
       "    <tr>\n",
       "      <th>76</th>\n",
       "      <td>RbPdO3</td>\n",
       "      <td>True</td>\n",
       "      <td>-237.862</td>\n",
       "      <td>0</td>\n",
       "      <td>0</td>\n",
       "      <td>24.444</td>\n",
       "      <td>1</td>\n",
       "      <td>[[0.         2.05243462 0.        ] O, [2.0524...</td>\n",
       "      <td>NaN</td>\n",
       "      <td>True</td>\n",
       "      <td>...</td>\n",
       "      <td>NaN</td>\n",
       "      <td>True</td>\n",
       "      <td>-247.677</td>\n",
       "      <td>1.018</td>\n",
       "      <td>1.313</td>\n",
       "      <td>22</td>\n",
       "      <td>-2.444</td>\n",
       "      <td>126</td>\n",
       "      <td>[[ 0.08219953  7.29743334 10.52365441] H, [0. ...</td>\n",
       "      <td>NaN</td>\n",
       "    </tr>\n",
       "    <tr>\n",
       "      <th>77</th>\n",
       "      <td>CaHfO3</td>\n",
       "      <td>True</td>\n",
       "      <td>-456.965</td>\n",
       "      <td>0</td>\n",
       "      <td>0</td>\n",
       "      <td>-0</td>\n",
       "      <td>1</td>\n",
       "      <td>[[0.        0.        2.0506531] Ca, [3.755119...</td>\n",
       "      <td>NaN</td>\n",
       "      <td>True</td>\n",
       "      <td>...</td>\n",
       "      <td>NaN</td>\n",
       "      <td>True</td>\n",
       "      <td>-467.476</td>\n",
       "      <td>0.324</td>\n",
       "      <td>0.619</td>\n",
       "      <td>0.059</td>\n",
       "      <td>0.059</td>\n",
       "      <td>148</td>\n",
       "      <td>[[0.        0.        2.0506531] Ca, [0.225467...</td>\n",
       "      <td>NaN</td>\n",
       "    </tr>\n",
       "    <tr>\n",
       "      <th>78</th>\n",
       "      <td>TlWO3</td>\n",
       "      <td>True</td>\n",
       "      <td>-326.169</td>\n",
       "      <td>0</td>\n",
       "      <td>0</td>\n",
       "      <td>16</td>\n",
       "      <td>26</td>\n",
       "      <td>[[2.038601 0.       0.      ] O, [0.       2.0...</td>\n",
       "      <td>NaN</td>\n",
       "      <td>True</td>\n",
       "      <td>...</td>\n",
       "      <td>NaN</td>\n",
       "      <td>True</td>\n",
       "      <td>-338.705</td>\n",
       "      <td>-1.702</td>\n",
       "      <td>-1.407</td>\n",
       "      <td>15</td>\n",
       "      <td>-1</td>\n",
       "      <td>130</td>\n",
       "      <td>[[ 2.06261209  1.13741873 10.68303356] H, [2.0...</td>\n",
       "      <td>NaN</td>\n",
       "    </tr>\n",
       "    <tr>\n",
       "      <th>79</th>\n",
       "      <td>RbWO3</td>\n",
       "      <td>True</td>\n",
       "      <td>-331.043</td>\n",
       "      <td>0</td>\n",
       "      <td>0</td>\n",
       "      <td>16</td>\n",
       "      <td>1</td>\n",
       "      <td>[[0.         0.         2.03151098] O, [2.0315...</td>\n",
       "      <td>NaN</td>\n",
       "      <td>True</td>\n",
       "      <td>...</td>\n",
       "      <td>NaN</td>\n",
       "      <td>True</td>\n",
       "      <td>-343.287</td>\n",
       "      <td>-1.41</td>\n",
       "      <td>-1.115</td>\n",
       "      <td>15</td>\n",
       "      <td>-1</td>\n",
       "      <td>78</td>\n",
       "      <td>[[ 8.0649423   7.29799559 10.66649638] H, [0. ...</td>\n",
       "      <td>NaN</td>\n",
       "    </tr>\n",
       "    <tr>\n",
       "      <th>80</th>\n",
       "      <td>RbPtO3</td>\n",
       "      <td>True</td>\n",
       "      <td>-252.909</td>\n",
       "      <td>0</td>\n",
       "      <td>0</td>\n",
       "      <td>20.962</td>\n",
       "      <td>1</td>\n",
       "      <td>[[2.04108953 0.         0.        ] O, [0.    ...</td>\n",
       "      <td>NaN</td>\n",
       "      <td>True</td>\n",
       "      <td>...</td>\n",
       "      <td>NaN</td>\n",
       "      <td>True</td>\n",
       "      <td>-263.005</td>\n",
       "      <td>0.739</td>\n",
       "      <td>1.034</td>\n",
       "      <td>19.65</td>\n",
       "      <td>-1.312</td>\n",
       "      <td>126</td>\n",
       "      <td>[[ 1.325425    1.32540497 10.69731981] H, [2.0...</td>\n",
       "      <td>NaN</td>\n",
       "    </tr>\n",
       "  </tbody>\n",
       "</table>\n",
       "<p>80 rows × 36 columns</p>\n",
       "</div>"
      ],
      "text/plain": [
       "   formula convg_bare tot_E_bare DE_bare DG_bare bare_mag nsteps_bare  \\\n",
       "1   SrTcO3       True    -386.83       0       0   13.642           1   \n",
       "2   BaFeO3       True   -316.788       0       0   59.992           1   \n",
       "3   BaMoO3       True    -359.32       0       0       24           1   \n",
       "4    KTaO3       True   -438.376       0       0        0           1   \n",
       "5   BaZrO3       True   -438.828       0       0        0           1   \n",
       "..     ...        ...        ...     ...     ...      ...         ...   \n",
       "76  RbPdO3       True   -237.862       0       0   24.444           1   \n",
       "77  CaHfO3       True   -456.965       0       0       -0           1   \n",
       "78   TlWO3       True   -326.169       0       0       16          26   \n",
       "79   RbWO3       True   -331.043       0       0       16           1   \n",
       "80  RbPtO3       True   -252.909       0       0   20.962           1   \n",
       "\n",
       "                                           struc_bare time_bare convg_OOH  \\\n",
       "1   [[0.         1.98022307 0.        ] O, [1.9802...       NaN      True   \n",
       "2   [[2.0165225 2.0165225 2.0165225] Ba, [2.016522...       NaN      True   \n",
       "3   [[2.06811213 2.06811213 2.06811213] Ba, [2.068...       NaN      True   \n",
       "4   [[2.01423343 2.01423343 2.01423343] K, [2.0142...       NaN      True   \n",
       "5   [[0.         0.         2.11804015] Ba, [8.472...       NaN      True   \n",
       "..                                                ...       ...       ...   \n",
       "76  [[0.         2.05243462 0.        ] O, [2.0524...       NaN      True   \n",
       "77  [[0.        0.        2.0506531] Ca, [3.755119...       NaN      True   \n",
       "78  [[2.038601 0.       0.      ] O, [0.       2.0...       NaN      True   \n",
       "79  [[0.         0.         2.03151098] O, [2.0315...       NaN      True   \n",
       "80  [[2.04108953 0.         0.        ] O, [0.    ...       NaN      True   \n",
       "\n",
       "    ... time_O convg_OH tot_E_OH  DE_OH  DG_OH  OH_mag OH_dmag nsteps_OH  \\\n",
       "1   ...    NaN     True -398.741 -1.077 -0.782  10.772  -2.871       104   \n",
       "2   ...    NaN     True -325.893  1.729  2.024   58.79  -1.202       135   \n",
       "3   ...    NaN     True -370.751 -0.597 -0.302      23      -1        74   \n",
       "4   ...    NaN     True -450.506 -1.296 -1.001   0.991   0.991        67   \n",
       "5   ...    NaN     True -448.668  0.995   1.29   0.216   0.216       112   \n",
       "..  ...    ...      ...      ...    ...    ...     ...     ...       ...   \n",
       "76  ...    NaN     True -247.677  1.018  1.313      22  -2.444       126   \n",
       "77  ...    NaN     True -467.476  0.324  0.619   0.059   0.059       148   \n",
       "78  ...    NaN     True -338.705 -1.702 -1.407      15      -1       130   \n",
       "79  ...    NaN     True -343.287  -1.41 -1.115      15      -1        78   \n",
       "80  ...    NaN     True -263.005  0.739  1.034   19.65  -1.312       126   \n",
       "\n",
       "                                             struc_OH time_OH  \n",
       "1   [[ 1.08924803  2.12199985 10.29190122] H, [0. ...     NaN  \n",
       "2   [[2.0165225 2.0165225 2.0165225] Ba, [1.998014...     NaN  \n",
       "3   [[2.06811213 2.06811213 2.06811213] Ba, [2.090...     NaN  \n",
       "4   [[ 7.21096101  0.38768809 10.5776824 ] H, [2.0...     NaN  \n",
       "5   [[0.         0.         2.11804015] Ba, [0.064...     NaN  \n",
       "..                                                ...     ...  \n",
       "76  [[ 0.08219953  7.29743334 10.52365441] H, [0. ...     NaN  \n",
       "77  [[0.        0.        2.0506531] Ca, [0.225467...     NaN  \n",
       "78  [[ 2.06261209  1.13741873 10.68303356] H, [2.0...     NaN  \n",
       "79  [[ 8.0649423   7.29799559 10.66649638] H, [0. ...     NaN  \n",
       "80  [[ 1.325425    1.32540497 10.69731981] H, [2.0...     NaN  \n",
       "\n",
       "[80 rows x 36 columns]"
      ]
     },
     "execution_count": 58,
     "metadata": {},
     "output_type": "execute_result"
    }
   ],
   "source": [
    "with open('../results_nurion/adsorbate_analysis/df_summary_001_080.pkl', 'rb') as f:\n",
    "    data = pickle5.load(f)\n",
    "# print(data)\n",
    "df = pd.DataFrame(data)\n",
    "df"
   ]
  },
  {
   "cell_type": "code",
   "execution_count": 59,
   "metadata": {},
   "outputs": [
    {
     "data": {
      "text/plain": [
       "array(['formula', 'convg_bare', 'tot_E_bare', 'DE_bare', 'DG_bare',\n",
       "       'bare_mag', 'nsteps_bare', 'struc_bare', 'time_bare', 'convg_OOH',\n",
       "       'tot_E_OOH', 'DE_OOH', 'DG_OOH', 'OOH_mag', 'OOH_dmag',\n",
       "       'nsteps_OOH', 'struc_OOH', 'time_OOH', 'convg_O', 'tot_E_O',\n",
       "       'DE_O', 'DG_O', 'O_mag', 'O_dmag', 'nsteps_O', 'struc_O', 'time_O',\n",
       "       'convg_OH', 'tot_E_OH', 'DE_OH', 'DG_OH', 'OH_mag', 'OH_dmag',\n",
       "       'nsteps_OH', 'struc_OH', 'time_OH', 'mag_ini'], dtype=object)"
      ]
     },
     "execution_count": 59,
     "metadata": {},
     "output_type": "execute_result"
    }
   ],
   "source": [
    "df['mag_ini'] = 'FM'\n",
    "df.columns.values"
   ]
  },
  {
   "cell_type": "code",
   "execution_count": 60,
   "metadata": {},
   "outputs": [
    {
     "data": {
      "text/html": [
       "<div>\n",
       "<style scoped>\n",
       "    .dataframe tbody tr th:only-of-type {\n",
       "        vertical-align: middle;\n",
       "    }\n",
       "\n",
       "    .dataframe tbody tr th {\n",
       "        vertical-align: top;\n",
       "    }\n",
       "\n",
       "    .dataframe thead th {\n",
       "        text-align: right;\n",
       "    }\n",
       "</style>\n",
       "<table border=\"1\" class=\"dataframe\">\n",
       "  <thead>\n",
       "    <tr style=\"text-align: right;\">\n",
       "      <th></th>\n",
       "      <th>formula</th>\n",
       "      <th>mag_ini</th>\n",
       "      <th>convg_bare</th>\n",
       "      <th>tot_E_bare</th>\n",
       "      <th>DE_bare</th>\n",
       "      <th>DG_bare</th>\n",
       "      <th>bare_mag</th>\n",
       "      <th>nsteps_bare</th>\n",
       "      <th>struc_bare</th>\n",
       "      <th>time_bare</th>\n",
       "      <th>...</th>\n",
       "      <th>time_O</th>\n",
       "      <th>convg_OH</th>\n",
       "      <th>tot_E_OH</th>\n",
       "      <th>DE_OH</th>\n",
       "      <th>DG_OH</th>\n",
       "      <th>OH_mag</th>\n",
       "      <th>OH_dmag</th>\n",
       "      <th>nsteps_OH</th>\n",
       "      <th>struc_OH</th>\n",
       "      <th>time_OH</th>\n",
       "    </tr>\n",
       "  </thead>\n",
       "  <tbody>\n",
       "    <tr>\n",
       "      <th>1</th>\n",
       "      <td>SrTcO3</td>\n",
       "      <td>FM</td>\n",
       "      <td>True</td>\n",
       "      <td>-386.83</td>\n",
       "      <td>0</td>\n",
       "      <td>0</td>\n",
       "      <td>13.642</td>\n",
       "      <td>1</td>\n",
       "      <td>[[0.         1.98022307 0.        ] O, [1.9802...</td>\n",
       "      <td>NaN</td>\n",
       "      <td>...</td>\n",
       "      <td>NaN</td>\n",
       "      <td>True</td>\n",
       "      <td>-398.741</td>\n",
       "      <td>-1.077</td>\n",
       "      <td>-0.782</td>\n",
       "      <td>10.772</td>\n",
       "      <td>-2.871</td>\n",
       "      <td>104</td>\n",
       "      <td>[[ 1.08924803  2.12199985 10.29190122] H, [0. ...</td>\n",
       "      <td>NaN</td>\n",
       "    </tr>\n",
       "    <tr>\n",
       "      <th>2</th>\n",
       "      <td>BaFeO3</td>\n",
       "      <td>FM</td>\n",
       "      <td>True</td>\n",
       "      <td>-316.788</td>\n",
       "      <td>0</td>\n",
       "      <td>0</td>\n",
       "      <td>59.992</td>\n",
       "      <td>1</td>\n",
       "      <td>[[2.0165225 2.0165225 2.0165225] Ba, [2.016522...</td>\n",
       "      <td>NaN</td>\n",
       "      <td>...</td>\n",
       "      <td>NaN</td>\n",
       "      <td>True</td>\n",
       "      <td>-325.893</td>\n",
       "      <td>1.729</td>\n",
       "      <td>2.024</td>\n",
       "      <td>58.79</td>\n",
       "      <td>-1.202</td>\n",
       "      <td>135</td>\n",
       "      <td>[[2.0165225 2.0165225 2.0165225] Ba, [1.998014...</td>\n",
       "      <td>NaN</td>\n",
       "    </tr>\n",
       "    <tr>\n",
       "      <th>3</th>\n",
       "      <td>BaMoO3</td>\n",
       "      <td>FM</td>\n",
       "      <td>True</td>\n",
       "      <td>-359.32</td>\n",
       "      <td>0</td>\n",
       "      <td>0</td>\n",
       "      <td>24</td>\n",
       "      <td>1</td>\n",
       "      <td>[[2.06811213 2.06811213 2.06811213] Ba, [2.068...</td>\n",
       "      <td>NaN</td>\n",
       "      <td>...</td>\n",
       "      <td>NaN</td>\n",
       "      <td>True</td>\n",
       "      <td>-370.751</td>\n",
       "      <td>-0.597</td>\n",
       "      <td>-0.302</td>\n",
       "      <td>23</td>\n",
       "      <td>-1</td>\n",
       "      <td>74</td>\n",
       "      <td>[[2.06811213 2.06811213 2.06811213] Ba, [2.090...</td>\n",
       "      <td>NaN</td>\n",
       "    </tr>\n",
       "    <tr>\n",
       "      <th>4</th>\n",
       "      <td>KTaO3</td>\n",
       "      <td>FM</td>\n",
       "      <td>True</td>\n",
       "      <td>-438.376</td>\n",
       "      <td>0</td>\n",
       "      <td>0</td>\n",
       "      <td>0</td>\n",
       "      <td>1</td>\n",
       "      <td>[[2.01423343 2.01423343 2.01423343] K, [2.0142...</td>\n",
       "      <td>NaN</td>\n",
       "      <td>...</td>\n",
       "      <td>NaN</td>\n",
       "      <td>True</td>\n",
       "      <td>-450.506</td>\n",
       "      <td>-1.296</td>\n",
       "      <td>-1.001</td>\n",
       "      <td>0.991</td>\n",
       "      <td>0.991</td>\n",
       "      <td>67</td>\n",
       "      <td>[[ 7.21096101  0.38768809 10.5776824 ] H, [2.0...</td>\n",
       "      <td>NaN</td>\n",
       "    </tr>\n",
       "    <tr>\n",
       "      <th>5</th>\n",
       "      <td>BaZrO3</td>\n",
       "      <td>FM</td>\n",
       "      <td>True</td>\n",
       "      <td>-438.828</td>\n",
       "      <td>0</td>\n",
       "      <td>0</td>\n",
       "      <td>0</td>\n",
       "      <td>1</td>\n",
       "      <td>[[0.         0.         2.11804015] Ba, [8.472...</td>\n",
       "      <td>NaN</td>\n",
       "      <td>...</td>\n",
       "      <td>NaN</td>\n",
       "      <td>True</td>\n",
       "      <td>-448.668</td>\n",
       "      <td>0.995</td>\n",
       "      <td>1.29</td>\n",
       "      <td>0.216</td>\n",
       "      <td>0.216</td>\n",
       "      <td>112</td>\n",
       "      <td>[[0.         0.         2.11804015] Ba, [0.064...</td>\n",
       "      <td>NaN</td>\n",
       "    </tr>\n",
       "    <tr>\n",
       "      <th>...</th>\n",
       "      <td>...</td>\n",
       "      <td>...</td>\n",
       "      <td>...</td>\n",
       "      <td>...</td>\n",
       "      <td>...</td>\n",
       "      <td>...</td>\n",
       "      <td>...</td>\n",
       "      <td>...</td>\n",
       "      <td>...</td>\n",
       "      <td>...</td>\n",
       "      <td>...</td>\n",
       "      <td>...</td>\n",
       "      <td>...</td>\n",
       "      <td>...</td>\n",
       "      <td>...</td>\n",
       "      <td>...</td>\n",
       "      <td>...</td>\n",
       "      <td>...</td>\n",
       "      <td>...</td>\n",
       "      <td>...</td>\n",
       "      <td>...</td>\n",
       "    </tr>\n",
       "    <tr>\n",
       "      <th>76</th>\n",
       "      <td>RbPdO3</td>\n",
       "      <td>FM</td>\n",
       "      <td>True</td>\n",
       "      <td>-237.862</td>\n",
       "      <td>0</td>\n",
       "      <td>0</td>\n",
       "      <td>24.444</td>\n",
       "      <td>1</td>\n",
       "      <td>[[0.         2.05243462 0.        ] O, [2.0524...</td>\n",
       "      <td>NaN</td>\n",
       "      <td>...</td>\n",
       "      <td>NaN</td>\n",
       "      <td>True</td>\n",
       "      <td>-247.677</td>\n",
       "      <td>1.018</td>\n",
       "      <td>1.313</td>\n",
       "      <td>22</td>\n",
       "      <td>-2.444</td>\n",
       "      <td>126</td>\n",
       "      <td>[[ 0.08219953  7.29743334 10.52365441] H, [0. ...</td>\n",
       "      <td>NaN</td>\n",
       "    </tr>\n",
       "    <tr>\n",
       "      <th>77</th>\n",
       "      <td>CaHfO3</td>\n",
       "      <td>FM</td>\n",
       "      <td>True</td>\n",
       "      <td>-456.965</td>\n",
       "      <td>0</td>\n",
       "      <td>0</td>\n",
       "      <td>-0</td>\n",
       "      <td>1</td>\n",
       "      <td>[[0.        0.        2.0506531] Ca, [3.755119...</td>\n",
       "      <td>NaN</td>\n",
       "      <td>...</td>\n",
       "      <td>NaN</td>\n",
       "      <td>True</td>\n",
       "      <td>-467.476</td>\n",
       "      <td>0.324</td>\n",
       "      <td>0.619</td>\n",
       "      <td>0.059</td>\n",
       "      <td>0.059</td>\n",
       "      <td>148</td>\n",
       "      <td>[[0.        0.        2.0506531] Ca, [0.225467...</td>\n",
       "      <td>NaN</td>\n",
       "    </tr>\n",
       "    <tr>\n",
       "      <th>78</th>\n",
       "      <td>TlWO3</td>\n",
       "      <td>FM</td>\n",
       "      <td>True</td>\n",
       "      <td>-326.169</td>\n",
       "      <td>0</td>\n",
       "      <td>0</td>\n",
       "      <td>16</td>\n",
       "      <td>26</td>\n",
       "      <td>[[2.038601 0.       0.      ] O, [0.       2.0...</td>\n",
       "      <td>NaN</td>\n",
       "      <td>...</td>\n",
       "      <td>NaN</td>\n",
       "      <td>True</td>\n",
       "      <td>-338.705</td>\n",
       "      <td>-1.702</td>\n",
       "      <td>-1.407</td>\n",
       "      <td>15</td>\n",
       "      <td>-1</td>\n",
       "      <td>130</td>\n",
       "      <td>[[ 2.06261209  1.13741873 10.68303356] H, [2.0...</td>\n",
       "      <td>NaN</td>\n",
       "    </tr>\n",
       "    <tr>\n",
       "      <th>79</th>\n",
       "      <td>RbWO3</td>\n",
       "      <td>FM</td>\n",
       "      <td>True</td>\n",
       "      <td>-331.043</td>\n",
       "      <td>0</td>\n",
       "      <td>0</td>\n",
       "      <td>16</td>\n",
       "      <td>1</td>\n",
       "      <td>[[0.         0.         2.03151098] O, [2.0315...</td>\n",
       "      <td>NaN</td>\n",
       "      <td>...</td>\n",
       "      <td>NaN</td>\n",
       "      <td>True</td>\n",
       "      <td>-343.287</td>\n",
       "      <td>-1.41</td>\n",
       "      <td>-1.115</td>\n",
       "      <td>15</td>\n",
       "      <td>-1</td>\n",
       "      <td>78</td>\n",
       "      <td>[[ 8.0649423   7.29799559 10.66649638] H, [0. ...</td>\n",
       "      <td>NaN</td>\n",
       "    </tr>\n",
       "    <tr>\n",
       "      <th>80</th>\n",
       "      <td>RbPtO3</td>\n",
       "      <td>FM</td>\n",
       "      <td>True</td>\n",
       "      <td>-252.909</td>\n",
       "      <td>0</td>\n",
       "      <td>0</td>\n",
       "      <td>20.962</td>\n",
       "      <td>1</td>\n",
       "      <td>[[2.04108953 0.         0.        ] O, [0.    ...</td>\n",
       "      <td>NaN</td>\n",
       "      <td>...</td>\n",
       "      <td>NaN</td>\n",
       "      <td>True</td>\n",
       "      <td>-263.005</td>\n",
       "      <td>0.739</td>\n",
       "      <td>1.034</td>\n",
       "      <td>19.65</td>\n",
       "      <td>-1.312</td>\n",
       "      <td>126</td>\n",
       "      <td>[[ 1.325425    1.32540497 10.69731981] H, [2.0...</td>\n",
       "      <td>NaN</td>\n",
       "    </tr>\n",
       "  </tbody>\n",
       "</table>\n",
       "<p>80 rows × 37 columns</p>\n",
       "</div>"
      ],
      "text/plain": [
       "   formula mag_ini convg_bare tot_E_bare DE_bare DG_bare bare_mag nsteps_bare  \\\n",
       "1   SrTcO3      FM       True    -386.83       0       0   13.642           1   \n",
       "2   BaFeO3      FM       True   -316.788       0       0   59.992           1   \n",
       "3   BaMoO3      FM       True    -359.32       0       0       24           1   \n",
       "4    KTaO3      FM       True   -438.376       0       0        0           1   \n",
       "5   BaZrO3      FM       True   -438.828       0       0        0           1   \n",
       "..     ...     ...        ...        ...     ...     ...      ...         ...   \n",
       "76  RbPdO3      FM       True   -237.862       0       0   24.444           1   \n",
       "77  CaHfO3      FM       True   -456.965       0       0       -0           1   \n",
       "78   TlWO3      FM       True   -326.169       0       0       16          26   \n",
       "79   RbWO3      FM       True   -331.043       0       0       16           1   \n",
       "80  RbPtO3      FM       True   -252.909       0       0   20.962           1   \n",
       "\n",
       "                                           struc_bare time_bare  ... time_O  \\\n",
       "1   [[0.         1.98022307 0.        ] O, [1.9802...       NaN  ...    NaN   \n",
       "2   [[2.0165225 2.0165225 2.0165225] Ba, [2.016522...       NaN  ...    NaN   \n",
       "3   [[2.06811213 2.06811213 2.06811213] Ba, [2.068...       NaN  ...    NaN   \n",
       "4   [[2.01423343 2.01423343 2.01423343] K, [2.0142...       NaN  ...    NaN   \n",
       "5   [[0.         0.         2.11804015] Ba, [8.472...       NaN  ...    NaN   \n",
       "..                                                ...       ...  ...    ...   \n",
       "76  [[0.         2.05243462 0.        ] O, [2.0524...       NaN  ...    NaN   \n",
       "77  [[0.        0.        2.0506531] Ca, [3.755119...       NaN  ...    NaN   \n",
       "78  [[2.038601 0.       0.      ] O, [0.       2.0...       NaN  ...    NaN   \n",
       "79  [[0.         0.         2.03151098] O, [2.0315...       NaN  ...    NaN   \n",
       "80  [[2.04108953 0.         0.        ] O, [0.    ...       NaN  ...    NaN   \n",
       "\n",
       "   convg_OH tot_E_OH  DE_OH  DG_OH  OH_mag OH_dmag nsteps_OH  \\\n",
       "1      True -398.741 -1.077 -0.782  10.772  -2.871       104   \n",
       "2      True -325.893  1.729  2.024   58.79  -1.202       135   \n",
       "3      True -370.751 -0.597 -0.302      23      -1        74   \n",
       "4      True -450.506 -1.296 -1.001   0.991   0.991        67   \n",
       "5      True -448.668  0.995   1.29   0.216   0.216       112   \n",
       "..      ...      ...    ...    ...     ...     ...       ...   \n",
       "76     True -247.677  1.018  1.313      22  -2.444       126   \n",
       "77     True -467.476  0.324  0.619   0.059   0.059       148   \n",
       "78     True -338.705 -1.702 -1.407      15      -1       130   \n",
       "79     True -343.287  -1.41 -1.115      15      -1        78   \n",
       "80     True -263.005  0.739  1.034   19.65  -1.312       126   \n",
       "\n",
       "                                             struc_OH time_OH  \n",
       "1   [[ 1.08924803  2.12199985 10.29190122] H, [0. ...     NaN  \n",
       "2   [[2.0165225 2.0165225 2.0165225] Ba, [1.998014...     NaN  \n",
       "3   [[2.06811213 2.06811213 2.06811213] Ba, [2.090...     NaN  \n",
       "4   [[ 7.21096101  0.38768809 10.5776824 ] H, [2.0...     NaN  \n",
       "5   [[0.         0.         2.11804015] Ba, [0.064...     NaN  \n",
       "..                                                ...     ...  \n",
       "76  [[ 0.08219953  7.29743334 10.52365441] H, [0. ...     NaN  \n",
       "77  [[0.        0.        2.0506531] Ca, [0.225467...     NaN  \n",
       "78  [[ 2.06261209  1.13741873 10.68303356] H, [2.0...     NaN  \n",
       "79  [[ 8.0649423   7.29799559 10.66649638] H, [0. ...     NaN  \n",
       "80  [[ 1.325425    1.32540497 10.69731981] H, [2.0...     NaN  \n",
       "\n",
       "[80 rows x 37 columns]"
      ]
     },
     "execution_count": 60,
     "metadata": {},
     "output_type": "execute_result"
    }
   ],
   "source": [
    "columns = ['formula', 'mag_ini','convg_bare', 'tot_E_bare', 'DE_bare', 'DG_bare',\n",
    "       'bare_mag', 'nsteps_bare', 'struc_bare', 'time_bare', 'convg_OOH',\n",
    "       'tot_E_OOH', 'DE_OOH', 'DG_OOH', 'OOH_mag', 'OOH_dmag',\n",
    "       'nsteps_OOH', 'struc_OOH', 'time_OOH', 'convg_O', 'tot_E_O',\n",
    "       'DE_O', 'DG_O', 'O_mag', 'O_dmag', 'nsteps_O', 'struc_O', 'time_O',\n",
    "       'convg_OH', 'tot_E_OH', 'DE_OH', 'DG_OH', 'OH_mag', 'OH_dmag',\n",
    "       'nsteps_OH', 'struc_OH', 'time_OH']\n",
    "df = df[columns]\n",
    "df"
   ]
  },
  {
   "cell_type": "code",
   "execution_count": 61,
   "metadata": {},
   "outputs": [
    {
     "data": {
      "text/html": [
       "<div>\n",
       "<style scoped>\n",
       "    .dataframe tbody tr th:only-of-type {\n",
       "        vertical-align: middle;\n",
       "    }\n",
       "\n",
       "    .dataframe tbody tr th {\n",
       "        vertical-align: top;\n",
       "    }\n",
       "\n",
       "    .dataframe thead th {\n",
       "        text-align: right;\n",
       "    }\n",
       "</style>\n",
       "<table border=\"1\" class=\"dataframe\">\n",
       "  <thead>\n",
       "    <tr style=\"text-align: right;\">\n",
       "      <th></th>\n",
       "      <th>formula</th>\n",
       "      <th>mag_ini</th>\n",
       "      <th>convg_bare</th>\n",
       "      <th>tot_E_bare</th>\n",
       "      <th>DE_bare</th>\n",
       "      <th>DG_bare</th>\n",
       "      <th>bare_mag</th>\n",
       "      <th>nsteps_bare</th>\n",
       "      <th>struc_bare</th>\n",
       "      <th>time_bare</th>\n",
       "      <th>...</th>\n",
       "      <th>time_O</th>\n",
       "      <th>convg_OH</th>\n",
       "      <th>tot_E_OH</th>\n",
       "      <th>DE_OH</th>\n",
       "      <th>DG_OH</th>\n",
       "      <th>OH_mag</th>\n",
       "      <th>OH_dmag</th>\n",
       "      <th>nsteps_OH</th>\n",
       "      <th>struc_OH</th>\n",
       "      <th>time_OH</th>\n",
       "    </tr>\n",
       "  </thead>\n",
       "  <tbody>\n",
       "    <tr>\n",
       "      <th>count</th>\n",
       "      <td>80</td>\n",
       "      <td>80</td>\n",
       "      <td>80</td>\n",
       "      <td>80.0000</td>\n",
       "      <td>80</td>\n",
       "      <td>80</td>\n",
       "      <td>80.0</td>\n",
       "      <td>80</td>\n",
       "      <td>80</td>\n",
       "      <td>80</td>\n",
       "      <td>...</td>\n",
       "      <td>80</td>\n",
       "      <td>80</td>\n",
       "      <td>80.0000</td>\n",
       "      <td>80.000</td>\n",
       "      <td>80.000</td>\n",
       "      <td>80.0</td>\n",
       "      <td>80.0</td>\n",
       "      <td>80</td>\n",
       "      <td>80</td>\n",
       "      <td>80</td>\n",
       "    </tr>\n",
       "    <tr>\n",
       "      <th>unique</th>\n",
       "      <td>80</td>\n",
       "      <td>1</td>\n",
       "      <td>1</td>\n",
       "      <td>80.0000</td>\n",
       "      <td>1</td>\n",
       "      <td>1</td>\n",
       "      <td>59.0</td>\n",
       "      <td>11</td>\n",
       "      <td>80</td>\n",
       "      <td>1</td>\n",
       "      <td>...</td>\n",
       "      <td>1</td>\n",
       "      <td>2</td>\n",
       "      <td>80.0000</td>\n",
       "      <td>77.000</td>\n",
       "      <td>77.000</td>\n",
       "      <td>70.0</td>\n",
       "      <td>66.0</td>\n",
       "      <td>59</td>\n",
       "      <td>80</td>\n",
       "      <td>1</td>\n",
       "    </tr>\n",
       "    <tr>\n",
       "      <th>top</th>\n",
       "      <td>RbPdO3</td>\n",
       "      <td>FM</td>\n",
       "      <td>True</td>\n",
       "      <td>-257.0364</td>\n",
       "      <td>0</td>\n",
       "      <td>0</td>\n",
       "      <td>0.0</td>\n",
       "      <td>1</td>\n",
       "      <td>[[1.953616 1.953616 1.953616] K, [1.95361614 1...</td>\n",
       "      <td>NaN</td>\n",
       "      <td>...</td>\n",
       "      <td>NaN</td>\n",
       "      <td>True</td>\n",
       "      <td>-386.6621</td>\n",
       "      <td>0.351</td>\n",
       "      <td>2.007</td>\n",
       "      <td>15.0</td>\n",
       "      <td>-1.0</td>\n",
       "      <td>49</td>\n",
       "      <td>[[ 7.82537295  7.31138183 10.50317301] H, [0. ...</td>\n",
       "      <td>NaN</td>\n",
       "    </tr>\n",
       "    <tr>\n",
       "      <th>freq</th>\n",
       "      <td>1</td>\n",
       "      <td>80</td>\n",
       "      <td>80</td>\n",
       "      <td>1.0000</td>\n",
       "      <td>80</td>\n",
       "      <td>80</td>\n",
       "      <td>10.0</td>\n",
       "      <td>67</td>\n",
       "      <td>1</td>\n",
       "      <td>80</td>\n",
       "      <td>...</td>\n",
       "      <td>80</td>\n",
       "      <td>79</td>\n",
       "      <td>1.0000</td>\n",
       "      <td>2.000</td>\n",
       "      <td>2.000</td>\n",
       "      <td>5.0</td>\n",
       "      <td>13.0</td>\n",
       "      <td>3</td>\n",
       "      <td>1</td>\n",
       "      <td>80</td>\n",
       "    </tr>\n",
       "  </tbody>\n",
       "</table>\n",
       "<p>4 rows × 37 columns</p>\n",
       "</div>"
      ],
      "text/plain": [
       "       formula mag_ini convg_bare  tot_E_bare  DE_bare  DG_bare  bare_mag  \\\n",
       "count       80      80         80     80.0000       80       80      80.0   \n",
       "unique      80       1          1     80.0000        1        1      59.0   \n",
       "top     RbPdO3      FM       True   -257.0364        0        0       0.0   \n",
       "freq         1      80         80      1.0000       80       80      10.0   \n",
       "\n",
       "        nsteps_bare                                         struc_bare  \\\n",
       "count            80                                                 80   \n",
       "unique           11                                                 80   \n",
       "top               1  [[1.953616 1.953616 1.953616] K, [1.95361614 1...   \n",
       "freq             67                                                  1   \n",
       "\n",
       "       time_bare  ... time_O convg_OH  tot_E_OH   DE_OH   DG_OH  OH_mag  \\\n",
       "count         80  ...     80       80   80.0000  80.000  80.000    80.0   \n",
       "unique         1  ...      1        2   80.0000  77.000  77.000    70.0   \n",
       "top          NaN  ...    NaN     True -386.6621   0.351   2.007    15.0   \n",
       "freq          80  ...     80       79    1.0000   2.000   2.000     5.0   \n",
       "\n",
       "        OH_dmag nsteps_OH                                           struc_OH  \\\n",
       "count      80.0        80                                                 80   \n",
       "unique     66.0        59                                                 80   \n",
       "top        -1.0        49  [[ 7.82537295  7.31138183 10.50317301] H, [0. ...   \n",
       "freq       13.0         3                                                  1   \n",
       "\n",
       "       time_OH  \n",
       "count       80  \n",
       "unique       1  \n",
       "top        NaN  \n",
       "freq        80  \n",
       "\n",
       "[4 rows x 37 columns]"
      ]
     },
     "execution_count": 61,
     "metadata": {},
     "output_type": "execute_result"
    }
   ],
   "source": [
    "df.describe()"
   ]
  },
  {
   "cell_type": "code",
   "execution_count": 62,
   "metadata": {},
   "outputs": [
    {
     "data": {
      "application/vnd.plotly.v1+json": {
       "config": {
        "plotlyServerURL": "https://plot.ly"
       },
       "data": [
        {
         "name": "bare",
         "type": "bar",
         "x": [
          "SrTcO3",
          "BaFeO3",
          "BaMoO3",
          "KTaO3",
          "BaZrO3",
          "SrFeO3",
          "KTcO3",
          "NaTcO3",
          "BaHfO3",
          "SrTiO3",
          "SrCuO3",
          "KNbO3",
          "NaTaO3",
          "BaScO3",
          "BaPdO3",
          "BaTaO3",
          "SrHfO3",
          "NaOsO3",
          "TlTcO3",
          "KReO3",
          "SrRuO3",
          "KHfO3",
          "SrVO3",
          "KOsO3",
          "TaAgO3",
          "SrNiO3",
          "RbIrO3",
          "NaReO3",
          "SrMnO3",
          "CaFeO3",
          "SrZrO3",
          "NaWO3",
          "RbTaO3",
          "SrCoO3",
          "SrTaO3",
          "KZrO3",
          "CaTiO3",
          "NaRuO3",
          "LiTcO3",
          "SrPdO3",
          "KWO3",
          "KRhO3",
          "BaCuO3",
          "RbNbO3",
          "BaOsO3",
          "BaRuO3",
          "KRuO3",
          "SrMoO3",
          "NaTiO3",
          "SrScO3",
          "RbOsO3",
          "SrRhO3",
          "NaMoO3",
          "SrOsO3",
          "BaRhO3",
          "BaPtO3",
          "CaVO3",
          "KMoO3",
          "SrCrO3",
          "SrAgO3",
          "RbRhO3",
          "BaVO3",
          "CaCoO3",
          "CaMnO3",
          "KPtO3",
          "BaNiO3",
          "BaMnO3",
          "SrReO3",
          "BaReO3",
          "SrIrO3",
          "NaVO3",
          "NaFeO3",
          "BaIrO3",
          "RbReO3",
          "CaRuO3",
          "RbPdO3",
          "CaHfO3",
          "TlWO3",
          "RbWO3",
          "RbPtO3"
         ],
         "y": [
          13.642,
          59.992,
          24,
          0,
          0,
          53.798,
          0,
          0.01,
          0,
          0,
          13.957,
          -0.19,
          0.001,
          12,
          16.38,
          2.961,
          0,
          7.513,
          1.901,
          1.071,
          25.619,
          4.932,
          12,
          8.741,
          -0.001,
          17.207,
          9.654,
          1.179,
          36.466,
          53.463,
          0,
          16,
          0,
          40.892,
          3.837,
          5.241,
          0,
          7.614,
          0.296,
          13.908,
          16,
          25.241,
          15.902,
          -0.001,
          12.877,
          25.433,
          7.424,
          24,
          4.732,
          12,
          8.972,
          24.126,
          16,
          10.28,
          23.059,
          5.274,
          12,
          16,
          24,
          9.5,
          24.842,
          12,
          37.866,
          39.605,
          19.719,
          31.494,
          38,
          10.866,
          10.192,
          6.834,
          4,
          61.143,
          9.947,
          1.075,
          25.842,
          24.444,
          0,
          16,
          16,
          20.962
         ]
        },
        {
         "name": "OOH",
         "type": "bar",
         "x": [
          "SrTcO3",
          "BaFeO3",
          "BaMoO3",
          "KTaO3",
          "BaZrO3",
          "SrFeO3",
          "KTcO3",
          "NaTcO3",
          "BaHfO3",
          "SrTiO3",
          "SrCuO3",
          "KNbO3",
          "NaTaO3",
          "BaScO3",
          "BaPdO3",
          "BaTaO3",
          "SrHfO3",
          "NaOsO3",
          "TlTcO3",
          "KReO3",
          "SrRuO3",
          "KHfO3",
          "SrVO3",
          "KOsO3",
          "TaAgO3",
          "SrNiO3",
          "RbIrO3",
          "NaReO3",
          "SrMnO3",
          "CaFeO3",
          "SrZrO3",
          "NaWO3",
          "RbTaO3",
          "SrCoO3",
          "SrTaO3",
          "KZrO3",
          "CaTiO3",
          "NaRuO3",
          "LiTcO3",
          "SrPdO3",
          "KWO3",
          "KRhO3",
          "BaCuO3",
          "RbNbO3",
          "BaOsO3",
          "BaRuO3",
          "KRuO3",
          "SrMoO3",
          "NaTiO3",
          "SrScO3",
          "RbOsO3",
          "SrRhO3",
          "NaMoO3",
          "SrOsO3",
          "BaRhO3",
          "BaPtO3",
          "CaVO3",
          "KMoO3",
          "SrCrO3",
          "SrAgO3",
          "RbRhO3",
          "BaVO3",
          "CaCoO3",
          "CaMnO3",
          "KPtO3",
          "BaNiO3",
          "BaMnO3",
          "SrReO3",
          "BaReO3",
          "SrIrO3",
          "NaVO3",
          "NaFeO3",
          "BaIrO3",
          "RbReO3",
          "CaRuO3",
          "RbPdO3",
          "CaHfO3",
          "TlWO3",
          "RbWO3",
          "RbPtO3"
         ],
         "y": [
          10.741,
          60.985,
          23,
          0.989,
          -0.002,
          54.683,
          -1.053,
          -0.345,
          0.629,
          -0.736,
          14.04,
          1.036,
          0.997,
          13,
          16.342,
          0.992,
          -0.629,
          4.478,
          -1.063,
          0.594,
          24.881,
          6.686,
          11,
          0.114,
          1.503,
          3.112,
          10.417,
          0.598,
          22.298,
          54.403,
          0.659,
          "NaN",
          0.993,
          40.256,
          1.566,
          8.241,
          -0.684,
          7.448,
          -0.11,
          11.199,
          15,
          22.503,
          16.833,
          1.109,
          1.199,
          24.939,
          7.791,
          23,
          8.033,
          13,
          0.131,
          21.172,
          14.995,
          "NaN",
          23.191,
          11.146,
          11,
          14.995,
          23,
          8.522,
          20.355,
          11,
          38.869,
          20.118,
          18.436,
          32.448,
          38.998,
          4.864,
          8.523,
          7.542,
          3,
          61.846,
          12.213,
          0.57,
          12.809,
          22,
          -0.627,
          15,
          15,
          19.01
         ]
        },
        {
         "name": "O",
         "type": "bar",
         "x": [
          "SrTcO3",
          "BaFeO3",
          "BaMoO3",
          "KTaO3",
          "BaZrO3",
          "SrFeO3",
          "KTcO3",
          "NaTcO3",
          "BaHfO3",
          "SrTiO3",
          "SrCuO3",
          "KNbO3",
          "NaTaO3",
          "BaScO3",
          "BaPdO3",
          "BaTaO3",
          "SrHfO3",
          "NaOsO3",
          "TlTcO3",
          "KReO3",
          "SrRuO3",
          "KHfO3",
          "SrVO3",
          "KOsO3",
          "TaAgO3",
          "SrNiO3",
          "RbIrO3",
          "NaReO3",
          "SrMnO3",
          "CaFeO3",
          "SrZrO3",
          "NaWO3",
          "RbTaO3",
          "SrCoO3",
          "SrTaO3",
          "KZrO3",
          "CaTiO3",
          "NaRuO3",
          "LiTcO3",
          "SrPdO3",
          "KWO3",
          "KRhO3",
          "BaCuO3",
          "RbNbO3",
          "BaOsO3",
          "BaRuO3",
          "KRuO3",
          "SrMoO3",
          "NaTiO3",
          "SrScO3",
          "RbOsO3",
          "SrRhO3",
          "NaMoO3",
          "SrOsO3",
          "BaRhO3",
          "BaPtO3",
          "CaVO3",
          "KMoO3",
          "SrCrO3",
          "SrAgO3",
          "RbRhO3",
          "BaVO3",
          "CaCoO3",
          "CaMnO3",
          "KPtO3",
          "BaNiO3",
          "BaMnO3",
          "SrReO3",
          "BaReO3",
          "SrIrO3",
          "NaVO3",
          "NaFeO3",
          "BaIrO3",
          "RbReO3",
          "CaRuO3",
          "RbPdO3",
          "CaHfO3",
          "TlWO3",
          "RbWO3",
          "RbPtO3"
         ],
         "y": [
          6.83,
          56.636,
          22,
          1.665,
          -1.331,
          47.49,
          0.934,
          1.126,
          1.393,
          1.079,
          14.539,
          1.765,
          -0.001,
          14,
          17.483,
          2.088,
          1.478,
          5.937,
          0.757,
          1.25,
          18.009,
          9.185,
          10,
          5.848,
          1.957,
          18.809,
          10.319,
          1.234,
          14.883,
          53.06,
          1.528,
          12,
          1.602,
          40.821,
          2.415,
          9.662,
          0.982,
          6.558,
          0.391,
          14.561,
          14,
          26.023,
          17.922,
          1.739,
          6.867,
          23.918,
          4.61,
          22,
          9.037,
          14,
          "NaN",
          16.696,
          13.5,
          "NaN",
          25.005,
          11.369,
          8,
          13.5,
          22,
          9.5,
          25.602,
          10,
          39.031,
          14.563,
          18.359,
          31.316,
          36,
          9.173,
          9.093,
          6.252,
          2.008,
          59.982,
          9.913,
          1.184,
          16.933,
          23,
          1.301,
          14,
          14,
          18.896
         ]
        },
        {
         "name": "OH",
         "type": "bar",
         "x": [
          "SrTcO3",
          "BaFeO3",
          "BaMoO3",
          "KTaO3",
          "BaZrO3",
          "SrFeO3",
          "KTcO3",
          "NaTcO3",
          "BaHfO3",
          "SrTiO3",
          "SrCuO3",
          "KNbO3",
          "NaTaO3",
          "BaScO3",
          "BaPdO3",
          "BaTaO3",
          "SrHfO3",
          "NaOsO3",
          "TlTcO3",
          "KReO3",
          "SrRuO3",
          "KHfO3",
          "SrVO3",
          "KOsO3",
          "TaAgO3",
          "SrNiO3",
          "RbIrO3",
          "NaReO3",
          "SrMnO3",
          "CaFeO3",
          "SrZrO3",
          "NaWO3",
          "RbTaO3",
          "SrCoO3",
          "SrTaO3",
          "KZrO3",
          "CaTiO3",
          "NaRuO3",
          "LiTcO3",
          "SrPdO3",
          "KWO3",
          "KRhO3",
          "BaCuO3",
          "RbNbO3",
          "BaOsO3",
          "BaRuO3",
          "KRuO3",
          "SrMoO3",
          "NaTiO3",
          "SrScO3",
          "RbOsO3",
          "SrRhO3",
          "NaMoO3",
          "SrOsO3",
          "BaRhO3",
          "BaPtO3",
          "CaVO3",
          "KMoO3",
          "SrCrO3",
          "SrAgO3",
          "RbRhO3",
          "BaVO3",
          "CaCoO3",
          "CaMnO3",
          "KPtO3",
          "BaNiO3",
          "BaMnO3",
          "SrReO3",
          "BaReO3",
          "SrIrO3",
          "NaVO3",
          "NaFeO3",
          "BaIrO3",
          "RbReO3",
          "CaRuO3",
          "RbPdO3",
          "CaHfO3",
          "TlWO3",
          "RbWO3",
          "RbPtO3"
         ],
         "y": [
          10.772,
          58.79,
          23,
          0.991,
          0.216,
          53.888,
          -0.566,
          0.48,
          0.002,
          0.001,
          13.012,
          1.066,
          0.997,
          13,
          16.407,
          2.758,
          -0.063,
          2.003,
          -2.579,
          0.643,
          23.548,
          7.71,
          11,
          -0.079,
          1.506,
          13.761,
          10.66,
          0.674,
          21.566,
          53.039,
          0.059,
          "NaN",
          0.999,
          40.519,
          3.124,
          8.483,
          0,
          7.917,
          -0.181,
          11.47,
          15,
          24.021,
          16.337,
          1.16,
          2.354,
          24.9,
          8.2,
          23,
          7.308,
          13,
          4.054,
          21.386,
          15,
          10.492,
          23.853,
          10.806,
          11,
          15,
          23,
          8.498,
          22.122,
          11,
          38.553,
          35.461,
          18.808,
          30.175,
          37,
          7.049,
          9.607,
          6.382,
          3,
          60.789,
          10.748,
          0.637,
          18.609,
          22,
          0.059,
          15,
          15,
          19.65
         ]
        }
       ],
       "layout": {
        "template": {
         "data": {
          "bar": [
           {
            "error_x": {
             "color": "rgb(36,36,36)"
            },
            "error_y": {
             "color": "rgb(36,36,36)"
            },
            "marker": {
             "line": {
              "color": "rgb(234,234,242)",
              "width": 0.5
             }
            },
            "type": "bar"
           }
          ],
          "barpolar": [
           {
            "marker": {
             "line": {
              "color": "rgb(234,234,242)",
              "width": 0.5
             }
            },
            "type": "barpolar"
           }
          ],
          "carpet": [
           {
            "aaxis": {
             "endlinecolor": "rgb(36,36,36)",
             "gridcolor": "white",
             "linecolor": "white",
             "minorgridcolor": "white",
             "startlinecolor": "rgb(36,36,36)"
            },
            "baxis": {
             "endlinecolor": "rgb(36,36,36)",
             "gridcolor": "white",
             "linecolor": "white",
             "minorgridcolor": "white",
             "startlinecolor": "rgb(36,36,36)"
            },
            "type": "carpet"
           }
          ],
          "choropleth": [
           {
            "colorbar": {
             "outlinewidth": 0,
             "tickcolor": "rgb(36,36,36)",
             "ticklen": 8,
             "ticks": "outside",
             "tickwidth": 2
            },
            "type": "choropleth"
           }
          ],
          "contour": [
           {
            "colorbar": {
             "outlinewidth": 0,
             "tickcolor": "rgb(36,36,36)",
             "ticklen": 8,
             "ticks": "outside",
             "tickwidth": 2
            },
            "colorscale": [
             [
              0,
              "rgb(2,4,25)"
             ],
             [
              0.06274509803921569,
              "rgb(24,15,41)"
             ],
             [
              0.12549019607843137,
              "rgb(47,23,57)"
             ],
             [
              0.18823529411764706,
              "rgb(71,28,72)"
             ],
             [
              0.25098039215686274,
              "rgb(97,30,82)"
             ],
             [
              0.3137254901960784,
              "rgb(123,30,89)"
             ],
             [
              0.3764705882352941,
              "rgb(150,27,91)"
             ],
             [
              0.4392156862745098,
              "rgb(177,22,88)"
             ],
             [
              0.5019607843137255,
              "rgb(203,26,79)"
             ],
             [
              0.5647058823529412,
              "rgb(223,47,67)"
             ],
             [
              0.6274509803921569,
              "rgb(236,76,61)"
             ],
             [
              0.6901960784313725,
              "rgb(242,107,73)"
             ],
             [
              0.7529411764705882,
              "rgb(244,135,95)"
             ],
             [
              0.8156862745098039,
              "rgb(245,162,122)"
             ],
             [
              0.8784313725490196,
              "rgb(246,188,153)"
             ],
             [
              0.9411764705882353,
              "rgb(247,212,187)"
             ],
             [
              1,
              "rgb(250,234,220)"
             ]
            ],
            "type": "contour"
           }
          ],
          "contourcarpet": [
           {
            "colorbar": {
             "outlinewidth": 0,
             "tickcolor": "rgb(36,36,36)",
             "ticklen": 8,
             "ticks": "outside",
             "tickwidth": 2
            },
            "type": "contourcarpet"
           }
          ],
          "heatmap": [
           {
            "colorbar": {
             "outlinewidth": 0,
             "tickcolor": "rgb(36,36,36)",
             "ticklen": 8,
             "ticks": "outside",
             "tickwidth": 2
            },
            "colorscale": [
             [
              0,
              "rgb(2,4,25)"
             ],
             [
              0.06274509803921569,
              "rgb(24,15,41)"
             ],
             [
              0.12549019607843137,
              "rgb(47,23,57)"
             ],
             [
              0.18823529411764706,
              "rgb(71,28,72)"
             ],
             [
              0.25098039215686274,
              "rgb(97,30,82)"
             ],
             [
              0.3137254901960784,
              "rgb(123,30,89)"
             ],
             [
              0.3764705882352941,
              "rgb(150,27,91)"
             ],
             [
              0.4392156862745098,
              "rgb(177,22,88)"
             ],
             [
              0.5019607843137255,
              "rgb(203,26,79)"
             ],
             [
              0.5647058823529412,
              "rgb(223,47,67)"
             ],
             [
              0.6274509803921569,
              "rgb(236,76,61)"
             ],
             [
              0.6901960784313725,
              "rgb(242,107,73)"
             ],
             [
              0.7529411764705882,
              "rgb(244,135,95)"
             ],
             [
              0.8156862745098039,
              "rgb(245,162,122)"
             ],
             [
              0.8784313725490196,
              "rgb(246,188,153)"
             ],
             [
              0.9411764705882353,
              "rgb(247,212,187)"
             ],
             [
              1,
              "rgb(250,234,220)"
             ]
            ],
            "type": "heatmap"
           }
          ],
          "heatmapgl": [
           {
            "colorbar": {
             "outlinewidth": 0,
             "tickcolor": "rgb(36,36,36)",
             "ticklen": 8,
             "ticks": "outside",
             "tickwidth": 2
            },
            "colorscale": [
             [
              0,
              "rgb(2,4,25)"
             ],
             [
              0.06274509803921569,
              "rgb(24,15,41)"
             ],
             [
              0.12549019607843137,
              "rgb(47,23,57)"
             ],
             [
              0.18823529411764706,
              "rgb(71,28,72)"
             ],
             [
              0.25098039215686274,
              "rgb(97,30,82)"
             ],
             [
              0.3137254901960784,
              "rgb(123,30,89)"
             ],
             [
              0.3764705882352941,
              "rgb(150,27,91)"
             ],
             [
              0.4392156862745098,
              "rgb(177,22,88)"
             ],
             [
              0.5019607843137255,
              "rgb(203,26,79)"
             ],
             [
              0.5647058823529412,
              "rgb(223,47,67)"
             ],
             [
              0.6274509803921569,
              "rgb(236,76,61)"
             ],
             [
              0.6901960784313725,
              "rgb(242,107,73)"
             ],
             [
              0.7529411764705882,
              "rgb(244,135,95)"
             ],
             [
              0.8156862745098039,
              "rgb(245,162,122)"
             ],
             [
              0.8784313725490196,
              "rgb(246,188,153)"
             ],
             [
              0.9411764705882353,
              "rgb(247,212,187)"
             ],
             [
              1,
              "rgb(250,234,220)"
             ]
            ],
            "type": "heatmapgl"
           }
          ],
          "histogram": [
           {
            "marker": {
             "colorbar": {
              "outlinewidth": 0,
              "tickcolor": "rgb(36,36,36)",
              "ticklen": 8,
              "ticks": "outside",
              "tickwidth": 2
             }
            },
            "type": "histogram"
           }
          ],
          "histogram2d": [
           {
            "colorbar": {
             "outlinewidth": 0,
             "tickcolor": "rgb(36,36,36)",
             "ticklen": 8,
             "ticks": "outside",
             "tickwidth": 2
            },
            "colorscale": [
             [
              0,
              "rgb(2,4,25)"
             ],
             [
              0.06274509803921569,
              "rgb(24,15,41)"
             ],
             [
              0.12549019607843137,
              "rgb(47,23,57)"
             ],
             [
              0.18823529411764706,
              "rgb(71,28,72)"
             ],
             [
              0.25098039215686274,
              "rgb(97,30,82)"
             ],
             [
              0.3137254901960784,
              "rgb(123,30,89)"
             ],
             [
              0.3764705882352941,
              "rgb(150,27,91)"
             ],
             [
              0.4392156862745098,
              "rgb(177,22,88)"
             ],
             [
              0.5019607843137255,
              "rgb(203,26,79)"
             ],
             [
              0.5647058823529412,
              "rgb(223,47,67)"
             ],
             [
              0.6274509803921569,
              "rgb(236,76,61)"
             ],
             [
              0.6901960784313725,
              "rgb(242,107,73)"
             ],
             [
              0.7529411764705882,
              "rgb(244,135,95)"
             ],
             [
              0.8156862745098039,
              "rgb(245,162,122)"
             ],
             [
              0.8784313725490196,
              "rgb(246,188,153)"
             ],
             [
              0.9411764705882353,
              "rgb(247,212,187)"
             ],
             [
              1,
              "rgb(250,234,220)"
             ]
            ],
            "type": "histogram2d"
           }
          ],
          "histogram2dcontour": [
           {
            "colorbar": {
             "outlinewidth": 0,
             "tickcolor": "rgb(36,36,36)",
             "ticklen": 8,
             "ticks": "outside",
             "tickwidth": 2
            },
            "colorscale": [
             [
              0,
              "rgb(2,4,25)"
             ],
             [
              0.06274509803921569,
              "rgb(24,15,41)"
             ],
             [
              0.12549019607843137,
              "rgb(47,23,57)"
             ],
             [
              0.18823529411764706,
              "rgb(71,28,72)"
             ],
             [
              0.25098039215686274,
              "rgb(97,30,82)"
             ],
             [
              0.3137254901960784,
              "rgb(123,30,89)"
             ],
             [
              0.3764705882352941,
              "rgb(150,27,91)"
             ],
             [
              0.4392156862745098,
              "rgb(177,22,88)"
             ],
             [
              0.5019607843137255,
              "rgb(203,26,79)"
             ],
             [
              0.5647058823529412,
              "rgb(223,47,67)"
             ],
             [
              0.6274509803921569,
              "rgb(236,76,61)"
             ],
             [
              0.6901960784313725,
              "rgb(242,107,73)"
             ],
             [
              0.7529411764705882,
              "rgb(244,135,95)"
             ],
             [
              0.8156862745098039,
              "rgb(245,162,122)"
             ],
             [
              0.8784313725490196,
              "rgb(246,188,153)"
             ],
             [
              0.9411764705882353,
              "rgb(247,212,187)"
             ],
             [
              1,
              "rgb(250,234,220)"
             ]
            ],
            "type": "histogram2dcontour"
           }
          ],
          "mesh3d": [
           {
            "colorbar": {
             "outlinewidth": 0,
             "tickcolor": "rgb(36,36,36)",
             "ticklen": 8,
             "ticks": "outside",
             "tickwidth": 2
            },
            "type": "mesh3d"
           }
          ],
          "parcoords": [
           {
            "line": {
             "colorbar": {
              "outlinewidth": 0,
              "tickcolor": "rgb(36,36,36)",
              "ticklen": 8,
              "ticks": "outside",
              "tickwidth": 2
             }
            },
            "type": "parcoords"
           }
          ],
          "pie": [
           {
            "automargin": true,
            "type": "pie"
           }
          ],
          "scatter": [
           {
            "marker": {
             "colorbar": {
              "outlinewidth": 0,
              "tickcolor": "rgb(36,36,36)",
              "ticklen": 8,
              "ticks": "outside",
              "tickwidth": 2
             }
            },
            "type": "scatter"
           }
          ],
          "scatter3d": [
           {
            "line": {
             "colorbar": {
              "outlinewidth": 0,
              "tickcolor": "rgb(36,36,36)",
              "ticklen": 8,
              "ticks": "outside",
              "tickwidth": 2
             }
            },
            "marker": {
             "colorbar": {
              "outlinewidth": 0,
              "tickcolor": "rgb(36,36,36)",
              "ticklen": 8,
              "ticks": "outside",
              "tickwidth": 2
             }
            },
            "type": "scatter3d"
           }
          ],
          "scattercarpet": [
           {
            "marker": {
             "colorbar": {
              "outlinewidth": 0,
              "tickcolor": "rgb(36,36,36)",
              "ticklen": 8,
              "ticks": "outside",
              "tickwidth": 2
             }
            },
            "type": "scattercarpet"
           }
          ],
          "scattergeo": [
           {
            "marker": {
             "colorbar": {
              "outlinewidth": 0,
              "tickcolor": "rgb(36,36,36)",
              "ticklen": 8,
              "ticks": "outside",
              "tickwidth": 2
             }
            },
            "type": "scattergeo"
           }
          ],
          "scattergl": [
           {
            "marker": {
             "colorbar": {
              "outlinewidth": 0,
              "tickcolor": "rgb(36,36,36)",
              "ticklen": 8,
              "ticks": "outside",
              "tickwidth": 2
             }
            },
            "type": "scattergl"
           }
          ],
          "scattermapbox": [
           {
            "marker": {
             "colorbar": {
              "outlinewidth": 0,
              "tickcolor": "rgb(36,36,36)",
              "ticklen": 8,
              "ticks": "outside",
              "tickwidth": 2
             }
            },
            "type": "scattermapbox"
           }
          ],
          "scatterpolar": [
           {
            "marker": {
             "colorbar": {
              "outlinewidth": 0,
              "tickcolor": "rgb(36,36,36)",
              "ticklen": 8,
              "ticks": "outside",
              "tickwidth": 2
             }
            },
            "type": "scatterpolar"
           }
          ],
          "scatterpolargl": [
           {
            "marker": {
             "colorbar": {
              "outlinewidth": 0,
              "tickcolor": "rgb(36,36,36)",
              "ticklen": 8,
              "ticks": "outside",
              "tickwidth": 2
             }
            },
            "type": "scatterpolargl"
           }
          ],
          "scatterternary": [
           {
            "marker": {
             "colorbar": {
              "outlinewidth": 0,
              "tickcolor": "rgb(36,36,36)",
              "ticklen": 8,
              "ticks": "outside",
              "tickwidth": 2
             }
            },
            "type": "scatterternary"
           }
          ],
          "surface": [
           {
            "colorbar": {
             "outlinewidth": 0,
             "tickcolor": "rgb(36,36,36)",
             "ticklen": 8,
             "ticks": "outside",
             "tickwidth": 2
            },
            "colorscale": [
             [
              0,
              "rgb(2,4,25)"
             ],
             [
              0.06274509803921569,
              "rgb(24,15,41)"
             ],
             [
              0.12549019607843137,
              "rgb(47,23,57)"
             ],
             [
              0.18823529411764706,
              "rgb(71,28,72)"
             ],
             [
              0.25098039215686274,
              "rgb(97,30,82)"
             ],
             [
              0.3137254901960784,
              "rgb(123,30,89)"
             ],
             [
              0.3764705882352941,
              "rgb(150,27,91)"
             ],
             [
              0.4392156862745098,
              "rgb(177,22,88)"
             ],
             [
              0.5019607843137255,
              "rgb(203,26,79)"
             ],
             [
              0.5647058823529412,
              "rgb(223,47,67)"
             ],
             [
              0.6274509803921569,
              "rgb(236,76,61)"
             ],
             [
              0.6901960784313725,
              "rgb(242,107,73)"
             ],
             [
              0.7529411764705882,
              "rgb(244,135,95)"
             ],
             [
              0.8156862745098039,
              "rgb(245,162,122)"
             ],
             [
              0.8784313725490196,
              "rgb(246,188,153)"
             ],
             [
              0.9411764705882353,
              "rgb(247,212,187)"
             ],
             [
              1,
              "rgb(250,234,220)"
             ]
            ],
            "type": "surface"
           }
          ],
          "table": [
           {
            "cells": {
             "fill": {
              "color": "rgb(231,231,240)"
             },
             "line": {
              "color": "white"
             }
            },
            "header": {
             "fill": {
              "color": "rgb(183,183,191)"
             },
             "line": {
              "color": "white"
             }
            },
            "type": "table"
           }
          ]
         },
         "layout": {
          "annotationdefaults": {
           "arrowcolor": "rgb(67,103,167)"
          },
          "coloraxis": {
           "colorbar": {
            "outlinewidth": 0,
            "tickcolor": "rgb(36,36,36)",
            "ticklen": 8,
            "ticks": "outside",
            "tickwidth": 2
           }
          },
          "colorscale": {
           "sequential": [
            [
             0,
             "rgb(2,4,25)"
            ],
            [
             0.06274509803921569,
             "rgb(24,15,41)"
            ],
            [
             0.12549019607843137,
             "rgb(47,23,57)"
            ],
            [
             0.18823529411764706,
             "rgb(71,28,72)"
            ],
            [
             0.25098039215686274,
             "rgb(97,30,82)"
            ],
            [
             0.3137254901960784,
             "rgb(123,30,89)"
            ],
            [
             0.3764705882352941,
             "rgb(150,27,91)"
            ],
            [
             0.4392156862745098,
             "rgb(177,22,88)"
            ],
            [
             0.5019607843137255,
             "rgb(203,26,79)"
            ],
            [
             0.5647058823529412,
             "rgb(223,47,67)"
            ],
            [
             0.6274509803921569,
             "rgb(236,76,61)"
            ],
            [
             0.6901960784313725,
             "rgb(242,107,73)"
            ],
            [
             0.7529411764705882,
             "rgb(244,135,95)"
            ],
            [
             0.8156862745098039,
             "rgb(245,162,122)"
            ],
            [
             0.8784313725490196,
             "rgb(246,188,153)"
            ],
            [
             0.9411764705882353,
             "rgb(247,212,187)"
            ],
            [
             1,
             "rgb(250,234,220)"
            ]
           ],
           "sequentialminus": [
            [
             0,
             "rgb(2,4,25)"
            ],
            [
             0.06274509803921569,
             "rgb(24,15,41)"
            ],
            [
             0.12549019607843137,
             "rgb(47,23,57)"
            ],
            [
             0.18823529411764706,
             "rgb(71,28,72)"
            ],
            [
             0.25098039215686274,
             "rgb(97,30,82)"
            ],
            [
             0.3137254901960784,
             "rgb(123,30,89)"
            ],
            [
             0.3764705882352941,
             "rgb(150,27,91)"
            ],
            [
             0.4392156862745098,
             "rgb(177,22,88)"
            ],
            [
             0.5019607843137255,
             "rgb(203,26,79)"
            ],
            [
             0.5647058823529412,
             "rgb(223,47,67)"
            ],
            [
             0.6274509803921569,
             "rgb(236,76,61)"
            ],
            [
             0.6901960784313725,
             "rgb(242,107,73)"
            ],
            [
             0.7529411764705882,
             "rgb(244,135,95)"
            ],
            [
             0.8156862745098039,
             "rgb(245,162,122)"
            ],
            [
             0.8784313725490196,
             "rgb(246,188,153)"
            ],
            [
             0.9411764705882353,
             "rgb(247,212,187)"
            ],
            [
             1,
             "rgb(250,234,220)"
            ]
           ]
          },
          "colorway": [
           "rgb(76,114,176)",
           "rgb(221,132,82)",
           "rgb(85,168,104)",
           "rgb(196,78,82)",
           "rgb(129,114,179)",
           "rgb(147,120,96)",
           "rgb(218,139,195)",
           "rgb(140,140,140)",
           "rgb(204,185,116)",
           "rgb(100,181,205)"
          ],
          "font": {
           "color": "rgb(36,36,36)"
          },
          "geo": {
           "bgcolor": "white",
           "lakecolor": "white",
           "landcolor": "rgb(234,234,242)",
           "showlakes": true,
           "showland": true,
           "subunitcolor": "white"
          },
          "hoverlabel": {
           "align": "left"
          },
          "hovermode": "closest",
          "paper_bgcolor": "white",
          "plot_bgcolor": "rgb(234,234,242)",
          "polar": {
           "angularaxis": {
            "gridcolor": "white",
            "linecolor": "white",
            "showgrid": true,
            "ticks": ""
           },
           "bgcolor": "rgb(234,234,242)",
           "radialaxis": {
            "gridcolor": "white",
            "linecolor": "white",
            "showgrid": true,
            "ticks": ""
           }
          },
          "scene": {
           "xaxis": {
            "backgroundcolor": "rgb(234,234,242)",
            "gridcolor": "white",
            "gridwidth": 2,
            "linecolor": "white",
            "showbackground": true,
            "showgrid": true,
            "ticks": "",
            "zerolinecolor": "white"
           },
           "yaxis": {
            "backgroundcolor": "rgb(234,234,242)",
            "gridcolor": "white",
            "gridwidth": 2,
            "linecolor": "white",
            "showbackground": true,
            "showgrid": true,
            "ticks": "",
            "zerolinecolor": "white"
           },
           "zaxis": {
            "backgroundcolor": "rgb(234,234,242)",
            "gridcolor": "white",
            "gridwidth": 2,
            "linecolor": "white",
            "showbackground": true,
            "showgrid": true,
            "ticks": "",
            "zerolinecolor": "white"
           }
          },
          "shapedefaults": {
           "fillcolor": "rgb(67,103,167)",
           "line": {
            "width": 0
           },
           "opacity": 0.5
          },
          "ternary": {
           "aaxis": {
            "gridcolor": "white",
            "linecolor": "white",
            "showgrid": true,
            "ticks": ""
           },
           "baxis": {
            "gridcolor": "white",
            "linecolor": "white",
            "showgrid": true,
            "ticks": ""
           },
           "bgcolor": "rgb(234,234,242)",
           "caxis": {
            "gridcolor": "white",
            "linecolor": "white",
            "showgrid": true,
            "ticks": ""
           }
          },
          "xaxis": {
           "automargin": true,
           "gridcolor": "white",
           "linecolor": "white",
           "showgrid": true,
           "ticks": "",
           "title": {
            "standoff": 15
           },
           "zerolinecolor": "white"
          },
          "yaxis": {
           "automargin": true,
           "gridcolor": "white",
           "linecolor": "white",
           "showgrid": true,
           "ticks": "",
           "title": {
            "standoff": 15
           },
           "zerolinecolor": "white"
          }
         }
        },
        "title": {
         "text": "Total magnetization"
        },
        "width": 2000,
        "yaxis": {
         "title": {
          "text": "Total magnetization"
         }
        }
       }
      },
      "text/html": [
       "<div>                            <div id=\"2695f96a-d3bd-48a5-97ec-2d8f60e9db69\" class=\"plotly-graph-div\" style=\"height:525px; width:2000px;\"></div>            <script type=\"text/javascript\">                require([\"plotly\"], function(Plotly) {                    window.PLOTLYENV=window.PLOTLYENV || {};                                    if (document.getElementById(\"2695f96a-d3bd-48a5-97ec-2d8f60e9db69\")) {                    Plotly.newPlot(                        \"2695f96a-d3bd-48a5-97ec-2d8f60e9db69\",                        [{\"name\": \"bare\", \"type\": \"bar\", \"x\": [\"SrTcO3\", \"BaFeO3\", \"BaMoO3\", \"KTaO3\", \"BaZrO3\", \"SrFeO3\", \"KTcO3\", \"NaTcO3\", \"BaHfO3\", \"SrTiO3\", \"SrCuO3\", \"KNbO3\", \"NaTaO3\", \"BaScO3\", \"BaPdO3\", \"BaTaO3\", \"SrHfO3\", \"NaOsO3\", \"TlTcO3\", \"KReO3\", \"SrRuO3\", \"KHfO3\", \"SrVO3\", \"KOsO3\", \"TaAgO3\", \"SrNiO3\", \"RbIrO3\", \"NaReO3\", \"SrMnO3\", \"CaFeO3\", \"SrZrO3\", \"NaWO3\", \"RbTaO3\", \"SrCoO3\", \"SrTaO3\", \"KZrO3\", \"CaTiO3\", \"NaRuO3\", \"LiTcO3\", \"SrPdO3\", \"KWO3\", \"KRhO3\", \"BaCuO3\", \"RbNbO3\", \"BaOsO3\", \"BaRuO3\", \"KRuO3\", \"SrMoO3\", \"NaTiO3\", \"SrScO3\", \"RbOsO3\", \"SrRhO3\", \"NaMoO3\", \"SrOsO3\", \"BaRhO3\", \"BaPtO3\", \"CaVO3\", \"KMoO3\", \"SrCrO3\", \"SrAgO3\", \"RbRhO3\", \"BaVO3\", \"CaCoO3\", \"CaMnO3\", \"KPtO3\", \"BaNiO3\", \"BaMnO3\", \"SrReO3\", \"BaReO3\", \"SrIrO3\", \"NaVO3\", \"NaFeO3\", \"BaIrO3\", \"RbReO3\", \"CaRuO3\", \"RbPdO3\", \"CaHfO3\", \"TlWO3\", \"RbWO3\", \"RbPtO3\"], \"y\": [13.642, 59.992, 24.0, 0.0, 0.0, 53.798, 0.0, 0.01, -0.0, 0.0, 13.957, -0.19, 0.001, 12.0, 16.38, 2.961, -0.0, 7.513, 1.901, 1.071, 25.619, 4.932, 12.0, 8.741, -0.001, 17.207, 9.654, 1.179, 36.466, 53.463, 0.0, 16.0, -0.0, 40.892, 3.837, 5.241, 0.0, 7.614, 0.296, 13.908, 16.0, 25.241, 15.902, -0.001, 12.877, 25.433, 7.424, 24.0, 4.732, 12.0, 8.972, 24.126, 16.0, 10.28, 23.059, 5.274, 12.0, 16.0, 24.0, 9.5, 24.842, 12.0, 37.866, 39.605, 19.719, 31.494, 38.0, 10.866, 10.192, 6.834, 4.0, 61.143, 9.947, 1.075, 25.842, 24.444, -0.0, 16.0, 16.0, 20.962]}, {\"name\": \"OOH\", \"type\": \"bar\", \"x\": [\"SrTcO3\", \"BaFeO3\", \"BaMoO3\", \"KTaO3\", \"BaZrO3\", \"SrFeO3\", \"KTcO3\", \"NaTcO3\", \"BaHfO3\", \"SrTiO3\", \"SrCuO3\", \"KNbO3\", \"NaTaO3\", \"BaScO3\", \"BaPdO3\", \"BaTaO3\", \"SrHfO3\", \"NaOsO3\", \"TlTcO3\", \"KReO3\", \"SrRuO3\", \"KHfO3\", \"SrVO3\", \"KOsO3\", \"TaAgO3\", \"SrNiO3\", \"RbIrO3\", \"NaReO3\", \"SrMnO3\", \"CaFeO3\", \"SrZrO3\", \"NaWO3\", \"RbTaO3\", \"SrCoO3\", \"SrTaO3\", \"KZrO3\", \"CaTiO3\", \"NaRuO3\", \"LiTcO3\", \"SrPdO3\", \"KWO3\", \"KRhO3\", \"BaCuO3\", \"RbNbO3\", \"BaOsO3\", \"BaRuO3\", \"KRuO3\", \"SrMoO3\", \"NaTiO3\", \"SrScO3\", \"RbOsO3\", \"SrRhO3\", \"NaMoO3\", \"SrOsO3\", \"BaRhO3\", \"BaPtO3\", \"CaVO3\", \"KMoO3\", \"SrCrO3\", \"SrAgO3\", \"RbRhO3\", \"BaVO3\", \"CaCoO3\", \"CaMnO3\", \"KPtO3\", \"BaNiO3\", \"BaMnO3\", \"SrReO3\", \"BaReO3\", \"SrIrO3\", \"NaVO3\", \"NaFeO3\", \"BaIrO3\", \"RbReO3\", \"CaRuO3\", \"RbPdO3\", \"CaHfO3\", \"TlWO3\", \"RbWO3\", \"RbPtO3\"], \"y\": [10.741, 60.985, 23.0, 0.989, -0.002, 54.683, -1.053, -0.345, 0.629, -0.736, 14.04, 1.036, 0.997, 13.0, 16.342, 0.992, -0.629, 4.478, -1.063, 0.594, 24.881, 6.686, 11.0, 0.114, 1.503, 3.112, 10.417, 0.598, 22.298, 54.403, 0.659, \"NaN\", 0.993, 40.256, 1.566, 8.241, -0.684, 7.448, -0.11, 11.199, 15.0, 22.503, 16.833, 1.109, 1.199, 24.939, 7.791, 23.0, 8.033, 13.0, 0.131, 21.172, 14.995, \"NaN\", 23.191, 11.146, 11.0, 14.995, 23.0, 8.522, 20.355, 11.0, 38.869, 20.118, 18.436, 32.448, 38.998, 4.864, 8.523, 7.542, 3.0, 61.846, 12.213, 0.57, 12.809, 22.0, -0.627, 15.0, 15.0, 19.01]}, {\"name\": \"O\", \"type\": \"bar\", \"x\": [\"SrTcO3\", \"BaFeO3\", \"BaMoO3\", \"KTaO3\", \"BaZrO3\", \"SrFeO3\", \"KTcO3\", \"NaTcO3\", \"BaHfO3\", \"SrTiO3\", \"SrCuO3\", \"KNbO3\", \"NaTaO3\", \"BaScO3\", \"BaPdO3\", \"BaTaO3\", \"SrHfO3\", \"NaOsO3\", \"TlTcO3\", \"KReO3\", \"SrRuO3\", \"KHfO3\", \"SrVO3\", \"KOsO3\", \"TaAgO3\", \"SrNiO3\", \"RbIrO3\", \"NaReO3\", \"SrMnO3\", \"CaFeO3\", \"SrZrO3\", \"NaWO3\", \"RbTaO3\", \"SrCoO3\", \"SrTaO3\", \"KZrO3\", \"CaTiO3\", \"NaRuO3\", \"LiTcO3\", \"SrPdO3\", \"KWO3\", \"KRhO3\", \"BaCuO3\", \"RbNbO3\", \"BaOsO3\", \"BaRuO3\", \"KRuO3\", \"SrMoO3\", \"NaTiO3\", \"SrScO3\", \"RbOsO3\", \"SrRhO3\", \"NaMoO3\", \"SrOsO3\", \"BaRhO3\", \"BaPtO3\", \"CaVO3\", \"KMoO3\", \"SrCrO3\", \"SrAgO3\", \"RbRhO3\", \"BaVO3\", \"CaCoO3\", \"CaMnO3\", \"KPtO3\", \"BaNiO3\", \"BaMnO3\", \"SrReO3\", \"BaReO3\", \"SrIrO3\", \"NaVO3\", \"NaFeO3\", \"BaIrO3\", \"RbReO3\", \"CaRuO3\", \"RbPdO3\", \"CaHfO3\", \"TlWO3\", \"RbWO3\", \"RbPtO3\"], \"y\": [6.83, 56.636, 22.0, 1.665, -1.331, 47.49, 0.934, 1.126, 1.393, 1.079, 14.539, 1.765, -0.001, 14.0, 17.483, 2.088, 1.478, 5.937, 0.757, 1.25, 18.009, 9.185, 10.0, 5.848, 1.957, 18.809, 10.319, 1.234, 14.883, 53.06, 1.528, 12.0, 1.602, 40.821, 2.415, 9.662, 0.982, 6.558, 0.391, 14.561, 14.0, 26.023, 17.922, 1.739, 6.867, 23.918, 4.61, 22.0, 9.037, 14.0, \"NaN\", 16.696, 13.5, \"NaN\", 25.005, 11.369, 8.0, 13.5, 22.0, 9.5, 25.602, 10.0, 39.031, 14.563, 18.359, 31.316, 36.0, 9.173, 9.093, 6.252, 2.008, 59.982, 9.913, 1.184, 16.933, 23.0, 1.301, 14.0, 14.0, 18.896]}, {\"name\": \"OH\", \"type\": \"bar\", \"x\": [\"SrTcO3\", \"BaFeO3\", \"BaMoO3\", \"KTaO3\", \"BaZrO3\", \"SrFeO3\", \"KTcO3\", \"NaTcO3\", \"BaHfO3\", \"SrTiO3\", \"SrCuO3\", \"KNbO3\", \"NaTaO3\", \"BaScO3\", \"BaPdO3\", \"BaTaO3\", \"SrHfO3\", \"NaOsO3\", \"TlTcO3\", \"KReO3\", \"SrRuO3\", \"KHfO3\", \"SrVO3\", \"KOsO3\", \"TaAgO3\", \"SrNiO3\", \"RbIrO3\", \"NaReO3\", \"SrMnO3\", \"CaFeO3\", \"SrZrO3\", \"NaWO3\", \"RbTaO3\", \"SrCoO3\", \"SrTaO3\", \"KZrO3\", \"CaTiO3\", \"NaRuO3\", \"LiTcO3\", \"SrPdO3\", \"KWO3\", \"KRhO3\", \"BaCuO3\", \"RbNbO3\", \"BaOsO3\", \"BaRuO3\", \"KRuO3\", \"SrMoO3\", \"NaTiO3\", \"SrScO3\", \"RbOsO3\", \"SrRhO3\", \"NaMoO3\", \"SrOsO3\", \"BaRhO3\", \"BaPtO3\", \"CaVO3\", \"KMoO3\", \"SrCrO3\", \"SrAgO3\", \"RbRhO3\", \"BaVO3\", \"CaCoO3\", \"CaMnO3\", \"KPtO3\", \"BaNiO3\", \"BaMnO3\", \"SrReO3\", \"BaReO3\", \"SrIrO3\", \"NaVO3\", \"NaFeO3\", \"BaIrO3\", \"RbReO3\", \"CaRuO3\", \"RbPdO3\", \"CaHfO3\", \"TlWO3\", \"RbWO3\", \"RbPtO3\"], \"y\": [10.772, 58.79, 23.0, 0.991, 0.216, 53.888, -0.566, 0.48, 0.002, 0.001, 13.012, 1.066, 0.997, 13.0, 16.407, 2.758, -0.063, 2.003, -2.579, 0.643, 23.548, 7.71, 11.0, -0.079, 1.506, 13.761, 10.66, 0.674, 21.566, 53.039, 0.059, \"NaN\", 0.999, 40.519, 3.124, 8.483, 0.0, 7.917, -0.181, 11.47, 15.0, 24.021, 16.337, 1.16, 2.354, 24.9, 8.2, 23.0, 7.308, 13.0, 4.054, 21.386, 15.0, 10.492, 23.853, 10.806, 11.0, 15.0, 23.0, 8.498, 22.122, 11.0, 38.553, 35.461, 18.808, 30.175, 37.0, 7.049, 9.607, 6.382, 3.0, 60.789, 10.748, 0.637, 18.609, 22.0, 0.059, 15.0, 15.0, 19.65]}],                        {\"template\": {\"data\": {\"bar\": [{\"error_x\": {\"color\": \"rgb(36,36,36)\"}, \"error_y\": {\"color\": \"rgb(36,36,36)\"}, \"marker\": {\"line\": {\"color\": \"rgb(234,234,242)\", \"width\": 0.5}}, \"type\": \"bar\"}], \"barpolar\": [{\"marker\": {\"line\": {\"color\": \"rgb(234,234,242)\", \"width\": 0.5}}, \"type\": \"barpolar\"}], \"carpet\": [{\"aaxis\": {\"endlinecolor\": \"rgb(36,36,36)\", \"gridcolor\": \"white\", \"linecolor\": \"white\", \"minorgridcolor\": \"white\", \"startlinecolor\": \"rgb(36,36,36)\"}, \"baxis\": {\"endlinecolor\": \"rgb(36,36,36)\", \"gridcolor\": \"white\", \"linecolor\": \"white\", \"minorgridcolor\": \"white\", \"startlinecolor\": \"rgb(36,36,36)\"}, \"type\": \"carpet\"}], \"choropleth\": [{\"colorbar\": {\"outlinewidth\": 0, \"tickcolor\": \"rgb(36,36,36)\", \"ticklen\": 8, \"ticks\": \"outside\", \"tickwidth\": 2}, \"type\": \"choropleth\"}], \"contour\": [{\"colorbar\": {\"outlinewidth\": 0, \"tickcolor\": \"rgb(36,36,36)\", \"ticklen\": 8, \"ticks\": \"outside\", \"tickwidth\": 2}, \"colorscale\": [[0.0, \"rgb(2,4,25)\"], [0.06274509803921569, \"rgb(24,15,41)\"], [0.12549019607843137, \"rgb(47,23,57)\"], [0.18823529411764706, \"rgb(71,28,72)\"], [0.25098039215686274, \"rgb(97,30,82)\"], [0.3137254901960784, \"rgb(123,30,89)\"], [0.3764705882352941, \"rgb(150,27,91)\"], [0.4392156862745098, \"rgb(177,22,88)\"], [0.5019607843137255, \"rgb(203,26,79)\"], [0.5647058823529412, \"rgb(223,47,67)\"], [0.6274509803921569, \"rgb(236,76,61)\"], [0.6901960784313725, \"rgb(242,107,73)\"], [0.7529411764705882, \"rgb(244,135,95)\"], [0.8156862745098039, \"rgb(245,162,122)\"], [0.8784313725490196, \"rgb(246,188,153)\"], [0.9411764705882353, \"rgb(247,212,187)\"], [1.0, \"rgb(250,234,220)\"]], \"type\": \"contour\"}], \"contourcarpet\": [{\"colorbar\": {\"outlinewidth\": 0, \"tickcolor\": \"rgb(36,36,36)\", \"ticklen\": 8, \"ticks\": \"outside\", \"tickwidth\": 2}, \"type\": \"contourcarpet\"}], \"heatmap\": [{\"colorbar\": {\"outlinewidth\": 0, \"tickcolor\": \"rgb(36,36,36)\", \"ticklen\": 8, \"ticks\": \"outside\", \"tickwidth\": 2}, \"colorscale\": [[0.0, \"rgb(2,4,25)\"], [0.06274509803921569, \"rgb(24,15,41)\"], [0.12549019607843137, \"rgb(47,23,57)\"], [0.18823529411764706, \"rgb(71,28,72)\"], [0.25098039215686274, \"rgb(97,30,82)\"], [0.3137254901960784, \"rgb(123,30,89)\"], [0.3764705882352941, \"rgb(150,27,91)\"], [0.4392156862745098, \"rgb(177,22,88)\"], [0.5019607843137255, \"rgb(203,26,79)\"], [0.5647058823529412, \"rgb(223,47,67)\"], [0.6274509803921569, \"rgb(236,76,61)\"], [0.6901960784313725, \"rgb(242,107,73)\"], [0.7529411764705882, \"rgb(244,135,95)\"], [0.8156862745098039, \"rgb(245,162,122)\"], [0.8784313725490196, \"rgb(246,188,153)\"], [0.9411764705882353, \"rgb(247,212,187)\"], [1.0, \"rgb(250,234,220)\"]], \"type\": \"heatmap\"}], \"heatmapgl\": [{\"colorbar\": {\"outlinewidth\": 0, \"tickcolor\": \"rgb(36,36,36)\", \"ticklen\": 8, \"ticks\": \"outside\", \"tickwidth\": 2}, \"colorscale\": [[0.0, \"rgb(2,4,25)\"], [0.06274509803921569, \"rgb(24,15,41)\"], [0.12549019607843137, \"rgb(47,23,57)\"], [0.18823529411764706, \"rgb(71,28,72)\"], [0.25098039215686274, \"rgb(97,30,82)\"], [0.3137254901960784, \"rgb(123,30,89)\"], [0.3764705882352941, \"rgb(150,27,91)\"], [0.4392156862745098, \"rgb(177,22,88)\"], [0.5019607843137255, \"rgb(203,26,79)\"], [0.5647058823529412, \"rgb(223,47,67)\"], [0.6274509803921569, \"rgb(236,76,61)\"], [0.6901960784313725, \"rgb(242,107,73)\"], [0.7529411764705882, \"rgb(244,135,95)\"], [0.8156862745098039, \"rgb(245,162,122)\"], [0.8784313725490196, \"rgb(246,188,153)\"], [0.9411764705882353, \"rgb(247,212,187)\"], [1.0, \"rgb(250,234,220)\"]], \"type\": \"heatmapgl\"}], \"histogram\": [{\"marker\": {\"colorbar\": {\"outlinewidth\": 0, \"tickcolor\": \"rgb(36,36,36)\", \"ticklen\": 8, \"ticks\": \"outside\", \"tickwidth\": 2}}, \"type\": \"histogram\"}], \"histogram2d\": [{\"colorbar\": {\"outlinewidth\": 0, \"tickcolor\": \"rgb(36,36,36)\", \"ticklen\": 8, \"ticks\": \"outside\", \"tickwidth\": 2}, \"colorscale\": [[0.0, \"rgb(2,4,25)\"], [0.06274509803921569, \"rgb(24,15,41)\"], [0.12549019607843137, \"rgb(47,23,57)\"], [0.18823529411764706, \"rgb(71,28,72)\"], [0.25098039215686274, \"rgb(97,30,82)\"], [0.3137254901960784, \"rgb(123,30,89)\"], [0.3764705882352941, \"rgb(150,27,91)\"], [0.4392156862745098, \"rgb(177,22,88)\"], [0.5019607843137255, \"rgb(203,26,79)\"], [0.5647058823529412, \"rgb(223,47,67)\"], [0.6274509803921569, \"rgb(236,76,61)\"], [0.6901960784313725, \"rgb(242,107,73)\"], [0.7529411764705882, \"rgb(244,135,95)\"], [0.8156862745098039, \"rgb(245,162,122)\"], [0.8784313725490196, \"rgb(246,188,153)\"], [0.9411764705882353, \"rgb(247,212,187)\"], [1.0, \"rgb(250,234,220)\"]], \"type\": \"histogram2d\"}], \"histogram2dcontour\": [{\"colorbar\": {\"outlinewidth\": 0, \"tickcolor\": \"rgb(36,36,36)\", \"ticklen\": 8, \"ticks\": \"outside\", \"tickwidth\": 2}, \"colorscale\": [[0.0, \"rgb(2,4,25)\"], [0.06274509803921569, \"rgb(24,15,41)\"], [0.12549019607843137, \"rgb(47,23,57)\"], [0.18823529411764706, \"rgb(71,28,72)\"], [0.25098039215686274, \"rgb(97,30,82)\"], [0.3137254901960784, \"rgb(123,30,89)\"], [0.3764705882352941, \"rgb(150,27,91)\"], [0.4392156862745098, \"rgb(177,22,88)\"], [0.5019607843137255, \"rgb(203,26,79)\"], [0.5647058823529412, \"rgb(223,47,67)\"], [0.6274509803921569, \"rgb(236,76,61)\"], [0.6901960784313725, \"rgb(242,107,73)\"], [0.7529411764705882, \"rgb(244,135,95)\"], [0.8156862745098039, \"rgb(245,162,122)\"], [0.8784313725490196, \"rgb(246,188,153)\"], [0.9411764705882353, \"rgb(247,212,187)\"], [1.0, \"rgb(250,234,220)\"]], \"type\": \"histogram2dcontour\"}], \"mesh3d\": [{\"colorbar\": {\"outlinewidth\": 0, \"tickcolor\": \"rgb(36,36,36)\", \"ticklen\": 8, \"ticks\": \"outside\", \"tickwidth\": 2}, \"type\": \"mesh3d\"}], \"parcoords\": [{\"line\": {\"colorbar\": {\"outlinewidth\": 0, \"tickcolor\": \"rgb(36,36,36)\", \"ticklen\": 8, \"ticks\": \"outside\", \"tickwidth\": 2}}, \"type\": \"parcoords\"}], \"pie\": [{\"automargin\": true, \"type\": \"pie\"}], \"scatter\": [{\"marker\": {\"colorbar\": {\"outlinewidth\": 0, \"tickcolor\": \"rgb(36,36,36)\", \"ticklen\": 8, \"ticks\": \"outside\", \"tickwidth\": 2}}, \"type\": \"scatter\"}], \"scatter3d\": [{\"line\": {\"colorbar\": {\"outlinewidth\": 0, \"tickcolor\": \"rgb(36,36,36)\", \"ticklen\": 8, \"ticks\": \"outside\", \"tickwidth\": 2}}, \"marker\": {\"colorbar\": {\"outlinewidth\": 0, \"tickcolor\": \"rgb(36,36,36)\", \"ticklen\": 8, \"ticks\": \"outside\", \"tickwidth\": 2}}, \"type\": \"scatter3d\"}], \"scattercarpet\": [{\"marker\": {\"colorbar\": {\"outlinewidth\": 0, \"tickcolor\": \"rgb(36,36,36)\", \"ticklen\": 8, \"ticks\": \"outside\", \"tickwidth\": 2}}, \"type\": \"scattercarpet\"}], \"scattergeo\": [{\"marker\": {\"colorbar\": {\"outlinewidth\": 0, \"tickcolor\": \"rgb(36,36,36)\", \"ticklen\": 8, \"ticks\": \"outside\", \"tickwidth\": 2}}, \"type\": \"scattergeo\"}], \"scattergl\": [{\"marker\": {\"colorbar\": {\"outlinewidth\": 0, \"tickcolor\": \"rgb(36,36,36)\", \"ticklen\": 8, \"ticks\": \"outside\", \"tickwidth\": 2}}, \"type\": \"scattergl\"}], \"scattermapbox\": [{\"marker\": {\"colorbar\": {\"outlinewidth\": 0, \"tickcolor\": \"rgb(36,36,36)\", \"ticklen\": 8, \"ticks\": \"outside\", \"tickwidth\": 2}}, \"type\": \"scattermapbox\"}], \"scatterpolar\": [{\"marker\": {\"colorbar\": {\"outlinewidth\": 0, \"tickcolor\": \"rgb(36,36,36)\", \"ticklen\": 8, \"ticks\": \"outside\", \"tickwidth\": 2}}, \"type\": \"scatterpolar\"}], \"scatterpolargl\": [{\"marker\": {\"colorbar\": {\"outlinewidth\": 0, \"tickcolor\": \"rgb(36,36,36)\", \"ticklen\": 8, \"ticks\": \"outside\", \"tickwidth\": 2}}, \"type\": \"scatterpolargl\"}], \"scatterternary\": [{\"marker\": {\"colorbar\": {\"outlinewidth\": 0, \"tickcolor\": \"rgb(36,36,36)\", \"ticklen\": 8, \"ticks\": \"outside\", \"tickwidth\": 2}}, \"type\": \"scatterternary\"}], \"surface\": [{\"colorbar\": {\"outlinewidth\": 0, \"tickcolor\": \"rgb(36,36,36)\", \"ticklen\": 8, \"ticks\": \"outside\", \"tickwidth\": 2}, \"colorscale\": [[0.0, \"rgb(2,4,25)\"], [0.06274509803921569, \"rgb(24,15,41)\"], [0.12549019607843137, \"rgb(47,23,57)\"], [0.18823529411764706, \"rgb(71,28,72)\"], [0.25098039215686274, \"rgb(97,30,82)\"], [0.3137254901960784, \"rgb(123,30,89)\"], [0.3764705882352941, \"rgb(150,27,91)\"], [0.4392156862745098, \"rgb(177,22,88)\"], [0.5019607843137255, \"rgb(203,26,79)\"], [0.5647058823529412, \"rgb(223,47,67)\"], [0.6274509803921569, \"rgb(236,76,61)\"], [0.6901960784313725, \"rgb(242,107,73)\"], [0.7529411764705882, \"rgb(244,135,95)\"], [0.8156862745098039, \"rgb(245,162,122)\"], [0.8784313725490196, \"rgb(246,188,153)\"], [0.9411764705882353, \"rgb(247,212,187)\"], [1.0, \"rgb(250,234,220)\"]], \"type\": \"surface\"}], \"table\": [{\"cells\": {\"fill\": {\"color\": \"rgb(231,231,240)\"}, \"line\": {\"color\": \"white\"}}, \"header\": {\"fill\": {\"color\": \"rgb(183,183,191)\"}, \"line\": {\"color\": \"white\"}}, \"type\": \"table\"}]}, \"layout\": {\"annotationdefaults\": {\"arrowcolor\": \"rgb(67,103,167)\"}, \"coloraxis\": {\"colorbar\": {\"outlinewidth\": 0, \"tickcolor\": \"rgb(36,36,36)\", \"ticklen\": 8, \"ticks\": \"outside\", \"tickwidth\": 2}}, \"colorscale\": {\"sequential\": [[0.0, \"rgb(2,4,25)\"], [0.06274509803921569, \"rgb(24,15,41)\"], [0.12549019607843137, \"rgb(47,23,57)\"], [0.18823529411764706, \"rgb(71,28,72)\"], [0.25098039215686274, \"rgb(97,30,82)\"], [0.3137254901960784, \"rgb(123,30,89)\"], [0.3764705882352941, \"rgb(150,27,91)\"], [0.4392156862745098, \"rgb(177,22,88)\"], [0.5019607843137255, \"rgb(203,26,79)\"], [0.5647058823529412, \"rgb(223,47,67)\"], [0.6274509803921569, \"rgb(236,76,61)\"], [0.6901960784313725, \"rgb(242,107,73)\"], [0.7529411764705882, \"rgb(244,135,95)\"], [0.8156862745098039, \"rgb(245,162,122)\"], [0.8784313725490196, \"rgb(246,188,153)\"], [0.9411764705882353, \"rgb(247,212,187)\"], [1.0, \"rgb(250,234,220)\"]], \"sequentialminus\": [[0.0, \"rgb(2,4,25)\"], [0.06274509803921569, \"rgb(24,15,41)\"], [0.12549019607843137, \"rgb(47,23,57)\"], [0.18823529411764706, \"rgb(71,28,72)\"], [0.25098039215686274, \"rgb(97,30,82)\"], [0.3137254901960784, \"rgb(123,30,89)\"], [0.3764705882352941, \"rgb(150,27,91)\"], [0.4392156862745098, \"rgb(177,22,88)\"], [0.5019607843137255, \"rgb(203,26,79)\"], [0.5647058823529412, \"rgb(223,47,67)\"], [0.6274509803921569, \"rgb(236,76,61)\"], [0.6901960784313725, \"rgb(242,107,73)\"], [0.7529411764705882, \"rgb(244,135,95)\"], [0.8156862745098039, \"rgb(245,162,122)\"], [0.8784313725490196, \"rgb(246,188,153)\"], [0.9411764705882353, \"rgb(247,212,187)\"], [1.0, \"rgb(250,234,220)\"]]}, \"colorway\": [\"rgb(76,114,176)\", \"rgb(221,132,82)\", \"rgb(85,168,104)\", \"rgb(196,78,82)\", \"rgb(129,114,179)\", \"rgb(147,120,96)\", \"rgb(218,139,195)\", \"rgb(140,140,140)\", \"rgb(204,185,116)\", \"rgb(100,181,205)\"], \"font\": {\"color\": \"rgb(36,36,36)\"}, \"geo\": {\"bgcolor\": \"white\", \"lakecolor\": \"white\", \"landcolor\": \"rgb(234,234,242)\", \"showlakes\": true, \"showland\": true, \"subunitcolor\": \"white\"}, \"hoverlabel\": {\"align\": \"left\"}, \"hovermode\": \"closest\", \"paper_bgcolor\": \"white\", \"plot_bgcolor\": \"rgb(234,234,242)\", \"polar\": {\"angularaxis\": {\"gridcolor\": \"white\", \"linecolor\": \"white\", \"showgrid\": true, \"ticks\": \"\"}, \"bgcolor\": \"rgb(234,234,242)\", \"radialaxis\": {\"gridcolor\": \"white\", \"linecolor\": \"white\", \"showgrid\": true, \"ticks\": \"\"}}, \"scene\": {\"xaxis\": {\"backgroundcolor\": \"rgb(234,234,242)\", \"gridcolor\": \"white\", \"gridwidth\": 2, \"linecolor\": \"white\", \"showbackground\": true, \"showgrid\": true, \"ticks\": \"\", \"zerolinecolor\": \"white\"}, \"yaxis\": {\"backgroundcolor\": \"rgb(234,234,242)\", \"gridcolor\": \"white\", \"gridwidth\": 2, \"linecolor\": \"white\", \"showbackground\": true, \"showgrid\": true, \"ticks\": \"\", \"zerolinecolor\": \"white\"}, \"zaxis\": {\"backgroundcolor\": \"rgb(234,234,242)\", \"gridcolor\": \"white\", \"gridwidth\": 2, \"linecolor\": \"white\", \"showbackground\": true, \"showgrid\": true, \"ticks\": \"\", \"zerolinecolor\": \"white\"}}, \"shapedefaults\": {\"fillcolor\": \"rgb(67,103,167)\", \"line\": {\"width\": 0}, \"opacity\": 0.5}, \"ternary\": {\"aaxis\": {\"gridcolor\": \"white\", \"linecolor\": \"white\", \"showgrid\": true, \"ticks\": \"\"}, \"baxis\": {\"gridcolor\": \"white\", \"linecolor\": \"white\", \"showgrid\": true, \"ticks\": \"\"}, \"bgcolor\": \"rgb(234,234,242)\", \"caxis\": {\"gridcolor\": \"white\", \"linecolor\": \"white\", \"showgrid\": true, \"ticks\": \"\"}}, \"xaxis\": {\"automargin\": true, \"gridcolor\": \"white\", \"linecolor\": \"white\", \"showgrid\": true, \"ticks\": \"\", \"title\": {\"standoff\": 15}, \"zerolinecolor\": \"white\"}, \"yaxis\": {\"automargin\": true, \"gridcolor\": \"white\", \"linecolor\": \"white\", \"showgrid\": true, \"ticks\": \"\", \"title\": {\"standoff\": 15}, \"zerolinecolor\": \"white\"}}}, \"title\": {\"text\": \"Total magnetization\"}, \"width\": 2000, \"yaxis\": {\"title\": {\"text\": \"Total magnetization\"}}},                        {\"responsive\": true}                    ).then(function(){\n",
       "                            \n",
       "var gd = document.getElementById('2695f96a-d3bd-48a5-97ec-2d8f60e9db69');\n",
       "var x = new MutationObserver(function (mutations, observer) {{\n",
       "        var display = window.getComputedStyle(gd).display;\n",
       "        if (!display || display === 'none') {{\n",
       "            console.log([gd, 'removed!']);\n",
       "            Plotly.purge(gd);\n",
       "            observer.disconnect();\n",
       "        }}\n",
       "}});\n",
       "\n",
       "// Listen for the removal of the full notebook cells\n",
       "var notebookContainer = gd.closest('#notebook-container');\n",
       "if (notebookContainer) {{\n",
       "    x.observe(notebookContainer, {childList: true});\n",
       "}}\n",
       "\n",
       "// Listen for the clearing of the current output cell\n",
       "var outputEl = gd.closest('.output');\n",
       "if (outputEl) {{\n",
       "    x.observe(outputEl, {childList: true});\n",
       "}}\n",
       "\n",
       "                        })                };                });            </script>        </div>"
      ]
     },
     "metadata": {},
     "output_type": "display_data"
    }
   ],
   "source": [
    "# Total magnetization\n",
    "trace1 = go.Bar(x = df['formula'], y = df['bare_mag'], name = 'bare')\n",
    "trace2 = go.Bar(x = df['formula'], y = df['OOH_mag'], name = 'OOH')\n",
    "trace3 = go.Bar(x = df['formula'], y = df['O_mag'], name = 'O')\n",
    "trace4 = go.Bar(x = df['formula'], y = df['OH_mag'], name = 'OH')\n",
    "\n",
    "\n",
    "data = [trace1, trace2,trace3, trace4]\n",
    "layout = go.Layout(title = 'Total magnetization',template = 'seaborn', width = 2000, yaxis = {'title':'Total magnetization'})\n",
    "fig = go.Figure(data = data, layout = layout)\n",
    "#pyo.plot(fig, image = 'png', image_filename ='plot_image')\n",
    "fig.show()"
   ]
  },
  {
   "cell_type": "code",
   "execution_count": 63,
   "metadata": {},
   "outputs": [
    {
     "data": {
      "application/vnd.plotly.v1+json": {
       "config": {
        "plotlyServerURL": "https://plot.ly"
       },
       "data": [
        {
         "name": "OOH",
         "type": "bar",
         "x": [
          "SrTcO3",
          "BaFeO3",
          "BaMoO3",
          "KTaO3",
          "BaZrO3",
          "SrFeO3",
          "KTcO3",
          "NaTcO3",
          "BaHfO3",
          "SrTiO3",
          "SrCuO3",
          "KNbO3",
          "NaTaO3",
          "BaScO3",
          "BaPdO3",
          "BaTaO3",
          "SrHfO3",
          "NaOsO3",
          "TlTcO3",
          "KReO3",
          "SrRuO3",
          "KHfO3",
          "SrVO3",
          "KOsO3",
          "TaAgO3",
          "SrNiO3",
          "RbIrO3",
          "NaReO3",
          "SrMnO3",
          "CaFeO3",
          "SrZrO3",
          "NaWO3",
          "RbTaO3",
          "SrCoO3",
          "SrTaO3",
          "KZrO3",
          "CaTiO3",
          "NaRuO3",
          "LiTcO3",
          "SrPdO3",
          "KWO3",
          "KRhO3",
          "BaCuO3",
          "RbNbO3",
          "BaOsO3",
          "BaRuO3",
          "KRuO3",
          "SrMoO3",
          "NaTiO3",
          "SrScO3",
          "RbOsO3",
          "SrRhO3",
          "NaMoO3",
          "SrOsO3",
          "BaRhO3",
          "BaPtO3",
          "CaVO3",
          "KMoO3",
          "SrCrO3",
          "SrAgO3",
          "RbRhO3",
          "BaVO3",
          "CaCoO3",
          "CaMnO3",
          "KPtO3",
          "BaNiO3",
          "BaMnO3",
          "SrReO3",
          "BaReO3",
          "SrIrO3",
          "NaVO3",
          "NaFeO3",
          "BaIrO3",
          "RbReO3",
          "CaRuO3",
          "RbPdO3",
          "CaHfO3",
          "TlWO3",
          "RbWO3",
          "RbPtO3"
         ],
         "y": [
          -2.902,
          0.993,
          -1,
          0.989,
          -0.002,
          0.884,
          -1.053,
          -0.355,
          0.629,
          -0.736,
          0.082,
          1.226,
          0.995,
          1,
          -0.037,
          -1.969,
          -0.629,
          -3.036,
          -2.964,
          -0.477,
          -0.738,
          1.754,
          -1,
          -8.627,
          1.504,
          -14.095,
          0.764,
          -0.581,
          -14.168,
          0.94,
          0.659,
          "NaN",
          0.993,
          -0.637,
          -2.27,
          3,
          -0.684,
          -0.166,
          -0.406,
          -2.709,
          -1,
          -2.738,
          0.931,
          1.11,
          -11.678,
          -0.495,
          0.367,
          -1,
          3.301,
          1,
          -8.841,
          -2.954,
          -1.005,
          "NaN",
          0.132,
          5.871,
          -1,
          -1.005,
          -1,
          -0.978,
          -4.487,
          -1,
          1.003,
          -19.487,
          -1.283,
          0.955,
          0.998,
          -6.002,
          -1.669,
          0.708,
          -1,
          0.703,
          2.266,
          -0.506,
          -13.033,
          -2.444,
          -0.627,
          -1,
          -1,
          -1.953
         ]
        },
        {
         "name": "O",
         "type": "bar",
         "x": [
          "SrTcO3",
          "BaFeO3",
          "BaMoO3",
          "KTaO3",
          "BaZrO3",
          "SrFeO3",
          "KTcO3",
          "NaTcO3",
          "BaHfO3",
          "SrTiO3",
          "SrCuO3",
          "KNbO3",
          "NaTaO3",
          "BaScO3",
          "BaPdO3",
          "BaTaO3",
          "SrHfO3",
          "NaOsO3",
          "TlTcO3",
          "KReO3",
          "SrRuO3",
          "KHfO3",
          "SrVO3",
          "KOsO3",
          "TaAgO3",
          "SrNiO3",
          "RbIrO3",
          "NaReO3",
          "SrMnO3",
          "CaFeO3",
          "SrZrO3",
          "NaWO3",
          "RbTaO3",
          "SrCoO3",
          "SrTaO3",
          "KZrO3",
          "CaTiO3",
          "NaRuO3",
          "LiTcO3",
          "SrPdO3",
          "KWO3",
          "KRhO3",
          "BaCuO3",
          "RbNbO3",
          "BaOsO3",
          "BaRuO3",
          "KRuO3",
          "SrMoO3",
          "NaTiO3",
          "SrScO3",
          "RbOsO3",
          "SrRhO3",
          "NaMoO3",
          "SrOsO3",
          "BaRhO3",
          "BaPtO3",
          "CaVO3",
          "KMoO3",
          "SrCrO3",
          "SrAgO3",
          "RbRhO3",
          "BaVO3",
          "CaCoO3",
          "CaMnO3",
          "KPtO3",
          "BaNiO3",
          "BaMnO3",
          "SrReO3",
          "BaReO3",
          "SrIrO3",
          "NaVO3",
          "NaFeO3",
          "BaIrO3",
          "RbReO3",
          "CaRuO3",
          "RbPdO3",
          "CaHfO3",
          "TlWO3",
          "RbWO3",
          "RbPtO3"
         ],
         "y": [
          -6.812,
          -3.356,
          -2,
          1.665,
          -1.331,
          -6.308,
          0.934,
          1.116,
          1.393,
          1.079,
          0.581,
          1.954,
          -0.002,
          2,
          1.103,
          -0.873,
          1.478,
          -1.577,
          -1.143,
          0.18,
          -7.61,
          4.252,
          -2,
          -2.893,
          1.958,
          1.602,
          0.665,
          0.055,
          -21.583,
          -0.402,
          1.528,
          -4,
          1.602,
          -0.072,
          -1.421,
          4.421,
          0.982,
          -1.056,
          0.095,
          0.653,
          -2,
          0.782,
          2.02,
          1.739,
          -6.011,
          -1.516,
          -2.814,
          -2,
          4.306,
          2,
          "NaN",
          -7.43,
          -2.5,
          "NaN",
          1.946,
          6.095,
          -4,
          -2.5,
          -2,
          0,
          0.76,
          -2,
          1.165,
          -25.042,
          -1.36,
          -0.178,
          -2,
          -1.693,
          -1.099,
          -0.582,
          -1.992,
          -1.161,
          -0.034,
          0.109,
          -8.909,
          -1.444,
          1.301,
          -2,
          -2,
          -2.067
         ]
        },
        {
         "name": "OH",
         "type": "bar",
         "x": [
          "SrTcO3",
          "BaFeO3",
          "BaMoO3",
          "KTaO3",
          "BaZrO3",
          "SrFeO3",
          "KTcO3",
          "NaTcO3",
          "BaHfO3",
          "SrTiO3",
          "SrCuO3",
          "KNbO3",
          "NaTaO3",
          "BaScO3",
          "BaPdO3",
          "BaTaO3",
          "SrHfO3",
          "NaOsO3",
          "TlTcO3",
          "KReO3",
          "SrRuO3",
          "KHfO3",
          "SrVO3",
          "KOsO3",
          "TaAgO3",
          "SrNiO3",
          "RbIrO3",
          "NaReO3",
          "SrMnO3",
          "CaFeO3",
          "SrZrO3",
          "NaWO3",
          "RbTaO3",
          "SrCoO3",
          "SrTaO3",
          "KZrO3",
          "CaTiO3",
          "NaRuO3",
          "LiTcO3",
          "SrPdO3",
          "KWO3",
          "KRhO3",
          "BaCuO3",
          "RbNbO3",
          "BaOsO3",
          "BaRuO3",
          "KRuO3",
          "SrMoO3",
          "NaTiO3",
          "SrScO3",
          "RbOsO3",
          "SrRhO3",
          "NaMoO3",
          "SrOsO3",
          "BaRhO3",
          "BaPtO3",
          "CaVO3",
          "KMoO3",
          "SrCrO3",
          "SrAgO3",
          "RbRhO3",
          "BaVO3",
          "CaCoO3",
          "CaMnO3",
          "KPtO3",
          "BaNiO3",
          "BaMnO3",
          "SrReO3",
          "BaReO3",
          "SrIrO3",
          "NaVO3",
          "NaFeO3",
          "BaIrO3",
          "RbReO3",
          "CaRuO3",
          "RbPdO3",
          "CaHfO3",
          "TlWO3",
          "RbWO3",
          "RbPtO3"
         ],
         "y": [
          -2.871,
          -1.202,
          -1,
          0.991,
          0.216,
          0.09,
          -0.566,
          0.47,
          0.002,
          0.001,
          -0.946,
          1.256,
          0.995,
          1,
          0.027,
          -0.203,
          -0.063,
          -5.51,
          -4.48,
          -0.428,
          -2.071,
          2.777,
          -1,
          -8.82,
          1.506,
          -3.447,
          1.006,
          -0.505,
          -14.9,
          -0.424,
          0.059,
          "NaN",
          0.999,
          -0.374,
          -0.713,
          3.242,
          0,
          0.303,
          -0.477,
          -2.438,
          -1,
          -1.22,
          0.435,
          1.161,
          -10.523,
          -0.533,
          0.776,
          -1,
          2.576,
          1,
          -4.919,
          -2.74,
          -1,
          0.212,
          0.794,
          5.531,
          -1,
          -1,
          -1,
          -1.002,
          -2.72,
          -1,
          0.687,
          -4.144,
          -0.911,
          -1.319,
          -1,
          -3.817,
          -0.585,
          -0.452,
          -1,
          -0.354,
          0.801,
          -0.438,
          -7.233,
          -2.444,
          0.059,
          -1,
          -1,
          -1.312
         ]
        }
       ],
       "layout": {
        "template": {
         "data": {
          "bar": [
           {
            "error_x": {
             "color": "rgb(36,36,36)"
            },
            "error_y": {
             "color": "rgb(36,36,36)"
            },
            "marker": {
             "line": {
              "color": "rgb(234,234,242)",
              "width": 0.5
             }
            },
            "type": "bar"
           }
          ],
          "barpolar": [
           {
            "marker": {
             "line": {
              "color": "rgb(234,234,242)",
              "width": 0.5
             }
            },
            "type": "barpolar"
           }
          ],
          "carpet": [
           {
            "aaxis": {
             "endlinecolor": "rgb(36,36,36)",
             "gridcolor": "white",
             "linecolor": "white",
             "minorgridcolor": "white",
             "startlinecolor": "rgb(36,36,36)"
            },
            "baxis": {
             "endlinecolor": "rgb(36,36,36)",
             "gridcolor": "white",
             "linecolor": "white",
             "minorgridcolor": "white",
             "startlinecolor": "rgb(36,36,36)"
            },
            "type": "carpet"
           }
          ],
          "choropleth": [
           {
            "colorbar": {
             "outlinewidth": 0,
             "tickcolor": "rgb(36,36,36)",
             "ticklen": 8,
             "ticks": "outside",
             "tickwidth": 2
            },
            "type": "choropleth"
           }
          ],
          "contour": [
           {
            "colorbar": {
             "outlinewidth": 0,
             "tickcolor": "rgb(36,36,36)",
             "ticklen": 8,
             "ticks": "outside",
             "tickwidth": 2
            },
            "colorscale": [
             [
              0,
              "rgb(2,4,25)"
             ],
             [
              0.06274509803921569,
              "rgb(24,15,41)"
             ],
             [
              0.12549019607843137,
              "rgb(47,23,57)"
             ],
             [
              0.18823529411764706,
              "rgb(71,28,72)"
             ],
             [
              0.25098039215686274,
              "rgb(97,30,82)"
             ],
             [
              0.3137254901960784,
              "rgb(123,30,89)"
             ],
             [
              0.3764705882352941,
              "rgb(150,27,91)"
             ],
             [
              0.4392156862745098,
              "rgb(177,22,88)"
             ],
             [
              0.5019607843137255,
              "rgb(203,26,79)"
             ],
             [
              0.5647058823529412,
              "rgb(223,47,67)"
             ],
             [
              0.6274509803921569,
              "rgb(236,76,61)"
             ],
             [
              0.6901960784313725,
              "rgb(242,107,73)"
             ],
             [
              0.7529411764705882,
              "rgb(244,135,95)"
             ],
             [
              0.8156862745098039,
              "rgb(245,162,122)"
             ],
             [
              0.8784313725490196,
              "rgb(246,188,153)"
             ],
             [
              0.9411764705882353,
              "rgb(247,212,187)"
             ],
             [
              1,
              "rgb(250,234,220)"
             ]
            ],
            "type": "contour"
           }
          ],
          "contourcarpet": [
           {
            "colorbar": {
             "outlinewidth": 0,
             "tickcolor": "rgb(36,36,36)",
             "ticklen": 8,
             "ticks": "outside",
             "tickwidth": 2
            },
            "type": "contourcarpet"
           }
          ],
          "heatmap": [
           {
            "colorbar": {
             "outlinewidth": 0,
             "tickcolor": "rgb(36,36,36)",
             "ticklen": 8,
             "ticks": "outside",
             "tickwidth": 2
            },
            "colorscale": [
             [
              0,
              "rgb(2,4,25)"
             ],
             [
              0.06274509803921569,
              "rgb(24,15,41)"
             ],
             [
              0.12549019607843137,
              "rgb(47,23,57)"
             ],
             [
              0.18823529411764706,
              "rgb(71,28,72)"
             ],
             [
              0.25098039215686274,
              "rgb(97,30,82)"
             ],
             [
              0.3137254901960784,
              "rgb(123,30,89)"
             ],
             [
              0.3764705882352941,
              "rgb(150,27,91)"
             ],
             [
              0.4392156862745098,
              "rgb(177,22,88)"
             ],
             [
              0.5019607843137255,
              "rgb(203,26,79)"
             ],
             [
              0.5647058823529412,
              "rgb(223,47,67)"
             ],
             [
              0.6274509803921569,
              "rgb(236,76,61)"
             ],
             [
              0.6901960784313725,
              "rgb(242,107,73)"
             ],
             [
              0.7529411764705882,
              "rgb(244,135,95)"
             ],
             [
              0.8156862745098039,
              "rgb(245,162,122)"
             ],
             [
              0.8784313725490196,
              "rgb(246,188,153)"
             ],
             [
              0.9411764705882353,
              "rgb(247,212,187)"
             ],
             [
              1,
              "rgb(250,234,220)"
             ]
            ],
            "type": "heatmap"
           }
          ],
          "heatmapgl": [
           {
            "colorbar": {
             "outlinewidth": 0,
             "tickcolor": "rgb(36,36,36)",
             "ticklen": 8,
             "ticks": "outside",
             "tickwidth": 2
            },
            "colorscale": [
             [
              0,
              "rgb(2,4,25)"
             ],
             [
              0.06274509803921569,
              "rgb(24,15,41)"
             ],
             [
              0.12549019607843137,
              "rgb(47,23,57)"
             ],
             [
              0.18823529411764706,
              "rgb(71,28,72)"
             ],
             [
              0.25098039215686274,
              "rgb(97,30,82)"
             ],
             [
              0.3137254901960784,
              "rgb(123,30,89)"
             ],
             [
              0.3764705882352941,
              "rgb(150,27,91)"
             ],
             [
              0.4392156862745098,
              "rgb(177,22,88)"
             ],
             [
              0.5019607843137255,
              "rgb(203,26,79)"
             ],
             [
              0.5647058823529412,
              "rgb(223,47,67)"
             ],
             [
              0.6274509803921569,
              "rgb(236,76,61)"
             ],
             [
              0.6901960784313725,
              "rgb(242,107,73)"
             ],
             [
              0.7529411764705882,
              "rgb(244,135,95)"
             ],
             [
              0.8156862745098039,
              "rgb(245,162,122)"
             ],
             [
              0.8784313725490196,
              "rgb(246,188,153)"
             ],
             [
              0.9411764705882353,
              "rgb(247,212,187)"
             ],
             [
              1,
              "rgb(250,234,220)"
             ]
            ],
            "type": "heatmapgl"
           }
          ],
          "histogram": [
           {
            "marker": {
             "colorbar": {
              "outlinewidth": 0,
              "tickcolor": "rgb(36,36,36)",
              "ticklen": 8,
              "ticks": "outside",
              "tickwidth": 2
             }
            },
            "type": "histogram"
           }
          ],
          "histogram2d": [
           {
            "colorbar": {
             "outlinewidth": 0,
             "tickcolor": "rgb(36,36,36)",
             "ticklen": 8,
             "ticks": "outside",
             "tickwidth": 2
            },
            "colorscale": [
             [
              0,
              "rgb(2,4,25)"
             ],
             [
              0.06274509803921569,
              "rgb(24,15,41)"
             ],
             [
              0.12549019607843137,
              "rgb(47,23,57)"
             ],
             [
              0.18823529411764706,
              "rgb(71,28,72)"
             ],
             [
              0.25098039215686274,
              "rgb(97,30,82)"
             ],
             [
              0.3137254901960784,
              "rgb(123,30,89)"
             ],
             [
              0.3764705882352941,
              "rgb(150,27,91)"
             ],
             [
              0.4392156862745098,
              "rgb(177,22,88)"
             ],
             [
              0.5019607843137255,
              "rgb(203,26,79)"
             ],
             [
              0.5647058823529412,
              "rgb(223,47,67)"
             ],
             [
              0.6274509803921569,
              "rgb(236,76,61)"
             ],
             [
              0.6901960784313725,
              "rgb(242,107,73)"
             ],
             [
              0.7529411764705882,
              "rgb(244,135,95)"
             ],
             [
              0.8156862745098039,
              "rgb(245,162,122)"
             ],
             [
              0.8784313725490196,
              "rgb(246,188,153)"
             ],
             [
              0.9411764705882353,
              "rgb(247,212,187)"
             ],
             [
              1,
              "rgb(250,234,220)"
             ]
            ],
            "type": "histogram2d"
           }
          ],
          "histogram2dcontour": [
           {
            "colorbar": {
             "outlinewidth": 0,
             "tickcolor": "rgb(36,36,36)",
             "ticklen": 8,
             "ticks": "outside",
             "tickwidth": 2
            },
            "colorscale": [
             [
              0,
              "rgb(2,4,25)"
             ],
             [
              0.06274509803921569,
              "rgb(24,15,41)"
             ],
             [
              0.12549019607843137,
              "rgb(47,23,57)"
             ],
             [
              0.18823529411764706,
              "rgb(71,28,72)"
             ],
             [
              0.25098039215686274,
              "rgb(97,30,82)"
             ],
             [
              0.3137254901960784,
              "rgb(123,30,89)"
             ],
             [
              0.3764705882352941,
              "rgb(150,27,91)"
             ],
             [
              0.4392156862745098,
              "rgb(177,22,88)"
             ],
             [
              0.5019607843137255,
              "rgb(203,26,79)"
             ],
             [
              0.5647058823529412,
              "rgb(223,47,67)"
             ],
             [
              0.6274509803921569,
              "rgb(236,76,61)"
             ],
             [
              0.6901960784313725,
              "rgb(242,107,73)"
             ],
             [
              0.7529411764705882,
              "rgb(244,135,95)"
             ],
             [
              0.8156862745098039,
              "rgb(245,162,122)"
             ],
             [
              0.8784313725490196,
              "rgb(246,188,153)"
             ],
             [
              0.9411764705882353,
              "rgb(247,212,187)"
             ],
             [
              1,
              "rgb(250,234,220)"
             ]
            ],
            "type": "histogram2dcontour"
           }
          ],
          "mesh3d": [
           {
            "colorbar": {
             "outlinewidth": 0,
             "tickcolor": "rgb(36,36,36)",
             "ticklen": 8,
             "ticks": "outside",
             "tickwidth": 2
            },
            "type": "mesh3d"
           }
          ],
          "parcoords": [
           {
            "line": {
             "colorbar": {
              "outlinewidth": 0,
              "tickcolor": "rgb(36,36,36)",
              "ticklen": 8,
              "ticks": "outside",
              "tickwidth": 2
             }
            },
            "type": "parcoords"
           }
          ],
          "pie": [
           {
            "automargin": true,
            "type": "pie"
           }
          ],
          "scatter": [
           {
            "marker": {
             "colorbar": {
              "outlinewidth": 0,
              "tickcolor": "rgb(36,36,36)",
              "ticklen": 8,
              "ticks": "outside",
              "tickwidth": 2
             }
            },
            "type": "scatter"
           }
          ],
          "scatter3d": [
           {
            "line": {
             "colorbar": {
              "outlinewidth": 0,
              "tickcolor": "rgb(36,36,36)",
              "ticklen": 8,
              "ticks": "outside",
              "tickwidth": 2
             }
            },
            "marker": {
             "colorbar": {
              "outlinewidth": 0,
              "tickcolor": "rgb(36,36,36)",
              "ticklen": 8,
              "ticks": "outside",
              "tickwidth": 2
             }
            },
            "type": "scatter3d"
           }
          ],
          "scattercarpet": [
           {
            "marker": {
             "colorbar": {
              "outlinewidth": 0,
              "tickcolor": "rgb(36,36,36)",
              "ticklen": 8,
              "ticks": "outside",
              "tickwidth": 2
             }
            },
            "type": "scattercarpet"
           }
          ],
          "scattergeo": [
           {
            "marker": {
             "colorbar": {
              "outlinewidth": 0,
              "tickcolor": "rgb(36,36,36)",
              "ticklen": 8,
              "ticks": "outside",
              "tickwidth": 2
             }
            },
            "type": "scattergeo"
           }
          ],
          "scattergl": [
           {
            "marker": {
             "colorbar": {
              "outlinewidth": 0,
              "tickcolor": "rgb(36,36,36)",
              "ticklen": 8,
              "ticks": "outside",
              "tickwidth": 2
             }
            },
            "type": "scattergl"
           }
          ],
          "scattermapbox": [
           {
            "marker": {
             "colorbar": {
              "outlinewidth": 0,
              "tickcolor": "rgb(36,36,36)",
              "ticklen": 8,
              "ticks": "outside",
              "tickwidth": 2
             }
            },
            "type": "scattermapbox"
           }
          ],
          "scatterpolar": [
           {
            "marker": {
             "colorbar": {
              "outlinewidth": 0,
              "tickcolor": "rgb(36,36,36)",
              "ticklen": 8,
              "ticks": "outside",
              "tickwidth": 2
             }
            },
            "type": "scatterpolar"
           }
          ],
          "scatterpolargl": [
           {
            "marker": {
             "colorbar": {
              "outlinewidth": 0,
              "tickcolor": "rgb(36,36,36)",
              "ticklen": 8,
              "ticks": "outside",
              "tickwidth": 2
             }
            },
            "type": "scatterpolargl"
           }
          ],
          "scatterternary": [
           {
            "marker": {
             "colorbar": {
              "outlinewidth": 0,
              "tickcolor": "rgb(36,36,36)",
              "ticklen": 8,
              "ticks": "outside",
              "tickwidth": 2
             }
            },
            "type": "scatterternary"
           }
          ],
          "surface": [
           {
            "colorbar": {
             "outlinewidth": 0,
             "tickcolor": "rgb(36,36,36)",
             "ticklen": 8,
             "ticks": "outside",
             "tickwidth": 2
            },
            "colorscale": [
             [
              0,
              "rgb(2,4,25)"
             ],
             [
              0.06274509803921569,
              "rgb(24,15,41)"
             ],
             [
              0.12549019607843137,
              "rgb(47,23,57)"
             ],
             [
              0.18823529411764706,
              "rgb(71,28,72)"
             ],
             [
              0.25098039215686274,
              "rgb(97,30,82)"
             ],
             [
              0.3137254901960784,
              "rgb(123,30,89)"
             ],
             [
              0.3764705882352941,
              "rgb(150,27,91)"
             ],
             [
              0.4392156862745098,
              "rgb(177,22,88)"
             ],
             [
              0.5019607843137255,
              "rgb(203,26,79)"
             ],
             [
              0.5647058823529412,
              "rgb(223,47,67)"
             ],
             [
              0.6274509803921569,
              "rgb(236,76,61)"
             ],
             [
              0.6901960784313725,
              "rgb(242,107,73)"
             ],
             [
              0.7529411764705882,
              "rgb(244,135,95)"
             ],
             [
              0.8156862745098039,
              "rgb(245,162,122)"
             ],
             [
              0.8784313725490196,
              "rgb(246,188,153)"
             ],
             [
              0.9411764705882353,
              "rgb(247,212,187)"
             ],
             [
              1,
              "rgb(250,234,220)"
             ]
            ],
            "type": "surface"
           }
          ],
          "table": [
           {
            "cells": {
             "fill": {
              "color": "rgb(231,231,240)"
             },
             "line": {
              "color": "white"
             }
            },
            "header": {
             "fill": {
              "color": "rgb(183,183,191)"
             },
             "line": {
              "color": "white"
             }
            },
            "type": "table"
           }
          ]
         },
         "layout": {
          "annotationdefaults": {
           "arrowcolor": "rgb(67,103,167)"
          },
          "coloraxis": {
           "colorbar": {
            "outlinewidth": 0,
            "tickcolor": "rgb(36,36,36)",
            "ticklen": 8,
            "ticks": "outside",
            "tickwidth": 2
           }
          },
          "colorscale": {
           "sequential": [
            [
             0,
             "rgb(2,4,25)"
            ],
            [
             0.06274509803921569,
             "rgb(24,15,41)"
            ],
            [
             0.12549019607843137,
             "rgb(47,23,57)"
            ],
            [
             0.18823529411764706,
             "rgb(71,28,72)"
            ],
            [
             0.25098039215686274,
             "rgb(97,30,82)"
            ],
            [
             0.3137254901960784,
             "rgb(123,30,89)"
            ],
            [
             0.3764705882352941,
             "rgb(150,27,91)"
            ],
            [
             0.4392156862745098,
             "rgb(177,22,88)"
            ],
            [
             0.5019607843137255,
             "rgb(203,26,79)"
            ],
            [
             0.5647058823529412,
             "rgb(223,47,67)"
            ],
            [
             0.6274509803921569,
             "rgb(236,76,61)"
            ],
            [
             0.6901960784313725,
             "rgb(242,107,73)"
            ],
            [
             0.7529411764705882,
             "rgb(244,135,95)"
            ],
            [
             0.8156862745098039,
             "rgb(245,162,122)"
            ],
            [
             0.8784313725490196,
             "rgb(246,188,153)"
            ],
            [
             0.9411764705882353,
             "rgb(247,212,187)"
            ],
            [
             1,
             "rgb(250,234,220)"
            ]
           ],
           "sequentialminus": [
            [
             0,
             "rgb(2,4,25)"
            ],
            [
             0.06274509803921569,
             "rgb(24,15,41)"
            ],
            [
             0.12549019607843137,
             "rgb(47,23,57)"
            ],
            [
             0.18823529411764706,
             "rgb(71,28,72)"
            ],
            [
             0.25098039215686274,
             "rgb(97,30,82)"
            ],
            [
             0.3137254901960784,
             "rgb(123,30,89)"
            ],
            [
             0.3764705882352941,
             "rgb(150,27,91)"
            ],
            [
             0.4392156862745098,
             "rgb(177,22,88)"
            ],
            [
             0.5019607843137255,
             "rgb(203,26,79)"
            ],
            [
             0.5647058823529412,
             "rgb(223,47,67)"
            ],
            [
             0.6274509803921569,
             "rgb(236,76,61)"
            ],
            [
             0.6901960784313725,
             "rgb(242,107,73)"
            ],
            [
             0.7529411764705882,
             "rgb(244,135,95)"
            ],
            [
             0.8156862745098039,
             "rgb(245,162,122)"
            ],
            [
             0.8784313725490196,
             "rgb(246,188,153)"
            ],
            [
             0.9411764705882353,
             "rgb(247,212,187)"
            ],
            [
             1,
             "rgb(250,234,220)"
            ]
           ]
          },
          "colorway": [
           "rgb(76,114,176)",
           "rgb(221,132,82)",
           "rgb(85,168,104)",
           "rgb(196,78,82)",
           "rgb(129,114,179)",
           "rgb(147,120,96)",
           "rgb(218,139,195)",
           "rgb(140,140,140)",
           "rgb(204,185,116)",
           "rgb(100,181,205)"
          ],
          "font": {
           "color": "rgb(36,36,36)"
          },
          "geo": {
           "bgcolor": "white",
           "lakecolor": "white",
           "landcolor": "rgb(234,234,242)",
           "showlakes": true,
           "showland": true,
           "subunitcolor": "white"
          },
          "hoverlabel": {
           "align": "left"
          },
          "hovermode": "closest",
          "paper_bgcolor": "white",
          "plot_bgcolor": "rgb(234,234,242)",
          "polar": {
           "angularaxis": {
            "gridcolor": "white",
            "linecolor": "white",
            "showgrid": true,
            "ticks": ""
           },
           "bgcolor": "rgb(234,234,242)",
           "radialaxis": {
            "gridcolor": "white",
            "linecolor": "white",
            "showgrid": true,
            "ticks": ""
           }
          },
          "scene": {
           "xaxis": {
            "backgroundcolor": "rgb(234,234,242)",
            "gridcolor": "white",
            "gridwidth": 2,
            "linecolor": "white",
            "showbackground": true,
            "showgrid": true,
            "ticks": "",
            "zerolinecolor": "white"
           },
           "yaxis": {
            "backgroundcolor": "rgb(234,234,242)",
            "gridcolor": "white",
            "gridwidth": 2,
            "linecolor": "white",
            "showbackground": true,
            "showgrid": true,
            "ticks": "",
            "zerolinecolor": "white"
           },
           "zaxis": {
            "backgroundcolor": "rgb(234,234,242)",
            "gridcolor": "white",
            "gridwidth": 2,
            "linecolor": "white",
            "showbackground": true,
            "showgrid": true,
            "ticks": "",
            "zerolinecolor": "white"
           }
          },
          "shapedefaults": {
           "fillcolor": "rgb(67,103,167)",
           "line": {
            "width": 0
           },
           "opacity": 0.5
          },
          "ternary": {
           "aaxis": {
            "gridcolor": "white",
            "linecolor": "white",
            "showgrid": true,
            "ticks": ""
           },
           "baxis": {
            "gridcolor": "white",
            "linecolor": "white",
            "showgrid": true,
            "ticks": ""
           },
           "bgcolor": "rgb(234,234,242)",
           "caxis": {
            "gridcolor": "white",
            "linecolor": "white",
            "showgrid": true,
            "ticks": ""
           }
          },
          "xaxis": {
           "automargin": true,
           "gridcolor": "white",
           "linecolor": "white",
           "showgrid": true,
           "ticks": "",
           "title": {
            "standoff": 15
           },
           "zerolinecolor": "white"
          },
          "yaxis": {
           "automargin": true,
           "gridcolor": "white",
           "linecolor": "white",
           "showgrid": true,
           "ticks": "",
           "title": {
            "standoff": 15
           },
           "zerolinecolor": "white"
          }
         }
        },
        "title": {
         "text": "Delta magnetization"
        },
        "width": 2000,
        "yaxis": {
         "title": {
          "text": "Delta magnetization"
         }
        }
       }
      },
      "text/html": [
       "<div>                            <div id=\"444f3dc4-d4d2-4aaa-9eb8-8ddc5aefd6e9\" class=\"plotly-graph-div\" style=\"height:525px; width:2000px;\"></div>            <script type=\"text/javascript\">                require([\"plotly\"], function(Plotly) {                    window.PLOTLYENV=window.PLOTLYENV || {};                                    if (document.getElementById(\"444f3dc4-d4d2-4aaa-9eb8-8ddc5aefd6e9\")) {                    Plotly.newPlot(                        \"444f3dc4-d4d2-4aaa-9eb8-8ddc5aefd6e9\",                        [{\"name\": \"OOH\", \"type\": \"bar\", \"x\": [\"SrTcO3\", \"BaFeO3\", \"BaMoO3\", \"KTaO3\", \"BaZrO3\", \"SrFeO3\", \"KTcO3\", \"NaTcO3\", \"BaHfO3\", \"SrTiO3\", \"SrCuO3\", \"KNbO3\", \"NaTaO3\", \"BaScO3\", \"BaPdO3\", \"BaTaO3\", \"SrHfO3\", \"NaOsO3\", \"TlTcO3\", \"KReO3\", \"SrRuO3\", \"KHfO3\", \"SrVO3\", \"KOsO3\", \"TaAgO3\", \"SrNiO3\", \"RbIrO3\", \"NaReO3\", \"SrMnO3\", \"CaFeO3\", \"SrZrO3\", \"NaWO3\", \"RbTaO3\", \"SrCoO3\", \"SrTaO3\", \"KZrO3\", \"CaTiO3\", \"NaRuO3\", \"LiTcO3\", \"SrPdO3\", \"KWO3\", \"KRhO3\", \"BaCuO3\", \"RbNbO3\", \"BaOsO3\", \"BaRuO3\", \"KRuO3\", \"SrMoO3\", \"NaTiO3\", \"SrScO3\", \"RbOsO3\", \"SrRhO3\", \"NaMoO3\", \"SrOsO3\", \"BaRhO3\", \"BaPtO3\", \"CaVO3\", \"KMoO3\", \"SrCrO3\", \"SrAgO3\", \"RbRhO3\", \"BaVO3\", \"CaCoO3\", \"CaMnO3\", \"KPtO3\", \"BaNiO3\", \"BaMnO3\", \"SrReO3\", \"BaReO3\", \"SrIrO3\", \"NaVO3\", \"NaFeO3\", \"BaIrO3\", \"RbReO3\", \"CaRuO3\", \"RbPdO3\", \"CaHfO3\", \"TlWO3\", \"RbWO3\", \"RbPtO3\"], \"y\": [-2.902, 0.993, -1.0, 0.989, -0.002, 0.884, -1.053, -0.355, 0.629, -0.736, 0.082, 1.226, 0.995, 1.0, -0.037, -1.969, -0.629, -3.036, -2.964, -0.477, -0.738, 1.754, -1.0, -8.627, 1.504, -14.095, 0.764, -0.581, -14.168, 0.94, 0.659, \"NaN\", 0.993, -0.637, -2.27, 3.0, -0.684, -0.166, -0.406, -2.709, -1.0, -2.738, 0.931, 1.11, -11.678, -0.495, 0.367, -1.0, 3.301, 1.0, -8.841, -2.954, -1.005, \"NaN\", 0.132, 5.871, -1.0, -1.005, -1.0, -0.978, -4.487, -1.0, 1.003, -19.487, -1.283, 0.955, 0.998, -6.002, -1.669, 0.708, -1.0, 0.703, 2.266, -0.506, -13.033, -2.444, -0.627, -1.0, -1.0, -1.953]}, {\"name\": \"O\", \"type\": \"bar\", \"x\": [\"SrTcO3\", \"BaFeO3\", \"BaMoO3\", \"KTaO3\", \"BaZrO3\", \"SrFeO3\", \"KTcO3\", \"NaTcO3\", \"BaHfO3\", \"SrTiO3\", \"SrCuO3\", \"KNbO3\", \"NaTaO3\", \"BaScO3\", \"BaPdO3\", \"BaTaO3\", \"SrHfO3\", \"NaOsO3\", \"TlTcO3\", \"KReO3\", \"SrRuO3\", \"KHfO3\", \"SrVO3\", \"KOsO3\", \"TaAgO3\", \"SrNiO3\", \"RbIrO3\", \"NaReO3\", \"SrMnO3\", \"CaFeO3\", \"SrZrO3\", \"NaWO3\", \"RbTaO3\", \"SrCoO3\", \"SrTaO3\", \"KZrO3\", \"CaTiO3\", \"NaRuO3\", \"LiTcO3\", \"SrPdO3\", \"KWO3\", \"KRhO3\", \"BaCuO3\", \"RbNbO3\", \"BaOsO3\", \"BaRuO3\", \"KRuO3\", \"SrMoO3\", \"NaTiO3\", \"SrScO3\", \"RbOsO3\", \"SrRhO3\", \"NaMoO3\", \"SrOsO3\", \"BaRhO3\", \"BaPtO3\", \"CaVO3\", \"KMoO3\", \"SrCrO3\", \"SrAgO3\", \"RbRhO3\", \"BaVO3\", \"CaCoO3\", \"CaMnO3\", \"KPtO3\", \"BaNiO3\", \"BaMnO3\", \"SrReO3\", \"BaReO3\", \"SrIrO3\", \"NaVO3\", \"NaFeO3\", \"BaIrO3\", \"RbReO3\", \"CaRuO3\", \"RbPdO3\", \"CaHfO3\", \"TlWO3\", \"RbWO3\", \"RbPtO3\"], \"y\": [-6.812, -3.356, -2.0, 1.665, -1.331, -6.308, 0.934, 1.116, 1.393, 1.079, 0.581, 1.954, -0.002, 2.0, 1.103, -0.873, 1.478, -1.577, -1.143, 0.18, -7.61, 4.252, -2.0, -2.893, 1.958, 1.602, 0.665, 0.055, -21.583, -0.402, 1.528, -4.0, 1.602, -0.072, -1.421, 4.421, 0.982, -1.056, 0.095, 0.653, -2.0, 0.782, 2.02, 1.739, -6.011, -1.516, -2.814, -2.0, 4.306, 2.0, \"NaN\", -7.43, -2.5, \"NaN\", 1.946, 6.095, -4.0, -2.5, -2.0, 0.0, 0.76, -2.0, 1.165, -25.042, -1.36, -0.178, -2.0, -1.693, -1.099, -0.582, -1.992, -1.161, -0.034, 0.109, -8.909, -1.444, 1.301, -2.0, -2.0, -2.067]}, {\"name\": \"OH\", \"type\": \"bar\", \"x\": [\"SrTcO3\", \"BaFeO3\", \"BaMoO3\", \"KTaO3\", \"BaZrO3\", \"SrFeO3\", \"KTcO3\", \"NaTcO3\", \"BaHfO3\", \"SrTiO3\", \"SrCuO3\", \"KNbO3\", \"NaTaO3\", \"BaScO3\", \"BaPdO3\", \"BaTaO3\", \"SrHfO3\", \"NaOsO3\", \"TlTcO3\", \"KReO3\", \"SrRuO3\", \"KHfO3\", \"SrVO3\", \"KOsO3\", \"TaAgO3\", \"SrNiO3\", \"RbIrO3\", \"NaReO3\", \"SrMnO3\", \"CaFeO3\", \"SrZrO3\", \"NaWO3\", \"RbTaO3\", \"SrCoO3\", \"SrTaO3\", \"KZrO3\", \"CaTiO3\", \"NaRuO3\", \"LiTcO3\", \"SrPdO3\", \"KWO3\", \"KRhO3\", \"BaCuO3\", \"RbNbO3\", \"BaOsO3\", \"BaRuO3\", \"KRuO3\", \"SrMoO3\", \"NaTiO3\", \"SrScO3\", \"RbOsO3\", \"SrRhO3\", \"NaMoO3\", \"SrOsO3\", \"BaRhO3\", \"BaPtO3\", \"CaVO3\", \"KMoO3\", \"SrCrO3\", \"SrAgO3\", \"RbRhO3\", \"BaVO3\", \"CaCoO3\", \"CaMnO3\", \"KPtO3\", \"BaNiO3\", \"BaMnO3\", \"SrReO3\", \"BaReO3\", \"SrIrO3\", \"NaVO3\", \"NaFeO3\", \"BaIrO3\", \"RbReO3\", \"CaRuO3\", \"RbPdO3\", \"CaHfO3\", \"TlWO3\", \"RbWO3\", \"RbPtO3\"], \"y\": [-2.871, -1.202, -1.0, 0.991, 0.216, 0.09, -0.566, 0.47, 0.002, 0.001, -0.946, 1.256, 0.995, 1.0, 0.027, -0.203, -0.063, -5.51, -4.48, -0.428, -2.071, 2.777, -1.0, -8.82, 1.506, -3.447, 1.006, -0.505, -14.9, -0.424, 0.059, \"NaN\", 0.999, -0.374, -0.713, 3.242, 0.0, 0.303, -0.477, -2.438, -1.0, -1.22, 0.435, 1.161, -10.523, -0.533, 0.776, -1.0, 2.576, 1.0, -4.919, -2.74, -1.0, 0.212, 0.794, 5.531, -1.0, -1.0, -1.0, -1.002, -2.72, -1.0, 0.687, -4.144, -0.911, -1.319, -1.0, -3.817, -0.585, -0.452, -1.0, -0.354, 0.801, -0.438, -7.233, -2.444, 0.059, -1.0, -1.0, -1.312]}],                        {\"template\": {\"data\": {\"bar\": [{\"error_x\": {\"color\": \"rgb(36,36,36)\"}, \"error_y\": {\"color\": \"rgb(36,36,36)\"}, \"marker\": {\"line\": {\"color\": \"rgb(234,234,242)\", \"width\": 0.5}}, \"type\": \"bar\"}], \"barpolar\": [{\"marker\": {\"line\": {\"color\": \"rgb(234,234,242)\", \"width\": 0.5}}, \"type\": \"barpolar\"}], \"carpet\": [{\"aaxis\": {\"endlinecolor\": \"rgb(36,36,36)\", \"gridcolor\": \"white\", \"linecolor\": \"white\", \"minorgridcolor\": \"white\", \"startlinecolor\": \"rgb(36,36,36)\"}, \"baxis\": {\"endlinecolor\": \"rgb(36,36,36)\", \"gridcolor\": \"white\", \"linecolor\": \"white\", \"minorgridcolor\": \"white\", \"startlinecolor\": \"rgb(36,36,36)\"}, \"type\": \"carpet\"}], \"choropleth\": [{\"colorbar\": {\"outlinewidth\": 0, \"tickcolor\": \"rgb(36,36,36)\", \"ticklen\": 8, \"ticks\": \"outside\", \"tickwidth\": 2}, \"type\": \"choropleth\"}], \"contour\": [{\"colorbar\": {\"outlinewidth\": 0, \"tickcolor\": \"rgb(36,36,36)\", \"ticklen\": 8, \"ticks\": \"outside\", \"tickwidth\": 2}, \"colorscale\": [[0.0, \"rgb(2,4,25)\"], [0.06274509803921569, \"rgb(24,15,41)\"], [0.12549019607843137, \"rgb(47,23,57)\"], [0.18823529411764706, \"rgb(71,28,72)\"], [0.25098039215686274, \"rgb(97,30,82)\"], [0.3137254901960784, \"rgb(123,30,89)\"], [0.3764705882352941, \"rgb(150,27,91)\"], [0.4392156862745098, \"rgb(177,22,88)\"], [0.5019607843137255, \"rgb(203,26,79)\"], [0.5647058823529412, \"rgb(223,47,67)\"], [0.6274509803921569, \"rgb(236,76,61)\"], [0.6901960784313725, \"rgb(242,107,73)\"], [0.7529411764705882, \"rgb(244,135,95)\"], [0.8156862745098039, \"rgb(245,162,122)\"], [0.8784313725490196, \"rgb(246,188,153)\"], [0.9411764705882353, \"rgb(247,212,187)\"], [1.0, \"rgb(250,234,220)\"]], \"type\": \"contour\"}], \"contourcarpet\": [{\"colorbar\": {\"outlinewidth\": 0, \"tickcolor\": \"rgb(36,36,36)\", \"ticklen\": 8, \"ticks\": \"outside\", \"tickwidth\": 2}, \"type\": \"contourcarpet\"}], \"heatmap\": [{\"colorbar\": {\"outlinewidth\": 0, \"tickcolor\": \"rgb(36,36,36)\", \"ticklen\": 8, \"ticks\": \"outside\", \"tickwidth\": 2}, \"colorscale\": [[0.0, \"rgb(2,4,25)\"], [0.06274509803921569, \"rgb(24,15,41)\"], [0.12549019607843137, \"rgb(47,23,57)\"], [0.18823529411764706, \"rgb(71,28,72)\"], [0.25098039215686274, \"rgb(97,30,82)\"], [0.3137254901960784, \"rgb(123,30,89)\"], [0.3764705882352941, \"rgb(150,27,91)\"], [0.4392156862745098, \"rgb(177,22,88)\"], [0.5019607843137255, \"rgb(203,26,79)\"], [0.5647058823529412, \"rgb(223,47,67)\"], [0.6274509803921569, \"rgb(236,76,61)\"], [0.6901960784313725, \"rgb(242,107,73)\"], [0.7529411764705882, \"rgb(244,135,95)\"], [0.8156862745098039, \"rgb(245,162,122)\"], [0.8784313725490196, \"rgb(246,188,153)\"], [0.9411764705882353, \"rgb(247,212,187)\"], [1.0, \"rgb(250,234,220)\"]], \"type\": \"heatmap\"}], \"heatmapgl\": [{\"colorbar\": {\"outlinewidth\": 0, \"tickcolor\": \"rgb(36,36,36)\", \"ticklen\": 8, \"ticks\": \"outside\", \"tickwidth\": 2}, \"colorscale\": [[0.0, \"rgb(2,4,25)\"], [0.06274509803921569, \"rgb(24,15,41)\"], [0.12549019607843137, \"rgb(47,23,57)\"], [0.18823529411764706, \"rgb(71,28,72)\"], [0.25098039215686274, \"rgb(97,30,82)\"], [0.3137254901960784, \"rgb(123,30,89)\"], [0.3764705882352941, \"rgb(150,27,91)\"], [0.4392156862745098, \"rgb(177,22,88)\"], [0.5019607843137255, \"rgb(203,26,79)\"], [0.5647058823529412, \"rgb(223,47,67)\"], [0.6274509803921569, \"rgb(236,76,61)\"], [0.6901960784313725, \"rgb(242,107,73)\"], [0.7529411764705882, \"rgb(244,135,95)\"], [0.8156862745098039, \"rgb(245,162,122)\"], [0.8784313725490196, \"rgb(246,188,153)\"], [0.9411764705882353, \"rgb(247,212,187)\"], [1.0, \"rgb(250,234,220)\"]], \"type\": \"heatmapgl\"}], \"histogram\": [{\"marker\": {\"colorbar\": {\"outlinewidth\": 0, \"tickcolor\": \"rgb(36,36,36)\", \"ticklen\": 8, \"ticks\": \"outside\", \"tickwidth\": 2}}, \"type\": \"histogram\"}], \"histogram2d\": [{\"colorbar\": {\"outlinewidth\": 0, \"tickcolor\": \"rgb(36,36,36)\", \"ticklen\": 8, \"ticks\": \"outside\", \"tickwidth\": 2}, \"colorscale\": [[0.0, \"rgb(2,4,25)\"], [0.06274509803921569, \"rgb(24,15,41)\"], [0.12549019607843137, \"rgb(47,23,57)\"], [0.18823529411764706, \"rgb(71,28,72)\"], [0.25098039215686274, \"rgb(97,30,82)\"], [0.3137254901960784, \"rgb(123,30,89)\"], [0.3764705882352941, \"rgb(150,27,91)\"], [0.4392156862745098, \"rgb(177,22,88)\"], [0.5019607843137255, \"rgb(203,26,79)\"], [0.5647058823529412, \"rgb(223,47,67)\"], [0.6274509803921569, \"rgb(236,76,61)\"], [0.6901960784313725, \"rgb(242,107,73)\"], [0.7529411764705882, \"rgb(244,135,95)\"], [0.8156862745098039, \"rgb(245,162,122)\"], [0.8784313725490196, \"rgb(246,188,153)\"], [0.9411764705882353, \"rgb(247,212,187)\"], [1.0, \"rgb(250,234,220)\"]], \"type\": \"histogram2d\"}], \"histogram2dcontour\": [{\"colorbar\": {\"outlinewidth\": 0, \"tickcolor\": \"rgb(36,36,36)\", \"ticklen\": 8, \"ticks\": \"outside\", \"tickwidth\": 2}, \"colorscale\": [[0.0, \"rgb(2,4,25)\"], [0.06274509803921569, \"rgb(24,15,41)\"], [0.12549019607843137, \"rgb(47,23,57)\"], [0.18823529411764706, \"rgb(71,28,72)\"], [0.25098039215686274, \"rgb(97,30,82)\"], [0.3137254901960784, \"rgb(123,30,89)\"], [0.3764705882352941, \"rgb(150,27,91)\"], [0.4392156862745098, \"rgb(177,22,88)\"], [0.5019607843137255, \"rgb(203,26,79)\"], [0.5647058823529412, \"rgb(223,47,67)\"], [0.6274509803921569, \"rgb(236,76,61)\"], [0.6901960784313725, \"rgb(242,107,73)\"], [0.7529411764705882, \"rgb(244,135,95)\"], [0.8156862745098039, \"rgb(245,162,122)\"], [0.8784313725490196, \"rgb(246,188,153)\"], [0.9411764705882353, \"rgb(247,212,187)\"], [1.0, \"rgb(250,234,220)\"]], \"type\": \"histogram2dcontour\"}], \"mesh3d\": [{\"colorbar\": {\"outlinewidth\": 0, \"tickcolor\": \"rgb(36,36,36)\", \"ticklen\": 8, \"ticks\": \"outside\", \"tickwidth\": 2}, \"type\": \"mesh3d\"}], \"parcoords\": [{\"line\": {\"colorbar\": {\"outlinewidth\": 0, \"tickcolor\": \"rgb(36,36,36)\", \"ticklen\": 8, \"ticks\": \"outside\", \"tickwidth\": 2}}, \"type\": \"parcoords\"}], \"pie\": [{\"automargin\": true, \"type\": \"pie\"}], \"scatter\": [{\"marker\": {\"colorbar\": {\"outlinewidth\": 0, \"tickcolor\": \"rgb(36,36,36)\", \"ticklen\": 8, \"ticks\": \"outside\", \"tickwidth\": 2}}, \"type\": \"scatter\"}], \"scatter3d\": [{\"line\": {\"colorbar\": {\"outlinewidth\": 0, \"tickcolor\": \"rgb(36,36,36)\", \"ticklen\": 8, \"ticks\": \"outside\", \"tickwidth\": 2}}, \"marker\": {\"colorbar\": {\"outlinewidth\": 0, \"tickcolor\": \"rgb(36,36,36)\", \"ticklen\": 8, \"ticks\": \"outside\", \"tickwidth\": 2}}, \"type\": \"scatter3d\"}], \"scattercarpet\": [{\"marker\": {\"colorbar\": {\"outlinewidth\": 0, \"tickcolor\": \"rgb(36,36,36)\", \"ticklen\": 8, \"ticks\": \"outside\", \"tickwidth\": 2}}, \"type\": \"scattercarpet\"}], \"scattergeo\": [{\"marker\": {\"colorbar\": {\"outlinewidth\": 0, \"tickcolor\": \"rgb(36,36,36)\", \"ticklen\": 8, \"ticks\": \"outside\", \"tickwidth\": 2}}, \"type\": \"scattergeo\"}], \"scattergl\": [{\"marker\": {\"colorbar\": {\"outlinewidth\": 0, \"tickcolor\": \"rgb(36,36,36)\", \"ticklen\": 8, \"ticks\": \"outside\", \"tickwidth\": 2}}, \"type\": \"scattergl\"}], \"scattermapbox\": [{\"marker\": {\"colorbar\": {\"outlinewidth\": 0, \"tickcolor\": \"rgb(36,36,36)\", \"ticklen\": 8, \"ticks\": \"outside\", \"tickwidth\": 2}}, \"type\": \"scattermapbox\"}], \"scatterpolar\": [{\"marker\": {\"colorbar\": {\"outlinewidth\": 0, \"tickcolor\": \"rgb(36,36,36)\", \"ticklen\": 8, \"ticks\": \"outside\", \"tickwidth\": 2}}, \"type\": \"scatterpolar\"}], \"scatterpolargl\": [{\"marker\": {\"colorbar\": {\"outlinewidth\": 0, \"tickcolor\": \"rgb(36,36,36)\", \"ticklen\": 8, \"ticks\": \"outside\", \"tickwidth\": 2}}, \"type\": \"scatterpolargl\"}], \"scatterternary\": [{\"marker\": {\"colorbar\": {\"outlinewidth\": 0, \"tickcolor\": \"rgb(36,36,36)\", \"ticklen\": 8, \"ticks\": \"outside\", \"tickwidth\": 2}}, \"type\": \"scatterternary\"}], \"surface\": [{\"colorbar\": {\"outlinewidth\": 0, \"tickcolor\": \"rgb(36,36,36)\", \"ticklen\": 8, \"ticks\": \"outside\", \"tickwidth\": 2}, \"colorscale\": [[0.0, \"rgb(2,4,25)\"], [0.06274509803921569, \"rgb(24,15,41)\"], [0.12549019607843137, \"rgb(47,23,57)\"], [0.18823529411764706, \"rgb(71,28,72)\"], [0.25098039215686274, \"rgb(97,30,82)\"], [0.3137254901960784, \"rgb(123,30,89)\"], [0.3764705882352941, \"rgb(150,27,91)\"], [0.4392156862745098, \"rgb(177,22,88)\"], [0.5019607843137255, \"rgb(203,26,79)\"], [0.5647058823529412, \"rgb(223,47,67)\"], [0.6274509803921569, \"rgb(236,76,61)\"], [0.6901960784313725, \"rgb(242,107,73)\"], [0.7529411764705882, \"rgb(244,135,95)\"], [0.8156862745098039, \"rgb(245,162,122)\"], [0.8784313725490196, \"rgb(246,188,153)\"], [0.9411764705882353, \"rgb(247,212,187)\"], [1.0, \"rgb(250,234,220)\"]], \"type\": \"surface\"}], \"table\": [{\"cells\": {\"fill\": {\"color\": \"rgb(231,231,240)\"}, \"line\": {\"color\": \"white\"}}, \"header\": {\"fill\": {\"color\": \"rgb(183,183,191)\"}, \"line\": {\"color\": \"white\"}}, \"type\": \"table\"}]}, \"layout\": {\"annotationdefaults\": {\"arrowcolor\": \"rgb(67,103,167)\"}, \"coloraxis\": {\"colorbar\": {\"outlinewidth\": 0, \"tickcolor\": \"rgb(36,36,36)\", \"ticklen\": 8, \"ticks\": \"outside\", \"tickwidth\": 2}}, \"colorscale\": {\"sequential\": [[0.0, \"rgb(2,4,25)\"], [0.06274509803921569, \"rgb(24,15,41)\"], [0.12549019607843137, \"rgb(47,23,57)\"], [0.18823529411764706, \"rgb(71,28,72)\"], [0.25098039215686274, \"rgb(97,30,82)\"], [0.3137254901960784, \"rgb(123,30,89)\"], [0.3764705882352941, \"rgb(150,27,91)\"], [0.4392156862745098, \"rgb(177,22,88)\"], [0.5019607843137255, \"rgb(203,26,79)\"], [0.5647058823529412, \"rgb(223,47,67)\"], [0.6274509803921569, \"rgb(236,76,61)\"], [0.6901960784313725, \"rgb(242,107,73)\"], [0.7529411764705882, \"rgb(244,135,95)\"], [0.8156862745098039, \"rgb(245,162,122)\"], [0.8784313725490196, \"rgb(246,188,153)\"], [0.9411764705882353, \"rgb(247,212,187)\"], [1.0, \"rgb(250,234,220)\"]], \"sequentialminus\": [[0.0, \"rgb(2,4,25)\"], [0.06274509803921569, \"rgb(24,15,41)\"], [0.12549019607843137, \"rgb(47,23,57)\"], [0.18823529411764706, \"rgb(71,28,72)\"], [0.25098039215686274, \"rgb(97,30,82)\"], [0.3137254901960784, \"rgb(123,30,89)\"], [0.3764705882352941, \"rgb(150,27,91)\"], [0.4392156862745098, \"rgb(177,22,88)\"], [0.5019607843137255, \"rgb(203,26,79)\"], [0.5647058823529412, \"rgb(223,47,67)\"], [0.6274509803921569, \"rgb(236,76,61)\"], [0.6901960784313725, \"rgb(242,107,73)\"], [0.7529411764705882, \"rgb(244,135,95)\"], [0.8156862745098039, \"rgb(245,162,122)\"], [0.8784313725490196, \"rgb(246,188,153)\"], [0.9411764705882353, \"rgb(247,212,187)\"], [1.0, \"rgb(250,234,220)\"]]}, \"colorway\": [\"rgb(76,114,176)\", \"rgb(221,132,82)\", \"rgb(85,168,104)\", \"rgb(196,78,82)\", \"rgb(129,114,179)\", \"rgb(147,120,96)\", \"rgb(218,139,195)\", \"rgb(140,140,140)\", \"rgb(204,185,116)\", \"rgb(100,181,205)\"], \"font\": {\"color\": \"rgb(36,36,36)\"}, \"geo\": {\"bgcolor\": \"white\", \"lakecolor\": \"white\", \"landcolor\": \"rgb(234,234,242)\", \"showlakes\": true, \"showland\": true, \"subunitcolor\": \"white\"}, \"hoverlabel\": {\"align\": \"left\"}, \"hovermode\": \"closest\", \"paper_bgcolor\": \"white\", \"plot_bgcolor\": \"rgb(234,234,242)\", \"polar\": {\"angularaxis\": {\"gridcolor\": \"white\", \"linecolor\": \"white\", \"showgrid\": true, \"ticks\": \"\"}, \"bgcolor\": \"rgb(234,234,242)\", \"radialaxis\": {\"gridcolor\": \"white\", \"linecolor\": \"white\", \"showgrid\": true, \"ticks\": \"\"}}, \"scene\": {\"xaxis\": {\"backgroundcolor\": \"rgb(234,234,242)\", \"gridcolor\": \"white\", \"gridwidth\": 2, \"linecolor\": \"white\", \"showbackground\": true, \"showgrid\": true, \"ticks\": \"\", \"zerolinecolor\": \"white\"}, \"yaxis\": {\"backgroundcolor\": \"rgb(234,234,242)\", \"gridcolor\": \"white\", \"gridwidth\": 2, \"linecolor\": \"white\", \"showbackground\": true, \"showgrid\": true, \"ticks\": \"\", \"zerolinecolor\": \"white\"}, \"zaxis\": {\"backgroundcolor\": \"rgb(234,234,242)\", \"gridcolor\": \"white\", \"gridwidth\": 2, \"linecolor\": \"white\", \"showbackground\": true, \"showgrid\": true, \"ticks\": \"\", \"zerolinecolor\": \"white\"}}, \"shapedefaults\": {\"fillcolor\": \"rgb(67,103,167)\", \"line\": {\"width\": 0}, \"opacity\": 0.5}, \"ternary\": {\"aaxis\": {\"gridcolor\": \"white\", \"linecolor\": \"white\", \"showgrid\": true, \"ticks\": \"\"}, \"baxis\": {\"gridcolor\": \"white\", \"linecolor\": \"white\", \"showgrid\": true, \"ticks\": \"\"}, \"bgcolor\": \"rgb(234,234,242)\", \"caxis\": {\"gridcolor\": \"white\", \"linecolor\": \"white\", \"showgrid\": true, \"ticks\": \"\"}}, \"xaxis\": {\"automargin\": true, \"gridcolor\": \"white\", \"linecolor\": \"white\", \"showgrid\": true, \"ticks\": \"\", \"title\": {\"standoff\": 15}, \"zerolinecolor\": \"white\"}, \"yaxis\": {\"automargin\": true, \"gridcolor\": \"white\", \"linecolor\": \"white\", \"showgrid\": true, \"ticks\": \"\", \"title\": {\"standoff\": 15}, \"zerolinecolor\": \"white\"}}}, \"title\": {\"text\": \"Delta magnetization\"}, \"width\": 2000, \"yaxis\": {\"title\": {\"text\": \"Delta magnetization\"}}},                        {\"responsive\": true}                    ).then(function(){\n",
       "                            \n",
       "var gd = document.getElementById('444f3dc4-d4d2-4aaa-9eb8-8ddc5aefd6e9');\n",
       "var x = new MutationObserver(function (mutations, observer) {{\n",
       "        var display = window.getComputedStyle(gd).display;\n",
       "        if (!display || display === 'none') {{\n",
       "            console.log([gd, 'removed!']);\n",
       "            Plotly.purge(gd);\n",
       "            observer.disconnect();\n",
       "        }}\n",
       "}});\n",
       "\n",
       "// Listen for the removal of the full notebook cells\n",
       "var notebookContainer = gd.closest('#notebook-container');\n",
       "if (notebookContainer) {{\n",
       "    x.observe(notebookContainer, {childList: true});\n",
       "}}\n",
       "\n",
       "// Listen for the clearing of the current output cell\n",
       "var outputEl = gd.closest('.output');\n",
       "if (outputEl) {{\n",
       "    x.observe(outputEl, {childList: true});\n",
       "}}\n",
       "\n",
       "                        })                };                });            </script>        </div>"
      ]
     },
     "metadata": {},
     "output_type": "display_data"
    }
   ],
   "source": [
    "# Delta magnetization\n",
    "trace1 = go.Bar(x = df['formula'], y = df['OOH_dmag'], name = 'OOH')\n",
    "trace2 = go.Bar(x = df['formula'], y = df['O_dmag'], name = 'O')\n",
    "trace3 = go.Bar(x = df['formula'], y = df['OH_dmag'], name = 'OH')\n",
    "\n",
    "\n",
    "data = [trace1, trace2,trace3]\n",
    "layout = go.Layout(title = 'Delta magnetization',template = 'seaborn', width = 2000, yaxis = {'title':'Delta magnetization'})\n",
    "fig = go.Figure(data = data, layout = layout)\n",
    "#pyo.plot(fig, image = 'png', image_filename ='plot_image')\n",
    "fig.show()"
   ]
  },
  {
   "cell_type": "code",
   "execution_count": 64,
   "metadata": {},
   "outputs": [
    {
     "data": {
      "application/vnd.plotly.v1+json": {
       "config": {
        "plotlyServerURL": "https://plot.ly"
       },
       "data": [
        {
         "name": "OOH",
         "type": "bar",
         "x": [
          "SrTcO3",
          "BaFeO3",
          "BaMoO3",
          "KTaO3",
          "BaZrO3",
          "SrFeO3",
          "KTcO3",
          "NaTcO3",
          "BaHfO3",
          "SrTiO3",
          "SrCuO3",
          "KNbO3",
          "NaTaO3",
          "BaScO3",
          "BaPdO3",
          "BaTaO3",
          "SrHfO3",
          "NaOsO3",
          "TlTcO3",
          "KReO3",
          "SrRuO3",
          "KHfO3",
          "SrVO3",
          "KOsO3",
          "TaAgO3",
          "SrNiO3",
          "RbIrO3",
          "NaReO3",
          "SrMnO3",
          "CaFeO3",
          "SrZrO3",
          "NaWO3",
          "RbTaO3",
          "SrCoO3",
          "SrTaO3",
          "KZrO3",
          "CaTiO3",
          "NaRuO3",
          "LiTcO3",
          "SrPdO3",
          "KWO3",
          "KRhO3",
          "BaCuO3",
          "RbNbO3",
          "BaOsO3",
          "BaRuO3",
          "KRuO3",
          "SrMoO3",
          "NaTiO3",
          "SrScO3",
          "RbOsO3",
          "SrRhO3",
          "NaMoO3",
          "SrOsO3",
          "BaRhO3",
          "BaPtO3",
          "CaVO3",
          "KMoO3",
          "SrCrO3",
          "SrAgO3",
          "RbRhO3",
          "BaVO3",
          "CaCoO3",
          "CaMnO3",
          "KPtO3",
          "BaNiO3",
          "BaMnO3",
          "SrReO3",
          "BaReO3",
          "SrIrO3",
          "NaVO3",
          "NaFeO3",
          "BaIrO3",
          "RbReO3",
          "CaRuO3",
          "RbPdO3",
          "CaHfO3",
          "TlWO3",
          "RbWO3",
          "RbPtO3"
         ],
         "y": [
          2.481,
          4.917,
          3.019,
          2.575,
          4.706,
          4.94,
          3.231,
          3.149,
          4.537,
          4.632,
          5.007,
          3.298,
          2.423,
          4.977,
          4.665,
          -4.233,
          4.46,
          3.103,
          3.1,
          2.539,
          3.406,
          4.806,
          3.026,
          2.802,
          2.512,
          4.641,
          4.135,
          2.449,
          5.509,
          4.926,
          4.537,
          "NaN",
          2.619,
          4.261,
          -4.866,
          4.825,
          4.692,
          3.804,
          3.351,
          3.741,
          2.067,
          4.504,
          4.755,
          3.187,
          2.141,
          3.513,
          3.972,
          2.216,
          4.918,
          4.963,
          2.772,
          3.496,
          2.624,
          "NaN",
          4.115,
          4.159,
          3.376,
          2.632,
          3.829,
          2.733,
          4.069,
          3.366,
          4.683,
          4.967,
          4.28,
          4.943,
          4.914,
          -2.589,
          -1.913,
          3.546,
          3.911,
          5.028,
          3.828,
          2.581,
          2.514,
          4.231,
          3.86,
          2.157,
          2.599,
          4.02
         ]
        },
        {
         "name": "O",
         "type": "bar",
         "x": [
          "SrTcO3",
          "BaFeO3",
          "BaMoO3",
          "KTaO3",
          "BaZrO3",
          "SrFeO3",
          "KTcO3",
          "NaTcO3",
          "BaHfO3",
          "SrTiO3",
          "SrCuO3",
          "KNbO3",
          "NaTaO3",
          "BaScO3",
          "BaPdO3",
          "BaTaO3",
          "SrHfO3",
          "NaOsO3",
          "TlTcO3",
          "KReO3",
          "SrRuO3",
          "KHfO3",
          "SrVO3",
          "KOsO3",
          "TaAgO3",
          "SrNiO3",
          "RbIrO3",
          "NaReO3",
          "SrMnO3",
          "CaFeO3",
          "SrZrO3",
          "NaWO3",
          "RbTaO3",
          "SrCoO3",
          "SrTaO3",
          "KZrO3",
          "CaTiO3",
          "NaRuO3",
          "LiTcO3",
          "SrPdO3",
          "KWO3",
          "KRhO3",
          "BaCuO3",
          "RbNbO3",
          "BaOsO3",
          "BaRuO3",
          "KRuO3",
          "SrMoO3",
          "NaTiO3",
          "SrScO3",
          "RbOsO3",
          "SrRhO3",
          "NaMoO3",
          "SrOsO3",
          "BaRhO3",
          "BaPtO3",
          "CaVO3",
          "KMoO3",
          "SrCrO3",
          "SrAgO3",
          "RbRhO3",
          "BaVO3",
          "CaCoO3",
          "CaMnO3",
          "KPtO3",
          "BaNiO3",
          "BaMnO3",
          "SrReO3",
          "BaReO3",
          "SrIrO3",
          "NaVO3",
          "NaFeO3",
          "BaIrO3",
          "RbReO3",
          "CaRuO3",
          "RbPdO3",
          "CaHfO3",
          "TlWO3",
          "RbWO3",
          "RbPtO3"
         ],
         "y": [
          -0.707,
          4.452,
          -0.853,
          -0.614,
          4.143,
          4.606,
          0.446,
          0.301,
          4.023,
          3.889,
          4.23,
          0.465,
          -0.899,
          4.7,
          3.455,
          -2.572,
          3.952,
          0.577,
          0.313,
          -0.544,
          0.96,
          4.407,
          0.516,
          0.699,
          -0.969,
          4.437,
          2.415,
          -0.697,
          4.648,
          4.277,
          4.034,
          -1.577,
          -0.617,
          3.136,
          -2.783,
          4.516,
          3.911,
          1.871,
          0.621,
          3.176,
          -1.2,
          3.321,
          3.95,
          0.282,
          -0.728,
          1.303,
          2.006,
          -1.375,
          4.568,
          4.677,
          "NaN",
          2.151,
          -0.665,
          "NaN",
          2.461,
          2.56,
          0.389,
          -0.412,
          2.046,
          4.29,
          3.2,
          0.504,
          3.425,
          4.289,
          2.948,
          4.41,
          2.943,
          -1.278,
          -1.129,
          1.673,
          1.743,
          4.625,
          1.989,
          -0.492,
          0.68,
          3.183,
          3.642,
          -0.904,
          -1.056,
          2.727
         ]
        },
        {
         "name": "OH",
         "type": "bar",
         "x": [
          "SrTcO3",
          "BaFeO3",
          "BaMoO3",
          "KTaO3",
          "BaZrO3",
          "SrFeO3",
          "KTcO3",
          "NaTcO3",
          "BaHfO3",
          "SrTiO3",
          "SrCuO3",
          "KNbO3",
          "NaTaO3",
          "BaScO3",
          "BaPdO3",
          "BaTaO3",
          "SrHfO3",
          "NaOsO3",
          "TlTcO3",
          "KReO3",
          "SrRuO3",
          "KHfO3",
          "SrVO3",
          "KOsO3",
          "TaAgO3",
          "SrNiO3",
          "RbIrO3",
          "NaReO3",
          "SrMnO3",
          "CaFeO3",
          "SrZrO3",
          "NaWO3",
          "RbTaO3",
          "SrCoO3",
          "SrTaO3",
          "KZrO3",
          "CaTiO3",
          "NaRuO3",
          "LiTcO3",
          "SrPdO3",
          "KWO3",
          "KRhO3",
          "BaCuO3",
          "RbNbO3",
          "BaOsO3",
          "BaRuO3",
          "KRuO3",
          "SrMoO3",
          "NaTiO3",
          "SrScO3",
          "RbOsO3",
          "SrRhO3",
          "NaMoO3",
          "SrOsO3",
          "BaRhO3",
          "BaPtO3",
          "CaVO3",
          "KMoO3",
          "SrCrO3",
          "SrAgO3",
          "RbRhO3",
          "BaVO3",
          "CaCoO3",
          "CaMnO3",
          "KPtO3",
          "BaNiO3",
          "BaMnO3",
          "SrReO3",
          "BaReO3",
          "SrIrO3",
          "NaVO3",
          "NaFeO3",
          "BaIrO3",
          "RbReO3",
          "CaRuO3",
          "RbPdO3",
          "CaHfO3",
          "TlWO3",
          "RbWO3",
          "RbPtO3"
         ],
         "y": [
          -0.782,
          2.024,
          -0.302,
          -1.001,
          1.29,
          2.026,
          0.04,
          -0.067,
          1.191,
          1.276,
          2.007,
          -0.217,
          -1.129,
          2.147,
          1.7,
          -1.886,
          1.081,
          -0.354,
          -0.031,
          -0.733,
          0.26,
          1.946,
          -0.191,
          -0.464,
          -1.056,
          3.474,
          0.976,
          -0.831,
          2.548,
          1.927,
          1.151,
          "NaN",
          -0.997,
          1.163,
          -2.023,
          2.007,
          1.263,
          0.746,
          0.152,
          0.899,
          -1.124,
          1.568,
          1.821,
          -0.344,
          -1.484,
          0.446,
          0.83,
          -1.13,
          2.205,
          2.146,
          0.07,
          0.499,
          -0.415,
          -0.547,
          1.086,
          1.101,
          -0.181,
          -0.558,
          0.646,
          1.903,
          1.29,
          -0.474,
          1.636,
          1.408,
          1.292,
          2.267,
          1.655,
          -1.281,
          -0.775,
          0.424,
          0.52,
          2.325,
          0.646,
          -0.678,
          -0.363,
          1.313,
          0.619,
          -1.407,
          -1.115,
          1.034
         ]
        }
       ],
       "layout": {
        "template": {
         "data": {
          "bar": [
           {
            "error_x": {
             "color": "rgb(36,36,36)"
            },
            "error_y": {
             "color": "rgb(36,36,36)"
            },
            "marker": {
             "line": {
              "color": "rgb(234,234,242)",
              "width": 0.5
             }
            },
            "type": "bar"
           }
          ],
          "barpolar": [
           {
            "marker": {
             "line": {
              "color": "rgb(234,234,242)",
              "width": 0.5
             }
            },
            "type": "barpolar"
           }
          ],
          "carpet": [
           {
            "aaxis": {
             "endlinecolor": "rgb(36,36,36)",
             "gridcolor": "white",
             "linecolor": "white",
             "minorgridcolor": "white",
             "startlinecolor": "rgb(36,36,36)"
            },
            "baxis": {
             "endlinecolor": "rgb(36,36,36)",
             "gridcolor": "white",
             "linecolor": "white",
             "minorgridcolor": "white",
             "startlinecolor": "rgb(36,36,36)"
            },
            "type": "carpet"
           }
          ],
          "choropleth": [
           {
            "colorbar": {
             "outlinewidth": 0,
             "tickcolor": "rgb(36,36,36)",
             "ticklen": 8,
             "ticks": "outside",
             "tickwidth": 2
            },
            "type": "choropleth"
           }
          ],
          "contour": [
           {
            "colorbar": {
             "outlinewidth": 0,
             "tickcolor": "rgb(36,36,36)",
             "ticklen": 8,
             "ticks": "outside",
             "tickwidth": 2
            },
            "colorscale": [
             [
              0,
              "rgb(2,4,25)"
             ],
             [
              0.06274509803921569,
              "rgb(24,15,41)"
             ],
             [
              0.12549019607843137,
              "rgb(47,23,57)"
             ],
             [
              0.18823529411764706,
              "rgb(71,28,72)"
             ],
             [
              0.25098039215686274,
              "rgb(97,30,82)"
             ],
             [
              0.3137254901960784,
              "rgb(123,30,89)"
             ],
             [
              0.3764705882352941,
              "rgb(150,27,91)"
             ],
             [
              0.4392156862745098,
              "rgb(177,22,88)"
             ],
             [
              0.5019607843137255,
              "rgb(203,26,79)"
             ],
             [
              0.5647058823529412,
              "rgb(223,47,67)"
             ],
             [
              0.6274509803921569,
              "rgb(236,76,61)"
             ],
             [
              0.6901960784313725,
              "rgb(242,107,73)"
             ],
             [
              0.7529411764705882,
              "rgb(244,135,95)"
             ],
             [
              0.8156862745098039,
              "rgb(245,162,122)"
             ],
             [
              0.8784313725490196,
              "rgb(246,188,153)"
             ],
             [
              0.9411764705882353,
              "rgb(247,212,187)"
             ],
             [
              1,
              "rgb(250,234,220)"
             ]
            ],
            "type": "contour"
           }
          ],
          "contourcarpet": [
           {
            "colorbar": {
             "outlinewidth": 0,
             "tickcolor": "rgb(36,36,36)",
             "ticklen": 8,
             "ticks": "outside",
             "tickwidth": 2
            },
            "type": "contourcarpet"
           }
          ],
          "heatmap": [
           {
            "colorbar": {
             "outlinewidth": 0,
             "tickcolor": "rgb(36,36,36)",
             "ticklen": 8,
             "ticks": "outside",
             "tickwidth": 2
            },
            "colorscale": [
             [
              0,
              "rgb(2,4,25)"
             ],
             [
              0.06274509803921569,
              "rgb(24,15,41)"
             ],
             [
              0.12549019607843137,
              "rgb(47,23,57)"
             ],
             [
              0.18823529411764706,
              "rgb(71,28,72)"
             ],
             [
              0.25098039215686274,
              "rgb(97,30,82)"
             ],
             [
              0.3137254901960784,
              "rgb(123,30,89)"
             ],
             [
              0.3764705882352941,
              "rgb(150,27,91)"
             ],
             [
              0.4392156862745098,
              "rgb(177,22,88)"
             ],
             [
              0.5019607843137255,
              "rgb(203,26,79)"
             ],
             [
              0.5647058823529412,
              "rgb(223,47,67)"
             ],
             [
              0.6274509803921569,
              "rgb(236,76,61)"
             ],
             [
              0.6901960784313725,
              "rgb(242,107,73)"
             ],
             [
              0.7529411764705882,
              "rgb(244,135,95)"
             ],
             [
              0.8156862745098039,
              "rgb(245,162,122)"
             ],
             [
              0.8784313725490196,
              "rgb(246,188,153)"
             ],
             [
              0.9411764705882353,
              "rgb(247,212,187)"
             ],
             [
              1,
              "rgb(250,234,220)"
             ]
            ],
            "type": "heatmap"
           }
          ],
          "heatmapgl": [
           {
            "colorbar": {
             "outlinewidth": 0,
             "tickcolor": "rgb(36,36,36)",
             "ticklen": 8,
             "ticks": "outside",
             "tickwidth": 2
            },
            "colorscale": [
             [
              0,
              "rgb(2,4,25)"
             ],
             [
              0.06274509803921569,
              "rgb(24,15,41)"
             ],
             [
              0.12549019607843137,
              "rgb(47,23,57)"
             ],
             [
              0.18823529411764706,
              "rgb(71,28,72)"
             ],
             [
              0.25098039215686274,
              "rgb(97,30,82)"
             ],
             [
              0.3137254901960784,
              "rgb(123,30,89)"
             ],
             [
              0.3764705882352941,
              "rgb(150,27,91)"
             ],
             [
              0.4392156862745098,
              "rgb(177,22,88)"
             ],
             [
              0.5019607843137255,
              "rgb(203,26,79)"
             ],
             [
              0.5647058823529412,
              "rgb(223,47,67)"
             ],
             [
              0.6274509803921569,
              "rgb(236,76,61)"
             ],
             [
              0.6901960784313725,
              "rgb(242,107,73)"
             ],
             [
              0.7529411764705882,
              "rgb(244,135,95)"
             ],
             [
              0.8156862745098039,
              "rgb(245,162,122)"
             ],
             [
              0.8784313725490196,
              "rgb(246,188,153)"
             ],
             [
              0.9411764705882353,
              "rgb(247,212,187)"
             ],
             [
              1,
              "rgb(250,234,220)"
             ]
            ],
            "type": "heatmapgl"
           }
          ],
          "histogram": [
           {
            "marker": {
             "colorbar": {
              "outlinewidth": 0,
              "tickcolor": "rgb(36,36,36)",
              "ticklen": 8,
              "ticks": "outside",
              "tickwidth": 2
             }
            },
            "type": "histogram"
           }
          ],
          "histogram2d": [
           {
            "colorbar": {
             "outlinewidth": 0,
             "tickcolor": "rgb(36,36,36)",
             "ticklen": 8,
             "ticks": "outside",
             "tickwidth": 2
            },
            "colorscale": [
             [
              0,
              "rgb(2,4,25)"
             ],
             [
              0.06274509803921569,
              "rgb(24,15,41)"
             ],
             [
              0.12549019607843137,
              "rgb(47,23,57)"
             ],
             [
              0.18823529411764706,
              "rgb(71,28,72)"
             ],
             [
              0.25098039215686274,
              "rgb(97,30,82)"
             ],
             [
              0.3137254901960784,
              "rgb(123,30,89)"
             ],
             [
              0.3764705882352941,
              "rgb(150,27,91)"
             ],
             [
              0.4392156862745098,
              "rgb(177,22,88)"
             ],
             [
              0.5019607843137255,
              "rgb(203,26,79)"
             ],
             [
              0.5647058823529412,
              "rgb(223,47,67)"
             ],
             [
              0.6274509803921569,
              "rgb(236,76,61)"
             ],
             [
              0.6901960784313725,
              "rgb(242,107,73)"
             ],
             [
              0.7529411764705882,
              "rgb(244,135,95)"
             ],
             [
              0.8156862745098039,
              "rgb(245,162,122)"
             ],
             [
              0.8784313725490196,
              "rgb(246,188,153)"
             ],
             [
              0.9411764705882353,
              "rgb(247,212,187)"
             ],
             [
              1,
              "rgb(250,234,220)"
             ]
            ],
            "type": "histogram2d"
           }
          ],
          "histogram2dcontour": [
           {
            "colorbar": {
             "outlinewidth": 0,
             "tickcolor": "rgb(36,36,36)",
             "ticklen": 8,
             "ticks": "outside",
             "tickwidth": 2
            },
            "colorscale": [
             [
              0,
              "rgb(2,4,25)"
             ],
             [
              0.06274509803921569,
              "rgb(24,15,41)"
             ],
             [
              0.12549019607843137,
              "rgb(47,23,57)"
             ],
             [
              0.18823529411764706,
              "rgb(71,28,72)"
             ],
             [
              0.25098039215686274,
              "rgb(97,30,82)"
             ],
             [
              0.3137254901960784,
              "rgb(123,30,89)"
             ],
             [
              0.3764705882352941,
              "rgb(150,27,91)"
             ],
             [
              0.4392156862745098,
              "rgb(177,22,88)"
             ],
             [
              0.5019607843137255,
              "rgb(203,26,79)"
             ],
             [
              0.5647058823529412,
              "rgb(223,47,67)"
             ],
             [
              0.6274509803921569,
              "rgb(236,76,61)"
             ],
             [
              0.6901960784313725,
              "rgb(242,107,73)"
             ],
             [
              0.7529411764705882,
              "rgb(244,135,95)"
             ],
             [
              0.8156862745098039,
              "rgb(245,162,122)"
             ],
             [
              0.8784313725490196,
              "rgb(246,188,153)"
             ],
             [
              0.9411764705882353,
              "rgb(247,212,187)"
             ],
             [
              1,
              "rgb(250,234,220)"
             ]
            ],
            "type": "histogram2dcontour"
           }
          ],
          "mesh3d": [
           {
            "colorbar": {
             "outlinewidth": 0,
             "tickcolor": "rgb(36,36,36)",
             "ticklen": 8,
             "ticks": "outside",
             "tickwidth": 2
            },
            "type": "mesh3d"
           }
          ],
          "parcoords": [
           {
            "line": {
             "colorbar": {
              "outlinewidth": 0,
              "tickcolor": "rgb(36,36,36)",
              "ticklen": 8,
              "ticks": "outside",
              "tickwidth": 2
             }
            },
            "type": "parcoords"
           }
          ],
          "pie": [
           {
            "automargin": true,
            "type": "pie"
           }
          ],
          "scatter": [
           {
            "marker": {
             "colorbar": {
              "outlinewidth": 0,
              "tickcolor": "rgb(36,36,36)",
              "ticklen": 8,
              "ticks": "outside",
              "tickwidth": 2
             }
            },
            "type": "scatter"
           }
          ],
          "scatter3d": [
           {
            "line": {
             "colorbar": {
              "outlinewidth": 0,
              "tickcolor": "rgb(36,36,36)",
              "ticklen": 8,
              "ticks": "outside",
              "tickwidth": 2
             }
            },
            "marker": {
             "colorbar": {
              "outlinewidth": 0,
              "tickcolor": "rgb(36,36,36)",
              "ticklen": 8,
              "ticks": "outside",
              "tickwidth": 2
             }
            },
            "type": "scatter3d"
           }
          ],
          "scattercarpet": [
           {
            "marker": {
             "colorbar": {
              "outlinewidth": 0,
              "tickcolor": "rgb(36,36,36)",
              "ticklen": 8,
              "ticks": "outside",
              "tickwidth": 2
             }
            },
            "type": "scattercarpet"
           }
          ],
          "scattergeo": [
           {
            "marker": {
             "colorbar": {
              "outlinewidth": 0,
              "tickcolor": "rgb(36,36,36)",
              "ticklen": 8,
              "ticks": "outside",
              "tickwidth": 2
             }
            },
            "type": "scattergeo"
           }
          ],
          "scattergl": [
           {
            "marker": {
             "colorbar": {
              "outlinewidth": 0,
              "tickcolor": "rgb(36,36,36)",
              "ticklen": 8,
              "ticks": "outside",
              "tickwidth": 2
             }
            },
            "type": "scattergl"
           }
          ],
          "scattermapbox": [
           {
            "marker": {
             "colorbar": {
              "outlinewidth": 0,
              "tickcolor": "rgb(36,36,36)",
              "ticklen": 8,
              "ticks": "outside",
              "tickwidth": 2
             }
            },
            "type": "scattermapbox"
           }
          ],
          "scatterpolar": [
           {
            "marker": {
             "colorbar": {
              "outlinewidth": 0,
              "tickcolor": "rgb(36,36,36)",
              "ticklen": 8,
              "ticks": "outside",
              "tickwidth": 2
             }
            },
            "type": "scatterpolar"
           }
          ],
          "scatterpolargl": [
           {
            "marker": {
             "colorbar": {
              "outlinewidth": 0,
              "tickcolor": "rgb(36,36,36)",
              "ticklen": 8,
              "ticks": "outside",
              "tickwidth": 2
             }
            },
            "type": "scatterpolargl"
           }
          ],
          "scatterternary": [
           {
            "marker": {
             "colorbar": {
              "outlinewidth": 0,
              "tickcolor": "rgb(36,36,36)",
              "ticklen": 8,
              "ticks": "outside",
              "tickwidth": 2
             }
            },
            "type": "scatterternary"
           }
          ],
          "surface": [
           {
            "colorbar": {
             "outlinewidth": 0,
             "tickcolor": "rgb(36,36,36)",
             "ticklen": 8,
             "ticks": "outside",
             "tickwidth": 2
            },
            "colorscale": [
             [
              0,
              "rgb(2,4,25)"
             ],
             [
              0.06274509803921569,
              "rgb(24,15,41)"
             ],
             [
              0.12549019607843137,
              "rgb(47,23,57)"
             ],
             [
              0.18823529411764706,
              "rgb(71,28,72)"
             ],
             [
              0.25098039215686274,
              "rgb(97,30,82)"
             ],
             [
              0.3137254901960784,
              "rgb(123,30,89)"
             ],
             [
              0.3764705882352941,
              "rgb(150,27,91)"
             ],
             [
              0.4392156862745098,
              "rgb(177,22,88)"
             ],
             [
              0.5019607843137255,
              "rgb(203,26,79)"
             ],
             [
              0.5647058823529412,
              "rgb(223,47,67)"
             ],
             [
              0.6274509803921569,
              "rgb(236,76,61)"
             ],
             [
              0.6901960784313725,
              "rgb(242,107,73)"
             ],
             [
              0.7529411764705882,
              "rgb(244,135,95)"
             ],
             [
              0.8156862745098039,
              "rgb(245,162,122)"
             ],
             [
              0.8784313725490196,
              "rgb(246,188,153)"
             ],
             [
              0.9411764705882353,
              "rgb(247,212,187)"
             ],
             [
              1,
              "rgb(250,234,220)"
             ]
            ],
            "type": "surface"
           }
          ],
          "table": [
           {
            "cells": {
             "fill": {
              "color": "rgb(231,231,240)"
             },
             "line": {
              "color": "white"
             }
            },
            "header": {
             "fill": {
              "color": "rgb(183,183,191)"
             },
             "line": {
              "color": "white"
             }
            },
            "type": "table"
           }
          ]
         },
         "layout": {
          "annotationdefaults": {
           "arrowcolor": "rgb(67,103,167)"
          },
          "coloraxis": {
           "colorbar": {
            "outlinewidth": 0,
            "tickcolor": "rgb(36,36,36)",
            "ticklen": 8,
            "ticks": "outside",
            "tickwidth": 2
           }
          },
          "colorscale": {
           "sequential": [
            [
             0,
             "rgb(2,4,25)"
            ],
            [
             0.06274509803921569,
             "rgb(24,15,41)"
            ],
            [
             0.12549019607843137,
             "rgb(47,23,57)"
            ],
            [
             0.18823529411764706,
             "rgb(71,28,72)"
            ],
            [
             0.25098039215686274,
             "rgb(97,30,82)"
            ],
            [
             0.3137254901960784,
             "rgb(123,30,89)"
            ],
            [
             0.3764705882352941,
             "rgb(150,27,91)"
            ],
            [
             0.4392156862745098,
             "rgb(177,22,88)"
            ],
            [
             0.5019607843137255,
             "rgb(203,26,79)"
            ],
            [
             0.5647058823529412,
             "rgb(223,47,67)"
            ],
            [
             0.6274509803921569,
             "rgb(236,76,61)"
            ],
            [
             0.6901960784313725,
             "rgb(242,107,73)"
            ],
            [
             0.7529411764705882,
             "rgb(244,135,95)"
            ],
            [
             0.8156862745098039,
             "rgb(245,162,122)"
            ],
            [
             0.8784313725490196,
             "rgb(246,188,153)"
            ],
            [
             0.9411764705882353,
             "rgb(247,212,187)"
            ],
            [
             1,
             "rgb(250,234,220)"
            ]
           ],
           "sequentialminus": [
            [
             0,
             "rgb(2,4,25)"
            ],
            [
             0.06274509803921569,
             "rgb(24,15,41)"
            ],
            [
             0.12549019607843137,
             "rgb(47,23,57)"
            ],
            [
             0.18823529411764706,
             "rgb(71,28,72)"
            ],
            [
             0.25098039215686274,
             "rgb(97,30,82)"
            ],
            [
             0.3137254901960784,
             "rgb(123,30,89)"
            ],
            [
             0.3764705882352941,
             "rgb(150,27,91)"
            ],
            [
             0.4392156862745098,
             "rgb(177,22,88)"
            ],
            [
             0.5019607843137255,
             "rgb(203,26,79)"
            ],
            [
             0.5647058823529412,
             "rgb(223,47,67)"
            ],
            [
             0.6274509803921569,
             "rgb(236,76,61)"
            ],
            [
             0.6901960784313725,
             "rgb(242,107,73)"
            ],
            [
             0.7529411764705882,
             "rgb(244,135,95)"
            ],
            [
             0.8156862745098039,
             "rgb(245,162,122)"
            ],
            [
             0.8784313725490196,
             "rgb(246,188,153)"
            ],
            [
             0.9411764705882353,
             "rgb(247,212,187)"
            ],
            [
             1,
             "rgb(250,234,220)"
            ]
           ]
          },
          "colorway": [
           "rgb(76,114,176)",
           "rgb(221,132,82)",
           "rgb(85,168,104)",
           "rgb(196,78,82)",
           "rgb(129,114,179)",
           "rgb(147,120,96)",
           "rgb(218,139,195)",
           "rgb(140,140,140)",
           "rgb(204,185,116)",
           "rgb(100,181,205)"
          ],
          "font": {
           "color": "rgb(36,36,36)"
          },
          "geo": {
           "bgcolor": "white",
           "lakecolor": "white",
           "landcolor": "rgb(234,234,242)",
           "showlakes": true,
           "showland": true,
           "subunitcolor": "white"
          },
          "hoverlabel": {
           "align": "left"
          },
          "hovermode": "closest",
          "paper_bgcolor": "white",
          "plot_bgcolor": "rgb(234,234,242)",
          "polar": {
           "angularaxis": {
            "gridcolor": "white",
            "linecolor": "white",
            "showgrid": true,
            "ticks": ""
           },
           "bgcolor": "rgb(234,234,242)",
           "radialaxis": {
            "gridcolor": "white",
            "linecolor": "white",
            "showgrid": true,
            "ticks": ""
           }
          },
          "scene": {
           "xaxis": {
            "backgroundcolor": "rgb(234,234,242)",
            "gridcolor": "white",
            "gridwidth": 2,
            "linecolor": "white",
            "showbackground": true,
            "showgrid": true,
            "ticks": "",
            "zerolinecolor": "white"
           },
           "yaxis": {
            "backgroundcolor": "rgb(234,234,242)",
            "gridcolor": "white",
            "gridwidth": 2,
            "linecolor": "white",
            "showbackground": true,
            "showgrid": true,
            "ticks": "",
            "zerolinecolor": "white"
           },
           "zaxis": {
            "backgroundcolor": "rgb(234,234,242)",
            "gridcolor": "white",
            "gridwidth": 2,
            "linecolor": "white",
            "showbackground": true,
            "showgrid": true,
            "ticks": "",
            "zerolinecolor": "white"
           }
          },
          "shapedefaults": {
           "fillcolor": "rgb(67,103,167)",
           "line": {
            "width": 0
           },
           "opacity": 0.5
          },
          "ternary": {
           "aaxis": {
            "gridcolor": "white",
            "linecolor": "white",
            "showgrid": true,
            "ticks": ""
           },
           "baxis": {
            "gridcolor": "white",
            "linecolor": "white",
            "showgrid": true,
            "ticks": ""
           },
           "bgcolor": "rgb(234,234,242)",
           "caxis": {
            "gridcolor": "white",
            "linecolor": "white",
            "showgrid": true,
            "ticks": ""
           }
          },
          "xaxis": {
           "automargin": true,
           "gridcolor": "white",
           "linecolor": "white",
           "showgrid": true,
           "ticks": "",
           "title": {
            "standoff": 15
           },
           "zerolinecolor": "white"
          },
          "yaxis": {
           "automargin": true,
           "gridcolor": "white",
           "linecolor": "white",
           "showgrid": true,
           "ticks": "",
           "title": {
            "standoff": 15
           },
           "zerolinecolor": "white"
          }
         }
        },
        "title": {
         "text": "Adsorption free energies"
        },
        "width": 2000,
        "yaxis": {
         "title": {
          "text": "$\\Delta G_{ads} (eV)$"
         }
        }
       }
      },
      "text/html": [
       "<div>                            <div id=\"9437dca8-c9ba-4806-a626-a2f52709179c\" class=\"plotly-graph-div\" style=\"height:525px; width:2000px;\"></div>            <script type=\"text/javascript\">                require([\"plotly\"], function(Plotly) {                    window.PLOTLYENV=window.PLOTLYENV || {};                                    if (document.getElementById(\"9437dca8-c9ba-4806-a626-a2f52709179c\")) {                    Plotly.newPlot(                        \"9437dca8-c9ba-4806-a626-a2f52709179c\",                        [{\"name\": \"OOH\", \"type\": \"bar\", \"x\": [\"SrTcO3\", \"BaFeO3\", \"BaMoO3\", \"KTaO3\", \"BaZrO3\", \"SrFeO3\", \"KTcO3\", \"NaTcO3\", \"BaHfO3\", \"SrTiO3\", \"SrCuO3\", \"KNbO3\", \"NaTaO3\", \"BaScO3\", \"BaPdO3\", \"BaTaO3\", \"SrHfO3\", \"NaOsO3\", \"TlTcO3\", \"KReO3\", \"SrRuO3\", \"KHfO3\", \"SrVO3\", \"KOsO3\", \"TaAgO3\", \"SrNiO3\", \"RbIrO3\", \"NaReO3\", \"SrMnO3\", \"CaFeO3\", \"SrZrO3\", \"NaWO3\", \"RbTaO3\", \"SrCoO3\", \"SrTaO3\", \"KZrO3\", \"CaTiO3\", \"NaRuO3\", \"LiTcO3\", \"SrPdO3\", \"KWO3\", \"KRhO3\", \"BaCuO3\", \"RbNbO3\", \"BaOsO3\", \"BaRuO3\", \"KRuO3\", \"SrMoO3\", \"NaTiO3\", \"SrScO3\", \"RbOsO3\", \"SrRhO3\", \"NaMoO3\", \"SrOsO3\", \"BaRhO3\", \"BaPtO3\", \"CaVO3\", \"KMoO3\", \"SrCrO3\", \"SrAgO3\", \"RbRhO3\", \"BaVO3\", \"CaCoO3\", \"CaMnO3\", \"KPtO3\", \"BaNiO3\", \"BaMnO3\", \"SrReO3\", \"BaReO3\", \"SrIrO3\", \"NaVO3\", \"NaFeO3\", \"BaIrO3\", \"RbReO3\", \"CaRuO3\", \"RbPdO3\", \"CaHfO3\", \"TlWO3\", \"RbWO3\", \"RbPtO3\"], \"y\": [2.481, 4.917, 3.019, 2.575, 4.706, 4.94, 3.231, 3.149, 4.537, 4.632, 5.007, 3.298, 2.423, 4.977, 4.665, -4.233, 4.46, 3.103, 3.1, 2.539, 3.406, 4.806, 3.026, 2.802, 2.512, 4.641, 4.135, 2.449, 5.509, 4.926, 4.537, \"NaN\", 2.619, 4.261, -4.866, 4.825, 4.692, 3.804, 3.351, 3.741, 2.067, 4.504, 4.755, 3.187, 2.141, 3.513, 3.972, 2.216, 4.918, 4.963, 2.772, 3.496, 2.624, \"NaN\", 4.115, 4.159, 3.376, 2.632, 3.829, 2.733, 4.069, 3.366, 4.683, 4.967, 4.28, 4.943, 4.914, -2.589, -1.913, 3.546, 3.911, 5.028, 3.828, 2.581, 2.514, 4.231, 3.86, 2.157, 2.599, 4.02]}, {\"name\": \"O\", \"type\": \"bar\", \"x\": [\"SrTcO3\", \"BaFeO3\", \"BaMoO3\", \"KTaO3\", \"BaZrO3\", \"SrFeO3\", \"KTcO3\", \"NaTcO3\", \"BaHfO3\", \"SrTiO3\", \"SrCuO3\", \"KNbO3\", \"NaTaO3\", \"BaScO3\", \"BaPdO3\", \"BaTaO3\", \"SrHfO3\", \"NaOsO3\", \"TlTcO3\", \"KReO3\", \"SrRuO3\", \"KHfO3\", \"SrVO3\", \"KOsO3\", \"TaAgO3\", \"SrNiO3\", \"RbIrO3\", \"NaReO3\", \"SrMnO3\", \"CaFeO3\", \"SrZrO3\", \"NaWO3\", \"RbTaO3\", \"SrCoO3\", \"SrTaO3\", \"KZrO3\", \"CaTiO3\", \"NaRuO3\", \"LiTcO3\", \"SrPdO3\", \"KWO3\", \"KRhO3\", \"BaCuO3\", \"RbNbO3\", \"BaOsO3\", \"BaRuO3\", \"KRuO3\", \"SrMoO3\", \"NaTiO3\", \"SrScO3\", \"RbOsO3\", \"SrRhO3\", \"NaMoO3\", \"SrOsO3\", \"BaRhO3\", \"BaPtO3\", \"CaVO3\", \"KMoO3\", \"SrCrO3\", \"SrAgO3\", \"RbRhO3\", \"BaVO3\", \"CaCoO3\", \"CaMnO3\", \"KPtO3\", \"BaNiO3\", \"BaMnO3\", \"SrReO3\", \"BaReO3\", \"SrIrO3\", \"NaVO3\", \"NaFeO3\", \"BaIrO3\", \"RbReO3\", \"CaRuO3\", \"RbPdO3\", \"CaHfO3\", \"TlWO3\", \"RbWO3\", \"RbPtO3\"], \"y\": [-0.707, 4.452, -0.853, -0.614, 4.143, 4.606, 0.446, 0.301, 4.023, 3.889, 4.23, 0.465, -0.899, 4.7, 3.455, -2.572, 3.952, 0.577, 0.313, -0.544, 0.96, 4.407, 0.516, 0.699, -0.969, 4.437, 2.415, -0.697, 4.648, 4.277, 4.034, -1.577, -0.617, 3.136, -2.783, 4.516, 3.911, 1.871, 0.621, 3.176, -1.2, 3.321, 3.95, 0.282, -0.728, 1.303, 2.006, -1.375, 4.568, 4.677, \"NaN\", 2.151, -0.665, \"NaN\", 2.461, 2.56, 0.389, -0.412, 2.046, 4.29, 3.2, 0.504, 3.425, 4.289, 2.948, 4.41, 2.943, -1.278, -1.129, 1.673, 1.743, 4.625, 1.989, -0.492, 0.68, 3.183, 3.642, -0.904, -1.056, 2.727]}, {\"name\": \"OH\", \"type\": \"bar\", \"x\": [\"SrTcO3\", \"BaFeO3\", \"BaMoO3\", \"KTaO3\", \"BaZrO3\", \"SrFeO3\", \"KTcO3\", \"NaTcO3\", \"BaHfO3\", \"SrTiO3\", \"SrCuO3\", \"KNbO3\", \"NaTaO3\", \"BaScO3\", \"BaPdO3\", \"BaTaO3\", \"SrHfO3\", \"NaOsO3\", \"TlTcO3\", \"KReO3\", \"SrRuO3\", \"KHfO3\", \"SrVO3\", \"KOsO3\", \"TaAgO3\", \"SrNiO3\", \"RbIrO3\", \"NaReO3\", \"SrMnO3\", \"CaFeO3\", \"SrZrO3\", \"NaWO3\", \"RbTaO3\", \"SrCoO3\", \"SrTaO3\", \"KZrO3\", \"CaTiO3\", \"NaRuO3\", \"LiTcO3\", \"SrPdO3\", \"KWO3\", \"KRhO3\", \"BaCuO3\", \"RbNbO3\", \"BaOsO3\", \"BaRuO3\", \"KRuO3\", \"SrMoO3\", \"NaTiO3\", \"SrScO3\", \"RbOsO3\", \"SrRhO3\", \"NaMoO3\", \"SrOsO3\", \"BaRhO3\", \"BaPtO3\", \"CaVO3\", \"KMoO3\", \"SrCrO3\", \"SrAgO3\", \"RbRhO3\", \"BaVO3\", \"CaCoO3\", \"CaMnO3\", \"KPtO3\", \"BaNiO3\", \"BaMnO3\", \"SrReO3\", \"BaReO3\", \"SrIrO3\", \"NaVO3\", \"NaFeO3\", \"BaIrO3\", \"RbReO3\", \"CaRuO3\", \"RbPdO3\", \"CaHfO3\", \"TlWO3\", \"RbWO3\", \"RbPtO3\"], \"y\": [-0.782, 2.024, -0.302, -1.001, 1.29, 2.026, 0.04, -0.067, 1.191, 1.276, 2.007, -0.217, -1.129, 2.147, 1.7, -1.886, 1.081, -0.354, -0.031, -0.733, 0.26, 1.946, -0.191, -0.464, -1.056, 3.474, 0.976, -0.831, 2.548, 1.927, 1.151, \"NaN\", -0.997, 1.163, -2.023, 2.007, 1.263, 0.746, 0.152, 0.899, -1.124, 1.568, 1.821, -0.344, -1.484, 0.446, 0.83, -1.13, 2.205, 2.146, 0.07, 0.499, -0.415, -0.547, 1.086, 1.101, -0.181, -0.558, 0.646, 1.903, 1.29, -0.474, 1.636, 1.408, 1.292, 2.267, 1.655, -1.281, -0.775, 0.424, 0.52, 2.325, 0.646, -0.678, -0.363, 1.313, 0.619, -1.407, -1.115, 1.034]}],                        {\"template\": {\"data\": {\"bar\": [{\"error_x\": {\"color\": \"rgb(36,36,36)\"}, \"error_y\": {\"color\": \"rgb(36,36,36)\"}, \"marker\": {\"line\": {\"color\": \"rgb(234,234,242)\", \"width\": 0.5}}, \"type\": \"bar\"}], \"barpolar\": [{\"marker\": {\"line\": {\"color\": \"rgb(234,234,242)\", \"width\": 0.5}}, \"type\": \"barpolar\"}], \"carpet\": [{\"aaxis\": {\"endlinecolor\": \"rgb(36,36,36)\", \"gridcolor\": \"white\", \"linecolor\": \"white\", \"minorgridcolor\": \"white\", \"startlinecolor\": \"rgb(36,36,36)\"}, \"baxis\": {\"endlinecolor\": \"rgb(36,36,36)\", \"gridcolor\": \"white\", \"linecolor\": \"white\", \"minorgridcolor\": \"white\", \"startlinecolor\": \"rgb(36,36,36)\"}, \"type\": \"carpet\"}], \"choropleth\": [{\"colorbar\": {\"outlinewidth\": 0, \"tickcolor\": \"rgb(36,36,36)\", \"ticklen\": 8, \"ticks\": \"outside\", \"tickwidth\": 2}, \"type\": \"choropleth\"}], \"contour\": [{\"colorbar\": {\"outlinewidth\": 0, \"tickcolor\": \"rgb(36,36,36)\", \"ticklen\": 8, \"ticks\": \"outside\", \"tickwidth\": 2}, \"colorscale\": [[0.0, \"rgb(2,4,25)\"], [0.06274509803921569, \"rgb(24,15,41)\"], [0.12549019607843137, \"rgb(47,23,57)\"], [0.18823529411764706, \"rgb(71,28,72)\"], [0.25098039215686274, \"rgb(97,30,82)\"], [0.3137254901960784, \"rgb(123,30,89)\"], [0.3764705882352941, \"rgb(150,27,91)\"], [0.4392156862745098, \"rgb(177,22,88)\"], [0.5019607843137255, \"rgb(203,26,79)\"], [0.5647058823529412, \"rgb(223,47,67)\"], [0.6274509803921569, \"rgb(236,76,61)\"], [0.6901960784313725, \"rgb(242,107,73)\"], [0.7529411764705882, \"rgb(244,135,95)\"], [0.8156862745098039, \"rgb(245,162,122)\"], [0.8784313725490196, \"rgb(246,188,153)\"], [0.9411764705882353, \"rgb(247,212,187)\"], [1.0, \"rgb(250,234,220)\"]], \"type\": \"contour\"}], \"contourcarpet\": [{\"colorbar\": {\"outlinewidth\": 0, \"tickcolor\": \"rgb(36,36,36)\", \"ticklen\": 8, \"ticks\": \"outside\", \"tickwidth\": 2}, \"type\": \"contourcarpet\"}], \"heatmap\": [{\"colorbar\": {\"outlinewidth\": 0, \"tickcolor\": \"rgb(36,36,36)\", \"ticklen\": 8, \"ticks\": \"outside\", \"tickwidth\": 2}, \"colorscale\": [[0.0, \"rgb(2,4,25)\"], [0.06274509803921569, \"rgb(24,15,41)\"], [0.12549019607843137, \"rgb(47,23,57)\"], [0.18823529411764706, \"rgb(71,28,72)\"], [0.25098039215686274, \"rgb(97,30,82)\"], [0.3137254901960784, \"rgb(123,30,89)\"], [0.3764705882352941, \"rgb(150,27,91)\"], [0.4392156862745098, \"rgb(177,22,88)\"], [0.5019607843137255, \"rgb(203,26,79)\"], [0.5647058823529412, \"rgb(223,47,67)\"], [0.6274509803921569, \"rgb(236,76,61)\"], [0.6901960784313725, \"rgb(242,107,73)\"], [0.7529411764705882, \"rgb(244,135,95)\"], [0.8156862745098039, \"rgb(245,162,122)\"], [0.8784313725490196, \"rgb(246,188,153)\"], [0.9411764705882353, \"rgb(247,212,187)\"], [1.0, \"rgb(250,234,220)\"]], \"type\": \"heatmap\"}], \"heatmapgl\": [{\"colorbar\": {\"outlinewidth\": 0, \"tickcolor\": \"rgb(36,36,36)\", \"ticklen\": 8, \"ticks\": \"outside\", \"tickwidth\": 2}, \"colorscale\": [[0.0, \"rgb(2,4,25)\"], [0.06274509803921569, \"rgb(24,15,41)\"], [0.12549019607843137, \"rgb(47,23,57)\"], [0.18823529411764706, \"rgb(71,28,72)\"], [0.25098039215686274, \"rgb(97,30,82)\"], [0.3137254901960784, \"rgb(123,30,89)\"], [0.3764705882352941, \"rgb(150,27,91)\"], [0.4392156862745098, \"rgb(177,22,88)\"], [0.5019607843137255, \"rgb(203,26,79)\"], [0.5647058823529412, \"rgb(223,47,67)\"], [0.6274509803921569, \"rgb(236,76,61)\"], [0.6901960784313725, \"rgb(242,107,73)\"], [0.7529411764705882, \"rgb(244,135,95)\"], [0.8156862745098039, \"rgb(245,162,122)\"], [0.8784313725490196, \"rgb(246,188,153)\"], [0.9411764705882353, \"rgb(247,212,187)\"], [1.0, \"rgb(250,234,220)\"]], \"type\": \"heatmapgl\"}], \"histogram\": [{\"marker\": {\"colorbar\": {\"outlinewidth\": 0, \"tickcolor\": \"rgb(36,36,36)\", \"ticklen\": 8, \"ticks\": \"outside\", \"tickwidth\": 2}}, \"type\": \"histogram\"}], \"histogram2d\": [{\"colorbar\": {\"outlinewidth\": 0, \"tickcolor\": \"rgb(36,36,36)\", \"ticklen\": 8, \"ticks\": \"outside\", \"tickwidth\": 2}, \"colorscale\": [[0.0, \"rgb(2,4,25)\"], [0.06274509803921569, \"rgb(24,15,41)\"], [0.12549019607843137, \"rgb(47,23,57)\"], [0.18823529411764706, \"rgb(71,28,72)\"], [0.25098039215686274, \"rgb(97,30,82)\"], [0.3137254901960784, \"rgb(123,30,89)\"], [0.3764705882352941, \"rgb(150,27,91)\"], [0.4392156862745098, \"rgb(177,22,88)\"], [0.5019607843137255, \"rgb(203,26,79)\"], [0.5647058823529412, \"rgb(223,47,67)\"], [0.6274509803921569, \"rgb(236,76,61)\"], [0.6901960784313725, \"rgb(242,107,73)\"], [0.7529411764705882, \"rgb(244,135,95)\"], [0.8156862745098039, \"rgb(245,162,122)\"], [0.8784313725490196, \"rgb(246,188,153)\"], [0.9411764705882353, \"rgb(247,212,187)\"], [1.0, \"rgb(250,234,220)\"]], \"type\": \"histogram2d\"}], \"histogram2dcontour\": [{\"colorbar\": {\"outlinewidth\": 0, \"tickcolor\": \"rgb(36,36,36)\", \"ticklen\": 8, \"ticks\": \"outside\", \"tickwidth\": 2}, \"colorscale\": [[0.0, \"rgb(2,4,25)\"], [0.06274509803921569, \"rgb(24,15,41)\"], [0.12549019607843137, \"rgb(47,23,57)\"], [0.18823529411764706, \"rgb(71,28,72)\"], [0.25098039215686274, \"rgb(97,30,82)\"], [0.3137254901960784, \"rgb(123,30,89)\"], [0.3764705882352941, \"rgb(150,27,91)\"], [0.4392156862745098, \"rgb(177,22,88)\"], [0.5019607843137255, \"rgb(203,26,79)\"], [0.5647058823529412, \"rgb(223,47,67)\"], [0.6274509803921569, \"rgb(236,76,61)\"], [0.6901960784313725, \"rgb(242,107,73)\"], [0.7529411764705882, \"rgb(244,135,95)\"], [0.8156862745098039, \"rgb(245,162,122)\"], [0.8784313725490196, \"rgb(246,188,153)\"], [0.9411764705882353, \"rgb(247,212,187)\"], [1.0, \"rgb(250,234,220)\"]], \"type\": \"histogram2dcontour\"}], \"mesh3d\": [{\"colorbar\": {\"outlinewidth\": 0, \"tickcolor\": \"rgb(36,36,36)\", \"ticklen\": 8, \"ticks\": \"outside\", \"tickwidth\": 2}, \"type\": \"mesh3d\"}], \"parcoords\": [{\"line\": {\"colorbar\": {\"outlinewidth\": 0, \"tickcolor\": \"rgb(36,36,36)\", \"ticklen\": 8, \"ticks\": \"outside\", \"tickwidth\": 2}}, \"type\": \"parcoords\"}], \"pie\": [{\"automargin\": true, \"type\": \"pie\"}], \"scatter\": [{\"marker\": {\"colorbar\": {\"outlinewidth\": 0, \"tickcolor\": \"rgb(36,36,36)\", \"ticklen\": 8, \"ticks\": \"outside\", \"tickwidth\": 2}}, \"type\": \"scatter\"}], \"scatter3d\": [{\"line\": {\"colorbar\": {\"outlinewidth\": 0, \"tickcolor\": \"rgb(36,36,36)\", \"ticklen\": 8, \"ticks\": \"outside\", \"tickwidth\": 2}}, \"marker\": {\"colorbar\": {\"outlinewidth\": 0, \"tickcolor\": \"rgb(36,36,36)\", \"ticklen\": 8, \"ticks\": \"outside\", \"tickwidth\": 2}}, \"type\": \"scatter3d\"}], \"scattercarpet\": [{\"marker\": {\"colorbar\": {\"outlinewidth\": 0, \"tickcolor\": \"rgb(36,36,36)\", \"ticklen\": 8, \"ticks\": \"outside\", \"tickwidth\": 2}}, \"type\": \"scattercarpet\"}], \"scattergeo\": [{\"marker\": {\"colorbar\": {\"outlinewidth\": 0, \"tickcolor\": \"rgb(36,36,36)\", \"ticklen\": 8, \"ticks\": \"outside\", \"tickwidth\": 2}}, \"type\": \"scattergeo\"}], \"scattergl\": [{\"marker\": {\"colorbar\": {\"outlinewidth\": 0, \"tickcolor\": \"rgb(36,36,36)\", \"ticklen\": 8, \"ticks\": \"outside\", \"tickwidth\": 2}}, \"type\": \"scattergl\"}], \"scattermapbox\": [{\"marker\": {\"colorbar\": {\"outlinewidth\": 0, \"tickcolor\": \"rgb(36,36,36)\", \"ticklen\": 8, \"ticks\": \"outside\", \"tickwidth\": 2}}, \"type\": \"scattermapbox\"}], \"scatterpolar\": [{\"marker\": {\"colorbar\": {\"outlinewidth\": 0, \"tickcolor\": \"rgb(36,36,36)\", \"ticklen\": 8, \"ticks\": \"outside\", \"tickwidth\": 2}}, \"type\": \"scatterpolar\"}], \"scatterpolargl\": [{\"marker\": {\"colorbar\": {\"outlinewidth\": 0, \"tickcolor\": \"rgb(36,36,36)\", \"ticklen\": 8, \"ticks\": \"outside\", \"tickwidth\": 2}}, \"type\": \"scatterpolargl\"}], \"scatterternary\": [{\"marker\": {\"colorbar\": {\"outlinewidth\": 0, \"tickcolor\": \"rgb(36,36,36)\", \"ticklen\": 8, \"ticks\": \"outside\", \"tickwidth\": 2}}, \"type\": \"scatterternary\"}], \"surface\": [{\"colorbar\": {\"outlinewidth\": 0, \"tickcolor\": \"rgb(36,36,36)\", \"ticklen\": 8, \"ticks\": \"outside\", \"tickwidth\": 2}, \"colorscale\": [[0.0, \"rgb(2,4,25)\"], [0.06274509803921569, \"rgb(24,15,41)\"], [0.12549019607843137, \"rgb(47,23,57)\"], [0.18823529411764706, \"rgb(71,28,72)\"], [0.25098039215686274, \"rgb(97,30,82)\"], [0.3137254901960784, \"rgb(123,30,89)\"], [0.3764705882352941, \"rgb(150,27,91)\"], [0.4392156862745098, \"rgb(177,22,88)\"], [0.5019607843137255, \"rgb(203,26,79)\"], [0.5647058823529412, \"rgb(223,47,67)\"], [0.6274509803921569, \"rgb(236,76,61)\"], [0.6901960784313725, \"rgb(242,107,73)\"], [0.7529411764705882, \"rgb(244,135,95)\"], [0.8156862745098039, \"rgb(245,162,122)\"], [0.8784313725490196, \"rgb(246,188,153)\"], [0.9411764705882353, \"rgb(247,212,187)\"], [1.0, \"rgb(250,234,220)\"]], \"type\": \"surface\"}], \"table\": [{\"cells\": {\"fill\": {\"color\": \"rgb(231,231,240)\"}, \"line\": {\"color\": \"white\"}}, \"header\": {\"fill\": {\"color\": \"rgb(183,183,191)\"}, \"line\": {\"color\": \"white\"}}, \"type\": \"table\"}]}, \"layout\": {\"annotationdefaults\": {\"arrowcolor\": \"rgb(67,103,167)\"}, \"coloraxis\": {\"colorbar\": {\"outlinewidth\": 0, \"tickcolor\": \"rgb(36,36,36)\", \"ticklen\": 8, \"ticks\": \"outside\", \"tickwidth\": 2}}, \"colorscale\": {\"sequential\": [[0.0, \"rgb(2,4,25)\"], [0.06274509803921569, \"rgb(24,15,41)\"], [0.12549019607843137, \"rgb(47,23,57)\"], [0.18823529411764706, \"rgb(71,28,72)\"], [0.25098039215686274, \"rgb(97,30,82)\"], [0.3137254901960784, \"rgb(123,30,89)\"], [0.3764705882352941, \"rgb(150,27,91)\"], [0.4392156862745098, \"rgb(177,22,88)\"], [0.5019607843137255, \"rgb(203,26,79)\"], [0.5647058823529412, \"rgb(223,47,67)\"], [0.6274509803921569, \"rgb(236,76,61)\"], [0.6901960784313725, \"rgb(242,107,73)\"], [0.7529411764705882, \"rgb(244,135,95)\"], [0.8156862745098039, \"rgb(245,162,122)\"], [0.8784313725490196, \"rgb(246,188,153)\"], [0.9411764705882353, \"rgb(247,212,187)\"], [1.0, \"rgb(250,234,220)\"]], \"sequentialminus\": [[0.0, \"rgb(2,4,25)\"], [0.06274509803921569, \"rgb(24,15,41)\"], [0.12549019607843137, \"rgb(47,23,57)\"], [0.18823529411764706, \"rgb(71,28,72)\"], [0.25098039215686274, \"rgb(97,30,82)\"], [0.3137254901960784, \"rgb(123,30,89)\"], [0.3764705882352941, \"rgb(150,27,91)\"], [0.4392156862745098, \"rgb(177,22,88)\"], [0.5019607843137255, \"rgb(203,26,79)\"], [0.5647058823529412, \"rgb(223,47,67)\"], [0.6274509803921569, \"rgb(236,76,61)\"], [0.6901960784313725, \"rgb(242,107,73)\"], [0.7529411764705882, \"rgb(244,135,95)\"], [0.8156862745098039, \"rgb(245,162,122)\"], [0.8784313725490196, \"rgb(246,188,153)\"], [0.9411764705882353, \"rgb(247,212,187)\"], [1.0, \"rgb(250,234,220)\"]]}, \"colorway\": [\"rgb(76,114,176)\", \"rgb(221,132,82)\", \"rgb(85,168,104)\", \"rgb(196,78,82)\", \"rgb(129,114,179)\", \"rgb(147,120,96)\", \"rgb(218,139,195)\", \"rgb(140,140,140)\", \"rgb(204,185,116)\", \"rgb(100,181,205)\"], \"font\": {\"color\": \"rgb(36,36,36)\"}, \"geo\": {\"bgcolor\": \"white\", \"lakecolor\": \"white\", \"landcolor\": \"rgb(234,234,242)\", \"showlakes\": true, \"showland\": true, \"subunitcolor\": \"white\"}, \"hoverlabel\": {\"align\": \"left\"}, \"hovermode\": \"closest\", \"paper_bgcolor\": \"white\", \"plot_bgcolor\": \"rgb(234,234,242)\", \"polar\": {\"angularaxis\": {\"gridcolor\": \"white\", \"linecolor\": \"white\", \"showgrid\": true, \"ticks\": \"\"}, \"bgcolor\": \"rgb(234,234,242)\", \"radialaxis\": {\"gridcolor\": \"white\", \"linecolor\": \"white\", \"showgrid\": true, \"ticks\": \"\"}}, \"scene\": {\"xaxis\": {\"backgroundcolor\": \"rgb(234,234,242)\", \"gridcolor\": \"white\", \"gridwidth\": 2, \"linecolor\": \"white\", \"showbackground\": true, \"showgrid\": true, \"ticks\": \"\", \"zerolinecolor\": \"white\"}, \"yaxis\": {\"backgroundcolor\": \"rgb(234,234,242)\", \"gridcolor\": \"white\", \"gridwidth\": 2, \"linecolor\": \"white\", \"showbackground\": true, \"showgrid\": true, \"ticks\": \"\", \"zerolinecolor\": \"white\"}, \"zaxis\": {\"backgroundcolor\": \"rgb(234,234,242)\", \"gridcolor\": \"white\", \"gridwidth\": 2, \"linecolor\": \"white\", \"showbackground\": true, \"showgrid\": true, \"ticks\": \"\", \"zerolinecolor\": \"white\"}}, \"shapedefaults\": {\"fillcolor\": \"rgb(67,103,167)\", \"line\": {\"width\": 0}, \"opacity\": 0.5}, \"ternary\": {\"aaxis\": {\"gridcolor\": \"white\", \"linecolor\": \"white\", \"showgrid\": true, \"ticks\": \"\"}, \"baxis\": {\"gridcolor\": \"white\", \"linecolor\": \"white\", \"showgrid\": true, \"ticks\": \"\"}, \"bgcolor\": \"rgb(234,234,242)\", \"caxis\": {\"gridcolor\": \"white\", \"linecolor\": \"white\", \"showgrid\": true, \"ticks\": \"\"}}, \"xaxis\": {\"automargin\": true, \"gridcolor\": \"white\", \"linecolor\": \"white\", \"showgrid\": true, \"ticks\": \"\", \"title\": {\"standoff\": 15}, \"zerolinecolor\": \"white\"}, \"yaxis\": {\"automargin\": true, \"gridcolor\": \"white\", \"linecolor\": \"white\", \"showgrid\": true, \"ticks\": \"\", \"title\": {\"standoff\": 15}, \"zerolinecolor\": \"white\"}}}, \"title\": {\"text\": \"Adsorption free energies\"}, \"width\": 2000, \"yaxis\": {\"title\": {\"text\": \"$\\\\Delta G_{ads} (eV)$\"}}},                        {\"responsive\": true}                    ).then(function(){\n",
       "                            \n",
       "var gd = document.getElementById('9437dca8-c9ba-4806-a626-a2f52709179c');\n",
       "var x = new MutationObserver(function (mutations, observer) {{\n",
       "        var display = window.getComputedStyle(gd).display;\n",
       "        if (!display || display === 'none') {{\n",
       "            console.log([gd, 'removed!']);\n",
       "            Plotly.purge(gd);\n",
       "            observer.disconnect();\n",
       "        }}\n",
       "}});\n",
       "\n",
       "// Listen for the removal of the full notebook cells\n",
       "var notebookContainer = gd.closest('#notebook-container');\n",
       "if (notebookContainer) {{\n",
       "    x.observe(notebookContainer, {childList: true});\n",
       "}}\n",
       "\n",
       "// Listen for the clearing of the current output cell\n",
       "var outputEl = gd.closest('.output');\n",
       "if (outputEl) {{\n",
       "    x.observe(outputEl, {childList: true});\n",
       "}}\n",
       "\n",
       "                        })                };                });            </script>        </div>"
      ]
     },
     "metadata": {},
     "output_type": "display_data"
    }
   ],
   "source": [
    "# 막대 그래프 그리기\n",
    "trace1 = go.Bar(x = df['formula'], y = df['DG_OOH'], name = 'OOH')\n",
    "trace2 = go.Bar(x = df['formula'], y = df['DG_O'], name = 'O')\n",
    "trace3 = go.Bar(x = df['formula'], y = df['DG_OH'], name = 'OH')\n",
    "\n",
    "data = [trace1, trace2, trace3]\n",
    "layout = go.Layout(title = 'Adsorption free energies',template = 'seaborn', width = 2000, yaxis = {'title':'$\\Delta G_{ads} (eV)$'})\n",
    "\n",
    "fig = go.Figure(data = data, layout = layout)\n",
    "fig.show()"
   ]
  },
  {
   "cell_type": "code",
   "execution_count": 65,
   "metadata": {},
   "outputs": [
    {
     "name": "stdout",
     "output_type": "stream",
     "text": [
      "32     NaWO3\n",
      "54    SrOsO3\n",
      "Name: formula, dtype: object\n",
      "32     NaWO3\n",
      "54    SrOsO3\n",
      "Name: formula, dtype: object\n",
      "51    RbOsO3\n",
      "54    SrOsO3\n",
      "Name: formula, dtype: object\n",
      "51    RbOsO3\n",
      "54    SrOsO3\n",
      "Name: formula, dtype: object\n",
      "32    NaWO3\n",
      "Name: formula, dtype: object\n",
      "32    NaWO3\n",
      "Name: formula, dtype: object\n"
     ]
    }
   ],
   "source": [
    "# Cleaning the data\n",
    "feature_labels = ['DE_OOH','DG_OOH','DE_O','DG_O','DE_OH','DG_OH']\n",
    "for feature in feature_labels:\n",
    "    print(df[df[feature] == 'NaN']['formula'])"
   ]
  },
  {
   "cell_type": "code",
   "execution_count": 66,
   "metadata": {
    "scrolled": true
   },
   "outputs": [
    {
     "name": "stdout",
     "output_type": "stream",
     "text": [
      "Removed 9/80 entries\n"
     ]
    },
    {
     "data": {
      "text/html": [
       "<div>\n",
       "<style scoped>\n",
       "    .dataframe tbody tr th:only-of-type {\n",
       "        vertical-align: middle;\n",
       "    }\n",
       "\n",
       "    .dataframe tbody tr th {\n",
       "        vertical-align: top;\n",
       "    }\n",
       "\n",
       "    .dataframe thead th {\n",
       "        text-align: right;\n",
       "    }\n",
       "</style>\n",
       "<table border=\"1\" class=\"dataframe\">\n",
       "  <thead>\n",
       "    <tr style=\"text-align: right;\">\n",
       "      <th></th>\n",
       "      <th>formula</th>\n",
       "      <th>mag_ini</th>\n",
       "      <th>convg_bare</th>\n",
       "      <th>tot_E_bare</th>\n",
       "      <th>DE_bare</th>\n",
       "      <th>DG_bare</th>\n",
       "      <th>bare_mag</th>\n",
       "      <th>nsteps_bare</th>\n",
       "      <th>struc_bare</th>\n",
       "      <th>time_bare</th>\n",
       "      <th>...</th>\n",
       "      <th>convg_OH</th>\n",
       "      <th>tot_E_OH</th>\n",
       "      <th>DE_OH</th>\n",
       "      <th>DG_OH</th>\n",
       "      <th>OH_mag</th>\n",
       "      <th>OH_dmag</th>\n",
       "      <th>nsteps_OH</th>\n",
       "      <th>struc_OH</th>\n",
       "      <th>time_OH</th>\n",
       "      <th>index</th>\n",
       "    </tr>\n",
       "  </thead>\n",
       "  <tbody>\n",
       "    <tr>\n",
       "      <th>0</th>\n",
       "      <td>SrTcO3</td>\n",
       "      <td>FM</td>\n",
       "      <td>True</td>\n",
       "      <td>-386.83</td>\n",
       "      <td>0</td>\n",
       "      <td>0</td>\n",
       "      <td>13.642</td>\n",
       "      <td>1</td>\n",
       "      <td>[[0.         1.98022307 0.        ] O, [1.9802...</td>\n",
       "      <td>NaN</td>\n",
       "      <td>...</td>\n",
       "      <td>True</td>\n",
       "      <td>-398.741</td>\n",
       "      <td>-1.077</td>\n",
       "      <td>-0.782</td>\n",
       "      <td>10.772</td>\n",
       "      <td>-2.871</td>\n",
       "      <td>104</td>\n",
       "      <td>[[ 1.08924803  2.12199985 10.29190122] H, [0. ...</td>\n",
       "      <td>NaN</td>\n",
       "      <td>1</td>\n",
       "    </tr>\n",
       "    <tr>\n",
       "      <th>1</th>\n",
       "      <td>BaFeO3</td>\n",
       "      <td>FM</td>\n",
       "      <td>True</td>\n",
       "      <td>-316.788</td>\n",
       "      <td>0</td>\n",
       "      <td>0</td>\n",
       "      <td>59.992</td>\n",
       "      <td>1</td>\n",
       "      <td>[[2.0165225 2.0165225 2.0165225] Ba, [2.016522...</td>\n",
       "      <td>NaN</td>\n",
       "      <td>...</td>\n",
       "      <td>True</td>\n",
       "      <td>-325.893</td>\n",
       "      <td>1.729</td>\n",
       "      <td>2.024</td>\n",
       "      <td>58.79</td>\n",
       "      <td>-1.202</td>\n",
       "      <td>135</td>\n",
       "      <td>[[2.0165225 2.0165225 2.0165225] Ba, [1.998014...</td>\n",
       "      <td>NaN</td>\n",
       "      <td>2</td>\n",
       "    </tr>\n",
       "    <tr>\n",
       "      <th>2</th>\n",
       "      <td>BaMoO3</td>\n",
       "      <td>FM</td>\n",
       "      <td>True</td>\n",
       "      <td>-359.32</td>\n",
       "      <td>0</td>\n",
       "      <td>0</td>\n",
       "      <td>24</td>\n",
       "      <td>1</td>\n",
       "      <td>[[2.06811213 2.06811213 2.06811213] Ba, [2.068...</td>\n",
       "      <td>NaN</td>\n",
       "      <td>...</td>\n",
       "      <td>True</td>\n",
       "      <td>-370.751</td>\n",
       "      <td>-0.597</td>\n",
       "      <td>-0.302</td>\n",
       "      <td>23</td>\n",
       "      <td>-1</td>\n",
       "      <td>74</td>\n",
       "      <td>[[2.06811213 2.06811213 2.06811213] Ba, [2.090...</td>\n",
       "      <td>NaN</td>\n",
       "      <td>3</td>\n",
       "    </tr>\n",
       "    <tr>\n",
       "      <th>3</th>\n",
       "      <td>KTaO3</td>\n",
       "      <td>FM</td>\n",
       "      <td>True</td>\n",
       "      <td>-438.376</td>\n",
       "      <td>0</td>\n",
       "      <td>0</td>\n",
       "      <td>0</td>\n",
       "      <td>1</td>\n",
       "      <td>[[2.01423343 2.01423343 2.01423343] K, [2.0142...</td>\n",
       "      <td>NaN</td>\n",
       "      <td>...</td>\n",
       "      <td>True</td>\n",
       "      <td>-450.506</td>\n",
       "      <td>-1.296</td>\n",
       "      <td>-1.001</td>\n",
       "      <td>0.991</td>\n",
       "      <td>0.991</td>\n",
       "      <td>67</td>\n",
       "      <td>[[ 7.21096101  0.38768809 10.5776824 ] H, [2.0...</td>\n",
       "      <td>NaN</td>\n",
       "      <td>4</td>\n",
       "    </tr>\n",
       "    <tr>\n",
       "      <th>4</th>\n",
       "      <td>BaZrO3</td>\n",
       "      <td>FM</td>\n",
       "      <td>True</td>\n",
       "      <td>-438.828</td>\n",
       "      <td>0</td>\n",
       "      <td>0</td>\n",
       "      <td>0</td>\n",
       "      <td>1</td>\n",
       "      <td>[[0.         0.         2.11804015] Ba, [8.472...</td>\n",
       "      <td>NaN</td>\n",
       "      <td>...</td>\n",
       "      <td>True</td>\n",
       "      <td>-448.668</td>\n",
       "      <td>0.995</td>\n",
       "      <td>1.29</td>\n",
       "      <td>0.216</td>\n",
       "      <td>0.216</td>\n",
       "      <td>112</td>\n",
       "      <td>[[0.         0.         2.11804015] Ba, [0.064...</td>\n",
       "      <td>NaN</td>\n",
       "      <td>5</td>\n",
       "    </tr>\n",
       "    <tr>\n",
       "      <th>...</th>\n",
       "      <td>...</td>\n",
       "      <td>...</td>\n",
       "      <td>...</td>\n",
       "      <td>...</td>\n",
       "      <td>...</td>\n",
       "      <td>...</td>\n",
       "      <td>...</td>\n",
       "      <td>...</td>\n",
       "      <td>...</td>\n",
       "      <td>...</td>\n",
       "      <td>...</td>\n",
       "      <td>...</td>\n",
       "      <td>...</td>\n",
       "      <td>...</td>\n",
       "      <td>...</td>\n",
       "      <td>...</td>\n",
       "      <td>...</td>\n",
       "      <td>...</td>\n",
       "      <td>...</td>\n",
       "      <td>...</td>\n",
       "      <td>...</td>\n",
       "    </tr>\n",
       "    <tr>\n",
       "      <th>66</th>\n",
       "      <td>CaRuO3</td>\n",
       "      <td>FM</td>\n",
       "      <td>True</td>\n",
       "      <td>-354.261</td>\n",
       "      <td>0</td>\n",
       "      <td>0</td>\n",
       "      <td>25.842</td>\n",
       "      <td>1</td>\n",
       "      <td>[[0.         0.         1.95924755] Ca, [2.519...</td>\n",
       "      <td>NaN</td>\n",
       "      <td>...</td>\n",
       "      <td>True</td>\n",
       "      <td>-365.753</td>\n",
       "      <td>-0.658</td>\n",
       "      <td>-0.363</td>\n",
       "      <td>18.609</td>\n",
       "      <td>-7.233</td>\n",
       "      <td>148</td>\n",
       "      <td>[[0.         0.         1.95924755] Ca, [0.020...</td>\n",
       "      <td>NaN</td>\n",
       "      <td>75</td>\n",
       "    </tr>\n",
       "    <tr>\n",
       "      <th>67</th>\n",
       "      <td>RbPdO3</td>\n",
       "      <td>FM</td>\n",
       "      <td>True</td>\n",
       "      <td>-237.862</td>\n",
       "      <td>0</td>\n",
       "      <td>0</td>\n",
       "      <td>24.444</td>\n",
       "      <td>1</td>\n",
       "      <td>[[0.         2.05243462 0.        ] O, [2.0524...</td>\n",
       "      <td>NaN</td>\n",
       "      <td>...</td>\n",
       "      <td>True</td>\n",
       "      <td>-247.677</td>\n",
       "      <td>1.018</td>\n",
       "      <td>1.313</td>\n",
       "      <td>22</td>\n",
       "      <td>-2.444</td>\n",
       "      <td>126</td>\n",
       "      <td>[[ 0.08219953  7.29743334 10.52365441] H, [0. ...</td>\n",
       "      <td>NaN</td>\n",
       "      <td>76</td>\n",
       "    </tr>\n",
       "    <tr>\n",
       "      <th>68</th>\n",
       "      <td>CaHfO3</td>\n",
       "      <td>FM</td>\n",
       "      <td>True</td>\n",
       "      <td>-456.965</td>\n",
       "      <td>0</td>\n",
       "      <td>0</td>\n",
       "      <td>-0</td>\n",
       "      <td>1</td>\n",
       "      <td>[[0.        0.        2.0506531] Ca, [3.755119...</td>\n",
       "      <td>NaN</td>\n",
       "      <td>...</td>\n",
       "      <td>True</td>\n",
       "      <td>-467.476</td>\n",
       "      <td>0.324</td>\n",
       "      <td>0.619</td>\n",
       "      <td>0.059</td>\n",
       "      <td>0.059</td>\n",
       "      <td>148</td>\n",
       "      <td>[[0.        0.        2.0506531] Ca, [0.225467...</td>\n",
       "      <td>NaN</td>\n",
       "      <td>77</td>\n",
       "    </tr>\n",
       "    <tr>\n",
       "      <th>69</th>\n",
       "      <td>TlWO3</td>\n",
       "      <td>FM</td>\n",
       "      <td>True</td>\n",
       "      <td>-326.169</td>\n",
       "      <td>0</td>\n",
       "      <td>0</td>\n",
       "      <td>16</td>\n",
       "      <td>26</td>\n",
       "      <td>[[2.038601 0.       0.      ] O, [0.       2.0...</td>\n",
       "      <td>NaN</td>\n",
       "      <td>...</td>\n",
       "      <td>True</td>\n",
       "      <td>-338.705</td>\n",
       "      <td>-1.702</td>\n",
       "      <td>-1.407</td>\n",
       "      <td>15</td>\n",
       "      <td>-1</td>\n",
       "      <td>130</td>\n",
       "      <td>[[ 2.06261209  1.13741873 10.68303356] H, [2.0...</td>\n",
       "      <td>NaN</td>\n",
       "      <td>78</td>\n",
       "    </tr>\n",
       "    <tr>\n",
       "      <th>70</th>\n",
       "      <td>RbPtO3</td>\n",
       "      <td>FM</td>\n",
       "      <td>True</td>\n",
       "      <td>-252.909</td>\n",
       "      <td>0</td>\n",
       "      <td>0</td>\n",
       "      <td>20.962</td>\n",
       "      <td>1</td>\n",
       "      <td>[[2.04108953 0.         0.        ] O, [0.    ...</td>\n",
       "      <td>NaN</td>\n",
       "      <td>...</td>\n",
       "      <td>True</td>\n",
       "      <td>-263.005</td>\n",
       "      <td>0.739</td>\n",
       "      <td>1.034</td>\n",
       "      <td>19.65</td>\n",
       "      <td>-1.312</td>\n",
       "      <td>126</td>\n",
       "      <td>[[ 1.325425    1.32540497 10.69731981] H, [2.0...</td>\n",
       "      <td>NaN</td>\n",
       "      <td>80</td>\n",
       "    </tr>\n",
       "  </tbody>\n",
       "</table>\n",
       "<p>71 rows × 38 columns</p>\n",
       "</div>"
      ],
      "text/plain": [
       "   formula mag_ini convg_bare tot_E_bare DE_bare DG_bare bare_mag nsteps_bare  \\\n",
       "0   SrTcO3      FM       True    -386.83       0       0   13.642           1   \n",
       "1   BaFeO3      FM       True   -316.788       0       0   59.992           1   \n",
       "2   BaMoO3      FM       True    -359.32       0       0       24           1   \n",
       "3    KTaO3      FM       True   -438.376       0       0        0           1   \n",
       "4   BaZrO3      FM       True   -438.828       0       0        0           1   \n",
       "..     ...     ...        ...        ...     ...     ...      ...         ...   \n",
       "66  CaRuO3      FM       True   -354.261       0       0   25.842           1   \n",
       "67  RbPdO3      FM       True   -237.862       0       0   24.444           1   \n",
       "68  CaHfO3      FM       True   -456.965       0       0       -0           1   \n",
       "69   TlWO3      FM       True   -326.169       0       0       16          26   \n",
       "70  RbPtO3      FM       True   -252.909       0       0   20.962           1   \n",
       "\n",
       "                                           struc_bare time_bare  ... convg_OH  \\\n",
       "0   [[0.         1.98022307 0.        ] O, [1.9802...       NaN  ...     True   \n",
       "1   [[2.0165225 2.0165225 2.0165225] Ba, [2.016522...       NaN  ...     True   \n",
       "2   [[2.06811213 2.06811213 2.06811213] Ba, [2.068...       NaN  ...     True   \n",
       "3   [[2.01423343 2.01423343 2.01423343] K, [2.0142...       NaN  ...     True   \n",
       "4   [[0.         0.         2.11804015] Ba, [8.472...       NaN  ...     True   \n",
       "..                                                ...       ...  ...      ...   \n",
       "66  [[0.         0.         1.95924755] Ca, [2.519...       NaN  ...     True   \n",
       "67  [[0.         2.05243462 0.        ] O, [2.0524...       NaN  ...     True   \n",
       "68  [[0.        0.        2.0506531] Ca, [3.755119...       NaN  ...     True   \n",
       "69  [[2.038601 0.       0.      ] O, [0.       2.0...       NaN  ...     True   \n",
       "70  [[2.04108953 0.         0.        ] O, [0.    ...       NaN  ...     True   \n",
       "\n",
       "   tot_E_OH  DE_OH  DG_OH  OH_mag OH_dmag nsteps_OH  \\\n",
       "0  -398.741 -1.077 -0.782  10.772  -2.871       104   \n",
       "1  -325.893  1.729  2.024   58.79  -1.202       135   \n",
       "2  -370.751 -0.597 -0.302      23      -1        74   \n",
       "3  -450.506 -1.296 -1.001   0.991   0.991        67   \n",
       "4  -448.668  0.995   1.29   0.216   0.216       112   \n",
       "..      ...    ...    ...     ...     ...       ...   \n",
       "66 -365.753 -0.658 -0.363  18.609  -7.233       148   \n",
       "67 -247.677  1.018  1.313      22  -2.444       126   \n",
       "68 -467.476  0.324  0.619   0.059   0.059       148   \n",
       "69 -338.705 -1.702 -1.407      15      -1       130   \n",
       "70 -263.005  0.739  1.034   19.65  -1.312       126   \n",
       "\n",
       "                                             struc_OH time_OH index  \n",
       "0   [[ 1.08924803  2.12199985 10.29190122] H, [0. ...     NaN     1  \n",
       "1   [[2.0165225 2.0165225 2.0165225] Ba, [1.998014...     NaN     2  \n",
       "2   [[2.06811213 2.06811213 2.06811213] Ba, [2.090...     NaN     3  \n",
       "3   [[ 7.21096101  0.38768809 10.5776824 ] H, [2.0...     NaN     4  \n",
       "4   [[0.         0.         2.11804015] Ba, [0.064...     NaN     5  \n",
       "..                                                ...     ...   ...  \n",
       "66  [[0.         0.         1.95924755] Ca, [0.020...     NaN    75  \n",
       "67  [[ 0.08219953  7.29743334 10.52365441] H, [0. ...     NaN    76  \n",
       "68  [[0.        0.        2.0506531] Ca, [0.225467...     NaN    77  \n",
       "69  [[ 2.06261209  1.13741873 10.68303356] H, [2.0...     NaN    78  \n",
       "70  [[ 1.325425    1.32540497 10.69731981] H, [2.0...     NaN    80  \n",
       "\n",
       "[71 rows x 38 columns]"
      ]
     },
     "execution_count": 66,
     "metadata": {},
     "output_type": "execute_result"
    }
   ],
   "source": [
    "excluded = ['NaWO3','SrOsO3','RbOsO3']\n",
    "\n",
    "original_count = len(df)\n",
    "\n",
    "for i in range(1,len(df)+1):\n",
    "    if df['formula'][i] in excluded:\n",
    "        idx_list.append(i)\n",
    "df_cleaned = df.drop(idx_list)\n",
    "\n",
    "str_expr = \"(DE_OOH) > 0 & (DE_OH < 3)\"\n",
    "df_cleaned.query(str_expr)\n",
    "\n",
    "print('Removed %d/%d entries'%(original_count - len(df_cleaned), original_count))\n",
    "\n",
    "df_cleaned['index'] = df_cleaned.index\n",
    "df_cleaned.index = range(len(df_cleaned))\n",
    "\n",
    "df_cleaned"
   ]
  },
  {
   "cell_type": "code",
   "execution_count": 67,
   "metadata": {},
   "outputs": [
    {
     "data": {
      "application/vnd.plotly.v1+json": {
       "config": {
        "plotlyServerURL": "https://plot.ly"
       },
       "data": [
        {
         "marker": {
          "size": 15,
          "symbol": 18
         },
         "meta": {
          "columnNames": {
           "text": "data.0.text",
           "x": "data.0.x",
           "y": "data.0.y"
          }
         },
         "mode": "markers",
         "name": "OOH",
         "text": [
          "SrTcO3",
          "BaFeO3",
          "BaMoO3",
          "KTaO3",
          "BaZrO3",
          "SrFeO3",
          "KTcO3",
          "NaTcO3",
          "BaHfO3",
          "SrTiO3",
          "SrCuO3",
          "KNbO3",
          "NaTaO3",
          "BaScO3",
          "BaPdO3",
          "SrHfO3",
          "NaOsO3",
          "TlTcO3",
          "KReO3",
          "SrRuO3",
          "KHfO3",
          "SrVO3",
          "KOsO3",
          "TaAgO3",
          "RbIrO3",
          "NaReO3",
          "SrMnO3",
          "CaFeO3",
          "SrZrO3",
          "RbTaO3",
          "SrCoO3",
          "KZrO3",
          "CaTiO3",
          "NaRuO3",
          "LiTcO3",
          "SrPdO3"
         ],
         "textsrc": "gwanyeong:21:9e63b9",
         "type": "scatter",
         "visible": true,
         "x": [
          -0.782,
          2.024,
          -0.302,
          -1.001,
          1.29,
          2.026,
          0.04,
          -0.067,
          1.1909999999999998,
          1.276,
          2.0069999999999997,
          -0.217,
          -1.129,
          2.147,
          1.7,
          1.081,
          -0.354,
          -0.031,
          -0.733,
          0.26,
          1.946,
          -0.191,
          -0.46399999999999997,
          -1.056,
          0.976,
          -0.831,
          2.548,
          1.9269999999999998,
          1.151,
          -0.997,
          1.163,
          2.0069999999999997,
          1.263,
          0.746,
          0.152,
          0.899
         ],
         "xsrc": "gwanyeong:21:bb96d0",
         "y": [
          2.481,
          4.917,
          3.0189999999999997,
          2.575,
          4.706,
          4.94,
          3.2310000000000003,
          3.1489999999999996,
          4.537,
          4.632,
          5.007,
          3.298,
          2.423,
          4.977,
          4.665,
          4.46,
          3.103,
          3.1,
          2.539,
          3.406,
          4.806,
          3.0260000000000002,
          2.802,
          2.512,
          4.135,
          2.449,
          5.5089999999999995,
          4.926,
          4.537,
          2.6189999999999998,
          4.261,
          4.825,
          4.692,
          3.804,
          3.3510000000000004,
          3.741
         ],
         "ysrc": "gwanyeong:21:a93391"
        },
        {
         "error_x": {
          "color": "rgb(255,0,0)",
          "symmetric": true,
          "thickness": 2,
          "type": "percent",
          "value": 10,
          "visible": false,
          "width": 4
         },
         "marker": {
          "color": "rgb(255,0,0)",
          "size": 15,
          "symbol": 30
         },
         "meta": {
          "columnNames": {
           "text": "data.1.text",
           "x": "data.1.x",
           "y": "data.1.y"
          }
         },
         "mode": "markers",
         "name": "O",
         "text": [
          "SrTcO3",
          "BaFeO3",
          "BaMoO3",
          "KTaO3",
          "BaZrO3",
          "SrFeO3",
          "KTcO3",
          "NaTcO3",
          "BaHfO3",
          "SrTiO3",
          "SrCuO3",
          "KNbO3",
          "NaTaO3",
          "BaScO3",
          "BaPdO3",
          "SrHfO3",
          "NaOsO3",
          "TlTcO3",
          "KReO3",
          "SrRuO3",
          "KHfO3",
          "SrVO3",
          "KOsO3",
          "TaAgO3",
          "RbIrO3",
          "NaReO3",
          "SrMnO3",
          "CaFeO3",
          "SrZrO3",
          "RbTaO3",
          "SrCoO3",
          "KZrO3",
          "CaTiO3",
          "NaRuO3",
          "LiTcO3",
          "SrPdO3"
         ],
         "textsrc": "gwanyeong:21:ab1501",
         "type": "scatter",
         "visible": true,
         "x": [
          -0.782,
          2.024,
          -0.302,
          -1.001,
          1.29,
          2.026,
          0.04,
          -0.067,
          1.1909999999999998,
          1.276,
          2.0069999999999997,
          -0.217,
          -1.129,
          2.147,
          1.7,
          1.081,
          -0.354,
          -0.031,
          -0.733,
          0.26,
          1.946,
          -0.191,
          -0.46399999999999997,
          -1.056,
          0.976,
          -0.831,
          2.548,
          1.9269999999999998,
          1.151,
          -0.997,
          1.163,
          2.0069999999999997,
          1.263,
          0.746,
          0.152,
          0.899
         ],
         "xsrc": "gwanyeong:21:6e91fb",
         "y": [
          -0.7070000000000001,
          4.452,
          -0.853,
          -0.614,
          4.143,
          4.606,
          0.446,
          0.301,
          4.023,
          3.889,
          4.23,
          0.465,
          -0.899,
          4.7,
          3.455,
          3.952,
          0.5770000000000001,
          0.313,
          -0.544,
          0.96,
          4.407,
          0.516,
          0.6990000000000001,
          -0.9690000000000001,
          2.415,
          -0.6970000000000001,
          4.648,
          4.277,
          4.034,
          -0.617,
          3.136,
          4.516,
          3.911,
          1.871,
          0.621,
          3.176
         ],
         "ysrc": "gwanyeong:21:329061"
        },
        {
         "marker": {
          "size": 15,
          "symbol": 0
         },
         "meta": {
          "columnNames": {
           "text": "data.2.text",
           "x": "data.2.x",
           "y": "data.2.y"
          }
         },
         "mode": "markers",
         "name": "OH",
         "text": [
          "SrTcO3",
          "BaFeO3",
          "BaMoO3",
          "KTaO3",
          "BaZrO3",
          "SrFeO3",
          "KTcO3",
          "NaTcO3",
          "BaHfO3",
          "SrTiO3",
          "SrCuO3",
          "KNbO3",
          "NaTaO3",
          "BaScO3",
          "BaPdO3",
          "SrHfO3",
          "NaOsO3",
          "TlTcO3",
          "KReO3",
          "SrRuO3",
          "KHfO3",
          "SrVO3",
          "KOsO3",
          "TaAgO3",
          "RbIrO3",
          "NaReO3",
          "SrMnO3",
          "CaFeO3",
          "SrZrO3",
          "RbTaO3",
          "SrCoO3",
          "KZrO3",
          "CaTiO3",
          "NaRuO3",
          "LiTcO3",
          "SrPdO3"
         ],
         "textsrc": "gwanyeong:21:ddb9a4",
         "type": "scatter",
         "visible": true,
         "x": [
          -0.782,
          2.024,
          -0.302,
          -1.001,
          1.29,
          2.026,
          0.04,
          -0.067,
          1.1909999999999998,
          1.276,
          2.0069999999999997,
          -0.217,
          -1.129,
          2.147,
          1.7,
          1.081,
          -0.354,
          -0.031,
          -0.733,
          0.26,
          1.946,
          -0.191,
          -0.46399999999999997,
          -1.056,
          0.976,
          -0.831,
          2.548,
          1.9269999999999998,
          1.151,
          -0.997,
          1.163,
          2.0069999999999997,
          1.263,
          0.746,
          0.152,
          0.899
         ],
         "xsrc": "gwanyeong:21:e638f1",
         "y": [
          -0.782,
          2.024,
          -0.302,
          -1.001,
          1.29,
          2.026,
          0.04,
          -0.067,
          1.1909999999999998,
          1.276,
          2.0069999999999997,
          -0.217,
          -1.129,
          2.147,
          1.7,
          1.081,
          -0.354,
          -0.031,
          -0.733,
          0.26,
          1.946,
          -0.191,
          -0.46399999999999997,
          -1.056,
          0.976,
          -0.831,
          2.548,
          1.9269999999999998,
          1.151,
          -0.997,
          1.163,
          2.0069999999999997,
          1.263,
          0.746,
          0.152,
          0.899
         ],
         "ysrc": "gwanyeong:21:ba437b"
        },
        {
         "marker": {
          "color": "blue"
         },
         "meta": {
          "columnNames": {
           "x": "data.3.x",
           "y": "data.3.y"
          }
         },
         "mode": "lines",
         "name": "OOH_fit",
         "type": "scatter",
         "visible": true,
         "x": [
          -1.129,
          -1.0918585858585859,
          -1.0547171717171717,
          -1.0175757575757576,
          -0.9804343434343434,
          -0.9432929292929293,
          -0.9061515151515152,
          -0.869010101010101,
          -0.8318686868686869,
          -0.7947272727272727,
          -0.7575858585858586,
          -0.7204444444444444,
          -0.6833030303030303,
          -0.6461616161616162,
          -0.609020202020202,
          -0.5718787878787879,
          -0.5347373737373737,
          -0.4975959595959596,
          -0.46045454545454545,
          -0.4233131313131313,
          -0.38617171717171717,
          -0.349030303030303,
          -0.3118888888888889,
          -0.27474747474747474,
          -0.2376060606060606,
          -0.20046464646464646,
          -0.16332323232323231,
          -0.12618181818181817,
          -0.08904040404040403,
          -0.05189898989898989,
          -0.014757575757575747,
          0.022383838383838395,
          0.05952525252525254,
          0.09666666666666668,
          0.13380808080808082,
          0.17094949494949496,
          0.2080909090909091,
          0.24523232323232325,
          0.2823737373737374,
          0.31951515151515153,
          0.35665656565656567,
          0.3937979797979798,
          0.43093939393939396,
          0.4680808080808081,
          0.5052222222222222,
          0.5423636363636364,
          0.5795050505050505,
          0.6166464646464647,
          0.6537878787878788,
          0.690929292929293,
          0.7280707070707071,
          0.7652121212121212,
          0.8023535353535354,
          0.8394949494949495,
          0.8766363636363637,
          0.9137777777777778,
          0.9509191919191919,
          0.9880606060606061,
          1.0252020202020202,
          1.0623434343434344,
          1.0994848484848485,
          1.1366262626262627,
          1.1737676767676768,
          1.210909090909091,
          1.248050505050505,
          1.2851919191919192,
          1.3223333333333334,
          1.3594747474747475,
          1.3966161616161616,
          1.4337575757575758,
          1.47089898989899,
          1.508040404040404,
          1.5451818181818182,
          1.5823232323232324,
          1.6194646464646465,
          1.6566060606060606,
          1.6937474747474748,
          1.730888888888889,
          1.768030303030303,
          1.8051717171717172,
          1.8423131313131313,
          1.8794545454545455,
          1.9165959595959596,
          1.9537373737373738,
          1.990878787878788,
          2.028020202020202,
          2.065161616161616,
          2.1023030303030303,
          2.1394444444444445,
          2.1765858585858586,
          2.2137272727272728,
          2.250868686868687,
          2.288010101010101,
          2.325151515151515,
          2.3622929292929293,
          2.3994343434343435,
          2.4365757575757576,
          2.4737171717171718,
          2.510858585858586,
          2.548
         ],
         "xsrc": "gwanyeong:21:fc4718",
         "y": [
          2.3396933797116395,
          2.3712447385131568,
          2.402796097314674,
          2.4343474561161913,
          2.4658988149177086,
          2.4974501737192263,
          2.5290015325207436,
          2.560552891322261,
          2.5921042501237785,
          2.623655608925296,
          2.655206967726813,
          2.686758326528331,
          2.718309685329848,
          2.7498610441313653,
          2.781412402932883,
          2.8129637617344003,
          2.8445151205359176,
          2.876066479337435,
          2.907617838138952,
          2.93916919694047,
          2.970720555741987,
          3.0022719145435044,
          3.033823273345022,
          3.0653746321465394,
          3.0969259909480567,
          3.1284773497495744,
          3.1600287085510916,
          3.191580067352609,
          3.223131426154126,
          3.254682784955644,
          3.286234143757161,
          3.3177855025586784,
          3.349336861360196,
          3.3808882201617134,
          3.4124395789632307,
          3.443990937764748,
          3.4755422965662657,
          3.507093655367783,
          3.5386450141693,
          3.570196372970818,
          3.601747731772335,
          3.6332990905738525,
          3.6648504493753697,
          3.6964018081768875,
          3.7279531669784047,
          3.759504525779922,
          3.7910558845814393,
          3.822607243382957,
          3.8541586021844743,
          3.8857099609859915,
          3.9172613197875092,
          3.9488126785890265,
          3.980364037390544,
          4.0119153961920615,
          4.043466754993578,
          4.075018113795096,
          4.106569472596614,
          4.138120831398131,
          4.169672190199648,
          4.201223549001166,
          4.232774907802683,
          4.2643262666042006,
          4.295877625405717,
          4.327428984207235,
          4.358980343008753,
          4.39053170181027,
          4.422083060611787,
          4.453634419413305,
          4.485185778214822,
          4.51673713701634,
          4.548288495817857,
          4.579839854619374,
          4.611391213420892,
          4.64294257222241,
          4.674493931023926,
          4.706045289825444,
          4.737596648626962,
          4.769148007428479,
          4.800699366229996,
          4.832250725031514,
          4.863802083833031,
          4.895353442634549,
          4.926904801436066,
          4.958456160237583,
          4.990007519039101,
          5.021558877840618,
          5.053110236642135,
          5.084661595443653,
          5.11621295424517,
          5.147764313046688,
          5.1793156718482045,
          5.210867030649722,
          5.24241838945124,
          5.273969748252757,
          5.3055211070542745,
          5.337072465855792,
          5.368623824657309,
          5.400175183458827,
          5.4317265422603445,
          5.463277901061861
         ],
         "ysrc": "gwanyeong:21:7ada4e"
        },
        {
         "marker": {
          "color": "red"
         },
         "meta": {
          "columnNames": {
           "x": "data.4.x",
           "y": "data.4.y"
          }
         },
         "mode": "lines",
         "name": "O_fit",
         "type": "scatter",
         "visible": true,
         "x": [
          -1.129,
          -1.0918585858585859,
          -1.0547171717171717,
          -1.0175757575757576,
          -0.9804343434343434,
          -0.9432929292929293,
          -0.9061515151515152,
          -0.869010101010101,
          -0.8318686868686869,
          -0.7947272727272727,
          -0.7575858585858586,
          -0.7204444444444444,
          -0.6833030303030303,
          -0.6461616161616162,
          -0.609020202020202,
          -0.5718787878787879,
          -0.5347373737373737,
          -0.4975959595959596,
          -0.46045454545454545,
          -0.4233131313131313,
          -0.38617171717171717,
          -0.349030303030303,
          -0.3118888888888889,
          -0.27474747474747474,
          -0.2376060606060606,
          -0.20046464646464646,
          -0.16332323232323231,
          -0.12618181818181817,
          -0.08904040404040403,
          -0.05189898989898989,
          -0.014757575757575747,
          0.022383838383838395,
          0.05952525252525254,
          0.09666666666666668,
          0.13380808080808082,
          0.17094949494949496,
          0.2080909090909091,
          0.24523232323232325,
          0.2823737373737374,
          0.31951515151515153,
          0.35665656565656567,
          0.3937979797979798,
          0.43093939393939396,
          0.4680808080808081,
          0.5052222222222222,
          0.5423636363636364,
          0.5795050505050505,
          0.6166464646464647,
          0.6537878787878788,
          0.690929292929293,
          0.7280707070707071,
          0.7652121212121212,
          0.8023535353535354,
          0.8394949494949495,
          0.8766363636363637,
          0.9137777777777778,
          0.9509191919191919,
          0.9880606060606061,
          1.0252020202020202,
          1.0623434343434344,
          1.0994848484848485,
          1.1366262626262627,
          1.1737676767676768,
          1.210909090909091,
          1.248050505050505,
          1.2851919191919192,
          1.3223333333333334,
          1.3594747474747475,
          1.3966161616161616,
          1.4337575757575758,
          1.47089898989899,
          1.508040404040404,
          1.5451818181818182,
          1.5823232323232324,
          1.6194646464646465,
          1.6566060606060606,
          1.6937474747474748,
          1.730888888888889,
          1.768030303030303,
          1.8051717171717172,
          1.8423131313131313,
          1.8794545454545455,
          1.9165959595959596,
          1.9537373737373738,
          1.990878787878788,
          2.028020202020202,
          2.065161616161616,
          2.1023030303030303,
          2.1394444444444445,
          2.1765858585858586,
          2.2137272727272728,
          2.250868686868687,
          2.288010101010101,
          2.325151515151515,
          2.3622929292929293,
          2.3994343434343435,
          2.4365757575757576,
          2.4737171717171718,
          2.510858585858586,
          2.548
         ],
         "xsrc": "gwanyeong:21:fa192f",
         "y": [
          -1.1440821347014598,
          -1.0761130566194956,
          -1.0081439785375315,
          -0.9401749004555673,
          -0.8722058223736029,
          -0.8042367442916387,
          -0.7362676662096745,
          -0.6682985881277104,
          -0.6003295100457462,
          -0.532360431963782,
          -0.46439135388181785,
          -0.39642227579985345,
          -0.3284531977178893,
          -0.2604841196359251,
          -0.19251504155396093,
          -0.12454596347199676,
          -0.05657688539003258,
          0.011392192691931702,
          0.07936127077389588,
          0.14733034885586005,
          0.21529942693782422,
          0.2832685050197885,
          0.3512375831017527,
          0.41920666118371686,
          0.4871757392656811,
          0.5551448173476453,
          0.6231138954296095,
          0.6910829735115737,
          0.759052051593538,
          0.8270211296755021,
          0.8949902077574663,
          0.9629592858394305,
          1.0309283639213946,
          1.0988974420033588,
          1.1668665200853232,
          1.2348355981672874,
          1.3028046762492516,
          1.3707737543312157,
          1.43874283241318,
          1.5067119104951443,
          1.5746809885771085,
          1.6426500666590726,
          1.7106191447410368,
          1.778588222823001,
          1.8465573009049652,
          1.9145263789869293,
          1.9824954570688935,
          2.0504645351508577,
          2.1184336132328223,
          2.186402691314786,
          2.2543717693967507,
          2.3223408474787144,
          2.390309925560679,
          2.4582790036426427,
          2.5262480817246074,
          2.594217159806571,
          2.6621862378885357,
          2.7301553159705,
          2.798124394052464,
          2.866093472134428,
          2.9340625502163924,
          3.0020316282983566,
          3.0700007063803207,
          3.137969784462285,
          3.205938862544249,
          3.2739079406262133,
          3.3418770187081774,
          3.409846096790142,
          3.4778151748721062,
          3.5457842529540704,
          3.6137533310360346,
          3.6817224091179988,
          3.749691487199963,
          3.817660565281927,
          3.8856296433638913,
          3.9535987214458554,
          4.021567799527819,
          4.089536877609784,
          4.157505955691748,
          4.225475033773712,
          4.293444111855676,
          4.3614131899376405,
          4.429382268019605,
          4.497351346101569,
          4.5653204241835335,
          4.633289502265498,
          4.701258580347462,
          4.7692276584294255,
          4.83719673651139,
          4.905165814593355,
          4.9731348926753185,
          5.041103970757282,
          5.109073048839248,
          5.1770421269212115,
          5.245011205003175,
          5.312980283085139,
          5.380949361167104,
          5.448918439249068,
          5.516887517331032,
          5.584856595412996
         ],
         "ysrc": "gwanyeong:21:fa1357"
        },
        {
         "marker": {
          "color": "green"
         },
         "meta": {
          "columnNames": {
           "x": "data.5.x",
           "y": "data.5.y"
          }
         },
         "mode": "lines",
         "name": "OH_fit",
         "type": "scatter",
         "visible": true,
         "x": [
          -1.129,
          -1.0918585858585859,
          -1.0547171717171717,
          -1.0175757575757576,
          -0.9804343434343434,
          -0.9432929292929293,
          -0.9061515151515152,
          -0.869010101010101,
          -0.8318686868686869,
          -0.7947272727272727,
          -0.7575858585858586,
          -0.7204444444444444,
          -0.6833030303030303,
          -0.6461616161616162,
          -0.609020202020202,
          -0.5718787878787879,
          -0.5347373737373737,
          -0.4975959595959596,
          -0.46045454545454545,
          -0.4233131313131313,
          -0.38617171717171717,
          -0.349030303030303,
          -0.3118888888888889,
          -0.27474747474747474,
          -0.2376060606060606,
          -0.20046464646464646,
          -0.16332323232323231,
          -0.12618181818181817,
          -0.08904040404040403,
          -0.05189898989898989,
          -0.014757575757575747,
          0.022383838383838395,
          0.05952525252525254,
          0.09666666666666668,
          0.13380808080808082,
          0.17094949494949496,
          0.2080909090909091,
          0.24523232323232325,
          0.2823737373737374,
          0.31951515151515153,
          0.35665656565656567,
          0.3937979797979798,
          0.43093939393939396,
          0.4680808080808081,
          0.5052222222222222,
          0.5423636363636364,
          0.5795050505050505,
          0.6166464646464647,
          0.6537878787878788,
          0.690929292929293,
          0.7280707070707071,
          0.7652121212121212,
          0.8023535353535354,
          0.8394949494949495,
          0.8766363636363637,
          0.9137777777777778,
          0.9509191919191919,
          0.9880606060606061,
          1.0252020202020202,
          1.0623434343434344,
          1.0994848484848485,
          1.1366262626262627,
          1.1737676767676768,
          1.210909090909091,
          1.248050505050505,
          1.2851919191919192,
          1.3223333333333334,
          1.3594747474747475,
          1.3966161616161616,
          1.4337575757575758,
          1.47089898989899,
          1.508040404040404,
          1.5451818181818182,
          1.5823232323232324,
          1.6194646464646465,
          1.6566060606060606,
          1.6937474747474748,
          1.730888888888889,
          1.768030303030303,
          1.8051717171717172,
          1.8423131313131313,
          1.8794545454545455,
          1.9165959595959596,
          1.9537373737373738,
          1.990878787878788,
          2.028020202020202,
          2.065161616161616,
          2.1023030303030303,
          2.1394444444444445,
          2.1765858585858586,
          2.2137272727272728,
          2.250868686868687,
          2.288010101010101,
          2.325151515151515,
          2.3622929292929293,
          2.3994343434343435,
          2.4365757575757576,
          2.4737171717171718,
          2.510858585858586,
          2.548
         ],
         "xsrc": "gwanyeong:21:9f43e8",
         "y": [
          -1.1289999999999993,
          -1.0918585858585852,
          -1.054717171717171,
          -1.017575757575757,
          -0.9804343434343429,
          -0.9432929292929287,
          -0.9061515151515146,
          -0.8690101010101005,
          -0.8318686868686864,
          -0.7947272727272723,
          -0.7575858585858581,
          -0.720444444444444,
          -0.6833030303030299,
          -0.6461616161616157,
          -0.6090202020202016,
          -0.5718787878787874,
          -0.5347373737373733,
          -0.4975959595959592,
          -0.46045454545454506,
          -0.4233131313131309,
          -0.38617171717171683,
          -0.3490303030303027,
          -0.31188888888888855,
          -0.2747474747474744,
          -0.2376060606060603,
          -0.20046464646464618,
          -0.16332323232323204,
          -0.1261818181818179,
          -0.08904040404040378,
          -0.05189898989898965,
          -0.01475757575757552,
          0.02238383838383861,
          0.05952525252525274,
          0.09666666666666687,
          0.133808080808081,
          0.17094949494949513,
          0.20809090909090927,
          0.24523232323232338,
          0.2823737373737375,
          0.31951515151515164,
          0.3566565656565658,
          0.3937979797979799,
          0.430939393939394,
          0.46808080808080815,
          0.5052222222222222,
          0.5423636363636364,
          0.5795050505050505,
          0.6166464646464647,
          0.6537878787878788,
          0.690929292929293,
          0.7280707070707071,
          0.7652121212121212,
          0.8023535353535354,
          0.8394949494949494,
          0.8766363636363635,
          0.9137777777777777,
          0.9509191919191918,
          0.988060606060606,
          1.02520202020202,
          1.0623434343434341,
          1.0994848484848483,
          1.1366262626262624,
          1.1737676767676766,
          1.2109090909090907,
          1.2480505050505049,
          1.285191919191919,
          1.3223333333333331,
          1.3594747474747473,
          1.3966161616161614,
          1.4337575757575756,
          1.4708989898989897,
          1.5080404040404038,
          1.545181818181818,
          1.5823232323232321,
          1.6194646464646463,
          1.6566060606060604,
          1.6937474747474743,
          1.7308888888888885,
          1.7680303030303026,
          1.8051717171717168,
          1.842313131313131,
          1.879454545454545,
          1.9165959595959592,
          1.9537373737373733,
          1.9908787878787875,
          2.028020202020201,
          2.0651616161616158,
          2.1023030303030295,
          2.139444444444444,
          2.1765858585858577,
          2.2137272727272723,
          2.250868686868686,
          2.2880101010101006,
          2.3251515151515143,
          2.362292929292929,
          2.3994343434343426,
          2.436575757575757,
          2.473717171717171,
          2.5108585858585855,
          2.547999999999999
         ],
         "ysrc": "gwanyeong:21:02d13e"
        }
       ],
       "layout": {
        "annotations": [
         {
          "ax": 131,
          "ay": 220,
          "font": {
           "color": "blue",
           "size": 18
          },
          "showarrow": false,
          "text": "$\\Delta G_{\\text{OOH}} = \\text{0.849} \\Delta G_{\\text{OH}} + \\text{3.299}$",
          "x": 1.600701719087127,
          "xshift": 20,
          "y": -0.18625724127646875
         },
         {
          "ax": 84,
          "ay": 195,
          "font": {
           "color": "red",
           "size": 18
          },
          "showarrow": false,
          "text": "$\\Delta G_{\\text{O}} = \\text{1.830} \\Delta G_{\\text{OH}} + \\text{0.922}$",
          "x": 1.4483499584664035,
          "xshift": 50,
          "y": -0.9181127492792518,
          "yshift": 10
         },
         {
          "ax": 87,
          "ay": -15,
          "font": {
           "color": "green",
           "size": 18
          },
          "showarrow": false,
          "text": "$\\Delta G_{\\text{OH}} = \\text{1.000} \\Delta G_{\\text{OH}} + \\text{0.000}$",
          "x": 1.9309948032343895,
          "y": 0.46759715428969156,
          "yshift": -100
         }
        ],
        "height": 600,
        "legend": {
         "font": {
          "family": "Arial",
          "size": 18
         },
         "x": 0.7624858066421633,
         "y": 0.7047619047619048
        },
        "shapes": [
         {
          "fillcolor": "#7f7f7f",
          "line": {
           "color": "#444444"
          },
          "opacity": 0.3,
          "visible": false
         }
        ],
        "template": {
         "data": {
          "bar": [
           {
            "error_x": {
             "color": "#2a3f5f"
            },
            "error_y": {
             "color": "#2a3f5f"
            },
            "marker": {
             "line": {
              "color": "#E5ECF6",
              "width": 0.5
             }
            },
            "type": "bar"
           }
          ],
          "barpolar": [
           {
            "marker": {
             "line": {
              "color": "#E5ECF6",
              "width": 0.5
             }
            },
            "type": "barpolar"
           }
          ],
          "carpet": [
           {
            "aaxis": {
             "endlinecolor": "#2a3f5f",
             "gridcolor": "white",
             "linecolor": "white",
             "minorgridcolor": "white",
             "startlinecolor": "#2a3f5f"
            },
            "baxis": {
             "endlinecolor": "#2a3f5f",
             "gridcolor": "white",
             "linecolor": "white",
             "minorgridcolor": "white",
             "startlinecolor": "#2a3f5f"
            },
            "type": "carpet"
           }
          ],
          "choropleth": [
           {
            "colorbar": {
             "outlinewidth": 0,
             "ticks": ""
            },
            "type": "choropleth"
           }
          ],
          "contour": [
           {
            "colorbar": {
             "outlinewidth": 0,
             "ticks": ""
            },
            "colorscale": [
             [
              0,
              "#0d0887"
             ],
             [
              0.1111111111111111,
              "#46039f"
             ],
             [
              0.2222222222222222,
              "#7201a8"
             ],
             [
              0.3333333333333333,
              "#9c179e"
             ],
             [
              0.4444444444444444,
              "#bd3786"
             ],
             [
              0.5555555555555556,
              "#d8576b"
             ],
             [
              0.6666666666666666,
              "#ed7953"
             ],
             [
              0.7777777777777778,
              "#fb9f3a"
             ],
             [
              0.8888888888888888,
              "#fdca26"
             ],
             [
              1,
              "#f0f921"
             ]
            ],
            "type": "contour"
           }
          ],
          "contourcarpet": [
           {
            "colorbar": {
             "outlinewidth": 0,
             "ticks": ""
            },
            "type": "contourcarpet"
           }
          ],
          "heatmap": [
           {
            "colorbar": {
             "outlinewidth": 0,
             "ticks": ""
            },
            "colorscale": [
             [
              0,
              "#0d0887"
             ],
             [
              0.1111111111111111,
              "#46039f"
             ],
             [
              0.2222222222222222,
              "#7201a8"
             ],
             [
              0.3333333333333333,
              "#9c179e"
             ],
             [
              0.4444444444444444,
              "#bd3786"
             ],
             [
              0.5555555555555556,
              "#d8576b"
             ],
             [
              0.6666666666666666,
              "#ed7953"
             ],
             [
              0.7777777777777778,
              "#fb9f3a"
             ],
             [
              0.8888888888888888,
              "#fdca26"
             ],
             [
              1,
              "#f0f921"
             ]
            ],
            "type": "heatmap"
           }
          ],
          "heatmapgl": [
           {
            "colorbar": {
             "outlinewidth": 0,
             "ticks": ""
            },
            "colorscale": [
             [
              0,
              "#0d0887"
             ],
             [
              0.1111111111111111,
              "#46039f"
             ],
             [
              0.2222222222222222,
              "#7201a8"
             ],
             [
              0.3333333333333333,
              "#9c179e"
             ],
             [
              0.4444444444444444,
              "#bd3786"
             ],
             [
              0.5555555555555556,
              "#d8576b"
             ],
             [
              0.6666666666666666,
              "#ed7953"
             ],
             [
              0.7777777777777778,
              "#fb9f3a"
             ],
             [
              0.8888888888888888,
              "#fdca26"
             ],
             [
              1,
              "#f0f921"
             ]
            ],
            "type": "heatmapgl"
           }
          ],
          "histogram": [
           {
            "marker": {
             "colorbar": {
              "outlinewidth": 0,
              "ticks": ""
             }
            },
            "type": "histogram"
           }
          ],
          "histogram2d": [
           {
            "colorbar": {
             "outlinewidth": 0,
             "ticks": ""
            },
            "colorscale": [
             [
              0,
              "#0d0887"
             ],
             [
              0.1111111111111111,
              "#46039f"
             ],
             [
              0.2222222222222222,
              "#7201a8"
             ],
             [
              0.3333333333333333,
              "#9c179e"
             ],
             [
              0.4444444444444444,
              "#bd3786"
             ],
             [
              0.5555555555555556,
              "#d8576b"
             ],
             [
              0.6666666666666666,
              "#ed7953"
             ],
             [
              0.7777777777777778,
              "#fb9f3a"
             ],
             [
              0.8888888888888888,
              "#fdca26"
             ],
             [
              1,
              "#f0f921"
             ]
            ],
            "type": "histogram2d"
           }
          ],
          "histogram2dcontour": [
           {
            "colorbar": {
             "outlinewidth": 0,
             "ticks": ""
            },
            "colorscale": [
             [
              0,
              "#0d0887"
             ],
             [
              0.1111111111111111,
              "#46039f"
             ],
             [
              0.2222222222222222,
              "#7201a8"
             ],
             [
              0.3333333333333333,
              "#9c179e"
             ],
             [
              0.4444444444444444,
              "#bd3786"
             ],
             [
              0.5555555555555556,
              "#d8576b"
             ],
             [
              0.6666666666666666,
              "#ed7953"
             ],
             [
              0.7777777777777778,
              "#fb9f3a"
             ],
             [
              0.8888888888888888,
              "#fdca26"
             ],
             [
              1,
              "#f0f921"
             ]
            ],
            "type": "histogram2dcontour"
           }
          ],
          "mesh3d": [
           {
            "colorbar": {
             "outlinewidth": 0,
             "ticks": ""
            },
            "type": "mesh3d"
           }
          ],
          "parcoords": [
           {
            "line": {
             "colorbar": {
              "outlinewidth": 0,
              "ticks": ""
             }
            },
            "type": "parcoords"
           }
          ],
          "pie": [
           {
            "automargin": true,
            "type": "pie"
           }
          ],
          "scatter": [
           {
            "marker": {
             "colorbar": {
              "outlinewidth": 0,
              "ticks": ""
             }
            },
            "type": "scatter"
           }
          ],
          "scatter3d": [
           {
            "line": {
             "colorbar": {
              "outlinewidth": 0,
              "ticks": ""
             }
            },
            "marker": {
             "colorbar": {
              "outlinewidth": 0,
              "ticks": ""
             }
            },
            "type": "scatter3d"
           }
          ],
          "scattercarpet": [
           {
            "marker": {
             "colorbar": {
              "outlinewidth": 0,
              "ticks": ""
             }
            },
            "type": "scattercarpet"
           }
          ],
          "scattergeo": [
           {
            "marker": {
             "colorbar": {
              "outlinewidth": 0,
              "ticks": ""
             }
            },
            "type": "scattergeo"
           }
          ],
          "scattergl": [
           {
            "marker": {
             "colorbar": {
              "outlinewidth": 0,
              "ticks": ""
             }
            },
            "type": "scattergl"
           }
          ],
          "scattermapbox": [
           {
            "marker": {
             "colorbar": {
              "outlinewidth": 0,
              "ticks": ""
             }
            },
            "type": "scattermapbox"
           }
          ],
          "scatterpolar": [
           {
            "marker": {
             "colorbar": {
              "outlinewidth": 0,
              "ticks": ""
             }
            },
            "type": "scatterpolar"
           }
          ],
          "scatterpolargl": [
           {
            "marker": {
             "colorbar": {
              "outlinewidth": 0,
              "ticks": ""
             }
            },
            "type": "scatterpolargl"
           }
          ],
          "scatterternary": [
           {
            "marker": {
             "colorbar": {
              "outlinewidth": 0,
              "ticks": ""
             }
            },
            "type": "scatterternary"
           }
          ],
          "surface": [
           {
            "colorbar": {
             "outlinewidth": 0,
             "ticks": ""
            },
            "colorscale": [
             [
              0,
              "#0d0887"
             ],
             [
              0.1111111111111111,
              "#46039f"
             ],
             [
              0.2222222222222222,
              "#7201a8"
             ],
             [
              0.3333333333333333,
              "#9c179e"
             ],
             [
              0.4444444444444444,
              "#bd3786"
             ],
             [
              0.5555555555555556,
              "#d8576b"
             ],
             [
              0.6666666666666666,
              "#ed7953"
             ],
             [
              0.7777777777777778,
              "#fb9f3a"
             ],
             [
              0.8888888888888888,
              "#fdca26"
             ],
             [
              1,
              "#f0f921"
             ]
            ],
            "type": "surface"
           }
          ],
          "table": [
           {
            "cells": {
             "fill": {
              "color": "#EBF0F8"
             },
             "line": {
              "color": "white"
             }
            },
            "header": {
             "fill": {
              "color": "#C8D4E3"
             },
             "line": {
              "color": "white"
             }
            },
            "type": "table"
           }
          ]
         },
         "layout": {
          "annotationdefaults": {
           "arrowcolor": "#2a3f5f",
           "arrowhead": 0,
           "arrowwidth": 1
          },
          "coloraxis": {
           "colorbar": {
            "outlinewidth": 0,
            "ticks": ""
           }
          },
          "colorscale": {
           "diverging": [
            [
             0,
             "#8e0152"
            ],
            [
             0.1,
             "#c51b7d"
            ],
            [
             0.2,
             "#de77ae"
            ],
            [
             0.3,
             "#f1b6da"
            ],
            [
             0.4,
             "#fde0ef"
            ],
            [
             0.5,
             "#f7f7f7"
            ],
            [
             0.6,
             "#e6f5d0"
            ],
            [
             0.7,
             "#b8e186"
            ],
            [
             0.8,
             "#7fbc41"
            ],
            [
             0.9,
             "#4d9221"
            ],
            [
             1,
             "#276419"
            ]
           ],
           "sequential": [
            [
             0,
             "#0d0887"
            ],
            [
             0.1111111111111111,
             "#46039f"
            ],
            [
             0.2222222222222222,
             "#7201a8"
            ],
            [
             0.3333333333333333,
             "#9c179e"
            ],
            [
             0.4444444444444444,
             "#bd3786"
            ],
            [
             0.5555555555555556,
             "#d8576b"
            ],
            [
             0.6666666666666666,
             "#ed7953"
            ],
            [
             0.7777777777777778,
             "#fb9f3a"
            ],
            [
             0.8888888888888888,
             "#fdca26"
            ],
            [
             1,
             "#f0f921"
            ]
           ],
           "sequentialminus": [
            [
             0,
             "#0d0887"
            ],
            [
             0.1111111111111111,
             "#46039f"
            ],
            [
             0.2222222222222222,
             "#7201a8"
            ],
            [
             0.3333333333333333,
             "#9c179e"
            ],
            [
             0.4444444444444444,
             "#bd3786"
            ],
            [
             0.5555555555555556,
             "#d8576b"
            ],
            [
             0.6666666666666666,
             "#ed7953"
            ],
            [
             0.7777777777777778,
             "#fb9f3a"
            ],
            [
             0.8888888888888888,
             "#fdca26"
            ],
            [
             1,
             "#f0f921"
            ]
           ]
          },
          "colorway": [
           "#636efa",
           "#EF553B",
           "#00cc96",
           "#ab63fa",
           "#FFA15A",
           "#19d3f3",
           "#FF6692",
           "#B6E880",
           "#FF97FF",
           "#FECB52"
          ],
          "font": {
           "color": "#2a3f5f"
          },
          "geo": {
           "bgcolor": "white",
           "lakecolor": "white",
           "landcolor": "#E5ECF6",
           "showlakes": true,
           "showland": true,
           "subunitcolor": "white"
          },
          "hoverlabel": {
           "align": "left"
          },
          "hovermode": "closest",
          "mapbox": {
           "style": "light"
          },
          "paper_bgcolor": "white",
          "plot_bgcolor": "#E5ECF6",
          "polar": {
           "angularaxis": {
            "gridcolor": "white",
            "linecolor": "white",
            "ticks": ""
           },
           "bgcolor": "#E5ECF6",
           "radialaxis": {
            "gridcolor": "white",
            "linecolor": "white",
            "ticks": ""
           }
          },
          "scene": {
           "xaxis": {
            "backgroundcolor": "#E5ECF6",
            "gridcolor": "white",
            "gridwidth": 2,
            "linecolor": "white",
            "showbackground": true,
            "ticks": "",
            "zerolinecolor": "white"
           },
           "yaxis": {
            "backgroundcolor": "#E5ECF6",
            "gridcolor": "white",
            "gridwidth": 2,
            "linecolor": "white",
            "showbackground": true,
            "ticks": "",
            "zerolinecolor": "white"
           },
           "zaxis": {
            "backgroundcolor": "#E5ECF6",
            "gridcolor": "white",
            "gridwidth": 2,
            "linecolor": "white",
            "showbackground": true,
            "ticks": "",
            "zerolinecolor": "white"
           }
          },
          "shapedefaults": {
           "line": {
            "color": "#2a3f5f"
           }
          },
          "ternary": {
           "aaxis": {
            "gridcolor": "white",
            "linecolor": "white",
            "ticks": ""
           },
           "baxis": {
            "gridcolor": "white",
            "linecolor": "white",
            "ticks": ""
           },
           "bgcolor": "#E5ECF6",
           "caxis": {
            "gridcolor": "white",
            "linecolor": "white",
            "ticks": ""
           }
          },
          "title": {
           "x": 0.05
          },
          "xaxis": {
           "automargin": true,
           "gridcolor": "white",
           "linecolor": "white",
           "ticks": "",
           "title": {
            "standoff": 15
           },
           "zerolinecolor": "white",
           "zerolinewidth": 2
          },
          "yaxis": {
           "automargin": true,
           "gridcolor": "white",
           "linecolor": "white",
           "ticks": "",
           "title": {
            "standoff": 15
           },
           "zerolinecolor": "white",
           "zerolinewidth": 2
          }
         }
        },
        "title": {
         "font": {
          "size": 25
         },
         "text": "<br>"
        },
        "width": 800,
        "xaxis": {
         "autorange": false,
         "domain": [
          0,
          0.75
         ],
         "gridwidth": 1,
         "linecolor": "rgb(0, 0, 0)",
         "linewidth": 2,
         "mirror": "ticks",
         "range": [
          -1.4865573796339528,
          3.2
         ],
         "rangeslider": {
          "autorange": true,
          "range": [
           -1.4865573796339528,
           3.655840889258851
          ],
          "visible": false
         },
         "showline": true,
         "showspikes": false,
         "side": "bottom",
         "tickfont": {
          "family": "Arial",
          "size": 20
         },
         "ticklen": 5,
         "ticks": "inside",
         "tickwidth": 2,
         "title": {
          "font": {
           "size": 25
          },
          "text": "$\\Delta G_{\\text{OH}} \\text{ (eV)}$"
         },
         "type": "linear",
         "zeroline": false
        },
        "yaxis": {
         "autorange": false,
         "domain": [
          0,
          1
         ],
         "gridwidth": 1,
         "linewidth": 2,
         "mirror": "ticks",
         "nticks": 0,
         "range": [
          -1.690250521920668,
          6
         ],
         "separatethousands": false,
         "showline": true,
         "showspikes": false,
         "tickfont": {
          "family": "Arial",
          "size": 20
         },
         "tickformat": "",
         "ticklen": 5,
         "ticks": "inside",
         "tickwidth": 2,
         "title": {
          "font": {
           "size": 25
          },
          "text": "$\\Delta G_{\\text{X}} \\text{ (eV)}$"
         },
         "type": "linear",
         "zeroline": false
        }
       }
      },
      "text/html": [
       "<div>                            <div id=\"e4536e33-fd6a-4811-8c2b-1be9755900a8\" class=\"plotly-graph-div\" style=\"height:600px; width:800px;\"></div>            <script type=\"text/javascript\">                require([\"plotly\"], function(Plotly) {                    window.PLOTLYENV=window.PLOTLYENV || {};                                    if (document.getElementById(\"e4536e33-fd6a-4811-8c2b-1be9755900a8\")) {                    Plotly.newPlot(                        \"e4536e33-fd6a-4811-8c2b-1be9755900a8\",                        [{\"marker\": {\"size\": 15, \"symbol\": 18}, \"meta\": {\"columnNames\": {\"text\": \"data.0.text\", \"x\": \"data.0.x\", \"y\": \"data.0.y\"}}, \"mode\": \"markers\", \"name\": \"OOH\", \"text\": [\"SrTcO3\", \"BaFeO3\", \"BaMoO3\", \"KTaO3\", \"BaZrO3\", \"SrFeO3\", \"KTcO3\", \"NaTcO3\", \"BaHfO3\", \"SrTiO3\", \"SrCuO3\", \"KNbO3\", \"NaTaO3\", \"BaScO3\", \"BaPdO3\", \"SrHfO3\", \"NaOsO3\", \"TlTcO3\", \"KReO3\", \"SrRuO3\", \"KHfO3\", \"SrVO3\", \"KOsO3\", \"TaAgO3\", \"RbIrO3\", \"NaReO3\", \"SrMnO3\", \"CaFeO3\", \"SrZrO3\", \"RbTaO3\", \"SrCoO3\", \"KZrO3\", \"CaTiO3\", \"NaRuO3\", \"LiTcO3\", \"SrPdO3\"], \"textsrc\": \"gwanyeong:21:9e63b9\", \"type\": \"scatter\", \"visible\": true, \"x\": [-0.782, 2.024, -0.302, -1.001, 1.29, 2.026, 0.04, -0.067, 1.1909999999999998, 1.276, 2.0069999999999997, -0.217, -1.129, 2.147, 1.7, 1.081, -0.354, -0.031, -0.733, 0.26, 1.946, -0.191, -0.46399999999999997, -1.056, 0.976, -0.831, 2.548, 1.9269999999999998, 1.151, -0.997, 1.163, 2.0069999999999997, 1.263, 0.746, 0.152, 0.899], \"xsrc\": \"gwanyeong:21:bb96d0\", \"y\": [2.481, 4.917, 3.0189999999999997, 2.575, 4.706, 4.94, 3.2310000000000003, 3.1489999999999996, 4.537, 4.632, 5.007, 3.298, 2.423, 4.977, 4.665, 4.46, 3.103, 3.1, 2.539, 3.406, 4.806, 3.0260000000000002, 2.802, 2.512, 4.135, 2.449, 5.5089999999999995, 4.926, 4.537, 2.6189999999999998, 4.261, 4.825, 4.692, 3.804, 3.3510000000000004, 3.741], \"ysrc\": \"gwanyeong:21:a93391\"}, {\"error_x\": {\"color\": \"rgb(255,0,0)\", \"symmetric\": true, \"thickness\": 2, \"type\": \"percent\", \"value\": 10, \"visible\": false, \"width\": 4}, \"marker\": {\"color\": \"rgb(255,0,0)\", \"size\": 15, \"symbol\": 30}, \"meta\": {\"columnNames\": {\"text\": \"data.1.text\", \"x\": \"data.1.x\", \"y\": \"data.1.y\"}}, \"mode\": \"markers\", \"name\": \"O\", \"text\": [\"SrTcO3\", \"BaFeO3\", \"BaMoO3\", \"KTaO3\", \"BaZrO3\", \"SrFeO3\", \"KTcO3\", \"NaTcO3\", \"BaHfO3\", \"SrTiO3\", \"SrCuO3\", \"KNbO3\", \"NaTaO3\", \"BaScO3\", \"BaPdO3\", \"SrHfO3\", \"NaOsO3\", \"TlTcO3\", \"KReO3\", \"SrRuO3\", \"KHfO3\", \"SrVO3\", \"KOsO3\", \"TaAgO3\", \"RbIrO3\", \"NaReO3\", \"SrMnO3\", \"CaFeO3\", \"SrZrO3\", \"RbTaO3\", \"SrCoO3\", \"KZrO3\", \"CaTiO3\", \"NaRuO3\", \"LiTcO3\", \"SrPdO3\"], \"textsrc\": \"gwanyeong:21:ab1501\", \"type\": \"scatter\", \"visible\": true, \"x\": [-0.782, 2.024, -0.302, -1.001, 1.29, 2.026, 0.04, -0.067, 1.1909999999999998, 1.276, 2.0069999999999997, -0.217, -1.129, 2.147, 1.7, 1.081, -0.354, -0.031, -0.733, 0.26, 1.946, -0.191, -0.46399999999999997, -1.056, 0.976, -0.831, 2.548, 1.9269999999999998, 1.151, -0.997, 1.163, 2.0069999999999997, 1.263, 0.746, 0.152, 0.899], \"xsrc\": \"gwanyeong:21:6e91fb\", \"y\": [-0.7070000000000001, 4.452, -0.853, -0.614, 4.143, 4.606, 0.446, 0.301, 4.023, 3.889, 4.23, 0.465, -0.899, 4.7, 3.455, 3.952, 0.5770000000000001, 0.313, -0.544, 0.96, 4.407, 0.516, 0.6990000000000001, -0.9690000000000001, 2.415, -0.6970000000000001, 4.648, 4.277, 4.034, -0.617, 3.136, 4.516, 3.911, 1.871, 0.621, 3.176], \"ysrc\": \"gwanyeong:21:329061\"}, {\"marker\": {\"size\": 15, \"symbol\": 0}, \"meta\": {\"columnNames\": {\"text\": \"data.2.text\", \"x\": \"data.2.x\", \"y\": \"data.2.y\"}}, \"mode\": \"markers\", \"name\": \"OH\", \"text\": [\"SrTcO3\", \"BaFeO3\", \"BaMoO3\", \"KTaO3\", \"BaZrO3\", \"SrFeO3\", \"KTcO3\", \"NaTcO3\", \"BaHfO3\", \"SrTiO3\", \"SrCuO3\", \"KNbO3\", \"NaTaO3\", \"BaScO3\", \"BaPdO3\", \"SrHfO3\", \"NaOsO3\", \"TlTcO3\", \"KReO3\", \"SrRuO3\", \"KHfO3\", \"SrVO3\", \"KOsO3\", \"TaAgO3\", \"RbIrO3\", \"NaReO3\", \"SrMnO3\", \"CaFeO3\", \"SrZrO3\", \"RbTaO3\", \"SrCoO3\", \"KZrO3\", \"CaTiO3\", \"NaRuO3\", \"LiTcO3\", \"SrPdO3\"], \"textsrc\": \"gwanyeong:21:ddb9a4\", \"type\": \"scatter\", \"visible\": true, \"x\": [-0.782, 2.024, -0.302, -1.001, 1.29, 2.026, 0.04, -0.067, 1.1909999999999998, 1.276, 2.0069999999999997, -0.217, -1.129, 2.147, 1.7, 1.081, -0.354, -0.031, -0.733, 0.26, 1.946, -0.191, -0.46399999999999997, -1.056, 0.976, -0.831, 2.548, 1.9269999999999998, 1.151, -0.997, 1.163, 2.0069999999999997, 1.263, 0.746, 0.152, 0.899], \"xsrc\": \"gwanyeong:21:e638f1\", \"y\": [-0.782, 2.024, -0.302, -1.001, 1.29, 2.026, 0.04, -0.067, 1.1909999999999998, 1.276, 2.0069999999999997, -0.217, -1.129, 2.147, 1.7, 1.081, -0.354, -0.031, -0.733, 0.26, 1.946, -0.191, -0.46399999999999997, -1.056, 0.976, -0.831, 2.548, 1.9269999999999998, 1.151, -0.997, 1.163, 2.0069999999999997, 1.263, 0.746, 0.152, 0.899], \"ysrc\": \"gwanyeong:21:ba437b\"}, {\"marker\": {\"color\": \"blue\"}, \"meta\": {\"columnNames\": {\"x\": \"data.3.x\", \"y\": \"data.3.y\"}}, \"mode\": \"lines\", \"name\": \"OOH_fit\", \"type\": \"scatter\", \"visible\": true, \"x\": [-1.129, -1.0918585858585859, -1.0547171717171717, -1.0175757575757576, -0.9804343434343434, -0.9432929292929293, -0.9061515151515152, -0.869010101010101, -0.8318686868686869, -0.7947272727272727, -0.7575858585858586, -0.7204444444444444, -0.6833030303030303, -0.6461616161616162, -0.609020202020202, -0.5718787878787879, -0.5347373737373737, -0.4975959595959596, -0.46045454545454545, -0.4233131313131313, -0.38617171717171717, -0.349030303030303, -0.3118888888888889, -0.27474747474747474, -0.2376060606060606, -0.20046464646464646, -0.16332323232323231, -0.12618181818181817, -0.08904040404040403, -0.05189898989898989, -0.014757575757575747, 0.022383838383838395, 0.05952525252525254, 0.09666666666666668, 0.13380808080808082, 0.17094949494949496, 0.2080909090909091, 0.24523232323232325, 0.2823737373737374, 0.31951515151515153, 0.35665656565656567, 0.3937979797979798, 0.43093939393939396, 0.4680808080808081, 0.5052222222222222, 0.5423636363636364, 0.5795050505050505, 0.6166464646464647, 0.6537878787878788, 0.690929292929293, 0.7280707070707071, 0.7652121212121212, 0.8023535353535354, 0.8394949494949495, 0.8766363636363637, 0.9137777777777778, 0.9509191919191919, 0.9880606060606061, 1.0252020202020202, 1.0623434343434344, 1.0994848484848485, 1.1366262626262627, 1.1737676767676768, 1.210909090909091, 1.248050505050505, 1.2851919191919192, 1.3223333333333334, 1.3594747474747475, 1.3966161616161616, 1.4337575757575758, 1.47089898989899, 1.508040404040404, 1.5451818181818182, 1.5823232323232324, 1.6194646464646465, 1.6566060606060606, 1.6937474747474748, 1.730888888888889, 1.768030303030303, 1.8051717171717172, 1.8423131313131313, 1.8794545454545455, 1.9165959595959596, 1.9537373737373738, 1.990878787878788, 2.028020202020202, 2.065161616161616, 2.1023030303030303, 2.1394444444444445, 2.1765858585858586, 2.2137272727272728, 2.250868686868687, 2.288010101010101, 2.325151515151515, 2.3622929292929293, 2.3994343434343435, 2.4365757575757576, 2.4737171717171718, 2.510858585858586, 2.548], \"xsrc\": \"gwanyeong:21:fc4718\", \"y\": [2.3396933797116395, 2.3712447385131568, 2.402796097314674, 2.4343474561161913, 2.4658988149177086, 2.4974501737192263, 2.5290015325207436, 2.560552891322261, 2.5921042501237785, 2.623655608925296, 2.655206967726813, 2.686758326528331, 2.718309685329848, 2.7498610441313653, 2.781412402932883, 2.8129637617344003, 2.8445151205359176, 2.876066479337435, 2.907617838138952, 2.93916919694047, 2.970720555741987, 3.0022719145435044, 3.033823273345022, 3.0653746321465394, 3.0969259909480567, 3.1284773497495744, 3.1600287085510916, 3.191580067352609, 3.223131426154126, 3.254682784955644, 3.286234143757161, 3.3177855025586784, 3.349336861360196, 3.3808882201617134, 3.4124395789632307, 3.443990937764748, 3.4755422965662657, 3.507093655367783, 3.5386450141693, 3.570196372970818, 3.601747731772335, 3.6332990905738525, 3.6648504493753697, 3.6964018081768875, 3.7279531669784047, 3.759504525779922, 3.7910558845814393, 3.822607243382957, 3.8541586021844743, 3.8857099609859915, 3.9172613197875092, 3.9488126785890265, 3.980364037390544, 4.0119153961920615, 4.043466754993578, 4.075018113795096, 4.106569472596614, 4.138120831398131, 4.169672190199648, 4.201223549001166, 4.232774907802683, 4.2643262666042006, 4.295877625405717, 4.327428984207235, 4.358980343008753, 4.39053170181027, 4.422083060611787, 4.453634419413305, 4.485185778214822, 4.51673713701634, 4.548288495817857, 4.579839854619374, 4.611391213420892, 4.64294257222241, 4.674493931023926, 4.706045289825444, 4.737596648626962, 4.769148007428479, 4.800699366229996, 4.832250725031514, 4.863802083833031, 4.895353442634549, 4.926904801436066, 4.958456160237583, 4.990007519039101, 5.021558877840618, 5.053110236642135, 5.084661595443653, 5.11621295424517, 5.147764313046688, 5.1793156718482045, 5.210867030649722, 5.24241838945124, 5.273969748252757, 5.3055211070542745, 5.337072465855792, 5.368623824657309, 5.400175183458827, 5.4317265422603445, 5.463277901061861], \"ysrc\": \"gwanyeong:21:7ada4e\"}, {\"marker\": {\"color\": \"red\"}, \"meta\": {\"columnNames\": {\"x\": \"data.4.x\", \"y\": \"data.4.y\"}}, \"mode\": \"lines\", \"name\": \"O_fit\", \"type\": \"scatter\", \"visible\": true, \"x\": [-1.129, -1.0918585858585859, -1.0547171717171717, -1.0175757575757576, -0.9804343434343434, -0.9432929292929293, -0.9061515151515152, -0.869010101010101, -0.8318686868686869, -0.7947272727272727, -0.7575858585858586, -0.7204444444444444, -0.6833030303030303, -0.6461616161616162, -0.609020202020202, -0.5718787878787879, -0.5347373737373737, -0.4975959595959596, -0.46045454545454545, -0.4233131313131313, -0.38617171717171717, -0.349030303030303, -0.3118888888888889, -0.27474747474747474, -0.2376060606060606, -0.20046464646464646, -0.16332323232323231, -0.12618181818181817, -0.08904040404040403, -0.05189898989898989, -0.014757575757575747, 0.022383838383838395, 0.05952525252525254, 0.09666666666666668, 0.13380808080808082, 0.17094949494949496, 0.2080909090909091, 0.24523232323232325, 0.2823737373737374, 0.31951515151515153, 0.35665656565656567, 0.3937979797979798, 0.43093939393939396, 0.4680808080808081, 0.5052222222222222, 0.5423636363636364, 0.5795050505050505, 0.6166464646464647, 0.6537878787878788, 0.690929292929293, 0.7280707070707071, 0.7652121212121212, 0.8023535353535354, 0.8394949494949495, 0.8766363636363637, 0.9137777777777778, 0.9509191919191919, 0.9880606060606061, 1.0252020202020202, 1.0623434343434344, 1.0994848484848485, 1.1366262626262627, 1.1737676767676768, 1.210909090909091, 1.248050505050505, 1.2851919191919192, 1.3223333333333334, 1.3594747474747475, 1.3966161616161616, 1.4337575757575758, 1.47089898989899, 1.508040404040404, 1.5451818181818182, 1.5823232323232324, 1.6194646464646465, 1.6566060606060606, 1.6937474747474748, 1.730888888888889, 1.768030303030303, 1.8051717171717172, 1.8423131313131313, 1.8794545454545455, 1.9165959595959596, 1.9537373737373738, 1.990878787878788, 2.028020202020202, 2.065161616161616, 2.1023030303030303, 2.1394444444444445, 2.1765858585858586, 2.2137272727272728, 2.250868686868687, 2.288010101010101, 2.325151515151515, 2.3622929292929293, 2.3994343434343435, 2.4365757575757576, 2.4737171717171718, 2.510858585858586, 2.548], \"xsrc\": \"gwanyeong:21:fa192f\", \"y\": [-1.1440821347014598, -1.0761130566194956, -1.0081439785375315, -0.9401749004555673, -0.8722058223736029, -0.8042367442916387, -0.7362676662096745, -0.6682985881277104, -0.6003295100457462, -0.532360431963782, -0.46439135388181785, -0.39642227579985345, -0.3284531977178893, -0.2604841196359251, -0.19251504155396093, -0.12454596347199676, -0.05657688539003258, 0.011392192691931702, 0.07936127077389588, 0.14733034885586005, 0.21529942693782422, 0.2832685050197885, 0.3512375831017527, 0.41920666118371686, 0.4871757392656811, 0.5551448173476453, 0.6231138954296095, 0.6910829735115737, 0.759052051593538, 0.8270211296755021, 0.8949902077574663, 0.9629592858394305, 1.0309283639213946, 1.0988974420033588, 1.1668665200853232, 1.2348355981672874, 1.3028046762492516, 1.3707737543312157, 1.43874283241318, 1.5067119104951443, 1.5746809885771085, 1.6426500666590726, 1.7106191447410368, 1.778588222823001, 1.8465573009049652, 1.9145263789869293, 1.9824954570688935, 2.0504645351508577, 2.1184336132328223, 2.186402691314786, 2.2543717693967507, 2.3223408474787144, 2.390309925560679, 2.4582790036426427, 2.5262480817246074, 2.594217159806571, 2.6621862378885357, 2.7301553159705, 2.798124394052464, 2.866093472134428, 2.9340625502163924, 3.0020316282983566, 3.0700007063803207, 3.137969784462285, 3.205938862544249, 3.2739079406262133, 3.3418770187081774, 3.409846096790142, 3.4778151748721062, 3.5457842529540704, 3.6137533310360346, 3.6817224091179988, 3.749691487199963, 3.817660565281927, 3.8856296433638913, 3.9535987214458554, 4.021567799527819, 4.089536877609784, 4.157505955691748, 4.225475033773712, 4.293444111855676, 4.3614131899376405, 4.429382268019605, 4.497351346101569, 4.5653204241835335, 4.633289502265498, 4.701258580347462, 4.7692276584294255, 4.83719673651139, 4.905165814593355, 4.9731348926753185, 5.041103970757282, 5.109073048839248, 5.1770421269212115, 5.245011205003175, 5.312980283085139, 5.380949361167104, 5.448918439249068, 5.516887517331032, 5.584856595412996], \"ysrc\": \"gwanyeong:21:fa1357\"}, {\"marker\": {\"color\": \"green\"}, \"meta\": {\"columnNames\": {\"x\": \"data.5.x\", \"y\": \"data.5.y\"}}, \"mode\": \"lines\", \"name\": \"OH_fit\", \"type\": \"scatter\", \"visible\": true, \"x\": [-1.129, -1.0918585858585859, -1.0547171717171717, -1.0175757575757576, -0.9804343434343434, -0.9432929292929293, -0.9061515151515152, -0.869010101010101, -0.8318686868686869, -0.7947272727272727, -0.7575858585858586, -0.7204444444444444, -0.6833030303030303, -0.6461616161616162, -0.609020202020202, -0.5718787878787879, -0.5347373737373737, -0.4975959595959596, -0.46045454545454545, -0.4233131313131313, -0.38617171717171717, -0.349030303030303, -0.3118888888888889, -0.27474747474747474, -0.2376060606060606, -0.20046464646464646, -0.16332323232323231, -0.12618181818181817, -0.08904040404040403, -0.05189898989898989, -0.014757575757575747, 0.022383838383838395, 0.05952525252525254, 0.09666666666666668, 0.13380808080808082, 0.17094949494949496, 0.2080909090909091, 0.24523232323232325, 0.2823737373737374, 0.31951515151515153, 0.35665656565656567, 0.3937979797979798, 0.43093939393939396, 0.4680808080808081, 0.5052222222222222, 0.5423636363636364, 0.5795050505050505, 0.6166464646464647, 0.6537878787878788, 0.690929292929293, 0.7280707070707071, 0.7652121212121212, 0.8023535353535354, 0.8394949494949495, 0.8766363636363637, 0.9137777777777778, 0.9509191919191919, 0.9880606060606061, 1.0252020202020202, 1.0623434343434344, 1.0994848484848485, 1.1366262626262627, 1.1737676767676768, 1.210909090909091, 1.248050505050505, 1.2851919191919192, 1.3223333333333334, 1.3594747474747475, 1.3966161616161616, 1.4337575757575758, 1.47089898989899, 1.508040404040404, 1.5451818181818182, 1.5823232323232324, 1.6194646464646465, 1.6566060606060606, 1.6937474747474748, 1.730888888888889, 1.768030303030303, 1.8051717171717172, 1.8423131313131313, 1.8794545454545455, 1.9165959595959596, 1.9537373737373738, 1.990878787878788, 2.028020202020202, 2.065161616161616, 2.1023030303030303, 2.1394444444444445, 2.1765858585858586, 2.2137272727272728, 2.250868686868687, 2.288010101010101, 2.325151515151515, 2.3622929292929293, 2.3994343434343435, 2.4365757575757576, 2.4737171717171718, 2.510858585858586, 2.548], \"xsrc\": \"gwanyeong:21:9f43e8\", \"y\": [-1.1289999999999993, -1.0918585858585852, -1.054717171717171, -1.017575757575757, -0.9804343434343429, -0.9432929292929287, -0.9061515151515146, -0.8690101010101005, -0.8318686868686864, -0.7947272727272723, -0.7575858585858581, -0.720444444444444, -0.6833030303030299, -0.6461616161616157, -0.6090202020202016, -0.5718787878787874, -0.5347373737373733, -0.4975959595959592, -0.46045454545454506, -0.4233131313131309, -0.38617171717171683, -0.3490303030303027, -0.31188888888888855, -0.2747474747474744, -0.2376060606060603, -0.20046464646464618, -0.16332323232323204, -0.1261818181818179, -0.08904040404040378, -0.05189898989898965, -0.01475757575757552, 0.02238383838383861, 0.05952525252525274, 0.09666666666666687, 0.133808080808081, 0.17094949494949513, 0.20809090909090927, 0.24523232323232338, 0.2823737373737375, 0.31951515151515164, 0.3566565656565658, 0.3937979797979799, 0.430939393939394, 0.46808080808080815, 0.5052222222222222, 0.5423636363636364, 0.5795050505050505, 0.6166464646464647, 0.6537878787878788, 0.690929292929293, 0.7280707070707071, 0.7652121212121212, 0.8023535353535354, 0.8394949494949494, 0.8766363636363635, 0.9137777777777777, 0.9509191919191918, 0.988060606060606, 1.02520202020202, 1.0623434343434341, 1.0994848484848483, 1.1366262626262624, 1.1737676767676766, 1.2109090909090907, 1.2480505050505049, 1.285191919191919, 1.3223333333333331, 1.3594747474747473, 1.3966161616161614, 1.4337575757575756, 1.4708989898989897, 1.5080404040404038, 1.545181818181818, 1.5823232323232321, 1.6194646464646463, 1.6566060606060604, 1.6937474747474743, 1.7308888888888885, 1.7680303030303026, 1.8051717171717168, 1.842313131313131, 1.879454545454545, 1.9165959595959592, 1.9537373737373733, 1.9908787878787875, 2.028020202020201, 2.0651616161616158, 2.1023030303030295, 2.139444444444444, 2.1765858585858577, 2.2137272727272723, 2.250868686868686, 2.2880101010101006, 2.3251515151515143, 2.362292929292929, 2.3994343434343426, 2.436575757575757, 2.473717171717171, 2.5108585858585855, 2.547999999999999], \"ysrc\": \"gwanyeong:21:02d13e\"}],                        {\"annotations\": [{\"ax\": 131, \"ay\": 220, \"font\": {\"color\": \"blue\", \"size\": 18}, \"showarrow\": false, \"text\": \"$\\\\Delta G_{\\\\text{OOH}} = \\\\text{0.849} \\\\Delta G_{\\\\text{OH}} + \\\\text{3.299}$\", \"x\": 1.600701719087127, \"xshift\": 20, \"y\": -0.18625724127646875}, {\"ax\": 84, \"ay\": 195, \"font\": {\"color\": \"red\", \"size\": 18}, \"showarrow\": false, \"text\": \"$\\\\Delta G_{\\\\text{O}} = \\\\text{1.830} \\\\Delta G_{\\\\text{OH}} + \\\\text{0.922}$\", \"x\": 1.4483499584664035, \"xshift\": 50, \"y\": -0.9181127492792518, \"yshift\": 10}, {\"ax\": 87, \"ay\": -15, \"font\": {\"color\": \"green\", \"size\": 18}, \"showarrow\": false, \"text\": \"$\\\\Delta G_{\\\\text{OH}} = \\\\text{1.000} \\\\Delta G_{\\\\text{OH}} + \\\\text{0.000}$\", \"x\": 1.9309948032343895, \"y\": 0.46759715428969156, \"yshift\": -100}], \"height\": 600, \"legend\": {\"font\": {\"family\": \"Arial\", \"size\": 18}, \"x\": 0.7624858066421633, \"y\": 0.7047619047619048}, \"shapes\": [{\"fillcolor\": \"#7f7f7f\", \"line\": {\"color\": \"#444444\"}, \"opacity\": 0.3, \"visible\": false}], \"template\": {\"data\": {\"bar\": [{\"error_x\": {\"color\": \"#2a3f5f\"}, \"error_y\": {\"color\": \"#2a3f5f\"}, \"marker\": {\"line\": {\"color\": \"#E5ECF6\", \"width\": 0.5}}, \"type\": \"bar\"}], \"barpolar\": [{\"marker\": {\"line\": {\"color\": \"#E5ECF6\", \"width\": 0.5}}, \"type\": \"barpolar\"}], \"carpet\": [{\"aaxis\": {\"endlinecolor\": \"#2a3f5f\", \"gridcolor\": \"white\", \"linecolor\": \"white\", \"minorgridcolor\": \"white\", \"startlinecolor\": \"#2a3f5f\"}, \"baxis\": {\"endlinecolor\": \"#2a3f5f\", \"gridcolor\": \"white\", \"linecolor\": \"white\", \"minorgridcolor\": \"white\", \"startlinecolor\": \"#2a3f5f\"}, \"type\": \"carpet\"}], \"choropleth\": [{\"colorbar\": {\"outlinewidth\": 0, \"ticks\": \"\"}, \"type\": \"choropleth\"}], \"contour\": [{\"colorbar\": {\"outlinewidth\": 0, \"ticks\": \"\"}, \"colorscale\": [[0.0, \"#0d0887\"], [0.1111111111111111, \"#46039f\"], [0.2222222222222222, \"#7201a8\"], [0.3333333333333333, \"#9c179e\"], [0.4444444444444444, \"#bd3786\"], [0.5555555555555556, \"#d8576b\"], [0.6666666666666666, \"#ed7953\"], [0.7777777777777778, \"#fb9f3a\"], [0.8888888888888888, \"#fdca26\"], [1.0, \"#f0f921\"]], \"type\": \"contour\"}], \"contourcarpet\": [{\"colorbar\": {\"outlinewidth\": 0, \"ticks\": \"\"}, \"type\": \"contourcarpet\"}], \"heatmap\": [{\"colorbar\": {\"outlinewidth\": 0, \"ticks\": \"\"}, \"colorscale\": [[0.0, \"#0d0887\"], [0.1111111111111111, \"#46039f\"], [0.2222222222222222, \"#7201a8\"], [0.3333333333333333, \"#9c179e\"], [0.4444444444444444, \"#bd3786\"], [0.5555555555555556, \"#d8576b\"], [0.6666666666666666, \"#ed7953\"], [0.7777777777777778, \"#fb9f3a\"], [0.8888888888888888, \"#fdca26\"], [1.0, \"#f0f921\"]], \"type\": \"heatmap\"}], \"heatmapgl\": [{\"colorbar\": {\"outlinewidth\": 0, \"ticks\": \"\"}, \"colorscale\": [[0.0, \"#0d0887\"], [0.1111111111111111, \"#46039f\"], [0.2222222222222222, \"#7201a8\"], [0.3333333333333333, \"#9c179e\"], [0.4444444444444444, \"#bd3786\"], [0.5555555555555556, \"#d8576b\"], [0.6666666666666666, \"#ed7953\"], [0.7777777777777778, \"#fb9f3a\"], [0.8888888888888888, \"#fdca26\"], [1.0, \"#f0f921\"]], \"type\": \"heatmapgl\"}], \"histogram\": [{\"marker\": {\"colorbar\": {\"outlinewidth\": 0, \"ticks\": \"\"}}, \"type\": \"histogram\"}], \"histogram2d\": [{\"colorbar\": {\"outlinewidth\": 0, \"ticks\": \"\"}, \"colorscale\": [[0.0, \"#0d0887\"], [0.1111111111111111, \"#46039f\"], [0.2222222222222222, \"#7201a8\"], [0.3333333333333333, \"#9c179e\"], [0.4444444444444444, \"#bd3786\"], [0.5555555555555556, \"#d8576b\"], [0.6666666666666666, \"#ed7953\"], [0.7777777777777778, \"#fb9f3a\"], [0.8888888888888888, \"#fdca26\"], [1.0, \"#f0f921\"]], \"type\": \"histogram2d\"}], \"histogram2dcontour\": [{\"colorbar\": {\"outlinewidth\": 0, \"ticks\": \"\"}, \"colorscale\": [[0.0, \"#0d0887\"], [0.1111111111111111, \"#46039f\"], [0.2222222222222222, \"#7201a8\"], [0.3333333333333333, \"#9c179e\"], [0.4444444444444444, \"#bd3786\"], [0.5555555555555556, \"#d8576b\"], [0.6666666666666666, \"#ed7953\"], [0.7777777777777778, \"#fb9f3a\"], [0.8888888888888888, \"#fdca26\"], [1.0, \"#f0f921\"]], \"type\": \"histogram2dcontour\"}], \"mesh3d\": [{\"colorbar\": {\"outlinewidth\": 0, \"ticks\": \"\"}, \"type\": \"mesh3d\"}], \"parcoords\": [{\"line\": {\"colorbar\": {\"outlinewidth\": 0, \"ticks\": \"\"}}, \"type\": \"parcoords\"}], \"pie\": [{\"automargin\": true, \"type\": \"pie\"}], \"scatter\": [{\"marker\": {\"colorbar\": {\"outlinewidth\": 0, \"ticks\": \"\"}}, \"type\": \"scatter\"}], \"scatter3d\": [{\"line\": {\"colorbar\": {\"outlinewidth\": 0, \"ticks\": \"\"}}, \"marker\": {\"colorbar\": {\"outlinewidth\": 0, \"ticks\": \"\"}}, \"type\": \"scatter3d\"}], \"scattercarpet\": [{\"marker\": {\"colorbar\": {\"outlinewidth\": 0, \"ticks\": \"\"}}, \"type\": \"scattercarpet\"}], \"scattergeo\": [{\"marker\": {\"colorbar\": {\"outlinewidth\": 0, \"ticks\": \"\"}}, \"type\": \"scattergeo\"}], \"scattergl\": [{\"marker\": {\"colorbar\": {\"outlinewidth\": 0, \"ticks\": \"\"}}, \"type\": \"scattergl\"}], \"scattermapbox\": [{\"marker\": {\"colorbar\": {\"outlinewidth\": 0, \"ticks\": \"\"}}, \"type\": \"scattermapbox\"}], \"scatterpolar\": [{\"marker\": {\"colorbar\": {\"outlinewidth\": 0, \"ticks\": \"\"}}, \"type\": \"scatterpolar\"}], \"scatterpolargl\": [{\"marker\": {\"colorbar\": {\"outlinewidth\": 0, \"ticks\": \"\"}}, \"type\": \"scatterpolargl\"}], \"scatterternary\": [{\"marker\": {\"colorbar\": {\"outlinewidth\": 0, \"ticks\": \"\"}}, \"type\": \"scatterternary\"}], \"surface\": [{\"colorbar\": {\"outlinewidth\": 0, \"ticks\": \"\"}, \"colorscale\": [[0.0, \"#0d0887\"], [0.1111111111111111, \"#46039f\"], [0.2222222222222222, \"#7201a8\"], [0.3333333333333333, \"#9c179e\"], [0.4444444444444444, \"#bd3786\"], [0.5555555555555556, \"#d8576b\"], [0.6666666666666666, \"#ed7953\"], [0.7777777777777778, \"#fb9f3a\"], [0.8888888888888888, \"#fdca26\"], [1.0, \"#f0f921\"]], \"type\": \"surface\"}], \"table\": [{\"cells\": {\"fill\": {\"color\": \"#EBF0F8\"}, \"line\": {\"color\": \"white\"}}, \"header\": {\"fill\": {\"color\": \"#C8D4E3\"}, \"line\": {\"color\": \"white\"}}, \"type\": \"table\"}]}, \"layout\": {\"annotationdefaults\": {\"arrowcolor\": \"#2a3f5f\", \"arrowhead\": 0, \"arrowwidth\": 1}, \"coloraxis\": {\"colorbar\": {\"outlinewidth\": 0, \"ticks\": \"\"}}, \"colorscale\": {\"diverging\": [[0, \"#8e0152\"], [0.1, \"#c51b7d\"], [0.2, \"#de77ae\"], [0.3, \"#f1b6da\"], [0.4, \"#fde0ef\"], [0.5, \"#f7f7f7\"], [0.6, \"#e6f5d0\"], [0.7, \"#b8e186\"], [0.8, \"#7fbc41\"], [0.9, \"#4d9221\"], [1, \"#276419\"]], \"sequential\": [[0.0, \"#0d0887\"], [0.1111111111111111, \"#46039f\"], [0.2222222222222222, \"#7201a8\"], [0.3333333333333333, \"#9c179e\"], [0.4444444444444444, \"#bd3786\"], [0.5555555555555556, \"#d8576b\"], [0.6666666666666666, \"#ed7953\"], [0.7777777777777778, \"#fb9f3a\"], [0.8888888888888888, \"#fdca26\"], [1.0, \"#f0f921\"]], \"sequentialminus\": [[0.0, \"#0d0887\"], [0.1111111111111111, \"#46039f\"], [0.2222222222222222, \"#7201a8\"], [0.3333333333333333, \"#9c179e\"], [0.4444444444444444, \"#bd3786\"], [0.5555555555555556, \"#d8576b\"], [0.6666666666666666, \"#ed7953\"], [0.7777777777777778, \"#fb9f3a\"], [0.8888888888888888, \"#fdca26\"], [1.0, \"#f0f921\"]]}, \"colorway\": [\"#636efa\", \"#EF553B\", \"#00cc96\", \"#ab63fa\", \"#FFA15A\", \"#19d3f3\", \"#FF6692\", \"#B6E880\", \"#FF97FF\", \"#FECB52\"], \"font\": {\"color\": \"#2a3f5f\"}, \"geo\": {\"bgcolor\": \"white\", \"lakecolor\": \"white\", \"landcolor\": \"#E5ECF6\", \"showlakes\": true, \"showland\": true, \"subunitcolor\": \"white\"}, \"hoverlabel\": {\"align\": \"left\"}, \"hovermode\": \"closest\", \"mapbox\": {\"style\": \"light\"}, \"paper_bgcolor\": \"white\", \"plot_bgcolor\": \"#E5ECF6\", \"polar\": {\"angularaxis\": {\"gridcolor\": \"white\", \"linecolor\": \"white\", \"ticks\": \"\"}, \"bgcolor\": \"#E5ECF6\", \"radialaxis\": {\"gridcolor\": \"white\", \"linecolor\": \"white\", \"ticks\": \"\"}}, \"scene\": {\"xaxis\": {\"backgroundcolor\": \"#E5ECF6\", \"gridcolor\": \"white\", \"gridwidth\": 2, \"linecolor\": \"white\", \"showbackground\": true, \"ticks\": \"\", \"zerolinecolor\": \"white\"}, \"yaxis\": {\"backgroundcolor\": \"#E5ECF6\", \"gridcolor\": \"white\", \"gridwidth\": 2, \"linecolor\": \"white\", \"showbackground\": true, \"ticks\": \"\", \"zerolinecolor\": \"white\"}, \"zaxis\": {\"backgroundcolor\": \"#E5ECF6\", \"gridcolor\": \"white\", \"gridwidth\": 2, \"linecolor\": \"white\", \"showbackground\": true, \"ticks\": \"\", \"zerolinecolor\": \"white\"}}, \"shapedefaults\": {\"line\": {\"color\": \"#2a3f5f\"}}, \"ternary\": {\"aaxis\": {\"gridcolor\": \"white\", \"linecolor\": \"white\", \"ticks\": \"\"}, \"baxis\": {\"gridcolor\": \"white\", \"linecolor\": \"white\", \"ticks\": \"\"}, \"bgcolor\": \"#E5ECF6\", \"caxis\": {\"gridcolor\": \"white\", \"linecolor\": \"white\", \"ticks\": \"\"}}, \"title\": {\"x\": 0.05}, \"xaxis\": {\"automargin\": true, \"gridcolor\": \"white\", \"linecolor\": \"white\", \"ticks\": \"\", \"title\": {\"standoff\": 15}, \"zerolinecolor\": \"white\", \"zerolinewidth\": 2}, \"yaxis\": {\"automargin\": true, \"gridcolor\": \"white\", \"linecolor\": \"white\", \"ticks\": \"\", \"title\": {\"standoff\": 15}, \"zerolinecolor\": \"white\", \"zerolinewidth\": 2}}}, \"title\": {\"font\": {\"size\": 25}, \"text\": \"<br>\"}, \"width\": 800, \"xaxis\": {\"autorange\": false, \"domain\": [0, 0.75], \"gridwidth\": 1, \"linecolor\": \"rgb(0, 0, 0)\", \"linewidth\": 2, \"mirror\": \"ticks\", \"range\": [-1.4865573796339528, 3.2], \"rangeslider\": {\"autorange\": true, \"range\": [-1.4865573796339528, 3.655840889258851], \"visible\": false}, \"showline\": true, \"showspikes\": false, \"side\": \"bottom\", \"tickfont\": {\"family\": \"Arial\", \"size\": 20}, \"ticklen\": 5, \"ticks\": \"inside\", \"tickwidth\": 2, \"title\": {\"font\": {\"size\": 25}, \"text\": \"$\\\\Delta G_{\\\\text{OH}} \\\\text{ (eV)}$\"}, \"type\": \"linear\", \"zeroline\": false}, \"yaxis\": {\"autorange\": false, \"domain\": [0, 1], \"gridwidth\": 1, \"linewidth\": 2, \"mirror\": \"ticks\", \"nticks\": 0, \"range\": [-1.690250521920668, 6], \"separatethousands\": false, \"showline\": true, \"showspikes\": false, \"tickfont\": {\"family\": \"Arial\", \"size\": 20}, \"tickformat\": \"\", \"ticklen\": 5, \"ticks\": \"inside\", \"tickwidth\": 2, \"title\": {\"font\": {\"size\": 25}, \"text\": \"$\\\\Delta G_{\\\\text{X}} \\\\text{ (eV)}$\"}, \"type\": \"linear\", \"zeroline\": false}},                        {\"responsive\": true}                    ).then(function(){\n",
       "                            \n",
       "var gd = document.getElementById('e4536e33-fd6a-4811-8c2b-1be9755900a8');\n",
       "var x = new MutationObserver(function (mutations, observer) {{\n",
       "        var display = window.getComputedStyle(gd).display;\n",
       "        if (!display || display === 'none') {{\n",
       "            console.log([gd, 'removed!']);\n",
       "            Plotly.purge(gd);\n",
       "            observer.disconnect();\n",
       "        }}\n",
       "}});\n",
       "\n",
       "// Listen for the removal of the full notebook cells\n",
       "var notebookContainer = gd.closest('#notebook-container');\n",
       "if (notebookContainer) {{\n",
       "    x.observe(notebookContainer, {childList: true});\n",
       "}}\n",
       "\n",
       "// Listen for the clearing of the current output cell\n",
       "var outputEl = gd.closest('.output');\n",
       "if (outputEl) {{\n",
       "    x.observe(outputEl, {childList: true});\n",
       "}}\n",
       "\n",
       "                        })                };                });            </script>        </div>"
      ]
     },
     "metadata": {},
     "output_type": "display_data"
    }
   ],
   "source": [
    "fig = py.get_figure(\"https://plotly.com/~gwanyeong/22/\")\n",
    "fig.show()"
   ]
  },
  {
   "cell_type": "code",
   "execution_count": 68,
   "metadata": {},
   "outputs": [],
   "source": [
    "# Scaling relation\n",
    "model = LinearRegression()\n",
    "\n",
    "X = df_cleaned.DG_OH.values.reshape(-1,1)\n",
    "model.fit(X, df_cleaned.DG_OOH)\n",
    "\n",
    "x_range = np.linspace(X.min(), X.max(), 100)\n",
    "y1_range = model.predict(x_range.reshape(-1,1))\n",
    "coeff_OOH = model.coef_\n",
    "intercept_OOH = model.intercept_\n",
    "\n",
    "model.fit(X, df_cleaned.DG_O)\n",
    "y2_range = model.predict(x_range.reshape(-1,1))\n",
    "coeff_O = model.coef_\n",
    "intercept_O = model.intercept_\n",
    "\n",
    "\n",
    "model.fit(X, df_cleaned.DG_OH)\n",
    "y3_range = model.predict(x_range.reshape(-1,1))\n",
    "coeff_OH = model.coef_\n",
    "intercept_OH = model.intercept_"
   ]
  },
  {
   "cell_type": "code",
   "execution_count": 69,
   "metadata": {},
   "outputs": [
    {
     "data": {
      "application/vnd.plotly.v1+json": {
       "config": {
        "plotlyServerURL": "https://plot.ly"
       },
       "data": [
        {
         "marker": {
          "size": 15,
          "symbol": 18
         },
         "mode": "markers",
         "name": "OOH vs OH",
         "text": [
          "SrTcO3",
          "BaFeO3",
          "BaMoO3",
          "KTaO3",
          "BaZrO3",
          "SrFeO3",
          "KTcO3",
          "NaTcO3",
          "BaHfO3",
          "SrTiO3",
          "SrCuO3",
          "KNbO3",
          "NaTaO3",
          "BaScO3",
          "BaPdO3",
          "SrHfO3",
          "NaOsO3",
          "TlTcO3",
          "KReO3",
          "SrRuO3",
          "KHfO3",
          "SrVO3",
          "KOsO3",
          "TaAgO3",
          "SrNiO3",
          "RbIrO3",
          "NaReO3",
          "SrMnO3",
          "CaFeO3",
          "SrZrO3",
          "RbTaO3",
          "SrCoO3",
          "KZrO3",
          "CaTiO3",
          "NaRuO3",
          "LiTcO3",
          "SrPdO3",
          "KWO3",
          "KRhO3",
          "BaCuO3",
          "RbNbO3",
          "BaOsO3",
          "BaRuO3",
          "KRuO3",
          "SrMoO3",
          "NaTiO3",
          "SrScO3",
          "SrRhO3",
          "NaMoO3",
          "BaRhO3",
          "BaPtO3",
          "CaVO3",
          "KMoO3",
          "SrCrO3",
          "RbRhO3",
          "BaVO3",
          "CaCoO3",
          "CaMnO3",
          "KPtO3",
          "BaNiO3",
          "BaMnO3",
          "SrIrO3",
          "NaVO3",
          "NaFeO3",
          "BaIrO3",
          "RbReO3",
          "CaRuO3",
          "RbPdO3",
          "CaHfO3",
          "TlWO3",
          "RbPtO3"
         ],
         "type": "scatter",
         "x": [
          -0.782,
          2.024,
          -0.302,
          -1.001,
          1.29,
          2.026,
          0.04,
          -0.067,
          1.191,
          1.276,
          2.007,
          -0.217,
          -1.129,
          2.147,
          1.7,
          1.081,
          -0.354,
          -0.031,
          -0.733,
          0.26,
          1.946,
          -0.191,
          -0.464,
          -1.056,
          3.474,
          0.976,
          -0.831,
          2.548,
          1.927,
          1.151,
          -0.997,
          1.163,
          2.007,
          1.263,
          0.746,
          0.152,
          0.899,
          -1.124,
          1.568,
          1.821,
          -0.344,
          -1.484,
          0.446,
          0.83,
          -1.13,
          2.205,
          2.146,
          0.499,
          -0.415,
          1.086,
          1.101,
          -0.181,
          -0.558,
          0.646,
          1.29,
          -0.474,
          1.636,
          1.408,
          1.292,
          2.267,
          1.655,
          0.424,
          0.52,
          2.325,
          0.646,
          -0.678,
          -0.363,
          1.313,
          0.619,
          -1.407,
          1.034
         ],
         "y": [
          2.481,
          4.917,
          3.019,
          2.575,
          4.706,
          4.94,
          3.231,
          3.149,
          4.537,
          4.632,
          5.007,
          3.298,
          2.423,
          4.977,
          4.665,
          4.46,
          3.103,
          3.1,
          2.539,
          3.406,
          4.806,
          3.026,
          2.802,
          2.512,
          4.641,
          4.135,
          2.449,
          5.509,
          4.926,
          4.537,
          2.619,
          4.261,
          4.825,
          4.692,
          3.804,
          3.351,
          3.741,
          2.067,
          4.504,
          4.755,
          3.187,
          2.141,
          3.513,
          3.972,
          2.216,
          4.918,
          4.963,
          3.496,
          2.624,
          4.115,
          4.159,
          3.376,
          2.632,
          3.829,
          4.069,
          3.366,
          4.683,
          4.967,
          4.28,
          4.943,
          4.914,
          3.546,
          3.911,
          5.028,
          3.828,
          2.581,
          2.514,
          4.231,
          3.86,
          2.157,
          4.02
         ]
        },
        {
         "marker": {
          "color": "rgb(255,0,0)",
          "size": 15,
          "symbol": 30
         },
         "mode": "markers",
         "name": "O vs OH",
         "text": [
          "SrTcO3",
          "BaFeO3",
          "BaMoO3",
          "KTaO3",
          "BaZrO3",
          "SrFeO3",
          "KTcO3",
          "NaTcO3",
          "BaHfO3",
          "SrTiO3",
          "SrCuO3",
          "KNbO3",
          "NaTaO3",
          "BaScO3",
          "BaPdO3",
          "SrHfO3",
          "NaOsO3",
          "TlTcO3",
          "KReO3",
          "SrRuO3",
          "KHfO3",
          "SrVO3",
          "KOsO3",
          "TaAgO3",
          "SrNiO3",
          "RbIrO3",
          "NaReO3",
          "SrMnO3",
          "CaFeO3",
          "SrZrO3",
          "RbTaO3",
          "SrCoO3",
          "KZrO3",
          "CaTiO3",
          "NaRuO3",
          "LiTcO3",
          "SrPdO3",
          "KWO3",
          "KRhO3",
          "BaCuO3",
          "RbNbO3",
          "BaOsO3",
          "BaRuO3",
          "KRuO3",
          "SrMoO3",
          "NaTiO3",
          "SrScO3",
          "SrRhO3",
          "NaMoO3",
          "BaRhO3",
          "BaPtO3",
          "CaVO3",
          "KMoO3",
          "SrCrO3",
          "RbRhO3",
          "BaVO3",
          "CaCoO3",
          "CaMnO3",
          "KPtO3",
          "BaNiO3",
          "BaMnO3",
          "SrIrO3",
          "NaVO3",
          "NaFeO3",
          "BaIrO3",
          "RbReO3",
          "CaRuO3",
          "RbPdO3",
          "CaHfO3",
          "TlWO3",
          "RbPtO3"
         ],
         "type": "scatter",
         "x": [
          -0.782,
          2.024,
          -0.302,
          -1.001,
          1.29,
          2.026,
          0.04,
          -0.067,
          1.191,
          1.276,
          2.007,
          -0.217,
          -1.129,
          2.147,
          1.7,
          1.081,
          -0.354,
          -0.031,
          -0.733,
          0.26,
          1.946,
          -0.191,
          -0.464,
          -1.056,
          3.474,
          0.976,
          -0.831,
          2.548,
          1.927,
          1.151,
          -0.997,
          1.163,
          2.007,
          1.263,
          0.746,
          0.152,
          0.899,
          -1.124,
          1.568,
          1.821,
          -0.344,
          -1.484,
          0.446,
          0.83,
          -1.13,
          2.205,
          2.146,
          0.499,
          -0.415,
          1.086,
          1.101,
          -0.181,
          -0.558,
          0.646,
          1.29,
          -0.474,
          1.636,
          1.408,
          1.292,
          2.267,
          1.655,
          0.424,
          0.52,
          2.325,
          0.646,
          -0.678,
          -0.363,
          1.313,
          0.619,
          -1.407,
          1.034
         ],
         "y": [
          -0.707,
          4.452,
          -0.853,
          -0.614,
          4.143,
          4.606,
          0.446,
          0.301,
          4.023,
          3.889,
          4.23,
          0.465,
          -0.899,
          4.7,
          3.455,
          3.952,
          0.577,
          0.313,
          -0.544,
          0.96,
          4.407,
          0.516,
          0.699,
          -0.969,
          4.437,
          2.415,
          -0.697,
          4.648,
          4.277,
          4.034,
          -0.617,
          3.136,
          4.516,
          3.911,
          1.871,
          0.621,
          3.176,
          -1.2,
          3.321,
          3.95,
          0.282,
          -0.728,
          1.303,
          2.006,
          -1.375,
          4.568,
          4.677,
          2.151,
          -0.665,
          2.461,
          2.56,
          0.389,
          -0.412,
          2.046,
          3.2,
          0.504,
          3.425,
          4.289,
          2.948,
          4.41,
          2.943,
          1.673,
          1.743,
          4.625,
          1.989,
          -0.492,
          0.68,
          3.183,
          3.642,
          -0.904,
          2.727
         ]
        },
        {
         "marker": {
          "size": 15,
          "symbol": 0
         },
         "mode": "markers",
         "name": "OH vs OH",
         "text": [
          "SrTcO3",
          "BaFeO3",
          "BaMoO3",
          "KTaO3",
          "BaZrO3",
          "SrFeO3",
          "KTcO3",
          "NaTcO3",
          "BaHfO3",
          "SrTiO3",
          "SrCuO3",
          "KNbO3",
          "NaTaO3",
          "BaScO3",
          "BaPdO3",
          "SrHfO3",
          "NaOsO3",
          "TlTcO3",
          "KReO3",
          "SrRuO3",
          "KHfO3",
          "SrVO3",
          "KOsO3",
          "TaAgO3",
          "SrNiO3",
          "RbIrO3",
          "NaReO3",
          "SrMnO3",
          "CaFeO3",
          "SrZrO3",
          "RbTaO3",
          "SrCoO3",
          "KZrO3",
          "CaTiO3",
          "NaRuO3",
          "LiTcO3",
          "SrPdO3",
          "KWO3",
          "KRhO3",
          "BaCuO3",
          "RbNbO3",
          "BaOsO3",
          "BaRuO3",
          "KRuO3",
          "SrMoO3",
          "NaTiO3",
          "SrScO3",
          "SrRhO3",
          "NaMoO3",
          "BaRhO3",
          "BaPtO3",
          "CaVO3",
          "KMoO3",
          "SrCrO3",
          "RbRhO3",
          "BaVO3",
          "CaCoO3",
          "CaMnO3",
          "KPtO3",
          "BaNiO3",
          "BaMnO3",
          "SrIrO3",
          "NaVO3",
          "NaFeO3",
          "BaIrO3",
          "RbReO3",
          "CaRuO3",
          "RbPdO3",
          "CaHfO3",
          "TlWO3",
          "RbPtO3"
         ],
         "type": "scatter",
         "x": [
          -0.782,
          2.024,
          -0.302,
          -1.001,
          1.29,
          2.026,
          0.04,
          -0.067,
          1.191,
          1.276,
          2.007,
          -0.217,
          -1.129,
          2.147,
          1.7,
          1.081,
          -0.354,
          -0.031,
          -0.733,
          0.26,
          1.946,
          -0.191,
          -0.464,
          -1.056,
          3.474,
          0.976,
          -0.831,
          2.548,
          1.927,
          1.151,
          -0.997,
          1.163,
          2.007,
          1.263,
          0.746,
          0.152,
          0.899,
          -1.124,
          1.568,
          1.821,
          -0.344,
          -1.484,
          0.446,
          0.83,
          -1.13,
          2.205,
          2.146,
          0.499,
          -0.415,
          1.086,
          1.101,
          -0.181,
          -0.558,
          0.646,
          1.29,
          -0.474,
          1.636,
          1.408,
          1.292,
          2.267,
          1.655,
          0.424,
          0.52,
          2.325,
          0.646,
          -0.678,
          -0.363,
          1.313,
          0.619,
          -1.407,
          1.034
         ],
         "y": [
          -0.782,
          2.024,
          -0.302,
          -1.001,
          1.29,
          2.026,
          0.04,
          -0.067,
          1.191,
          1.276,
          2.007,
          -0.217,
          -1.129,
          2.147,
          1.7,
          1.081,
          -0.354,
          -0.031,
          -0.733,
          0.26,
          1.946,
          -0.191,
          -0.464,
          -1.056,
          3.474,
          0.976,
          -0.831,
          2.548,
          1.927,
          1.151,
          -0.997,
          1.163,
          2.007,
          1.263,
          0.746,
          0.152,
          0.899,
          -1.124,
          1.568,
          1.821,
          -0.344,
          -1.484,
          0.446,
          0.83,
          -1.13,
          2.205,
          2.146,
          0.499,
          -0.415,
          1.086,
          1.101,
          -0.181,
          -0.558,
          0.646,
          1.29,
          -0.474,
          1.636,
          1.408,
          1.292,
          2.267,
          1.655,
          0.424,
          0.52,
          2.325,
          0.646,
          -0.678,
          -0.363,
          1.313,
          0.619,
          -1.407,
          1.034
         ]
        },
        {
         "marker": {
          "color": "blue"
         },
         "mode": "lines",
         "name": "OOH_fit",
         "type": "scatter",
         "x": [
          -1.484,
          -1.4339191919191918,
          -1.3838383838383839,
          -1.3337575757575757,
          -1.2836767676767677,
          -1.2335959595959596,
          -1.1835151515151514,
          -1.1334343434343435,
          -1.0833535353535353,
          -1.0332727272727273,
          -0.9831919191919192,
          -0.9331111111111111,
          -0.883030303030303,
          -0.832949494949495,
          -0.7828686868686868,
          -0.7327878787878788,
          -0.6827070707070707,
          -0.6326262626262626,
          -0.5825454545454546,
          -0.5324646464646464,
          -0.48238383838383836,
          -0.4323030303030304,
          -0.38222222222222224,
          -0.33214141414141407,
          -0.2820606060606061,
          -0.23197979797979795,
          -0.18189898989899,
          -0.13181818181818183,
          -0.08173737373737366,
          -0.031656565656565716,
          0.018424242424242454,
          0.0685050505050504,
          0.11858585858585857,
          0.16866666666666674,
          0.2187474747474747,
          0.26882828282828286,
          0.3189090909090908,
          0.368989898989899,
          0.41907070707070715,
          0.4691515151515151,
          0.5192323232323233,
          0.5693131313131312,
          0.6193939393939392,
          0.6694747474747476,
          0.7195555555555555,
          0.7696363636363635,
          0.8197171717171718,
          0.8697979797979798,
          0.9198787878787877,
          0.9699595959595961,
          1.020040404040404,
          1.070121212121212,
          1.12020202020202,
          1.1702828282828284,
          1.2203636363636363,
          1.2704444444444443,
          1.3205252525252527,
          1.3706060606060606,
          1.4206868686868686,
          1.470767676767677,
          1.520848484848485,
          1.5709292929292928,
          1.6210101010101008,
          1.6710909090909092,
          1.7211717171717171,
          1.771252525252525,
          1.8213333333333335,
          1.8714141414141414,
          1.9214949494949494,
          1.9715757575757573,
          2.0216565656565657,
          2.0717373737373737,
          2.1218181818181816,
          2.17189898989899,
          2.221979797979798,
          2.272060606060606,
          2.3221414141414143,
          2.3722222222222222,
          2.42230303030303,
          2.472383838383838,
          2.5224646464646465,
          2.5725454545454545,
          2.6226262626262624,
          2.6727070707070704,
          2.7227878787878783,
          2.772868686868687,
          2.822949494949495,
          2.873030303030303,
          2.923111111111111,
          2.973191919191919,
          3.023272727272727,
          3.0733535353535357,
          3.1234343434343437,
          3.1735151515151516,
          3.2235959595959596,
          3.2736767676767675,
          3.3237575757575755,
          3.3738383838383834,
          3.4239191919191923,
          3.474
         ],
         "y": [
          2.109224421192491,
          2.1487964403812594,
          2.188368459570028,
          2.2279404787587964,
          2.267512497947565,
          2.3070845171363334,
          2.346656536325102,
          2.38622855551387,
          2.4258005747026385,
          2.465372593891407,
          2.5049446130801756,
          2.544516632268944,
          2.5840886514577126,
          2.6236606706464807,
          2.663232689835249,
          2.7028047090240177,
          2.742376728212786,
          2.7819487474015547,
          2.8215207665903232,
          2.8610927857790918,
          2.9006648049678603,
          2.940236824156629,
          2.9798088433453973,
          3.019380862534166,
          3.058952881722934,
          3.0985249009117024,
          3.138096920100471,
          3.1776689392892394,
          3.217240958478008,
          3.2568129776667765,
          3.296384996855545,
          3.335957016044313,
          3.3755290352330816,
          3.41510105442185,
          3.4546730736106186,
          3.494245092799387,
          3.5338171119881556,
          3.573389131176924,
          3.6129611503656927,
          3.652533169554461,
          3.6921051887432297,
          3.7316772079319978,
          3.7712492271207663,
          3.810821246309535,
          3.8503932654983033,
          3.8899652846870714,
          3.9295373038758403,
          3.969109323064609,
          4.008681342253377,
          4.048253361442145,
          4.087825380630914,
          4.1273973998196825,
          4.166969419008451,
          4.2065414381972195,
          4.246113457385988,
          4.2856854765747565,
          4.325257495763525,
          4.3648295149522935,
          4.404401534141062,
          4.443973553329831,
          4.483545572518599,
          4.523117591707367,
          4.562689610896135,
          4.602261630084904,
          4.641833649273672,
          4.681405668462441,
          4.720977687651209,
          4.760549706839978,
          4.800121726028746,
          4.839693745217515,
          4.879265764406283,
          4.918837783595052,
          4.95840980278382,
          4.997981821972589,
          5.037553841161357,
          5.077125860350126,
          5.116697879538894,
          5.156269898727663,
          5.195841917916431,
          5.235413937105199,
          5.274985956293968,
          5.314557975482737,
          5.354129994671505,
          5.393702013860273,
          5.433274033049042,
          5.472846052237811,
          5.512418071426579,
          5.551990090615347,
          5.591562109804116,
          5.631134128992883,
          5.670706148181653,
          5.710278167370421,
          5.74985018655919,
          5.789422205747958,
          5.828994224936727,
          5.868566244125494,
          5.908138263314263,
          5.9477102825030315,
          5.987282301691801,
          6.0268543208805685
         ]
        },
        {
         "marker": {
          "color": "red"
         },
         "mode": "lines",
         "name": "O_fit",
         "type": "scatter",
         "x": [
          -1.484,
          -1.4339191919191918,
          -1.3838383838383839,
          -1.3337575757575757,
          -1.2836767676767677,
          -1.2335959595959596,
          -1.1835151515151514,
          -1.1334343434343435,
          -1.0833535353535353,
          -1.0332727272727273,
          -0.9831919191919192,
          -0.9331111111111111,
          -0.883030303030303,
          -0.832949494949495,
          -0.7828686868686868,
          -0.7327878787878788,
          -0.6827070707070707,
          -0.6326262626262626,
          -0.5825454545454546,
          -0.5324646464646464,
          -0.48238383838383836,
          -0.4323030303030304,
          -0.38222222222222224,
          -0.33214141414141407,
          -0.2820606060606061,
          -0.23197979797979795,
          -0.18189898989899,
          -0.13181818181818183,
          -0.08173737373737366,
          -0.031656565656565716,
          0.018424242424242454,
          0.0685050505050504,
          0.11858585858585857,
          0.16866666666666674,
          0.2187474747474747,
          0.26882828282828286,
          0.3189090909090908,
          0.368989898989899,
          0.41907070707070715,
          0.4691515151515151,
          0.5192323232323233,
          0.5693131313131312,
          0.6193939393939392,
          0.6694747474747476,
          0.7195555555555555,
          0.7696363636363635,
          0.8197171717171718,
          0.8697979797979798,
          0.9198787878787877,
          0.9699595959595961,
          1.020040404040404,
          1.070121212121212,
          1.12020202020202,
          1.1702828282828284,
          1.2203636363636363,
          1.2704444444444443,
          1.3205252525252527,
          1.3706060606060606,
          1.4206868686868686,
          1.470767676767677,
          1.520848484848485,
          1.5709292929292928,
          1.6210101010101008,
          1.6710909090909092,
          1.7211717171717171,
          1.771252525252525,
          1.8213333333333335,
          1.8714141414141414,
          1.9214949494949494,
          1.9715757575757573,
          2.0216565656565657,
          2.0717373737373737,
          2.1218181818181816,
          2.17189898989899,
          2.221979797979798,
          2.272060606060606,
          2.3221414141414143,
          2.3722222222222222,
          2.42230303030303,
          2.472383838383838,
          2.5224646464646465,
          2.5725454545454545,
          2.6226262626262624,
          2.6727070707070704,
          2.7227878787878783,
          2.772868686868687,
          2.822949494949495,
          2.873030303030303,
          2.923111111111111,
          2.973191919191919,
          3.023272727272727,
          3.0733535353535357,
          3.1234343434343437,
          3.1735151515151516,
          3.2235959595959596,
          3.2736767676767675,
          3.3237575757575755,
          3.3738383838383834,
          3.4239191919191923,
          3.474
         ],
         "y": [
          -1.509756588737491,
          -1.4267797935590827,
          -1.3438029983806743,
          -1.2608262032022655,
          -1.177849408023857,
          -1.0948726128454487,
          -1.0118958176670398,
          -0.9289190224886315,
          -0.8459422273102228,
          -0.7629654321318144,
          -0.6799886369534056,
          -0.5970118417749972,
          -0.5140350465965886,
          -0.4310582514181802,
          -0.3480814562397714,
          -0.265104661061363,
          -0.18212786588295438,
          -0.09915107070454598,
          -0.01617427552613737,
          0.06680251965227135,
          0.14977931483067985,
          0.23275611000908814,
          0.31573290518749686,
          0.3987097003659056,
          0.4816864955443139,
          0.5646632907227227,
          0.647640085901131,
          0.7306168810795397,
          0.8135936762579483,
          0.8965704714363567,
          0.9795472666147654,
          1.0625240617931737,
          1.1455008569715823,
          1.2284776521499912,
          1.3114544473283996,
          1.3944312425068082,
          1.4774080376852166,
          1.5603848328636252,
          1.643361628042034,
          1.7263384232204424,
          1.8093152183988508,
          1.8922920135772592,
          1.9752688087556676,
          2.0582456039340764,
          2.1412223991124852,
          2.224199194290893,
          2.3071759894693025,
          2.390152784647711,
          2.473129579826119,
          2.556106375004528,
          2.6390831701829365,
          2.722059965361345,
          2.8050367605397533,
          2.888013555718162,
          2.9709903508965705,
          3.053967146074979,
          3.136943941253388,
          3.219920736431796,
          3.3028975316102045,
          3.3858743267886138,
          3.468851121967022,
          3.5518279171454306,
          3.634804712323839,
          3.717781507502248,
          3.800758302680656,
          3.8837350978590646,
          3.9667118930374734,
          4.049688688215882,
          4.13266548339429,
          4.215642278572698,
          4.298619073751107,
          4.381595868929516,
          4.464572664107925,
          4.5475494592863335,
          4.630526254464742,
          4.713503049643149,
          4.796479844821559,
          4.879456639999967,
          4.962433435178376,
          5.045410230356784,
          5.1283870255351935,
          5.2113638207136015,
          5.294340615892009,
          5.377317411070418,
          5.460294206248826,
          5.543271001427236,
          5.626247796605645,
          5.709224591784053,
          5.792201386962462,
          5.8751781821408695,
          5.958154977319278,
          6.041131772497688,
          6.124108567676096,
          6.207085362854505,
          6.290062158032913,
          6.373038953211321,
          6.45601574838973,
          6.5389925435681375,
          6.621969338746547,
          6.704946133924956
         ]
        },
        {
         "marker": {
          "color": "green"
         },
         "mode": "lines",
         "name": "OH_fit",
         "type": "scatter",
         "x": [
          -1.484,
          -1.4339191919191918,
          -1.3838383838383839,
          -1.3337575757575757,
          -1.2836767676767677,
          -1.2335959595959596,
          -1.1835151515151514,
          -1.1334343434343435,
          -1.0833535353535353,
          -1.0332727272727273,
          -0.9831919191919192,
          -0.9331111111111111,
          -0.883030303030303,
          -0.832949494949495,
          -0.7828686868686868,
          -0.7327878787878788,
          -0.6827070707070707,
          -0.6326262626262626,
          -0.5825454545454546,
          -0.5324646464646464,
          -0.48238383838383836,
          -0.4323030303030304,
          -0.38222222222222224,
          -0.33214141414141407,
          -0.2820606060606061,
          -0.23197979797979795,
          -0.18189898989899,
          -0.13181818181818183,
          -0.08173737373737366,
          -0.031656565656565716,
          0.018424242424242454,
          0.0685050505050504,
          0.11858585858585857,
          0.16866666666666674,
          0.2187474747474747,
          0.26882828282828286,
          0.3189090909090908,
          0.368989898989899,
          0.41907070707070715,
          0.4691515151515151,
          0.5192323232323233,
          0.5693131313131312,
          0.6193939393939392,
          0.6694747474747476,
          0.7195555555555555,
          0.7696363636363635,
          0.8197171717171718,
          0.8697979797979798,
          0.9198787878787877,
          0.9699595959595961,
          1.020040404040404,
          1.070121212121212,
          1.12020202020202,
          1.1702828282828284,
          1.2203636363636363,
          1.2704444444444443,
          1.3205252525252527,
          1.3706060606060606,
          1.4206868686868686,
          1.470767676767677,
          1.520848484848485,
          1.5709292929292928,
          1.6210101010101008,
          1.6710909090909092,
          1.7211717171717171,
          1.771252525252525,
          1.8213333333333335,
          1.8714141414141414,
          1.9214949494949494,
          1.9715757575757573,
          2.0216565656565657,
          2.0717373737373737,
          2.1218181818181816,
          2.17189898989899,
          2.221979797979798,
          2.272060606060606,
          2.3221414141414143,
          2.3722222222222222,
          2.42230303030303,
          2.472383838383838,
          2.5224646464646465,
          2.5725454545454545,
          2.6226262626262624,
          2.6727070707070704,
          2.7227878787878783,
          2.772868686868687,
          2.822949494949495,
          2.873030303030303,
          2.923111111111111,
          2.973191919191919,
          3.023272727272727,
          3.0733535353535357,
          3.1234343434343437,
          3.1735151515151516,
          3.2235959595959596,
          3.2736767676767675,
          3.3237575757575755,
          3.3738383838383834,
          3.4239191919191923,
          3.474
         ],
         "y": [
          -1.4840000000000004,
          -1.433919191919192,
          -1.383838383838384,
          -1.3337575757575761,
          -1.2836767676767682,
          -1.2335959595959598,
          -1.1835151515151519,
          -1.133434343434344,
          -1.0833535353535355,
          -1.0332727272727276,
          -0.9831919191919195,
          -0.9331111111111114,
          -0.8830303030303034,
          -0.8329494949494953,
          -0.7828686868686872,
          -0.732787878787879,
          -0.6827070707070709,
          -0.6326262626262629,
          -0.5825454545454548,
          -0.5324646464646466,
          -0.4823838383838386,
          -0.43230303030303063,
          -0.38222222222222246,
          -0.33214141414141424,
          -0.2820606060606063,
          -0.23197979797979812,
          -0.18189898989899014,
          -0.13181818181818197,
          -0.08173737373737379,
          -0.031656565656565834,
          0.018424242424242347,
          0.0685050505050503,
          0.11858585858585849,
          0.16866666666666666,
          0.21874747474747464,
          0.2688282828282828,
          0.31890909090909075,
          0.3689898989898989,
          0.41907070707070715,
          0.4691515151515151,
          0.5192323232323233,
          0.5693131313131312,
          0.6193939393939392,
          0.6694747474747476,
          0.7195555555555555,
          0.7696363636363636,
          0.819717171717172,
          0.8697979797979799,
          0.9198787878787879,
          0.9699595959595962,
          1.020040404040404,
          1.070121212121212,
          1.12020202020202,
          1.1702828282828284,
          1.2203636363636363,
          1.2704444444444443,
          1.3205252525252527,
          1.3706060606060606,
          1.4206868686868686,
          1.470767676767677,
          1.5208484848484853,
          1.5709292929292933,
          1.6210101010101012,
          1.6710909090909096,
          1.7211717171717176,
          1.7712525252525255,
          1.821333333333334,
          1.8714141414141419,
          1.9214949494949498,
          1.9715757575757578,
          2.021656565656566,
          2.071737373737374,
          2.121818181818182,
          2.1718989898989904,
          2.2219797979797984,
          2.2720606060606063,
          2.3221414141414147,
          2.3722222222222227,
          2.4223030303030306,
          2.4723838383838386,
          2.522464646464647,
          2.572545454545455,
          2.622626262626263,
          2.672707070707071,
          2.7227878787878788,
          2.7728686868686876,
          2.8229494949494955,
          2.8730303030303035,
          2.9231111111111114,
          2.9731919191919194,
          3.0232727272727278,
          3.0733535353535366,
          3.1234343434343446,
          3.1735151515151525,
          3.2235959595959605,
          3.2736767676767684,
          3.3237575757575764,
          3.3738383838383843,
          3.423919191919193,
          3.474000000000001
         ]
        }
       ],
       "layout": {
        "annotations": [
         {
          "font": {
           "color": "blue",
           "size": 20
          },
          "text": "$\\Delta G_{\\text{OOH}} = \\text{0.790} \\Delta G_{\\text{OH}} + \\text{3.282}$",
          "x": 2,
          "xshift": 50,
          "y": 1,
          "yshift": -80
         },
         {
          "font": {
           "color": "red",
           "size": 20
          },
          "text": "$\\Delta G_{\\text{O}} = \\text{1.657} \\Delta G_{\\text{OH}} + \\text{0.949}$",
          "x": 2,
          "xshift": 50,
          "y": 0.5,
          "yshift": -90
         },
         {
          "font": {
           "color": "green",
           "size": 20
          },
          "text": "$\\Delta G_{\\text{OH}} = \\text{1.000} \\Delta G_{\\text{OH}} + \\text{-0.000}$",
          "x": 2,
          "xshift": 50,
          "y": 0,
          "yshift": -100
         }
        ],
        "height": 600,
        "template": {
         "data": {
          "bar": [
           {
            "error_x": {
             "color": "rgb(36,36,36)"
            },
            "error_y": {
             "color": "rgb(36,36,36)"
            },
            "marker": {
             "line": {
              "color": "rgb(234,234,242)",
              "width": 0.5
             }
            },
            "type": "bar"
           }
          ],
          "barpolar": [
           {
            "marker": {
             "line": {
              "color": "rgb(234,234,242)",
              "width": 0.5
             }
            },
            "type": "barpolar"
           }
          ],
          "carpet": [
           {
            "aaxis": {
             "endlinecolor": "rgb(36,36,36)",
             "gridcolor": "white",
             "linecolor": "white",
             "minorgridcolor": "white",
             "startlinecolor": "rgb(36,36,36)"
            },
            "baxis": {
             "endlinecolor": "rgb(36,36,36)",
             "gridcolor": "white",
             "linecolor": "white",
             "minorgridcolor": "white",
             "startlinecolor": "rgb(36,36,36)"
            },
            "type": "carpet"
           }
          ],
          "choropleth": [
           {
            "colorbar": {
             "outlinewidth": 0,
             "tickcolor": "rgb(36,36,36)",
             "ticklen": 8,
             "ticks": "outside",
             "tickwidth": 2
            },
            "type": "choropleth"
           }
          ],
          "contour": [
           {
            "colorbar": {
             "outlinewidth": 0,
             "tickcolor": "rgb(36,36,36)",
             "ticklen": 8,
             "ticks": "outside",
             "tickwidth": 2
            },
            "colorscale": [
             [
              0,
              "rgb(2,4,25)"
             ],
             [
              0.06274509803921569,
              "rgb(24,15,41)"
             ],
             [
              0.12549019607843137,
              "rgb(47,23,57)"
             ],
             [
              0.18823529411764706,
              "rgb(71,28,72)"
             ],
             [
              0.25098039215686274,
              "rgb(97,30,82)"
             ],
             [
              0.3137254901960784,
              "rgb(123,30,89)"
             ],
             [
              0.3764705882352941,
              "rgb(150,27,91)"
             ],
             [
              0.4392156862745098,
              "rgb(177,22,88)"
             ],
             [
              0.5019607843137255,
              "rgb(203,26,79)"
             ],
             [
              0.5647058823529412,
              "rgb(223,47,67)"
             ],
             [
              0.6274509803921569,
              "rgb(236,76,61)"
             ],
             [
              0.6901960784313725,
              "rgb(242,107,73)"
             ],
             [
              0.7529411764705882,
              "rgb(244,135,95)"
             ],
             [
              0.8156862745098039,
              "rgb(245,162,122)"
             ],
             [
              0.8784313725490196,
              "rgb(246,188,153)"
             ],
             [
              0.9411764705882353,
              "rgb(247,212,187)"
             ],
             [
              1,
              "rgb(250,234,220)"
             ]
            ],
            "type": "contour"
           }
          ],
          "contourcarpet": [
           {
            "colorbar": {
             "outlinewidth": 0,
             "tickcolor": "rgb(36,36,36)",
             "ticklen": 8,
             "ticks": "outside",
             "tickwidth": 2
            },
            "type": "contourcarpet"
           }
          ],
          "heatmap": [
           {
            "colorbar": {
             "outlinewidth": 0,
             "tickcolor": "rgb(36,36,36)",
             "ticklen": 8,
             "ticks": "outside",
             "tickwidth": 2
            },
            "colorscale": [
             [
              0,
              "rgb(2,4,25)"
             ],
             [
              0.06274509803921569,
              "rgb(24,15,41)"
             ],
             [
              0.12549019607843137,
              "rgb(47,23,57)"
             ],
             [
              0.18823529411764706,
              "rgb(71,28,72)"
             ],
             [
              0.25098039215686274,
              "rgb(97,30,82)"
             ],
             [
              0.3137254901960784,
              "rgb(123,30,89)"
             ],
             [
              0.3764705882352941,
              "rgb(150,27,91)"
             ],
             [
              0.4392156862745098,
              "rgb(177,22,88)"
             ],
             [
              0.5019607843137255,
              "rgb(203,26,79)"
             ],
             [
              0.5647058823529412,
              "rgb(223,47,67)"
             ],
             [
              0.6274509803921569,
              "rgb(236,76,61)"
             ],
             [
              0.6901960784313725,
              "rgb(242,107,73)"
             ],
             [
              0.7529411764705882,
              "rgb(244,135,95)"
             ],
             [
              0.8156862745098039,
              "rgb(245,162,122)"
             ],
             [
              0.8784313725490196,
              "rgb(246,188,153)"
             ],
             [
              0.9411764705882353,
              "rgb(247,212,187)"
             ],
             [
              1,
              "rgb(250,234,220)"
             ]
            ],
            "type": "heatmap"
           }
          ],
          "heatmapgl": [
           {
            "colorbar": {
             "outlinewidth": 0,
             "tickcolor": "rgb(36,36,36)",
             "ticklen": 8,
             "ticks": "outside",
             "tickwidth": 2
            },
            "colorscale": [
             [
              0,
              "rgb(2,4,25)"
             ],
             [
              0.06274509803921569,
              "rgb(24,15,41)"
             ],
             [
              0.12549019607843137,
              "rgb(47,23,57)"
             ],
             [
              0.18823529411764706,
              "rgb(71,28,72)"
             ],
             [
              0.25098039215686274,
              "rgb(97,30,82)"
             ],
             [
              0.3137254901960784,
              "rgb(123,30,89)"
             ],
             [
              0.3764705882352941,
              "rgb(150,27,91)"
             ],
             [
              0.4392156862745098,
              "rgb(177,22,88)"
             ],
             [
              0.5019607843137255,
              "rgb(203,26,79)"
             ],
             [
              0.5647058823529412,
              "rgb(223,47,67)"
             ],
             [
              0.6274509803921569,
              "rgb(236,76,61)"
             ],
             [
              0.6901960784313725,
              "rgb(242,107,73)"
             ],
             [
              0.7529411764705882,
              "rgb(244,135,95)"
             ],
             [
              0.8156862745098039,
              "rgb(245,162,122)"
             ],
             [
              0.8784313725490196,
              "rgb(246,188,153)"
             ],
             [
              0.9411764705882353,
              "rgb(247,212,187)"
             ],
             [
              1,
              "rgb(250,234,220)"
             ]
            ],
            "type": "heatmapgl"
           }
          ],
          "histogram": [
           {
            "marker": {
             "colorbar": {
              "outlinewidth": 0,
              "tickcolor": "rgb(36,36,36)",
              "ticklen": 8,
              "ticks": "outside",
              "tickwidth": 2
             }
            },
            "type": "histogram"
           }
          ],
          "histogram2d": [
           {
            "colorbar": {
             "outlinewidth": 0,
             "tickcolor": "rgb(36,36,36)",
             "ticklen": 8,
             "ticks": "outside",
             "tickwidth": 2
            },
            "colorscale": [
             [
              0,
              "rgb(2,4,25)"
             ],
             [
              0.06274509803921569,
              "rgb(24,15,41)"
             ],
             [
              0.12549019607843137,
              "rgb(47,23,57)"
             ],
             [
              0.18823529411764706,
              "rgb(71,28,72)"
             ],
             [
              0.25098039215686274,
              "rgb(97,30,82)"
             ],
             [
              0.3137254901960784,
              "rgb(123,30,89)"
             ],
             [
              0.3764705882352941,
              "rgb(150,27,91)"
             ],
             [
              0.4392156862745098,
              "rgb(177,22,88)"
             ],
             [
              0.5019607843137255,
              "rgb(203,26,79)"
             ],
             [
              0.5647058823529412,
              "rgb(223,47,67)"
             ],
             [
              0.6274509803921569,
              "rgb(236,76,61)"
             ],
             [
              0.6901960784313725,
              "rgb(242,107,73)"
             ],
             [
              0.7529411764705882,
              "rgb(244,135,95)"
             ],
             [
              0.8156862745098039,
              "rgb(245,162,122)"
             ],
             [
              0.8784313725490196,
              "rgb(246,188,153)"
             ],
             [
              0.9411764705882353,
              "rgb(247,212,187)"
             ],
             [
              1,
              "rgb(250,234,220)"
             ]
            ],
            "type": "histogram2d"
           }
          ],
          "histogram2dcontour": [
           {
            "colorbar": {
             "outlinewidth": 0,
             "tickcolor": "rgb(36,36,36)",
             "ticklen": 8,
             "ticks": "outside",
             "tickwidth": 2
            },
            "colorscale": [
             [
              0,
              "rgb(2,4,25)"
             ],
             [
              0.06274509803921569,
              "rgb(24,15,41)"
             ],
             [
              0.12549019607843137,
              "rgb(47,23,57)"
             ],
             [
              0.18823529411764706,
              "rgb(71,28,72)"
             ],
             [
              0.25098039215686274,
              "rgb(97,30,82)"
             ],
             [
              0.3137254901960784,
              "rgb(123,30,89)"
             ],
             [
              0.3764705882352941,
              "rgb(150,27,91)"
             ],
             [
              0.4392156862745098,
              "rgb(177,22,88)"
             ],
             [
              0.5019607843137255,
              "rgb(203,26,79)"
             ],
             [
              0.5647058823529412,
              "rgb(223,47,67)"
             ],
             [
              0.6274509803921569,
              "rgb(236,76,61)"
             ],
             [
              0.6901960784313725,
              "rgb(242,107,73)"
             ],
             [
              0.7529411764705882,
              "rgb(244,135,95)"
             ],
             [
              0.8156862745098039,
              "rgb(245,162,122)"
             ],
             [
              0.8784313725490196,
              "rgb(246,188,153)"
             ],
             [
              0.9411764705882353,
              "rgb(247,212,187)"
             ],
             [
              1,
              "rgb(250,234,220)"
             ]
            ],
            "type": "histogram2dcontour"
           }
          ],
          "mesh3d": [
           {
            "colorbar": {
             "outlinewidth": 0,
             "tickcolor": "rgb(36,36,36)",
             "ticklen": 8,
             "ticks": "outside",
             "tickwidth": 2
            },
            "type": "mesh3d"
           }
          ],
          "parcoords": [
           {
            "line": {
             "colorbar": {
              "outlinewidth": 0,
              "tickcolor": "rgb(36,36,36)",
              "ticklen": 8,
              "ticks": "outside",
              "tickwidth": 2
             }
            },
            "type": "parcoords"
           }
          ],
          "pie": [
           {
            "automargin": true,
            "type": "pie"
           }
          ],
          "scatter": [
           {
            "marker": {
             "colorbar": {
              "outlinewidth": 0,
              "tickcolor": "rgb(36,36,36)",
              "ticklen": 8,
              "ticks": "outside",
              "tickwidth": 2
             }
            },
            "type": "scatter"
           }
          ],
          "scatter3d": [
           {
            "line": {
             "colorbar": {
              "outlinewidth": 0,
              "tickcolor": "rgb(36,36,36)",
              "ticklen": 8,
              "ticks": "outside",
              "tickwidth": 2
             }
            },
            "marker": {
             "colorbar": {
              "outlinewidth": 0,
              "tickcolor": "rgb(36,36,36)",
              "ticklen": 8,
              "ticks": "outside",
              "tickwidth": 2
             }
            },
            "type": "scatter3d"
           }
          ],
          "scattercarpet": [
           {
            "marker": {
             "colorbar": {
              "outlinewidth": 0,
              "tickcolor": "rgb(36,36,36)",
              "ticklen": 8,
              "ticks": "outside",
              "tickwidth": 2
             }
            },
            "type": "scattercarpet"
           }
          ],
          "scattergeo": [
           {
            "marker": {
             "colorbar": {
              "outlinewidth": 0,
              "tickcolor": "rgb(36,36,36)",
              "ticklen": 8,
              "ticks": "outside",
              "tickwidth": 2
             }
            },
            "type": "scattergeo"
           }
          ],
          "scattergl": [
           {
            "marker": {
             "colorbar": {
              "outlinewidth": 0,
              "tickcolor": "rgb(36,36,36)",
              "ticklen": 8,
              "ticks": "outside",
              "tickwidth": 2
             }
            },
            "type": "scattergl"
           }
          ],
          "scattermapbox": [
           {
            "marker": {
             "colorbar": {
              "outlinewidth": 0,
              "tickcolor": "rgb(36,36,36)",
              "ticklen": 8,
              "ticks": "outside",
              "tickwidth": 2
             }
            },
            "type": "scattermapbox"
           }
          ],
          "scatterpolar": [
           {
            "marker": {
             "colorbar": {
              "outlinewidth": 0,
              "tickcolor": "rgb(36,36,36)",
              "ticklen": 8,
              "ticks": "outside",
              "tickwidth": 2
             }
            },
            "type": "scatterpolar"
           }
          ],
          "scatterpolargl": [
           {
            "marker": {
             "colorbar": {
              "outlinewidth": 0,
              "tickcolor": "rgb(36,36,36)",
              "ticklen": 8,
              "ticks": "outside",
              "tickwidth": 2
             }
            },
            "type": "scatterpolargl"
           }
          ],
          "scatterternary": [
           {
            "marker": {
             "colorbar": {
              "outlinewidth": 0,
              "tickcolor": "rgb(36,36,36)",
              "ticklen": 8,
              "ticks": "outside",
              "tickwidth": 2
             }
            },
            "type": "scatterternary"
           }
          ],
          "surface": [
           {
            "colorbar": {
             "outlinewidth": 0,
             "tickcolor": "rgb(36,36,36)",
             "ticklen": 8,
             "ticks": "outside",
             "tickwidth": 2
            },
            "colorscale": [
             [
              0,
              "rgb(2,4,25)"
             ],
             [
              0.06274509803921569,
              "rgb(24,15,41)"
             ],
             [
              0.12549019607843137,
              "rgb(47,23,57)"
             ],
             [
              0.18823529411764706,
              "rgb(71,28,72)"
             ],
             [
              0.25098039215686274,
              "rgb(97,30,82)"
             ],
             [
              0.3137254901960784,
              "rgb(123,30,89)"
             ],
             [
              0.3764705882352941,
              "rgb(150,27,91)"
             ],
             [
              0.4392156862745098,
              "rgb(177,22,88)"
             ],
             [
              0.5019607843137255,
              "rgb(203,26,79)"
             ],
             [
              0.5647058823529412,
              "rgb(223,47,67)"
             ],
             [
              0.6274509803921569,
              "rgb(236,76,61)"
             ],
             [
              0.6901960784313725,
              "rgb(242,107,73)"
             ],
             [
              0.7529411764705882,
              "rgb(244,135,95)"
             ],
             [
              0.8156862745098039,
              "rgb(245,162,122)"
             ],
             [
              0.8784313725490196,
              "rgb(246,188,153)"
             ],
             [
              0.9411764705882353,
              "rgb(247,212,187)"
             ],
             [
              1,
              "rgb(250,234,220)"
             ]
            ],
            "type": "surface"
           }
          ],
          "table": [
           {
            "cells": {
             "fill": {
              "color": "rgb(231,231,240)"
             },
             "line": {
              "color": "white"
             }
            },
            "header": {
             "fill": {
              "color": "rgb(183,183,191)"
             },
             "line": {
              "color": "white"
             }
            },
            "type": "table"
           }
          ]
         },
         "layout": {
          "annotationdefaults": {
           "arrowcolor": "rgb(67,103,167)"
          },
          "coloraxis": {
           "colorbar": {
            "outlinewidth": 0,
            "tickcolor": "rgb(36,36,36)",
            "ticklen": 8,
            "ticks": "outside",
            "tickwidth": 2
           }
          },
          "colorscale": {
           "sequential": [
            [
             0,
             "rgb(2,4,25)"
            ],
            [
             0.06274509803921569,
             "rgb(24,15,41)"
            ],
            [
             0.12549019607843137,
             "rgb(47,23,57)"
            ],
            [
             0.18823529411764706,
             "rgb(71,28,72)"
            ],
            [
             0.25098039215686274,
             "rgb(97,30,82)"
            ],
            [
             0.3137254901960784,
             "rgb(123,30,89)"
            ],
            [
             0.3764705882352941,
             "rgb(150,27,91)"
            ],
            [
             0.4392156862745098,
             "rgb(177,22,88)"
            ],
            [
             0.5019607843137255,
             "rgb(203,26,79)"
            ],
            [
             0.5647058823529412,
             "rgb(223,47,67)"
            ],
            [
             0.6274509803921569,
             "rgb(236,76,61)"
            ],
            [
             0.6901960784313725,
             "rgb(242,107,73)"
            ],
            [
             0.7529411764705882,
             "rgb(244,135,95)"
            ],
            [
             0.8156862745098039,
             "rgb(245,162,122)"
            ],
            [
             0.8784313725490196,
             "rgb(246,188,153)"
            ],
            [
             0.9411764705882353,
             "rgb(247,212,187)"
            ],
            [
             1,
             "rgb(250,234,220)"
            ]
           ],
           "sequentialminus": [
            [
             0,
             "rgb(2,4,25)"
            ],
            [
             0.06274509803921569,
             "rgb(24,15,41)"
            ],
            [
             0.12549019607843137,
             "rgb(47,23,57)"
            ],
            [
             0.18823529411764706,
             "rgb(71,28,72)"
            ],
            [
             0.25098039215686274,
             "rgb(97,30,82)"
            ],
            [
             0.3137254901960784,
             "rgb(123,30,89)"
            ],
            [
             0.3764705882352941,
             "rgb(150,27,91)"
            ],
            [
             0.4392156862745098,
             "rgb(177,22,88)"
            ],
            [
             0.5019607843137255,
             "rgb(203,26,79)"
            ],
            [
             0.5647058823529412,
             "rgb(223,47,67)"
            ],
            [
             0.6274509803921569,
             "rgb(236,76,61)"
            ],
            [
             0.6901960784313725,
             "rgb(242,107,73)"
            ],
            [
             0.7529411764705882,
             "rgb(244,135,95)"
            ],
            [
             0.8156862745098039,
             "rgb(245,162,122)"
            ],
            [
             0.8784313725490196,
             "rgb(246,188,153)"
            ],
            [
             0.9411764705882353,
             "rgb(247,212,187)"
            ],
            [
             1,
             "rgb(250,234,220)"
            ]
           ]
          },
          "colorway": [
           "rgb(76,114,176)",
           "rgb(221,132,82)",
           "rgb(85,168,104)",
           "rgb(196,78,82)",
           "rgb(129,114,179)",
           "rgb(147,120,96)",
           "rgb(218,139,195)",
           "rgb(140,140,140)",
           "rgb(204,185,116)",
           "rgb(100,181,205)"
          ],
          "font": {
           "color": "rgb(36,36,36)"
          },
          "geo": {
           "bgcolor": "white",
           "lakecolor": "white",
           "landcolor": "rgb(234,234,242)",
           "showlakes": true,
           "showland": true,
           "subunitcolor": "white"
          },
          "hoverlabel": {
           "align": "left"
          },
          "hovermode": "closest",
          "paper_bgcolor": "white",
          "plot_bgcolor": "rgb(234,234,242)",
          "polar": {
           "angularaxis": {
            "gridcolor": "white",
            "linecolor": "white",
            "showgrid": true,
            "ticks": ""
           },
           "bgcolor": "rgb(234,234,242)",
           "radialaxis": {
            "gridcolor": "white",
            "linecolor": "white",
            "showgrid": true,
            "ticks": ""
           }
          },
          "scene": {
           "xaxis": {
            "backgroundcolor": "rgb(234,234,242)",
            "gridcolor": "white",
            "gridwidth": 2,
            "linecolor": "white",
            "showbackground": true,
            "showgrid": true,
            "ticks": "",
            "zerolinecolor": "white"
           },
           "yaxis": {
            "backgroundcolor": "rgb(234,234,242)",
            "gridcolor": "white",
            "gridwidth": 2,
            "linecolor": "white",
            "showbackground": true,
            "showgrid": true,
            "ticks": "",
            "zerolinecolor": "white"
           },
           "zaxis": {
            "backgroundcolor": "rgb(234,234,242)",
            "gridcolor": "white",
            "gridwidth": 2,
            "linecolor": "white",
            "showbackground": true,
            "showgrid": true,
            "ticks": "",
            "zerolinecolor": "white"
           }
          },
          "shapedefaults": {
           "fillcolor": "rgb(67,103,167)",
           "line": {
            "width": 0
           },
           "opacity": 0.5
          },
          "ternary": {
           "aaxis": {
            "gridcolor": "white",
            "linecolor": "white",
            "showgrid": true,
            "ticks": ""
           },
           "baxis": {
            "gridcolor": "white",
            "linecolor": "white",
            "showgrid": true,
            "ticks": ""
           },
           "bgcolor": "rgb(234,234,242)",
           "caxis": {
            "gridcolor": "white",
            "linecolor": "white",
            "showgrid": true,
            "ticks": ""
           }
          },
          "xaxis": {
           "automargin": true,
           "gridcolor": "white",
           "linecolor": "white",
           "showgrid": true,
           "ticks": "",
           "title": {
            "standoff": 15
           },
           "zerolinecolor": "white"
          },
          "yaxis": {
           "automargin": true,
           "gridcolor": "white",
           "linecolor": "white",
           "showgrid": true,
           "ticks": "",
           "title": {
            "standoff": 15
           },
           "zerolinecolor": "white"
          }
         }
        },
        "title": {
         "font": {
          "size": 25
         },
         "text": "scaling relation"
        },
        "width": 800,
        "xaxis": {
         "gridwidth": 1,
         "tickfont": {
          "size": 18
         },
         "title": {
          "font": {
           "size": 25
          },
          "text": "$\\Delta G_{\\text{OH}} \\text{ (eV)}$"
         },
         "zeroline": false
        },
        "yaxis": {
         "gridwidth": 1,
         "tickfont": {
          "size": 18
         },
         "title": {
          "font": {
           "size": 25
          },
          "text": "$\\Delta G_{\\text{X}} \\text{ (eV)}$"
         },
         "zeroline": false
        }
       }
      },
      "text/html": [
       "<div>                            <div id=\"161426c1-0212-4507-b145-1189fd1ba55f\" class=\"plotly-graph-div\" style=\"height:600px; width:800px;\"></div>            <script type=\"text/javascript\">                require([\"plotly\"], function(Plotly) {                    window.PLOTLYENV=window.PLOTLYENV || {};                                    if (document.getElementById(\"161426c1-0212-4507-b145-1189fd1ba55f\")) {                    Plotly.newPlot(                        \"161426c1-0212-4507-b145-1189fd1ba55f\",                        [{\"marker\": {\"size\": 15, \"symbol\": 18}, \"mode\": \"markers\", \"name\": \"OOH vs OH\", \"text\": [\"SrTcO3\", \"BaFeO3\", \"BaMoO3\", \"KTaO3\", \"BaZrO3\", \"SrFeO3\", \"KTcO3\", \"NaTcO3\", \"BaHfO3\", \"SrTiO3\", \"SrCuO3\", \"KNbO3\", \"NaTaO3\", \"BaScO3\", \"BaPdO3\", \"SrHfO3\", \"NaOsO3\", \"TlTcO3\", \"KReO3\", \"SrRuO3\", \"KHfO3\", \"SrVO3\", \"KOsO3\", \"TaAgO3\", \"SrNiO3\", \"RbIrO3\", \"NaReO3\", \"SrMnO3\", \"CaFeO3\", \"SrZrO3\", \"RbTaO3\", \"SrCoO3\", \"KZrO3\", \"CaTiO3\", \"NaRuO3\", \"LiTcO3\", \"SrPdO3\", \"KWO3\", \"KRhO3\", \"BaCuO3\", \"RbNbO3\", \"BaOsO3\", \"BaRuO3\", \"KRuO3\", \"SrMoO3\", \"NaTiO3\", \"SrScO3\", \"SrRhO3\", \"NaMoO3\", \"BaRhO3\", \"BaPtO3\", \"CaVO3\", \"KMoO3\", \"SrCrO3\", \"RbRhO3\", \"BaVO3\", \"CaCoO3\", \"CaMnO3\", \"KPtO3\", \"BaNiO3\", \"BaMnO3\", \"SrIrO3\", \"NaVO3\", \"NaFeO3\", \"BaIrO3\", \"RbReO3\", \"CaRuO3\", \"RbPdO3\", \"CaHfO3\", \"TlWO3\", \"RbPtO3\"], \"type\": \"scatter\", \"x\": [-0.782, 2.024, -0.302, -1.001, 1.29, 2.026, 0.04, -0.067, 1.191, 1.276, 2.007, -0.217, -1.129, 2.147, 1.7, 1.081, -0.354, -0.031, -0.733, 0.26, 1.946, -0.191, -0.464, -1.056, 3.474, 0.976, -0.831, 2.548, 1.927, 1.151, -0.997, 1.163, 2.007, 1.263, 0.746, 0.152, 0.899, -1.124, 1.568, 1.821, -0.344, -1.484, 0.446, 0.83, -1.13, 2.205, 2.146, 0.499, -0.415, 1.086, 1.101, -0.181, -0.558, 0.646, 1.29, -0.474, 1.636, 1.408, 1.292, 2.267, 1.655, 0.424, 0.52, 2.325, 0.646, -0.678, -0.363, 1.313, 0.619, -1.407, 1.034], \"y\": [2.481, 4.917, 3.019, 2.575, 4.706, 4.94, 3.231, 3.149, 4.537, 4.632, 5.007, 3.298, 2.423, 4.977, 4.665, 4.46, 3.103, 3.1, 2.539, 3.406, 4.806, 3.026, 2.802, 2.512, 4.641, 4.135, 2.449, 5.509, 4.926, 4.537, 2.619, 4.261, 4.825, 4.692, 3.804, 3.351, 3.741, 2.067, 4.504, 4.755, 3.187, 2.141, 3.513, 3.972, 2.216, 4.918, 4.963, 3.496, 2.624, 4.115, 4.159, 3.376, 2.632, 3.829, 4.069, 3.366, 4.683, 4.967, 4.28, 4.943, 4.914, 3.546, 3.911, 5.028, 3.828, 2.581, 2.514, 4.231, 3.86, 2.157, 4.02]}, {\"marker\": {\"color\": \"rgb(255,0,0)\", \"size\": 15, \"symbol\": 30}, \"mode\": \"markers\", \"name\": \"O vs OH\", \"text\": [\"SrTcO3\", \"BaFeO3\", \"BaMoO3\", \"KTaO3\", \"BaZrO3\", \"SrFeO3\", \"KTcO3\", \"NaTcO3\", \"BaHfO3\", \"SrTiO3\", \"SrCuO3\", \"KNbO3\", \"NaTaO3\", \"BaScO3\", \"BaPdO3\", \"SrHfO3\", \"NaOsO3\", \"TlTcO3\", \"KReO3\", \"SrRuO3\", \"KHfO3\", \"SrVO3\", \"KOsO3\", \"TaAgO3\", \"SrNiO3\", \"RbIrO3\", \"NaReO3\", \"SrMnO3\", \"CaFeO3\", \"SrZrO3\", \"RbTaO3\", \"SrCoO3\", \"KZrO3\", \"CaTiO3\", \"NaRuO3\", \"LiTcO3\", \"SrPdO3\", \"KWO3\", \"KRhO3\", \"BaCuO3\", \"RbNbO3\", \"BaOsO3\", \"BaRuO3\", \"KRuO3\", \"SrMoO3\", \"NaTiO3\", \"SrScO3\", \"SrRhO3\", \"NaMoO3\", \"BaRhO3\", \"BaPtO3\", \"CaVO3\", \"KMoO3\", \"SrCrO3\", \"RbRhO3\", \"BaVO3\", \"CaCoO3\", \"CaMnO3\", \"KPtO3\", \"BaNiO3\", \"BaMnO3\", \"SrIrO3\", \"NaVO3\", \"NaFeO3\", \"BaIrO3\", \"RbReO3\", \"CaRuO3\", \"RbPdO3\", \"CaHfO3\", \"TlWO3\", \"RbPtO3\"], \"type\": \"scatter\", \"x\": [-0.782, 2.024, -0.302, -1.001, 1.29, 2.026, 0.04, -0.067, 1.191, 1.276, 2.007, -0.217, -1.129, 2.147, 1.7, 1.081, -0.354, -0.031, -0.733, 0.26, 1.946, -0.191, -0.464, -1.056, 3.474, 0.976, -0.831, 2.548, 1.927, 1.151, -0.997, 1.163, 2.007, 1.263, 0.746, 0.152, 0.899, -1.124, 1.568, 1.821, -0.344, -1.484, 0.446, 0.83, -1.13, 2.205, 2.146, 0.499, -0.415, 1.086, 1.101, -0.181, -0.558, 0.646, 1.29, -0.474, 1.636, 1.408, 1.292, 2.267, 1.655, 0.424, 0.52, 2.325, 0.646, -0.678, -0.363, 1.313, 0.619, -1.407, 1.034], \"y\": [-0.707, 4.452, -0.853, -0.614, 4.143, 4.606, 0.446, 0.301, 4.023, 3.889, 4.23, 0.465, -0.899, 4.7, 3.455, 3.952, 0.577, 0.313, -0.544, 0.96, 4.407, 0.516, 0.699, -0.969, 4.437, 2.415, -0.697, 4.648, 4.277, 4.034, -0.617, 3.136, 4.516, 3.911, 1.871, 0.621, 3.176, -1.2, 3.321, 3.95, 0.282, -0.728, 1.303, 2.006, -1.375, 4.568, 4.677, 2.151, -0.665, 2.461, 2.56, 0.389, -0.412, 2.046, 3.2, 0.504, 3.425, 4.289, 2.948, 4.41, 2.943, 1.673, 1.743, 4.625, 1.989, -0.492, 0.68, 3.183, 3.642, -0.904, 2.727]}, {\"marker\": {\"size\": 15, \"symbol\": 0}, \"mode\": \"markers\", \"name\": \"OH vs OH\", \"text\": [\"SrTcO3\", \"BaFeO3\", \"BaMoO3\", \"KTaO3\", \"BaZrO3\", \"SrFeO3\", \"KTcO3\", \"NaTcO3\", \"BaHfO3\", \"SrTiO3\", \"SrCuO3\", \"KNbO3\", \"NaTaO3\", \"BaScO3\", \"BaPdO3\", \"SrHfO3\", \"NaOsO3\", \"TlTcO3\", \"KReO3\", \"SrRuO3\", \"KHfO3\", \"SrVO3\", \"KOsO3\", \"TaAgO3\", \"SrNiO3\", \"RbIrO3\", \"NaReO3\", \"SrMnO3\", \"CaFeO3\", \"SrZrO3\", \"RbTaO3\", \"SrCoO3\", \"KZrO3\", \"CaTiO3\", \"NaRuO3\", \"LiTcO3\", \"SrPdO3\", \"KWO3\", \"KRhO3\", \"BaCuO3\", \"RbNbO3\", \"BaOsO3\", \"BaRuO3\", \"KRuO3\", \"SrMoO3\", \"NaTiO3\", \"SrScO3\", \"SrRhO3\", \"NaMoO3\", \"BaRhO3\", \"BaPtO3\", \"CaVO3\", \"KMoO3\", \"SrCrO3\", \"RbRhO3\", \"BaVO3\", \"CaCoO3\", \"CaMnO3\", \"KPtO3\", \"BaNiO3\", \"BaMnO3\", \"SrIrO3\", \"NaVO3\", \"NaFeO3\", \"BaIrO3\", \"RbReO3\", \"CaRuO3\", \"RbPdO3\", \"CaHfO3\", \"TlWO3\", \"RbPtO3\"], \"type\": \"scatter\", \"x\": [-0.782, 2.024, -0.302, -1.001, 1.29, 2.026, 0.04, -0.067, 1.191, 1.276, 2.007, -0.217, -1.129, 2.147, 1.7, 1.081, -0.354, -0.031, -0.733, 0.26, 1.946, -0.191, -0.464, -1.056, 3.474, 0.976, -0.831, 2.548, 1.927, 1.151, -0.997, 1.163, 2.007, 1.263, 0.746, 0.152, 0.899, -1.124, 1.568, 1.821, -0.344, -1.484, 0.446, 0.83, -1.13, 2.205, 2.146, 0.499, -0.415, 1.086, 1.101, -0.181, -0.558, 0.646, 1.29, -0.474, 1.636, 1.408, 1.292, 2.267, 1.655, 0.424, 0.52, 2.325, 0.646, -0.678, -0.363, 1.313, 0.619, -1.407, 1.034], \"y\": [-0.782, 2.024, -0.302, -1.001, 1.29, 2.026, 0.04, -0.067, 1.191, 1.276, 2.007, -0.217, -1.129, 2.147, 1.7, 1.081, -0.354, -0.031, -0.733, 0.26, 1.946, -0.191, -0.464, -1.056, 3.474, 0.976, -0.831, 2.548, 1.927, 1.151, -0.997, 1.163, 2.007, 1.263, 0.746, 0.152, 0.899, -1.124, 1.568, 1.821, -0.344, -1.484, 0.446, 0.83, -1.13, 2.205, 2.146, 0.499, -0.415, 1.086, 1.101, -0.181, -0.558, 0.646, 1.29, -0.474, 1.636, 1.408, 1.292, 2.267, 1.655, 0.424, 0.52, 2.325, 0.646, -0.678, -0.363, 1.313, 0.619, -1.407, 1.034]}, {\"marker\": {\"color\": \"blue\"}, \"mode\": \"lines\", \"name\": \"OOH_fit\", \"type\": \"scatter\", \"x\": [-1.484, -1.4339191919191918, -1.3838383838383839, -1.3337575757575757, -1.2836767676767677, -1.2335959595959596, -1.1835151515151514, -1.1334343434343435, -1.0833535353535353, -1.0332727272727273, -0.9831919191919192, -0.9331111111111111, -0.883030303030303, -0.832949494949495, -0.7828686868686868, -0.7327878787878788, -0.6827070707070707, -0.6326262626262626, -0.5825454545454546, -0.5324646464646464, -0.48238383838383836, -0.4323030303030304, -0.38222222222222224, -0.33214141414141407, -0.2820606060606061, -0.23197979797979795, -0.18189898989899, -0.13181818181818183, -0.08173737373737366, -0.031656565656565716, 0.018424242424242454, 0.0685050505050504, 0.11858585858585857, 0.16866666666666674, 0.2187474747474747, 0.26882828282828286, 0.3189090909090908, 0.368989898989899, 0.41907070707070715, 0.4691515151515151, 0.5192323232323233, 0.5693131313131312, 0.6193939393939392, 0.6694747474747476, 0.7195555555555555, 0.7696363636363635, 0.8197171717171718, 0.8697979797979798, 0.9198787878787877, 0.9699595959595961, 1.020040404040404, 1.070121212121212, 1.12020202020202, 1.1702828282828284, 1.2203636363636363, 1.2704444444444443, 1.3205252525252527, 1.3706060606060606, 1.4206868686868686, 1.470767676767677, 1.520848484848485, 1.5709292929292928, 1.6210101010101008, 1.6710909090909092, 1.7211717171717171, 1.771252525252525, 1.8213333333333335, 1.8714141414141414, 1.9214949494949494, 1.9715757575757573, 2.0216565656565657, 2.0717373737373737, 2.1218181818181816, 2.17189898989899, 2.221979797979798, 2.272060606060606, 2.3221414141414143, 2.3722222222222222, 2.42230303030303, 2.472383838383838, 2.5224646464646465, 2.5725454545454545, 2.6226262626262624, 2.6727070707070704, 2.7227878787878783, 2.772868686868687, 2.822949494949495, 2.873030303030303, 2.923111111111111, 2.973191919191919, 3.023272727272727, 3.0733535353535357, 3.1234343434343437, 3.1735151515151516, 3.2235959595959596, 3.2736767676767675, 3.3237575757575755, 3.3738383838383834, 3.4239191919191923, 3.474], \"y\": [2.109224421192491, 2.1487964403812594, 2.188368459570028, 2.2279404787587964, 2.267512497947565, 2.3070845171363334, 2.346656536325102, 2.38622855551387, 2.4258005747026385, 2.465372593891407, 2.5049446130801756, 2.544516632268944, 2.5840886514577126, 2.6236606706464807, 2.663232689835249, 2.7028047090240177, 2.742376728212786, 2.7819487474015547, 2.8215207665903232, 2.8610927857790918, 2.9006648049678603, 2.940236824156629, 2.9798088433453973, 3.019380862534166, 3.058952881722934, 3.0985249009117024, 3.138096920100471, 3.1776689392892394, 3.217240958478008, 3.2568129776667765, 3.296384996855545, 3.335957016044313, 3.3755290352330816, 3.41510105442185, 3.4546730736106186, 3.494245092799387, 3.5338171119881556, 3.573389131176924, 3.6129611503656927, 3.652533169554461, 3.6921051887432297, 3.7316772079319978, 3.7712492271207663, 3.810821246309535, 3.8503932654983033, 3.8899652846870714, 3.9295373038758403, 3.969109323064609, 4.008681342253377, 4.048253361442145, 4.087825380630914, 4.1273973998196825, 4.166969419008451, 4.2065414381972195, 4.246113457385988, 4.2856854765747565, 4.325257495763525, 4.3648295149522935, 4.404401534141062, 4.443973553329831, 4.483545572518599, 4.523117591707367, 4.562689610896135, 4.602261630084904, 4.641833649273672, 4.681405668462441, 4.720977687651209, 4.760549706839978, 4.800121726028746, 4.839693745217515, 4.879265764406283, 4.918837783595052, 4.95840980278382, 4.997981821972589, 5.037553841161357, 5.077125860350126, 5.116697879538894, 5.156269898727663, 5.195841917916431, 5.235413937105199, 5.274985956293968, 5.314557975482737, 5.354129994671505, 5.393702013860273, 5.433274033049042, 5.472846052237811, 5.512418071426579, 5.551990090615347, 5.591562109804116, 5.631134128992883, 5.670706148181653, 5.710278167370421, 5.74985018655919, 5.789422205747958, 5.828994224936727, 5.868566244125494, 5.908138263314263, 5.9477102825030315, 5.987282301691801, 6.0268543208805685]}, {\"marker\": {\"color\": \"red\"}, \"mode\": \"lines\", \"name\": \"O_fit\", \"type\": \"scatter\", \"x\": [-1.484, -1.4339191919191918, -1.3838383838383839, -1.3337575757575757, -1.2836767676767677, -1.2335959595959596, -1.1835151515151514, -1.1334343434343435, -1.0833535353535353, -1.0332727272727273, -0.9831919191919192, -0.9331111111111111, -0.883030303030303, -0.832949494949495, -0.7828686868686868, -0.7327878787878788, -0.6827070707070707, -0.6326262626262626, -0.5825454545454546, -0.5324646464646464, -0.48238383838383836, -0.4323030303030304, -0.38222222222222224, -0.33214141414141407, -0.2820606060606061, -0.23197979797979795, -0.18189898989899, -0.13181818181818183, -0.08173737373737366, -0.031656565656565716, 0.018424242424242454, 0.0685050505050504, 0.11858585858585857, 0.16866666666666674, 0.2187474747474747, 0.26882828282828286, 0.3189090909090908, 0.368989898989899, 0.41907070707070715, 0.4691515151515151, 0.5192323232323233, 0.5693131313131312, 0.6193939393939392, 0.6694747474747476, 0.7195555555555555, 0.7696363636363635, 0.8197171717171718, 0.8697979797979798, 0.9198787878787877, 0.9699595959595961, 1.020040404040404, 1.070121212121212, 1.12020202020202, 1.1702828282828284, 1.2203636363636363, 1.2704444444444443, 1.3205252525252527, 1.3706060606060606, 1.4206868686868686, 1.470767676767677, 1.520848484848485, 1.5709292929292928, 1.6210101010101008, 1.6710909090909092, 1.7211717171717171, 1.771252525252525, 1.8213333333333335, 1.8714141414141414, 1.9214949494949494, 1.9715757575757573, 2.0216565656565657, 2.0717373737373737, 2.1218181818181816, 2.17189898989899, 2.221979797979798, 2.272060606060606, 2.3221414141414143, 2.3722222222222222, 2.42230303030303, 2.472383838383838, 2.5224646464646465, 2.5725454545454545, 2.6226262626262624, 2.6727070707070704, 2.7227878787878783, 2.772868686868687, 2.822949494949495, 2.873030303030303, 2.923111111111111, 2.973191919191919, 3.023272727272727, 3.0733535353535357, 3.1234343434343437, 3.1735151515151516, 3.2235959595959596, 3.2736767676767675, 3.3237575757575755, 3.3738383838383834, 3.4239191919191923, 3.474], \"y\": [-1.509756588737491, -1.4267797935590827, -1.3438029983806743, -1.2608262032022655, -1.177849408023857, -1.0948726128454487, -1.0118958176670398, -0.9289190224886315, -0.8459422273102228, -0.7629654321318144, -0.6799886369534056, -0.5970118417749972, -0.5140350465965886, -0.4310582514181802, -0.3480814562397714, -0.265104661061363, -0.18212786588295438, -0.09915107070454598, -0.01617427552613737, 0.06680251965227135, 0.14977931483067985, 0.23275611000908814, 0.31573290518749686, 0.3987097003659056, 0.4816864955443139, 0.5646632907227227, 0.647640085901131, 0.7306168810795397, 0.8135936762579483, 0.8965704714363567, 0.9795472666147654, 1.0625240617931737, 1.1455008569715823, 1.2284776521499912, 1.3114544473283996, 1.3944312425068082, 1.4774080376852166, 1.5603848328636252, 1.643361628042034, 1.7263384232204424, 1.8093152183988508, 1.8922920135772592, 1.9752688087556676, 2.0582456039340764, 2.1412223991124852, 2.224199194290893, 2.3071759894693025, 2.390152784647711, 2.473129579826119, 2.556106375004528, 2.6390831701829365, 2.722059965361345, 2.8050367605397533, 2.888013555718162, 2.9709903508965705, 3.053967146074979, 3.136943941253388, 3.219920736431796, 3.3028975316102045, 3.3858743267886138, 3.468851121967022, 3.5518279171454306, 3.634804712323839, 3.717781507502248, 3.800758302680656, 3.8837350978590646, 3.9667118930374734, 4.049688688215882, 4.13266548339429, 4.215642278572698, 4.298619073751107, 4.381595868929516, 4.464572664107925, 4.5475494592863335, 4.630526254464742, 4.713503049643149, 4.796479844821559, 4.879456639999967, 4.962433435178376, 5.045410230356784, 5.1283870255351935, 5.2113638207136015, 5.294340615892009, 5.377317411070418, 5.460294206248826, 5.543271001427236, 5.626247796605645, 5.709224591784053, 5.792201386962462, 5.8751781821408695, 5.958154977319278, 6.041131772497688, 6.124108567676096, 6.207085362854505, 6.290062158032913, 6.373038953211321, 6.45601574838973, 6.5389925435681375, 6.621969338746547, 6.704946133924956]}, {\"marker\": {\"color\": \"green\"}, \"mode\": \"lines\", \"name\": \"OH_fit\", \"type\": \"scatter\", \"x\": [-1.484, -1.4339191919191918, -1.3838383838383839, -1.3337575757575757, -1.2836767676767677, -1.2335959595959596, -1.1835151515151514, -1.1334343434343435, -1.0833535353535353, -1.0332727272727273, -0.9831919191919192, -0.9331111111111111, -0.883030303030303, -0.832949494949495, -0.7828686868686868, -0.7327878787878788, -0.6827070707070707, -0.6326262626262626, -0.5825454545454546, -0.5324646464646464, -0.48238383838383836, -0.4323030303030304, -0.38222222222222224, -0.33214141414141407, -0.2820606060606061, -0.23197979797979795, -0.18189898989899, -0.13181818181818183, -0.08173737373737366, -0.031656565656565716, 0.018424242424242454, 0.0685050505050504, 0.11858585858585857, 0.16866666666666674, 0.2187474747474747, 0.26882828282828286, 0.3189090909090908, 0.368989898989899, 0.41907070707070715, 0.4691515151515151, 0.5192323232323233, 0.5693131313131312, 0.6193939393939392, 0.6694747474747476, 0.7195555555555555, 0.7696363636363635, 0.8197171717171718, 0.8697979797979798, 0.9198787878787877, 0.9699595959595961, 1.020040404040404, 1.070121212121212, 1.12020202020202, 1.1702828282828284, 1.2203636363636363, 1.2704444444444443, 1.3205252525252527, 1.3706060606060606, 1.4206868686868686, 1.470767676767677, 1.520848484848485, 1.5709292929292928, 1.6210101010101008, 1.6710909090909092, 1.7211717171717171, 1.771252525252525, 1.8213333333333335, 1.8714141414141414, 1.9214949494949494, 1.9715757575757573, 2.0216565656565657, 2.0717373737373737, 2.1218181818181816, 2.17189898989899, 2.221979797979798, 2.272060606060606, 2.3221414141414143, 2.3722222222222222, 2.42230303030303, 2.472383838383838, 2.5224646464646465, 2.5725454545454545, 2.6226262626262624, 2.6727070707070704, 2.7227878787878783, 2.772868686868687, 2.822949494949495, 2.873030303030303, 2.923111111111111, 2.973191919191919, 3.023272727272727, 3.0733535353535357, 3.1234343434343437, 3.1735151515151516, 3.2235959595959596, 3.2736767676767675, 3.3237575757575755, 3.3738383838383834, 3.4239191919191923, 3.474], \"y\": [-1.4840000000000004, -1.433919191919192, -1.383838383838384, -1.3337575757575761, -1.2836767676767682, -1.2335959595959598, -1.1835151515151519, -1.133434343434344, -1.0833535353535355, -1.0332727272727276, -0.9831919191919195, -0.9331111111111114, -0.8830303030303034, -0.8329494949494953, -0.7828686868686872, -0.732787878787879, -0.6827070707070709, -0.6326262626262629, -0.5825454545454548, -0.5324646464646466, -0.4823838383838386, -0.43230303030303063, -0.38222222222222246, -0.33214141414141424, -0.2820606060606063, -0.23197979797979812, -0.18189898989899014, -0.13181818181818197, -0.08173737373737379, -0.031656565656565834, 0.018424242424242347, 0.0685050505050503, 0.11858585858585849, 0.16866666666666666, 0.21874747474747464, 0.2688282828282828, 0.31890909090909075, 0.3689898989898989, 0.41907070707070715, 0.4691515151515151, 0.5192323232323233, 0.5693131313131312, 0.6193939393939392, 0.6694747474747476, 0.7195555555555555, 0.7696363636363636, 0.819717171717172, 0.8697979797979799, 0.9198787878787879, 0.9699595959595962, 1.020040404040404, 1.070121212121212, 1.12020202020202, 1.1702828282828284, 1.2203636363636363, 1.2704444444444443, 1.3205252525252527, 1.3706060606060606, 1.4206868686868686, 1.470767676767677, 1.5208484848484853, 1.5709292929292933, 1.6210101010101012, 1.6710909090909096, 1.7211717171717176, 1.7712525252525255, 1.821333333333334, 1.8714141414141419, 1.9214949494949498, 1.9715757575757578, 2.021656565656566, 2.071737373737374, 2.121818181818182, 2.1718989898989904, 2.2219797979797984, 2.2720606060606063, 2.3221414141414147, 2.3722222222222227, 2.4223030303030306, 2.4723838383838386, 2.522464646464647, 2.572545454545455, 2.622626262626263, 2.672707070707071, 2.7227878787878788, 2.7728686868686876, 2.8229494949494955, 2.8730303030303035, 2.9231111111111114, 2.9731919191919194, 3.0232727272727278, 3.0733535353535366, 3.1234343434343446, 3.1735151515151525, 3.2235959595959605, 3.2736767676767684, 3.3237575757575764, 3.3738383838383843, 3.423919191919193, 3.474000000000001]}],                        {\"annotations\": [{\"font\": {\"color\": \"blue\", \"size\": 20}, \"text\": \"$\\\\Delta G_{\\\\text{OOH}} = \\\\text{0.790} \\\\Delta G_{\\\\text{OH}} + \\\\text{3.282}$\", \"x\": 2, \"xshift\": 50, \"y\": 1, \"yshift\": -80}, {\"font\": {\"color\": \"red\", \"size\": 20}, \"text\": \"$\\\\Delta G_{\\\\text{O}} = \\\\text{1.657} \\\\Delta G_{\\\\text{OH}} + \\\\text{0.949}$\", \"x\": 2, \"xshift\": 50, \"y\": 0.5, \"yshift\": -90}, {\"font\": {\"color\": \"green\", \"size\": 20}, \"text\": \"$\\\\Delta G_{\\\\text{OH}} = \\\\text{1.000} \\\\Delta G_{\\\\text{OH}} + \\\\text{-0.000}$\", \"x\": 2, \"xshift\": 50, \"y\": 0, \"yshift\": -100}], \"height\": 600, \"template\": {\"data\": {\"bar\": [{\"error_x\": {\"color\": \"rgb(36,36,36)\"}, \"error_y\": {\"color\": \"rgb(36,36,36)\"}, \"marker\": {\"line\": {\"color\": \"rgb(234,234,242)\", \"width\": 0.5}}, \"type\": \"bar\"}], \"barpolar\": [{\"marker\": {\"line\": {\"color\": \"rgb(234,234,242)\", \"width\": 0.5}}, \"type\": \"barpolar\"}], \"carpet\": [{\"aaxis\": {\"endlinecolor\": \"rgb(36,36,36)\", \"gridcolor\": \"white\", \"linecolor\": \"white\", \"minorgridcolor\": \"white\", \"startlinecolor\": \"rgb(36,36,36)\"}, \"baxis\": {\"endlinecolor\": \"rgb(36,36,36)\", \"gridcolor\": \"white\", \"linecolor\": \"white\", \"minorgridcolor\": \"white\", \"startlinecolor\": \"rgb(36,36,36)\"}, \"type\": \"carpet\"}], \"choropleth\": [{\"colorbar\": {\"outlinewidth\": 0, \"tickcolor\": \"rgb(36,36,36)\", \"ticklen\": 8, \"ticks\": \"outside\", \"tickwidth\": 2}, \"type\": \"choropleth\"}], \"contour\": [{\"colorbar\": {\"outlinewidth\": 0, \"tickcolor\": \"rgb(36,36,36)\", \"ticklen\": 8, \"ticks\": \"outside\", \"tickwidth\": 2}, \"colorscale\": [[0.0, \"rgb(2,4,25)\"], [0.06274509803921569, \"rgb(24,15,41)\"], [0.12549019607843137, \"rgb(47,23,57)\"], [0.18823529411764706, \"rgb(71,28,72)\"], [0.25098039215686274, \"rgb(97,30,82)\"], [0.3137254901960784, \"rgb(123,30,89)\"], [0.3764705882352941, \"rgb(150,27,91)\"], [0.4392156862745098, \"rgb(177,22,88)\"], [0.5019607843137255, \"rgb(203,26,79)\"], [0.5647058823529412, \"rgb(223,47,67)\"], [0.6274509803921569, \"rgb(236,76,61)\"], [0.6901960784313725, \"rgb(242,107,73)\"], [0.7529411764705882, \"rgb(244,135,95)\"], [0.8156862745098039, \"rgb(245,162,122)\"], [0.8784313725490196, \"rgb(246,188,153)\"], [0.9411764705882353, \"rgb(247,212,187)\"], [1.0, \"rgb(250,234,220)\"]], \"type\": \"contour\"}], \"contourcarpet\": [{\"colorbar\": {\"outlinewidth\": 0, \"tickcolor\": \"rgb(36,36,36)\", \"ticklen\": 8, \"ticks\": \"outside\", \"tickwidth\": 2}, \"type\": \"contourcarpet\"}], \"heatmap\": [{\"colorbar\": {\"outlinewidth\": 0, \"tickcolor\": \"rgb(36,36,36)\", \"ticklen\": 8, \"ticks\": \"outside\", \"tickwidth\": 2}, \"colorscale\": [[0.0, \"rgb(2,4,25)\"], [0.06274509803921569, \"rgb(24,15,41)\"], [0.12549019607843137, \"rgb(47,23,57)\"], [0.18823529411764706, \"rgb(71,28,72)\"], [0.25098039215686274, \"rgb(97,30,82)\"], [0.3137254901960784, \"rgb(123,30,89)\"], [0.3764705882352941, \"rgb(150,27,91)\"], [0.4392156862745098, \"rgb(177,22,88)\"], [0.5019607843137255, \"rgb(203,26,79)\"], [0.5647058823529412, \"rgb(223,47,67)\"], [0.6274509803921569, \"rgb(236,76,61)\"], [0.6901960784313725, \"rgb(242,107,73)\"], [0.7529411764705882, \"rgb(244,135,95)\"], [0.8156862745098039, \"rgb(245,162,122)\"], [0.8784313725490196, \"rgb(246,188,153)\"], [0.9411764705882353, \"rgb(247,212,187)\"], [1.0, \"rgb(250,234,220)\"]], \"type\": \"heatmap\"}], \"heatmapgl\": [{\"colorbar\": {\"outlinewidth\": 0, \"tickcolor\": \"rgb(36,36,36)\", \"ticklen\": 8, \"ticks\": \"outside\", \"tickwidth\": 2}, \"colorscale\": [[0.0, \"rgb(2,4,25)\"], [0.06274509803921569, \"rgb(24,15,41)\"], [0.12549019607843137, \"rgb(47,23,57)\"], [0.18823529411764706, \"rgb(71,28,72)\"], [0.25098039215686274, \"rgb(97,30,82)\"], [0.3137254901960784, \"rgb(123,30,89)\"], [0.3764705882352941, \"rgb(150,27,91)\"], [0.4392156862745098, \"rgb(177,22,88)\"], [0.5019607843137255, \"rgb(203,26,79)\"], [0.5647058823529412, \"rgb(223,47,67)\"], [0.6274509803921569, \"rgb(236,76,61)\"], [0.6901960784313725, \"rgb(242,107,73)\"], [0.7529411764705882, \"rgb(244,135,95)\"], [0.8156862745098039, \"rgb(245,162,122)\"], [0.8784313725490196, \"rgb(246,188,153)\"], [0.9411764705882353, \"rgb(247,212,187)\"], [1.0, \"rgb(250,234,220)\"]], \"type\": \"heatmapgl\"}], \"histogram\": [{\"marker\": {\"colorbar\": {\"outlinewidth\": 0, \"tickcolor\": \"rgb(36,36,36)\", \"ticklen\": 8, \"ticks\": \"outside\", \"tickwidth\": 2}}, \"type\": \"histogram\"}], \"histogram2d\": [{\"colorbar\": {\"outlinewidth\": 0, \"tickcolor\": \"rgb(36,36,36)\", \"ticklen\": 8, \"ticks\": \"outside\", \"tickwidth\": 2}, \"colorscale\": [[0.0, \"rgb(2,4,25)\"], [0.06274509803921569, \"rgb(24,15,41)\"], [0.12549019607843137, \"rgb(47,23,57)\"], [0.18823529411764706, \"rgb(71,28,72)\"], [0.25098039215686274, \"rgb(97,30,82)\"], [0.3137254901960784, \"rgb(123,30,89)\"], [0.3764705882352941, \"rgb(150,27,91)\"], [0.4392156862745098, \"rgb(177,22,88)\"], [0.5019607843137255, \"rgb(203,26,79)\"], [0.5647058823529412, \"rgb(223,47,67)\"], [0.6274509803921569, \"rgb(236,76,61)\"], [0.6901960784313725, \"rgb(242,107,73)\"], [0.7529411764705882, \"rgb(244,135,95)\"], [0.8156862745098039, \"rgb(245,162,122)\"], [0.8784313725490196, \"rgb(246,188,153)\"], [0.9411764705882353, \"rgb(247,212,187)\"], [1.0, \"rgb(250,234,220)\"]], \"type\": \"histogram2d\"}], \"histogram2dcontour\": [{\"colorbar\": {\"outlinewidth\": 0, \"tickcolor\": \"rgb(36,36,36)\", \"ticklen\": 8, \"ticks\": \"outside\", \"tickwidth\": 2}, \"colorscale\": [[0.0, \"rgb(2,4,25)\"], [0.06274509803921569, \"rgb(24,15,41)\"], [0.12549019607843137, \"rgb(47,23,57)\"], [0.18823529411764706, \"rgb(71,28,72)\"], [0.25098039215686274, \"rgb(97,30,82)\"], [0.3137254901960784, \"rgb(123,30,89)\"], [0.3764705882352941, \"rgb(150,27,91)\"], [0.4392156862745098, \"rgb(177,22,88)\"], [0.5019607843137255, \"rgb(203,26,79)\"], [0.5647058823529412, \"rgb(223,47,67)\"], [0.6274509803921569, \"rgb(236,76,61)\"], [0.6901960784313725, \"rgb(242,107,73)\"], [0.7529411764705882, \"rgb(244,135,95)\"], [0.8156862745098039, \"rgb(245,162,122)\"], [0.8784313725490196, \"rgb(246,188,153)\"], [0.9411764705882353, \"rgb(247,212,187)\"], [1.0, \"rgb(250,234,220)\"]], \"type\": \"histogram2dcontour\"}], \"mesh3d\": [{\"colorbar\": {\"outlinewidth\": 0, \"tickcolor\": \"rgb(36,36,36)\", \"ticklen\": 8, \"ticks\": \"outside\", \"tickwidth\": 2}, \"type\": \"mesh3d\"}], \"parcoords\": [{\"line\": {\"colorbar\": {\"outlinewidth\": 0, \"tickcolor\": \"rgb(36,36,36)\", \"ticklen\": 8, \"ticks\": \"outside\", \"tickwidth\": 2}}, \"type\": \"parcoords\"}], \"pie\": [{\"automargin\": true, \"type\": \"pie\"}], \"scatter\": [{\"marker\": {\"colorbar\": {\"outlinewidth\": 0, \"tickcolor\": \"rgb(36,36,36)\", \"ticklen\": 8, \"ticks\": \"outside\", \"tickwidth\": 2}}, \"type\": \"scatter\"}], \"scatter3d\": [{\"line\": {\"colorbar\": {\"outlinewidth\": 0, \"tickcolor\": \"rgb(36,36,36)\", \"ticklen\": 8, \"ticks\": \"outside\", \"tickwidth\": 2}}, \"marker\": {\"colorbar\": {\"outlinewidth\": 0, \"tickcolor\": \"rgb(36,36,36)\", \"ticklen\": 8, \"ticks\": \"outside\", \"tickwidth\": 2}}, \"type\": \"scatter3d\"}], \"scattercarpet\": [{\"marker\": {\"colorbar\": {\"outlinewidth\": 0, \"tickcolor\": \"rgb(36,36,36)\", \"ticklen\": 8, \"ticks\": \"outside\", \"tickwidth\": 2}}, \"type\": \"scattercarpet\"}], \"scattergeo\": [{\"marker\": {\"colorbar\": {\"outlinewidth\": 0, \"tickcolor\": \"rgb(36,36,36)\", \"ticklen\": 8, \"ticks\": \"outside\", \"tickwidth\": 2}}, \"type\": \"scattergeo\"}], \"scattergl\": [{\"marker\": {\"colorbar\": {\"outlinewidth\": 0, \"tickcolor\": \"rgb(36,36,36)\", \"ticklen\": 8, \"ticks\": \"outside\", \"tickwidth\": 2}}, \"type\": \"scattergl\"}], \"scattermapbox\": [{\"marker\": {\"colorbar\": {\"outlinewidth\": 0, \"tickcolor\": \"rgb(36,36,36)\", \"ticklen\": 8, \"ticks\": \"outside\", \"tickwidth\": 2}}, \"type\": \"scattermapbox\"}], \"scatterpolar\": [{\"marker\": {\"colorbar\": {\"outlinewidth\": 0, \"tickcolor\": \"rgb(36,36,36)\", \"ticklen\": 8, \"ticks\": \"outside\", \"tickwidth\": 2}}, \"type\": \"scatterpolar\"}], \"scatterpolargl\": [{\"marker\": {\"colorbar\": {\"outlinewidth\": 0, \"tickcolor\": \"rgb(36,36,36)\", \"ticklen\": 8, \"ticks\": \"outside\", \"tickwidth\": 2}}, \"type\": \"scatterpolargl\"}], \"scatterternary\": [{\"marker\": {\"colorbar\": {\"outlinewidth\": 0, \"tickcolor\": \"rgb(36,36,36)\", \"ticklen\": 8, \"ticks\": \"outside\", \"tickwidth\": 2}}, \"type\": \"scatterternary\"}], \"surface\": [{\"colorbar\": {\"outlinewidth\": 0, \"tickcolor\": \"rgb(36,36,36)\", \"ticklen\": 8, \"ticks\": \"outside\", \"tickwidth\": 2}, \"colorscale\": [[0.0, \"rgb(2,4,25)\"], [0.06274509803921569, \"rgb(24,15,41)\"], [0.12549019607843137, \"rgb(47,23,57)\"], [0.18823529411764706, \"rgb(71,28,72)\"], [0.25098039215686274, \"rgb(97,30,82)\"], [0.3137254901960784, \"rgb(123,30,89)\"], [0.3764705882352941, \"rgb(150,27,91)\"], [0.4392156862745098, \"rgb(177,22,88)\"], [0.5019607843137255, \"rgb(203,26,79)\"], [0.5647058823529412, \"rgb(223,47,67)\"], [0.6274509803921569, \"rgb(236,76,61)\"], [0.6901960784313725, \"rgb(242,107,73)\"], [0.7529411764705882, \"rgb(244,135,95)\"], [0.8156862745098039, \"rgb(245,162,122)\"], [0.8784313725490196, \"rgb(246,188,153)\"], [0.9411764705882353, \"rgb(247,212,187)\"], [1.0, \"rgb(250,234,220)\"]], \"type\": \"surface\"}], \"table\": [{\"cells\": {\"fill\": {\"color\": \"rgb(231,231,240)\"}, \"line\": {\"color\": \"white\"}}, \"header\": {\"fill\": {\"color\": \"rgb(183,183,191)\"}, \"line\": {\"color\": \"white\"}}, \"type\": \"table\"}]}, \"layout\": {\"annotationdefaults\": {\"arrowcolor\": \"rgb(67,103,167)\"}, \"coloraxis\": {\"colorbar\": {\"outlinewidth\": 0, \"tickcolor\": \"rgb(36,36,36)\", \"ticklen\": 8, \"ticks\": \"outside\", \"tickwidth\": 2}}, \"colorscale\": {\"sequential\": [[0.0, \"rgb(2,4,25)\"], [0.06274509803921569, \"rgb(24,15,41)\"], [0.12549019607843137, \"rgb(47,23,57)\"], [0.18823529411764706, \"rgb(71,28,72)\"], [0.25098039215686274, \"rgb(97,30,82)\"], [0.3137254901960784, \"rgb(123,30,89)\"], [0.3764705882352941, \"rgb(150,27,91)\"], [0.4392156862745098, \"rgb(177,22,88)\"], [0.5019607843137255, \"rgb(203,26,79)\"], [0.5647058823529412, \"rgb(223,47,67)\"], [0.6274509803921569, \"rgb(236,76,61)\"], [0.6901960784313725, \"rgb(242,107,73)\"], [0.7529411764705882, \"rgb(244,135,95)\"], [0.8156862745098039, \"rgb(245,162,122)\"], [0.8784313725490196, \"rgb(246,188,153)\"], [0.9411764705882353, \"rgb(247,212,187)\"], [1.0, \"rgb(250,234,220)\"]], \"sequentialminus\": [[0.0, \"rgb(2,4,25)\"], [0.06274509803921569, \"rgb(24,15,41)\"], [0.12549019607843137, \"rgb(47,23,57)\"], [0.18823529411764706, \"rgb(71,28,72)\"], [0.25098039215686274, \"rgb(97,30,82)\"], [0.3137254901960784, \"rgb(123,30,89)\"], [0.3764705882352941, \"rgb(150,27,91)\"], [0.4392156862745098, \"rgb(177,22,88)\"], [0.5019607843137255, \"rgb(203,26,79)\"], [0.5647058823529412, \"rgb(223,47,67)\"], [0.6274509803921569, \"rgb(236,76,61)\"], [0.6901960784313725, \"rgb(242,107,73)\"], [0.7529411764705882, \"rgb(244,135,95)\"], [0.8156862745098039, \"rgb(245,162,122)\"], [0.8784313725490196, \"rgb(246,188,153)\"], [0.9411764705882353, \"rgb(247,212,187)\"], [1.0, \"rgb(250,234,220)\"]]}, \"colorway\": [\"rgb(76,114,176)\", \"rgb(221,132,82)\", \"rgb(85,168,104)\", \"rgb(196,78,82)\", \"rgb(129,114,179)\", \"rgb(147,120,96)\", \"rgb(218,139,195)\", \"rgb(140,140,140)\", \"rgb(204,185,116)\", \"rgb(100,181,205)\"], \"font\": {\"color\": \"rgb(36,36,36)\"}, \"geo\": {\"bgcolor\": \"white\", \"lakecolor\": \"white\", \"landcolor\": \"rgb(234,234,242)\", \"showlakes\": true, \"showland\": true, \"subunitcolor\": \"white\"}, \"hoverlabel\": {\"align\": \"left\"}, \"hovermode\": \"closest\", \"paper_bgcolor\": \"white\", \"plot_bgcolor\": \"rgb(234,234,242)\", \"polar\": {\"angularaxis\": {\"gridcolor\": \"white\", \"linecolor\": \"white\", \"showgrid\": true, \"ticks\": \"\"}, \"bgcolor\": \"rgb(234,234,242)\", \"radialaxis\": {\"gridcolor\": \"white\", \"linecolor\": \"white\", \"showgrid\": true, \"ticks\": \"\"}}, \"scene\": {\"xaxis\": {\"backgroundcolor\": \"rgb(234,234,242)\", \"gridcolor\": \"white\", \"gridwidth\": 2, \"linecolor\": \"white\", \"showbackground\": true, \"showgrid\": true, \"ticks\": \"\", \"zerolinecolor\": \"white\"}, \"yaxis\": {\"backgroundcolor\": \"rgb(234,234,242)\", \"gridcolor\": \"white\", \"gridwidth\": 2, \"linecolor\": \"white\", \"showbackground\": true, \"showgrid\": true, \"ticks\": \"\", \"zerolinecolor\": \"white\"}, \"zaxis\": {\"backgroundcolor\": \"rgb(234,234,242)\", \"gridcolor\": \"white\", \"gridwidth\": 2, \"linecolor\": \"white\", \"showbackground\": true, \"showgrid\": true, \"ticks\": \"\", \"zerolinecolor\": \"white\"}}, \"shapedefaults\": {\"fillcolor\": \"rgb(67,103,167)\", \"line\": {\"width\": 0}, \"opacity\": 0.5}, \"ternary\": {\"aaxis\": {\"gridcolor\": \"white\", \"linecolor\": \"white\", \"showgrid\": true, \"ticks\": \"\"}, \"baxis\": {\"gridcolor\": \"white\", \"linecolor\": \"white\", \"showgrid\": true, \"ticks\": \"\"}, \"bgcolor\": \"rgb(234,234,242)\", \"caxis\": {\"gridcolor\": \"white\", \"linecolor\": \"white\", \"showgrid\": true, \"ticks\": \"\"}}, \"xaxis\": {\"automargin\": true, \"gridcolor\": \"white\", \"linecolor\": \"white\", \"showgrid\": true, \"ticks\": \"\", \"title\": {\"standoff\": 15}, \"zerolinecolor\": \"white\"}, \"yaxis\": {\"automargin\": true, \"gridcolor\": \"white\", \"linecolor\": \"white\", \"showgrid\": true, \"ticks\": \"\", \"title\": {\"standoff\": 15}, \"zerolinecolor\": \"white\"}}}, \"title\": {\"font\": {\"size\": 25}, \"text\": \"scaling relation\"}, \"width\": 800, \"xaxis\": {\"gridwidth\": 1, \"tickfont\": {\"size\": 18}, \"title\": {\"font\": {\"size\": 25}, \"text\": \"$\\\\Delta G_{\\\\text{OH}} \\\\text{ (eV)}$\"}, \"zeroline\": false}, \"yaxis\": {\"gridwidth\": 1, \"tickfont\": {\"size\": 18}, \"title\": {\"font\": {\"size\": 25}, \"text\": \"$\\\\Delta G_{\\\\text{X}} \\\\text{ (eV)}$\"}, \"zeroline\": false}},                        {\"responsive\": true}                    ).then(function(){\n",
       "                            \n",
       "var gd = document.getElementById('161426c1-0212-4507-b145-1189fd1ba55f');\n",
       "var x = new MutationObserver(function (mutations, observer) {{\n",
       "        var display = window.getComputedStyle(gd).display;\n",
       "        if (!display || display === 'none') {{\n",
       "            console.log([gd, 'removed!']);\n",
       "            Plotly.purge(gd);\n",
       "            observer.disconnect();\n",
       "        }}\n",
       "}});\n",
       "\n",
       "// Listen for the removal of the full notebook cells\n",
       "var notebookContainer = gd.closest('#notebook-container');\n",
       "if (notebookContainer) {{\n",
       "    x.observe(notebookContainer, {childList: true});\n",
       "}}\n",
       "\n",
       "// Listen for the clearing of the current output cell\n",
       "var outputEl = gd.closest('.output');\n",
       "if (outputEl) {{\n",
       "    x.observe(outputEl, {childList: true});\n",
       "}}\n",
       "\n",
       "                        })                };                });            </script>        </div>"
      ]
     },
     "metadata": {},
     "output_type": "display_data"
    }
   ],
   "source": [
    "trace1 = go.Scatter(x = df_cleaned['DG_OH'], y = df_cleaned['DG_OOH'], name = 'OOH vs OH',\n",
    "                    text = df_cleaned['formula'],\n",
    "                    mode = 'markers', marker = dict(size = 15, symbol = 18))\n",
    "\n",
    "trace2 = go.Scatter(x = df_cleaned['DG_OH'], y = df_cleaned['DG_O'], name = 'O vs OH',\n",
    "                    text = df_cleaned['formula'],\n",
    "                    mode = 'markers', marker = dict(size = 15, symbol = 30,\n",
    "                                                    color = 'rgb(255,0,0)'))\n",
    "trace3 = go.Scatter(x = df_cleaned['DG_OH'], y = df_cleaned['DG_OH'], name = 'OH vs OH',\n",
    "                    text = df_cleaned['formula'],\n",
    "                    mode = 'markers', marker = dict(size = 15, symbol = 0))\n",
    "\n",
    "trace4 = go.Scatter(x=x_range, y= y1_range, name = 'OOH_fit',\n",
    "                    mode = 'lines', marker=dict(color = 'blue'))\n",
    "trace5 = go.Scatter(x=x_range, y= y2_range, name = 'O_fit',\n",
    "                    mode = 'lines', marker=dict(color = 'red'))\n",
    "trace6 = go.Scatter(x=x_range, y= y3_range, name = 'OH_fit',\n",
    "                    mode = 'lines', marker=dict(color = 'green'))\n",
    "\n",
    "data = [trace1, trace2, trace3, trace4, trace5, trace6]\n",
    "\n",
    "layout = go.Layout(height = 600, width = 800, title = 'scaling relation',\n",
    "                   titlefont = dict(size = 25), template= 'seaborn',\n",
    "                    )\n",
    "\n",
    "fig = go.Figure(data = data, layout = layout)\n",
    "\n",
    "fig.update_xaxes(title_text = r'$\\Delta G_{\\text{OH}} \\text{ (eV)}$', titlefont = dict(size = 25),\n",
    "                 tickfont = dict(size=18),\n",
    "                   zeroline = False,\n",
    "                   gridwidth = 1)\n",
    "fig.update_yaxes(title_text = r'$\\Delta G_{\\text{X}} \\text{ (eV)}$', titlefont = dict(size = 25),\n",
    "                 tickfont = dict(size=18),\n",
    "                   zeroline = False,\n",
    "                   gridwidth = 1)\n",
    "annotations = []\n",
    "annotations.append(dict(x=2, y= 1,\n",
    "                        text = r'$\\Delta G_{\\text{OOH}} = \\text{%4.3f} \\Delta G_{\\text{OH}} + \\text{%4.3f}$'\n",
    "                               % (coeff_OOH, intercept_OOH),\n",
    "                        xshift = 50, yshift = -80,\n",
    "                        font = dict(size = 20, color = 'blue')))\n",
    "annotations.append(dict(x=2, y= 0.5, text = r'$\\Delta G_{\\text{O}} = \\text{%4.3f} \\Delta G_{\\text{OH}} + \\text{%4.3f}$'\n",
    "                                          % (coeff_O, intercept_O),\n",
    "                        xshift = 50, yshift = -90,\n",
    "                        font = dict(size = 20, color = 'red')))\n",
    "\n",
    "annotations.append(dict(x=2, y= 0, text = r'$\\Delta G_{\\text{OH}} = \\text{%4.3f} \\Delta G_{\\text{OH}} + \\text{%4.3f}$'\n",
    "                                          % (coeff_OH, intercept_OH),\n",
    "                        xshift = 50, yshift = -100,\n",
    "                        font = dict(size = 20, color = 'green')))\n",
    "\n",
    "fig.update_layout(annotations = annotations)\n",
    "\n",
    "# plot(fig, auto_open = True, filename = 'plots/scaling_relations.html', include_mathjax='cdn')\n",
    "fig.show()\n",
    "# py.iplot(fig)"
   ]
  },
  {
   "cell_type": "code",
   "execution_count": 70,
   "metadata": {},
   "outputs": [
    {
     "data": {
      "application/vnd.plotly.v1+json": {
       "config": {
        "plotlyServerURL": "https://plot.ly"
       },
       "data": [
        {
         "mode": "lines+text",
         "name": "SrTcO3",
         "text": [
          "",
          "H2O",
          "",
          "OH*",
          "",
          "O*",
          "",
          "OOH*",
          "",
          "O2(g)"
         ],
         "textposition": "bottom center",
         "type": "scatter",
         "x": [
          0,
          1,
          1,
          2,
          2,
          3,
          3,
          4,
          4,
          5
         ],
         "xaxis": "x",
         "y": [
          0,
          0,
          -1.077,
          -1.077,
          -0.727,
          -0.727,
          2.136,
          2.136,
          4.92,
          4.92
         ],
         "yaxis": "y"
        },
        {
         "mode": "lines+text",
         "name": "BaFeO3",
         "text": [
          "",
          "H2O",
          "",
          "OH*",
          "",
          "O*",
          "",
          "OOH*",
          "",
          "O2(g)"
         ],
         "textposition": "bottom center",
         "type": "scatter",
         "x": [
          0,
          1,
          1,
          2,
          2,
          3,
          3,
          4,
          4,
          5
         ],
         "xaxis": "x2",
         "y": [
          0,
          0,
          1.729,
          1.729,
          4.432,
          4.432,
          4.572,
          4.572,
          4.92,
          4.92
         ],
         "yaxis": "y2"
        },
        {
         "mode": "lines+text",
         "name": "BaMoO3",
         "text": [
          "",
          "H2O",
          "",
          "OH*",
          "",
          "O*",
          "",
          "OOH*",
          "",
          "O2(g)"
         ],
         "textposition": "bottom center",
         "type": "scatter",
         "x": [
          0,
          1,
          1,
          2,
          2,
          3,
          3,
          4,
          4,
          5
         ],
         "xaxis": "x3",
         "y": [
          0,
          0,
          -0.597,
          -0.597,
          -0.873,
          -0.873,
          2.674,
          2.674,
          4.92,
          4.92
         ],
         "yaxis": "y3"
        },
        {
         "mode": "lines+text",
         "name": "KTaO3",
         "text": [
          "",
          "H2O",
          "",
          "OH*",
          "",
          "O*",
          "",
          "OOH*",
          "",
          "O2(g)"
         ],
         "textposition": "bottom center",
         "type": "scatter",
         "x": [
          0,
          1,
          1,
          2,
          2,
          3,
          3,
          4,
          4,
          5
         ],
         "xaxis": "x4",
         "y": [
          0,
          0,
          -1.296,
          -1.296,
          -0.634,
          -0.634,
          2.23,
          2.23,
          4.92,
          4.92
         ],
         "yaxis": "y4"
        },
        {
         "mode": "lines+text",
         "name": "BaZrO3",
         "text": [
          "",
          "H2O",
          "",
          "OH*",
          "",
          "O*",
          "",
          "OOH*",
          "",
          "O2(g)"
         ],
         "textposition": "bottom center",
         "type": "scatter",
         "x": [
          0,
          1,
          1,
          2,
          2,
          3,
          3,
          4,
          4,
          5
         ],
         "xaxis": "x5",
         "y": [
          0,
          0,
          0.995,
          0.995,
          4.123,
          4.123,
          4.361,
          4.361,
          4.92,
          4.92
         ],
         "yaxis": "y5"
        },
        {
         "mode": "lines+text",
         "name": "SrFeO3",
         "text": [
          "",
          "H2O",
          "",
          "OH*",
          "",
          "O*",
          "",
          "OOH*",
          "",
          "O2(g)"
         ],
         "textposition": "bottom center",
         "type": "scatter",
         "x": [
          0,
          1,
          1,
          2,
          2,
          3,
          3,
          4,
          4,
          5
         ],
         "xaxis": "x6",
         "y": [
          0,
          0,
          1.731,
          1.731,
          4.586,
          4.586,
          4.595,
          4.595,
          4.92,
          4.92
         ],
         "yaxis": "y6"
        },
        {
         "mode": "lines+text",
         "name": "KTcO3",
         "text": [
          "",
          "H2O",
          "",
          "OH*",
          "",
          "O*",
          "",
          "OOH*",
          "",
          "O2(g)"
         ],
         "textposition": "bottom center",
         "type": "scatter",
         "x": [
          0,
          1,
          1,
          2,
          2,
          3,
          3,
          4,
          4,
          5
         ],
         "xaxis": "x7",
         "y": [
          0,
          0,
          -0.255,
          -0.255,
          0.426,
          0.426,
          2.886,
          2.886,
          4.92,
          4.92
         ],
         "yaxis": "y7"
        },
        {
         "mode": "lines+text",
         "name": "NaTcO3",
         "text": [
          "",
          "H2O",
          "",
          "OH*",
          "",
          "O*",
          "",
          "OOH*",
          "",
          "O2(g)"
         ],
         "textposition": "bottom center",
         "type": "scatter",
         "x": [
          0,
          1,
          1,
          2,
          2,
          3,
          3,
          4,
          4,
          5
         ],
         "xaxis": "x8",
         "y": [
          0,
          0,
          -0.362,
          -0.362,
          0.281,
          0.281,
          2.804,
          2.804,
          4.92,
          4.92
         ],
         "yaxis": "y8"
        },
        {
         "mode": "lines+text",
         "name": "BaHfO3",
         "text": [
          "",
          "H2O",
          "",
          "OH*",
          "",
          "O*",
          "",
          "OOH*",
          "",
          "O2(g)"
         ],
         "textposition": "bottom center",
         "type": "scatter",
         "x": [
          0,
          1,
          1,
          2,
          2,
          3,
          3,
          4,
          4,
          5
         ],
         "xaxis": "x9",
         "y": [
          0,
          0,
          0.896,
          0.896,
          4.003,
          4.003,
          4.192,
          4.192,
          4.92,
          4.92
         ],
         "yaxis": "y9"
        },
        {
         "mode": "lines+text",
         "name": "SrTiO3",
         "text": [
          "",
          "H2O",
          "",
          "OH*",
          "",
          "O*",
          "",
          "OOH*",
          "",
          "O2(g)"
         ],
         "textposition": "bottom center",
         "type": "scatter",
         "x": [
          0,
          1,
          1,
          2,
          2,
          3,
          3,
          4,
          4,
          5
         ],
         "xaxis": "x10",
         "y": [
          0,
          0,
          0.981,
          0.981,
          3.869,
          3.869,
          4.287,
          4.287,
          4.92,
          4.92
         ],
         "yaxis": "y10"
        },
        {
         "mode": "lines+text",
         "name": "SrCuO3",
         "text": [
          "",
          "H2O",
          "",
          "OH*",
          "",
          "O*",
          "",
          "OOH*",
          "",
          "O2(g)"
         ],
         "textposition": "bottom center",
         "type": "scatter",
         "x": [
          0,
          1,
          1,
          2,
          2,
          3,
          3,
          4,
          4,
          5
         ],
         "xaxis": "x11",
         "y": [
          0,
          0,
          1.712,
          1.712,
          4.21,
          4.21,
          4.662,
          4.662,
          4.92,
          4.92
         ],
         "yaxis": "y11"
        },
        {
         "mode": "lines+text",
         "name": "KNbO3",
         "text": [
          "",
          "H2O",
          "",
          "OH*",
          "",
          "O*",
          "",
          "OOH*",
          "",
          "O2(g)"
         ],
         "textposition": "bottom center",
         "type": "scatter",
         "x": [
          0,
          1,
          1,
          2,
          2,
          3,
          3,
          4,
          4,
          5
         ],
         "xaxis": "x12",
         "y": [
          0,
          0,
          -0.512,
          -0.512,
          0.445,
          0.445,
          2.953,
          2.953,
          4.92,
          4.92
         ],
         "yaxis": "y12"
        },
        {
         "mode": "lines+text",
         "name": "NaTaO3",
         "text": [
          "",
          "H2O",
          "",
          "OH*",
          "",
          "O*",
          "",
          "OOH*",
          "",
          "O2(g)"
         ],
         "textposition": "bottom center",
         "type": "scatter",
         "x": [
          0,
          1,
          1,
          2,
          2,
          3,
          3,
          4,
          4,
          5
         ],
         "xaxis": "x13",
         "y": [
          0,
          0,
          -1.424,
          -1.424,
          -0.919,
          -0.919,
          2.078,
          2.078,
          4.92,
          4.92
         ],
         "yaxis": "y13"
        },
        {
         "mode": "lines+text",
         "name": "BaScO3",
         "text": [
          "",
          "H2O",
          "",
          "OH*",
          "",
          "O*",
          "",
          "OOH*",
          "",
          "O2(g)"
         ],
         "textposition": "bottom center",
         "type": "scatter",
         "x": [
          0,
          1,
          1,
          2,
          2,
          3,
          3,
          4,
          4,
          5
         ],
         "xaxis": "x14",
         "y": [
          0,
          0,
          1.852,
          1.852,
          4.68,
          4.68,
          4.632,
          4.632,
          4.92,
          4.92
         ],
         "yaxis": "y14"
        },
        {
         "mode": "lines+text",
         "name": "BaPdO3",
         "text": [
          "",
          "H2O",
          "",
          "OH*",
          "",
          "O*",
          "",
          "OOH*",
          "",
          "O2(g)"
         ],
         "textposition": "bottom center",
         "type": "scatter",
         "x": [
          0,
          1,
          1,
          2,
          2,
          3,
          3,
          4,
          4,
          5
         ],
         "xaxis": "x15",
         "y": [
          0,
          0,
          1.405,
          1.405,
          3.435,
          3.435,
          4.32,
          4.32,
          4.92,
          4.92
         ],
         "yaxis": "y15"
        },
        {
         "mode": "lines+text",
         "name": "BaTaO3",
         "text": [
          "",
          "H2O",
          "",
          "OH*",
          "",
          "O*",
          "",
          "OOH*",
          "",
          "O2(g)"
         ],
         "textposition": "bottom center",
         "type": "scatter",
         "x": [
          0,
          1,
          1,
          2,
          2,
          3,
          3,
          4,
          4,
          5
         ],
         "xaxis": "x16",
         "y": [
          0,
          0,
          -2.181,
          -2.181,
          -2.592,
          -2.592,
          -4.578,
          -4.578,
          4.92,
          4.92
         ],
         "yaxis": "y16"
        },
        {
         "mode": "lines+text",
         "name": "SrHfO3",
         "text": [
          "",
          "H2O",
          "",
          "OH*",
          "",
          "O*",
          "",
          "OOH*",
          "",
          "O2(g)"
         ],
         "textposition": "bottom center",
         "type": "scatter",
         "x": [
          0,
          1,
          1,
          2,
          2,
          3,
          3,
          4,
          4,
          5
         ],
         "xaxis": "x17",
         "y": [
          0,
          0,
          0.786,
          0.786,
          3.932,
          3.932,
          4.115,
          4.115,
          4.92,
          4.92
         ],
         "yaxis": "y17"
        },
        {
         "mode": "lines+text",
         "name": "NaOsO3",
         "text": [
          "",
          "H2O",
          "",
          "OH*",
          "",
          "O*",
          "",
          "OOH*",
          "",
          "O2(g)"
         ],
         "textposition": "bottom center",
         "type": "scatter",
         "x": [
          0,
          1,
          1,
          2,
          2,
          3,
          3,
          4,
          4,
          5
         ],
         "xaxis": "x18",
         "y": [
          0,
          0,
          -0.649,
          -0.649,
          0.557,
          0.557,
          2.758,
          2.758,
          4.92,
          4.92
         ],
         "yaxis": "y18"
        },
        {
         "mode": "lines+text",
         "name": "TlTcO3",
         "text": [
          "",
          "H2O",
          "",
          "OH*",
          "",
          "O*",
          "",
          "OOH*",
          "",
          "O2(g)"
         ],
         "textposition": "bottom center",
         "type": "scatter",
         "x": [
          0,
          1,
          1,
          2,
          2,
          3,
          3,
          4,
          4,
          5
         ],
         "xaxis": "x19",
         "y": [
          0,
          0,
          -0.326,
          -0.326,
          0.293,
          0.293,
          2.755,
          2.755,
          4.92,
          4.92
         ],
         "yaxis": "y19"
        },
        {
         "mode": "lines+text",
         "name": "KReO3",
         "text": [
          "",
          "H2O",
          "",
          "OH*",
          "",
          "O*",
          "",
          "OOH*",
          "",
          "O2(g)"
         ],
         "textposition": "bottom center",
         "type": "scatter",
         "x": [
          0,
          1,
          1,
          2,
          2,
          3,
          3,
          4,
          4,
          5
         ],
         "xaxis": "x20",
         "y": [
          0,
          0,
          -1.028,
          -1.028,
          -0.564,
          -0.564,
          2.194,
          2.194,
          4.92,
          4.92
         ],
         "yaxis": "y20"
        },
        {
         "mode": "lines+text",
         "name": "SrRuO3",
         "text": [
          "",
          "H2O",
          "",
          "OH*",
          "",
          "O*",
          "",
          "OOH*",
          "",
          "O2(g)"
         ],
         "textposition": "bottom center",
         "type": "scatter",
         "x": [
          0,
          1,
          1,
          2,
          2,
          3,
          3,
          4,
          4,
          5
         ],
         "xaxis": "x21",
         "y": [
          0,
          0,
          -0.035,
          -0.035,
          0.94,
          0.94,
          3.061,
          3.061,
          4.92,
          4.92
         ],
         "yaxis": "y21"
        },
        {
         "mode": "lines+text",
         "name": "KHfO3",
         "text": [
          "",
          "H2O",
          "",
          "OH*",
          "",
          "O*",
          "",
          "OOH*",
          "",
          "O2(g)"
         ],
         "textposition": "bottom center",
         "type": "scatter",
         "x": [
          0,
          1,
          1,
          2,
          2,
          3,
          3,
          4,
          4,
          5
         ],
         "xaxis": "x22",
         "y": [
          0,
          0,
          1.651,
          1.651,
          4.387,
          4.387,
          4.461,
          4.461,
          4.92,
          4.92
         ],
         "yaxis": "y22"
        },
        {
         "mode": "lines+text",
         "name": "SrVO3",
         "text": [
          "",
          "H2O",
          "",
          "OH*",
          "",
          "O*",
          "",
          "OOH*",
          "",
          "O2(g)"
         ],
         "textposition": "bottom center",
         "type": "scatter",
         "x": [
          0,
          1,
          1,
          2,
          2,
          3,
          3,
          4,
          4,
          5
         ],
         "xaxis": "x23",
         "y": [
          0,
          0,
          -0.486,
          -0.486,
          0.496,
          0.496,
          2.681,
          2.681,
          4.92,
          4.92
         ],
         "yaxis": "y23"
        },
        {
         "mode": "lines+text",
         "name": "KOsO3",
         "text": [
          "",
          "H2O",
          "",
          "OH*",
          "",
          "O*",
          "",
          "OOH*",
          "",
          "O2(g)"
         ],
         "textposition": "bottom center",
         "type": "scatter",
         "x": [
          0,
          1,
          1,
          2,
          2,
          3,
          3,
          4,
          4,
          5
         ],
         "xaxis": "x24",
         "y": [
          0,
          0,
          -0.759,
          -0.759,
          0.679,
          0.679,
          2.457,
          2.457,
          4.92,
          4.92
         ],
         "yaxis": "y24"
        },
        {
         "mode": "lines+text",
         "name": "TaAgO3",
         "text": [
          "",
          "H2O",
          "",
          "OH*",
          "",
          "O*",
          "",
          "OOH*",
          "",
          "O2(g)"
         ],
         "textposition": "bottom center",
         "type": "scatter",
         "x": [
          0,
          1,
          1,
          2,
          2,
          3,
          3,
          4,
          4,
          5
         ],
         "xaxis": "x25",
         "y": [
          0,
          0,
          -1.351,
          -1.351,
          -0.989,
          -0.989,
          2.167,
          2.167,
          4.92,
          4.92
         ],
         "yaxis": "y25"
        },
        {
         "mode": "lines+text",
         "name": "SrNiO3",
         "text": [
          "",
          "H2O",
          "",
          "OH*",
          "",
          "O*",
          "",
          "OOH*",
          "",
          "O2(g)"
         ],
         "textposition": "bottom center",
         "type": "scatter",
         "x": [
          0,
          1,
          1,
          2,
          2,
          3,
          3,
          4,
          4,
          5
         ],
         "xaxis": "x26",
         "y": [
          0,
          0,
          3.179,
          3.179,
          4.417,
          4.417,
          4.296,
          4.296,
          4.92,
          4.92
         ],
         "yaxis": "y26"
        },
        {
         "mode": "lines+text",
         "name": "RbIrO3",
         "text": [
          "",
          "H2O",
          "",
          "OH*",
          "",
          "O*",
          "",
          "OOH*",
          "",
          "O2(g)"
         ],
         "textposition": "bottom center",
         "type": "scatter",
         "x": [
          0,
          1,
          1,
          2,
          2,
          3,
          3,
          4,
          4,
          5
         ],
         "xaxis": "x27",
         "y": [
          0,
          0,
          0.681,
          0.681,
          2.395,
          2.395,
          3.79,
          3.79,
          4.92,
          4.92
         ],
         "yaxis": "y27"
        },
        {
         "mode": "lines+text",
         "name": "NaReO3",
         "text": [
          "",
          "H2O",
          "",
          "OH*",
          "",
          "O*",
          "",
          "OOH*",
          "",
          "O2(g)"
         ],
         "textposition": "bottom center",
         "type": "scatter",
         "x": [
          0,
          1,
          1,
          2,
          2,
          3,
          3,
          4,
          4,
          5
         ],
         "xaxis": "x28",
         "y": [
          0,
          0,
          -1.126,
          -1.126,
          -0.717,
          -0.717,
          2.104,
          2.104,
          4.92,
          4.92
         ],
         "yaxis": "y28"
        },
        {
         "mode": "lines+text",
         "name": "SrMnO3",
         "text": [
          "",
          "H2O",
          "",
          "OH*",
          "",
          "O*",
          "",
          "OOH*",
          "",
          "O2(g)"
         ],
         "textposition": "bottom center",
         "type": "scatter",
         "x": [
          0,
          1,
          1,
          2,
          2,
          3,
          3,
          4,
          4,
          5
         ],
         "xaxis": "x29",
         "y": [
          0,
          0,
          2.253,
          2.253,
          4.628,
          4.628,
          5.164,
          5.164,
          4.92,
          4.92
         ],
         "yaxis": "y29"
        },
        {
         "mode": "lines+text",
         "name": "CaFeO3",
         "text": [
          "",
          "H2O",
          "",
          "OH*",
          "",
          "O*",
          "",
          "OOH*",
          "",
          "O2(g)"
         ],
         "textposition": "bottom center",
         "type": "scatter",
         "x": [
          0,
          1,
          1,
          2,
          2,
          3,
          3,
          4,
          4,
          5
         ],
         "xaxis": "x30",
         "y": [
          0,
          0,
          1.632,
          1.632,
          4.257,
          4.257,
          4.581,
          4.581,
          4.92,
          4.92
         ],
         "yaxis": "y30"
        },
        {
         "mode": "lines+text",
         "name": "SrZrO3",
         "text": [
          "",
          "H2O",
          "",
          "OH*",
          "",
          "O*",
          "",
          "OOH*",
          "",
          "O2(g)"
         ],
         "textposition": "bottom center",
         "type": "scatter",
         "x": [
          0,
          1,
          1,
          2,
          2,
          3,
          3,
          4,
          4,
          5
         ],
         "xaxis": "x31",
         "y": [
          0,
          0,
          0.856,
          0.856,
          4.014,
          4.014,
          4.192,
          4.192,
          4.92,
          4.92
         ],
         "yaxis": "y31"
        },
        {
         "mode": "lines+text",
         "name": "NaWO3",
         "text": [
          "",
          "H2O",
          "",
          "OH*",
          "",
          "O*",
          "",
          "OOH*",
          "",
          "O2(g)"
         ],
         "textposition": "bottom center",
         "type": "scatter",
         "x": [
          0,
          1,
          1,
          2,
          2,
          3,
          3,
          4,
          4,
          5
         ],
         "xaxis": "x32",
         "y": [
          0,
          0,
          "NaN",
          "NaN",
          -1.597,
          -1.597,
          "NaN",
          "NaN",
          4.92,
          4.92
         ],
         "yaxis": "y32"
        },
        {
         "mode": "lines+text",
         "name": "RbTaO3",
         "text": [
          "",
          "H2O",
          "",
          "OH*",
          "",
          "O*",
          "",
          "OOH*",
          "",
          "O2(g)"
         ],
         "textposition": "bottom center",
         "type": "scatter",
         "x": [
          0,
          1,
          1,
          2,
          2,
          3,
          3,
          4,
          4,
          5
         ],
         "xaxis": "x33",
         "y": [
          0,
          0,
          -1.292,
          -1.292,
          -0.637,
          -0.637,
          2.274,
          2.274,
          4.92,
          4.92
         ],
         "yaxis": "y33"
        },
        {
         "mode": "lines+text",
         "name": "SrCoO3",
         "text": [
          "",
          "H2O",
          "",
          "OH*",
          "",
          "O*",
          "",
          "OOH*",
          "",
          "O2(g)"
         ],
         "textposition": "bottom center",
         "type": "scatter",
         "x": [
          0,
          1,
          1,
          2,
          2,
          3,
          3,
          4,
          4,
          5
         ],
         "xaxis": "x34",
         "y": [
          0,
          0,
          0.868,
          0.868,
          3.116,
          3.116,
          3.916,
          3.916,
          4.92,
          4.92
         ],
         "yaxis": "y34"
        },
        {
         "mode": "lines+text",
         "name": "SrTaO3",
         "text": [
          "",
          "H2O",
          "",
          "OH*",
          "",
          "O*",
          "",
          "OOH*",
          "",
          "O2(g)"
         ],
         "textposition": "bottom center",
         "type": "scatter",
         "x": [
          0,
          1,
          1,
          2,
          2,
          3,
          3,
          4,
          4,
          5
         ],
         "xaxis": "x35",
         "y": [
          0,
          0,
          -2.318,
          -2.318,
          -2.803,
          -2.803,
          -5.211,
          -5.211,
          4.92,
          4.92
         ],
         "yaxis": "y35"
        },
        {
         "mode": "lines+text",
         "name": "KZrO3",
         "text": [
          "",
          "H2O",
          "",
          "OH*",
          "",
          "O*",
          "",
          "OOH*",
          "",
          "O2(g)"
         ],
         "textposition": "bottom center",
         "type": "scatter",
         "x": [
          0,
          1,
          1,
          2,
          2,
          3,
          3,
          4,
          4,
          5
         ],
         "xaxis": "x36",
         "y": [
          0,
          0,
          1.712,
          1.712,
          4.496,
          4.496,
          4.48,
          4.48,
          4.92,
          4.92
         ],
         "yaxis": "y36"
        },
        {
         "mode": "lines+text",
         "name": "CaTiO3",
         "text": [
          "",
          "H2O",
          "",
          "OH*",
          "",
          "O*",
          "",
          "OOH*",
          "",
          "O2(g)"
         ],
         "textposition": "bottom center",
         "type": "scatter",
         "x": [
          0,
          1,
          1,
          2,
          2,
          3,
          3,
          4,
          4,
          5
         ],
         "xaxis": "x37",
         "y": [
          0,
          0,
          0.968,
          0.968,
          3.891,
          3.891,
          4.347,
          4.347,
          4.92,
          4.92
         ],
         "yaxis": "y37"
        },
        {
         "mode": "lines+text",
         "name": "NaRuO3",
         "text": [
          "",
          "H2O",
          "",
          "OH*",
          "",
          "O*",
          "",
          "OOH*",
          "",
          "O2(g)"
         ],
         "textposition": "bottom center",
         "type": "scatter",
         "x": [
          0,
          1,
          1,
          2,
          2,
          3,
          3,
          4,
          4,
          5
         ],
         "xaxis": "x38",
         "y": [
          0,
          0,
          0.451,
          0.451,
          1.851,
          1.851,
          3.459,
          3.459,
          4.92,
          4.92
         ],
         "yaxis": "y38"
        },
        {
         "mode": "lines+text",
         "name": "LiTcO3",
         "text": [
          "",
          "H2O",
          "",
          "OH*",
          "",
          "O*",
          "",
          "OOH*",
          "",
          "O2(g)"
         ],
         "textposition": "bottom center",
         "type": "scatter",
         "x": [
          0,
          1,
          1,
          2,
          2,
          3,
          3,
          4,
          4,
          5
         ],
         "xaxis": "x39",
         "y": [
          0,
          0,
          -0.143,
          -0.143,
          0.601,
          0.601,
          3.006,
          3.006,
          4.92,
          4.92
         ],
         "yaxis": "y39"
        },
        {
         "mode": "lines+text",
         "name": "SrPdO3",
         "text": [
          "",
          "H2O",
          "",
          "OH*",
          "",
          "O*",
          "",
          "OOH*",
          "",
          "O2(g)"
         ],
         "textposition": "bottom center",
         "type": "scatter",
         "x": [
          0,
          1,
          1,
          2,
          2,
          3,
          3,
          4,
          4,
          5
         ],
         "xaxis": "x40",
         "y": [
          0,
          0,
          0.604,
          0.604,
          3.156,
          3.156,
          3.396,
          3.396,
          4.92,
          4.92
         ],
         "yaxis": "y40"
        },
        {
         "mode": "lines+text",
         "name": "KWO3",
         "text": [
          "",
          "H2O",
          "",
          "OH*",
          "",
          "O*",
          "",
          "OOH*",
          "",
          "O2(g)"
         ],
         "textposition": "bottom center",
         "type": "scatter",
         "x": [
          0,
          1,
          1,
          2,
          2,
          3,
          3,
          4,
          4,
          5
         ],
         "xaxis": "x41",
         "y": [
          0,
          0,
          -1.419,
          -1.419,
          -1.22,
          -1.22,
          1.722,
          1.722,
          4.92,
          4.92
         ],
         "yaxis": "y41"
        },
        {
         "mode": "lines+text",
         "name": "KRhO3",
         "text": [
          "",
          "H2O",
          "",
          "OH*",
          "",
          "O*",
          "",
          "OOH*",
          "",
          "O2(g)"
         ],
         "textposition": "bottom center",
         "type": "scatter",
         "x": [
          0,
          1,
          1,
          2,
          2,
          3,
          3,
          4,
          4,
          5
         ],
         "xaxis": "x42",
         "y": [
          0,
          0,
          1.273,
          1.273,
          3.301,
          3.301,
          4.159,
          4.159,
          4.92,
          4.92
         ],
         "yaxis": "y42"
        },
        {
         "mode": "lines+text",
         "name": "BaCuO3",
         "text": [
          "",
          "H2O",
          "",
          "OH*",
          "",
          "O*",
          "",
          "OOH*",
          "",
          "O2(g)"
         ],
         "textposition": "bottom center",
         "type": "scatter",
         "x": [
          0,
          1,
          1,
          2,
          2,
          3,
          3,
          4,
          4,
          5
         ],
         "xaxis": "x43",
         "y": [
          0,
          0,
          1.526,
          1.526,
          3.93,
          3.93,
          4.41,
          4.41,
          4.92,
          4.92
         ],
         "yaxis": "y43"
        },
        {
         "mode": "lines+text",
         "name": "RbNbO3",
         "text": [
          "",
          "H2O",
          "",
          "OH*",
          "",
          "O*",
          "",
          "OOH*",
          "",
          "O2(g)"
         ],
         "textposition": "bottom center",
         "type": "scatter",
         "x": [
          0,
          1,
          1,
          2,
          2,
          3,
          3,
          4,
          4,
          5
         ],
         "xaxis": "x44",
         "y": [
          0,
          0,
          -0.639,
          -0.639,
          0.262,
          0.262,
          2.842,
          2.842,
          4.92,
          4.92
         ],
         "yaxis": "y44"
        },
        {
         "mode": "lines+text",
         "name": "BaOsO3",
         "text": [
          "",
          "H2O",
          "",
          "OH*",
          "",
          "O*",
          "",
          "OOH*",
          "",
          "O2(g)"
         ],
         "textposition": "bottom center",
         "type": "scatter",
         "x": [
          0,
          1,
          1,
          2,
          2,
          3,
          3,
          4,
          4,
          5
         ],
         "xaxis": "x45",
         "y": [
          0,
          0,
          -1.779,
          -1.779,
          -0.748,
          -0.748,
          1.796,
          1.796,
          4.92,
          4.92
         ],
         "yaxis": "y45"
        },
        {
         "mode": "lines+text",
         "name": "BaRuO3",
         "text": [
          "",
          "H2O",
          "",
          "OH*",
          "",
          "O*",
          "",
          "OOH*",
          "",
          "O2(g)"
         ],
         "textposition": "bottom center",
         "type": "scatter",
         "x": [
          0,
          1,
          1,
          2,
          2,
          3,
          3,
          4,
          4,
          5
         ],
         "xaxis": "x46",
         "y": [
          0,
          0,
          0.151,
          0.151,
          1.283,
          1.283,
          3.168,
          3.168,
          4.92,
          4.92
         ],
         "yaxis": "y46"
        },
        {
         "mode": "lines+text",
         "name": "KRuO3",
         "text": [
          "",
          "H2O",
          "",
          "OH*",
          "",
          "O*",
          "",
          "OOH*",
          "",
          "O2(g)"
         ],
         "textposition": "bottom center",
         "type": "scatter",
         "x": [
          0,
          1,
          1,
          2,
          2,
          3,
          3,
          4,
          4,
          5
         ],
         "xaxis": "x47",
         "y": [
          0,
          0,
          0.535,
          0.535,
          1.986,
          1.986,
          3.627,
          3.627,
          4.92,
          4.92
         ],
         "yaxis": "y47"
        },
        {
         "mode": "lines+text",
         "name": "SrMoO3",
         "text": [
          "",
          "H2O",
          "",
          "OH*",
          "",
          "O*",
          "",
          "OOH*",
          "",
          "O2(g)"
         ],
         "textposition": "bottom center",
         "type": "scatter",
         "x": [
          0,
          1,
          1,
          2,
          2,
          3,
          3,
          4,
          4,
          5
         ],
         "xaxis": "x48",
         "y": [
          0,
          0,
          -1.425,
          -1.425,
          -1.395,
          -1.395,
          1.871,
          1.871,
          4.92,
          4.92
         ],
         "yaxis": "y48"
        },
        {
         "mode": "lines+text",
         "name": "NaTiO3",
         "text": [
          "",
          "H2O",
          "",
          "OH*",
          "",
          "O*",
          "",
          "OOH*",
          "",
          "O2(g)"
         ],
         "textposition": "bottom center",
         "type": "scatter",
         "x": [
          0,
          1,
          1,
          2,
          2,
          3,
          3,
          4,
          4,
          5
         ],
         "xaxis": "x49",
         "y": [
          0,
          0,
          1.91,
          1.91,
          4.548,
          4.548,
          4.573,
          4.573,
          4.92,
          4.92
         ],
         "yaxis": "y49"
        },
        {
         "mode": "lines+text",
         "name": "SrScO3",
         "text": [
          "",
          "H2O",
          "",
          "OH*",
          "",
          "O*",
          "",
          "OOH*",
          "",
          "O2(g)"
         ],
         "textposition": "bottom center",
         "type": "scatter",
         "x": [
          0,
          1,
          1,
          2,
          2,
          3,
          3,
          4,
          4,
          5
         ],
         "xaxis": "x50",
         "y": [
          0,
          0,
          1.851,
          1.851,
          4.657,
          4.657,
          4.618,
          4.618,
          4.92,
          4.92
         ],
         "yaxis": "y50"
        },
        {
         "mode": "lines+text",
         "name": "RbOsO3",
         "text": [
          "",
          "H2O",
          "",
          "OH*",
          "",
          "O*",
          "",
          "OOH*",
          "",
          "O2(g)"
         ],
         "textposition": "bottom center",
         "type": "scatter",
         "x": [
          0,
          1,
          1,
          2,
          2,
          3,
          3,
          4,
          4,
          5
         ],
         "xaxis": "x51",
         "y": [
          0,
          0,
          -0.225,
          -0.225,
          "NaN",
          "NaN",
          2.427,
          2.427,
          4.92,
          4.92
         ],
         "yaxis": "y51"
        },
        {
         "mode": "lines+text",
         "name": "SrRhO3",
         "text": [
          "",
          "H2O",
          "",
          "OH*",
          "",
          "O*",
          "",
          "OOH*",
          "",
          "O2(g)"
         ],
         "textposition": "bottom center",
         "type": "scatter",
         "x": [
          0,
          1,
          1,
          2,
          2,
          3,
          3,
          4,
          4,
          5
         ],
         "xaxis": "x52",
         "y": [
          0,
          0,
          0.204,
          0.204,
          2.131,
          2.131,
          3.151,
          3.151,
          4.92,
          4.92
         ],
         "yaxis": "y52"
        },
        {
         "mode": "lines+text",
         "name": "NaMoO3",
         "text": [
          "",
          "H2O",
          "",
          "OH*",
          "",
          "O*",
          "",
          "OOH*",
          "",
          "O2(g)"
         ],
         "textposition": "bottom center",
         "type": "scatter",
         "x": [
          0,
          1,
          1,
          2,
          2,
          3,
          3,
          4,
          4,
          5
         ],
         "xaxis": "x53",
         "y": [
          0,
          0,
          -0.71,
          -0.71,
          -0.685,
          -0.685,
          2.279,
          2.279,
          4.92,
          4.92
         ],
         "yaxis": "y53"
        },
        {
         "mode": "lines+text",
         "name": "SrOsO3",
         "text": [
          "",
          "H2O",
          "",
          "OH*",
          "",
          "O*",
          "",
          "OOH*",
          "",
          "O2(g)"
         ],
         "textposition": "bottom center",
         "type": "scatter",
         "x": [
          0,
          1,
          1,
          2,
          2,
          3,
          3,
          4,
          4,
          5
         ],
         "xaxis": "x54",
         "y": [
          0,
          0,
          -0.842,
          -0.842,
          "NaN",
          "NaN",
          "NaN",
          "NaN",
          4.92,
          4.92
         ],
         "yaxis": "y54"
        },
        {
         "mode": "lines+text",
         "name": "BaRhO3",
         "text": [
          "",
          "H2O",
          "",
          "OH*",
          "",
          "O*",
          "",
          "OOH*",
          "",
          "O2(g)"
         ],
         "textposition": "bottom center",
         "type": "scatter",
         "x": [
          0,
          1,
          1,
          2,
          2,
          3,
          3,
          4,
          4,
          5
         ],
         "xaxis": "x55",
         "y": [
          0,
          0,
          0.791,
          0.791,
          2.441,
          2.441,
          3.77,
          3.77,
          4.92,
          4.92
         ],
         "yaxis": "y55"
        },
        {
         "mode": "lines+text",
         "name": "BaPtO3",
         "text": [
          "",
          "H2O",
          "",
          "OH*",
          "",
          "O*",
          "",
          "OOH*",
          "",
          "O2(g)"
         ],
         "textposition": "bottom center",
         "type": "scatter",
         "x": [
          0,
          1,
          1,
          2,
          2,
          3,
          3,
          4,
          4,
          5
         ],
         "xaxis": "x56",
         "y": [
          0,
          0,
          0.806,
          0.806,
          2.54,
          2.54,
          3.814,
          3.814,
          4.92,
          4.92
         ],
         "yaxis": "y56"
        },
        {
         "mode": "lines+text",
         "name": "CaVO3",
         "text": [
          "",
          "H2O",
          "",
          "OH*",
          "",
          "O*",
          "",
          "OOH*",
          "",
          "O2(g)"
         ],
         "textposition": "bottom center",
         "type": "scatter",
         "x": [
          0,
          1,
          1,
          2,
          2,
          3,
          3,
          4,
          4,
          5
         ],
         "xaxis": "x57",
         "y": [
          0,
          0,
          -0.476,
          -0.476,
          0.369,
          0.369,
          3.031,
          3.031,
          4.92,
          4.92
         ],
         "yaxis": "y57"
        },
        {
         "mode": "lines+text",
         "name": "KMoO3",
         "text": [
          "",
          "H2O",
          "",
          "OH*",
          "",
          "O*",
          "",
          "OOH*",
          "",
          "O2(g)"
         ],
         "textposition": "bottom center",
         "type": "scatter",
         "x": [
          0,
          1,
          1,
          2,
          2,
          3,
          3,
          4,
          4,
          5
         ],
         "xaxis": "x58",
         "y": [
          0,
          0,
          -0.853,
          -0.853,
          -0.432,
          -0.432,
          2.287,
          2.287,
          4.92,
          4.92
         ],
         "yaxis": "y58"
        },
        {
         "mode": "lines+text",
         "name": "SrCrO3",
         "text": [
          "",
          "H2O",
          "",
          "OH*",
          "",
          "O*",
          "",
          "OOH*",
          "",
          "O2(g)"
         ],
         "textposition": "bottom center",
         "type": "scatter",
         "x": [
          0,
          1,
          1,
          2,
          2,
          3,
          3,
          4,
          4,
          5
         ],
         "xaxis": "x59",
         "y": [
          0,
          0,
          0.351,
          0.351,
          2.026,
          2.026,
          3.484,
          3.484,
          4.92,
          4.92
         ],
         "yaxis": "y59"
        },
        {
         "mode": "lines+text",
         "name": "SrAgO3",
         "text": [
          "",
          "H2O",
          "",
          "OH*",
          "",
          "O*",
          "",
          "OOH*",
          "",
          "O2(g)"
         ],
         "textposition": "bottom center",
         "type": "scatter",
         "x": [
          0,
          1,
          1,
          2,
          2,
          3,
          3,
          4,
          4,
          5
         ],
         "xaxis": "x60",
         "y": [
          0,
          0,
          1.608,
          1.608,
          4.27,
          4.27,
          2.388,
          2.388,
          4.92,
          4.92
         ],
         "yaxis": "y60"
        },
        {
         "mode": "lines+text",
         "name": "RbRhO3",
         "text": [
          "",
          "H2O",
          "",
          "OH*",
          "",
          "O*",
          "",
          "OOH*",
          "",
          "O2(g)"
         ],
         "textposition": "bottom center",
         "type": "scatter",
         "x": [
          0,
          1,
          1,
          2,
          2,
          3,
          3,
          4,
          4,
          5
         ],
         "xaxis": "x61",
         "y": [
          0,
          0,
          0.995,
          0.995,
          3.18,
          3.18,
          3.724,
          3.724,
          4.92,
          4.92
         ],
         "yaxis": "y61"
        },
        {
         "mode": "lines+text",
         "name": "BaVO3",
         "text": [
          "",
          "H2O",
          "",
          "OH*",
          "",
          "O*",
          "",
          "OOH*",
          "",
          "O2(g)"
         ],
         "textposition": "bottom center",
         "type": "scatter",
         "x": [
          0,
          1,
          1,
          2,
          2,
          3,
          3,
          4,
          4,
          5
         ],
         "xaxis": "x62",
         "y": [
          0,
          0,
          -0.769,
          -0.769,
          0.484,
          0.484,
          3.021,
          3.021,
          4.92,
          4.92
         ],
         "yaxis": "y62"
        },
        {
         "mode": "lines+text",
         "name": "CaCoO3",
         "text": [
          "",
          "H2O",
          "",
          "OH*",
          "",
          "O*",
          "",
          "OOH*",
          "",
          "O2(g)"
         ],
         "textposition": "bottom center",
         "type": "scatter",
         "x": [
          0,
          1,
          1,
          2,
          2,
          3,
          3,
          4,
          4,
          5
         ],
         "xaxis": "x63",
         "y": [
          0,
          0,
          1.341,
          1.341,
          3.405,
          3.405,
          4.338,
          4.338,
          4.92,
          4.92
         ],
         "yaxis": "y63"
        },
        {
         "mode": "lines+text",
         "name": "CaMnO3",
         "text": [
          "",
          "H2O",
          "",
          "OH*",
          "",
          "O*",
          "",
          "OOH*",
          "",
          "O2(g)"
         ],
         "textposition": "bottom center",
         "type": "scatter",
         "x": [
          0,
          1,
          1,
          2,
          2,
          3,
          3,
          4,
          4,
          5
         ],
         "xaxis": "x64",
         "y": [
          0,
          0,
          1.113,
          1.113,
          4.269,
          4.269,
          4.622,
          4.622,
          4.92,
          4.92
         ],
         "yaxis": "y64"
        },
        {
         "mode": "lines+text",
         "name": "KPtO3",
         "text": [
          "",
          "H2O",
          "",
          "OH*",
          "",
          "O*",
          "",
          "OOH*",
          "",
          "O2(g)"
         ],
         "textposition": "bottom center",
         "type": "scatter",
         "x": [
          0,
          1,
          1,
          2,
          2,
          3,
          3,
          4,
          4,
          5
         ],
         "xaxis": "x65",
         "y": [
          0,
          0,
          0.997,
          0.997,
          2.928,
          2.928,
          3.935,
          3.935,
          4.92,
          4.92
         ],
         "yaxis": "y65"
        },
        {
         "mode": "lines+text",
         "name": "BaNiO3",
         "text": [
          "",
          "H2O",
          "",
          "OH*",
          "",
          "O*",
          "",
          "OOH*",
          "",
          "O2(g)"
         ],
         "textposition": "bottom center",
         "type": "scatter",
         "x": [
          0,
          1,
          1,
          2,
          2,
          3,
          3,
          4,
          4,
          5
         ],
         "xaxis": "x66",
         "y": [
          0,
          0,
          1.972,
          1.972,
          4.39,
          4.39,
          4.598,
          4.598,
          4.92,
          4.92
         ],
         "yaxis": "y66"
        },
        {
         "mode": "lines+text",
         "name": "BaMnO3",
         "text": [
          "",
          "H2O",
          "",
          "OH*",
          "",
          "O*",
          "",
          "OOH*",
          "",
          "O2(g)"
         ],
         "textposition": "bottom center",
         "type": "scatter",
         "x": [
          0,
          1,
          1,
          2,
          2,
          3,
          3,
          4,
          4,
          5
         ],
         "xaxis": "x67",
         "y": [
          0,
          0,
          1.36,
          1.36,
          2.923,
          2.923,
          4.569,
          4.569,
          4.92,
          4.92
         ],
         "yaxis": "y67"
        },
        {
         "mode": "lines+text",
         "name": "SrReO3",
         "text": [
          "",
          "H2O",
          "",
          "OH*",
          "",
          "O*",
          "",
          "OOH*",
          "",
          "O2(g)"
         ],
         "textposition": "bottom center",
         "type": "scatter",
         "x": [
          0,
          1,
          1,
          2,
          2,
          3,
          3,
          4,
          4,
          5
         ],
         "xaxis": "x68",
         "y": [
          0,
          0,
          -1.576,
          -1.576,
          -1.298,
          -1.298,
          -2.934,
          -2.934,
          4.92,
          4.92
         ],
         "yaxis": "y68"
        },
        {
         "mode": "lines+text",
         "name": "BaReO3",
         "text": [
          "",
          "H2O",
          "",
          "OH*",
          "",
          "O*",
          "",
          "OOH*",
          "",
          "O2(g)"
         ],
         "textposition": "bottom center",
         "type": "scatter",
         "x": [
          0,
          1,
          1,
          2,
          2,
          3,
          3,
          4,
          4,
          5
         ],
         "xaxis": "x69",
         "y": [
          0,
          0,
          -1.07,
          -1.07,
          -1.149,
          -1.149,
          -2.258,
          -2.258,
          4.92,
          4.92
         ],
         "yaxis": "y69"
        },
        {
         "mode": "lines+text",
         "name": "SrIrO3",
         "text": [
          "",
          "H2O",
          "",
          "OH*",
          "",
          "O*",
          "",
          "OOH*",
          "",
          "O2(g)"
         ],
         "textposition": "bottom center",
         "type": "scatter",
         "x": [
          0,
          1,
          1,
          2,
          2,
          3,
          3,
          4,
          4,
          5
         ],
         "xaxis": "x70",
         "y": [
          0,
          0,
          0.129,
          0.129,
          1.653,
          1.653,
          3.201,
          3.201,
          4.92,
          4.92
         ],
         "yaxis": "y70"
        },
        {
         "mode": "lines+text",
         "name": "NaVO3",
         "text": [
          "",
          "H2O",
          "",
          "OH*",
          "",
          "O*",
          "",
          "OOH*",
          "",
          "O2(g)"
         ],
         "textposition": "bottom center",
         "type": "scatter",
         "x": [
          0,
          1,
          1,
          2,
          2,
          3,
          3,
          4,
          4,
          5
         ],
         "xaxis": "x71",
         "y": [
          0,
          0,
          0.225,
          0.225,
          1.723,
          1.723,
          3.566,
          3.566,
          4.92,
          4.92
         ],
         "yaxis": "y71"
        },
        {
         "mode": "lines+text",
         "name": "NaFeO3",
         "text": [
          "",
          "H2O",
          "",
          "OH*",
          "",
          "O*",
          "",
          "OOH*",
          "",
          "O2(g)"
         ],
         "textposition": "bottom center",
         "type": "scatter",
         "x": [
          0,
          1,
          1,
          2,
          2,
          3,
          3,
          4,
          4,
          5
         ],
         "xaxis": "x72",
         "y": [
          0,
          0,
          2.03,
          2.03,
          4.605,
          4.605,
          4.683,
          4.683,
          4.92,
          4.92
         ],
         "yaxis": "y72"
        },
        {
         "mode": "lines+text",
         "name": "BaIrO3",
         "text": [
          "",
          "H2O",
          "",
          "OH*",
          "",
          "O*",
          "",
          "OOH*",
          "",
          "O2(g)"
         ],
         "textposition": "bottom center",
         "type": "scatter",
         "x": [
          0,
          1,
          1,
          2,
          2,
          3,
          3,
          4,
          4,
          5
         ],
         "xaxis": "x73",
         "y": [
          0,
          0,
          0.351,
          0.351,
          1.969,
          1.969,
          3.483,
          3.483,
          4.92,
          4.92
         ],
         "yaxis": "y73"
        },
        {
         "mode": "lines+text",
         "name": "RbReO3",
         "text": [
          "",
          "H2O",
          "",
          "OH*",
          "",
          "O*",
          "",
          "OOH*",
          "",
          "O2(g)"
         ],
         "textposition": "bottom center",
         "type": "scatter",
         "x": [
          0,
          1,
          1,
          2,
          2,
          3,
          3,
          4,
          4,
          5
         ],
         "xaxis": "x74",
         "y": [
          0,
          0,
          -0.973,
          -0.973,
          -0.512,
          -0.512,
          2.236,
          2.236,
          4.92,
          4.92
         ],
         "yaxis": "y74"
        },
        {
         "mode": "lines+text",
         "name": "CaRuO3",
         "text": [
          "",
          "H2O",
          "",
          "OH*",
          "",
          "O*",
          "",
          "OOH*",
          "",
          "O2(g)"
         ],
         "textposition": "bottom center",
         "type": "scatter",
         "x": [
          0,
          1,
          1,
          2,
          2,
          3,
          3,
          4,
          4,
          5
         ],
         "xaxis": "x75",
         "y": [
          0,
          0,
          -0.658,
          -0.658,
          0.66,
          0.66,
          2.169,
          2.169,
          4.92,
          4.92
         ],
         "yaxis": "y75"
        },
        {
         "mode": "lines+text",
         "name": "RbPdO3",
         "text": [
          "",
          "H2O",
          "",
          "OH*",
          "",
          "O*",
          "",
          "OOH*",
          "",
          "O2(g)"
         ],
         "textposition": "bottom center",
         "type": "scatter",
         "x": [
          0,
          1,
          1,
          2,
          2,
          3,
          3,
          4,
          4,
          5
         ],
         "xaxis": "x76",
         "y": [
          0,
          0,
          1.018,
          1.018,
          3.163,
          3.163,
          3.886,
          3.886,
          4.92,
          4.92
         ],
         "yaxis": "y76"
        },
        {
         "mode": "lines+text",
         "name": "CaHfO3",
         "text": [
          "",
          "H2O",
          "",
          "OH*",
          "",
          "O*",
          "",
          "OOH*",
          "",
          "O2(g)"
         ],
         "textposition": "bottom center",
         "type": "scatter",
         "x": [
          0,
          1,
          1,
          2,
          2,
          3,
          3,
          4,
          4,
          5
         ],
         "xaxis": "x77",
         "y": [
          0,
          0,
          0.324,
          0.324,
          3.622,
          3.622,
          3.515,
          3.515,
          4.92,
          4.92
         ],
         "yaxis": "y77"
        },
        {
         "mode": "lines+text",
         "name": "TlWO3",
         "text": [
          "",
          "H2O",
          "",
          "OH*",
          "",
          "O*",
          "",
          "OOH*",
          "",
          "O2(g)"
         ],
         "textposition": "bottom center",
         "type": "scatter",
         "x": [
          0,
          1,
          1,
          2,
          2,
          3,
          3,
          4,
          4,
          5
         ],
         "xaxis": "x78",
         "y": [
          0,
          0,
          -1.702,
          -1.702,
          -0.924,
          -0.924,
          1.812,
          1.812,
          4.92,
          4.92
         ],
         "yaxis": "y78"
        },
        {
         "mode": "lines+text",
         "name": "RbWO3",
         "text": [
          "",
          "H2O",
          "",
          "OH*",
          "",
          "O*",
          "",
          "OOH*",
          "",
          "O2(g)"
         ],
         "textposition": "bottom center",
         "type": "scatter",
         "x": [
          0,
          1,
          1,
          2,
          2,
          3,
          3,
          4,
          4,
          5
         ],
         "xaxis": "x79",
         "y": [
          0,
          0,
          -1.41,
          -1.41,
          -1.076,
          -1.076,
          2.254,
          2.254,
          4.92,
          4.92
         ],
         "yaxis": "y79"
        },
        {
         "mode": "lines+text",
         "name": "RbPtO3",
         "text": [
          "",
          "H2O",
          "",
          "OH*",
          "",
          "O*",
          "",
          "OOH*",
          "",
          "O2(g)"
         ],
         "textposition": "bottom center",
         "type": "scatter",
         "x": [
          0,
          1,
          1,
          2,
          2,
          3,
          3,
          4,
          4,
          5
         ],
         "xaxis": "x80",
         "y": [
          0,
          0,
          0.739,
          0.739,
          2.707,
          2.707,
          3.675,
          3.675,
          4.92,
          4.92
         ],
         "yaxis": "y80"
        }
       ],
       "layout": {
        "annotations": [
         {
          "font": {
           "size": 16
          },
          "showarrow": false,
          "text": "SrTcO3",
          "x": 0.5,
          "xanchor": "center",
          "xref": "paper",
          "y": 1.0000000000000004,
          "yanchor": "bottom",
          "yref": "paper"
         },
         {
          "font": {
           "size": 16
          },
          "showarrow": false,
          "text": "BaFeO3",
          "x": 0.5,
          "xanchor": "center",
          "xref": "paper",
          "y": 0.9874218750000006,
          "yanchor": "bottom",
          "yref": "paper"
         },
         {
          "font": {
           "size": 16
          },
          "showarrow": false,
          "text": "BaMoO3",
          "x": 0.5,
          "xanchor": "center",
          "xref": "paper",
          "y": 0.9748437500000005,
          "yanchor": "bottom",
          "yref": "paper"
         },
         {
          "font": {
           "size": 16
          },
          "showarrow": false,
          "text": "KTaO3",
          "x": 0.5,
          "xanchor": "center",
          "xref": "paper",
          "y": 0.9622656250000006,
          "yanchor": "bottom",
          "yref": "paper"
         },
         {
          "font": {
           "size": 16
          },
          "showarrow": false,
          "text": "BaZrO3",
          "x": 0.5,
          "xanchor": "center",
          "xref": "paper",
          "y": 0.9496875000000005,
          "yanchor": "bottom",
          "yref": "paper"
         },
         {
          "font": {
           "size": 16
          },
          "showarrow": false,
          "text": "SrFeO3",
          "x": 0.5,
          "xanchor": "center",
          "xref": "paper",
          "y": 0.9371093750000005,
          "yanchor": "bottom",
          "yref": "paper"
         },
         {
          "font": {
           "size": 16
          },
          "showarrow": false,
          "text": "KTcO3",
          "x": 0.5,
          "xanchor": "center",
          "xref": "paper",
          "y": 0.9245312500000005,
          "yanchor": "bottom",
          "yref": "paper"
         },
         {
          "font": {
           "size": 16
          },
          "showarrow": false,
          "text": "NaTcO3",
          "x": 0.5,
          "xanchor": "center",
          "xref": "paper",
          "y": 0.9119531250000004,
          "yanchor": "bottom",
          "yref": "paper"
         },
         {
          "font": {
           "size": 16
          },
          "showarrow": false,
          "text": "BaHfO3",
          "x": 0.5,
          "xanchor": "center",
          "xref": "paper",
          "y": 0.8993750000000005,
          "yanchor": "bottom",
          "yref": "paper"
         },
         {
          "font": {
           "size": 16
          },
          "showarrow": false,
          "text": "SrTiO3",
          "x": 0.5,
          "xanchor": "center",
          "xref": "paper",
          "y": 0.8867968750000004,
          "yanchor": "bottom",
          "yref": "paper"
         },
         {
          "font": {
           "size": 16
          },
          "showarrow": false,
          "text": "SrCuO3",
          "x": 0.5,
          "xanchor": "center",
          "xref": "paper",
          "y": 0.8742187500000004,
          "yanchor": "bottom",
          "yref": "paper"
         },
         {
          "font": {
           "size": 16
          },
          "showarrow": false,
          "text": "KNbO3",
          "x": 0.5,
          "xanchor": "center",
          "xref": "paper",
          "y": 0.8616406250000004,
          "yanchor": "bottom",
          "yref": "paper"
         },
         {
          "font": {
           "size": 16
          },
          "showarrow": false,
          "text": "NaTaO3",
          "x": 0.5,
          "xanchor": "center",
          "xref": "paper",
          "y": 0.8490625000000003,
          "yanchor": "bottom",
          "yref": "paper"
         },
         {
          "font": {
           "size": 16
          },
          "showarrow": false,
          "text": "BaScO3",
          "x": 0.5,
          "xanchor": "center",
          "xref": "paper",
          "y": 0.8364843750000004,
          "yanchor": "bottom",
          "yref": "paper"
         },
         {
          "font": {
           "size": 16
          },
          "showarrow": false,
          "text": "BaPdO3",
          "x": 0.5,
          "xanchor": "center",
          "xref": "paper",
          "y": 0.8239062500000003,
          "yanchor": "bottom",
          "yref": "paper"
         },
         {
          "font": {
           "size": 16
          },
          "showarrow": false,
          "text": "BaTaO3",
          "x": 0.5,
          "xanchor": "center",
          "xref": "paper",
          "y": 0.8113281250000003,
          "yanchor": "bottom",
          "yref": "paper"
         },
         {
          "font": {
           "size": 16
          },
          "showarrow": false,
          "text": "SrHfO3",
          "x": 0.5,
          "xanchor": "center",
          "xref": "paper",
          "y": 0.7987500000000003,
          "yanchor": "bottom",
          "yref": "paper"
         },
         {
          "font": {
           "size": 16
          },
          "showarrow": false,
          "text": "NaOsO3",
          "x": 0.5,
          "xanchor": "center",
          "xref": "paper",
          "y": 0.7861718750000002,
          "yanchor": "bottom",
          "yref": "paper"
         },
         {
          "font": {
           "size": 16
          },
          "showarrow": false,
          "text": "TlTcO3",
          "x": 0.5,
          "xanchor": "center",
          "xref": "paper",
          "y": 0.7735937500000003,
          "yanchor": "bottom",
          "yref": "paper"
         },
         {
          "font": {
           "size": 16
          },
          "showarrow": false,
          "text": "KReO3",
          "x": 0.5,
          "xanchor": "center",
          "xref": "paper",
          "y": 0.7610156250000002,
          "yanchor": "bottom",
          "yref": "paper"
         },
         {
          "font": {
           "size": 16
          },
          "showarrow": false,
          "text": "SrRuO3",
          "x": 0.5,
          "xanchor": "center",
          "xref": "paper",
          "y": 0.7484375000000002,
          "yanchor": "bottom",
          "yref": "paper"
         },
         {
          "font": {
           "size": 16
          },
          "showarrow": false,
          "text": "KHfO3",
          "x": 0.5,
          "xanchor": "center",
          "xref": "paper",
          "y": 0.7358593750000002,
          "yanchor": "bottom",
          "yref": "paper"
         },
         {
          "font": {
           "size": 16
          },
          "showarrow": false,
          "text": "SrVO3",
          "x": 0.5,
          "xanchor": "center",
          "xref": "paper",
          "y": 0.7232812500000001,
          "yanchor": "bottom",
          "yref": "paper"
         },
         {
          "font": {
           "size": 16
          },
          "showarrow": false,
          "text": "KOsO3",
          "x": 0.5,
          "xanchor": "center",
          "xref": "paper",
          "y": 0.7107031250000002,
          "yanchor": "bottom",
          "yref": "paper"
         },
         {
          "font": {
           "size": 16
          },
          "showarrow": false,
          "text": "TaAgO3",
          "x": 0.5,
          "xanchor": "center",
          "xref": "paper",
          "y": 0.6981250000000001,
          "yanchor": "bottom",
          "yref": "paper"
         },
         {
          "font": {
           "size": 16
          },
          "showarrow": false,
          "text": "SrNiO3",
          "x": 0.5,
          "xanchor": "center",
          "xref": "paper",
          "y": 0.6855468750000001,
          "yanchor": "bottom",
          "yref": "paper"
         },
         {
          "font": {
           "size": 16
          },
          "showarrow": false,
          "text": "RbIrO3",
          "x": 0.5,
          "xanchor": "center",
          "xref": "paper",
          "y": 0.6729687500000001,
          "yanchor": "bottom",
          "yref": "paper"
         },
         {
          "font": {
           "size": 16
          },
          "showarrow": false,
          "text": "NaReO3",
          "x": 0.5,
          "xanchor": "center",
          "xref": "paper",
          "y": 0.660390625,
          "yanchor": "bottom",
          "yref": "paper"
         },
         {
          "font": {
           "size": 16
          },
          "showarrow": false,
          "text": "SrMnO3",
          "x": 0.5,
          "xanchor": "center",
          "xref": "paper",
          "y": 0.6478125000000001,
          "yanchor": "bottom",
          "yref": "paper"
         },
         {
          "font": {
           "size": 16
          },
          "showarrow": false,
          "text": "CaFeO3",
          "x": 0.5,
          "xanchor": "center",
          "xref": "paper",
          "y": 0.635234375,
          "yanchor": "bottom",
          "yref": "paper"
         },
         {
          "font": {
           "size": 16
          },
          "showarrow": false,
          "text": "SrZrO3",
          "x": 0.5,
          "xanchor": "center",
          "xref": "paper",
          "y": 0.62265625,
          "yanchor": "bottom",
          "yref": "paper"
         },
         {
          "font": {
           "size": 16
          },
          "showarrow": false,
          "text": "NaWO3",
          "x": 0.5,
          "xanchor": "center",
          "xref": "paper",
          "y": 0.610078125,
          "yanchor": "bottom",
          "yref": "paper"
         },
         {
          "font": {
           "size": 16
          },
          "showarrow": false,
          "text": "RbTaO3",
          "x": 0.5,
          "xanchor": "center",
          "xref": "paper",
          "y": 0.5974999999999999,
          "yanchor": "bottom",
          "yref": "paper"
         },
         {
          "font": {
           "size": 16
          },
          "showarrow": false,
          "text": "SrCoO3",
          "x": 0.5,
          "xanchor": "center",
          "xref": "paper",
          "y": 0.584921875,
          "yanchor": "bottom",
          "yref": "paper"
         },
         {
          "font": {
           "size": 16
          },
          "showarrow": false,
          "text": "SrTaO3",
          "x": 0.5,
          "xanchor": "center",
          "xref": "paper",
          "y": 0.5723437499999999,
          "yanchor": "bottom",
          "yref": "paper"
         },
         {
          "font": {
           "size": 16
          },
          "showarrow": false,
          "text": "KZrO3",
          "x": 0.5,
          "xanchor": "center",
          "xref": "paper",
          "y": 0.5597656249999999,
          "yanchor": "bottom",
          "yref": "paper"
         },
         {
          "font": {
           "size": 16
          },
          "showarrow": false,
          "text": "CaTiO3",
          "x": 0.5,
          "xanchor": "center",
          "xref": "paper",
          "y": 0.5471874999999999,
          "yanchor": "bottom",
          "yref": "paper"
         },
         {
          "font": {
           "size": 16
          },
          "showarrow": false,
          "text": "NaRuO3",
          "x": 0.5,
          "xanchor": "center",
          "xref": "paper",
          "y": 0.5346093749999998,
          "yanchor": "bottom",
          "yref": "paper"
         },
         {
          "font": {
           "size": 16
          },
          "showarrow": false,
          "text": "LiTcO3",
          "x": 0.5,
          "xanchor": "center",
          "xref": "paper",
          "y": 0.52203125,
          "yanchor": "bottom",
          "yref": "paper"
         },
         {
          "font": {
           "size": 16
          },
          "showarrow": false,
          "text": "SrPdO3",
          "x": 0.5,
          "xanchor": "center",
          "xref": "paper",
          "y": 0.5094531249999998,
          "yanchor": "bottom",
          "yref": "paper"
         },
         {
          "font": {
           "size": 16
          },
          "showarrow": false,
          "text": "KWO3",
          "x": 0.5,
          "xanchor": "center",
          "xref": "paper",
          "y": 0.49687499999999984,
          "yanchor": "bottom",
          "yref": "paper"
         },
         {
          "font": {
           "size": 16
          },
          "showarrow": false,
          "text": "KRhO3",
          "x": 0.5,
          "xanchor": "center",
          "xref": "paper",
          "y": 0.48429687499999985,
          "yanchor": "bottom",
          "yref": "paper"
         },
         {
          "font": {
           "size": 16
          },
          "showarrow": false,
          "text": "BaCuO3",
          "x": 0.5,
          "xanchor": "center",
          "xref": "paper",
          "y": 0.47171874999999985,
          "yanchor": "bottom",
          "yref": "paper"
         },
         {
          "font": {
           "size": 16
          },
          "showarrow": false,
          "text": "RbNbO3",
          "x": 0.5,
          "xanchor": "center",
          "xref": "paper",
          "y": 0.45914062499999986,
          "yanchor": "bottom",
          "yref": "paper"
         },
         {
          "font": {
           "size": 16
          },
          "showarrow": false,
          "text": "BaOsO3",
          "x": 0.5,
          "xanchor": "center",
          "xref": "paper",
          "y": 0.44656249999999986,
          "yanchor": "bottom",
          "yref": "paper"
         },
         {
          "font": {
           "size": 16
          },
          "showarrow": false,
          "text": "BaRuO3",
          "x": 0.5,
          "xanchor": "center",
          "xref": "paper",
          "y": 0.4339843749999999,
          "yanchor": "bottom",
          "yref": "paper"
         },
         {
          "font": {
           "size": 16
          },
          "showarrow": false,
          "text": "KRuO3",
          "x": 0.5,
          "xanchor": "center",
          "xref": "paper",
          "y": 0.4214062499999999,
          "yanchor": "bottom",
          "yref": "paper"
         },
         {
          "font": {
           "size": 16
          },
          "showarrow": false,
          "text": "SrMoO3",
          "x": 0.5,
          "xanchor": "center",
          "xref": "paper",
          "y": 0.40882812499999993,
          "yanchor": "bottom",
          "yref": "paper"
         },
         {
          "font": {
           "size": 16
          },
          "showarrow": false,
          "text": "NaTiO3",
          "x": 0.5,
          "xanchor": "center",
          "xref": "paper",
          "y": 0.39624999999999994,
          "yanchor": "bottom",
          "yref": "paper"
         },
         {
          "font": {
           "size": 16
          },
          "showarrow": false,
          "text": "SrScO3",
          "x": 0.5,
          "xanchor": "center",
          "xref": "paper",
          "y": 0.38367187499999994,
          "yanchor": "bottom",
          "yref": "paper"
         },
         {
          "font": {
           "size": 16
          },
          "showarrow": false,
          "text": "RbOsO3",
          "x": 0.5,
          "xanchor": "center",
          "xref": "paper",
          "y": 0.37109375,
          "yanchor": "bottom",
          "yref": "paper"
         },
         {
          "font": {
           "size": 16
          },
          "showarrow": false,
          "text": "SrRhO3",
          "x": 0.5,
          "xanchor": "center",
          "xref": "paper",
          "y": 0.358515625,
          "yanchor": "bottom",
          "yref": "paper"
         },
         {
          "font": {
           "size": 16
          },
          "showarrow": false,
          "text": "NaMoO3",
          "x": 0.5,
          "xanchor": "center",
          "xref": "paper",
          "y": 0.3459375,
          "yanchor": "bottom",
          "yref": "paper"
         },
         {
          "font": {
           "size": 16
          },
          "showarrow": false,
          "text": "SrOsO3",
          "x": 0.5,
          "xanchor": "center",
          "xref": "paper",
          "y": 0.333359375,
          "yanchor": "bottom",
          "yref": "paper"
         },
         {
          "font": {
           "size": 16
          },
          "showarrow": false,
          "text": "BaRhO3",
          "x": 0.5,
          "xanchor": "center",
          "xref": "paper",
          "y": 0.32078125,
          "yanchor": "bottom",
          "yref": "paper"
         },
         {
          "font": {
           "size": 16
          },
          "showarrow": false,
          "text": "BaPtO3",
          "x": 0.5,
          "xanchor": "center",
          "xref": "paper",
          "y": 0.308203125,
          "yanchor": "bottom",
          "yref": "paper"
         },
         {
          "font": {
           "size": 16
          },
          "showarrow": false,
          "text": "CaVO3",
          "x": 0.5,
          "xanchor": "center",
          "xref": "paper",
          "y": 0.295625,
          "yanchor": "bottom",
          "yref": "paper"
         },
         {
          "font": {
           "size": 16
          },
          "showarrow": false,
          "text": "KMoO3",
          "x": 0.5,
          "xanchor": "center",
          "xref": "paper",
          "y": 0.28304687500000003,
          "yanchor": "bottom",
          "yref": "paper"
         },
         {
          "font": {
           "size": 16
          },
          "showarrow": false,
          "text": "SrCrO3",
          "x": 0.5,
          "xanchor": "center",
          "xref": "paper",
          "y": 0.27046875000000004,
          "yanchor": "bottom",
          "yref": "paper"
         },
         {
          "font": {
           "size": 16
          },
          "showarrow": false,
          "text": "SrAgO3",
          "x": 0.5,
          "xanchor": "center",
          "xref": "paper",
          "y": 0.25789062500000004,
          "yanchor": "bottom",
          "yref": "paper"
         },
         {
          "font": {
           "size": 16
          },
          "showarrow": false,
          "text": "RbRhO3",
          "x": 0.5,
          "xanchor": "center",
          "xref": "paper",
          "y": 0.24531250000000002,
          "yanchor": "bottom",
          "yref": "paper"
         },
         {
          "font": {
           "size": 16
          },
          "showarrow": false,
          "text": "BaVO3",
          "x": 0.5,
          "xanchor": "center",
          "xref": "paper",
          "y": 0.23273437500000002,
          "yanchor": "bottom",
          "yref": "paper"
         },
         {
          "font": {
           "size": 16
          },
          "showarrow": false,
          "text": "CaCoO3",
          "x": 0.5,
          "xanchor": "center",
          "xref": "paper",
          "y": 0.22015625000000003,
          "yanchor": "bottom",
          "yref": "paper"
         },
         {
          "font": {
           "size": 16
          },
          "showarrow": false,
          "text": "CaMnO3",
          "x": 0.5,
          "xanchor": "center",
          "xref": "paper",
          "y": 0.207578125,
          "yanchor": "bottom",
          "yref": "paper"
         },
         {
          "font": {
           "size": 16
          },
          "showarrow": false,
          "text": "KPtO3",
          "x": 0.5,
          "xanchor": "center",
          "xref": "paper",
          "y": 0.19499999999999998,
          "yanchor": "bottom",
          "yref": "paper"
         },
         {
          "font": {
           "size": 16
          },
          "showarrow": false,
          "text": "BaNiO3",
          "x": 0.5,
          "xanchor": "center",
          "xref": "paper",
          "y": 0.18242187499999998,
          "yanchor": "bottom",
          "yref": "paper"
         },
         {
          "font": {
           "size": 16
          },
          "showarrow": false,
          "text": "BaMnO3",
          "x": 0.5,
          "xanchor": "center",
          "xref": "paper",
          "y": 0.16984375,
          "yanchor": "bottom",
          "yref": "paper"
         },
         {
          "font": {
           "size": 16
          },
          "showarrow": false,
          "text": "SrReO3",
          "x": 0.5,
          "xanchor": "center",
          "xref": "paper",
          "y": 0.157265625,
          "yanchor": "bottom",
          "yref": "paper"
         },
         {
          "font": {
           "size": 16
          },
          "showarrow": false,
          "text": "BaReO3",
          "x": 0.5,
          "xanchor": "center",
          "xref": "paper",
          "y": 0.1446875,
          "yanchor": "bottom",
          "yref": "paper"
         },
         {
          "font": {
           "size": 16
          },
          "showarrow": false,
          "text": "SrIrO3",
          "x": 0.5,
          "xanchor": "center",
          "xref": "paper",
          "y": 0.13210937499999997,
          "yanchor": "bottom",
          "yref": "paper"
         },
         {
          "font": {
           "size": 16
          },
          "showarrow": false,
          "text": "NaVO3",
          "x": 0.5,
          "xanchor": "center",
          "xref": "paper",
          "y": 0.11953124999999999,
          "yanchor": "bottom",
          "yref": "paper"
         },
         {
          "font": {
           "size": 16
          },
          "showarrow": false,
          "text": "NaFeO3",
          "x": 0.5,
          "xanchor": "center",
          "xref": "paper",
          "y": 0.106953125,
          "yanchor": "bottom",
          "yref": "paper"
         },
         {
          "font": {
           "size": 16
          },
          "showarrow": false,
          "text": "BaIrO3",
          "x": 0.5,
          "xanchor": "center",
          "xref": "paper",
          "y": 0.094375,
          "yanchor": "bottom",
          "yref": "paper"
         },
         {
          "font": {
           "size": 16
          },
          "showarrow": false,
          "text": "RbReO3",
          "x": 0.5,
          "xanchor": "center",
          "xref": "paper",
          "y": 0.081796875,
          "yanchor": "bottom",
          "yref": "paper"
         },
         {
          "font": {
           "size": 16
          },
          "showarrow": false,
          "text": "CaRuO3",
          "x": 0.5,
          "xanchor": "center",
          "xref": "paper",
          "y": 0.06921875000000001,
          "yanchor": "bottom",
          "yref": "paper"
         },
         {
          "font": {
           "size": 16
          },
          "showarrow": false,
          "text": "RbPdO3",
          "x": 0.5,
          "xanchor": "center",
          "xref": "paper",
          "y": 0.05664062499999999,
          "yanchor": "bottom",
          "yref": "paper"
         },
         {
          "font": {
           "size": 16
          },
          "showarrow": false,
          "text": "CaHfO3",
          "x": 0.5,
          "xanchor": "center",
          "xref": "paper",
          "y": 0.0440625,
          "yanchor": "bottom",
          "yref": "paper"
         },
         {
          "font": {
           "size": 16
          },
          "showarrow": false,
          "text": "TlWO3",
          "x": 0.5,
          "xanchor": "center",
          "xref": "paper",
          "y": 0.031484374999999995,
          "yanchor": "bottom",
          "yref": "paper"
         },
         {
          "font": {
           "size": 16
          },
          "showarrow": false,
          "text": "RbWO3",
          "x": 0.5,
          "xanchor": "center",
          "xref": "paper",
          "y": 0.01890625,
          "yanchor": "bottom",
          "yref": "paper"
         },
         {
          "font": {
           "size": 16
          },
          "showarrow": false,
          "text": "RbPtO3",
          "x": 0.5,
          "xanchor": "center",
          "xref": "paper",
          "y": 0.0063281249999999995,
          "yanchor": "bottom",
          "yref": "paper"
         },
         {
          "font": {
           "size": 16
          },
          "showarrow": false,
          "text": "SrTcO3",
          "x": 0.5,
          "xanchor": "center",
          "xref": "paper",
          "y": 1.0000000000000004,
          "yanchor": "bottom",
          "yref": "paper"
         }
        ],
        "height": 15000,
        "showlegend": true,
        "template": {
         "data": {
          "bar": [
           {
            "error_x": {
             "color": "#2a3f5f"
            },
            "error_y": {
             "color": "#2a3f5f"
            },
            "marker": {
             "line": {
              "color": "#E5ECF6",
              "width": 0.5
             }
            },
            "type": "bar"
           }
          ],
          "barpolar": [
           {
            "marker": {
             "line": {
              "color": "#E5ECF6",
              "width": 0.5
             }
            },
            "type": "barpolar"
           }
          ],
          "carpet": [
           {
            "aaxis": {
             "endlinecolor": "#2a3f5f",
             "gridcolor": "white",
             "linecolor": "white",
             "minorgridcolor": "white",
             "startlinecolor": "#2a3f5f"
            },
            "baxis": {
             "endlinecolor": "#2a3f5f",
             "gridcolor": "white",
             "linecolor": "white",
             "minorgridcolor": "white",
             "startlinecolor": "#2a3f5f"
            },
            "type": "carpet"
           }
          ],
          "choropleth": [
           {
            "colorbar": {
             "outlinewidth": 0,
             "ticks": ""
            },
            "type": "choropleth"
           }
          ],
          "contour": [
           {
            "colorbar": {
             "outlinewidth": 0,
             "ticks": ""
            },
            "colorscale": [
             [
              0,
              "#0d0887"
             ],
             [
              0.1111111111111111,
              "#46039f"
             ],
             [
              0.2222222222222222,
              "#7201a8"
             ],
             [
              0.3333333333333333,
              "#9c179e"
             ],
             [
              0.4444444444444444,
              "#bd3786"
             ],
             [
              0.5555555555555556,
              "#d8576b"
             ],
             [
              0.6666666666666666,
              "#ed7953"
             ],
             [
              0.7777777777777778,
              "#fb9f3a"
             ],
             [
              0.8888888888888888,
              "#fdca26"
             ],
             [
              1,
              "#f0f921"
             ]
            ],
            "type": "contour"
           }
          ],
          "contourcarpet": [
           {
            "colorbar": {
             "outlinewidth": 0,
             "ticks": ""
            },
            "type": "contourcarpet"
           }
          ],
          "heatmap": [
           {
            "colorbar": {
             "outlinewidth": 0,
             "ticks": ""
            },
            "colorscale": [
             [
              0,
              "#0d0887"
             ],
             [
              0.1111111111111111,
              "#46039f"
             ],
             [
              0.2222222222222222,
              "#7201a8"
             ],
             [
              0.3333333333333333,
              "#9c179e"
             ],
             [
              0.4444444444444444,
              "#bd3786"
             ],
             [
              0.5555555555555556,
              "#d8576b"
             ],
             [
              0.6666666666666666,
              "#ed7953"
             ],
             [
              0.7777777777777778,
              "#fb9f3a"
             ],
             [
              0.8888888888888888,
              "#fdca26"
             ],
             [
              1,
              "#f0f921"
             ]
            ],
            "type": "heatmap"
           }
          ],
          "heatmapgl": [
           {
            "colorbar": {
             "outlinewidth": 0,
             "ticks": ""
            },
            "colorscale": [
             [
              0,
              "#0d0887"
             ],
             [
              0.1111111111111111,
              "#46039f"
             ],
             [
              0.2222222222222222,
              "#7201a8"
             ],
             [
              0.3333333333333333,
              "#9c179e"
             ],
             [
              0.4444444444444444,
              "#bd3786"
             ],
             [
              0.5555555555555556,
              "#d8576b"
             ],
             [
              0.6666666666666666,
              "#ed7953"
             ],
             [
              0.7777777777777778,
              "#fb9f3a"
             ],
             [
              0.8888888888888888,
              "#fdca26"
             ],
             [
              1,
              "#f0f921"
             ]
            ],
            "type": "heatmapgl"
           }
          ],
          "histogram": [
           {
            "marker": {
             "colorbar": {
              "outlinewidth": 0,
              "ticks": ""
             }
            },
            "type": "histogram"
           }
          ],
          "histogram2d": [
           {
            "colorbar": {
             "outlinewidth": 0,
             "ticks": ""
            },
            "colorscale": [
             [
              0,
              "#0d0887"
             ],
             [
              0.1111111111111111,
              "#46039f"
             ],
             [
              0.2222222222222222,
              "#7201a8"
             ],
             [
              0.3333333333333333,
              "#9c179e"
             ],
             [
              0.4444444444444444,
              "#bd3786"
             ],
             [
              0.5555555555555556,
              "#d8576b"
             ],
             [
              0.6666666666666666,
              "#ed7953"
             ],
             [
              0.7777777777777778,
              "#fb9f3a"
             ],
             [
              0.8888888888888888,
              "#fdca26"
             ],
             [
              1,
              "#f0f921"
             ]
            ],
            "type": "histogram2d"
           }
          ],
          "histogram2dcontour": [
           {
            "colorbar": {
             "outlinewidth": 0,
             "ticks": ""
            },
            "colorscale": [
             [
              0,
              "#0d0887"
             ],
             [
              0.1111111111111111,
              "#46039f"
             ],
             [
              0.2222222222222222,
              "#7201a8"
             ],
             [
              0.3333333333333333,
              "#9c179e"
             ],
             [
              0.4444444444444444,
              "#bd3786"
             ],
             [
              0.5555555555555556,
              "#d8576b"
             ],
             [
              0.6666666666666666,
              "#ed7953"
             ],
             [
              0.7777777777777778,
              "#fb9f3a"
             ],
             [
              0.8888888888888888,
              "#fdca26"
             ],
             [
              1,
              "#f0f921"
             ]
            ],
            "type": "histogram2dcontour"
           }
          ],
          "mesh3d": [
           {
            "colorbar": {
             "outlinewidth": 0,
             "ticks": ""
            },
            "type": "mesh3d"
           }
          ],
          "parcoords": [
           {
            "line": {
             "colorbar": {
              "outlinewidth": 0,
              "ticks": ""
             }
            },
            "type": "parcoords"
           }
          ],
          "pie": [
           {
            "automargin": true,
            "type": "pie"
           }
          ],
          "scatter": [
           {
            "marker": {
             "colorbar": {
              "outlinewidth": 0,
              "ticks": ""
             }
            },
            "type": "scatter"
           }
          ],
          "scatter3d": [
           {
            "line": {
             "colorbar": {
              "outlinewidth": 0,
              "ticks": ""
             }
            },
            "marker": {
             "colorbar": {
              "outlinewidth": 0,
              "ticks": ""
             }
            },
            "type": "scatter3d"
           }
          ],
          "scattercarpet": [
           {
            "marker": {
             "colorbar": {
              "outlinewidth": 0,
              "ticks": ""
             }
            },
            "type": "scattercarpet"
           }
          ],
          "scattergeo": [
           {
            "marker": {
             "colorbar": {
              "outlinewidth": 0,
              "ticks": ""
             }
            },
            "type": "scattergeo"
           }
          ],
          "scattergl": [
           {
            "marker": {
             "colorbar": {
              "outlinewidth": 0,
              "ticks": ""
             }
            },
            "type": "scattergl"
           }
          ],
          "scattermapbox": [
           {
            "marker": {
             "colorbar": {
              "outlinewidth": 0,
              "ticks": ""
             }
            },
            "type": "scattermapbox"
           }
          ],
          "scatterpolar": [
           {
            "marker": {
             "colorbar": {
              "outlinewidth": 0,
              "ticks": ""
             }
            },
            "type": "scatterpolar"
           }
          ],
          "scatterpolargl": [
           {
            "marker": {
             "colorbar": {
              "outlinewidth": 0,
              "ticks": ""
             }
            },
            "type": "scatterpolargl"
           }
          ],
          "scatterternary": [
           {
            "marker": {
             "colorbar": {
              "outlinewidth": 0,
              "ticks": ""
             }
            },
            "type": "scatterternary"
           }
          ],
          "surface": [
           {
            "colorbar": {
             "outlinewidth": 0,
             "ticks": ""
            },
            "colorscale": [
             [
              0,
              "#0d0887"
             ],
             [
              0.1111111111111111,
              "#46039f"
             ],
             [
              0.2222222222222222,
              "#7201a8"
             ],
             [
              0.3333333333333333,
              "#9c179e"
             ],
             [
              0.4444444444444444,
              "#bd3786"
             ],
             [
              0.5555555555555556,
              "#d8576b"
             ],
             [
              0.6666666666666666,
              "#ed7953"
             ],
             [
              0.7777777777777778,
              "#fb9f3a"
             ],
             [
              0.8888888888888888,
              "#fdca26"
             ],
             [
              1,
              "#f0f921"
             ]
            ],
            "type": "surface"
           }
          ],
          "table": [
           {
            "cells": {
             "fill": {
              "color": "#EBF0F8"
             },
             "line": {
              "color": "white"
             }
            },
            "header": {
             "fill": {
              "color": "#C8D4E3"
             },
             "line": {
              "color": "white"
             }
            },
            "type": "table"
           }
          ]
         },
         "layout": {
          "annotationdefaults": {
           "arrowcolor": "#2a3f5f",
           "arrowhead": 0,
           "arrowwidth": 1
          },
          "coloraxis": {
           "colorbar": {
            "outlinewidth": 0,
            "ticks": ""
           }
          },
          "colorscale": {
           "diverging": [
            [
             0,
             "#8e0152"
            ],
            [
             0.1,
             "#c51b7d"
            ],
            [
             0.2,
             "#de77ae"
            ],
            [
             0.3,
             "#f1b6da"
            ],
            [
             0.4,
             "#fde0ef"
            ],
            [
             0.5,
             "#f7f7f7"
            ],
            [
             0.6,
             "#e6f5d0"
            ],
            [
             0.7,
             "#b8e186"
            ],
            [
             0.8,
             "#7fbc41"
            ],
            [
             0.9,
             "#4d9221"
            ],
            [
             1,
             "#276419"
            ]
           ],
           "sequential": [
            [
             0,
             "#0d0887"
            ],
            [
             0.1111111111111111,
             "#46039f"
            ],
            [
             0.2222222222222222,
             "#7201a8"
            ],
            [
             0.3333333333333333,
             "#9c179e"
            ],
            [
             0.4444444444444444,
             "#bd3786"
            ],
            [
             0.5555555555555556,
             "#d8576b"
            ],
            [
             0.6666666666666666,
             "#ed7953"
            ],
            [
             0.7777777777777778,
             "#fb9f3a"
            ],
            [
             0.8888888888888888,
             "#fdca26"
            ],
            [
             1,
             "#f0f921"
            ]
           ],
           "sequentialminus": [
            [
             0,
             "#0d0887"
            ],
            [
             0.1111111111111111,
             "#46039f"
            ],
            [
             0.2222222222222222,
             "#7201a8"
            ],
            [
             0.3333333333333333,
             "#9c179e"
            ],
            [
             0.4444444444444444,
             "#bd3786"
            ],
            [
             0.5555555555555556,
             "#d8576b"
            ],
            [
             0.6666666666666666,
             "#ed7953"
            ],
            [
             0.7777777777777778,
             "#fb9f3a"
            ],
            [
             0.8888888888888888,
             "#fdca26"
            ],
            [
             1,
             "#f0f921"
            ]
           ]
          },
          "colorway": [
           "#636efa",
           "#EF553B",
           "#00cc96",
           "#ab63fa",
           "#FFA15A",
           "#19d3f3",
           "#FF6692",
           "#B6E880",
           "#FF97FF",
           "#FECB52"
          ],
          "font": {
           "color": "#2a3f5f"
          },
          "geo": {
           "bgcolor": "white",
           "lakecolor": "white",
           "landcolor": "#E5ECF6",
           "showlakes": true,
           "showland": true,
           "subunitcolor": "white"
          },
          "hoverlabel": {
           "align": "left"
          },
          "hovermode": "closest",
          "mapbox": {
           "style": "light"
          },
          "paper_bgcolor": "white",
          "plot_bgcolor": "#E5ECF6",
          "polar": {
           "angularaxis": {
            "gridcolor": "white",
            "linecolor": "white",
            "ticks": ""
           },
           "bgcolor": "#E5ECF6",
           "radialaxis": {
            "gridcolor": "white",
            "linecolor": "white",
            "ticks": ""
           }
          },
          "scene": {
           "xaxis": {
            "backgroundcolor": "#E5ECF6",
            "gridcolor": "white",
            "gridwidth": 2,
            "linecolor": "white",
            "showbackground": true,
            "ticks": "",
            "zerolinecolor": "white"
           },
           "yaxis": {
            "backgroundcolor": "#E5ECF6",
            "gridcolor": "white",
            "gridwidth": 2,
            "linecolor": "white",
            "showbackground": true,
            "ticks": "",
            "zerolinecolor": "white"
           },
           "zaxis": {
            "backgroundcolor": "#E5ECF6",
            "gridcolor": "white",
            "gridwidth": 2,
            "linecolor": "white",
            "showbackground": true,
            "ticks": "",
            "zerolinecolor": "white"
           }
          },
          "shapedefaults": {
           "line": {
            "color": "#2a3f5f"
           }
          },
          "ternary": {
           "aaxis": {
            "gridcolor": "white",
            "linecolor": "white",
            "ticks": ""
           },
           "baxis": {
            "gridcolor": "white",
            "linecolor": "white",
            "ticks": ""
           },
           "bgcolor": "#E5ECF6",
           "caxis": {
            "gridcolor": "white",
            "linecolor": "white",
            "ticks": ""
           }
          },
          "title": {
           "x": 0.05
          },
          "xaxis": {
           "automargin": true,
           "gridcolor": "white",
           "linecolor": "white",
           "ticks": "",
           "title": {
            "standoff": 15
           },
           "zerolinecolor": "white",
           "zerolinewidth": 2
          },
          "yaxis": {
           "automargin": true,
           "gridcolor": "white",
           "linecolor": "white",
           "ticks": "",
           "title": {
            "standoff": 15
           },
           "zerolinecolor": "white",
           "zerolinewidth": 2
          }
         }
        },
        "title": {
         "text": "free_energy_diagram"
        },
        "width": 500,
        "xaxis": {
         "anchor": "y",
         "domain": [
          0,
          1
         ],
         "matches": "x80",
         "showticklabels": false
        },
        "xaxis10": {
         "anchor": "y10",
         "domain": [
          0,
          1
         ],
         "matches": "x80",
         "showticklabels": false
        },
        "xaxis11": {
         "anchor": "y11",
         "domain": [
          0,
          1
         ],
         "matches": "x80",
         "showticklabels": false
        },
        "xaxis12": {
         "anchor": "y12",
         "domain": [
          0,
          1
         ],
         "matches": "x80",
         "showticklabels": false
        },
        "xaxis13": {
         "anchor": "y13",
         "domain": [
          0,
          1
         ],
         "matches": "x80",
         "showticklabels": false
        },
        "xaxis14": {
         "anchor": "y14",
         "domain": [
          0,
          1
         ],
         "matches": "x80",
         "showticklabels": false
        },
        "xaxis15": {
         "anchor": "y15",
         "domain": [
          0,
          1
         ],
         "matches": "x80",
         "showticklabels": false
        },
        "xaxis16": {
         "anchor": "y16",
         "domain": [
          0,
          1
         ],
         "matches": "x80",
         "showticklabels": false
        },
        "xaxis17": {
         "anchor": "y17",
         "domain": [
          0,
          1
         ],
         "matches": "x80",
         "showticklabels": false
        },
        "xaxis18": {
         "anchor": "y18",
         "domain": [
          0,
          1
         ],
         "matches": "x80",
         "showticklabels": false
        },
        "xaxis19": {
         "anchor": "y19",
         "domain": [
          0,
          1
         ],
         "matches": "x80",
         "showticklabels": false
        },
        "xaxis2": {
         "anchor": "y2",
         "domain": [
          0,
          1
         ],
         "matches": "x80",
         "showticklabels": false
        },
        "xaxis20": {
         "anchor": "y20",
         "domain": [
          0,
          1
         ],
         "matches": "x80",
         "showticklabels": false
        },
        "xaxis21": {
         "anchor": "y21",
         "domain": [
          0,
          1
         ],
         "matches": "x80",
         "showticklabels": false
        },
        "xaxis22": {
         "anchor": "y22",
         "domain": [
          0,
          1
         ],
         "matches": "x80",
         "showticklabels": false
        },
        "xaxis23": {
         "anchor": "y23",
         "domain": [
          0,
          1
         ],
         "matches": "x80",
         "showticklabels": false
        },
        "xaxis24": {
         "anchor": "y24",
         "domain": [
          0,
          1
         ],
         "matches": "x80",
         "showticklabels": false
        },
        "xaxis25": {
         "anchor": "y25",
         "domain": [
          0,
          1
         ],
         "matches": "x80",
         "showticklabels": false
        },
        "xaxis26": {
         "anchor": "y26",
         "domain": [
          0,
          1
         ],
         "matches": "x80",
         "showticklabels": false
        },
        "xaxis27": {
         "anchor": "y27",
         "domain": [
          0,
          1
         ],
         "matches": "x80",
         "showticklabels": false
        },
        "xaxis28": {
         "anchor": "y28",
         "domain": [
          0,
          1
         ],
         "matches": "x80",
         "showticklabels": false
        },
        "xaxis29": {
         "anchor": "y29",
         "domain": [
          0,
          1
         ],
         "matches": "x80",
         "showticklabels": false
        },
        "xaxis3": {
         "anchor": "y3",
         "domain": [
          0,
          1
         ],
         "matches": "x80",
         "showticklabels": false
        },
        "xaxis30": {
         "anchor": "y30",
         "domain": [
          0,
          1
         ],
         "matches": "x80",
         "showticklabels": false
        },
        "xaxis31": {
         "anchor": "y31",
         "domain": [
          0,
          1
         ],
         "matches": "x80",
         "showticklabels": false
        },
        "xaxis32": {
         "anchor": "y32",
         "domain": [
          0,
          1
         ],
         "matches": "x80",
         "showticklabels": false
        },
        "xaxis33": {
         "anchor": "y33",
         "domain": [
          0,
          1
         ],
         "matches": "x80",
         "showticklabels": false
        },
        "xaxis34": {
         "anchor": "y34",
         "domain": [
          0,
          1
         ],
         "matches": "x80",
         "showticklabels": false
        },
        "xaxis35": {
         "anchor": "y35",
         "domain": [
          0,
          1
         ],
         "matches": "x80",
         "showticklabels": false
        },
        "xaxis36": {
         "anchor": "y36",
         "domain": [
          0,
          1
         ],
         "matches": "x80",
         "showticklabels": false
        },
        "xaxis37": {
         "anchor": "y37",
         "domain": [
          0,
          1
         ],
         "matches": "x80",
         "showticklabels": false
        },
        "xaxis38": {
         "anchor": "y38",
         "domain": [
          0,
          1
         ],
         "matches": "x80",
         "showticklabels": false
        },
        "xaxis39": {
         "anchor": "y39",
         "domain": [
          0,
          1
         ],
         "matches": "x80",
         "showticklabels": false
        },
        "xaxis4": {
         "anchor": "y4",
         "domain": [
          0,
          1
         ],
         "matches": "x80",
         "showticklabels": false
        },
        "xaxis40": {
         "anchor": "y40",
         "domain": [
          0,
          1
         ],
         "matches": "x80",
         "showticklabels": false
        },
        "xaxis41": {
         "anchor": "y41",
         "domain": [
          0,
          1
         ],
         "matches": "x80",
         "showticklabels": false
        },
        "xaxis42": {
         "anchor": "y42",
         "domain": [
          0,
          1
         ],
         "matches": "x80",
         "showticklabels": false
        },
        "xaxis43": {
         "anchor": "y43",
         "domain": [
          0,
          1
         ],
         "matches": "x80",
         "showticklabels": false
        },
        "xaxis44": {
         "anchor": "y44",
         "domain": [
          0,
          1
         ],
         "matches": "x80",
         "showticklabels": false
        },
        "xaxis45": {
         "anchor": "y45",
         "domain": [
          0,
          1
         ],
         "matches": "x80",
         "showticklabels": false
        },
        "xaxis46": {
         "anchor": "y46",
         "domain": [
          0,
          1
         ],
         "matches": "x80",
         "showticklabels": false
        },
        "xaxis47": {
         "anchor": "y47",
         "domain": [
          0,
          1
         ],
         "matches": "x80",
         "showticklabels": false
        },
        "xaxis48": {
         "anchor": "y48",
         "domain": [
          0,
          1
         ],
         "matches": "x80",
         "showticklabels": false
        },
        "xaxis49": {
         "anchor": "y49",
         "domain": [
          0,
          1
         ],
         "matches": "x80",
         "showticklabels": false
        },
        "xaxis5": {
         "anchor": "y5",
         "domain": [
          0,
          1
         ],
         "matches": "x80",
         "showticklabels": false
        },
        "xaxis50": {
         "anchor": "y50",
         "domain": [
          0,
          1
         ],
         "matches": "x80",
         "showticklabels": false
        },
        "xaxis51": {
         "anchor": "y51",
         "domain": [
          0,
          1
         ],
         "matches": "x80",
         "showticklabels": false
        },
        "xaxis52": {
         "anchor": "y52",
         "domain": [
          0,
          1
         ],
         "matches": "x80",
         "showticklabels": false
        },
        "xaxis53": {
         "anchor": "y53",
         "domain": [
          0,
          1
         ],
         "matches": "x80",
         "showticklabels": false
        },
        "xaxis54": {
         "anchor": "y54",
         "domain": [
          0,
          1
         ],
         "matches": "x80",
         "showticklabels": false
        },
        "xaxis55": {
         "anchor": "y55",
         "domain": [
          0,
          1
         ],
         "matches": "x80",
         "showticklabels": false
        },
        "xaxis56": {
         "anchor": "y56",
         "domain": [
          0,
          1
         ],
         "matches": "x80",
         "showticklabels": false
        },
        "xaxis57": {
         "anchor": "y57",
         "domain": [
          0,
          1
         ],
         "matches": "x80",
         "showticklabels": false
        },
        "xaxis58": {
         "anchor": "y58",
         "domain": [
          0,
          1
         ],
         "matches": "x80",
         "showticklabels": false
        },
        "xaxis59": {
         "anchor": "y59",
         "domain": [
          0,
          1
         ],
         "matches": "x80",
         "showticklabels": false
        },
        "xaxis6": {
         "anchor": "y6",
         "domain": [
          0,
          1
         ],
         "matches": "x80",
         "showticklabels": false
        },
        "xaxis60": {
         "anchor": "y60",
         "domain": [
          0,
          1
         ],
         "matches": "x80",
         "showticklabels": false
        },
        "xaxis61": {
         "anchor": "y61",
         "domain": [
          0,
          1
         ],
         "matches": "x80",
         "showticklabels": false
        },
        "xaxis62": {
         "anchor": "y62",
         "domain": [
          0,
          1
         ],
         "matches": "x80",
         "showticklabels": false
        },
        "xaxis63": {
         "anchor": "y63",
         "domain": [
          0,
          1
         ],
         "matches": "x80",
         "showticklabels": false
        },
        "xaxis64": {
         "anchor": "y64",
         "domain": [
          0,
          1
         ],
         "matches": "x80",
         "showticklabels": false
        },
        "xaxis65": {
         "anchor": "y65",
         "domain": [
          0,
          1
         ],
         "matches": "x80",
         "showticklabels": false
        },
        "xaxis66": {
         "anchor": "y66",
         "domain": [
          0,
          1
         ],
         "matches": "x80",
         "showticklabels": false
        },
        "xaxis67": {
         "anchor": "y67",
         "domain": [
          0,
          1
         ],
         "matches": "x80",
         "showticklabels": false
        },
        "xaxis68": {
         "anchor": "y68",
         "domain": [
          0,
          1
         ],
         "matches": "x80",
         "showticklabels": false
        },
        "xaxis69": {
         "anchor": "y69",
         "domain": [
          0,
          1
         ],
         "matches": "x80",
         "showticklabels": false
        },
        "xaxis7": {
         "anchor": "y7",
         "domain": [
          0,
          1
         ],
         "matches": "x80",
         "showticklabels": false
        },
        "xaxis70": {
         "anchor": "y70",
         "domain": [
          0,
          1
         ],
         "matches": "x80",
         "showticklabels": false
        },
        "xaxis71": {
         "anchor": "y71",
         "domain": [
          0,
          1
         ],
         "matches": "x80",
         "showticklabels": false
        },
        "xaxis72": {
         "anchor": "y72",
         "domain": [
          0,
          1
         ],
         "matches": "x80",
         "showticklabels": false
        },
        "xaxis73": {
         "anchor": "y73",
         "domain": [
          0,
          1
         ],
         "matches": "x80",
         "showticklabels": false
        },
        "xaxis74": {
         "anchor": "y74",
         "domain": [
          0,
          1
         ],
         "matches": "x80",
         "showticklabels": false
        },
        "xaxis75": {
         "anchor": "y75",
         "domain": [
          0,
          1
         ],
         "matches": "x80",
         "showticklabels": false
        },
        "xaxis76": {
         "anchor": "y76",
         "domain": [
          0,
          1
         ],
         "matches": "x80",
         "showticklabels": false
        },
        "xaxis77": {
         "anchor": "y77",
         "domain": [
          0,
          1
         ],
         "matches": "x80",
         "showticklabels": false
        },
        "xaxis78": {
         "anchor": "y78",
         "domain": [
          0,
          1
         ],
         "matches": "x80",
         "showticklabels": false
        },
        "xaxis79": {
         "anchor": "y79",
         "domain": [
          0,
          1
         ],
         "matches": "x80",
         "showticklabels": false
        },
        "xaxis8": {
         "anchor": "y8",
         "domain": [
          0,
          1
         ],
         "matches": "x80",
         "showticklabels": false
        },
        "xaxis80": {
         "anchor": "y80",
         "domain": [
          0,
          1
         ]
        },
        "xaxis9": {
         "anchor": "y9",
         "domain": [
          0,
          1
         ],
         "matches": "x80",
         "showticklabels": false
        },
        "yaxis": {
         "anchor": "x",
         "domain": [
          0.9936718750000005,
          1
         ],
         "title": {
          "text": "DG (eV)"
         }
        },
        "yaxis10": {
         "anchor": "x10",
         "domain": [
          0.8804687500000004,
          0.8867968750000004
         ],
         "title": {
          "text": "DG (eV)"
         }
        },
        "yaxis11": {
         "anchor": "x11",
         "domain": [
          0.8678906250000004,
          0.8742187500000004
         ],
         "title": {
          "text": "DG (eV)"
         }
        },
        "yaxis12": {
         "anchor": "x12",
         "domain": [
          0.8553125000000004,
          0.8616406250000004
         ],
         "title": {
          "text": "DG (eV)"
         }
        },
        "yaxis13": {
         "anchor": "x13",
         "domain": [
          0.8427343750000003,
          0.8490625000000003
         ],
         "title": {
          "text": "DG (eV)"
         }
        },
        "yaxis14": {
         "anchor": "x14",
         "domain": [
          0.8301562500000004,
          0.8364843750000004
         ],
         "title": {
          "text": "DG (eV)"
         }
        },
        "yaxis15": {
         "anchor": "x15",
         "domain": [
          0.8175781250000003,
          0.8239062500000003
         ],
         "title": {
          "text": "DG (eV)"
         }
        },
        "yaxis16": {
         "anchor": "x16",
         "domain": [
          0.8050000000000003,
          0.8113281250000003
         ],
         "title": {
          "text": "DG (eV)"
         }
        },
        "yaxis17": {
         "anchor": "x17",
         "domain": [
          0.7924218750000003,
          0.7987500000000003
         ],
         "title": {
          "text": "DG (eV)"
         }
        },
        "yaxis18": {
         "anchor": "x18",
         "domain": [
          0.7798437500000002,
          0.7861718750000002
         ],
         "title": {
          "text": "DG (eV)"
         }
        },
        "yaxis19": {
         "anchor": "x19",
         "domain": [
          0.7672656250000003,
          0.7735937500000003
         ],
         "title": {
          "text": "DG (eV)"
         }
        },
        "yaxis2": {
         "anchor": "x2",
         "domain": [
          0.9810937500000005,
          0.9874218750000006
         ],
         "title": {
          "text": "DG (eV)"
         }
        },
        "yaxis20": {
         "anchor": "x20",
         "domain": [
          0.7546875000000002,
          0.7610156250000002
         ],
         "title": {
          "text": "DG (eV)"
         }
        },
        "yaxis21": {
         "anchor": "x21",
         "domain": [
          0.7421093750000002,
          0.7484375000000002
         ],
         "title": {
          "text": "DG (eV)"
         }
        },
        "yaxis22": {
         "anchor": "x22",
         "domain": [
          0.7295312500000002,
          0.7358593750000002
         ],
         "title": {
          "text": "DG (eV)"
         }
        },
        "yaxis23": {
         "anchor": "x23",
         "domain": [
          0.7169531250000001,
          0.7232812500000001
         ],
         "title": {
          "text": "DG (eV)"
         }
        },
        "yaxis24": {
         "anchor": "x24",
         "domain": [
          0.7043750000000002,
          0.7107031250000002
         ],
         "title": {
          "text": "DG (eV)"
         }
        },
        "yaxis25": {
         "anchor": "x25",
         "domain": [
          0.6917968750000001,
          0.6981250000000001
         ],
         "title": {
          "text": "DG (eV)"
         }
        },
        "yaxis26": {
         "anchor": "x26",
         "domain": [
          0.6792187500000001,
          0.6855468750000001
         ],
         "title": {
          "text": "DG (eV)"
         }
        },
        "yaxis27": {
         "anchor": "x27",
         "domain": [
          0.6666406250000001,
          0.6729687500000001
         ],
         "title": {
          "text": "DG (eV)"
         }
        },
        "yaxis28": {
         "anchor": "x28",
         "domain": [
          0.6540625,
          0.660390625
         ],
         "title": {
          "text": "DG (eV)"
         }
        },
        "yaxis29": {
         "anchor": "x29",
         "domain": [
          0.6414843750000001,
          0.6478125000000001
         ],
         "title": {
          "text": "DG (eV)"
         }
        },
        "yaxis3": {
         "anchor": "x3",
         "domain": [
          0.9685156250000004,
          0.9748437500000005
         ],
         "title": {
          "text": "DG (eV)"
         }
        },
        "yaxis30": {
         "anchor": "x30",
         "domain": [
          0.62890625,
          0.635234375
         ],
         "title": {
          "text": "DG (eV)"
         }
        },
        "yaxis31": {
         "anchor": "x31",
         "domain": [
          0.616328125,
          0.62265625
         ],
         "title": {
          "text": "DG (eV)"
         }
        },
        "yaxis32": {
         "anchor": "x32",
         "domain": [
          0.60375,
          0.610078125
         ],
         "title": {
          "text": "DG (eV)"
         }
        },
        "yaxis33": {
         "anchor": "x33",
         "domain": [
          0.5911718749999999,
          0.5974999999999999
         ],
         "title": {
          "text": "DG (eV)"
         }
        },
        "yaxis34": {
         "anchor": "x34",
         "domain": [
          0.57859375,
          0.584921875
         ],
         "title": {
          "text": "DG (eV)"
         }
        },
        "yaxis35": {
         "anchor": "x35",
         "domain": [
          0.5660156249999999,
          0.5723437499999999
         ],
         "title": {
          "text": "DG (eV)"
         }
        },
        "yaxis36": {
         "anchor": "x36",
         "domain": [
          0.5534374999999999,
          0.5597656249999999
         ],
         "title": {
          "text": "DG (eV)"
         }
        },
        "yaxis37": {
         "anchor": "x37",
         "domain": [
          0.5408593749999999,
          0.5471874999999999
         ],
         "title": {
          "text": "DG (eV)"
         }
        },
        "yaxis38": {
         "anchor": "x38",
         "domain": [
          0.5282812499999998,
          0.5346093749999998
         ],
         "title": {
          "text": "DG (eV)"
         }
        },
        "yaxis39": {
         "anchor": "x39",
         "domain": [
          0.5157031249999999,
          0.52203125
         ],
         "title": {
          "text": "DG (eV)"
         }
        },
        "yaxis4": {
         "anchor": "x4",
         "domain": [
          0.9559375000000006,
          0.9622656250000006
         ],
         "title": {
          "text": "DG (eV)"
         }
        },
        "yaxis40": {
         "anchor": "x40",
         "domain": [
          0.5031249999999998,
          0.5094531249999998
         ],
         "title": {
          "text": "DG (eV)"
         }
        },
        "yaxis41": {
         "anchor": "x41",
         "domain": [
          0.4905468749999998,
          0.49687499999999984
         ],
         "title": {
          "text": "DG (eV)"
         }
        },
        "yaxis42": {
         "anchor": "x42",
         "domain": [
          0.47796874999999983,
          0.48429687499999985
         ],
         "title": {
          "text": "DG (eV)"
         }
        },
        "yaxis43": {
         "anchor": "x43",
         "domain": [
          0.46539062499999984,
          0.47171874999999985
         ],
         "title": {
          "text": "DG (eV)"
         }
        },
        "yaxis44": {
         "anchor": "x44",
         "domain": [
          0.45281249999999984,
          0.45914062499999986
         ],
         "title": {
          "text": "DG (eV)"
         }
        },
        "yaxis45": {
         "anchor": "x45",
         "domain": [
          0.44023437499999984,
          0.44656249999999986
         ],
         "title": {
          "text": "DG (eV)"
         }
        },
        "yaxis46": {
         "anchor": "x46",
         "domain": [
          0.4276562499999999,
          0.4339843749999999
         ],
         "title": {
          "text": "DG (eV)"
         }
        },
        "yaxis47": {
         "anchor": "x47",
         "domain": [
          0.4150781249999999,
          0.4214062499999999
         ],
         "title": {
          "text": "DG (eV)"
         }
        },
        "yaxis48": {
         "anchor": "x48",
         "domain": [
          0.4024999999999999,
          0.40882812499999993
         ],
         "title": {
          "text": "DG (eV)"
         }
        },
        "yaxis49": {
         "anchor": "x49",
         "domain": [
          0.3899218749999999,
          0.39624999999999994
         ],
         "title": {
          "text": "DG (eV)"
         }
        },
        "yaxis5": {
         "anchor": "x5",
         "domain": [
          0.9433593750000004,
          0.9496875000000005
         ],
         "title": {
          "text": "DG (eV)"
         }
        },
        "yaxis50": {
         "anchor": "x50",
         "domain": [
          0.3773437499999999,
          0.38367187499999994
         ],
         "title": {
          "text": "DG (eV)"
         }
        },
        "yaxis51": {
         "anchor": "x51",
         "domain": [
          0.364765625,
          0.37109375
         ],
         "title": {
          "text": "DG (eV)"
         }
        },
        "yaxis52": {
         "anchor": "x52",
         "domain": [
          0.3521875,
          0.358515625
         ],
         "title": {
          "text": "DG (eV)"
         }
        },
        "yaxis53": {
         "anchor": "x53",
         "domain": [
          0.339609375,
          0.3459375
         ],
         "title": {
          "text": "DG (eV)"
         }
        },
        "yaxis54": {
         "anchor": "x54",
         "domain": [
          0.32703125,
          0.333359375
         ],
         "title": {
          "text": "DG (eV)"
         }
        },
        "yaxis55": {
         "anchor": "x55",
         "domain": [
          0.314453125,
          0.32078125
         ],
         "title": {
          "text": "DG (eV)"
         }
        },
        "yaxis56": {
         "anchor": "x56",
         "domain": [
          0.301875,
          0.308203125
         ],
         "title": {
          "text": "DG (eV)"
         }
        },
        "yaxis57": {
         "anchor": "x57",
         "domain": [
          0.289296875,
          0.295625
         ],
         "title": {
          "text": "DG (eV)"
         }
        },
        "yaxis58": {
         "anchor": "x58",
         "domain": [
          0.27671875,
          0.28304687500000003
         ],
         "title": {
          "text": "DG (eV)"
         }
        },
        "yaxis59": {
         "anchor": "x59",
         "domain": [
          0.264140625,
          0.27046875000000004
         ],
         "title": {
          "text": "DG (eV)"
         }
        },
        "yaxis6": {
         "anchor": "x6",
         "domain": [
          0.9307812500000004,
          0.9371093750000005
         ],
         "title": {
          "text": "DG (eV)"
         }
        },
        "yaxis60": {
         "anchor": "x60",
         "domain": [
          0.2515625,
          0.25789062500000004
         ],
         "title": {
          "text": "DG (eV)"
         }
        },
        "yaxis61": {
         "anchor": "x61",
         "domain": [
          0.23898437500000003,
          0.24531250000000002
         ],
         "title": {
          "text": "DG (eV)"
         }
        },
        "yaxis62": {
         "anchor": "x62",
         "domain": [
          0.22640625000000003,
          0.23273437500000002
         ],
         "title": {
          "text": "DG (eV)"
         }
        },
        "yaxis63": {
         "anchor": "x63",
         "domain": [
          0.21382812500000004,
          0.22015625000000003
         ],
         "title": {
          "text": "DG (eV)"
         }
        },
        "yaxis64": {
         "anchor": "x64",
         "domain": [
          0.20125,
          0.207578125
         ],
         "title": {
          "text": "DG (eV)"
         }
        },
        "yaxis65": {
         "anchor": "x65",
         "domain": [
          0.188671875,
          0.19499999999999998
         ],
         "title": {
          "text": "DG (eV)"
         }
        },
        "yaxis66": {
         "anchor": "x66",
         "domain": [
          0.17609375,
          0.18242187499999998
         ],
         "title": {
          "text": "DG (eV)"
         }
        },
        "yaxis67": {
         "anchor": "x67",
         "domain": [
          0.163515625,
          0.16984375
         ],
         "title": {
          "text": "DG (eV)"
         }
        },
        "yaxis68": {
         "anchor": "x68",
         "domain": [
          0.1509375,
          0.157265625
         ],
         "title": {
          "text": "DG (eV)"
         }
        },
        "yaxis69": {
         "anchor": "x69",
         "domain": [
          0.138359375,
          0.1446875
         ],
         "title": {
          "text": "DG (eV)"
         }
        },
        "yaxis7": {
         "anchor": "x7",
         "domain": [
          0.9182031250000005,
          0.9245312500000005
         ],
         "title": {
          "text": "DG (eV)"
         }
        },
        "yaxis70": {
         "anchor": "x70",
         "domain": [
          0.12578124999999998,
          0.13210937499999997
         ],
         "title": {
          "text": "DG (eV)"
         }
        },
        "yaxis71": {
         "anchor": "x71",
         "domain": [
          0.11320312499999999,
          0.11953124999999999
         ],
         "title": {
          "text": "DG (eV)"
         }
        },
        "yaxis72": {
         "anchor": "x72",
         "domain": [
          0.10062499999999999,
          0.106953125
         ],
         "title": {
          "text": "DG (eV)"
         }
        },
        "yaxis73": {
         "anchor": "x73",
         "domain": [
          0.088046875,
          0.094375
         ],
         "title": {
          "text": "DG (eV)"
         }
        },
        "yaxis74": {
         "anchor": "x74",
         "domain": [
          0.07546875,
          0.081796875
         ],
         "title": {
          "text": "DG (eV)"
         }
        },
        "yaxis75": {
         "anchor": "x75",
         "domain": [
          0.062890625,
          0.06921875000000001
         ],
         "title": {
          "text": "DG (eV)"
         }
        },
        "yaxis76": {
         "anchor": "x76",
         "domain": [
          0.050312499999999996,
          0.05664062499999999
         ],
         "title": {
          "text": "DG (eV)"
         }
        },
        "yaxis77": {
         "anchor": "x77",
         "domain": [
          0.037734375,
          0.0440625
         ],
         "title": {
          "text": "DG (eV)"
         }
        },
        "yaxis78": {
         "anchor": "x78",
         "domain": [
          0.025156249999999998,
          0.031484374999999995
         ],
         "title": {
          "text": "DG (eV)"
         }
        },
        "yaxis79": {
         "anchor": "x79",
         "domain": [
          0.012578124999999999,
          0.01890625
         ],
         "title": {
          "text": "DG (eV)"
         }
        },
        "yaxis8": {
         "anchor": "x8",
         "domain": [
          0.9056250000000003,
          0.9119531250000004
         ],
         "title": {
          "text": "DG (eV)"
         }
        },
        "yaxis80": {
         "anchor": "x80",
         "domain": [
          0,
          0.0063281249999999995
         ],
         "title": {
          "text": "DG (eV)"
         }
        },
        "yaxis9": {
         "anchor": "x9",
         "domain": [
          0.8930468750000005,
          0.8993750000000005
         ],
         "title": {
          "text": "DG (eV)"
         }
        }
       }
      },
      "text/html": [
       "<div>                            <div id=\"a330136a-77e7-4e16-a78f-6e1ca1b7dac2\" class=\"plotly-graph-div\" style=\"height:15000px; width:500px;\"></div>            <script type=\"text/javascript\">                require([\"plotly\"], function(Plotly) {                    window.PLOTLYENV=window.PLOTLYENV || {};                                    if (document.getElementById(\"a330136a-77e7-4e16-a78f-6e1ca1b7dac2\")) {                    Plotly.newPlot(                        \"a330136a-77e7-4e16-a78f-6e1ca1b7dac2\",                        [{\"mode\": \"lines+text\", \"name\": \"SrTcO3\", \"text\": [\"\", \"H2O\", \"\", \"OH*\", \"\", \"O*\", \"\", \"OOH*\", \"\", \"O2(g)\"], \"textposition\": \"bottom center\", \"type\": \"scatter\", \"x\": [0, 1, 1, 2, 2, 3, 3, 4, 4, 5], \"xaxis\": \"x\", \"y\": [0, 0, -1.077, -1.077, -0.727, -0.727, 2.136, 2.136, 4.92, 4.92], \"yaxis\": \"y\"}, {\"mode\": \"lines+text\", \"name\": \"BaFeO3\", \"text\": [\"\", \"H2O\", \"\", \"OH*\", \"\", \"O*\", \"\", \"OOH*\", \"\", \"O2(g)\"], \"textposition\": \"bottom center\", \"type\": \"scatter\", \"x\": [0, 1, 1, 2, 2, 3, 3, 4, 4, 5], \"xaxis\": \"x2\", \"y\": [0, 0, 1.729, 1.729, 4.432, 4.432, 4.572, 4.572, 4.92, 4.92], \"yaxis\": \"y2\"}, {\"mode\": \"lines+text\", \"name\": \"BaMoO3\", \"text\": [\"\", \"H2O\", \"\", \"OH*\", \"\", \"O*\", \"\", \"OOH*\", \"\", \"O2(g)\"], \"textposition\": \"bottom center\", \"type\": \"scatter\", \"x\": [0, 1, 1, 2, 2, 3, 3, 4, 4, 5], \"xaxis\": \"x3\", \"y\": [0, 0, -0.597, -0.597, -0.873, -0.873, 2.674, 2.674, 4.92, 4.92], \"yaxis\": \"y3\"}, {\"mode\": \"lines+text\", \"name\": \"KTaO3\", \"text\": [\"\", \"H2O\", \"\", \"OH*\", \"\", \"O*\", \"\", \"OOH*\", \"\", \"O2(g)\"], \"textposition\": \"bottom center\", \"type\": \"scatter\", \"x\": [0, 1, 1, 2, 2, 3, 3, 4, 4, 5], \"xaxis\": \"x4\", \"y\": [0, 0, -1.296, -1.296, -0.634, -0.634, 2.23, 2.23, 4.92, 4.92], \"yaxis\": \"y4\"}, {\"mode\": \"lines+text\", \"name\": \"BaZrO3\", \"text\": [\"\", \"H2O\", \"\", \"OH*\", \"\", \"O*\", \"\", \"OOH*\", \"\", \"O2(g)\"], \"textposition\": \"bottom center\", \"type\": \"scatter\", \"x\": [0, 1, 1, 2, 2, 3, 3, 4, 4, 5], \"xaxis\": \"x5\", \"y\": [0, 0, 0.995, 0.995, 4.123, 4.123, 4.361, 4.361, 4.92, 4.92], \"yaxis\": \"y5\"}, {\"mode\": \"lines+text\", \"name\": \"SrFeO3\", \"text\": [\"\", \"H2O\", \"\", \"OH*\", \"\", \"O*\", \"\", \"OOH*\", \"\", \"O2(g)\"], \"textposition\": \"bottom center\", \"type\": \"scatter\", \"x\": [0, 1, 1, 2, 2, 3, 3, 4, 4, 5], \"xaxis\": \"x6\", \"y\": [0, 0, 1.731, 1.731, 4.586, 4.586, 4.595, 4.595, 4.92, 4.92], \"yaxis\": \"y6\"}, {\"mode\": \"lines+text\", \"name\": \"KTcO3\", \"text\": [\"\", \"H2O\", \"\", \"OH*\", \"\", \"O*\", \"\", \"OOH*\", \"\", \"O2(g)\"], \"textposition\": \"bottom center\", \"type\": \"scatter\", \"x\": [0, 1, 1, 2, 2, 3, 3, 4, 4, 5], \"xaxis\": \"x7\", \"y\": [0, 0, -0.255, -0.255, 0.426, 0.426, 2.886, 2.886, 4.92, 4.92], \"yaxis\": \"y7\"}, {\"mode\": \"lines+text\", \"name\": \"NaTcO3\", \"text\": [\"\", \"H2O\", \"\", \"OH*\", \"\", \"O*\", \"\", \"OOH*\", \"\", \"O2(g)\"], \"textposition\": \"bottom center\", \"type\": \"scatter\", \"x\": [0, 1, 1, 2, 2, 3, 3, 4, 4, 5], \"xaxis\": \"x8\", \"y\": [0, 0, -0.362, -0.362, 0.281, 0.281, 2.804, 2.804, 4.92, 4.92], \"yaxis\": \"y8\"}, {\"mode\": \"lines+text\", \"name\": \"BaHfO3\", \"text\": [\"\", \"H2O\", \"\", \"OH*\", \"\", \"O*\", \"\", \"OOH*\", \"\", \"O2(g)\"], \"textposition\": \"bottom center\", \"type\": \"scatter\", \"x\": [0, 1, 1, 2, 2, 3, 3, 4, 4, 5], \"xaxis\": \"x9\", \"y\": [0, 0, 0.896, 0.896, 4.003, 4.003, 4.192, 4.192, 4.92, 4.92], \"yaxis\": \"y9\"}, {\"mode\": \"lines+text\", \"name\": \"SrTiO3\", \"text\": [\"\", \"H2O\", \"\", \"OH*\", \"\", \"O*\", \"\", \"OOH*\", \"\", \"O2(g)\"], \"textposition\": \"bottom center\", \"type\": \"scatter\", \"x\": [0, 1, 1, 2, 2, 3, 3, 4, 4, 5], \"xaxis\": \"x10\", \"y\": [0, 0, 0.981, 0.981, 3.869, 3.869, 4.287, 4.287, 4.92, 4.92], \"yaxis\": \"y10\"}, {\"mode\": \"lines+text\", \"name\": \"SrCuO3\", \"text\": [\"\", \"H2O\", \"\", \"OH*\", \"\", \"O*\", \"\", \"OOH*\", \"\", \"O2(g)\"], \"textposition\": \"bottom center\", \"type\": \"scatter\", \"x\": [0, 1, 1, 2, 2, 3, 3, 4, 4, 5], \"xaxis\": \"x11\", \"y\": [0, 0, 1.712, 1.712, 4.21, 4.21, 4.662, 4.662, 4.92, 4.92], \"yaxis\": \"y11\"}, {\"mode\": \"lines+text\", \"name\": \"KNbO3\", \"text\": [\"\", \"H2O\", \"\", \"OH*\", \"\", \"O*\", \"\", \"OOH*\", \"\", \"O2(g)\"], \"textposition\": \"bottom center\", \"type\": \"scatter\", \"x\": [0, 1, 1, 2, 2, 3, 3, 4, 4, 5], \"xaxis\": \"x12\", \"y\": [0, 0, -0.512, -0.512, 0.445, 0.445, 2.953, 2.953, 4.92, 4.92], \"yaxis\": \"y12\"}, {\"mode\": \"lines+text\", \"name\": \"NaTaO3\", \"text\": [\"\", \"H2O\", \"\", \"OH*\", \"\", \"O*\", \"\", \"OOH*\", \"\", \"O2(g)\"], \"textposition\": \"bottom center\", \"type\": \"scatter\", \"x\": [0, 1, 1, 2, 2, 3, 3, 4, 4, 5], \"xaxis\": \"x13\", \"y\": [0, 0, -1.424, -1.424, -0.919, -0.919, 2.078, 2.078, 4.92, 4.92], \"yaxis\": \"y13\"}, {\"mode\": \"lines+text\", \"name\": \"BaScO3\", \"text\": [\"\", \"H2O\", \"\", \"OH*\", \"\", \"O*\", \"\", \"OOH*\", \"\", \"O2(g)\"], \"textposition\": \"bottom center\", \"type\": \"scatter\", \"x\": [0, 1, 1, 2, 2, 3, 3, 4, 4, 5], \"xaxis\": \"x14\", \"y\": [0, 0, 1.852, 1.852, 4.68, 4.68, 4.632, 4.632, 4.92, 4.92], \"yaxis\": \"y14\"}, {\"mode\": \"lines+text\", \"name\": \"BaPdO3\", \"text\": [\"\", \"H2O\", \"\", \"OH*\", \"\", \"O*\", \"\", \"OOH*\", \"\", \"O2(g)\"], \"textposition\": \"bottom center\", \"type\": \"scatter\", \"x\": [0, 1, 1, 2, 2, 3, 3, 4, 4, 5], \"xaxis\": \"x15\", \"y\": [0, 0, 1.405, 1.405, 3.435, 3.435, 4.32, 4.32, 4.92, 4.92], \"yaxis\": \"y15\"}, {\"mode\": \"lines+text\", \"name\": \"BaTaO3\", \"text\": [\"\", \"H2O\", \"\", \"OH*\", \"\", \"O*\", \"\", \"OOH*\", \"\", \"O2(g)\"], \"textposition\": \"bottom center\", \"type\": \"scatter\", \"x\": [0, 1, 1, 2, 2, 3, 3, 4, 4, 5], \"xaxis\": \"x16\", \"y\": [0, 0, -2.181, -2.181, -2.592, -2.592, -4.578, -4.578, 4.92, 4.92], \"yaxis\": \"y16\"}, {\"mode\": \"lines+text\", \"name\": \"SrHfO3\", \"text\": [\"\", \"H2O\", \"\", \"OH*\", \"\", \"O*\", \"\", \"OOH*\", \"\", \"O2(g)\"], \"textposition\": \"bottom center\", \"type\": \"scatter\", \"x\": [0, 1, 1, 2, 2, 3, 3, 4, 4, 5], \"xaxis\": \"x17\", \"y\": [0, 0, 0.786, 0.786, 3.932, 3.932, 4.115, 4.115, 4.92, 4.92], \"yaxis\": \"y17\"}, {\"mode\": \"lines+text\", \"name\": \"NaOsO3\", \"text\": [\"\", \"H2O\", \"\", \"OH*\", \"\", \"O*\", \"\", \"OOH*\", \"\", \"O2(g)\"], \"textposition\": \"bottom center\", \"type\": \"scatter\", \"x\": [0, 1, 1, 2, 2, 3, 3, 4, 4, 5], \"xaxis\": \"x18\", \"y\": [0, 0, -0.649, -0.649, 0.557, 0.557, 2.758, 2.758, 4.92, 4.92], \"yaxis\": \"y18\"}, {\"mode\": \"lines+text\", \"name\": \"TlTcO3\", \"text\": [\"\", \"H2O\", \"\", \"OH*\", \"\", \"O*\", \"\", \"OOH*\", \"\", \"O2(g)\"], \"textposition\": \"bottom center\", \"type\": \"scatter\", \"x\": [0, 1, 1, 2, 2, 3, 3, 4, 4, 5], \"xaxis\": \"x19\", \"y\": [0, 0, -0.326, -0.326, 0.293, 0.293, 2.755, 2.755, 4.92, 4.92], \"yaxis\": \"y19\"}, {\"mode\": \"lines+text\", \"name\": \"KReO3\", \"text\": [\"\", \"H2O\", \"\", \"OH*\", \"\", \"O*\", \"\", \"OOH*\", \"\", \"O2(g)\"], \"textposition\": \"bottom center\", \"type\": \"scatter\", \"x\": [0, 1, 1, 2, 2, 3, 3, 4, 4, 5], \"xaxis\": \"x20\", \"y\": [0, 0, -1.028, -1.028, -0.564, -0.564, 2.194, 2.194, 4.92, 4.92], \"yaxis\": \"y20\"}, {\"mode\": \"lines+text\", \"name\": \"SrRuO3\", \"text\": [\"\", \"H2O\", \"\", \"OH*\", \"\", \"O*\", \"\", \"OOH*\", \"\", \"O2(g)\"], \"textposition\": \"bottom center\", \"type\": \"scatter\", \"x\": [0, 1, 1, 2, 2, 3, 3, 4, 4, 5], \"xaxis\": \"x21\", \"y\": [0, 0, -0.035, -0.035, 0.94, 0.94, 3.061, 3.061, 4.92, 4.92], \"yaxis\": \"y21\"}, {\"mode\": \"lines+text\", \"name\": \"KHfO3\", \"text\": [\"\", \"H2O\", \"\", \"OH*\", \"\", \"O*\", \"\", \"OOH*\", \"\", \"O2(g)\"], \"textposition\": \"bottom center\", \"type\": \"scatter\", \"x\": [0, 1, 1, 2, 2, 3, 3, 4, 4, 5], \"xaxis\": \"x22\", \"y\": [0, 0, 1.651, 1.651, 4.387, 4.387, 4.461, 4.461, 4.92, 4.92], \"yaxis\": \"y22\"}, {\"mode\": \"lines+text\", \"name\": \"SrVO3\", \"text\": [\"\", \"H2O\", \"\", \"OH*\", \"\", \"O*\", \"\", \"OOH*\", \"\", \"O2(g)\"], \"textposition\": \"bottom center\", \"type\": \"scatter\", \"x\": [0, 1, 1, 2, 2, 3, 3, 4, 4, 5], \"xaxis\": \"x23\", \"y\": [0, 0, -0.486, -0.486, 0.496, 0.496, 2.681, 2.681, 4.92, 4.92], \"yaxis\": \"y23\"}, {\"mode\": \"lines+text\", \"name\": \"KOsO3\", \"text\": [\"\", \"H2O\", \"\", \"OH*\", \"\", \"O*\", \"\", \"OOH*\", \"\", \"O2(g)\"], \"textposition\": \"bottom center\", \"type\": \"scatter\", \"x\": [0, 1, 1, 2, 2, 3, 3, 4, 4, 5], \"xaxis\": \"x24\", \"y\": [0, 0, -0.759, -0.759, 0.679, 0.679, 2.457, 2.457, 4.92, 4.92], \"yaxis\": \"y24\"}, {\"mode\": \"lines+text\", \"name\": \"TaAgO3\", \"text\": [\"\", \"H2O\", \"\", \"OH*\", \"\", \"O*\", \"\", \"OOH*\", \"\", \"O2(g)\"], \"textposition\": \"bottom center\", \"type\": \"scatter\", \"x\": [0, 1, 1, 2, 2, 3, 3, 4, 4, 5], \"xaxis\": \"x25\", \"y\": [0, 0, -1.351, -1.351, -0.989, -0.989, 2.167, 2.167, 4.92, 4.92], \"yaxis\": \"y25\"}, {\"mode\": \"lines+text\", \"name\": \"SrNiO3\", \"text\": [\"\", \"H2O\", \"\", \"OH*\", \"\", \"O*\", \"\", \"OOH*\", \"\", \"O2(g)\"], \"textposition\": \"bottom center\", \"type\": \"scatter\", \"x\": [0, 1, 1, 2, 2, 3, 3, 4, 4, 5], \"xaxis\": \"x26\", \"y\": [0, 0, 3.179, 3.179, 4.417, 4.417, 4.296, 4.296, 4.92, 4.92], \"yaxis\": \"y26\"}, {\"mode\": \"lines+text\", \"name\": \"RbIrO3\", \"text\": [\"\", \"H2O\", \"\", \"OH*\", \"\", \"O*\", \"\", \"OOH*\", \"\", \"O2(g)\"], \"textposition\": \"bottom center\", \"type\": \"scatter\", \"x\": [0, 1, 1, 2, 2, 3, 3, 4, 4, 5], \"xaxis\": \"x27\", \"y\": [0, 0, 0.681, 0.681, 2.395, 2.395, 3.79, 3.79, 4.92, 4.92], \"yaxis\": \"y27\"}, {\"mode\": \"lines+text\", \"name\": \"NaReO3\", \"text\": [\"\", \"H2O\", \"\", \"OH*\", \"\", \"O*\", \"\", \"OOH*\", \"\", \"O2(g)\"], \"textposition\": \"bottom center\", \"type\": \"scatter\", \"x\": [0, 1, 1, 2, 2, 3, 3, 4, 4, 5], \"xaxis\": \"x28\", \"y\": [0, 0, -1.126, -1.126, -0.717, -0.717, 2.104, 2.104, 4.92, 4.92], \"yaxis\": \"y28\"}, {\"mode\": \"lines+text\", \"name\": \"SrMnO3\", \"text\": [\"\", \"H2O\", \"\", \"OH*\", \"\", \"O*\", \"\", \"OOH*\", \"\", \"O2(g)\"], \"textposition\": \"bottom center\", \"type\": \"scatter\", \"x\": [0, 1, 1, 2, 2, 3, 3, 4, 4, 5], \"xaxis\": \"x29\", \"y\": [0, 0, 2.253, 2.253, 4.628, 4.628, 5.164, 5.164, 4.92, 4.92], \"yaxis\": \"y29\"}, {\"mode\": \"lines+text\", \"name\": \"CaFeO3\", \"text\": [\"\", \"H2O\", \"\", \"OH*\", \"\", \"O*\", \"\", \"OOH*\", \"\", \"O2(g)\"], \"textposition\": \"bottom center\", \"type\": \"scatter\", \"x\": [0, 1, 1, 2, 2, 3, 3, 4, 4, 5], \"xaxis\": \"x30\", \"y\": [0, 0, 1.632, 1.632, 4.257, 4.257, 4.581, 4.581, 4.92, 4.92], \"yaxis\": \"y30\"}, {\"mode\": \"lines+text\", \"name\": \"SrZrO3\", \"text\": [\"\", \"H2O\", \"\", \"OH*\", \"\", \"O*\", \"\", \"OOH*\", \"\", \"O2(g)\"], \"textposition\": \"bottom center\", \"type\": \"scatter\", \"x\": [0, 1, 1, 2, 2, 3, 3, 4, 4, 5], \"xaxis\": \"x31\", \"y\": [0, 0, 0.856, 0.856, 4.014, 4.014, 4.192, 4.192, 4.92, 4.92], \"yaxis\": \"y31\"}, {\"mode\": \"lines+text\", \"name\": \"NaWO3\", \"text\": [\"\", \"H2O\", \"\", \"OH*\", \"\", \"O*\", \"\", \"OOH*\", \"\", \"O2(g)\"], \"textposition\": \"bottom center\", \"type\": \"scatter\", \"x\": [0, 1, 1, 2, 2, 3, 3, 4, 4, 5], \"xaxis\": \"x32\", \"y\": [0, 0, \"NaN\", \"NaN\", -1.597, -1.597, \"NaN\", \"NaN\", 4.92, 4.92], \"yaxis\": \"y32\"}, {\"mode\": \"lines+text\", \"name\": \"RbTaO3\", \"text\": [\"\", \"H2O\", \"\", \"OH*\", \"\", \"O*\", \"\", \"OOH*\", \"\", \"O2(g)\"], \"textposition\": \"bottom center\", \"type\": \"scatter\", \"x\": [0, 1, 1, 2, 2, 3, 3, 4, 4, 5], \"xaxis\": \"x33\", \"y\": [0, 0, -1.292, -1.292, -0.637, -0.637, 2.274, 2.274, 4.92, 4.92], \"yaxis\": \"y33\"}, {\"mode\": \"lines+text\", \"name\": \"SrCoO3\", \"text\": [\"\", \"H2O\", \"\", \"OH*\", \"\", \"O*\", \"\", \"OOH*\", \"\", \"O2(g)\"], \"textposition\": \"bottom center\", \"type\": \"scatter\", \"x\": [0, 1, 1, 2, 2, 3, 3, 4, 4, 5], \"xaxis\": \"x34\", \"y\": [0, 0, 0.868, 0.868, 3.116, 3.116, 3.916, 3.916, 4.92, 4.92], \"yaxis\": \"y34\"}, {\"mode\": \"lines+text\", \"name\": \"SrTaO3\", \"text\": [\"\", \"H2O\", \"\", \"OH*\", \"\", \"O*\", \"\", \"OOH*\", \"\", \"O2(g)\"], \"textposition\": \"bottom center\", \"type\": \"scatter\", \"x\": [0, 1, 1, 2, 2, 3, 3, 4, 4, 5], \"xaxis\": \"x35\", \"y\": [0, 0, -2.318, -2.318, -2.803, -2.803, -5.211, -5.211, 4.92, 4.92], \"yaxis\": \"y35\"}, {\"mode\": \"lines+text\", \"name\": \"KZrO3\", \"text\": [\"\", \"H2O\", \"\", \"OH*\", \"\", \"O*\", \"\", \"OOH*\", \"\", \"O2(g)\"], \"textposition\": \"bottom center\", \"type\": \"scatter\", \"x\": [0, 1, 1, 2, 2, 3, 3, 4, 4, 5], \"xaxis\": \"x36\", \"y\": [0, 0, 1.712, 1.712, 4.496, 4.496, 4.48, 4.48, 4.92, 4.92], \"yaxis\": \"y36\"}, {\"mode\": \"lines+text\", \"name\": \"CaTiO3\", \"text\": [\"\", \"H2O\", \"\", \"OH*\", \"\", \"O*\", \"\", \"OOH*\", \"\", \"O2(g)\"], \"textposition\": \"bottom center\", \"type\": \"scatter\", \"x\": [0, 1, 1, 2, 2, 3, 3, 4, 4, 5], \"xaxis\": \"x37\", \"y\": [0, 0, 0.968, 0.968, 3.891, 3.891, 4.347, 4.347, 4.92, 4.92], \"yaxis\": \"y37\"}, {\"mode\": \"lines+text\", \"name\": \"NaRuO3\", \"text\": [\"\", \"H2O\", \"\", \"OH*\", \"\", \"O*\", \"\", \"OOH*\", \"\", \"O2(g)\"], \"textposition\": \"bottom center\", \"type\": \"scatter\", \"x\": [0, 1, 1, 2, 2, 3, 3, 4, 4, 5], \"xaxis\": \"x38\", \"y\": [0, 0, 0.451, 0.451, 1.851, 1.851, 3.459, 3.459, 4.92, 4.92], \"yaxis\": \"y38\"}, {\"mode\": \"lines+text\", \"name\": \"LiTcO3\", \"text\": [\"\", \"H2O\", \"\", \"OH*\", \"\", \"O*\", \"\", \"OOH*\", \"\", \"O2(g)\"], \"textposition\": \"bottom center\", \"type\": \"scatter\", \"x\": [0, 1, 1, 2, 2, 3, 3, 4, 4, 5], \"xaxis\": \"x39\", \"y\": [0, 0, -0.143, -0.143, 0.601, 0.601, 3.006, 3.006, 4.92, 4.92], \"yaxis\": \"y39\"}, {\"mode\": \"lines+text\", \"name\": \"SrPdO3\", \"text\": [\"\", \"H2O\", \"\", \"OH*\", \"\", \"O*\", \"\", \"OOH*\", \"\", \"O2(g)\"], \"textposition\": \"bottom center\", \"type\": \"scatter\", \"x\": [0, 1, 1, 2, 2, 3, 3, 4, 4, 5], \"xaxis\": \"x40\", \"y\": [0, 0, 0.604, 0.604, 3.156, 3.156, 3.396, 3.396, 4.92, 4.92], \"yaxis\": \"y40\"}, {\"mode\": \"lines+text\", \"name\": \"KWO3\", \"text\": [\"\", \"H2O\", \"\", \"OH*\", \"\", \"O*\", \"\", \"OOH*\", \"\", \"O2(g)\"], \"textposition\": \"bottom center\", \"type\": \"scatter\", \"x\": [0, 1, 1, 2, 2, 3, 3, 4, 4, 5], \"xaxis\": \"x41\", \"y\": [0, 0, -1.419, -1.419, -1.22, -1.22, 1.722, 1.722, 4.92, 4.92], \"yaxis\": \"y41\"}, {\"mode\": \"lines+text\", \"name\": \"KRhO3\", \"text\": [\"\", \"H2O\", \"\", \"OH*\", \"\", \"O*\", \"\", \"OOH*\", \"\", \"O2(g)\"], \"textposition\": \"bottom center\", \"type\": \"scatter\", \"x\": [0, 1, 1, 2, 2, 3, 3, 4, 4, 5], \"xaxis\": \"x42\", \"y\": [0, 0, 1.273, 1.273, 3.301, 3.301, 4.159, 4.159, 4.92, 4.92], \"yaxis\": \"y42\"}, {\"mode\": \"lines+text\", \"name\": \"BaCuO3\", \"text\": [\"\", \"H2O\", \"\", \"OH*\", \"\", \"O*\", \"\", \"OOH*\", \"\", \"O2(g)\"], \"textposition\": \"bottom center\", \"type\": \"scatter\", \"x\": [0, 1, 1, 2, 2, 3, 3, 4, 4, 5], \"xaxis\": \"x43\", \"y\": [0, 0, 1.526, 1.526, 3.93, 3.93, 4.41, 4.41, 4.92, 4.92], \"yaxis\": \"y43\"}, {\"mode\": \"lines+text\", \"name\": \"RbNbO3\", \"text\": [\"\", \"H2O\", \"\", \"OH*\", \"\", \"O*\", \"\", \"OOH*\", \"\", \"O2(g)\"], \"textposition\": \"bottom center\", \"type\": \"scatter\", \"x\": [0, 1, 1, 2, 2, 3, 3, 4, 4, 5], \"xaxis\": \"x44\", \"y\": [0, 0, -0.639, -0.639, 0.262, 0.262, 2.842, 2.842, 4.92, 4.92], \"yaxis\": \"y44\"}, {\"mode\": \"lines+text\", \"name\": \"BaOsO3\", \"text\": [\"\", \"H2O\", \"\", \"OH*\", \"\", \"O*\", \"\", \"OOH*\", \"\", \"O2(g)\"], \"textposition\": \"bottom center\", \"type\": \"scatter\", \"x\": [0, 1, 1, 2, 2, 3, 3, 4, 4, 5], \"xaxis\": \"x45\", \"y\": [0, 0, -1.779, -1.779, -0.748, -0.748, 1.796, 1.796, 4.92, 4.92], \"yaxis\": \"y45\"}, {\"mode\": \"lines+text\", \"name\": \"BaRuO3\", \"text\": [\"\", \"H2O\", \"\", \"OH*\", \"\", \"O*\", \"\", \"OOH*\", \"\", \"O2(g)\"], \"textposition\": \"bottom center\", \"type\": \"scatter\", \"x\": [0, 1, 1, 2, 2, 3, 3, 4, 4, 5], \"xaxis\": \"x46\", \"y\": [0, 0, 0.151, 0.151, 1.283, 1.283, 3.168, 3.168, 4.92, 4.92], \"yaxis\": \"y46\"}, {\"mode\": \"lines+text\", \"name\": \"KRuO3\", \"text\": [\"\", \"H2O\", \"\", \"OH*\", \"\", \"O*\", \"\", \"OOH*\", \"\", \"O2(g)\"], \"textposition\": \"bottom center\", \"type\": \"scatter\", \"x\": [0, 1, 1, 2, 2, 3, 3, 4, 4, 5], \"xaxis\": \"x47\", \"y\": [0, 0, 0.535, 0.535, 1.986, 1.986, 3.627, 3.627, 4.92, 4.92], \"yaxis\": \"y47\"}, {\"mode\": \"lines+text\", \"name\": \"SrMoO3\", \"text\": [\"\", \"H2O\", \"\", \"OH*\", \"\", \"O*\", \"\", \"OOH*\", \"\", \"O2(g)\"], \"textposition\": \"bottom center\", \"type\": \"scatter\", \"x\": [0, 1, 1, 2, 2, 3, 3, 4, 4, 5], \"xaxis\": \"x48\", \"y\": [0, 0, -1.425, -1.425, -1.395, -1.395, 1.871, 1.871, 4.92, 4.92], \"yaxis\": \"y48\"}, {\"mode\": \"lines+text\", \"name\": \"NaTiO3\", \"text\": [\"\", \"H2O\", \"\", \"OH*\", \"\", \"O*\", \"\", \"OOH*\", \"\", \"O2(g)\"], \"textposition\": \"bottom center\", \"type\": \"scatter\", \"x\": [0, 1, 1, 2, 2, 3, 3, 4, 4, 5], \"xaxis\": \"x49\", \"y\": [0, 0, 1.91, 1.91, 4.548, 4.548, 4.573, 4.573, 4.92, 4.92], \"yaxis\": \"y49\"}, {\"mode\": \"lines+text\", \"name\": \"SrScO3\", \"text\": [\"\", \"H2O\", \"\", \"OH*\", \"\", \"O*\", \"\", \"OOH*\", \"\", \"O2(g)\"], \"textposition\": \"bottom center\", \"type\": \"scatter\", \"x\": [0, 1, 1, 2, 2, 3, 3, 4, 4, 5], \"xaxis\": \"x50\", \"y\": [0, 0, 1.851, 1.851, 4.657, 4.657, 4.618, 4.618, 4.92, 4.92], \"yaxis\": \"y50\"}, {\"mode\": \"lines+text\", \"name\": \"RbOsO3\", \"text\": [\"\", \"H2O\", \"\", \"OH*\", \"\", \"O*\", \"\", \"OOH*\", \"\", \"O2(g)\"], \"textposition\": \"bottom center\", \"type\": \"scatter\", \"x\": [0, 1, 1, 2, 2, 3, 3, 4, 4, 5], \"xaxis\": \"x51\", \"y\": [0, 0, -0.225, -0.225, \"NaN\", \"NaN\", 2.427, 2.427, 4.92, 4.92], \"yaxis\": \"y51\"}, {\"mode\": \"lines+text\", \"name\": \"SrRhO3\", \"text\": [\"\", \"H2O\", \"\", \"OH*\", \"\", \"O*\", \"\", \"OOH*\", \"\", \"O2(g)\"], \"textposition\": \"bottom center\", \"type\": \"scatter\", \"x\": [0, 1, 1, 2, 2, 3, 3, 4, 4, 5], \"xaxis\": \"x52\", \"y\": [0, 0, 0.204, 0.204, 2.131, 2.131, 3.151, 3.151, 4.92, 4.92], \"yaxis\": \"y52\"}, {\"mode\": \"lines+text\", \"name\": \"NaMoO3\", \"text\": [\"\", \"H2O\", \"\", \"OH*\", \"\", \"O*\", \"\", \"OOH*\", \"\", \"O2(g)\"], \"textposition\": \"bottom center\", \"type\": \"scatter\", \"x\": [0, 1, 1, 2, 2, 3, 3, 4, 4, 5], \"xaxis\": \"x53\", \"y\": [0, 0, -0.71, -0.71, -0.685, -0.685, 2.279, 2.279, 4.92, 4.92], \"yaxis\": \"y53\"}, {\"mode\": \"lines+text\", \"name\": \"SrOsO3\", \"text\": [\"\", \"H2O\", \"\", \"OH*\", \"\", \"O*\", \"\", \"OOH*\", \"\", \"O2(g)\"], \"textposition\": \"bottom center\", \"type\": \"scatter\", \"x\": [0, 1, 1, 2, 2, 3, 3, 4, 4, 5], \"xaxis\": \"x54\", \"y\": [0, 0, -0.842, -0.842, \"NaN\", \"NaN\", \"NaN\", \"NaN\", 4.92, 4.92], \"yaxis\": \"y54\"}, {\"mode\": \"lines+text\", \"name\": \"BaRhO3\", \"text\": [\"\", \"H2O\", \"\", \"OH*\", \"\", \"O*\", \"\", \"OOH*\", \"\", \"O2(g)\"], \"textposition\": \"bottom center\", \"type\": \"scatter\", \"x\": [0, 1, 1, 2, 2, 3, 3, 4, 4, 5], \"xaxis\": \"x55\", \"y\": [0, 0, 0.791, 0.791, 2.441, 2.441, 3.77, 3.77, 4.92, 4.92], \"yaxis\": \"y55\"}, {\"mode\": \"lines+text\", \"name\": \"BaPtO3\", \"text\": [\"\", \"H2O\", \"\", \"OH*\", \"\", \"O*\", \"\", \"OOH*\", \"\", \"O2(g)\"], \"textposition\": \"bottom center\", \"type\": \"scatter\", \"x\": [0, 1, 1, 2, 2, 3, 3, 4, 4, 5], \"xaxis\": \"x56\", \"y\": [0, 0, 0.806, 0.806, 2.54, 2.54, 3.814, 3.814, 4.92, 4.92], \"yaxis\": \"y56\"}, {\"mode\": \"lines+text\", \"name\": \"CaVO3\", \"text\": [\"\", \"H2O\", \"\", \"OH*\", \"\", \"O*\", \"\", \"OOH*\", \"\", \"O2(g)\"], \"textposition\": \"bottom center\", \"type\": \"scatter\", \"x\": [0, 1, 1, 2, 2, 3, 3, 4, 4, 5], \"xaxis\": \"x57\", \"y\": [0, 0, -0.476, -0.476, 0.369, 0.369, 3.031, 3.031, 4.92, 4.92], \"yaxis\": \"y57\"}, {\"mode\": \"lines+text\", \"name\": \"KMoO3\", \"text\": [\"\", \"H2O\", \"\", \"OH*\", \"\", \"O*\", \"\", \"OOH*\", \"\", \"O2(g)\"], \"textposition\": \"bottom center\", \"type\": \"scatter\", \"x\": [0, 1, 1, 2, 2, 3, 3, 4, 4, 5], \"xaxis\": \"x58\", \"y\": [0, 0, -0.853, -0.853, -0.432, -0.432, 2.287, 2.287, 4.92, 4.92], \"yaxis\": \"y58\"}, {\"mode\": \"lines+text\", \"name\": \"SrCrO3\", \"text\": [\"\", \"H2O\", \"\", \"OH*\", \"\", \"O*\", \"\", \"OOH*\", \"\", \"O2(g)\"], \"textposition\": \"bottom center\", \"type\": \"scatter\", \"x\": [0, 1, 1, 2, 2, 3, 3, 4, 4, 5], \"xaxis\": \"x59\", \"y\": [0, 0, 0.351, 0.351, 2.026, 2.026, 3.484, 3.484, 4.92, 4.92], \"yaxis\": \"y59\"}, {\"mode\": \"lines+text\", \"name\": \"SrAgO3\", \"text\": [\"\", \"H2O\", \"\", \"OH*\", \"\", \"O*\", \"\", \"OOH*\", \"\", \"O2(g)\"], \"textposition\": \"bottom center\", \"type\": \"scatter\", \"x\": [0, 1, 1, 2, 2, 3, 3, 4, 4, 5], \"xaxis\": \"x60\", \"y\": [0, 0, 1.608, 1.608, 4.27, 4.27, 2.388, 2.388, 4.92, 4.92], \"yaxis\": \"y60\"}, {\"mode\": \"lines+text\", \"name\": \"RbRhO3\", \"text\": [\"\", \"H2O\", \"\", \"OH*\", \"\", \"O*\", \"\", \"OOH*\", \"\", \"O2(g)\"], \"textposition\": \"bottom center\", \"type\": \"scatter\", \"x\": [0, 1, 1, 2, 2, 3, 3, 4, 4, 5], \"xaxis\": \"x61\", \"y\": [0, 0, 0.995, 0.995, 3.18, 3.18, 3.724, 3.724, 4.92, 4.92], \"yaxis\": \"y61\"}, {\"mode\": \"lines+text\", \"name\": \"BaVO3\", \"text\": [\"\", \"H2O\", \"\", \"OH*\", \"\", \"O*\", \"\", \"OOH*\", \"\", \"O2(g)\"], \"textposition\": \"bottom center\", \"type\": \"scatter\", \"x\": [0, 1, 1, 2, 2, 3, 3, 4, 4, 5], \"xaxis\": \"x62\", \"y\": [0, 0, -0.769, -0.769, 0.484, 0.484, 3.021, 3.021, 4.92, 4.92], \"yaxis\": \"y62\"}, {\"mode\": \"lines+text\", \"name\": \"CaCoO3\", \"text\": [\"\", \"H2O\", \"\", \"OH*\", \"\", \"O*\", \"\", \"OOH*\", \"\", \"O2(g)\"], \"textposition\": \"bottom center\", \"type\": \"scatter\", \"x\": [0, 1, 1, 2, 2, 3, 3, 4, 4, 5], \"xaxis\": \"x63\", \"y\": [0, 0, 1.341, 1.341, 3.405, 3.405, 4.338, 4.338, 4.92, 4.92], \"yaxis\": \"y63\"}, {\"mode\": \"lines+text\", \"name\": \"CaMnO3\", \"text\": [\"\", \"H2O\", \"\", \"OH*\", \"\", \"O*\", \"\", \"OOH*\", \"\", \"O2(g)\"], \"textposition\": \"bottom center\", \"type\": \"scatter\", \"x\": [0, 1, 1, 2, 2, 3, 3, 4, 4, 5], \"xaxis\": \"x64\", \"y\": [0, 0, 1.113, 1.113, 4.269, 4.269, 4.622, 4.622, 4.92, 4.92], \"yaxis\": \"y64\"}, {\"mode\": \"lines+text\", \"name\": \"KPtO3\", \"text\": [\"\", \"H2O\", \"\", \"OH*\", \"\", \"O*\", \"\", \"OOH*\", \"\", \"O2(g)\"], \"textposition\": \"bottom center\", \"type\": \"scatter\", \"x\": [0, 1, 1, 2, 2, 3, 3, 4, 4, 5], \"xaxis\": \"x65\", \"y\": [0, 0, 0.997, 0.997, 2.928, 2.928, 3.935, 3.935, 4.92, 4.92], \"yaxis\": \"y65\"}, {\"mode\": \"lines+text\", \"name\": \"BaNiO3\", \"text\": [\"\", \"H2O\", \"\", \"OH*\", \"\", \"O*\", \"\", \"OOH*\", \"\", \"O2(g)\"], \"textposition\": \"bottom center\", \"type\": \"scatter\", \"x\": [0, 1, 1, 2, 2, 3, 3, 4, 4, 5], \"xaxis\": \"x66\", \"y\": [0, 0, 1.972, 1.972, 4.39, 4.39, 4.598, 4.598, 4.92, 4.92], \"yaxis\": \"y66\"}, {\"mode\": \"lines+text\", \"name\": \"BaMnO3\", \"text\": [\"\", \"H2O\", \"\", \"OH*\", \"\", \"O*\", \"\", \"OOH*\", \"\", \"O2(g)\"], \"textposition\": \"bottom center\", \"type\": \"scatter\", \"x\": [0, 1, 1, 2, 2, 3, 3, 4, 4, 5], \"xaxis\": \"x67\", \"y\": [0, 0, 1.36, 1.36, 2.923, 2.923, 4.569, 4.569, 4.92, 4.92], \"yaxis\": \"y67\"}, {\"mode\": \"lines+text\", \"name\": \"SrReO3\", \"text\": [\"\", \"H2O\", \"\", \"OH*\", \"\", \"O*\", \"\", \"OOH*\", \"\", \"O2(g)\"], \"textposition\": \"bottom center\", \"type\": \"scatter\", \"x\": [0, 1, 1, 2, 2, 3, 3, 4, 4, 5], \"xaxis\": \"x68\", \"y\": [0, 0, -1.576, -1.576, -1.298, -1.298, -2.934, -2.934, 4.92, 4.92], \"yaxis\": \"y68\"}, {\"mode\": \"lines+text\", \"name\": \"BaReO3\", \"text\": [\"\", \"H2O\", \"\", \"OH*\", \"\", \"O*\", \"\", \"OOH*\", \"\", \"O2(g)\"], \"textposition\": \"bottom center\", \"type\": \"scatter\", \"x\": [0, 1, 1, 2, 2, 3, 3, 4, 4, 5], \"xaxis\": \"x69\", \"y\": [0, 0, -1.07, -1.07, -1.149, -1.149, -2.258, -2.258, 4.92, 4.92], \"yaxis\": \"y69\"}, {\"mode\": \"lines+text\", \"name\": \"SrIrO3\", \"text\": [\"\", \"H2O\", \"\", \"OH*\", \"\", \"O*\", \"\", \"OOH*\", \"\", \"O2(g)\"], \"textposition\": \"bottom center\", \"type\": \"scatter\", \"x\": [0, 1, 1, 2, 2, 3, 3, 4, 4, 5], \"xaxis\": \"x70\", \"y\": [0, 0, 0.129, 0.129, 1.653, 1.653, 3.201, 3.201, 4.92, 4.92], \"yaxis\": \"y70\"}, {\"mode\": \"lines+text\", \"name\": \"NaVO3\", \"text\": [\"\", \"H2O\", \"\", \"OH*\", \"\", \"O*\", \"\", \"OOH*\", \"\", \"O2(g)\"], \"textposition\": \"bottom center\", \"type\": \"scatter\", \"x\": [0, 1, 1, 2, 2, 3, 3, 4, 4, 5], \"xaxis\": \"x71\", \"y\": [0, 0, 0.225, 0.225, 1.723, 1.723, 3.566, 3.566, 4.92, 4.92], \"yaxis\": \"y71\"}, {\"mode\": \"lines+text\", \"name\": \"NaFeO3\", \"text\": [\"\", \"H2O\", \"\", \"OH*\", \"\", \"O*\", \"\", \"OOH*\", \"\", \"O2(g)\"], \"textposition\": \"bottom center\", \"type\": \"scatter\", \"x\": [0, 1, 1, 2, 2, 3, 3, 4, 4, 5], \"xaxis\": \"x72\", \"y\": [0, 0, 2.03, 2.03, 4.605, 4.605, 4.683, 4.683, 4.92, 4.92], \"yaxis\": \"y72\"}, {\"mode\": \"lines+text\", \"name\": \"BaIrO3\", \"text\": [\"\", \"H2O\", \"\", \"OH*\", \"\", \"O*\", \"\", \"OOH*\", \"\", \"O2(g)\"], \"textposition\": \"bottom center\", \"type\": \"scatter\", \"x\": [0, 1, 1, 2, 2, 3, 3, 4, 4, 5], \"xaxis\": \"x73\", \"y\": [0, 0, 0.351, 0.351, 1.969, 1.969, 3.483, 3.483, 4.92, 4.92], \"yaxis\": \"y73\"}, {\"mode\": \"lines+text\", \"name\": \"RbReO3\", \"text\": [\"\", \"H2O\", \"\", \"OH*\", \"\", \"O*\", \"\", \"OOH*\", \"\", \"O2(g)\"], \"textposition\": \"bottom center\", \"type\": \"scatter\", \"x\": [0, 1, 1, 2, 2, 3, 3, 4, 4, 5], \"xaxis\": \"x74\", \"y\": [0, 0, -0.973, -0.973, -0.512, -0.512, 2.236, 2.236, 4.92, 4.92], \"yaxis\": \"y74\"}, {\"mode\": \"lines+text\", \"name\": \"CaRuO3\", \"text\": [\"\", \"H2O\", \"\", \"OH*\", \"\", \"O*\", \"\", \"OOH*\", \"\", \"O2(g)\"], \"textposition\": \"bottom center\", \"type\": \"scatter\", \"x\": [0, 1, 1, 2, 2, 3, 3, 4, 4, 5], \"xaxis\": \"x75\", \"y\": [0, 0, -0.658, -0.658, 0.66, 0.66, 2.169, 2.169, 4.92, 4.92], \"yaxis\": \"y75\"}, {\"mode\": \"lines+text\", \"name\": \"RbPdO3\", \"text\": [\"\", \"H2O\", \"\", \"OH*\", \"\", \"O*\", \"\", \"OOH*\", \"\", \"O2(g)\"], \"textposition\": \"bottom center\", \"type\": \"scatter\", \"x\": [0, 1, 1, 2, 2, 3, 3, 4, 4, 5], \"xaxis\": \"x76\", \"y\": [0, 0, 1.018, 1.018, 3.163, 3.163, 3.886, 3.886, 4.92, 4.92], \"yaxis\": \"y76\"}, {\"mode\": \"lines+text\", \"name\": \"CaHfO3\", \"text\": [\"\", \"H2O\", \"\", \"OH*\", \"\", \"O*\", \"\", \"OOH*\", \"\", \"O2(g)\"], \"textposition\": \"bottom center\", \"type\": \"scatter\", \"x\": [0, 1, 1, 2, 2, 3, 3, 4, 4, 5], \"xaxis\": \"x77\", \"y\": [0, 0, 0.324, 0.324, 3.622, 3.622, 3.515, 3.515, 4.92, 4.92], \"yaxis\": \"y77\"}, {\"mode\": \"lines+text\", \"name\": \"TlWO3\", \"text\": [\"\", \"H2O\", \"\", \"OH*\", \"\", \"O*\", \"\", \"OOH*\", \"\", \"O2(g)\"], \"textposition\": \"bottom center\", \"type\": \"scatter\", \"x\": [0, 1, 1, 2, 2, 3, 3, 4, 4, 5], \"xaxis\": \"x78\", \"y\": [0, 0, -1.702, -1.702, -0.924, -0.924, 1.812, 1.812, 4.92, 4.92], \"yaxis\": \"y78\"}, {\"mode\": \"lines+text\", \"name\": \"RbWO3\", \"text\": [\"\", \"H2O\", \"\", \"OH*\", \"\", \"O*\", \"\", \"OOH*\", \"\", \"O2(g)\"], \"textposition\": \"bottom center\", \"type\": \"scatter\", \"x\": [0, 1, 1, 2, 2, 3, 3, 4, 4, 5], \"xaxis\": \"x79\", \"y\": [0, 0, -1.41, -1.41, -1.076, -1.076, 2.254, 2.254, 4.92, 4.92], \"yaxis\": \"y79\"}, {\"mode\": \"lines+text\", \"name\": \"RbPtO3\", \"text\": [\"\", \"H2O\", \"\", \"OH*\", \"\", \"O*\", \"\", \"OOH*\", \"\", \"O2(g)\"], \"textposition\": \"bottom center\", \"type\": \"scatter\", \"x\": [0, 1, 1, 2, 2, 3, 3, 4, 4, 5], \"xaxis\": \"x80\", \"y\": [0, 0, 0.739, 0.739, 2.707, 2.707, 3.675, 3.675, 4.92, 4.92], \"yaxis\": \"y80\"}],                        {\"annotations\": [{\"font\": {\"size\": 16}, \"showarrow\": false, \"text\": \"SrTcO3\", \"x\": 0.5, \"xanchor\": \"center\", \"xref\": \"paper\", \"y\": 1.0000000000000004, \"yanchor\": \"bottom\", \"yref\": \"paper\"}, {\"font\": {\"size\": 16}, \"showarrow\": false, \"text\": \"BaFeO3\", \"x\": 0.5, \"xanchor\": \"center\", \"xref\": \"paper\", \"y\": 0.9874218750000006, \"yanchor\": \"bottom\", \"yref\": \"paper\"}, {\"font\": {\"size\": 16}, \"showarrow\": false, \"text\": \"BaMoO3\", \"x\": 0.5, \"xanchor\": \"center\", \"xref\": \"paper\", \"y\": 0.9748437500000005, \"yanchor\": \"bottom\", \"yref\": \"paper\"}, {\"font\": {\"size\": 16}, \"showarrow\": false, \"text\": \"KTaO3\", \"x\": 0.5, \"xanchor\": \"center\", \"xref\": \"paper\", \"y\": 0.9622656250000006, \"yanchor\": \"bottom\", \"yref\": \"paper\"}, {\"font\": {\"size\": 16}, \"showarrow\": false, \"text\": \"BaZrO3\", \"x\": 0.5, \"xanchor\": \"center\", \"xref\": \"paper\", \"y\": 0.9496875000000005, \"yanchor\": \"bottom\", \"yref\": \"paper\"}, {\"font\": {\"size\": 16}, \"showarrow\": false, \"text\": \"SrFeO3\", \"x\": 0.5, \"xanchor\": \"center\", \"xref\": \"paper\", \"y\": 0.9371093750000005, \"yanchor\": \"bottom\", \"yref\": \"paper\"}, {\"font\": {\"size\": 16}, \"showarrow\": false, \"text\": \"KTcO3\", \"x\": 0.5, \"xanchor\": \"center\", \"xref\": \"paper\", \"y\": 0.9245312500000005, \"yanchor\": \"bottom\", \"yref\": \"paper\"}, {\"font\": {\"size\": 16}, \"showarrow\": false, \"text\": \"NaTcO3\", \"x\": 0.5, \"xanchor\": \"center\", \"xref\": \"paper\", \"y\": 0.9119531250000004, \"yanchor\": \"bottom\", \"yref\": \"paper\"}, {\"font\": {\"size\": 16}, \"showarrow\": false, \"text\": \"BaHfO3\", \"x\": 0.5, \"xanchor\": \"center\", \"xref\": \"paper\", \"y\": 0.8993750000000005, \"yanchor\": \"bottom\", \"yref\": \"paper\"}, {\"font\": {\"size\": 16}, \"showarrow\": false, \"text\": \"SrTiO3\", \"x\": 0.5, \"xanchor\": \"center\", \"xref\": \"paper\", \"y\": 0.8867968750000004, \"yanchor\": \"bottom\", \"yref\": \"paper\"}, {\"font\": {\"size\": 16}, \"showarrow\": false, \"text\": \"SrCuO3\", \"x\": 0.5, \"xanchor\": \"center\", \"xref\": \"paper\", \"y\": 0.8742187500000004, \"yanchor\": \"bottom\", \"yref\": \"paper\"}, {\"font\": {\"size\": 16}, \"showarrow\": false, \"text\": \"KNbO3\", \"x\": 0.5, \"xanchor\": \"center\", \"xref\": \"paper\", \"y\": 0.8616406250000004, \"yanchor\": \"bottom\", \"yref\": \"paper\"}, {\"font\": {\"size\": 16}, \"showarrow\": false, \"text\": \"NaTaO3\", \"x\": 0.5, \"xanchor\": \"center\", \"xref\": \"paper\", \"y\": 0.8490625000000003, \"yanchor\": \"bottom\", \"yref\": \"paper\"}, {\"font\": {\"size\": 16}, \"showarrow\": false, \"text\": \"BaScO3\", \"x\": 0.5, \"xanchor\": \"center\", \"xref\": \"paper\", \"y\": 0.8364843750000004, \"yanchor\": \"bottom\", \"yref\": \"paper\"}, {\"font\": {\"size\": 16}, \"showarrow\": false, \"text\": \"BaPdO3\", \"x\": 0.5, \"xanchor\": \"center\", \"xref\": \"paper\", \"y\": 0.8239062500000003, \"yanchor\": \"bottom\", \"yref\": \"paper\"}, {\"font\": {\"size\": 16}, \"showarrow\": false, \"text\": \"BaTaO3\", \"x\": 0.5, \"xanchor\": \"center\", \"xref\": \"paper\", \"y\": 0.8113281250000003, \"yanchor\": \"bottom\", \"yref\": \"paper\"}, {\"font\": {\"size\": 16}, \"showarrow\": false, \"text\": \"SrHfO3\", \"x\": 0.5, \"xanchor\": \"center\", \"xref\": \"paper\", \"y\": 0.7987500000000003, \"yanchor\": \"bottom\", \"yref\": \"paper\"}, {\"font\": {\"size\": 16}, \"showarrow\": false, \"text\": \"NaOsO3\", \"x\": 0.5, \"xanchor\": \"center\", \"xref\": \"paper\", \"y\": 0.7861718750000002, \"yanchor\": \"bottom\", \"yref\": \"paper\"}, {\"font\": {\"size\": 16}, \"showarrow\": false, \"text\": \"TlTcO3\", \"x\": 0.5, \"xanchor\": \"center\", \"xref\": \"paper\", \"y\": 0.7735937500000003, \"yanchor\": \"bottom\", \"yref\": \"paper\"}, {\"font\": {\"size\": 16}, \"showarrow\": false, \"text\": \"KReO3\", \"x\": 0.5, \"xanchor\": \"center\", \"xref\": \"paper\", \"y\": 0.7610156250000002, \"yanchor\": \"bottom\", \"yref\": \"paper\"}, {\"font\": {\"size\": 16}, \"showarrow\": false, \"text\": \"SrRuO3\", \"x\": 0.5, \"xanchor\": \"center\", \"xref\": \"paper\", \"y\": 0.7484375000000002, \"yanchor\": \"bottom\", \"yref\": \"paper\"}, {\"font\": {\"size\": 16}, \"showarrow\": false, \"text\": \"KHfO3\", \"x\": 0.5, \"xanchor\": \"center\", \"xref\": \"paper\", \"y\": 0.7358593750000002, \"yanchor\": \"bottom\", \"yref\": \"paper\"}, {\"font\": {\"size\": 16}, \"showarrow\": false, \"text\": \"SrVO3\", \"x\": 0.5, \"xanchor\": \"center\", \"xref\": \"paper\", \"y\": 0.7232812500000001, \"yanchor\": \"bottom\", \"yref\": \"paper\"}, {\"font\": {\"size\": 16}, \"showarrow\": false, \"text\": \"KOsO3\", \"x\": 0.5, \"xanchor\": \"center\", \"xref\": \"paper\", \"y\": 0.7107031250000002, \"yanchor\": \"bottom\", \"yref\": \"paper\"}, {\"font\": {\"size\": 16}, \"showarrow\": false, \"text\": \"TaAgO3\", \"x\": 0.5, \"xanchor\": \"center\", \"xref\": \"paper\", \"y\": 0.6981250000000001, \"yanchor\": \"bottom\", \"yref\": \"paper\"}, {\"font\": {\"size\": 16}, \"showarrow\": false, \"text\": \"SrNiO3\", \"x\": 0.5, \"xanchor\": \"center\", \"xref\": \"paper\", \"y\": 0.6855468750000001, \"yanchor\": \"bottom\", \"yref\": \"paper\"}, {\"font\": {\"size\": 16}, \"showarrow\": false, \"text\": \"RbIrO3\", \"x\": 0.5, \"xanchor\": \"center\", \"xref\": \"paper\", \"y\": 0.6729687500000001, \"yanchor\": \"bottom\", \"yref\": \"paper\"}, {\"font\": {\"size\": 16}, \"showarrow\": false, \"text\": \"NaReO3\", \"x\": 0.5, \"xanchor\": \"center\", \"xref\": \"paper\", \"y\": 0.660390625, \"yanchor\": \"bottom\", \"yref\": \"paper\"}, {\"font\": {\"size\": 16}, \"showarrow\": false, \"text\": \"SrMnO3\", \"x\": 0.5, \"xanchor\": \"center\", \"xref\": \"paper\", \"y\": 0.6478125000000001, \"yanchor\": \"bottom\", \"yref\": \"paper\"}, {\"font\": {\"size\": 16}, \"showarrow\": false, \"text\": \"CaFeO3\", \"x\": 0.5, \"xanchor\": \"center\", \"xref\": \"paper\", \"y\": 0.635234375, \"yanchor\": \"bottom\", \"yref\": \"paper\"}, {\"font\": {\"size\": 16}, \"showarrow\": false, \"text\": \"SrZrO3\", \"x\": 0.5, \"xanchor\": \"center\", \"xref\": \"paper\", \"y\": 0.62265625, \"yanchor\": \"bottom\", \"yref\": \"paper\"}, {\"font\": {\"size\": 16}, \"showarrow\": false, \"text\": \"NaWO3\", \"x\": 0.5, \"xanchor\": \"center\", \"xref\": \"paper\", \"y\": 0.610078125, \"yanchor\": \"bottom\", \"yref\": \"paper\"}, {\"font\": {\"size\": 16}, \"showarrow\": false, \"text\": \"RbTaO3\", \"x\": 0.5, \"xanchor\": \"center\", \"xref\": \"paper\", \"y\": 0.5974999999999999, \"yanchor\": \"bottom\", \"yref\": \"paper\"}, {\"font\": {\"size\": 16}, \"showarrow\": false, \"text\": \"SrCoO3\", \"x\": 0.5, \"xanchor\": \"center\", \"xref\": \"paper\", \"y\": 0.584921875, \"yanchor\": \"bottom\", \"yref\": \"paper\"}, {\"font\": {\"size\": 16}, \"showarrow\": false, \"text\": \"SrTaO3\", \"x\": 0.5, \"xanchor\": \"center\", \"xref\": \"paper\", \"y\": 0.5723437499999999, \"yanchor\": \"bottom\", \"yref\": \"paper\"}, {\"font\": {\"size\": 16}, \"showarrow\": false, \"text\": \"KZrO3\", \"x\": 0.5, \"xanchor\": \"center\", \"xref\": \"paper\", \"y\": 0.5597656249999999, \"yanchor\": \"bottom\", \"yref\": \"paper\"}, {\"font\": {\"size\": 16}, \"showarrow\": false, \"text\": \"CaTiO3\", \"x\": 0.5, \"xanchor\": \"center\", \"xref\": \"paper\", \"y\": 0.5471874999999999, \"yanchor\": \"bottom\", \"yref\": \"paper\"}, {\"font\": {\"size\": 16}, \"showarrow\": false, \"text\": \"NaRuO3\", \"x\": 0.5, \"xanchor\": \"center\", \"xref\": \"paper\", \"y\": 0.5346093749999998, \"yanchor\": \"bottom\", \"yref\": \"paper\"}, {\"font\": {\"size\": 16}, \"showarrow\": false, \"text\": \"LiTcO3\", \"x\": 0.5, \"xanchor\": \"center\", \"xref\": \"paper\", \"y\": 0.52203125, \"yanchor\": \"bottom\", \"yref\": \"paper\"}, {\"font\": {\"size\": 16}, \"showarrow\": false, \"text\": \"SrPdO3\", \"x\": 0.5, \"xanchor\": \"center\", \"xref\": \"paper\", \"y\": 0.5094531249999998, \"yanchor\": \"bottom\", \"yref\": \"paper\"}, {\"font\": {\"size\": 16}, \"showarrow\": false, \"text\": \"KWO3\", \"x\": 0.5, \"xanchor\": \"center\", \"xref\": \"paper\", \"y\": 0.49687499999999984, \"yanchor\": \"bottom\", \"yref\": \"paper\"}, {\"font\": {\"size\": 16}, \"showarrow\": false, \"text\": \"KRhO3\", \"x\": 0.5, \"xanchor\": \"center\", \"xref\": \"paper\", \"y\": 0.48429687499999985, \"yanchor\": \"bottom\", \"yref\": \"paper\"}, {\"font\": {\"size\": 16}, \"showarrow\": false, \"text\": \"BaCuO3\", \"x\": 0.5, \"xanchor\": \"center\", \"xref\": \"paper\", \"y\": 0.47171874999999985, \"yanchor\": \"bottom\", \"yref\": \"paper\"}, {\"font\": {\"size\": 16}, \"showarrow\": false, \"text\": \"RbNbO3\", \"x\": 0.5, \"xanchor\": \"center\", \"xref\": \"paper\", \"y\": 0.45914062499999986, \"yanchor\": \"bottom\", \"yref\": \"paper\"}, {\"font\": {\"size\": 16}, \"showarrow\": false, \"text\": \"BaOsO3\", \"x\": 0.5, \"xanchor\": \"center\", \"xref\": \"paper\", \"y\": 0.44656249999999986, \"yanchor\": \"bottom\", \"yref\": \"paper\"}, {\"font\": {\"size\": 16}, \"showarrow\": false, \"text\": \"BaRuO3\", \"x\": 0.5, \"xanchor\": \"center\", \"xref\": \"paper\", \"y\": 0.4339843749999999, \"yanchor\": \"bottom\", \"yref\": \"paper\"}, {\"font\": {\"size\": 16}, \"showarrow\": false, \"text\": \"KRuO3\", \"x\": 0.5, \"xanchor\": \"center\", \"xref\": \"paper\", \"y\": 0.4214062499999999, \"yanchor\": \"bottom\", \"yref\": \"paper\"}, {\"font\": {\"size\": 16}, \"showarrow\": false, \"text\": \"SrMoO3\", \"x\": 0.5, \"xanchor\": \"center\", \"xref\": \"paper\", \"y\": 0.40882812499999993, \"yanchor\": \"bottom\", \"yref\": \"paper\"}, {\"font\": {\"size\": 16}, \"showarrow\": false, \"text\": \"NaTiO3\", \"x\": 0.5, \"xanchor\": \"center\", \"xref\": \"paper\", \"y\": 0.39624999999999994, \"yanchor\": \"bottom\", \"yref\": \"paper\"}, {\"font\": {\"size\": 16}, \"showarrow\": false, \"text\": \"SrScO3\", \"x\": 0.5, \"xanchor\": \"center\", \"xref\": \"paper\", \"y\": 0.38367187499999994, \"yanchor\": \"bottom\", \"yref\": \"paper\"}, {\"font\": {\"size\": 16}, \"showarrow\": false, \"text\": \"RbOsO3\", \"x\": 0.5, \"xanchor\": \"center\", \"xref\": \"paper\", \"y\": 0.37109375, \"yanchor\": \"bottom\", \"yref\": \"paper\"}, {\"font\": {\"size\": 16}, \"showarrow\": false, \"text\": \"SrRhO3\", \"x\": 0.5, \"xanchor\": \"center\", \"xref\": \"paper\", \"y\": 0.358515625, \"yanchor\": \"bottom\", \"yref\": \"paper\"}, {\"font\": {\"size\": 16}, \"showarrow\": false, \"text\": \"NaMoO3\", \"x\": 0.5, \"xanchor\": \"center\", \"xref\": \"paper\", \"y\": 0.3459375, \"yanchor\": \"bottom\", \"yref\": \"paper\"}, {\"font\": {\"size\": 16}, \"showarrow\": false, \"text\": \"SrOsO3\", \"x\": 0.5, \"xanchor\": \"center\", \"xref\": \"paper\", \"y\": 0.333359375, \"yanchor\": \"bottom\", \"yref\": \"paper\"}, {\"font\": {\"size\": 16}, \"showarrow\": false, \"text\": \"BaRhO3\", \"x\": 0.5, \"xanchor\": \"center\", \"xref\": \"paper\", \"y\": 0.32078125, \"yanchor\": \"bottom\", \"yref\": \"paper\"}, {\"font\": {\"size\": 16}, \"showarrow\": false, \"text\": \"BaPtO3\", \"x\": 0.5, \"xanchor\": \"center\", \"xref\": \"paper\", \"y\": 0.308203125, \"yanchor\": \"bottom\", \"yref\": \"paper\"}, {\"font\": {\"size\": 16}, \"showarrow\": false, \"text\": \"CaVO3\", \"x\": 0.5, \"xanchor\": \"center\", \"xref\": \"paper\", \"y\": 0.295625, \"yanchor\": \"bottom\", \"yref\": \"paper\"}, {\"font\": {\"size\": 16}, \"showarrow\": false, \"text\": \"KMoO3\", \"x\": 0.5, \"xanchor\": \"center\", \"xref\": \"paper\", \"y\": 0.28304687500000003, \"yanchor\": \"bottom\", \"yref\": \"paper\"}, {\"font\": {\"size\": 16}, \"showarrow\": false, \"text\": \"SrCrO3\", \"x\": 0.5, \"xanchor\": \"center\", \"xref\": \"paper\", \"y\": 0.27046875000000004, \"yanchor\": \"bottom\", \"yref\": \"paper\"}, {\"font\": {\"size\": 16}, \"showarrow\": false, \"text\": \"SrAgO3\", \"x\": 0.5, \"xanchor\": \"center\", \"xref\": \"paper\", \"y\": 0.25789062500000004, \"yanchor\": \"bottom\", \"yref\": \"paper\"}, {\"font\": {\"size\": 16}, \"showarrow\": false, \"text\": \"RbRhO3\", \"x\": 0.5, \"xanchor\": \"center\", \"xref\": \"paper\", \"y\": 0.24531250000000002, \"yanchor\": \"bottom\", \"yref\": \"paper\"}, {\"font\": {\"size\": 16}, \"showarrow\": false, \"text\": \"BaVO3\", \"x\": 0.5, \"xanchor\": \"center\", \"xref\": \"paper\", \"y\": 0.23273437500000002, \"yanchor\": \"bottom\", \"yref\": \"paper\"}, {\"font\": {\"size\": 16}, \"showarrow\": false, \"text\": \"CaCoO3\", \"x\": 0.5, \"xanchor\": \"center\", \"xref\": \"paper\", \"y\": 0.22015625000000003, \"yanchor\": \"bottom\", \"yref\": \"paper\"}, {\"font\": {\"size\": 16}, \"showarrow\": false, \"text\": \"CaMnO3\", \"x\": 0.5, \"xanchor\": \"center\", \"xref\": \"paper\", \"y\": 0.207578125, \"yanchor\": \"bottom\", \"yref\": \"paper\"}, {\"font\": {\"size\": 16}, \"showarrow\": false, \"text\": \"KPtO3\", \"x\": 0.5, \"xanchor\": \"center\", \"xref\": \"paper\", \"y\": 0.19499999999999998, \"yanchor\": \"bottom\", \"yref\": \"paper\"}, {\"font\": {\"size\": 16}, \"showarrow\": false, \"text\": \"BaNiO3\", \"x\": 0.5, \"xanchor\": \"center\", \"xref\": \"paper\", \"y\": 0.18242187499999998, \"yanchor\": \"bottom\", \"yref\": \"paper\"}, {\"font\": {\"size\": 16}, \"showarrow\": false, \"text\": \"BaMnO3\", \"x\": 0.5, \"xanchor\": \"center\", \"xref\": \"paper\", \"y\": 0.16984375, \"yanchor\": \"bottom\", \"yref\": \"paper\"}, {\"font\": {\"size\": 16}, \"showarrow\": false, \"text\": \"SrReO3\", \"x\": 0.5, \"xanchor\": \"center\", \"xref\": \"paper\", \"y\": 0.157265625, \"yanchor\": \"bottom\", \"yref\": \"paper\"}, {\"font\": {\"size\": 16}, \"showarrow\": false, \"text\": \"BaReO3\", \"x\": 0.5, \"xanchor\": \"center\", \"xref\": \"paper\", \"y\": 0.1446875, \"yanchor\": \"bottom\", \"yref\": \"paper\"}, {\"font\": {\"size\": 16}, \"showarrow\": false, \"text\": \"SrIrO3\", \"x\": 0.5, \"xanchor\": \"center\", \"xref\": \"paper\", \"y\": 0.13210937499999997, \"yanchor\": \"bottom\", \"yref\": \"paper\"}, {\"font\": {\"size\": 16}, \"showarrow\": false, \"text\": \"NaVO3\", \"x\": 0.5, \"xanchor\": \"center\", \"xref\": \"paper\", \"y\": 0.11953124999999999, \"yanchor\": \"bottom\", \"yref\": \"paper\"}, {\"font\": {\"size\": 16}, \"showarrow\": false, \"text\": \"NaFeO3\", \"x\": 0.5, \"xanchor\": \"center\", \"xref\": \"paper\", \"y\": 0.106953125, \"yanchor\": \"bottom\", \"yref\": \"paper\"}, {\"font\": {\"size\": 16}, \"showarrow\": false, \"text\": \"BaIrO3\", \"x\": 0.5, \"xanchor\": \"center\", \"xref\": \"paper\", \"y\": 0.094375, \"yanchor\": \"bottom\", \"yref\": \"paper\"}, {\"font\": {\"size\": 16}, \"showarrow\": false, \"text\": \"RbReO3\", \"x\": 0.5, \"xanchor\": \"center\", \"xref\": \"paper\", \"y\": 0.081796875, \"yanchor\": \"bottom\", \"yref\": \"paper\"}, {\"font\": {\"size\": 16}, \"showarrow\": false, \"text\": \"CaRuO3\", \"x\": 0.5, \"xanchor\": \"center\", \"xref\": \"paper\", \"y\": 0.06921875000000001, \"yanchor\": \"bottom\", \"yref\": \"paper\"}, {\"font\": {\"size\": 16}, \"showarrow\": false, \"text\": \"RbPdO3\", \"x\": 0.5, \"xanchor\": \"center\", \"xref\": \"paper\", \"y\": 0.05664062499999999, \"yanchor\": \"bottom\", \"yref\": \"paper\"}, {\"font\": {\"size\": 16}, \"showarrow\": false, \"text\": \"CaHfO3\", \"x\": 0.5, \"xanchor\": \"center\", \"xref\": \"paper\", \"y\": 0.0440625, \"yanchor\": \"bottom\", \"yref\": \"paper\"}, {\"font\": {\"size\": 16}, \"showarrow\": false, \"text\": \"TlWO3\", \"x\": 0.5, \"xanchor\": \"center\", \"xref\": \"paper\", \"y\": 0.031484374999999995, \"yanchor\": \"bottom\", \"yref\": \"paper\"}, {\"font\": {\"size\": 16}, \"showarrow\": false, \"text\": \"RbWO3\", \"x\": 0.5, \"xanchor\": \"center\", \"xref\": \"paper\", \"y\": 0.01890625, \"yanchor\": \"bottom\", \"yref\": \"paper\"}, {\"font\": {\"size\": 16}, \"showarrow\": false, \"text\": \"RbPtO3\", \"x\": 0.5, \"xanchor\": \"center\", \"xref\": \"paper\", \"y\": 0.0063281249999999995, \"yanchor\": \"bottom\", \"yref\": \"paper\"}, {\"font\": {\"size\": 16}, \"showarrow\": false, \"text\": \"SrTcO3\", \"x\": 0.5, \"xanchor\": \"center\", \"xref\": \"paper\", \"y\": 1.0000000000000004, \"yanchor\": \"bottom\", \"yref\": \"paper\"}], \"height\": 15000, \"showlegend\": true, \"template\": {\"data\": {\"bar\": [{\"error_x\": {\"color\": \"#2a3f5f\"}, \"error_y\": {\"color\": \"#2a3f5f\"}, \"marker\": {\"line\": {\"color\": \"#E5ECF6\", \"width\": 0.5}}, \"type\": \"bar\"}], \"barpolar\": [{\"marker\": {\"line\": {\"color\": \"#E5ECF6\", \"width\": 0.5}}, \"type\": \"barpolar\"}], \"carpet\": [{\"aaxis\": {\"endlinecolor\": \"#2a3f5f\", \"gridcolor\": \"white\", \"linecolor\": \"white\", \"minorgridcolor\": \"white\", \"startlinecolor\": \"#2a3f5f\"}, \"baxis\": {\"endlinecolor\": \"#2a3f5f\", \"gridcolor\": \"white\", \"linecolor\": \"white\", \"minorgridcolor\": \"white\", \"startlinecolor\": \"#2a3f5f\"}, \"type\": \"carpet\"}], \"choropleth\": [{\"colorbar\": {\"outlinewidth\": 0, \"ticks\": \"\"}, \"type\": \"choropleth\"}], \"contour\": [{\"colorbar\": {\"outlinewidth\": 0, \"ticks\": \"\"}, \"colorscale\": [[0.0, \"#0d0887\"], [0.1111111111111111, \"#46039f\"], [0.2222222222222222, \"#7201a8\"], [0.3333333333333333, \"#9c179e\"], [0.4444444444444444, \"#bd3786\"], [0.5555555555555556, \"#d8576b\"], [0.6666666666666666, \"#ed7953\"], [0.7777777777777778, \"#fb9f3a\"], [0.8888888888888888, \"#fdca26\"], [1.0, \"#f0f921\"]], \"type\": \"contour\"}], \"contourcarpet\": [{\"colorbar\": {\"outlinewidth\": 0, \"ticks\": \"\"}, \"type\": \"contourcarpet\"}], \"heatmap\": [{\"colorbar\": {\"outlinewidth\": 0, \"ticks\": \"\"}, \"colorscale\": [[0.0, \"#0d0887\"], [0.1111111111111111, \"#46039f\"], [0.2222222222222222, \"#7201a8\"], [0.3333333333333333, \"#9c179e\"], [0.4444444444444444, \"#bd3786\"], [0.5555555555555556, \"#d8576b\"], [0.6666666666666666, \"#ed7953\"], [0.7777777777777778, \"#fb9f3a\"], [0.8888888888888888, \"#fdca26\"], [1.0, \"#f0f921\"]], \"type\": \"heatmap\"}], \"heatmapgl\": [{\"colorbar\": {\"outlinewidth\": 0, \"ticks\": \"\"}, \"colorscale\": [[0.0, \"#0d0887\"], [0.1111111111111111, \"#46039f\"], [0.2222222222222222, \"#7201a8\"], [0.3333333333333333, \"#9c179e\"], [0.4444444444444444, \"#bd3786\"], [0.5555555555555556, \"#d8576b\"], [0.6666666666666666, \"#ed7953\"], [0.7777777777777778, \"#fb9f3a\"], [0.8888888888888888, \"#fdca26\"], [1.0, \"#f0f921\"]], \"type\": \"heatmapgl\"}], \"histogram\": [{\"marker\": {\"colorbar\": {\"outlinewidth\": 0, \"ticks\": \"\"}}, \"type\": \"histogram\"}], \"histogram2d\": [{\"colorbar\": {\"outlinewidth\": 0, \"ticks\": \"\"}, \"colorscale\": [[0.0, \"#0d0887\"], [0.1111111111111111, \"#46039f\"], [0.2222222222222222, \"#7201a8\"], [0.3333333333333333, \"#9c179e\"], [0.4444444444444444, \"#bd3786\"], [0.5555555555555556, \"#d8576b\"], [0.6666666666666666, \"#ed7953\"], [0.7777777777777778, \"#fb9f3a\"], [0.8888888888888888, \"#fdca26\"], [1.0, \"#f0f921\"]], \"type\": \"histogram2d\"}], \"histogram2dcontour\": [{\"colorbar\": {\"outlinewidth\": 0, \"ticks\": \"\"}, \"colorscale\": [[0.0, \"#0d0887\"], [0.1111111111111111, \"#46039f\"], [0.2222222222222222, \"#7201a8\"], [0.3333333333333333, \"#9c179e\"], [0.4444444444444444, \"#bd3786\"], [0.5555555555555556, \"#d8576b\"], [0.6666666666666666, \"#ed7953\"], [0.7777777777777778, \"#fb9f3a\"], [0.8888888888888888, \"#fdca26\"], [1.0, \"#f0f921\"]], \"type\": \"histogram2dcontour\"}], \"mesh3d\": [{\"colorbar\": {\"outlinewidth\": 0, \"ticks\": \"\"}, \"type\": \"mesh3d\"}], \"parcoords\": [{\"line\": {\"colorbar\": {\"outlinewidth\": 0, \"ticks\": \"\"}}, \"type\": \"parcoords\"}], \"pie\": [{\"automargin\": true, \"type\": \"pie\"}], \"scatter\": [{\"marker\": {\"colorbar\": {\"outlinewidth\": 0, \"ticks\": \"\"}}, \"type\": \"scatter\"}], \"scatter3d\": [{\"line\": {\"colorbar\": {\"outlinewidth\": 0, \"ticks\": \"\"}}, \"marker\": {\"colorbar\": {\"outlinewidth\": 0, \"ticks\": \"\"}}, \"type\": \"scatter3d\"}], \"scattercarpet\": [{\"marker\": {\"colorbar\": {\"outlinewidth\": 0, \"ticks\": \"\"}}, \"type\": \"scattercarpet\"}], \"scattergeo\": [{\"marker\": {\"colorbar\": {\"outlinewidth\": 0, \"ticks\": \"\"}}, \"type\": \"scattergeo\"}], \"scattergl\": [{\"marker\": {\"colorbar\": {\"outlinewidth\": 0, \"ticks\": \"\"}}, \"type\": \"scattergl\"}], \"scattermapbox\": [{\"marker\": {\"colorbar\": {\"outlinewidth\": 0, \"ticks\": \"\"}}, \"type\": \"scattermapbox\"}], \"scatterpolar\": [{\"marker\": {\"colorbar\": {\"outlinewidth\": 0, \"ticks\": \"\"}}, \"type\": \"scatterpolar\"}], \"scatterpolargl\": [{\"marker\": {\"colorbar\": {\"outlinewidth\": 0, \"ticks\": \"\"}}, \"type\": \"scatterpolargl\"}], \"scatterternary\": [{\"marker\": {\"colorbar\": {\"outlinewidth\": 0, \"ticks\": \"\"}}, \"type\": \"scatterternary\"}], \"surface\": [{\"colorbar\": {\"outlinewidth\": 0, \"ticks\": \"\"}, \"colorscale\": [[0.0, \"#0d0887\"], [0.1111111111111111, \"#46039f\"], [0.2222222222222222, \"#7201a8\"], [0.3333333333333333, \"#9c179e\"], [0.4444444444444444, \"#bd3786\"], [0.5555555555555556, \"#d8576b\"], [0.6666666666666666, \"#ed7953\"], [0.7777777777777778, \"#fb9f3a\"], [0.8888888888888888, \"#fdca26\"], [1.0, \"#f0f921\"]], \"type\": \"surface\"}], \"table\": [{\"cells\": {\"fill\": {\"color\": \"#EBF0F8\"}, \"line\": {\"color\": \"white\"}}, \"header\": {\"fill\": {\"color\": \"#C8D4E3\"}, \"line\": {\"color\": \"white\"}}, \"type\": \"table\"}]}, \"layout\": {\"annotationdefaults\": {\"arrowcolor\": \"#2a3f5f\", \"arrowhead\": 0, \"arrowwidth\": 1}, \"coloraxis\": {\"colorbar\": {\"outlinewidth\": 0, \"ticks\": \"\"}}, \"colorscale\": {\"diverging\": [[0, \"#8e0152\"], [0.1, \"#c51b7d\"], [0.2, \"#de77ae\"], [0.3, \"#f1b6da\"], [0.4, \"#fde0ef\"], [0.5, \"#f7f7f7\"], [0.6, \"#e6f5d0\"], [0.7, \"#b8e186\"], [0.8, \"#7fbc41\"], [0.9, \"#4d9221\"], [1, \"#276419\"]], \"sequential\": [[0.0, \"#0d0887\"], [0.1111111111111111, \"#46039f\"], [0.2222222222222222, \"#7201a8\"], [0.3333333333333333, \"#9c179e\"], [0.4444444444444444, \"#bd3786\"], [0.5555555555555556, \"#d8576b\"], [0.6666666666666666, \"#ed7953\"], [0.7777777777777778, \"#fb9f3a\"], [0.8888888888888888, \"#fdca26\"], [1.0, \"#f0f921\"]], \"sequentialminus\": [[0.0, \"#0d0887\"], [0.1111111111111111, \"#46039f\"], [0.2222222222222222, \"#7201a8\"], [0.3333333333333333, \"#9c179e\"], [0.4444444444444444, \"#bd3786\"], [0.5555555555555556, \"#d8576b\"], [0.6666666666666666, \"#ed7953\"], [0.7777777777777778, \"#fb9f3a\"], [0.8888888888888888, \"#fdca26\"], [1.0, \"#f0f921\"]]}, \"colorway\": [\"#636efa\", \"#EF553B\", \"#00cc96\", \"#ab63fa\", \"#FFA15A\", \"#19d3f3\", \"#FF6692\", \"#B6E880\", \"#FF97FF\", \"#FECB52\"], \"font\": {\"color\": \"#2a3f5f\"}, \"geo\": {\"bgcolor\": \"white\", \"lakecolor\": \"white\", \"landcolor\": \"#E5ECF6\", \"showlakes\": true, \"showland\": true, \"subunitcolor\": \"white\"}, \"hoverlabel\": {\"align\": \"left\"}, \"hovermode\": \"closest\", \"mapbox\": {\"style\": \"light\"}, \"paper_bgcolor\": \"white\", \"plot_bgcolor\": \"#E5ECF6\", \"polar\": {\"angularaxis\": {\"gridcolor\": \"white\", \"linecolor\": \"white\", \"ticks\": \"\"}, \"bgcolor\": \"#E5ECF6\", \"radialaxis\": {\"gridcolor\": \"white\", \"linecolor\": \"white\", \"ticks\": \"\"}}, \"scene\": {\"xaxis\": {\"backgroundcolor\": \"#E5ECF6\", \"gridcolor\": \"white\", \"gridwidth\": 2, \"linecolor\": \"white\", \"showbackground\": true, \"ticks\": \"\", \"zerolinecolor\": \"white\"}, \"yaxis\": {\"backgroundcolor\": \"#E5ECF6\", \"gridcolor\": \"white\", \"gridwidth\": 2, \"linecolor\": \"white\", \"showbackground\": true, \"ticks\": \"\", \"zerolinecolor\": \"white\"}, \"zaxis\": {\"backgroundcolor\": \"#E5ECF6\", \"gridcolor\": \"white\", \"gridwidth\": 2, \"linecolor\": \"white\", \"showbackground\": true, \"ticks\": \"\", \"zerolinecolor\": \"white\"}}, \"shapedefaults\": {\"line\": {\"color\": \"#2a3f5f\"}}, \"ternary\": {\"aaxis\": {\"gridcolor\": \"white\", \"linecolor\": \"white\", \"ticks\": \"\"}, \"baxis\": {\"gridcolor\": \"white\", \"linecolor\": \"white\", \"ticks\": \"\"}, \"bgcolor\": \"#E5ECF6\", \"caxis\": {\"gridcolor\": \"white\", \"linecolor\": \"white\", \"ticks\": \"\"}}, \"title\": {\"x\": 0.05}, \"xaxis\": {\"automargin\": true, \"gridcolor\": \"white\", \"linecolor\": \"white\", \"ticks\": \"\", \"title\": {\"standoff\": 15}, \"zerolinecolor\": \"white\", \"zerolinewidth\": 2}, \"yaxis\": {\"automargin\": true, \"gridcolor\": \"white\", \"linecolor\": \"white\", \"ticks\": \"\", \"title\": {\"standoff\": 15}, \"zerolinecolor\": \"white\", \"zerolinewidth\": 2}}}, \"title\": {\"text\": \"free_energy_diagram\"}, \"width\": 500, \"xaxis\": {\"anchor\": \"y\", \"domain\": [0.0, 1.0], \"matches\": \"x80\", \"showticklabels\": false}, \"xaxis10\": {\"anchor\": \"y10\", \"domain\": [0.0, 1.0], \"matches\": \"x80\", \"showticklabels\": false}, \"xaxis11\": {\"anchor\": \"y11\", \"domain\": [0.0, 1.0], \"matches\": \"x80\", \"showticklabels\": false}, \"xaxis12\": {\"anchor\": \"y12\", \"domain\": [0.0, 1.0], \"matches\": \"x80\", \"showticklabels\": false}, \"xaxis13\": {\"anchor\": \"y13\", \"domain\": [0.0, 1.0], \"matches\": \"x80\", \"showticklabels\": false}, \"xaxis14\": {\"anchor\": \"y14\", \"domain\": [0.0, 1.0], \"matches\": \"x80\", \"showticklabels\": false}, \"xaxis15\": {\"anchor\": \"y15\", \"domain\": [0.0, 1.0], \"matches\": \"x80\", \"showticklabels\": false}, \"xaxis16\": {\"anchor\": \"y16\", \"domain\": [0.0, 1.0], \"matches\": \"x80\", \"showticklabels\": false}, \"xaxis17\": {\"anchor\": \"y17\", \"domain\": [0.0, 1.0], \"matches\": \"x80\", \"showticklabels\": false}, \"xaxis18\": {\"anchor\": \"y18\", \"domain\": [0.0, 1.0], \"matches\": \"x80\", \"showticklabels\": false}, \"xaxis19\": {\"anchor\": \"y19\", \"domain\": [0.0, 1.0], \"matches\": \"x80\", \"showticklabels\": false}, \"xaxis2\": {\"anchor\": \"y2\", \"domain\": [0.0, 1.0], \"matches\": \"x80\", \"showticklabels\": false}, \"xaxis20\": {\"anchor\": \"y20\", \"domain\": [0.0, 1.0], \"matches\": \"x80\", \"showticklabels\": false}, \"xaxis21\": {\"anchor\": \"y21\", \"domain\": [0.0, 1.0], \"matches\": \"x80\", \"showticklabels\": false}, \"xaxis22\": {\"anchor\": \"y22\", \"domain\": [0.0, 1.0], \"matches\": \"x80\", \"showticklabels\": false}, \"xaxis23\": {\"anchor\": \"y23\", \"domain\": [0.0, 1.0], \"matches\": \"x80\", \"showticklabels\": false}, \"xaxis24\": {\"anchor\": \"y24\", \"domain\": [0.0, 1.0], \"matches\": \"x80\", \"showticklabels\": false}, \"xaxis25\": {\"anchor\": \"y25\", \"domain\": [0.0, 1.0], \"matches\": \"x80\", \"showticklabels\": false}, \"xaxis26\": {\"anchor\": \"y26\", \"domain\": [0.0, 1.0], \"matches\": \"x80\", \"showticklabels\": false}, \"xaxis27\": {\"anchor\": \"y27\", \"domain\": [0.0, 1.0], \"matches\": \"x80\", \"showticklabels\": false}, \"xaxis28\": {\"anchor\": \"y28\", \"domain\": [0.0, 1.0], \"matches\": \"x80\", \"showticklabels\": false}, \"xaxis29\": {\"anchor\": \"y29\", \"domain\": [0.0, 1.0], \"matches\": \"x80\", \"showticklabels\": false}, \"xaxis3\": {\"anchor\": \"y3\", \"domain\": [0.0, 1.0], \"matches\": \"x80\", \"showticklabels\": false}, \"xaxis30\": {\"anchor\": \"y30\", \"domain\": [0.0, 1.0], \"matches\": \"x80\", \"showticklabels\": false}, \"xaxis31\": {\"anchor\": \"y31\", \"domain\": [0.0, 1.0], \"matches\": \"x80\", \"showticklabels\": false}, \"xaxis32\": {\"anchor\": \"y32\", \"domain\": [0.0, 1.0], \"matches\": \"x80\", \"showticklabels\": false}, \"xaxis33\": {\"anchor\": \"y33\", \"domain\": [0.0, 1.0], \"matches\": \"x80\", \"showticklabels\": false}, \"xaxis34\": {\"anchor\": \"y34\", \"domain\": [0.0, 1.0], \"matches\": \"x80\", \"showticklabels\": false}, \"xaxis35\": {\"anchor\": \"y35\", \"domain\": [0.0, 1.0], \"matches\": \"x80\", \"showticklabels\": false}, \"xaxis36\": {\"anchor\": \"y36\", \"domain\": [0.0, 1.0], \"matches\": \"x80\", \"showticklabels\": false}, \"xaxis37\": {\"anchor\": \"y37\", \"domain\": [0.0, 1.0], \"matches\": \"x80\", \"showticklabels\": false}, \"xaxis38\": {\"anchor\": \"y38\", \"domain\": [0.0, 1.0], \"matches\": \"x80\", \"showticklabels\": false}, \"xaxis39\": {\"anchor\": \"y39\", \"domain\": [0.0, 1.0], \"matches\": \"x80\", \"showticklabels\": false}, \"xaxis4\": {\"anchor\": \"y4\", \"domain\": [0.0, 1.0], \"matches\": \"x80\", \"showticklabels\": false}, \"xaxis40\": {\"anchor\": \"y40\", \"domain\": [0.0, 1.0], \"matches\": \"x80\", \"showticklabels\": false}, \"xaxis41\": {\"anchor\": \"y41\", \"domain\": [0.0, 1.0], \"matches\": \"x80\", \"showticklabels\": false}, \"xaxis42\": {\"anchor\": \"y42\", \"domain\": [0.0, 1.0], \"matches\": \"x80\", \"showticklabels\": false}, \"xaxis43\": {\"anchor\": \"y43\", \"domain\": [0.0, 1.0], \"matches\": \"x80\", \"showticklabels\": false}, \"xaxis44\": {\"anchor\": \"y44\", \"domain\": [0.0, 1.0], \"matches\": \"x80\", \"showticklabels\": false}, \"xaxis45\": {\"anchor\": \"y45\", \"domain\": [0.0, 1.0], \"matches\": \"x80\", \"showticklabels\": false}, \"xaxis46\": {\"anchor\": \"y46\", \"domain\": [0.0, 1.0], \"matches\": \"x80\", \"showticklabels\": false}, \"xaxis47\": {\"anchor\": \"y47\", \"domain\": [0.0, 1.0], \"matches\": \"x80\", \"showticklabels\": false}, \"xaxis48\": {\"anchor\": \"y48\", \"domain\": [0.0, 1.0], \"matches\": \"x80\", \"showticklabels\": false}, \"xaxis49\": {\"anchor\": \"y49\", \"domain\": [0.0, 1.0], \"matches\": \"x80\", \"showticklabels\": false}, \"xaxis5\": {\"anchor\": \"y5\", \"domain\": [0.0, 1.0], \"matches\": \"x80\", \"showticklabels\": false}, \"xaxis50\": {\"anchor\": \"y50\", \"domain\": [0.0, 1.0], \"matches\": \"x80\", \"showticklabels\": false}, \"xaxis51\": {\"anchor\": \"y51\", \"domain\": [0.0, 1.0], \"matches\": \"x80\", \"showticklabels\": false}, \"xaxis52\": {\"anchor\": \"y52\", \"domain\": [0.0, 1.0], \"matches\": \"x80\", \"showticklabels\": false}, \"xaxis53\": {\"anchor\": \"y53\", \"domain\": [0.0, 1.0], \"matches\": \"x80\", \"showticklabels\": false}, \"xaxis54\": {\"anchor\": \"y54\", \"domain\": [0.0, 1.0], \"matches\": \"x80\", \"showticklabels\": false}, \"xaxis55\": {\"anchor\": \"y55\", \"domain\": [0.0, 1.0], \"matches\": \"x80\", \"showticklabels\": false}, \"xaxis56\": {\"anchor\": \"y56\", \"domain\": [0.0, 1.0], \"matches\": \"x80\", \"showticklabels\": false}, \"xaxis57\": {\"anchor\": \"y57\", \"domain\": [0.0, 1.0], \"matches\": \"x80\", \"showticklabels\": false}, \"xaxis58\": {\"anchor\": \"y58\", \"domain\": [0.0, 1.0], \"matches\": \"x80\", \"showticklabels\": false}, \"xaxis59\": {\"anchor\": \"y59\", \"domain\": [0.0, 1.0], \"matches\": \"x80\", \"showticklabels\": false}, \"xaxis6\": {\"anchor\": \"y6\", \"domain\": [0.0, 1.0], \"matches\": \"x80\", \"showticklabels\": false}, \"xaxis60\": {\"anchor\": \"y60\", \"domain\": [0.0, 1.0], \"matches\": \"x80\", \"showticklabels\": false}, \"xaxis61\": {\"anchor\": \"y61\", \"domain\": [0.0, 1.0], \"matches\": \"x80\", \"showticklabels\": false}, \"xaxis62\": {\"anchor\": \"y62\", \"domain\": [0.0, 1.0], \"matches\": \"x80\", \"showticklabels\": false}, \"xaxis63\": {\"anchor\": \"y63\", \"domain\": [0.0, 1.0], \"matches\": \"x80\", \"showticklabels\": false}, \"xaxis64\": {\"anchor\": \"y64\", \"domain\": [0.0, 1.0], \"matches\": \"x80\", \"showticklabels\": false}, \"xaxis65\": {\"anchor\": \"y65\", \"domain\": [0.0, 1.0], \"matches\": \"x80\", \"showticklabels\": false}, \"xaxis66\": {\"anchor\": \"y66\", \"domain\": [0.0, 1.0], \"matches\": \"x80\", \"showticklabels\": false}, \"xaxis67\": {\"anchor\": \"y67\", \"domain\": [0.0, 1.0], \"matches\": \"x80\", \"showticklabels\": false}, \"xaxis68\": {\"anchor\": \"y68\", \"domain\": [0.0, 1.0], \"matches\": \"x80\", \"showticklabels\": false}, \"xaxis69\": {\"anchor\": \"y69\", \"domain\": [0.0, 1.0], \"matches\": \"x80\", \"showticklabels\": false}, \"xaxis7\": {\"anchor\": \"y7\", \"domain\": [0.0, 1.0], \"matches\": \"x80\", \"showticklabels\": false}, \"xaxis70\": {\"anchor\": \"y70\", \"domain\": [0.0, 1.0], \"matches\": \"x80\", \"showticklabels\": false}, \"xaxis71\": {\"anchor\": \"y71\", \"domain\": [0.0, 1.0], \"matches\": \"x80\", \"showticklabels\": false}, \"xaxis72\": {\"anchor\": \"y72\", \"domain\": [0.0, 1.0], \"matches\": \"x80\", \"showticklabels\": false}, \"xaxis73\": {\"anchor\": \"y73\", \"domain\": [0.0, 1.0], \"matches\": \"x80\", \"showticklabels\": false}, \"xaxis74\": {\"anchor\": \"y74\", \"domain\": [0.0, 1.0], \"matches\": \"x80\", \"showticklabels\": false}, \"xaxis75\": {\"anchor\": \"y75\", \"domain\": [0.0, 1.0], \"matches\": \"x80\", \"showticklabels\": false}, \"xaxis76\": {\"anchor\": \"y76\", \"domain\": [0.0, 1.0], \"matches\": \"x80\", \"showticklabels\": false}, \"xaxis77\": {\"anchor\": \"y77\", \"domain\": [0.0, 1.0], \"matches\": \"x80\", \"showticklabels\": false}, \"xaxis78\": {\"anchor\": \"y78\", \"domain\": [0.0, 1.0], \"matches\": \"x80\", \"showticklabels\": false}, \"xaxis79\": {\"anchor\": \"y79\", \"domain\": [0.0, 1.0], \"matches\": \"x80\", \"showticklabels\": false}, \"xaxis8\": {\"anchor\": \"y8\", \"domain\": [0.0, 1.0], \"matches\": \"x80\", \"showticklabels\": false}, \"xaxis80\": {\"anchor\": \"y80\", \"domain\": [0.0, 1.0]}, \"xaxis9\": {\"anchor\": \"y9\", \"domain\": [0.0, 1.0], \"matches\": \"x80\", \"showticklabels\": false}, \"yaxis\": {\"anchor\": \"x\", \"domain\": [0.9936718750000005, 1.0], \"title\": {\"text\": \"DG (eV)\"}}, \"yaxis10\": {\"anchor\": \"x10\", \"domain\": [0.8804687500000004, 0.8867968750000004], \"title\": {\"text\": \"DG (eV)\"}}, \"yaxis11\": {\"anchor\": \"x11\", \"domain\": [0.8678906250000004, 0.8742187500000004], \"title\": {\"text\": \"DG (eV)\"}}, \"yaxis12\": {\"anchor\": \"x12\", \"domain\": [0.8553125000000004, 0.8616406250000004], \"title\": {\"text\": \"DG (eV)\"}}, \"yaxis13\": {\"anchor\": \"x13\", \"domain\": [0.8427343750000003, 0.8490625000000003], \"title\": {\"text\": \"DG (eV)\"}}, \"yaxis14\": {\"anchor\": \"x14\", \"domain\": [0.8301562500000004, 0.8364843750000004], \"title\": {\"text\": \"DG (eV)\"}}, \"yaxis15\": {\"anchor\": \"x15\", \"domain\": [0.8175781250000003, 0.8239062500000003], \"title\": {\"text\": \"DG (eV)\"}}, \"yaxis16\": {\"anchor\": \"x16\", \"domain\": [0.8050000000000003, 0.8113281250000003], \"title\": {\"text\": \"DG (eV)\"}}, \"yaxis17\": {\"anchor\": \"x17\", \"domain\": [0.7924218750000003, 0.7987500000000003], \"title\": {\"text\": \"DG (eV)\"}}, \"yaxis18\": {\"anchor\": \"x18\", \"domain\": [0.7798437500000002, 0.7861718750000002], \"title\": {\"text\": \"DG (eV)\"}}, \"yaxis19\": {\"anchor\": \"x19\", \"domain\": [0.7672656250000003, 0.7735937500000003], \"title\": {\"text\": \"DG (eV)\"}}, \"yaxis2\": {\"anchor\": \"x2\", \"domain\": [0.9810937500000005, 0.9874218750000006], \"title\": {\"text\": \"DG (eV)\"}}, \"yaxis20\": {\"anchor\": \"x20\", \"domain\": [0.7546875000000002, 0.7610156250000002], \"title\": {\"text\": \"DG (eV)\"}}, \"yaxis21\": {\"anchor\": \"x21\", \"domain\": [0.7421093750000002, 0.7484375000000002], \"title\": {\"text\": \"DG (eV)\"}}, \"yaxis22\": {\"anchor\": \"x22\", \"domain\": [0.7295312500000002, 0.7358593750000002], \"title\": {\"text\": \"DG (eV)\"}}, \"yaxis23\": {\"anchor\": \"x23\", \"domain\": [0.7169531250000001, 0.7232812500000001], \"title\": {\"text\": \"DG (eV)\"}}, \"yaxis24\": {\"anchor\": \"x24\", \"domain\": [0.7043750000000002, 0.7107031250000002], \"title\": {\"text\": \"DG (eV)\"}}, \"yaxis25\": {\"anchor\": \"x25\", \"domain\": [0.6917968750000001, 0.6981250000000001], \"title\": {\"text\": \"DG (eV)\"}}, \"yaxis26\": {\"anchor\": \"x26\", \"domain\": [0.6792187500000001, 0.6855468750000001], \"title\": {\"text\": \"DG (eV)\"}}, \"yaxis27\": {\"anchor\": \"x27\", \"domain\": [0.6666406250000001, 0.6729687500000001], \"title\": {\"text\": \"DG (eV)\"}}, \"yaxis28\": {\"anchor\": \"x28\", \"domain\": [0.6540625, 0.660390625], \"title\": {\"text\": \"DG (eV)\"}}, \"yaxis29\": {\"anchor\": \"x29\", \"domain\": [0.6414843750000001, 0.6478125000000001], \"title\": {\"text\": \"DG (eV)\"}}, \"yaxis3\": {\"anchor\": \"x3\", \"domain\": [0.9685156250000004, 0.9748437500000005], \"title\": {\"text\": \"DG (eV)\"}}, \"yaxis30\": {\"anchor\": \"x30\", \"domain\": [0.62890625, 0.635234375], \"title\": {\"text\": \"DG (eV)\"}}, \"yaxis31\": {\"anchor\": \"x31\", \"domain\": [0.616328125, 0.62265625], \"title\": {\"text\": \"DG (eV)\"}}, \"yaxis32\": {\"anchor\": \"x32\", \"domain\": [0.60375, 0.610078125], \"title\": {\"text\": \"DG (eV)\"}}, \"yaxis33\": {\"anchor\": \"x33\", \"domain\": [0.5911718749999999, 0.5974999999999999], \"title\": {\"text\": \"DG (eV)\"}}, \"yaxis34\": {\"anchor\": \"x34\", \"domain\": [0.57859375, 0.584921875], \"title\": {\"text\": \"DG (eV)\"}}, \"yaxis35\": {\"anchor\": \"x35\", \"domain\": [0.5660156249999999, 0.5723437499999999], \"title\": {\"text\": \"DG (eV)\"}}, \"yaxis36\": {\"anchor\": \"x36\", \"domain\": [0.5534374999999999, 0.5597656249999999], \"title\": {\"text\": \"DG (eV)\"}}, \"yaxis37\": {\"anchor\": \"x37\", \"domain\": [0.5408593749999999, 0.5471874999999999], \"title\": {\"text\": \"DG (eV)\"}}, \"yaxis38\": {\"anchor\": \"x38\", \"domain\": [0.5282812499999998, 0.5346093749999998], \"title\": {\"text\": \"DG (eV)\"}}, \"yaxis39\": {\"anchor\": \"x39\", \"domain\": [0.5157031249999999, 0.52203125], \"title\": {\"text\": \"DG (eV)\"}}, \"yaxis4\": {\"anchor\": \"x4\", \"domain\": [0.9559375000000006, 0.9622656250000006], \"title\": {\"text\": \"DG (eV)\"}}, \"yaxis40\": {\"anchor\": \"x40\", \"domain\": [0.5031249999999998, 0.5094531249999998], \"title\": {\"text\": \"DG (eV)\"}}, \"yaxis41\": {\"anchor\": \"x41\", \"domain\": [0.4905468749999998, 0.49687499999999984], \"title\": {\"text\": \"DG (eV)\"}}, \"yaxis42\": {\"anchor\": \"x42\", \"domain\": [0.47796874999999983, 0.48429687499999985], \"title\": {\"text\": \"DG (eV)\"}}, \"yaxis43\": {\"anchor\": \"x43\", \"domain\": [0.46539062499999984, 0.47171874999999985], \"title\": {\"text\": \"DG (eV)\"}}, \"yaxis44\": {\"anchor\": \"x44\", \"domain\": [0.45281249999999984, 0.45914062499999986], \"title\": {\"text\": \"DG (eV)\"}}, \"yaxis45\": {\"anchor\": \"x45\", \"domain\": [0.44023437499999984, 0.44656249999999986], \"title\": {\"text\": \"DG (eV)\"}}, \"yaxis46\": {\"anchor\": \"x46\", \"domain\": [0.4276562499999999, 0.4339843749999999], \"title\": {\"text\": \"DG (eV)\"}}, \"yaxis47\": {\"anchor\": \"x47\", \"domain\": [0.4150781249999999, 0.4214062499999999], \"title\": {\"text\": \"DG (eV)\"}}, \"yaxis48\": {\"anchor\": \"x48\", \"domain\": [0.4024999999999999, 0.40882812499999993], \"title\": {\"text\": \"DG (eV)\"}}, \"yaxis49\": {\"anchor\": \"x49\", \"domain\": [0.3899218749999999, 0.39624999999999994], \"title\": {\"text\": \"DG (eV)\"}}, \"yaxis5\": {\"anchor\": \"x5\", \"domain\": [0.9433593750000004, 0.9496875000000005], \"title\": {\"text\": \"DG (eV)\"}}, \"yaxis50\": {\"anchor\": \"x50\", \"domain\": [0.3773437499999999, 0.38367187499999994], \"title\": {\"text\": \"DG (eV)\"}}, \"yaxis51\": {\"anchor\": \"x51\", \"domain\": [0.364765625, 0.37109375], \"title\": {\"text\": \"DG (eV)\"}}, \"yaxis52\": {\"anchor\": \"x52\", \"domain\": [0.3521875, 0.358515625], \"title\": {\"text\": \"DG (eV)\"}}, \"yaxis53\": {\"anchor\": \"x53\", \"domain\": [0.339609375, 0.3459375], \"title\": {\"text\": \"DG (eV)\"}}, \"yaxis54\": {\"anchor\": \"x54\", \"domain\": [0.32703125, 0.333359375], \"title\": {\"text\": \"DG (eV)\"}}, \"yaxis55\": {\"anchor\": \"x55\", \"domain\": [0.314453125, 0.32078125], \"title\": {\"text\": \"DG (eV)\"}}, \"yaxis56\": {\"anchor\": \"x56\", \"domain\": [0.301875, 0.308203125], \"title\": {\"text\": \"DG (eV)\"}}, \"yaxis57\": {\"anchor\": \"x57\", \"domain\": [0.289296875, 0.295625], \"title\": {\"text\": \"DG (eV)\"}}, \"yaxis58\": {\"anchor\": \"x58\", \"domain\": [0.27671875, 0.28304687500000003], \"title\": {\"text\": \"DG (eV)\"}}, \"yaxis59\": {\"anchor\": \"x59\", \"domain\": [0.264140625, 0.27046875000000004], \"title\": {\"text\": \"DG (eV)\"}}, \"yaxis6\": {\"anchor\": \"x6\", \"domain\": [0.9307812500000004, 0.9371093750000005], \"title\": {\"text\": \"DG (eV)\"}}, \"yaxis60\": {\"anchor\": \"x60\", \"domain\": [0.2515625, 0.25789062500000004], \"title\": {\"text\": \"DG (eV)\"}}, \"yaxis61\": {\"anchor\": \"x61\", \"domain\": [0.23898437500000003, 0.24531250000000002], \"title\": {\"text\": \"DG (eV)\"}}, \"yaxis62\": {\"anchor\": \"x62\", \"domain\": [0.22640625000000003, 0.23273437500000002], \"title\": {\"text\": \"DG (eV)\"}}, \"yaxis63\": {\"anchor\": \"x63\", \"domain\": [0.21382812500000004, 0.22015625000000003], \"title\": {\"text\": \"DG (eV)\"}}, \"yaxis64\": {\"anchor\": \"x64\", \"domain\": [0.20125, 0.207578125], \"title\": {\"text\": \"DG (eV)\"}}, \"yaxis65\": {\"anchor\": \"x65\", \"domain\": [0.188671875, 0.19499999999999998], \"title\": {\"text\": \"DG (eV)\"}}, \"yaxis66\": {\"anchor\": \"x66\", \"domain\": [0.17609375, 0.18242187499999998], \"title\": {\"text\": \"DG (eV)\"}}, \"yaxis67\": {\"anchor\": \"x67\", \"domain\": [0.163515625, 0.16984375], \"title\": {\"text\": \"DG (eV)\"}}, \"yaxis68\": {\"anchor\": \"x68\", \"domain\": [0.1509375, 0.157265625], \"title\": {\"text\": \"DG (eV)\"}}, \"yaxis69\": {\"anchor\": \"x69\", \"domain\": [0.138359375, 0.1446875], \"title\": {\"text\": \"DG (eV)\"}}, \"yaxis7\": {\"anchor\": \"x7\", \"domain\": [0.9182031250000005, 0.9245312500000005], \"title\": {\"text\": \"DG (eV)\"}}, \"yaxis70\": {\"anchor\": \"x70\", \"domain\": [0.12578124999999998, 0.13210937499999997], \"title\": {\"text\": \"DG (eV)\"}}, \"yaxis71\": {\"anchor\": \"x71\", \"domain\": [0.11320312499999999, 0.11953124999999999], \"title\": {\"text\": \"DG (eV)\"}}, \"yaxis72\": {\"anchor\": \"x72\", \"domain\": [0.10062499999999999, 0.106953125], \"title\": {\"text\": \"DG (eV)\"}}, \"yaxis73\": {\"anchor\": \"x73\", \"domain\": [0.088046875, 0.094375], \"title\": {\"text\": \"DG (eV)\"}}, \"yaxis74\": {\"anchor\": \"x74\", \"domain\": [0.07546875, 0.081796875], \"title\": {\"text\": \"DG (eV)\"}}, \"yaxis75\": {\"anchor\": \"x75\", \"domain\": [0.062890625, 0.06921875000000001], \"title\": {\"text\": \"DG (eV)\"}}, \"yaxis76\": {\"anchor\": \"x76\", \"domain\": [0.050312499999999996, 0.05664062499999999], \"title\": {\"text\": \"DG (eV)\"}}, \"yaxis77\": {\"anchor\": \"x77\", \"domain\": [0.037734375, 0.0440625], \"title\": {\"text\": \"DG (eV)\"}}, \"yaxis78\": {\"anchor\": \"x78\", \"domain\": [0.025156249999999998, 0.031484374999999995], \"title\": {\"text\": \"DG (eV)\"}}, \"yaxis79\": {\"anchor\": \"x79\", \"domain\": [0.012578124999999999, 0.01890625], \"title\": {\"text\": \"DG (eV)\"}}, \"yaxis8\": {\"anchor\": \"x8\", \"domain\": [0.9056250000000003, 0.9119531250000004], \"title\": {\"text\": \"DG (eV)\"}}, \"yaxis80\": {\"anchor\": \"x80\", \"domain\": [0.0, 0.0063281249999999995], \"title\": {\"text\": \"DG (eV)\"}}, \"yaxis9\": {\"anchor\": \"x9\", \"domain\": [0.8930468750000005, 0.8993750000000005], \"title\": {\"text\": \"DG (eV)\"}}},                        {\"responsive\": true}                    ).then(function(){\n",
       "                            \n",
       "var gd = document.getElementById('a330136a-77e7-4e16-a78f-6e1ca1b7dac2');\n",
       "var x = new MutationObserver(function (mutations, observer) {{\n",
       "        var display = window.getComputedStyle(gd).display;\n",
       "        if (!display || display === 'none') {{\n",
       "            console.log([gd, 'removed!']);\n",
       "            Plotly.purge(gd);\n",
       "            observer.disconnect();\n",
       "        }}\n",
       "}});\n",
       "\n",
       "// Listen for the removal of the full notebook cells\n",
       "var notebookContainer = gd.closest('#notebook-container');\n",
       "if (notebookContainer) {{\n",
       "    x.observe(notebookContainer, {childList: true});\n",
       "}}\n",
       "\n",
       "// Listen for the clearing of the current output cell\n",
       "var outputEl = gd.closest('.output');\n",
       "if (outputEl) {{\n",
       "    x.observe(outputEl, {childList: true});\n",
       "}}\n",
       "\n",
       "                        })                };                });            </script>        </div>"
      ]
     },
     "metadata": {},
     "output_type": "display_data"
    }
   ],
   "source": [
    "fig = make_subplots(rows = 80, cols = 1, shared_xaxes = True,\n",
    "                   subplot_titles=tuple(df['formula']), column_titles = tuple(df['formula']),\n",
    "                  # vertical_spacing = 0.01\n",
    "                   )\n",
    "\n",
    "x_list = [0,1,1,2,2,3,3,4,4,5]\n",
    "y_idx = [0,0,1,1,2,2,3,3,4,4]\n",
    "\n",
    "for idx in range(1,81):\n",
    "    ads_list= [0, df.loc[idx,'DE_OH'], df.loc[idx,'DE_O'], df.loc[idx,'DE_OOH'], 4.92]\n",
    "    \n",
    "    y_list = []\n",
    "    for x in range(len(x_list)):\n",
    "      #  print(x_list[x],\" \",ads_list[y_idx[x]])\n",
    "        y_list.append(ads_list[y_idx[x]])\n",
    "\n",
    "    fig.append_trace(go.Scatter(x = x_list, y = y_list, name = df.loc[idx,'formula'],\n",
    "                               text = ['', 'H2O','','OH*','','O*','','OOH*','','O2(g)'],\n",
    "                               textposition = \"bottom center\",\n",
    "                               mode = 'lines+text'), row = idx, col = 1)\n",
    "    fig.update_yaxes(title_text = 'DG (eV)')\n",
    "    layout = go.Layout(title = 'free energy diagram', titlefont = dict(size = 25), autosize = True, \n",
    "                          )\n",
    "\n",
    "fig.update_layout(title_text = 'free_energy_diagram', showlegend = True, height = 15000, width = 500 )\n",
    "# pyo.iplot(fig)\n",
    "fig.show()\n"
   ]
  },
  {
   "cell_type": "code",
   "execution_count": 71,
   "metadata": {},
   "outputs": [
    {
     "data": {
      "application/vnd.plotly.v1+json": {
       "config": {
        "plotlyServerURL": "https://plot.ly"
       },
       "data": [
        {
         "name": "SrTcO3",
         "type": "scatter",
         "x": [
          0,
          1,
          1,
          2,
          2,
          3,
          3,
          4,
          4,
          5
         ],
         "xaxis": "x",
         "y": [
          0,
          0,
          -0.782,
          -0.782,
          -0.707,
          -0.707,
          2.481,
          2.481,
          4.92,
          4.92
         ],
         "yaxis": "y"
        },
        {
         "name": "BaFeO3",
         "type": "scatter",
         "x": [
          0,
          1,
          1,
          2,
          2,
          3,
          3,
          4,
          4,
          5
         ],
         "xaxis": "x",
         "y": [
          0,
          0,
          2.024,
          2.024,
          4.452,
          4.452,
          4.917,
          4.917,
          4.92,
          4.92
         ],
         "yaxis": "y"
        },
        {
         "name": "BaMoO3",
         "type": "scatter",
         "x": [
          0,
          1,
          1,
          2,
          2,
          3,
          3,
          4,
          4,
          5
         ],
         "xaxis": "x",
         "y": [
          0,
          0,
          -0.302,
          -0.302,
          -0.853,
          -0.853,
          3.019,
          3.019,
          4.92,
          4.92
         ],
         "yaxis": "y"
        },
        {
         "name": "KTaO3",
         "type": "scatter",
         "x": [
          0,
          1,
          1,
          2,
          2,
          3,
          3,
          4,
          4,
          5
         ],
         "xaxis": "x",
         "y": [
          0,
          0,
          -1.001,
          -1.001,
          -0.614,
          -0.614,
          2.575,
          2.575,
          4.92,
          4.92
         ],
         "yaxis": "y"
        },
        {
         "name": "BaZrO3",
         "type": "scatter",
         "x": [
          0,
          1,
          1,
          2,
          2,
          3,
          3,
          4,
          4,
          5
         ],
         "xaxis": "x",
         "y": [
          0,
          0,
          1.29,
          1.29,
          4.143,
          4.143,
          4.706,
          4.706,
          4.92,
          4.92
         ],
         "yaxis": "y"
        },
        {
         "name": "SrFeO3",
         "type": "scatter",
         "x": [
          0,
          1,
          1,
          2,
          2,
          3,
          3,
          4,
          4,
          5
         ],
         "xaxis": "x",
         "y": [
          0,
          0,
          2.026,
          2.026,
          4.606,
          4.606,
          4.94,
          4.94,
          4.92,
          4.92
         ],
         "yaxis": "y"
        },
        {
         "name": "KTcO3",
         "type": "scatter",
         "x": [
          0,
          1,
          1,
          2,
          2,
          3,
          3,
          4,
          4,
          5
         ],
         "xaxis": "x",
         "y": [
          0,
          0,
          0.04,
          0.04,
          0.446,
          0.446,
          3.231,
          3.231,
          4.92,
          4.92
         ],
         "yaxis": "y"
        },
        {
         "name": "NaTcO3",
         "type": "scatter",
         "x": [
          0,
          1,
          1,
          2,
          2,
          3,
          3,
          4,
          4,
          5
         ],
         "xaxis": "x",
         "y": [
          0,
          0,
          -0.067,
          -0.067,
          0.301,
          0.301,
          3.149,
          3.149,
          4.92,
          4.92
         ],
         "yaxis": "y"
        },
        {
         "name": "BaHfO3",
         "type": "scatter",
         "x": [
          0,
          1,
          1,
          2,
          2,
          3,
          3,
          4,
          4,
          5
         ],
         "xaxis": "x",
         "y": [
          0,
          0,
          1.191,
          1.191,
          4.023,
          4.023,
          4.537,
          4.537,
          4.92,
          4.92
         ],
         "yaxis": "y"
        },
        {
         "name": "SrTiO3",
         "type": "scatter",
         "x": [
          0,
          1,
          1,
          2,
          2,
          3,
          3,
          4,
          4,
          5
         ],
         "xaxis": "x",
         "y": [
          0,
          0,
          1.276,
          1.276,
          3.889,
          3.889,
          4.632,
          4.632,
          4.92,
          4.92
         ],
         "yaxis": "y"
        },
        {
         "name": "SrCuO3",
         "type": "scatter",
         "x": [
          0,
          1,
          1,
          2,
          2,
          3,
          3,
          4,
          4,
          5
         ],
         "xaxis": "x",
         "y": [
          0,
          0,
          2.007,
          2.007,
          4.23,
          4.23,
          5.007,
          5.007,
          4.92,
          4.92
         ],
         "yaxis": "y"
        },
        {
         "name": "KNbO3",
         "type": "scatter",
         "x": [
          0,
          1,
          1,
          2,
          2,
          3,
          3,
          4,
          4,
          5
         ],
         "xaxis": "x",
         "y": [
          0,
          0,
          -0.217,
          -0.217,
          0.465,
          0.465,
          3.298,
          3.298,
          4.92,
          4.92
         ],
         "yaxis": "y"
        },
        {
         "name": "NaTaO3",
         "type": "scatter",
         "x": [
          0,
          1,
          1,
          2,
          2,
          3,
          3,
          4,
          4,
          5
         ],
         "xaxis": "x",
         "y": [
          0,
          0,
          -1.129,
          -1.129,
          -0.899,
          -0.899,
          2.423,
          2.423,
          4.92,
          4.92
         ],
         "yaxis": "y"
        },
        {
         "name": "BaScO3",
         "type": "scatter",
         "x": [
          0,
          1,
          1,
          2,
          2,
          3,
          3,
          4,
          4,
          5
         ],
         "xaxis": "x",
         "y": [
          0,
          0,
          2.147,
          2.147,
          4.7,
          4.7,
          4.977,
          4.977,
          4.92,
          4.92
         ],
         "yaxis": "y"
        },
        {
         "name": "BaPdO3",
         "type": "scatter",
         "x": [
          0,
          1,
          1,
          2,
          2,
          3,
          3,
          4,
          4,
          5
         ],
         "xaxis": "x",
         "y": [
          0,
          0,
          1.7,
          1.7,
          3.455,
          3.455,
          4.665,
          4.665,
          4.92,
          4.92
         ],
         "yaxis": "y"
        },
        {
         "name": "SrHfO3",
         "type": "scatter",
         "x": [
          0,
          1,
          1,
          2,
          2,
          3,
          3,
          4,
          4,
          5
         ],
         "xaxis": "x",
         "y": [
          0,
          0,
          1.081,
          1.081,
          3.952,
          3.952,
          4.46,
          4.46,
          4.92,
          4.92
         ],
         "yaxis": "y"
        },
        {
         "name": "NaOsO3",
         "type": "scatter",
         "x": [
          0,
          1,
          1,
          2,
          2,
          3,
          3,
          4,
          4,
          5
         ],
         "xaxis": "x",
         "y": [
          0,
          0,
          -0.354,
          -0.354,
          0.577,
          0.577,
          3.103,
          3.103,
          4.92,
          4.92
         ],
         "yaxis": "y"
        },
        {
         "name": "TlTcO3",
         "type": "scatter",
         "x": [
          0,
          1,
          1,
          2,
          2,
          3,
          3,
          4,
          4,
          5
         ],
         "xaxis": "x",
         "y": [
          0,
          0,
          -0.031,
          -0.031,
          0.313,
          0.313,
          3.1,
          3.1,
          4.92,
          4.92
         ],
         "yaxis": "y"
        },
        {
         "name": "KReO3",
         "type": "scatter",
         "x": [
          0,
          1,
          1,
          2,
          2,
          3,
          3,
          4,
          4,
          5
         ],
         "xaxis": "x",
         "y": [
          0,
          0,
          -0.733,
          -0.733,
          -0.544,
          -0.544,
          2.539,
          2.539,
          4.92,
          4.92
         ],
         "yaxis": "y"
        },
        {
         "name": "SrRuO3",
         "type": "scatter",
         "x": [
          0,
          1,
          1,
          2,
          2,
          3,
          3,
          4,
          4,
          5
         ],
         "xaxis": "x",
         "y": [
          0,
          0,
          0.26,
          0.26,
          0.96,
          0.96,
          3.406,
          3.406,
          4.92,
          4.92
         ],
         "yaxis": "y"
        },
        {
         "name": "KHfO3",
         "type": "scatter",
         "x": [
          0,
          1,
          1,
          2,
          2,
          3,
          3,
          4,
          4,
          5
         ],
         "xaxis": "x",
         "y": [
          0,
          0,
          1.946,
          1.946,
          4.407,
          4.407,
          4.806,
          4.806,
          4.92,
          4.92
         ],
         "yaxis": "y"
        },
        {
         "name": "SrVO3",
         "type": "scatter",
         "x": [
          0,
          1,
          1,
          2,
          2,
          3,
          3,
          4,
          4,
          5
         ],
         "xaxis": "x",
         "y": [
          0,
          0,
          -0.191,
          -0.191,
          0.516,
          0.516,
          3.026,
          3.026,
          4.92,
          4.92
         ],
         "yaxis": "y"
        },
        {
         "name": "KOsO3",
         "type": "scatter",
         "x": [
          0,
          1,
          1,
          2,
          2,
          3,
          3,
          4,
          4,
          5
         ],
         "xaxis": "x",
         "y": [
          0,
          0,
          -0.464,
          -0.464,
          0.699,
          0.699,
          2.802,
          2.802,
          4.92,
          4.92
         ],
         "yaxis": "y"
        },
        {
         "name": "TaAgO3",
         "type": "scatter",
         "x": [
          0,
          1,
          1,
          2,
          2,
          3,
          3,
          4,
          4,
          5
         ],
         "xaxis": "x",
         "y": [
          0,
          0,
          -1.056,
          -1.056,
          -0.969,
          -0.969,
          2.512,
          2.512,
          4.92,
          4.92
         ],
         "yaxis": "y"
        },
        {
         "name": "SrNiO3",
         "type": "scatter",
         "x": [
          0,
          1,
          1,
          2,
          2,
          3,
          3,
          4,
          4,
          5
         ],
         "xaxis": "x",
         "y": [
          0,
          0,
          3.474,
          3.474,
          4.437,
          4.437,
          4.641,
          4.641,
          4.92,
          4.92
         ],
         "yaxis": "y"
        },
        {
         "name": "RbIrO3",
         "type": "scatter",
         "x": [
          0,
          1,
          1,
          2,
          2,
          3,
          3,
          4,
          4,
          5
         ],
         "xaxis": "x",
         "y": [
          0,
          0,
          0.976,
          0.976,
          2.415,
          2.415,
          4.135,
          4.135,
          4.92,
          4.92
         ],
         "yaxis": "y"
        },
        {
         "name": "NaReO3",
         "type": "scatter",
         "x": [
          0,
          1,
          1,
          2,
          2,
          3,
          3,
          4,
          4,
          5
         ],
         "xaxis": "x",
         "y": [
          0,
          0,
          -0.831,
          -0.831,
          -0.697,
          -0.697,
          2.449,
          2.449,
          4.92,
          4.92
         ],
         "yaxis": "y"
        },
        {
         "name": "SrMnO3",
         "type": "scatter",
         "x": [
          0,
          1,
          1,
          2,
          2,
          3,
          3,
          4,
          4,
          5
         ],
         "xaxis": "x",
         "y": [
          0,
          0,
          2.548,
          2.548,
          4.648,
          4.648,
          5.509,
          5.509,
          4.92,
          4.92
         ],
         "yaxis": "y"
        },
        {
         "name": "CaFeO3",
         "type": "scatter",
         "x": [
          0,
          1,
          1,
          2,
          2,
          3,
          3,
          4,
          4,
          5
         ],
         "xaxis": "x",
         "y": [
          0,
          0,
          1.927,
          1.927,
          4.277,
          4.277,
          4.926,
          4.926,
          4.92,
          4.92
         ],
         "yaxis": "y"
        },
        {
         "name": "SrZrO3",
         "type": "scatter",
         "x": [
          0,
          1,
          1,
          2,
          2,
          3,
          3,
          4,
          4,
          5
         ],
         "xaxis": "x",
         "y": [
          0,
          0,
          1.151,
          1.151,
          4.034,
          4.034,
          4.537,
          4.537,
          4.92,
          4.92
         ],
         "yaxis": "y"
        },
        {
         "name": "RbTaO3",
         "type": "scatter",
         "x": [
          0,
          1,
          1,
          2,
          2,
          3,
          3,
          4,
          4,
          5
         ],
         "xaxis": "x",
         "y": [
          0,
          0,
          -0.997,
          -0.997,
          -0.617,
          -0.617,
          2.619,
          2.619,
          4.92,
          4.92
         ],
         "yaxis": "y"
        },
        {
         "name": "SrCoO3",
         "type": "scatter",
         "x": [
          0,
          1,
          1,
          2,
          2,
          3,
          3,
          4,
          4,
          5
         ],
         "xaxis": "x",
         "y": [
          0,
          0,
          1.163,
          1.163,
          3.136,
          3.136,
          4.261,
          4.261,
          4.92,
          4.92
         ],
         "yaxis": "y"
        },
        {
         "name": "KZrO3",
         "type": "scatter",
         "x": [
          0,
          1,
          1,
          2,
          2,
          3,
          3,
          4,
          4,
          5
         ],
         "xaxis": "x",
         "y": [
          0,
          0,
          2.007,
          2.007,
          4.516,
          4.516,
          4.825,
          4.825,
          4.92,
          4.92
         ],
         "yaxis": "y"
        },
        {
         "name": "CaTiO3",
         "type": "scatter",
         "x": [
          0,
          1,
          1,
          2,
          2,
          3,
          3,
          4,
          4,
          5
         ],
         "xaxis": "x",
         "y": [
          0,
          0,
          1.263,
          1.263,
          3.911,
          3.911,
          4.692,
          4.692,
          4.92,
          4.92
         ],
         "yaxis": "y"
        },
        {
         "name": "NaRuO3",
         "type": "scatter",
         "x": [
          0,
          1,
          1,
          2,
          2,
          3,
          3,
          4,
          4,
          5
         ],
         "xaxis": "x",
         "y": [
          0,
          0,
          0.746,
          0.746,
          1.871,
          1.871,
          3.804,
          3.804,
          4.92,
          4.92
         ],
         "yaxis": "y"
        },
        {
         "name": "LiTcO3",
         "type": "scatter",
         "x": [
          0,
          1,
          1,
          2,
          2,
          3,
          3,
          4,
          4,
          5
         ],
         "xaxis": "x",
         "y": [
          0,
          0,
          0.152,
          0.152,
          0.621,
          0.621,
          3.351,
          3.351,
          4.92,
          4.92
         ],
         "yaxis": "y"
        },
        {
         "name": "SrPdO3",
         "type": "scatter",
         "x": [
          0,
          1,
          1,
          2,
          2,
          3,
          3,
          4,
          4,
          5
         ],
         "xaxis": "x",
         "y": [
          0,
          0,
          0.899,
          0.899,
          3.176,
          3.176,
          3.741,
          3.741,
          4.92,
          4.92
         ],
         "yaxis": "y"
        },
        {
         "name": "KWO3",
         "type": "scatter",
         "x": [
          0,
          1,
          1,
          2,
          2,
          3,
          3,
          4,
          4,
          5
         ],
         "xaxis": "x",
         "y": [
          0,
          0,
          -1.124,
          -1.124,
          -1.2,
          -1.2,
          2.067,
          2.067,
          4.92,
          4.92
         ],
         "yaxis": "y"
        },
        {
         "name": "KRhO3",
         "type": "scatter",
         "x": [
          0,
          1,
          1,
          2,
          2,
          3,
          3,
          4,
          4,
          5
         ],
         "xaxis": "x",
         "y": [
          0,
          0,
          1.568,
          1.568,
          3.321,
          3.321,
          4.504,
          4.504,
          4.92,
          4.92
         ],
         "yaxis": "y"
        },
        {
         "name": "BaCuO3",
         "type": "scatter",
         "x": [
          0,
          1,
          1,
          2,
          2,
          3,
          3,
          4,
          4,
          5
         ],
         "xaxis": "x",
         "y": [
          0,
          0,
          1.821,
          1.821,
          3.95,
          3.95,
          4.755,
          4.755,
          4.92,
          4.92
         ],
         "yaxis": "y"
        },
        {
         "name": "RbNbO3",
         "type": "scatter",
         "x": [
          0,
          1,
          1,
          2,
          2,
          3,
          3,
          4,
          4,
          5
         ],
         "xaxis": "x",
         "y": [
          0,
          0,
          -0.344,
          -0.344,
          0.282,
          0.282,
          3.187,
          3.187,
          4.92,
          4.92
         ],
         "yaxis": "y"
        },
        {
         "name": "BaOsO3",
         "type": "scatter",
         "x": [
          0,
          1,
          1,
          2,
          2,
          3,
          3,
          4,
          4,
          5
         ],
         "xaxis": "x",
         "y": [
          0,
          0,
          -1.484,
          -1.484,
          -0.728,
          -0.728,
          2.141,
          2.141,
          4.92,
          4.92
         ],
         "yaxis": "y"
        },
        {
         "name": "BaRuO3",
         "type": "scatter",
         "x": [
          0,
          1,
          1,
          2,
          2,
          3,
          3,
          4,
          4,
          5
         ],
         "xaxis": "x",
         "y": [
          0,
          0,
          0.446,
          0.446,
          1.303,
          1.303,
          3.513,
          3.513,
          4.92,
          4.92
         ],
         "yaxis": "y"
        },
        {
         "name": "KRuO3",
         "type": "scatter",
         "x": [
          0,
          1,
          1,
          2,
          2,
          3,
          3,
          4,
          4,
          5
         ],
         "xaxis": "x",
         "y": [
          0,
          0,
          0.83,
          0.83,
          2.006,
          2.006,
          3.972,
          3.972,
          4.92,
          4.92
         ],
         "yaxis": "y"
        },
        {
         "name": "SrMoO3",
         "type": "scatter",
         "x": [
          0,
          1,
          1,
          2,
          2,
          3,
          3,
          4,
          4,
          5
         ],
         "xaxis": "x",
         "y": [
          0,
          0,
          -1.13,
          -1.13,
          -1.375,
          -1.375,
          2.216,
          2.216,
          4.92,
          4.92
         ],
         "yaxis": "y"
        },
        {
         "name": "NaTiO3",
         "type": "scatter",
         "x": [
          0,
          1,
          1,
          2,
          2,
          3,
          3,
          4,
          4,
          5
         ],
         "xaxis": "x",
         "y": [
          0,
          0,
          2.205,
          2.205,
          4.568,
          4.568,
          4.918,
          4.918,
          4.92,
          4.92
         ],
         "yaxis": "y"
        },
        {
         "name": "SrScO3",
         "type": "scatter",
         "x": [
          0,
          1,
          1,
          2,
          2,
          3,
          3,
          4,
          4,
          5
         ],
         "xaxis": "x",
         "y": [
          0,
          0,
          2.146,
          2.146,
          4.677,
          4.677,
          4.963,
          4.963,
          4.92,
          4.92
         ],
         "yaxis": "y"
        },
        {
         "name": "SrRhO3",
         "type": "scatter",
         "x": [
          0,
          1,
          1,
          2,
          2,
          3,
          3,
          4,
          4,
          5
         ],
         "xaxis": "x",
         "y": [
          0,
          0,
          0.499,
          0.499,
          2.151,
          2.151,
          3.496,
          3.496,
          4.92,
          4.92
         ],
         "yaxis": "y"
        },
        {
         "name": "NaMoO3",
         "type": "scatter",
         "x": [
          0,
          1,
          1,
          2,
          2,
          3,
          3,
          4,
          4,
          5
         ],
         "xaxis": "x",
         "y": [
          0,
          0,
          -0.415,
          -0.415,
          -0.665,
          -0.665,
          2.624,
          2.624,
          4.92,
          4.92
         ],
         "yaxis": "y"
        },
        {
         "name": "BaRhO3",
         "type": "scatter",
         "x": [
          0,
          1,
          1,
          2,
          2,
          3,
          3,
          4,
          4,
          5
         ],
         "xaxis": "x",
         "y": [
          0,
          0,
          1.086,
          1.086,
          2.461,
          2.461,
          4.115,
          4.115,
          4.92,
          4.92
         ],
         "yaxis": "y"
        },
        {
         "name": "BaPtO3",
         "type": "scatter",
         "x": [
          0,
          1,
          1,
          2,
          2,
          3,
          3,
          4,
          4,
          5
         ],
         "xaxis": "x",
         "y": [
          0,
          0,
          1.101,
          1.101,
          2.56,
          2.56,
          4.159,
          4.159,
          4.92,
          4.92
         ],
         "yaxis": "y"
        },
        {
         "name": "CaVO3",
         "type": "scatter",
         "x": [
          0,
          1,
          1,
          2,
          2,
          3,
          3,
          4,
          4,
          5
         ],
         "xaxis": "x",
         "y": [
          0,
          0,
          -0.181,
          -0.181,
          0.389,
          0.389,
          3.376,
          3.376,
          4.92,
          4.92
         ],
         "yaxis": "y"
        },
        {
         "name": "KMoO3",
         "type": "scatter",
         "x": [
          0,
          1,
          1,
          2,
          2,
          3,
          3,
          4,
          4,
          5
         ],
         "xaxis": "x",
         "y": [
          0,
          0,
          -0.558,
          -0.558,
          -0.412,
          -0.412,
          2.632,
          2.632,
          4.92,
          4.92
         ],
         "yaxis": "y"
        },
        {
         "name": "SrCrO3",
         "type": "scatter",
         "x": [
          0,
          1,
          1,
          2,
          2,
          3,
          3,
          4,
          4,
          5
         ],
         "xaxis": "x",
         "y": [
          0,
          0,
          0.646,
          0.646,
          2.046,
          2.046,
          3.829,
          3.829,
          4.92,
          4.92
         ],
         "yaxis": "y"
        },
        {
         "name": "RbRhO3",
         "type": "scatter",
         "x": [
          0,
          1,
          1,
          2,
          2,
          3,
          3,
          4,
          4,
          5
         ],
         "xaxis": "x",
         "y": [
          0,
          0,
          1.29,
          1.29,
          3.2,
          3.2,
          4.069,
          4.069,
          4.92,
          4.92
         ],
         "yaxis": "y"
        },
        {
         "name": "BaVO3",
         "type": "scatter",
         "x": [
          0,
          1,
          1,
          2,
          2,
          3,
          3,
          4,
          4,
          5
         ],
         "xaxis": "x",
         "y": [
          0,
          0,
          -0.474,
          -0.474,
          0.504,
          0.504,
          3.366,
          3.366,
          4.92,
          4.92
         ],
         "yaxis": "y"
        },
        {
         "name": "CaCoO3",
         "type": "scatter",
         "x": [
          0,
          1,
          1,
          2,
          2,
          3,
          3,
          4,
          4,
          5
         ],
         "xaxis": "x",
         "y": [
          0,
          0,
          1.636,
          1.636,
          3.425,
          3.425,
          4.683,
          4.683,
          4.92,
          4.92
         ],
         "yaxis": "y"
        },
        {
         "name": "CaMnO3",
         "type": "scatter",
         "x": [
          0,
          1,
          1,
          2,
          2,
          3,
          3,
          4,
          4,
          5
         ],
         "xaxis": "x",
         "y": [
          0,
          0,
          1.408,
          1.408,
          4.289,
          4.289,
          4.967,
          4.967,
          4.92,
          4.92
         ],
         "yaxis": "y"
        },
        {
         "name": "KPtO3",
         "type": "scatter",
         "x": [
          0,
          1,
          1,
          2,
          2,
          3,
          3,
          4,
          4,
          5
         ],
         "xaxis": "x",
         "y": [
          0,
          0,
          1.292,
          1.292,
          2.948,
          2.948,
          4.28,
          4.28,
          4.92,
          4.92
         ],
         "yaxis": "y"
        },
        {
         "name": "BaNiO3",
         "type": "scatter",
         "x": [
          0,
          1,
          1,
          2,
          2,
          3,
          3,
          4,
          4,
          5
         ],
         "xaxis": "x",
         "y": [
          0,
          0,
          2.267,
          2.267,
          4.41,
          4.41,
          4.943,
          4.943,
          4.92,
          4.92
         ],
         "yaxis": "y"
        },
        {
         "name": "BaMnO3",
         "type": "scatter",
         "x": [
          0,
          1,
          1,
          2,
          2,
          3,
          3,
          4,
          4,
          5
         ],
         "xaxis": "x",
         "y": [
          0,
          0,
          1.655,
          1.655,
          2.943,
          2.943,
          4.914,
          4.914,
          4.92,
          4.92
         ],
         "yaxis": "y"
        },
        {
         "name": "SrIrO3",
         "type": "scatter",
         "x": [
          0,
          1,
          1,
          2,
          2,
          3,
          3,
          4,
          4,
          5
         ],
         "xaxis": "x",
         "y": [
          0,
          0,
          0.424,
          0.424,
          1.673,
          1.673,
          3.546,
          3.546,
          4.92,
          4.92
         ],
         "yaxis": "y"
        },
        {
         "name": "NaVO3",
         "type": "scatter",
         "x": [
          0,
          1,
          1,
          2,
          2,
          3,
          3,
          4,
          4,
          5
         ],
         "xaxis": "x",
         "y": [
          0,
          0,
          0.52,
          0.52,
          1.743,
          1.743,
          3.911,
          3.911,
          4.92,
          4.92
         ],
         "yaxis": "y"
        },
        {
         "name": "NaFeO3",
         "type": "scatter",
         "x": [
          0,
          1,
          1,
          2,
          2,
          3,
          3,
          4,
          4,
          5
         ],
         "xaxis": "x",
         "y": [
          0,
          0,
          2.325,
          2.325,
          4.625,
          4.625,
          5.028,
          5.028,
          4.92,
          4.92
         ],
         "yaxis": "y"
        },
        {
         "name": "BaIrO3",
         "type": "scatter",
         "x": [
          0,
          1,
          1,
          2,
          2,
          3,
          3,
          4,
          4,
          5
         ],
         "xaxis": "x",
         "y": [
          0,
          0,
          0.646,
          0.646,
          1.989,
          1.989,
          3.828,
          3.828,
          4.92,
          4.92
         ],
         "yaxis": "y"
        },
        {
         "name": "RbReO3",
         "type": "scatter",
         "x": [
          0,
          1,
          1,
          2,
          2,
          3,
          3,
          4,
          4,
          5
         ],
         "xaxis": "x",
         "y": [
          0,
          0,
          -0.678,
          -0.678,
          -0.492,
          -0.492,
          2.581,
          2.581,
          4.92,
          4.92
         ],
         "yaxis": "y"
        },
        {
         "name": "CaRuO3",
         "type": "scatter",
         "x": [
          0,
          1,
          1,
          2,
          2,
          3,
          3,
          4,
          4,
          5
         ],
         "xaxis": "x",
         "y": [
          0,
          0,
          -0.363,
          -0.363,
          0.68,
          0.68,
          2.514,
          2.514,
          4.92,
          4.92
         ],
         "yaxis": "y"
        },
        {
         "name": "RbPdO3",
         "type": "scatter",
         "x": [
          0,
          1,
          1,
          2,
          2,
          3,
          3,
          4,
          4,
          5
         ],
         "xaxis": "x",
         "y": [
          0,
          0,
          1.313,
          1.313,
          3.183,
          3.183,
          4.231,
          4.231,
          4.92,
          4.92
         ],
         "yaxis": "y"
        },
        {
         "name": "CaHfO3",
         "type": "scatter",
         "x": [
          0,
          1,
          1,
          2,
          2,
          3,
          3,
          4,
          4,
          5
         ],
         "xaxis": "x",
         "y": [
          0,
          0,
          0.619,
          0.619,
          3.642,
          3.642,
          3.86,
          3.86,
          4.92,
          4.92
         ],
         "yaxis": "y"
        },
        {
         "name": "TlWO3",
         "type": "scatter",
         "x": [
          0,
          1,
          1,
          2,
          2,
          3,
          3,
          4,
          4,
          5
         ],
         "xaxis": "x",
         "y": [
          0,
          0,
          -1.407,
          -1.407,
          -0.904,
          -0.904,
          2.157,
          2.157,
          4.92,
          4.92
         ],
         "yaxis": "y"
        },
        {
         "name": "RbPtO3",
         "type": "scatter",
         "x": [
          0,
          1,
          1,
          2,
          2,
          3,
          3,
          4,
          4,
          5
         ],
         "xaxis": "x",
         "y": [
          0,
          0,
          1.034,
          1.034,
          2.727,
          2.727,
          4.02,
          4.02,
          4.92,
          4.92
         ],
         "yaxis": "y"
        }
       ],
       "layout": {
        "height": 600,
        "legend": {
         "y": 0.95,
         "yanchor": "top"
        },
        "template": {
         "data": {
          "bar": [
           {
            "error_x": {
             "color": "rgb(36,36,36)"
            },
            "error_y": {
             "color": "rgb(36,36,36)"
            },
            "marker": {
             "line": {
              "color": "rgb(234,234,242)",
              "width": 0.5
             }
            },
            "type": "bar"
           }
          ],
          "barpolar": [
           {
            "marker": {
             "line": {
              "color": "rgb(234,234,242)",
              "width": 0.5
             }
            },
            "type": "barpolar"
           }
          ],
          "carpet": [
           {
            "aaxis": {
             "endlinecolor": "rgb(36,36,36)",
             "gridcolor": "white",
             "linecolor": "white",
             "minorgridcolor": "white",
             "startlinecolor": "rgb(36,36,36)"
            },
            "baxis": {
             "endlinecolor": "rgb(36,36,36)",
             "gridcolor": "white",
             "linecolor": "white",
             "minorgridcolor": "white",
             "startlinecolor": "rgb(36,36,36)"
            },
            "type": "carpet"
           }
          ],
          "choropleth": [
           {
            "colorbar": {
             "outlinewidth": 0,
             "tickcolor": "rgb(36,36,36)",
             "ticklen": 8,
             "ticks": "outside",
             "tickwidth": 2
            },
            "type": "choropleth"
           }
          ],
          "contour": [
           {
            "colorbar": {
             "outlinewidth": 0,
             "tickcolor": "rgb(36,36,36)",
             "ticklen": 8,
             "ticks": "outside",
             "tickwidth": 2
            },
            "colorscale": [
             [
              0,
              "rgb(2,4,25)"
             ],
             [
              0.06274509803921569,
              "rgb(24,15,41)"
             ],
             [
              0.12549019607843137,
              "rgb(47,23,57)"
             ],
             [
              0.18823529411764706,
              "rgb(71,28,72)"
             ],
             [
              0.25098039215686274,
              "rgb(97,30,82)"
             ],
             [
              0.3137254901960784,
              "rgb(123,30,89)"
             ],
             [
              0.3764705882352941,
              "rgb(150,27,91)"
             ],
             [
              0.4392156862745098,
              "rgb(177,22,88)"
             ],
             [
              0.5019607843137255,
              "rgb(203,26,79)"
             ],
             [
              0.5647058823529412,
              "rgb(223,47,67)"
             ],
             [
              0.6274509803921569,
              "rgb(236,76,61)"
             ],
             [
              0.6901960784313725,
              "rgb(242,107,73)"
             ],
             [
              0.7529411764705882,
              "rgb(244,135,95)"
             ],
             [
              0.8156862745098039,
              "rgb(245,162,122)"
             ],
             [
              0.8784313725490196,
              "rgb(246,188,153)"
             ],
             [
              0.9411764705882353,
              "rgb(247,212,187)"
             ],
             [
              1,
              "rgb(250,234,220)"
             ]
            ],
            "type": "contour"
           }
          ],
          "contourcarpet": [
           {
            "colorbar": {
             "outlinewidth": 0,
             "tickcolor": "rgb(36,36,36)",
             "ticklen": 8,
             "ticks": "outside",
             "tickwidth": 2
            },
            "type": "contourcarpet"
           }
          ],
          "heatmap": [
           {
            "colorbar": {
             "outlinewidth": 0,
             "tickcolor": "rgb(36,36,36)",
             "ticklen": 8,
             "ticks": "outside",
             "tickwidth": 2
            },
            "colorscale": [
             [
              0,
              "rgb(2,4,25)"
             ],
             [
              0.06274509803921569,
              "rgb(24,15,41)"
             ],
             [
              0.12549019607843137,
              "rgb(47,23,57)"
             ],
             [
              0.18823529411764706,
              "rgb(71,28,72)"
             ],
             [
              0.25098039215686274,
              "rgb(97,30,82)"
             ],
             [
              0.3137254901960784,
              "rgb(123,30,89)"
             ],
             [
              0.3764705882352941,
              "rgb(150,27,91)"
             ],
             [
              0.4392156862745098,
              "rgb(177,22,88)"
             ],
             [
              0.5019607843137255,
              "rgb(203,26,79)"
             ],
             [
              0.5647058823529412,
              "rgb(223,47,67)"
             ],
             [
              0.6274509803921569,
              "rgb(236,76,61)"
             ],
             [
              0.6901960784313725,
              "rgb(242,107,73)"
             ],
             [
              0.7529411764705882,
              "rgb(244,135,95)"
             ],
             [
              0.8156862745098039,
              "rgb(245,162,122)"
             ],
             [
              0.8784313725490196,
              "rgb(246,188,153)"
             ],
             [
              0.9411764705882353,
              "rgb(247,212,187)"
             ],
             [
              1,
              "rgb(250,234,220)"
             ]
            ],
            "type": "heatmap"
           }
          ],
          "heatmapgl": [
           {
            "colorbar": {
             "outlinewidth": 0,
             "tickcolor": "rgb(36,36,36)",
             "ticklen": 8,
             "ticks": "outside",
             "tickwidth": 2
            },
            "colorscale": [
             [
              0,
              "rgb(2,4,25)"
             ],
             [
              0.06274509803921569,
              "rgb(24,15,41)"
             ],
             [
              0.12549019607843137,
              "rgb(47,23,57)"
             ],
             [
              0.18823529411764706,
              "rgb(71,28,72)"
             ],
             [
              0.25098039215686274,
              "rgb(97,30,82)"
             ],
             [
              0.3137254901960784,
              "rgb(123,30,89)"
             ],
             [
              0.3764705882352941,
              "rgb(150,27,91)"
             ],
             [
              0.4392156862745098,
              "rgb(177,22,88)"
             ],
             [
              0.5019607843137255,
              "rgb(203,26,79)"
             ],
             [
              0.5647058823529412,
              "rgb(223,47,67)"
             ],
             [
              0.6274509803921569,
              "rgb(236,76,61)"
             ],
             [
              0.6901960784313725,
              "rgb(242,107,73)"
             ],
             [
              0.7529411764705882,
              "rgb(244,135,95)"
             ],
             [
              0.8156862745098039,
              "rgb(245,162,122)"
             ],
             [
              0.8784313725490196,
              "rgb(246,188,153)"
             ],
             [
              0.9411764705882353,
              "rgb(247,212,187)"
             ],
             [
              1,
              "rgb(250,234,220)"
             ]
            ],
            "type": "heatmapgl"
           }
          ],
          "histogram": [
           {
            "marker": {
             "colorbar": {
              "outlinewidth": 0,
              "tickcolor": "rgb(36,36,36)",
              "ticklen": 8,
              "ticks": "outside",
              "tickwidth": 2
             }
            },
            "type": "histogram"
           }
          ],
          "histogram2d": [
           {
            "colorbar": {
             "outlinewidth": 0,
             "tickcolor": "rgb(36,36,36)",
             "ticklen": 8,
             "ticks": "outside",
             "tickwidth": 2
            },
            "colorscale": [
             [
              0,
              "rgb(2,4,25)"
             ],
             [
              0.06274509803921569,
              "rgb(24,15,41)"
             ],
             [
              0.12549019607843137,
              "rgb(47,23,57)"
             ],
             [
              0.18823529411764706,
              "rgb(71,28,72)"
             ],
             [
              0.25098039215686274,
              "rgb(97,30,82)"
             ],
             [
              0.3137254901960784,
              "rgb(123,30,89)"
             ],
             [
              0.3764705882352941,
              "rgb(150,27,91)"
             ],
             [
              0.4392156862745098,
              "rgb(177,22,88)"
             ],
             [
              0.5019607843137255,
              "rgb(203,26,79)"
             ],
             [
              0.5647058823529412,
              "rgb(223,47,67)"
             ],
             [
              0.6274509803921569,
              "rgb(236,76,61)"
             ],
             [
              0.6901960784313725,
              "rgb(242,107,73)"
             ],
             [
              0.7529411764705882,
              "rgb(244,135,95)"
             ],
             [
              0.8156862745098039,
              "rgb(245,162,122)"
             ],
             [
              0.8784313725490196,
              "rgb(246,188,153)"
             ],
             [
              0.9411764705882353,
              "rgb(247,212,187)"
             ],
             [
              1,
              "rgb(250,234,220)"
             ]
            ],
            "type": "histogram2d"
           }
          ],
          "histogram2dcontour": [
           {
            "colorbar": {
             "outlinewidth": 0,
             "tickcolor": "rgb(36,36,36)",
             "ticklen": 8,
             "ticks": "outside",
             "tickwidth": 2
            },
            "colorscale": [
             [
              0,
              "rgb(2,4,25)"
             ],
             [
              0.06274509803921569,
              "rgb(24,15,41)"
             ],
             [
              0.12549019607843137,
              "rgb(47,23,57)"
             ],
             [
              0.18823529411764706,
              "rgb(71,28,72)"
             ],
             [
              0.25098039215686274,
              "rgb(97,30,82)"
             ],
             [
              0.3137254901960784,
              "rgb(123,30,89)"
             ],
             [
              0.3764705882352941,
              "rgb(150,27,91)"
             ],
             [
              0.4392156862745098,
              "rgb(177,22,88)"
             ],
             [
              0.5019607843137255,
              "rgb(203,26,79)"
             ],
             [
              0.5647058823529412,
              "rgb(223,47,67)"
             ],
             [
              0.6274509803921569,
              "rgb(236,76,61)"
             ],
             [
              0.6901960784313725,
              "rgb(242,107,73)"
             ],
             [
              0.7529411764705882,
              "rgb(244,135,95)"
             ],
             [
              0.8156862745098039,
              "rgb(245,162,122)"
             ],
             [
              0.8784313725490196,
              "rgb(246,188,153)"
             ],
             [
              0.9411764705882353,
              "rgb(247,212,187)"
             ],
             [
              1,
              "rgb(250,234,220)"
             ]
            ],
            "type": "histogram2dcontour"
           }
          ],
          "mesh3d": [
           {
            "colorbar": {
             "outlinewidth": 0,
             "tickcolor": "rgb(36,36,36)",
             "ticklen": 8,
             "ticks": "outside",
             "tickwidth": 2
            },
            "type": "mesh3d"
           }
          ],
          "parcoords": [
           {
            "line": {
             "colorbar": {
              "outlinewidth": 0,
              "tickcolor": "rgb(36,36,36)",
              "ticklen": 8,
              "ticks": "outside",
              "tickwidth": 2
             }
            },
            "type": "parcoords"
           }
          ],
          "pie": [
           {
            "automargin": true,
            "type": "pie"
           }
          ],
          "scatter": [
           {
            "marker": {
             "colorbar": {
              "outlinewidth": 0,
              "tickcolor": "rgb(36,36,36)",
              "ticklen": 8,
              "ticks": "outside",
              "tickwidth": 2
             }
            },
            "type": "scatter"
           }
          ],
          "scatter3d": [
           {
            "line": {
             "colorbar": {
              "outlinewidth": 0,
              "tickcolor": "rgb(36,36,36)",
              "ticklen": 8,
              "ticks": "outside",
              "tickwidth": 2
             }
            },
            "marker": {
             "colorbar": {
              "outlinewidth": 0,
              "tickcolor": "rgb(36,36,36)",
              "ticklen": 8,
              "ticks": "outside",
              "tickwidth": 2
             }
            },
            "type": "scatter3d"
           }
          ],
          "scattercarpet": [
           {
            "marker": {
             "colorbar": {
              "outlinewidth": 0,
              "tickcolor": "rgb(36,36,36)",
              "ticklen": 8,
              "ticks": "outside",
              "tickwidth": 2
             }
            },
            "type": "scattercarpet"
           }
          ],
          "scattergeo": [
           {
            "marker": {
             "colorbar": {
              "outlinewidth": 0,
              "tickcolor": "rgb(36,36,36)",
              "ticklen": 8,
              "ticks": "outside",
              "tickwidth": 2
             }
            },
            "type": "scattergeo"
           }
          ],
          "scattergl": [
           {
            "marker": {
             "colorbar": {
              "outlinewidth": 0,
              "tickcolor": "rgb(36,36,36)",
              "ticklen": 8,
              "ticks": "outside",
              "tickwidth": 2
             }
            },
            "type": "scattergl"
           }
          ],
          "scattermapbox": [
           {
            "marker": {
             "colorbar": {
              "outlinewidth": 0,
              "tickcolor": "rgb(36,36,36)",
              "ticklen": 8,
              "ticks": "outside",
              "tickwidth": 2
             }
            },
            "type": "scattermapbox"
           }
          ],
          "scatterpolar": [
           {
            "marker": {
             "colorbar": {
              "outlinewidth": 0,
              "tickcolor": "rgb(36,36,36)",
              "ticklen": 8,
              "ticks": "outside",
              "tickwidth": 2
             }
            },
            "type": "scatterpolar"
           }
          ],
          "scatterpolargl": [
           {
            "marker": {
             "colorbar": {
              "outlinewidth": 0,
              "tickcolor": "rgb(36,36,36)",
              "ticklen": 8,
              "ticks": "outside",
              "tickwidth": 2
             }
            },
            "type": "scatterpolargl"
           }
          ],
          "scatterternary": [
           {
            "marker": {
             "colorbar": {
              "outlinewidth": 0,
              "tickcolor": "rgb(36,36,36)",
              "ticklen": 8,
              "ticks": "outside",
              "tickwidth": 2
             }
            },
            "type": "scatterternary"
           }
          ],
          "surface": [
           {
            "colorbar": {
             "outlinewidth": 0,
             "tickcolor": "rgb(36,36,36)",
             "ticklen": 8,
             "ticks": "outside",
             "tickwidth": 2
            },
            "colorscale": [
             [
              0,
              "rgb(2,4,25)"
             ],
             [
              0.06274509803921569,
              "rgb(24,15,41)"
             ],
             [
              0.12549019607843137,
              "rgb(47,23,57)"
             ],
             [
              0.18823529411764706,
              "rgb(71,28,72)"
             ],
             [
              0.25098039215686274,
              "rgb(97,30,82)"
             ],
             [
              0.3137254901960784,
              "rgb(123,30,89)"
             ],
             [
              0.3764705882352941,
              "rgb(150,27,91)"
             ],
             [
              0.4392156862745098,
              "rgb(177,22,88)"
             ],
             [
              0.5019607843137255,
              "rgb(203,26,79)"
             ],
             [
              0.5647058823529412,
              "rgb(223,47,67)"
             ],
             [
              0.6274509803921569,
              "rgb(236,76,61)"
             ],
             [
              0.6901960784313725,
              "rgb(242,107,73)"
             ],
             [
              0.7529411764705882,
              "rgb(244,135,95)"
             ],
             [
              0.8156862745098039,
              "rgb(245,162,122)"
             ],
             [
              0.8784313725490196,
              "rgb(246,188,153)"
             ],
             [
              0.9411764705882353,
              "rgb(247,212,187)"
             ],
             [
              1,
              "rgb(250,234,220)"
             ]
            ],
            "type": "surface"
           }
          ],
          "table": [
           {
            "cells": {
             "fill": {
              "color": "rgb(231,231,240)"
             },
             "line": {
              "color": "white"
             }
            },
            "header": {
             "fill": {
              "color": "rgb(183,183,191)"
             },
             "line": {
              "color": "white"
             }
            },
            "type": "table"
           }
          ]
         },
         "layout": {
          "annotationdefaults": {
           "arrowcolor": "rgb(67,103,167)"
          },
          "coloraxis": {
           "colorbar": {
            "outlinewidth": 0,
            "tickcolor": "rgb(36,36,36)",
            "ticklen": 8,
            "ticks": "outside",
            "tickwidth": 2
           }
          },
          "colorscale": {
           "sequential": [
            [
             0,
             "rgb(2,4,25)"
            ],
            [
             0.06274509803921569,
             "rgb(24,15,41)"
            ],
            [
             0.12549019607843137,
             "rgb(47,23,57)"
            ],
            [
             0.18823529411764706,
             "rgb(71,28,72)"
            ],
            [
             0.25098039215686274,
             "rgb(97,30,82)"
            ],
            [
             0.3137254901960784,
             "rgb(123,30,89)"
            ],
            [
             0.3764705882352941,
             "rgb(150,27,91)"
            ],
            [
             0.4392156862745098,
             "rgb(177,22,88)"
            ],
            [
             0.5019607843137255,
             "rgb(203,26,79)"
            ],
            [
             0.5647058823529412,
             "rgb(223,47,67)"
            ],
            [
             0.6274509803921569,
             "rgb(236,76,61)"
            ],
            [
             0.6901960784313725,
             "rgb(242,107,73)"
            ],
            [
             0.7529411764705882,
             "rgb(244,135,95)"
            ],
            [
             0.8156862745098039,
             "rgb(245,162,122)"
            ],
            [
             0.8784313725490196,
             "rgb(246,188,153)"
            ],
            [
             0.9411764705882353,
             "rgb(247,212,187)"
            ],
            [
             1,
             "rgb(250,234,220)"
            ]
           ],
           "sequentialminus": [
            [
             0,
             "rgb(2,4,25)"
            ],
            [
             0.06274509803921569,
             "rgb(24,15,41)"
            ],
            [
             0.12549019607843137,
             "rgb(47,23,57)"
            ],
            [
             0.18823529411764706,
             "rgb(71,28,72)"
            ],
            [
             0.25098039215686274,
             "rgb(97,30,82)"
            ],
            [
             0.3137254901960784,
             "rgb(123,30,89)"
            ],
            [
             0.3764705882352941,
             "rgb(150,27,91)"
            ],
            [
             0.4392156862745098,
             "rgb(177,22,88)"
            ],
            [
             0.5019607843137255,
             "rgb(203,26,79)"
            ],
            [
             0.5647058823529412,
             "rgb(223,47,67)"
            ],
            [
             0.6274509803921569,
             "rgb(236,76,61)"
            ],
            [
             0.6901960784313725,
             "rgb(242,107,73)"
            ],
            [
             0.7529411764705882,
             "rgb(244,135,95)"
            ],
            [
             0.8156862745098039,
             "rgb(245,162,122)"
            ],
            [
             0.8784313725490196,
             "rgb(246,188,153)"
            ],
            [
             0.9411764705882353,
             "rgb(247,212,187)"
            ],
            [
             1,
             "rgb(250,234,220)"
            ]
           ]
          },
          "colorway": [
           "rgb(76,114,176)",
           "rgb(221,132,82)",
           "rgb(85,168,104)",
           "rgb(196,78,82)",
           "rgb(129,114,179)",
           "rgb(147,120,96)",
           "rgb(218,139,195)",
           "rgb(140,140,140)",
           "rgb(204,185,116)",
           "rgb(100,181,205)"
          ],
          "font": {
           "color": "rgb(36,36,36)"
          },
          "geo": {
           "bgcolor": "white",
           "lakecolor": "white",
           "landcolor": "rgb(234,234,242)",
           "showlakes": true,
           "showland": true,
           "subunitcolor": "white"
          },
          "hoverlabel": {
           "align": "left"
          },
          "hovermode": "closest",
          "paper_bgcolor": "white",
          "plot_bgcolor": "rgb(234,234,242)",
          "polar": {
           "angularaxis": {
            "gridcolor": "white",
            "linecolor": "white",
            "showgrid": true,
            "ticks": ""
           },
           "bgcolor": "rgb(234,234,242)",
           "radialaxis": {
            "gridcolor": "white",
            "linecolor": "white",
            "showgrid": true,
            "ticks": ""
           }
          },
          "scene": {
           "xaxis": {
            "backgroundcolor": "rgb(234,234,242)",
            "gridcolor": "white",
            "gridwidth": 2,
            "linecolor": "white",
            "showbackground": true,
            "showgrid": true,
            "ticks": "",
            "zerolinecolor": "white"
           },
           "yaxis": {
            "backgroundcolor": "rgb(234,234,242)",
            "gridcolor": "white",
            "gridwidth": 2,
            "linecolor": "white",
            "showbackground": true,
            "showgrid": true,
            "ticks": "",
            "zerolinecolor": "white"
           },
           "zaxis": {
            "backgroundcolor": "rgb(234,234,242)",
            "gridcolor": "white",
            "gridwidth": 2,
            "linecolor": "white",
            "showbackground": true,
            "showgrid": true,
            "ticks": "",
            "zerolinecolor": "white"
           }
          },
          "shapedefaults": {
           "fillcolor": "rgb(67,103,167)",
           "line": {
            "width": 0
           },
           "opacity": 0.5
          },
          "ternary": {
           "aaxis": {
            "gridcolor": "white",
            "linecolor": "white",
            "showgrid": true,
            "ticks": ""
           },
           "baxis": {
            "gridcolor": "white",
            "linecolor": "white",
            "showgrid": true,
            "ticks": ""
           },
           "bgcolor": "rgb(234,234,242)",
           "caxis": {
            "gridcolor": "white",
            "linecolor": "white",
            "showgrid": true,
            "ticks": ""
           }
          },
          "xaxis": {
           "automargin": true,
           "gridcolor": "white",
           "linecolor": "white",
           "showgrid": true,
           "ticks": "",
           "title": {
            "standoff": 15
           },
           "zerolinecolor": "white"
          },
          "yaxis": {
           "automargin": true,
           "gridcolor": "white",
           "linecolor": "white",
           "showgrid": true,
           "ticks": "",
           "title": {
            "standoff": 15
           },
           "zerolinecolor": "white"
          }
         }
        },
        "title": {
         "text": "<b>Free energy diagram"
        },
        "width": 800,
        "xaxis": {
         "anchor": "y",
         "domain": [
          0,
          1
         ],
         "title": {
          "font": {
           "size": 25
          },
          "text": "Reaction Coordinate"
         }
        },
        "yaxis": {
         "anchor": "x",
         "domain": [
          0,
          1
         ],
         "title": {
          "font": {
           "size": 25
          },
          "text": "DG_eV"
         }
        }
       }
      },
      "text/html": [
       "<div>                            <div id=\"b9d11e84-412f-44dd-9df9-9dfef3e4bf90\" class=\"plotly-graph-div\" style=\"height:600px; width:800px;\"></div>            <script type=\"text/javascript\">                require([\"plotly\"], function(Plotly) {                    window.PLOTLYENV=window.PLOTLYENV || {};                                    if (document.getElementById(\"b9d11e84-412f-44dd-9df9-9dfef3e4bf90\")) {                    Plotly.newPlot(                        \"b9d11e84-412f-44dd-9df9-9dfef3e4bf90\",                        [{\"name\": \"SrTcO3\", \"type\": \"scatter\", \"x\": [0, 1, 1, 2, 2, 3, 3, 4, 4, 5], \"xaxis\": \"x\", \"y\": [0, 0, -0.782, -0.782, -0.707, -0.707, 2.481, 2.481, 4.92, 4.92], \"yaxis\": \"y\"}, {\"name\": \"BaFeO3\", \"type\": \"scatter\", \"x\": [0, 1, 1, 2, 2, 3, 3, 4, 4, 5], \"xaxis\": \"x\", \"y\": [0, 0, 2.024, 2.024, 4.452, 4.452, 4.917, 4.917, 4.92, 4.92], \"yaxis\": \"y\"}, {\"name\": \"BaMoO3\", \"type\": \"scatter\", \"x\": [0, 1, 1, 2, 2, 3, 3, 4, 4, 5], \"xaxis\": \"x\", \"y\": [0, 0, -0.302, -0.302, -0.853, -0.853, 3.019, 3.019, 4.92, 4.92], \"yaxis\": \"y\"}, {\"name\": \"KTaO3\", \"type\": \"scatter\", \"x\": [0, 1, 1, 2, 2, 3, 3, 4, 4, 5], \"xaxis\": \"x\", \"y\": [0, 0, -1.001, -1.001, -0.614, -0.614, 2.575, 2.575, 4.92, 4.92], \"yaxis\": \"y\"}, {\"name\": \"BaZrO3\", \"type\": \"scatter\", \"x\": [0, 1, 1, 2, 2, 3, 3, 4, 4, 5], \"xaxis\": \"x\", \"y\": [0, 0, 1.29, 1.29, 4.143, 4.143, 4.706, 4.706, 4.92, 4.92], \"yaxis\": \"y\"}, {\"name\": \"SrFeO3\", \"type\": \"scatter\", \"x\": [0, 1, 1, 2, 2, 3, 3, 4, 4, 5], \"xaxis\": \"x\", \"y\": [0, 0, 2.026, 2.026, 4.606, 4.606, 4.94, 4.94, 4.92, 4.92], \"yaxis\": \"y\"}, {\"name\": \"KTcO3\", \"type\": \"scatter\", \"x\": [0, 1, 1, 2, 2, 3, 3, 4, 4, 5], \"xaxis\": \"x\", \"y\": [0, 0, 0.04, 0.04, 0.446, 0.446, 3.231, 3.231, 4.92, 4.92], \"yaxis\": \"y\"}, {\"name\": \"NaTcO3\", \"type\": \"scatter\", \"x\": [0, 1, 1, 2, 2, 3, 3, 4, 4, 5], \"xaxis\": \"x\", \"y\": [0, 0, -0.067, -0.067, 0.301, 0.301, 3.149, 3.149, 4.92, 4.92], \"yaxis\": \"y\"}, {\"name\": \"BaHfO3\", \"type\": \"scatter\", \"x\": [0, 1, 1, 2, 2, 3, 3, 4, 4, 5], \"xaxis\": \"x\", \"y\": [0, 0, 1.191, 1.191, 4.023, 4.023, 4.537, 4.537, 4.92, 4.92], \"yaxis\": \"y\"}, {\"name\": \"SrTiO3\", \"type\": \"scatter\", \"x\": [0, 1, 1, 2, 2, 3, 3, 4, 4, 5], \"xaxis\": \"x\", \"y\": [0, 0, 1.276, 1.276, 3.889, 3.889, 4.632, 4.632, 4.92, 4.92], \"yaxis\": \"y\"}, {\"name\": \"SrCuO3\", \"type\": \"scatter\", \"x\": [0, 1, 1, 2, 2, 3, 3, 4, 4, 5], \"xaxis\": \"x\", \"y\": [0, 0, 2.007, 2.007, 4.23, 4.23, 5.007, 5.007, 4.92, 4.92], \"yaxis\": \"y\"}, {\"name\": \"KNbO3\", \"type\": \"scatter\", \"x\": [0, 1, 1, 2, 2, 3, 3, 4, 4, 5], \"xaxis\": \"x\", \"y\": [0, 0, -0.217, -0.217, 0.465, 0.465, 3.298, 3.298, 4.92, 4.92], \"yaxis\": \"y\"}, {\"name\": \"NaTaO3\", \"type\": \"scatter\", \"x\": [0, 1, 1, 2, 2, 3, 3, 4, 4, 5], \"xaxis\": \"x\", \"y\": [0, 0, -1.129, -1.129, -0.899, -0.899, 2.423, 2.423, 4.92, 4.92], \"yaxis\": \"y\"}, {\"name\": \"BaScO3\", \"type\": \"scatter\", \"x\": [0, 1, 1, 2, 2, 3, 3, 4, 4, 5], \"xaxis\": \"x\", \"y\": [0, 0, 2.147, 2.147, 4.7, 4.7, 4.977, 4.977, 4.92, 4.92], \"yaxis\": \"y\"}, {\"name\": \"BaPdO3\", \"type\": \"scatter\", \"x\": [0, 1, 1, 2, 2, 3, 3, 4, 4, 5], \"xaxis\": \"x\", \"y\": [0, 0, 1.7, 1.7, 3.455, 3.455, 4.665, 4.665, 4.92, 4.92], \"yaxis\": \"y\"}, {\"name\": \"SrHfO3\", \"type\": \"scatter\", \"x\": [0, 1, 1, 2, 2, 3, 3, 4, 4, 5], \"xaxis\": \"x\", \"y\": [0, 0, 1.081, 1.081, 3.952, 3.952, 4.46, 4.46, 4.92, 4.92], \"yaxis\": \"y\"}, {\"name\": \"NaOsO3\", \"type\": \"scatter\", \"x\": [0, 1, 1, 2, 2, 3, 3, 4, 4, 5], \"xaxis\": \"x\", \"y\": [0, 0, -0.354, -0.354, 0.577, 0.577, 3.103, 3.103, 4.92, 4.92], \"yaxis\": \"y\"}, {\"name\": \"TlTcO3\", \"type\": \"scatter\", \"x\": [0, 1, 1, 2, 2, 3, 3, 4, 4, 5], \"xaxis\": \"x\", \"y\": [0, 0, -0.031, -0.031, 0.313, 0.313, 3.1, 3.1, 4.92, 4.92], \"yaxis\": \"y\"}, {\"name\": \"KReO3\", \"type\": \"scatter\", \"x\": [0, 1, 1, 2, 2, 3, 3, 4, 4, 5], \"xaxis\": \"x\", \"y\": [0, 0, -0.733, -0.733, -0.544, -0.544, 2.539, 2.539, 4.92, 4.92], \"yaxis\": \"y\"}, {\"name\": \"SrRuO3\", \"type\": \"scatter\", \"x\": [0, 1, 1, 2, 2, 3, 3, 4, 4, 5], \"xaxis\": \"x\", \"y\": [0, 0, 0.26, 0.26, 0.96, 0.96, 3.406, 3.406, 4.92, 4.92], \"yaxis\": \"y\"}, {\"name\": \"KHfO3\", \"type\": \"scatter\", \"x\": [0, 1, 1, 2, 2, 3, 3, 4, 4, 5], \"xaxis\": \"x\", \"y\": [0, 0, 1.946, 1.946, 4.407, 4.407, 4.806, 4.806, 4.92, 4.92], \"yaxis\": \"y\"}, {\"name\": \"SrVO3\", \"type\": \"scatter\", \"x\": [0, 1, 1, 2, 2, 3, 3, 4, 4, 5], \"xaxis\": \"x\", \"y\": [0, 0, -0.191, -0.191, 0.516, 0.516, 3.026, 3.026, 4.92, 4.92], \"yaxis\": \"y\"}, {\"name\": \"KOsO3\", \"type\": \"scatter\", \"x\": [0, 1, 1, 2, 2, 3, 3, 4, 4, 5], \"xaxis\": \"x\", \"y\": [0, 0, -0.464, -0.464, 0.699, 0.699, 2.802, 2.802, 4.92, 4.92], \"yaxis\": \"y\"}, {\"name\": \"TaAgO3\", \"type\": \"scatter\", \"x\": [0, 1, 1, 2, 2, 3, 3, 4, 4, 5], \"xaxis\": \"x\", \"y\": [0, 0, -1.056, -1.056, -0.969, -0.969, 2.512, 2.512, 4.92, 4.92], \"yaxis\": \"y\"}, {\"name\": \"SrNiO3\", \"type\": \"scatter\", \"x\": [0, 1, 1, 2, 2, 3, 3, 4, 4, 5], \"xaxis\": \"x\", \"y\": [0, 0, 3.474, 3.474, 4.437, 4.437, 4.641, 4.641, 4.92, 4.92], \"yaxis\": \"y\"}, {\"name\": \"RbIrO3\", \"type\": \"scatter\", \"x\": [0, 1, 1, 2, 2, 3, 3, 4, 4, 5], \"xaxis\": \"x\", \"y\": [0, 0, 0.976, 0.976, 2.415, 2.415, 4.135, 4.135, 4.92, 4.92], \"yaxis\": \"y\"}, {\"name\": \"NaReO3\", \"type\": \"scatter\", \"x\": [0, 1, 1, 2, 2, 3, 3, 4, 4, 5], \"xaxis\": \"x\", \"y\": [0, 0, -0.831, -0.831, -0.697, -0.697, 2.449, 2.449, 4.92, 4.92], \"yaxis\": \"y\"}, {\"name\": \"SrMnO3\", \"type\": \"scatter\", \"x\": [0, 1, 1, 2, 2, 3, 3, 4, 4, 5], \"xaxis\": \"x\", \"y\": [0, 0, 2.548, 2.548, 4.648, 4.648, 5.509, 5.509, 4.92, 4.92], \"yaxis\": \"y\"}, {\"name\": \"CaFeO3\", \"type\": \"scatter\", \"x\": [0, 1, 1, 2, 2, 3, 3, 4, 4, 5], \"xaxis\": \"x\", \"y\": [0, 0, 1.927, 1.927, 4.277, 4.277, 4.926, 4.926, 4.92, 4.92], \"yaxis\": \"y\"}, {\"name\": \"SrZrO3\", \"type\": \"scatter\", \"x\": [0, 1, 1, 2, 2, 3, 3, 4, 4, 5], \"xaxis\": \"x\", \"y\": [0, 0, 1.151, 1.151, 4.034, 4.034, 4.537, 4.537, 4.92, 4.92], \"yaxis\": \"y\"}, {\"name\": \"RbTaO3\", \"type\": \"scatter\", \"x\": [0, 1, 1, 2, 2, 3, 3, 4, 4, 5], \"xaxis\": \"x\", \"y\": [0, 0, -0.997, -0.997, -0.617, -0.617, 2.619, 2.619, 4.92, 4.92], \"yaxis\": \"y\"}, {\"name\": \"SrCoO3\", \"type\": \"scatter\", \"x\": [0, 1, 1, 2, 2, 3, 3, 4, 4, 5], \"xaxis\": \"x\", \"y\": [0, 0, 1.163, 1.163, 3.136, 3.136, 4.261, 4.261, 4.92, 4.92], \"yaxis\": \"y\"}, {\"name\": \"KZrO3\", \"type\": \"scatter\", \"x\": [0, 1, 1, 2, 2, 3, 3, 4, 4, 5], \"xaxis\": \"x\", \"y\": [0, 0, 2.007, 2.007, 4.516, 4.516, 4.825, 4.825, 4.92, 4.92], \"yaxis\": \"y\"}, {\"name\": \"CaTiO3\", \"type\": \"scatter\", \"x\": [0, 1, 1, 2, 2, 3, 3, 4, 4, 5], \"xaxis\": \"x\", \"y\": [0, 0, 1.263, 1.263, 3.911, 3.911, 4.692, 4.692, 4.92, 4.92], \"yaxis\": \"y\"}, {\"name\": \"NaRuO3\", \"type\": \"scatter\", \"x\": [0, 1, 1, 2, 2, 3, 3, 4, 4, 5], \"xaxis\": \"x\", \"y\": [0, 0, 0.746, 0.746, 1.871, 1.871, 3.804, 3.804, 4.92, 4.92], \"yaxis\": \"y\"}, {\"name\": \"LiTcO3\", \"type\": \"scatter\", \"x\": [0, 1, 1, 2, 2, 3, 3, 4, 4, 5], \"xaxis\": \"x\", \"y\": [0, 0, 0.152, 0.152, 0.621, 0.621, 3.351, 3.351, 4.92, 4.92], \"yaxis\": \"y\"}, {\"name\": \"SrPdO3\", \"type\": \"scatter\", \"x\": [0, 1, 1, 2, 2, 3, 3, 4, 4, 5], \"xaxis\": \"x\", \"y\": [0, 0, 0.899, 0.899, 3.176, 3.176, 3.741, 3.741, 4.92, 4.92], \"yaxis\": \"y\"}, {\"name\": \"KWO3\", \"type\": \"scatter\", \"x\": [0, 1, 1, 2, 2, 3, 3, 4, 4, 5], \"xaxis\": \"x\", \"y\": [0, 0, -1.124, -1.124, -1.2, -1.2, 2.067, 2.067, 4.92, 4.92], \"yaxis\": \"y\"}, {\"name\": \"KRhO3\", \"type\": \"scatter\", \"x\": [0, 1, 1, 2, 2, 3, 3, 4, 4, 5], \"xaxis\": \"x\", \"y\": [0, 0, 1.568, 1.568, 3.321, 3.321, 4.504, 4.504, 4.92, 4.92], \"yaxis\": \"y\"}, {\"name\": \"BaCuO3\", \"type\": \"scatter\", \"x\": [0, 1, 1, 2, 2, 3, 3, 4, 4, 5], \"xaxis\": \"x\", \"y\": [0, 0, 1.821, 1.821, 3.95, 3.95, 4.755, 4.755, 4.92, 4.92], \"yaxis\": \"y\"}, {\"name\": \"RbNbO3\", \"type\": \"scatter\", \"x\": [0, 1, 1, 2, 2, 3, 3, 4, 4, 5], \"xaxis\": \"x\", \"y\": [0, 0, -0.344, -0.344, 0.282, 0.282, 3.187, 3.187, 4.92, 4.92], \"yaxis\": \"y\"}, {\"name\": \"BaOsO3\", \"type\": \"scatter\", \"x\": [0, 1, 1, 2, 2, 3, 3, 4, 4, 5], \"xaxis\": \"x\", \"y\": [0, 0, -1.484, -1.484, -0.728, -0.728, 2.141, 2.141, 4.92, 4.92], \"yaxis\": \"y\"}, {\"name\": \"BaRuO3\", \"type\": \"scatter\", \"x\": [0, 1, 1, 2, 2, 3, 3, 4, 4, 5], \"xaxis\": \"x\", \"y\": [0, 0, 0.446, 0.446, 1.303, 1.303, 3.513, 3.513, 4.92, 4.92], \"yaxis\": \"y\"}, {\"name\": \"KRuO3\", \"type\": \"scatter\", \"x\": [0, 1, 1, 2, 2, 3, 3, 4, 4, 5], \"xaxis\": \"x\", \"y\": [0, 0, 0.83, 0.83, 2.006, 2.006, 3.972, 3.972, 4.92, 4.92], \"yaxis\": \"y\"}, {\"name\": \"SrMoO3\", \"type\": \"scatter\", \"x\": [0, 1, 1, 2, 2, 3, 3, 4, 4, 5], \"xaxis\": \"x\", \"y\": [0, 0, -1.13, -1.13, -1.375, -1.375, 2.216, 2.216, 4.92, 4.92], \"yaxis\": \"y\"}, {\"name\": \"NaTiO3\", \"type\": \"scatter\", \"x\": [0, 1, 1, 2, 2, 3, 3, 4, 4, 5], \"xaxis\": \"x\", \"y\": [0, 0, 2.205, 2.205, 4.568, 4.568, 4.918, 4.918, 4.92, 4.92], \"yaxis\": \"y\"}, {\"name\": \"SrScO3\", \"type\": \"scatter\", \"x\": [0, 1, 1, 2, 2, 3, 3, 4, 4, 5], \"xaxis\": \"x\", \"y\": [0, 0, 2.146, 2.146, 4.677, 4.677, 4.963, 4.963, 4.92, 4.92], \"yaxis\": \"y\"}, {\"name\": \"SrRhO3\", \"type\": \"scatter\", \"x\": [0, 1, 1, 2, 2, 3, 3, 4, 4, 5], \"xaxis\": \"x\", \"y\": [0, 0, 0.499, 0.499, 2.151, 2.151, 3.496, 3.496, 4.92, 4.92], \"yaxis\": \"y\"}, {\"name\": \"NaMoO3\", \"type\": \"scatter\", \"x\": [0, 1, 1, 2, 2, 3, 3, 4, 4, 5], \"xaxis\": \"x\", \"y\": [0, 0, -0.415, -0.415, -0.665, -0.665, 2.624, 2.624, 4.92, 4.92], \"yaxis\": \"y\"}, {\"name\": \"BaRhO3\", \"type\": \"scatter\", \"x\": [0, 1, 1, 2, 2, 3, 3, 4, 4, 5], \"xaxis\": \"x\", \"y\": [0, 0, 1.086, 1.086, 2.461, 2.461, 4.115, 4.115, 4.92, 4.92], \"yaxis\": \"y\"}, {\"name\": \"BaPtO3\", \"type\": \"scatter\", \"x\": [0, 1, 1, 2, 2, 3, 3, 4, 4, 5], \"xaxis\": \"x\", \"y\": [0, 0, 1.101, 1.101, 2.56, 2.56, 4.159, 4.159, 4.92, 4.92], \"yaxis\": \"y\"}, {\"name\": \"CaVO3\", \"type\": \"scatter\", \"x\": [0, 1, 1, 2, 2, 3, 3, 4, 4, 5], \"xaxis\": \"x\", \"y\": [0, 0, -0.181, -0.181, 0.389, 0.389, 3.376, 3.376, 4.92, 4.92], \"yaxis\": \"y\"}, {\"name\": \"KMoO3\", \"type\": \"scatter\", \"x\": [0, 1, 1, 2, 2, 3, 3, 4, 4, 5], \"xaxis\": \"x\", \"y\": [0, 0, -0.558, -0.558, -0.412, -0.412, 2.632, 2.632, 4.92, 4.92], \"yaxis\": \"y\"}, {\"name\": \"SrCrO3\", \"type\": \"scatter\", \"x\": [0, 1, 1, 2, 2, 3, 3, 4, 4, 5], \"xaxis\": \"x\", \"y\": [0, 0, 0.646, 0.646, 2.046, 2.046, 3.829, 3.829, 4.92, 4.92], \"yaxis\": \"y\"}, {\"name\": \"RbRhO3\", \"type\": \"scatter\", \"x\": [0, 1, 1, 2, 2, 3, 3, 4, 4, 5], \"xaxis\": \"x\", \"y\": [0, 0, 1.29, 1.29, 3.2, 3.2, 4.069, 4.069, 4.92, 4.92], \"yaxis\": \"y\"}, {\"name\": \"BaVO3\", \"type\": \"scatter\", \"x\": [0, 1, 1, 2, 2, 3, 3, 4, 4, 5], \"xaxis\": \"x\", \"y\": [0, 0, -0.474, -0.474, 0.504, 0.504, 3.366, 3.366, 4.92, 4.92], \"yaxis\": \"y\"}, {\"name\": \"CaCoO3\", \"type\": \"scatter\", \"x\": [0, 1, 1, 2, 2, 3, 3, 4, 4, 5], \"xaxis\": \"x\", \"y\": [0, 0, 1.636, 1.636, 3.425, 3.425, 4.683, 4.683, 4.92, 4.92], \"yaxis\": \"y\"}, {\"name\": \"CaMnO3\", \"type\": \"scatter\", \"x\": [0, 1, 1, 2, 2, 3, 3, 4, 4, 5], \"xaxis\": \"x\", \"y\": [0, 0, 1.408, 1.408, 4.289, 4.289, 4.967, 4.967, 4.92, 4.92], \"yaxis\": \"y\"}, {\"name\": \"KPtO3\", \"type\": \"scatter\", \"x\": [0, 1, 1, 2, 2, 3, 3, 4, 4, 5], \"xaxis\": \"x\", \"y\": [0, 0, 1.292, 1.292, 2.948, 2.948, 4.28, 4.28, 4.92, 4.92], \"yaxis\": \"y\"}, {\"name\": \"BaNiO3\", \"type\": \"scatter\", \"x\": [0, 1, 1, 2, 2, 3, 3, 4, 4, 5], \"xaxis\": \"x\", \"y\": [0, 0, 2.267, 2.267, 4.41, 4.41, 4.943, 4.943, 4.92, 4.92], \"yaxis\": \"y\"}, {\"name\": \"BaMnO3\", \"type\": \"scatter\", \"x\": [0, 1, 1, 2, 2, 3, 3, 4, 4, 5], \"xaxis\": \"x\", \"y\": [0, 0, 1.655, 1.655, 2.943, 2.943, 4.914, 4.914, 4.92, 4.92], \"yaxis\": \"y\"}, {\"name\": \"SrIrO3\", \"type\": \"scatter\", \"x\": [0, 1, 1, 2, 2, 3, 3, 4, 4, 5], \"xaxis\": \"x\", \"y\": [0, 0, 0.424, 0.424, 1.673, 1.673, 3.546, 3.546, 4.92, 4.92], \"yaxis\": \"y\"}, {\"name\": \"NaVO3\", \"type\": \"scatter\", \"x\": [0, 1, 1, 2, 2, 3, 3, 4, 4, 5], \"xaxis\": \"x\", \"y\": [0, 0, 0.52, 0.52, 1.743, 1.743, 3.911, 3.911, 4.92, 4.92], \"yaxis\": \"y\"}, {\"name\": \"NaFeO3\", \"type\": \"scatter\", \"x\": [0, 1, 1, 2, 2, 3, 3, 4, 4, 5], \"xaxis\": \"x\", \"y\": [0, 0, 2.325, 2.325, 4.625, 4.625, 5.028, 5.028, 4.92, 4.92], \"yaxis\": \"y\"}, {\"name\": \"BaIrO3\", \"type\": \"scatter\", \"x\": [0, 1, 1, 2, 2, 3, 3, 4, 4, 5], \"xaxis\": \"x\", \"y\": [0, 0, 0.646, 0.646, 1.989, 1.989, 3.828, 3.828, 4.92, 4.92], \"yaxis\": \"y\"}, {\"name\": \"RbReO3\", \"type\": \"scatter\", \"x\": [0, 1, 1, 2, 2, 3, 3, 4, 4, 5], \"xaxis\": \"x\", \"y\": [0, 0, -0.678, -0.678, -0.492, -0.492, 2.581, 2.581, 4.92, 4.92], \"yaxis\": \"y\"}, {\"name\": \"CaRuO3\", \"type\": \"scatter\", \"x\": [0, 1, 1, 2, 2, 3, 3, 4, 4, 5], \"xaxis\": \"x\", \"y\": [0, 0, -0.363, -0.363, 0.68, 0.68, 2.514, 2.514, 4.92, 4.92], \"yaxis\": \"y\"}, {\"name\": \"RbPdO3\", \"type\": \"scatter\", \"x\": [0, 1, 1, 2, 2, 3, 3, 4, 4, 5], \"xaxis\": \"x\", \"y\": [0, 0, 1.313, 1.313, 3.183, 3.183, 4.231, 4.231, 4.92, 4.92], \"yaxis\": \"y\"}, {\"name\": \"CaHfO3\", \"type\": \"scatter\", \"x\": [0, 1, 1, 2, 2, 3, 3, 4, 4, 5], \"xaxis\": \"x\", \"y\": [0, 0, 0.619, 0.619, 3.642, 3.642, 3.86, 3.86, 4.92, 4.92], \"yaxis\": \"y\"}, {\"name\": \"TlWO3\", \"type\": \"scatter\", \"x\": [0, 1, 1, 2, 2, 3, 3, 4, 4, 5], \"xaxis\": \"x\", \"y\": [0, 0, -1.407, -1.407, -0.904, -0.904, 2.157, 2.157, 4.92, 4.92], \"yaxis\": \"y\"}, {\"name\": \"RbPtO3\", \"type\": \"scatter\", \"x\": [0, 1, 1, 2, 2, 3, 3, 4, 4, 5], \"xaxis\": \"x\", \"y\": [0, 0, 1.034, 1.034, 2.727, 2.727, 4.02, 4.02, 4.92, 4.92], \"yaxis\": \"y\"}],                        {\"height\": 600, \"legend\": {\"y\": 0.95, \"yanchor\": \"top\"}, \"template\": {\"data\": {\"bar\": [{\"error_x\": {\"color\": \"rgb(36,36,36)\"}, \"error_y\": {\"color\": \"rgb(36,36,36)\"}, \"marker\": {\"line\": {\"color\": \"rgb(234,234,242)\", \"width\": 0.5}}, \"type\": \"bar\"}], \"barpolar\": [{\"marker\": {\"line\": {\"color\": \"rgb(234,234,242)\", \"width\": 0.5}}, \"type\": \"barpolar\"}], \"carpet\": [{\"aaxis\": {\"endlinecolor\": \"rgb(36,36,36)\", \"gridcolor\": \"white\", \"linecolor\": \"white\", \"minorgridcolor\": \"white\", \"startlinecolor\": \"rgb(36,36,36)\"}, \"baxis\": {\"endlinecolor\": \"rgb(36,36,36)\", \"gridcolor\": \"white\", \"linecolor\": \"white\", \"minorgridcolor\": \"white\", \"startlinecolor\": \"rgb(36,36,36)\"}, \"type\": \"carpet\"}], \"choropleth\": [{\"colorbar\": {\"outlinewidth\": 0, \"tickcolor\": \"rgb(36,36,36)\", \"ticklen\": 8, \"ticks\": \"outside\", \"tickwidth\": 2}, \"type\": \"choropleth\"}], \"contour\": [{\"colorbar\": {\"outlinewidth\": 0, \"tickcolor\": \"rgb(36,36,36)\", \"ticklen\": 8, \"ticks\": \"outside\", \"tickwidth\": 2}, \"colorscale\": [[0.0, \"rgb(2,4,25)\"], [0.06274509803921569, \"rgb(24,15,41)\"], [0.12549019607843137, \"rgb(47,23,57)\"], [0.18823529411764706, \"rgb(71,28,72)\"], [0.25098039215686274, \"rgb(97,30,82)\"], [0.3137254901960784, \"rgb(123,30,89)\"], [0.3764705882352941, \"rgb(150,27,91)\"], [0.4392156862745098, \"rgb(177,22,88)\"], [0.5019607843137255, \"rgb(203,26,79)\"], [0.5647058823529412, \"rgb(223,47,67)\"], [0.6274509803921569, \"rgb(236,76,61)\"], [0.6901960784313725, \"rgb(242,107,73)\"], [0.7529411764705882, \"rgb(244,135,95)\"], [0.8156862745098039, \"rgb(245,162,122)\"], [0.8784313725490196, \"rgb(246,188,153)\"], [0.9411764705882353, \"rgb(247,212,187)\"], [1.0, \"rgb(250,234,220)\"]], \"type\": \"contour\"}], \"contourcarpet\": [{\"colorbar\": {\"outlinewidth\": 0, \"tickcolor\": \"rgb(36,36,36)\", \"ticklen\": 8, \"ticks\": \"outside\", \"tickwidth\": 2}, \"type\": \"contourcarpet\"}], \"heatmap\": [{\"colorbar\": {\"outlinewidth\": 0, \"tickcolor\": \"rgb(36,36,36)\", \"ticklen\": 8, \"ticks\": \"outside\", \"tickwidth\": 2}, \"colorscale\": [[0.0, \"rgb(2,4,25)\"], [0.06274509803921569, \"rgb(24,15,41)\"], [0.12549019607843137, \"rgb(47,23,57)\"], [0.18823529411764706, \"rgb(71,28,72)\"], [0.25098039215686274, \"rgb(97,30,82)\"], [0.3137254901960784, \"rgb(123,30,89)\"], [0.3764705882352941, \"rgb(150,27,91)\"], [0.4392156862745098, \"rgb(177,22,88)\"], [0.5019607843137255, \"rgb(203,26,79)\"], [0.5647058823529412, \"rgb(223,47,67)\"], [0.6274509803921569, \"rgb(236,76,61)\"], [0.6901960784313725, \"rgb(242,107,73)\"], [0.7529411764705882, \"rgb(244,135,95)\"], [0.8156862745098039, \"rgb(245,162,122)\"], [0.8784313725490196, \"rgb(246,188,153)\"], [0.9411764705882353, \"rgb(247,212,187)\"], [1.0, \"rgb(250,234,220)\"]], \"type\": \"heatmap\"}], \"heatmapgl\": [{\"colorbar\": {\"outlinewidth\": 0, \"tickcolor\": \"rgb(36,36,36)\", \"ticklen\": 8, \"ticks\": \"outside\", \"tickwidth\": 2}, \"colorscale\": [[0.0, \"rgb(2,4,25)\"], [0.06274509803921569, \"rgb(24,15,41)\"], [0.12549019607843137, \"rgb(47,23,57)\"], [0.18823529411764706, \"rgb(71,28,72)\"], [0.25098039215686274, \"rgb(97,30,82)\"], [0.3137254901960784, \"rgb(123,30,89)\"], [0.3764705882352941, \"rgb(150,27,91)\"], [0.4392156862745098, \"rgb(177,22,88)\"], [0.5019607843137255, \"rgb(203,26,79)\"], [0.5647058823529412, \"rgb(223,47,67)\"], [0.6274509803921569, \"rgb(236,76,61)\"], [0.6901960784313725, \"rgb(242,107,73)\"], [0.7529411764705882, \"rgb(244,135,95)\"], [0.8156862745098039, \"rgb(245,162,122)\"], [0.8784313725490196, \"rgb(246,188,153)\"], [0.9411764705882353, \"rgb(247,212,187)\"], [1.0, \"rgb(250,234,220)\"]], \"type\": \"heatmapgl\"}], \"histogram\": [{\"marker\": {\"colorbar\": {\"outlinewidth\": 0, \"tickcolor\": \"rgb(36,36,36)\", \"ticklen\": 8, \"ticks\": \"outside\", \"tickwidth\": 2}}, \"type\": \"histogram\"}], \"histogram2d\": [{\"colorbar\": {\"outlinewidth\": 0, \"tickcolor\": \"rgb(36,36,36)\", \"ticklen\": 8, \"ticks\": \"outside\", \"tickwidth\": 2}, \"colorscale\": [[0.0, \"rgb(2,4,25)\"], [0.06274509803921569, \"rgb(24,15,41)\"], [0.12549019607843137, \"rgb(47,23,57)\"], [0.18823529411764706, \"rgb(71,28,72)\"], [0.25098039215686274, \"rgb(97,30,82)\"], [0.3137254901960784, \"rgb(123,30,89)\"], [0.3764705882352941, \"rgb(150,27,91)\"], [0.4392156862745098, \"rgb(177,22,88)\"], [0.5019607843137255, \"rgb(203,26,79)\"], [0.5647058823529412, \"rgb(223,47,67)\"], [0.6274509803921569, \"rgb(236,76,61)\"], [0.6901960784313725, \"rgb(242,107,73)\"], [0.7529411764705882, \"rgb(244,135,95)\"], [0.8156862745098039, \"rgb(245,162,122)\"], [0.8784313725490196, \"rgb(246,188,153)\"], [0.9411764705882353, \"rgb(247,212,187)\"], [1.0, \"rgb(250,234,220)\"]], \"type\": \"histogram2d\"}], \"histogram2dcontour\": [{\"colorbar\": {\"outlinewidth\": 0, \"tickcolor\": \"rgb(36,36,36)\", \"ticklen\": 8, \"ticks\": \"outside\", \"tickwidth\": 2}, \"colorscale\": [[0.0, \"rgb(2,4,25)\"], [0.06274509803921569, \"rgb(24,15,41)\"], [0.12549019607843137, \"rgb(47,23,57)\"], [0.18823529411764706, \"rgb(71,28,72)\"], [0.25098039215686274, \"rgb(97,30,82)\"], [0.3137254901960784, \"rgb(123,30,89)\"], [0.3764705882352941, \"rgb(150,27,91)\"], [0.4392156862745098, \"rgb(177,22,88)\"], [0.5019607843137255, \"rgb(203,26,79)\"], [0.5647058823529412, \"rgb(223,47,67)\"], [0.6274509803921569, \"rgb(236,76,61)\"], [0.6901960784313725, \"rgb(242,107,73)\"], [0.7529411764705882, \"rgb(244,135,95)\"], [0.8156862745098039, \"rgb(245,162,122)\"], [0.8784313725490196, \"rgb(246,188,153)\"], [0.9411764705882353, \"rgb(247,212,187)\"], [1.0, \"rgb(250,234,220)\"]], \"type\": \"histogram2dcontour\"}], \"mesh3d\": [{\"colorbar\": {\"outlinewidth\": 0, \"tickcolor\": \"rgb(36,36,36)\", \"ticklen\": 8, \"ticks\": \"outside\", \"tickwidth\": 2}, \"type\": \"mesh3d\"}], \"parcoords\": [{\"line\": {\"colorbar\": {\"outlinewidth\": 0, \"tickcolor\": \"rgb(36,36,36)\", \"ticklen\": 8, \"ticks\": \"outside\", \"tickwidth\": 2}}, \"type\": \"parcoords\"}], \"pie\": [{\"automargin\": true, \"type\": \"pie\"}], \"scatter\": [{\"marker\": {\"colorbar\": {\"outlinewidth\": 0, \"tickcolor\": \"rgb(36,36,36)\", \"ticklen\": 8, \"ticks\": \"outside\", \"tickwidth\": 2}}, \"type\": \"scatter\"}], \"scatter3d\": [{\"line\": {\"colorbar\": {\"outlinewidth\": 0, \"tickcolor\": \"rgb(36,36,36)\", \"ticklen\": 8, \"ticks\": \"outside\", \"tickwidth\": 2}}, \"marker\": {\"colorbar\": {\"outlinewidth\": 0, \"tickcolor\": \"rgb(36,36,36)\", \"ticklen\": 8, \"ticks\": \"outside\", \"tickwidth\": 2}}, \"type\": \"scatter3d\"}], \"scattercarpet\": [{\"marker\": {\"colorbar\": {\"outlinewidth\": 0, \"tickcolor\": \"rgb(36,36,36)\", \"ticklen\": 8, \"ticks\": \"outside\", \"tickwidth\": 2}}, \"type\": \"scattercarpet\"}], \"scattergeo\": [{\"marker\": {\"colorbar\": {\"outlinewidth\": 0, \"tickcolor\": \"rgb(36,36,36)\", \"ticklen\": 8, \"ticks\": \"outside\", \"tickwidth\": 2}}, \"type\": \"scattergeo\"}], \"scattergl\": [{\"marker\": {\"colorbar\": {\"outlinewidth\": 0, \"tickcolor\": \"rgb(36,36,36)\", \"ticklen\": 8, \"ticks\": \"outside\", \"tickwidth\": 2}}, \"type\": \"scattergl\"}], \"scattermapbox\": [{\"marker\": {\"colorbar\": {\"outlinewidth\": 0, \"tickcolor\": \"rgb(36,36,36)\", \"ticklen\": 8, \"ticks\": \"outside\", \"tickwidth\": 2}}, \"type\": \"scattermapbox\"}], \"scatterpolar\": [{\"marker\": {\"colorbar\": {\"outlinewidth\": 0, \"tickcolor\": \"rgb(36,36,36)\", \"ticklen\": 8, \"ticks\": \"outside\", \"tickwidth\": 2}}, \"type\": \"scatterpolar\"}], \"scatterpolargl\": [{\"marker\": {\"colorbar\": {\"outlinewidth\": 0, \"tickcolor\": \"rgb(36,36,36)\", \"ticklen\": 8, \"ticks\": \"outside\", \"tickwidth\": 2}}, \"type\": \"scatterpolargl\"}], \"scatterternary\": [{\"marker\": {\"colorbar\": {\"outlinewidth\": 0, \"tickcolor\": \"rgb(36,36,36)\", \"ticklen\": 8, \"ticks\": \"outside\", \"tickwidth\": 2}}, \"type\": \"scatterternary\"}], \"surface\": [{\"colorbar\": {\"outlinewidth\": 0, \"tickcolor\": \"rgb(36,36,36)\", \"ticklen\": 8, \"ticks\": \"outside\", \"tickwidth\": 2}, \"colorscale\": [[0.0, \"rgb(2,4,25)\"], [0.06274509803921569, \"rgb(24,15,41)\"], [0.12549019607843137, \"rgb(47,23,57)\"], [0.18823529411764706, \"rgb(71,28,72)\"], [0.25098039215686274, \"rgb(97,30,82)\"], [0.3137254901960784, \"rgb(123,30,89)\"], [0.3764705882352941, \"rgb(150,27,91)\"], [0.4392156862745098, \"rgb(177,22,88)\"], [0.5019607843137255, \"rgb(203,26,79)\"], [0.5647058823529412, \"rgb(223,47,67)\"], [0.6274509803921569, \"rgb(236,76,61)\"], [0.6901960784313725, \"rgb(242,107,73)\"], [0.7529411764705882, \"rgb(244,135,95)\"], [0.8156862745098039, \"rgb(245,162,122)\"], [0.8784313725490196, \"rgb(246,188,153)\"], [0.9411764705882353, \"rgb(247,212,187)\"], [1.0, \"rgb(250,234,220)\"]], \"type\": \"surface\"}], \"table\": [{\"cells\": {\"fill\": {\"color\": \"rgb(231,231,240)\"}, \"line\": {\"color\": \"white\"}}, \"header\": {\"fill\": {\"color\": \"rgb(183,183,191)\"}, \"line\": {\"color\": \"white\"}}, \"type\": \"table\"}]}, \"layout\": {\"annotationdefaults\": {\"arrowcolor\": \"rgb(67,103,167)\"}, \"coloraxis\": {\"colorbar\": {\"outlinewidth\": 0, \"tickcolor\": \"rgb(36,36,36)\", \"ticklen\": 8, \"ticks\": \"outside\", \"tickwidth\": 2}}, \"colorscale\": {\"sequential\": [[0.0, \"rgb(2,4,25)\"], [0.06274509803921569, \"rgb(24,15,41)\"], [0.12549019607843137, \"rgb(47,23,57)\"], [0.18823529411764706, \"rgb(71,28,72)\"], [0.25098039215686274, \"rgb(97,30,82)\"], [0.3137254901960784, \"rgb(123,30,89)\"], [0.3764705882352941, \"rgb(150,27,91)\"], [0.4392156862745098, \"rgb(177,22,88)\"], [0.5019607843137255, \"rgb(203,26,79)\"], [0.5647058823529412, \"rgb(223,47,67)\"], [0.6274509803921569, \"rgb(236,76,61)\"], [0.6901960784313725, \"rgb(242,107,73)\"], [0.7529411764705882, \"rgb(244,135,95)\"], [0.8156862745098039, \"rgb(245,162,122)\"], [0.8784313725490196, \"rgb(246,188,153)\"], [0.9411764705882353, \"rgb(247,212,187)\"], [1.0, \"rgb(250,234,220)\"]], \"sequentialminus\": [[0.0, \"rgb(2,4,25)\"], [0.06274509803921569, \"rgb(24,15,41)\"], [0.12549019607843137, \"rgb(47,23,57)\"], [0.18823529411764706, \"rgb(71,28,72)\"], [0.25098039215686274, \"rgb(97,30,82)\"], [0.3137254901960784, \"rgb(123,30,89)\"], [0.3764705882352941, \"rgb(150,27,91)\"], [0.4392156862745098, \"rgb(177,22,88)\"], [0.5019607843137255, \"rgb(203,26,79)\"], [0.5647058823529412, \"rgb(223,47,67)\"], [0.6274509803921569, \"rgb(236,76,61)\"], [0.6901960784313725, \"rgb(242,107,73)\"], [0.7529411764705882, \"rgb(244,135,95)\"], [0.8156862745098039, \"rgb(245,162,122)\"], [0.8784313725490196, \"rgb(246,188,153)\"], [0.9411764705882353, \"rgb(247,212,187)\"], [1.0, \"rgb(250,234,220)\"]]}, \"colorway\": [\"rgb(76,114,176)\", \"rgb(221,132,82)\", \"rgb(85,168,104)\", \"rgb(196,78,82)\", \"rgb(129,114,179)\", \"rgb(147,120,96)\", \"rgb(218,139,195)\", \"rgb(140,140,140)\", \"rgb(204,185,116)\", \"rgb(100,181,205)\"], \"font\": {\"color\": \"rgb(36,36,36)\"}, \"geo\": {\"bgcolor\": \"white\", \"lakecolor\": \"white\", \"landcolor\": \"rgb(234,234,242)\", \"showlakes\": true, \"showland\": true, \"subunitcolor\": \"white\"}, \"hoverlabel\": {\"align\": \"left\"}, \"hovermode\": \"closest\", \"paper_bgcolor\": \"white\", \"plot_bgcolor\": \"rgb(234,234,242)\", \"polar\": {\"angularaxis\": {\"gridcolor\": \"white\", \"linecolor\": \"white\", \"showgrid\": true, \"ticks\": \"\"}, \"bgcolor\": \"rgb(234,234,242)\", \"radialaxis\": {\"gridcolor\": \"white\", \"linecolor\": \"white\", \"showgrid\": true, \"ticks\": \"\"}}, \"scene\": {\"xaxis\": {\"backgroundcolor\": \"rgb(234,234,242)\", \"gridcolor\": \"white\", \"gridwidth\": 2, \"linecolor\": \"white\", \"showbackground\": true, \"showgrid\": true, \"ticks\": \"\", \"zerolinecolor\": \"white\"}, \"yaxis\": {\"backgroundcolor\": \"rgb(234,234,242)\", \"gridcolor\": \"white\", \"gridwidth\": 2, \"linecolor\": \"white\", \"showbackground\": true, \"showgrid\": true, \"ticks\": \"\", \"zerolinecolor\": \"white\"}, \"zaxis\": {\"backgroundcolor\": \"rgb(234,234,242)\", \"gridcolor\": \"white\", \"gridwidth\": 2, \"linecolor\": \"white\", \"showbackground\": true, \"showgrid\": true, \"ticks\": \"\", \"zerolinecolor\": \"white\"}}, \"shapedefaults\": {\"fillcolor\": \"rgb(67,103,167)\", \"line\": {\"width\": 0}, \"opacity\": 0.5}, \"ternary\": {\"aaxis\": {\"gridcolor\": \"white\", \"linecolor\": \"white\", \"showgrid\": true, \"ticks\": \"\"}, \"baxis\": {\"gridcolor\": \"white\", \"linecolor\": \"white\", \"showgrid\": true, \"ticks\": \"\"}, \"bgcolor\": \"rgb(234,234,242)\", \"caxis\": {\"gridcolor\": \"white\", \"linecolor\": \"white\", \"showgrid\": true, \"ticks\": \"\"}}, \"xaxis\": {\"automargin\": true, \"gridcolor\": \"white\", \"linecolor\": \"white\", \"showgrid\": true, \"ticks\": \"\", \"title\": {\"standoff\": 15}, \"zerolinecolor\": \"white\"}, \"yaxis\": {\"automargin\": true, \"gridcolor\": \"white\", \"linecolor\": \"white\", \"showgrid\": true, \"ticks\": \"\", \"title\": {\"standoff\": 15}, \"zerolinecolor\": \"white\"}}}, \"title\": {\"text\": \"<b>Free energy diagram\"}, \"width\": 800, \"xaxis\": {\"anchor\": \"y\", \"domain\": [0.0, 1.0], \"title\": {\"font\": {\"size\": 25}, \"text\": \"Reaction Coordinate\"}}, \"yaxis\": {\"anchor\": \"x\", \"domain\": [0.0, 1.0], \"title\": {\"font\": {\"size\": 25}, \"text\": \"DG_eV\"}}},                        {\"responsive\": true}                    ).then(function(){\n",
       "                            \n",
       "var gd = document.getElementById('b9d11e84-412f-44dd-9df9-9dfef3e4bf90');\n",
       "var x = new MutationObserver(function (mutations, observer) {{\n",
       "        var display = window.getComputedStyle(gd).display;\n",
       "        if (!display || display === 'none') {{\n",
       "            console.log([gd, 'removed!']);\n",
       "            Plotly.purge(gd);\n",
       "            observer.disconnect();\n",
       "        }}\n",
       "}});\n",
       "\n",
       "// Listen for the removal of the full notebook cells\n",
       "var notebookContainer = gd.closest('#notebook-container');\n",
       "if (notebookContainer) {{\n",
       "    x.observe(notebookContainer, {childList: true});\n",
       "}}\n",
       "\n",
       "// Listen for the clearing of the current output cell\n",
       "var outputEl = gd.closest('.output');\n",
       "if (outputEl) {{\n",
       "    x.observe(outputEl, {childList: true});\n",
       "}}\n",
       "\n",
       "                        })                };                });            </script>        </div>"
      ]
     },
     "metadata": {},
     "output_type": "display_data"
    }
   ],
   "source": [
    "fig = make_subplots(rows = 1, cols = 1)\n",
    "\n",
    "x_list = [0,1,1,2,2,3,3,4,4,5]\n",
    "y_idx = [0,0,1,1,2,2,3,3,4,4]\n",
    "\n",
    "for idx in range(len(df_cleaned)):\n",
    "    ads_list= [0, df_cleaned['DG_OH'][idx], df_cleaned['DG_O'][idx], df_cleaned['DG_OOH'][idx], 4.92]\n",
    "    \n",
    "    y_list = []\n",
    "    for x in range(len(x_list)):\n",
    "  #  print(x_list[x],\" \",ads_list[y_idx[x]])\n",
    "        y_list.append(ads_list[y_idx[x]])\n",
    "\n",
    "    fig.add_trace(go.Scatter(x = x_list, y = y_list, name = df_cleaned['formula'][idx]), row = 1, col = 1) # visible='legendonly'\n",
    "    layout = go.Layout(title = 'free energy diagram', titlefont = dict(size = 25))\n",
    "    fig.update_xaxes(title_text = 'Reaction Coordinate', titlefont = dict(size = 25))\n",
    "    fig.update_yaxes(title_text = 'DG_eV', titlefont = dict(size = 25))\n",
    "    fig.update_layout(height = 600, width = 800, title_text = '<b>Free energy diagram',\n",
    "                     legend=dict(yanchor = \"top\", y = 0.95),template = 'seaborn')\n",
    "# pyo.iplot(fig)\n",
    "fig.show()"
   ]
  },
  {
   "cell_type": "code",
   "execution_count": 73,
   "metadata": {},
   "outputs": [],
   "source": [
    "# Add 4e- WOR data\n",
    "\n",
    "df_cleaned['DG1'] = df_cleaned.DG_OH\n",
    "df_cleaned['DG2'] = df_cleaned.DG_O - df_cleaned.DG_OH\n",
    "df_cleaned['DG3'] = df_cleaned.DG_OOH - df_cleaned.DG_O\n",
    "df_cleaned['DG4'] = 4.92 - df_cleaned.DG_OOH\n",
    "\n",
    "UL_ORR_list = []\n",
    "UL_list = []\n",
    "for idx in range(len(df_cleaned)):\n",
    "    UL = max(df_cleaned['DG1'][idx],df_cleaned['DG2'][idx], df_cleaned['DG3'][idx], df_cleaned['DG4'][idx]) \n",
    "    UL_list.append(UL)\n",
    "    UL_ORR = min(df_cleaned['DG1'][idx],df_cleaned['DG2'][idx], df_cleaned['DG3'][idx], df_cleaned['DG4'][idx]) \n",
    "    UL_ORR_list.append(UL_ORR)\n",
    "    \n",
    "df_cleaned['UL_4e'] = UL_list\n",
    "df_cleaned['UL_ORR'] = UL_ORR_list"
   ]
  },
  {
   "cell_type": "code",
   "execution_count": 77,
   "metadata": {},
   "outputs": [],
   "source": [
    "df_cleaned['DG1_2e'] = df_cleaned.DG_OH\n",
    "df_cleaned['DG2_2e'] = -df_cleaned.DG_OH + 1.76*2\n",
    "df_cleaned['OP_2e'] = abs(df_cleaned['DG_OH'] - 1.76) \n",
    "df_cleaned['UL_2e'] = abs(df_cleaned['DG_OH'] - 1.76) + 1.76"
   ]
  },
  {
   "cell_type": "code",
   "execution_count": 78,
   "metadata": {},
   "outputs": [
    {
     "data": {
      "text/html": [
       "<div>\n",
       "<style scoped>\n",
       "    .dataframe tbody tr th:only-of-type {\n",
       "        vertical-align: middle;\n",
       "    }\n",
       "\n",
       "    .dataframe tbody tr th {\n",
       "        vertical-align: top;\n",
       "    }\n",
       "\n",
       "    .dataframe thead th {\n",
       "        text-align: right;\n",
       "    }\n",
       "</style>\n",
       "<table border=\"1\" class=\"dataframe\">\n",
       "  <thead>\n",
       "    <tr style=\"text-align: right;\">\n",
       "      <th></th>\n",
       "      <th>formula</th>\n",
       "      <th>mag_ini</th>\n",
       "      <th>convg_bare</th>\n",
       "      <th>tot_E_bare</th>\n",
       "      <th>DE_bare</th>\n",
       "      <th>DG_bare</th>\n",
       "      <th>bare_mag</th>\n",
       "      <th>nsteps_bare</th>\n",
       "      <th>struc_bare</th>\n",
       "      <th>time_bare</th>\n",
       "      <th>...</th>\n",
       "      <th>DG1</th>\n",
       "      <th>DG2</th>\n",
       "      <th>DG3</th>\n",
       "      <th>DG4</th>\n",
       "      <th>UL_4e</th>\n",
       "      <th>UL_ORR</th>\n",
       "      <th>DG1_2e</th>\n",
       "      <th>DG2_2e</th>\n",
       "      <th>OP_2e</th>\n",
       "      <th>UL_2e</th>\n",
       "    </tr>\n",
       "  </thead>\n",
       "  <tbody>\n",
       "    <tr>\n",
       "      <th>0</th>\n",
       "      <td>SrTcO3</td>\n",
       "      <td>FM</td>\n",
       "      <td>True</td>\n",
       "      <td>-386.83</td>\n",
       "      <td>0</td>\n",
       "      <td>0</td>\n",
       "      <td>13.642</td>\n",
       "      <td>1</td>\n",
       "      <td>[[0.         1.98022307 0.        ] O, [1.9802...</td>\n",
       "      <td>NaN</td>\n",
       "      <td>...</td>\n",
       "      <td>-0.782</td>\n",
       "      <td>0.075</td>\n",
       "      <td>3.188</td>\n",
       "      <td>2.439</td>\n",
       "      <td>3.188</td>\n",
       "      <td>-0.782</td>\n",
       "      <td>-0.782</td>\n",
       "      <td>4.302</td>\n",
       "      <td>2.542</td>\n",
       "      <td>4.302</td>\n",
       "    </tr>\n",
       "    <tr>\n",
       "      <th>1</th>\n",
       "      <td>BaFeO3</td>\n",
       "      <td>FM</td>\n",
       "      <td>True</td>\n",
       "      <td>-316.788</td>\n",
       "      <td>0</td>\n",
       "      <td>0</td>\n",
       "      <td>59.992</td>\n",
       "      <td>1</td>\n",
       "      <td>[[2.0165225 2.0165225 2.0165225] Ba, [2.016522...</td>\n",
       "      <td>NaN</td>\n",
       "      <td>...</td>\n",
       "      <td>2.024</td>\n",
       "      <td>2.428</td>\n",
       "      <td>0.465</td>\n",
       "      <td>0.003</td>\n",
       "      <td>2.428</td>\n",
       "      <td>0.003</td>\n",
       "      <td>2.024</td>\n",
       "      <td>1.496</td>\n",
       "      <td>0.264</td>\n",
       "      <td>2.024</td>\n",
       "    </tr>\n",
       "    <tr>\n",
       "      <th>2</th>\n",
       "      <td>BaMoO3</td>\n",
       "      <td>FM</td>\n",
       "      <td>True</td>\n",
       "      <td>-359.32</td>\n",
       "      <td>0</td>\n",
       "      <td>0</td>\n",
       "      <td>24</td>\n",
       "      <td>1</td>\n",
       "      <td>[[2.06811213 2.06811213 2.06811213] Ba, [2.068...</td>\n",
       "      <td>NaN</td>\n",
       "      <td>...</td>\n",
       "      <td>-0.302</td>\n",
       "      <td>-0.551</td>\n",
       "      <td>3.872</td>\n",
       "      <td>1.901</td>\n",
       "      <td>3.872</td>\n",
       "      <td>-0.551</td>\n",
       "      <td>-0.302</td>\n",
       "      <td>3.822</td>\n",
       "      <td>2.062</td>\n",
       "      <td>3.822</td>\n",
       "    </tr>\n",
       "    <tr>\n",
       "      <th>3</th>\n",
       "      <td>KTaO3</td>\n",
       "      <td>FM</td>\n",
       "      <td>True</td>\n",
       "      <td>-438.376</td>\n",
       "      <td>0</td>\n",
       "      <td>0</td>\n",
       "      <td>0</td>\n",
       "      <td>1</td>\n",
       "      <td>[[2.01423343 2.01423343 2.01423343] K, [2.0142...</td>\n",
       "      <td>NaN</td>\n",
       "      <td>...</td>\n",
       "      <td>-1.001</td>\n",
       "      <td>0.387</td>\n",
       "      <td>3.189</td>\n",
       "      <td>2.345</td>\n",
       "      <td>3.189</td>\n",
       "      <td>-1.001</td>\n",
       "      <td>-1.001</td>\n",
       "      <td>4.521</td>\n",
       "      <td>2.761</td>\n",
       "      <td>4.521</td>\n",
       "    </tr>\n",
       "    <tr>\n",
       "      <th>4</th>\n",
       "      <td>BaZrO3</td>\n",
       "      <td>FM</td>\n",
       "      <td>True</td>\n",
       "      <td>-438.828</td>\n",
       "      <td>0</td>\n",
       "      <td>0</td>\n",
       "      <td>0</td>\n",
       "      <td>1</td>\n",
       "      <td>[[0.         0.         2.11804015] Ba, [8.472...</td>\n",
       "      <td>NaN</td>\n",
       "      <td>...</td>\n",
       "      <td>1.29</td>\n",
       "      <td>2.853</td>\n",
       "      <td>0.563</td>\n",
       "      <td>0.214</td>\n",
       "      <td>2.853</td>\n",
       "      <td>0.214</td>\n",
       "      <td>1.29</td>\n",
       "      <td>2.23</td>\n",
       "      <td>0.47</td>\n",
       "      <td>2.23</td>\n",
       "    </tr>\n",
       "    <tr>\n",
       "      <th>...</th>\n",
       "      <td>...</td>\n",
       "      <td>...</td>\n",
       "      <td>...</td>\n",
       "      <td>...</td>\n",
       "      <td>...</td>\n",
       "      <td>...</td>\n",
       "      <td>...</td>\n",
       "      <td>...</td>\n",
       "      <td>...</td>\n",
       "      <td>...</td>\n",
       "      <td>...</td>\n",
       "      <td>...</td>\n",
       "      <td>...</td>\n",
       "      <td>...</td>\n",
       "      <td>...</td>\n",
       "      <td>...</td>\n",
       "      <td>...</td>\n",
       "      <td>...</td>\n",
       "      <td>...</td>\n",
       "      <td>...</td>\n",
       "      <td>...</td>\n",
       "    </tr>\n",
       "    <tr>\n",
       "      <th>66</th>\n",
       "      <td>CaRuO3</td>\n",
       "      <td>FM</td>\n",
       "      <td>True</td>\n",
       "      <td>-354.261</td>\n",
       "      <td>0</td>\n",
       "      <td>0</td>\n",
       "      <td>25.842</td>\n",
       "      <td>1</td>\n",
       "      <td>[[0.         0.         1.95924755] Ca, [2.519...</td>\n",
       "      <td>NaN</td>\n",
       "      <td>...</td>\n",
       "      <td>-0.363</td>\n",
       "      <td>1.043</td>\n",
       "      <td>1.834</td>\n",
       "      <td>2.406</td>\n",
       "      <td>2.406</td>\n",
       "      <td>-0.363</td>\n",
       "      <td>-0.363</td>\n",
       "      <td>3.883</td>\n",
       "      <td>2.123</td>\n",
       "      <td>3.883</td>\n",
       "    </tr>\n",
       "    <tr>\n",
       "      <th>67</th>\n",
       "      <td>RbPdO3</td>\n",
       "      <td>FM</td>\n",
       "      <td>True</td>\n",
       "      <td>-237.862</td>\n",
       "      <td>0</td>\n",
       "      <td>0</td>\n",
       "      <td>24.444</td>\n",
       "      <td>1</td>\n",
       "      <td>[[0.         2.05243462 0.        ] O, [2.0524...</td>\n",
       "      <td>NaN</td>\n",
       "      <td>...</td>\n",
       "      <td>1.313</td>\n",
       "      <td>1.87</td>\n",
       "      <td>1.048</td>\n",
       "      <td>0.689</td>\n",
       "      <td>1.870</td>\n",
       "      <td>0.689</td>\n",
       "      <td>1.313</td>\n",
       "      <td>2.207</td>\n",
       "      <td>0.447</td>\n",
       "      <td>2.207</td>\n",
       "    </tr>\n",
       "    <tr>\n",
       "      <th>68</th>\n",
       "      <td>CaHfO3</td>\n",
       "      <td>FM</td>\n",
       "      <td>True</td>\n",
       "      <td>-456.965</td>\n",
       "      <td>0</td>\n",
       "      <td>0</td>\n",
       "      <td>-0</td>\n",
       "      <td>1</td>\n",
       "      <td>[[0.        0.        2.0506531] Ca, [3.755119...</td>\n",
       "      <td>NaN</td>\n",
       "      <td>...</td>\n",
       "      <td>0.619</td>\n",
       "      <td>3.023</td>\n",
       "      <td>0.218</td>\n",
       "      <td>1.06</td>\n",
       "      <td>3.023</td>\n",
       "      <td>0.218</td>\n",
       "      <td>0.619</td>\n",
       "      <td>2.901</td>\n",
       "      <td>1.141</td>\n",
       "      <td>2.901</td>\n",
       "    </tr>\n",
       "    <tr>\n",
       "      <th>69</th>\n",
       "      <td>TlWO3</td>\n",
       "      <td>FM</td>\n",
       "      <td>True</td>\n",
       "      <td>-326.169</td>\n",
       "      <td>0</td>\n",
       "      <td>0</td>\n",
       "      <td>16</td>\n",
       "      <td>26</td>\n",
       "      <td>[[2.038601 0.       0.      ] O, [0.       2.0...</td>\n",
       "      <td>NaN</td>\n",
       "      <td>...</td>\n",
       "      <td>-1.407</td>\n",
       "      <td>0.503</td>\n",
       "      <td>3.061</td>\n",
       "      <td>2.763</td>\n",
       "      <td>3.061</td>\n",
       "      <td>-1.407</td>\n",
       "      <td>-1.407</td>\n",
       "      <td>4.927</td>\n",
       "      <td>3.167</td>\n",
       "      <td>4.927</td>\n",
       "    </tr>\n",
       "    <tr>\n",
       "      <th>70</th>\n",
       "      <td>RbPtO3</td>\n",
       "      <td>FM</td>\n",
       "      <td>True</td>\n",
       "      <td>-252.909</td>\n",
       "      <td>0</td>\n",
       "      <td>0</td>\n",
       "      <td>20.962</td>\n",
       "      <td>1</td>\n",
       "      <td>[[2.04108953 0.         0.        ] O, [0.    ...</td>\n",
       "      <td>NaN</td>\n",
       "      <td>...</td>\n",
       "      <td>1.034</td>\n",
       "      <td>1.693</td>\n",
       "      <td>1.293</td>\n",
       "      <td>0.9</td>\n",
       "      <td>1.693</td>\n",
       "      <td>0.900</td>\n",
       "      <td>1.034</td>\n",
       "      <td>2.486</td>\n",
       "      <td>0.726</td>\n",
       "      <td>2.486</td>\n",
       "    </tr>\n",
       "  </tbody>\n",
       "</table>\n",
       "<p>71 rows × 48 columns</p>\n",
       "</div>"
      ],
      "text/plain": [
       "   formula mag_ini convg_bare tot_E_bare DE_bare DG_bare bare_mag nsteps_bare  \\\n",
       "0   SrTcO3      FM       True    -386.83       0       0   13.642           1   \n",
       "1   BaFeO3      FM       True   -316.788       0       0   59.992           1   \n",
       "2   BaMoO3      FM       True    -359.32       0       0       24           1   \n",
       "3    KTaO3      FM       True   -438.376       0       0        0           1   \n",
       "4   BaZrO3      FM       True   -438.828       0       0        0           1   \n",
       "..     ...     ...        ...        ...     ...     ...      ...         ...   \n",
       "66  CaRuO3      FM       True   -354.261       0       0   25.842           1   \n",
       "67  RbPdO3      FM       True   -237.862       0       0   24.444           1   \n",
       "68  CaHfO3      FM       True   -456.965       0       0       -0           1   \n",
       "69   TlWO3      FM       True   -326.169       0       0       16          26   \n",
       "70  RbPtO3      FM       True   -252.909       0       0   20.962           1   \n",
       "\n",
       "                                           struc_bare time_bare  ...    DG1  \\\n",
       "0   [[0.         1.98022307 0.        ] O, [1.9802...       NaN  ... -0.782   \n",
       "1   [[2.0165225 2.0165225 2.0165225] Ba, [2.016522...       NaN  ...  2.024   \n",
       "2   [[2.06811213 2.06811213 2.06811213] Ba, [2.068...       NaN  ... -0.302   \n",
       "3   [[2.01423343 2.01423343 2.01423343] K, [2.0142...       NaN  ... -1.001   \n",
       "4   [[0.         0.         2.11804015] Ba, [8.472...       NaN  ...   1.29   \n",
       "..                                                ...       ...  ...    ...   \n",
       "66  [[0.         0.         1.95924755] Ca, [2.519...       NaN  ... -0.363   \n",
       "67  [[0.         2.05243462 0.        ] O, [2.0524...       NaN  ...  1.313   \n",
       "68  [[0.        0.        2.0506531] Ca, [3.755119...       NaN  ...  0.619   \n",
       "69  [[2.038601 0.       0.      ] O, [0.       2.0...       NaN  ... -1.407   \n",
       "70  [[2.04108953 0.         0.        ] O, [0.    ...       NaN  ...  1.034   \n",
       "\n",
       "      DG2    DG3    DG4  UL_4e UL_ORR DG1_2e DG2_2e  OP_2e  UL_2e  \n",
       "0   0.075  3.188  2.439  3.188 -0.782 -0.782  4.302  2.542  4.302  \n",
       "1   2.428  0.465  0.003  2.428  0.003  2.024  1.496  0.264  2.024  \n",
       "2  -0.551  3.872  1.901  3.872 -0.551 -0.302  3.822  2.062  3.822  \n",
       "3   0.387  3.189  2.345  3.189 -1.001 -1.001  4.521  2.761  4.521  \n",
       "4   2.853  0.563  0.214  2.853  0.214   1.29   2.23   0.47   2.23  \n",
       "..    ...    ...    ...    ...    ...    ...    ...    ...    ...  \n",
       "66  1.043  1.834  2.406  2.406 -0.363 -0.363  3.883  2.123  3.883  \n",
       "67   1.87  1.048  0.689  1.870  0.689  1.313  2.207  0.447  2.207  \n",
       "68  3.023  0.218   1.06  3.023  0.218  0.619  2.901  1.141  2.901  \n",
       "69  0.503  3.061  2.763  3.061 -1.407 -1.407  4.927  3.167  4.927  \n",
       "70  1.693  1.293    0.9  1.693  0.900  1.034  2.486  0.726  2.486  \n",
       "\n",
       "[71 rows x 48 columns]"
      ]
     },
     "execution_count": 78,
     "metadata": {},
     "output_type": "execute_result"
    }
   ],
   "source": [
    "df_cleaned"
   ]
  },
  {
   "cell_type": "code",
   "execution_count": 83,
   "metadata": {},
   "outputs": [
    {
     "name": "stdout",
     "output_type": "stream",
     "text": [
      "[1.] -1.1102230246251565e-16 [-1.] 3.5199999999999996\n"
     ]
    },
    {
     "data": {
      "image/svg+xml": [
       "<svg class=\"main-svg\" xmlns=\"http://www.w3.org/2000/svg\" xmlns:xlink=\"http://www.w3.org/1999/xlink\" width=\"700\" height=\"450\" style=\"\" viewBox=\"0 0 700 450\"><rect x=\"0\" y=\"0\" width=\"700\" height=\"450\" style=\"fill: rgb(255, 255, 255); fill-opacity: 1;\"/><defs id=\"defs-93bc6a\"><g class=\"clips\"><clipPath id=\"clip93bc6axyplot\" class=\"plotclip\"><rect width=\"540\" height=\"270\"/></clipPath><clipPath class=\"axesclip\" id=\"clip93bc6ax\"><rect x=\"80\" y=\"0\" width=\"540\" height=\"450\"/></clipPath><clipPath class=\"axesclip\" id=\"clip93bc6ay\"><rect x=\"0\" y=\"100\" width=\"700\" height=\"270\"/></clipPath><clipPath class=\"axesclip\" id=\"clip93bc6axy\"><rect x=\"80\" y=\"100\" width=\"540\" height=\"270\"/></clipPath></g><g class=\"gradients\"/></defs><g class=\"bglayer\"><rect class=\"bg\" x=\"80\" y=\"100\" width=\"540\" height=\"270\" style=\"fill: rgb(229, 236, 246); fill-opacity: 1; stroke-width: 0;\"/></g><g class=\"layer-below\"><g class=\"imagelayer\"/><g class=\"shapelayer\"/></g><g class=\"cartesianlayer\"><g class=\"subplot xy\"><g class=\"layer-subplot\"><g class=\"shapelayer\"/><g class=\"imagelayer\"/></g><g class=\"gridlayer\"><g class=\"x\"><path class=\"xgrid crisp\" transform=\"translate(154.7,0)\" d=\"M0,100v270\" style=\"stroke: rgb(255, 255, 255); stroke-opacity: 1; stroke-width: 1px;\"/><path class=\"xgrid crisp\" transform=\"translate(240.56,0)\" d=\"M0,100v270\" style=\"stroke: rgb(255, 255, 255); stroke-opacity: 1; stroke-width: 1px;\"/><path class=\"xgrid crisp\" transform=\"translate(326.43,0)\" d=\"M0,100v270\" style=\"stroke: rgb(255, 255, 255); stroke-opacity: 1; stroke-width: 1px;\"/><path class=\"xgrid crisp\" transform=\"translate(412.29,0)\" d=\"M0,100v270\" style=\"stroke: rgb(255, 255, 255); stroke-opacity: 1; stroke-width: 1px;\"/><path class=\"xgrid crisp\" transform=\"translate(498.16,0)\" d=\"M0,100v270\" style=\"stroke: rgb(255, 255, 255); stroke-opacity: 1; stroke-width: 1px;\"/></g><g class=\"y\"><path class=\"ygrid crisp\" transform=\"translate(0,325.81)\" d=\"M80,0h492\" style=\"stroke: rgb(255, 255, 255); stroke-opacity: 1; stroke-width: 1px;\"/><path class=\"ygrid crisp\" transform=\"translate(0,258.25)\" d=\"M80,0h492\" style=\"stroke: rgb(255, 255, 255); stroke-opacity: 1; stroke-width: 1px;\"/><path class=\"ygrid crisp\" transform=\"translate(0,190.7)\" d=\"M80,0h492\" style=\"stroke: rgb(255, 255, 255); stroke-opacity: 1; stroke-width: 1px;\"/><path class=\"ygrid crisp\" transform=\"translate(0,123.15)\" d=\"M80,0h492\" style=\"stroke: rgb(255, 255, 255); stroke-opacity: 1; stroke-width: 1px;\"/></g></g><g class=\"zerolinelayer\"/><path class=\"xlines-below\"/><path class=\"ylines-below\"/><g class=\"overlines-below\"/><g class=\"xaxislayer-below\"/><g class=\"yaxislayer-below\"/><g class=\"overaxes-below\"/><g class=\"plot\" transform=\"translate(80, 100)\" clip-path=\"url('#clip93bc6axyplot')\"><g class=\"scatterlayer mlayer\"><g class=\"trace scatter tracefab7ad\" style=\"stroke-miterlimit: 2; opacity: 1;\"><g class=\"fills\"/><g class=\"errorbars\"/><g class=\"lines\"/><g class=\"points\"><path class=\"point\" transform=\"translate(93.42,70.3)\" d=\"M7.5,0A7.5,7.5 0 1,1 0,-7.5A7.5,7.5 0 0,1 7.5,0Z\" style=\"opacity: 1; stroke-width: 0px; fill: rgb(99, 110, 250); fill-opacity: 1;\"/><path class=\"point\" transform=\"translate(334.35,224.18)\" d=\"M7.5,0A7.5,7.5 0 1,1 0,-7.5A7.5,7.5 0 0,1 7.5,0Z\" style=\"opacity: 1; stroke-width: 0px; fill: rgb(99, 110, 250); fill-opacity: 1;\"/><path class=\"point\" transform=\"translate(134.63,102.72)\" d=\"M7.5,0A7.5,7.5 0 1,1 0,-7.5A7.5,7.5 0 0,1 7.5,0Z\" style=\"opacity: 1; stroke-width: 0px; fill: rgb(99, 110, 250); fill-opacity: 1;\"/><path class=\"point\" transform=\"translate(74.61,55.5)\" d=\"M7.5,0A7.5,7.5 0 1,1 0,-7.5A7.5,7.5 0 0,1 7.5,0Z\" style=\"opacity: 1; stroke-width: 0px; fill: rgb(99, 110, 250); fill-opacity: 1;\"/><path class=\"point\" transform=\"translate(271.33,210.27)\" d=\"M7.5,0A7.5,7.5 0 1,1 0,-7.5A7.5,7.5 0 0,1 7.5,0Z\" style=\"opacity: 1; stroke-width: 0px; fill: rgb(99, 110, 250); fill-opacity: 1;\"/><path class=\"point\" transform=\"translate(334.53,224.05)\" d=\"M7.5,0A7.5,7.5 0 1,1 0,-7.5A7.5,7.5 0 0,1 7.5,0Z\" style=\"opacity: 1; stroke-width: 0px; fill: rgb(99, 110, 250); fill-opacity: 1;\"/><path class=\"point\" transform=\"translate(164,125.83)\" d=\"M7.5,0A7.5,7.5 0 1,1 0,-7.5A7.5,7.5 0 0,1 7.5,0Z\" style=\"opacity: 1; stroke-width: 0px; fill: rgb(99, 110, 250); fill-opacity: 1;\"/><path class=\"point\" transform=\"translate(154.81,118.6)\" d=\"M7.5,0A7.5,7.5 0 1,1 0,-7.5A7.5,7.5 0 0,1 7.5,0Z\" style=\"opacity: 1; stroke-width: 0px; fill: rgb(99, 110, 250); fill-opacity: 1;\"/><path class=\"point\" transform=\"translate(262.83,203.58)\" d=\"M7.5,0A7.5,7.5 0 1,1 0,-7.5A7.5,7.5 0 0,1 7.5,0Z\" style=\"opacity: 1; stroke-width: 0px; fill: rgb(99, 110, 250); fill-opacity: 1;\"/><path class=\"point\" transform=\"translate(270.13,209.32)\" d=\"M7.5,0A7.5,7.5 0 1,1 0,-7.5A7.5,7.5 0 0,1 7.5,0Z\" style=\"opacity: 1; stroke-width: 0px; fill: rgb(99, 110, 250); fill-opacity: 1;\"/><path class=\"point\" transform=\"translate(332.89,225.33)\" d=\"M7.5,0A7.5,7.5 0 1,1 0,-7.5A7.5,7.5 0 0,1 7.5,0Z\" style=\"opacity: 1; stroke-width: 0px; fill: rgb(99, 110, 250); fill-opacity: 1;\"/><path class=\"point\" transform=\"translate(141.93,108.47)\" d=\"M7.5,0A7.5,7.5 0 1,1 0,-7.5A7.5,7.5 0 0,1 7.5,0Z\" style=\"opacity: 1; stroke-width: 0px; fill: rgb(99, 110, 250); fill-opacity: 1;\"/><path class=\"point\" transform=\"translate(63.62,46.86)\" d=\"M7.5,0A7.5,7.5 0 1,1 0,-7.5A7.5,7.5 0 0,1 7.5,0Z\" style=\"opacity: 1; stroke-width: 0px; fill: rgb(99, 110, 250); fill-opacity: 1;\"/><path class=\"point\" transform=\"translate(344.92,215.87)\" d=\"M7.5,0A7.5,7.5 0 1,1 0,-7.5A7.5,7.5 0 0,1 7.5,0Z\" style=\"opacity: 1; stroke-width: 0px; fill: rgb(99, 110, 250); fill-opacity: 1;\"/><path class=\"point\" transform=\"translate(306.53,237.96)\" d=\"M7.5,0A7.5,7.5 0 1,1 0,-7.5A7.5,7.5 0 0,1 7.5,0Z\" style=\"opacity: 1; stroke-width: 0px; fill: rgb(99, 110, 250); fill-opacity: 1;\"/><path class=\"point\" transform=\"translate(253.38,196.15)\" d=\"M7.5,0A7.5,7.5 0 1,1 0,-7.5A7.5,7.5 0 0,1 7.5,0Z\" style=\"opacity: 1; stroke-width: 0px; fill: rgb(99, 110, 250); fill-opacity: 1;\"/><path class=\"point\" transform=\"translate(130.17,99.21)\" d=\"M7.5,0A7.5,7.5 0 1,1 0,-7.5A7.5,7.5 0 0,1 7.5,0Z\" style=\"opacity: 1; stroke-width: 0px; fill: rgb(99, 110, 250); fill-opacity: 1;\"/><path class=\"point\" transform=\"translate(157.9,121.03)\" d=\"M7.5,0A7.5,7.5 0 1,1 0,-7.5A7.5,7.5 0 0,1 7.5,0Z\" style=\"opacity: 1; stroke-width: 0px; fill: rgb(99, 110, 250); fill-opacity: 1;\"/><path class=\"point\" transform=\"translate(97.63,73.61)\" d=\"M7.5,0A7.5,7.5 0 1,1 0,-7.5A7.5,7.5 0 0,1 7.5,0Z\" style=\"opacity: 1; stroke-width: 0px; fill: rgb(99, 110, 250); fill-opacity: 1;\"/><path class=\"point\" transform=\"translate(182.89,140.69)\" d=\"M7.5,0A7.5,7.5 0 1,1 0,-7.5A7.5,7.5 0 0,1 7.5,0Z\" style=\"opacity: 1; stroke-width: 0px; fill: rgb(99, 110, 250); fill-opacity: 1;\"/><path class=\"point\" transform=\"translate(327.66,229.45)\" d=\"M7.5,0A7.5,7.5 0 1,1 0,-7.5A7.5,7.5 0 0,1 7.5,0Z\" style=\"opacity: 1; stroke-width: 0px; fill: rgb(99, 110, 250); fill-opacity: 1;\"/><path class=\"point\" transform=\"translate(144.16,110.22)\" d=\"M7.5,0A7.5,7.5 0 1,1 0,-7.5A7.5,7.5 0 0,1 7.5,0Z\" style=\"opacity: 1; stroke-width: 0px; fill: rgb(99, 110, 250); fill-opacity: 1;\"/><path class=\"point\" transform=\"translate(120.72,91.78)\" d=\"M7.5,0A7.5,7.5 0 1,1 0,-7.5A7.5,7.5 0 0,1 7.5,0Z\" style=\"opacity: 1; stroke-width: 0px; fill: rgb(99, 110, 250); fill-opacity: 1;\"/><path class=\"point\" transform=\"translate(69.89,51.79)\" d=\"M7.5,0A7.5,7.5 0 1,1 0,-7.5A7.5,7.5 0 0,1 7.5,0Z\" style=\"opacity: 1; stroke-width: 0px; fill: rgb(99, 110, 250); fill-opacity: 1;\"/><path class=\"point\" transform=\"translate(458.86,126.23)\" d=\"M7.5,0A7.5,7.5 0 1,1 0,-7.5A7.5,7.5 0 0,1 7.5,0Z\" style=\"opacity: 1; stroke-width: 0px; fill: rgb(99, 110, 250); fill-opacity: 1;\"/><path class=\"point\" transform=\"translate(244.37,189.06)\" d=\"M7.5,0A7.5,7.5 0 1,1 0,-7.5A7.5,7.5 0 0,1 7.5,0Z\" style=\"opacity: 1; stroke-width: 0px; fill: rgb(99, 110, 250); fill-opacity: 1;\"/><path class=\"point\" transform=\"translate(89.21,66.99)\" d=\"M7.5,0A7.5,7.5 0 1,1 0,-7.5A7.5,7.5 0 0,1 7.5,0Z\" style=\"opacity: 1; stroke-width: 0px; fill: rgb(99, 110, 250); fill-opacity: 1;\"/><path class=\"point\" transform=\"translate(379.35,188.79)\" d=\"M7.5,0A7.5,7.5 0 1,1 0,-7.5A7.5,7.5 0 0,1 7.5,0Z\" style=\"opacity: 1; stroke-width: 0px; fill: rgb(99, 110, 250); fill-opacity: 1;\"/><path class=\"point\" transform=\"translate(326.03,230.74)\" d=\"M7.5,0A7.5,7.5 0 1,1 0,-7.5A7.5,7.5 0 0,1 7.5,0Z\" style=\"opacity: 1; stroke-width: 0px; fill: rgb(99, 110, 250); fill-opacity: 1;\"/><path class=\"point\" transform=\"translate(259.39,200.88)\" d=\"M7.5,0A7.5,7.5 0 1,1 0,-7.5A7.5,7.5 0 0,1 7.5,0Z\" style=\"opacity: 1; stroke-width: 0px; fill: rgb(99, 110, 250); fill-opacity: 1;\"/><path class=\"point\" transform=\"translate(74.96,55.77)\" d=\"M7.5,0A7.5,7.5 0 1,1 0,-7.5A7.5,7.5 0 0,1 7.5,0Z\" style=\"opacity: 1; stroke-width: 0px; fill: rgb(99, 110, 250); fill-opacity: 1;\"/><path class=\"point\" transform=\"translate(260.43,201.69)\" d=\"M7.5,0A7.5,7.5 0 1,1 0,-7.5A7.5,7.5 0 0,1 7.5,0Z\" style=\"opacity: 1; stroke-width: 0px; fill: rgb(99, 110, 250); fill-opacity: 1;\"/><path class=\"point\" transform=\"translate(332.89,225.33)\" d=\"M7.5,0A7.5,7.5 0 1,1 0,-7.5A7.5,7.5 0 0,1 7.5,0Z\" style=\"opacity: 1; stroke-width: 0px; fill: rgb(99, 110, 250); fill-opacity: 1;\"/><path class=\"point\" transform=\"translate(269.01,208.44)\" d=\"M7.5,0A7.5,7.5 0 1,1 0,-7.5A7.5,7.5 0 0,1 7.5,0Z\" style=\"opacity: 1; stroke-width: 0px; fill: rgb(99, 110, 250); fill-opacity: 1;\"/><path class=\"point\" transform=\"translate(224.62,173.52)\" d=\"M7.5,0A7.5,7.5 0 1,1 0,-7.5A7.5,7.5 0 0,1 7.5,0Z\" style=\"opacity: 1; stroke-width: 0px; fill: rgb(99, 110, 250); fill-opacity: 1;\"/><path class=\"point\" transform=\"translate(173.62,133.39)\" d=\"M7.5,0A7.5,7.5 0 1,1 0,-7.5A7.5,7.5 0 0,1 7.5,0Z\" style=\"opacity: 1; stroke-width: 0px; fill: rgb(99, 110, 250); fill-opacity: 1;\"/><path class=\"point\" transform=\"translate(237.76,183.85)\" d=\"M7.5,0A7.5,7.5 0 1,1 0,-7.5A7.5,7.5 0 0,1 7.5,0Z\" style=\"opacity: 1; stroke-width: 0px; fill: rgb(99, 110, 250); fill-opacity: 1;\"/><path class=\"point\" transform=\"translate(64.05,47.19)\" d=\"M7.5,0A7.5,7.5 0 1,1 0,-7.5A7.5,7.5 0 0,1 7.5,0Z\" style=\"opacity: 1; stroke-width: 0px; fill: rgb(99, 110, 250); fill-opacity: 1;\"/><path class=\"point\" transform=\"translate(295.2,229.05)\" d=\"M7.5,0A7.5,7.5 0 1,1 0,-7.5A7.5,7.5 0 0,1 7.5,0Z\" style=\"opacity: 1; stroke-width: 0px; fill: rgb(99, 110, 250); fill-opacity: 1;\"/><path class=\"point\" transform=\"translate(316.92,237.9)\" d=\"M7.5,0A7.5,7.5 0 1,1 0,-7.5A7.5,7.5 0 0,1 7.5,0Z\" style=\"opacity: 1; stroke-width: 0px; fill: rgb(99, 110, 250); fill-opacity: 1;\"/><path class=\"point\" transform=\"translate(131.03,99.89)\" d=\"M7.5,0A7.5,7.5 0 1,1 0,-7.5A7.5,7.5 0 0,1 7.5,0Z\" style=\"opacity: 1; stroke-width: 0px; fill: rgb(99, 110, 250); fill-opacity: 1;\"/><path class=\"point\" transform=\"translate(33.14,22.88)\" d=\"M7.5,0A7.5,7.5 0 1,1 0,-7.5A7.5,7.5 0 0,1 7.5,0Z\" style=\"opacity: 1; stroke-width: 0px; fill: rgb(99, 110, 250); fill-opacity: 1;\"/><path class=\"point\" transform=\"translate(198.86,153.25)\" d=\"M7.5,0A7.5,7.5 0 1,1 0,-7.5A7.5,7.5 0 0,1 7.5,0Z\" style=\"opacity: 1; stroke-width: 0px; fill: rgb(99, 110, 250); fill-opacity: 1;\"/><path class=\"point\" transform=\"translate(231.83,179.19)\" d=\"M7.5,0A7.5,7.5 0 1,1 0,-7.5A7.5,7.5 0 0,1 7.5,0Z\" style=\"opacity: 1; stroke-width: 0px; fill: rgb(99, 110, 250); fill-opacity: 1;\"/><path class=\"point\" transform=\"translate(63.54,46.79)\" d=\"M7.5,0A7.5,7.5 0 1,1 0,-7.5A7.5,7.5 0 0,1 7.5,0Z\" style=\"opacity: 1; stroke-width: 0px; fill: rgb(99, 110, 250); fill-opacity: 1;\"/><path class=\"point\" transform=\"translate(349.9,211.96)\" d=\"M7.5,0A7.5,7.5 0 1,1 0,-7.5A7.5,7.5 0 0,1 7.5,0Z\" style=\"opacity: 1; stroke-width: 0px; fill: rgb(99, 110, 250); fill-opacity: 1;\"/><path class=\"point\" transform=\"translate(344.83,215.94)\" d=\"M7.5,0A7.5,7.5 0 1,1 0,-7.5A7.5,7.5 0 0,1 7.5,0Z\" style=\"opacity: 1; stroke-width: 0px; fill: rgb(99, 110, 250); fill-opacity: 1;\"/><path class=\"point\" transform=\"translate(203.41,156.83)\" d=\"M7.5,0A7.5,7.5 0 1,1 0,-7.5A7.5,7.5 0 0,1 7.5,0Z\" style=\"opacity: 1; stroke-width: 0px; fill: rgb(99, 110, 250); fill-opacity: 1;\"/><path class=\"point\" transform=\"translate(124.93,95.09)\" d=\"M7.5,0A7.5,7.5 0 1,1 0,-7.5A7.5,7.5 0 0,1 7.5,0Z\" style=\"opacity: 1; stroke-width: 0px; fill: rgb(99, 110, 250); fill-opacity: 1;\"/><path class=\"point\" transform=\"translate(253.81,196.49)\" d=\"M7.5,0A7.5,7.5 0 1,1 0,-7.5A7.5,7.5 0 0,1 7.5,0Z\" style=\"opacity: 1; stroke-width: 0px; fill: rgb(99, 110, 250); fill-opacity: 1;\"/><path class=\"point\" transform=\"translate(255.1,197.5)\" d=\"M7.5,0A7.5,7.5 0 1,1 0,-7.5A7.5,7.5 0 0,1 7.5,0Z\" style=\"opacity: 1; stroke-width: 0px; fill: rgb(99, 110, 250); fill-opacity: 1;\"/><path class=\"point\" transform=\"translate(145.02,110.9)\" d=\"M7.5,0A7.5,7.5 0 1,1 0,-7.5A7.5,7.5 0 0,1 7.5,0Z\" style=\"opacity: 1; stroke-width: 0px; fill: rgb(99, 110, 250); fill-opacity: 1;\"/><path class=\"point\" transform=\"translate(112.65,85.43)\" d=\"M7.5,0A7.5,7.5 0 1,1 0,-7.5A7.5,7.5 0 0,1 7.5,0Z\" style=\"opacity: 1; stroke-width: 0px; fill: rgb(99, 110, 250); fill-opacity: 1;\"/><path class=\"point\" transform=\"translate(216.03,166.76)\" d=\"M7.5,0A7.5,7.5 0 1,1 0,-7.5A7.5,7.5 0 0,1 7.5,0Z\" style=\"opacity: 1; stroke-width: 0px; fill: rgb(99, 110, 250); fill-opacity: 1;\"/><path class=\"point\" transform=\"translate(271.33,210.27)\" d=\"M7.5,0A7.5,7.5 0 1,1 0,-7.5A7.5,7.5 0 0,1 7.5,0Z\" style=\"opacity: 1; stroke-width: 0px; fill: rgb(99, 110, 250); fill-opacity: 1;\"/><path class=\"point\" transform=\"translate(119.86,91.1)\" d=\"M7.5,0A7.5,7.5 0 1,1 0,-7.5A7.5,7.5 0 0,1 7.5,0Z\" style=\"opacity: 1; stroke-width: 0px; fill: rgb(99, 110, 250); fill-opacity: 1;\"/><path class=\"point\" transform=\"translate(301.04,233.64)\" d=\"M7.5,0A7.5,7.5 0 1,1 0,-7.5A7.5,7.5 0 0,1 7.5,0Z\" style=\"opacity: 1; stroke-width: 0px; fill: rgb(99, 110, 250); fill-opacity: 1;\"/><path class=\"point\" transform=\"translate(281.46,218.24)\" d=\"M7.5,0A7.5,7.5 0 1,1 0,-7.5A7.5,7.5 0 0,1 7.5,0Z\" style=\"opacity: 1; stroke-width: 0px; fill: rgb(99, 110, 250); fill-opacity: 1;\"/><path class=\"point\" transform=\"translate(271.5,210.4)\" d=\"M7.5,0A7.5,7.5 0 1,1 0,-7.5A7.5,7.5 0 0,1 7.5,0Z\" style=\"opacity: 1; stroke-width: 0px; fill: rgb(99, 110, 250); fill-opacity: 1;\"/><path class=\"point\" transform=\"translate(355.22,207.77)\" d=\"M7.5,0A7.5,7.5 0 1,1 0,-7.5A7.5,7.5 0 0,1 7.5,0Z\" style=\"opacity: 1; stroke-width: 0px; fill: rgb(99, 110, 250); fill-opacity: 1;\"/><path class=\"point\" transform=\"translate(302.67,234.92)\" d=\"M7.5,0A7.5,7.5 0 1,1 0,-7.5A7.5,7.5 0 0,1 7.5,0Z\" style=\"opacity: 1; stroke-width: 0px; fill: rgb(99, 110, 250); fill-opacity: 1;\"/><path class=\"point\" transform=\"translate(196.97,151.77)\" d=\"M7.5,0A7.5,7.5 0 1,1 0,-7.5A7.5,7.5 0 0,1 7.5,0Z\" style=\"opacity: 1; stroke-width: 0px; fill: rgb(99, 110, 250); fill-opacity: 1;\"/><path class=\"point\" transform=\"translate(205.21,158.25)\" d=\"M7.5,0A7.5,7.5 0 1,1 0,-7.5A7.5,7.5 0 0,1 7.5,0Z\" style=\"opacity: 1; stroke-width: 0px; fill: rgb(99, 110, 250); fill-opacity: 1;\"/><path class=\"point\" transform=\"translate(360.2,203.85)\" d=\"M7.5,0A7.5,7.5 0 1,1 0,-7.5A7.5,7.5 0 0,1 7.5,0Z\" style=\"opacity: 1; stroke-width: 0px; fill: rgb(99, 110, 250); fill-opacity: 1;\"/><path class=\"point\" transform=\"translate(216.03,166.76)\" d=\"M7.5,0A7.5,7.5 0 1,1 0,-7.5A7.5,7.5 0 0,1 7.5,0Z\" style=\"opacity: 1; stroke-width: 0px; fill: rgb(99, 110, 250); fill-opacity: 1;\"/><path class=\"point\" transform=\"translate(102.35,77.32)\" d=\"M7.5,0A7.5,7.5 0 1,1 0,-7.5A7.5,7.5 0 0,1 7.5,0Z\" style=\"opacity: 1; stroke-width: 0px; fill: rgb(99, 110, 250); fill-opacity: 1;\"/><path class=\"point\" transform=\"translate(129.4,98.6)\" d=\"M7.5,0A7.5,7.5 0 1,1 0,-7.5A7.5,7.5 0 0,1 7.5,0Z\" style=\"opacity: 1; stroke-width: 0px; fill: rgb(99, 110, 250); fill-opacity: 1;\"/><path class=\"point\" transform=\"translate(273.3,211.82)\" d=\"M7.5,0A7.5,7.5 0 1,1 0,-7.5A7.5,7.5 0 0,1 7.5,0Z\" style=\"opacity: 1; stroke-width: 0px; fill: rgb(99, 110, 250); fill-opacity: 1;\"/><path class=\"point\" transform=\"translate(213.71,164.94)\" d=\"M7.5,0A7.5,7.5 0 1,1 0,-7.5A7.5,7.5 0 0,1 7.5,0Z\" style=\"opacity: 1; stroke-width: 0px; fill: rgb(99, 110, 250); fill-opacity: 1;\"/><path class=\"point\" transform=\"translate(39.75,28.08)\" d=\"M7.5,0A7.5,7.5 0 1,1 0,-7.5A7.5,7.5 0 0,1 7.5,0Z\" style=\"opacity: 1; stroke-width: 0px; fill: rgb(99, 110, 250); fill-opacity: 1;\"/><path class=\"point\" transform=\"translate(249.35,192.97)\" d=\"M7.5,0A7.5,7.5 0 1,1 0,-7.5A7.5,7.5 0 0,1 7.5,0Z\" style=\"opacity: 1; stroke-width: 0px; fill: rgb(99, 110, 250); fill-opacity: 1;\"/></g><g class=\"text\"/></g><g class=\"trace scatter trace838a76\" style=\"stroke-miterlimit: 2; opacity: 1;\"><g class=\"fills\"/><g class=\"errorbars\"/><g class=\"lines\"><path class=\"js-line\" d=\"M238.55,256.5L458.86,142.65\" style=\"vector-effect: non-scaling-stroke; fill: none; stroke: rgb(0, 128, 0); stroke-opacity: 1; stroke-width: 2px; opacity: 1;\"/></g><g class=\"points\"/><g class=\"text\"/></g><g class=\"trace scatter trace01af9c\" style=\"stroke-miterlimit: 2; opacity: 1;\"><g class=\"fills\"/><g class=\"errorbars\"/><g class=\"lines\"><path class=\"js-line\" d=\"M33.14,116.44L238.55,256.5\" style=\"vector-effect: non-scaling-stroke; fill: none; stroke: rgb(255, 0, 0); stroke-opacity: 1; stroke-width: 2px; opacity: 1;\"/></g><g class=\"points\"/><g class=\"text\"/></g><g class=\"trace scatter trace5b5d26\" style=\"stroke-miterlimit: 2; opacity: 1;\"><g class=\"fills\"/><g class=\"errorbars\"/><g class=\"lines\"><path class=\"js-line\" d=\"M311.69,242.02L458.86,126.23\" style=\"vector-effect: non-scaling-stroke; fill: none; stroke: rgb(0, 0, 255); stroke-opacity: 1; stroke-width: 2px; opacity: 1;\"/></g><g class=\"points\"/><g class=\"text\"/></g><g class=\"trace scatter trace0cbfd0\" style=\"stroke-miterlimit: 2; opacity: 1;\"><g class=\"fills\"/><g class=\"errorbars\"/><g class=\"lines\"><path class=\"js-line\" d=\"M33.14,22.88L311.69,242.02\" style=\"vector-effect: non-scaling-stroke; fill: none; stroke: rgb(0, 0, 0); stroke-opacity: 1; stroke-width: 2px; opacity: 1;\"/></g><g class=\"points\"/><g class=\"text\"/></g></g></g><g class=\"overplot\"/><path class=\"xlines-above crisp\" style=\"fill: none;\" d=\"M0,0\"/><path class=\"ylines-above crisp\" style=\"fill: none;\" d=\"M0,0\"/><g class=\"overlines-above\"/><g class=\"xaxislayer-above\"><g class=\"xtick\"><text text-anchor=\"middle\" x=\"0\" y=\"389\" transform=\"translate(154.7,0)\" style=\"font-family: 'Open Sans', verdana, arial, sans-serif; font-size: 18px; fill: rgb(42, 63, 95); fill-opacity: 1; white-space: pre;\">−1</text></g><g class=\"xtick\"><text text-anchor=\"middle\" x=\"0\" y=\"389\" transform=\"translate(240.56,0)\" style=\"font-family: 'Open Sans', verdana, arial, sans-serif; font-size: 18px; fill: rgb(42, 63, 95); fill-opacity: 1; white-space: pre;\">0</text></g><g class=\"xtick\"><text text-anchor=\"middle\" x=\"0\" y=\"389\" transform=\"translate(326.43,0)\" style=\"font-family: 'Open Sans', verdana, arial, sans-serif; font-size: 18px; fill: rgb(42, 63, 95); fill-opacity: 1; white-space: pre;\">1</text></g><g class=\"xtick\"><text text-anchor=\"middle\" x=\"0\" y=\"389\" transform=\"translate(412.29,0)\" style=\"font-family: 'Open Sans', verdana, arial, sans-serif; font-size: 18px; fill: rgb(42, 63, 95); fill-opacity: 1; white-space: pre;\">2</text></g><g class=\"xtick\"><text text-anchor=\"middle\" x=\"0\" y=\"389\" transform=\"translate(498.16,0)\" style=\"font-family: 'Open Sans', verdana, arial, sans-serif; font-size: 18px; fill: rgb(42, 63, 95); fill-opacity: 1; white-space: pre;\">3</text></g></g><g class=\"yaxislayer-above\"><g class=\"ytick\"><text text-anchor=\"end\" x=\"79\" y=\"6.3\" transform=\"translate(0,325.81)\" style=\"font-family: 'Open Sans', verdana, arial, sans-serif; font-size: 18px; fill: rgb(42, 63, 95); fill-opacity: 1; white-space: pre;\">2</text></g><g class=\"ytick\"><text text-anchor=\"end\" x=\"79\" y=\"6.3\" transform=\"translate(0,258.25)\" style=\"font-family: 'Open Sans', verdana, arial, sans-serif; font-size: 18px; fill: rgb(42, 63, 95); fill-opacity: 1; white-space: pre;\">3</text></g><g class=\"ytick\"><text text-anchor=\"end\" x=\"79\" y=\"6.3\" transform=\"translate(0,190.7)\" style=\"font-family: 'Open Sans', verdana, arial, sans-serif; font-size: 18px; fill: rgb(42, 63, 95); fill-opacity: 1; white-space: pre;\">4</text></g><g class=\"ytick\"><text text-anchor=\"end\" x=\"79\" y=\"6.3\" transform=\"translate(0,123.15)\" style=\"font-family: 'Open Sans', verdana, arial, sans-serif; font-size: 18px; fill: rgb(42, 63, 95); fill-opacity: 1; white-space: pre;\">5</text></g></g><g class=\"overaxes-above\"/></g></g><g class=\"polarlayer\"/><g class=\"ternarylayer\"/><g class=\"geolayer\"/><g class=\"funnelarealayer\"/><g class=\"pielayer\"/><g class=\"treemaplayer\"/><g class=\"sunburstlayer\"/><g class=\"glimages\"/><defs id=\"topdefs-93bc6a\"><g class=\"clips\"/><clipPath id=\"legend93bc6a\"><rect width=\"106\" height=\"105\" x=\"0\" y=\"0\"/></clipPath></defs><g class=\"layer-above\"><g class=\"imagelayer\"/><g class=\"shapelayer\"/></g><g class=\"infolayer\"><g class=\"legend\" pointer-events=\"all\" transform=\"translate(594, 100)\"><rect class=\"bg\" shape-rendering=\"crispEdges\" style=\"stroke: rgb(68, 68, 68); stroke-opacity: 1; fill: rgb(255, 255, 255); fill-opacity: 1; stroke-width: 0px;\" width=\"106\" height=\"105\" x=\"0\" y=\"0\"/><g class=\"scrollbox\" transform=\"translate(0, 0)\" clip-path=\"url('#legend93bc6a')\"><g class=\"groups\"><g class=\"traces\" style=\"opacity: 1;\" transform=\"translate(0, 14.5)\"><text class=\"legendtext\" text-anchor=\"start\" x=\"40\" y=\"4.680000000000001\" style=\"font-family: 'Open Sans', verdana, arial, sans-serif; font-size: 12px; fill: rgb(42, 63, 95); fill-opacity: 1; white-space: pre;\">2e-</text><g class=\"layers\" style=\"opacity: 1;\"><g class=\"legendfill\"/><g class=\"legendlines\"/><g class=\"legendsymbols\"><g class=\"legendpoints\"><path class=\"scatterpts\" transform=\"translate(20,0)\" d=\"M7.5,0A7.5,7.5 0 1,1 0,-7.5A7.5,7.5 0 0,1 7.5,0Z\" style=\"opacity: 1; stroke-width: 0px; fill: rgb(99, 110, 250); fill-opacity: 1;\"/></g></g></g><rect class=\"legendtoggle\" pointer-events=\"all\" x=\"0\" y=\"-9.5\" width=\"100.5712890625\" height=\"19\" style=\"cursor: pointer; fill: rgb(0, 0, 0); fill-opacity: 0;\"/></g><g class=\"traces\" style=\"opacity: 1;\" transform=\"translate(0, 33.5)\"><g class=\"legendtext-math-group\" pointer-events=\"none\" data-unformatted=\"$\\Delta G_{\\text{2}} \\text{ (4e-)}$\" data-math=\"Y\" transform=\"translate(0, 3.572265625)\"><svg xmlns:xlink=\"http://www.w3.org/1999/xlink\" width=\"10.176ex\" height=\"17.0625\" viewBox=\"0 -842.1 4381.4 1194.1\" role=\"img\" focusable=\"false\" aria-hidden=\"true\" style=\"vertical-align: -0.818ex; overflow: visible; pointer-events: none;\" class=\"legendtext-math\" preserveAspectRatio=\"xMinYMin meet\" x=\"40\" y=\"-10.144502639770508\"><defs id=\"MathJax_SVG_glyphs\"><path stroke-width=\"1\" id=\"MJMAIN-394\" d=\"M51 0Q46 4 46 7Q46 9 215 357T388 709Q391 716 416 716Q439 716 444 709Q447 705 616 357T786 7Q786 4 781 0H51ZM507 344L384 596L137 92L383 91H630Q630 93 507 344Z\"/><path stroke-width=\"1\" id=\"MJMATHI-47\" d=\"M50 252Q50 367 117 473T286 641T490 704Q580 704 633 653Q642 643 648 636T656 626L657 623Q660 623 684 649Q691 655 699 663T715 679T725 690L740 705H746Q760 705 760 698Q760 694 728 561Q692 422 692 421Q690 416 687 415T669 413H653Q647 419 647 422Q647 423 648 429T650 449T651 481Q651 552 619 605T510 659Q492 659 471 656T418 643T357 615T294 567T236 496T189 394T158 260Q156 242 156 221Q156 173 170 136T206 79T256 45T308 28T353 24Q407 24 452 47T514 106Q517 114 529 161T541 214Q541 222 528 224T468 227H431Q425 233 425 235T427 254Q431 267 437 273H454Q494 271 594 271Q634 271 659 271T695 272T707 272Q721 272 721 263Q721 261 719 249Q714 230 709 228Q706 227 694 227Q674 227 653 224Q646 221 643 215T629 164Q620 131 614 108Q589 6 586 3Q584 1 581 1Q571 1 553 21T530 52Q530 53 528 52T522 47Q448 -22 322 -22Q201 -22 126 55T50 252Z\"/><path stroke-width=\"1\" id=\"MJMAIN-4F\" d=\"M56 340Q56 423 86 494T164 610T270 680T388 705Q521 705 621 601T722 341Q722 260 693 191T617 75T510 4T388 -22T267 3T160 74T85 189T56 340ZM467 647Q426 665 388 665Q360 665 331 654T269 620T213 549T179 439Q174 411 174 354Q174 144 277 61Q327 20 385 20H389H391Q474 20 537 99Q603 188 603 354Q603 411 598 439Q577 592 467 647Z\"/><path stroke-width=\"1\" id=\"MJMAIN-48\" d=\"M128 622Q121 629 117 631T101 634T58 637H25V683H36Q57 680 180 680Q315 680 324 683H335V637H302Q262 636 251 634T233 622L232 500V378H517V622Q510 629 506 631T490 634T447 637H414V683H425Q446 680 569 680Q704 680 713 683H724V637H691Q651 636 640 634T622 622V61Q628 51 639 49T691 46H724V0H713Q692 3 569 3Q434 3 425 0H414V46H447Q489 47 498 49T517 61V332H232V197L233 61Q239 51 250 49T302 46H335V0H324Q303 3 180 3Q45 3 36 0H25V46H58Q100 47 109 49T128 61V622Z\"/><path stroke-width=\"1\" id=\"MJMAIN-3D\" d=\"M56 347Q56 360 70 367H707Q722 359 722 347Q722 336 708 328L390 327H72Q56 332 56 347ZM56 153Q56 168 72 173H708Q722 163 722 153Q722 140 707 133H70Q56 140 56 153Z\"/><path stroke-width=\"1\" id=\"MJMAIN-30\" d=\"M96 585Q152 666 249 666Q297 666 345 640T423 548Q460 465 460 320Q460 165 417 83Q397 41 362 16T301 -15T250 -22Q224 -22 198 -16T137 16T82 83Q39 165 39 320Q39 494 96 585ZM321 597Q291 629 250 629Q208 629 178 597Q153 571 145 525T137 333Q137 175 145 125T181 46Q209 16 250 16Q290 16 318 46Q347 76 354 130T362 333Q362 478 354 524T321 597Z\"/><path stroke-width=\"1\" id=\"MJMAIN-2E\" d=\"M78 60Q78 84 95 102T138 120Q162 120 180 104T199 61Q199 36 182 18T139 0T96 17T78 60Z\"/><path stroke-width=\"1\" id=\"MJMAIN-37\" d=\"M55 458Q56 460 72 567L88 674Q88 676 108 676H128V672Q128 662 143 655T195 646T364 644H485V605L417 512Q408 500 387 472T360 435T339 403T319 367T305 330T292 284T284 230T278 162T275 80Q275 66 275 52T274 28V19Q270 2 255 -10T221 -22Q210 -22 200 -19T179 0T168 40Q168 198 265 368Q285 400 349 489L395 552H302Q128 552 119 546Q113 543 108 522T98 479L95 458V455H55V458Z\"/><path stroke-width=\"1\" id=\"MJMAIN-39\" d=\"M352 287Q304 211 232 211Q154 211 104 270T44 396Q42 412 42 436V444Q42 537 111 606Q171 666 243 666Q245 666 249 666T257 665H261Q273 665 286 663T323 651T370 619T413 560Q456 472 456 334Q456 194 396 97Q361 41 312 10T208 -22Q147 -22 108 7T68 93T121 149Q143 149 158 135T173 96Q173 78 164 65T148 49T135 44L131 43Q131 41 138 37T164 27T206 22H212Q272 22 313 86Q352 142 352 280V287ZM244 248Q292 248 321 297T351 430Q351 508 343 542Q341 552 337 562T323 588T293 615T246 625Q208 625 181 598Q160 576 154 546T147 441Q147 358 152 329T172 282Q197 248 244 248Z\"/><path stroke-width=\"1\" id=\"MJMAIN-2B\" d=\"M56 237T56 250T70 270H369V420L370 570Q380 583 389 583Q402 583 409 568V270H707Q722 262 722 250T707 230H409V-68Q401 -82 391 -82H389H387Q375 -82 369 -68V230H70Q56 237 56 250Z\"/><path stroke-width=\"1\" id=\"MJMAIN-33\" d=\"M127 463Q100 463 85 480T69 524Q69 579 117 622T233 665Q268 665 277 664Q351 652 390 611T430 522Q430 470 396 421T302 350L299 348Q299 347 308 345T337 336T375 315Q457 262 457 175Q457 96 395 37T238 -22Q158 -22 100 21T42 130Q42 158 60 175T105 193Q133 193 151 175T169 130Q169 119 166 110T159 94T148 82T136 74T126 70T118 67L114 66Q165 21 238 21Q293 21 321 74Q338 107 338 175V195Q338 290 274 322Q259 328 213 329L171 330L168 332Q166 335 166 348Q166 366 174 366Q202 366 232 371Q266 376 294 413T322 525V533Q322 590 287 612Q265 626 240 626Q208 626 181 615T143 592T132 580H135Q138 579 143 578T153 573T165 566T175 555T183 540T186 520Q186 498 172 481T127 463Z\"/><path stroke-width=\"1\" id=\"MJMAIN-32\" d=\"M109 429Q82 429 66 447T50 491Q50 562 103 614T235 666Q326 666 387 610T449 465Q449 422 429 383T381 315T301 241Q265 210 201 149L142 93L218 92Q375 92 385 97Q392 99 409 186V189H449V186Q448 183 436 95T421 3V0H50V19V31Q50 38 56 46T86 81Q115 113 136 137Q145 147 170 174T204 211T233 244T261 278T284 308T305 340T320 369T333 401T340 431T343 464Q343 527 309 573T212 619Q179 619 154 602T119 569T109 550Q109 549 114 549Q132 549 151 535T170 489Q170 464 154 447T109 429Z\"/><path stroke-width=\"1\" id=\"MJMAIN-38\" d=\"M70 417T70 494T124 618T248 666Q319 666 374 624T429 515Q429 485 418 459T392 417T361 389T335 371T324 363L338 354Q352 344 366 334T382 323Q457 264 457 174Q457 95 399 37T249 -22Q159 -22 101 29T43 155Q43 263 172 335L154 348Q133 361 127 368Q70 417 70 494ZM286 386L292 390Q298 394 301 396T311 403T323 413T334 425T345 438T355 454T364 471T369 491T371 513Q371 556 342 586T275 624Q268 625 242 625Q201 625 165 599T128 534Q128 511 141 492T167 463T217 431Q224 426 228 424L286 386ZM250 21Q308 21 350 55T392 137Q392 154 387 169T375 194T353 216T330 234T301 253T274 270Q260 279 244 289T218 306L210 311Q204 311 181 294T133 239T107 157Q107 98 150 60T250 21Z\"/><path stroke-width=\"1\" id=\"MJMAIN-31\" d=\"M213 578L200 573Q186 568 160 563T102 556H83V602H102Q149 604 189 617T245 641T273 663Q275 666 285 666Q294 666 302 660V361L303 61Q310 54 315 52T339 48T401 46H427V0H416Q395 3 257 3Q121 3 100 0H88V46H114Q136 46 152 46T177 47T193 50T201 52T207 57T213 61V578Z\"/><path stroke-width=\"1\" id=\"MJMAIN-36\" d=\"M42 313Q42 476 123 571T303 666Q372 666 402 630T432 550Q432 525 418 510T379 495Q356 495 341 509T326 548Q326 592 373 601Q351 623 311 626Q240 626 194 566Q147 500 147 364L148 360Q153 366 156 373Q197 433 263 433H267Q313 433 348 414Q372 400 396 374T435 317Q456 268 456 210V192Q456 169 451 149Q440 90 387 34T253 -22Q225 -22 199 -14T143 16T92 75T56 172T42 313ZM257 397Q227 397 205 380T171 335T154 278T148 216Q148 133 160 97T198 39Q222 21 251 21Q302 21 329 59Q342 77 347 104T352 209Q352 289 347 316T329 361Q302 397 257 397Z\"/><path stroke-width=\"1\" id=\"MJMAIN-35\" d=\"M164 157Q164 133 148 117T109 101H102Q148 22 224 22Q294 22 326 82Q345 115 345 210Q345 313 318 349Q292 382 260 382H254Q176 382 136 314Q132 307 129 306T114 304Q97 304 95 310Q93 314 93 485V614Q93 664 98 664Q100 666 102 666Q103 666 123 658T178 642T253 634Q324 634 389 662Q397 666 402 666Q410 666 410 648V635Q328 538 205 538Q174 538 149 544L139 546V374Q158 388 169 396T205 412T256 420Q337 420 393 355T449 201Q449 109 385 44T229 -22Q148 -22 99 32T50 154Q50 178 61 192T84 210T107 214Q132 214 148 197T164 157Z\"/><path stroke-width=\"1\" id=\"MJMAIN-34\" d=\"M462 0Q444 3 333 3Q217 3 199 0H190V46H221Q241 46 248 46T265 48T279 53T286 61Q287 63 287 115V165H28V211L179 442Q332 674 334 675Q336 677 355 677H373L379 671V211H471V165H379V114Q379 73 379 66T385 54Q393 47 442 46H471V0H462ZM293 211V545L74 212L183 211H293Z\"/><path stroke-width=\"1\" id=\"MJMAIN-2D\" d=\"M11 179V252H277V179H11Z\"/><path stroke-width=\"1\" id=\"MJMAIN-28\" d=\"M94 250Q94 319 104 381T127 488T164 576T202 643T244 695T277 729T302 750H315H319Q333 750 333 741Q333 738 316 720T275 667T226 581T184 443T167 250T184 58T225 -81T274 -167T316 -220T333 -241Q333 -250 318 -250H315H302L274 -226Q180 -141 137 -14T94 250Z\"/><path stroke-width=\"1\" id=\"MJMAIN-65\" d=\"M28 218Q28 273 48 318T98 391T163 433T229 448Q282 448 320 430T378 380T406 316T415 245Q415 238 408 231H126V216Q126 68 226 36Q246 30 270 30Q312 30 342 62Q359 79 369 104L379 128Q382 131 395 131H398Q415 131 415 121Q415 117 412 108Q393 53 349 21T250 -11Q155 -11 92 58T28 218ZM333 275Q322 403 238 411H236Q228 411 220 410T195 402T166 381T143 340T127 274V267H333V275Z\"/><path stroke-width=\"1\" id=\"MJMAIN-56\" d=\"M114 620Q113 621 110 624T107 627T103 630T98 632T91 634T80 635T67 636T48 637H19V683H28Q46 680 152 680Q273 680 294 683H305V637H284Q223 634 223 620Q223 618 313 372T404 126L490 358Q575 588 575 597Q575 616 554 626T508 637H503V683H512Q527 680 627 680Q718 680 724 683H730V637H723Q648 637 627 596Q627 595 515 291T401 -14Q396 -22 382 -22H374H367Q353 -22 348 -14Q346 -12 231 303Q114 617 114 620Z\"/><path stroke-width=\"1\" id=\"MJMAIN-29\" d=\"M60 749L64 750Q69 750 74 750H86L114 726Q208 641 251 514T294 250Q294 182 284 119T261 12T224 -76T186 -143T145 -194T113 -227T90 -246Q87 -249 86 -250H74Q66 -250 63 -250T58 -247T55 -238Q56 -237 66 -225Q221 -64 221 250T66 725Q56 737 55 738Q55 746 60 749Z\"/><path stroke-width=\"1\" id=\"MJMAIN-58\" d=\"M270 0Q252 3 141 3Q46 3 31 0H23V46H40Q129 50 161 88Q165 94 244 216T324 339Q324 341 235 480T143 622Q133 631 119 634T57 637H37V683H46Q64 680 172 680Q297 680 318 683H329V637H324Q307 637 286 632T263 621Q263 618 322 525T384 431Q385 431 437 511T489 593Q490 595 490 599Q490 611 477 622T436 637H428V683H437Q455 680 566 680Q661 680 676 683H684V637H667Q585 634 551 599Q548 596 478 491Q412 388 412 387Q412 385 514 225T620 62Q628 53 642 50T695 46H726V0H717Q699 3 591 3Q466 3 445 0H434V46H440Q454 46 476 51T499 64Q499 67 463 124T390 238L353 295L350 292Q348 290 343 283T331 265T312 236T286 195Q219 88 218 84Q218 70 234 59T272 46H280V0H270Z\"/><path stroke-width=\"1\" id=\"MJMATHI-55\" d=\"M107 637Q73 637 71 641Q70 643 70 649Q70 673 81 682Q83 683 98 683Q139 681 234 681Q268 681 297 681T342 682T362 682Q378 682 378 672Q378 670 376 658Q371 641 366 638H364Q362 638 359 638T352 638T343 637T334 637Q295 636 284 634T266 623Q265 621 238 518T184 302T154 169Q152 155 152 140Q152 86 183 55T269 24Q336 24 403 69T501 205L552 406Q599 598 599 606Q599 633 535 637Q511 637 511 648Q511 650 513 660Q517 676 519 679T529 683Q532 683 561 682T645 680Q696 680 723 681T752 682Q767 682 767 672Q767 650 759 642Q756 637 737 637Q666 633 648 597Q646 592 598 404Q557 235 548 205Q515 105 433 42T263 -22Q171 -22 116 34T60 167V183Q60 201 115 421Q164 622 164 628Q164 635 107 637Z\"/><path stroke-width=\"1\" id=\"MJMAIN-4C\" d=\"M128 622Q121 629 117 631T101 634T58 637H25V683H36Q48 680 182 680Q324 680 348 683H360V637H333Q273 637 258 635T233 622L232 342V129Q232 57 237 52Q243 47 313 47Q384 47 410 53Q470 70 498 110T536 221Q536 226 537 238T540 261T542 272T562 273H582V268Q580 265 568 137T554 5V0H25V46H58Q100 47 109 49T128 61V622Z\"/></defs><g stroke=\"rgb(42, 63, 95)\" fill=\"rgb(42, 63, 95)\" stroke-width=\"0\" transform=\"matrix(1 0 0 -1 0 0)\"><use xlink:href=\"#MJMAIN-394\" x=\"0\" y=\"0\"/><g transform=\"translate(833,0)\"><use xlink:href=\"#MJMATHI-47\" x=\"0\" y=\"0\"/><use transform=\"scale(0.707)\" xlink:href=\"#MJMAIN-32\" x=\"1112\" y=\"-213\"/></g><g transform=\"translate(2073,0)\"><use xlink:href=\"#MJMAIN-28\" x=\"250\" y=\"0\"/><use xlink:href=\"#MJMAIN-34\" x=\"639\" y=\"0\"/><use xlink:href=\"#MJMAIN-65\" x=\"1140\" y=\"0\"/><use xlink:href=\"#MJMAIN-2D\" x=\"1584\" y=\"0\"/><use xlink:href=\"#MJMAIN-29\" x=\"1918\" y=\"0\"/></g></g></svg></g><g class=\"layers\" style=\"opacity: 1;\"><g class=\"legendfill\"/><g class=\"legendlines\"><path class=\"js-line\" d=\"M5,0h30\" style=\"fill: none; stroke: rgb(0, 128, 0); stroke-opacity: 1; stroke-width: 2px;\"/></g><g class=\"legendsymbols\"><g class=\"legendpoints\"/></g></g><rect class=\"legendtoggle\" pointer-events=\"all\" x=\"0\" y=\"-9.5\" width=\"100.5712890625\" height=\"19\" style=\"cursor: pointer; fill: rgb(0, 0, 0); fill-opacity: 0;\"/></g><g class=\"traces\" style=\"opacity: 1;\" transform=\"translate(0, 52.5)\"><g class=\"legendtext-math-group\" pointer-events=\"none\" data-unformatted=\"$\\Delta G_{\\text{3}} \\text{ (4e-)}$\" data-math=\"Y\" transform=\"translate(0, 3.572265625)\"><svg xmlns:xlink=\"http://www.w3.org/1999/xlink\" width=\"10.176ex\" height=\"17.0625\" viewBox=\"0 -842.1 4381.4 1194.1\" role=\"img\" focusable=\"false\" aria-hidden=\"true\" style=\"vertical-align: -0.818ex; overflow: visible; pointer-events: none;\" class=\"legendtext-math\" preserveAspectRatio=\"xMinYMin meet\" x=\"40\" y=\"-10.144502639770508\"><defs id=\"MathJax_SVG_glyphs\"><path stroke-width=\"1\" id=\"MJMAIN-394\" d=\"M51 0Q46 4 46 7Q46 9 215 357T388 709Q391 716 416 716Q439 716 444 709Q447 705 616 357T786 7Q786 4 781 0H51ZM507 344L384 596L137 92L383 91H630Q630 93 507 344Z\"/><path stroke-width=\"1\" id=\"MJMATHI-47\" d=\"M50 252Q50 367 117 473T286 641T490 704Q580 704 633 653Q642 643 648 636T656 626L657 623Q660 623 684 649Q691 655 699 663T715 679T725 690L740 705H746Q760 705 760 698Q760 694 728 561Q692 422 692 421Q690 416 687 415T669 413H653Q647 419 647 422Q647 423 648 429T650 449T651 481Q651 552 619 605T510 659Q492 659 471 656T418 643T357 615T294 567T236 496T189 394T158 260Q156 242 156 221Q156 173 170 136T206 79T256 45T308 28T353 24Q407 24 452 47T514 106Q517 114 529 161T541 214Q541 222 528 224T468 227H431Q425 233 425 235T427 254Q431 267 437 273H454Q494 271 594 271Q634 271 659 271T695 272T707 272Q721 272 721 263Q721 261 719 249Q714 230 709 228Q706 227 694 227Q674 227 653 224Q646 221 643 215T629 164Q620 131 614 108Q589 6 586 3Q584 1 581 1Q571 1 553 21T530 52Q530 53 528 52T522 47Q448 -22 322 -22Q201 -22 126 55T50 252Z\"/><path stroke-width=\"1\" id=\"MJMAIN-4F\" d=\"M56 340Q56 423 86 494T164 610T270 680T388 705Q521 705 621 601T722 341Q722 260 693 191T617 75T510 4T388 -22T267 3T160 74T85 189T56 340ZM467 647Q426 665 388 665Q360 665 331 654T269 620T213 549T179 439Q174 411 174 354Q174 144 277 61Q327 20 385 20H389H391Q474 20 537 99Q603 188 603 354Q603 411 598 439Q577 592 467 647Z\"/><path stroke-width=\"1\" id=\"MJMAIN-48\" d=\"M128 622Q121 629 117 631T101 634T58 637H25V683H36Q57 680 180 680Q315 680 324 683H335V637H302Q262 636 251 634T233 622L232 500V378H517V622Q510 629 506 631T490 634T447 637H414V683H425Q446 680 569 680Q704 680 713 683H724V637H691Q651 636 640 634T622 622V61Q628 51 639 49T691 46H724V0H713Q692 3 569 3Q434 3 425 0H414V46H447Q489 47 498 49T517 61V332H232V197L233 61Q239 51 250 49T302 46H335V0H324Q303 3 180 3Q45 3 36 0H25V46H58Q100 47 109 49T128 61V622Z\"/><path stroke-width=\"1\" id=\"MJMAIN-3D\" d=\"M56 347Q56 360 70 367H707Q722 359 722 347Q722 336 708 328L390 327H72Q56 332 56 347ZM56 153Q56 168 72 173H708Q722 163 722 153Q722 140 707 133H70Q56 140 56 153Z\"/><path stroke-width=\"1\" id=\"MJMAIN-30\" d=\"M96 585Q152 666 249 666Q297 666 345 640T423 548Q460 465 460 320Q460 165 417 83Q397 41 362 16T301 -15T250 -22Q224 -22 198 -16T137 16T82 83Q39 165 39 320Q39 494 96 585ZM321 597Q291 629 250 629Q208 629 178 597Q153 571 145 525T137 333Q137 175 145 125T181 46Q209 16 250 16Q290 16 318 46Q347 76 354 130T362 333Q362 478 354 524T321 597Z\"/><path stroke-width=\"1\" id=\"MJMAIN-2E\" d=\"M78 60Q78 84 95 102T138 120Q162 120 180 104T199 61Q199 36 182 18T139 0T96 17T78 60Z\"/><path stroke-width=\"1\" id=\"MJMAIN-37\" d=\"M55 458Q56 460 72 567L88 674Q88 676 108 676H128V672Q128 662 143 655T195 646T364 644H485V605L417 512Q408 500 387 472T360 435T339 403T319 367T305 330T292 284T284 230T278 162T275 80Q275 66 275 52T274 28V19Q270 2 255 -10T221 -22Q210 -22 200 -19T179 0T168 40Q168 198 265 368Q285 400 349 489L395 552H302Q128 552 119 546Q113 543 108 522T98 479L95 458V455H55V458Z\"/><path stroke-width=\"1\" id=\"MJMAIN-39\" d=\"M352 287Q304 211 232 211Q154 211 104 270T44 396Q42 412 42 436V444Q42 537 111 606Q171 666 243 666Q245 666 249 666T257 665H261Q273 665 286 663T323 651T370 619T413 560Q456 472 456 334Q456 194 396 97Q361 41 312 10T208 -22Q147 -22 108 7T68 93T121 149Q143 149 158 135T173 96Q173 78 164 65T148 49T135 44L131 43Q131 41 138 37T164 27T206 22H212Q272 22 313 86Q352 142 352 280V287ZM244 248Q292 248 321 297T351 430Q351 508 343 542Q341 552 337 562T323 588T293 615T246 625Q208 625 181 598Q160 576 154 546T147 441Q147 358 152 329T172 282Q197 248 244 248Z\"/><path stroke-width=\"1\" id=\"MJMAIN-2B\" d=\"M56 237T56 250T70 270H369V420L370 570Q380 583 389 583Q402 583 409 568V270H707Q722 262 722 250T707 230H409V-68Q401 -82 391 -82H389H387Q375 -82 369 -68V230H70Q56 237 56 250Z\"/><path stroke-width=\"1\" id=\"MJMAIN-33\" d=\"M127 463Q100 463 85 480T69 524Q69 579 117 622T233 665Q268 665 277 664Q351 652 390 611T430 522Q430 470 396 421T302 350L299 348Q299 347 308 345T337 336T375 315Q457 262 457 175Q457 96 395 37T238 -22Q158 -22 100 21T42 130Q42 158 60 175T105 193Q133 193 151 175T169 130Q169 119 166 110T159 94T148 82T136 74T126 70T118 67L114 66Q165 21 238 21Q293 21 321 74Q338 107 338 175V195Q338 290 274 322Q259 328 213 329L171 330L168 332Q166 335 166 348Q166 366 174 366Q202 366 232 371Q266 376 294 413T322 525V533Q322 590 287 612Q265 626 240 626Q208 626 181 615T143 592T132 580H135Q138 579 143 578T153 573T165 566T175 555T183 540T186 520Q186 498 172 481T127 463Z\"/><path stroke-width=\"1\" id=\"MJMAIN-32\" d=\"M109 429Q82 429 66 447T50 491Q50 562 103 614T235 666Q326 666 387 610T449 465Q449 422 429 383T381 315T301 241Q265 210 201 149L142 93L218 92Q375 92 385 97Q392 99 409 186V189H449V186Q448 183 436 95T421 3V0H50V19V31Q50 38 56 46T86 81Q115 113 136 137Q145 147 170 174T204 211T233 244T261 278T284 308T305 340T320 369T333 401T340 431T343 464Q343 527 309 573T212 619Q179 619 154 602T119 569T109 550Q109 549 114 549Q132 549 151 535T170 489Q170 464 154 447T109 429Z\"/><path stroke-width=\"1\" id=\"MJMAIN-38\" d=\"M70 417T70 494T124 618T248 666Q319 666 374 624T429 515Q429 485 418 459T392 417T361 389T335 371T324 363L338 354Q352 344 366 334T382 323Q457 264 457 174Q457 95 399 37T249 -22Q159 -22 101 29T43 155Q43 263 172 335L154 348Q133 361 127 368Q70 417 70 494ZM286 386L292 390Q298 394 301 396T311 403T323 413T334 425T345 438T355 454T364 471T369 491T371 513Q371 556 342 586T275 624Q268 625 242 625Q201 625 165 599T128 534Q128 511 141 492T167 463T217 431Q224 426 228 424L286 386ZM250 21Q308 21 350 55T392 137Q392 154 387 169T375 194T353 216T330 234T301 253T274 270Q260 279 244 289T218 306L210 311Q204 311 181 294T133 239T107 157Q107 98 150 60T250 21Z\"/><path stroke-width=\"1\" id=\"MJMAIN-31\" d=\"M213 578L200 573Q186 568 160 563T102 556H83V602H102Q149 604 189 617T245 641T273 663Q275 666 285 666Q294 666 302 660V361L303 61Q310 54 315 52T339 48T401 46H427V0H416Q395 3 257 3Q121 3 100 0H88V46H114Q136 46 152 46T177 47T193 50T201 52T207 57T213 61V578Z\"/><path stroke-width=\"1\" id=\"MJMAIN-36\" d=\"M42 313Q42 476 123 571T303 666Q372 666 402 630T432 550Q432 525 418 510T379 495Q356 495 341 509T326 548Q326 592 373 601Q351 623 311 626Q240 626 194 566Q147 500 147 364L148 360Q153 366 156 373Q197 433 263 433H267Q313 433 348 414Q372 400 396 374T435 317Q456 268 456 210V192Q456 169 451 149Q440 90 387 34T253 -22Q225 -22 199 -14T143 16T92 75T56 172T42 313ZM257 397Q227 397 205 380T171 335T154 278T148 216Q148 133 160 97T198 39Q222 21 251 21Q302 21 329 59Q342 77 347 104T352 209Q352 289 347 316T329 361Q302 397 257 397Z\"/><path stroke-width=\"1\" id=\"MJMAIN-35\" d=\"M164 157Q164 133 148 117T109 101H102Q148 22 224 22Q294 22 326 82Q345 115 345 210Q345 313 318 349Q292 382 260 382H254Q176 382 136 314Q132 307 129 306T114 304Q97 304 95 310Q93 314 93 485V614Q93 664 98 664Q100 666 102 666Q103 666 123 658T178 642T253 634Q324 634 389 662Q397 666 402 666Q410 666 410 648V635Q328 538 205 538Q174 538 149 544L139 546V374Q158 388 169 396T205 412T256 420Q337 420 393 355T449 201Q449 109 385 44T229 -22Q148 -22 99 32T50 154Q50 178 61 192T84 210T107 214Q132 214 148 197T164 157Z\"/><path stroke-width=\"1\" id=\"MJMAIN-34\" d=\"M462 0Q444 3 333 3Q217 3 199 0H190V46H221Q241 46 248 46T265 48T279 53T286 61Q287 63 287 115V165H28V211L179 442Q332 674 334 675Q336 677 355 677H373L379 671V211H471V165H379V114Q379 73 379 66T385 54Q393 47 442 46H471V0H462ZM293 211V545L74 212L183 211H293Z\"/><path stroke-width=\"1\" id=\"MJMAIN-2D\" d=\"M11 179V252H277V179H11Z\"/><path stroke-width=\"1\" id=\"MJMAIN-28\" d=\"M94 250Q94 319 104 381T127 488T164 576T202 643T244 695T277 729T302 750H315H319Q333 750 333 741Q333 738 316 720T275 667T226 581T184 443T167 250T184 58T225 -81T274 -167T316 -220T333 -241Q333 -250 318 -250H315H302L274 -226Q180 -141 137 -14T94 250Z\"/><path stroke-width=\"1\" id=\"MJMAIN-65\" d=\"M28 218Q28 273 48 318T98 391T163 433T229 448Q282 448 320 430T378 380T406 316T415 245Q415 238 408 231H126V216Q126 68 226 36Q246 30 270 30Q312 30 342 62Q359 79 369 104L379 128Q382 131 395 131H398Q415 131 415 121Q415 117 412 108Q393 53 349 21T250 -11Q155 -11 92 58T28 218ZM333 275Q322 403 238 411H236Q228 411 220 410T195 402T166 381T143 340T127 274V267H333V275Z\"/><path stroke-width=\"1\" id=\"MJMAIN-56\" d=\"M114 620Q113 621 110 624T107 627T103 630T98 632T91 634T80 635T67 636T48 637H19V683H28Q46 680 152 680Q273 680 294 683H305V637H284Q223 634 223 620Q223 618 313 372T404 126L490 358Q575 588 575 597Q575 616 554 626T508 637H503V683H512Q527 680 627 680Q718 680 724 683H730V637H723Q648 637 627 596Q627 595 515 291T401 -14Q396 -22 382 -22H374H367Q353 -22 348 -14Q346 -12 231 303Q114 617 114 620Z\"/><path stroke-width=\"1\" id=\"MJMAIN-29\" d=\"M60 749L64 750Q69 750 74 750H86L114 726Q208 641 251 514T294 250Q294 182 284 119T261 12T224 -76T186 -143T145 -194T113 -227T90 -246Q87 -249 86 -250H74Q66 -250 63 -250T58 -247T55 -238Q56 -237 66 -225Q221 -64 221 250T66 725Q56 737 55 738Q55 746 60 749Z\"/><path stroke-width=\"1\" id=\"MJMAIN-58\" d=\"M270 0Q252 3 141 3Q46 3 31 0H23V46H40Q129 50 161 88Q165 94 244 216T324 339Q324 341 235 480T143 622Q133 631 119 634T57 637H37V683H46Q64 680 172 680Q297 680 318 683H329V637H324Q307 637 286 632T263 621Q263 618 322 525T384 431Q385 431 437 511T489 593Q490 595 490 599Q490 611 477 622T436 637H428V683H437Q455 680 566 680Q661 680 676 683H684V637H667Q585 634 551 599Q548 596 478 491Q412 388 412 387Q412 385 514 225T620 62Q628 53 642 50T695 46H726V0H717Q699 3 591 3Q466 3 445 0H434V46H440Q454 46 476 51T499 64Q499 67 463 124T390 238L353 295L350 292Q348 290 343 283T331 265T312 236T286 195Q219 88 218 84Q218 70 234 59T272 46H280V0H270Z\"/><path stroke-width=\"1\" id=\"MJMATHI-55\" d=\"M107 637Q73 637 71 641Q70 643 70 649Q70 673 81 682Q83 683 98 683Q139 681 234 681Q268 681 297 681T342 682T362 682Q378 682 378 672Q378 670 376 658Q371 641 366 638H364Q362 638 359 638T352 638T343 637T334 637Q295 636 284 634T266 623Q265 621 238 518T184 302T154 169Q152 155 152 140Q152 86 183 55T269 24Q336 24 403 69T501 205L552 406Q599 598 599 606Q599 633 535 637Q511 637 511 648Q511 650 513 660Q517 676 519 679T529 683Q532 683 561 682T645 680Q696 680 723 681T752 682Q767 682 767 672Q767 650 759 642Q756 637 737 637Q666 633 648 597Q646 592 598 404Q557 235 548 205Q515 105 433 42T263 -22Q171 -22 116 34T60 167V183Q60 201 115 421Q164 622 164 628Q164 635 107 637Z\"/><path stroke-width=\"1\" id=\"MJMAIN-4C\" d=\"M128 622Q121 629 117 631T101 634T58 637H25V683H36Q48 680 182 680Q324 680 348 683H360V637H333Q273 637 258 635T233 622L232 342V129Q232 57 237 52Q243 47 313 47Q384 47 410 53Q470 70 498 110T536 221Q536 226 537 238T540 261T542 272T562 273H582V268Q580 265 568 137T554 5V0H25V46H58Q100 47 109 49T128 61V622Z\"/></defs><g stroke=\"rgb(42, 63, 95)\" fill=\"rgb(42, 63, 95)\" stroke-width=\"0\" transform=\"matrix(1 0 0 -1 0 0)\"><use xlink:href=\"#MJMAIN-394\" x=\"0\" y=\"0\"/><g transform=\"translate(833,0)\"><use xlink:href=\"#MJMATHI-47\" x=\"0\" y=\"0\"/><use transform=\"scale(0.707)\" xlink:href=\"#MJMAIN-33\" x=\"1112\" y=\"-213\"/></g><g transform=\"translate(2073,0)\"><use xlink:href=\"#MJMAIN-28\" x=\"250\" y=\"0\"/><use xlink:href=\"#MJMAIN-34\" x=\"639\" y=\"0\"/><use xlink:href=\"#MJMAIN-65\" x=\"1140\" y=\"0\"/><use xlink:href=\"#MJMAIN-2D\" x=\"1584\" y=\"0\"/><use xlink:href=\"#MJMAIN-29\" x=\"1918\" y=\"0\"/></g></g></svg></g><g class=\"layers\" style=\"opacity: 1;\"><g class=\"legendfill\"/><g class=\"legendlines\"><path class=\"js-line\" d=\"M5,0h30\" style=\"fill: none; stroke: rgb(255, 0, 0); stroke-opacity: 1; stroke-width: 2px;\"/></g><g class=\"legendsymbols\"><g class=\"legendpoints\"/></g></g><rect class=\"legendtoggle\" pointer-events=\"all\" x=\"0\" y=\"-9.5\" width=\"100.5712890625\" height=\"19\" style=\"cursor: pointer; fill: rgb(0, 0, 0); fill-opacity: 0;\"/></g><g class=\"traces\" style=\"opacity: 1;\" transform=\"translate(0, 71.5)\"><g class=\"legendtext-math-group\" pointer-events=\"none\" data-unformatted=\"$\\Delta G_{\\text{1}} \\text{ (2e-)}$\" data-math=\"Y\" transform=\"translate(0, 3.572265625)\"><svg xmlns:xlink=\"http://www.w3.org/1999/xlink\" width=\"10.176ex\" height=\"17.0625\" viewBox=\"0 -842.1 4381.4 1194.1\" role=\"img\" focusable=\"false\" aria-hidden=\"true\" style=\"vertical-align: -0.818ex; overflow: visible; pointer-events: none;\" class=\"legendtext-math\" preserveAspectRatio=\"xMinYMin meet\" x=\"40\" y=\"-10.144502639770508\"><defs id=\"MathJax_SVG_glyphs\"><path stroke-width=\"1\" id=\"MJMAIN-394\" d=\"M51 0Q46 4 46 7Q46 9 215 357T388 709Q391 716 416 716Q439 716 444 709Q447 705 616 357T786 7Q786 4 781 0H51ZM507 344L384 596L137 92L383 91H630Q630 93 507 344Z\"/><path stroke-width=\"1\" id=\"MJMATHI-47\" d=\"M50 252Q50 367 117 473T286 641T490 704Q580 704 633 653Q642 643 648 636T656 626L657 623Q660 623 684 649Q691 655 699 663T715 679T725 690L740 705H746Q760 705 760 698Q760 694 728 561Q692 422 692 421Q690 416 687 415T669 413H653Q647 419 647 422Q647 423 648 429T650 449T651 481Q651 552 619 605T510 659Q492 659 471 656T418 643T357 615T294 567T236 496T189 394T158 260Q156 242 156 221Q156 173 170 136T206 79T256 45T308 28T353 24Q407 24 452 47T514 106Q517 114 529 161T541 214Q541 222 528 224T468 227H431Q425 233 425 235T427 254Q431 267 437 273H454Q494 271 594 271Q634 271 659 271T695 272T707 272Q721 272 721 263Q721 261 719 249Q714 230 709 228Q706 227 694 227Q674 227 653 224Q646 221 643 215T629 164Q620 131 614 108Q589 6 586 3Q584 1 581 1Q571 1 553 21T530 52Q530 53 528 52T522 47Q448 -22 322 -22Q201 -22 126 55T50 252Z\"/><path stroke-width=\"1\" id=\"MJMAIN-4F\" d=\"M56 340Q56 423 86 494T164 610T270 680T388 705Q521 705 621 601T722 341Q722 260 693 191T617 75T510 4T388 -22T267 3T160 74T85 189T56 340ZM467 647Q426 665 388 665Q360 665 331 654T269 620T213 549T179 439Q174 411 174 354Q174 144 277 61Q327 20 385 20H389H391Q474 20 537 99Q603 188 603 354Q603 411 598 439Q577 592 467 647Z\"/><path stroke-width=\"1\" id=\"MJMAIN-48\" d=\"M128 622Q121 629 117 631T101 634T58 637H25V683H36Q57 680 180 680Q315 680 324 683H335V637H302Q262 636 251 634T233 622L232 500V378H517V622Q510 629 506 631T490 634T447 637H414V683H425Q446 680 569 680Q704 680 713 683H724V637H691Q651 636 640 634T622 622V61Q628 51 639 49T691 46H724V0H713Q692 3 569 3Q434 3 425 0H414V46H447Q489 47 498 49T517 61V332H232V197L233 61Q239 51 250 49T302 46H335V0H324Q303 3 180 3Q45 3 36 0H25V46H58Q100 47 109 49T128 61V622Z\"/><path stroke-width=\"1\" id=\"MJMAIN-3D\" d=\"M56 347Q56 360 70 367H707Q722 359 722 347Q722 336 708 328L390 327H72Q56 332 56 347ZM56 153Q56 168 72 173H708Q722 163 722 153Q722 140 707 133H70Q56 140 56 153Z\"/><path stroke-width=\"1\" id=\"MJMAIN-30\" d=\"M96 585Q152 666 249 666Q297 666 345 640T423 548Q460 465 460 320Q460 165 417 83Q397 41 362 16T301 -15T250 -22Q224 -22 198 -16T137 16T82 83Q39 165 39 320Q39 494 96 585ZM321 597Q291 629 250 629Q208 629 178 597Q153 571 145 525T137 333Q137 175 145 125T181 46Q209 16 250 16Q290 16 318 46Q347 76 354 130T362 333Q362 478 354 524T321 597Z\"/><path stroke-width=\"1\" id=\"MJMAIN-2E\" d=\"M78 60Q78 84 95 102T138 120Q162 120 180 104T199 61Q199 36 182 18T139 0T96 17T78 60Z\"/><path stroke-width=\"1\" id=\"MJMAIN-37\" d=\"M55 458Q56 460 72 567L88 674Q88 676 108 676H128V672Q128 662 143 655T195 646T364 644H485V605L417 512Q408 500 387 472T360 435T339 403T319 367T305 330T292 284T284 230T278 162T275 80Q275 66 275 52T274 28V19Q270 2 255 -10T221 -22Q210 -22 200 -19T179 0T168 40Q168 198 265 368Q285 400 349 489L395 552H302Q128 552 119 546Q113 543 108 522T98 479L95 458V455H55V458Z\"/><path stroke-width=\"1\" id=\"MJMAIN-39\" d=\"M352 287Q304 211 232 211Q154 211 104 270T44 396Q42 412 42 436V444Q42 537 111 606Q171 666 243 666Q245 666 249 666T257 665H261Q273 665 286 663T323 651T370 619T413 560Q456 472 456 334Q456 194 396 97Q361 41 312 10T208 -22Q147 -22 108 7T68 93T121 149Q143 149 158 135T173 96Q173 78 164 65T148 49T135 44L131 43Q131 41 138 37T164 27T206 22H212Q272 22 313 86Q352 142 352 280V287ZM244 248Q292 248 321 297T351 430Q351 508 343 542Q341 552 337 562T323 588T293 615T246 625Q208 625 181 598Q160 576 154 546T147 441Q147 358 152 329T172 282Q197 248 244 248Z\"/><path stroke-width=\"1\" id=\"MJMAIN-2B\" d=\"M56 237T56 250T70 270H369V420L370 570Q380 583 389 583Q402 583 409 568V270H707Q722 262 722 250T707 230H409V-68Q401 -82 391 -82H389H387Q375 -82 369 -68V230H70Q56 237 56 250Z\"/><path stroke-width=\"1\" id=\"MJMAIN-33\" d=\"M127 463Q100 463 85 480T69 524Q69 579 117 622T233 665Q268 665 277 664Q351 652 390 611T430 522Q430 470 396 421T302 350L299 348Q299 347 308 345T337 336T375 315Q457 262 457 175Q457 96 395 37T238 -22Q158 -22 100 21T42 130Q42 158 60 175T105 193Q133 193 151 175T169 130Q169 119 166 110T159 94T148 82T136 74T126 70T118 67L114 66Q165 21 238 21Q293 21 321 74Q338 107 338 175V195Q338 290 274 322Q259 328 213 329L171 330L168 332Q166 335 166 348Q166 366 174 366Q202 366 232 371Q266 376 294 413T322 525V533Q322 590 287 612Q265 626 240 626Q208 626 181 615T143 592T132 580H135Q138 579 143 578T153 573T165 566T175 555T183 540T186 520Q186 498 172 481T127 463Z\"/><path stroke-width=\"1\" id=\"MJMAIN-32\" d=\"M109 429Q82 429 66 447T50 491Q50 562 103 614T235 666Q326 666 387 610T449 465Q449 422 429 383T381 315T301 241Q265 210 201 149L142 93L218 92Q375 92 385 97Q392 99 409 186V189H449V186Q448 183 436 95T421 3V0H50V19V31Q50 38 56 46T86 81Q115 113 136 137Q145 147 170 174T204 211T233 244T261 278T284 308T305 340T320 369T333 401T340 431T343 464Q343 527 309 573T212 619Q179 619 154 602T119 569T109 550Q109 549 114 549Q132 549 151 535T170 489Q170 464 154 447T109 429Z\"/><path stroke-width=\"1\" id=\"MJMAIN-38\" d=\"M70 417T70 494T124 618T248 666Q319 666 374 624T429 515Q429 485 418 459T392 417T361 389T335 371T324 363L338 354Q352 344 366 334T382 323Q457 264 457 174Q457 95 399 37T249 -22Q159 -22 101 29T43 155Q43 263 172 335L154 348Q133 361 127 368Q70 417 70 494ZM286 386L292 390Q298 394 301 396T311 403T323 413T334 425T345 438T355 454T364 471T369 491T371 513Q371 556 342 586T275 624Q268 625 242 625Q201 625 165 599T128 534Q128 511 141 492T167 463T217 431Q224 426 228 424L286 386ZM250 21Q308 21 350 55T392 137Q392 154 387 169T375 194T353 216T330 234T301 253T274 270Q260 279 244 289T218 306L210 311Q204 311 181 294T133 239T107 157Q107 98 150 60T250 21Z\"/><path stroke-width=\"1\" id=\"MJMAIN-31\" d=\"M213 578L200 573Q186 568 160 563T102 556H83V602H102Q149 604 189 617T245 641T273 663Q275 666 285 666Q294 666 302 660V361L303 61Q310 54 315 52T339 48T401 46H427V0H416Q395 3 257 3Q121 3 100 0H88V46H114Q136 46 152 46T177 47T193 50T201 52T207 57T213 61V578Z\"/><path stroke-width=\"1\" id=\"MJMAIN-36\" d=\"M42 313Q42 476 123 571T303 666Q372 666 402 630T432 550Q432 525 418 510T379 495Q356 495 341 509T326 548Q326 592 373 601Q351 623 311 626Q240 626 194 566Q147 500 147 364L148 360Q153 366 156 373Q197 433 263 433H267Q313 433 348 414Q372 400 396 374T435 317Q456 268 456 210V192Q456 169 451 149Q440 90 387 34T253 -22Q225 -22 199 -14T143 16T92 75T56 172T42 313ZM257 397Q227 397 205 380T171 335T154 278T148 216Q148 133 160 97T198 39Q222 21 251 21Q302 21 329 59Q342 77 347 104T352 209Q352 289 347 316T329 361Q302 397 257 397Z\"/><path stroke-width=\"1\" id=\"MJMAIN-35\" d=\"M164 157Q164 133 148 117T109 101H102Q148 22 224 22Q294 22 326 82Q345 115 345 210Q345 313 318 349Q292 382 260 382H254Q176 382 136 314Q132 307 129 306T114 304Q97 304 95 310Q93 314 93 485V614Q93 664 98 664Q100 666 102 666Q103 666 123 658T178 642T253 634Q324 634 389 662Q397 666 402 666Q410 666 410 648V635Q328 538 205 538Q174 538 149 544L139 546V374Q158 388 169 396T205 412T256 420Q337 420 393 355T449 201Q449 109 385 44T229 -22Q148 -22 99 32T50 154Q50 178 61 192T84 210T107 214Q132 214 148 197T164 157Z\"/><path stroke-width=\"1\" id=\"MJMAIN-34\" d=\"M462 0Q444 3 333 3Q217 3 199 0H190V46H221Q241 46 248 46T265 48T279 53T286 61Q287 63 287 115V165H28V211L179 442Q332 674 334 675Q336 677 355 677H373L379 671V211H471V165H379V114Q379 73 379 66T385 54Q393 47 442 46H471V0H462ZM293 211V545L74 212L183 211H293Z\"/><path stroke-width=\"1\" id=\"MJMAIN-2D\" d=\"M11 179V252H277V179H11Z\"/><path stroke-width=\"1\" id=\"MJMAIN-28\" d=\"M94 250Q94 319 104 381T127 488T164 576T202 643T244 695T277 729T302 750H315H319Q333 750 333 741Q333 738 316 720T275 667T226 581T184 443T167 250T184 58T225 -81T274 -167T316 -220T333 -241Q333 -250 318 -250H315H302L274 -226Q180 -141 137 -14T94 250Z\"/><path stroke-width=\"1\" id=\"MJMAIN-65\" d=\"M28 218Q28 273 48 318T98 391T163 433T229 448Q282 448 320 430T378 380T406 316T415 245Q415 238 408 231H126V216Q126 68 226 36Q246 30 270 30Q312 30 342 62Q359 79 369 104L379 128Q382 131 395 131H398Q415 131 415 121Q415 117 412 108Q393 53 349 21T250 -11Q155 -11 92 58T28 218ZM333 275Q322 403 238 411H236Q228 411 220 410T195 402T166 381T143 340T127 274V267H333V275Z\"/><path stroke-width=\"1\" id=\"MJMAIN-56\" d=\"M114 620Q113 621 110 624T107 627T103 630T98 632T91 634T80 635T67 636T48 637H19V683H28Q46 680 152 680Q273 680 294 683H305V637H284Q223 634 223 620Q223 618 313 372T404 126L490 358Q575 588 575 597Q575 616 554 626T508 637H503V683H512Q527 680 627 680Q718 680 724 683H730V637H723Q648 637 627 596Q627 595 515 291T401 -14Q396 -22 382 -22H374H367Q353 -22 348 -14Q346 -12 231 303Q114 617 114 620Z\"/><path stroke-width=\"1\" id=\"MJMAIN-29\" d=\"M60 749L64 750Q69 750 74 750H86L114 726Q208 641 251 514T294 250Q294 182 284 119T261 12T224 -76T186 -143T145 -194T113 -227T90 -246Q87 -249 86 -250H74Q66 -250 63 -250T58 -247T55 -238Q56 -237 66 -225Q221 -64 221 250T66 725Q56 737 55 738Q55 746 60 749Z\"/><path stroke-width=\"1\" id=\"MJMAIN-58\" d=\"M270 0Q252 3 141 3Q46 3 31 0H23V46H40Q129 50 161 88Q165 94 244 216T324 339Q324 341 235 480T143 622Q133 631 119 634T57 637H37V683H46Q64 680 172 680Q297 680 318 683H329V637H324Q307 637 286 632T263 621Q263 618 322 525T384 431Q385 431 437 511T489 593Q490 595 490 599Q490 611 477 622T436 637H428V683H437Q455 680 566 680Q661 680 676 683H684V637H667Q585 634 551 599Q548 596 478 491Q412 388 412 387Q412 385 514 225T620 62Q628 53 642 50T695 46H726V0H717Q699 3 591 3Q466 3 445 0H434V46H440Q454 46 476 51T499 64Q499 67 463 124T390 238L353 295L350 292Q348 290 343 283T331 265T312 236T286 195Q219 88 218 84Q218 70 234 59T272 46H280V0H270Z\"/><path stroke-width=\"1\" id=\"MJMATHI-55\" d=\"M107 637Q73 637 71 641Q70 643 70 649Q70 673 81 682Q83 683 98 683Q139 681 234 681Q268 681 297 681T342 682T362 682Q378 682 378 672Q378 670 376 658Q371 641 366 638H364Q362 638 359 638T352 638T343 637T334 637Q295 636 284 634T266 623Q265 621 238 518T184 302T154 169Q152 155 152 140Q152 86 183 55T269 24Q336 24 403 69T501 205L552 406Q599 598 599 606Q599 633 535 637Q511 637 511 648Q511 650 513 660Q517 676 519 679T529 683Q532 683 561 682T645 680Q696 680 723 681T752 682Q767 682 767 672Q767 650 759 642Q756 637 737 637Q666 633 648 597Q646 592 598 404Q557 235 548 205Q515 105 433 42T263 -22Q171 -22 116 34T60 167V183Q60 201 115 421Q164 622 164 628Q164 635 107 637Z\"/><path stroke-width=\"1\" id=\"MJMAIN-4C\" d=\"M128 622Q121 629 117 631T101 634T58 637H25V683H36Q48 680 182 680Q324 680 348 683H360V637H333Q273 637 258 635T233 622L232 342V129Q232 57 237 52Q243 47 313 47Q384 47 410 53Q470 70 498 110T536 221Q536 226 537 238T540 261T542 272T562 273H582V268Q580 265 568 137T554 5V0H25V46H58Q100 47 109 49T128 61V622Z\"/></defs><g stroke=\"rgb(42, 63, 95)\" fill=\"rgb(42, 63, 95)\" stroke-width=\"0\" transform=\"matrix(1 0 0 -1 0 0)\"><use xlink:href=\"#MJMAIN-394\" x=\"0\" y=\"0\"/><g transform=\"translate(833,0)\"><use xlink:href=\"#MJMATHI-47\" x=\"0\" y=\"0\"/><use transform=\"scale(0.707)\" xlink:href=\"#MJMAIN-31\" x=\"1112\" y=\"-213\"/></g><g transform=\"translate(2073,0)\"><use xlink:href=\"#MJMAIN-28\" x=\"250\" y=\"0\"/><use xlink:href=\"#MJMAIN-32\" x=\"639\" y=\"0\"/><use xlink:href=\"#MJMAIN-65\" x=\"1140\" y=\"0\"/><use xlink:href=\"#MJMAIN-2D\" x=\"1584\" y=\"0\"/><use xlink:href=\"#MJMAIN-29\" x=\"1918\" y=\"0\"/></g></g></svg></g><g class=\"layers\" style=\"opacity: 1;\"><g class=\"legendfill\"/><g class=\"legendlines\"><path class=\"js-line\" d=\"M5,0h30\" style=\"fill: none; stroke: rgb(0, 0, 255); stroke-opacity: 1; stroke-width: 2px;\"/></g><g class=\"legendsymbols\"><g class=\"legendpoints\"/></g></g><rect class=\"legendtoggle\" pointer-events=\"all\" x=\"0\" y=\"-9.5\" width=\"100.5712890625\" height=\"19\" style=\"cursor: pointer; fill: rgb(0, 0, 0); fill-opacity: 0;\"/></g><g class=\"traces\" style=\"opacity: 1;\" transform=\"translate(0, 90.5)\"><g class=\"legendtext-math-group\" pointer-events=\"none\" data-unformatted=\"$\\Delta G_{\\text{2}} \\text{ (2e-)}$\" data-math=\"Y\" transform=\"translate(0, 3.572265625)\"><svg xmlns:xlink=\"http://www.w3.org/1999/xlink\" width=\"10.176ex\" height=\"17.0625\" viewBox=\"0 -842.1 4381.4 1194.1\" role=\"img\" focusable=\"false\" aria-hidden=\"true\" style=\"vertical-align: -0.818ex; overflow: visible; pointer-events: none;\" class=\"legendtext-math\" preserveAspectRatio=\"xMinYMin meet\" x=\"40\" y=\"-10.144502639770508\"><defs id=\"MathJax_SVG_glyphs\"><path stroke-width=\"1\" id=\"MJMAIN-394\" d=\"M51 0Q46 4 46 7Q46 9 215 357T388 709Q391 716 416 716Q439 716 444 709Q447 705 616 357T786 7Q786 4 781 0H51ZM507 344L384 596L137 92L383 91H630Q630 93 507 344Z\"/><path stroke-width=\"1\" id=\"MJMATHI-47\" d=\"M50 252Q50 367 117 473T286 641T490 704Q580 704 633 653Q642 643 648 636T656 626L657 623Q660 623 684 649Q691 655 699 663T715 679T725 690L740 705H746Q760 705 760 698Q760 694 728 561Q692 422 692 421Q690 416 687 415T669 413H653Q647 419 647 422Q647 423 648 429T650 449T651 481Q651 552 619 605T510 659Q492 659 471 656T418 643T357 615T294 567T236 496T189 394T158 260Q156 242 156 221Q156 173 170 136T206 79T256 45T308 28T353 24Q407 24 452 47T514 106Q517 114 529 161T541 214Q541 222 528 224T468 227H431Q425 233 425 235T427 254Q431 267 437 273H454Q494 271 594 271Q634 271 659 271T695 272T707 272Q721 272 721 263Q721 261 719 249Q714 230 709 228Q706 227 694 227Q674 227 653 224Q646 221 643 215T629 164Q620 131 614 108Q589 6 586 3Q584 1 581 1Q571 1 553 21T530 52Q530 53 528 52T522 47Q448 -22 322 -22Q201 -22 126 55T50 252Z\"/><path stroke-width=\"1\" id=\"MJMAIN-4F\" d=\"M56 340Q56 423 86 494T164 610T270 680T388 705Q521 705 621 601T722 341Q722 260 693 191T617 75T510 4T388 -22T267 3T160 74T85 189T56 340ZM467 647Q426 665 388 665Q360 665 331 654T269 620T213 549T179 439Q174 411 174 354Q174 144 277 61Q327 20 385 20H389H391Q474 20 537 99Q603 188 603 354Q603 411 598 439Q577 592 467 647Z\"/><path stroke-width=\"1\" id=\"MJMAIN-48\" d=\"M128 622Q121 629 117 631T101 634T58 637H25V683H36Q57 680 180 680Q315 680 324 683H335V637H302Q262 636 251 634T233 622L232 500V378H517V622Q510 629 506 631T490 634T447 637H414V683H425Q446 680 569 680Q704 680 713 683H724V637H691Q651 636 640 634T622 622V61Q628 51 639 49T691 46H724V0H713Q692 3 569 3Q434 3 425 0H414V46H447Q489 47 498 49T517 61V332H232V197L233 61Q239 51 250 49T302 46H335V0H324Q303 3 180 3Q45 3 36 0H25V46H58Q100 47 109 49T128 61V622Z\"/><path stroke-width=\"1\" id=\"MJMAIN-3D\" d=\"M56 347Q56 360 70 367H707Q722 359 722 347Q722 336 708 328L390 327H72Q56 332 56 347ZM56 153Q56 168 72 173H708Q722 163 722 153Q722 140 707 133H70Q56 140 56 153Z\"/><path stroke-width=\"1\" id=\"MJMAIN-30\" d=\"M96 585Q152 666 249 666Q297 666 345 640T423 548Q460 465 460 320Q460 165 417 83Q397 41 362 16T301 -15T250 -22Q224 -22 198 -16T137 16T82 83Q39 165 39 320Q39 494 96 585ZM321 597Q291 629 250 629Q208 629 178 597Q153 571 145 525T137 333Q137 175 145 125T181 46Q209 16 250 16Q290 16 318 46Q347 76 354 130T362 333Q362 478 354 524T321 597Z\"/><path stroke-width=\"1\" id=\"MJMAIN-2E\" d=\"M78 60Q78 84 95 102T138 120Q162 120 180 104T199 61Q199 36 182 18T139 0T96 17T78 60Z\"/><path stroke-width=\"1\" id=\"MJMAIN-37\" d=\"M55 458Q56 460 72 567L88 674Q88 676 108 676H128V672Q128 662 143 655T195 646T364 644H485V605L417 512Q408 500 387 472T360 435T339 403T319 367T305 330T292 284T284 230T278 162T275 80Q275 66 275 52T274 28V19Q270 2 255 -10T221 -22Q210 -22 200 -19T179 0T168 40Q168 198 265 368Q285 400 349 489L395 552H302Q128 552 119 546Q113 543 108 522T98 479L95 458V455H55V458Z\"/><path stroke-width=\"1\" id=\"MJMAIN-39\" d=\"M352 287Q304 211 232 211Q154 211 104 270T44 396Q42 412 42 436V444Q42 537 111 606Q171 666 243 666Q245 666 249 666T257 665H261Q273 665 286 663T323 651T370 619T413 560Q456 472 456 334Q456 194 396 97Q361 41 312 10T208 -22Q147 -22 108 7T68 93T121 149Q143 149 158 135T173 96Q173 78 164 65T148 49T135 44L131 43Q131 41 138 37T164 27T206 22H212Q272 22 313 86Q352 142 352 280V287ZM244 248Q292 248 321 297T351 430Q351 508 343 542Q341 552 337 562T323 588T293 615T246 625Q208 625 181 598Q160 576 154 546T147 441Q147 358 152 329T172 282Q197 248 244 248Z\"/><path stroke-width=\"1\" id=\"MJMAIN-2B\" d=\"M56 237T56 250T70 270H369V420L370 570Q380 583 389 583Q402 583 409 568V270H707Q722 262 722 250T707 230H409V-68Q401 -82 391 -82H389H387Q375 -82 369 -68V230H70Q56 237 56 250Z\"/><path stroke-width=\"1\" id=\"MJMAIN-33\" d=\"M127 463Q100 463 85 480T69 524Q69 579 117 622T233 665Q268 665 277 664Q351 652 390 611T430 522Q430 470 396 421T302 350L299 348Q299 347 308 345T337 336T375 315Q457 262 457 175Q457 96 395 37T238 -22Q158 -22 100 21T42 130Q42 158 60 175T105 193Q133 193 151 175T169 130Q169 119 166 110T159 94T148 82T136 74T126 70T118 67L114 66Q165 21 238 21Q293 21 321 74Q338 107 338 175V195Q338 290 274 322Q259 328 213 329L171 330L168 332Q166 335 166 348Q166 366 174 366Q202 366 232 371Q266 376 294 413T322 525V533Q322 590 287 612Q265 626 240 626Q208 626 181 615T143 592T132 580H135Q138 579 143 578T153 573T165 566T175 555T183 540T186 520Q186 498 172 481T127 463Z\"/><path stroke-width=\"1\" id=\"MJMAIN-32\" d=\"M109 429Q82 429 66 447T50 491Q50 562 103 614T235 666Q326 666 387 610T449 465Q449 422 429 383T381 315T301 241Q265 210 201 149L142 93L218 92Q375 92 385 97Q392 99 409 186V189H449V186Q448 183 436 95T421 3V0H50V19V31Q50 38 56 46T86 81Q115 113 136 137Q145 147 170 174T204 211T233 244T261 278T284 308T305 340T320 369T333 401T340 431T343 464Q343 527 309 573T212 619Q179 619 154 602T119 569T109 550Q109 549 114 549Q132 549 151 535T170 489Q170 464 154 447T109 429Z\"/><path stroke-width=\"1\" id=\"MJMAIN-38\" d=\"M70 417T70 494T124 618T248 666Q319 666 374 624T429 515Q429 485 418 459T392 417T361 389T335 371T324 363L338 354Q352 344 366 334T382 323Q457 264 457 174Q457 95 399 37T249 -22Q159 -22 101 29T43 155Q43 263 172 335L154 348Q133 361 127 368Q70 417 70 494ZM286 386L292 390Q298 394 301 396T311 403T323 413T334 425T345 438T355 454T364 471T369 491T371 513Q371 556 342 586T275 624Q268 625 242 625Q201 625 165 599T128 534Q128 511 141 492T167 463T217 431Q224 426 228 424L286 386ZM250 21Q308 21 350 55T392 137Q392 154 387 169T375 194T353 216T330 234T301 253T274 270Q260 279 244 289T218 306L210 311Q204 311 181 294T133 239T107 157Q107 98 150 60T250 21Z\"/><path stroke-width=\"1\" id=\"MJMAIN-31\" d=\"M213 578L200 573Q186 568 160 563T102 556H83V602H102Q149 604 189 617T245 641T273 663Q275 666 285 666Q294 666 302 660V361L303 61Q310 54 315 52T339 48T401 46H427V0H416Q395 3 257 3Q121 3 100 0H88V46H114Q136 46 152 46T177 47T193 50T201 52T207 57T213 61V578Z\"/><path stroke-width=\"1\" id=\"MJMAIN-36\" d=\"M42 313Q42 476 123 571T303 666Q372 666 402 630T432 550Q432 525 418 510T379 495Q356 495 341 509T326 548Q326 592 373 601Q351 623 311 626Q240 626 194 566Q147 500 147 364L148 360Q153 366 156 373Q197 433 263 433H267Q313 433 348 414Q372 400 396 374T435 317Q456 268 456 210V192Q456 169 451 149Q440 90 387 34T253 -22Q225 -22 199 -14T143 16T92 75T56 172T42 313ZM257 397Q227 397 205 380T171 335T154 278T148 216Q148 133 160 97T198 39Q222 21 251 21Q302 21 329 59Q342 77 347 104T352 209Q352 289 347 316T329 361Q302 397 257 397Z\"/><path stroke-width=\"1\" id=\"MJMAIN-35\" d=\"M164 157Q164 133 148 117T109 101H102Q148 22 224 22Q294 22 326 82Q345 115 345 210Q345 313 318 349Q292 382 260 382H254Q176 382 136 314Q132 307 129 306T114 304Q97 304 95 310Q93 314 93 485V614Q93 664 98 664Q100 666 102 666Q103 666 123 658T178 642T253 634Q324 634 389 662Q397 666 402 666Q410 666 410 648V635Q328 538 205 538Q174 538 149 544L139 546V374Q158 388 169 396T205 412T256 420Q337 420 393 355T449 201Q449 109 385 44T229 -22Q148 -22 99 32T50 154Q50 178 61 192T84 210T107 214Q132 214 148 197T164 157Z\"/><path stroke-width=\"1\" id=\"MJMAIN-34\" d=\"M462 0Q444 3 333 3Q217 3 199 0H190V46H221Q241 46 248 46T265 48T279 53T286 61Q287 63 287 115V165H28V211L179 442Q332 674 334 675Q336 677 355 677H373L379 671V211H471V165H379V114Q379 73 379 66T385 54Q393 47 442 46H471V0H462ZM293 211V545L74 212L183 211H293Z\"/><path stroke-width=\"1\" id=\"MJMAIN-2D\" d=\"M11 179V252H277V179H11Z\"/><path stroke-width=\"1\" id=\"MJMAIN-28\" d=\"M94 250Q94 319 104 381T127 488T164 576T202 643T244 695T277 729T302 750H315H319Q333 750 333 741Q333 738 316 720T275 667T226 581T184 443T167 250T184 58T225 -81T274 -167T316 -220T333 -241Q333 -250 318 -250H315H302L274 -226Q180 -141 137 -14T94 250Z\"/><path stroke-width=\"1\" id=\"MJMAIN-65\" d=\"M28 218Q28 273 48 318T98 391T163 433T229 448Q282 448 320 430T378 380T406 316T415 245Q415 238 408 231H126V216Q126 68 226 36Q246 30 270 30Q312 30 342 62Q359 79 369 104L379 128Q382 131 395 131H398Q415 131 415 121Q415 117 412 108Q393 53 349 21T250 -11Q155 -11 92 58T28 218ZM333 275Q322 403 238 411H236Q228 411 220 410T195 402T166 381T143 340T127 274V267H333V275Z\"/><path stroke-width=\"1\" id=\"MJMAIN-56\" d=\"M114 620Q113 621 110 624T107 627T103 630T98 632T91 634T80 635T67 636T48 637H19V683H28Q46 680 152 680Q273 680 294 683H305V637H284Q223 634 223 620Q223 618 313 372T404 126L490 358Q575 588 575 597Q575 616 554 626T508 637H503V683H512Q527 680 627 680Q718 680 724 683H730V637H723Q648 637 627 596Q627 595 515 291T401 -14Q396 -22 382 -22H374H367Q353 -22 348 -14Q346 -12 231 303Q114 617 114 620Z\"/><path stroke-width=\"1\" id=\"MJMAIN-29\" d=\"M60 749L64 750Q69 750 74 750H86L114 726Q208 641 251 514T294 250Q294 182 284 119T261 12T224 -76T186 -143T145 -194T113 -227T90 -246Q87 -249 86 -250H74Q66 -250 63 -250T58 -247T55 -238Q56 -237 66 -225Q221 -64 221 250T66 725Q56 737 55 738Q55 746 60 749Z\"/><path stroke-width=\"1\" id=\"MJMAIN-58\" d=\"M270 0Q252 3 141 3Q46 3 31 0H23V46H40Q129 50 161 88Q165 94 244 216T324 339Q324 341 235 480T143 622Q133 631 119 634T57 637H37V683H46Q64 680 172 680Q297 680 318 683H329V637H324Q307 637 286 632T263 621Q263 618 322 525T384 431Q385 431 437 511T489 593Q490 595 490 599Q490 611 477 622T436 637H428V683H437Q455 680 566 680Q661 680 676 683H684V637H667Q585 634 551 599Q548 596 478 491Q412 388 412 387Q412 385 514 225T620 62Q628 53 642 50T695 46H726V0H717Q699 3 591 3Q466 3 445 0H434V46H440Q454 46 476 51T499 64Q499 67 463 124T390 238L353 295L350 292Q348 290 343 283T331 265T312 236T286 195Q219 88 218 84Q218 70 234 59T272 46H280V0H270Z\"/><path stroke-width=\"1\" id=\"MJMATHI-55\" d=\"M107 637Q73 637 71 641Q70 643 70 649Q70 673 81 682Q83 683 98 683Q139 681 234 681Q268 681 297 681T342 682T362 682Q378 682 378 672Q378 670 376 658Q371 641 366 638H364Q362 638 359 638T352 638T343 637T334 637Q295 636 284 634T266 623Q265 621 238 518T184 302T154 169Q152 155 152 140Q152 86 183 55T269 24Q336 24 403 69T501 205L552 406Q599 598 599 606Q599 633 535 637Q511 637 511 648Q511 650 513 660Q517 676 519 679T529 683Q532 683 561 682T645 680Q696 680 723 681T752 682Q767 682 767 672Q767 650 759 642Q756 637 737 637Q666 633 648 597Q646 592 598 404Q557 235 548 205Q515 105 433 42T263 -22Q171 -22 116 34T60 167V183Q60 201 115 421Q164 622 164 628Q164 635 107 637Z\"/><path stroke-width=\"1\" id=\"MJMAIN-4C\" d=\"M128 622Q121 629 117 631T101 634T58 637H25V683H36Q48 680 182 680Q324 680 348 683H360V637H333Q273 637 258 635T233 622L232 342V129Q232 57 237 52Q243 47 313 47Q384 47 410 53Q470 70 498 110T536 221Q536 226 537 238T540 261T542 272T562 273H582V268Q580 265 568 137T554 5V0H25V46H58Q100 47 109 49T128 61V622Z\"/></defs><g stroke=\"rgb(42, 63, 95)\" fill=\"rgb(42, 63, 95)\" stroke-width=\"0\" transform=\"matrix(1 0 0 -1 0 0)\"><use xlink:href=\"#MJMAIN-394\" x=\"0\" y=\"0\"/><g transform=\"translate(833,0)\"><use xlink:href=\"#MJMATHI-47\" x=\"0\" y=\"0\"/><use transform=\"scale(0.707)\" xlink:href=\"#MJMAIN-32\" x=\"1112\" y=\"-213\"/></g><g transform=\"translate(2073,0)\"><use xlink:href=\"#MJMAIN-28\" x=\"250\" y=\"0\"/><use xlink:href=\"#MJMAIN-32\" x=\"639\" y=\"0\"/><use xlink:href=\"#MJMAIN-65\" x=\"1140\" y=\"0\"/><use xlink:href=\"#MJMAIN-2D\" x=\"1584\" y=\"0\"/><use xlink:href=\"#MJMAIN-29\" x=\"1918\" y=\"0\"/></g></g></svg></g><g class=\"layers\" style=\"opacity: 1;\"><g class=\"legendfill\"/><g class=\"legendlines\"><path class=\"js-line\" d=\"M5,0h30\" style=\"fill: none; stroke: rgb(0, 0, 0); stroke-opacity: 1; stroke-width: 2px;\"/></g><g class=\"legendsymbols\"><g class=\"legendpoints\"/></g></g><rect class=\"legendtoggle\" pointer-events=\"all\" x=\"0\" y=\"-9.5\" width=\"100.5712890625\" height=\"19\" style=\"cursor: pointer; fill: rgb(0, 0, 0); fill-opacity: 0;\"/></g></g></g><rect class=\"scrollbar\" rx=\"20\" ry=\"3\" width=\"0\" height=\"0\" style=\"fill: rgb(128, 139, 164); fill-opacity: 1;\" x=\"0\" y=\"0\"/></g><g class=\"g-gtitle\"/><g class=\"g-xtitle\"><g class=\"xtitle-math-group\" pointer-events=\"none\" data-unformatted=\"$\\Delta G_{\\text{OH}} \\text{ (eV)}$\" data-math=\"Y\"><svg xmlns:xlink=\"http://www.w3.org/1999/xlink\" width=\"11.671ex\" height=\"38.125\" viewBox=\"0 -785.7 5025.2 1067.6\" role=\"img\" focusable=\"false\" aria-hidden=\"true\" style=\"vertical-align: -0.655ex; overflow: visible; pointer-events: none;\" class=\"xtitle-math\" preserveAspectRatio=\"xMinYMin meet\" x=\"274.966552734375\" y=\"411.0487756729126\"><defs id=\"MathJax_SVG_glyphs\"><path stroke-width=\"1\" id=\"MJMAIN-394\" d=\"M51 0Q46 4 46 7Q46 9 215 357T388 709Q391 716 416 716Q439 716 444 709Q447 705 616 357T786 7Q786 4 781 0H51ZM507 344L384 596L137 92L383 91H630Q630 93 507 344Z\"/><path stroke-width=\"1\" id=\"MJMATHI-47\" d=\"M50 252Q50 367 117 473T286 641T490 704Q580 704 633 653Q642 643 648 636T656 626L657 623Q660 623 684 649Q691 655 699 663T715 679T725 690L740 705H746Q760 705 760 698Q760 694 728 561Q692 422 692 421Q690 416 687 415T669 413H653Q647 419 647 422Q647 423 648 429T650 449T651 481Q651 552 619 605T510 659Q492 659 471 656T418 643T357 615T294 567T236 496T189 394T158 260Q156 242 156 221Q156 173 170 136T206 79T256 45T308 28T353 24Q407 24 452 47T514 106Q517 114 529 161T541 214Q541 222 528 224T468 227H431Q425 233 425 235T427 254Q431 267 437 273H454Q494 271 594 271Q634 271 659 271T695 272T707 272Q721 272 721 263Q721 261 719 249Q714 230 709 228Q706 227 694 227Q674 227 653 224Q646 221 643 215T629 164Q620 131 614 108Q589 6 586 3Q584 1 581 1Q571 1 553 21T530 52Q530 53 528 52T522 47Q448 -22 322 -22Q201 -22 126 55T50 252Z\"/><path stroke-width=\"1\" id=\"MJMAIN-4F\" d=\"M56 340Q56 423 86 494T164 610T270 680T388 705Q521 705 621 601T722 341Q722 260 693 191T617 75T510 4T388 -22T267 3T160 74T85 189T56 340ZM467 647Q426 665 388 665Q360 665 331 654T269 620T213 549T179 439Q174 411 174 354Q174 144 277 61Q327 20 385 20H389H391Q474 20 537 99Q603 188 603 354Q603 411 598 439Q577 592 467 647Z\"/><path stroke-width=\"1\" id=\"MJMAIN-48\" d=\"M128 622Q121 629 117 631T101 634T58 637H25V683H36Q57 680 180 680Q315 680 324 683H335V637H302Q262 636 251 634T233 622L232 500V378H517V622Q510 629 506 631T490 634T447 637H414V683H425Q446 680 569 680Q704 680 713 683H724V637H691Q651 636 640 634T622 622V61Q628 51 639 49T691 46H724V0H713Q692 3 569 3Q434 3 425 0H414V46H447Q489 47 498 49T517 61V332H232V197L233 61Q239 51 250 49T302 46H335V0H324Q303 3 180 3Q45 3 36 0H25V46H58Q100 47 109 49T128 61V622Z\"/><path stroke-width=\"1\" id=\"MJMAIN-3D\" d=\"M56 347Q56 360 70 367H707Q722 359 722 347Q722 336 708 328L390 327H72Q56 332 56 347ZM56 153Q56 168 72 173H708Q722 163 722 153Q722 140 707 133H70Q56 140 56 153Z\"/><path stroke-width=\"1\" id=\"MJMAIN-30\" d=\"M96 585Q152 666 249 666Q297 666 345 640T423 548Q460 465 460 320Q460 165 417 83Q397 41 362 16T301 -15T250 -22Q224 -22 198 -16T137 16T82 83Q39 165 39 320Q39 494 96 585ZM321 597Q291 629 250 629Q208 629 178 597Q153 571 145 525T137 333Q137 175 145 125T181 46Q209 16 250 16Q290 16 318 46Q347 76 354 130T362 333Q362 478 354 524T321 597Z\"/><path stroke-width=\"1\" id=\"MJMAIN-2E\" d=\"M78 60Q78 84 95 102T138 120Q162 120 180 104T199 61Q199 36 182 18T139 0T96 17T78 60Z\"/><path stroke-width=\"1\" id=\"MJMAIN-37\" d=\"M55 458Q56 460 72 567L88 674Q88 676 108 676H128V672Q128 662 143 655T195 646T364 644H485V605L417 512Q408 500 387 472T360 435T339 403T319 367T305 330T292 284T284 230T278 162T275 80Q275 66 275 52T274 28V19Q270 2 255 -10T221 -22Q210 -22 200 -19T179 0T168 40Q168 198 265 368Q285 400 349 489L395 552H302Q128 552 119 546Q113 543 108 522T98 479L95 458V455H55V458Z\"/><path stroke-width=\"1\" id=\"MJMAIN-39\" d=\"M352 287Q304 211 232 211Q154 211 104 270T44 396Q42 412 42 436V444Q42 537 111 606Q171 666 243 666Q245 666 249 666T257 665H261Q273 665 286 663T323 651T370 619T413 560Q456 472 456 334Q456 194 396 97Q361 41 312 10T208 -22Q147 -22 108 7T68 93T121 149Q143 149 158 135T173 96Q173 78 164 65T148 49T135 44L131 43Q131 41 138 37T164 27T206 22H212Q272 22 313 86Q352 142 352 280V287ZM244 248Q292 248 321 297T351 430Q351 508 343 542Q341 552 337 562T323 588T293 615T246 625Q208 625 181 598Q160 576 154 546T147 441Q147 358 152 329T172 282Q197 248 244 248Z\"/><path stroke-width=\"1\" id=\"MJMAIN-2B\" d=\"M56 237T56 250T70 270H369V420L370 570Q380 583 389 583Q402 583 409 568V270H707Q722 262 722 250T707 230H409V-68Q401 -82 391 -82H389H387Q375 -82 369 -68V230H70Q56 237 56 250Z\"/><path stroke-width=\"1\" id=\"MJMAIN-33\" d=\"M127 463Q100 463 85 480T69 524Q69 579 117 622T233 665Q268 665 277 664Q351 652 390 611T430 522Q430 470 396 421T302 350L299 348Q299 347 308 345T337 336T375 315Q457 262 457 175Q457 96 395 37T238 -22Q158 -22 100 21T42 130Q42 158 60 175T105 193Q133 193 151 175T169 130Q169 119 166 110T159 94T148 82T136 74T126 70T118 67L114 66Q165 21 238 21Q293 21 321 74Q338 107 338 175V195Q338 290 274 322Q259 328 213 329L171 330L168 332Q166 335 166 348Q166 366 174 366Q202 366 232 371Q266 376 294 413T322 525V533Q322 590 287 612Q265 626 240 626Q208 626 181 615T143 592T132 580H135Q138 579 143 578T153 573T165 566T175 555T183 540T186 520Q186 498 172 481T127 463Z\"/><path stroke-width=\"1\" id=\"MJMAIN-32\" d=\"M109 429Q82 429 66 447T50 491Q50 562 103 614T235 666Q326 666 387 610T449 465Q449 422 429 383T381 315T301 241Q265 210 201 149L142 93L218 92Q375 92 385 97Q392 99 409 186V189H449V186Q448 183 436 95T421 3V0H50V19V31Q50 38 56 46T86 81Q115 113 136 137Q145 147 170 174T204 211T233 244T261 278T284 308T305 340T320 369T333 401T340 431T343 464Q343 527 309 573T212 619Q179 619 154 602T119 569T109 550Q109 549 114 549Q132 549 151 535T170 489Q170 464 154 447T109 429Z\"/><path stroke-width=\"1\" id=\"MJMAIN-38\" d=\"M70 417T70 494T124 618T248 666Q319 666 374 624T429 515Q429 485 418 459T392 417T361 389T335 371T324 363L338 354Q352 344 366 334T382 323Q457 264 457 174Q457 95 399 37T249 -22Q159 -22 101 29T43 155Q43 263 172 335L154 348Q133 361 127 368Q70 417 70 494ZM286 386L292 390Q298 394 301 396T311 403T323 413T334 425T345 438T355 454T364 471T369 491T371 513Q371 556 342 586T275 624Q268 625 242 625Q201 625 165 599T128 534Q128 511 141 492T167 463T217 431Q224 426 228 424L286 386ZM250 21Q308 21 350 55T392 137Q392 154 387 169T375 194T353 216T330 234T301 253T274 270Q260 279 244 289T218 306L210 311Q204 311 181 294T133 239T107 157Q107 98 150 60T250 21Z\"/><path stroke-width=\"1\" id=\"MJMAIN-31\" d=\"M213 578L200 573Q186 568 160 563T102 556H83V602H102Q149 604 189 617T245 641T273 663Q275 666 285 666Q294 666 302 660V361L303 61Q310 54 315 52T339 48T401 46H427V0H416Q395 3 257 3Q121 3 100 0H88V46H114Q136 46 152 46T177 47T193 50T201 52T207 57T213 61V578Z\"/><path stroke-width=\"1\" id=\"MJMAIN-36\" d=\"M42 313Q42 476 123 571T303 666Q372 666 402 630T432 550Q432 525 418 510T379 495Q356 495 341 509T326 548Q326 592 373 601Q351 623 311 626Q240 626 194 566Q147 500 147 364L148 360Q153 366 156 373Q197 433 263 433H267Q313 433 348 414Q372 400 396 374T435 317Q456 268 456 210V192Q456 169 451 149Q440 90 387 34T253 -22Q225 -22 199 -14T143 16T92 75T56 172T42 313ZM257 397Q227 397 205 380T171 335T154 278T148 216Q148 133 160 97T198 39Q222 21 251 21Q302 21 329 59Q342 77 347 104T352 209Q352 289 347 316T329 361Q302 397 257 397Z\"/><path stroke-width=\"1\" id=\"MJMAIN-35\" d=\"M164 157Q164 133 148 117T109 101H102Q148 22 224 22Q294 22 326 82Q345 115 345 210Q345 313 318 349Q292 382 260 382H254Q176 382 136 314Q132 307 129 306T114 304Q97 304 95 310Q93 314 93 485V614Q93 664 98 664Q100 666 102 666Q103 666 123 658T178 642T253 634Q324 634 389 662Q397 666 402 666Q410 666 410 648V635Q328 538 205 538Q174 538 149 544L139 546V374Q158 388 169 396T205 412T256 420Q337 420 393 355T449 201Q449 109 385 44T229 -22Q148 -22 99 32T50 154Q50 178 61 192T84 210T107 214Q132 214 148 197T164 157Z\"/><path stroke-width=\"1\" id=\"MJMAIN-34\" d=\"M462 0Q444 3 333 3Q217 3 199 0H190V46H221Q241 46 248 46T265 48T279 53T286 61Q287 63 287 115V165H28V211L179 442Q332 674 334 675Q336 677 355 677H373L379 671V211H471V165H379V114Q379 73 379 66T385 54Q393 47 442 46H471V0H462ZM293 211V545L74 212L183 211H293Z\"/><path stroke-width=\"1\" id=\"MJMAIN-2D\" d=\"M11 179V252H277V179H11Z\"/><path stroke-width=\"1\" id=\"MJMAIN-28\" d=\"M94 250Q94 319 104 381T127 488T164 576T202 643T244 695T277 729T302 750H315H319Q333 750 333 741Q333 738 316 720T275 667T226 581T184 443T167 250T184 58T225 -81T274 -167T316 -220T333 -241Q333 -250 318 -250H315H302L274 -226Q180 -141 137 -14T94 250Z\"/><path stroke-width=\"1\" id=\"MJMAIN-65\" d=\"M28 218Q28 273 48 318T98 391T163 433T229 448Q282 448 320 430T378 380T406 316T415 245Q415 238 408 231H126V216Q126 68 226 36Q246 30 270 30Q312 30 342 62Q359 79 369 104L379 128Q382 131 395 131H398Q415 131 415 121Q415 117 412 108Q393 53 349 21T250 -11Q155 -11 92 58T28 218ZM333 275Q322 403 238 411H236Q228 411 220 410T195 402T166 381T143 340T127 274V267H333V275Z\"/><path stroke-width=\"1\" id=\"MJMAIN-56\" d=\"M114 620Q113 621 110 624T107 627T103 630T98 632T91 634T80 635T67 636T48 637H19V683H28Q46 680 152 680Q273 680 294 683H305V637H284Q223 634 223 620Q223 618 313 372T404 126L490 358Q575 588 575 597Q575 616 554 626T508 637H503V683H512Q527 680 627 680Q718 680 724 683H730V637H723Q648 637 627 596Q627 595 515 291T401 -14Q396 -22 382 -22H374H367Q353 -22 348 -14Q346 -12 231 303Q114 617 114 620Z\"/><path stroke-width=\"1\" id=\"MJMAIN-29\" d=\"M60 749L64 750Q69 750 74 750H86L114 726Q208 641 251 514T294 250Q294 182 284 119T261 12T224 -76T186 -143T145 -194T113 -227T90 -246Q87 -249 86 -250H74Q66 -250 63 -250T58 -247T55 -238Q56 -237 66 -225Q221 -64 221 250T66 725Q56 737 55 738Q55 746 60 749Z\"/><path stroke-width=\"1\" id=\"MJMAIN-58\" d=\"M270 0Q252 3 141 3Q46 3 31 0H23V46H40Q129 50 161 88Q165 94 244 216T324 339Q324 341 235 480T143 622Q133 631 119 634T57 637H37V683H46Q64 680 172 680Q297 680 318 683H329V637H324Q307 637 286 632T263 621Q263 618 322 525T384 431Q385 431 437 511T489 593Q490 595 490 599Q490 611 477 622T436 637H428V683H437Q455 680 566 680Q661 680 676 683H684V637H667Q585 634 551 599Q548 596 478 491Q412 388 412 387Q412 385 514 225T620 62Q628 53 642 50T695 46H726V0H717Q699 3 591 3Q466 3 445 0H434V46H440Q454 46 476 51T499 64Q499 67 463 124T390 238L353 295L350 292Q348 290 343 283T331 265T312 236T286 195Q219 88 218 84Q218 70 234 59T272 46H280V0H270Z\"/><path stroke-width=\"1\" id=\"MJMATHI-55\" d=\"M107 637Q73 637 71 641Q70 643 70 649Q70 673 81 682Q83 683 98 683Q139 681 234 681Q268 681 297 681T342 682T362 682Q378 682 378 672Q378 670 376 658Q371 641 366 638H364Q362 638 359 638T352 638T343 637T334 637Q295 636 284 634T266 623Q265 621 238 518T184 302T154 169Q152 155 152 140Q152 86 183 55T269 24Q336 24 403 69T501 205L552 406Q599 598 599 606Q599 633 535 637Q511 637 511 648Q511 650 513 660Q517 676 519 679T529 683Q532 683 561 682T645 680Q696 680 723 681T752 682Q767 682 767 672Q767 650 759 642Q756 637 737 637Q666 633 648 597Q646 592 598 404Q557 235 548 205Q515 105 433 42T263 -22Q171 -22 116 34T60 167V183Q60 201 115 421Q164 622 164 628Q164 635 107 637Z\"/><path stroke-width=\"1\" id=\"MJMAIN-4C\" d=\"M128 622Q121 629 117 631T101 634T58 637H25V683H36Q48 680 182 680Q324 680 348 683H360V637H333Q273 637 258 635T233 622L232 342V129Q232 57 237 52Q243 47 313 47Q384 47 410 53Q470 70 498 110T536 221Q536 226 537 238T540 261T542 272T562 273H582V268Q580 265 568 137T554 5V0H25V46H58Q100 47 109 49T128 61V622Z\"/></defs><g stroke=\"rgb(42, 63, 95)\" fill=\"rgb(42, 63, 95)\" stroke-width=\"0\" transform=\"matrix(1 0 0 -1 0 0)\"><use xlink:href=\"#MJMAIN-394\" x=\"0\" y=\"0\"/><g transform=\"translate(833,0)\"><use xlink:href=\"#MJMATHI-47\" x=\"0\" y=\"0\"/><g transform=\"translate(786,-155)\"><use transform=\"scale(0.707)\" xlink:href=\"#MJMAIN-4F\"/><use transform=\"scale(0.707)\" xlink:href=\"#MJMAIN-48\" x=\"778\" y=\"0\"/></g></g><g transform=\"translate(2801,0)\"><use xlink:href=\"#MJMAIN-28\" x=\"250\" y=\"0\"/><use xlink:href=\"#MJMAIN-65\" x=\"639\" y=\"0\"/><use xlink:href=\"#MJMAIN-56\" x=\"1084\" y=\"0\"/><use xlink:href=\"#MJMAIN-29\" x=\"1834\" y=\"0\"/></g></g></svg></g></g><g class=\"g-ytitle\"><g class=\"ytitle-math-group\" pointer-events=\"none\" data-unformatted=\"$ U_{\\text{L}} \\text{ (V)}$\" data-math=\"Y\" transform=\"rotate(-90,31.546875,235) translate(-29.7763671875,-17.951536178588867)\"><svg xmlns:xlink=\"http://www.w3.org/1999/xlink\" width=\"6.98ex\" height=\"38.125\" viewBox=\"0 -785.7 3005.3 1067.6\" role=\"img\" focusable=\"false\" aria-hidden=\"true\" style=\"vertical-align: -0.655ex; overflow: visible; pointer-events: none;\" class=\"ytitle-math\" preserveAspectRatio=\"xMinYMin meet\" x=\"31.546875\" y=\"235\"><defs id=\"MathJax_SVG_glyphs\"><path stroke-width=\"1\" id=\"MJMAIN-394\" d=\"M51 0Q46 4 46 7Q46 9 215 357T388 709Q391 716 416 716Q439 716 444 709Q447 705 616 357T786 7Q786 4 781 0H51ZM507 344L384 596L137 92L383 91H630Q630 93 507 344Z\"/><path stroke-width=\"1\" id=\"MJMATHI-47\" d=\"M50 252Q50 367 117 473T286 641T490 704Q580 704 633 653Q642 643 648 636T656 626L657 623Q660 623 684 649Q691 655 699 663T715 679T725 690L740 705H746Q760 705 760 698Q760 694 728 561Q692 422 692 421Q690 416 687 415T669 413H653Q647 419 647 422Q647 423 648 429T650 449T651 481Q651 552 619 605T510 659Q492 659 471 656T418 643T357 615T294 567T236 496T189 394T158 260Q156 242 156 221Q156 173 170 136T206 79T256 45T308 28T353 24Q407 24 452 47T514 106Q517 114 529 161T541 214Q541 222 528 224T468 227H431Q425 233 425 235T427 254Q431 267 437 273H454Q494 271 594 271Q634 271 659 271T695 272T707 272Q721 272 721 263Q721 261 719 249Q714 230 709 228Q706 227 694 227Q674 227 653 224Q646 221 643 215T629 164Q620 131 614 108Q589 6 586 3Q584 1 581 1Q571 1 553 21T530 52Q530 53 528 52T522 47Q448 -22 322 -22Q201 -22 126 55T50 252Z\"/><path stroke-width=\"1\" id=\"MJMAIN-4F\" d=\"M56 340Q56 423 86 494T164 610T270 680T388 705Q521 705 621 601T722 341Q722 260 693 191T617 75T510 4T388 -22T267 3T160 74T85 189T56 340ZM467 647Q426 665 388 665Q360 665 331 654T269 620T213 549T179 439Q174 411 174 354Q174 144 277 61Q327 20 385 20H389H391Q474 20 537 99Q603 188 603 354Q603 411 598 439Q577 592 467 647Z\"/><path stroke-width=\"1\" id=\"MJMAIN-48\" d=\"M128 622Q121 629 117 631T101 634T58 637H25V683H36Q57 680 180 680Q315 680 324 683H335V637H302Q262 636 251 634T233 622L232 500V378H517V622Q510 629 506 631T490 634T447 637H414V683H425Q446 680 569 680Q704 680 713 683H724V637H691Q651 636 640 634T622 622V61Q628 51 639 49T691 46H724V0H713Q692 3 569 3Q434 3 425 0H414V46H447Q489 47 498 49T517 61V332H232V197L233 61Q239 51 250 49T302 46H335V0H324Q303 3 180 3Q45 3 36 0H25V46H58Q100 47 109 49T128 61V622Z\"/><path stroke-width=\"1\" id=\"MJMAIN-3D\" d=\"M56 347Q56 360 70 367H707Q722 359 722 347Q722 336 708 328L390 327H72Q56 332 56 347ZM56 153Q56 168 72 173H708Q722 163 722 153Q722 140 707 133H70Q56 140 56 153Z\"/><path stroke-width=\"1\" id=\"MJMAIN-30\" d=\"M96 585Q152 666 249 666Q297 666 345 640T423 548Q460 465 460 320Q460 165 417 83Q397 41 362 16T301 -15T250 -22Q224 -22 198 -16T137 16T82 83Q39 165 39 320Q39 494 96 585ZM321 597Q291 629 250 629Q208 629 178 597Q153 571 145 525T137 333Q137 175 145 125T181 46Q209 16 250 16Q290 16 318 46Q347 76 354 130T362 333Q362 478 354 524T321 597Z\"/><path stroke-width=\"1\" id=\"MJMAIN-2E\" d=\"M78 60Q78 84 95 102T138 120Q162 120 180 104T199 61Q199 36 182 18T139 0T96 17T78 60Z\"/><path stroke-width=\"1\" id=\"MJMAIN-37\" d=\"M55 458Q56 460 72 567L88 674Q88 676 108 676H128V672Q128 662 143 655T195 646T364 644H485V605L417 512Q408 500 387 472T360 435T339 403T319 367T305 330T292 284T284 230T278 162T275 80Q275 66 275 52T274 28V19Q270 2 255 -10T221 -22Q210 -22 200 -19T179 0T168 40Q168 198 265 368Q285 400 349 489L395 552H302Q128 552 119 546Q113 543 108 522T98 479L95 458V455H55V458Z\"/><path stroke-width=\"1\" id=\"MJMAIN-39\" d=\"M352 287Q304 211 232 211Q154 211 104 270T44 396Q42 412 42 436V444Q42 537 111 606Q171 666 243 666Q245 666 249 666T257 665H261Q273 665 286 663T323 651T370 619T413 560Q456 472 456 334Q456 194 396 97Q361 41 312 10T208 -22Q147 -22 108 7T68 93T121 149Q143 149 158 135T173 96Q173 78 164 65T148 49T135 44L131 43Q131 41 138 37T164 27T206 22H212Q272 22 313 86Q352 142 352 280V287ZM244 248Q292 248 321 297T351 430Q351 508 343 542Q341 552 337 562T323 588T293 615T246 625Q208 625 181 598Q160 576 154 546T147 441Q147 358 152 329T172 282Q197 248 244 248Z\"/><path stroke-width=\"1\" id=\"MJMAIN-2B\" d=\"M56 237T56 250T70 270H369V420L370 570Q380 583 389 583Q402 583 409 568V270H707Q722 262 722 250T707 230H409V-68Q401 -82 391 -82H389H387Q375 -82 369 -68V230H70Q56 237 56 250Z\"/><path stroke-width=\"1\" id=\"MJMAIN-33\" d=\"M127 463Q100 463 85 480T69 524Q69 579 117 622T233 665Q268 665 277 664Q351 652 390 611T430 522Q430 470 396 421T302 350L299 348Q299 347 308 345T337 336T375 315Q457 262 457 175Q457 96 395 37T238 -22Q158 -22 100 21T42 130Q42 158 60 175T105 193Q133 193 151 175T169 130Q169 119 166 110T159 94T148 82T136 74T126 70T118 67L114 66Q165 21 238 21Q293 21 321 74Q338 107 338 175V195Q338 290 274 322Q259 328 213 329L171 330L168 332Q166 335 166 348Q166 366 174 366Q202 366 232 371Q266 376 294 413T322 525V533Q322 590 287 612Q265 626 240 626Q208 626 181 615T143 592T132 580H135Q138 579 143 578T153 573T165 566T175 555T183 540T186 520Q186 498 172 481T127 463Z\"/><path stroke-width=\"1\" id=\"MJMAIN-32\" d=\"M109 429Q82 429 66 447T50 491Q50 562 103 614T235 666Q326 666 387 610T449 465Q449 422 429 383T381 315T301 241Q265 210 201 149L142 93L218 92Q375 92 385 97Q392 99 409 186V189H449V186Q448 183 436 95T421 3V0H50V19V31Q50 38 56 46T86 81Q115 113 136 137Q145 147 170 174T204 211T233 244T261 278T284 308T305 340T320 369T333 401T340 431T343 464Q343 527 309 573T212 619Q179 619 154 602T119 569T109 550Q109 549 114 549Q132 549 151 535T170 489Q170 464 154 447T109 429Z\"/><path stroke-width=\"1\" id=\"MJMAIN-38\" d=\"M70 417T70 494T124 618T248 666Q319 666 374 624T429 515Q429 485 418 459T392 417T361 389T335 371T324 363L338 354Q352 344 366 334T382 323Q457 264 457 174Q457 95 399 37T249 -22Q159 -22 101 29T43 155Q43 263 172 335L154 348Q133 361 127 368Q70 417 70 494ZM286 386L292 390Q298 394 301 396T311 403T323 413T334 425T345 438T355 454T364 471T369 491T371 513Q371 556 342 586T275 624Q268 625 242 625Q201 625 165 599T128 534Q128 511 141 492T167 463T217 431Q224 426 228 424L286 386ZM250 21Q308 21 350 55T392 137Q392 154 387 169T375 194T353 216T330 234T301 253T274 270Q260 279 244 289T218 306L210 311Q204 311 181 294T133 239T107 157Q107 98 150 60T250 21Z\"/><path stroke-width=\"1\" id=\"MJMAIN-31\" d=\"M213 578L200 573Q186 568 160 563T102 556H83V602H102Q149 604 189 617T245 641T273 663Q275 666 285 666Q294 666 302 660V361L303 61Q310 54 315 52T339 48T401 46H427V0H416Q395 3 257 3Q121 3 100 0H88V46H114Q136 46 152 46T177 47T193 50T201 52T207 57T213 61V578Z\"/><path stroke-width=\"1\" id=\"MJMAIN-36\" d=\"M42 313Q42 476 123 571T303 666Q372 666 402 630T432 550Q432 525 418 510T379 495Q356 495 341 509T326 548Q326 592 373 601Q351 623 311 626Q240 626 194 566Q147 500 147 364L148 360Q153 366 156 373Q197 433 263 433H267Q313 433 348 414Q372 400 396 374T435 317Q456 268 456 210V192Q456 169 451 149Q440 90 387 34T253 -22Q225 -22 199 -14T143 16T92 75T56 172T42 313ZM257 397Q227 397 205 380T171 335T154 278T148 216Q148 133 160 97T198 39Q222 21 251 21Q302 21 329 59Q342 77 347 104T352 209Q352 289 347 316T329 361Q302 397 257 397Z\"/><path stroke-width=\"1\" id=\"MJMAIN-35\" d=\"M164 157Q164 133 148 117T109 101H102Q148 22 224 22Q294 22 326 82Q345 115 345 210Q345 313 318 349Q292 382 260 382H254Q176 382 136 314Q132 307 129 306T114 304Q97 304 95 310Q93 314 93 485V614Q93 664 98 664Q100 666 102 666Q103 666 123 658T178 642T253 634Q324 634 389 662Q397 666 402 666Q410 666 410 648V635Q328 538 205 538Q174 538 149 544L139 546V374Q158 388 169 396T205 412T256 420Q337 420 393 355T449 201Q449 109 385 44T229 -22Q148 -22 99 32T50 154Q50 178 61 192T84 210T107 214Q132 214 148 197T164 157Z\"/><path stroke-width=\"1\" id=\"MJMAIN-34\" d=\"M462 0Q444 3 333 3Q217 3 199 0H190V46H221Q241 46 248 46T265 48T279 53T286 61Q287 63 287 115V165H28V211L179 442Q332 674 334 675Q336 677 355 677H373L379 671V211H471V165H379V114Q379 73 379 66T385 54Q393 47 442 46H471V0H462ZM293 211V545L74 212L183 211H293Z\"/><path stroke-width=\"1\" id=\"MJMAIN-2D\" d=\"M11 179V252H277V179H11Z\"/><path stroke-width=\"1\" id=\"MJMAIN-28\" d=\"M94 250Q94 319 104 381T127 488T164 576T202 643T244 695T277 729T302 750H315H319Q333 750 333 741Q333 738 316 720T275 667T226 581T184 443T167 250T184 58T225 -81T274 -167T316 -220T333 -241Q333 -250 318 -250H315H302L274 -226Q180 -141 137 -14T94 250Z\"/><path stroke-width=\"1\" id=\"MJMAIN-65\" d=\"M28 218Q28 273 48 318T98 391T163 433T229 448Q282 448 320 430T378 380T406 316T415 245Q415 238 408 231H126V216Q126 68 226 36Q246 30 270 30Q312 30 342 62Q359 79 369 104L379 128Q382 131 395 131H398Q415 131 415 121Q415 117 412 108Q393 53 349 21T250 -11Q155 -11 92 58T28 218ZM333 275Q322 403 238 411H236Q228 411 220 410T195 402T166 381T143 340T127 274V267H333V275Z\"/><path stroke-width=\"1\" id=\"MJMAIN-56\" d=\"M114 620Q113 621 110 624T107 627T103 630T98 632T91 634T80 635T67 636T48 637H19V683H28Q46 680 152 680Q273 680 294 683H305V637H284Q223 634 223 620Q223 618 313 372T404 126L490 358Q575 588 575 597Q575 616 554 626T508 637H503V683H512Q527 680 627 680Q718 680 724 683H730V637H723Q648 637 627 596Q627 595 515 291T401 -14Q396 -22 382 -22H374H367Q353 -22 348 -14Q346 -12 231 303Q114 617 114 620Z\"/><path stroke-width=\"1\" id=\"MJMAIN-29\" d=\"M60 749L64 750Q69 750 74 750H86L114 726Q208 641 251 514T294 250Q294 182 284 119T261 12T224 -76T186 -143T145 -194T113 -227T90 -246Q87 -249 86 -250H74Q66 -250 63 -250T58 -247T55 -238Q56 -237 66 -225Q221 -64 221 250T66 725Q56 737 55 738Q55 746 60 749Z\"/><path stroke-width=\"1\" id=\"MJMAIN-58\" d=\"M270 0Q252 3 141 3Q46 3 31 0H23V46H40Q129 50 161 88Q165 94 244 216T324 339Q324 341 235 480T143 622Q133 631 119 634T57 637H37V683H46Q64 680 172 680Q297 680 318 683H329V637H324Q307 637 286 632T263 621Q263 618 322 525T384 431Q385 431 437 511T489 593Q490 595 490 599Q490 611 477 622T436 637H428V683H437Q455 680 566 680Q661 680 676 683H684V637H667Q585 634 551 599Q548 596 478 491Q412 388 412 387Q412 385 514 225T620 62Q628 53 642 50T695 46H726V0H717Q699 3 591 3Q466 3 445 0H434V46H440Q454 46 476 51T499 64Q499 67 463 124T390 238L353 295L350 292Q348 290 343 283T331 265T312 236T286 195Q219 88 218 84Q218 70 234 59T272 46H280V0H270Z\"/><path stroke-width=\"1\" id=\"MJMATHI-55\" d=\"M107 637Q73 637 71 641Q70 643 70 649Q70 673 81 682Q83 683 98 683Q139 681 234 681Q268 681 297 681T342 682T362 682Q378 682 378 672Q378 670 376 658Q371 641 366 638H364Q362 638 359 638T352 638T343 637T334 637Q295 636 284 634T266 623Q265 621 238 518T184 302T154 169Q152 155 152 140Q152 86 183 55T269 24Q336 24 403 69T501 205L552 406Q599 598 599 606Q599 633 535 637Q511 637 511 648Q511 650 513 660Q517 676 519 679T529 683Q532 683 561 682T645 680Q696 680 723 681T752 682Q767 682 767 672Q767 650 759 642Q756 637 737 637Q666 633 648 597Q646 592 598 404Q557 235 548 205Q515 105 433 42T263 -22Q171 -22 116 34T60 167V183Q60 201 115 421Q164 622 164 628Q164 635 107 637Z\"/><path stroke-width=\"1\" id=\"MJMAIN-4C\" d=\"M128 622Q121 629 117 631T101 634T58 637H25V683H36Q48 680 182 680Q324 680 348 683H360V637H333Q273 637 258 635T233 622L232 342V129Q232 57 237 52Q243 47 313 47Q384 47 410 53Q470 70 498 110T536 221Q536 226 537 238T540 261T542 272T562 273H582V268Q580 265 568 137T554 5V0H25V46H58Q100 47 109 49T128 61V622Z\"/></defs><g stroke=\"rgb(42, 63, 95)\" fill=\"rgb(42, 63, 95)\" stroke-width=\"0\" transform=\"matrix(1 0 0 -1 0 0)\"><use xlink:href=\"#MJMATHI-55\" x=\"0\" y=\"0\"/><use transform=\"scale(0.707)\" xlink:href=\"#MJMAIN-4C\" x=\"966\" y=\"-213\"/><g transform=\"translate(1225,0)\"><use xlink:href=\"#MJMAIN-28\" x=\"250\" y=\"0\"/><use xlink:href=\"#MJMAIN-56\" x=\"639\" y=\"0\"/><use xlink:href=\"#MJMAIN-29\" x=\"1390\" y=\"0\"/></g></g></svg></g></g></g></svg>"
      ]
     },
     "metadata": {},
     "output_type": "display_data"
    }
   ],
   "source": [
    "# Activity plot (combined)- based on 2e-\n",
    "\n",
    "# linear regression for 4e- WOR\n",
    "model_DG2 = LinearRegression()\n",
    "X = df_cleaned.DG_OH.values.reshape(-1,1)\n",
    "model_DG2.fit(X, df_cleaned.DG2)\n",
    "\n",
    "x_range = np.linspace(X.min(), X.max(), 100)\n",
    "y1_range = model_DG2.predict(x_range.reshape(-1,1))\n",
    "(coef_DG2, intercept_DG2) = (model_DG2.coef_, model_DG2.intercept_)\n",
    "\n",
    "model_DG3 = LinearRegression()\n",
    "model_DG3.fit(X, df_cleaned.DG3)\n",
    "\n",
    "x_range = np.linspace(X.min(), X.max(), 100)\n",
    "y2_range = model_DG3.predict(x_range.reshape(-1,1))\n",
    "(coef_DG3, intercept_DG3) = (model_DG3.coef_, model_DG3.intercept_)\n",
    "\n",
    "# get volcano peak\n",
    "x_peak = - (intercept_DG2 - intercept_DG3) / (coef_DG2 - coef_DG3)\n",
    "y_peak = model_DG2.predict(x_peak.reshape(-1,1))\n",
    "\n",
    "\n",
    "# revise x,y range for each region\n",
    "x1_range = np.linspace(x_peak[0], X.max(), 100)\n",
    "x2_range = np.linspace(X.min(), x_peak[0], 100)\n",
    "\n",
    "y1_range = model_DG2.predict(x1_range.reshape(-1,1))\n",
    "y2_range = model_DG3.predict(x2_range.reshape(-1,1))\n",
    "\n",
    "\n",
    "\n",
    "# linear regression for 2e- WOR\n",
    "model_DG1_2e = LinearRegression()\n",
    "# X = df_cleaned.DG_OH.values.reshape(-1,1)\n",
    "model_DG1_2e.fit(X, df_cleaned.DG1_2e)\n",
    "\n",
    "x3_range = np.linspace(1.76, X.max(), 100)\n",
    "y3_range = model_DG1_2e.predict(x3_range.reshape(-1,1))\n",
    "(coef_DG1_2e, intercept_DG1_2e) = (model_DG1_2e.coef_, model_DG1_2e.intercept_)\n",
    "\n",
    "\n",
    "model_DG2_2e = LinearRegression()\n",
    "model_DG2_2e.fit(X, df_cleaned.DG2_2e)\n",
    "\n",
    "x4_range = np.linspace(X.min(), 1.76, 100)\n",
    "y4_range = model_DG2_2e.predict(x4_range.reshape(-1,1))\n",
    "(coef_DG2_2e, intercept_DG2_2e) = (model_DG2_2e.coef_, model_DG2_2e.intercept_)\n",
    "print(coef_DG1_2e, intercept_DG1_2e, coef_DG2_2e, intercept_DG2_2e)\n",
    "\n",
    "\n",
    "# get plot\n",
    "layout = go.Layout(height = 600, width = 600, # title = 'activity plot',\n",
    "                   titlefont = dict(size = 25),\n",
    "                   showlegend = True,\n",
    "              #     plot_bgcolor = 'yellow'\n",
    "              #     hovermode = 'closest'\n",
    "                   )\n",
    "\n",
    "trace_2e = go.Scatter(x = df_cleaned['DG_OH'], y = df_cleaned['UL_2e'], name = '2e-', text= df_cleaned['formula'],\n",
    "                   textposition = 'top left',\n",
    "                    mode = 'markers', marker = dict(size = 15, symbol = 0))\n",
    "\"\"\"\n",
    "trace_4e = go.Scatter(x = df_cleaned['DG_OH'], y = df_cleaned['UL_4e'], name = '4e-', text= df_cleaned['formula'],\n",
    "                   textposition = 'top left',\n",
    "                    mode = 'markers', marker = dict(size = 15, symbol = 0))\n",
    "\"\"\"\n",
    "\n",
    "trace1 = go.Scatter(x=x1_range, y= y1_range, name = r'$\\Delta G_{\\text{2}} \\text{ (4e-)}$',\n",
    "                    mode = 'lines', marker=dict(color = 'green'))\n",
    "\n",
    "trace2 = go.Scatter(x=x2_range, y= y2_range, name = r'$\\Delta G_{\\text{3}} \\text{ (4e-)}$',\n",
    "                    mode = 'lines', marker=dict(color = 'red'))\n",
    "\n",
    "trace3 = go.Scatter(x=x3_range, y= y3_range, name = r'$\\Delta G_{\\text{1}} \\text{ (2e-)}$',\n",
    "                    mode = 'lines', marker=dict(color = 'blue'))\n",
    "\n",
    "trace4 = go.Scatter(x=x4_range, y= y4_range, name = r'$\\Delta G_{\\text{2}} \\text{ (2e-)}$',\n",
    "                    mode = 'lines', marker=dict(color = 'black'))\n",
    "\n",
    "data = [trace_2e, trace1, trace2, trace3, trace4] # trace_4e\n",
    "\n",
    "fig = go.Figure(data = data, layout = layout)\n",
    "fig.update_xaxes(title_text = r'$\\Delta G_{\\text{OH}} \\text{ (eV)}$', \n",
    "                                       titlefont = dict(size = 30),\n",
    "                 tickfont = dict(size=18),\n",
    "                   zeroline = False,\n",
    "                   gridwidth = 1)\n",
    "fig.update_yaxes(title_text =  r'$ U_{\\text{L}} \\text{ (V)}$', titlefont = dict(size = 30),\n",
    "                 tickfont = dict(size=18),\n",
    "                   zeroline = False,\n",
    "                   gridwidth = 1)\n",
    "\n",
    "# plot(fig, filename = 'plots/activity_plot_combined_v2.html', include_mathjax='cdn')\n",
    "fig.show('svg')\n",
    "\n",
    "# py.iplot(fig)"
   ]
  },
  {
   "cell_type": "markdown",
   "metadata": {},
   "source": [
    "<div>\n",
    "    <a href=\"https://plotly.com/~gwanyeong/32/?share_key=yUfm3DpaBAGYQKx7g7YseM\" target=\"_blank\" title=\"activity_plot\" style=\"display: block; text-align: center;\"><img src=\"https://plotly.com/~gwanyeong/32.png?share_key=yUfm3DpaBAGYQKx7g7YseM\" alt=\"activity_plot\" style=\"max-width: 100%;width: 600px;\"  width=\"600\" onerror=\"this.onerror=null;this.src='https://plotly.com/404.png';\" /></a>\n",
    "    <script data-plotly=\"gwanyeong:32\" sharekey-plotly=\"yUfm3DpaBAGYQKx7g7YseM\" src=\"https://plotly.com/embed.js\" async></script>\n",
    "</div>\n"
   ]
  }
 ],
 "metadata": {
  "kernelspec": {
   "display_name": "Python 3",
   "language": "python",
   "name": "python3"
  },
  "language_info": {
   "codemirror_mode": {
    "name": "ipython",
    "version": 3
   },
   "file_extension": ".py",
   "mimetype": "text/x-python",
   "name": "python",
   "nbconvert_exporter": "python",
   "pygments_lexer": "ipython3",
   "version": "3.7.9"
  }
 },
 "nbformat": 4,
 "nbformat_minor": 4
}
